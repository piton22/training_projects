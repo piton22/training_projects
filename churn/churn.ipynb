{
 "cells": [
  {
   "cell_type": "markdown",
   "metadata": {},
   "source": [
    "# Отток клиентов"
   ]
  },
  {
   "cell_type": "markdown",
   "metadata": {},
   "source": [
    "Из банка постепенно уходят клиенты. По данным маркетологов, удержание нынешних клиентов выгоднее, чем привлечение новых. Компания хочет распознавать пользователей, которые скоро уйдут.\n",
    "\n",
    "Источник данных: [https://www.kaggle.com/barelydedicated/bank-customer-churn-modeling](https://www.kaggle.com/barelydedicated/bank-customer-churn-modeling)"
   ]
  },
  {
   "cell_type": "markdown",
   "metadata": {},
   "source": [
    "## Подготовка данных"
   ]
  },
  {
   "cell_type": "code",
   "execution_count": 1,
   "metadata": {},
   "outputs": [],
   "source": [
    "#импортируем нужные библиотеки, отключаем предупреждения\n",
    "\n",
    "import pandas as pd\n",
    "from sklearn.model_selection import train_test_split\n",
    "from sklearn.preprocessing import StandardScaler\n",
    "from sklearn.linear_model import LogisticRegression\n",
    "from sklearn.ensemble import RandomForestClassifier\n",
    "from sklearn.tree import DecisionTreeClassifier\n",
    "from sklearn.metrics import f1_score\n",
    "from sklearn.metrics import roc_auc_score\n",
    "from sklearn.utils import shuffle\n",
    "from sklearn.metrics import roc_curve\n",
    "import matplotlib.pyplot as plt\n",
    "import warnings\n",
    "warnings.filterwarnings('ignore')\n",
    "pd.options.mode.chained_assignment = None"
   ]
  },
  {
   "cell_type": "code",
   "execution_count": 2,
   "metadata": {
    "scrolled": false
   },
   "outputs": [
    {
     "name": "stdout",
     "output_type": "stream",
     "text": [
      "<class 'pandas.core.frame.DataFrame'>\n",
      "RangeIndex: 10000 entries, 0 to 9999\n",
      "Data columns (total 14 columns):\n",
      " #   Column           Non-Null Count  Dtype  \n",
      "---  ------           --------------  -----  \n",
      " 0   RowNumber        10000 non-null  int64  \n",
      " 1   CustomerId       10000 non-null  int64  \n",
      " 2   Surname          10000 non-null  object \n",
      " 3   CreditScore      10000 non-null  int64  \n",
      " 4   Geography        10000 non-null  object \n",
      " 5   Gender           10000 non-null  object \n",
      " 6   Age              10000 non-null  int64  \n",
      " 7   Tenure           9091 non-null   float64\n",
      " 8   Balance          10000 non-null  float64\n",
      " 9   NumOfProducts    10000 non-null  int64  \n",
      " 10  HasCrCard        10000 non-null  int64  \n",
      " 11  IsActiveMember   10000 non-null  int64  \n",
      " 12  EstimatedSalary  10000 non-null  float64\n",
      " 13  Exited           10000 non-null  int64  \n",
      "dtypes: float64(3), int64(8), object(3)\n",
      "memory usage: 1.1+ MB\n"
     ]
    },
    {
     "data": {
      "text/html": [
       "<div>\n",
       "<style scoped>\n",
       "    .dataframe tbody tr th:only-of-type {\n",
       "        vertical-align: middle;\n",
       "    }\n",
       "\n",
       "    .dataframe tbody tr th {\n",
       "        vertical-align: top;\n",
       "    }\n",
       "\n",
       "    .dataframe thead th {\n",
       "        text-align: right;\n",
       "    }\n",
       "</style>\n",
       "<table border=\"1\" class=\"dataframe\">\n",
       "  <thead>\n",
       "    <tr style=\"text-align: right;\">\n",
       "      <th></th>\n",
       "      <th>RowNumber</th>\n",
       "      <th>CustomerId</th>\n",
       "      <th>Surname</th>\n",
       "      <th>CreditScore</th>\n",
       "      <th>Geography</th>\n",
       "      <th>Gender</th>\n",
       "      <th>Age</th>\n",
       "      <th>Tenure</th>\n",
       "      <th>Balance</th>\n",
       "      <th>NumOfProducts</th>\n",
       "      <th>HasCrCard</th>\n",
       "      <th>IsActiveMember</th>\n",
       "      <th>EstimatedSalary</th>\n",
       "      <th>Exited</th>\n",
       "    </tr>\n",
       "  </thead>\n",
       "  <tbody>\n",
       "    <tr>\n",
       "      <th>0</th>\n",
       "      <td>1</td>\n",
       "      <td>15634602</td>\n",
       "      <td>Hargrave</td>\n",
       "      <td>619</td>\n",
       "      <td>France</td>\n",
       "      <td>Female</td>\n",
       "      <td>42</td>\n",
       "      <td>2.0</td>\n",
       "      <td>0.00</td>\n",
       "      <td>1</td>\n",
       "      <td>1</td>\n",
       "      <td>1</td>\n",
       "      <td>101348.88</td>\n",
       "      <td>1</td>\n",
       "    </tr>\n",
       "    <tr>\n",
       "      <th>1</th>\n",
       "      <td>2</td>\n",
       "      <td>15647311</td>\n",
       "      <td>Hill</td>\n",
       "      <td>608</td>\n",
       "      <td>Spain</td>\n",
       "      <td>Female</td>\n",
       "      <td>41</td>\n",
       "      <td>1.0</td>\n",
       "      <td>83807.86</td>\n",
       "      <td>1</td>\n",
       "      <td>0</td>\n",
       "      <td>1</td>\n",
       "      <td>112542.58</td>\n",
       "      <td>0</td>\n",
       "    </tr>\n",
       "    <tr>\n",
       "      <th>2</th>\n",
       "      <td>3</td>\n",
       "      <td>15619304</td>\n",
       "      <td>Onio</td>\n",
       "      <td>502</td>\n",
       "      <td>France</td>\n",
       "      <td>Female</td>\n",
       "      <td>42</td>\n",
       "      <td>8.0</td>\n",
       "      <td>159660.80</td>\n",
       "      <td>3</td>\n",
       "      <td>1</td>\n",
       "      <td>0</td>\n",
       "      <td>113931.57</td>\n",
       "      <td>1</td>\n",
       "    </tr>\n",
       "    <tr>\n",
       "      <th>3</th>\n",
       "      <td>4</td>\n",
       "      <td>15701354</td>\n",
       "      <td>Boni</td>\n",
       "      <td>699</td>\n",
       "      <td>France</td>\n",
       "      <td>Female</td>\n",
       "      <td>39</td>\n",
       "      <td>1.0</td>\n",
       "      <td>0.00</td>\n",
       "      <td>2</td>\n",
       "      <td>0</td>\n",
       "      <td>0</td>\n",
       "      <td>93826.63</td>\n",
       "      <td>0</td>\n",
       "    </tr>\n",
       "    <tr>\n",
       "      <th>4</th>\n",
       "      <td>5</td>\n",
       "      <td>15737888</td>\n",
       "      <td>Mitchell</td>\n",
       "      <td>850</td>\n",
       "      <td>Spain</td>\n",
       "      <td>Female</td>\n",
       "      <td>43</td>\n",
       "      <td>2.0</td>\n",
       "      <td>125510.82</td>\n",
       "      <td>1</td>\n",
       "      <td>1</td>\n",
       "      <td>1</td>\n",
       "      <td>79084.10</td>\n",
       "      <td>0</td>\n",
       "    </tr>\n",
       "    <tr>\n",
       "      <th>...</th>\n",
       "      <td>...</td>\n",
       "      <td>...</td>\n",
       "      <td>...</td>\n",
       "      <td>...</td>\n",
       "      <td>...</td>\n",
       "      <td>...</td>\n",
       "      <td>...</td>\n",
       "      <td>...</td>\n",
       "      <td>...</td>\n",
       "      <td>...</td>\n",
       "      <td>...</td>\n",
       "      <td>...</td>\n",
       "      <td>...</td>\n",
       "      <td>...</td>\n",
       "    </tr>\n",
       "    <tr>\n",
       "      <th>9995</th>\n",
       "      <td>9996</td>\n",
       "      <td>15606229</td>\n",
       "      <td>Obijiaku</td>\n",
       "      <td>771</td>\n",
       "      <td>France</td>\n",
       "      <td>Male</td>\n",
       "      <td>39</td>\n",
       "      <td>5.0</td>\n",
       "      <td>0.00</td>\n",
       "      <td>2</td>\n",
       "      <td>1</td>\n",
       "      <td>0</td>\n",
       "      <td>96270.64</td>\n",
       "      <td>0</td>\n",
       "    </tr>\n",
       "    <tr>\n",
       "      <th>9996</th>\n",
       "      <td>9997</td>\n",
       "      <td>15569892</td>\n",
       "      <td>Johnstone</td>\n",
       "      <td>516</td>\n",
       "      <td>France</td>\n",
       "      <td>Male</td>\n",
       "      <td>35</td>\n",
       "      <td>10.0</td>\n",
       "      <td>57369.61</td>\n",
       "      <td>1</td>\n",
       "      <td>1</td>\n",
       "      <td>1</td>\n",
       "      <td>101699.77</td>\n",
       "      <td>0</td>\n",
       "    </tr>\n",
       "    <tr>\n",
       "      <th>9997</th>\n",
       "      <td>9998</td>\n",
       "      <td>15584532</td>\n",
       "      <td>Liu</td>\n",
       "      <td>709</td>\n",
       "      <td>France</td>\n",
       "      <td>Female</td>\n",
       "      <td>36</td>\n",
       "      <td>7.0</td>\n",
       "      <td>0.00</td>\n",
       "      <td>1</td>\n",
       "      <td>0</td>\n",
       "      <td>1</td>\n",
       "      <td>42085.58</td>\n",
       "      <td>1</td>\n",
       "    </tr>\n",
       "    <tr>\n",
       "      <th>9998</th>\n",
       "      <td>9999</td>\n",
       "      <td>15682355</td>\n",
       "      <td>Sabbatini</td>\n",
       "      <td>772</td>\n",
       "      <td>Germany</td>\n",
       "      <td>Male</td>\n",
       "      <td>42</td>\n",
       "      <td>3.0</td>\n",
       "      <td>75075.31</td>\n",
       "      <td>2</td>\n",
       "      <td>1</td>\n",
       "      <td>0</td>\n",
       "      <td>92888.52</td>\n",
       "      <td>1</td>\n",
       "    </tr>\n",
       "    <tr>\n",
       "      <th>9999</th>\n",
       "      <td>10000</td>\n",
       "      <td>15628319</td>\n",
       "      <td>Walker</td>\n",
       "      <td>792</td>\n",
       "      <td>France</td>\n",
       "      <td>Female</td>\n",
       "      <td>28</td>\n",
       "      <td>NaN</td>\n",
       "      <td>130142.79</td>\n",
       "      <td>1</td>\n",
       "      <td>1</td>\n",
       "      <td>0</td>\n",
       "      <td>38190.78</td>\n",
       "      <td>0</td>\n",
       "    </tr>\n",
       "  </tbody>\n",
       "</table>\n",
       "<p>10000 rows × 14 columns</p>\n",
       "</div>"
      ],
      "text/plain": [
       "      RowNumber  CustomerId    Surname  CreditScore Geography  Gender  Age  \\\n",
       "0             1    15634602   Hargrave          619    France  Female   42   \n",
       "1             2    15647311       Hill          608     Spain  Female   41   \n",
       "2             3    15619304       Onio          502    France  Female   42   \n",
       "3             4    15701354       Boni          699    France  Female   39   \n",
       "4             5    15737888   Mitchell          850     Spain  Female   43   \n",
       "...         ...         ...        ...          ...       ...     ...  ...   \n",
       "9995       9996    15606229   Obijiaku          771    France    Male   39   \n",
       "9996       9997    15569892  Johnstone          516    France    Male   35   \n",
       "9997       9998    15584532        Liu          709    France  Female   36   \n",
       "9998       9999    15682355  Sabbatini          772   Germany    Male   42   \n",
       "9999      10000    15628319     Walker          792    France  Female   28   \n",
       "\n",
       "      Tenure    Balance  NumOfProducts  HasCrCard  IsActiveMember  \\\n",
       "0        2.0       0.00              1          1               1   \n",
       "1        1.0   83807.86              1          0               1   \n",
       "2        8.0  159660.80              3          1               0   \n",
       "3        1.0       0.00              2          0               0   \n",
       "4        2.0  125510.82              1          1               1   \n",
       "...      ...        ...            ...        ...             ...   \n",
       "9995     5.0       0.00              2          1               0   \n",
       "9996    10.0   57369.61              1          1               1   \n",
       "9997     7.0       0.00              1          0               1   \n",
       "9998     3.0   75075.31              2          1               0   \n",
       "9999     NaN  130142.79              1          1               0   \n",
       "\n",
       "      EstimatedSalary  Exited  \n",
       "0           101348.88       1  \n",
       "1           112542.58       0  \n",
       "2           113931.57       1  \n",
       "3            93826.63       0  \n",
       "4            79084.10       0  \n",
       "...               ...     ...  \n",
       "9995         96270.64       0  \n",
       "9996        101699.77       0  \n",
       "9997         42085.58       1  \n",
       "9998         92888.52       1  \n",
       "9999         38190.78       0  \n",
       "\n",
       "[10000 rows x 14 columns]"
      ]
     },
     "metadata": {},
     "output_type": "display_data"
    }
   ],
   "source": [
    "#изучаем данные\n",
    "data = pd.read_csv('/datasets/Churn.csv')\n",
    "data.info()\n",
    "display(data)"
   ]
  },
  {
   "cell_type": "markdown",
   "metadata": {},
   "source": [
    "**Выводы**\n",
    "\n",
    "1) Столбец `Tenure` содержит пропуски, с ними модель не обучить.\n",
    "\n",
    "2) Столбцы `RowNumber`, `CustomerId` и `Surname` не важны для исследования, но компьютер может их использовать при построении модели. Поэтому их нужно удалить.\n",
    "\n",
    "3) Нужно разбить данные на 3 выборки: обучающую, валидационную и тестовую в соотношении 3:1:1.\n",
    "\n",
    "4) В каждой выборке нужно выделить целевой и остальные признаки.\n",
    "\n",
    "5) Столбцы `CreditScore`, `Age`, `Tenure`, `Balance`, `NumOfProducts`, `EstimatedSalary` содержат количественные значения. Для равного учета всех признаков нужно их масштабировать.\n",
    "\n",
    "6) Столбцы `Geography`, `Gender`  состоят из качественных значений, поэтому нужно получить dummy-столбцы на их основе."
   ]
  },
  {
   "cell_type": "code",
   "execution_count": 3,
   "metadata": {
    "scrolled": false
   },
   "outputs": [
    {
     "name": "stdout",
     "output_type": "stream",
     "text": [
      "count    9091.000000\n",
      "mean        4.997690\n",
      "std         2.894723\n",
      "min         0.000000\n",
      "25%         2.000000\n",
      "50%         5.000000\n",
      "75%         7.000000\n",
      "max        10.000000\n",
      "Name: Tenure, dtype: float64\n"
     ]
    },
    {
     "data": {
      "image/png": "[encoded data removed]",
      "text/plain": [
       "<Figure size 432x288 with 1 Axes>"
      ]
     },
     "metadata": {
      "needs_background": "light"
     },
     "output_type": "display_data"
    }
   ],
   "source": [
    "#исследуем значения в столбце и заполняем пропуски\n",
    "\n",
    "data['Tenure'].hist(range=(0,11), bins=11)\n",
    "print(data['Tenure'].describe())\n",
    "data['Tenure'] = data['Tenure'].fillna(data['Tenure'].median())"
   ]
  },
  {
   "cell_type": "markdown",
   "metadata": {},
   "source": [
    "Значения в столбце варьируются от 0 до 10 со средним и медианой 5. По форме распределение симметрично и близко к плато. Чтобы не терять 10% данных, заменим пропуски на медиану."
   ]
  },
  {
   "cell_type": "code",
   "execution_count": 4,
   "metadata": {
    "scrolled": false
   },
   "outputs": [
    {
     "name": "stdout",
     "output_type": "stream",
     "text": [
      "<class 'pandas.core.frame.DataFrame'>\n",
      "RangeIndex: 10000 entries, 0 to 9999\n",
      "Data columns (total 12 columns):\n",
      " #   Column             Non-Null Count  Dtype  \n",
      "---  ------             --------------  -----  \n",
      " 0   CreditScore        10000 non-null  int64  \n",
      " 1   Age                10000 non-null  int64  \n",
      " 2   Tenure             10000 non-null  float64\n",
      " 3   Balance            10000 non-null  float64\n",
      " 4   NumOfProducts      10000 non-null  int64  \n",
      " 5   HasCrCard          10000 non-null  int64  \n",
      " 6   IsActiveMember     10000 non-null  int64  \n",
      " 7   EstimatedSalary    10000 non-null  float64\n",
      " 8   Exited             10000 non-null  int64  \n",
      " 9   Geography_Germany  10000 non-null  uint8  \n",
      " 10  Geography_Spain    10000 non-null  uint8  \n",
      " 11  Gender_Male        10000 non-null  uint8  \n",
      "dtypes: float64(3), int64(6), uint8(3)\n",
      "memory usage: 732.5 KB\n"
     ]
    },
    {
     "data": {
      "text/html": [
       "<div>\n",
       "<style scoped>\n",
       "    .dataframe tbody tr th:only-of-type {\n",
       "        vertical-align: middle;\n",
       "    }\n",
       "\n",
       "    .dataframe tbody tr th {\n",
       "        vertical-align: top;\n",
       "    }\n",
       "\n",
       "    .dataframe thead th {\n",
       "        text-align: right;\n",
       "    }\n",
       "</style>\n",
       "<table border=\"1\" class=\"dataframe\">\n",
       "  <thead>\n",
       "    <tr style=\"text-align: right;\">\n",
       "      <th></th>\n",
       "      <th>CreditScore</th>\n",
       "      <th>Age</th>\n",
       "      <th>Tenure</th>\n",
       "      <th>Balance</th>\n",
       "      <th>NumOfProducts</th>\n",
       "      <th>HasCrCard</th>\n",
       "      <th>IsActiveMember</th>\n",
       "      <th>EstimatedSalary</th>\n",
       "      <th>Exited</th>\n",
       "      <th>Geography_Germany</th>\n",
       "      <th>Geography_Spain</th>\n",
       "      <th>Gender_Male</th>\n",
       "    </tr>\n",
       "  </thead>\n",
       "  <tbody>\n",
       "    <tr>\n",
       "      <th>0</th>\n",
       "      <td>619</td>\n",
       "      <td>42</td>\n",
       "      <td>2.0</td>\n",
       "      <td>0.00</td>\n",
       "      <td>1</td>\n",
       "      <td>1</td>\n",
       "      <td>1</td>\n",
       "      <td>101348.88</td>\n",
       "      <td>1</td>\n",
       "      <td>0</td>\n",
       "      <td>0</td>\n",
       "      <td>0</td>\n",
       "    </tr>\n",
       "    <tr>\n",
       "      <th>1</th>\n",
       "      <td>608</td>\n",
       "      <td>41</td>\n",
       "      <td>1.0</td>\n",
       "      <td>83807.86</td>\n",
       "      <td>1</td>\n",
       "      <td>0</td>\n",
       "      <td>1</td>\n",
       "      <td>112542.58</td>\n",
       "      <td>0</td>\n",
       "      <td>0</td>\n",
       "      <td>1</td>\n",
       "      <td>0</td>\n",
       "    </tr>\n",
       "    <tr>\n",
       "      <th>2</th>\n",
       "      <td>502</td>\n",
       "      <td>42</td>\n",
       "      <td>8.0</td>\n",
       "      <td>159660.80</td>\n",
       "      <td>3</td>\n",
       "      <td>1</td>\n",
       "      <td>0</td>\n",
       "      <td>113931.57</td>\n",
       "      <td>1</td>\n",
       "      <td>0</td>\n",
       "      <td>0</td>\n",
       "      <td>0</td>\n",
       "    </tr>\n",
       "    <tr>\n",
       "      <th>3</th>\n",
       "      <td>699</td>\n",
       "      <td>39</td>\n",
       "      <td>1.0</td>\n",
       "      <td>0.00</td>\n",
       "      <td>2</td>\n",
       "      <td>0</td>\n",
       "      <td>0</td>\n",
       "      <td>93826.63</td>\n",
       "      <td>0</td>\n",
       "      <td>0</td>\n",
       "      <td>0</td>\n",
       "      <td>0</td>\n",
       "    </tr>\n",
       "    <tr>\n",
       "      <th>4</th>\n",
       "      <td>850</td>\n",
       "      <td>43</td>\n",
       "      <td>2.0</td>\n",
       "      <td>125510.82</td>\n",
       "      <td>1</td>\n",
       "      <td>1</td>\n",
       "      <td>1</td>\n",
       "      <td>79084.10</td>\n",
       "      <td>0</td>\n",
       "      <td>0</td>\n",
       "      <td>1</td>\n",
       "      <td>0</td>\n",
       "    </tr>\n",
       "    <tr>\n",
       "      <th>...</th>\n",
       "      <td>...</td>\n",
       "      <td>...</td>\n",
       "      <td>...</td>\n",
       "      <td>...</td>\n",
       "      <td>...</td>\n",
       "      <td>...</td>\n",
       "      <td>...</td>\n",
       "      <td>...</td>\n",
       "      <td>...</td>\n",
       "      <td>...</td>\n",
       "      <td>...</td>\n",
       "      <td>...</td>\n",
       "    </tr>\n",
       "    <tr>\n",
       "      <th>9995</th>\n",
       "      <td>771</td>\n",
       "      <td>39</td>\n",
       "      <td>5.0</td>\n",
       "      <td>0.00</td>\n",
       "      <td>2</td>\n",
       "      <td>1</td>\n",
       "      <td>0</td>\n",
       "      <td>96270.64</td>\n",
       "      <td>0</td>\n",
       "      <td>0</td>\n",
       "      <td>0</td>\n",
       "      <td>1</td>\n",
       "    </tr>\n",
       "    <tr>\n",
       "      <th>9996</th>\n",
       "      <td>516</td>\n",
       "      <td>35</td>\n",
       "      <td>10.0</td>\n",
       "      <td>57369.61</td>\n",
       "      <td>1</td>\n",
       "      <td>1</td>\n",
       "      <td>1</td>\n",
       "      <td>101699.77</td>\n",
       "      <td>0</td>\n",
       "      <td>0</td>\n",
       "      <td>0</td>\n",
       "      <td>1</td>\n",
       "    </tr>\n",
       "    <tr>\n",
       "      <th>9997</th>\n",
       "      <td>709</td>\n",
       "      <td>36</td>\n",
       "      <td>7.0</td>\n",
       "      <td>0.00</td>\n",
       "      <td>1</td>\n",
       "      <td>0</td>\n",
       "      <td>1</td>\n",
       "      <td>42085.58</td>\n",
       "      <td>1</td>\n",
       "      <td>0</td>\n",
       "      <td>0</td>\n",
       "      <td>0</td>\n",
       "    </tr>\n",
       "    <tr>\n",
       "      <th>9998</th>\n",
       "      <td>772</td>\n",
       "      <td>42</td>\n",
       "      <td>3.0</td>\n",
       "      <td>75075.31</td>\n",
       "      <td>2</td>\n",
       "      <td>1</td>\n",
       "      <td>0</td>\n",
       "      <td>92888.52</td>\n",
       "      <td>1</td>\n",
       "      <td>1</td>\n",
       "      <td>0</td>\n",
       "      <td>1</td>\n",
       "    </tr>\n",
       "    <tr>\n",
       "      <th>9999</th>\n",
       "      <td>792</td>\n",
       "      <td>28</td>\n",
       "      <td>5.0</td>\n",
       "      <td>130142.79</td>\n",
       "      <td>1</td>\n",
       "      <td>1</td>\n",
       "      <td>0</td>\n",
       "      <td>38190.78</td>\n",
       "      <td>0</td>\n",
       "      <td>0</td>\n",
       "      <td>0</td>\n",
       "      <td>0</td>\n",
       "    </tr>\n",
       "  </tbody>\n",
       "</table>\n",
       "<p>10000 rows × 12 columns</p>\n",
       "</div>"
      ],
      "text/plain": [
       "      CreditScore  Age  Tenure    Balance  NumOfProducts  HasCrCard  \\\n",
       "0             619   42     2.0       0.00              1          1   \n",
       "1             608   41     1.0   83807.86              1          0   \n",
       "2             502   42     8.0  159660.80              3          1   \n",
       "3             699   39     1.0       0.00              2          0   \n",
       "4             850   43     2.0  125510.82              1          1   \n",
       "...           ...  ...     ...        ...            ...        ...   \n",
       "9995          771   39     5.0       0.00              2          1   \n",
       "9996          516   35    10.0   57369.61              1          1   \n",
       "9997          709   36     7.0       0.00              1          0   \n",
       "9998          772   42     3.0   75075.31              2          1   \n",
       "9999          792   28     5.0  130142.79              1          1   \n",
       "\n",
       "      IsActiveMember  EstimatedSalary  Exited  Geography_Germany  \\\n",
       "0                  1        101348.88       1                  0   \n",
       "1                  1        112542.58       0                  0   \n",
       "2                  0        113931.57       1                  0   \n",
       "3                  0         93826.63       0                  0   \n",
       "4                  1         79084.10       0                  0   \n",
       "...              ...              ...     ...                ...   \n",
       "9995               0         96270.64       0                  0   \n",
       "9996               1        101699.77       0                  0   \n",
       "9997               1         42085.58       1                  0   \n",
       "9998               0         92888.52       1                  1   \n",
       "9999               0         38190.78       0                  0   \n",
       "\n",
       "      Geography_Spain  Gender_Male  \n",
       "0                   0            0  \n",
       "1                   1            0  \n",
       "2                   0            0  \n",
       "3                   0            0  \n",
       "4                   1            0  \n",
       "...               ...          ...  \n",
       "9995                0            1  \n",
       "9996                0            1  \n",
       "9997                0            0  \n",
       "9998                0            1  \n",
       "9999                0            0  \n",
       "\n",
       "[10000 rows x 12 columns]"
      ]
     },
     "metadata": {},
     "output_type": "display_data"
    }
   ],
   "source": [
    "#удаляем ненужные столбцы, получаем dummy-столбцы\n",
    "data = data.drop(['RowNumber', 'CustomerId','Surname'], axis=1)\n",
    "data_ohe = pd.get_dummies(data, drop_first=True)\n",
    "data_ohe.info()\n",
    "display(data_ohe)"
   ]
  },
  {
   "cell_type": "code",
   "execution_count": 5,
   "metadata": {
    "scrolled": true
   },
   "outputs": [
    {
     "name": "stdout",
     "output_type": "stream",
     "text": [
      "(6000, 11)\n",
      "(6000,)\n",
      "(2000, 11)\n",
      "(2000,)\n",
      "(2000, 11)\n",
      "(2000,)\n"
     ]
    }
   ],
   "source": [
    "#выделяем целевой признак и остальные, разбиваем данные на выборки\n",
    "features = data_ohe.drop(['Exited'], axis=1)\n",
    "target = data_ohe['Exited']\n",
    "features_train, features_valid_test, target_train, target_valid_test = train_test_split(features, target,\n",
    "                                                                                        test_size=0.4, random_state=12345)\n",
    "features_valid, features_test, target_valid, target_test = train_test_split(features_valid_test, target_valid_test,\n",
    "                                                                                        test_size=0.5, random_state=12345)\n",
    "print(features_train.shape)\n",
    "print(target_train.shape)\n",
    "print(features_valid.shape)\n",
    "print(target_valid.shape)\n",
    "print(features_test.shape)\n",
    "print(target_test.shape)"
   ]
  },
  {
   "cell_type": "code",
   "execution_count": 7,
   "metadata": {
    "scrolled": false
   },
   "outputs": [],
   "source": [
    "#масштабируем количественные признаки\n",
    "numeric = ['CreditScore', 'Age', 'Tenure', 'Balance', 'NumOfProducts', 'EstimatedSalary']\n",
    "scaler = StandardScaler()\n",
    "scaler.fit(features_train[numeric])\n",
    "features_train[numeric] = scaler.transform(features_train[numeric])\n",
    "features_valid[numeric] = scaler.transform(features_valid[numeric])\n",
    "features_test[numeric] = scaler.transform(features_test[numeric])"
   ]
  },
  {
   "cell_type": "markdown",
   "metadata": {},
   "source": [
    "## Исследование задачи"
   ]
  },
  {
   "cell_type": "code",
   "execution_count": 8,
   "metadata": {},
   "outputs": [
    {
     "data": {
      "text/plain": [
       "0    0.7963\n",
       "1    0.2037\n",
       "Name: Exited, dtype: float64"
      ]
     },
     "execution_count": 8,
     "metadata": {},
     "output_type": "execute_result"
    }
   ],
   "source": [
    "#изучаем баланс в целевом признаке\n",
    "data['Exited'].value_counts(normalize=True)"
   ]
  },
  {
   "cell_type": "markdown",
   "metadata": {},
   "source": [
    "Доля покинувших равна примерно 20% от всех клиентов. Данные несбалансированы."
   ]
  },
  {
   "cell_type": "markdown",
   "metadata": {},
   "source": [
    "### Модель решающего дерева"
   ]
  },
  {
   "cell_type": "code",
   "execution_count": 9,
   "metadata": {},
   "outputs": [
    {
     "name": "stdout",
     "output_type": "stream",
     "text": [
      "6\n",
      "0.5696969696969697\n"
     ]
    }
   ],
   "source": [
    "best_f1 = 0\n",
    "best_depth = 0\n",
    "best_model = None\n",
    "for depth in range (1,101,1):\n",
    "    model = DecisionTreeClassifier(max_depth=depth, random_state=12345)\n",
    "    model.fit(features_train, target_train)\n",
    "    prediction_valid = model.predict(features_valid)\n",
    "    f1 = f1_score(target_valid, prediction_valid)\n",
    "    if f1 > best_f1:\n",
    "        best_f1 = f1\n",
    "        best_depth = depth\n",
    "        best_model = model\n",
    "probabilities = best_model.predict_proba(features_valid)\n",
    "probabilities_one_valid = probabilities[:,1]\n",
    "auc_roc = roc_auc_score(target_valid, probabilities_one_valid)\n",
    "print(best_depth)\n",
    "print(best_f1)"
   ]
  },
  {
   "cell_type": "code",
   "execution_count": 10,
   "metadata": {},
   "outputs": [
    {
     "name": "stdout",
     "output_type": "stream",
     "text": [
      " F1 равно 0.5696969696969697 при глубине 6\n",
      "AUC-ROC лучшей модели: 0.8164631712023421\n"
     ]
    },
    {
     "data": {
      "image/png": "[encoded data removed]",
      "text/plain": [
       "<Figure size 432x288 with 1 Axes>"
      ]
     },
     "metadata": {
      "needs_background": "light"
     },
     "output_type": "display_data"
    },
    {
     "name": "stdout",
     "output_type": "stream",
     "text": [
      "CPU times: user 112 ms, sys: 7.94 ms, total: 120 ms\n",
      "Wall time: 125 ms\n"
     ]
    }
   ],
   "source": [
    "\n",
    "%%time\n",
    "\n",
    "#обучаем модель с оптимальными гиперпараметрами\n",
    "\n",
    "model = DecisionTreeClassifier(max_depth=6, random_state=12345)\n",
    "model.fit(features_train, target_train)\n",
    "prediction_valid = model.predict(features_valid)  \n",
    "#исследуем метрики\n",
    "f1 = f1_score(target_valid, prediction_valid)\n",
    "print(f' F1 равно {f1} при глубине {best_depth}')\n",
    "probabilities = model.predict_proba(features_valid)\n",
    "probabilities_one_valid = probabilities[:,1]\n",
    "auc_roc = roc_auc_score(target_valid, probabilities_one_valid)\n",
    "print(f'AUC-ROC лучшей модели: {auc_roc}')\n",
    "\n",
    "frp, trp, thresholds = roc_curve(target_valid,probabilities_one_valid)\n",
    "plt.figure()\n",
    "plt.plot(frp, trp)\n",
    "plt.xlim([0.0, 1.0])\n",
    "plt.ylim([0.0, 1.0])\n",
    "plt.xlabel('False Positive Rate')\n",
    "plt.ylabel('True Positive Rate')\n",
    "plt.title('Roc-кривая')\n",
    "plt.plot([0,1], [0,1], linestyle='--')\n",
    "plt.show()"
   ]
  },
  {
   "cell_type": "markdown",
   "metadata": {},
   "source": [
    "### Модель случайного леса"
   ]
  },
  {
   "cell_type": "code",
   "execution_count": 11,
   "metadata": {},
   "outputs": [
    {
     "name": "stdout",
     "output_type": "stream",
     "text": [
      "Лучшее значение F1 равно 0.5924812030075188 при количестве деревьев 11 и глубине 10\n",
      "AUC-ROC лучшей модели: 0.84822146879669\n"
     ]
    }
   ],
   "source": [
    "best_model = None\n",
    "best_f1 = 0\n",
    "best_est = 0\n",
    "best_depth = 0\n",
    "for depth in range (1,11,1):\n",
    "     for est in range(1,51,1):\n",
    "        model = RandomForestClassifier(n_estimators=est, max_depth=depth, random_state=12345)\n",
    "        model.fit(features_train, target_train)\n",
    "        prediction_valid = model.predict(features_valid)\n",
    "        f1 = f1_score(target_valid, prediction_valid)\n",
    "        if f1 > best_f1:\n",
    "            best_f1 = f1\n",
    "            best_est = est\n",
    "            best_depth = depth\n",
    "            best_model = model\n",
    "print(f'Лучшее значение F1 равно {best_f1} при количестве деревьев {best_est} и глубине {best_depth}')\n",
    "probabilities = best_model.predict_proba(features_valid)\n",
    "probabilities_one_valid = probabilities[:,1]\n",
    "auc_roc = roc_auc_score(target_valid, probabilities_one_valid)\n",
    "print(f'AUC-ROC лучшей модели: {auc_roc}')"
   ]
  },
  {
   "cell_type": "code",
   "execution_count": 12,
   "metadata": {},
   "outputs": [
    {
     "name": "stdout",
     "output_type": "stream",
     "text": [
      "Значение F1 равно 0.5924812030075188\n",
      "AUC-ROC модели: 0.84822146879669\n"
     ]
    },
    {
     "data": {
      "image/png": "[encoded data removed]",
      "text/plain": [
       "<Figure size 432x288 with 1 Axes>"
      ]
     },
     "metadata": {
      "needs_background": "light"
     },
     "output_type": "display_data"
    },
    {
     "name": "stdout",
     "output_type": "stream",
     "text": [
      "CPU times: user 223 ms, sys: 12.1 ms, total: 235 ms\n",
      "Wall time: 242 ms\n"
     ]
    }
   ],
   "source": [
    "%%time\n",
    "\n",
    "#обучаем модель\n",
    "model = RandomForestClassifier(n_estimators=11, max_depth=10, random_state=12345)\n",
    "model.fit(features_train, target_train)\n",
    "prediction_valid = model.predict(features_valid)\n",
    "#исследуем метрики\n",
    "f1 = f1_score(target_valid, prediction_valid)\n",
    "print(f'Значение F1 равно {f1}')\n",
    "probabilities = model.predict_proba(features_valid)\n",
    "probabilities_one_valid = probabilities[:,1]\n",
    "auc_roc = roc_auc_score(target_valid, probabilities_one_valid)\n",
    "print(f'AUC-ROC модели: {auc_roc}')\n",
    " \n",
    "frp, trp, thresholds = roc_curve(target_valid,probabilities_one_valid)\n",
    "plt.figure()\n",
    "plt.plot(frp, trp)\n",
    "plt.xlim([0.0, 1.0])\n",
    "plt.ylim([0.0, 1.0])\n",
    "plt.xlabel('False Positive Rate')\n",
    "plt.ylabel('True Positive Rate')\n",
    "plt.title('Roc-кривая')\n",
    "plt.plot([0,1], [0,1], linestyle='--')\n",
    "plt.show()"
   ]
  },
  {
   "cell_type": "markdown",
   "metadata": {},
   "source": [
    "### Модель логистической регрессии"
   ]
  },
  {
   "cell_type": "code",
   "execution_count": 13,
   "metadata": {
    "scrolled": false
   },
   "outputs": [
    {
     "name": "stdout",
     "output_type": "stream",
     "text": [
      "Значение F1 равно 0.33108108108108103\n",
      "AUC-ROC модели: 0.7588026784580114\n"
     ]
    },
    {
     "data": {
      "image/png": "[encoded data removed]",
      "text/plain": [
       "<Figure size 432x288 with 1 Axes>"
      ]
     },
     "metadata": {
      "needs_background": "light"
     },
     "output_type": "display_data"
    },
    {
     "name": "stdout",
     "output_type": "stream",
     "text": [
      "CPU times: user 340 ms, sys: 181 ms, total: 520 ms\n",
      "Wall time: 536 ms\n"
     ]
    }
   ],
   "source": [
    "%%time\n",
    "\n",
    "#обучаем модель\n",
    "model = LogisticRegression(random_state=12345)\n",
    "model.fit(features_train, target_train)\n",
    "prediction_valid = model.predict(features_valid)\n",
    "#исследуем метрики\n",
    "f1 = f1_score(target_valid, prediction_valid)\n",
    "print(f'Значение F1 равно {f1}')\n",
    "probabilities = model.predict_proba(features_valid)\n",
    "probabilities_one_valid = probabilities[:,1]\n",
    "auc_roc = roc_auc_score(target_valid, probabilities_one_valid)\n",
    "print(f'AUC-ROC модели: {auc_roc}')\n",
    "\n",
    "frp, trp, thresholds = roc_curve(target_valid,probabilities_one_valid)\n",
    "plt.figure()\n",
    "plt.plot(frp, trp)\n",
    "plt.xlim([0.0, 1.0])\n",
    "plt.ylim([0.0, 1.0])\n",
    "plt.xlabel('False Positive Rate')\n",
    "plt.ylabel('True Positive Rate')\n",
    "plt.title('Roc-кривая')\n",
    "plt.plot([0,1], [0,1], linestyle='--')\n",
    "plt.show()"
   ]
  },
  {
   "cell_type": "markdown",
   "metadata": {},
   "source": [
    "### Вывод\n",
    "\n",
    "Результаты моделей на несбалансированных данных:\n",
    "* Лучший результат показала модель случайного леса с 11 деревьями и глубиной 10: F1 = 0.5925, AUC-ROC = 0.8482.\n",
    "* Модель решающего дерева при глубине 6 имела F1 = 0.5696 и AUC-ROC = 0.8165\n",
    "* Логистическая регрессия показала худший результат: F1 = 0.3311, AUC-ROC = 0.7588."
   ]
  },
  {
   "cell_type": "markdown",
   "metadata": {},
   "source": [
    "## Борьба с дисбалансом"
   ]
  },
  {
   "cell_type": "markdown",
   "metadata": {},
   "source": [
    "### Увеличение выборки"
   ]
  },
  {
   "cell_type": "code",
   "execution_count": 14,
   "metadata": {
    "scrolled": true
   },
   "outputs": [],
   "source": [
    "#создаем функцию для увеличения числа положительных ответов\n",
    "def upsample(features,target,repeat):\n",
    "    features_zeros = features[target==0]\n",
    "    features_ones = features[target==1]\n",
    "    target_zeros = target[target==0]\n",
    "    target_ones = target[target==1]\n",
    "    \n",
    "    features_upsampled = pd.concat([features_zeros] + [features_ones]*repeat)\n",
    "    target_upsampled = pd.concat([target_zeros] + [target_ones]*repeat)\n",
    "    \n",
    "    features_upsampled, target_upsampled = shuffle(features_upsampled, target_upsampled, random_state=12345)\n",
    "    return features_upsampled, target_upsampled\n"
   ]
  },
  {
   "cell_type": "code",
   "execution_count": 15,
   "metadata": {
    "scrolled": false
   },
   "outputs": [
    {
     "name": "stdout",
     "output_type": "stream",
     "text": [
      "(4804, 11)\n",
      "(4784, 11)\n",
      "(4804,)\n",
      "(4784,)\n"
     ]
    }
   ],
   "source": [
    "#получаем новые выборки и проверяем их размер\n",
    "features_upsampled, target_upsampled = upsample(features_train, target_train, 4)\n",
    "print(features_upsampled[target==0].shape)\n",
    "print(features_upsampled[target==1].shape)\n",
    "print(target_upsampled[target==0].shape)\n",
    "print(target_upsampled[target==1].shape)"
   ]
  },
  {
   "cell_type": "markdown",
   "metadata": {},
   "source": [
    "#### Модель решающего дерева"
   ]
  },
  {
   "cell_type": "code",
   "execution_count": 16,
   "metadata": {},
   "outputs": [
    {
     "name": "stdout",
     "output_type": "stream",
     "text": [
      "Максимальное значение F1 равно 0.5963791267305644 при глубине 5\n"
     ]
    }
   ],
   "source": [
    "best_f1 = 0\n",
    "best_depth = 0\n",
    "best_model = None\n",
    "for depth in range (1,11,1):\n",
    "    model = DecisionTreeClassifier(max_depth=depth, random_state=12345)\n",
    "    model.fit(features_upsampled, target_upsampled)\n",
    "    prediction_valid = model.predict(features_valid)\n",
    "    f1 = f1_score(target_valid, prediction_valid)\n",
    "    if f1 > best_f1:\n",
    "        best_f1 = f1\n",
    "        best_depth = depth\n",
    "        best_model = model\n",
    "probabilities = best_model.predict_proba(features_valid)\n",
    "probabilities_one_valid = probabilities[:,1]\n",
    "auc_roc = roc_auc_score(target_valid, probabilities_one_valid)\n",
    "print(f'Максимальное значение F1 равно {best_f1} при глубине {best_depth}')"
   ]
  },
  {
   "cell_type": "code",
   "execution_count": 17,
   "metadata": {},
   "outputs": [
    {
     "name": "stdout",
     "output_type": "stream",
     "text": [
      "Лучшее значение F1 равно 0.5963791267305644 при глубине 5\n",
      "AUC-ROC лучшей модели: 0.8310244134068074\n"
     ]
    },
    {
     "data": {
      "image/png": "[encoded data removed]",
      "text/plain": [
       "<Figure size 432x288 with 1 Axes>"
      ]
     },
     "metadata": {
      "needs_background": "light"
     },
     "output_type": "display_data"
    },
    {
     "name": "stdout",
     "output_type": "stream",
     "text": [
      "CPU times: user 101 ms, sys: 20.1 ms, total: 121 ms\n",
      "Wall time: 127 ms\n"
     ]
    }
   ],
   "source": [
    "%%time\n",
    "\n",
    "model = DecisionTreeClassifier(max_depth=5, random_state=12345)\n",
    "model.fit(features_upsampled, target_upsampled)\n",
    "prediction_valid = model.predict(features_valid)  \n",
    "f1 = f1_score(target_valid, prediction_valid)\n",
    "print(f'Лучшее значение F1 равно {f1} при глубине 5')\n",
    "probabilities = model.predict_proba(features_valid)\n",
    "probabilities_one_valid = probabilities[:,1]\n",
    "auc_roc = roc_auc_score(target_valid, probabilities_one_valid)\n",
    "print(f'AUC-ROC лучшей модели: {auc_roc}')\n",
    "\n",
    "frp, trp, thresholds = roc_curve(target_valid,probabilities_one_valid)\n",
    "plt.figure()\n",
    "plt.plot(frp, trp)\n",
    "plt.xlim([0.0, 1.0])\n",
    "plt.ylim([0.0, 1.0])\n",
    "plt.xlabel('False Positive Rate')\n",
    "plt.ylabel('True Positive Rate')\n",
    "plt.title('Roc-кривая')\n",
    "plt.plot([0,1], [0,1], linestyle='--')\n",
    "plt.show()"
   ]
  },
  {
   "cell_type": "markdown",
   "metadata": {},
   "source": [
    "#### Модель случайного леса "
   ]
  },
  {
   "cell_type": "code",
   "execution_count": 18,
   "metadata": {},
   "outputs": [
    {
     "name": "stdout",
     "output_type": "stream",
     "text": [
      "Лучшее значение F1 равно 0.6312433581296492 при количестве деревьев 67 и глубине 9\n",
      "AUC-ROC лучшей модели: 0.8527619329901586\n"
     ]
    }
   ],
   "source": [
    "best_model = None\n",
    "best_f1 = 0\n",
    "best_est = 0\n",
    "for depth in range (1,11,1):\n",
    "     for est in range(1,81,1):\n",
    "        model = RandomForestClassifier(n_estimators=est, max_depth=depth, random_state=12345)\n",
    "        model.fit(features_upsampled, target_upsampled)\n",
    "        prediction_valid = model.predict(features_valid)\n",
    "        f1 = f1_score(target_valid, prediction_valid)\n",
    "        if f1 > best_f1:\n",
    "            best_f1 = f1\n",
    "            best_est = est\n",
    "            best_depth = depth\n",
    "            best_model = model\n",
    "print(f'Лучшее значение F1 равно {best_f1} при количестве деревьев {best_est} и глубине {best_depth}')\n",
    "probabilities = best_model.predict_proba(features_valid)\n",
    "probabilities_one_valid = probabilities[:,1]\n",
    "auc_roc = roc_auc_score(target_valid, probabilities_one_valid)\n",
    "print(f'AUC-ROC лучшей модели: {auc_roc}')"
   ]
  },
  {
   "cell_type": "code",
   "execution_count": 19,
   "metadata": {
    "scrolled": true
   },
   "outputs": [
    {
     "name": "stdout",
     "output_type": "stream",
     "text": [
      " Значение F1 равно 0.6312433581296492 при количестве деревьев 67 и глубине 9\n",
      "AUC-ROC модели: 0.8527619329901586\n"
     ]
    },
    {
     "data": {
      "image/png": "[encoded data removed]",
      "text/plain": [
       "<Figure size 432x288 with 1 Axes>"
      ]
     },
     "metadata": {
      "needs_background": "light"
     },
     "output_type": "display_data"
    },
    {
     "name": "stdout",
     "output_type": "stream",
     "text": [
      "CPU times: user 588 ms, sys: 4 ms, total: 592 ms\n",
      "Wall time: 1.2 s\n"
     ]
    }
   ],
   "source": [
    "%%time\n",
    "\n",
    "model = RandomForestClassifier(n_estimators=67, max_depth=9, random_state=12345)\n",
    "model.fit(features_upsampled, target_upsampled)\n",
    "prediction_valid = model.predict(features_valid)\n",
    "f1 = f1_score(target_valid, prediction_valid)\n",
    "print(f' Значение F1 равно {f1} при количестве деревьев 67 и глубине 9')\n",
    "probabilities = model.predict_proba(features_valid)\n",
    "probabilities_one_valid = probabilities[:,1]\n",
    "auc_roc = roc_auc_score(target_valid, probabilities_one_valid)\n",
    "print(f'AUC-ROC модели: {auc_roc}')\n",
    "\n",
    "frp, trp, thresholds = roc_curve(target_valid,probabilities_one_valid)\n",
    "plt.figure()\n",
    "plt.plot(frp, trp)\n",
    "plt.xlim([0.0, 1.0])\n",
    "plt.ylim([0.0, 1.0])\n",
    "plt.xlabel('False Positive Rate')\n",
    "plt.ylabel('True Positive Rate')\n",
    "plt.title('Roc-кривая')\n",
    "plt.plot([0,1], [0,1], linestyle='--')\n",
    "plt.show()"
   ]
  },
  {
   "cell_type": "markdown",
   "metadata": {},
   "source": [
    "#### Модель логистической регрессии"
   ]
  },
  {
   "cell_type": "code",
   "execution_count": 20,
   "metadata": {},
   "outputs": [
    {
     "name": "stdout",
     "output_type": "stream",
     "text": [
      "Значение F1 равно 0.4888507718696398\n",
      "AUC-ROC модели: 0.7636206364664678\n"
     ]
    },
    {
     "data": {
      "image/png": "[encoded data removed]",
      "text/plain": [
       "<Figure size 432x288 with 1 Axes>"
      ]
     },
     "metadata": {
      "needs_background": "light"
     },
     "output_type": "display_data"
    },
    {
     "name": "stdout",
     "output_type": "stream",
     "text": [
      "CPU times: user 444 ms, sys: 320 ms, total: 764 ms\n",
      "Wall time: 984 ms\n"
     ]
    }
   ],
   "source": [
    "%%time\n",
    "\n",
    "model = LogisticRegression(random_state=12345)\n",
    "model.fit(features_upsampled, target_upsampled)\n",
    "prediction_valid = model.predict(features_valid)\n",
    "f1 = f1_score(target_valid, prediction_valid)\n",
    "print(f'Значение F1 равно {f1}')\n",
    "probabilities = model.predict_proba(features_valid)\n",
    "probabilities_one_valid = probabilities[:,1]\n",
    "auc_roc = roc_auc_score(target_valid, probabilities_one_valid)\n",
    "print(f'AUC-ROC модели: {auc_roc}')\n",
    "\n",
    "frp, trp, thresholds = roc_curve(target_valid,probabilities_one_valid)\n",
    "plt.figure()\n",
    "plt.plot(frp, trp)\n",
    "plt.xlim([0.0, 1.0])\n",
    "plt.ylim([0.0, 1.0])\n",
    "plt.xlabel('False Positive Rate')\n",
    "plt.ylabel('True Positive Rate')\n",
    "plt.title('Roc-кривая')\n",
    "plt.plot([0,1], [0,1], linestyle='--')\n",
    "plt.show()"
   ]
  },
  {
   "cell_type": "markdown",
   "metadata": {},
   "source": [
    "Сбалансировали данные с помощью увеличения выборки. Получили следующие результаты:\n",
    "* Лучший результат у модели случайного леса при 57 деревьях и глубине 11: F1 = 0.6263, AUC-ROC = 0.8479.\n",
    "* Модель решающего дерева показала лучший результат при глубине 5: F1 = 0.5964, AUC-ROC = 0.7837.\n",
    "* Модель логистической регрессии показала худший результат: F1 = 0.4889, AUC-ROC = 0.7636."
   ]
  },
  {
   "cell_type": "markdown",
   "metadata": {},
   "source": [
    "### Взвешивание классов"
   ]
  },
  {
   "cell_type": "markdown",
   "metadata": {},
   "source": [
    "#### Модель решающего дерева"
   ]
  },
  {
   "cell_type": "code",
   "execution_count": 21,
   "metadata": {},
   "outputs": [
    {
     "name": "stdout",
     "output_type": "stream",
     "text": [
      "Максимальное значение F1 равно 0.5963791267305644 при глубине 5\n"
     ]
    }
   ],
   "source": [
    "best_f1 = 0\n",
    "best_depth = 0\n",
    "best_model = None\n",
    "for depth in range (1,11,1):\n",
    "    model = DecisionTreeClassifier(max_depth=depth, random_state=12345, class_weight='balanced')\n",
    "    model.fit(features_train, target_train)\n",
    "    prediction_valid = model.predict(features_valid)\n",
    "    f1 = f1_score(target_valid, prediction_valid)\n",
    "    if f1 > best_f1:\n",
    "        best_f1 = f1\n",
    "        best_depth = depth\n",
    "        best_model = model\n",
    "probabilities = best_model.predict_proba(features_valid)\n",
    "probabilities_one_valid = probabilities[:,1]\n",
    "auc_roc = roc_auc_score(target_valid, probabilities_one_valid)\n",
    "print(f'Максимальное значение F1 равно {best_f1} при глубине {best_depth}')"
   ]
  },
  {
   "cell_type": "code",
   "execution_count": 22,
   "metadata": {},
   "outputs": [
    {
     "name": "stdout",
     "output_type": "stream",
     "text": [
      "F1 равно 0.5963791267305644 при глубине 5\n",
      "AUC-ROC модели: 0.8310244134068074\n"
     ]
    },
    {
     "data": {
      "image/png": "[encoded data removed]",
      "text/plain": [
       "<Figure size 432x288 with 1 Axes>"
      ]
     },
     "metadata": {
      "needs_background": "light"
     },
     "output_type": "display_data"
    },
    {
     "name": "stdout",
     "output_type": "stream",
     "text": [
      "CPU times: user 118 ms, sys: 7.99 ms, total: 126 ms\n",
      "Wall time: 274 ms\n"
     ]
    }
   ],
   "source": [
    "%%time\n",
    "\n",
    "model = DecisionTreeClassifier(max_depth=5, random_state=12345, class_weight='balanced')\n",
    "model.fit(features_train, target_train)\n",
    "prediction_valid = model.predict(features_valid)  \n",
    "f1 = f1_score(target_valid, prediction_valid)\n",
    "print(f'F1 равно {f1} при глубине 5')\n",
    "probabilities = model.predict_proba(features_valid)\n",
    "probabilities_one_valid = probabilities[:,1]\n",
    "auc_roc = roc_auc_score(target_valid, probabilities_one_valid)\n",
    "print(f'AUC-ROC модели: {auc_roc}')\n",
    "\n",
    "frp, trp, thresholds = roc_curve(target_valid,probabilities_one_valid)\n",
    "plt.figure()\n",
    "plt.plot(frp, trp)\n",
    "plt.xlim([0.0, 1.0])\n",
    "plt.ylim([0.0, 1.0])\n",
    "plt.xlabel('False Positive Rate')\n",
    "plt.ylabel('True Positive Rate')\n",
    "plt.title('Roc-кривая')\n",
    "plt.plot([0,1], [0,1], linestyle='--')\n",
    "plt.show()"
   ]
  },
  {
   "cell_type": "markdown",
   "metadata": {},
   "source": [
    "#### Модель случайного леса"
   ]
  },
  {
   "cell_type": "code",
   "execution_count": 23,
   "metadata": {},
   "outputs": [
    {
     "name": "stdout",
     "output_type": "stream",
     "text": [
      "Лучшее значение F1 равно 0.6292906178489703 при количестве деревьев 60 и глубине 9\n",
      "AUC-ROC лучшей модели: 0.8539278606814704\n"
     ]
    }
   ],
   "source": [
    "best_model = None\n",
    "best_f1 = 0\n",
    "best_est = 0\n",
    "for depth in range (1,11,1):\n",
    "     for est in range(1,81,1):\n",
    "        model = RandomForestClassifier(n_estimators=est, max_depth=depth, random_state=12345, class_weight='balanced')\n",
    "        model.fit(features_train, target_train)\n",
    "        prediction_valid = model.predict(features_valid)\n",
    "        f1 = f1_score(target_valid, prediction_valid)\n",
    "        if f1 > best_f1:\n",
    "            best_f1 = f1\n",
    "            best_est = est\n",
    "            best_depth = depth\n",
    "            best_model = model\n",
    "print(f'Лучшее значение F1 равно {best_f1} при количестве деревьев {best_est} и глубине {best_depth}')\n",
    "probabilities = best_model.predict_proba(features_valid)\n",
    "probabilities_one_valid = probabilities[:,1]\n",
    "auc_roc = roc_auc_score(target_valid, probabilities_one_valid)\n",
    "print(f'AUC-ROC лучшей модели: {auc_roc}')"
   ]
  },
  {
   "cell_type": "code",
   "execution_count": 24,
   "metadata": {},
   "outputs": [
    {
     "name": "stdout",
     "output_type": "stream",
     "text": [
      "F1 равно 0.6292906178489703 при 60 деревьях и глубине 9\n",
      "AUC-ROC модели: 0.8539278606814704\n"
     ]
    },
    {
     "data": {
      "image/png": "[encoded data removed]",
      "text/plain": [
       "<Figure size 432x288 with 1 Axes>"
      ]
     },
     "metadata": {
      "needs_background": "light"
     },
     "output_type": "display_data"
    }
   ],
   "source": [
    "model = RandomForestClassifier(n_estimators=60, max_depth=9, random_state=12345, class_weight='balanced')\n",
    "model.fit(features_train, target_train)\n",
    "prediction_valid = model.predict(features_valid)\n",
    "f1 = f1_score(target_valid, prediction_valid)\n",
    "print(f'F1 равно {f1} при 60 деревьях и глубине 9')\n",
    "probabilities = model.predict_proba(features_valid)\n",
    "probabilities_one_valid = probabilities[:,1]\n",
    "auc_roc = roc_auc_score(target_valid, probabilities_one_valid)\n",
    "print(f'AUC-ROC модели: {auc_roc}')\n",
    "\n",
    "frp, trp, thresholds = roc_curve(target_valid,probabilities_one_valid)\n",
    "plt.figure()\n",
    "plt.plot(frp, trp)\n",
    "plt.xlim([0.0, 1.0])\n",
    "plt.ylim([0.0, 1.0])\n",
    "plt.xlabel('False Positive Rate')\n",
    "plt.ylabel('True Positive Rate')\n",
    "plt.title('Roc-кривая')\n",
    "plt.plot([0,1], [0,1], linestyle='--')\n",
    "plt.show()"
   ]
  },
  {
   "cell_type": "markdown",
   "metadata": {},
   "source": [
    "#### Модель логистической регрессии"
   ]
  },
  {
   "cell_type": "code",
   "execution_count": 25,
   "metadata": {},
   "outputs": [
    {
     "name": "stdout",
     "output_type": "stream",
     "text": [
      "Значение F1 равно 0.4888507718696398\n",
      "AUC-ROC модели: 0.7636811255814515\n"
     ]
    },
    {
     "data": {
      "image/png": "[encoded data removed]",
      "text/plain": [
       "<Figure size 432x288 with 1 Axes>"
      ]
     },
     "metadata": {
      "needs_background": "light"
     },
     "output_type": "display_data"
    },
    {
     "name": "stdout",
     "output_type": "stream",
     "text": [
      "CPU times: user 259 ms, sys: 164 ms, total: 424 ms\n",
      "Wall time: 428 ms\n"
     ]
    }
   ],
   "source": [
    "%%time\n",
    "\n",
    "model = LogisticRegression(random_state=12345, class_weight='balanced')\n",
    "model.fit(features_train, target_train)\n",
    "prediction_valid = model.predict(features_valid)\n",
    "f1 = f1_score(target_valid, prediction_valid)\n",
    "print(f'Значение F1 равно {f1}')\n",
    "probabilities = model.predict_proba(features_valid)\n",
    "probabilities_one_valid = probabilities[:,1]\n",
    "auc_roc = roc_auc_score(target_valid, probabilities_one_valid)\n",
    "print(f'AUC-ROC модели: {auc_roc}')\n",
    "\n",
    "frp, trp, thresholds = roc_curve(target_valid,probabilities_one_valid)\n",
    "plt.figure()\n",
    "plt.plot(frp, trp)\n",
    "plt.xlim([0.0, 1.0])\n",
    "plt.ylim([0.0, 1.0])\n",
    "plt.xlabel('False Positive Rate')\n",
    "plt.ylabel('True Positive Rate')\n",
    "plt.title('Roc-кривая')\n",
    "plt.plot([0,1], [0,1], linestyle='--')\n",
    "plt.show()"
   ]
  },
  {
   "cell_type": "markdown",
   "metadata": {},
   "source": [
    "Сбалансировали данные с помощью взвешивания классов. Получили следующие результаты:\n",
    "* Модель случайного леса с 60 деревьями и глубиной 9 показала лучшие результаты: F1 = 0.6293, AUC-ROC = 0.8539.\n",
    "* Модель решающего дерева при глубине 5 показала F1 = 0.5964, AUC-ROC = 0.8310.\n",
    "* Модель логистической регрессии показала худший результат: F1 = 0.4889, AUC-ROC = 0.7637."
   ]
  },
  {
   "cell_type": "markdown",
   "metadata": {},
   "source": [
    "### Уменьшение выборки"
   ]
  },
  {
   "cell_type": "code",
   "execution_count": 26,
   "metadata": {},
   "outputs": [
    {
     "name": "stdout",
     "output_type": "stream",
     "text": [
      "(1201, 11)\n",
      "(1196, 11)\n",
      "(1201,)\n",
      "(1196,)\n"
     ]
    }
   ],
   "source": [
    "#создаем функцию для уменьшения выборки\n",
    "def downsample(features, target, fraction):\n",
    "    features_zeros = features[target == 0]\n",
    "    features_ones = features[target == 1]\n",
    "    target_zeros = target[target == 0]\n",
    "    target_ones = target[target == 1]\n",
    "    features_downsampled = pd.concat([features_zeros.sample(frac=fraction, random_state=12345)] + [features_ones])\n",
    "    target_downsampled = pd.concat([target_zeros.sample(frac=fraction, random_state=12345)] + [target_ones])\n",
    "    features_downsampled, target_downsampled = shuffle(features_downsampled, target_downsampled, random_state=12345)\n",
    "    return features_downsampled, target_downsampled\n",
    "\n",
    "#получаем новые выборки и проверяем их размер\n",
    "features_downsampled, target_downsampled = downsample(features_train, target_train, 0.25)\n",
    "print(features_downsampled[target==0].shape)\n",
    "print(features_downsampled[target==1].shape)\n",
    "print(target_downsampled[target==0].shape)\n",
    "print(target_downsampled[target==1].shape)\n"
   ]
  },
  {
   "cell_type": "markdown",
   "metadata": {},
   "source": [
    "#### Модель решающего дерева"
   ]
  },
  {
   "cell_type": "code",
   "execution_count": 27,
   "metadata": {},
   "outputs": [
    {
     "name": "stdout",
     "output_type": "stream",
     "text": [
      "Максимальное значение F1 равно 0.5943204868154158 при глубине 5\n"
     ]
    }
   ],
   "source": [
    "best_f1 = 0\n",
    "best_depth = 0\n",
    "best_model = None\n",
    "for depth in range (1,11,1):\n",
    "    model = DecisionTreeClassifier(max_depth=depth, random_state=12345)\n",
    "    model.fit(features_downsampled, target_downsampled)\n",
    "    prediction_valid = model.predict(features_valid)\n",
    "    f1 = f1_score(target_valid, prediction_valid)\n",
    "    if f1 > best_f1:\n",
    "        best_f1 = f1\n",
    "        best_depth = depth\n",
    "        best_model = model\n",
    "probabilities = best_model.predict_proba(features_valid)\n",
    "probabilities_one_valid = probabilities[:,1]\n",
    "auc_roc = roc_auc_score(target_valid, probabilities_one_valid)\n",
    "print(f'Максимальное значение F1 равно {best_f1} при глубине {best_depth}')"
   ]
  },
  {
   "cell_type": "code",
   "execution_count": 28,
   "metadata": {},
   "outputs": [
    {
     "name": "stdout",
     "output_type": "stream",
     "text": [
      "F1 равно 0.5943204868154158 при глубине 5\n",
      "AUC-ROC лучшей модели: 0.8241029464247908\n"
     ]
    },
    {
     "data": {
      "image/png": "[encoded data removed]",
      "text/plain": [
       "<Figure size 432x288 with 1 Axes>"
      ]
     },
     "metadata": {
      "needs_background": "light"
     },
     "output_type": "display_data"
    },
    {
     "name": "stdout",
     "output_type": "stream",
     "text": [
      "CPU times: user 101 ms, sys: 12 ms, total: 113 ms\n",
      "Wall time: 119 ms\n"
     ]
    }
   ],
   "source": [
    "%%time\n",
    "\n",
    "model = DecisionTreeClassifier(max_depth=5, random_state=12345)\n",
    "model.fit(features_downsampled, target_downsampled)\n",
    "prediction_valid = model.predict(features_valid)  \n",
    "f1 = f1_score(target_valid, prediction_valid)\n",
    "print(f'F1 равно {f1} при глубине 5')\n",
    "probabilities = model.predict_proba(features_valid)\n",
    "probabilities_one_valid = probabilities[:,1]\n",
    "auc_roc = roc_auc_score(target_valid, probabilities_one_valid)\n",
    "print(f'AUC-ROC лучшей модели: {auc_roc}')\n",
    "\n",
    "frp, trp, thresholds = roc_curve(target_valid,probabilities_one_valid)\n",
    "plt.figure()\n",
    "plt.plot(frp, trp)\n",
    "plt.xlim([0.0, 1.0])\n",
    "plt.ylim([0.0, 1.0])\n",
    "plt.xlabel('False Positive Rate')\n",
    "plt.ylabel('True Positive Rate')\n",
    "plt.title('Roc-кривая')\n",
    "plt.plot([0,1], [0,1], linestyle='--')\n",
    "plt.show()"
   ]
  },
  {
   "cell_type": "markdown",
   "metadata": {},
   "source": [
    "#### Модель случайного леса"
   ]
  },
  {
   "cell_type": "code",
   "execution_count": 29,
   "metadata": {},
   "outputs": [
    {
     "name": "stdout",
     "output_type": "stream",
     "text": [
      "Лучшее значение F1 равно 0.6092184368737475 при количестве деревьев 10 и глубине 4\n",
      "AUC-ROC лучшей модели: 0.8354975834598564\n"
     ]
    }
   ],
   "source": [
    "best_model = None\n",
    "best_f1 = 0\n",
    "best_est = 0\n",
    "for depth in range (1,11,1):\n",
    "     for est in range(1,81,1):\n",
    "        model = RandomForestClassifier(n_estimators=est, max_depth=depth, random_state=12345)\n",
    "        model.fit(features_downsampled, target_downsampled)\n",
    "        prediction_valid = model.predict(features_valid)\n",
    "        f1 = f1_score(target_valid, prediction_valid)\n",
    "        if f1 > best_f1:\n",
    "            best_f1 = f1\n",
    "            best_est = est\n",
    "            best_depth = depth\n",
    "            best_model = model\n",
    "print(f'Лучшее значение F1 равно {best_f1} при количестве деревьев {best_est} и глубине {best_depth}')\n",
    "probabilities = best_model.predict_proba(features_valid)\n",
    "probabilities_one_valid = probabilities[:,1]\n",
    "auc_roc = roc_auc_score(target_valid, probabilities_one_valid)\n",
    "print(f'AUC-ROC лучшей модели: {auc_roc}')"
   ]
  },
  {
   "cell_type": "code",
   "execution_count": 30,
   "metadata": {},
   "outputs": [
    {
     "name": "stdout",
     "output_type": "stream",
     "text": [
      " Значение F1 равно 0.6092184368737475 при количестве деревьев 10 и глубине 4\n",
      "AUC-ROC модели: 0.8354975834598564\n"
     ]
    },
    {
     "data": {
      "image/png": "[encoded data removed]",
      "text/plain": [
       "<Figure size 432x288 with 1 Axes>"
      ]
     },
     "metadata": {
      "needs_background": "light"
     },
     "output_type": "display_data"
    },
    {
     "name": "stdout",
     "output_type": "stream",
     "text": [
      "CPU times: user 134 ms, sys: 8.02 ms, total: 142 ms\n",
      "Wall time: 148 ms\n"
     ]
    }
   ],
   "source": [
    "%%time\n",
    "\n",
    "model = RandomForestClassifier(n_estimators=10, max_depth=4, random_state=12345)\n",
    "model.fit(features_downsampled, target_downsampled)\n",
    "prediction_valid = model.predict(features_valid)\n",
    "f1 = f1_score(target_valid, prediction_valid)\n",
    "print(f' Значение F1 равно {f1} при количестве деревьев 10 и глубине 4')\n",
    "probabilities = model.predict_proba(features_valid)\n",
    "probabilities_one_valid = probabilities[:,1]\n",
    "auc_roc = roc_auc_score(target_valid, probabilities_one_valid)\n",
    "print(f'AUC-ROC модели: {auc_roc}')\n",
    "\n",
    "frp, trp, thresholds = roc_curve(target_valid,probabilities_one_valid)\n",
    "plt.figure()\n",
    "plt.plot(frp, trp)\n",
    "plt.xlim([0.0, 1.0])\n",
    "plt.ylim([0.0, 1.0])\n",
    "plt.xlabel('False Positive Rate')\n",
    "plt.ylabel('True Positive Rate')\n",
    "plt.title('Roc-кривая')\n",
    "plt.plot([0,1], [0,1], linestyle='--')\n",
    "plt.show()"
   ]
  },
  {
   "cell_type": "markdown",
   "metadata": {},
   "source": [
    "#### Модель логистической регрессии"
   ]
  },
  {
   "cell_type": "code",
   "execution_count": 31,
   "metadata": {
    "scrolled": false
   },
   "outputs": [
    {
     "name": "stdout",
     "output_type": "stream",
     "text": [
      "Значение F1 равно 0.48406546080964685\n",
      "AUC-ROC модели: 0.7622203134545938\n"
     ]
    },
    {
     "data": {
      "image/png": "[encoded data removed]",
      "text/plain": [
       "<Figure size 432x288 with 1 Axes>"
      ]
     },
     "metadata": {
      "needs_background": "light"
     },
     "output_type": "display_data"
    },
    {
     "name": "stdout",
     "output_type": "stream",
     "text": [
      "CPU times: user 244 ms, sys: 152 ms, total: 396 ms\n",
      "Wall time: 403 ms\n"
     ]
    }
   ],
   "source": [
    "%%time\n",
    "\n",
    "model = LogisticRegression(random_state=12345)\n",
    "model.fit(features_downsampled, target_downsampled)\n",
    "prediction_valid = model.predict(features_valid)\n",
    "f1 = f1_score(target_valid, prediction_valid)\n",
    "print(f'Значение F1 равно {f1}')\n",
    "probabilities = model.predict_proba(features_valid)\n",
    "probabilities_one_valid = probabilities[:,1]\n",
    "auc_roc = roc_auc_score(target_valid, probabilities_one_valid)\n",
    "print(f'AUC-ROC модели: {auc_roc}')\n",
    "\n",
    "frp, trp, thresholds = roc_curve(target_valid,probabilities_one_valid)\n",
    "plt.figure()\n",
    "plt.plot(frp, trp)\n",
    "plt.xlim([0.0, 1.0])\n",
    "plt.ylim([0.0, 1.0])\n",
    "plt.xlabel('False Positive Rate')\n",
    "plt.ylabel('True Positive Rate')\n",
    "plt.title('Roc-кривая')\n",
    "plt.plot([0,1], [0,1], linestyle='--')\n",
    "plt.show()"
   ]
  },
  {
   "cell_type": "markdown",
   "metadata": {},
   "source": [
    "При балансировке данных с помощью уменьшения выборки получили следующие результаты:\n",
    "* Лучший результат показала модель случайного леса при 10 деревьях и глубине 4: F1 = 0.6092, AUC-ROC = 0.8355.\n",
    "* Модель решающего дерева при глубине 5 показала F1 = 0.5943, AUC-ROC = 0.8241.\n",
    "* Модель логистической регрессии показала худший результат: F1 = 0.4841, AUC-ROC = 0.7622."
   ]
  },
  {
   "cell_type": "markdown",
   "metadata": {},
   "source": [
    "### Вывод"
   ]
  },
  {
   "cell_type": "markdown",
   "metadata": {},
   "source": [
    "Провели балансировку обучающих данных следующими способами: увеличением выборки, взвешиванием классов, уменьшением выборки.\n",
    "На сбалансированных данных подбирали и обучали модели решающего дерева, случайного леса и логистической регрессии.\n",
    "\n",
    "**Лучшие значения метрик F1 и AUC-ROC показала модель случайного леса (67 деревьев, глубина 9) при увеличении выборки: F1 = 0.6312, AUC-ROC = 0.8528**\n"
   ]
  },
  {
   "cell_type": "markdown",
   "metadata": {},
   "source": [
    "## Тестирование модели"
   ]
  },
  {
   "cell_type": "code",
   "execution_count": 32,
   "metadata": {
    "scrolled": true
   },
   "outputs": [
    {
     "name": "stdout",
     "output_type": "stream",
     "text": [
      "Значение F1 равно 0.604989604989605\n",
      "AUC-ROC модели: 0.8532854823549516\n"
     ]
    },
    {
     "data": {
      "image/png": "[encoded data removed]",
      "text/plain": [
       "<Figure size 432x288 with 1 Axes>"
      ]
     },
     "metadata": {
      "needs_background": "light"
     },
     "output_type": "display_data"
    },
    {
     "name": "stdout",
     "output_type": "stream",
     "text": [
      "CPU times: user 570 ms, sys: 4.02 ms, total: 574 ms\n",
      "Wall time: 580 ms\n"
     ]
    }
   ],
   "source": [
    "%%time\n",
    "\n",
    "model = RandomForestClassifier(n_estimators=67, max_depth=9, random_state=12345)\n",
    "model.fit(features_upsampled, target_upsampled)\n",
    "prediction_test = model.predict(features_test)\n",
    "f1 = f1_score(target_test, prediction_test)\n",
    "print(f'Значение F1 равно {f1}')\n",
    "probabilities = model.predict_proba(features_test)\n",
    "probabilities_one_test = probabilities[:,1]\n",
    "auc_roc = roc_auc_score(target_test, probabilities_one_test)\n",
    "print(f'AUC-ROC модели: {auc_roc}')\n",
    "\n",
    "frp, trp, thresholds = roc_curve(target_test, probabilities_one_test)\n",
    "plt.figure()\n",
    "plt.plot(frp, trp)\n",
    "plt.xlim([0.0, 1.0])\n",
    "plt.ylim([0.0, 1.0])\n",
    "plt.xlabel('False Positive Rate')\n",
    "plt.ylabel('True Positive Rate')\n",
    "plt.title('Roc-кривая')\n",
    "plt.plot([0,1], [0,1], linestyle='--')\n",
    "plt.show()"
   ]
  },
  {
   "cell_type": "markdown",
   "metadata": {},
   "source": [
    "По сравнению с валидационной выборкой, значение F1 упало, но незначительно. Значение AUC-ROC слегка выросло. Следовательно, модель не переобучилась и справляется с поставленной задачей."
   ]
  }
 ],
 "metadata": {
  "ExecuteTimeLog": [
   {
    "duration": 68,
    "start_time": "2022-03-17T12:11:14.008Z"
   },
   {
    "duration": 483,
    "start_time": "2022-03-17T12:11:22.377Z"
   },
   {
    "duration": 56,
    "start_time": "2022-03-17T12:11:24.010Z"
   },
   {
    "duration": 3684,
    "start_time": "2022-03-17T12:11:45.448Z"
   },
   {
    "duration": 125,
    "start_time": "2022-03-17T12:14:42.047Z"
   },
   {
    "duration": 166,
    "start_time": "2022-03-17T12:14:49.048Z"
   },
   {
    "duration": 487,
    "start_time": "2022-03-17T12:16:19.374Z"
   },
   {
    "duration": 81,
    "start_time": "2022-03-17T12:16:19.863Z"
   },
   {
    "duration": 11,
    "start_time": "2022-03-17T13:46:19.417Z"
   },
   {
    "duration": 329,
    "start_time": "2022-03-17T14:01:40.750Z"
   },
   {
    "duration": 517,
    "start_time": "2022-03-17T14:01:56.217Z"
   },
   {
    "duration": 630,
    "start_time": "2022-03-17T14:02:14.745Z"
   },
   {
    "duration": 571,
    "start_time": "2022-03-17T14:02:23.817Z"
   },
   {
    "duration": 66,
    "start_time": "2022-03-17T14:03:03.885Z"
   },
   {
    "duration": 19,
    "start_time": "2022-03-17T14:03:11.503Z"
   },
   {
    "duration": 17,
    "start_time": "2022-03-17T14:03:42.905Z"
   },
   {
    "duration": 1880,
    "start_time": "2022-03-17T14:04:20.428Z"
   },
   {
    "duration": 91,
    "start_time": "2022-03-17T14:04:22.311Z"
   },
   {
    "duration": 527,
    "start_time": "2022-03-17T14:04:22.404Z"
   },
   {
    "duration": 123,
    "start_time": "2022-03-17T14:04:22.933Z"
   },
   {
    "duration": 11,
    "start_time": "2022-03-17T14:04:23.059Z"
   },
   {
    "duration": 185,
    "start_time": "2022-03-17T14:05:01.680Z"
   },
   {
    "duration": 1662,
    "start_time": "2022-03-17T14:05:13.681Z"
   },
   {
    "duration": 121,
    "start_time": "2022-03-17T14:05:15.347Z"
   },
   {
    "duration": 579,
    "start_time": "2022-03-17T14:05:15.472Z"
   },
   {
    "duration": 126,
    "start_time": "2022-03-17T14:05:16.054Z"
   },
   {
    "duration": 10,
    "start_time": "2022-03-17T14:05:16.185Z"
   },
   {
    "duration": 123,
    "start_time": "2022-03-17T14:11:27.134Z"
   },
   {
    "duration": 247,
    "start_time": "2022-03-17T14:11:44.462Z"
   },
   {
    "duration": 1556,
    "start_time": "2022-03-17T14:11:57.423Z"
   },
   {
    "duration": 82,
    "start_time": "2022-03-17T14:11:58.981Z"
   },
   {
    "duration": 702,
    "start_time": "2022-03-17T14:11:59.068Z"
   },
   {
    "duration": 397,
    "start_time": "2022-03-17T14:11:59.774Z"
   },
   {
    "duration": 8,
    "start_time": "2022-03-17T14:12:00.174Z"
   },
   {
    "duration": 145,
    "start_time": "2022-03-17T14:13:18.816Z"
   },
   {
    "duration": 1642,
    "start_time": "2022-03-17T14:14:22.999Z"
   },
   {
    "duration": 128,
    "start_time": "2022-03-17T14:14:24.645Z"
   },
   {
    "duration": 678,
    "start_time": "2022-03-17T14:14:24.776Z"
   },
   {
    "duration": 402,
    "start_time": "2022-03-17T14:14:25.468Z"
   },
   {
    "duration": 8,
    "start_time": "2022-03-17T14:14:25.872Z"
   },
   {
    "duration": 41,
    "start_time": "2022-03-17T14:24:56.006Z"
   },
   {
    "duration": 2010,
    "start_time": "2022-03-17T14:27:18.337Z"
   },
   {
    "duration": 85,
    "start_time": "2022-03-17T14:27:20.350Z"
   },
   {
    "duration": 65,
    "start_time": "2022-03-17T14:27:20.439Z"
   },
   {
    "duration": 17,
    "start_time": "2022-03-17T14:27:20.507Z"
   },
   {
    "duration": 59,
    "start_time": "2022-03-17T14:27:20.526Z"
   },
   {
    "duration": 5,
    "start_time": "2022-03-17T14:27:20.587Z"
   },
   {
    "duration": 11,
    "start_time": "2022-03-17T14:27:20.594Z"
   },
   {
    "duration": 9,
    "start_time": "2022-03-17T14:28:12.556Z"
   },
   {
    "duration": 137,
    "start_time": "2022-03-17T14:28:49.417Z"
   },
   {
    "duration": 1578,
    "start_time": "2022-03-17T14:28:59.520Z"
   },
   {
    "duration": 128,
    "start_time": "2022-03-17T14:29:01.100Z"
   },
   {
    "duration": 11,
    "start_time": "2022-03-17T14:29:01.231Z"
   },
   {
    "duration": 93,
    "start_time": "2022-03-17T14:29:01.268Z"
   },
   {
    "duration": 18,
    "start_time": "2022-03-17T14:29:01.367Z"
   },
   {
    "duration": 50,
    "start_time": "2022-03-17T14:29:01.387Z"
   },
   {
    "duration": 19,
    "start_time": "2022-03-17T14:29:01.440Z"
   },
   {
    "duration": 15,
    "start_time": "2022-03-17T14:29:01.462Z"
   },
   {
    "duration": 1848,
    "start_time": "2022-03-17T14:31:49.276Z"
   },
   {
    "duration": 118,
    "start_time": "2022-03-17T14:31:51.128Z"
   },
   {
    "duration": 18,
    "start_time": "2022-03-17T14:31:51.249Z"
   },
   {
    "duration": 57,
    "start_time": "2022-03-17T14:31:51.270Z"
   },
   {
    "duration": 46,
    "start_time": "2022-03-17T14:31:51.329Z"
   },
   {
    "duration": 28,
    "start_time": "2022-03-17T14:31:51.377Z"
   },
   {
    "duration": 69,
    "start_time": "2022-03-17T14:31:51.407Z"
   },
   {
    "duration": 9,
    "start_time": "2022-03-17T14:31:51.478Z"
   },
   {
    "duration": 44,
    "start_time": "2022-03-17T14:32:27.646Z"
   },
   {
    "duration": 2033,
    "start_time": "2022-03-17T14:32:44.225Z"
   },
   {
    "duration": 121,
    "start_time": "2022-03-17T14:32:46.262Z"
   },
   {
    "duration": 12,
    "start_time": "2022-03-17T14:32:46.385Z"
   },
   {
    "duration": 100,
    "start_time": "2022-03-17T14:32:46.400Z"
   },
   {
    "duration": 23,
    "start_time": "2022-03-17T14:32:46.503Z"
   },
   {
    "duration": 66,
    "start_time": "2022-03-17T14:32:46.529Z"
   },
   {
    "duration": 38,
    "start_time": "2022-03-17T14:32:46.598Z"
   },
   {
    "duration": 34,
    "start_time": "2022-03-17T14:32:46.638Z"
   },
   {
    "duration": 1510,
    "start_time": "2022-03-17T14:33:07.281Z"
   },
   {
    "duration": 113,
    "start_time": "2022-03-17T14:33:08.795Z"
   },
   {
    "duration": 11,
    "start_time": "2022-03-17T14:33:08.911Z"
   },
   {
    "duration": 93,
    "start_time": "2022-03-17T14:33:08.926Z"
   },
   {
    "duration": 17,
    "start_time": "2022-03-17T14:33:09.021Z"
   },
   {
    "duration": 45,
    "start_time": "2022-03-17T14:33:09.041Z"
   },
   {
    "duration": 31,
    "start_time": "2022-03-17T14:33:09.089Z"
   },
   {
    "duration": 7,
    "start_time": "2022-03-17T14:33:09.122Z"
   },
   {
    "duration": 69,
    "start_time": "2022-03-17T14:36:43.365Z"
   },
   {
    "duration": 133,
    "start_time": "2022-03-17T15:30:13.604Z"
   },
   {
    "duration": 1528,
    "start_time": "2022-03-17T15:30:22.479Z"
   },
   {
    "duration": 146,
    "start_time": "2022-03-17T15:30:24.010Z"
   },
   {
    "duration": 9,
    "start_time": "2022-03-17T15:30:24.158Z"
   },
   {
    "duration": 54,
    "start_time": "2022-03-17T15:30:24.170Z"
   },
   {
    "duration": 16,
    "start_time": "2022-03-17T15:30:24.226Z"
   },
   {
    "duration": 27,
    "start_time": "2022-03-17T15:30:24.267Z"
   },
   {
    "duration": 39,
    "start_time": "2022-03-17T15:30:24.297Z"
   },
   {
    "duration": 33,
    "start_time": "2022-03-17T15:30:24.338Z"
   },
   {
    "duration": 177,
    "start_time": "2022-03-17T15:30:24.374Z"
   },
   {
    "duration": 876,
    "start_time": "2022-03-17T15:34:32.743Z"
   },
   {
    "duration": 352,
    "start_time": "2022-03-17T15:34:55.844Z"
   },
   {
    "duration": 230,
    "start_time": "2022-03-17T15:35:05.934Z"
   },
   {
    "duration": 211,
    "start_time": "2022-03-17T15:35:15.863Z"
   },
   {
    "duration": 207,
    "start_time": "2022-03-17T15:37:29.580Z"
   },
   {
    "duration": 271,
    "start_time": "2022-03-17T15:37:38.230Z"
   },
   {
    "duration": 1566,
    "start_time": "2022-03-17T15:39:07.254Z"
   },
   {
    "duration": 83,
    "start_time": "2022-03-17T15:39:08.823Z"
   },
   {
    "duration": 635,
    "start_time": "2022-03-17T15:39:08.908Z"
   },
   {
    "duration": 10,
    "start_time": "2022-03-17T15:39:09.546Z"
   },
   {
    "duration": 56,
    "start_time": "2022-03-17T15:39:09.568Z"
   },
   {
    "duration": 47,
    "start_time": "2022-03-17T15:39:09.627Z"
   },
   {
    "duration": 28,
    "start_time": "2022-03-17T15:39:09.676Z"
   },
   {
    "duration": 71,
    "start_time": "2022-03-17T15:39:09.706Z"
   },
   {
    "duration": 8,
    "start_time": "2022-03-17T15:39:09.779Z"
   },
   {
    "duration": 189,
    "start_time": "2022-03-17T15:39:09.790Z"
   },
   {
    "duration": 14,
    "start_time": "2022-03-17T15:43:14.429Z"
   },
   {
    "duration": 1557,
    "start_time": "2022-03-17T15:43:22.056Z"
   },
   {
    "duration": 80,
    "start_time": "2022-03-17T15:43:23.616Z"
   },
   {
    "duration": 547,
    "start_time": "2022-03-17T15:43:23.699Z"
   },
   {
    "duration": 22,
    "start_time": "2022-03-17T15:43:24.249Z"
   },
   {
    "duration": 55,
    "start_time": "2022-03-17T15:43:24.273Z"
   },
   {
    "duration": 41,
    "start_time": "2022-03-17T15:43:24.330Z"
   },
   {
    "duration": 29,
    "start_time": "2022-03-17T15:43:24.373Z"
   },
   {
    "duration": 73,
    "start_time": "2022-03-17T15:43:24.405Z"
   },
   {
    "duration": 8,
    "start_time": "2022-03-17T15:43:24.481Z"
   },
   {
    "duration": 711,
    "start_time": "2022-03-17T15:43:24.493Z"
   },
   {
    "duration": 730,
    "start_time": "2022-03-17T15:51:07.017Z"
   },
   {
    "duration": 673,
    "start_time": "2022-03-17T15:55:19.796Z"
   },
   {
    "duration": 149,
    "start_time": "2022-03-17T15:56:42.196Z"
   },
   {
    "duration": 1478,
    "start_time": "2022-03-17T15:56:53.411Z"
   },
   {
    "duration": 136,
    "start_time": "2022-03-17T15:56:54.892Z"
   },
   {
    "duration": 543,
    "start_time": "2022-03-17T15:56:55.032Z"
   },
   {
    "duration": 11,
    "start_time": "2022-03-17T15:56:55.577Z"
   },
   {
    "duration": 78,
    "start_time": "2022-03-17T15:56:55.591Z"
   },
   {
    "duration": 18,
    "start_time": "2022-03-17T15:56:55.671Z"
   },
   {
    "duration": 26,
    "start_time": "2022-03-17T15:56:55.691Z"
   },
   {
    "duration": 76,
    "start_time": "2022-03-17T15:56:55.719Z"
   },
   {
    "duration": 8,
    "start_time": "2022-03-17T15:56:55.797Z"
   },
   {
    "duration": 702,
    "start_time": "2022-03-17T15:56:55.807Z"
   },
   {
    "duration": 163,
    "start_time": "2022-03-17T15:56:56.511Z"
   },
   {
    "duration": 37,
    "start_time": "2022-03-17T15:57:08.132Z"
   },
   {
    "duration": 268197,
    "start_time": "2022-03-17T15:57:28.078Z"
   },
   {
    "duration": 159,
    "start_time": "2022-03-17T16:02:00.929Z"
   },
   {
    "duration": 1226,
    "start_time": "2022-03-17T16:02:39.861Z"
   },
   {
    "duration": 1091,
    "start_time": "2022-03-17T16:02:52.581Z"
   },
   {
    "duration": 784,
    "start_time": "2022-03-17T16:04:50.245Z"
   },
   {
    "duration": 1399,
    "start_time": "2022-03-17T16:04:53.493Z"
   },
   {
    "duration": 1385,
    "start_time": "2022-03-17T16:09:00.565Z"
   },
   {
    "duration": 3169,
    "start_time": "2022-03-17T16:09:20.775Z"
   },
   {
    "duration": 47342,
    "start_time": "2022-03-17T16:12:00.291Z"
   },
   {
    "duration": 44158,
    "start_time": "2022-03-17T16:16:21.192Z"
   },
   {
    "duration": 1556,
    "start_time": "2022-03-17T16:47:33.326Z"
   },
   {
    "duration": 476,
    "start_time": "2022-03-17T16:48:09.915Z"
   },
   {
    "duration": 1914,
    "start_time": "2022-03-17T16:49:17.902Z"
   },
   {
    "duration": 94,
    "start_time": "2022-03-17T16:49:19.818Z"
   },
   {
    "duration": 611,
    "start_time": "2022-03-17T16:49:19.915Z"
   },
   {
    "duration": 9,
    "start_time": "2022-03-17T16:49:20.529Z"
   },
   {
    "duration": 88,
    "start_time": "2022-03-17T16:49:20.540Z"
   },
   {
    "duration": 17,
    "start_time": "2022-03-17T16:49:20.631Z"
   },
   {
    "duration": 51,
    "start_time": "2022-03-17T16:49:20.650Z"
   },
   {
    "duration": 72,
    "start_time": "2022-03-17T16:49:20.703Z"
   },
   {
    "duration": 9,
    "start_time": "2022-03-17T16:49:20.781Z"
   },
   {
    "duration": 777,
    "start_time": "2022-03-17T16:49:20.794Z"
   },
   {
    "duration": 19544,
    "start_time": "2022-03-17T16:49:21.575Z"
   },
   {
    "duration": 413211,
    "start_time": "2022-03-17T16:49:41.122Z"
   },
   {
    "duration": 249,
    "start_time": "2022-03-17T16:56:34.336Z"
   },
   {
    "duration": 21981,
    "start_time": "2022-03-17T16:57:08.480Z"
   },
   {
    "duration": 6,
    "start_time": "2022-03-17T17:10:55.043Z"
   },
   {
    "duration": 158,
    "start_time": "2022-03-17T17:11:03.353Z"
   },
   {
    "duration": 20,
    "start_time": "2022-03-17T17:12:05.935Z"
   },
   {
    "duration": 16,
    "start_time": "2022-03-17T17:12:59.364Z"
   },
   {
    "duration": 15,
    "start_time": "2022-03-17T17:13:13.823Z"
   },
   {
    "duration": 29,
    "start_time": "2022-03-17T17:13:59.445Z"
   },
   {
    "duration": 31,
    "start_time": "2022-03-17T17:14:25.705Z"
   },
   {
    "duration": 340,
    "start_time": "2022-03-17T17:17:33.805Z"
   },
   {
    "duration": 337,
    "start_time": "2022-03-17T17:17:45.455Z"
   },
   {
    "duration": 25439,
    "start_time": "2022-03-17T17:19:24.935Z"
   },
   {
    "duration": 343515,
    "start_time": "2022-03-17T17:20:29.785Z"
   },
   {
    "duration": 20519,
    "start_time": "2022-03-17T17:30:59.585Z"
   },
   {
    "duration": 39484,
    "start_time": "2022-03-17T17:32:24.565Z"
   },
   {
    "duration": 78553,
    "start_time": "2022-03-17T17:34:35.233Z"
   },
   {
    "duration": 16145,
    "start_time": "2022-03-17T17:36:18.506Z"
   },
   {
    "duration": 1117972,
    "start_time": "2022-03-17T17:36:58.332Z"
   },
   {
    "duration": 756,
    "start_time": "2022-03-17T18:05:47.240Z"
   },
   {
    "duration": 694,
    "start_time": "2022-03-17T18:08:11.194Z"
   },
   {
    "duration": 933,
    "start_time": "2022-03-17T18:09:12.005Z"
   },
   {
    "duration": 828,
    "start_time": "2022-03-17T18:10:31.542Z"
   },
   {
    "duration": 1569,
    "start_time": "2022-03-18T15:05:21.503Z"
   },
   {
    "duration": 138,
    "start_time": "2022-03-18T15:05:23.077Z"
   },
   {
    "duration": 1251,
    "start_time": "2022-03-18T15:05:23.217Z"
   },
   {
    "duration": 24,
    "start_time": "2022-03-18T15:05:24.470Z"
   },
   {
    "duration": 70,
    "start_time": "2022-03-18T15:05:24.498Z"
   },
   {
    "duration": 29,
    "start_time": "2022-03-18T15:05:24.570Z"
   },
   {
    "duration": 35,
    "start_time": "2022-03-18T15:05:24.602Z"
   },
   {
    "duration": 78,
    "start_time": "2022-03-18T15:05:24.640Z"
   },
   {
    "duration": 9,
    "start_time": "2022-03-18T15:05:24.721Z"
   },
   {
    "duration": 23915,
    "start_time": "2022-03-18T15:05:24.733Z"
   },
   {
    "duration": 182648,
    "start_time": "2022-03-18T15:05:48.652Z"
   },
   {
    "duration": 2005,
    "start_time": "2022-03-18T15:09:40.591Z"
   },
   {
    "duration": 87,
    "start_time": "2022-03-18T15:09:42.598Z"
   },
   {
    "duration": 596,
    "start_time": "2022-03-18T15:09:42.688Z"
   },
   {
    "duration": 9,
    "start_time": "2022-03-18T15:09:43.289Z"
   },
   {
    "duration": 109,
    "start_time": "2022-03-18T15:09:43.301Z"
   },
   {
    "duration": 20,
    "start_time": "2022-03-18T15:09:43.413Z"
   },
   {
    "duration": 58,
    "start_time": "2022-03-18T15:09:43.436Z"
   },
   {
    "duration": 41,
    "start_time": "2022-03-18T15:09:43.497Z"
   },
   {
    "duration": 10,
    "start_time": "2022-03-18T15:09:43.541Z"
   },
   {
    "duration": 8,
    "start_time": "2022-03-18T15:09:43.584Z"
   },
   {
    "duration": 15,
    "start_time": "2022-03-18T15:09:43.594Z"
   },
   {
    "duration": 920815,
    "start_time": "2022-03-18T15:09:43.612Z"
   },
   {
    "duration": 456,
    "start_time": "2022-03-18T15:25:04.429Z"
   },
   {
    "duration": 13,
    "start_time": "2022-03-18T15:25:04.888Z"
   },
   {
    "duration": 113,
    "start_time": "2022-03-18T15:25:04.904Z"
   },
   {
    "duration": 6,
    "start_time": "2022-03-18T15:25:05.019Z"
   },
   {
    "duration": 743,
    "start_time": "2022-03-18T15:25:05.028Z"
   },
   {
    "duration": 736,
    "start_time": "2022-03-18T15:25:05.774Z"
   },
   {
    "duration": 1664,
    "start_time": "2022-03-19T13:04:27.446Z"
   },
   {
    "duration": 87,
    "start_time": "2022-03-19T13:04:29.113Z"
   },
   {
    "duration": 909,
    "start_time": "2022-03-19T13:04:29.202Z"
   },
   {
    "duration": 11,
    "start_time": "2022-03-19T13:04:30.116Z"
   },
   {
    "duration": 86,
    "start_time": "2022-03-19T13:04:30.129Z"
   },
   {
    "duration": 17,
    "start_time": "2022-03-19T13:04:30.217Z"
   },
   {
    "duration": 50,
    "start_time": "2022-03-19T13:04:30.236Z"
   },
   {
    "duration": 44,
    "start_time": "2022-03-19T13:04:30.288Z"
   },
   {
    "duration": 9,
    "start_time": "2022-03-19T13:04:30.335Z"
   },
   {
    "duration": 7,
    "start_time": "2022-03-19T13:04:30.377Z"
   },
   {
    "duration": 11,
    "start_time": "2022-03-19T13:04:30.387Z"
   },
   {
    "duration": 762991,
    "start_time": "2022-03-19T13:04:30.401Z"
   },
   {
    "duration": 1196,
    "start_time": "2022-03-19T13:17:13.394Z"
   },
   {
    "duration": 10,
    "start_time": "2022-03-19T13:17:14.673Z"
   },
   {
    "duration": 44,
    "start_time": "2022-03-19T13:17:14.687Z"
   },
   {
    "duration": 6,
    "start_time": "2022-03-19T13:17:14.733Z"
   },
   {
    "duration": 764,
    "start_time": "2022-03-19T13:17:14.741Z"
   },
   {
    "duration": 753,
    "start_time": "2022-03-19T13:17:15.507Z"
   },
   {
    "duration": 5,
    "start_time": "2022-03-19T13:19:26.114Z"
   },
   {
    "duration": 370,
    "start_time": "2022-03-19T13:19:33.428Z"
   },
   {
    "duration": 367,
    "start_time": "2022-03-19T13:20:09.281Z"
   },
   {
    "duration": 941732,
    "start_time": "2022-03-19T13:29:46.028Z"
   },
   {
    "duration": 114,
    "start_time": "2022-03-19T13:48:38.128Z"
   },
   {
    "duration": 121,
    "start_time": "2022-03-19T13:49:27.991Z"
   },
   {
    "duration": 6,
    "start_time": "2022-03-19T13:49:46.232Z"
   },
   {
    "duration": 14372,
    "start_time": "2022-03-19T13:49:55.087Z"
   },
   {
    "duration": 52,
    "start_time": "2022-03-19T13:52:56.268Z"
   },
   {
    "duration": 51,
    "start_time": "2022-03-19T13:53:48.347Z"
   },
   {
    "duration": 555,
    "start_time": "2022-03-19T13:57:47.542Z"
   },
   {
    "duration": 18504,
    "start_time": "2022-03-19T14:10:21.193Z"
   },
   {
    "duration": 17920,
    "start_time": "2022-03-19T14:11:13.865Z"
   },
   {
    "duration": 14185,
    "start_time": "2022-03-19T14:13:03.725Z"
   },
   {
    "duration": 46,
    "start_time": "2022-03-19T14:14:42.616Z"
   },
   {
    "duration": 52,
    "start_time": "2022-03-19T14:15:14.457Z"
   },
   {
    "duration": 1134,
    "start_time": "2022-03-19T14:51:56.842Z"
   },
   {
    "duration": 14501,
    "start_time": "2022-03-19T15:19:40.687Z"
   },
   {
    "duration": 39,
    "start_time": "2022-03-19T15:22:02.407Z"
   },
   {
    "duration": 794787,
    "start_time": "2022-03-19T15:22:48.117Z"
   },
   {
    "duration": 1075,
    "start_time": "2022-03-20T07:43:00.482Z"
   },
   {
    "duration": 55,
    "start_time": "2022-03-20T07:43:01.559Z"
   },
   {
    "duration": 575,
    "start_time": "2022-03-20T07:43:01.615Z"
   },
   {
    "duration": 8,
    "start_time": "2022-03-20T07:43:02.192Z"
   },
   {
    "duration": 51,
    "start_time": "2022-03-20T07:43:02.201Z"
   },
   {
    "duration": 12,
    "start_time": "2022-03-20T07:43:02.254Z"
   },
   {
    "duration": 20,
    "start_time": "2022-03-20T07:43:02.267Z"
   },
   {
    "duration": 26,
    "start_time": "2022-03-20T07:43:02.289Z"
   },
   {
    "duration": 25,
    "start_time": "2022-03-20T07:43:02.316Z"
   },
   {
    "duration": 213,
    "start_time": "2022-03-20T07:43:02.343Z"
   },
   {
    "duration": 286,
    "start_time": "2022-03-20T07:43:02.558Z"
   },
   {
    "duration": 298,
    "start_time": "2022-03-20T07:43:02.845Z"
   },
   {
    "duration": 96,
    "start_time": "2022-03-20T07:43:03.145Z"
   },
   {
    "duration": 110,
    "start_time": "2022-03-20T07:43:03.243Z"
   },
   {
    "duration": 113,
    "start_time": "2022-03-20T07:43:03.355Z"
   },
   {
    "duration": 414,
    "start_time": "2022-03-20T07:43:03.470Z"
   },
   {
    "duration": 454,
    "start_time": "2022-03-20T07:43:03.886Z"
   },
   {
    "duration": 203,
    "start_time": "2022-03-20T07:43:04.342Z"
   },
   {
    "duration": 30836,
    "start_time": "2022-03-20T07:43:04.546Z"
   },
   {
    "duration": 0,
    "start_time": "2022-03-20T07:43:35.384Z"
   },
   {
    "duration": 395,
    "start_time": "2022-03-20T07:45:17.066Z"
   },
   {
    "duration": 232,
    "start_time": "2022-03-20T07:48:34.906Z"
   },
   {
    "duration": 25,
    "start_time": "2022-03-20T07:49:54.276Z"
   },
   {
    "duration": 110,
    "start_time": "2022-03-20T08:10:11.198Z"
   },
   {
    "duration": 12,
    "start_time": "2022-03-20T08:10:40.528Z"
   },
   {
    "duration": 12,
    "start_time": "2022-03-20T08:15:29.143Z"
   },
   {
    "duration": 16,
    "start_time": "2022-03-20T08:16:11.200Z"
   },
   {
    "duration": 4035,
    "start_time": "2022-03-20T08:16:28.464Z"
   },
   {
    "duration": 20,
    "start_time": "2022-03-20T08:17:32.675Z"
   },
   {
    "duration": 258352,
    "start_time": "2022-03-20T08:19:44.334Z"
   },
   {
    "duration": 164,
    "start_time": "2022-03-20T08:26:06.446Z"
   },
   {
    "duration": 160,
    "start_time": "2022-03-20T08:29:00.683Z"
   },
   {
    "duration": 139,
    "start_time": "2022-03-20T09:16:34.351Z"
   },
   {
    "duration": 1410,
    "start_time": "2022-03-20T09:16:41.437Z"
   },
   {
    "duration": 56,
    "start_time": "2022-03-20T09:16:42.849Z"
   },
   {
    "duration": 141,
    "start_time": "2022-03-20T09:16:42.907Z"
   },
   {
    "duration": 6,
    "start_time": "2022-03-20T09:16:43.050Z"
   },
   {
    "duration": 40,
    "start_time": "2022-03-20T09:16:43.057Z"
   },
   {
    "duration": 11,
    "start_time": "2022-03-20T09:16:43.098Z"
   },
   {
    "duration": 37,
    "start_time": "2022-03-20T09:16:43.111Z"
   },
   {
    "duration": 26,
    "start_time": "2022-03-20T09:16:43.150Z"
   },
   {
    "duration": 5,
    "start_time": "2022-03-20T09:16:43.178Z"
   },
   {
    "duration": 216,
    "start_time": "2022-03-20T09:16:43.185Z"
   },
   {
    "duration": 295,
    "start_time": "2022-03-20T09:16:43.403Z"
   },
   {
    "duration": 144,
    "start_time": "2022-03-20T09:16:43.700Z"
   },
   {
    "duration": 93,
    "start_time": "2022-03-20T09:16:43.846Z"
   },
   {
    "duration": 110,
    "start_time": "2022-03-20T09:16:43.942Z"
   },
   {
    "duration": 112,
    "start_time": "2022-03-20T09:16:44.055Z"
   },
   {
    "duration": 436,
    "start_time": "2022-03-20T09:16:44.168Z"
   },
   {
    "duration": 537,
    "start_time": "2022-03-20T09:16:44.606Z"
   },
   {
    "duration": 115,
    "start_time": "2022-03-20T09:16:45.146Z"
   },
   {
    "duration": 442,
    "start_time": "2022-03-20T09:16:45.263Z"
   },
   {
    "duration": 332,
    "start_time": "2022-03-20T09:16:45.707Z"
   },
   {
    "duration": 110,
    "start_time": "2022-03-20T09:16:46.041Z"
   },
   {
    "duration": 102,
    "start_time": "2022-03-20T09:16:46.153Z"
   },
   {
    "duration": 183,
    "start_time": "2022-03-20T09:16:46.257Z"
   },
   {
    "duration": 202,
    "start_time": "2022-03-20T09:16:46.442Z"
   },
   {
    "duration": 529,
    "start_time": "2022-03-20T09:16:46.737Z"
   },
   {
    "duration": 1560,
    "start_time": "2022-03-20T09:19:04.910Z"
   },
   {
    "duration": 54,
    "start_time": "2022-03-20T09:19:06.472Z"
   },
   {
    "duration": 134,
    "start_time": "2022-03-20T09:19:06.528Z"
   },
   {
    "duration": 7,
    "start_time": "2022-03-20T09:19:06.665Z"
   },
   {
    "duration": 48,
    "start_time": "2022-03-20T09:19:06.674Z"
   },
   {
    "duration": 22,
    "start_time": "2022-03-20T09:19:06.724Z"
   },
   {
    "duration": 17,
    "start_time": "2022-03-20T09:19:06.748Z"
   },
   {
    "duration": 28,
    "start_time": "2022-03-20T09:19:06.767Z"
   },
   {
    "duration": 7,
    "start_time": "2022-03-20T09:19:06.797Z"
   },
   {
    "duration": 162,
    "start_time": "2022-03-20T09:19:06.837Z"
   },
   {
    "duration": 248,
    "start_time": "2022-03-20T09:19:07.001Z"
   },
   {
    "duration": 390,
    "start_time": "2022-03-20T09:19:07.251Z"
   },
   {
    "duration": 96,
    "start_time": "2022-03-20T09:19:07.644Z"
   },
   {
    "duration": 38,
    "start_time": "2022-03-20T09:19:07.742Z"
   },
   {
    "duration": 30,
    "start_time": "2022-03-20T09:19:07.782Z"
   },
   {
    "duration": 433,
    "start_time": "2022-03-20T09:19:07.814Z"
   },
   {
    "duration": 491,
    "start_time": "2022-03-20T09:19:08.249Z"
   },
   {
    "duration": 112,
    "start_time": "2022-03-20T09:19:08.745Z"
   },
   {
    "duration": 414,
    "start_time": "2022-03-20T09:19:08.859Z"
   },
   {
    "duration": 364,
    "start_time": "2022-03-20T09:19:09.275Z"
   },
   {
    "duration": 110,
    "start_time": "2022-03-20T09:19:09.641Z"
   },
   {
    "duration": 37,
    "start_time": "2022-03-20T09:19:09.753Z"
   },
   {
    "duration": 178,
    "start_time": "2022-03-20T09:19:09.792Z"
   },
   {
    "duration": 273,
    "start_time": "2022-03-20T09:19:09.972Z"
   },
   {
    "duration": 621,
    "start_time": "2022-03-20T09:19:10.247Z"
   },
   {
    "duration": 1364,
    "start_time": "2022-03-20T09:20:33.475Z"
   },
   {
    "duration": 57,
    "start_time": "2022-03-20T09:20:34.841Z"
   },
   {
    "duration": 135,
    "start_time": "2022-03-20T09:20:34.899Z"
   },
   {
    "duration": 7,
    "start_time": "2022-03-20T09:20:35.037Z"
   },
   {
    "duration": 39,
    "start_time": "2022-03-20T09:20:35.046Z"
   },
   {
    "duration": 11,
    "start_time": "2022-03-20T09:20:35.087Z"
   },
   {
    "duration": 53,
    "start_time": "2022-03-20T09:20:35.100Z"
   },
   {
    "duration": 26,
    "start_time": "2022-03-20T09:20:35.154Z"
   },
   {
    "duration": 5,
    "start_time": "2022-03-20T09:20:35.182Z"
   },
   {
    "duration": 180,
    "start_time": "2022-03-20T09:20:35.190Z"
   },
   {
    "duration": 356,
    "start_time": "2022-03-20T09:20:35.371Z"
   },
   {
    "duration": 628,
    "start_time": "2022-03-20T09:20:35.729Z"
   },
   {
    "duration": 4,
    "start_time": "2022-03-20T09:20:36.359Z"
   },
   {
    "duration": 21,
    "start_time": "2022-03-20T09:20:36.364Z"
   },
   {
    "duration": 172,
    "start_time": "2022-03-20T09:20:36.386Z"
   },
   {
    "duration": 568,
    "start_time": "2022-03-20T09:20:36.560Z"
   },
   {
    "duration": 692,
    "start_time": "2022-03-20T09:20:37.137Z"
   },
   {
    "duration": 143,
    "start_time": "2022-03-20T09:20:37.831Z"
   },
   {
    "duration": 540,
    "start_time": "2022-03-20T09:20:37.975Z"
   },
   {
    "duration": 635,
    "start_time": "2022-03-20T09:20:38.517Z"
   },
   {
    "duration": 17,
    "start_time": "2022-03-20T09:20:39.154Z"
   },
   {
    "duration": 156,
    "start_time": "2022-03-20T09:20:39.173Z"
   },
   {
    "duration": 296,
    "start_time": "2022-03-20T09:20:39.338Z"
   },
   {
    "duration": 444,
    "start_time": "2022-03-20T09:20:39.638Z"
   },
   {
    "duration": 557,
    "start_time": "2022-03-20T09:20:40.084Z"
   },
   {
    "duration": 540,
    "start_time": "2022-03-20T09:25:09.667Z"
   },
   {
    "duration": 544,
    "start_time": "2022-03-20T09:25:29.796Z"
   },
   {
    "duration": 128,
    "start_time": "2022-03-20T09:56:49.712Z"
   },
   {
    "duration": 133,
    "start_time": "2022-03-20T09:56:57.078Z"
   },
   {
    "duration": 233,
    "start_time": "2022-03-20T09:57:01.001Z"
   },
   {
    "duration": 130,
    "start_time": "2022-03-20T09:57:04.791Z"
   },
   {
    "duration": 126,
    "start_time": "2022-03-20T09:57:12.782Z"
   },
   {
    "duration": 132,
    "start_time": "2022-03-20T09:57:15.534Z"
   },
   {
    "duration": 124,
    "start_time": "2022-03-20T09:57:19.092Z"
   },
   {
    "duration": 1377,
    "start_time": "2022-03-20T09:57:44.541Z"
   },
   {
    "duration": 54,
    "start_time": "2022-03-20T09:57:45.920Z"
   },
   {
    "duration": 135,
    "start_time": "2022-03-20T09:57:45.976Z"
   },
   {
    "duration": 40,
    "start_time": "2022-03-20T09:57:46.113Z"
   },
   {
    "duration": 10,
    "start_time": "2022-03-20T09:57:46.155Z"
   },
   {
    "duration": 15,
    "start_time": "2022-03-20T09:57:46.167Z"
   },
   {
    "duration": 26,
    "start_time": "2022-03-20T09:57:46.185Z"
   },
   {
    "duration": 6,
    "start_time": "2022-03-20T09:57:46.238Z"
   },
   {
    "duration": 155,
    "start_time": "2022-03-20T09:57:46.246Z"
   },
   {
    "duration": 349,
    "start_time": "2022-03-20T09:57:46.403Z"
   },
   {
    "duration": 592,
    "start_time": "2022-03-20T09:57:46.754Z"
   },
   {
    "duration": 3,
    "start_time": "2022-03-20T09:57:47.348Z"
   },
   {
    "duration": 17,
    "start_time": "2022-03-20T09:57:47.353Z"
   },
   {
    "duration": 155,
    "start_time": "2022-03-20T09:57:47.372Z"
   },
   {
    "duration": 550,
    "start_time": "2022-03-20T09:57:47.528Z"
   },
   {
    "duration": 733,
    "start_time": "2022-03-20T09:57:48.079Z"
   },
   {
    "duration": 138,
    "start_time": "2022-03-20T09:57:48.814Z"
   },
   {
    "duration": 524,
    "start_time": "2022-03-20T09:57:48.953Z"
   },
   {
    "duration": 506,
    "start_time": "2022-03-20T09:57:49.478Z"
   },
   {
    "duration": 18,
    "start_time": "2022-03-20T09:57:49.986Z"
   },
   {
    "duration": 142,
    "start_time": "2022-03-20T09:57:50.006Z"
   },
   {
    "duration": 301,
    "start_time": "2022-03-20T09:57:50.150Z"
   },
   {
    "duration": 491,
    "start_time": "2022-03-20T09:57:50.453Z"
   },
   {
    "duration": 512,
    "start_time": "2022-03-20T09:57:50.946Z"
   },
   {
    "duration": 131,
    "start_time": "2022-03-20T10:02:17.822Z"
   },
   {
    "duration": 128,
    "start_time": "2022-03-20T10:02:26.634Z"
   },
   {
    "duration": 126,
    "start_time": "2022-03-20T10:02:49.412Z"
   },
   {
    "duration": 1363,
    "start_time": "2022-03-20T10:33:37.960Z"
   },
   {
    "duration": 53,
    "start_time": "2022-03-20T10:33:39.325Z"
   },
   {
    "duration": 141,
    "start_time": "2022-03-20T10:33:39.380Z"
   },
   {
    "duration": 46,
    "start_time": "2022-03-20T10:33:39.524Z"
   },
   {
    "duration": 11,
    "start_time": "2022-03-20T10:33:39.571Z"
   },
   {
    "duration": 16,
    "start_time": "2022-03-20T10:33:39.584Z"
   },
   {
    "duration": 51,
    "start_time": "2022-03-20T10:33:39.602Z"
   },
   {
    "duration": 5,
    "start_time": "2022-03-20T10:33:39.655Z"
   },
   {
    "duration": 7,
    "start_time": "2022-03-20T10:33:39.662Z"
   },
   {
    "duration": 0,
    "start_time": "2022-03-20T10:33:39.671Z"
   },
   {
    "duration": 0,
    "start_time": "2022-03-20T10:33:39.672Z"
   },
   {
    "duration": 0,
    "start_time": "2022-03-20T10:33:39.673Z"
   },
   {
    "duration": 0,
    "start_time": "2022-03-20T10:33:39.674Z"
   },
   {
    "duration": 0,
    "start_time": "2022-03-20T10:33:39.675Z"
   },
   {
    "duration": 0,
    "start_time": "2022-03-20T10:33:39.676Z"
   },
   {
    "duration": 0,
    "start_time": "2022-03-20T10:33:39.677Z"
   },
   {
    "duration": 0,
    "start_time": "2022-03-20T10:33:39.679Z"
   },
   {
    "duration": 0,
    "start_time": "2022-03-20T10:33:39.679Z"
   },
   {
    "duration": 0,
    "start_time": "2022-03-20T10:33:39.680Z"
   },
   {
    "duration": 0,
    "start_time": "2022-03-20T10:33:39.682Z"
   },
   {
    "duration": 0,
    "start_time": "2022-03-20T10:33:39.682Z"
   },
   {
    "duration": 0,
    "start_time": "2022-03-20T10:33:39.684Z"
   },
   {
    "duration": 0,
    "start_time": "2022-03-20T10:33:39.685Z"
   },
   {
    "duration": 0,
    "start_time": "2022-03-20T10:33:39.686Z"
   },
   {
    "duration": 6,
    "start_time": "2022-03-20T10:33:59.660Z"
   },
   {
    "duration": 149,
    "start_time": "2022-03-20T10:34:12.739Z"
   },
   {
    "duration": 1368,
    "start_time": "2022-03-20T10:34:35.003Z"
   },
   {
    "duration": 50,
    "start_time": "2022-03-20T10:34:36.373Z"
   },
   {
    "duration": 134,
    "start_time": "2022-03-20T10:34:36.425Z"
   },
   {
    "duration": 35,
    "start_time": "2022-03-20T10:34:36.561Z"
   },
   {
    "duration": 11,
    "start_time": "2022-03-20T10:34:36.598Z"
   },
   {
    "duration": 41,
    "start_time": "2022-03-20T10:34:36.610Z"
   },
   {
    "duration": 25,
    "start_time": "2022-03-20T10:34:36.653Z"
   },
   {
    "duration": 5,
    "start_time": "2022-03-20T10:34:36.679Z"
   },
   {
    "duration": 162,
    "start_time": "2022-03-20T10:34:36.686Z"
   },
   {
    "duration": 348,
    "start_time": "2022-03-20T10:34:36.851Z"
   },
   {
    "duration": 650,
    "start_time": "2022-03-20T10:34:37.200Z"
   },
   {
    "duration": 4,
    "start_time": "2022-03-20T10:34:37.852Z"
   },
   {
    "duration": 21,
    "start_time": "2022-03-20T10:34:37.857Z"
   },
   {
    "duration": 158,
    "start_time": "2022-03-20T10:34:37.879Z"
   },
   {
    "duration": 547,
    "start_time": "2022-03-20T10:34:38.039Z"
   },
   {
    "duration": 841,
    "start_time": "2022-03-20T10:34:38.588Z"
   },
   {
    "duration": 138,
    "start_time": "2022-03-20T10:34:39.430Z"
   },
   {
    "duration": 513,
    "start_time": "2022-03-20T10:34:39.570Z"
   },
   {
    "duration": 563,
    "start_time": "2022-03-20T10:34:40.085Z"
   },
   {
    "duration": 16,
    "start_time": "2022-03-20T10:34:40.650Z"
   },
   {
    "duration": 139,
    "start_time": "2022-03-20T10:34:40.667Z"
   },
   {
    "duration": 290,
    "start_time": "2022-03-20T10:34:40.807Z"
   },
   {
    "duration": 550,
    "start_time": "2022-03-20T10:34:41.099Z"
   },
   {
    "duration": 509,
    "start_time": "2022-03-20T10:34:41.651Z"
   },
   {
    "duration": 2214,
    "start_time": "2022-03-20T20:14:38.346Z"
   },
   {
    "duration": 83,
    "start_time": "2022-03-20T20:14:40.563Z"
   },
   {
    "duration": 234,
    "start_time": "2022-03-20T20:14:40.648Z"
   },
   {
    "duration": 56,
    "start_time": "2022-03-20T20:14:40.885Z"
   },
   {
    "duration": 38,
    "start_time": "2022-03-20T20:14:40.943Z"
   },
   {
    "duration": 28,
    "start_time": "2022-03-20T20:14:40.983Z"
   },
   {
    "duration": 69,
    "start_time": "2022-03-20T20:14:41.013Z"
   },
   {
    "duration": 8,
    "start_time": "2022-03-20T20:14:41.084Z"
   },
   {
    "duration": 259,
    "start_time": "2022-03-20T20:14:41.094Z"
   },
   {
    "duration": 562,
    "start_time": "2022-03-20T20:14:41.357Z"
   },
   {
    "duration": 828,
    "start_time": "2022-03-20T20:14:41.922Z"
   },
   {
    "duration": 6,
    "start_time": "2022-03-20T20:14:42.752Z"
   },
   {
    "duration": 36,
    "start_time": "2022-03-20T20:14:42.760Z"
   },
   {
    "duration": 255,
    "start_time": "2022-03-20T20:14:42.798Z"
   },
   {
    "duration": 929,
    "start_time": "2022-03-20T20:14:43.055Z"
   },
   {
    "duration": 1068,
    "start_time": "2022-03-20T20:14:43.986Z"
   },
   {
    "duration": 344,
    "start_time": "2022-03-20T20:14:45.057Z"
   },
   {
    "duration": 888,
    "start_time": "2022-03-20T20:14:45.404Z"
   },
   {
    "duration": 670,
    "start_time": "2022-03-20T20:14:46.295Z"
   },
   {
    "duration": 25,
    "start_time": "2022-03-20T20:14:46.973Z"
   },
   {
    "duration": 241,
    "start_time": "2022-03-20T20:14:47.000Z"
   },
   {
    "duration": 485,
    "start_time": "2022-03-20T20:14:47.245Z"
   },
   {
    "duration": 725,
    "start_time": "2022-03-20T20:14:47.733Z"
   },
   {
    "duration": 832,
    "start_time": "2022-03-20T20:14:48.461Z"
   },
   {
    "duration": 9734,
    "start_time": "2022-03-20T20:26:07.825Z"
   },
   {
    "duration": 1781,
    "start_time": "2022-03-21T13:48:01.913Z"
   },
   {
    "duration": 60,
    "start_time": "2022-03-21T13:48:03.697Z"
   },
   {
    "duration": 121,
    "start_time": "2022-03-21T13:48:03.758Z"
   },
   {
    "duration": 39,
    "start_time": "2022-03-21T13:48:03.881Z"
   },
   {
    "duration": 10,
    "start_time": "2022-03-21T13:48:03.921Z"
   },
   {
    "duration": 14,
    "start_time": "2022-03-21T13:48:03.933Z"
   },
   {
    "duration": 25,
    "start_time": "2022-03-21T13:48:03.949Z"
   },
   {
    "duration": 29,
    "start_time": "2022-03-21T13:48:03.975Z"
   },
   {
    "duration": 151,
    "start_time": "2022-03-21T13:48:04.005Z"
   },
   {
    "duration": 365,
    "start_time": "2022-03-21T13:48:04.158Z"
   },
   {
    "duration": 580,
    "start_time": "2022-03-21T13:48:04.524Z"
   },
   {
    "duration": 4,
    "start_time": "2022-03-21T13:48:05.105Z"
   },
   {
    "duration": 20,
    "start_time": "2022-03-21T13:48:05.110Z"
   },
   {
    "duration": 143,
    "start_time": "2022-03-21T13:48:05.131Z"
   },
   {
    "duration": 565,
    "start_time": "2022-03-21T13:48:05.276Z"
   },
   {
    "duration": 624,
    "start_time": "2022-03-21T13:48:05.843Z"
   },
   {
    "duration": 151,
    "start_time": "2022-03-21T13:48:06.469Z"
   },
   {
    "duration": 712,
    "start_time": "2022-03-21T13:48:06.622Z"
   },
   {
    "duration": 468,
    "start_time": "2022-03-21T13:48:07.336Z"
   },
   {
    "duration": 16,
    "start_time": "2022-03-21T13:48:07.806Z"
   },
   {
    "duration": 134,
    "start_time": "2022-03-21T13:48:07.824Z"
   },
   {
    "duration": 300,
    "start_time": "2022-03-21T13:48:07.960Z"
   },
   {
    "duration": 543,
    "start_time": "2022-03-21T13:48:08.262Z"
   },
   {
    "duration": 519,
    "start_time": "2022-03-21T13:48:08.807Z"
   },
   {
    "duration": 6,
    "start_time": "2022-03-21T13:50:43.513Z"
   },
   {
    "duration": 110,
    "start_time": "2022-03-21T13:56:42.422Z"
   },
   {
    "duration": 1596,
    "start_time": "2022-03-21T13:56:53.070Z"
   },
   {
    "duration": 61,
    "start_time": "2022-03-21T13:56:54.668Z"
   },
   {
    "duration": 127,
    "start_time": "2022-03-21T13:56:54.731Z"
   },
   {
    "duration": 44,
    "start_time": "2022-03-21T13:56:54.860Z"
   },
   {
    "duration": 12,
    "start_time": "2022-03-21T13:56:54.906Z"
   },
   {
    "duration": 16,
    "start_time": "2022-03-21T13:56:54.920Z"
   },
   {
    "duration": 24,
    "start_time": "2022-03-21T13:56:54.937Z"
   },
   {
    "duration": 7,
    "start_time": "2022-03-21T13:56:54.963Z"
   },
   {
    "duration": 143,
    "start_time": "2022-03-21T13:56:55.002Z"
   },
   {
    "duration": 333,
    "start_time": "2022-03-21T13:56:55.148Z"
   },
   {
    "duration": 505,
    "start_time": "2022-03-21T13:56:55.483Z"
   },
   {
    "duration": 12,
    "start_time": "2022-03-21T13:56:55.990Z"
   },
   {
    "duration": 17,
    "start_time": "2022-03-21T13:56:56.004Z"
   },
   {
    "duration": 153,
    "start_time": "2022-03-21T13:56:56.023Z"
   },
   {
    "duration": 540,
    "start_time": "2022-03-21T13:56:56.178Z"
   },
   {
    "duration": 760,
    "start_time": "2022-03-21T13:56:56.719Z"
   },
   {
    "duration": 133,
    "start_time": "2022-03-21T13:56:57.481Z"
   },
   {
    "duration": 510,
    "start_time": "2022-03-21T13:56:57.615Z"
   },
   {
    "duration": 563,
    "start_time": "2022-03-21T13:56:58.126Z"
   },
   {
    "duration": 16,
    "start_time": "2022-03-21T13:56:58.701Z"
   },
   {
    "duration": 131,
    "start_time": "2022-03-21T13:56:58.719Z"
   },
   {
    "duration": 279,
    "start_time": "2022-03-21T13:56:58.852Z"
   },
   {
    "duration": 458,
    "start_time": "2022-03-21T13:56:59.133Z"
   },
   {
    "duration": 540,
    "start_time": "2022-03-21T13:56:59.601Z"
   },
   {
    "duration": 143,
    "start_time": "2022-03-21T14:01:42.293Z"
   },
   {
    "duration": 78203,
    "start_time": "2022-03-21T14:02:40.087Z"
   },
   {
    "duration": 231,
    "start_time": "2022-03-21T14:04:26.966Z"
   },
   {
    "duration": 160,
    "start_time": "2022-03-21T14:05:21.074Z"
   },
   {
    "duration": 166,
    "start_time": "2022-03-21T14:05:27.584Z"
   },
   {
    "duration": 229,
    "start_time": "2022-03-21T14:05:30.859Z"
   },
   {
    "duration": 209,
    "start_time": "2022-03-21T14:05:40.162Z"
   },
   {
    "duration": 158013,
    "start_time": "2022-03-21T14:07:22.079Z"
   },
   {
    "duration": 174,
    "start_time": "2022-03-21T14:11:54.192Z"
   },
   {
    "duration": 131,
    "start_time": "2022-03-21T14:12:25.535Z"
   },
   {
    "duration": 114603,
    "start_time": "2022-03-21T14:12:50.740Z"
   },
   {
    "duration": 98,
    "start_time": "2022-03-21T14:15:32.807Z"
   },
   {
    "duration": 55187,
    "start_time": "2022-03-21T14:16:01.923Z"
   },
   {
    "duration": 1459,
    "start_time": "2022-03-21T14:17:50.942Z"
   },
   {
    "duration": 66,
    "start_time": "2022-03-21T14:17:52.403Z"
   },
   {
    "duration": 123,
    "start_time": "2022-03-21T14:17:52.471Z"
   },
   {
    "duration": 34,
    "start_time": "2022-03-21T14:17:52.597Z"
   },
   {
    "duration": 11,
    "start_time": "2022-03-21T14:17:52.633Z"
   },
   {
    "duration": 17,
    "start_time": "2022-03-21T14:17:52.646Z"
   },
   {
    "duration": 54,
    "start_time": "2022-03-21T14:17:52.665Z"
   },
   {
    "duration": 7,
    "start_time": "2022-03-21T14:17:52.720Z"
   },
   {
    "duration": 161,
    "start_time": "2022-03-21T14:17:52.729Z"
   },
   {
    "duration": 139,
    "start_time": "2022-03-21T14:17:52.893Z"
   },
   {
    "duration": 84231,
    "start_time": "2022-03-21T14:17:53.033Z"
   },
   {
    "duration": 367,
    "start_time": "2022-03-21T14:19:17.266Z"
   },
   {
    "duration": 451,
    "start_time": "2022-03-21T14:19:17.635Z"
   },
   {
    "duration": 16,
    "start_time": "2022-03-21T14:19:18.087Z"
   },
   {
    "duration": 20,
    "start_time": "2022-03-21T14:19:18.104Z"
   },
   {
    "duration": 219,
    "start_time": "2022-03-21T14:19:18.125Z"
   },
   {
    "duration": 148,
    "start_time": "2022-03-21T14:19:18.345Z"
   },
   {
    "duration": 169586,
    "start_time": "2022-03-21T14:19:18.495Z"
   },
   {
    "duration": 591,
    "start_time": "2022-03-21T14:22:08.083Z"
   },
   {
    "duration": 416,
    "start_time": "2022-03-21T14:22:08.676Z"
   },
   {
    "duration": 179,
    "start_time": "2022-03-21T14:22:09.102Z"
   },
   {
    "duration": 138,
    "start_time": "2022-03-21T14:22:09.283Z"
   },
   {
    "duration": 123725,
    "start_time": "2022-03-21T14:22:09.423Z"
   },
   {
    "duration": 544,
    "start_time": "2022-03-21T14:24:13.149Z"
   },
   {
    "duration": 396,
    "start_time": "2022-03-21T14:24:13.695Z"
   },
   {
    "duration": 16,
    "start_time": "2022-03-21T14:24:14.102Z"
   },
   {
    "duration": 105,
    "start_time": "2022-03-21T14:24:14.119Z"
   },
   {
    "duration": 130,
    "start_time": "2022-03-21T14:24:14.227Z"
   },
   {
    "duration": 57676,
    "start_time": "2022-03-21T14:24:14.359Z"
   },
   {
    "duration": 293,
    "start_time": "2022-03-21T14:25:12.037Z"
   },
   {
    "duration": 476,
    "start_time": "2022-03-21T14:25:12.332Z"
   },
   {
    "duration": 547,
    "start_time": "2022-03-21T14:25:12.810Z"
   },
   {
    "duration": 426,
    "start_time": "2022-03-21T14:25:44.216Z"
   },
   {
    "duration": 142,
    "start_time": "2022-03-21T14:27:40.378Z"
   },
   {
    "duration": 126,
    "start_time": "2022-03-21T14:27:43.220Z"
   },
   {
    "duration": 223,
    "start_time": "2022-03-21T14:28:39.290Z"
   },
   {
    "duration": 171,
    "start_time": "2022-03-21T14:29:25.177Z"
   },
   {
    "duration": 8992,
    "start_time": "2022-03-21T14:29:30.027Z"
   },
   {
    "duration": 165,
    "start_time": "2022-03-21T14:29:51.813Z"
   },
   {
    "duration": 137,
    "start_time": "2022-03-21T14:30:00.906Z"
   },
   {
    "duration": 174,
    "start_time": "2022-03-21T14:30:14.991Z"
   },
   {
    "duration": 1603,
    "start_time": "2022-03-21T17:59:36.717Z"
   },
   {
    "duration": 57,
    "start_time": "2022-03-21T17:59:38.322Z"
   },
   {
    "duration": 118,
    "start_time": "2022-03-21T17:59:38.381Z"
   },
   {
    "duration": 32,
    "start_time": "2022-03-21T17:59:38.501Z"
   },
   {
    "duration": 11,
    "start_time": "2022-03-21T17:59:38.534Z"
   },
   {
    "duration": 39,
    "start_time": "2022-03-21T17:59:38.547Z"
   },
   {
    "duration": 22,
    "start_time": "2022-03-21T17:59:38.588Z"
   },
   {
    "duration": 6,
    "start_time": "2022-03-21T17:59:38.611Z"
   },
   {
    "duration": 8400,
    "start_time": "2022-03-21T17:59:38.618Z"
   },
   {
    "duration": 129,
    "start_time": "2022-03-21T17:59:47.021Z"
   },
   {
    "duration": 35504,
    "start_time": "2022-03-21T17:59:47.152Z"
   },
   {
    "duration": 0,
    "start_time": "2022-03-21T18:00:22.658Z"
   },
   {
    "duration": 0,
    "start_time": "2022-03-21T18:00:22.659Z"
   },
   {
    "duration": 0,
    "start_time": "2022-03-21T18:00:22.659Z"
   },
   {
    "duration": 0,
    "start_time": "2022-03-21T18:00:22.660Z"
   },
   {
    "duration": 0,
    "start_time": "2022-03-21T18:00:22.661Z"
   },
   {
    "duration": 0,
    "start_time": "2022-03-21T18:00:22.661Z"
   },
   {
    "duration": 0,
    "start_time": "2022-03-21T18:00:22.663Z"
   },
   {
    "duration": 0,
    "start_time": "2022-03-21T18:00:22.664Z"
   },
   {
    "duration": 0,
    "start_time": "2022-03-21T18:00:22.665Z"
   },
   {
    "duration": 0,
    "start_time": "2022-03-21T18:00:22.666Z"
   },
   {
    "duration": 0,
    "start_time": "2022-03-21T18:00:22.681Z"
   },
   {
    "duration": 0,
    "start_time": "2022-03-21T18:00:22.682Z"
   },
   {
    "duration": 0,
    "start_time": "2022-03-21T18:00:22.682Z"
   },
   {
    "duration": 0,
    "start_time": "2022-03-21T18:00:22.684Z"
   },
   {
    "duration": 0,
    "start_time": "2022-03-21T18:00:22.685Z"
   },
   {
    "duration": 0,
    "start_time": "2022-03-21T18:00:22.686Z"
   },
   {
    "duration": 0,
    "start_time": "2022-03-21T18:00:22.687Z"
   },
   {
    "duration": 0,
    "start_time": "2022-03-21T18:00:22.688Z"
   },
   {
    "duration": 0,
    "start_time": "2022-03-21T18:00:22.689Z"
   },
   {
    "duration": 0,
    "start_time": "2022-03-21T18:00:22.690Z"
   },
   {
    "duration": 0,
    "start_time": "2022-03-21T18:00:22.690Z"
   },
   {
    "duration": 515319,
    "start_time": "2022-03-21T18:00:33.203Z"
   },
   {
    "duration": 48624,
    "start_time": "2022-03-21T18:09:31.584Z"
   },
   {
    "duration": 206,
    "start_time": "2022-03-21T18:11:09.443Z"
   },
   {
    "duration": 712,
    "start_time": "2022-03-21T18:12:14.539Z"
   },
   {
    "duration": 451,
    "start_time": "2022-03-21T18:12:31.231Z"
   },
   {
    "duration": 431,
    "start_time": "2022-03-21T18:12:38.382Z"
   },
   {
    "duration": 11,
    "start_time": "2022-03-21T18:14:07.696Z"
   },
   {
    "duration": 4,
    "start_time": "2022-03-21T18:14:11.361Z"
   },
   {
    "duration": 15,
    "start_time": "2022-03-21T18:14:14.045Z"
   },
   {
    "duration": 200,
    "start_time": "2022-03-21T18:14:16.806Z"
   },
   {
    "duration": 124,
    "start_time": "2022-03-21T18:14:50.049Z"
   },
   {
    "duration": 8604,
    "start_time": "2022-03-21T18:15:06.173Z"
   },
   {
    "duration": 161181,
    "start_time": "2022-03-21T18:15:23.517Z"
   },
   {
    "duration": 590,
    "start_time": "2022-03-21T18:18:58.896Z"
   },
   {
    "duration": 484,
    "start_time": "2022-03-21T18:19:37.775Z"
   },
   {
    "duration": 164,
    "start_time": "2022-03-21T18:20:05.533Z"
   },
   {
    "duration": 118,
    "start_time": "2022-03-21T18:20:57.143Z"
   },
   {
    "duration": 120971,
    "start_time": "2022-03-21T18:21:17.630Z"
   },
   {
    "duration": 500,
    "start_time": "2022-03-21T18:23:44.025Z"
   },
   {
    "duration": 385,
    "start_time": "2022-03-21T18:24:38.898Z"
   },
   {
    "duration": 16,
    "start_time": "2022-03-21T18:26:09.605Z"
   },
   {
    "duration": 1169,
    "start_time": "2022-03-21T18:26:20.616Z"
   },
   {
    "duration": 111,
    "start_time": "2022-03-21T18:26:41.455Z"
   },
   {
    "duration": 71829,
    "start_time": "2022-03-21T18:27:13.706Z"
   },
   {
    "duration": 132,
    "start_time": "2022-03-21T18:28:59.350Z"
   },
   {
    "duration": 472,
    "start_time": "2022-03-21T18:29:31.970Z"
   },
   {
    "duration": 673,
    "start_time": "2022-03-21T18:33:17.566Z"
   },
   {
    "duration": 568,
    "start_time": "2022-03-21T18:33:50.150Z"
   },
   {
    "duration": 1787,
    "start_time": "2022-03-21T18:34:48.437Z"
   },
   {
    "duration": 56,
    "start_time": "2022-03-21T18:34:50.226Z"
   },
   {
    "duration": 121,
    "start_time": "2022-03-21T18:34:50.284Z"
   },
   {
    "duration": 31,
    "start_time": "2022-03-21T18:34:50.406Z"
   },
   {
    "duration": 10,
    "start_time": "2022-03-21T18:34:50.438Z"
   },
   {
    "duration": 39,
    "start_time": "2022-03-21T18:34:50.450Z"
   },
   {
    "duration": 24,
    "start_time": "2022-03-21T18:34:50.490Z"
   },
   {
    "duration": 6,
    "start_time": "2022-03-21T18:34:50.515Z"
   },
   {
    "duration": 6670,
    "start_time": "2022-03-21T18:34:50.523Z"
   },
   {
    "duration": 0,
    "start_time": "2022-03-21T18:34:57.195Z"
   },
   {
    "duration": 0,
    "start_time": "2022-03-21T18:34:57.196Z"
   },
   {
    "duration": 0,
    "start_time": "2022-03-21T18:34:57.197Z"
   },
   {
    "duration": 0,
    "start_time": "2022-03-21T18:34:57.197Z"
   },
   {
    "duration": 0,
    "start_time": "2022-03-21T18:34:57.199Z"
   },
   {
    "duration": 0,
    "start_time": "2022-03-21T18:34:57.200Z"
   },
   {
    "duration": 0,
    "start_time": "2022-03-21T18:34:57.200Z"
   },
   {
    "duration": 0,
    "start_time": "2022-03-21T18:34:57.201Z"
   },
   {
    "duration": 0,
    "start_time": "2022-03-21T18:34:57.202Z"
   },
   {
    "duration": 0,
    "start_time": "2022-03-21T18:34:57.203Z"
   },
   {
    "duration": 0,
    "start_time": "2022-03-21T18:34:57.204Z"
   },
   {
    "duration": 0,
    "start_time": "2022-03-21T18:34:57.205Z"
   },
   {
    "duration": 0,
    "start_time": "2022-03-21T18:34:57.206Z"
   },
   {
    "duration": 0,
    "start_time": "2022-03-21T18:34:57.207Z"
   },
   {
    "duration": 0,
    "start_time": "2022-03-21T18:34:57.208Z"
   },
   {
    "duration": 0,
    "start_time": "2022-03-21T18:34:57.209Z"
   },
   {
    "duration": 0,
    "start_time": "2022-03-21T18:34:57.210Z"
   },
   {
    "duration": 0,
    "start_time": "2022-03-21T18:34:57.211Z"
   },
   {
    "duration": 0,
    "start_time": "2022-03-21T18:34:57.212Z"
   },
   {
    "duration": 0,
    "start_time": "2022-03-21T18:34:57.214Z"
   },
   {
    "duration": 0,
    "start_time": "2022-03-21T18:34:57.215Z"
   },
   {
    "duration": 0,
    "start_time": "2022-03-21T18:34:57.216Z"
   },
   {
    "duration": 0,
    "start_time": "2022-03-21T18:34:57.217Z"
   },
   {
    "duration": 8527,
    "start_time": "2022-03-21T18:40:12.339Z"
   },
   {
    "duration": 2698,
    "start_time": "2022-03-21T18:40:23.713Z"
   },
   {
    "duration": 1790,
    "start_time": "2022-03-21T20:06:13.108Z"
   },
   {
    "duration": 73,
    "start_time": "2022-03-21T20:06:14.901Z"
   },
   {
    "duration": 123,
    "start_time": "2022-03-21T20:06:14.975Z"
   },
   {
    "duration": 32,
    "start_time": "2022-03-21T20:06:15.100Z"
   },
   {
    "duration": 11,
    "start_time": "2022-03-21T20:06:15.134Z"
   },
   {
    "duration": 15,
    "start_time": "2022-03-21T20:06:15.146Z"
   },
   {
    "duration": 49,
    "start_time": "2022-03-21T20:06:15.163Z"
   },
   {
    "duration": 9,
    "start_time": "2022-03-21T20:06:15.214Z"
   },
   {
    "duration": 2782,
    "start_time": "2022-03-21T20:06:15.225Z"
   },
   {
    "duration": 130,
    "start_time": "2022-03-21T20:06:18.009Z"
   },
   {
    "duration": 48375,
    "start_time": "2022-03-21T20:06:18.140Z"
   },
   {
    "duration": 247,
    "start_time": "2022-03-21T20:07:06.517Z"
   },
   {
    "duration": 540,
    "start_time": "2022-03-21T20:07:06.766Z"
   },
   {
    "duration": 4,
    "start_time": "2022-03-21T20:07:07.308Z"
   },
   {
    "duration": 25,
    "start_time": "2022-03-21T20:07:07.314Z"
   },
   {
    "duration": 219,
    "start_time": "2022-03-21T20:07:07.341Z"
   },
   {
    "duration": 131,
    "start_time": "2022-03-21T20:07:07.562Z"
   },
   {
    "duration": 196317,
    "start_time": "2022-03-21T20:07:07.694Z"
   },
   {
    "duration": 1202,
    "start_time": "2022-03-21T20:10:24.012Z"
   },
   {
    "duration": 988,
    "start_time": "2022-03-21T20:10:25.216Z"
   },
   {
    "duration": 323,
    "start_time": "2022-03-21T20:10:26.205Z"
   },
   {
    "duration": 278,
    "start_time": "2022-03-21T20:10:26.529Z"
   },
   {
    "duration": 168012,
    "start_time": "2022-03-21T20:10:26.809Z"
   },
   {
    "duration": 429,
    "start_time": "2022-03-21T20:13:14.823Z"
   },
   {
    "duration": 433,
    "start_time": "2022-03-21T20:13:15.254Z"
   },
   {
    "duration": 25,
    "start_time": "2022-03-21T20:13:15.688Z"
   },
   {
    "duration": 104,
    "start_time": "2022-03-21T20:13:15.715Z"
   },
   {
    "duration": 123,
    "start_time": "2022-03-21T20:13:15.823Z"
   },
   {
    "duration": 74988,
    "start_time": "2022-03-21T20:13:15.947Z"
   },
   {
    "duration": 152,
    "start_time": "2022-03-21T20:14:30.937Z"
   },
   {
    "duration": 417,
    "start_time": "2022-03-21T20:14:31.091Z"
   },
   {
    "duration": 584,
    "start_time": "2022-03-21T20:14:31.510Z"
   }
  ],
  "kernelspec": {
   "display_name": "Python 3 (ipykernel)",
   "language": "python",
   "name": "python3"
  },
  "language_info": {
   "codemirror_mode": {
    "name": "ipython",
    "version": 3
   },
   "file_extension": ".py",
   "mimetype": "text/x-python",
   "name": "python",
   "nbconvert_exporter": "python",
   "pygments_lexer": "ipython3",
   "version": "3.9.12"
  },
  "toc": {
   "base_numbering": 1,
   "nav_menu": {},
   "number_sections": true,
   "sideBar": true,
   "skip_h1_title": true,
   "title_cell": "Содержание",
   "title_sidebar": "Contents",
   "toc_cell": true,
   "toc_position": {
    "height": "calc(100% - 180px)",
    "left": "10px",
    "top": "150px",
    "width": "269.891px"
   },
   "toc_section_display": true,
   "toc_window_display": true
  }
 },
 "nbformat": 4,
 "nbformat_minor": 2
}
