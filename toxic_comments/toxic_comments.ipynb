{
 "cells": [
  {
   "cell_type": "markdown",
   "metadata": {},
   "source": [
    "# Определение токсичности комментариев"
   ]
  },
  {
   "cell_type": "markdown",
   "metadata": {},
   "source": [
    "Интернет-магазин запускает новый сервис, где пользователи смогут редактировать и дополнять описания товаров. Магазину нужен инструмент, который будет искать токсичные комментарии и отправлять их на модерацию. \n",
    "\n",
    "В распоряжении набор данных с разметкой о токсичности правок."
   ]
  },
  {
   "cell_type": "markdown",
   "metadata": {},
   "source": [
    "## Подготовка"
   ]
  },
  {
   "cell_type": "code",
   "execution_count": 1,
   "metadata": {
    "scrolled": true
   },
   "outputs": [
    {
     "name": "stdout",
     "output_type": "stream",
     "text": [
      "Requirement already satisfied: lightgbm in d:\\programmes\\anaconda\\lib\\site-packages (3.3.2)\n",
      "Requirement already satisfied: numpy in d:\\programmes\\anaconda\\lib\\site-packages (from lightgbm) (1.21.5)\n",
      "Requirement already satisfied: scipy in d:\\programmes\\anaconda\\lib\\site-packages (from lightgbm) (1.7.3)\n",
      "Requirement already satisfied: scikit-learn!=0.22.0 in d:\\programmes\\anaconda\\lib\\site-packages (from lightgbm) (1.0.2)\n",
      "Requirement already satisfied: wheel in d:\\programmes\\anaconda\\lib\\site-packages (from lightgbm) (0.37.1)\n",
      "Requirement already satisfied: threadpoolctl>=2.0.0 in d:\\programmes\\anaconda\\lib\\site-packages (from scikit-learn!=0.22.0->lightgbm) (2.2.0)\n",
      "Requirement already satisfied: joblib>=0.11 in d:\\programmes\\anaconda\\lib\\site-packages (from scikit-learn!=0.22.0->lightgbm) (1.1.0)\n"
     ]
    },
    {
     "name": "stderr",
     "output_type": "stream",
     "text": [
      "[nltk_data] Downloading package wordnet to\n",
      "[nltk_data]     C:\\Users\\Дмитрий\\AppData\\Roaming\\nltk_data...\n",
      "[nltk_data]   Package wordnet is already up-to-date!\n",
      "[nltk_data] Downloading package punkt to\n",
      "[nltk_data]     C:\\Users\\Дмитрий\\AppData\\Roaming\\nltk_data...\n",
      "[nltk_data]   Package punkt is already up-to-date!\n",
      "[nltk_data] Downloading package omw-1.4 to\n",
      "[nltk_data]     C:\\Users\\Дмитрий\\AppData\\Roaming\\nltk_data...\n",
      "[nltk_data]   Package omw-1.4 is already up-to-date!\n"
     ]
    }
   ],
   "source": [
    "#импортируем библиотеки\n",
    "!pip install lightgbm\n",
    "import pandas as pd\n",
    "import nltk\n",
    "import re\n",
    "import time \n",
    "import os\n",
    "import matplotlib.pyplot as plt\n",
    "nltk.download('wordnet')\n",
    "nltk.download('punkt')\n",
    "nltk.download('omw-1.4')\n",
    "from nltk.corpus import stopwords as nltk_stopwords\n",
    "from nltk.stem import WordNetLemmatizer\n",
    "from sklearn.feature_extraction.text import TfidfVectorizer\n",
    "from sklearn.model_selection import train_test_split\n",
    "from sklearn.linear_model import LogisticRegression\n",
    "from sklearn.tree import DecisionTreeClassifier\n",
    "from sklearn.ensemble import RandomForestClassifier\n",
    "from lightgbm import LGBMClassifier\n",
    "from sklearn.metrics import make_scorer\n",
    "from sklearn.model_selection import GridSearchCV\n",
    "from sklearn.model_selection import StratifiedKFold\n",
    "from sklearn.model_selection import cross_val_score\n",
    "from sklearn.metrics import f1_score\n",
    "from sklearn.metrics import roc_auc_score\n",
    "from sklearn.metrics import roc_curve\n",
    "from sklearn.neighbors import KNeighborsClassifier\n",
    "from sklearn.svm import SVC\n",
    "\n",
    "#отключаем предупреждения\n",
    "import warnings\n",
    "warnings.filterwarnings('ignore')\n",
    "pd.options.mode.chained_assignment = None"
   ]
  },
  {
   "cell_type": "code",
   "execution_count": 2,
   "metadata": {
    "scrolled": true
   },
   "outputs": [],
   "source": [
    "#открываем и изучаем файл\n",
    "pth1 = 'C:\\\\Users\\\\Дмитрий\\\\Desktop\\\\Jupyter Notebook\\\\Project\\\\toxic_comments.csv'\n",
    "pth2 = '/datasets/toxic_comments.csv'\n",
    "    \n",
    "if os.path.exists(pth1):\n",
    "    data = pd.read_csv(pth1)\n",
    "elif os.path.exists(pth2):\n",
    "    data = pd.read_csv(pth2)\n",
    "else:\n",
    "    print('Something is wrong')"
   ]
  },
  {
   "cell_type": "code",
   "execution_count": 4,
   "metadata": {
    "scrolled": false
   },
   "outputs": [
    {
     "name": "stdout",
     "output_type": "stream",
     "text": [
      "<class 'pandas.core.frame.DataFrame'>\n",
      "RangeIndex: 159571 entries, 0 to 159570\n",
      "Data columns (total 2 columns):\n",
      " #   Column  Non-Null Count   Dtype \n",
      "---  ------  --------------   ----- \n",
      " 0   text    159571 non-null  object\n",
      " 1   toxic   159571 non-null  int64 \n",
      "dtypes: int64(1), object(1)\n",
      "memory usage: 2.4+ MB\n"
     ]
    }
   ],
   "source": [
    "data.info()"
   ]
  },
  {
   "cell_type": "code",
   "execution_count": 5,
   "metadata": {},
   "outputs": [
    {
     "data": {
      "text/plain": [
       "0    0.898321\n",
       "1    0.101679\n",
       "Name: toxic, dtype: float64"
      ]
     },
     "execution_count": 5,
     "metadata": {},
     "output_type": "execute_result"
    }
   ],
   "source": [
    "data['toxic'].value_counts(normalize=True)"
   ]
  },
  {
   "cell_type": "markdown",
   "metadata": {},
   "source": [
    "Практически 90% сообщений нетоксичного характера. Классы несбаласированы, значит в моделировании будем применять балансировку."
   ]
  },
  {
   "cell_type": "code",
   "execution_count": 6,
   "metadata": {},
   "outputs": [],
   "source": [
    "#сводим текст твитов к нижнему регистру\n",
    "data['text'] = data['text'].str.lower()"
   ]
  },
  {
   "cell_type": "code",
   "execution_count": 7,
   "metadata": {},
   "outputs": [
    {
     "data": {
      "text/plain": [
       "text     0\n",
       "toxic    0\n",
       "dtype: int64"
      ]
     },
     "execution_count": 7,
     "metadata": {},
     "output_type": "execute_result"
    }
   ],
   "source": [
    "#проверяем на дубликаты\n",
    "data.isna().sum()"
   ]
  },
  {
   "cell_type": "code",
   "execution_count": 8,
   "metadata": {},
   "outputs": [],
   "source": [
    "#создаем функцию для лемматизации и удаления символов\n",
    "lemmatizer = WordNetLemmatizer()\n",
    "def get_lemmas(sentence):\n",
    "    word_list = nltk.word_tokenize(sentence)\n",
    "    lemmatized_output = ' '.join([lemmatizer.lemmatize(w) for w in word_list])\n",
    "    x = re.sub(r'[^a-zA-Z]', ' ', lemmatized_output)\n",
    "    return ' '.join(x.split())"
   ]
  },
  {
   "cell_type": "code",
   "execution_count": 9,
   "metadata": {},
   "outputs": [
    {
     "name": "stdout",
     "output_type": "stream",
     "text": [
      "CPU times: total: 2min 25s\n",
      "Wall time: 2min 26s\n"
     ]
    }
   ],
   "source": [
    "%%time\n",
    "\n",
    "#применяем функцию\n",
    "data['lemmas'] = data['text'].apply(get_lemmas)"
   ]
  },
  {
   "cell_type": "code",
   "execution_count": 10,
   "metadata": {
    "scrolled": false
   },
   "outputs": [
    {
     "data": {
      "text/html": [
       "<div>\n",
       "<style scoped>\n",
       "    .dataframe tbody tr th:only-of-type {\n",
       "        vertical-align: middle;\n",
       "    }\n",
       "\n",
       "    .dataframe tbody tr th {\n",
       "        vertical-align: top;\n",
       "    }\n",
       "\n",
       "    .dataframe thead th {\n",
       "        text-align: right;\n",
       "    }\n",
       "</style>\n",
       "<table border=\"1\" class=\"dataframe\">\n",
       "  <thead>\n",
       "    <tr style=\"text-align: right;\">\n",
       "      <th></th>\n",
       "      <th>text</th>\n",
       "      <th>toxic</th>\n",
       "      <th>lemmas</th>\n",
       "    </tr>\n",
       "  </thead>\n",
       "  <tbody>\n",
       "    <tr>\n",
       "      <th>0</th>\n",
       "      <td>explanation\\nwhy the edits made under my usern...</td>\n",
       "      <td>0</td>\n",
       "      <td>explanation why the edits made under my userna...</td>\n",
       "    </tr>\n",
       "    <tr>\n",
       "      <th>1</th>\n",
       "      <td>d'aww! he matches this background colour i'm s...</td>\n",
       "      <td>0</td>\n",
       "      <td>d aww he match this background colour i m seem...</td>\n",
       "    </tr>\n",
       "    <tr>\n",
       "      <th>2</th>\n",
       "      <td>hey man, i'm really not trying to edit war. it...</td>\n",
       "      <td>0</td>\n",
       "      <td>hey man i m really not trying to edit war it s...</td>\n",
       "    </tr>\n",
       "    <tr>\n",
       "      <th>3</th>\n",
       "      <td>\"\\nmore\\ni can't make any real suggestions on ...</td>\n",
       "      <td>0</td>\n",
       "      <td>more i ca n t make any real suggestion on impr...</td>\n",
       "    </tr>\n",
       "    <tr>\n",
       "      <th>4</th>\n",
       "      <td>you, sir, are my hero. any chance you remember...</td>\n",
       "      <td>0</td>\n",
       "      <td>you sir are my hero any chance you remember wh...</td>\n",
       "    </tr>\n",
       "    <tr>\n",
       "      <th>...</th>\n",
       "      <td>...</td>\n",
       "      <td>...</td>\n",
       "      <td>...</td>\n",
       "    </tr>\n",
       "    <tr>\n",
       "      <th>159566</th>\n",
       "      <td>\":::::and for the second time of asking, when ...</td>\n",
       "      <td>0</td>\n",
       "      <td>and for the second time of asking when your vi...</td>\n",
       "    </tr>\n",
       "    <tr>\n",
       "      <th>159567</th>\n",
       "      <td>you should be ashamed of yourself \\n\\nthat is ...</td>\n",
       "      <td>0</td>\n",
       "      <td>you should be ashamed of yourself that is a ho...</td>\n",
       "    </tr>\n",
       "    <tr>\n",
       "      <th>159568</th>\n",
       "      <td>spitzer \\n\\numm, theres no actual article for ...</td>\n",
       "      <td>0</td>\n",
       "      <td>spitzer umm there no actual article for prosti...</td>\n",
       "    </tr>\n",
       "    <tr>\n",
       "      <th>159569</th>\n",
       "      <td>and it looks like it was actually you who put ...</td>\n",
       "      <td>0</td>\n",
       "      <td>and it look like it wa actually you who put on...</td>\n",
       "    </tr>\n",
       "    <tr>\n",
       "      <th>159570</th>\n",
       "      <td>\"\\nand ... i really don't think you understand...</td>\n",
       "      <td>0</td>\n",
       "      <td>and i really do n t think you understand i cam...</td>\n",
       "    </tr>\n",
       "  </tbody>\n",
       "</table>\n",
       "<p>159571 rows × 3 columns</p>\n",
       "</div>"
      ],
      "text/plain": [
       "                                                     text  toxic  \\\n",
       "0       explanation\\nwhy the edits made under my usern...      0   \n",
       "1       d'aww! he matches this background colour i'm s...      0   \n",
       "2       hey man, i'm really not trying to edit war. it...      0   \n",
       "3       \"\\nmore\\ni can't make any real suggestions on ...      0   \n",
       "4       you, sir, are my hero. any chance you remember...      0   \n",
       "...                                                   ...    ...   \n",
       "159566  \":::::and for the second time of asking, when ...      0   \n",
       "159567  you should be ashamed of yourself \\n\\nthat is ...      0   \n",
       "159568  spitzer \\n\\numm, theres no actual article for ...      0   \n",
       "159569  and it looks like it was actually you who put ...      0   \n",
       "159570  \"\\nand ... i really don't think you understand...      0   \n",
       "\n",
       "                                                   lemmas  \n",
       "0       explanation why the edits made under my userna...  \n",
       "1       d aww he match this background colour i m seem...  \n",
       "2       hey man i m really not trying to edit war it s...  \n",
       "3       more i ca n t make any real suggestion on impr...  \n",
       "4       you sir are my hero any chance you remember wh...  \n",
       "...                                                   ...  \n",
       "159566  and for the second time of asking when your vi...  \n",
       "159567  you should be ashamed of yourself that is a ho...  \n",
       "159568  spitzer umm there no actual article for prosti...  \n",
       "159569  and it look like it wa actually you who put on...  \n",
       "159570  and i really do n t think you understand i cam...  \n",
       "\n",
       "[159571 rows x 3 columns]"
      ]
     },
     "metadata": {},
     "output_type": "display_data"
    }
   ],
   "source": [
    "display(data)"
   ]
  },
  {
   "cell_type": "code",
   "execution_count": 11,
   "metadata": {},
   "outputs": [
    {
     "name": "stdout",
     "output_type": "stream",
     "text": [
      "(127656,)\n",
      "(31915,)\n",
      "(127656,)\n",
      "(31915,)\n"
     ]
    }
   ],
   "source": [
    "#разделяем выборки на обучающие и тестовые \n",
    "features_train, features_test, target_train, target_test = train_test_split(data['lemmas'], \n",
    "                                                                            data['toxic'],\n",
    "                                                                            test_size=0.2,\n",
    "                                                                            random_state=12345)\n",
    "\n",
    "print(features_train.shape)\n",
    "print(features_test.shape)\n",
    "print(target_train.shape)\n",
    "print(target_test.shape)"
   ]
  },
  {
   "cell_type": "code",
   "execution_count": 12,
   "metadata": {},
   "outputs": [
    {
     "name": "stdout",
     "output_type": "stream",
     "text": [
      "(127656, 141656)\n",
      "(31915, 141656)\n"
     ]
    }
   ],
   "source": [
    "#считаем TF-IDF \n",
    "stopwords = set(nltk_stopwords.words('english'))\n",
    "count_tfidf = TfidfVectorizer(stop_words=stopwords)\n",
    "features_train = count_tfidf.fit_transform(features_train)\n",
    "features_test = count_tfidf.transform(features_test)\n",
    "print(features_train.shape)\n",
    "print(features_test.shape)"
   ]
  },
  {
   "cell_type": "code",
   "execution_count": 14,
   "metadata": {},
   "outputs": [],
   "source": [
    "#настраиваем кросс-валидацию\n",
    "folds = StratifiedKFold(n_splits=5, shuffle=True, random_state=12345)   "
   ]
  },
  {
   "cell_type": "code",
   "execution_count": 15,
   "metadata": {},
   "outputs": [],
   "source": [
    "#создаем словарь для записи результатов\n",
    "results = {'training_time': [],\n",
    "           'pred_time': [],\n",
    "           'cv_f1': [],\n",
    "           'test_f1': []\n",
    "          }"
   ]
  },
  {
   "cell_type": "code",
   "execution_count": 16,
   "metadata": {},
   "outputs": [],
   "source": [
    "#создаем функцию для автоматизации моделирования и записи результатов\n",
    "def modelling(model, features_train, target_train, features_test, target_test, cv_res):\n",
    "    start_train = time.time()\n",
    "    model.fit(features_train, target_train)\n",
    "    stop_train = time.time()\n",
    "    pred_test = model.predict(features_test)\n",
    "    stop_test = time.time()\n",
    "    results.setdefault('training_time',[]).append('{0:.3f}'.format(stop_train-start_train))\n",
    "    results.setdefault('pred_time',[]).append('{0:.3f}'.format(stop_test-stop_train))\n",
    "    results.setdefault('test_f1',[]).append('{0:.2f}'.format(f1_score(target_test, pred_test)))\n",
    "    results.setdefault('cv_f1',[]).append('{0:.2f}'.format(abs(cv_res.mean())))\n",
    "    display(results)"
   ]
  },
  {
   "cell_type": "markdown",
   "metadata": {},
   "source": [
    "## Обучение"
   ]
  },
  {
   "cell_type": "markdown",
   "metadata": {},
   "source": [
    "### Логистическая регрессия"
   ]
  },
  {
   "cell_type": "code",
   "execution_count": 17,
   "metadata": {},
   "outputs": [
    {
     "name": "stdout",
     "output_type": "stream",
     "text": [
      "0.747085649773487\n"
     ]
    }
   ],
   "source": [
    "model_lg = LogisticRegression(random_state=12345, class_weight='balanced')\n",
    "cv_lg = cross_val_score(estimator=model_lg, \n",
    "                      X=features_train,\n",
    "                      y=target_train, \n",
    "                      scoring='f1',\n",
    "                      cv=folds, \n",
    "                      n_jobs=-1)\n",
    "\n",
    "print(abs(cv_lg.mean()))"
   ]
  },
  {
   "cell_type": "code",
   "execution_count": 18,
   "metadata": {
    "scrolled": true
   },
   "outputs": [
    {
     "data": {
      "text/plain": [
       "{'training_time': ['4.920'],\n",
       " 'pred_time': ['0.004'],\n",
       " 'cv_f1': ['0.75'],\n",
       " 'test_f1': ['0.75']}"
      ]
     },
     "metadata": {},
     "output_type": "display_data"
    }
   ],
   "source": [
    "modelling(model_lg, features_train, target_train, features_test, target_test, cv_lg)"
   ]
  },
  {
   "cell_type": "markdown",
   "metadata": {},
   "source": [
    "### Дерево решений"
   ]
  },
  {
   "cell_type": "code",
   "execution_count": 19,
   "metadata": {},
   "outputs": [
    {
     "name": "stdout",
     "output_type": "stream",
     "text": [
      "{'max_depth': 25}\n",
      "0.6163614888104212\n",
      "CPU times: total: 23.5 s\n",
      "Wall time: 10min 51s\n"
     ]
    }
   ],
   "source": [
    "%%time\n",
    "\n",
    "model_dt = DecisionTreeClassifier(random_state=12345,  class_weight='balanced')\n",
    "parameters = {'max_depth': range(5,26,1)}\n",
    "grid_dt = GridSearchCV(model_dt, param_grid=parameters, scoring='f1', n_jobs=-1, cv=folds)\n",
    "grid_dt.fit(features_train, target_train)\n",
    "cv_dt= grid_dt.best_score_\n",
    "print(grid_dt.best_params_)\n",
    "print(abs(grid_dt.best_score_))"
   ]
  },
  {
   "cell_type": "code",
   "execution_count": 20,
   "metadata": {},
   "outputs": [
    {
     "data": {
      "text/plain": [
       "{'training_time': ['4.920', '28.602'],\n",
       " 'pred_time': ['0.004', '0.016'],\n",
       " 'cv_f1': ['0.75', '0.62'],\n",
       " 'test_f1': ['0.75', '0.61']}"
      ]
     },
     "metadata": {},
     "output_type": "display_data"
    }
   ],
   "source": [
    "modelling(grid_dt.best_estimator_, features_train, target_train, features_test, target_test, cv_dt)"
   ]
  },
  {
   "cell_type": "markdown",
   "metadata": {},
   "source": [
    "### Случайный лес"
   ]
  },
  {
   "cell_type": "code",
   "execution_count": 21,
   "metadata": {},
   "outputs": [
    {
     "name": "stdout",
     "output_type": "stream",
     "text": [
      "{'max_depth': 15, 'n_estimators': 500}\n",
      "0.3924767346800335\n",
      "CPU times: total: 39 s\n",
      "Wall time: 53min 45s\n"
     ]
    }
   ],
   "source": [
    "%%time\n",
    "\n",
    "model_rf = RandomForestClassifier(random_state=12345, class_weight='balanced')\n",
    "parameters = {'max_depth': range(11,16,1), 'n_estimators' : [10, 20, 40, 60, 100, 200, 300, 500]}\n",
    "grid_rf = GridSearchCV(model_rf, param_grid=parameters, scoring='f1', n_jobs=-1, cv=folds)\n",
    "grid_rf.fit(features_train, target_train)\n",
    "cv_rf= grid_rf.best_score_\n",
    "print(grid_rf.best_params_)\n",
    "print(abs(grid_rf.best_score_))"
   ]
  },
  {
   "cell_type": "code",
   "execution_count": 22,
   "metadata": {},
   "outputs": [
    {
     "data": {
      "text/plain": [
       "{'training_time': ['4.920', '28.602', '34.744'],\n",
       " 'pred_time': ['0.004', '0.016', '2.781'],\n",
       " 'cv_f1': ['0.75', '0.62', '0.39'],\n",
       " 'test_f1': ['0.75', '0.61', '0.39']}"
      ]
     },
     "metadata": {},
     "output_type": "display_data"
    }
   ],
   "source": [
    "modelling(grid_rf.best_estimator_, features_train, target_train, features_test, target_test, cv_rf)"
   ]
  },
  {
   "cell_type": "markdown",
   "metadata": {},
   "source": [
    "### LGBM Classifier"
   ]
  },
  {
   "cell_type": "code",
   "execution_count": 23,
   "metadata": {},
   "outputs": [
    {
     "name": "stdout",
     "output_type": "stream",
     "text": [
      "{'learning_rate': 0.1, 'max_depth': 15, 'n_estimators': 1500}\n",
      "0.7742267602204005\n",
      "CPU times: total: 1d 9h 54min 59s\n",
      "Wall time: 4h 17min 47s\n"
     ]
    }
   ],
   "source": [
    "%%time\n",
    "\n",
    "model_lgbm = LGBMClassifier(n_jobs=-1, random_state=12345, class_weight='balanced')\n",
    "parameters = {'learning_rate': [0.1, 0.2, 0.3],\n",
    "              'max_depth': [3, 6, 10, 15],\n",
    "              'n_estimators': [500, 1000, 1500]\n",
    "             }\n",
    "grid_lgbm = GridSearchCV(model_lgbm, param_grid=parameters, cv=folds, scoring='f1')\n",
    "\n",
    "grid_lgbm.fit(features_train, target_train)\n",
    "cv_lgbm = grid_lgbm.best_score_\n",
    "\n",
    "print(grid_lgbm.best_params_)\n",
    "print(grid_lgbm.best_score_)"
   ]
  },
  {
   "cell_type": "code",
   "execution_count": 24,
   "metadata": {},
   "outputs": [
    {
     "data": {
      "text/plain": [
       "{'training_time': ['4.920', '28.602', '34.744', '156.012'],\n",
       " 'pred_time': ['0.004', '0.016', '2.781', '2.454'],\n",
       " 'cv_f1': ['0.75', '0.62', '0.39', '0.77'],\n",
       " 'test_f1': ['0.75', '0.61', '0.39', '0.77']}"
      ]
     },
     "metadata": {},
     "output_type": "display_data"
    }
   ],
   "source": [
    "modelling(grid_lgbm.best_estimator_, features_train, target_train, features_test, target_test, cv_lgbm)"
   ]
  },
  {
   "cell_type": "markdown",
   "metadata": {},
   "source": [
    "### Метод ближайших соседей (KNeighbors)"
   ]
  },
  {
   "cell_type": "code",
   "execution_count": 25,
   "metadata": {
    "scrolled": true
   },
   "outputs": [
    {
     "name": "stdout",
     "output_type": "stream",
     "text": [
      "{'n_neighbors': 1, 'weights': 'uniform'}\n",
      "0.36122019624176477\n",
      "CPU times: total: 1h 16min 32s\n",
      "Wall time: 23min 29s\n"
     ]
    }
   ],
   "source": [
    "%%time\n",
    "\n",
    "model_kn = KNeighborsClassifier(n_jobs=-1)\n",
    "parameters = {'n_neighbors': range(1, 3, 1),\n",
    "              'weights': ['uniform', 'distance'],\n",
    "             }\n",
    "grid_kn = GridSearchCV(model_kn, param_grid=parameters, cv=folds, scoring='f1')\n",
    "\n",
    "grid_kn.fit(features_train, target_train)\n",
    "cv_kn = grid_kn.best_score_\n",
    "\n",
    "print(grid_kn.best_params_)\n",
    "print(grid_kn.best_score_)"
   ]
  },
  {
   "cell_type": "code",
   "execution_count": 26,
   "metadata": {
    "scrolled": true
   },
   "outputs": [
    {
     "data": {
      "text/plain": [
       "{'training_time': ['4.920', '28.602', '34.744', '156.012', '0.016'],\n",
       " 'pred_time': ['0.004', '0.016', '2.781', '2.454', '104.273'],\n",
       " 'cv_f1': ['0.75', '0.62', '0.39', '0.77', '0.36'],\n",
       " 'test_f1': ['0.75', '0.61', '0.39', '0.77', '0.41']}"
      ]
     },
     "metadata": {},
     "output_type": "display_data"
    }
   ],
   "source": [
    "modelling(grid_kn.best_estimator_, features_train, target_train, features_test, target_test, cv_kn)"
   ]
  },
  {
   "cell_type": "markdown",
   "metadata": {},
   "source": [
    "### Метод опорных векторов (SVM)"
   ]
  },
  {
   "cell_type": "code",
   "execution_count": 27,
   "metadata": {},
   "outputs": [
    {
     "name": "stdout",
     "output_type": "stream",
     "text": [
      "{'C': 1}\n",
      "0.7759230562433203\n",
      "CPU times: total: 1h 5min 40s\n",
      "Wall time: 4h 23min 37s\n"
     ]
    }
   ],
   "source": [
    "%%time\n",
    "\n",
    "model_svc = SVC(class_weight='balanced', random_state=12345)\n",
    "parameters = {'C': [0.1, 1, 10]}\n",
    "grid_svc = GridSearchCV(model_svc, param_grid=parameters, cv=folds, scoring='f1', n_jobs=-1)\n",
    "\n",
    "grid_svc.fit(features_train, target_train)\n",
    "cv_svc = grid_svc.best_score_\n",
    "\n",
    "print(grid_svc.best_params_)\n",
    "print(grid_svc.best_score_)"
   ]
  },
  {
   "cell_type": "code",
   "execution_count": 28,
   "metadata": {},
   "outputs": [
    {
     "data": {
      "text/plain": [
       "{'training_time': ['4.920',\n",
       "  '28.602',\n",
       "  '34.744',\n",
       "  '156.012',\n",
       "  '0.016',\n",
       "  '3939.265'],\n",
       " 'pred_time': ['0.004', '0.016', '2.781', '2.454', '104.273', '286.000'],\n",
       " 'cv_f1': ['0.75', '0.62', '0.39', '0.77', '0.36', '0.78'],\n",
       " 'test_f1': ['0.75', '0.61', '0.39', '0.77', '0.41', '0.79']}"
      ]
     },
     "metadata": {},
     "output_type": "display_data"
    }
   ],
   "source": [
    "modelling(grid_svc.best_estimator_, features_train, target_train, features_test, target_test, cv_svc)"
   ]
  },
  {
   "cell_type": "markdown",
   "metadata": {},
   "source": [
    "## Выводы"
   ]
  },
  {
   "cell_type": "code",
   "execution_count": 29,
   "metadata": {
    "scrolled": true
   },
   "outputs": [
    {
     "data": {
      "text/html": [
       "<div>\n",
       "<style scoped>\n",
       "    .dataframe tbody tr th:only-of-type {\n",
       "        vertical-align: middle;\n",
       "    }\n",
       "\n",
       "    .dataframe tbody tr th {\n",
       "        vertical-align: top;\n",
       "    }\n",
       "\n",
       "    .dataframe thead th {\n",
       "        text-align: right;\n",
       "    }\n",
       "</style>\n",
       "<table border=\"1\" class=\"dataframe\">\n",
       "  <thead>\n",
       "    <tr style=\"text-align: right;\">\n",
       "      <th></th>\n",
       "      <th>Logistic_Regression</th>\n",
       "      <th>Decision_Tree</th>\n",
       "      <th>Random_Forest</th>\n",
       "      <th>LGBM_Classifier</th>\n",
       "      <th>KNeighbors</th>\n",
       "      <th>SVC</th>\n",
       "    </tr>\n",
       "  </thead>\n",
       "  <tbody>\n",
       "    <tr>\n",
       "      <th>training_time</th>\n",
       "      <td>4.920</td>\n",
       "      <td>28.602</td>\n",
       "      <td>34.744</td>\n",
       "      <td>156.012</td>\n",
       "      <td>0.016</td>\n",
       "      <td>3939.265</td>\n",
       "    </tr>\n",
       "    <tr>\n",
       "      <th>pred_time</th>\n",
       "      <td>0.004</td>\n",
       "      <td>0.016</td>\n",
       "      <td>2.781</td>\n",
       "      <td>2.454</td>\n",
       "      <td>104.273</td>\n",
       "      <td>286.000</td>\n",
       "    </tr>\n",
       "    <tr>\n",
       "      <th>cv_f1</th>\n",
       "      <td>0.75</td>\n",
       "      <td>0.62</td>\n",
       "      <td>0.39</td>\n",
       "      <td>0.77</td>\n",
       "      <td>0.36</td>\n",
       "      <td>0.78</td>\n",
       "    </tr>\n",
       "    <tr>\n",
       "      <th>test_f1</th>\n",
       "      <td>0.75</td>\n",
       "      <td>0.61</td>\n",
       "      <td>0.39</td>\n",
       "      <td>0.77</td>\n",
       "      <td>0.41</td>\n",
       "      <td>0.79</td>\n",
       "    </tr>\n",
       "  </tbody>\n",
       "</table>\n",
       "</div>"
      ],
      "text/plain": [
       "              Logistic_Regression Decision_Tree Random_Forest LGBM_Classifier  \\\n",
       "training_time               4.920        28.602        34.744         156.012   \n",
       "pred_time                   0.004         0.016         2.781           2.454   \n",
       "cv_f1                        0.75          0.62          0.39            0.77   \n",
       "test_f1                      0.75          0.61          0.39            0.77   \n",
       "\n",
       "              KNeighbors       SVC  \n",
       "training_time      0.016  3939.265  \n",
       "pred_time        104.273   286.000  \n",
       "cv_f1               0.36      0.78  \n",
       "test_f1             0.41      0.79  "
      ]
     },
     "metadata": {},
     "output_type": "display_data"
    }
   ],
   "source": [
    "#строим таблицу с результатами\n",
    "columns = pd.Series(['Logistic_Regression', 'Decision_Tree', 'Random_Forest', 'LGBM_Classifier', 'KNeighbors', 'SVC'])\n",
    "table = pd.DataFrame.from_dict(results, orient='index', columns=columns)\n",
    "display(table)"
   ]
  },
  {
   "cell_type": "markdown",
   "metadata": {},
   "source": [
    "* Модель логистической регрессии имеет самую высокую скорость предсказания, на 2-ом месте по скорости обучения. Также эта модель имеет одну из самых высоких точностей предсказания (F1 примерно равно 0.75).\n",
    "\n",
    "* Модель решающего дерева имеет высокую скорость предсказаний, но не отличается высокой точностью и скоростью обучения.\n",
    "\n",
    "* Модель случайного леса долго обучается и имеет очень низкую точность.\n",
    "\n",
    "* Модель градиентного бустинга LGBM относительно долго обучается и предсказывает, но имеет высокую точность предсказаний.\n",
    "\n",
    "* Метод ближайших соседей предсказывает дольше всех и имеет самую низкую точность предсказаний.\n",
    "\n",
    "* Метод опорных векторов в сотни раз дольше обучается и предсказывает, чем остальные. Но имеет самую высокую точность.\n",
    "\n",
    "**Если у заказчика имеются высокие вычислительные мощности или скорость обучения/предсказания не важна, то стоит использовать метод опорных векторов (SVM). Если скорость важна, то градиентный бустинг LGBM. Остальные модели не имеют достаточной точности предсказаний.**"
   ]
  },
  {
   "cell_type": "code",
   "execution_count": null,
   "metadata": {},
   "outputs": [],
   "source": []
  }
 ],
 "metadata": {
  "ExecuteTimeLog": [
   {
    "duration": 3263,
    "start_time": "2022-05-27T10:55:13.393Z"
   },
   {
    "duration": 2591,
    "start_time": "2022-05-27T10:55:16.658Z"
   },
   {
    "duration": 28,
    "start_time": "2022-05-27T10:55:19.251Z"
   },
   {
    "duration": 28,
    "start_time": "2022-05-27T10:55:19.280Z"
   },
   {
    "duration": 35,
    "start_time": "2022-05-27T10:55:19.310Z"
   },
   {
    "duration": 135646,
    "start_time": "2022-05-27T10:55:19.347Z"
   },
   {
    "duration": 10,
    "start_time": "2022-05-27T10:58:50.290Z"
   },
   {
    "duration": 1371,
    "start_time": "2022-05-27T11:00:19.571Z"
   },
   {
    "duration": 939,
    "start_time": "2022-05-27T11:00:20.945Z"
   },
   {
    "duration": 29,
    "start_time": "2022-05-27T11:00:21.886Z"
   },
   {
    "duration": 26,
    "start_time": "2022-05-27T11:00:21.931Z"
   },
   {
    "duration": 15,
    "start_time": "2022-05-27T11:00:21.959Z"
   },
   {
    "duration": 9689,
    "start_time": "2022-05-27T11:00:21.975Z"
   },
   {
    "duration": 9,
    "start_time": "2022-05-27T11:00:31.666Z"
   },
   {
    "duration": 9268,
    "start_time": "2022-05-27T11:01:03.508Z"
   },
   {
    "duration": 124806,
    "start_time": "2022-05-27T11:01:23.319Z"
   },
   {
    "duration": 9,
    "start_time": "2022-05-27T11:03:28.139Z"
   },
   {
    "duration": 50,
    "start_time": "2022-05-27T11:06:27.191Z"
   },
   {
    "duration": 15,
    "start_time": "2022-05-27T11:06:36.968Z"
   },
   {
    "duration": 1383,
    "start_time": "2022-05-27T11:06:54.603Z"
   },
   {
    "duration": 906,
    "start_time": "2022-05-27T11:06:55.988Z"
   },
   {
    "duration": 43,
    "start_time": "2022-05-27T11:06:56.896Z"
   },
   {
    "duration": 30,
    "start_time": "2022-05-27T11:06:56.942Z"
   },
   {
    "duration": 65,
    "start_time": "2022-05-27T11:06:56.975Z"
   },
   {
    "duration": 12,
    "start_time": "2022-05-27T11:06:57.042Z"
   },
   {
    "duration": 0,
    "start_time": "2022-05-27T11:06:57.056Z"
   },
   {
    "duration": 0,
    "start_time": "2022-05-27T11:06:57.058Z"
   },
   {
    "duration": 9,
    "start_time": "2022-05-27T11:07:32.222Z"
   },
   {
    "duration": 121,
    "start_time": "2022-05-27T11:07:32.997Z"
   },
   {
    "duration": 35,
    "start_time": "2022-05-27T11:07:41.460Z"
   },
   {
    "duration": 4,
    "start_time": "2022-05-27T11:07:41.738Z"
   },
   {
    "duration": 9,
    "start_time": "2022-05-27T11:07:42.005Z"
   },
   {
    "duration": 22,
    "start_time": "2022-05-27T11:08:01.442Z"
   },
   {
    "duration": 4,
    "start_time": "2022-05-27T11:08:01.742Z"
   },
   {
    "duration": 1362,
    "start_time": "2022-05-27T11:08:01.998Z"
   },
   {
    "duration": 4,
    "start_time": "2022-05-27T11:09:21.638Z"
   },
   {
    "duration": 227,
    "start_time": "2022-05-27T11:09:21.761Z"
   },
   {
    "duration": 3702,
    "start_time": "2022-05-27T14:05:22.168Z"
   },
   {
    "duration": 2407,
    "start_time": "2022-05-27T14:05:25.872Z"
   },
   {
    "duration": 29,
    "start_time": "2022-05-27T14:05:28.280Z"
   },
   {
    "duration": 1269,
    "start_time": "2022-05-27T14:05:28.310Z"
   },
   {
    "duration": 23,
    "start_time": "2022-05-27T14:05:29.581Z"
   },
   {
    "duration": 139,
    "start_time": "2022-05-27T14:05:29.606Z"
   },
   {
    "duration": 0,
    "start_time": "2022-05-27T14:05:29.748Z"
   },
   {
    "duration": 1291,
    "start_time": "2022-05-27T14:18:00.530Z"
   },
   {
    "duration": 919,
    "start_time": "2022-05-27T14:18:01.823Z"
   },
   {
    "duration": 33,
    "start_time": "2022-05-27T14:18:02.744Z"
   },
   {
    "duration": 293,
    "start_time": "2022-05-27T14:18:02.779Z"
   },
   {
    "duration": 29,
    "start_time": "2022-05-27T14:18:03.074Z"
   },
   {
    "duration": 16,
    "start_time": "2022-05-27T14:18:03.105Z"
   },
   {
    "duration": 8,
    "start_time": "2022-05-27T14:18:03.123Z"
   },
   {
    "duration": 157,
    "start_time": "2022-05-27T14:18:03.132Z"
   },
   {
    "duration": 0,
    "start_time": "2022-05-27T14:18:03.291Z"
   },
   {
    "duration": 4,
    "start_time": "2022-05-27T14:18:37.813Z"
   },
   {
    "duration": 135434,
    "start_time": "2022-05-27T14:18:38.633Z"
   },
   {
    "duration": 14,
    "start_time": "2022-05-27T14:20:54.069Z"
   },
   {
    "duration": 57,
    "start_time": "2022-05-27T14:24:06.221Z"
   },
   {
    "duration": 1387,
    "start_time": "2022-05-27T14:28:31.421Z"
   },
   {
    "duration": 905,
    "start_time": "2022-05-27T14:28:32.810Z"
   },
   {
    "duration": 31,
    "start_time": "2022-05-27T14:28:33.716Z"
   },
   {
    "duration": 313,
    "start_time": "2022-05-27T14:28:33.749Z"
   },
   {
    "duration": 32,
    "start_time": "2022-05-27T14:28:34.064Z"
   },
   {
    "duration": 7,
    "start_time": "2022-05-27T14:28:34.098Z"
   },
   {
    "duration": 25,
    "start_time": "2022-05-27T14:28:34.106Z"
   },
   {
    "duration": 52040,
    "start_time": "2022-05-27T14:28:34.133Z"
   },
   {
    "duration": 0,
    "start_time": "2022-05-27T14:29:26.175Z"
   },
   {
    "duration": 0,
    "start_time": "2022-05-27T14:29:26.176Z"
   },
   {
    "duration": 1475,
    "start_time": "2022-05-27T14:29:41.169Z"
   },
   {
    "duration": 897,
    "start_time": "2022-05-27T14:29:42.646Z"
   },
   {
    "duration": 33,
    "start_time": "2022-05-27T14:29:43.545Z"
   },
   {
    "duration": 317,
    "start_time": "2022-05-27T14:29:43.580Z"
   },
   {
    "duration": 25,
    "start_time": "2022-05-27T14:29:43.898Z"
   },
   {
    "duration": 2,
    "start_time": "2022-05-27T14:29:43.925Z"
   },
   {
    "duration": 11,
    "start_time": "2022-05-27T14:29:43.929Z"
   },
   {
    "duration": 138771,
    "start_time": "2022-05-27T14:29:43.942Z"
   },
   {
    "duration": 13,
    "start_time": "2022-05-27T14:32:02.714Z"
   },
   {
    "duration": 66,
    "start_time": "2022-05-27T14:32:02.729Z"
   },
   {
    "duration": 1407,
    "start_time": "2022-05-27T14:32:24.026Z"
   },
   {
    "duration": 896,
    "start_time": "2022-05-27T14:32:25.435Z"
   },
   {
    "duration": 32,
    "start_time": "2022-05-27T14:32:26.332Z"
   },
   {
    "duration": 310,
    "start_time": "2022-05-27T14:32:26.366Z"
   },
   {
    "duration": 30,
    "start_time": "2022-05-27T14:32:26.678Z"
   },
   {
    "duration": 24,
    "start_time": "2022-05-27T14:32:26.709Z"
   },
   {
    "duration": 10,
    "start_time": "2022-05-27T14:32:26.735Z"
   },
   {
    "duration": 134940,
    "start_time": "2022-05-27T14:32:26.747Z"
   },
   {
    "duration": 15,
    "start_time": "2022-05-27T14:34:41.688Z"
   },
   {
    "duration": 61,
    "start_time": "2022-05-27T14:34:41.705Z"
   },
   {
    "duration": 1402,
    "start_time": "2022-05-27T14:35:09.688Z"
   },
   {
    "duration": 892,
    "start_time": "2022-05-27T14:35:11.094Z"
   },
   {
    "duration": 31,
    "start_time": "2022-05-27T14:35:11.988Z"
   },
   {
    "duration": 315,
    "start_time": "2022-05-27T14:35:12.021Z"
   },
   {
    "duration": 27,
    "start_time": "2022-05-27T14:35:12.338Z"
   },
   {
    "duration": 5,
    "start_time": "2022-05-27T14:35:12.367Z"
   },
   {
    "duration": 6,
    "start_time": "2022-05-27T14:35:12.373Z"
   },
   {
    "duration": 135247,
    "start_time": "2022-05-27T14:35:12.380Z"
   },
   {
    "duration": 13,
    "start_time": "2022-05-27T14:37:27.629Z"
   },
   {
    "duration": 66,
    "start_time": "2022-05-27T14:37:27.644Z"
   },
   {
    "duration": 129,
    "start_time": "2022-05-27T14:48:24.906Z"
   },
   {
    "duration": 1518,
    "start_time": "2022-05-27T14:48:38.783Z"
   },
   {
    "duration": 988,
    "start_time": "2022-05-27T14:48:40.304Z"
   },
   {
    "duration": 33,
    "start_time": "2022-05-27T14:48:41.294Z"
   },
   {
    "duration": 322,
    "start_time": "2022-05-27T14:48:41.330Z"
   },
   {
    "duration": 29,
    "start_time": "2022-05-27T14:48:41.654Z"
   },
   {
    "duration": 3,
    "start_time": "2022-05-27T14:48:41.694Z"
   },
   {
    "duration": 9,
    "start_time": "2022-05-27T14:48:41.699Z"
   },
   {
    "duration": 140195,
    "start_time": "2022-05-27T14:48:41.710Z"
   },
   {
    "duration": 12,
    "start_time": "2022-05-27T14:51:01.907Z"
   },
   {
    "duration": 82,
    "start_time": "2022-05-27T14:51:01.921Z"
   },
   {
    "duration": 142,
    "start_time": "2022-05-27T14:51:02.005Z"
   },
   {
    "duration": 5,
    "start_time": "2022-05-27T14:53:04.856Z"
   },
   {
    "duration": 5,
    "start_time": "2022-05-27T14:53:09.950Z"
   },
   {
    "duration": 2087,
    "start_time": "2022-05-27T14:53:41.353Z"
   },
   {
    "duration": 64,
    "start_time": "2022-05-27T14:54:45.509Z"
   },
   {
    "duration": 2053,
    "start_time": "2022-05-27T14:54:51.820Z"
   },
   {
    "duration": 2481,
    "start_time": "2022-05-27T14:54:53.875Z"
   },
   {
    "duration": 31,
    "start_time": "2022-05-27T14:54:56.358Z"
   },
   {
    "duration": 289,
    "start_time": "2022-05-27T14:54:56.392Z"
   },
   {
    "duration": 39,
    "start_time": "2022-05-27T14:54:56.683Z"
   },
   {
    "duration": 3,
    "start_time": "2022-05-27T14:54:56.724Z"
   },
   {
    "duration": 9,
    "start_time": "2022-05-27T14:54:56.729Z"
   },
   {
    "duration": 145736,
    "start_time": "2022-05-27T14:54:56.740Z"
   },
   {
    "duration": 17,
    "start_time": "2022-05-27T14:57:22.478Z"
   },
   {
    "duration": 59,
    "start_time": "2022-05-27T14:57:22.497Z"
   },
   {
    "duration": 2195,
    "start_time": "2022-05-27T14:57:22.558Z"
   },
   {
    "duration": 2004,
    "start_time": "2022-05-27T14:57:56.050Z"
   },
   {
    "duration": 2557,
    "start_time": "2022-05-27T14:57:58.058Z"
   },
   {
    "duration": 39,
    "start_time": "2022-05-27T14:58:00.618Z"
   },
   {
    "duration": 340,
    "start_time": "2022-05-27T14:58:00.659Z"
   },
   {
    "duration": 30,
    "start_time": "2022-05-27T14:58:01.002Z"
   },
   {
    "duration": 21,
    "start_time": "2022-05-27T14:58:01.034Z"
   },
   {
    "duration": 23,
    "start_time": "2022-05-27T14:58:01.057Z"
   },
   {
    "duration": 146352,
    "start_time": "2022-05-27T14:58:01.081Z"
   },
   {
    "duration": 16,
    "start_time": "2022-05-27T15:00:27.435Z"
   },
   {
    "duration": 72,
    "start_time": "2022-05-27T15:00:27.453Z"
   },
   {
    "duration": 2280,
    "start_time": "2022-05-27T15:00:27.527Z"
   },
   {
    "duration": 1482,
    "start_time": "2022-05-27T15:35:31.248Z"
   },
   {
    "duration": 1048,
    "start_time": "2022-05-27T15:35:32.732Z"
   },
   {
    "duration": 42,
    "start_time": "2022-05-27T15:35:33.782Z"
   },
   {
    "duration": 345,
    "start_time": "2022-05-27T15:35:33.826Z"
   },
   {
    "duration": 36,
    "start_time": "2022-05-27T15:35:34.173Z"
   },
   {
    "duration": 23,
    "start_time": "2022-05-27T15:35:34.211Z"
   },
   {
    "duration": 39,
    "start_time": "2022-05-27T15:35:34.236Z"
   },
   {
    "duration": 150471,
    "start_time": "2022-05-27T15:35:34.277Z"
   },
   {
    "duration": 12,
    "start_time": "2022-05-27T15:38:04.750Z"
   },
   {
    "duration": 72,
    "start_time": "2022-05-27T15:38:04.765Z"
   },
   {
    "duration": 2244,
    "start_time": "2022-05-27T15:38:04.839Z"
   },
   {
    "duration": 4,
    "start_time": "2022-05-27T15:42:23.689Z"
   },
   {
    "duration": 2078,
    "start_time": "2022-05-27T15:43:26.066Z"
   },
   {
    "duration": 2632,
    "start_time": "2022-05-27T15:43:28.147Z"
   },
   {
    "duration": 37,
    "start_time": "2022-05-27T15:43:30.781Z"
   },
   {
    "duration": 376,
    "start_time": "2022-05-27T15:43:30.820Z"
   },
   {
    "duration": 31,
    "start_time": "2022-05-27T15:43:31.199Z"
   },
   {
    "duration": 37,
    "start_time": "2022-05-27T15:43:31.232Z"
   },
   {
    "duration": 41,
    "start_time": "2022-05-27T15:43:31.272Z"
   },
   {
    "duration": 137131,
    "start_time": "2022-05-27T15:43:31.315Z"
   },
   {
    "duration": 11,
    "start_time": "2022-05-27T15:45:48.448Z"
   },
   {
    "duration": 70,
    "start_time": "2022-05-27T15:45:48.461Z"
   },
   {
    "duration": 2133,
    "start_time": "2022-05-27T15:45:48.533Z"
   },
   {
    "duration": 5,
    "start_time": "2022-05-27T15:45:50.667Z"
   },
   {
    "duration": 5,
    "start_time": "2022-05-27T15:48:18.468Z"
   },
   {
    "duration": 826,
    "start_time": "2022-05-27T15:52:35.154Z"
   },
   {
    "duration": 155,
    "start_time": "2022-05-27T15:55:58.117Z"
   },
   {
    "duration": 9311,
    "start_time": "2022-05-27T16:05:42.284Z"
   },
   {
    "duration": 1882,
    "start_time": "2022-05-27T16:10:09.679Z"
   },
   {
    "duration": 865,
    "start_time": "2022-05-27T16:10:11.563Z"
   },
   {
    "duration": 36,
    "start_time": "2022-05-27T16:10:12.430Z"
   },
   {
    "duration": 29,
    "start_time": "2022-05-27T16:10:12.470Z"
   },
   {
    "duration": 332,
    "start_time": "2022-05-27T16:10:12.501Z"
   },
   {
    "duration": 28,
    "start_time": "2022-05-27T16:10:12.835Z"
   },
   {
    "duration": 3,
    "start_time": "2022-05-27T16:10:12.865Z"
   },
   {
    "duration": 5,
    "start_time": "2022-05-27T16:10:12.870Z"
   },
   {
    "duration": 137486,
    "start_time": "2022-05-27T16:10:12.893Z"
   },
   {
    "duration": 18,
    "start_time": "2022-05-27T16:12:30.381Z"
   },
   {
    "duration": 63,
    "start_time": "2022-05-27T16:12:30.400Z"
   },
   {
    "duration": 2131,
    "start_time": "2022-05-27T16:12:30.465Z"
   },
   {
    "duration": 9417,
    "start_time": "2022-05-27T16:12:32.598Z"
   },
   {
    "duration": 151,
    "start_time": "2022-05-27T16:12:42.016Z"
   },
   {
    "duration": 0,
    "start_time": "2022-05-27T16:12:42.168Z"
   },
   {
    "duration": 0,
    "start_time": "2022-05-27T16:12:42.170Z"
   },
   {
    "duration": 0,
    "start_time": "2022-05-27T16:12:42.171Z"
   },
   {
    "duration": 0,
    "start_time": "2022-05-27T16:12:42.172Z"
   },
   {
    "duration": 0,
    "start_time": "2022-05-27T16:12:42.174Z"
   },
   {
    "duration": 8,
    "start_time": "2022-05-27T16:13:31.307Z"
   },
   {
    "duration": 4,
    "start_time": "2022-05-27T16:13:35.458Z"
   },
   {
    "duration": 3,
    "start_time": "2022-05-27T16:13:36.786Z"
   },
   {
    "duration": 2,
    "start_time": "2022-05-27T16:13:38.017Z"
   },
   {
    "duration": 5,
    "start_time": "2022-05-27T16:13:39.293Z"
   },
   {
    "duration": 0,
    "start_time": "2022-05-27T16:17:53.332Z"
   },
   {
    "duration": 0,
    "start_time": "2022-05-27T16:17:53.334Z"
   },
   {
    "duration": 250064,
    "start_time": "2022-05-27T16:17:59.336Z"
   },
   {
    "duration": 53601,
    "start_time": "2022-05-27T16:22:09.401Z"
   },
   {
    "duration": 7,
    "start_time": "2022-05-27T16:23:46.902Z"
   },
   {
    "duration": 53440,
    "start_time": "2022-05-27T16:23:49.558Z"
   },
   {
    "duration": 101523,
    "start_time": "2022-05-27T16:26:40.694Z"
   },
   {
    "duration": 13,
    "start_time": "2022-05-27T16:28:22.220Z"
   },
   {
    "duration": 8899,
    "start_time": "2022-05-27T16:29:44.619Z"
   },
   {
    "duration": 4,
    "start_time": "2022-05-27T16:30:39.797Z"
   },
   {
    "duration": 1892,
    "start_time": "2022-05-27T16:33:32.491Z"
   },
   {
    "duration": 857,
    "start_time": "2022-05-27T16:33:34.385Z"
   },
   {
    "duration": 37,
    "start_time": "2022-05-27T16:33:35.243Z"
   },
   {
    "duration": 21,
    "start_time": "2022-05-27T16:33:35.281Z"
   },
   {
    "duration": 342,
    "start_time": "2022-05-27T16:33:35.304Z"
   },
   {
    "duration": 31,
    "start_time": "2022-05-27T16:33:35.648Z"
   },
   {
    "duration": 14,
    "start_time": "2022-05-27T16:33:35.681Z"
   },
   {
    "duration": 7,
    "start_time": "2022-05-27T16:33:35.697Z"
   },
   {
    "duration": 137718,
    "start_time": "2022-05-27T16:33:35.706Z"
   },
   {
    "duration": 11,
    "start_time": "2022-05-27T16:35:53.426Z"
   },
   {
    "duration": 68,
    "start_time": "2022-05-27T16:35:53.439Z"
   },
   {
    "duration": 2036,
    "start_time": "2022-05-27T16:35:53.509Z"
   },
   {
    "duration": 9712,
    "start_time": "2022-05-27T16:35:55.547Z"
   },
   {
    "duration": 2,
    "start_time": "2022-05-27T16:36:05.262Z"
   },
   {
    "duration": 9,
    "start_time": "2022-05-27T16:36:05.266Z"
   },
   {
    "duration": 6,
    "start_time": "2022-05-27T16:36:05.276Z"
   },
   {
    "duration": 12,
    "start_time": "2022-05-27T16:36:05.283Z"
   },
   {
    "duration": 6405,
    "start_time": "2022-05-31T14:43:48.304Z"
   },
   {
    "duration": 162,
    "start_time": "2022-05-31T14:43:54.712Z"
   },
   {
    "duration": 2412,
    "start_time": "2022-05-31T14:44:08.886Z"
   },
   {
    "duration": 751,
    "start_time": "2022-05-31T14:44:33.669Z"
   },
   {
    "duration": 30,
    "start_time": "2022-05-31T14:44:34.422Z"
   },
   {
    "duration": 10,
    "start_time": "2022-05-31T14:44:35.839Z"
   },
   {
    "duration": 7,
    "start_time": "2022-05-31T14:45:31.969Z"
   },
   {
    "duration": 276,
    "start_time": "2022-05-31T14:45:34.561Z"
   },
   {
    "duration": 22,
    "start_time": "2022-05-31T14:45:34.839Z"
   },
   {
    "duration": 3,
    "start_time": "2022-05-31T14:45:37.773Z"
   },
   {
    "duration": 1339,
    "start_time": "2022-05-31T14:46:12.316Z"
   },
   {
    "duration": 4,
    "start_time": "2022-05-31T14:46:18.020Z"
   },
   {
    "duration": 128650,
    "start_time": "2022-05-31T14:47:14.629Z"
   },
   {
    "duration": 14,
    "start_time": "2022-05-31T14:49:23.281Z"
   },
   {
    "duration": 4520,
    "start_time": "2022-05-31T14:54:39.311Z"
   },
   {
    "duration": 146,
    "start_time": "2022-05-31T14:54:43.833Z"
   },
   {
    "duration": 0,
    "start_time": "2022-05-31T14:54:43.980Z"
   },
   {
    "duration": 2337,
    "start_time": "2022-05-31T14:54:50.868Z"
   },
   {
    "duration": 31,
    "start_time": "2022-05-31T14:54:53.207Z"
   },
   {
    "duration": 10,
    "start_time": "2022-05-31T14:54:53.240Z"
   },
   {
    "duration": 300,
    "start_time": "2022-05-31T14:54:53.252Z"
   },
   {
    "duration": 21,
    "start_time": "2022-05-31T14:54:53.554Z"
   },
   {
    "duration": 4,
    "start_time": "2022-05-31T14:54:54.300Z"
   },
   {
    "duration": 64892,
    "start_time": "2022-05-31T14:54:55.120Z"
   },
   {
    "duration": 13,
    "start_time": "2022-05-31T14:56:00.014Z"
   },
   {
    "duration": 747,
    "start_time": "2022-05-31T14:56:00.029Z"
   },
   {
    "duration": 135455,
    "start_time": "2022-05-31T14:56:02.302Z"
   },
   {
    "duration": 12,
    "start_time": "2022-05-31T14:58:24.017Z"
   },
   {
    "duration": 7066,
    "start_time": "2022-05-31T14:58:28.425Z"
   },
   {
    "duration": 3,
    "start_time": "2022-05-31T14:58:42.355Z"
   },
   {
    "duration": 2,
    "start_time": "2022-05-31T14:58:45.147Z"
   },
   {
    "duration": 3,
    "start_time": "2022-05-31T14:58:45.517Z"
   },
   {
    "duration": 4,
    "start_time": "2022-05-31T14:58:47.992Z"
   },
   {
    "duration": 262505,
    "start_time": "2022-05-31T14:58:52.025Z"
   },
   {
    "duration": 53610,
    "start_time": "2022-05-31T15:04:01.127Z"
   },
   {
    "duration": 6987,
    "start_time": "2022-05-31T17:51:15.813Z"
   },
   {
    "duration": 34,
    "start_time": "2022-05-31T17:53:14.228Z"
   },
   {
    "duration": 2444,
    "start_time": "2022-05-31T17:53:21.001Z"
   }
  ],
  "kernelspec": {
   "display_name": "Python 3 (ipykernel)",
   "language": "python",
   "name": "python3"
  },
  "language_info": {
   "codemirror_mode": {
    "name": "ipython",
    "version": 3
   },
   "file_extension": ".py",
   "mimetype": "text/x-python",
   "name": "python",
   "nbconvert_exporter": "python",
   "pygments_lexer": "ipython3",
   "version": "3.9.12"
  },
  "toc": {
   "base_numbering": 1,
   "nav_menu": {},
   "number_sections": true,
   "sideBar": true,
   "skip_h1_title": true,
   "title_cell": "Содержание",
   "title_sidebar": "Contents",
   "toc_cell": true,
   "toc_position": {
    "height": "calc(100% - 180px)",
    "left": "10px",
    "top": "150px",
    "width": "302.391px"
   },
   "toc_section_display": true,
   "toc_window_display": false
  }
 },
 "nbformat": 4,
 "nbformat_minor": 2
}
