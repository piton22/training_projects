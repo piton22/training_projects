{
 "cells": [
  {
   "cell_type": "markdown",
   "metadata": {},
   "source": [
    "# Определение стоимости автомобилей"
   ]
  },
  {
   "cell_type": "markdown",
   "metadata": {},
   "source": [
    "Сервис по продаже подержанных автомобилей разрабатывает приложение для привлечения новых клиентов. С помощью приложения можно узнать рыночную стоимость своего автомобиля. Нам предоставлены исторические данные об автомобилях: технические характеристики, комплектации и цены.\n",
    "\n",
    "Заказчику важны:\n",
    "\n",
    "- качество предсказания;\n",
    "- скорость предсказания;\n",
    "- время обучения."
   ]
  },
  {
   "cell_type": "markdown",
   "metadata": {},
   "source": [
    "## Подготовка данных"
   ]
  },
  {
   "cell_type": "code",
   "execution_count": 31,
   "metadata": {},
   "outputs": [],
   "source": [
    "#импортируем нужные библиотеки\n",
    "import pandas as pd\n",
    "import matplotlib\n",
    "import numpy as np\n",
    "from matplotlib import pyplot as plt\n",
    "from sklearn.model_selection import train_test_split\n",
    "from sklearn.preprocessing import StandardScaler\n",
    "from sklearn.metrics import mean_squared_error\n",
    "from sklearn.linear_model import LinearRegression\n",
    "from sklearn.tree import DecisionTreeRegressor\n",
    "from sklearn.ensemble import RandomForestRegressor\n",
    "from sklearn.metrics import make_scorer\n",
    "from lightgbm import LGBMRegressor \n",
    "from catboost import CatBoostRegressor\n",
    "from sklearn.preprocessing import OrdinalEncoder\n",
    "from sklearn.model_selection import StratifiedKFold\n",
    "from sklearn.model_selection import cross_val_score\n",
    "from sklearn.model_selection import TimeSeriesSplit, GridSearchCV\n",
    "import time \n",
    "\n",
    "#давим варнинги\n",
    "from warnings import simplefilter\n",
    "simplefilter(action='ignore', category=FutureWarning)"
   ]
  },
  {
   "cell_type": "code",
   "execution_count": 32,
   "metadata": {},
   "outputs": [
    {
     "name": "stdout",
     "output_type": "stream",
     "text": [
      "<class 'pandas.core.frame.DataFrame'>\n",
      "RangeIndex: 354369 entries, 0 to 354368\n",
      "Data columns (total 16 columns):\n",
      " #   Column             Non-Null Count   Dtype \n",
      "---  ------             --------------   ----- \n",
      " 0   DateCrawled        354369 non-null  object\n",
      " 1   Price              354369 non-null  int64 \n",
      " 2   VehicleType        316879 non-null  object\n",
      " 3   RegistrationYear   354369 non-null  int64 \n",
      " 4   Gearbox            334536 non-null  object\n",
      " 5   Power              354369 non-null  int64 \n",
      " 6   Model              334664 non-null  object\n",
      " 7   Kilometer          354369 non-null  int64 \n",
      " 8   RegistrationMonth  354369 non-null  int64 \n",
      " 9   FuelType           321474 non-null  object\n",
      " 10  Brand              354369 non-null  object\n",
      " 11  NotRepaired        283215 non-null  object\n",
      " 12  DateCreated        354369 non-null  object\n",
      " 13  NumberOfPictures   354369 non-null  int64 \n",
      " 14  PostalCode         354369 non-null  int64 \n",
      " 15  LastSeen           354369 non-null  object\n",
      "dtypes: int64(7), object(9)\n",
      "memory usage: 43.3+ MB\n"
     ]
    }
   ],
   "source": [
    "#открываем и изучаем данные\n",
    "df = pd.read_csv('/datasets/autos.csv')\n",
    "df.info()"
   ]
  },
  {
   "cell_type": "code",
   "execution_count": 33,
   "metadata": {
    "scrolled": false
   },
   "outputs": [
    {
     "data": {
      "text/html": [
       "<div>\n",
       "<style scoped>\n",
       "    .dataframe tbody tr th:only-of-type {\n",
       "        vertical-align: middle;\n",
       "    }\n",
       "\n",
       "    .dataframe tbody tr th {\n",
       "        vertical-align: top;\n",
       "    }\n",
       "\n",
       "    .dataframe thead th {\n",
       "        text-align: right;\n",
       "    }\n",
       "</style>\n",
       "<table border=\"1\" class=\"dataframe\">\n",
       "  <thead>\n",
       "    <tr style=\"text-align: right;\">\n",
       "      <th></th>\n",
       "      <th>DateCrawled</th>\n",
       "      <th>Price</th>\n",
       "      <th>VehicleType</th>\n",
       "      <th>RegistrationYear</th>\n",
       "      <th>Gearbox</th>\n",
       "      <th>Power</th>\n",
       "      <th>Model</th>\n",
       "      <th>Kilometer</th>\n",
       "      <th>RegistrationMonth</th>\n",
       "      <th>FuelType</th>\n",
       "      <th>Brand</th>\n",
       "      <th>NotRepaired</th>\n",
       "      <th>DateCreated</th>\n",
       "      <th>NumberOfPictures</th>\n",
       "      <th>PostalCode</th>\n",
       "      <th>LastSeen</th>\n",
       "    </tr>\n",
       "  </thead>\n",
       "  <tbody>\n",
       "    <tr>\n",
       "      <th>0</th>\n",
       "      <td>2016-03-24 11:52:17</td>\n",
       "      <td>480</td>\n",
       "      <td>NaN</td>\n",
       "      <td>1993</td>\n",
       "      <td>manual</td>\n",
       "      <td>0</td>\n",
       "      <td>golf</td>\n",
       "      <td>150000</td>\n",
       "      <td>0</td>\n",
       "      <td>petrol</td>\n",
       "      <td>volkswagen</td>\n",
       "      <td>NaN</td>\n",
       "      <td>2016-03-24 00:00:00</td>\n",
       "      <td>0</td>\n",
       "      <td>70435</td>\n",
       "      <td>2016-04-07 03:16:57</td>\n",
       "    </tr>\n",
       "    <tr>\n",
       "      <th>1</th>\n",
       "      <td>2016-03-24 10:58:45</td>\n",
       "      <td>18300</td>\n",
       "      <td>coupe</td>\n",
       "      <td>2011</td>\n",
       "      <td>manual</td>\n",
       "      <td>190</td>\n",
       "      <td>NaN</td>\n",
       "      <td>125000</td>\n",
       "      <td>5</td>\n",
       "      <td>gasoline</td>\n",
       "      <td>audi</td>\n",
       "      <td>yes</td>\n",
       "      <td>2016-03-24 00:00:00</td>\n",
       "      <td>0</td>\n",
       "      <td>66954</td>\n",
       "      <td>2016-04-07 01:46:50</td>\n",
       "    </tr>\n",
       "    <tr>\n",
       "      <th>2</th>\n",
       "      <td>2016-03-14 12:52:21</td>\n",
       "      <td>9800</td>\n",
       "      <td>suv</td>\n",
       "      <td>2004</td>\n",
       "      <td>auto</td>\n",
       "      <td>163</td>\n",
       "      <td>grand</td>\n",
       "      <td>125000</td>\n",
       "      <td>8</td>\n",
       "      <td>gasoline</td>\n",
       "      <td>jeep</td>\n",
       "      <td>NaN</td>\n",
       "      <td>2016-03-14 00:00:00</td>\n",
       "      <td>0</td>\n",
       "      <td>90480</td>\n",
       "      <td>2016-04-05 12:47:46</td>\n",
       "    </tr>\n",
       "    <tr>\n",
       "      <th>3</th>\n",
       "      <td>2016-03-17 16:54:04</td>\n",
       "      <td>1500</td>\n",
       "      <td>small</td>\n",
       "      <td>2001</td>\n",
       "      <td>manual</td>\n",
       "      <td>75</td>\n",
       "      <td>golf</td>\n",
       "      <td>150000</td>\n",
       "      <td>6</td>\n",
       "      <td>petrol</td>\n",
       "      <td>volkswagen</td>\n",
       "      <td>no</td>\n",
       "      <td>2016-03-17 00:00:00</td>\n",
       "      <td>0</td>\n",
       "      <td>91074</td>\n",
       "      <td>2016-03-17 17:40:17</td>\n",
       "    </tr>\n",
       "    <tr>\n",
       "      <th>4</th>\n",
       "      <td>2016-03-31 17:25:20</td>\n",
       "      <td>3600</td>\n",
       "      <td>small</td>\n",
       "      <td>2008</td>\n",
       "      <td>manual</td>\n",
       "      <td>69</td>\n",
       "      <td>fabia</td>\n",
       "      <td>90000</td>\n",
       "      <td>7</td>\n",
       "      <td>gasoline</td>\n",
       "      <td>skoda</td>\n",
       "      <td>no</td>\n",
       "      <td>2016-03-31 00:00:00</td>\n",
       "      <td>0</td>\n",
       "      <td>60437</td>\n",
       "      <td>2016-04-06 10:17:21</td>\n",
       "    </tr>\n",
       "    <tr>\n",
       "      <th>...</th>\n",
       "      <td>...</td>\n",
       "      <td>...</td>\n",
       "      <td>...</td>\n",
       "      <td>...</td>\n",
       "      <td>...</td>\n",
       "      <td>...</td>\n",
       "      <td>...</td>\n",
       "      <td>...</td>\n",
       "      <td>...</td>\n",
       "      <td>...</td>\n",
       "      <td>...</td>\n",
       "      <td>...</td>\n",
       "      <td>...</td>\n",
       "      <td>...</td>\n",
       "      <td>...</td>\n",
       "      <td>...</td>\n",
       "    </tr>\n",
       "    <tr>\n",
       "      <th>354364</th>\n",
       "      <td>2016-03-21 09:50:58</td>\n",
       "      <td>0</td>\n",
       "      <td>NaN</td>\n",
       "      <td>2005</td>\n",
       "      <td>manual</td>\n",
       "      <td>0</td>\n",
       "      <td>colt</td>\n",
       "      <td>150000</td>\n",
       "      <td>7</td>\n",
       "      <td>petrol</td>\n",
       "      <td>mitsubishi</td>\n",
       "      <td>yes</td>\n",
       "      <td>2016-03-21 00:00:00</td>\n",
       "      <td>0</td>\n",
       "      <td>2694</td>\n",
       "      <td>2016-03-21 10:42:49</td>\n",
       "    </tr>\n",
       "    <tr>\n",
       "      <th>354365</th>\n",
       "      <td>2016-03-14 17:48:27</td>\n",
       "      <td>2200</td>\n",
       "      <td>NaN</td>\n",
       "      <td>2005</td>\n",
       "      <td>NaN</td>\n",
       "      <td>0</td>\n",
       "      <td>NaN</td>\n",
       "      <td>20000</td>\n",
       "      <td>1</td>\n",
       "      <td>NaN</td>\n",
       "      <td>sonstige_autos</td>\n",
       "      <td>NaN</td>\n",
       "      <td>2016-03-14 00:00:00</td>\n",
       "      <td>0</td>\n",
       "      <td>39576</td>\n",
       "      <td>2016-04-06 00:46:52</td>\n",
       "    </tr>\n",
       "    <tr>\n",
       "      <th>354366</th>\n",
       "      <td>2016-03-05 19:56:21</td>\n",
       "      <td>1199</td>\n",
       "      <td>convertible</td>\n",
       "      <td>2000</td>\n",
       "      <td>auto</td>\n",
       "      <td>101</td>\n",
       "      <td>fortwo</td>\n",
       "      <td>125000</td>\n",
       "      <td>3</td>\n",
       "      <td>petrol</td>\n",
       "      <td>smart</td>\n",
       "      <td>no</td>\n",
       "      <td>2016-03-05 00:00:00</td>\n",
       "      <td>0</td>\n",
       "      <td>26135</td>\n",
       "      <td>2016-03-11 18:17:12</td>\n",
       "    </tr>\n",
       "    <tr>\n",
       "      <th>354367</th>\n",
       "      <td>2016-03-19 18:57:12</td>\n",
       "      <td>9200</td>\n",
       "      <td>bus</td>\n",
       "      <td>1996</td>\n",
       "      <td>manual</td>\n",
       "      <td>102</td>\n",
       "      <td>transporter</td>\n",
       "      <td>150000</td>\n",
       "      <td>3</td>\n",
       "      <td>gasoline</td>\n",
       "      <td>volkswagen</td>\n",
       "      <td>no</td>\n",
       "      <td>2016-03-19 00:00:00</td>\n",
       "      <td>0</td>\n",
       "      <td>87439</td>\n",
       "      <td>2016-04-07 07:15:26</td>\n",
       "    </tr>\n",
       "    <tr>\n",
       "      <th>354368</th>\n",
       "      <td>2016-03-20 19:41:08</td>\n",
       "      <td>3400</td>\n",
       "      <td>wagon</td>\n",
       "      <td>2002</td>\n",
       "      <td>manual</td>\n",
       "      <td>100</td>\n",
       "      <td>golf</td>\n",
       "      <td>150000</td>\n",
       "      <td>6</td>\n",
       "      <td>gasoline</td>\n",
       "      <td>volkswagen</td>\n",
       "      <td>NaN</td>\n",
       "      <td>2016-03-20 00:00:00</td>\n",
       "      <td>0</td>\n",
       "      <td>40764</td>\n",
       "      <td>2016-03-24 12:45:21</td>\n",
       "    </tr>\n",
       "  </tbody>\n",
       "</table>\n",
       "<p>354369 rows × 16 columns</p>\n",
       "</div>"
      ],
      "text/plain": [
       "                DateCrawled  Price  VehicleType  RegistrationYear Gearbox  \\\n",
       "0       2016-03-24 11:52:17    480          NaN              1993  manual   \n",
       "1       2016-03-24 10:58:45  18300        coupe              2011  manual   \n",
       "2       2016-03-14 12:52:21   9800          suv              2004    auto   \n",
       "3       2016-03-17 16:54:04   1500        small              2001  manual   \n",
       "4       2016-03-31 17:25:20   3600        small              2008  manual   \n",
       "...                     ...    ...          ...               ...     ...   \n",
       "354364  2016-03-21 09:50:58      0          NaN              2005  manual   \n",
       "354365  2016-03-14 17:48:27   2200          NaN              2005     NaN   \n",
       "354366  2016-03-05 19:56:21   1199  convertible              2000    auto   \n",
       "354367  2016-03-19 18:57:12   9200          bus              1996  manual   \n",
       "354368  2016-03-20 19:41:08   3400        wagon              2002  manual   \n",
       "\n",
       "        Power        Model  Kilometer  RegistrationMonth  FuelType  \\\n",
       "0           0         golf     150000                  0    petrol   \n",
       "1         190          NaN     125000                  5  gasoline   \n",
       "2         163        grand     125000                  8  gasoline   \n",
       "3          75         golf     150000                  6    petrol   \n",
       "4          69        fabia      90000                  7  gasoline   \n",
       "...       ...          ...        ...                ...       ...   \n",
       "354364      0         colt     150000                  7    petrol   \n",
       "354365      0          NaN      20000                  1       NaN   \n",
       "354366    101       fortwo     125000                  3    petrol   \n",
       "354367    102  transporter     150000                  3  gasoline   \n",
       "354368    100         golf     150000                  6  gasoline   \n",
       "\n",
       "                 Brand NotRepaired          DateCreated  NumberOfPictures  \\\n",
       "0           volkswagen         NaN  2016-03-24 00:00:00                 0   \n",
       "1                 audi         yes  2016-03-24 00:00:00                 0   \n",
       "2                 jeep         NaN  2016-03-14 00:00:00                 0   \n",
       "3           volkswagen          no  2016-03-17 00:00:00                 0   \n",
       "4                skoda          no  2016-03-31 00:00:00                 0   \n",
       "...                ...         ...                  ...               ...   \n",
       "354364      mitsubishi         yes  2016-03-21 00:00:00                 0   \n",
       "354365  sonstige_autos         NaN  2016-03-14 00:00:00                 0   \n",
       "354366           smart          no  2016-03-05 00:00:00                 0   \n",
       "354367      volkswagen          no  2016-03-19 00:00:00                 0   \n",
       "354368      volkswagen         NaN  2016-03-20 00:00:00                 0   \n",
       "\n",
       "        PostalCode             LastSeen  \n",
       "0            70435  2016-04-07 03:16:57  \n",
       "1            66954  2016-04-07 01:46:50  \n",
       "2            90480  2016-04-05 12:47:46  \n",
       "3            91074  2016-03-17 17:40:17  \n",
       "4            60437  2016-04-06 10:17:21  \n",
       "...            ...                  ...  \n",
       "354364        2694  2016-03-21 10:42:49  \n",
       "354365       39576  2016-04-06 00:46:52  \n",
       "354366       26135  2016-03-11 18:17:12  \n",
       "354367       87439  2016-04-07 07:15:26  \n",
       "354368       40764  2016-03-24 12:45:21  \n",
       "\n",
       "[354369 rows x 16 columns]"
      ]
     },
     "metadata": {},
     "output_type": "display_data"
    }
   ],
   "source": [
    "display(df)"
   ]
  },
  {
   "cell_type": "code",
   "execution_count": 34,
   "metadata": {
    "scrolled": true
   },
   "outputs": [
    {
     "data": {
      "text/plain": [
       "DateCrawled              0\n",
       "Price                    0\n",
       "VehicleType          37490\n",
       "RegistrationYear         0\n",
       "Gearbox              19833\n",
       "Power                    0\n",
       "Model                19705\n",
       "Kilometer                0\n",
       "RegistrationMonth        0\n",
       "FuelType             32895\n",
       "Brand                    0\n",
       "NotRepaired          71154\n",
       "DateCreated              0\n",
       "NumberOfPictures         0\n",
       "PostalCode               0\n",
       "LastSeen                 0\n",
       "dtype: int64"
      ]
     },
     "execution_count": 34,
     "metadata": {},
     "output_type": "execute_result"
    }
   ],
   "source": [
    "#проверяем на пропуски\n",
    "df.isna().sum()"
   ]
  },
  {
   "cell_type": "code",
   "execution_count": 35,
   "metadata": {
    "scrolled": true
   },
   "outputs": [
    {
     "data": {
      "text/plain": [
       "4"
      ]
     },
     "execution_count": 35,
     "metadata": {},
     "output_type": "execute_result"
    }
   ],
   "source": [
    "#проверяем на дубликаты\n",
    "df.duplicated().sum()\n",
    "\n",
    "#удаляем дубликаты\n",
    "df = df.drop_duplicates().reset_index(drop=True)"
   ]
  },
  {
   "cell_type": "markdown",
   "metadata": {},
   "source": [
    "**Исследование признаков**"
   ]
  },
  {
   "cell_type": "code",
   "execution_count": 37,
   "metadata": {
    "scrolled": false
   },
   "outputs": [
    {
     "data": {
      "image/png": "[encoded data removed]",
      "text/plain": [
       "<Figure size 720x720 with 2 Axes>"
      ]
     },
     "metadata": {
      "needs_background": "light"
     },
     "output_type": "display_data"
    },
    {
     "data": {
      "text/plain": [
       "count    354365.000000\n",
       "mean       4416.679830\n",
       "std        4514.176349\n",
       "min           0.000000\n",
       "25%        1050.000000\n",
       "50%        2700.000000\n",
       "75%        6400.000000\n",
       "max       20000.000000\n",
       "Name: Price, dtype: float64"
      ]
     },
     "execution_count": 37,
     "metadata": {},
     "output_type": "execute_result"
    }
   ],
   "source": [
    "#строим распределение \n",
    "plt.figure(figsize=(10, 10))\n",
    "plt.subplot(211)\n",
    "plt.hist(df['Price'], bins=30,range=(0,20000))\n",
    "plt.title('Распределение цены')\n",
    "plt.xlabel('Цена, евро')\n",
    "plt.ylabel('Частота')\n",
    "\n",
    "plt.subplot(212)\n",
    "plt.hist(df['Price'], bins=30,range=(0,200))\n",
    "plt.title('Распределение цены в интервале от 0 до 200 евро')\n",
    "plt.xlabel('Цена, евро')\n",
    "plt.ylabel('Частота')\n",
    "plt.show()\n",
    "df['Price'].describe()"
   ]
  },
  {
   "cell_type": "markdown",
   "metadata": {},
   "source": [
    "В распределении цены присутствуют большое число значений в районе 0 (более 3%). Эти значения не правдоподобны и могут снизить эффективность предсказаний, поэтому отфильтровываем их."
   ]
  },
  {
   "cell_type": "code",
   "execution_count": 38,
   "metadata": {},
   "outputs": [],
   "source": [
    "#удаляем выбросы\n",
    "df_clear = df.query('Price > 1')"
   ]
  },
  {
   "cell_type": "code",
   "execution_count": 39,
   "metadata": {},
   "outputs": [
    {
     "data": {
      "text/plain": [
       "0.9662466665726017"
      ]
     },
     "execution_count": 39,
     "metadata": {},
     "output_type": "execute_result"
    }
   ],
   "source": [
    "df_clear.shape[0] / df.shape[0]"
   ]
  },
  {
   "cell_type": "code",
   "execution_count": 40,
   "metadata": {},
   "outputs": [
    {
     "data": {
      "text/plain": [
       "sedan          0.288622\n",
       "small          0.251929\n",
       "wagon          0.205649\n",
       "bus            0.090809\n",
       "convertible    0.063757\n",
       "coupe          0.051001\n",
       "suv            0.037857\n",
       "other          0.010376\n",
       "Name: VehicleType, dtype: float64"
      ]
     },
     "execution_count": 40,
     "metadata": {},
     "output_type": "execute_result"
    }
   ],
   "source": [
    "df['VehicleType'].value_counts(normalize=True)"
   ]
  },
  {
   "cell_type": "code",
   "execution_count": 41,
   "metadata": {},
   "outputs": [
    {
     "data": {
      "image/png": "[encoded data removed]",
      "text/plain": [
       "<Figure size 864x504 with 1 Axes>"
      ]
     },
     "metadata": {
      "needs_background": "light"
     },
     "output_type": "display_data"
    },
    {
     "data": {
      "text/plain": [
       "count    354365.000000\n",
       "mean       2004.234481\n",
       "std          90.228466\n",
       "min        1000.000000\n",
       "25%        1999.000000\n",
       "50%        2003.000000\n",
       "75%        2008.000000\n",
       "max        9999.000000\n",
       "Name: RegistrationYear, dtype: float64"
      ]
     },
     "execution_count": 41,
     "metadata": {},
     "output_type": "execute_result"
    }
   ],
   "source": [
    "plt.figure(figsize=(12, 7))\n",
    "plt.hist(df['RegistrationYear'],bins=50, range=(1950,2022))\n",
    "plt.title('Распределение по году регистрации')\n",
    "plt.xlabel('Год')\n",
    "plt.ylabel('Частота')\n",
    "plt.show()\n",
    "df['RegistrationYear'].describe()"
   ]
  },
  {
   "cell_type": "code",
   "execution_count": 42,
   "metadata": {},
   "outputs": [
    {
     "data": {
      "text/plain": [
       "'2016-04-07 14:36:58'"
      ]
     },
     "execution_count": 42,
     "metadata": {},
     "output_type": "execute_result"
    }
   ],
   "source": [
    "df['DateCrawled'].max()"
   ]
  },
  {
   "cell_type": "code",
   "execution_count": 43,
   "metadata": {},
   "outputs": [
    {
     "name": "stdout",
     "output_type": "stream",
     "text": [
      "0.9594338851181645\n"
     ]
    }
   ],
   "source": [
    "x = df_clear.query('1950 < RegistrationYear <= 2016')\n",
    "print(x.shape[0] / df_clear.shape[0])\n",
    "df_clear = x"
   ]
  },
  {
   "cell_type": "markdown",
   "metadata": {},
   "source": [
    "В данных по годам регистрации присутствуют аномальные значения, отфильтровываем их. Исходя из анкет, данные получены не позднее 2016 года, значит значения позднее 2016 ошибочны, - фильтруем их. "
   ]
  },
  {
   "cell_type": "code",
   "execution_count": 44,
   "metadata": {},
   "outputs": [
    {
     "data": {
      "text/plain": [
       "manual    0.801863\n",
       "auto      0.198137\n",
       "Name: Gearbox, dtype: float64"
      ]
     },
     "execution_count": 44,
     "metadata": {},
     "output_type": "execute_result"
    }
   ],
   "source": [
    "df['Gearbox'].value_counts(normalize=True)"
   ]
  },
  {
   "cell_type": "code",
   "execution_count": 45,
   "metadata": {
    "scrolled": false
   },
   "outputs": [
    {
     "data": {
      "image/png": "[encoded data removed]",
      "text/plain": [
       "<Figure size 864x504 with 1 Axes>"
      ]
     },
     "metadata": {
      "needs_background": "light"
     },
     "output_type": "display_data"
    },
    {
     "data": {
      "text/plain": [
       "count    354365.000000\n",
       "mean        110.093816\n",
       "std         189.851330\n",
       "min           0.000000\n",
       "25%          69.000000\n",
       "50%         105.000000\n",
       "75%         143.000000\n",
       "max       20000.000000\n",
       "Name: Power, dtype: float64"
      ]
     },
     "execution_count": 45,
     "metadata": {},
     "output_type": "execute_result"
    }
   ],
   "source": [
    "plt.figure(figsize=(12, 7))\n",
    "plt.hist(df['Power'], bins=50, range=(0,500))\n",
    "plt.title('Распределение мощностей')\n",
    "plt.xlabel('Мощность, л.с.')\n",
    "plt.ylabel('Частота')\n",
    "plt.show()\n",
    "df['Power'].describe()"
   ]
  },
  {
   "cell_type": "markdown",
   "metadata": {},
   "source": [
    "Значения ниже 10 л.с. кажутся подозрительными. Значения выше 400 практически не встречаются, но могут исказить оценку. Однако мы не можем их отфильтровать, т.к. таких значений более 10%. Вероятно, нулевые значения означают отсутствие информации о мощности авто. Т.к. у одинаковых моделей авто примерно одна мощность, целесообразно заменить аномальные значения медианой по модели."
   ]
  },
  {
   "cell_type": "code",
   "execution_count": 46,
   "metadata": {
    "scrolled": true
   },
   "outputs": [
    {
     "name": "stdout",
     "output_type": "stream",
     "text": [
      "0.8988170975970583\n"
     ]
    }
   ],
   "source": [
    "x = df_clear.query('10 < Power < 400').shape[0]\n",
    "print(x / df_clear.shape[0])"
   ]
  },
  {
   "cell_type": "code",
   "execution_count": 47,
   "metadata": {
    "scrolled": false
   },
   "outputs": [
    {
     "name": "stdout",
     "output_type": "stream",
     "text": [
      "<class 'pandas.core.frame.DataFrame'>\n",
      "Int64Index: 328514 entries, 0 to 354364\n",
      "Data columns (total 16 columns):\n",
      " #   Column             Non-Null Count   Dtype  \n",
      "---  ------             --------------   -----  \n",
      " 0   DateCrawled        328514 non-null  object \n",
      " 1   Price              328514 non-null  int64  \n",
      " 2   VehicleType        309009 non-null  object \n",
      " 3   RegistrationYear   328514 non-null  int64  \n",
      " 4   Gearbox            313313 non-null  object \n",
      " 5   Power              295331 non-null  float64\n",
      " 6   Model              313166 non-null  object \n",
      " 7   Kilometer          328514 non-null  int64  \n",
      " 8   RegistrationMonth  328514 non-null  int64  \n",
      " 9   FuelType           304798 non-null  object \n",
      " 10  Brand              328514 non-null  object \n",
      " 11  NotRepaired        269302 non-null  object \n",
      " 12  DateCreated        328514 non-null  object \n",
      " 13  NumberOfPictures   328514 non-null  int64  \n",
      " 14  PostalCode         328514 non-null  int64  \n",
      " 15  LastSeen           328514 non-null  object \n",
      "dtypes: float64(1), int64(6), object(9)\n",
      "memory usage: 42.6+ MB\n"
     ]
    }
   ],
   "source": [
    "df_clear.loc[(df_clear['Power'] < 10)|(df_clear['Power'] > 400) , 'Power'] = np.nan\n",
    "df_clear.info()"
   ]
  },
  {
   "cell_type": "code",
   "execution_count": 18,
   "metadata": {},
   "outputs": [
    {
     "data": {
      "text/plain": [
       "0.013414953396202293"
      ]
     },
     "execution_count": 18,
     "metadata": {},
     "output_type": "execute_result"
    }
   ],
   "source": [
    "df_clear['Power'] = df_clear['Power'].fillna(df_clear.groupby('Model')['Power'].transform('median'))\n",
    "df_clear['Power'].isna().mean()"
   ]
  },
  {
   "cell_type": "markdown",
   "metadata": {},
   "source": [
    "Т.к. в столбце 'Model' присутствуют пропуски, некоторые пропуски в 'Power' на основе модели заполнить не удалось (в столбце осталось 1.3% пропусков). Заполняем оставшиеся пропуски медианой по всему столбцу. Т.к. пропусков мало, общая картина не исказится."
   ]
  },
  {
   "cell_type": "code",
   "execution_count": 19,
   "metadata": {},
   "outputs": [
    {
     "data": {
      "text/plain": [
       "0.0"
      ]
     },
     "execution_count": 19,
     "metadata": {},
     "output_type": "execute_result"
    }
   ],
   "source": [
    "df_clear['Power'] = df_clear['Power'].fillna(df_clear['Power'].median())\n",
    "df_clear['Power'].isna().mean()"
   ]
  },
  {
   "cell_type": "code",
   "execution_count": 20,
   "metadata": {
    "scrolled": false
   },
   "outputs": [
    {
     "data": {
      "image/png": "[encoded data removed]",
      "text/plain": [
       "<Figure size 864x504 with 1 Axes>"
      ]
     },
     "metadata": {
      "needs_background": "light"
     },
     "output_type": "display_data"
    },
    {
     "data": {
      "text/plain": [
       "count    354365.000000\n",
       "mean     128211.363989\n",
       "std       37905.083858\n",
       "min        5000.000000\n",
       "25%      125000.000000\n",
       "50%      150000.000000\n",
       "75%      150000.000000\n",
       "max      150000.000000\n",
       "Name: Kilometer, dtype: float64"
      ]
     },
     "execution_count": 20,
     "metadata": {},
     "output_type": "execute_result"
    }
   ],
   "source": [
    "plt.figure(figsize=(12, 7))\n",
    "plt.hist(df['Kilometer'], bins=20)\n",
    "plt.title('Распределение пробега')\n",
    "plt.xlabel('Пробег, км')\n",
    "plt.ylabel('Частота')\n",
    "plt.show()\n",
    "df['Kilometer'].describe()"
   ]
  },
  {
   "cell_type": "code",
   "execution_count": 21,
   "metadata": {},
   "outputs": [
    {
     "data": {
      "text/plain": [
       "petrol      0.672999\n",
       "gasoline    0.307086\n",
       "lpg         0.016518\n",
       "cng         0.001758\n",
       "hybrid      0.000725\n",
       "other       0.000635\n",
       "electric    0.000280\n",
       "Name: FuelType, dtype: float64"
      ]
     },
     "execution_count": 21,
     "metadata": {},
     "output_type": "execute_result"
    }
   ],
   "source": [
    "df['FuelType'].value_counts(normalize=True)"
   ]
  },
  {
   "cell_type": "code",
   "execution_count": 22,
   "metadata": {},
   "outputs": [
    {
     "data": {
      "text/plain": [
       "volkswagen        0.217324\n",
       "opel              0.112683\n",
       "bmw               0.104169\n",
       "mercedes_benz     0.090427\n",
       "audi              0.083123\n",
       "ford              0.071054\n",
       "renault           0.050589\n",
       "peugeot           0.031036\n",
       "fiat              0.027212\n",
       "seat              0.019491\n",
       "mazda             0.015845\n",
       "skoda             0.015521\n",
       "smart             0.014804\n",
       "citroen           0.014527\n",
       "nissan            0.013943\n",
       "toyota            0.012998\n",
       "hyundai           0.010122\n",
       "sonstige_autos    0.009521\n",
       "volvo             0.009058\n",
       "mini              0.009036\n",
       "mitsubishi        0.008528\n",
       "honda             0.007949\n",
       "kia               0.006956\n",
       "suzuki            0.006553\n",
       "alfa_romeo        0.006530\n",
       "chevrolet         0.004950\n",
       "chrysler          0.004061\n",
       "dacia             0.002540\n",
       "daihatsu          0.002274\n",
       "subaru            0.002150\n",
       "porsche           0.002139\n",
       "jeep              0.001910\n",
       "trabant           0.001662\n",
       "land_rover        0.001538\n",
       "daewoo            0.001529\n",
       "saab              0.001484\n",
       "jaguar            0.001425\n",
       "rover             0.001371\n",
       "lancia            0.001329\n",
       "lada              0.000635\n",
       "Name: Brand, dtype: float64"
      ]
     },
     "execution_count": 22,
     "metadata": {},
     "output_type": "execute_result"
    }
   ],
   "source": [
    "df['Brand'].value_counts(normalize=True)"
   ]
  },
  {
   "cell_type": "code",
   "execution_count": 23,
   "metadata": {
    "scrolled": false
   },
   "outputs": [
    {
     "data": {
      "text/plain": [
       "no     0.872699\n",
       "yes    0.127301\n",
       "Name: NotRepaired, dtype: float64"
      ]
     },
     "execution_count": 23,
     "metadata": {},
     "output_type": "execute_result"
    }
   ],
   "source": [
    "df['NotRepaired'].value_counts(normalize=True)"
   ]
  },
  {
   "cell_type": "code",
   "execution_count": 24,
   "metadata": {
    "scrolled": true
   },
   "outputs": [
    {
     "data": {
      "text/plain": [
       "0    1.0\n",
       "Name: NumberOfPictures, dtype: float64"
      ]
     },
     "execution_count": 24,
     "metadata": {},
     "output_type": "execute_result"
    }
   ],
   "source": [
    "df['NumberOfPictures'].value_counts(normalize=True)"
   ]
  },
  {
   "cell_type": "code",
   "execution_count": 25,
   "metadata": {
    "scrolled": true
   },
   "outputs": [
    {
     "data": {
      "text/plain": [
       "DateCrawled          0.000000\n",
       "Price                0.000000\n",
       "VehicleType          0.059373\n",
       "RegistrationYear     0.000000\n",
       "Gearbox              0.046272\n",
       "Power                0.000000\n",
       "Model                0.046719\n",
       "Kilometer            0.000000\n",
       "RegistrationMonth    0.000000\n",
       "FuelType             0.072192\n",
       "Brand                0.000000\n",
       "NotRepaired          0.180242\n",
       "DateCreated          0.000000\n",
       "NumberOfPictures     0.000000\n",
       "PostalCode           0.000000\n",
       "LastSeen             0.000000\n",
       "dtype: float64"
      ]
     },
     "execution_count": 25,
     "metadata": {},
     "output_type": "execute_result"
    }
   ],
   "source": [
    "df_clear.isna().mean()"
   ]
  },
  {
   "cell_type": "markdown",
   "metadata": {},
   "source": [
    "**Заполняем пропуски**"
   ]
  },
  {
   "cell_type": "markdown",
   "metadata": {},
   "source": [
    "Удаление пропусков нецелесообразно, т.к. их много (не менее 15.7 %). Возможное значение в пропусках предугадать невозможно. Поэтому заполняем пропуски значением 'unknown'."
   ]
  },
  {
   "cell_type": "code",
   "execution_count": 26,
   "metadata": {
    "scrolled": true
   },
   "outputs": [],
   "source": [
    "df_clear['NotRepaired'] = df_clear['NotRepaired'].fillna('unknown')\n",
    "df_clear['VehicleType'] = df_clear['VehicleType'].fillna('unknown')\n",
    "df_clear['Gearbox'] = df_clear['Gearbox'].fillna('unknown')\n",
    "df_clear['Model'] = df_clear['Model'].fillna('unknown')\n",
    "df_clear['FuelType'] = df_clear['FuelType'].fillna('unknown')"
   ]
  },
  {
   "cell_type": "code",
   "execution_count": 27,
   "metadata": {
    "scrolled": true
   },
   "outputs": [
    {
     "name": "stdout",
     "output_type": "stream",
     "text": [
      "<class 'pandas.core.frame.DataFrame'>\n",
      "Int64Index: 328514 entries, 0 to 354364\n",
      "Data columns (total 16 columns):\n",
      " #   Column             Non-Null Count   Dtype  \n",
      "---  ------             --------------   -----  \n",
      " 0   DateCrawled        328514 non-null  object \n",
      " 1   Price              328514 non-null  int64  \n",
      " 2   VehicleType        328514 non-null  object \n",
      " 3   RegistrationYear   328514 non-null  int64  \n",
      " 4   Gearbox            328514 non-null  object \n",
      " 5   Power              328514 non-null  float64\n",
      " 6   Model              328514 non-null  object \n",
      " 7   Kilometer          328514 non-null  int64  \n",
      " 8   RegistrationMonth  328514 non-null  int64  \n",
      " 9   FuelType           328514 non-null  object \n",
      " 10  Brand              328514 non-null  object \n",
      " 11  NotRepaired        328514 non-null  object \n",
      " 12  DateCreated        328514 non-null  object \n",
      " 13  NumberOfPictures   328514 non-null  int64  \n",
      " 14  PostalCode         328514 non-null  int64  \n",
      " 15  LastSeen           328514 non-null  object \n",
      "dtypes: float64(1), int64(6), object(9)\n",
      "memory usage: 42.6+ MB\n"
     ]
    }
   ],
   "source": [
    "df_clear.info()"
   ]
  },
  {
   "cell_type": "code",
   "execution_count": 28,
   "metadata": {},
   "outputs": [
    {
     "data": {
      "text/html": [
       "<div>\n",
       "<style scoped>\n",
       "    .dataframe tbody tr th:only-of-type {\n",
       "        vertical-align: middle;\n",
       "    }\n",
       "\n",
       "    .dataframe tbody tr th {\n",
       "        vertical-align: top;\n",
       "    }\n",
       "\n",
       "    .dataframe thead th {\n",
       "        text-align: right;\n",
       "    }\n",
       "</style>\n",
       "<table border=\"1\" class=\"dataframe\">\n",
       "  <thead>\n",
       "    <tr style=\"text-align: right;\">\n",
       "      <th></th>\n",
       "      <th>DateCrawled</th>\n",
       "      <th>Price</th>\n",
       "      <th>VehicleType</th>\n",
       "      <th>RegistrationYear</th>\n",
       "      <th>Gearbox</th>\n",
       "      <th>Power</th>\n",
       "      <th>Model</th>\n",
       "      <th>Kilometer</th>\n",
       "      <th>RegistrationMonth</th>\n",
       "      <th>FuelType</th>\n",
       "      <th>Brand</th>\n",
       "      <th>NotRepaired</th>\n",
       "      <th>DateCreated</th>\n",
       "      <th>NumberOfPictures</th>\n",
       "      <th>PostalCode</th>\n",
       "      <th>LastSeen</th>\n",
       "    </tr>\n",
       "  </thead>\n",
       "  <tbody>\n",
       "    <tr>\n",
       "      <th>0</th>\n",
       "      <td>2016-03-24 11:52:17</td>\n",
       "      <td>480</td>\n",
       "      <td>unknown</td>\n",
       "      <td>1993</td>\n",
       "      <td>manual</td>\n",
       "      <td>101.0</td>\n",
       "      <td>golf</td>\n",
       "      <td>150000</td>\n",
       "      <td>0</td>\n",
       "      <td>petrol</td>\n",
       "      <td>volkswagen</td>\n",
       "      <td>unknown</td>\n",
       "      <td>2016-03-24 00:00:00</td>\n",
       "      <td>0</td>\n",
       "      <td>70435</td>\n",
       "      <td>2016-04-07 03:16:57</td>\n",
       "    </tr>\n",
       "    <tr>\n",
       "      <th>1</th>\n",
       "      <td>2016-03-24 10:58:45</td>\n",
       "      <td>18300</td>\n",
       "      <td>coupe</td>\n",
       "      <td>2011</td>\n",
       "      <td>manual</td>\n",
       "      <td>190.0</td>\n",
       "      <td>unknown</td>\n",
       "      <td>125000</td>\n",
       "      <td>5</td>\n",
       "      <td>gasoline</td>\n",
       "      <td>audi</td>\n",
       "      <td>yes</td>\n",
       "      <td>2016-03-24 00:00:00</td>\n",
       "      <td>0</td>\n",
       "      <td>66954</td>\n",
       "      <td>2016-04-07 01:46:50</td>\n",
       "    </tr>\n",
       "    <tr>\n",
       "      <th>2</th>\n",
       "      <td>2016-03-14 12:52:21</td>\n",
       "      <td>9800</td>\n",
       "      <td>suv</td>\n",
       "      <td>2004</td>\n",
       "      <td>auto</td>\n",
       "      <td>163.0</td>\n",
       "      <td>grand</td>\n",
       "      <td>125000</td>\n",
       "      <td>8</td>\n",
       "      <td>gasoline</td>\n",
       "      <td>jeep</td>\n",
       "      <td>unknown</td>\n",
       "      <td>2016-03-14 00:00:00</td>\n",
       "      <td>0</td>\n",
       "      <td>90480</td>\n",
       "      <td>2016-04-05 12:47:46</td>\n",
       "    </tr>\n",
       "    <tr>\n",
       "      <th>3</th>\n",
       "      <td>2016-03-17 16:54:04</td>\n",
       "      <td>1500</td>\n",
       "      <td>small</td>\n",
       "      <td>2001</td>\n",
       "      <td>manual</td>\n",
       "      <td>75.0</td>\n",
       "      <td>golf</td>\n",
       "      <td>150000</td>\n",
       "      <td>6</td>\n",
       "      <td>petrol</td>\n",
       "      <td>volkswagen</td>\n",
       "      <td>no</td>\n",
       "      <td>2016-03-17 00:00:00</td>\n",
       "      <td>0</td>\n",
       "      <td>91074</td>\n",
       "      <td>2016-03-17 17:40:17</td>\n",
       "    </tr>\n",
       "    <tr>\n",
       "      <th>4</th>\n",
       "      <td>2016-03-31 17:25:20</td>\n",
       "      <td>3600</td>\n",
       "      <td>small</td>\n",
       "      <td>2008</td>\n",
       "      <td>manual</td>\n",
       "      <td>69.0</td>\n",
       "      <td>fabia</td>\n",
       "      <td>90000</td>\n",
       "      <td>7</td>\n",
       "      <td>gasoline</td>\n",
       "      <td>skoda</td>\n",
       "      <td>no</td>\n",
       "      <td>2016-03-31 00:00:00</td>\n",
       "      <td>0</td>\n",
       "      <td>60437</td>\n",
       "      <td>2016-04-06 10:17:21</td>\n",
       "    </tr>\n",
       "    <tr>\n",
       "      <th>...</th>\n",
       "      <td>...</td>\n",
       "      <td>...</td>\n",
       "      <td>...</td>\n",
       "      <td>...</td>\n",
       "      <td>...</td>\n",
       "      <td>...</td>\n",
       "      <td>...</td>\n",
       "      <td>...</td>\n",
       "      <td>...</td>\n",
       "      <td>...</td>\n",
       "      <td>...</td>\n",
       "      <td>...</td>\n",
       "      <td>...</td>\n",
       "      <td>...</td>\n",
       "      <td>...</td>\n",
       "      <td>...</td>\n",
       "    </tr>\n",
       "    <tr>\n",
       "      <th>354359</th>\n",
       "      <td>2016-03-27 20:36:20</td>\n",
       "      <td>1150</td>\n",
       "      <td>bus</td>\n",
       "      <td>2000</td>\n",
       "      <td>manual</td>\n",
       "      <td>125.0</td>\n",
       "      <td>zafira</td>\n",
       "      <td>150000</td>\n",
       "      <td>3</td>\n",
       "      <td>petrol</td>\n",
       "      <td>opel</td>\n",
       "      <td>no</td>\n",
       "      <td>2016-03-27 00:00:00</td>\n",
       "      <td>0</td>\n",
       "      <td>26624</td>\n",
       "      <td>2016-03-29 10:17:23</td>\n",
       "    </tr>\n",
       "    <tr>\n",
       "      <th>354361</th>\n",
       "      <td>2016-03-14 17:48:27</td>\n",
       "      <td>2200</td>\n",
       "      <td>unknown</td>\n",
       "      <td>2005</td>\n",
       "      <td>unknown</td>\n",
       "      <td>110.0</td>\n",
       "      <td>unknown</td>\n",
       "      <td>20000</td>\n",
       "      <td>1</td>\n",
       "      <td>unknown</td>\n",
       "      <td>sonstige_autos</td>\n",
       "      <td>unknown</td>\n",
       "      <td>2016-03-14 00:00:00</td>\n",
       "      <td>0</td>\n",
       "      <td>39576</td>\n",
       "      <td>2016-04-06 00:46:52</td>\n",
       "    </tr>\n",
       "    <tr>\n",
       "      <th>354362</th>\n",
       "      <td>2016-03-05 19:56:21</td>\n",
       "      <td>1199</td>\n",
       "      <td>convertible</td>\n",
       "      <td>2000</td>\n",
       "      <td>auto</td>\n",
       "      <td>101.0</td>\n",
       "      <td>fortwo</td>\n",
       "      <td>125000</td>\n",
       "      <td>3</td>\n",
       "      <td>petrol</td>\n",
       "      <td>smart</td>\n",
       "      <td>no</td>\n",
       "      <td>2016-03-05 00:00:00</td>\n",
       "      <td>0</td>\n",
       "      <td>26135</td>\n",
       "      <td>2016-03-11 18:17:12</td>\n",
       "    </tr>\n",
       "    <tr>\n",
       "      <th>354363</th>\n",
       "      <td>2016-03-19 18:57:12</td>\n",
       "      <td>9200</td>\n",
       "      <td>bus</td>\n",
       "      <td>1996</td>\n",
       "      <td>manual</td>\n",
       "      <td>102.0</td>\n",
       "      <td>transporter</td>\n",
       "      <td>150000</td>\n",
       "      <td>3</td>\n",
       "      <td>gasoline</td>\n",
       "      <td>volkswagen</td>\n",
       "      <td>no</td>\n",
       "      <td>2016-03-19 00:00:00</td>\n",
       "      <td>0</td>\n",
       "      <td>87439</td>\n",
       "      <td>2016-04-07 07:15:26</td>\n",
       "    </tr>\n",
       "    <tr>\n",
       "      <th>354364</th>\n",
       "      <td>2016-03-20 19:41:08</td>\n",
       "      <td>3400</td>\n",
       "      <td>wagon</td>\n",
       "      <td>2002</td>\n",
       "      <td>manual</td>\n",
       "      <td>100.0</td>\n",
       "      <td>golf</td>\n",
       "      <td>150000</td>\n",
       "      <td>6</td>\n",
       "      <td>gasoline</td>\n",
       "      <td>volkswagen</td>\n",
       "      <td>unknown</td>\n",
       "      <td>2016-03-20 00:00:00</td>\n",
       "      <td>0</td>\n",
       "      <td>40764</td>\n",
       "      <td>2016-03-24 12:45:21</td>\n",
       "    </tr>\n",
       "  </tbody>\n",
       "</table>\n",
       "<p>328514 rows × 16 columns</p>\n",
       "</div>"
      ],
      "text/plain": [
       "                DateCrawled  Price  VehicleType  RegistrationYear  Gearbox  \\\n",
       "0       2016-03-24 11:52:17    480      unknown              1993   manual   \n",
       "1       2016-03-24 10:58:45  18300        coupe              2011   manual   \n",
       "2       2016-03-14 12:52:21   9800          suv              2004     auto   \n",
       "3       2016-03-17 16:54:04   1500        small              2001   manual   \n",
       "4       2016-03-31 17:25:20   3600        small              2008   manual   \n",
       "...                     ...    ...          ...               ...      ...   \n",
       "354359  2016-03-27 20:36:20   1150          bus              2000   manual   \n",
       "354361  2016-03-14 17:48:27   2200      unknown              2005  unknown   \n",
       "354362  2016-03-05 19:56:21   1199  convertible              2000     auto   \n",
       "354363  2016-03-19 18:57:12   9200          bus              1996   manual   \n",
       "354364  2016-03-20 19:41:08   3400        wagon              2002   manual   \n",
       "\n",
       "        Power        Model  Kilometer  RegistrationMonth  FuelType  \\\n",
       "0       101.0         golf     150000                  0    petrol   \n",
       "1       190.0      unknown     125000                  5  gasoline   \n",
       "2       163.0        grand     125000                  8  gasoline   \n",
       "3        75.0         golf     150000                  6    petrol   \n",
       "4        69.0        fabia      90000                  7  gasoline   \n",
       "...       ...          ...        ...                ...       ...   \n",
       "354359  125.0       zafira     150000                  3    petrol   \n",
       "354361  110.0      unknown      20000                  1   unknown   \n",
       "354362  101.0       fortwo     125000                  3    petrol   \n",
       "354363  102.0  transporter     150000                  3  gasoline   \n",
       "354364  100.0         golf     150000                  6  gasoline   \n",
       "\n",
       "                 Brand NotRepaired          DateCreated  NumberOfPictures  \\\n",
       "0           volkswagen     unknown  2016-03-24 00:00:00                 0   \n",
       "1                 audi         yes  2016-03-24 00:00:00                 0   \n",
       "2                 jeep     unknown  2016-03-14 00:00:00                 0   \n",
       "3           volkswagen          no  2016-03-17 00:00:00                 0   \n",
       "4                skoda          no  2016-03-31 00:00:00                 0   \n",
       "...                ...         ...                  ...               ...   \n",
       "354359            opel          no  2016-03-27 00:00:00                 0   \n",
       "354361  sonstige_autos     unknown  2016-03-14 00:00:00                 0   \n",
       "354362           smart          no  2016-03-05 00:00:00                 0   \n",
       "354363      volkswagen          no  2016-03-19 00:00:00                 0   \n",
       "354364      volkswagen     unknown  2016-03-20 00:00:00                 0   \n",
       "\n",
       "        PostalCode             LastSeen  \n",
       "0            70435  2016-04-07 03:16:57  \n",
       "1            66954  2016-04-07 01:46:50  \n",
       "2            90480  2016-04-05 12:47:46  \n",
       "3            91074  2016-03-17 17:40:17  \n",
       "4            60437  2016-04-06 10:17:21  \n",
       "...            ...                  ...  \n",
       "354359       26624  2016-03-29 10:17:23  \n",
       "354361       39576  2016-04-06 00:46:52  \n",
       "354362       26135  2016-03-11 18:17:12  \n",
       "354363       87439  2016-04-07 07:15:26  \n",
       "354364       40764  2016-03-24 12:45:21  \n",
       "\n",
       "[328514 rows x 16 columns]"
      ]
     },
     "metadata": {},
     "output_type": "display_data"
    }
   ],
   "source": [
    "display(df_clear)"
   ]
  },
  {
   "cell_type": "code",
   "execution_count": 29,
   "metadata": {},
   "outputs": [],
   "source": [
    "#переводим даты в правильный формат\n",
    "df_clear['DateCrawled'] = pd.to_datetime(df_clear['DateCrawled'], format='%Y-%m-%d %H:%M:%S')\n",
    "df_clear['DateCreated'] = pd.to_datetime(df_clear['DateCreated'], format='%Y-%m-%d %H:%M:%S')\n",
    "df_clear['LastSeen'] = pd.to_datetime(df_clear['LastSeen'], format='%Y-%m-%d %H:%M:%S')"
   ]
  },
  {
   "cell_type": "code",
   "execution_count": 30,
   "metadata": {
    "scrolled": true
   },
   "outputs": [
    {
     "name": "stdout",
     "output_type": "stream",
     "text": [
      "<class 'pandas.core.frame.DataFrame'>\n",
      "Int64Index: 328514 entries, 0 to 354364\n",
      "Data columns (total 16 columns):\n",
      " #   Column             Non-Null Count   Dtype         \n",
      "---  ------             --------------   -----         \n",
      " 0   DateCrawled        328514 non-null  datetime64[ns]\n",
      " 1   Price              328514 non-null  int64         \n",
      " 2   VehicleType        328514 non-null  object        \n",
      " 3   RegistrationYear   328514 non-null  int64         \n",
      " 4   Gearbox            328514 non-null  object        \n",
      " 5   Power              328514 non-null  float64       \n",
      " 6   Model              328514 non-null  object        \n",
      " 7   Kilometer          328514 non-null  int64         \n",
      " 8   RegistrationMonth  328514 non-null  int64         \n",
      " 9   FuelType           328514 non-null  object        \n",
      " 10  Brand              328514 non-null  object        \n",
      " 11  NotRepaired        328514 non-null  object        \n",
      " 12  DateCreated        328514 non-null  datetime64[ns]\n",
      " 13  NumberOfPictures   328514 non-null  int64         \n",
      " 14  PostalCode         328514 non-null  int64         \n",
      " 15  LastSeen           328514 non-null  datetime64[ns]\n",
      "dtypes: datetime64[ns](3), float64(1), int64(6), object(6)\n",
      "memory usage: 42.6+ MB\n"
     ]
    }
   ],
   "source": [
    "df_clear.info()"
   ]
  },
  {
   "cell_type": "markdown",
   "metadata": {},
   "source": [
    "**Подготавливаем данные к обучению моделей**"
   ]
  },
  {
   "cell_type": "markdown",
   "metadata": {},
   "source": [
    "Столбцы 'DateCrawled', 'RegistrationMonth', 'DateCreated', 'NumberOfPictures', 'PostalCode', 'LastSeen' не влияют на стоимость авто, но могут запутать модель. Удаляем их."
   ]
  },
  {
   "cell_type": "code",
   "execution_count": 31,
   "metadata": {},
   "outputs": [],
   "source": [
    "#удаляем ненужные столбцы\n",
    "data = df_clear.drop(['DateCrawled', 'RegistrationMonth', 'DateCreated', 'NumberOfPictures', 'PostalCode', 'LastSeen'], axis=1)"
   ]
  },
  {
   "cell_type": "code",
   "execution_count": 32,
   "metadata": {
    "scrolled": false
   },
   "outputs": [
    {
     "data": {
      "text/html": [
       "<div>\n",
       "<style scoped>\n",
       "    .dataframe tbody tr th:only-of-type {\n",
       "        vertical-align: middle;\n",
       "    }\n",
       "\n",
       "    .dataframe tbody tr th {\n",
       "        vertical-align: top;\n",
       "    }\n",
       "\n",
       "    .dataframe thead th {\n",
       "        text-align: right;\n",
       "    }\n",
       "</style>\n",
       "<table border=\"1\" class=\"dataframe\">\n",
       "  <thead>\n",
       "    <tr style=\"text-align: right;\">\n",
       "      <th></th>\n",
       "      <th>Price</th>\n",
       "      <th>VehicleType</th>\n",
       "      <th>RegistrationYear</th>\n",
       "      <th>Gearbox</th>\n",
       "      <th>Power</th>\n",
       "      <th>Model</th>\n",
       "      <th>Kilometer</th>\n",
       "      <th>FuelType</th>\n",
       "      <th>Brand</th>\n",
       "      <th>NotRepaired</th>\n",
       "    </tr>\n",
       "  </thead>\n",
       "  <tbody>\n",
       "    <tr>\n",
       "      <th>0</th>\n",
       "      <td>480</td>\n",
       "      <td>unknown</td>\n",
       "      <td>1993</td>\n",
       "      <td>manual</td>\n",
       "      <td>101.0</td>\n",
       "      <td>golf</td>\n",
       "      <td>150000</td>\n",
       "      <td>petrol</td>\n",
       "      <td>volkswagen</td>\n",
       "      <td>unknown</td>\n",
       "    </tr>\n",
       "    <tr>\n",
       "      <th>1</th>\n",
       "      <td>18300</td>\n",
       "      <td>coupe</td>\n",
       "      <td>2011</td>\n",
       "      <td>manual</td>\n",
       "      <td>190.0</td>\n",
       "      <td>unknown</td>\n",
       "      <td>125000</td>\n",
       "      <td>gasoline</td>\n",
       "      <td>audi</td>\n",
       "      <td>yes</td>\n",
       "    </tr>\n",
       "    <tr>\n",
       "      <th>2</th>\n",
       "      <td>9800</td>\n",
       "      <td>suv</td>\n",
       "      <td>2004</td>\n",
       "      <td>auto</td>\n",
       "      <td>163.0</td>\n",
       "      <td>grand</td>\n",
       "      <td>125000</td>\n",
       "      <td>gasoline</td>\n",
       "      <td>jeep</td>\n",
       "      <td>unknown</td>\n",
       "    </tr>\n",
       "    <tr>\n",
       "      <th>3</th>\n",
       "      <td>1500</td>\n",
       "      <td>small</td>\n",
       "      <td>2001</td>\n",
       "      <td>manual</td>\n",
       "      <td>75.0</td>\n",
       "      <td>golf</td>\n",
       "      <td>150000</td>\n",
       "      <td>petrol</td>\n",
       "      <td>volkswagen</td>\n",
       "      <td>no</td>\n",
       "    </tr>\n",
       "    <tr>\n",
       "      <th>4</th>\n",
       "      <td>3600</td>\n",
       "      <td>small</td>\n",
       "      <td>2008</td>\n",
       "      <td>manual</td>\n",
       "      <td>69.0</td>\n",
       "      <td>fabia</td>\n",
       "      <td>90000</td>\n",
       "      <td>gasoline</td>\n",
       "      <td>skoda</td>\n",
       "      <td>no</td>\n",
       "    </tr>\n",
       "    <tr>\n",
       "      <th>...</th>\n",
       "      <td>...</td>\n",
       "      <td>...</td>\n",
       "      <td>...</td>\n",
       "      <td>...</td>\n",
       "      <td>...</td>\n",
       "      <td>...</td>\n",
       "      <td>...</td>\n",
       "      <td>...</td>\n",
       "      <td>...</td>\n",
       "      <td>...</td>\n",
       "    </tr>\n",
       "    <tr>\n",
       "      <th>354359</th>\n",
       "      <td>1150</td>\n",
       "      <td>bus</td>\n",
       "      <td>2000</td>\n",
       "      <td>manual</td>\n",
       "      <td>125.0</td>\n",
       "      <td>zafira</td>\n",
       "      <td>150000</td>\n",
       "      <td>petrol</td>\n",
       "      <td>opel</td>\n",
       "      <td>no</td>\n",
       "    </tr>\n",
       "    <tr>\n",
       "      <th>354361</th>\n",
       "      <td>2200</td>\n",
       "      <td>unknown</td>\n",
       "      <td>2005</td>\n",
       "      <td>unknown</td>\n",
       "      <td>110.0</td>\n",
       "      <td>unknown</td>\n",
       "      <td>20000</td>\n",
       "      <td>unknown</td>\n",
       "      <td>sonstige_autos</td>\n",
       "      <td>unknown</td>\n",
       "    </tr>\n",
       "    <tr>\n",
       "      <th>354362</th>\n",
       "      <td>1199</td>\n",
       "      <td>convertible</td>\n",
       "      <td>2000</td>\n",
       "      <td>auto</td>\n",
       "      <td>101.0</td>\n",
       "      <td>fortwo</td>\n",
       "      <td>125000</td>\n",
       "      <td>petrol</td>\n",
       "      <td>smart</td>\n",
       "      <td>no</td>\n",
       "    </tr>\n",
       "    <tr>\n",
       "      <th>354363</th>\n",
       "      <td>9200</td>\n",
       "      <td>bus</td>\n",
       "      <td>1996</td>\n",
       "      <td>manual</td>\n",
       "      <td>102.0</td>\n",
       "      <td>transporter</td>\n",
       "      <td>150000</td>\n",
       "      <td>gasoline</td>\n",
       "      <td>volkswagen</td>\n",
       "      <td>no</td>\n",
       "    </tr>\n",
       "    <tr>\n",
       "      <th>354364</th>\n",
       "      <td>3400</td>\n",
       "      <td>wagon</td>\n",
       "      <td>2002</td>\n",
       "      <td>manual</td>\n",
       "      <td>100.0</td>\n",
       "      <td>golf</td>\n",
       "      <td>150000</td>\n",
       "      <td>gasoline</td>\n",
       "      <td>volkswagen</td>\n",
       "      <td>unknown</td>\n",
       "    </tr>\n",
       "  </tbody>\n",
       "</table>\n",
       "<p>328514 rows × 10 columns</p>\n",
       "</div>"
      ],
      "text/plain": [
       "        Price  VehicleType  RegistrationYear  Gearbox  Power        Model  \\\n",
       "0         480      unknown              1993   manual  101.0         golf   \n",
       "1       18300        coupe              2011   manual  190.0      unknown   \n",
       "2        9800          suv              2004     auto  163.0        grand   \n",
       "3        1500        small              2001   manual   75.0         golf   \n",
       "4        3600        small              2008   manual   69.0        fabia   \n",
       "...       ...          ...               ...      ...    ...          ...   \n",
       "354359   1150          bus              2000   manual  125.0       zafira   \n",
       "354361   2200      unknown              2005  unknown  110.0      unknown   \n",
       "354362   1199  convertible              2000     auto  101.0       fortwo   \n",
       "354363   9200          bus              1996   manual  102.0  transporter   \n",
       "354364   3400        wagon              2002   manual  100.0         golf   \n",
       "\n",
       "        Kilometer  FuelType           Brand NotRepaired  \n",
       "0          150000    petrol      volkswagen     unknown  \n",
       "1          125000  gasoline            audi         yes  \n",
       "2          125000  gasoline            jeep     unknown  \n",
       "3          150000    petrol      volkswagen          no  \n",
       "4           90000  gasoline           skoda          no  \n",
       "...           ...       ...             ...         ...  \n",
       "354359     150000    petrol            opel          no  \n",
       "354361      20000   unknown  sonstige_autos     unknown  \n",
       "354362     125000    petrol           smart          no  \n",
       "354363     150000  gasoline      volkswagen          no  \n",
       "354364     150000  gasoline      volkswagen     unknown  \n",
       "\n",
       "[328514 rows x 10 columns]"
      ]
     },
     "metadata": {},
     "output_type": "display_data"
    }
   ],
   "source": [
    "display(data)"
   ]
  },
  {
   "cell_type": "markdown",
   "metadata": {},
   "source": [
    "Чтобы увеличить качество простых моделей (линейной регрессии, дерева решений и случайного леса) применяем технику One-Hot Encoding и масштабирование признаков."
   ]
  },
  {
   "cell_type": "code",
   "execution_count": 33,
   "metadata": {
    "scrolled": true
   },
   "outputs": [
    {
     "name": "stdout",
     "output_type": "stream",
     "text": [
      "<class 'pandas.core.frame.DataFrame'>\n",
      "Int64Index: 328514 entries, 0 to 354364\n",
      "Columns: 312 entries, Price to NotRepaired_yes\n",
      "dtypes: float64(1), int64(3), uint8(308)\n",
      "memory usage: 109.0 MB\n"
     ]
    },
    {
     "data": {
      "text/html": [
       "<div>\n",
       "<style scoped>\n",
       "    .dataframe tbody tr th:only-of-type {\n",
       "        vertical-align: middle;\n",
       "    }\n",
       "\n",
       "    .dataframe tbody tr th {\n",
       "        vertical-align: top;\n",
       "    }\n",
       "\n",
       "    .dataframe thead th {\n",
       "        text-align: right;\n",
       "    }\n",
       "</style>\n",
       "<table border=\"1\" class=\"dataframe\">\n",
       "  <thead>\n",
       "    <tr style=\"text-align: right;\">\n",
       "      <th></th>\n",
       "      <th>Price</th>\n",
       "      <th>RegistrationYear</th>\n",
       "      <th>Power</th>\n",
       "      <th>Kilometer</th>\n",
       "      <th>VehicleType_convertible</th>\n",
       "      <th>VehicleType_coupe</th>\n",
       "      <th>VehicleType_other</th>\n",
       "      <th>VehicleType_sedan</th>\n",
       "      <th>VehicleType_small</th>\n",
       "      <th>VehicleType_suv</th>\n",
       "      <th>...</th>\n",
       "      <th>Brand_smart</th>\n",
       "      <th>Brand_sonstige_autos</th>\n",
       "      <th>Brand_subaru</th>\n",
       "      <th>Brand_suzuki</th>\n",
       "      <th>Brand_toyota</th>\n",
       "      <th>Brand_trabant</th>\n",
       "      <th>Brand_volkswagen</th>\n",
       "      <th>Brand_volvo</th>\n",
       "      <th>NotRepaired_unknown</th>\n",
       "      <th>NotRepaired_yes</th>\n",
       "    </tr>\n",
       "  </thead>\n",
       "  <tbody>\n",
       "    <tr>\n",
       "      <th>0</th>\n",
       "      <td>480</td>\n",
       "      <td>1993</td>\n",
       "      <td>101.0</td>\n",
       "      <td>150000</td>\n",
       "      <td>0</td>\n",
       "      <td>0</td>\n",
       "      <td>0</td>\n",
       "      <td>0</td>\n",
       "      <td>0</td>\n",
       "      <td>0</td>\n",
       "      <td>...</td>\n",
       "      <td>0</td>\n",
       "      <td>0</td>\n",
       "      <td>0</td>\n",
       "      <td>0</td>\n",
       "      <td>0</td>\n",
       "      <td>0</td>\n",
       "      <td>1</td>\n",
       "      <td>0</td>\n",
       "      <td>1</td>\n",
       "      <td>0</td>\n",
       "    </tr>\n",
       "    <tr>\n",
       "      <th>1</th>\n",
       "      <td>18300</td>\n",
       "      <td>2011</td>\n",
       "      <td>190.0</td>\n",
       "      <td>125000</td>\n",
       "      <td>0</td>\n",
       "      <td>1</td>\n",
       "      <td>0</td>\n",
       "      <td>0</td>\n",
       "      <td>0</td>\n",
       "      <td>0</td>\n",
       "      <td>...</td>\n",
       "      <td>0</td>\n",
       "      <td>0</td>\n",
       "      <td>0</td>\n",
       "      <td>0</td>\n",
       "      <td>0</td>\n",
       "      <td>0</td>\n",
       "      <td>0</td>\n",
       "      <td>0</td>\n",
       "      <td>0</td>\n",
       "      <td>1</td>\n",
       "    </tr>\n",
       "    <tr>\n",
       "      <th>2</th>\n",
       "      <td>9800</td>\n",
       "      <td>2004</td>\n",
       "      <td>163.0</td>\n",
       "      <td>125000</td>\n",
       "      <td>0</td>\n",
       "      <td>0</td>\n",
       "      <td>0</td>\n",
       "      <td>0</td>\n",
       "      <td>0</td>\n",
       "      <td>1</td>\n",
       "      <td>...</td>\n",
       "      <td>0</td>\n",
       "      <td>0</td>\n",
       "      <td>0</td>\n",
       "      <td>0</td>\n",
       "      <td>0</td>\n",
       "      <td>0</td>\n",
       "      <td>0</td>\n",
       "      <td>0</td>\n",
       "      <td>1</td>\n",
       "      <td>0</td>\n",
       "    </tr>\n",
       "    <tr>\n",
       "      <th>3</th>\n",
       "      <td>1500</td>\n",
       "      <td>2001</td>\n",
       "      <td>75.0</td>\n",
       "      <td>150000</td>\n",
       "      <td>0</td>\n",
       "      <td>0</td>\n",
       "      <td>0</td>\n",
       "      <td>0</td>\n",
       "      <td>1</td>\n",
       "      <td>0</td>\n",
       "      <td>...</td>\n",
       "      <td>0</td>\n",
       "      <td>0</td>\n",
       "      <td>0</td>\n",
       "      <td>0</td>\n",
       "      <td>0</td>\n",
       "      <td>0</td>\n",
       "      <td>1</td>\n",
       "      <td>0</td>\n",
       "      <td>0</td>\n",
       "      <td>0</td>\n",
       "    </tr>\n",
       "    <tr>\n",
       "      <th>4</th>\n",
       "      <td>3600</td>\n",
       "      <td>2008</td>\n",
       "      <td>69.0</td>\n",
       "      <td>90000</td>\n",
       "      <td>0</td>\n",
       "      <td>0</td>\n",
       "      <td>0</td>\n",
       "      <td>0</td>\n",
       "      <td>1</td>\n",
       "      <td>0</td>\n",
       "      <td>...</td>\n",
       "      <td>0</td>\n",
       "      <td>0</td>\n",
       "      <td>0</td>\n",
       "      <td>0</td>\n",
       "      <td>0</td>\n",
       "      <td>0</td>\n",
       "      <td>0</td>\n",
       "      <td>0</td>\n",
       "      <td>0</td>\n",
       "      <td>0</td>\n",
       "    </tr>\n",
       "    <tr>\n",
       "      <th>...</th>\n",
       "      <td>...</td>\n",
       "      <td>...</td>\n",
       "      <td>...</td>\n",
       "      <td>...</td>\n",
       "      <td>...</td>\n",
       "      <td>...</td>\n",
       "      <td>...</td>\n",
       "      <td>...</td>\n",
       "      <td>...</td>\n",
       "      <td>...</td>\n",
       "      <td>...</td>\n",
       "      <td>...</td>\n",
       "      <td>...</td>\n",
       "      <td>...</td>\n",
       "      <td>...</td>\n",
       "      <td>...</td>\n",
       "      <td>...</td>\n",
       "      <td>...</td>\n",
       "      <td>...</td>\n",
       "      <td>...</td>\n",
       "      <td>...</td>\n",
       "    </tr>\n",
       "    <tr>\n",
       "      <th>354359</th>\n",
       "      <td>1150</td>\n",
       "      <td>2000</td>\n",
       "      <td>125.0</td>\n",
       "      <td>150000</td>\n",
       "      <td>0</td>\n",
       "      <td>0</td>\n",
       "      <td>0</td>\n",
       "      <td>0</td>\n",
       "      <td>0</td>\n",
       "      <td>0</td>\n",
       "      <td>...</td>\n",
       "      <td>0</td>\n",
       "      <td>0</td>\n",
       "      <td>0</td>\n",
       "      <td>0</td>\n",
       "      <td>0</td>\n",
       "      <td>0</td>\n",
       "      <td>0</td>\n",
       "      <td>0</td>\n",
       "      <td>0</td>\n",
       "      <td>0</td>\n",
       "    </tr>\n",
       "    <tr>\n",
       "      <th>354361</th>\n",
       "      <td>2200</td>\n",
       "      <td>2005</td>\n",
       "      <td>110.0</td>\n",
       "      <td>20000</td>\n",
       "      <td>0</td>\n",
       "      <td>0</td>\n",
       "      <td>0</td>\n",
       "      <td>0</td>\n",
       "      <td>0</td>\n",
       "      <td>0</td>\n",
       "      <td>...</td>\n",
       "      <td>0</td>\n",
       "      <td>1</td>\n",
       "      <td>0</td>\n",
       "      <td>0</td>\n",
       "      <td>0</td>\n",
       "      <td>0</td>\n",
       "      <td>0</td>\n",
       "      <td>0</td>\n",
       "      <td>1</td>\n",
       "      <td>0</td>\n",
       "    </tr>\n",
       "    <tr>\n",
       "      <th>354362</th>\n",
       "      <td>1199</td>\n",
       "      <td>2000</td>\n",
       "      <td>101.0</td>\n",
       "      <td>125000</td>\n",
       "      <td>1</td>\n",
       "      <td>0</td>\n",
       "      <td>0</td>\n",
       "      <td>0</td>\n",
       "      <td>0</td>\n",
       "      <td>0</td>\n",
       "      <td>...</td>\n",
       "      <td>1</td>\n",
       "      <td>0</td>\n",
       "      <td>0</td>\n",
       "      <td>0</td>\n",
       "      <td>0</td>\n",
       "      <td>0</td>\n",
       "      <td>0</td>\n",
       "      <td>0</td>\n",
       "      <td>0</td>\n",
       "      <td>0</td>\n",
       "    </tr>\n",
       "    <tr>\n",
       "      <th>354363</th>\n",
       "      <td>9200</td>\n",
       "      <td>1996</td>\n",
       "      <td>102.0</td>\n",
       "      <td>150000</td>\n",
       "      <td>0</td>\n",
       "      <td>0</td>\n",
       "      <td>0</td>\n",
       "      <td>0</td>\n",
       "      <td>0</td>\n",
       "      <td>0</td>\n",
       "      <td>...</td>\n",
       "      <td>0</td>\n",
       "      <td>0</td>\n",
       "      <td>0</td>\n",
       "      <td>0</td>\n",
       "      <td>0</td>\n",
       "      <td>0</td>\n",
       "      <td>1</td>\n",
       "      <td>0</td>\n",
       "      <td>0</td>\n",
       "      <td>0</td>\n",
       "    </tr>\n",
       "    <tr>\n",
       "      <th>354364</th>\n",
       "      <td>3400</td>\n",
       "      <td>2002</td>\n",
       "      <td>100.0</td>\n",
       "      <td>150000</td>\n",
       "      <td>0</td>\n",
       "      <td>0</td>\n",
       "      <td>0</td>\n",
       "      <td>0</td>\n",
       "      <td>0</td>\n",
       "      <td>0</td>\n",
       "      <td>...</td>\n",
       "      <td>0</td>\n",
       "      <td>0</td>\n",
       "      <td>0</td>\n",
       "      <td>0</td>\n",
       "      <td>0</td>\n",
       "      <td>0</td>\n",
       "      <td>1</td>\n",
       "      <td>0</td>\n",
       "      <td>1</td>\n",
       "      <td>0</td>\n",
       "    </tr>\n",
       "  </tbody>\n",
       "</table>\n",
       "<p>328514 rows × 312 columns</p>\n",
       "</div>"
      ],
      "text/plain": [
       "        Price  RegistrationYear  Power  Kilometer  VehicleType_convertible  \\\n",
       "0         480              1993  101.0     150000                        0   \n",
       "1       18300              2011  190.0     125000                        0   \n",
       "2        9800              2004  163.0     125000                        0   \n",
       "3        1500              2001   75.0     150000                        0   \n",
       "4        3600              2008   69.0      90000                        0   \n",
       "...       ...               ...    ...        ...                      ...   \n",
       "354359   1150              2000  125.0     150000                        0   \n",
       "354361   2200              2005  110.0      20000                        0   \n",
       "354362   1199              2000  101.0     125000                        1   \n",
       "354363   9200              1996  102.0     150000                        0   \n",
       "354364   3400              2002  100.0     150000                        0   \n",
       "\n",
       "        VehicleType_coupe  VehicleType_other  VehicleType_sedan  \\\n",
       "0                       0                  0                  0   \n",
       "1                       1                  0                  0   \n",
       "2                       0                  0                  0   \n",
       "3                       0                  0                  0   \n",
       "4                       0                  0                  0   \n",
       "...                   ...                ...                ...   \n",
       "354359                  0                  0                  0   \n",
       "354361                  0                  0                  0   \n",
       "354362                  0                  0                  0   \n",
       "354363                  0                  0                  0   \n",
       "354364                  0                  0                  0   \n",
       "\n",
       "        VehicleType_small  VehicleType_suv  ...  Brand_smart  \\\n",
       "0                       0                0  ...            0   \n",
       "1                       0                0  ...            0   \n",
       "2                       0                1  ...            0   \n",
       "3                       1                0  ...            0   \n",
       "4                       1                0  ...            0   \n",
       "...                   ...              ...  ...          ...   \n",
       "354359                  0                0  ...            0   \n",
       "354361                  0                0  ...            0   \n",
       "354362                  0                0  ...            1   \n",
       "354363                  0                0  ...            0   \n",
       "354364                  0                0  ...            0   \n",
       "\n",
       "        Brand_sonstige_autos  Brand_subaru  Brand_suzuki  Brand_toyota  \\\n",
       "0                          0             0             0             0   \n",
       "1                          0             0             0             0   \n",
       "2                          0             0             0             0   \n",
       "3                          0             0             0             0   \n",
       "4                          0             0             0             0   \n",
       "...                      ...           ...           ...           ...   \n",
       "354359                     0             0             0             0   \n",
       "354361                     1             0             0             0   \n",
       "354362                     0             0             0             0   \n",
       "354363                     0             0             0             0   \n",
       "354364                     0             0             0             0   \n",
       "\n",
       "        Brand_trabant  Brand_volkswagen  Brand_volvo  NotRepaired_unknown  \\\n",
       "0                   0                 1            0                    1   \n",
       "1                   0                 0            0                    0   \n",
       "2                   0                 0            0                    1   \n",
       "3                   0                 1            0                    0   \n",
       "4                   0                 0            0                    0   \n",
       "...               ...               ...          ...                  ...   \n",
       "354359              0                 0            0                    0   \n",
       "354361              0                 0            0                    1   \n",
       "354362              0                 0            0                    0   \n",
       "354363              0                 1            0                    0   \n",
       "354364              0                 1            0                    1   \n",
       "\n",
       "        NotRepaired_yes  \n",
       "0                     0  \n",
       "1                     1  \n",
       "2                     0  \n",
       "3                     0  \n",
       "4                     0  \n",
       "...                 ...  \n",
       "354359                0  \n",
       "354361                0  \n",
       "354362                0  \n",
       "354363                0  \n",
       "354364                0  \n",
       "\n",
       "[328514 rows x 312 columns]"
      ]
     },
     "metadata": {},
     "output_type": "display_data"
    }
   ],
   "source": [
    "#кодируем категориальные признаки с помощью One-Hot Encoding\n",
    "data_dummies = pd.get_dummies(data, drop_first=True)\n",
    "data_dummies.info()\n",
    "display(data_dummies)"
   ]
  },
  {
   "cell_type": "code",
   "execution_count": 34,
   "metadata": {
    "scrolled": true
   },
   "outputs": [
    {
     "name": "stdout",
     "output_type": "stream",
     "text": [
      "(246385, 311)\n",
      "(246385,)\n",
      "(82129, 311)\n",
      "(82129,)\n"
     ]
    }
   ],
   "source": [
    "#создаем выборки с признаками и целевым признаком\n",
    "features_ohe = data_dummies.drop(['Price'], axis=1)\n",
    "target_ohe = data_dummies['Price']\n",
    "\n",
    "#разделяем выборки на обучающую и тестовую\n",
    "features_train_ohe, features_test_ohe, target_train, target_test = train_test_split(features_ohe, \n",
    "                                                                                            target_ohe, \n",
    "                                                                                            test_size=0.25,\n",
    "                                                                                            random_state=12345)\n",
    "\n",
    "\n",
    "print(features_train_ohe.shape)\n",
    "print(target_train.shape)\n",
    "print(features_test_ohe.shape)\n",
    "print(target_test.shape)"
   ]
  },
  {
   "cell_type": "code",
   "execution_count": 35,
   "metadata": {
    "scrolled": false
   },
   "outputs": [
    {
     "name": "stderr",
     "output_type": "stream",
     "text": [
      "/tmp/ipykernel_541/4031354681.py:5: SettingWithCopyWarning: \n",
      "A value is trying to be set on a copy of a slice from a DataFrame.\n",
      "Try using .loc[row_indexer,col_indexer] = value instead\n",
      "\n",
      "See the caveats in the documentation: https://pandas.pydata.org/pandas-docs/stable/user_guide/indexing.html#returning-a-view-versus-a-copy\n",
      "  features_train_ohe[numeric] = scaler.transform(features_train_ohe[numeric])\n",
      "/opt/conda/lib/python3.9/site-packages/pandas/core/indexing.py:1738: SettingWithCopyWarning: \n",
      "A value is trying to be set on a copy of a slice from a DataFrame.\n",
      "Try using .loc[row_indexer,col_indexer] = value instead\n",
      "\n",
      "See the caveats in the documentation: https://pandas.pydata.org/pandas-docs/stable/user_guide/indexing.html#returning-a-view-versus-a-copy\n",
      "  self._setitem_single_column(loc, value[:, i].tolist(), pi)\n",
      "/tmp/ipykernel_541/4031354681.py:6: SettingWithCopyWarning: \n",
      "A value is trying to be set on a copy of a slice from a DataFrame.\n",
      "Try using .loc[row_indexer,col_indexer] = value instead\n",
      "\n",
      "See the caveats in the documentation: https://pandas.pydata.org/pandas-docs/stable/user_guide/indexing.html#returning-a-view-versus-a-copy\n",
      "  features_test_ohe[numeric] = scaler.transform(features_test_ohe[numeric])\n",
      "/opt/conda/lib/python3.9/site-packages/pandas/core/indexing.py:1738: SettingWithCopyWarning: \n",
      "A value is trying to be set on a copy of a slice from a DataFrame.\n",
      "Try using .loc[row_indexer,col_indexer] = value instead\n",
      "\n",
      "See the caveats in the documentation: https://pandas.pydata.org/pandas-docs/stable/user_guide/indexing.html#returning-a-view-versus-a-copy\n",
      "  self._setitem_single_column(loc, value[:, i].tolist(), pi)\n"
     ]
    }
   ],
   "source": [
    "#масштабируем численные признаки\n",
    "numeric = ['RegistrationYear', 'Power', 'Kilometer']\n",
    "scaler = StandardScaler()\n",
    "scaler.fit(features_train_ohe[numeric])\n",
    "features_train_ohe[numeric] = scaler.transform(features_train_ohe[numeric])\n",
    "features_test_ohe[numeric] = scaler.transform(features_test_ohe[numeric])"
   ]
  },
  {
   "cell_type": "markdown",
   "metadata": {},
   "source": [
    "Для моделей с деревьями целесообразно кодировать категориальные признаки с помощью OrdinalEncoder. Создаем выборки с данным методом кодирования."
   ]
  },
  {
   "cell_type": "code",
   "execution_count": 36,
   "metadata": {},
   "outputs": [
    {
     "data": {
      "text/html": [
       "<div>\n",
       "<style scoped>\n",
       "    .dataframe tbody tr th:only-of-type {\n",
       "        vertical-align: middle;\n",
       "    }\n",
       "\n",
       "    .dataframe tbody tr th {\n",
       "        vertical-align: top;\n",
       "    }\n",
       "\n",
       "    .dataframe thead th {\n",
       "        text-align: right;\n",
       "    }\n",
       "</style>\n",
       "<table border=\"1\" class=\"dataframe\">\n",
       "  <thead>\n",
       "    <tr style=\"text-align: right;\">\n",
       "      <th></th>\n",
       "      <th>Price</th>\n",
       "      <th>VehicleType</th>\n",
       "      <th>RegistrationYear</th>\n",
       "      <th>Gearbox</th>\n",
       "      <th>Power</th>\n",
       "      <th>Model</th>\n",
       "      <th>Kilometer</th>\n",
       "      <th>FuelType</th>\n",
       "      <th>Brand</th>\n",
       "      <th>NotRepaired</th>\n",
       "    </tr>\n",
       "  </thead>\n",
       "  <tbody>\n",
       "    <tr>\n",
       "      <th>0</th>\n",
       "      <td>253.0</td>\n",
       "      <td>7.0</td>\n",
       "      <td>42.0</td>\n",
       "      <td>1.0</td>\n",
       "      <td>92.0</td>\n",
       "      <td>116.0</td>\n",
       "      <td>12.0</td>\n",
       "      <td>6.0</td>\n",
       "      <td>38.0</td>\n",
       "      <td>1.0</td>\n",
       "    </tr>\n",
       "    <tr>\n",
       "      <th>1</th>\n",
       "      <td>3550.0</td>\n",
       "      <td>2.0</td>\n",
       "      <td>60.0</td>\n",
       "      <td>1.0</td>\n",
       "      <td>185.0</td>\n",
       "      <td>228.0</td>\n",
       "      <td>11.0</td>\n",
       "      <td>2.0</td>\n",
       "      <td>1.0</td>\n",
       "      <td>2.0</td>\n",
       "    </tr>\n",
       "    <tr>\n",
       "      <th>2</th>\n",
       "      <td>2558.0</td>\n",
       "      <td>6.0</td>\n",
       "      <td>53.0</td>\n",
       "      <td>0.0</td>\n",
       "      <td>158.0</td>\n",
       "      <td>117.0</td>\n",
       "      <td>11.0</td>\n",
       "      <td>2.0</td>\n",
       "      <td>14.0</td>\n",
       "      <td>1.0</td>\n",
       "    </tr>\n",
       "    <tr>\n",
       "      <th>3</th>\n",
       "      <td>689.0</td>\n",
       "      <td>5.0</td>\n",
       "      <td>50.0</td>\n",
       "      <td>1.0</td>\n",
       "      <td>66.0</td>\n",
       "      <td>116.0</td>\n",
       "      <td>12.0</td>\n",
       "      <td>6.0</td>\n",
       "      <td>38.0</td>\n",
       "      <td>0.0</td>\n",
       "    </tr>\n",
       "    <tr>\n",
       "      <th>4</th>\n",
       "      <td>1314.0</td>\n",
       "      <td>5.0</td>\n",
       "      <td>57.0</td>\n",
       "      <td>1.0</td>\n",
       "      <td>60.0</td>\n",
       "      <td>101.0</td>\n",
       "      <td>9.0</td>\n",
       "      <td>2.0</td>\n",
       "      <td>31.0</td>\n",
       "      <td>0.0</td>\n",
       "    </tr>\n",
       "    <tr>\n",
       "      <th>...</th>\n",
       "      <td>...</td>\n",
       "      <td>...</td>\n",
       "      <td>...</td>\n",
       "      <td>...</td>\n",
       "      <td>...</td>\n",
       "      <td>...</td>\n",
       "      <td>...</td>\n",
       "      <td>...</td>\n",
       "      <td>...</td>\n",
       "      <td>...</td>\n",
       "    </tr>\n",
       "    <tr>\n",
       "      <th>328509</th>\n",
       "      <td>544.0</td>\n",
       "      <td>0.0</td>\n",
       "      <td>49.0</td>\n",
       "      <td>1.0</td>\n",
       "      <td>117.0</td>\n",
       "      <td>250.0</td>\n",
       "      <td>12.0</td>\n",
       "      <td>6.0</td>\n",
       "      <td>24.0</td>\n",
       "      <td>0.0</td>\n",
       "    </tr>\n",
       "    <tr>\n",
       "      <th>328510</th>\n",
       "      <td>910.0</td>\n",
       "      <td>7.0</td>\n",
       "      <td>54.0</td>\n",
       "      <td>2.0</td>\n",
       "      <td>101.0</td>\n",
       "      <td>228.0</td>\n",
       "      <td>2.0</td>\n",
       "      <td>7.0</td>\n",
       "      <td>33.0</td>\n",
       "      <td>1.0</td>\n",
       "    </tr>\n",
       "    <tr>\n",
       "      <th>328511</th>\n",
       "      <td>562.0</td>\n",
       "      <td>1.0</td>\n",
       "      <td>49.0</td>\n",
       "      <td>0.0</td>\n",
       "      <td>92.0</td>\n",
       "      <td>106.0</td>\n",
       "      <td>11.0</td>\n",
       "      <td>6.0</td>\n",
       "      <td>32.0</td>\n",
       "      <td>0.0</td>\n",
       "    </tr>\n",
       "    <tr>\n",
       "      <th>328512</th>\n",
       "      <td>2462.0</td>\n",
       "      <td>0.0</td>\n",
       "      <td>45.0</td>\n",
       "      <td>1.0</td>\n",
       "      <td>93.0</td>\n",
       "      <td>224.0</td>\n",
       "      <td>12.0</td>\n",
       "      <td>2.0</td>\n",
       "      <td>38.0</td>\n",
       "      <td>0.0</td>\n",
       "    </tr>\n",
       "    <tr>\n",
       "      <th>328513</th>\n",
       "      <td>1255.0</td>\n",
       "      <td>8.0</td>\n",
       "      <td>51.0</td>\n",
       "      <td>1.0</td>\n",
       "      <td>91.0</td>\n",
       "      <td>116.0</td>\n",
       "      <td>12.0</td>\n",
       "      <td>2.0</td>\n",
       "      <td>38.0</td>\n",
       "      <td>1.0</td>\n",
       "    </tr>\n",
       "  </tbody>\n",
       "</table>\n",
       "<p>328514 rows × 10 columns</p>\n",
       "</div>"
      ],
      "text/plain": [
       "         Price  VehicleType  RegistrationYear  Gearbox  Power  Model  \\\n",
       "0        253.0          7.0              42.0      1.0   92.0  116.0   \n",
       "1       3550.0          2.0              60.0      1.0  185.0  228.0   \n",
       "2       2558.0          6.0              53.0      0.0  158.0  117.0   \n",
       "3        689.0          5.0              50.0      1.0   66.0  116.0   \n",
       "4       1314.0          5.0              57.0      1.0   60.0  101.0   \n",
       "...        ...          ...               ...      ...    ...    ...   \n",
       "328509   544.0          0.0              49.0      1.0  117.0  250.0   \n",
       "328510   910.0          7.0              54.0      2.0  101.0  228.0   \n",
       "328511   562.0          1.0              49.0      0.0   92.0  106.0   \n",
       "328512  2462.0          0.0              45.0      1.0   93.0  224.0   \n",
       "328513  1255.0          8.0              51.0      1.0   91.0  116.0   \n",
       "\n",
       "        Kilometer  FuelType  Brand  NotRepaired  \n",
       "0            12.0       6.0   38.0          1.0  \n",
       "1            11.0       2.0    1.0          2.0  \n",
       "2            11.0       2.0   14.0          1.0  \n",
       "3            12.0       6.0   38.0          0.0  \n",
       "4             9.0       2.0   31.0          0.0  \n",
       "...           ...       ...    ...          ...  \n",
       "328509       12.0       6.0   24.0          0.0  \n",
       "328510        2.0       7.0   33.0          1.0  \n",
       "328511       11.0       6.0   32.0          0.0  \n",
       "328512       12.0       2.0   38.0          0.0  \n",
       "328513       12.0       2.0   38.0          1.0  \n",
       "\n",
       "[328514 rows x 10 columns]"
      ]
     },
     "metadata": {},
     "output_type": "display_data"
    }
   ],
   "source": [
    "encoder = OrdinalEncoder()\n",
    "data_oe = pd.DataFrame(encoder.fit_transform(data), columns=data.columns)\n",
    "display(data_oe)"
   ]
  },
  {
   "cell_type": "code",
   "execution_count": 37,
   "metadata": {},
   "outputs": [
    {
     "name": "stdout",
     "output_type": "stream",
     "text": [
      "(246385, 9)\n",
      "(82129, 9)\n"
     ]
    }
   ],
   "source": [
    "features_oe = data_oe.drop(['Price'], axis=1)\n",
    "target_oe = data_oe['Price']\n",
    "\n",
    "#разделяем выборку на обучающую и тестовую\n",
    "features_train_oe, features_test_oe = train_test_split(features_oe, \n",
    "                                                       test_size=0.25,\n",
    "                                                       random_state=12345)\n",
    "\n",
    "print(features_train_oe.shape)\n",
    "print(features_test_oe.shape)"
   ]
  },
  {
   "cell_type": "markdown",
   "metadata": {},
   "source": [
    "## Обучение моделей"
   ]
  },
  {
   "cell_type": "code",
   "execution_count": 38,
   "metadata": {
    "scrolled": true
   },
   "outputs": [],
   "source": [
    "#создаем оценщик моделей\n",
    "\n",
    "def rmse_function(y_true, y_pred):\n",
    "    mse = mean_squared_error(y_true, y_pred)\n",
    "    return abs(mse)**0.5\n",
    "\n",
    "rmse = make_scorer(rmse_function, greater_is_better=False)"
   ]
  },
  {
   "cell_type": "code",
   "execution_count": 39,
   "metadata": {},
   "outputs": [],
   "source": [
    "folds = StratifiedKFold(n_splits=5,  shuffle=True, random_state=12345)   "
   ]
  },
  {
   "cell_type": "code",
   "execution_count": 40,
   "metadata": {},
   "outputs": [],
   "source": [
    "results = {'training_time': [],\n",
    "           'pred_time': [],\n",
    "           'cv_rmse': [],\n",
    "           'test_rmse': []\n",
    "          }"
   ]
  },
  {
   "cell_type": "markdown",
   "metadata": {},
   "source": [
    "### Линейная регрессия"
   ]
  },
  {
   "cell_type": "code",
   "execution_count": 41,
   "metadata": {
    "scrolled": true
   },
   "outputs": [
    {
     "name": "stderr",
     "output_type": "stream",
     "text": [
      "/opt/conda/lib/python3.9/site-packages/sklearn/model_selection/_split.py:666: UserWarning: The least populated class in y has only 1 members, which is less than n_splits=5.\n",
      "  warnings.warn((\"The least populated class in y has only %d\"\n"
     ]
    },
    {
     "name": "stdout",
     "output_type": "stream",
     "text": [
      "2645.3519404675867\n"
     ]
    }
   ],
   "source": [
    "#обучаем модель\n",
    "model_lr = LinearRegression()\n",
    "cv_lr = cross_val_score(estimator=model_lr, \n",
    "                      X=features_train_ohe,\n",
    "                      y=target_train, \n",
    "                      scoring=rmse,\n",
    "                      cv=folds, \n",
    "                      n_jobs=-1)\n",
    "\n",
    "print(abs(cv_lr.mean()))\n",
    "#results.setdefault('cv_rmse',[]).append('{0:.2f}'.format(abs(res.mean())))"
   ]
  },
  {
   "cell_type": "code",
   "execution_count": 58,
   "metadata": {},
   "outputs": [],
   "source": [
    "#создаем функцию для автоматизации моделирования и записи результатов\n",
    "def modelling(model, features_train, target_train, features_test, target_test, cv_res):\n",
    "    start_train = time.time()\n",
    "    model.fit(features_train, target_train)\n",
    "    stop_train = time.time()\n",
    "    pred_test = model.predict(features_test)\n",
    "    stop_test = time.time()\n",
    "    results.setdefault('training_time',[]).append('{0:.3f}'.format(stop_train-start_train))\n",
    "    results.setdefault('pred_time',[]).append('{0:.3f}'.format(stop_test-stop_train))\n",
    "    results.setdefault('test_rmse',[]).append('{0:.2f}'.format(rmse_function(target_test, pred_test)))\n",
    "    results.setdefault('cv_rmse',[]).append('{0:.2f}'.format(abs(cv_res.mean())))\n",
    "    display(results)"
   ]
  },
  {
   "cell_type": "code",
   "execution_count": 43,
   "metadata": {},
   "outputs": [
    {
     "data": {
      "text/plain": [
       "{'training_time': ['23.590'],\n",
       " 'pred_time': ['0.139'],\n",
       " 'cv_rmse': ['2645.35'],\n",
       " 'test_rmse': ['2631.35']}"
      ]
     },
     "metadata": {},
     "output_type": "display_data"
    }
   ],
   "source": [
    "modelling(model_lr, features_train_ohe, target_train, features_test_ohe, target_test, cv_lr)"
   ]
  },
  {
   "cell_type": "markdown",
   "metadata": {},
   "source": [
    "* RMSE модели линейной регрессии на кросс-валидации равен 2645.35, на тестовой 2631.35. Результаты практически сходятся, значит модель достаточно обучена и не переобучилась.\n",
    "* Время обучения составило 18.4 с. Время предсказания 191 мс."
   ]
  },
  {
   "cell_type": "markdown",
   "metadata": {},
   "source": [
    "### Дерево решений"
   ]
  },
  {
   "cell_type": "code",
   "execution_count": 44,
   "metadata": {},
   "outputs": [
    {
     "name": "stderr",
     "output_type": "stream",
     "text": [
      "/opt/conda/lib/python3.9/site-packages/sklearn/model_selection/_split.py:666: UserWarning: The least populated class in y has only 1 members, which is less than n_splits=5.\n",
      "  warnings.warn((\"The least populated class in y has only %d\"\n"
     ]
    },
    {
     "name": "stdout",
     "output_type": "stream",
     "text": [
      "{'max_depth': 14}\n",
      "1928.286049056443\n",
      "CPU times: user 37.7 s, sys: 62.2 ms, total: 37.8 s\n",
      "Wall time: 37.9 s\n"
     ]
    }
   ],
   "source": [
    "%%time\n",
    "\n",
    "model_dt = DecisionTreeRegressor(random_state=12345)\n",
    "parameters = {'max_depth': range(3,21,1)}\n",
    "grid_dt = GridSearchCV(model_dt, param_grid=parameters, scoring=rmse, n_jobs=-1, cv=folds)\n",
    "grid_dt.fit(features_train_oe, target_train)\n",
    "cv_dt= grid_dt.best_score_\n",
    "print(grid_dt.best_params_)\n",
    "print(abs(grid_dt.best_score_))"
   ]
  },
  {
   "cell_type": "code",
   "execution_count": 45,
   "metadata": {
    "scrolled": false
   },
   "outputs": [
    {
     "data": {
      "text/plain": [
       "{'training_time': ['23.590', '0.655'],\n",
       " 'pred_time': ['0.139', '0.015'],\n",
       " 'cv_rmse': ['2645.35', '1928.29'],\n",
       " 'test_rmse': ['2631.35', '1889.56']}"
      ]
     },
     "metadata": {},
     "output_type": "display_data"
    }
   ],
   "source": [
    "modelling(grid_dt.best_estimator_, features_train_oe, target_train, features_test_oe, target_test, cv_dt)"
   ]
  },
  {
   "cell_type": "markdown",
   "metadata": {},
   "source": [
    "* Для дерева решений наиболее подходящая глубина 14.\n",
    "\n",
    "* Время обучения модели составило 0.6 с., время предсказания 14 мс.\n",
    "\n",
    "* RMSE на кросс-валидации составило 1928.29, на тестовой 1889.56."
   ]
  },
  {
   "cell_type": "markdown",
   "metadata": {},
   "source": [
    "### Случайный лес"
   ]
  },
  {
   "cell_type": "code",
   "execution_count": 46,
   "metadata": {
    "scrolled": true
   },
   "outputs": [
    {
     "name": "stderr",
     "output_type": "stream",
     "text": [
      "/opt/conda/lib/python3.9/site-packages/sklearn/model_selection/_split.py:666: UserWarning: The least populated class in y has only 1 members, which is less than n_splits=5.\n",
      "  warnings.warn((\"The least populated class in y has only %d\"\n"
     ]
    },
    {
     "name": "stdout",
     "output_type": "stream",
     "text": [
      "{'max_depth': 15, 'n_estimators': 500}\n",
      "1664.4110266199677\n",
      "CPU times: user 2h 54min 2s, sys: 28.6 s, total: 2h 54min 31s\n",
      "Wall time: 2h 54min 34s\n"
     ]
    }
   ],
   "source": [
    "%%time\n",
    "\n",
    "model_rf = RandomForestRegressor(random_state=12345)\n",
    "parameters = {'max_depth': range(3,16,1), 'n_estimators' : [10, 20, 40, 60, 100, 200, 300, 500]}\n",
    "grid_rf = GridSearchCV(model_rf, param_grid=parameters, scoring=rmse, n_jobs=-1, cv=folds)\n",
    "grid_rf.fit(features_train_oe, target_train)\n",
    "cv_rf= grid_rf.best_score_\n",
    "print(grid_rf.best_params_)\n",
    "print(abs(grid_rf.best_score_))"
   ]
  },
  {
   "cell_type": "code",
   "execution_count": 47,
   "metadata": {
    "scrolled": true
   },
   "outputs": [
    {
     "data": {
      "text/plain": [
       "{'training_time': ['23.590', '0.655', '260.594'],\n",
       " 'pred_time': ['0.139', '0.015', '7.322'],\n",
       " 'cv_rmse': ['2645.35', '1928.29', '1664.41'],\n",
       " 'test_rmse': ['2631.35', '1889.56', '1635.21']}"
      ]
     },
     "metadata": {},
     "output_type": "display_data"
    }
   ],
   "source": [
    "modelling(grid_rf.best_estimator_, features_train_oe, target_train, features_test_oe, target_test, cv_rf)"
   ]
  },
  {
   "cell_type": "markdown",
   "metadata": {},
   "source": [
    "* Оптимальные гиперпараметры для случайного леса: глубина 15, число деревьев 500.\n",
    "\n",
    "* Время обучения модели составило 242 с. (4 мин. 2 с.), время предсказания 7.8 с.\n",
    "\n",
    "* RMSE на кросс-валидации составил 1644.36, на тестовой выборке 1612.75. Модель не переобучена.\n",
    "\n",
    "Лучшие значения RMSE получили на максимальных гиперпараметрах из исследованных. Вероятно, качество модели можно еще повысить за счет увеличения количества деревьев и глубины. Однако имеющаяся модель уже медленно обучается и предсказывает, и за счет увеличения деревьев и глубины скорость снизится еще сильнее. Это не соответствует требованиям заказчика, поэтому дальнейшее увеличение гиперпараметров нецелесообразно."
   ]
  },
  {
   "cell_type": "markdown",
   "metadata": {},
   "source": [
    "### Модель градиентного бустинга"
   ]
  },
  {
   "cell_type": "markdown",
   "metadata": {},
   "source": [
    "Для моделей градиентного бустинга применять кодирование и масштабирование признаков нецелесообразно. Поэтому создаем новую выборку с признаками. Также для корректной работы моделей нужно перевести в категориальные признаки в формат категорий."
   ]
  },
  {
   "cell_type": "code",
   "execution_count": 48,
   "metadata": {},
   "outputs": [],
   "source": [
    "features = data.drop(['Price'], axis=1)\n",
    "cat_columns = ['VehicleType', 'Gearbox', 'Model', 'FuelType', 'Brand', 'NotRepaired']\n",
    "features[cat_columns] = features[cat_columns].astype('category')\n",
    "target = data['Price']\n",
    "\n",
    "features_train, features_test, target_train, target_test = train_test_split(features, \n",
    "                                                                            target, \n",
    "                                                                            test_size=0.25, \n",
    "                                                                            random_state=12345)"
   ]
  },
  {
   "cell_type": "markdown",
   "metadata": {},
   "source": [
    "**CatBoost**"
   ]
  },
  {
   "cell_type": "code",
   "execution_count": 49,
   "metadata": {},
   "outputs": [
    {
     "name": "stderr",
     "output_type": "stream",
     "text": [
      "/opt/conda/lib/python3.9/site-packages/sklearn/model_selection/_split.py:666: UserWarning: The least populated class in y has only 1 members, which is less than n_splits=5.\n",
      "  warnings.warn((\"The least populated class in y has only %d\"\n"
     ]
    },
    {
     "name": "stdout",
     "output_type": "stream",
     "text": [
      "{'depth': 15, 'iterations': 500, 'learning_rate': 0.1}\n",
      "-1569.6211573563899\n",
      "CPU times: user 11h 33min, sys: 32min 20s, total: 12h 5min 20s\n",
      "Wall time: 12h 8min 31s\n"
     ]
    }
   ],
   "source": [
    "%%time\n",
    "\n",
    "model_cbr = CatBoostRegressor(cat_features = cat_columns, thread_count=-1)\n",
    "parameters = {'learning_rate': [0.1, 0.2, 0.3],\n",
    "              'depth': [3, 6, 10, 15],\n",
    "              'iterations': [100, 200, 300, 500]\n",
    "             }\n",
    "grid_cbr = GridSearchCV(model_cbr, param_grid=parameters, cv=folds, scoring=rmse)\n",
    "\n",
    "grid_cbr.fit(features_train, target_train)\n",
    "cv_cbr = grid_cbr.best_score_\n",
    "\n",
    "print(grid_cbr.best_params_)\n",
    "print(grid_cbr.best_score_)"
   ]
  },
  {
   "cell_type": "code",
   "execution_count": 50,
   "metadata": {},
   "outputs": [
    {
     "name": "stdout",
     "output_type": "stream",
     "text": [
     ]
    },
    {
     "data": {
      "text/plain": [
       "{'training_time': ['23.590', '0.655', '260.594', '1061.043'],\n",
       " 'pred_time': ['0.139', '0.015', '7.322', '1.558'],\n",
       " 'cv_rmse': ['2645.35', '1928.29', '1664.41', '1569.62'],\n",
       " 'test_rmse': ['2631.35', '1889.56', '1635.21', '1554.53']}"
      ]
     },
     "metadata": {},
     "output_type": "display_data"
    }
   ],
   "source": [
    "modelling(grid_cbr.best_estimator_, features_train, target_train, features_test, target_test, cv_cbr)"
   ]
  },
  {
   "cell_type": "markdown",
   "metadata": {},
   "source": [
    "* Оптимальные гиперпараметры (среди исследованных) для CatBoostRegressor: learning_rate=0.1, depth=15, iterations=500.\n",
    "\n",
    "* Время обучения составило 1061 с. , предсказания - 1.6 с. \n",
    "\n",
    "* RMSE предсказаний на кросс-валидации составил 1569.62, на тестовой выборке 1554.53. Признаков переобучения нет."
   ]
  },
  {
   "cell_type": "markdown",
   "metadata": {},
   "source": [
    "**LightGBM**"
   ]
  },
  {
   "cell_type": "code",
   "execution_count": 51,
   "metadata": {},
   "outputs": [
    {
     "name": "stderr",
     "output_type": "stream",
     "text": [
      "/opt/conda/lib/python3.9/site-packages/sklearn/model_selection/_split.py:666: UserWarning: The least populated class in y has only 1 members, which is less than n_splits=5.\n",
      "  warnings.warn((\"The least populated class in y has only %d\"\n"
     ]
    },
    {
     "name": "stdout",
     "output_type": "stream",
     "text": [
      "{'learning_rate': 0.2, 'max_depth': 15, 'n_estimators': 500}\n",
      "-1564.8965688984892\n",
      "CPU times: user 2h 3min 22s, sys: 51.8 s, total: 2h 4min 14s\n",
      "Wall time: 2h 4min 59s\n"
     ]
    }
   ],
   "source": [
    "%%time\n",
    "\n",
    "model_lgbm = LGBMRegressor(n_jobs=-1, random_state=12345)\n",
    "parameters = {'learning_rate': [0.1, 0.2, 0.3],\n",
    "              'max_depth': [3, 6, 10, 15],\n",
    "              'n_estimators': [100, 200, 300, 500]\n",
    "             }\n",
    "grid_lgbm = GridSearchCV(model_lgbm, param_grid=parameters, cv=folds, scoring=rmse)\n",
    "\n",
    "grid_lgbm.fit(features_train, target_train)\n",
    "cv_lgbm = grid_lgbm.best_score_\n",
    "\n",
    "print(grid_lgbm.best_params_)\n",
    "print(grid_lgbm.best_score_)"
   ]
  },
  {
   "cell_type": "code",
   "execution_count": 52,
   "metadata": {},
   "outputs": [
    {
     "data": {
      "text/plain": [
       "{'training_time': ['23.590', '0.655', '260.594', '1061.043', '15.904'],\n",
       " 'pred_time': ['0.139', '0.015', '7.322', '1.558', '3.029'],\n",
       " 'cv_rmse': ['2645.35', '1928.29', '1664.41', '1569.62', '1564.90'],\n",
       " 'test_rmse': ['2631.35', '1889.56', '1635.21', '1554.53', '1554.78']}"
      ]
     },
     "metadata": {},
     "output_type": "display_data"
    }
   ],
   "source": [
    "modelling(grid_lgbm.best_estimator_, features_train, target_train, features_test, target_test, cv_lgbm)"
   ]
  },
  {
   "cell_type": "markdown",
   "metadata": {},
   "source": [
    "* Оптимальные гиперпараметры: learning_rate=0.2, max_depth=15, n_estimators=500.\n",
    "\n",
    "* Время обучения модели составило 15.9 с., предсказания 3 с.\n",
    "\n",
    "* RMSE предсказаний на кросс-валидации составил 1564.90, на тестовой выборке 1554.78."
   ]
  },
  {
   "cell_type": "markdown",
   "metadata": {},
   "source": [
    "## Анализ моделей"
   ]
  },
  {
   "cell_type": "code",
   "execution_count": 57,
   "metadata": {
    "scrolled": true
   },
   "outputs": [
    {
     "data": {
      "text/html": [
       "<div>\n",
       "<style scoped>\n",
       "    .dataframe tbody tr th:only-of-type {\n",
       "        vertical-align: middle;\n",
       "    }\n",
       "\n",
       "    .dataframe tbody tr th {\n",
       "        vertical-align: top;\n",
       "    }\n",
       "\n",
       "    .dataframe thead th {\n",
       "        text-align: right;\n",
       "    }\n",
       "</style>\n",
       "<table border=\"1\" class=\"dataframe\">\n",
       "  <thead>\n",
       "    <tr style=\"text-align: right;\">\n",
       "      <th></th>\n",
       "      <th>Linear_Regression</th>\n",
       "      <th>Decision_Tree</th>\n",
       "      <th>Random_Forest</th>\n",
       "      <th>Cat_Boost_Regressor</th>\n",
       "      <th>LGBM_Regressor</th>\n",
       "    </tr>\n",
       "  </thead>\n",
       "  <tbody>\n",
       "    <tr>\n",
       "      <th>training_time</th>\n",
       "      <td>23.590</td>\n",
       "      <td>0.655</td>\n",
       "      <td>260.594</td>\n",
       "      <td>1061.043</td>\n",
       "      <td>15.904</td>\n",
       "    </tr>\n",
       "    <tr>\n",
       "      <th>pred_time</th>\n",
       "      <td>0.139</td>\n",
       "      <td>0.015</td>\n",
       "      <td>7.322</td>\n",
       "      <td>1.558</td>\n",
       "      <td>3.029</td>\n",
       "    </tr>\n",
       "    <tr>\n",
       "      <th>cv_rmse</th>\n",
       "      <td>2645.35</td>\n",
       "      <td>1928.29</td>\n",
       "      <td>1664.41</td>\n",
       "      <td>1569.62</td>\n",
       "      <td>1564.90</td>\n",
       "    </tr>\n",
       "    <tr>\n",
       "      <th>test_rmse</th>\n",
       "      <td>2631.35</td>\n",
       "      <td>1889.56</td>\n",
       "      <td>1635.21</td>\n",
       "      <td>1554.53</td>\n",
       "      <td>1554.78</td>\n",
       "    </tr>\n",
       "  </tbody>\n",
       "</table>\n",
       "</div>"
      ],
      "text/plain": [
       "              Linear_Regression Decision_Tree Random_Forest  \\\n",
       "training_time            23.590         0.655       260.594   \n",
       "pred_time                 0.139         0.015         7.322   \n",
       "cv_rmse                 2645.35       1928.29       1664.41   \n",
       "test_rmse               2631.35       1889.56       1635.21   \n",
       "\n",
       "              Cat_Boost_Regressor LGBM_Regressor  \n",
       "training_time            1061.043         15.904  \n",
       "pred_time                   1.558          3.029  \n",
       "cv_rmse                   1569.62        1564.90  \n",
       "test_rmse                 1554.53        1554.78  "
      ]
     },
     "metadata": {},
     "output_type": "display_data"
    }
   ],
   "source": [
    "#строим таблицу с результатами\n",
    "columns = pd.Series(['Linear_Regression', 'Decision_Tree', 'Random_Forest', 'Cat_Boost_Regressor', 'LGBM_Regressor'])\n",
    "table = pd.DataFrame.from_dict(results, orient='index', columns=columns)\n",
    "display(table)"
   ]
  },
  {
   "cell_type": "markdown",
   "metadata": {},
   "source": [
    "* Простые модели (линейная регрессия, решающее дерево) имеют высокую скорость обучения и предсказания, но качество результатов намного ниже, чем у моделей градиентного бустинга.\n",
    "\n",
    "* Модель случайного леса долго обучается относительно простых моделей и LGBM. Скорость предсказаний у нее самая низкая из всех исследованных моделей. Качество результатов выше, чем у простых моделей, но ниже, чем у моделей градиентного бустинга.\n",
    "\n",
    "* Обе модели градиентного бустинга показали схожую точность результатов. Однако Cat_Boost_Regressor дольше всех обучалась (в 4 раза дольше, чем случайный лес). Скорость предсказаний у Cat_Boost_Regressor в десятки раз ниже, чем у простых моделей, но примерно в 5 раз выше, чем у случайного леса и в 2 раза выше, чем у LGBM.\n",
    "\n",
    "* Модель LGBM_Regressor\tимеет одну из самых высоких скоростей обучения (выше, чем у линейной регрессии), но скорость предсказаний одна из самых низких. Точность предсказаний у LGBM самая высокая из всех исследованных моделей.\n",
    "\n",
    "**Исходя из требований заказчика, оптимальной будет модель LGBM_Regressor. Она обеспечивает оптимальное соотношение точности и скорости предсказаний, а также времени обучения.**"
   ]
  }
 ],
 "metadata": {
  "ExecuteTimeLog": [
   {
    "duration": 70,
    "start_time": "2022-05-18T07:18:14.440Z"
   },
   {
    "duration": 63,
    "start_time": "2022-05-18T07:19:39.996Z"
   },
   {
    "duration": 1645,
    "start_time": "2022-05-18T07:19:46.008Z"
   },
   {
    "duration": 1446,
    "start_time": "2022-05-18T07:19:47.655Z"
   },
   {
    "duration": 27,
    "start_time": "2022-05-18T07:19:51.386Z"
   },
   {
    "duration": 130,
    "start_time": "2022-05-18T07:20:28.218Z"
   },
   {
    "duration": 475,
    "start_time": "2022-05-18T07:20:29.942Z"
   },
   {
    "duration": 76,
    "start_time": "2022-05-18T07:22:50.898Z"
   },
   {
    "duration": 430,
    "start_time": "2022-05-18T07:22:57.782Z"
   },
   {
    "duration": 473,
    "start_time": "2022-05-18T07:24:20.157Z"
   },
   {
    "duration": 551,
    "start_time": "2022-05-18T07:32:52.248Z"
   },
   {
    "duration": 481,
    "start_time": "2022-05-18T07:32:54.114Z"
   },
   {
    "duration": 156,
    "start_time": "2022-05-18T07:40:32.194Z"
   },
   {
    "duration": 226,
    "start_time": "2022-05-18T07:40:53.707Z"
   },
   {
    "duration": 39,
    "start_time": "2022-05-18T07:45:08.196Z"
   },
   {
    "duration": 223,
    "start_time": "2022-05-18T07:46:39.829Z"
   },
   {
    "duration": 10,
    "start_time": "2022-05-18T07:46:40.168Z"
   },
   {
    "duration": 46,
    "start_time": "2022-05-18T07:47:01.682Z"
   },
      {
    "duration": 39,
    "start_time": "2022-05-22T12:54:28.416Z"
   },
   {
    "duration": 5,
    "start_time": "2022-05-22T12:54:38.209Z"
   },
   {
    "duration": 5,
    "start_time": "2022-05-22T12:54:53.363Z"
   },
   {
    "duration": 1542,
    "start_time": "2022-05-22T12:54:53.371Z"
   },
   {
    "duration": 30,
    "start_time": "2022-05-22T12:54:54.915Z"
   },
   {
    "duration": 122,
    "start_time": "2022-05-22T12:54:54.947Z"
   },
   {
    "duration": 437,
    "start_time": "2022-05-22T12:54:55.071Z"
   },
   {
    "duration": 531,
    "start_time": "2022-05-22T12:54:55.510Z"
   },
   {
    "duration": 393,
    "start_time": "2022-05-22T12:54:56.043Z"
   },
   {
    "duration": 45,
    "start_time": "2022-05-22T12:54:56.441Z"
   },
   {
    "duration": 4,
    "start_time": "2022-05-22T12:54:56.489Z"
   },
   {
    "duration": 54,
    "start_time": "2022-05-22T12:54:56.494Z"
   },
   {
    "duration": 246,
    "start_time": "2022-05-22T12:54:56.550Z"
   },
   {
    "duration": 27,
    "start_time": "2022-05-22T12:54:56.798Z"
   },
   {
    "duration": 66,
    "start_time": "2022-05-22T12:54:56.841Z"
   },
   {
    "duration": 60,
    "start_time": "2022-05-22T12:54:56.910Z"
   },
   {
    "duration": 342,
    "start_time": "2022-05-22T12:54:56.972Z"
   },
   {
    "duration": 52,
    "start_time": "2022-05-22T12:54:57.316Z"
   },
   {
    "duration": 134,
    "start_time": "2022-05-22T12:54:57.371Z"
   },
   {
    "duration": 51,
    "start_time": "2022-05-22T12:54:57.507Z"
   },
   {
    "duration": 6,
    "start_time": "2022-05-22T12:55:02.526Z"
   }
  ],
  "kernelspec": {
   "display_name": "Python 3 (ipykernel)",
   "language": "python",
   "name": "python3"
  },
  "language_info": {
   "codemirror_mode": {
    "name": "ipython",
    "version": 3
   },
   "file_extension": ".py",
   "mimetype": "text/x-python",
   "name": "python",
   "nbconvert_exporter": "python",
   "pygments_lexer": "ipython3",
   "version": "3.9.12"
  },
  "toc": {
   "base_numbering": 1,
   "nav_menu": {
    "height": "245px",
    "width": "365px"
   },
   "number_sections": true,
   "sideBar": true,
   "skip_h1_title": true,
   "title_cell": "Table of Contents",
   "title_sidebar": "Contents",
   "toc_cell": false,
   "toc_position": {
    "height": "calc(100% - 180px)",
    "left": "10px",
    "top": "150px",
    "width": "383.188px"
   },
   "toc_section_display": true,
   "toc_window_display": true
  }
 },
 "nbformat": 4,
 "nbformat_minor": 2
}
