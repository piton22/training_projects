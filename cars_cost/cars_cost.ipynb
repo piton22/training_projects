{
 "cells": [
  {
   "cell_type": "markdown",
   "metadata": {},
   "source": [
    "# Определение стоимости автомобилей"
   ]
  },
  {
   "cell_type": "markdown",
   "metadata": {},
   "source": [
    "Сервис по продаже подержанных автомобилей разрабатывает приложение для привлечения новых клиентов. С помощью приложения можно узнать рыночную стоимость своего автомобиля. Нам предоставлены исторические данные об автомобилях: технические характеристики, комплектации и цены.\n",
    "\n",
    "Заказчику важны:\n",
    "\n",
    "- качество предсказания;\n",
    "- скорость предсказания;\n",
    "- время обучения."
   ]
  },
  {
   "cell_type": "markdown",
   "metadata": {},
   "source": [
    "## Подготовка данных"
   ]
  },
  {
   "cell_type": "code",
   "execution_count": 31,
   "metadata": {},
   "outputs": [],
   "source": [
    "#импортируем нужные библиотеки\n",
    "import pandas as pd\n",
    "import matplotlib\n",
    "import numpy as np\n",
    "from matplotlib import pyplot as plt\n",
    "from sklearn.model_selection import train_test_split\n",
    "from sklearn.preprocessing import StandardScaler\n",
    "from sklearn.metrics import mean_squared_error\n",
    "from sklearn.linear_model import LinearRegression\n",
    "from sklearn.tree import DecisionTreeRegressor\n",
    "from sklearn.ensemble import RandomForestRegressor\n",
    "from sklearn.metrics import make_scorer\n",
    "from lightgbm import LGBMRegressor \n",
    "from catboost import CatBoostRegressor\n",
    "from sklearn.preprocessing import OrdinalEncoder\n",
    "from sklearn.model_selection import StratifiedKFold\n",
    "from sklearn.model_selection import cross_val_score\n",
    "from sklearn.model_selection import TimeSeriesSplit, GridSearchCV\n",
    "import time \n",
    "\n",
    "#давим варнинги\n",
    "from warnings import simplefilter\n",
    "simplefilter(action='ignore', category=FutureWarning)"
   ]
  },
  {
   "cell_type": "code",
   "execution_count": 32,
   "metadata": {},
   "outputs": [
    {
     "name": "stdout",
     "output_type": "stream",
     "text": [
      "<class 'pandas.core.frame.DataFrame'>\n",
      "RangeIndex: 354369 entries, 0 to 354368\n",
      "Data columns (total 16 columns):\n",
      " #   Column             Non-Null Count   Dtype \n",
      "---  ------             --------------   ----- \n",
      " 0   DateCrawled        354369 non-null  object\n",
      " 1   Price              354369 non-null  int64 \n",
      " 2   VehicleType        316879 non-null  object\n",
      " 3   RegistrationYear   354369 non-null  int64 \n",
      " 4   Gearbox            334536 non-null  object\n",
      " 5   Power              354369 non-null  int64 \n",
      " 6   Model              334664 non-null  object\n",
      " 7   Kilometer          354369 non-null  int64 \n",
      " 8   RegistrationMonth  354369 non-null  int64 \n",
      " 9   FuelType           321474 non-null  object\n",
      " 10  Brand              354369 non-null  object\n",
      " 11  NotRepaired        283215 non-null  object\n",
      " 12  DateCreated        354369 non-null  object\n",
      " 13  NumberOfPictures   354369 non-null  int64 \n",
      " 14  PostalCode         354369 non-null  int64 \n",
      " 15  LastSeen           354369 non-null  object\n",
      "dtypes: int64(7), object(9)\n",
      "memory usage: 43.3+ MB\n"
     ]
    }
   ],
   "source": [
    "#открываем и изучаем данные\n",
    "df = pd.read_csv('/datasets/autos.csv')\n",
    "df.info()"
   ]
  },
  {
   "cell_type": "code",
   "execution_count": 33,
   "metadata": {
    "scrolled": false
   },
   "outputs": [
    {
     "data": {
      "text/html": [
       "<div>\n",
       "<style scoped>\n",
       "    .dataframe tbody tr th:only-of-type {\n",
       "        vertical-align: middle;\n",
       "    }\n",
       "\n",
       "    .dataframe tbody tr th {\n",
       "        vertical-align: top;\n",
       "    }\n",
       "\n",
       "    .dataframe thead th {\n",
       "        text-align: right;\n",
       "    }\n",
       "</style>\n",
       "<table border=\"1\" class=\"dataframe\">\n",
       "  <thead>\n",
       "    <tr style=\"text-align: right;\">\n",
       "      <th></th>\n",
       "      <th>DateCrawled</th>\n",
       "      <th>Price</th>\n",
       "      <th>VehicleType</th>\n",
       "      <th>RegistrationYear</th>\n",
       "      <th>Gearbox</th>\n",
       "      <th>Power</th>\n",
       "      <th>Model</th>\n",
       "      <th>Kilometer</th>\n",
       "      <th>RegistrationMonth</th>\n",
       "      <th>FuelType</th>\n",
       "      <th>Brand</th>\n",
       "      <th>NotRepaired</th>\n",
       "      <th>DateCreated</th>\n",
       "      <th>NumberOfPictures</th>\n",
       "      <th>PostalCode</th>\n",
       "      <th>LastSeen</th>\n",
       "    </tr>\n",
       "  </thead>\n",
       "  <tbody>\n",
       "    <tr>\n",
       "      <th>0</th>\n",
       "      <td>2016-03-24 11:52:17</td>\n",
       "      <td>480</td>\n",
       "      <td>NaN</td>\n",
       "      <td>1993</td>\n",
       "      <td>manual</td>\n",
       "      <td>0</td>\n",
       "      <td>golf</td>\n",
       "      <td>150000</td>\n",
       "      <td>0</td>\n",
       "      <td>petrol</td>\n",
       "      <td>volkswagen</td>\n",
       "      <td>NaN</td>\n",
       "      <td>2016-03-24 00:00:00</td>\n",
       "      <td>0</td>\n",
       "      <td>70435</td>\n",
       "      <td>2016-04-07 03:16:57</td>\n",
       "    </tr>\n",
       "    <tr>\n",
       "      <th>1</th>\n",
       "      <td>2016-03-24 10:58:45</td>\n",
       "      <td>18300</td>\n",
       "      <td>coupe</td>\n",
       "      <td>2011</td>\n",
       "      <td>manual</td>\n",
       "      <td>190</td>\n",
       "      <td>NaN</td>\n",
       "      <td>125000</td>\n",
       "      <td>5</td>\n",
       "      <td>gasoline</td>\n",
       "      <td>audi</td>\n",
       "      <td>yes</td>\n",
       "      <td>2016-03-24 00:00:00</td>\n",
       "      <td>0</td>\n",
       "      <td>66954</td>\n",
       "      <td>2016-04-07 01:46:50</td>\n",
       "    </tr>\n",
       "    <tr>\n",
       "      <th>2</th>\n",
       "      <td>2016-03-14 12:52:21</td>\n",
       "      <td>9800</td>\n",
       "      <td>suv</td>\n",
       "      <td>2004</td>\n",
       "      <td>auto</td>\n",
       "      <td>163</td>\n",
       "      <td>grand</td>\n",
       "      <td>125000</td>\n",
       "      <td>8</td>\n",
       "      <td>gasoline</td>\n",
       "      <td>jeep</td>\n",
       "      <td>NaN</td>\n",
       "      <td>2016-03-14 00:00:00</td>\n",
       "      <td>0</td>\n",
       "      <td>90480</td>\n",
       "      <td>2016-04-05 12:47:46</td>\n",
       "    </tr>\n",
       "    <tr>\n",
       "      <th>3</th>\n",
       "      <td>2016-03-17 16:54:04</td>\n",
       "      <td>1500</td>\n",
       "      <td>small</td>\n",
       "      <td>2001</td>\n",
       "      <td>manual</td>\n",
       "      <td>75</td>\n",
       "      <td>golf</td>\n",
       "      <td>150000</td>\n",
       "      <td>6</td>\n",
       "      <td>petrol</td>\n",
       "      <td>volkswagen</td>\n",
       "      <td>no</td>\n",
       "      <td>2016-03-17 00:00:00</td>\n",
       "      <td>0</td>\n",
       "      <td>91074</td>\n",
       "      <td>2016-03-17 17:40:17</td>\n",
       "    </tr>\n",
       "    <tr>\n",
       "      <th>4</th>\n",
       "      <td>2016-03-31 17:25:20</td>\n",
       "      <td>3600</td>\n",
       "      <td>small</td>\n",
       "      <td>2008</td>\n",
       "      <td>manual</td>\n",
       "      <td>69</td>\n",
       "      <td>fabia</td>\n",
       "      <td>90000</td>\n",
       "      <td>7</td>\n",
       "      <td>gasoline</td>\n",
       "      <td>skoda</td>\n",
       "      <td>no</td>\n",
       "      <td>2016-03-31 00:00:00</td>\n",
       "      <td>0</td>\n",
       "      <td>60437</td>\n",
       "      <td>2016-04-06 10:17:21</td>\n",
       "    </tr>\n",
       "    <tr>\n",
       "      <th>...</th>\n",
       "      <td>...</td>\n",
       "      <td>...</td>\n",
       "      <td>...</td>\n",
       "      <td>...</td>\n",
       "      <td>...</td>\n",
       "      <td>...</td>\n",
       "      <td>...</td>\n",
       "      <td>...</td>\n",
       "      <td>...</td>\n",
       "      <td>...</td>\n",
       "      <td>...</td>\n",
       "      <td>...</td>\n",
       "      <td>...</td>\n",
       "      <td>...</td>\n",
       "      <td>...</td>\n",
       "      <td>...</td>\n",
       "    </tr>\n",
       "    <tr>\n",
       "      <th>354364</th>\n",
       "      <td>2016-03-21 09:50:58</td>\n",
       "      <td>0</td>\n",
       "      <td>NaN</td>\n",
       "      <td>2005</td>\n",
       "      <td>manual</td>\n",
       "      <td>0</td>\n",
       "      <td>colt</td>\n",
       "      <td>150000</td>\n",
       "      <td>7</td>\n",
       "      <td>petrol</td>\n",
       "      <td>mitsubishi</td>\n",
       "      <td>yes</td>\n",
       "      <td>2016-03-21 00:00:00</td>\n",
       "      <td>0</td>\n",
       "      <td>2694</td>\n",
       "      <td>2016-03-21 10:42:49</td>\n",
       "    </tr>\n",
       "    <tr>\n",
       "      <th>354365</th>\n",
       "      <td>2016-03-14 17:48:27</td>\n",
       "      <td>2200</td>\n",
       "      <td>NaN</td>\n",
       "      <td>2005</td>\n",
       "      <td>NaN</td>\n",
       "      <td>0</td>\n",
       "      <td>NaN</td>\n",
       "      <td>20000</td>\n",
       "      <td>1</td>\n",
       "      <td>NaN</td>\n",
       "      <td>sonstige_autos</td>\n",
       "      <td>NaN</td>\n",
       "      <td>2016-03-14 00:00:00</td>\n",
       "      <td>0</td>\n",
       "      <td>39576</td>\n",
       "      <td>2016-04-06 00:46:52</td>\n",
       "    </tr>\n",
       "    <tr>\n",
       "      <th>354366</th>\n",
       "      <td>2016-03-05 19:56:21</td>\n",
       "      <td>1199</td>\n",
       "      <td>convertible</td>\n",
       "      <td>2000</td>\n",
       "      <td>auto</td>\n",
       "      <td>101</td>\n",
       "      <td>fortwo</td>\n",
       "      <td>125000</td>\n",
       "      <td>3</td>\n",
       "      <td>petrol</td>\n",
       "      <td>smart</td>\n",
       "      <td>no</td>\n",
       "      <td>2016-03-05 00:00:00</td>\n",
       "      <td>0</td>\n",
       "      <td>26135</td>\n",
       "      <td>2016-03-11 18:17:12</td>\n",
       "    </tr>\n",
       "    <tr>\n",
       "      <th>354367</th>\n",
       "      <td>2016-03-19 18:57:12</td>\n",
       "      <td>9200</td>\n",
       "      <td>bus</td>\n",
       "      <td>1996</td>\n",
       "      <td>manual</td>\n",
       "      <td>102</td>\n",
       "      <td>transporter</td>\n",
       "      <td>150000</td>\n",
       "      <td>3</td>\n",
       "      <td>gasoline</td>\n",
       "      <td>volkswagen</td>\n",
       "      <td>no</td>\n",
       "      <td>2016-03-19 00:00:00</td>\n",
       "      <td>0</td>\n",
       "      <td>87439</td>\n",
       "      <td>2016-04-07 07:15:26</td>\n",
       "    </tr>\n",
       "    <tr>\n",
       "      <th>354368</th>\n",
       "      <td>2016-03-20 19:41:08</td>\n",
       "      <td>3400</td>\n",
       "      <td>wagon</td>\n",
       "      <td>2002</td>\n",
       "      <td>manual</td>\n",
       "      <td>100</td>\n",
       "      <td>golf</td>\n",
       "      <td>150000</td>\n",
       "      <td>6</td>\n",
       "      <td>gasoline</td>\n",
       "      <td>volkswagen</td>\n",
       "      <td>NaN</td>\n",
       "      <td>2016-03-20 00:00:00</td>\n",
       "      <td>0</td>\n",
       "      <td>40764</td>\n",
       "      <td>2016-03-24 12:45:21</td>\n",
       "    </tr>\n",
       "  </tbody>\n",
       "</table>\n",
       "<p>354369 rows × 16 columns</p>\n",
       "</div>"
      ],
      "text/plain": [
       "                DateCrawled  Price  VehicleType  RegistrationYear Gearbox  \\\n",
       "0       2016-03-24 11:52:17    480          NaN              1993  manual   \n",
       "1       2016-03-24 10:58:45  18300        coupe              2011  manual   \n",
       "2       2016-03-14 12:52:21   9800          suv              2004    auto   \n",
       "3       2016-03-17 16:54:04   1500        small              2001  manual   \n",
       "4       2016-03-31 17:25:20   3600        small              2008  manual   \n",
       "...                     ...    ...          ...               ...     ...   \n",
       "354364  2016-03-21 09:50:58      0          NaN              2005  manual   \n",
       "354365  2016-03-14 17:48:27   2200          NaN              2005     NaN   \n",
       "354366  2016-03-05 19:56:21   1199  convertible              2000    auto   \n",
       "354367  2016-03-19 18:57:12   9200          bus              1996  manual   \n",
       "354368  2016-03-20 19:41:08   3400        wagon              2002  manual   \n",
       "\n",
       "        Power        Model  Kilometer  RegistrationMonth  FuelType  \\\n",
       "0           0         golf     150000                  0    petrol   \n",
       "1         190          NaN     125000                  5  gasoline   \n",
       "2         163        grand     125000                  8  gasoline   \n",
       "3          75         golf     150000                  6    petrol   \n",
       "4          69        fabia      90000                  7  gasoline   \n",
       "...       ...          ...        ...                ...       ...   \n",
       "354364      0         colt     150000                  7    petrol   \n",
       "354365      0          NaN      20000                  1       NaN   \n",
       "354366    101       fortwo     125000                  3    petrol   \n",
       "354367    102  transporter     150000                  3  gasoline   \n",
       "354368    100         golf     150000                  6  gasoline   \n",
       "\n",
       "                 Brand NotRepaired          DateCreated  NumberOfPictures  \\\n",
       "0           volkswagen         NaN  2016-03-24 00:00:00                 0   \n",
       "1                 audi         yes  2016-03-24 00:00:00                 0   \n",
       "2                 jeep         NaN  2016-03-14 00:00:00                 0   \n",
       "3           volkswagen          no  2016-03-17 00:00:00                 0   \n",
       "4                skoda          no  2016-03-31 00:00:00                 0   \n",
       "...                ...         ...                  ...               ...   \n",
       "354364      mitsubishi         yes  2016-03-21 00:00:00                 0   \n",
       "354365  sonstige_autos         NaN  2016-03-14 00:00:00                 0   \n",
       "354366           smart          no  2016-03-05 00:00:00                 0   \n",
       "354367      volkswagen          no  2016-03-19 00:00:00                 0   \n",
       "354368      volkswagen         NaN  2016-03-20 00:00:00                 0   \n",
       "\n",
       "        PostalCode             LastSeen  \n",
       "0            70435  2016-04-07 03:16:57  \n",
       "1            66954  2016-04-07 01:46:50  \n",
       "2            90480  2016-04-05 12:47:46  \n",
       "3            91074  2016-03-17 17:40:17  \n",
       "4            60437  2016-04-06 10:17:21  \n",
       "...            ...                  ...  \n",
       "354364        2694  2016-03-21 10:42:49  \n",
       "354365       39576  2016-04-06 00:46:52  \n",
       "354366       26135  2016-03-11 18:17:12  \n",
       "354367       87439  2016-04-07 07:15:26  \n",
       "354368       40764  2016-03-24 12:45:21  \n",
       "\n",
       "[354369 rows x 16 columns]"
      ]
     },
     "metadata": {},
     "output_type": "display_data"
    }
   ],
   "source": [
    "display(df)"
   ]
  },
  {
   "cell_type": "code",
   "execution_count": 34,
   "metadata": {
    "scrolled": true
   },
   "outputs": [
    {
     "data": {
      "text/plain": [
       "DateCrawled              0\n",
       "Price                    0\n",
       "VehicleType          37490\n",
       "RegistrationYear         0\n",
       "Gearbox              19833\n",
       "Power                    0\n",
       "Model                19705\n",
       "Kilometer                0\n",
       "RegistrationMonth        0\n",
       "FuelType             32895\n",
       "Brand                    0\n",
       "NotRepaired          71154\n",
       "DateCreated              0\n",
       "NumberOfPictures         0\n",
       "PostalCode               0\n",
       "LastSeen                 0\n",
       "dtype: int64"
      ]
     },
     "execution_count": 34,
     "metadata": {},
     "output_type": "execute_result"
    }
   ],
   "source": [
    "#проверяем на пропуски\n",
    "df.isna().sum()"
   ]
  },
  {
   "cell_type": "code",
   "execution_count": 35,
   "metadata": {
    "scrolled": true
   },
   "outputs": [
    {
     "data": {
      "text/plain": [
       "4"
      ]
     },
     "execution_count": 35,
     "metadata": {},
     "output_type": "execute_result"
    }
   ],
   "source": [
    "#проверяем на дубликаты\n",
    "df.duplicated().sum()\n",
    "\n",
    "#удаляем дубликаты\n",
    "df = df.drop_duplicates().reset_index(drop=True)"
   ]
  },
  {
   "cell_type": "markdown",
   "metadata": {},
   "source": [
    "**Исследование признаков**"
   ]
  },
  {
   "cell_type": "code",
   "execution_count": 37,
   "metadata": {
    "scrolled": false
   },
   "outputs": [
    {
     "data": {
      "image/png": "[encoded data removed]",
      "text/plain": [
       "<Figure size 720x720 with 2 Axes>"
      ]
     },
     "metadata": {
      "needs_background": "light"
     },
     "output_type": "display_data"
    },
    {
     "data": {
      "text/plain": [
       "count    354365.000000\n",
       "mean       4416.679830\n",
       "std        4514.176349\n",
       "min           0.000000\n",
       "25%        1050.000000\n",
       "50%        2700.000000\n",
       "75%        6400.000000\n",
       "max       20000.000000\n",
       "Name: Price, dtype: float64"
      ]
     },
     "execution_count": 37,
     "metadata": {},
     "output_type": "execute_result"
    }
   ],
   "source": [
    "#строим распределение \n",
    "plt.figure(figsize=(10, 10))\n",
    "plt.subplot(211)\n",
    "plt.hist(df['Price'], bins=30,range=(0,20000))\n",
    "plt.title('Распределение цены')\n",
    "plt.xlabel('Цена, евро')\n",
    "plt.ylabel('Частота')\n",
    "\n",
    "plt.subplot(212)\n",
    "plt.hist(df['Price'], bins=30,range=(0,200))\n",
    "plt.title('Распределение цены в интервале от 0 до 200 евро')\n",
    "plt.xlabel('Цена, евро')\n",
    "plt.ylabel('Частота')\n",
    "plt.show()\n",
    "df['Price'].describe()"
   ]
  },
  {
   "cell_type": "markdown",
   "metadata": {},
   "source": [
    "В распределении цены присутствуют большое число значений в районе 0 (более 3%). Эти значения не правдоподобны и могут снизить эффективность предсказаний, поэтому отфильтровываем их."
   ]
  },
  {
   "cell_type": "code",
   "execution_count": 38,
   "metadata": {},
   "outputs": [],
   "source": [
    "#удаляем выбросы\n",
    "df_clear = df.query('Price > 1')"
   ]
  },
  {
   "cell_type": "code",
   "execution_count": 39,
   "metadata": {},
   "outputs": [
    {
     "data": {
      "text/plain": [
       "0.9662466665726017"
      ]
     },
     "execution_count": 39,
     "metadata": {},
     "output_type": "execute_result"
    }
   ],
   "source": [
    "df_clear.shape[0] / df.shape[0]"
   ]
  },
  {
   "cell_type": "code",
   "execution_count": 40,
   "metadata": {},
   "outputs": [
    {
     "data": {
      "text/plain": [
       "sedan          0.288622\n",
       "small          0.251929\n",
       "wagon          0.205649\n",
       "bus            0.090809\n",
       "convertible    0.063757\n",
       "coupe          0.051001\n",
       "suv            0.037857\n",
       "other          0.010376\n",
       "Name: VehicleType, dtype: float64"
      ]
     },
     "execution_count": 40,
     "metadata": {},
     "output_type": "execute_result"
    }
   ],
   "source": [
    "df['VehicleType'].value_counts(normalize=True)"
   ]
  },
  {
   "cell_type": "code",
   "execution_count": 41,
   "metadata": {},
   "outputs": [
    {
     "data": {
      "image/png": "[encoded data removed]",
      "text/plain": [
       "<Figure size 864x504 with 1 Axes>"
      ]
     },
     "metadata": {
      "needs_background": "light"
     },
     "output_type": "display_data"
    },
    {
     "data": {
      "text/plain": [
       "count    354365.000000\n",
       "mean       2004.234481\n",
       "std          90.228466\n",
       "min        1000.000000\n",
       "25%        1999.000000\n",
       "50%        2003.000000\n",
       "75%        2008.000000\n",
       "max        9999.000000\n",
       "Name: RegistrationYear, dtype: float64"
      ]
     },
     "execution_count": 41,
     "metadata": {},
     "output_type": "execute_result"
    }
   ],
   "source": [
    "plt.figure(figsize=(12, 7))\n",
    "plt.hist(df['RegistrationYear'],bins=50, range=(1950,2022))\n",
    "plt.title('Распределение по году регистрации')\n",
    "plt.xlabel('Год')\n",
    "plt.ylabel('Частота')\n",
    "plt.show()\n",
    "df['RegistrationYear'].describe()"
   ]
  },
  {
   "cell_type": "code",
   "execution_count": 42,
   "metadata": {},
   "outputs": [
    {
     "data": {
      "text/plain": [
       "'2016-04-07 14:36:58'"
      ]
     },
     "execution_count": 42,
     "metadata": {},
     "output_type": "execute_result"
    }
   ],
   "source": [
    "df['DateCrawled'].max()"
   ]
  },
  {
   "cell_type": "code",
   "execution_count": 43,
   "metadata": {},
   "outputs": [
    {
     "name": "stdout",
     "output_type": "stream",
     "text": [
      "0.9594338851181645\n"
     ]
    }
   ],
   "source": [
    "x = df_clear.query('1950 < RegistrationYear <= 2016')\n",
    "print(x.shape[0] / df_clear.shape[0])\n",
    "df_clear = x"
   ]
  },
  {
   "cell_type": "markdown",
   "metadata": {},
   "source": [
    "В данных по годам регистрации присутствуют аномальные значения, отфильтровываем их. Исходя из анкет, данные получены не позднее 2016 года, значит значения позднее 2016 ошибочны, - фильтруем их. "
   ]
  },
  {
   "cell_type": "code",
   "execution_count": 44,
   "metadata": {},
   "outputs": [
    {
     "data": {
      "text/plain": [
       "manual    0.801863\n",
       "auto      0.198137\n",
       "Name: Gearbox, dtype: float64"
      ]
     },
     "execution_count": 44,
     "metadata": {},
     "output_type": "execute_result"
    }
   ],
   "source": [
    "df['Gearbox'].value_counts(normalize=True)"
   ]
  },
  {
   "cell_type": "code",
   "execution_count": 45,
   "metadata": {
    "scrolled": false
   },
   "outputs": [
    {
     "data": {
      "image/png": "[encoded data removed]",
      "text/plain": [
       "<Figure size 864x504 with 1 Axes>"
      ]
     },
     "metadata": {
      "needs_background": "light"
     },
     "output_type": "display_data"
    },
    {
     "data": {
      "text/plain": [
       "count    354365.000000\n",
       "mean        110.093816\n",
       "std         189.851330\n",
       "min           0.000000\n",
       "25%          69.000000\n",
       "50%         105.000000\n",
       "75%         143.000000\n",
       "max       20000.000000\n",
       "Name: Power, dtype: float64"
      ]
     },
     "execution_count": 45,
     "metadata": {},
     "output_type": "execute_result"
    }
   ],
   "source": [
    "plt.figure(figsize=(12, 7))\n",
    "plt.hist(df['Power'], bins=50, range=(0,500))\n",
    "plt.title('Распределение мощностей')\n",
    "plt.xlabel('Мощность, л.с.')\n",
    "plt.ylabel('Частота')\n",
    "plt.show()\n",
    "df['Power'].describe()"
   ]
  },
  {
   "cell_type": "markdown",
   "metadata": {},
   "source": [
    "Значения ниже 10 л.с. кажутся подозрительными. Значения выше 400 практически не встречаются, но могут исказить оценку. Однако мы не можем их отфильтровать, т.к. таких значений более 10%. Вероятно, нулевые значения означают отсутствие информации о мощности авто. Т.к. у одинаковых моделей авто примерно одна мощность, целесообразно заменить аномальные значения медианой по модели."
   ]
  },
  {
   "cell_type": "code",
   "execution_count": 46,
   "metadata": {
    "scrolled": true
   },
   "outputs": [
    {
     "name": "stdout",
     "output_type": "stream",
     "text": [
      "0.8988170975970583\n"
     ]
    }
   ],
   "source": [
    "x = df_clear.query('10 < Power < 400').shape[0]\n",
    "print(x / df_clear.shape[0])"
   ]
  },
  {
   "cell_type": "code",
   "execution_count": 47,
   "metadata": {
    "scrolled": false
   },
   "outputs": [
    {
     "name": "stdout",
     "output_type": "stream",
     "text": [
      "<class 'pandas.core.frame.DataFrame'>\n",
      "Int64Index: 328514 entries, 0 to 354364\n",
      "Data columns (total 16 columns):\n",
      " #   Column             Non-Null Count   Dtype  \n",
      "---  ------             --------------   -----  \n",
      " 0   DateCrawled        328514 non-null  object \n",
      " 1   Price              328514 non-null  int64  \n",
      " 2   VehicleType        309009 non-null  object \n",
      " 3   RegistrationYear   328514 non-null  int64  \n",
      " 4   Gearbox            313313 non-null  object \n",
      " 5   Power              295331 non-null  float64\n",
      " 6   Model              313166 non-null  object \n",
      " 7   Kilometer          328514 non-null  int64  \n",
      " 8   RegistrationMonth  328514 non-null  int64  \n",
      " 9   FuelType           304798 non-null  object \n",
      " 10  Brand              328514 non-null  object \n",
      " 11  NotRepaired        269302 non-null  object \n",
      " 12  DateCreated        328514 non-null  object \n",
      " 13  NumberOfPictures   328514 non-null  int64  \n",
      " 14  PostalCode         328514 non-null  int64  \n",
      " 15  LastSeen           328514 non-null  object \n",
      "dtypes: float64(1), int64(6), object(9)\n",
      "memory usage: 42.6+ MB\n"
     ]
    }
   ],
   "source": [
    "df_clear.loc[(df_clear['Power'] < 10)|(df_clear['Power'] > 400) , 'Power'] = np.nan\n",
    "df_clear.info()"
   ]
  },
  {
   "cell_type": "code",
   "execution_count": 18,
   "metadata": {},
   "outputs": [
    {
     "data": {
      "text/plain": [
       "0.013414953396202293"
      ]
     },
     "execution_count": 18,
     "metadata": {},
     "output_type": "execute_result"
    }
   ],
   "source": [
    "df_clear['Power'] = df_clear['Power'].fillna(df_clear.groupby('Model')['Power'].transform('median'))\n",
    "df_clear['Power'].isna().mean()"
   ]
  },
  {
   "cell_type": "markdown",
   "metadata": {},
   "source": [
    "Т.к. в столбце 'Model' присутствуют пропуски, некоторые пропуски в 'Power' на основе модели заполнить не удалось (в столбце осталось 1.3% пропусков). Заполняем оставшиеся пропуски медианой по всему столбцу. Т.к. пропусков мало, общая картина не исказится."
   ]
  },
  {
   "cell_type": "code",
   "execution_count": 19,
   "metadata": {},
   "outputs": [
    {
     "data": {
      "text/plain": [
       "0.0"
      ]
     },
     "execution_count": 19,
     "metadata": {},
     "output_type": "execute_result"
    }
   ],
   "source": [
    "df_clear['Power'] = df_clear['Power'].fillna(df_clear['Power'].median())\n",
    "df_clear['Power'].isna().mean()"
   ]
  },
  {
   "cell_type": "code",
   "execution_count": 20,
   "metadata": {
    "scrolled": false
   },
   "outputs": [
    {
     "data": {
      "image/png": "[encoded data removed]",
      "text/plain": [
       "<Figure size 864x504 with 1 Axes>"
      ]
     },
     "metadata": {
      "needs_background": "light"
     },
     "output_type": "display_data"
    },
    {
     "data": {
      "text/plain": [
       "count    354365.000000\n",
       "mean     128211.363989\n",
       "std       37905.083858\n",
       "min        5000.000000\n",
       "25%      125000.000000\n",
       "50%      150000.000000\n",
       "75%      150000.000000\n",
       "max      150000.000000\n",
       "Name: Kilometer, dtype: float64"
      ]
     },
     "execution_count": 20,
     "metadata": {},
     "output_type": "execute_result"
    }
   ],
   "source": [
    "plt.figure(figsize=(12, 7))\n",
    "plt.hist(df['Kilometer'], bins=20)\n",
    "plt.title('Распределение пробега')\n",
    "plt.xlabel('Пробег, км')\n",
    "plt.ylabel('Частота')\n",
    "plt.show()\n",
    "df['Kilometer'].describe()"
   ]
  },
  {
   "cell_type": "code",
   "execution_count": 21,
   "metadata": {},
   "outputs": [
    {
     "data": {
      "text/plain": [
       "petrol      0.672999\n",
       "gasoline    0.307086\n",
       "lpg         0.016518\n",
       "cng         0.001758\n",
       "hybrid      0.000725\n",
       "other       0.000635\n",
       "electric    0.000280\n",
       "Name: FuelType, dtype: float64"
      ]
     },
     "execution_count": 21,
     "metadata": {},
     "output_type": "execute_result"
    }
   ],
   "source": [
    "df['FuelType'].value_counts(normalize=True)"
   ]
  },
  {
   "cell_type": "code",
   "execution_count": 22,
   "metadata": {},
   "outputs": [
    {
     "data": {
      "text/plain": [
       "volkswagen        0.217324\n",
       "opel              0.112683\n",
       "bmw               0.104169\n",
       "mercedes_benz     0.090427\n",
       "audi              0.083123\n",
       "ford              0.071054\n",
       "renault           0.050589\n",
       "peugeot           0.031036\n",
       "fiat              0.027212\n",
       "seat              0.019491\n",
       "mazda             0.015845\n",
       "skoda             0.015521\n",
       "smart             0.014804\n",
       "citroen           0.014527\n",
       "nissan            0.013943\n",
       "toyota            0.012998\n",
       "hyundai           0.010122\n",
       "sonstige_autos    0.009521\n",
       "volvo             0.009058\n",
       "mini              0.009036\n",
       "mitsubishi        0.008528\n",
       "honda             0.007949\n",
       "kia               0.006956\n",
       "suzuki            0.006553\n",
       "alfa_romeo        0.006530\n",
       "chevrolet         0.004950\n",
       "chrysler          0.004061\n",
       "dacia             0.002540\n",
       "daihatsu          0.002274\n",
       "subaru            0.002150\n",
       "porsche           0.002139\n",
       "jeep              0.001910\n",
       "trabant           0.001662\n",
       "land_rover        0.001538\n",
       "daewoo            0.001529\n",
       "saab              0.001484\n",
       "jaguar            0.001425\n",
       "rover             0.001371\n",
       "lancia            0.001329\n",
       "lada              0.000635\n",
       "Name: Brand, dtype: float64"
      ]
     },
     "execution_count": 22,
     "metadata": {},
     "output_type": "execute_result"
    }
   ],
   "source": [
    "df['Brand'].value_counts(normalize=True)"
   ]
  },
  {
   "cell_type": "code",
   "execution_count": 23,
   "metadata": {
    "scrolled": false
   },
   "outputs": [
    {
     "data": {
      "text/plain": [
       "no     0.872699\n",
       "yes    0.127301\n",
       "Name: NotRepaired, dtype: float64"
      ]
     },
     "execution_count": 23,
     "metadata": {},
     "output_type": "execute_result"
    }
   ],
   "source": [
    "df['NotRepaired'].value_counts(normalize=True)"
   ]
  },
  {
   "cell_type": "code",
   "execution_count": 24,
   "metadata": {
    "scrolled": true
   },
   "outputs": [
    {
     "data": {
      "text/plain": [
       "0    1.0\n",
       "Name: NumberOfPictures, dtype: float64"
      ]
     },
     "execution_count": 24,
     "metadata": {},
     "output_type": "execute_result"
    }
   ],
   "source": [
    "df['NumberOfPictures'].value_counts(normalize=True)"
   ]
  },
  {
   "cell_type": "code",
   "execution_count": 25,
   "metadata": {
    "scrolled": true
   },
   "outputs": [
    {
     "data": {
      "text/plain": [
       "DateCrawled          0.000000\n",
       "Price                0.000000\n",
       "VehicleType          0.059373\n",
       "RegistrationYear     0.000000\n",
       "Gearbox              0.046272\n",
       "Power                0.000000\n",
       "Model                0.046719\n",
       "Kilometer            0.000000\n",
       "RegistrationMonth    0.000000\n",
       "FuelType             0.072192\n",
       "Brand                0.000000\n",
       "NotRepaired          0.180242\n",
       "DateCreated          0.000000\n",
       "NumberOfPictures     0.000000\n",
       "PostalCode           0.000000\n",
       "LastSeen             0.000000\n",
       "dtype: float64"
      ]
     },
     "execution_count": 25,
     "metadata": {},
     "output_type": "execute_result"
    }
   ],
   "source": [
    "df_clear.isna().mean()"
   ]
  },
  {
   "cell_type": "markdown",
   "metadata": {},
   "source": [
    "**Заполняем пропуски**"
   ]
  },
  {
   "cell_type": "markdown",
   "metadata": {},
   "source": [
    "Удаление пропусков нецелесообразно, т.к. их много (не менее 15.7 %). Возможное значение в пропусках предугадать невозможно. Поэтому заполняем пропуски значением 'unknown'."
   ]
  },
  {
   "cell_type": "code",
   "execution_count": 26,
   "metadata": {
    "scrolled": true
   },
   "outputs": [],
   "source": [
    "df_clear['NotRepaired'] = df_clear['NotRepaired'].fillna('unknown')\n",
    "df_clear['VehicleType'] = df_clear['VehicleType'].fillna('unknown')\n",
    "df_clear['Gearbox'] = df_clear['Gearbox'].fillna('unknown')\n",
    "df_clear['Model'] = df_clear['Model'].fillna('unknown')\n",
    "df_clear['FuelType'] = df_clear['FuelType'].fillna('unknown')"
   ]
  },
  {
   "cell_type": "code",
   "execution_count": 27,
   "metadata": {
    "scrolled": true
   },
   "outputs": [
    {
     "name": "stdout",
     "output_type": "stream",
     "text": [
      "<class 'pandas.core.frame.DataFrame'>\n",
      "Int64Index: 328514 entries, 0 to 354364\n",
      "Data columns (total 16 columns):\n",
      " #   Column             Non-Null Count   Dtype  \n",
      "---  ------             --------------   -----  \n",
      " 0   DateCrawled        328514 non-null  object \n",
      " 1   Price              328514 non-null  int64  \n",
      " 2   VehicleType        328514 non-null  object \n",
      " 3   RegistrationYear   328514 non-null  int64  \n",
      " 4   Gearbox            328514 non-null  object \n",
      " 5   Power              328514 non-null  float64\n",
      " 6   Model              328514 non-null  object \n",
      " 7   Kilometer          328514 non-null  int64  \n",
      " 8   RegistrationMonth  328514 non-null  int64  \n",
      " 9   FuelType           328514 non-null  object \n",
      " 10  Brand              328514 non-null  object \n",
      " 11  NotRepaired        328514 non-null  object \n",
      " 12  DateCreated        328514 non-null  object \n",
      " 13  NumberOfPictures   328514 non-null  int64  \n",
      " 14  PostalCode         328514 non-null  int64  \n",
      " 15  LastSeen           328514 non-null  object \n",
      "dtypes: float64(1), int64(6), object(9)\n",
      "memory usage: 42.6+ MB\n"
     ]
    }
   ],
   "source": [
    "df_clear.info()"
   ]
  },
  {
   "cell_type": "code",
   "execution_count": 28,
   "metadata": {},
   "outputs": [
    {
     "data": {
      "text/html": [
       "<div>\n",
       "<style scoped>\n",
       "    .dataframe tbody tr th:only-of-type {\n",
       "        vertical-align: middle;\n",
       "    }\n",
       "\n",
       "    .dataframe tbody tr th {\n",
       "        vertical-align: top;\n",
       "    }\n",
       "\n",
       "    .dataframe thead th {\n",
       "        text-align: right;\n",
       "    }\n",
       "</style>\n",
       "<table border=\"1\" class=\"dataframe\">\n",
       "  <thead>\n",
       "    <tr style=\"text-align: right;\">\n",
       "      <th></th>\n",
       "      <th>DateCrawled</th>\n",
       "      <th>Price</th>\n",
       "      <th>VehicleType</th>\n",
       "      <th>RegistrationYear</th>\n",
       "      <th>Gearbox</th>\n",
       "      <th>Power</th>\n",
       "      <th>Model</th>\n",
       "      <th>Kilometer</th>\n",
       "      <th>RegistrationMonth</th>\n",
       "      <th>FuelType</th>\n",
       "      <th>Brand</th>\n",
       "      <th>NotRepaired</th>\n",
       "      <th>DateCreated</th>\n",
       "      <th>NumberOfPictures</th>\n",
       "      <th>PostalCode</th>\n",
       "      <th>LastSeen</th>\n",
       "    </tr>\n",
       "  </thead>\n",
       "  <tbody>\n",
       "    <tr>\n",
       "      <th>0</th>\n",
       "      <td>2016-03-24 11:52:17</td>\n",
       "      <td>480</td>\n",
       "      <td>unknown</td>\n",
       "      <td>1993</td>\n",
       "      <td>manual</td>\n",
       "      <td>101.0</td>\n",
       "      <td>golf</td>\n",
       "      <td>150000</td>\n",
       "      <td>0</td>\n",
       "      <td>petrol</td>\n",
       "      <td>volkswagen</td>\n",
       "      <td>unknown</td>\n",
       "      <td>2016-03-24 00:00:00</td>\n",
       "      <td>0</td>\n",
       "      <td>70435</td>\n",
       "      <td>2016-04-07 03:16:57</td>\n",
       "    </tr>\n",
       "    <tr>\n",
       "      <th>1</th>\n",
       "      <td>2016-03-24 10:58:45</td>\n",
       "      <td>18300</td>\n",
       "      <td>coupe</td>\n",
       "      <td>2011</td>\n",
       "      <td>manual</td>\n",
       "      <td>190.0</td>\n",
       "      <td>unknown</td>\n",
       "      <td>125000</td>\n",
       "      <td>5</td>\n",
       "      <td>gasoline</td>\n",
       "      <td>audi</td>\n",
       "      <td>yes</td>\n",
       "      <td>2016-03-24 00:00:00</td>\n",
       "      <td>0</td>\n",
       "      <td>66954</td>\n",
       "      <td>2016-04-07 01:46:50</td>\n",
       "    </tr>\n",
       "    <tr>\n",
       "      <th>2</th>\n",
       "      <td>2016-03-14 12:52:21</td>\n",
       "      <td>9800</td>\n",
       "      <td>suv</td>\n",
       "      <td>2004</td>\n",
       "      <td>auto</td>\n",
       "      <td>163.0</td>\n",
       "      <td>grand</td>\n",
       "      <td>125000</td>\n",
       "      <td>8</td>\n",
       "      <td>gasoline</td>\n",
       "      <td>jeep</td>\n",
       "      <td>unknown</td>\n",
       "      <td>2016-03-14 00:00:00</td>\n",
       "      <td>0</td>\n",
       "      <td>90480</td>\n",
       "      <td>2016-04-05 12:47:46</td>\n",
       "    </tr>\n",
       "    <tr>\n",
       "      <th>3</th>\n",
       "      <td>2016-03-17 16:54:04</td>\n",
       "      <td>1500</td>\n",
       "      <td>small</td>\n",
       "      <td>2001</td>\n",
       "      <td>manual</td>\n",
       "      <td>75.0</td>\n",
       "      <td>golf</td>\n",
       "      <td>150000</td>\n",
       "      <td>6</td>\n",
       "      <td>petrol</td>\n",
       "      <td>volkswagen</td>\n",
       "      <td>no</td>\n",
       "      <td>2016-03-17 00:00:00</td>\n",
       "      <td>0</td>\n",
       "      <td>91074</td>\n",
       "      <td>2016-03-17 17:40:17</td>\n",
       "    </tr>\n",
       "    <tr>\n",
       "      <th>4</th>\n",
       "      <td>2016-03-31 17:25:20</td>\n",
       "      <td>3600</td>\n",
       "      <td>small</td>\n",
       "      <td>2008</td>\n",
       "      <td>manual</td>\n",
       "      <td>69.0</td>\n",
       "      <td>fabia</td>\n",
       "      <td>90000</td>\n",
       "      <td>7</td>\n",
       "      <td>gasoline</td>\n",
       "      <td>skoda</td>\n",
       "      <td>no</td>\n",
       "      <td>2016-03-31 00:00:00</td>\n",
       "      <td>0</td>\n",
       "      <td>60437</td>\n",
       "      <td>2016-04-06 10:17:21</td>\n",
       "    </tr>\n",
       "    <tr>\n",
       "      <th>...</th>\n",
       "      <td>...</td>\n",
       "      <td>...</td>\n",
       "      <td>...</td>\n",
       "      <td>...</td>\n",
       "      <td>...</td>\n",
       "      <td>...</td>\n",
       "      <td>...</td>\n",
       "      <td>...</td>\n",
       "      <td>...</td>\n",
       "      <td>...</td>\n",
       "      <td>...</td>\n",
       "      <td>...</td>\n",
       "      <td>...</td>\n",
       "      <td>...</td>\n",
       "      <td>...</td>\n",
       "      <td>...</td>\n",
       "    </tr>\n",
       "    <tr>\n",
       "      <th>354359</th>\n",
       "      <td>2016-03-27 20:36:20</td>\n",
       "      <td>1150</td>\n",
       "      <td>bus</td>\n",
       "      <td>2000</td>\n",
       "      <td>manual</td>\n",
       "      <td>125.0</td>\n",
       "      <td>zafira</td>\n",
       "      <td>150000</td>\n",
       "      <td>3</td>\n",
       "      <td>petrol</td>\n",
       "      <td>opel</td>\n",
       "      <td>no</td>\n",
       "      <td>2016-03-27 00:00:00</td>\n",
       "      <td>0</td>\n",
       "      <td>26624</td>\n",
       "      <td>2016-03-29 10:17:23</td>\n",
       "    </tr>\n",
       "    <tr>\n",
       "      <th>354361</th>\n",
       "      <td>2016-03-14 17:48:27</td>\n",
       "      <td>2200</td>\n",
       "      <td>unknown</td>\n",
       "      <td>2005</td>\n",
       "      <td>unknown</td>\n",
       "      <td>110.0</td>\n",
       "      <td>unknown</td>\n",
       "      <td>20000</td>\n",
       "      <td>1</td>\n",
       "      <td>unknown</td>\n",
       "      <td>sonstige_autos</td>\n",
       "      <td>unknown</td>\n",
       "      <td>2016-03-14 00:00:00</td>\n",
       "      <td>0</td>\n",
       "      <td>39576</td>\n",
       "      <td>2016-04-06 00:46:52</td>\n",
       "    </tr>\n",
       "    <tr>\n",
       "      <th>354362</th>\n",
       "      <td>2016-03-05 19:56:21</td>\n",
       "      <td>1199</td>\n",
       "      <td>convertible</td>\n",
       "      <td>2000</td>\n",
       "      <td>auto</td>\n",
       "      <td>101.0</td>\n",
       "      <td>fortwo</td>\n",
       "      <td>125000</td>\n",
       "      <td>3</td>\n",
       "      <td>petrol</td>\n",
       "      <td>smart</td>\n",
       "      <td>no</td>\n",
       "      <td>2016-03-05 00:00:00</td>\n",
       "      <td>0</td>\n",
       "      <td>26135</td>\n",
       "      <td>2016-03-11 18:17:12</td>\n",
       "    </tr>\n",
       "    <tr>\n",
       "      <th>354363</th>\n",
       "      <td>2016-03-19 18:57:12</td>\n",
       "      <td>9200</td>\n",
       "      <td>bus</td>\n",
       "      <td>1996</td>\n",
       "      <td>manual</td>\n",
       "      <td>102.0</td>\n",
       "      <td>transporter</td>\n",
       "      <td>150000</td>\n",
       "      <td>3</td>\n",
       "      <td>gasoline</td>\n",
       "      <td>volkswagen</td>\n",
       "      <td>no</td>\n",
       "      <td>2016-03-19 00:00:00</td>\n",
       "      <td>0</td>\n",
       "      <td>87439</td>\n",
       "      <td>2016-04-07 07:15:26</td>\n",
       "    </tr>\n",
       "    <tr>\n",
       "      <th>354364</th>\n",
       "      <td>2016-03-20 19:41:08</td>\n",
       "      <td>3400</td>\n",
       "      <td>wagon</td>\n",
       "      <td>2002</td>\n",
       "      <td>manual</td>\n",
       "      <td>100.0</td>\n",
       "      <td>golf</td>\n",
       "      <td>150000</td>\n",
       "      <td>6</td>\n",
       "      <td>gasoline</td>\n",
       "      <td>volkswagen</td>\n",
       "      <td>unknown</td>\n",
       "      <td>2016-03-20 00:00:00</td>\n",
       "      <td>0</td>\n",
       "      <td>40764</td>\n",
       "      <td>2016-03-24 12:45:21</td>\n",
       "    </tr>\n",
       "  </tbody>\n",
       "</table>\n",
       "<p>328514 rows × 16 columns</p>\n",
       "</div>"
      ],
      "text/plain": [
       "                DateCrawled  Price  VehicleType  RegistrationYear  Gearbox  \\\n",
       "0       2016-03-24 11:52:17    480      unknown              1993   manual   \n",
       "1       2016-03-24 10:58:45  18300        coupe              2011   manual   \n",
       "2       2016-03-14 12:52:21   9800          suv              2004     auto   \n",
       "3       2016-03-17 16:54:04   1500        small              2001   manual   \n",
       "4       2016-03-31 17:25:20   3600        small              2008   manual   \n",
       "...                     ...    ...          ...               ...      ...   \n",
       "354359  2016-03-27 20:36:20   1150          bus              2000   manual   \n",
       "354361  2016-03-14 17:48:27   2200      unknown              2005  unknown   \n",
       "354362  2016-03-05 19:56:21   1199  convertible              2000     auto   \n",
       "354363  2016-03-19 18:57:12   9200          bus              1996   manual   \n",
       "354364  2016-03-20 19:41:08   3400        wagon              2002   manual   \n",
       "\n",
       "        Power        Model  Kilometer  RegistrationMonth  FuelType  \\\n",
       "0       101.0         golf     150000                  0    petrol   \n",
       "1       190.0      unknown     125000                  5  gasoline   \n",
       "2       163.0        grand     125000                  8  gasoline   \n",
       "3        75.0         golf     150000                  6    petrol   \n",
       "4        69.0        fabia      90000                  7  gasoline   \n",
       "...       ...          ...        ...                ...       ...   \n",
       "354359  125.0       zafira     150000                  3    petrol   \n",
       "354361  110.0      unknown      20000                  1   unknown   \n",
       "354362  101.0       fortwo     125000                  3    petrol   \n",
       "354363  102.0  transporter     150000                  3  gasoline   \n",
       "354364  100.0         golf     150000                  6  gasoline   \n",
       "\n",
       "                 Brand NotRepaired          DateCreated  NumberOfPictures  \\\n",
       "0           volkswagen     unknown  2016-03-24 00:00:00                 0   \n",
       "1                 audi         yes  2016-03-24 00:00:00                 0   \n",
       "2                 jeep     unknown  2016-03-14 00:00:00                 0   \n",
       "3           volkswagen          no  2016-03-17 00:00:00                 0   \n",
       "4                skoda          no  2016-03-31 00:00:00                 0   \n",
       "...                ...         ...                  ...               ...   \n",
       "354359            opel          no  2016-03-27 00:00:00                 0   \n",
       "354361  sonstige_autos     unknown  2016-03-14 00:00:00                 0   \n",
       "354362           smart          no  2016-03-05 00:00:00                 0   \n",
       "354363      volkswagen          no  2016-03-19 00:00:00                 0   \n",
       "354364      volkswagen     unknown  2016-03-20 00:00:00                 0   \n",
       "\n",
       "        PostalCode             LastSeen  \n",
       "0            70435  2016-04-07 03:16:57  \n",
       "1            66954  2016-04-07 01:46:50  \n",
       "2            90480  2016-04-05 12:47:46  \n",
       "3            91074  2016-03-17 17:40:17  \n",
       "4            60437  2016-04-06 10:17:21  \n",
       "...            ...                  ...  \n",
       "354359       26624  2016-03-29 10:17:23  \n",
       "354361       39576  2016-04-06 00:46:52  \n",
       "354362       26135  2016-03-11 18:17:12  \n",
       "354363       87439  2016-04-07 07:15:26  \n",
       "354364       40764  2016-03-24 12:45:21  \n",
       "\n",
       "[328514 rows x 16 columns]"
      ]
     },
     "metadata": {},
     "output_type": "display_data"
    }
   ],
   "source": [
    "display(df_clear)"
   ]
  },
  {
   "cell_type": "code",
   "execution_count": 29,
   "metadata": {},
   "outputs": [],
   "source": [
    "#переводим даты в правильный формат\n",
    "df_clear['DateCrawled'] = pd.to_datetime(df_clear['DateCrawled'], format='%Y-%m-%d %H:%M:%S')\n",
    "df_clear['DateCreated'] = pd.to_datetime(df_clear['DateCreated'], format='%Y-%m-%d %H:%M:%S')\n",
    "df_clear['LastSeen'] = pd.to_datetime(df_clear['LastSeen'], format='%Y-%m-%d %H:%M:%S')"
   ]
  },
  {
   "cell_type": "code",
   "execution_count": 30,
   "metadata": {
    "scrolled": true
   },
   "outputs": [
    {
     "name": "stdout",
     "output_type": "stream",
     "text": [
      "<class 'pandas.core.frame.DataFrame'>\n",
      "Int64Index: 328514 entries, 0 to 354364\n",
      "Data columns (total 16 columns):\n",
      " #   Column             Non-Null Count   Dtype         \n",
      "---  ------             --------------   -----         \n",
      " 0   DateCrawled        328514 non-null  datetime64[ns]\n",
      " 1   Price              328514 non-null  int64         \n",
      " 2   VehicleType        328514 non-null  object        \n",
      " 3   RegistrationYear   328514 non-null  int64         \n",
      " 4   Gearbox            328514 non-null  object        \n",
      " 5   Power              328514 non-null  float64       \n",
      " 6   Model              328514 non-null  object        \n",
      " 7   Kilometer          328514 non-null  int64         \n",
      " 8   RegistrationMonth  328514 non-null  int64         \n",
      " 9   FuelType           328514 non-null  object        \n",
      " 10  Brand              328514 non-null  object        \n",
      " 11  NotRepaired        328514 non-null  object        \n",
      " 12  DateCreated        328514 non-null  datetime64[ns]\n",
      " 13  NumberOfPictures   328514 non-null  int64         \n",
      " 14  PostalCode         328514 non-null  int64         \n",
      " 15  LastSeen           328514 non-null  datetime64[ns]\n",
      "dtypes: datetime64[ns](3), float64(1), int64(6), object(6)\n",
      "memory usage: 42.6+ MB\n"
     ]
    }
   ],
   "source": [
    "df_clear.info()"
   ]
  },
  {
   "cell_type": "markdown",
   "metadata": {},
   "source": [
    "**Подготавливаем данные к обучению моделей**"
   ]
  },
  {
   "cell_type": "markdown",
   "metadata": {},
   "source": [
    "Столбцы 'DateCrawled', 'RegistrationMonth', 'DateCreated', 'NumberOfPictures', 'PostalCode', 'LastSeen' не влияют на стоимость авто, но могут запутать модель. Удаляем их."
   ]
  },
  {
   "cell_type": "code",
   "execution_count": 31,
   "metadata": {},
   "outputs": [],
   "source": [
    "#удаляем ненужные столбцы\n",
    "data = df_clear.drop(['DateCrawled', 'RegistrationMonth', 'DateCreated', 'NumberOfPictures', 'PostalCode', 'LastSeen'], axis=1)"
   ]
  },
  {
   "cell_type": "code",
   "execution_count": 32,
   "metadata": {
    "scrolled": false
   },
   "outputs": [
    {
     "data": {
      "text/html": [
       "<div>\n",
       "<style scoped>\n",
       "    .dataframe tbody tr th:only-of-type {\n",
       "        vertical-align: middle;\n",
       "    }\n",
       "\n",
       "    .dataframe tbody tr th {\n",
       "        vertical-align: top;\n",
       "    }\n",
       "\n",
       "    .dataframe thead th {\n",
       "        text-align: right;\n",
       "    }\n",
       "</style>\n",
       "<table border=\"1\" class=\"dataframe\">\n",
       "  <thead>\n",
       "    <tr style=\"text-align: right;\">\n",
       "      <th></th>\n",
       "      <th>Price</th>\n",
       "      <th>VehicleType</th>\n",
       "      <th>RegistrationYear</th>\n",
       "      <th>Gearbox</th>\n",
       "      <th>Power</th>\n",
       "      <th>Model</th>\n",
       "      <th>Kilometer</th>\n",
       "      <th>FuelType</th>\n",
       "      <th>Brand</th>\n",
       "      <th>NotRepaired</th>\n",
       "    </tr>\n",
       "  </thead>\n",
       "  <tbody>\n",
       "    <tr>\n",
       "      <th>0</th>\n",
       "      <td>480</td>\n",
       "      <td>unknown</td>\n",
       "      <td>1993</td>\n",
       "      <td>manual</td>\n",
       "      <td>101.0</td>\n",
       "      <td>golf</td>\n",
       "      <td>150000</td>\n",
       "      <td>petrol</td>\n",
       "      <td>volkswagen</td>\n",
       "      <td>unknown</td>\n",
       "    </tr>\n",
       "    <tr>\n",
       "      <th>1</th>\n",
       "      <td>18300</td>\n",
       "      <td>coupe</td>\n",
       "      <td>2011</td>\n",
       "      <td>manual</td>\n",
       "      <td>190.0</td>\n",
       "      <td>unknown</td>\n",
       "      <td>125000</td>\n",
       "      <td>gasoline</td>\n",
       "      <td>audi</td>\n",
       "      <td>yes</td>\n",
       "    </tr>\n",
       "    <tr>\n",
       "      <th>2</th>\n",
       "      <td>9800</td>\n",
       "      <td>suv</td>\n",
       "      <td>2004</td>\n",
       "      <td>auto</td>\n",
       "      <td>163.0</td>\n",
       "      <td>grand</td>\n",
       "      <td>125000</td>\n",
       "      <td>gasoline</td>\n",
       "      <td>jeep</td>\n",
       "      <td>unknown</td>\n",
       "    </tr>\n",
       "    <tr>\n",
       "      <th>3</th>\n",
       "      <td>1500</td>\n",
       "      <td>small</td>\n",
       "      <td>2001</td>\n",
       "      <td>manual</td>\n",
       "      <td>75.0</td>\n",
       "      <td>golf</td>\n",
       "      <td>150000</td>\n",
       "      <td>petrol</td>\n",
       "      <td>volkswagen</td>\n",
       "      <td>no</td>\n",
       "    </tr>\n",
       "    <tr>\n",
       "      <th>4</th>\n",
       "      <td>3600</td>\n",
       "      <td>small</td>\n",
       "      <td>2008</td>\n",
       "      <td>manual</td>\n",
       "      <td>69.0</td>\n",
       "      <td>fabia</td>\n",
       "      <td>90000</td>\n",
       "      <td>gasoline</td>\n",
       "      <td>skoda</td>\n",
       "      <td>no</td>\n",
       "    </tr>\n",
       "    <tr>\n",
       "      <th>...</th>\n",
       "      <td>...</td>\n",
       "      <td>...</td>\n",
       "      <td>...</td>\n",
       "      <td>...</td>\n",
       "      <td>...</td>\n",
       "      <td>...</td>\n",
       "      <td>...</td>\n",
       "      <td>...</td>\n",
       "      <td>...</td>\n",
       "      <td>...</td>\n",
       "    </tr>\n",
       "    <tr>\n",
       "      <th>354359</th>\n",
       "      <td>1150</td>\n",
       "      <td>bus</td>\n",
       "      <td>2000</td>\n",
       "      <td>manual</td>\n",
       "      <td>125.0</td>\n",
       "      <td>zafira</td>\n",
       "      <td>150000</td>\n",
       "      <td>petrol</td>\n",
       "      <td>opel</td>\n",
       "      <td>no</td>\n",
       "    </tr>\n",
       "    <tr>\n",
       "      <th>354361</th>\n",
       "      <td>2200</td>\n",
       "      <td>unknown</td>\n",
       "      <td>2005</td>\n",
       "      <td>unknown</td>\n",
       "      <td>110.0</td>\n",
       "      <td>unknown</td>\n",
       "      <td>20000</td>\n",
       "      <td>unknown</td>\n",
       "      <td>sonstige_autos</td>\n",
       "      <td>unknown</td>\n",
       "    </tr>\n",
       "    <tr>\n",
       "      <th>354362</th>\n",
       "      <td>1199</td>\n",
       "      <td>convertible</td>\n",
       "      <td>2000</td>\n",
       "      <td>auto</td>\n",
       "      <td>101.0</td>\n",
       "      <td>fortwo</td>\n",
       "      <td>125000</td>\n",
       "      <td>petrol</td>\n",
       "      <td>smart</td>\n",
       "      <td>no</td>\n",
       "    </tr>\n",
       "    <tr>\n",
       "      <th>354363</th>\n",
       "      <td>9200</td>\n",
       "      <td>bus</td>\n",
       "      <td>1996</td>\n",
       "      <td>manual</td>\n",
       "      <td>102.0</td>\n",
       "      <td>transporter</td>\n",
       "      <td>150000</td>\n",
       "      <td>gasoline</td>\n",
       "      <td>volkswagen</td>\n",
       "      <td>no</td>\n",
       "    </tr>\n",
       "    <tr>\n",
       "      <th>354364</th>\n",
       "      <td>3400</td>\n",
       "      <td>wagon</td>\n",
       "      <td>2002</td>\n",
       "      <td>manual</td>\n",
       "      <td>100.0</td>\n",
       "      <td>golf</td>\n",
       "      <td>150000</td>\n",
       "      <td>gasoline</td>\n",
       "      <td>volkswagen</td>\n",
       "      <td>unknown</td>\n",
       "    </tr>\n",
       "  </tbody>\n",
       "</table>\n",
       "<p>328514 rows × 10 columns</p>\n",
       "</div>"
      ],
      "text/plain": [
       "        Price  VehicleType  RegistrationYear  Gearbox  Power        Model  \\\n",
       "0         480      unknown              1993   manual  101.0         golf   \n",
       "1       18300        coupe              2011   manual  190.0      unknown   \n",
       "2        9800          suv              2004     auto  163.0        grand   \n",
       "3        1500        small              2001   manual   75.0         golf   \n",
       "4        3600        small              2008   manual   69.0        fabia   \n",
       "...       ...          ...               ...      ...    ...          ...   \n",
       "354359   1150          bus              2000   manual  125.0       zafira   \n",
       "354361   2200      unknown              2005  unknown  110.0      unknown   \n",
       "354362   1199  convertible              2000     auto  101.0       fortwo   \n",
       "354363   9200          bus              1996   manual  102.0  transporter   \n",
       "354364   3400        wagon              2002   manual  100.0         golf   \n",
       "\n",
       "        Kilometer  FuelType           Brand NotRepaired  \n",
       "0          150000    petrol      volkswagen     unknown  \n",
       "1          125000  gasoline            audi         yes  \n",
       "2          125000  gasoline            jeep     unknown  \n",
       "3          150000    petrol      volkswagen          no  \n",
       "4           90000  gasoline           skoda          no  \n",
       "...           ...       ...             ...         ...  \n",
       "354359     150000    petrol            opel          no  \n",
       "354361      20000   unknown  sonstige_autos     unknown  \n",
       "354362     125000    petrol           smart          no  \n",
       "354363     150000  gasoline      volkswagen          no  \n",
       "354364     150000  gasoline      volkswagen     unknown  \n",
       "\n",
       "[328514 rows x 10 columns]"
      ]
     },
     "metadata": {},
     "output_type": "display_data"
    }
   ],
   "source": [
    "display(data)"
   ]
  },
  {
   "cell_type": "markdown",
   "metadata": {},
   "source": [
    "Чтобы увеличить качество простых моделей (линейной регрессии, дерева решений и случайного леса) применяем технику One-Hot Encoding и масштабирование признаков."
   ]
  },
  {
   "cell_type": "code",
   "execution_count": 33,
   "metadata": {
    "scrolled": true
   },
   "outputs": [
    {
     "name": "stdout",
     "output_type": "stream",
     "text": [
      "<class 'pandas.core.frame.DataFrame'>\n",
      "Int64Index: 328514 entries, 0 to 354364\n",
      "Columns: 312 entries, Price to NotRepaired_yes\n",
      "dtypes: float64(1), int64(3), uint8(308)\n",
      "memory usage: 109.0 MB\n"
     ]
    },
    {
     "data": {
      "text/html": [
       "<div>\n",
       "<style scoped>\n",
       "    .dataframe tbody tr th:only-of-type {\n",
       "        vertical-align: middle;\n",
       "    }\n",
       "\n",
       "    .dataframe tbody tr th {\n",
       "        vertical-align: top;\n",
       "    }\n",
       "\n",
       "    .dataframe thead th {\n",
       "        text-align: right;\n",
       "    }\n",
       "</style>\n",
       "<table border=\"1\" class=\"dataframe\">\n",
       "  <thead>\n",
       "    <tr style=\"text-align: right;\">\n",
       "      <th></th>\n",
       "      <th>Price</th>\n",
       "      <th>RegistrationYear</th>\n",
       "      <th>Power</th>\n",
       "      <th>Kilometer</th>\n",
       "      <th>VehicleType_convertible</th>\n",
       "      <th>VehicleType_coupe</th>\n",
       "      <th>VehicleType_other</th>\n",
       "      <th>VehicleType_sedan</th>\n",
       "      <th>VehicleType_small</th>\n",
       "      <th>VehicleType_suv</th>\n",
       "      <th>...</th>\n",
       "      <th>Brand_smart</th>\n",
       "      <th>Brand_sonstige_autos</th>\n",
       "      <th>Brand_subaru</th>\n",
       "      <th>Brand_suzuki</th>\n",
       "      <th>Brand_toyota</th>\n",
       "      <th>Brand_trabant</th>\n",
       "      <th>Brand_volkswagen</th>\n",
       "      <th>Brand_volvo</th>\n",
       "      <th>NotRepaired_unknown</th>\n",
       "      <th>NotRepaired_yes</th>\n",
       "    </tr>\n",
       "  </thead>\n",
       "  <tbody>\n",
       "    <tr>\n",
       "      <th>0</th>\n",
       "      <td>480</td>\n",
       "      <td>1993</td>\n",
       "      <td>101.0</td>\n",
       "      <td>150000</td>\n",
       "      <td>0</td>\n",
       "      <td>0</td>\n",
       "      <td>0</td>\n",
       "      <td>0</td>\n",
       "      <td>0</td>\n",
       "      <td>0</td>\n",
       "      <td>...</td>\n",
       "      <td>0</td>\n",
       "      <td>0</td>\n",
       "      <td>0</td>\n",
       "      <td>0</td>\n",
       "      <td>0</td>\n",
       "      <td>0</td>\n",
       "      <td>1</td>\n",
       "      <td>0</td>\n",
       "      <td>1</td>\n",
       "      <td>0</td>\n",
       "    </tr>\n",
       "    <tr>\n",
       "      <th>1</th>\n",
       "      <td>18300</td>\n",
       "      <td>2011</td>\n",
       "      <td>190.0</td>\n",
       "      <td>125000</td>\n",
       "      <td>0</td>\n",
       "      <td>1</td>\n",
       "      <td>0</td>\n",
       "      <td>0</td>\n",
       "      <td>0</td>\n",
       "      <td>0</td>\n",
       "      <td>...</td>\n",
       "      <td>0</td>\n",
       "      <td>0</td>\n",
       "      <td>0</td>\n",
       "      <td>0</td>\n",
       "      <td>0</td>\n",
       "      <td>0</td>\n",
       "      <td>0</td>\n",
       "      <td>0</td>\n",
       "      <td>0</td>\n",
       "      <td>1</td>\n",
       "    </tr>\n",
       "    <tr>\n",
       "      <th>2</th>\n",
       "      <td>9800</td>\n",
       "      <td>2004</td>\n",
       "      <td>163.0</td>\n",
       "      <td>125000</td>\n",
       "      <td>0</td>\n",
       "      <td>0</td>\n",
       "      <td>0</td>\n",
       "      <td>0</td>\n",
       "      <td>0</td>\n",
       "      <td>1</td>\n",
       "      <td>...</td>\n",
       "      <td>0</td>\n",
       "      <td>0</td>\n",
       "      <td>0</td>\n",
       "      <td>0</td>\n",
       "      <td>0</td>\n",
       "      <td>0</td>\n",
       "      <td>0</td>\n",
       "      <td>0</td>\n",
       "      <td>1</td>\n",
       "      <td>0</td>\n",
       "    </tr>\n",
       "    <tr>\n",
       "      <th>3</th>\n",
       "      <td>1500</td>\n",
       "      <td>2001</td>\n",
       "      <td>75.0</td>\n",
       "      <td>150000</td>\n",
       "      <td>0</td>\n",
       "      <td>0</td>\n",
       "      <td>0</td>\n",
       "      <td>0</td>\n",
       "      <td>1</td>\n",
       "      <td>0</td>\n",
       "      <td>...</td>\n",
       "      <td>0</td>\n",
       "      <td>0</td>\n",
       "      <td>0</td>\n",
       "      <td>0</td>\n",
       "      <td>0</td>\n",
       "      <td>0</td>\n",
       "      <td>1</td>\n",
       "      <td>0</td>\n",
       "      <td>0</td>\n",
       "      <td>0</td>\n",
       "    </tr>\n",
       "    <tr>\n",
       "      <th>4</th>\n",
       "      <td>3600</td>\n",
       "      <td>2008</td>\n",
       "      <td>69.0</td>\n",
       "      <td>90000</td>\n",
       "      <td>0</td>\n",
       "      <td>0</td>\n",
       "      <td>0</td>\n",
       "      <td>0</td>\n",
       "      <td>1</td>\n",
       "      <td>0</td>\n",
       "      <td>...</td>\n",
       "      <td>0</td>\n",
       "      <td>0</td>\n",
       "      <td>0</td>\n",
       "      <td>0</td>\n",
       "      <td>0</td>\n",
       "      <td>0</td>\n",
       "      <td>0</td>\n",
       "      <td>0</td>\n",
       "      <td>0</td>\n",
       "      <td>0</td>\n",
       "    </tr>\n",
       "    <tr>\n",
       "      <th>...</th>\n",
       "      <td>...</td>\n",
       "      <td>...</td>\n",
       "      <td>...</td>\n",
       "      <td>...</td>\n",
       "      <td>...</td>\n",
       "      <td>...</td>\n",
       "      <td>...</td>\n",
       "      <td>...</td>\n",
       "      <td>...</td>\n",
       "      <td>...</td>\n",
       "      <td>...</td>\n",
       "      <td>...</td>\n",
       "      <td>...</td>\n",
       "      <td>...</td>\n",
       "      <td>...</td>\n",
       "      <td>...</td>\n",
       "      <td>...</td>\n",
       "      <td>...</td>\n",
       "      <td>...</td>\n",
       "      <td>...</td>\n",
       "      <td>...</td>\n",
       "    </tr>\n",
       "    <tr>\n",
       "      <th>354359</th>\n",
       "      <td>1150</td>\n",
       "      <td>2000</td>\n",
       "      <td>125.0</td>\n",
       "      <td>150000</td>\n",
       "      <td>0</td>\n",
       "      <td>0</td>\n",
       "      <td>0</td>\n",
       "      <td>0</td>\n",
       "      <td>0</td>\n",
       "      <td>0</td>\n",
       "      <td>...</td>\n",
       "      <td>0</td>\n",
       "      <td>0</td>\n",
       "      <td>0</td>\n",
       "      <td>0</td>\n",
       "      <td>0</td>\n",
       "      <td>0</td>\n",
       "      <td>0</td>\n",
       "      <td>0</td>\n",
       "      <td>0</td>\n",
       "      <td>0</td>\n",
       "    </tr>\n",
       "    <tr>\n",
       "      <th>354361</th>\n",
       "      <td>2200</td>\n",
       "      <td>2005</td>\n",
       "      <td>110.0</td>\n",
       "      <td>20000</td>\n",
       "      <td>0</td>\n",
       "      <td>0</td>\n",
       "      <td>0</td>\n",
       "      <td>0</td>\n",
       "      <td>0</td>\n",
       "      <td>0</td>\n",
       "      <td>...</td>\n",
       "      <td>0</td>\n",
       "      <td>1</td>\n",
       "      <td>0</td>\n",
       "      <td>0</td>\n",
       "      <td>0</td>\n",
       "      <td>0</td>\n",
       "      <td>0</td>\n",
       "      <td>0</td>\n",
       "      <td>1</td>\n",
       "      <td>0</td>\n",
       "    </tr>\n",
       "    <tr>\n",
       "      <th>354362</th>\n",
       "      <td>1199</td>\n",
       "      <td>2000</td>\n",
       "      <td>101.0</td>\n",
       "      <td>125000</td>\n",
       "      <td>1</td>\n",
       "      <td>0</td>\n",
       "      <td>0</td>\n",
       "      <td>0</td>\n",
       "      <td>0</td>\n",
       "      <td>0</td>\n",
       "      <td>...</td>\n",
       "      <td>1</td>\n",
       "      <td>0</td>\n",
       "      <td>0</td>\n",
       "      <td>0</td>\n",
       "      <td>0</td>\n",
       "      <td>0</td>\n",
       "      <td>0</td>\n",
       "      <td>0</td>\n",
       "      <td>0</td>\n",
       "      <td>0</td>\n",
       "    </tr>\n",
       "    <tr>\n",
       "      <th>354363</th>\n",
       "      <td>9200</td>\n",
       "      <td>1996</td>\n",
       "      <td>102.0</td>\n",
       "      <td>150000</td>\n",
       "      <td>0</td>\n",
       "      <td>0</td>\n",
       "      <td>0</td>\n",
       "      <td>0</td>\n",
       "      <td>0</td>\n",
       "      <td>0</td>\n",
       "      <td>...</td>\n",
       "      <td>0</td>\n",
       "      <td>0</td>\n",
       "      <td>0</td>\n",
       "      <td>0</td>\n",
       "      <td>0</td>\n",
       "      <td>0</td>\n",
       "      <td>1</td>\n",
       "      <td>0</td>\n",
       "      <td>0</td>\n",
       "      <td>0</td>\n",
       "    </tr>\n",
       "    <tr>\n",
       "      <th>354364</th>\n",
       "      <td>3400</td>\n",
       "      <td>2002</td>\n",
       "      <td>100.0</td>\n",
       "      <td>150000</td>\n",
       "      <td>0</td>\n",
       "      <td>0</td>\n",
       "      <td>0</td>\n",
       "      <td>0</td>\n",
       "      <td>0</td>\n",
       "      <td>0</td>\n",
       "      <td>...</td>\n",
       "      <td>0</td>\n",
       "      <td>0</td>\n",
       "      <td>0</td>\n",
       "      <td>0</td>\n",
       "      <td>0</td>\n",
       "      <td>0</td>\n",
       "      <td>1</td>\n",
       "      <td>0</td>\n",
       "      <td>1</td>\n",
       "      <td>0</td>\n",
       "    </tr>\n",
       "  </tbody>\n",
       "</table>\n",
       "<p>328514 rows × 312 columns</p>\n",
       "</div>"
      ],
      "text/plain": [
       "        Price  RegistrationYear  Power  Kilometer  VehicleType_convertible  \\\n",
       "0         480              1993  101.0     150000                        0   \n",
       "1       18300              2011  190.0     125000                        0   \n",
       "2        9800              2004  163.0     125000                        0   \n",
       "3        1500              2001   75.0     150000                        0   \n",
       "4        3600              2008   69.0      90000                        0   \n",
       "...       ...               ...    ...        ...                      ...   \n",
       "354359   1150              2000  125.0     150000                        0   \n",
       "354361   2200              2005  110.0      20000                        0   \n",
       "354362   1199              2000  101.0     125000                        1   \n",
       "354363   9200              1996  102.0     150000                        0   \n",
       "354364   3400              2002  100.0     150000                        0   \n",
       "\n",
       "        VehicleType_coupe  VehicleType_other  VehicleType_sedan  \\\n",
       "0                       0                  0                  0   \n",
       "1                       1                  0                  0   \n",
       "2                       0                  0                  0   \n",
       "3                       0                  0                  0   \n",
       "4                       0                  0                  0   \n",
       "...                   ...                ...                ...   \n",
       "354359                  0                  0                  0   \n",
       "354361                  0                  0                  0   \n",
       "354362                  0                  0                  0   \n",
       "354363                  0                  0                  0   \n",
       "354364                  0                  0                  0   \n",
       "\n",
       "        VehicleType_small  VehicleType_suv  ...  Brand_smart  \\\n",
       "0                       0                0  ...            0   \n",
       "1                       0                0  ...            0   \n",
       "2                       0                1  ...            0   \n",
       "3                       1                0  ...            0   \n",
       "4                       1                0  ...            0   \n",
       "...                   ...              ...  ...          ...   \n",
       "354359                  0                0  ...            0   \n",
       "354361                  0                0  ...            0   \n",
       "354362                  0                0  ...            1   \n",
       "354363                  0                0  ...            0   \n",
       "354364                  0                0  ...            0   \n",
       "\n",
       "        Brand_sonstige_autos  Brand_subaru  Brand_suzuki  Brand_toyota  \\\n",
       "0                          0             0             0             0   \n",
       "1                          0             0             0             0   \n",
       "2                          0             0             0             0   \n",
       "3                          0             0             0             0   \n",
       "4                          0             0             0             0   \n",
       "...                      ...           ...           ...           ...   \n",
       "354359                     0             0             0             0   \n",
       "354361                     1             0             0             0   \n",
       "354362                     0             0             0             0   \n",
       "354363                     0             0             0             0   \n",
       "354364                     0             0             0             0   \n",
       "\n",
       "        Brand_trabant  Brand_volkswagen  Brand_volvo  NotRepaired_unknown  \\\n",
       "0                   0                 1            0                    1   \n",
       "1                   0                 0            0                    0   \n",
       "2                   0                 0            0                    1   \n",
       "3                   0                 1            0                    0   \n",
       "4                   0                 0            0                    0   \n",
       "...               ...               ...          ...                  ...   \n",
       "354359              0                 0            0                    0   \n",
       "354361              0                 0            0                    1   \n",
       "354362              0                 0            0                    0   \n",
       "354363              0                 1            0                    0   \n",
       "354364              0                 1            0                    1   \n",
       "\n",
       "        NotRepaired_yes  \n",
       "0                     0  \n",
       "1                     1  \n",
       "2                     0  \n",
       "3                     0  \n",
       "4                     0  \n",
       "...                 ...  \n",
       "354359                0  \n",
       "354361                0  \n",
       "354362                0  \n",
       "354363                0  \n",
       "354364                0  \n",
       "\n",
       "[328514 rows x 312 columns]"
      ]
     },
     "metadata": {},
     "output_type": "display_data"
    }
   ],
   "source": [
    "#кодируем категориальные признаки с помощью One-Hot Encoding\n",
    "data_dummies = pd.get_dummies(data, drop_first=True)\n",
    "data_dummies.info()\n",
    "display(data_dummies)"
   ]
  },
  {
   "cell_type": "code",
   "execution_count": 34,
   "metadata": {
    "scrolled": true
   },
   "outputs": [
    {
     "name": "stdout",
     "output_type": "stream",
     "text": [
      "(246385, 311)\n",
      "(246385,)\n",
      "(82129, 311)\n",
      "(82129,)\n"
     ]
    }
   ],
   "source": [
    "#создаем выборки с признаками и целевым признаком\n",
    "features_ohe = data_dummies.drop(['Price'], axis=1)\n",
    "target_ohe = data_dummies['Price']\n",
    "\n",
    "#разделяем выборки на обучающую и тестовую\n",
    "features_train_ohe, features_test_ohe, target_train, target_test = train_test_split(features_ohe, \n",
    "                                                                                            target_ohe, \n",
    "                                                                                            test_size=0.25,\n",
    "                                                                                            random_state=12345)\n",
    "\n",
    "\n",
    "print(features_train_ohe.shape)\n",
    "print(target_train.shape)\n",
    "print(features_test_ohe.shape)\n",
    "print(target_test.shape)"
   ]
  },
  {
   "cell_type": "code",
   "execution_count": 35,
   "metadata": {
    "scrolled": false
   },
   "outputs": [
    {
     "name": "stderr",
     "output_type": "stream",
     "text": [
      "/tmp/ipykernel_541/4031354681.py:5: SettingWithCopyWarning: \n",
      "A value is trying to be set on a copy of a slice from a DataFrame.\n",
      "Try using .loc[row_indexer,col_indexer] = value instead\n",
      "\n",
      "See the caveats in the documentation: https://pandas.pydata.org/pandas-docs/stable/user_guide/indexing.html#returning-a-view-versus-a-copy\n",
      "  features_train_ohe[numeric] = scaler.transform(features_train_ohe[numeric])\n",
      "/opt/conda/lib/python3.9/site-packages/pandas/core/indexing.py:1738: SettingWithCopyWarning: \n",
      "A value is trying to be set on a copy of a slice from a DataFrame.\n",
      "Try using .loc[row_indexer,col_indexer] = value instead\n",
      "\n",
      "See the caveats in the documentation: https://pandas.pydata.org/pandas-docs/stable/user_guide/indexing.html#returning-a-view-versus-a-copy\n",
      "  self._setitem_single_column(loc, value[:, i].tolist(), pi)\n",
      "/tmp/ipykernel_541/4031354681.py:6: SettingWithCopyWarning: \n",
      "A value is trying to be set on a copy of a slice from a DataFrame.\n",
      "Try using .loc[row_indexer,col_indexer] = value instead\n",
      "\n",
      "See the caveats in the documentation: https://pandas.pydata.org/pandas-docs/stable/user_guide/indexing.html#returning-a-view-versus-a-copy\n",
      "  features_test_ohe[numeric] = scaler.transform(features_test_ohe[numeric])\n",
      "/opt/conda/lib/python3.9/site-packages/pandas/core/indexing.py:1738: SettingWithCopyWarning: \n",
      "A value is trying to be set on a copy of a slice from a DataFrame.\n",
      "Try using .loc[row_indexer,col_indexer] = value instead\n",
      "\n",
      "See the caveats in the documentation: https://pandas.pydata.org/pandas-docs/stable/user_guide/indexing.html#returning-a-view-versus-a-copy\n",
      "  self._setitem_single_column(loc, value[:, i].tolist(), pi)\n"
     ]
    }
   ],
   "source": [
    "#масштабируем численные признаки\n",
    "numeric = ['RegistrationYear', 'Power', 'Kilometer']\n",
    "scaler = StandardScaler()\n",
    "scaler.fit(features_train_ohe[numeric])\n",
    "features_train_ohe[numeric] = scaler.transform(features_train_ohe[numeric])\n",
    "features_test_ohe[numeric] = scaler.transform(features_test_ohe[numeric])"
   ]
  },
  {
   "cell_type": "markdown",
   "metadata": {},
   "source": [
    "Для моделей с деревьями целесообразно кодировать категориальные признаки с помощью OrdinalEncoder. Создаем выборки с данным методом кодирования."
   ]
  },
  {
   "cell_type": "code",
   "execution_count": 36,
   "metadata": {},
   "outputs": [
    {
     "data": {
      "text/html": [
       "<div>\n",
       "<style scoped>\n",
       "    .dataframe tbody tr th:only-of-type {\n",
       "        vertical-align: middle;\n",
       "    }\n",
       "\n",
       "    .dataframe tbody tr th {\n",
       "        vertical-align: top;\n",
       "    }\n",
       "\n",
       "    .dataframe thead th {\n",
       "        text-align: right;\n",
       "    }\n",
       "</style>\n",
       "<table border=\"1\" class=\"dataframe\">\n",
       "  <thead>\n",
       "    <tr style=\"text-align: right;\">\n",
       "      <th></th>\n",
       "      <th>Price</th>\n",
       "      <th>VehicleType</th>\n",
       "      <th>RegistrationYear</th>\n",
       "      <th>Gearbox</th>\n",
       "      <th>Power</th>\n",
       "      <th>Model</th>\n",
       "      <th>Kilometer</th>\n",
       "      <th>FuelType</th>\n",
       "      <th>Brand</th>\n",
       "      <th>NotRepaired</th>\n",
       "    </tr>\n",
       "  </thead>\n",
       "  <tbody>\n",
       "    <tr>\n",
       "      <th>0</th>\n",
       "      <td>253.0</td>\n",
       "      <td>7.0</td>\n",
       "      <td>42.0</td>\n",
       "      <td>1.0</td>\n",
       "      <td>92.0</td>\n",
       "      <td>116.0</td>\n",
       "      <td>12.0</td>\n",
       "      <td>6.0</td>\n",
       "      <td>38.0</td>\n",
       "      <td>1.0</td>\n",
       "    </tr>\n",
       "    <tr>\n",
       "      <th>1</th>\n",
       "      <td>3550.0</td>\n",
       "      <td>2.0</td>\n",
       "      <td>60.0</td>\n",
       "      <td>1.0</td>\n",
       "      <td>185.0</td>\n",
       "      <td>228.0</td>\n",
       "      <td>11.0</td>\n",
       "      <td>2.0</td>\n",
       "      <td>1.0</td>\n",
       "      <td>2.0</td>\n",
       "    </tr>\n",
       "    <tr>\n",
       "      <th>2</th>\n",
       "      <td>2558.0</td>\n",
       "      <td>6.0</td>\n",
       "      <td>53.0</td>\n",
       "      <td>0.0</td>\n",
       "      <td>158.0</td>\n",
       "      <td>117.0</td>\n",
       "      <td>11.0</td>\n",
       "      <td>2.0</td>\n",
       "      <td>14.0</td>\n",
       "      <td>1.0</td>\n",
       "    </tr>\n",
       "    <tr>\n",
       "      <th>3</th>\n",
       "      <td>689.0</td>\n",
       "      <td>5.0</td>\n",
       "      <td>50.0</td>\n",
       "      <td>1.0</td>\n",
       "      <td>66.0</td>\n",
       "      <td>116.0</td>\n",
       "      <td>12.0</td>\n",
       "      <td>6.0</td>\n",
       "      <td>38.0</td>\n",
       "      <td>0.0</td>\n",
       "    </tr>\n",
       "    <tr>\n",
       "      <th>4</th>\n",
       "      <td>1314.0</td>\n",
       "      <td>5.0</td>\n",
       "      <td>57.0</td>\n",
       "      <td>1.0</td>\n",
       "      <td>60.0</td>\n",
       "      <td>101.0</td>\n",
       "      <td>9.0</td>\n",
       "      <td>2.0</td>\n",
       "      <td>31.0</td>\n",
       "      <td>0.0</td>\n",
       "    </tr>\n",
       "    <tr>\n",
       "      <th>...</th>\n",
       "      <td>...</td>\n",
       "      <td>...</td>\n",
       "      <td>...</td>\n",
       "      <td>...</td>\n",
       "      <td>...</td>\n",
       "      <td>...</td>\n",
       "      <td>...</td>\n",
       "      <td>...</td>\n",
       "      <td>...</td>\n",
       "      <td>...</td>\n",
       "    </tr>\n",
       "    <tr>\n",
       "      <th>328509</th>\n",
       "      <td>544.0</td>\n",
       "      <td>0.0</td>\n",
       "      <td>49.0</td>\n",
       "      <td>1.0</td>\n",
       "      <td>117.0</td>\n",
       "      <td>250.0</td>\n",
       "      <td>12.0</td>\n",
       "      <td>6.0</td>\n",
       "      <td>24.0</td>\n",
       "      <td>0.0</td>\n",
       "    </tr>\n",
       "    <tr>\n",
       "      <th>328510</th>\n",
       "      <td>910.0</td>\n",
       "      <td>7.0</td>\n",
       "      <td>54.0</td>\n",
       "      <td>2.0</td>\n",
       "      <td>101.0</td>\n",
       "      <td>228.0</td>\n",
       "      <td>2.0</td>\n",
       "      <td>7.0</td>\n",
       "      <td>33.0</td>\n",
       "      <td>1.0</td>\n",
       "    </tr>\n",
       "    <tr>\n",
       "      <th>328511</th>\n",
       "      <td>562.0</td>\n",
       "      <td>1.0</td>\n",
       "      <td>49.0</td>\n",
       "      <td>0.0</td>\n",
       "      <td>92.0</td>\n",
       "      <td>106.0</td>\n",
       "      <td>11.0</td>\n",
       "      <td>6.0</td>\n",
       "      <td>32.0</td>\n",
       "      <td>0.0</td>\n",
       "    </tr>\n",
       "    <tr>\n",
       "      <th>328512</th>\n",
       "      <td>2462.0</td>\n",
       "      <td>0.0</td>\n",
       "      <td>45.0</td>\n",
       "      <td>1.0</td>\n",
       "      <td>93.0</td>\n",
       "      <td>224.0</td>\n",
       "      <td>12.0</td>\n",
       "      <td>2.0</td>\n",
       "      <td>38.0</td>\n",
       "      <td>0.0</td>\n",
       "    </tr>\n",
       "    <tr>\n",
       "      <th>328513</th>\n",
       "      <td>1255.0</td>\n",
       "      <td>8.0</td>\n",
       "      <td>51.0</td>\n",
       "      <td>1.0</td>\n",
       "      <td>91.0</td>\n",
       "      <td>116.0</td>\n",
       "      <td>12.0</td>\n",
       "      <td>2.0</td>\n",
       "      <td>38.0</td>\n",
       "      <td>1.0</td>\n",
       "    </tr>\n",
       "  </tbody>\n",
       "</table>\n",
       "<p>328514 rows × 10 columns</p>\n",
       "</div>"
      ],
      "text/plain": [
       "         Price  VehicleType  RegistrationYear  Gearbox  Power  Model  \\\n",
       "0        253.0          7.0              42.0      1.0   92.0  116.0   \n",
       "1       3550.0          2.0              60.0      1.0  185.0  228.0   \n",
       "2       2558.0          6.0              53.0      0.0  158.0  117.0   \n",
       "3        689.0          5.0              50.0      1.0   66.0  116.0   \n",
       "4       1314.0          5.0              57.0      1.0   60.0  101.0   \n",
       "...        ...          ...               ...      ...    ...    ...   \n",
       "328509   544.0          0.0              49.0      1.0  117.0  250.0   \n",
       "328510   910.0          7.0              54.0      2.0  101.0  228.0   \n",
       "328511   562.0          1.0              49.0      0.0   92.0  106.0   \n",
       "328512  2462.0          0.0              45.0      1.0   93.0  224.0   \n",
       "328513  1255.0          8.0              51.0      1.0   91.0  116.0   \n",
       "\n",
       "        Kilometer  FuelType  Brand  NotRepaired  \n",
       "0            12.0       6.0   38.0          1.0  \n",
       "1            11.0       2.0    1.0          2.0  \n",
       "2            11.0       2.0   14.0          1.0  \n",
       "3            12.0       6.0   38.0          0.0  \n",
       "4             9.0       2.0   31.0          0.0  \n",
       "...           ...       ...    ...          ...  \n",
       "328509       12.0       6.0   24.0          0.0  \n",
       "328510        2.0       7.0   33.0          1.0  \n",
       "328511       11.0       6.0   32.0          0.0  \n",
       "328512       12.0       2.0   38.0          0.0  \n",
       "328513       12.0       2.0   38.0          1.0  \n",
       "\n",
       "[328514 rows x 10 columns]"
      ]
     },
     "metadata": {},
     "output_type": "display_data"
    }
   ],
   "source": [
    "encoder = OrdinalEncoder()\n",
    "data_oe = pd.DataFrame(encoder.fit_transform(data), columns=data.columns)\n",
    "display(data_oe)"
   ]
  },
  {
   "cell_type": "code",
   "execution_count": 37,
   "metadata": {},
   "outputs": [
    {
     "name": "stdout",
     "output_type": "stream",
     "text": [
      "(246385, 9)\n",
      "(82129, 9)\n"
     ]
    }
   ],
   "source": [
    "features_oe = data_oe.drop(['Price'], axis=1)\n",
    "target_oe = data_oe['Price']\n",
    "\n",
    "#разделяем выборку на обучающую и тестовую\n",
    "features_train_oe, features_test_oe = train_test_split(features_oe, \n",
    "                                                       test_size=0.25,\n",
    "                                                       random_state=12345)\n",
    "\n",
    "print(features_train_oe.shape)\n",
    "print(features_test_oe.shape)"
   ]
  },
  {
   "cell_type": "markdown",
   "metadata": {},
   "source": [
    "## Обучение моделей"
   ]
  },
  {
   "cell_type": "code",
   "execution_count": 38,
   "metadata": {
    "scrolled": true
   },
   "outputs": [],
   "source": [
    "#создаем оценщик моделей\n",
    "\n",
    "def rmse_function(y_true, y_pred):\n",
    "    mse = mean_squared_error(y_true, y_pred)\n",
    "    return abs(mse)**0.5\n",
    "\n",
    "rmse = make_scorer(rmse_function, greater_is_better=False)"
   ]
  },
  {
   "cell_type": "code",
   "execution_count": 39,
   "metadata": {},
   "outputs": [],
   "source": [
    "folds = StratifiedKFold(n_splits=5,  shuffle=True, random_state=12345)   "
   ]
  },
  {
   "cell_type": "code",
   "execution_count": 40,
   "metadata": {},
   "outputs": [],
   "source": [
    "results = {'training_time': [],\n",
    "           'pred_time': [],\n",
    "           'cv_rmse': [],\n",
    "           'test_rmse': []\n",
    "          }"
   ]
  },
  {
   "cell_type": "markdown",
   "metadata": {},
   "source": [
    "### Линейная регрессия"
   ]
  },
  {
   "cell_type": "code",
   "execution_count": 41,
   "metadata": {
    "scrolled": true
   },
   "outputs": [
    {
     "name": "stderr",
     "output_type": "stream",
     "text": [
      "/opt/conda/lib/python3.9/site-packages/sklearn/model_selection/_split.py:666: UserWarning: The least populated class in y has only 1 members, which is less than n_splits=5.\n",
      "  warnings.warn((\"The least populated class in y has only %d\"\n"
     ]
    },
    {
     "name": "stdout",
     "output_type": "stream",
     "text": [
      "2645.3519404675867\n"
     ]
    }
   ],
   "source": [
    "#обучаем модель\n",
    "model_lr = LinearRegression()\n",
    "cv_lr = cross_val_score(estimator=model_lr, \n",
    "                      X=features_train_ohe,\n",
    "                      y=target_train, \n",
    "                      scoring=rmse,\n",
    "                      cv=folds, \n",
    "                      n_jobs=-1)\n",
    "\n",
    "print(abs(cv_lr.mean()))\n",
    "#results.setdefault('cv_rmse',[]).append('{0:.2f}'.format(abs(res.mean())))"
   ]
  },
  {
   "cell_type": "code",
   "execution_count": 58,
   "metadata": {},
   "outputs": [],
   "source": [
    "#создаем функцию для автоматизации моделирования и записи результатов\n",
    "def modelling(model, features_train, target_train, features_test, target_test, cv_res):\n",
    "    start_train = time.time()\n",
    "    model.fit(features_train, target_train)\n",
    "    stop_train = time.time()\n",
    "    pred_test = model.predict(features_test)\n",
    "    stop_test = time.time()\n",
    "    results.setdefault('training_time',[]).append('{0:.3f}'.format(stop_train-start_train))\n",
    "    results.setdefault('pred_time',[]).append('{0:.3f}'.format(stop_test-stop_train))\n",
    "    results.setdefault('test_rmse',[]).append('{0:.2f}'.format(rmse_function(target_test, pred_test)))\n",
    "    results.setdefault('cv_rmse',[]).append('{0:.2f}'.format(abs(cv_res.mean())))\n",
    "    display(results)"
   ]
  },
  {
   "cell_type": "code",
   "execution_count": 43,
   "metadata": {},
   "outputs": [
    {
     "data": {
      "text/plain": [
       "{'training_time': ['23.590'],\n",
       " 'pred_time': ['0.139'],\n",
       " 'cv_rmse': ['2645.35'],\n",
       " 'test_rmse': ['2631.35']}"
      ]
     },
     "metadata": {},
     "output_type": "display_data"
    }
   ],
   "source": [
    "modelling(model_lr, features_train_ohe, target_train, features_test_ohe, target_test, cv_lr)"
   ]
  },
  {
   "cell_type": "markdown",
   "metadata": {},
   "source": [
    "* RMSE модели линейной регрессии на кросс-валидации равен 2645.35, на тестовой 2631.35. Результаты практически сходятся, значит модель достаточно обучена и не переобучилась.\n",
    "* Время обучения составило 18.4 с. Время предсказания 191 мс."
   ]
  },
  {
   "cell_type": "markdown",
   "metadata": {},
   "source": [
    "### Дерево решений"
   ]
  },
  {
   "cell_type": "code",
   "execution_count": 44,
   "metadata": {},
   "outputs": [
    {
     "name": "stderr",
     "output_type": "stream",
     "text": [
      "/opt/conda/lib/python3.9/site-packages/sklearn/model_selection/_split.py:666: UserWarning: The least populated class in y has only 1 members, which is less than n_splits=5.\n",
      "  warnings.warn((\"The least populated class in y has only %d\"\n"
     ]
    },
    {
     "name": "stdout",
     "output_type": "stream",
     "text": [
      "{'max_depth': 14}\n",
      "1928.286049056443\n",
      "CPU times: user 37.7 s, sys: 62.2 ms, total: 37.8 s\n",
      "Wall time: 37.9 s\n"
     ]
    }
   ],
   "source": [
    "%%time\n",
    "\n",
    "model_dt = DecisionTreeRegressor(random_state=12345)\n",
    "parameters = {'max_depth': range(3,21,1)}\n",
    "grid_dt = GridSearchCV(model_dt, param_grid=parameters, scoring=rmse, n_jobs=-1, cv=folds)\n",
    "grid_dt.fit(features_train_oe, target_train)\n",
    "cv_dt= grid_dt.best_score_\n",
    "print(grid_dt.best_params_)\n",
    "print(abs(grid_dt.best_score_))"
   ]
  },
  {
   "cell_type": "code",
   "execution_count": 45,
   "metadata": {
    "scrolled": false
   },
   "outputs": [
    {
     "data": {
      "text/plain": [
       "{'training_time': ['23.590', '0.655'],\n",
       " 'pred_time': ['0.139', '0.015'],\n",
       " 'cv_rmse': ['2645.35', '1928.29'],\n",
       " 'test_rmse': ['2631.35', '1889.56']}"
      ]
     },
     "metadata": {},
     "output_type": "display_data"
    }
   ],
   "source": [
    "modelling(grid_dt.best_estimator_, features_train_oe, target_train, features_test_oe, target_test, cv_dt)"
   ]
  },
  {
   "cell_type": "markdown",
   "metadata": {},
   "source": [
    "* Для дерева решений наиболее подходящая глубина 14.\n",
    "\n",
    "* Время обучения модели составило 0.6 с., время предсказания 14 мс.\n",
    "\n",
    "* RMSE на кросс-валидации составило 1928.29, на тестовой 1889.56."
   ]
  },
  {
   "cell_type": "markdown",
   "metadata": {},
   "source": [
    "### Случайный лес"
   ]
  },
  {
   "cell_type": "code",
   "execution_count": 46,
   "metadata": {
    "scrolled": true
   },
   "outputs": [
    {
     "name": "stderr",
     "output_type": "stream",
     "text": [
      "/opt/conda/lib/python3.9/site-packages/sklearn/model_selection/_split.py:666: UserWarning: The least populated class in y has only 1 members, which is less than n_splits=5.\n",
      "  warnings.warn((\"The least populated class in y has only %d\"\n"
     ]
    },
    {
     "name": "stdout",
     "output_type": "stream",
     "text": [
      "{'max_depth': 15, 'n_estimators': 500}\n",
      "1664.4110266199677\n",
      "CPU times: user 2h 54min 2s, sys: 28.6 s, total: 2h 54min 31s\n",
      "Wall time: 2h 54min 34s\n"
     ]
    }
   ],
   "source": [
    "%%time\n",
    "\n",
    "model_rf = RandomForestRegressor(random_state=12345)\n",
    "parameters = {'max_depth': range(3,16,1), 'n_estimators' : [10, 20, 40, 60, 100, 200, 300, 500]}\n",
    "grid_rf = GridSearchCV(model_rf, param_grid=parameters, scoring=rmse, n_jobs=-1, cv=folds)\n",
    "grid_rf.fit(features_train_oe, target_train)\n",
    "cv_rf= grid_rf.best_score_\n",
    "print(grid_rf.best_params_)\n",
    "print(abs(grid_rf.best_score_))"
   ]
  },
  {
   "cell_type": "code",
   "execution_count": 47,
   "metadata": {
    "scrolled": true
   },
   "outputs": [
    {
     "data": {
      "text/plain": [
       "{'training_time': ['23.590', '0.655', '260.594'],\n",
       " 'pred_time': ['0.139', '0.015', '7.322'],\n",
       " 'cv_rmse': ['2645.35', '1928.29', '1664.41'],\n",
       " 'test_rmse': ['2631.35', '1889.56', '1635.21']}"
      ]
     },
     "metadata": {},
     "output_type": "display_data"
    }
   ],
   "source": [
    "modelling(grid_rf.best_estimator_, features_train_oe, target_train, features_test_oe, target_test, cv_rf)"
   ]
  },
  {
   "cell_type": "markdown",
   "metadata": {},
   "source": [
    "* Оптимальные гиперпараметры для случайного леса: глубина 15, число деревьев 500.\n",
    "\n",
    "* Время обучения модели составило 242 с. (4 мин. 2 с.), время предсказания 7.8 с.\n",
    "\n",
    "* RMSE на кросс-валидации составил 1644.36, на тестовой выборке 1612.75. Модель не переобучена.\n",
    "\n",
    "Лучшие значения RMSE получили на максимальных гиперпараметрах из исследованных. Вероятно, качество модели можно еще повысить за счет увеличения количества деревьев и глубины. Однако имеющаяся модель уже медленно обучается и предсказывает, и за счет увеличения деревьев и глубины скорость снизится еще сильнее. Это не соответствует требованиям заказчика, поэтому дальнейшее увеличение гиперпараметров нецелесообразно."
   ]
  },
  {
   "cell_type": "markdown",
   "metadata": {},
   "source": [
    "### Модель градиентного бустинга"
   ]
  },
  {
   "cell_type": "markdown",
   "metadata": {},
   "source": [
    "Для моделей градиентного бустинга применять кодирование и масштабирование признаков нецелесообразно. Поэтому создаем новую выборку с признаками. Также для корректной работы моделей нужно перевести в категориальные признаки в формат категорий."
   ]
  },
  {
   "cell_type": "code",
   "execution_count": 48,
   "metadata": {},
   "outputs": [],
   "source": [
    "features = data.drop(['Price'], axis=1)\n",
    "cat_columns = ['VehicleType', 'Gearbox', 'Model', 'FuelType', 'Brand', 'NotRepaired']\n",
    "features[cat_columns] = features[cat_columns].astype('category')\n",
    "target = data['Price']\n",
    "\n",
    "features_train, features_test, target_train, target_test = train_test_split(features, \n",
    "                                                                            target, \n",
    "                                                                            test_size=0.25, \n",
    "                                                                            random_state=12345)"
   ]
  },
  {
   "cell_type": "markdown",
   "metadata": {},
   "source": [
    "**CatBoost**"
   ]
  },
  {
   "cell_type": "code",
   "execution_count": 49,
   "metadata": {},
   "outputs": [
    {
     "name": "stderr",
     "output_type": "stream",
     "text": [
      "/opt/conda/lib/python3.9/site-packages/sklearn/model_selection/_split.py:666: UserWarning: The least populated class in y has only 1 members, which is less than n_splits=5.\n",
      "  warnings.warn((\"The least populated class in y has only %d\"\n"
     ]
    },
    {
     "name": "stdout",
     "output_type": "stream",
     "text": [
      "{'depth': 15, 'iterations': 500, 'learning_rate': 0.1}\n",
      "-1569.6211573563899\n",
      "CPU times: user 11h 33min, sys: 32min 20s, total: 12h 5min 20s\n",
      "Wall time: 12h 8min 31s\n"
     ]
    }
   ],
   "source": [
    "%%time\n",
    "\n",
    "model_cbr = CatBoostRegressor(cat_features = cat_columns, thread_count=-1)\n",
    "parameters = {'learning_rate': [0.1, 0.2, 0.3],\n",
    "              'depth': [3, 6, 10, 15],\n",
    "              'iterations': [100, 200, 300, 500]\n",
    "             }\n",
    "grid_cbr = GridSearchCV(model_cbr, param_grid=parameters, cv=folds, scoring=rmse)\n",
    "\n",
    "grid_cbr.fit(features_train, target_train)\n",
    "cv_cbr = grid_cbr.best_score_\n",
    "\n",
    "print(grid_cbr.best_params_)\n",
    "print(grid_cbr.best_score_)"
   ]
  },
  {
   "cell_type": "code",
   "execution_count": 50,
   "metadata": {},
   "outputs": [
    {
     "name": "stdout",
     "output_type": "stream"
     },
    {
     "data": {
      "text/plain": [
       "{'training_time': ['23.590', '0.655', '260.594', '1061.043'],\n",
       " 'pred_time': ['0.139', '0.015', '7.322', '1.558'],\n",
       " 'cv_rmse': ['2645.35', '1928.29', '1664.41', '1569.62'],\n",
       " 'test_rmse': ['2631.35', '1889.56', '1635.21', '1554.53']}"
      ]
     },
     "metadata": {},
     "output_type": "display_data"
    }
   ],
   "source": [
    "modelling(grid_cbr.best_estimator_, features_train, target_train, features_test, target_test, cv_cbr)"
   ]
  },
  {
   "cell_type": "markdown",
   "metadata": {},
   "source": [
    "* Оптимальные гиперпараметры (среди исследованных) для CatBoostRegressor: learning_rate=0.1, depth=15, iterations=500.\n",
    "\n",
    "* Время обучения составило 1061 с. , предсказания - 1.6 с. \n",
    "\n",
    "* RMSE предсказаний на кросс-валидации составил 1569.62, на тестовой выборке 1554.53. Признаков переобучения нет."
   ]
  },
  {
   "cell_type": "markdown",
   "metadata": {},
   "source": [
    "**LightGBM**"
   ]
  },
  {
   "cell_type": "code",
   "execution_count": 51,
   "metadata": {},
   "outputs": [
    {
     "name": "stderr",
     "output_type": "stream",
     "text": [
      "/opt/conda/lib/python3.9/site-packages/sklearn/model_selection/_split.py:666: UserWarning: The least populated class in y has only 1 members, which is less than n_splits=5.\n",
      "  warnings.warn((\"The least populated class in y has only %d\"\n"
     ]
    },
    {
     "name": "stdout",
     "output_type": "stream",
     "text": [
      "{'learning_rate': 0.2, 'max_depth': 15, 'n_estimators': 500}\n",
      "-1564.8965688984892\n",
      "CPU times: user 2h 3min 22s, sys: 51.8 s, total: 2h 4min 14s\n",
      "Wall time: 2h 4min 59s\n"
     ]
    }
   ],
   "source": [
    "%%time\n",
    "\n",
    "model_lgbm = LGBMRegressor(n_jobs=-1, random_state=12345)\n",
    "parameters = {'learning_rate': [0.1, 0.2, 0.3],\n",
    "              'max_depth': [3, 6, 10, 15],\n",
    "              'n_estimators': [100, 200, 300, 500]\n",
    "             }\n",
    "grid_lgbm = GridSearchCV(model_lgbm, param_grid=parameters, cv=folds, scoring=rmse)\n",
    "\n",
    "grid_lgbm.fit(features_train, target_train)\n",
    "cv_lgbm = grid_lgbm.best_score_\n",
    "\n",
    "print(grid_lgbm.best_params_)\n",
    "print(grid_lgbm.best_score_)"
   ]
  },
  {
   "cell_type": "code",
   "execution_count": 52,
   "metadata": {},
   "outputs": [
    {
     "data": {
      "text/plain": [
       "{'training_time': ['23.590', '0.655', '260.594', '1061.043', '15.904'],\n",
       " 'pred_time': ['0.139', '0.015', '7.322', '1.558', '3.029'],\n",
       " 'cv_rmse': ['2645.35', '1928.29', '1664.41', '1569.62', '1564.90'],\n",
       " 'test_rmse': ['2631.35', '1889.56', '1635.21', '1554.53', '1554.78']}"
      ]
     },
     "metadata": {},
     "output_type": "display_data"
    }
   ],
   "source": [
    "modelling(grid_lgbm.best_estimator_, features_train, target_train, features_test, target_test, cv_lgbm)"
   ]
  },
  {
   "cell_type": "markdown",
   "metadata": {},
   "source": [
    "* Оптимальные гиперпараметры: learning_rate=0.2, max_depth=15, n_estimators=500.\n",
    "\n",
    "* Время обучения модели составило 15.9 с., предсказания 3 с.\n",
    "\n",
    "* RMSE предсказаний на кросс-валидации составил 1564.90, на тестовой выборке 1554.78."
   ]
  },
  {
   "cell_type": "markdown",
   "metadata": {},
   "source": [
    "## Анализ моделей"
   ]
  },
  {
   "cell_type": "code",
   "execution_count": 57,
   "metadata": {
    "scrolled": true
   },
   "outputs": [
    {
     "data": {
      "text/html": [
       "<div>\n",
       "<style scoped>\n",
       "    .dataframe tbody tr th:only-of-type {\n",
       "        vertical-align: middle;\n",
       "    }\n",
       "\n",
       "    .dataframe tbody tr th {\n",
       "        vertical-align: top;\n",
       "    }\n",
       "\n",
       "    .dataframe thead th {\n",
       "        text-align: right;\n",
       "    }\n",
       "</style>\n",
       "<table border=\"1\" class=\"dataframe\">\n",
       "  <thead>\n",
       "    <tr style=\"text-align: right;\">\n",
       "      <th></th>\n",
       "      <th>Linear_Regression</th>\n",
       "      <th>Decision_Tree</th>\n",
       "      <th>Random_Forest</th>\n",
       "      <th>Cat_Boost_Regressor</th>\n",
       "      <th>LGBM_Regressor</th>\n",
       "    </tr>\n",
       "  </thead>\n",
       "  <tbody>\n",
       "    <tr>\n",
       "      <th>training_time</th>\n",
       "      <td>23.590</td>\n",
       "      <td>0.655</td>\n",
       "      <td>260.594</td>\n",
       "      <td>1061.043</td>\n",
       "      <td>15.904</td>\n",
       "    </tr>\n",
       "    <tr>\n",
       "      <th>pred_time</th>\n",
       "      <td>0.139</td>\n",
       "      <td>0.015</td>\n",
       "      <td>7.322</td>\n",
       "      <td>1.558</td>\n",
       "      <td>3.029</td>\n",
       "    </tr>\n",
       "    <tr>\n",
       "      <th>cv_rmse</th>\n",
       "      <td>2645.35</td>\n",
       "      <td>1928.29</td>\n",
       "      <td>1664.41</td>\n",
       "      <td>1569.62</td>\n",
       "      <td>1564.90</td>\n",
       "    </tr>\n",
       "    <tr>\n",
       "      <th>test_rmse</th>\n",
       "      <td>2631.35</td>\n",
       "      <td>1889.56</td>\n",
       "      <td>1635.21</td>\n",
       "      <td>1554.53</td>\n",
       "      <td>1554.78</td>\n",
       "    </tr>\n",
       "  </tbody>\n",
       "</table>\n",
       "</div>"
      ],
      "text/plain": [
       "              Linear_Regression Decision_Tree Random_Forest  \\\n",
       "training_time            23.590         0.655       260.594   \n",
       "pred_time                 0.139         0.015         7.322   \n",
       "cv_rmse                 2645.35       1928.29       1664.41   \n",
       "test_rmse               2631.35       1889.56       1635.21   \n",
       "\n",
       "              Cat_Boost_Regressor LGBM_Regressor  \n",
       "training_time            1061.043         15.904  \n",
       "pred_time                   1.558          3.029  \n",
       "cv_rmse                   1569.62        1564.90  \n",
       "test_rmse                 1554.53        1554.78  "
      ]
     },
     "metadata": {},
     "output_type": "display_data"
    }
   ],
   "source": [
    "#строим таблицу с результатами\n",
    "columns = pd.Series(['Linear_Regression', 'Decision_Tree', 'Random_Forest', 'Cat_Boost_Regressor', 'LGBM_Regressor'])\n",
    "table = pd.DataFrame.from_dict(results, orient='index', columns=columns)\n",
    "display(table)"
   ]
  },
  {
   "cell_type": "markdown",
   "metadata": {},
   "source": [
    "* Простые модели (линейная регрессия, решающее дерево) имеют высокую скорость обучения и предсказания, но качество результатов намного ниже, чем у моделей градиентного бустинга.\n",
    "\n",
    "* Модель случайного леса долго обучается относительно простых моделей и LGBM. Скорость предсказаний у нее самая низкая из всех исследованных моделей. Качество результатов выше, чем у простых моделей, но ниже, чем у моделей градиентного бустинга.\n",
    "\n",
    "* Обе модели градиентного бустинга показали схожую точность результатов. Однако Cat_Boost_Regressor дольше всех обучалась (в 4 раза дольше, чем случайный лес). Скорость предсказаний у Cat_Boost_Regressor в десятки раз ниже, чем у простых моделей, но примерно в 5 раз выше, чем у случайного леса и в 2 раза выше, чем у LGBM.\n",
    "\n",
    "* Модель LGBM_Regressor\tимеет одну из самых высоких скоростей обучения (выше, чем у линейной регрессии), но скорость предсказаний одна из самых низких. Точность предсказаний у LGBM самая высокая из всех исследованных моделей.\n",
    "\n",
    "**Исходя из требований заказчика, оптимальной будет модель LGBM_Regressor. Она обеспечивает оптимальное соотношение точности и скорости предсказаний, а также времени обучения.**"
   ]
  }
 ],
 "metadata": {
  "ExecuteTimeLog": [
   {
    "duration": 70,
    "start_time": "2022-05-18T07:18:14.440Z"
   },
   {
    "duration": 63,
    "start_time": "2022-05-18T07:19:39.996Z"
   },
   {
    "duration": 1645,
    "start_time": "2022-05-18T07:19:46.008Z"
   },
   {
    "duration": 1446,
    "start_time": "2022-05-18T07:19:47.655Z"
   },
   {
    "duration": 27,
    "start_time": "2022-05-18T07:19:51.386Z"
   },
   {
    "duration": 130,
    "start_time": "2022-05-18T07:20:28.218Z"
   },
   {
    "duration": 475,
    "start_time": "2022-05-18T07:20:29.942Z"
   },
   {
    "duration": 76,
    "start_time": "2022-05-18T07:22:50.898Z"
   },
   {
    "duration": 430,
    "start_time": "2022-05-18T07:22:57.782Z"
   },
   {
    "duration": 473,
    "start_time": "2022-05-18T07:24:20.157Z"
   },
   {
    "duration": 551,
    "start_time": "2022-05-18T07:32:52.248Z"
   },
   {
    "duration": 481,
    "start_time": "2022-05-18T07:32:54.114Z"
   },
   {
    "duration": 156,
    "start_time": "2022-05-18T07:40:32.194Z"
   },
   {
    "duration": 226,
    "start_time": "2022-05-18T07:40:53.707Z"
   },
   {
    "duration": 39,
    "start_time": "2022-05-18T07:45:08.196Z"
   },
   {
    "duration": 223,
    "start_time": "2022-05-18T07:46:39.829Z"
   },
   {
    "duration": 10,
    "start_time": "2022-05-18T07:46:40.168Z"
   },
   {
    "duration": 46,
    "start_time": "2022-05-18T07:47:01.682Z"
   },
   {
    "duration": 33,
    "start_time": "2022-05-18T07:47:02.546Z"
   },
   {
    "duration": 217,
    "start_time": "2022-05-18T07:47:02.927Z"
   },
   {
    "duration": 69,
    "start_time": "2022-05-18T07:47:03.868Z"
   },
   {
    "duration": 34,
    "start_time": "2022-05-18T07:47:18.834Z"
   },
   {
    "duration": 246,
    "start_time": "2022-05-18T07:47:22.201Z"
   },
   {
    "duration": 273,
    "start_time": "2022-05-18T07:47:26.093Z"
   },
   {
    "duration": 233,
    "start_time": "2022-05-18T07:47:32.259Z"
   },
   {
    "duration": 348,
    "start_time": "2022-05-18T07:47:43.184Z"
   },
   {
    "duration": 35,
    "start_time": "2022-05-18T07:50:27.421Z"
   },
   {
    "duration": 1399,
    "start_time": "2022-05-18T08:38:58.071Z"
   },
   {
    "duration": 933,
    "start_time": "2022-05-18T08:38:59.472Z"
   },
   {
    "duration": 31,
    "start_time": "2022-05-18T08:39:00.407Z"
   },
   {
    "duration": 194,
    "start_time": "2022-05-18T08:39:00.441Z"
   },
   {
    "duration": 516,
    "start_time": "2022-05-18T08:39:00.637Z"
   },
   {
    "duration": 597,
    "start_time": "2022-05-18T08:39:01.155Z"
   },
   {
    "duration": 264,
    "start_time": "2022-05-18T08:39:01.754Z"
   },
   {
    "duration": 59,
    "start_time": "2022-05-18T08:39:02.026Z"
   },
   {
    "duration": 57,
    "start_time": "2022-05-18T08:39:02.088Z"
   },
   {
    "duration": 257,
    "start_time": "2022-05-18T08:39:02.148Z"
   },
   {
    "duration": 70,
    "start_time": "2022-05-18T08:39:02.408Z"
   },
   {
    "duration": 33,
    "start_time": "2022-05-18T08:39:02.480Z"
   },
   {
    "duration": 227,
    "start_time": "2022-05-18T08:39:02.527Z"
   },
   {
    "duration": 44,
    "start_time": "2022-05-18T08:39:02.756Z"
   },
   {
    "duration": 208,
    "start_time": "2022-05-18T08:39:02.802Z"
   },
   {
    "duration": 43,
    "start_time": "2022-05-18T08:39:03.012Z"
   },
   {
    "duration": 42,
    "start_time": "2022-05-18T08:39:03.057Z"
   },
   {
    "duration": 54,
    "start_time": "2022-05-18T08:39:03.102Z"
   },
   {
    "duration": 23,
    "start_time": "2022-05-18T08:39:03.158Z"
   },
   {
    "duration": 122,
    "start_time": "2022-05-18T08:39:03.183Z"
   },
   {
    "duration": 83,
    "start_time": "2022-05-18T08:39:03.307Z"
   },
   {
    "duration": 114,
    "start_time": "2022-05-18T08:39:03.392Z"
   },
   {
    "duration": 50,
    "start_time": "2022-05-18T08:39:03.508Z"
   },
   {
    "duration": 210,
    "start_time": "2022-05-18T08:39:03.561Z"
   },
   {
    "duration": 82,
    "start_time": "2022-05-18T08:39:03.772Z"
   },
   {
    "duration": 18,
    "start_time": "2022-05-18T08:39:03.856Z"
   },
   {
    "duration": 20,
    "start_time": "2022-05-18T08:39:03.876Z"
   },
   {
    "duration": 755,
    "start_time": "2022-05-18T08:39:03.927Z"
   },
   {
    "duration": 511,
    "start_time": "2022-05-18T08:39:04.684Z"
   },
   {
    "duration": 177,
    "start_time": "2022-05-18T08:39:05.197Z"
   },
   {
    "duration": 3,
    "start_time": "2022-05-18T08:39:05.377Z"
   },
   {
    "duration": 37773,
    "start_time": "2022-05-18T08:39:29.255Z"
   },
   {
    "duration": 409,
    "start_time": "2022-05-18T08:40:07.031Z"
   },
   {
    "duration": 294,
    "start_time": "2022-05-18T08:40:07.443Z"
   },
   {
    "duration": 1750,
    "start_time": "2022-05-18T15:31:10.879Z"
   },
   {
    "duration": 57,
    "start_time": "2022-05-19T07:37:03.715Z"
   },
   {
    "duration": 1313,
    "start_time": "2022-05-19T07:37:14.621Z"
   },
   {
    "duration": 2754,
    "start_time": "2022-05-19T07:37:15.936Z"
   },
   {
    "duration": 22,
    "start_time": "2022-05-19T07:37:18.691Z"
   },
   {
    "duration": 124,
    "start_time": "2022-05-19T07:37:18.715Z"
   },
   {
    "duration": 398,
    "start_time": "2022-05-19T07:37:18.841Z"
   },
   {
    "duration": 490,
    "start_time": "2022-05-19T07:37:19.241Z"
   },
   {
    "duration": 192,
    "start_time": "2022-05-19T07:37:19.732Z"
   },
   {
    "duration": 45,
    "start_time": "2022-05-19T07:37:19.926Z"
   },
   {
    "duration": 30,
    "start_time": "2022-05-19T07:37:19.973Z"
   },
   {
    "duration": 200,
    "start_time": "2022-05-19T07:37:20.006Z"
   },
   {
    "duration": 58,
    "start_time": "2022-05-19T07:37:20.207Z"
   },
   {
    "duration": 29,
    "start_time": "2022-05-19T07:37:20.266Z"
   },
   {
    "duration": 196,
    "start_time": "2022-05-19T07:37:20.297Z"
   },
   {
    "duration": 37,
    "start_time": "2022-05-19T07:37:20.495Z"
   },
   {
    "duration": 196,
    "start_time": "2022-05-19T07:37:20.534Z"
   },
   {
    "duration": 36,
    "start_time": "2022-05-19T07:37:20.732Z"
   },
   {
    "duration": 35,
    "start_time": "2022-05-19T07:37:20.770Z"
   },
   {
    "duration": 29,
    "start_time": "2022-05-19T07:37:20.808Z"
   },
   {
    "duration": 25,
    "start_time": "2022-05-19T07:37:20.839Z"
   },
   {
    "duration": 111,
    "start_time": "2022-05-19T07:37:20.866Z"
   },
   {
    "duration": 69,
    "start_time": "2022-05-19T07:37:20.979Z"
   },
   {
    "duration": 110,
    "start_time": "2022-05-19T07:37:21.058Z"
   },
   {
    "duration": 20,
    "start_time": "2022-05-19T07:37:21.169Z"
   },
   {
    "duration": 214,
    "start_time": "2022-05-19T07:37:21.191Z"
   },
   {
    "duration": 72,
    "start_time": "2022-05-19T07:37:21.406Z"
   },
   {
    "duration": 18,
    "start_time": "2022-05-19T07:37:21.479Z"
   },
   {
    "duration": 15,
    "start_time": "2022-05-19T07:37:21.499Z"
   },
   {
    "duration": 668,
    "start_time": "2022-05-19T07:37:21.517Z"
   },
   {
    "duration": 456,
    "start_time": "2022-05-19T07:37:22.187Z"
   },
   {
    "duration": 134,
    "start_time": "2022-05-19T07:37:22.644Z"
   },
   {
    "duration": 3,
    "start_time": "2022-05-19T07:37:22.780Z"
   },
   {
    "duration": 24977,
    "start_time": "2022-05-19T07:37:22.784Z"
   },
   {
    "duration": 497,
    "start_time": "2022-05-19T07:37:47.764Z"
   },
   {
    "duration": 197,
    "start_time": "2022-05-19T07:37:48.263Z"
   },
   {
    "duration": 5316,
    "start_time": "2022-05-19T07:37:48.462Z"
   },
   {
    "duration": 408,
    "start_time": "2022-05-19T07:37:53.779Z"
   },
   {
    "duration": 141,
    "start_time": "2022-05-19T07:37:54.188Z"
   },
   {
    "duration": 75924,
    "start_time": "2022-05-19T07:37:54.330Z"
   },
   {
    "duration": 992,
    "start_time": "2022-05-19T07:39:10.258Z"
   },
   {
    "duration": 333,
    "start_time": "2022-05-19T07:39:11.252Z"
   },
   {
    "duration": 223,
    "start_time": "2022-05-19T07:39:11.587Z"
   },
   {
    "duration": 1507,
    "start_time": "2022-05-19T13:02:24.131Z"
   },
   {
    "duration": 3269,
    "start_time": "2022-05-19T13:02:26.848Z"
   },
   {
    "duration": 27,
    "start_time": "2022-05-19T13:02:30.120Z"
   },
   {
    "duration": 176,
    "start_time": "2022-05-19T13:02:30.149Z"
   },
   {
    "duration": 534,
    "start_time": "2022-05-19T13:02:30.327Z"
   },
   {
    "duration": 769,
    "start_time": "2022-05-19T13:02:31.140Z"
   },
   {
    "duration": 345,
    "start_time": "2022-05-19T13:02:31.911Z"
   },
   {
    "duration": 72,
    "start_time": "2022-05-19T13:02:32.258Z"
   },
   {
    "duration": 226,
    "start_time": "2022-05-19T13:04:06.040Z"
   },
   {
    "duration": 260,
    "start_time": "2022-05-19T13:04:20.560Z"
   },
   {
    "duration": 226,
    "start_time": "2022-05-19T13:04:37.012Z"
   },
   {
    "duration": 225,
    "start_time": "2022-05-19T13:05:19.654Z"
   },
   {
    "duration": 235,
    "start_time": "2022-05-19T13:05:58.914Z"
   },
   {
    "duration": 198,
    "start_time": "2022-05-19T13:06:12.629Z"
   },
   {
    "duration": 221,
    "start_time": "2022-05-19T13:06:26.551Z"
   },
   {
    "duration": 215,
    "start_time": "2022-05-19T13:06:34.125Z"
   },
   {
    "duration": 62,
    "start_time": "2022-05-19T13:08:53.486Z"
   },
   {
    "duration": 5,
    "start_time": "2022-05-19T13:08:54.404Z"
   },
   {
    "duration": 51,
    "start_time": "2022-05-19T13:09:06.092Z"
   },
   {
    "duration": 5,
    "start_time": "2022-05-19T13:09:07.303Z"
   },
   {
    "duration": 43,
    "start_time": "2022-05-19T13:09:31.633Z"
   },
   {
    "duration": 42,
    "start_time": "2022-05-19T13:09:38.755Z"
   },
   {
    "duration": 4,
    "start_time": "2022-05-19T13:09:39.158Z"
   },
   {
    "duration": 50,
    "start_time": "2022-05-19T13:10:34.675Z"
   },
   {
    "duration": 4,
    "start_time": "2022-05-19T13:10:34.870Z"
   },
   {
    "duration": 42,
    "start_time": "2022-05-19T13:10:39.425Z"
   },
   {
    "duration": 3,
    "start_time": "2022-05-19T13:10:39.469Z"
   },
   {
    "duration": 45,
    "start_time": "2022-05-19T13:10:44.043Z"
   },
   {
    "duration": 3,
    "start_time": "2022-05-19T13:10:44.387Z"
   },
   {
    "duration": 41,
    "start_time": "2022-05-19T13:10:49.642Z"
   },
   {
    "duration": 4,
    "start_time": "2022-05-19T13:10:50.022Z"
   },
   {
    "duration": 41,
    "start_time": "2022-05-19T13:10:57.022Z"
   },
   {
    "duration": 3,
    "start_time": "2022-05-19T13:10:58.079Z"
   },
   {
    "duration": 42,
    "start_time": "2022-05-19T13:11:39.458Z"
   },
   {
    "duration": 5,
    "start_time": "2022-05-19T13:11:40.288Z"
   },
   {
    "duration": 44,
    "start_time": "2022-05-19T13:11:43.251Z"
   },
   {
    "duration": 4,
    "start_time": "2022-05-19T13:11:43.614Z"
   },
   {
    "duration": 51,
    "start_time": "2022-05-19T13:11:46.462Z"
   },
   {
    "duration": 4,
    "start_time": "2022-05-19T13:11:46.616Z"
   },
   {
    "duration": 52,
    "start_time": "2022-05-19T13:11:51.625Z"
   },
   {
    "duration": 4,
    "start_time": "2022-05-19T13:11:52.672Z"
   },
   {
    "duration": 54,
    "start_time": "2022-05-19T13:11:55.862Z"
   },
   {
    "duration": 3,
    "start_time": "2022-05-19T13:11:56.064Z"
   },
   {
    "duration": 39,
    "start_time": "2022-05-19T13:12:03.955Z"
   },
   {
    "duration": 4,
    "start_time": "2022-05-19T13:12:04.355Z"
   },
   {
    "duration": 4,
    "start_time": "2022-05-19T13:12:47.221Z"
   },
   {
    "duration": 4,
    "start_time": "2022-05-19T13:13:03.344Z"
   },
   {
    "duration": 445,
    "start_time": "2022-05-19T13:17:24.672Z"
   },
   {
    "duration": 359,
    "start_time": "2022-05-19T13:17:38.058Z"
   },
   {
    "duration": 362,
    "start_time": "2022-05-19T13:18:10.217Z"
   },
   {
    "duration": 365,
    "start_time": "2022-05-19T13:18:35.372Z"
   },
   {
    "duration": 350,
    "start_time": "2022-05-19T13:18:39.884Z"
   },
   {
    "duration": 458,
    "start_time": "2022-05-19T13:18:46.060Z"
   },
   {
    "duration": 414,
    "start_time": "2022-05-19T13:19:31.073Z"
   },
   {
    "duration": 335,
    "start_time": "2022-05-19T13:19:36.552Z"
   },
   {
    "duration": 30,
    "start_time": "2022-05-19T13:22:02.946Z"
   },
   {
    "duration": 28,
    "start_time": "2022-05-19T13:22:11.817Z"
   },
   {
    "duration": 25,
    "start_time": "2022-05-19T13:22:15.356Z"
   },
   {
    "duration": 25,
    "start_time": "2022-05-19T13:23:47.585Z"
   },
   {
    "duration": 26,
    "start_time": "2022-05-19T13:23:59.365Z"
   },
   {
    "duration": 28,
    "start_time": "2022-05-19T13:24:04.314Z"
   },
   {
    "duration": 58,
    "start_time": "2022-05-19T13:24:16.320Z"
   },
   {
    "duration": 25,
    "start_time": "2022-05-19T13:24:53.113Z"
   },
   {
    "duration": 1331,
    "start_time": "2022-05-19T13:31:01.261Z"
   },
   {
    "duration": 942,
    "start_time": "2022-05-19T13:31:02.594Z"
   },
   {
    "duration": 24,
    "start_time": "2022-05-19T13:31:03.538Z"
   },
   {
    "duration": 145,
    "start_time": "2022-05-19T13:31:03.564Z"
   },
   {
    "duration": 506,
    "start_time": "2022-05-19T13:31:03.713Z"
   },
   {
    "duration": 630,
    "start_time": "2022-05-19T13:31:04.220Z"
   },
   {
    "duration": 512,
    "start_time": "2022-05-19T13:31:04.853Z"
   },
   {
    "duration": 69,
    "start_time": "2022-05-19T13:31:05.367Z"
   },
   {
    "duration": 5,
    "start_time": "2022-05-19T13:31:05.438Z"
   },
   {
    "duration": 40,
    "start_time": "2022-05-19T13:31:05.447Z"
   },
   {
    "duration": 295,
    "start_time": "2022-05-19T13:31:05.489Z"
   },
   {
    "duration": 60,
    "start_time": "2022-05-19T13:31:05.786Z"
   },
   {
    "duration": 96,
    "start_time": "2022-05-19T13:31:05.848Z"
   },
   {
    "duration": 70,
    "start_time": "2022-05-19T13:31:05.946Z"
   },
   {
    "duration": 300,
    "start_time": "2022-05-19T13:31:06.018Z"
   },
   {
    "duration": 42,
    "start_time": "2022-05-19T13:31:06.320Z"
   },
   {
    "duration": 233,
    "start_time": "2022-05-19T13:31:06.364Z"
   },
   {
    "duration": 47,
    "start_time": "2022-05-19T13:31:06.598Z"
   },
   {
    "duration": 57,
    "start_time": "2022-05-19T13:31:06.646Z"
   },
   {
    "duration": 42,
    "start_time": "2022-05-19T13:31:06.705Z"
   },
   {
    "duration": 13,
    "start_time": "2022-05-19T13:31:06.749Z"
   },
   {
    "duration": 130,
    "start_time": "2022-05-19T13:31:06.764Z"
   },
   {
    "duration": 86,
    "start_time": "2022-05-19T13:31:06.902Z"
   },
   {
    "duration": 140,
    "start_time": "2022-05-19T13:31:06.990Z"
   },
   {
    "duration": 25,
    "start_time": "2022-05-19T13:31:07.132Z"
   },
   {
    "duration": 219,
    "start_time": "2022-05-19T13:31:07.159Z"
   },
   {
    "duration": 100,
    "start_time": "2022-05-19T13:31:07.380Z"
   },
   {
    "duration": 29,
    "start_time": "2022-05-19T13:31:07.483Z"
   },
   {
    "duration": 21,
    "start_time": "2022-05-19T13:31:07.514Z"
   },
   {
    "duration": 835,
    "start_time": "2022-05-19T13:31:07.537Z"
   },
   {
    "duration": 508,
    "start_time": "2022-05-19T13:31:08.374Z"
   },
   {
    "duration": 162,
    "start_time": "2022-05-19T13:31:08.883Z"
   },
   {
    "duration": 3,
    "start_time": "2022-05-19T13:31:09.047Z"
   },
   {
    "duration": 210,
    "start_time": "2022-05-19T13:31:09.052Z"
   },
   {
    "duration": 14,
    "start_time": "2022-05-19T13:31:09.264Z"
   },
   {
    "duration": 23,
    "start_time": "2022-05-19T13:39:13.725Z"
   },
   {
    "duration": 1287,
    "start_time": "2022-05-19T13:39:22.112Z"
   },
   {
    "duration": 826,
    "start_time": "2022-05-19T13:39:23.401Z"
   },
   {
    "duration": 21,
    "start_time": "2022-05-19T13:39:24.229Z"
   },
   {
    "duration": 124,
    "start_time": "2022-05-19T13:39:24.252Z"
   },
   {
    "duration": 394,
    "start_time": "2022-05-19T13:39:24.378Z"
   },
   {
    "duration": 544,
    "start_time": "2022-05-19T13:39:24.773Z"
   },
   {
    "duration": 369,
    "start_time": "2022-05-19T13:39:25.319Z"
   },
   {
    "duration": 51,
    "start_time": "2022-05-19T13:39:25.690Z"
   },
   {
    "duration": 4,
    "start_time": "2022-05-19T13:39:25.743Z"
   },
   {
    "duration": 36,
    "start_time": "2022-05-19T13:39:25.749Z"
   },
   {
    "duration": 226,
    "start_time": "2022-05-19T13:39:25.802Z"
   },
   {
    "duration": 25,
    "start_time": "2022-05-19T13:39:26.030Z"
   },
   {
    "duration": 69,
    "start_time": "2022-05-19T13:39:26.056Z"
   },
   {
    "duration": 31,
    "start_time": "2022-05-19T13:39:26.127Z"
   },
   {
    "duration": 249,
    "start_time": "2022-05-19T13:39:26.160Z"
   },
   {
    "duration": 32,
    "start_time": "2022-05-19T13:39:26.410Z"
   },
   {
    "duration": 205,
    "start_time": "2022-05-19T13:39:26.444Z"
   },
   {
    "duration": 33,
    "start_time": "2022-05-19T13:39:26.651Z"
   },
   {
    "duration": 49,
    "start_time": "2022-05-19T13:39:26.685Z"
   },
   {
    "duration": 36,
    "start_time": "2022-05-19T13:39:26.735Z"
   },
   {
    "duration": 10,
    "start_time": "2022-05-19T13:39:26.772Z"
   },
   {
    "duration": 127,
    "start_time": "2022-05-19T13:39:26.783Z"
   },
   {
    "duration": 83,
    "start_time": "2022-05-19T13:39:26.911Z"
   },
   {
    "duration": 121,
    "start_time": "2022-05-19T13:39:26.996Z"
   },
   {
    "duration": 22,
    "start_time": "2022-05-19T13:39:27.118Z"
   },
   {
    "duration": 215,
    "start_time": "2022-05-19T13:39:27.141Z"
   },
   {
    "duration": 87,
    "start_time": "2022-05-19T13:39:27.357Z"
   },
   {
    "duration": 20,
    "start_time": "2022-05-19T13:39:27.447Z"
   },
   {
    "duration": 34,
    "start_time": "2022-05-19T13:39:27.469Z"
   },
   {
    "duration": 751,
    "start_time": "2022-05-19T13:39:27.504Z"
   },
   {
    "duration": 536,
    "start_time": "2022-05-19T13:39:28.256Z"
   },
   {
    "duration": 153,
    "start_time": "2022-05-19T13:39:28.793Z"
   },
   {
    "duration": 3,
    "start_time": "2022-05-19T13:39:28.947Z"
   },
   {
    "duration": 204,
    "start_time": "2022-05-19T13:39:28.952Z"
   },
   {
    "duration": 13,
    "start_time": "2022-05-19T13:39:29.157Z"
   },
   {
    "duration": 122,
    "start_time": "2022-05-19T13:46:36.231Z"
   },
   {
    "duration": 26,
    "start_time": "2022-05-19T13:48:14.850Z"
   },
   {
    "duration": 36,
    "start_time": "2022-05-19T13:48:26.906Z"
   },
   {
    "duration": 42,
    "start_time": "2022-05-19T13:48:35.925Z"
   },
   {
    "duration": 43,
    "start_time": "2022-05-19T13:48:46.398Z"
   },
   {
    "duration": 210,
    "start_time": "2022-05-19T13:49:05.142Z"
   },
   {
    "duration": 419,
    "start_time": "2022-05-19T13:49:43.410Z"
   },
   {
    "duration": 49,
    "start_time": "2022-05-19T13:55:56.824Z"
   },
   {
    "duration": 28,
    "start_time": "2022-05-19T13:56:10.046Z"
   },
   {
    "duration": 182,
    "start_time": "2022-05-19T13:57:07.841Z"
   },
   {
    "duration": 183,
    "start_time": "2022-05-19T13:57:12.334Z"
   },
   {
    "duration": 183,
    "start_time": "2022-05-19T13:59:00.569Z"
   },
   {
    "duration": 2,
    "start_time": "2022-05-19T14:10:28.312Z"
   },
   {
    "duration": 147,
    "start_time": "2022-05-19T14:11:42.307Z"
   },
   {
    "duration": 6,
    "start_time": "2022-05-19T14:12:22.941Z"
   },
   {
    "duration": 132,
    "start_time": "2022-05-19T14:12:50.687Z"
   },
   {
    "duration": 154,
    "start_time": "2022-05-19T14:12:54.753Z"
   },
   {
    "duration": 3,
    "start_time": "2022-05-19T14:13:01.593Z"
   },
   {
    "duration": 132,
    "start_time": "2022-05-19T14:13:01.962Z"
   },
   {
    "duration": 1271,
    "start_time": "2022-05-19T14:13:16.636Z"
   },
   {
    "duration": 944,
    "start_time": "2022-05-19T14:13:17.910Z"
   },
   {
    "duration": 26,
    "start_time": "2022-05-19T14:13:18.856Z"
   },
   {
    "duration": 148,
    "start_time": "2022-05-19T14:13:18.883Z"
   },
   {
    "duration": 424,
    "start_time": "2022-05-19T14:13:19.033Z"
   },
   {
    "duration": 535,
    "start_time": "2022-05-19T14:13:19.458Z"
   },
   {
    "duration": 372,
    "start_time": "2022-05-19T14:13:19.995Z"
   },
   {
    "duration": 57,
    "start_time": "2022-05-19T14:13:20.369Z"
   },
   {
    "duration": 4,
    "start_time": "2022-05-19T14:13:20.428Z"
   },
   {
    "duration": 37,
    "start_time": "2022-05-19T14:13:20.434Z"
   },
   {
    "duration": 248,
    "start_time": "2022-05-19T14:13:20.473Z"
   },
   {
    "duration": 26,
    "start_time": "2022-05-19T14:13:20.723Z"
   },
   {
    "duration": 70,
    "start_time": "2022-05-19T14:13:20.751Z"
   },
   {
    "duration": 33,
    "start_time": "2022-05-19T14:13:20.825Z"
   },
   {
    "duration": 262,
    "start_time": "2022-05-19T14:13:20.860Z"
   },
   {
    "duration": 40,
    "start_time": "2022-05-19T14:13:21.124Z"
   },
   {
    "duration": 259,
    "start_time": "2022-05-19T14:13:21.166Z"
   },
   {
    "duration": 3,
    "start_time": "2022-05-19T14:13:21.427Z"
   },
   {
    "duration": 136,
    "start_time": "2022-05-19T14:13:21.431Z"
   },
   {
    "duration": 0,
    "start_time": "2022-05-19T14:13:21.569Z"
   },
   {
    "duration": 0,
    "start_time": "2022-05-19T14:13:21.570Z"
   },
   {
    "duration": 0,
    "start_time": "2022-05-19T14:13:21.571Z"
   },
   {
    "duration": 0,
    "start_time": "2022-05-19T14:13:21.572Z"
   },
   {
    "duration": 0,
    "start_time": "2022-05-19T14:13:21.573Z"
   },
   {
    "duration": 0,
    "start_time": "2022-05-19T14:13:21.574Z"
   },
   {
    "duration": 0,
    "start_time": "2022-05-19T14:13:21.575Z"
   },
   {
    "duration": 0,
    "start_time": "2022-05-19T14:13:21.576Z"
   },
   {
    "duration": 0,
    "start_time": "2022-05-19T14:13:21.577Z"
   },
   {
    "duration": 0,
    "start_time": "2022-05-19T14:13:21.578Z"
   },
   {
    "duration": 0,
    "start_time": "2022-05-19T14:13:21.578Z"
   },
   {
    "duration": 0,
    "start_time": "2022-05-19T14:13:21.601Z"
   },
   {
    "duration": 0,
    "start_time": "2022-05-19T14:13:21.603Z"
   },
   {
    "duration": 0,
    "start_time": "2022-05-19T14:13:21.604Z"
   },
   {
    "duration": 0,
    "start_time": "2022-05-19T14:13:21.605Z"
   },
   {
    "duration": 0,
    "start_time": "2022-05-19T14:13:21.606Z"
   },
   {
    "duration": 0,
    "start_time": "2022-05-19T14:13:21.607Z"
   },
   {
    "duration": 0,
    "start_time": "2022-05-19T14:13:21.608Z"
   },
   {
    "duration": 0,
    "start_time": "2022-05-19T14:13:21.610Z"
   },
   {
    "duration": 3,
    "start_time": "2022-05-19T14:15:42.799Z"
   },
   {
    "duration": 451,
    "start_time": "2022-05-19T14:16:30.575Z"
   },
   {
    "duration": 538,
    "start_time": "2022-05-19T14:16:40.950Z"
   },
   {
    "duration": 3,
    "start_time": "2022-05-19T14:18:35.419Z"
   },
   {
    "duration": 403,
    "start_time": "2022-05-19T14:18:36.519Z"
   },
   {
    "duration": 1272,
    "start_time": "2022-05-19T14:18:47.227Z"
   },
   {
    "duration": 890,
    "start_time": "2022-05-19T14:18:48.502Z"
   },
   {
    "duration": 31,
    "start_time": "2022-05-19T14:18:49.394Z"
   },
   {
    "duration": 149,
    "start_time": "2022-05-19T14:18:49.427Z"
   },
   {
    "duration": 474,
    "start_time": "2022-05-19T14:18:49.577Z"
   },
   {
    "duration": 514,
    "start_time": "2022-05-19T14:18:50.053Z"
   },
   {
    "duration": 348,
    "start_time": "2022-05-19T14:18:50.569Z"
   },
   {
    "duration": 38,
    "start_time": "2022-05-19T14:18:50.918Z"
   },
   {
    "duration": 4,
    "start_time": "2022-05-19T14:18:50.957Z"
   },
   {
    "duration": 53,
    "start_time": "2022-05-19T14:18:50.963Z"
   },
   {
    "duration": 264,
    "start_time": "2022-05-19T14:18:51.017Z"
   },
   {
    "duration": 35,
    "start_time": "2022-05-19T14:18:51.283Z"
   },
   {
    "duration": 64,
    "start_time": "2022-05-19T14:18:51.322Z"
   },
   {
    "duration": 37,
    "start_time": "2022-05-19T14:18:51.387Z"
   },
   {
    "duration": 222,
    "start_time": "2022-05-19T14:18:51.425Z"
   },
   {
    "duration": 35,
    "start_time": "2022-05-19T14:18:51.649Z"
   },
   {
    "duration": 211,
    "start_time": "2022-05-19T14:18:51.686Z"
   },
   {
    "duration": 3,
    "start_time": "2022-05-19T14:18:51.901Z"
   },
   {
    "duration": 146,
    "start_time": "2022-05-19T14:18:51.905Z"
   },
   {
    "duration": 0,
    "start_time": "2022-05-19T14:18:52.053Z"
   },
   {
    "duration": 0,
    "start_time": "2022-05-19T14:18:52.054Z"
   },
   {
    "duration": 0,
    "start_time": "2022-05-19T14:18:52.055Z"
   },
   {
    "duration": 0,
    "start_time": "2022-05-19T14:18:52.055Z"
   },
   {
    "duration": 0,
    "start_time": "2022-05-19T14:18:52.056Z"
   },
   {
    "duration": 0,
    "start_time": "2022-05-19T14:18:52.057Z"
   },
   {
    "duration": 0,
    "start_time": "2022-05-19T14:18:52.059Z"
   },
   {
    "duration": 0,
    "start_time": "2022-05-19T14:18:52.060Z"
   },
   {
    "duration": 0,
    "start_time": "2022-05-19T14:18:52.061Z"
   },
   {
    "duration": 0,
    "start_time": "2022-05-19T14:18:52.062Z"
   },
   {
    "duration": 0,
    "start_time": "2022-05-19T14:18:52.062Z"
   },
   {
    "duration": 0,
    "start_time": "2022-05-19T14:18:52.063Z"
   },
   {
    "duration": 0,
    "start_time": "2022-05-19T14:18:52.064Z"
   },
   {
    "duration": 0,
    "start_time": "2022-05-19T14:18:52.065Z"
   },
   {
    "duration": 0,
    "start_time": "2022-05-19T14:18:52.066Z"
   },
   {
    "duration": 0,
    "start_time": "2022-05-19T14:18:52.067Z"
   },
   {
    "duration": 0,
    "start_time": "2022-05-19T14:18:52.067Z"
   },
   {
    "duration": 0,
    "start_time": "2022-05-19T14:18:52.068Z"
   },
   {
    "duration": 0,
    "start_time": "2022-05-19T14:18:52.069Z"
   },
   {
    "duration": 14,
    "start_time": "2022-05-19T14:21:29.152Z"
   },
   {
    "duration": 12,
    "start_time": "2022-05-19T14:21:45.222Z"
   },
   {
    "duration": 12,
    "start_time": "2022-05-19T14:23:30.867Z"
   },
   {
    "duration": 7,
    "start_time": "2022-05-19T14:23:34.515Z"
   },
   {
    "duration": 10,
    "start_time": "2022-05-19T14:23:42.643Z"
   },
   {
    "duration": 8,
    "start_time": "2022-05-19T14:23:53.499Z"
   },
   {
    "duration": 9,
    "start_time": "2022-05-19T14:23:57.902Z"
   },
   {
    "duration": 7,
    "start_time": "2022-05-19T14:24:13.791Z"
   },
   {
    "duration": 13,
    "start_time": "2022-05-19T14:24:20.449Z"
   },
   {
    "duration": 1236,
    "start_time": "2022-05-19T14:24:43.253Z"
   },
   {
    "duration": 935,
    "start_time": "2022-05-19T14:24:44.490Z"
   },
   {
    "duration": 28,
    "start_time": "2022-05-19T14:24:45.426Z"
   },
   {
    "duration": 146,
    "start_time": "2022-05-19T14:24:45.456Z"
   },
   {
    "duration": 458,
    "start_time": "2022-05-19T14:24:45.603Z"
   },
   {
    "duration": 517,
    "start_time": "2022-05-19T14:24:46.062Z"
   },
   {
    "duration": 386,
    "start_time": "2022-05-19T14:24:46.582Z"
   },
   {
    "duration": 47,
    "start_time": "2022-05-19T14:24:46.969Z"
   },
   {
    "duration": 4,
    "start_time": "2022-05-19T14:24:47.018Z"
   },
   {
    "duration": 35,
    "start_time": "2022-05-19T14:24:47.024Z"
   },
   {
    "duration": 247,
    "start_time": "2022-05-19T14:24:47.061Z"
   },
   {
    "duration": 26,
    "start_time": "2022-05-19T14:24:47.310Z"
   },
   {
    "duration": 65,
    "start_time": "2022-05-19T14:24:47.338Z"
   },
   {
    "duration": 34,
    "start_time": "2022-05-19T14:24:47.404Z"
   },
   {
    "duration": 222,
    "start_time": "2022-05-19T14:24:47.439Z"
   },
   {
    "duration": 42,
    "start_time": "2022-05-19T14:24:47.663Z"
   },
   {
    "duration": 201,
    "start_time": "2022-05-19T14:24:47.707Z"
   },
   {
    "duration": 13,
    "start_time": "2022-05-19T14:24:47.910Z"
   },
   {
    "duration": 212,
    "start_time": "2022-05-19T14:24:47.925Z"
   },
   {
    "duration": 32,
    "start_time": "2022-05-19T14:24:48.139Z"
   },
   {
    "duration": 45,
    "start_time": "2022-05-19T14:24:48.172Z"
   },
   {
    "duration": 34,
    "start_time": "2022-05-19T14:24:48.219Z"
   },
   {
    "duration": 12,
    "start_time": "2022-05-19T14:24:48.255Z"
   },
   {
    "duration": 121,
    "start_time": "2022-05-19T14:24:48.269Z"
   },
   {
    "duration": 111,
    "start_time": "2022-05-19T14:24:48.393Z"
   },
   {
    "duration": 119,
    "start_time": "2022-05-19T14:24:48.506Z"
   },
   {
    "duration": 22,
    "start_time": "2022-05-19T14:24:48.627Z"
   },
   {
    "duration": 243,
    "start_time": "2022-05-19T14:24:48.653Z"
   },
   {
    "duration": 86,
    "start_time": "2022-05-19T14:24:48.898Z"
   },
   {
    "duration": 38,
    "start_time": "2022-05-19T14:24:48.986Z"
   },
   {
    "duration": 19,
    "start_time": "2022-05-19T14:24:49.026Z"
   },
   {
    "duration": 710,
    "start_time": "2022-05-19T14:24:49.047Z"
   },
   {
    "duration": 532,
    "start_time": "2022-05-19T14:24:49.759Z"
   },
   {
    "duration": 148,
    "start_time": "2022-05-19T14:24:50.292Z"
   },
   {
    "duration": 4,
    "start_time": "2022-05-19T14:24:50.441Z"
   },
   {
    "duration": 220,
    "start_time": "2022-05-19T14:24:50.446Z"
   },
   {
    "duration": 13,
    "start_time": "2022-05-19T14:24:50.667Z"
   },
   {
    "duration": 12,
    "start_time": "2022-05-19T14:25:14.769Z"
   },
   {
    "duration": 1266,
    "start_time": "2022-05-19T14:25:53.015Z"
   },
   {
    "duration": 945,
    "start_time": "2022-05-19T14:25:54.283Z"
   },
   {
    "duration": 25,
    "start_time": "2022-05-19T14:25:55.231Z"
   },
   {
    "duration": 136,
    "start_time": "2022-05-19T14:25:55.258Z"
   },
   {
    "duration": 466,
    "start_time": "2022-05-19T14:25:55.401Z"
   },
   {
    "duration": 551,
    "start_time": "2022-05-19T14:25:55.869Z"
   },
   {
    "duration": 378,
    "start_time": "2022-05-19T14:25:56.422Z"
   },
   {
    "duration": 38,
    "start_time": "2022-05-19T14:25:56.801Z"
   },
   {
    "duration": 4,
    "start_time": "2022-05-19T14:25:56.841Z"
   },
   {
    "duration": 33,
    "start_time": "2022-05-19T14:25:56.846Z"
   },
   {
    "duration": 228,
    "start_time": "2022-05-19T14:25:56.881Z"
   },
   {
    "duration": 27,
    "start_time": "2022-05-19T14:25:57.111Z"
   },
   {
    "duration": 63,
    "start_time": "2022-05-19T14:25:57.139Z"
   },
   {
    "duration": 30,
    "start_time": "2022-05-19T14:25:57.203Z"
   },
   {
    "duration": 227,
    "start_time": "2022-05-19T14:25:57.234Z"
   },
   {
    "duration": 3,
    "start_time": "2022-05-19T14:25:57.462Z"
   },
   {
    "duration": 190,
    "start_time": "2022-05-19T14:25:57.466Z"
   },
   {
    "duration": 12,
    "start_time": "2022-05-19T14:25:57.657Z"
   },
   {
    "duration": 203,
    "start_time": "2022-05-19T14:25:57.670Z"
   },
   {
    "duration": 37,
    "start_time": "2022-05-19T14:25:57.875Z"
   },
   {
    "duration": 34,
    "start_time": "2022-05-19T14:25:57.913Z"
   },
   {
    "duration": 31,
    "start_time": "2022-05-19T14:25:57.949Z"
   },
   {
    "duration": 27,
    "start_time": "2022-05-19T14:25:57.981Z"
   },
   {
    "duration": 106,
    "start_time": "2022-05-19T14:25:58.009Z"
   },
   {
    "duration": 86,
    "start_time": "2022-05-19T14:25:58.116Z"
   },
   {
    "duration": 112,
    "start_time": "2022-05-19T14:25:58.203Z"
   },
   {
    "duration": 21,
    "start_time": "2022-05-19T14:25:58.319Z"
   },
   {
    "duration": 224,
    "start_time": "2022-05-19T14:25:58.342Z"
   },
   {
    "duration": 88,
    "start_time": "2022-05-19T14:25:58.567Z"
   },
   {
    "duration": 17,
    "start_time": "2022-05-19T14:25:58.657Z"
   },
   {
    "duration": 34,
    "start_time": "2022-05-19T14:25:58.676Z"
   },
   {
    "duration": 694,
    "start_time": "2022-05-19T14:25:58.711Z"
   },
   {
    "duration": 533,
    "start_time": "2022-05-19T14:25:59.407Z"
   },
   {
    "duration": 158,
    "start_time": "2022-05-19T14:25:59.941Z"
   },
   {
    "duration": 3,
    "start_time": "2022-05-19T14:26:00.102Z"
   },
   {
    "duration": 211,
    "start_time": "2022-05-19T14:26:00.107Z"
   },
   {
    "duration": 13,
    "start_time": "2022-05-19T14:26:00.320Z"
   },
   {
    "duration": 134,
    "start_time": "2022-05-19T14:29:30.997Z"
   },
   {
    "duration": 9,
    "start_time": "2022-05-19T14:29:54.506Z"
   },
   {
    "duration": 1282,
    "start_time": "2022-05-19T14:30:02.301Z"
   },
   {
    "duration": 933,
    "start_time": "2022-05-19T14:30:03.585Z"
   },
   {
    "duration": 24,
    "start_time": "2022-05-19T14:30:04.520Z"
   },
   {
    "duration": 127,
    "start_time": "2022-05-19T14:30:04.546Z"
   },
   {
    "duration": 450,
    "start_time": "2022-05-19T14:30:04.674Z"
   },
   {
    "duration": 599,
    "start_time": "2022-05-19T14:30:05.126Z"
   },
   {
    "duration": 379,
    "start_time": "2022-05-19T14:30:05.727Z"
   },
   {
    "duration": 48,
    "start_time": "2022-05-19T14:30:06.107Z"
   },
   {
    "duration": 4,
    "start_time": "2022-05-19T14:30:06.156Z"
   },
   {
    "duration": 50,
    "start_time": "2022-05-19T14:30:06.164Z"
   },
   {
    "duration": 218,
    "start_time": "2022-05-19T14:30:06.216Z"
   },
   {
    "duration": 24,
    "start_time": "2022-05-19T14:30:06.436Z"
   },
   {
    "duration": 77,
    "start_time": "2022-05-19T14:30:06.462Z"
   },
   {
    "duration": 31,
    "start_time": "2022-05-19T14:30:06.541Z"
   },
   {
    "duration": 243,
    "start_time": "2022-05-19T14:30:06.573Z"
   },
   {
    "duration": 33,
    "start_time": "2022-05-19T14:30:06.818Z"
   },
   {
    "duration": 222,
    "start_time": "2022-05-19T14:30:06.853Z"
   },
   {
    "duration": 143,
    "start_time": "2022-05-19T14:30:07.076Z"
   },
   {
    "duration": 142,
    "start_time": "2022-05-19T14:30:07.220Z"
   },
   {
    "duration": 0,
    "start_time": "2022-05-19T14:30:07.365Z"
   },
   {
    "duration": 0,
    "start_time": "2022-05-19T14:30:07.366Z"
   },
   {
    "duration": 0,
    "start_time": "2022-05-19T14:30:07.367Z"
   },
   {
    "duration": 0,
    "start_time": "2022-05-19T14:30:07.369Z"
   },
   {
    "duration": 0,
    "start_time": "2022-05-19T14:30:07.370Z"
   },
   {
    "duration": 0,
    "start_time": "2022-05-19T14:30:07.372Z"
   },
   {
    "duration": 0,
    "start_time": "2022-05-19T14:30:07.373Z"
   },
   {
    "duration": 0,
    "start_time": "2022-05-19T14:30:07.374Z"
   },
   {
    "duration": 0,
    "start_time": "2022-05-19T14:30:07.376Z"
   },
   {
    "duration": 0,
    "start_time": "2022-05-19T14:30:07.378Z"
   },
   {
    "duration": 0,
    "start_time": "2022-05-19T14:30:07.379Z"
   },
   {
    "duration": 0,
    "start_time": "2022-05-19T14:30:07.402Z"
   },
   {
    "duration": 0,
    "start_time": "2022-05-19T14:30:07.403Z"
   },
   {
    "duration": 1,
    "start_time": "2022-05-19T14:30:07.404Z"
   },
   {
    "duration": 0,
    "start_time": "2022-05-19T14:30:07.406Z"
   },
   {
    "duration": 0,
    "start_time": "2022-05-19T14:30:07.408Z"
   },
   {
    "duration": 0,
    "start_time": "2022-05-19T14:30:07.410Z"
   },
   {
    "duration": 0,
    "start_time": "2022-05-19T14:30:07.411Z"
   },
   {
    "duration": 0,
    "start_time": "2022-05-19T14:30:07.413Z"
   },
   {
    "duration": 9,
    "start_time": "2022-05-19T14:30:27.509Z"
   },
   {
    "duration": 2,
    "start_time": "2022-05-19T14:30:35.546Z"
   },
   {
    "duration": 3,
    "start_time": "2022-05-19T14:30:43.234Z"
   },
   {
    "duration": 10,
    "start_time": "2022-05-19T14:30:57.647Z"
   },
   {
    "duration": 1256,
    "start_time": "2022-05-19T14:31:03.637Z"
   },
   {
    "duration": 957,
    "start_time": "2022-05-19T14:31:04.896Z"
   },
   {
    "duration": 27,
    "start_time": "2022-05-19T14:31:05.855Z"
   },
   {
    "duration": 154,
    "start_time": "2022-05-19T14:31:05.883Z"
   },
   {
    "duration": 494,
    "start_time": "2022-05-19T14:31:06.040Z"
   },
   {
    "duration": 605,
    "start_time": "2022-05-19T14:31:06.536Z"
   },
   {
    "duration": 351,
    "start_time": "2022-05-19T14:31:07.142Z"
   },
   {
    "duration": 51,
    "start_time": "2022-05-19T14:31:07.494Z"
   },
   {
    "duration": 4,
    "start_time": "2022-05-19T14:31:07.546Z"
   },
   {
    "duration": 34,
    "start_time": "2022-05-19T14:31:07.551Z"
   },
   {
    "duration": 234,
    "start_time": "2022-05-19T14:31:07.586Z"
   },
   {
    "duration": 25,
    "start_time": "2022-05-19T14:31:07.822Z"
   },
   {
    "duration": 65,
    "start_time": "2022-05-19T14:31:07.849Z"
   },
   {
    "duration": 33,
    "start_time": "2022-05-19T14:31:07.917Z"
   },
   {
    "duration": 231,
    "start_time": "2022-05-19T14:31:07.952Z"
   },
   {
    "duration": 37,
    "start_time": "2022-05-19T14:31:08.184Z"
   },
   {
    "duration": 205,
    "start_time": "2022-05-19T14:31:08.222Z"
   },
   {
    "duration": 131,
    "start_time": "2022-05-19T14:31:08.429Z"
   },
   {
    "duration": 129,
    "start_time": "2022-05-19T14:31:08.561Z"
   },
   {
    "duration": 0,
    "start_time": "2022-05-19T14:31:08.691Z"
   },
   {
    "duration": 0,
    "start_time": "2022-05-19T14:31:08.692Z"
   },
   {
    "duration": 0,
    "start_time": "2022-05-19T14:31:08.693Z"
   },
   {
    "duration": 0,
    "start_time": "2022-05-19T14:31:08.694Z"
   },
   {
    "duration": 0,
    "start_time": "2022-05-19T14:31:08.695Z"
   },
   {
    "duration": 0,
    "start_time": "2022-05-19T14:31:08.701Z"
   },
   {
    "duration": 0,
    "start_time": "2022-05-19T14:31:08.702Z"
   },
   {
    "duration": 0,
    "start_time": "2022-05-19T14:31:08.703Z"
   },
   {
    "duration": 0,
    "start_time": "2022-05-19T14:31:08.704Z"
   },
   {
    "duration": 0,
    "start_time": "2022-05-19T14:31:08.705Z"
   },
   {
    "duration": 0,
    "start_time": "2022-05-19T14:31:08.706Z"
   },
   {
    "duration": 0,
    "start_time": "2022-05-19T14:31:08.707Z"
   },
   {
    "duration": 0,
    "start_time": "2022-05-19T14:31:08.708Z"
   },
   {
    "duration": 0,
    "start_time": "2022-05-19T14:31:08.709Z"
   },
   {
    "duration": 0,
    "start_time": "2022-05-19T14:31:08.710Z"
   },
   {
    "duration": 0,
    "start_time": "2022-05-19T14:31:08.711Z"
   },
   {
    "duration": 0,
    "start_time": "2022-05-19T14:31:08.712Z"
   },
   {
    "duration": 0,
    "start_time": "2022-05-19T14:31:08.713Z"
   },
   {
    "duration": 0,
    "start_time": "2022-05-19T14:31:08.714Z"
   },
   {
    "duration": 3,
    "start_time": "2022-05-19T14:32:10.263Z"
   },
   {
    "duration": 9,
    "start_time": "2022-05-19T14:32:19.321Z"
   },
   {
    "duration": 10,
    "start_time": "2022-05-19T14:32:36.093Z"
   },
   {
    "duration": 10,
    "start_time": "2022-05-19T14:32:45.535Z"
   },
   {
    "duration": 9,
    "start_time": "2022-05-19T14:33:19.078Z"
   },
   {
    "duration": 10,
    "start_time": "2022-05-19T14:44:13.754Z"
   },
   {
    "duration": 9,
    "start_time": "2022-05-19T14:44:20.513Z"
   },
   {
    "duration": 10,
    "start_time": "2022-05-19T14:44:26.067Z"
   },
   {
    "duration": 10,
    "start_time": "2022-05-19T14:44:32.156Z"
   },
   {
    "duration": 12,
    "start_time": "2022-05-19T14:44:35.983Z"
   },
   {
    "duration": 11,
    "start_time": "2022-05-19T14:44:52.587Z"
   },
   {
    "duration": 8,
    "start_time": "2022-05-19T14:45:04.363Z"
   },
   {
    "duration": 8,
    "start_time": "2022-05-19T14:45:47.094Z"
   },
   {
    "duration": 1299,
    "start_time": "2022-05-19T14:45:54.278Z"
   },
   {
    "duration": 890,
    "start_time": "2022-05-19T14:45:55.578Z"
   },
   {
    "duration": 33,
    "start_time": "2022-05-19T14:45:56.470Z"
   },
   {
    "duration": 114,
    "start_time": "2022-05-19T14:45:56.504Z"
   },
   {
    "duration": 445,
    "start_time": "2022-05-19T14:45:56.620Z"
   },
   {
    "duration": 521,
    "start_time": "2022-05-19T14:45:57.067Z"
   },
   {
    "duration": 349,
    "start_time": "2022-05-19T14:45:57.590Z"
   },
   {
    "duration": 49,
    "start_time": "2022-05-19T14:45:57.940Z"
   },
   {
    "duration": 4,
    "start_time": "2022-05-19T14:45:58.002Z"
   },
   {
    "duration": 33,
    "start_time": "2022-05-19T14:45:58.008Z"
   },
   {
    "duration": 222,
    "start_time": "2022-05-19T14:45:58.042Z"
   },
   {
    "duration": 23,
    "start_time": "2022-05-19T14:45:58.266Z"
   },
   {
    "duration": 65,
    "start_time": "2022-05-19T14:45:58.290Z"
   },
   {
    "duration": 49,
    "start_time": "2022-05-19T14:45:58.356Z"
   },
   {
    "duration": 265,
    "start_time": "2022-05-19T14:45:58.406Z"
   },
   {
    "duration": 42,
    "start_time": "2022-05-19T14:45:58.673Z"
   },
   {
    "duration": 197,
    "start_time": "2022-05-19T14:45:58.717Z"
   },
   {
    "duration": 118,
    "start_time": "2022-05-19T14:45:58.916Z"
   },
   {
    "duration": 11,
    "start_time": "2022-05-19T14:45:59.036Z"
   },
   {
    "duration": 135,
    "start_time": "2022-05-19T14:45:59.049Z"
   },
   {
    "duration": 0,
    "start_time": "2022-05-19T14:45:59.186Z"
   },
   {
    "duration": 0,
    "start_time": "2022-05-19T14:45:59.187Z"
   },
   {
    "duration": 0,
    "start_time": "2022-05-19T14:45:59.188Z"
   },
   {
    "duration": 0,
    "start_time": "2022-05-19T14:45:59.202Z"
   },
   {
    "duration": 0,
    "start_time": "2022-05-19T14:45:59.203Z"
   },
   {
    "duration": 0,
    "start_time": "2022-05-19T14:45:59.205Z"
   },
   {
    "duration": 0,
    "start_time": "2022-05-19T14:45:59.206Z"
   },
   {
    "duration": 0,
    "start_time": "2022-05-19T14:45:59.207Z"
   },
   {
    "duration": 0,
    "start_time": "2022-05-19T14:45:59.208Z"
   },
   {
    "duration": 0,
    "start_time": "2022-05-19T14:45:59.209Z"
   },
   {
    "duration": 0,
    "start_time": "2022-05-19T14:45:59.210Z"
   },
   {
    "duration": 0,
    "start_time": "2022-05-19T14:45:59.211Z"
   },
   {
    "duration": 0,
    "start_time": "2022-05-19T14:45:59.212Z"
   },
   {
    "duration": 0,
    "start_time": "2022-05-19T14:45:59.213Z"
   },
   {
    "duration": 0,
    "start_time": "2022-05-19T14:45:59.214Z"
   },
   {
    "duration": 0,
    "start_time": "2022-05-19T14:45:59.215Z"
   },
   {
    "duration": 0,
    "start_time": "2022-05-19T14:45:59.216Z"
   },
   {
    "duration": 0,
    "start_time": "2022-05-19T14:45:59.218Z"
   },
   {
    "duration": 0,
    "start_time": "2022-05-19T14:45:59.218Z"
   },
   {
    "duration": 126,
    "start_time": "2022-05-19T14:46:26.509Z"
   },
   {
    "duration": 1240,
    "start_time": "2022-05-19T14:46:59.036Z"
   },
   {
    "duration": 933,
    "start_time": "2022-05-19T14:47:00.280Z"
   },
   {
    "duration": 34,
    "start_time": "2022-05-19T14:47:01.216Z"
   },
   {
    "duration": 158,
    "start_time": "2022-05-19T14:47:01.252Z"
   },
   {
    "duration": 484,
    "start_time": "2022-05-19T14:47:01.411Z"
   },
   {
    "duration": 568,
    "start_time": "2022-05-19T14:47:01.897Z"
   },
   {
    "duration": 393,
    "start_time": "2022-05-19T14:47:02.467Z"
   },
   {
    "duration": 60,
    "start_time": "2022-05-19T14:47:02.861Z"
   },
   {
    "duration": 4,
    "start_time": "2022-05-19T14:47:02.925Z"
   },
   {
    "duration": 34,
    "start_time": "2022-05-19T14:47:02.931Z"
   },
   {
    "duration": 231,
    "start_time": "2022-05-19T14:47:02.967Z"
   },
   {
    "duration": 23,
    "start_time": "2022-05-19T14:47:03.202Z"
   },
   {
    "duration": 58,
    "start_time": "2022-05-19T14:47:03.226Z"
   },
   {
    "duration": 43,
    "start_time": "2022-05-19T14:47:03.286Z"
   },
   {
    "duration": 224,
    "start_time": "2022-05-19T14:47:03.331Z"
   },
   {
    "duration": 31,
    "start_time": "2022-05-19T14:47:03.556Z"
   },
   {
    "duration": 202,
    "start_time": "2022-05-19T14:47:03.589Z"
   },
   {
    "duration": 122,
    "start_time": "2022-05-19T14:47:03.793Z"
   },
   {
    "duration": 132,
    "start_time": "2022-05-19T14:47:03.917Z"
   },
   {
    "duration": 2,
    "start_time": "2022-05-19T14:47:04.051Z"
   },
   {
    "duration": 188,
    "start_time": "2022-05-19T14:47:04.054Z"
   },
   {
    "duration": 32,
    "start_time": "2022-05-19T14:47:04.244Z"
   },
   {
    "duration": 49,
    "start_time": "2022-05-19T14:47:04.277Z"
   },
   {
    "duration": 36,
    "start_time": "2022-05-19T14:47:04.328Z"
   },
   {
    "duration": 8,
    "start_time": "2022-05-19T14:47:04.366Z"
   },
   {
    "duration": 138,
    "start_time": "2022-05-19T14:47:04.376Z"
   },
   {
    "duration": 85,
    "start_time": "2022-05-19T14:47:04.517Z"
   },
   {
    "duration": 126,
    "start_time": "2022-05-19T14:47:04.604Z"
   },
   {
    "duration": 23,
    "start_time": "2022-05-19T14:47:04.732Z"
   },
   {
    "duration": 233,
    "start_time": "2022-05-19T14:47:04.757Z"
   },
   {
    "duration": 97,
    "start_time": "2022-05-19T14:47:04.992Z"
   },
   {
    "duration": 58,
    "start_time": "2022-05-19T14:47:05.090Z"
   },
   {
    "duration": 15,
    "start_time": "2022-05-19T14:47:05.150Z"
   },
   {
    "duration": 1804,
    "start_time": "2022-05-19T14:47:05.167Z"
   },
   {
    "duration": 1702,
    "start_time": "2022-05-19T14:47:06.972Z"
   },
   {
    "duration": 121,
    "start_time": "2022-05-19T14:47:08.676Z"
   },
   {
    "duration": 0,
    "start_time": "2022-05-19T14:47:08.806Z"
   },
   {
    "duration": 0,
    "start_time": "2022-05-19T14:47:08.807Z"
   },
   {
    "duration": 0,
    "start_time": "2022-05-19T14:47:08.807Z"
   },
   {
    "duration": 1282,
    "start_time": "2022-05-19T14:48:38.895Z"
   },
   {
    "duration": 973,
    "start_time": "2022-05-19T14:48:40.179Z"
   },
   {
    "duration": 34,
    "start_time": "2022-05-19T14:48:41.154Z"
   },
   {
    "duration": 161,
    "start_time": "2022-05-19T14:48:41.190Z"
   },
   {
    "duration": 452,
    "start_time": "2022-05-19T14:48:41.353Z"
   },
   {
    "duration": 574,
    "start_time": "2022-05-19T14:48:41.808Z"
   },
   {
    "duration": 356,
    "start_time": "2022-05-19T14:48:42.384Z"
   },
   {
    "duration": 51,
    "start_time": "2022-05-19T14:48:42.741Z"
   },
   {
    "duration": 11,
    "start_time": "2022-05-19T14:48:42.793Z"
   },
   {
    "duration": 44,
    "start_time": "2022-05-19T14:48:42.807Z"
   },
   {
    "duration": 242,
    "start_time": "2022-05-19T14:48:42.853Z"
   },
   {
    "duration": 26,
    "start_time": "2022-05-19T14:48:43.101Z"
   },
   {
    "duration": 61,
    "start_time": "2022-05-19T14:48:43.129Z"
   },
   {
    "duration": 34,
    "start_time": "2022-05-19T14:48:43.202Z"
   },
   {
    "duration": 248,
    "start_time": "2022-05-19T14:48:43.238Z"
   },
   {
    "duration": 40,
    "start_time": "2022-05-19T14:48:43.488Z"
   },
   {
    "duration": 210,
    "start_time": "2022-05-19T14:48:43.530Z"
   },
   {
    "duration": 125,
    "start_time": "2022-05-19T14:48:43.742Z"
   },
   {
    "duration": 127,
    "start_time": "2022-05-19T14:48:43.869Z"
   },
   {
    "duration": 4,
    "start_time": "2022-05-19T14:48:43.997Z"
   },
   {
    "duration": 179,
    "start_time": "2022-05-19T14:48:44.003Z"
   },
   {
    "duration": 36,
    "start_time": "2022-05-19T14:48:44.183Z"
   },
   {
    "duration": 34,
    "start_time": "2022-05-19T14:48:44.221Z"
   },
   {
    "duration": 31,
    "start_time": "2022-05-19T14:48:44.256Z"
   },
   {
    "duration": 6,
    "start_time": "2022-05-19T14:48:44.302Z"
   },
   {
    "duration": 113,
    "start_time": "2022-05-19T14:48:44.310Z"
   },
   {
    "duration": 89,
    "start_time": "2022-05-19T14:48:44.425Z"
   },
   {
    "duration": 115,
    "start_time": "2022-05-19T14:48:44.517Z"
   },
   {
    "duration": 22,
    "start_time": "2022-05-19T14:48:44.634Z"
   },
   {
    "duration": 247,
    "start_time": "2022-05-19T14:48:44.658Z"
   },
   {
    "duration": 84,
    "start_time": "2022-05-19T14:48:44.907Z"
   },
   {
    "duration": 18,
    "start_time": "2022-05-19T14:48:45.003Z"
   },
   {
    "duration": 19,
    "start_time": "2022-05-19T14:48:45.022Z"
   },
   {
    "duration": 794,
    "start_time": "2022-05-19T14:48:45.042Z"
   },
   {
    "duration": 511,
    "start_time": "2022-05-19T14:48:45.838Z"
   },
   {
    "duration": 151,
    "start_time": "2022-05-19T14:48:46.351Z"
   },
   {
    "duration": 3,
    "start_time": "2022-05-19T14:48:46.504Z"
   },
   {
    "duration": 207,
    "start_time": "2022-05-19T14:48:46.509Z"
   },
   {
    "duration": 13,
    "start_time": "2022-05-19T14:48:46.718Z"
   },
   {
    "duration": 1388,
    "start_time": "2022-05-19T14:49:22.515Z"
   },
   {
    "duration": 981,
    "start_time": "2022-05-19T14:49:23.905Z"
   },
   {
    "duration": 31,
    "start_time": "2022-05-19T14:49:24.887Z"
   },
   {
    "duration": 124,
    "start_time": "2022-05-19T14:49:24.920Z"
   },
   {
    "duration": 424,
    "start_time": "2022-05-19T14:49:25.045Z"
   },
   {
    "duration": 537,
    "start_time": "2022-05-19T14:49:25.471Z"
   },
   {
    "duration": 374,
    "start_time": "2022-05-19T14:49:26.010Z"
   },
   {
    "duration": 50,
    "start_time": "2022-05-19T14:49:26.385Z"
   },
   {
    "duration": 4,
    "start_time": "2022-05-19T14:49:26.436Z"
   },
   {
    "duration": 31,
    "start_time": "2022-05-19T14:49:26.443Z"
   },
   {
    "duration": 227,
    "start_time": "2022-05-19T14:49:26.476Z"
   },
   {
    "duration": 27,
    "start_time": "2022-05-19T14:49:26.704Z"
   },
   {
    "duration": 69,
    "start_time": "2022-05-19T14:49:26.733Z"
   },
   {
    "duration": 35,
    "start_time": "2022-05-19T14:49:26.804Z"
   },
   {
    "duration": 245,
    "start_time": "2022-05-19T14:49:26.841Z"
   },
   {
    "duration": 41,
    "start_time": "2022-05-19T14:49:27.088Z"
   },
   {
    "duration": 213,
    "start_time": "2022-05-19T14:49:27.130Z"
   },
   {
    "duration": 120,
    "start_time": "2022-05-19T14:49:27.345Z"
   },
   {
    "duration": 135,
    "start_time": "2022-05-19T14:49:27.466Z"
   },
   {
    "duration": 0,
    "start_time": "2022-05-19T14:49:27.602Z"
   },
   {
    "duration": 0,
    "start_time": "2022-05-19T14:49:27.604Z"
   },
   {
    "duration": 0,
    "start_time": "2022-05-19T14:49:27.605Z"
   },
   {
    "duration": 0,
    "start_time": "2022-05-19T14:49:27.606Z"
   },
   {
    "duration": 0,
    "start_time": "2022-05-19T14:49:27.607Z"
   },
   {
    "duration": 0,
    "start_time": "2022-05-19T14:49:27.608Z"
   },
   {
    "duration": 0,
    "start_time": "2022-05-19T14:49:27.609Z"
   },
   {
    "duration": 0,
    "start_time": "2022-05-19T14:49:27.610Z"
   },
   {
    "duration": 0,
    "start_time": "2022-05-19T14:49:27.611Z"
   },
   {
    "duration": 0,
    "start_time": "2022-05-19T14:49:27.612Z"
   },
   {
    "duration": 0,
    "start_time": "2022-05-19T14:49:27.614Z"
   },
   {
    "duration": 0,
    "start_time": "2022-05-19T14:49:27.615Z"
   },
   {
    "duration": 0,
    "start_time": "2022-05-19T14:49:27.616Z"
   },
   {
    "duration": 0,
    "start_time": "2022-05-19T14:49:27.617Z"
   },
   {
    "duration": 0,
    "start_time": "2022-05-19T14:49:27.618Z"
   },
   {
    "duration": 0,
    "start_time": "2022-05-19T14:49:27.619Z"
   },
   {
    "duration": 0,
    "start_time": "2022-05-19T14:49:27.619Z"
   },
   {
    "duration": 0,
    "start_time": "2022-05-19T14:49:27.620Z"
   },
   {
    "duration": 0,
    "start_time": "2022-05-19T14:49:27.622Z"
   },
   {
    "duration": 0,
    "start_time": "2022-05-19T14:49:27.622Z"
   },
   {
    "duration": 1363,
    "start_time": "2022-05-19T14:50:00.723Z"
   },
   {
    "duration": 861,
    "start_time": "2022-05-19T14:50:02.088Z"
   },
   {
    "duration": 20,
    "start_time": "2022-05-19T14:50:02.951Z"
   },
   {
    "duration": 126,
    "start_time": "2022-05-19T14:50:02.973Z"
   },
   {
    "duration": 431,
    "start_time": "2022-05-19T14:50:03.102Z"
   },
   {
    "duration": 543,
    "start_time": "2022-05-19T14:50:03.535Z"
   },
   {
    "duration": 373,
    "start_time": "2022-05-19T14:50:04.080Z"
   },
   {
    "duration": 53,
    "start_time": "2022-05-19T14:50:04.454Z"
   },
   {
    "duration": 3,
    "start_time": "2022-05-19T14:50:04.509Z"
   },
   {
    "duration": 31,
    "start_time": "2022-05-19T14:50:04.515Z"
   },
   {
    "duration": 231,
    "start_time": "2022-05-19T14:50:04.547Z"
   },
   {
    "duration": 29,
    "start_time": "2022-05-19T14:50:04.779Z"
   },
   {
    "duration": 56,
    "start_time": "2022-05-19T14:50:04.810Z"
   },
   {
    "duration": 40,
    "start_time": "2022-05-19T14:50:04.868Z"
   },
   {
    "duration": 230,
    "start_time": "2022-05-19T14:50:04.909Z"
   },
   {
    "duration": 32,
    "start_time": "2022-05-19T14:50:05.141Z"
   },
   {
    "duration": 218,
    "start_time": "2022-05-19T14:50:05.175Z"
   },
   {
    "duration": 132,
    "start_time": "2022-05-19T14:50:05.403Z"
   },
   {
    "duration": 158,
    "start_time": "2022-05-19T14:50:05.537Z"
   },
   {
    "duration": 30,
    "start_time": "2022-05-19T14:50:05.697Z"
   },
   {
    "duration": 3,
    "start_time": "2022-05-19T14:50:05.728Z"
   },
   {
    "duration": 235,
    "start_time": "2022-05-19T14:50:05.732Z"
   },
   {
    "duration": 38,
    "start_time": "2022-05-19T14:50:05.969Z"
   },
   {
    "duration": 35,
    "start_time": "2022-05-19T14:50:06.009Z"
   },
   {
    "duration": 35,
    "start_time": "2022-05-19T14:50:06.046Z"
   },
   {
    "duration": 23,
    "start_time": "2022-05-19T14:50:06.083Z"
   },
   {
    "duration": 109,
    "start_time": "2022-05-19T14:50:06.107Z"
   },
   {
    "duration": 88,
    "start_time": "2022-05-19T14:50:06.219Z"
   },
   {
    "duration": 112,
    "start_time": "2022-05-19T14:50:06.309Z"
   },
   {
    "duration": 21,
    "start_time": "2022-05-19T14:50:06.423Z"
   },
   {
    "duration": 247,
    "start_time": "2022-05-19T14:50:06.446Z"
   },
   {
    "duration": 126,
    "start_time": "2022-05-19T14:50:06.695Z"
   },
   {
    "duration": 23,
    "start_time": "2022-05-19T14:50:06.823Z"
   },
   {
    "duration": 24,
    "start_time": "2022-05-19T14:50:06.848Z"
   },
   {
    "duration": 771,
    "start_time": "2022-05-19T14:50:06.873Z"
   },
   {
    "duration": 513,
    "start_time": "2022-05-19T14:50:07.646Z"
   },
   {
    "duration": 146,
    "start_time": "2022-05-19T14:50:08.161Z"
   },
   {
    "duration": 3,
    "start_time": "2022-05-19T14:50:08.309Z"
   },
   {
    "duration": 224,
    "start_time": "2022-05-19T14:50:08.314Z"
   },
   {
    "duration": 12,
    "start_time": "2022-05-19T14:50:08.540Z"
   },
   {
    "duration": 84,
    "start_time": "2022-05-19T14:51:02.690Z"
   },
   {
    "duration": 1223,
    "start_time": "2022-05-19T14:51:11.662Z"
   },
   {
    "duration": 890,
    "start_time": "2022-05-19T14:51:12.887Z"
   },
   {
    "duration": 33,
    "start_time": "2022-05-19T14:51:13.779Z"
   },
   {
    "duration": 124,
    "start_time": "2022-05-19T14:51:13.814Z"
   },
   {
    "duration": 456,
    "start_time": "2022-05-19T14:51:13.941Z"
   },
   {
    "duration": 536,
    "start_time": "2022-05-19T14:51:14.398Z"
   },
   {
    "duration": 390,
    "start_time": "2022-05-19T14:51:14.935Z"
   },
   {
    "duration": 46,
    "start_time": "2022-05-19T14:51:15.328Z"
   },
   {
    "duration": 5,
    "start_time": "2022-05-19T14:51:15.377Z"
   },
   {
    "duration": 35,
    "start_time": "2022-05-19T14:51:15.402Z"
   },
   {
    "duration": 231,
    "start_time": "2022-05-19T14:51:15.438Z"
   },
   {
    "duration": 33,
    "start_time": "2022-05-19T14:51:15.670Z"
   },
   {
    "duration": 59,
    "start_time": "2022-05-19T14:51:15.704Z"
   },
   {
    "duration": 37,
    "start_time": "2022-05-19T14:51:15.766Z"
   },
   {
    "duration": 232,
    "start_time": "2022-05-19T14:51:15.804Z"
   },
   {
    "duration": 32,
    "start_time": "2022-05-19T14:51:16.038Z"
   },
   {
    "duration": 202,
    "start_time": "2022-05-19T14:51:16.072Z"
   },
   {
    "duration": 117,
    "start_time": "2022-05-19T14:51:16.276Z"
   },
   {
    "duration": 131,
    "start_time": "2022-05-19T14:51:16.395Z"
   },
   {
    "duration": 22,
    "start_time": "2022-05-19T14:51:16.528Z"
   },
   {
    "duration": 3,
    "start_time": "2022-05-19T14:51:16.551Z"
   },
   {
    "duration": 207,
    "start_time": "2022-05-19T14:51:16.556Z"
   },
   {
    "duration": 44,
    "start_time": "2022-05-19T14:51:16.765Z"
   },
   {
    "duration": 40,
    "start_time": "2022-05-19T14:51:16.811Z"
   },
   {
    "duration": 30,
    "start_time": "2022-05-19T14:51:16.853Z"
   },
   {
    "duration": 19,
    "start_time": "2022-05-19T14:51:16.885Z"
   },
   {
    "duration": 115,
    "start_time": "2022-05-19T14:51:16.905Z"
   },
   {
    "duration": 84,
    "start_time": "2022-05-19T14:51:17.021Z"
   },
   {
    "duration": 114,
    "start_time": "2022-05-19T14:51:17.107Z"
   },
   {
    "duration": 21,
    "start_time": "2022-05-19T14:51:17.223Z"
   },
   {
    "duration": 208,
    "start_time": "2022-05-19T14:51:17.246Z"
   },
   {
    "duration": 76,
    "start_time": "2022-05-19T14:51:17.456Z"
   },
   {
    "duration": 17,
    "start_time": "2022-05-19T14:51:17.534Z"
   },
   {
    "duration": 16,
    "start_time": "2022-05-19T14:51:17.553Z"
   },
   {
    "duration": 738,
    "start_time": "2022-05-19T14:51:17.571Z"
   },
   {
    "duration": 533,
    "start_time": "2022-05-19T14:51:18.310Z"
   },
   {
    "duration": 160,
    "start_time": "2022-05-19T14:51:18.845Z"
   },
   {
    "duration": 3,
    "start_time": "2022-05-19T14:51:19.007Z"
   },
   {
    "duration": 220,
    "start_time": "2022-05-19T14:51:19.011Z"
   },
   {
    "duration": 13,
    "start_time": "2022-05-19T14:51:19.233Z"
   },
   {
    "duration": 40,
    "start_time": "2022-05-19T14:53:31.792Z"
   },
   {
    "duration": 1281,
    "start_time": "2022-05-19T14:53:58.283Z"
   },
   {
    "duration": 887,
    "start_time": "2022-05-19T14:53:59.565Z"
   },
   {
    "duration": 25,
    "start_time": "2022-05-19T14:54:00.453Z"
   },
   {
    "duration": 136,
    "start_time": "2022-05-19T14:54:00.480Z"
   },
   {
    "duration": 482,
    "start_time": "2022-05-19T14:54:00.624Z"
   },
   {
    "duration": 603,
    "start_time": "2022-05-19T14:54:01.108Z"
   },
   {
    "duration": 402,
    "start_time": "2022-05-19T14:54:01.713Z"
   },
   {
    "duration": 45,
    "start_time": "2022-05-19T14:54:02.117Z"
   },
   {
    "duration": 4,
    "start_time": "2022-05-19T14:54:02.164Z"
   },
   {
    "duration": 46,
    "start_time": "2022-05-19T14:54:02.170Z"
   },
   {
    "duration": 220,
    "start_time": "2022-05-19T14:54:02.217Z"
   },
   {
    "duration": 25,
    "start_time": "2022-05-19T14:54:02.439Z"
   },
   {
    "duration": 68,
    "start_time": "2022-05-19T14:54:02.466Z"
   },
   {
    "duration": 31,
    "start_time": "2022-05-19T14:54:02.535Z"
   },
   {
    "duration": 243,
    "start_time": "2022-05-19T14:54:02.568Z"
   },
   {
    "duration": 32,
    "start_time": "2022-05-19T14:54:02.813Z"
   },
   {
    "duration": 213,
    "start_time": "2022-05-19T14:54:02.847Z"
   },
   {
    "duration": 116,
    "start_time": "2022-05-19T14:54:03.061Z"
   },
   {
    "duration": 130,
    "start_time": "2022-05-19T14:54:03.179Z"
   },
   {
    "duration": 33,
    "start_time": "2022-05-19T14:54:03.311Z"
   },
   {
    "duration": 191,
    "start_time": "2022-05-19T14:54:03.345Z"
   },
   {
    "duration": 33,
    "start_time": "2022-05-19T14:54:03.537Z"
   },
   {
    "duration": 41,
    "start_time": "2022-05-19T14:54:03.571Z"
   },
   {
    "duration": 31,
    "start_time": "2022-05-19T14:54:03.613Z"
   },
   {
    "duration": 8,
    "start_time": "2022-05-19T14:54:03.646Z"
   },
   {
    "duration": 118,
    "start_time": "2022-05-19T14:54:03.655Z"
   },
   {
    "duration": 89,
    "start_time": "2022-05-19T14:54:03.774Z"
   },
   {
    "duration": 125,
    "start_time": "2022-05-19T14:54:03.868Z"
   },
   {
    "duration": 23,
    "start_time": "2022-05-19T14:54:04.002Z"
   },
   {
    "duration": 217,
    "start_time": "2022-05-19T14:54:04.027Z"
   },
   {
    "duration": 78,
    "start_time": "2022-05-19T14:54:04.246Z"
   },
   {
    "duration": 17,
    "start_time": "2022-05-19T14:54:04.326Z"
   },
   {
    "duration": 17,
    "start_time": "2022-05-19T14:54:04.344Z"
   },
   {
    "duration": 772,
    "start_time": "2022-05-19T14:54:04.362Z"
   },
   {
    "duration": 502,
    "start_time": "2022-05-19T14:54:05.136Z"
   },
   {
    "duration": 153,
    "start_time": "2022-05-19T14:54:05.640Z"
   },
   {
    "duration": 7,
    "start_time": "2022-05-19T14:54:05.795Z"
   },
   {
    "duration": 190,
    "start_time": "2022-05-19T14:54:05.803Z"
   },
   {
    "duration": 16,
    "start_time": "2022-05-19T14:54:05.994Z"
   },
   {
    "duration": 1241,
    "start_time": "2022-05-19T14:54:39.047Z"
   },
   {
    "duration": 949,
    "start_time": "2022-05-19T14:54:40.290Z"
   },
   {
    "duration": 32,
    "start_time": "2022-05-19T14:54:41.242Z"
   },
   {
    "duration": 178,
    "start_time": "2022-05-19T14:54:41.276Z"
   },
   {
    "duration": 452,
    "start_time": "2022-05-19T14:54:41.456Z"
   },
   {
    "duration": 550,
    "start_time": "2022-05-19T14:54:41.910Z"
   },
   {
    "duration": 360,
    "start_time": "2022-05-19T14:54:42.462Z"
   },
   {
    "duration": 48,
    "start_time": "2022-05-19T14:54:42.824Z"
   },
   {
    "duration": 4,
    "start_time": "2022-05-19T14:54:42.873Z"
   },
   {
    "duration": 55,
    "start_time": "2022-05-19T14:54:42.879Z"
   },
   {
    "duration": 231,
    "start_time": "2022-05-19T14:54:42.936Z"
   },
   {
    "duration": 36,
    "start_time": "2022-05-19T14:54:43.169Z"
   },
   {
    "duration": 55,
    "start_time": "2022-05-19T14:54:43.207Z"
   },
   {
    "duration": 47,
    "start_time": "2022-05-19T14:54:43.265Z"
   },
   {
    "duration": 227,
    "start_time": "2022-05-19T14:54:43.314Z"
   },
   {
    "duration": 35,
    "start_time": "2022-05-19T14:54:43.543Z"
   },
   {
    "duration": 225,
    "start_time": "2022-05-19T14:54:43.580Z"
   },
   {
    "duration": 117,
    "start_time": "2022-05-19T14:54:43.807Z"
   },
   {
    "duration": 131,
    "start_time": "2022-05-19T14:54:43.925Z"
   },
   {
    "duration": 148,
    "start_time": "2022-05-19T14:54:44.058Z"
   },
   {
    "duration": 206,
    "start_time": "2022-05-19T14:54:44.208Z"
   },
   {
    "duration": 33,
    "start_time": "2022-05-19T14:54:44.415Z"
   },
   {
    "duration": 36,
    "start_time": "2022-05-19T14:54:44.449Z"
   },
   {
    "duration": 44,
    "start_time": "2022-05-19T14:54:44.487Z"
   },
   {
    "duration": 10,
    "start_time": "2022-05-19T14:54:44.532Z"
   },
   {
    "duration": 129,
    "start_time": "2022-05-19T14:54:44.544Z"
   },
   {
    "duration": 95,
    "start_time": "2022-05-19T14:54:44.675Z"
   },
   {
    "duration": 138,
    "start_time": "2022-05-19T14:54:44.772Z"
   },
   {
    "duration": 23,
    "start_time": "2022-05-19T14:54:44.912Z"
   },
   {
    "duration": 240,
    "start_time": "2022-05-19T14:54:44.937Z"
   },
   {
    "duration": 88,
    "start_time": "2022-05-19T14:54:45.179Z"
   },
   {
    "duration": 18,
    "start_time": "2022-05-19T14:54:45.269Z"
   },
   {
    "duration": 22,
    "start_time": "2022-05-19T14:54:45.302Z"
   },
   {
    "duration": 754,
    "start_time": "2022-05-19T14:54:45.327Z"
   },
   {
    "duration": 521,
    "start_time": "2022-05-19T14:54:46.083Z"
   },
   {
    "duration": 154,
    "start_time": "2022-05-19T14:54:46.605Z"
   },
   {
    "duration": 4,
    "start_time": "2022-05-19T14:54:46.760Z"
   },
   {
    "duration": 211,
    "start_time": "2022-05-19T14:54:46.765Z"
   },
   {
    "duration": 13,
    "start_time": "2022-05-19T14:54:46.977Z"
   },
   {
    "duration": 30,
    "start_time": "2022-05-19T14:57:35.430Z"
   },
   {
    "duration": 33,
    "start_time": "2022-05-19T14:57:42.087Z"
   },
   {
    "duration": 1211,
    "start_time": "2022-05-19T14:57:55.946Z"
   },
   {
    "duration": 893,
    "start_time": "2022-05-19T14:57:57.158Z"
   },
   {
    "duration": 23,
    "start_time": "2022-05-19T14:57:58.052Z"
   },
   {
    "duration": 127,
    "start_time": "2022-05-19T14:57:58.077Z"
   },
   {
    "duration": 449,
    "start_time": "2022-05-19T14:57:58.206Z"
   },
   {
    "duration": 526,
    "start_time": "2022-05-19T14:57:58.657Z"
   },
   {
    "duration": 353,
    "start_time": "2022-05-19T14:57:59.185Z"
   },
   {
    "duration": 39,
    "start_time": "2022-05-19T14:57:59.539Z"
   },
   {
    "duration": 3,
    "start_time": "2022-05-19T14:57:59.580Z"
   },
   {
    "duration": 47,
    "start_time": "2022-05-19T14:57:59.584Z"
   },
   {
    "duration": 213,
    "start_time": "2022-05-19T14:57:59.632Z"
   },
   {
    "duration": 24,
    "start_time": "2022-05-19T14:57:59.847Z"
   },
   {
    "duration": 71,
    "start_time": "2022-05-19T14:57:59.873Z"
   },
   {
    "duration": 31,
    "start_time": "2022-05-19T14:57:59.948Z"
   },
   {
    "duration": 233,
    "start_time": "2022-05-19T14:57:59.981Z"
   },
   {
    "duration": 33,
    "start_time": "2022-05-19T14:58:00.216Z"
   },
   {
    "duration": 199,
    "start_time": "2022-05-19T14:58:00.250Z"
   },
   {
    "duration": 116,
    "start_time": "2022-05-19T14:58:00.450Z"
   },
   {
    "duration": 130,
    "start_time": "2022-05-19T14:58:00.567Z"
   },
   {
    "duration": 35,
    "start_time": "2022-05-19T14:58:00.699Z"
   },
   {
    "duration": 191,
    "start_time": "2022-05-19T14:58:00.735Z"
   },
   {
    "duration": 32,
    "start_time": "2022-05-19T14:58:00.928Z"
   },
   {
    "duration": 48,
    "start_time": "2022-05-19T14:58:00.962Z"
   },
   {
    "duration": 36,
    "start_time": "2022-05-19T14:58:01.012Z"
   },
   {
    "duration": 26,
    "start_time": "2022-05-19T14:58:01.050Z"
   },
   {
    "duration": 147,
    "start_time": "2022-05-19T14:58:01.078Z"
   },
   {
    "duration": 112,
    "start_time": "2022-05-19T14:58:01.228Z"
   },
   {
    "duration": 113,
    "start_time": "2022-05-19T14:58:01.342Z"
   },
   {
    "duration": 23,
    "start_time": "2022-05-19T14:58:01.457Z"
   },
   {
    "duration": 202,
    "start_time": "2022-05-19T14:58:01.481Z"
   },
   {
    "duration": 84,
    "start_time": "2022-05-19T14:58:01.685Z"
   },
   {
    "duration": 17,
    "start_time": "2022-05-19T14:58:01.770Z"
   },
   {
    "duration": 29,
    "start_time": "2022-05-19T14:58:01.789Z"
   },
   {
    "duration": 751,
    "start_time": "2022-05-19T14:58:01.820Z"
   },
   {
    "duration": 520,
    "start_time": "2022-05-19T14:58:02.573Z"
   },
   {
    "duration": 168,
    "start_time": "2022-05-19T14:58:03.095Z"
   },
   {
    "duration": 3,
    "start_time": "2022-05-19T14:58:03.265Z"
   },
   {
    "duration": 212,
    "start_time": "2022-05-19T14:58:03.269Z"
   },
   {
    "duration": 13,
    "start_time": "2022-05-19T14:58:03.482Z"
   },
   {
    "duration": 3446,
    "start_time": "2022-05-19T14:58:58.007Z"
   },
   {
    "duration": 34,
    "start_time": "2022-05-19T14:59:36.266Z"
   },
   {
    "duration": 40,
    "start_time": "2022-05-19T15:00:17.402Z"
   },
   {
    "duration": 1232,
    "start_time": "2022-05-19T15:00:24.149Z"
   },
   {
    "duration": 1034,
    "start_time": "2022-05-19T15:00:25.383Z"
   },
   {
    "duration": 25,
    "start_time": "2022-05-19T15:00:26.419Z"
   },
   {
    "duration": 143,
    "start_time": "2022-05-19T15:00:26.446Z"
   },
   {
    "duration": 493,
    "start_time": "2022-05-19T15:00:26.591Z"
   },
   {
    "duration": 586,
    "start_time": "2022-05-19T15:00:27.086Z"
   },
   {
    "duration": 396,
    "start_time": "2022-05-19T15:00:27.673Z"
   },
   {
    "duration": 57,
    "start_time": "2022-05-19T15:00:28.071Z"
   },
   {
    "duration": 5,
    "start_time": "2022-05-19T15:00:28.130Z"
   },
   {
    "duration": 39,
    "start_time": "2022-05-19T15:00:28.137Z"
   },
   {
    "duration": 246,
    "start_time": "2022-05-19T15:00:28.178Z"
   },
   {
    "duration": 33,
    "start_time": "2022-05-19T15:00:28.429Z"
   },
   {
    "duration": 89,
    "start_time": "2022-05-19T15:00:28.464Z"
   },
   {
    "duration": 37,
    "start_time": "2022-05-19T15:00:28.556Z"
   },
   {
    "duration": 269,
    "start_time": "2022-05-19T15:00:28.602Z"
   },
   {
    "duration": 41,
    "start_time": "2022-05-19T15:00:28.873Z"
   },
   {
    "duration": 240,
    "start_time": "2022-05-19T15:00:28.916Z"
   },
   {
    "duration": 139,
    "start_time": "2022-05-19T15:00:29.158Z"
   },
   {
    "duration": 145,
    "start_time": "2022-05-19T15:00:29.303Z"
   },
   {
    "duration": 70,
    "start_time": "2022-05-19T15:00:29.451Z"
   },
   {
    "duration": 230,
    "start_time": "2022-05-19T15:00:29.523Z"
   },
   {
    "duration": 63,
    "start_time": "2022-05-19T15:00:29.754Z"
   },
   {
    "duration": 39,
    "start_time": "2022-05-19T15:00:29.819Z"
   },
   {
    "duration": 47,
    "start_time": "2022-05-19T15:00:29.859Z"
   },
   {
    "duration": 8,
    "start_time": "2022-05-19T15:00:29.908Z"
   },
   {
    "duration": 146,
    "start_time": "2022-05-19T15:00:29.918Z"
   },
   {
    "duration": 92,
    "start_time": "2022-05-19T15:00:30.065Z"
   },
   {
    "duration": 130,
    "start_time": "2022-05-19T15:00:30.161Z"
   },
   {
    "duration": 32,
    "start_time": "2022-05-19T15:00:30.293Z"
   },
   {
    "duration": 217,
    "start_time": "2022-05-19T15:00:30.327Z"
   },
   {
    "duration": 89,
    "start_time": "2022-05-19T15:00:30.546Z"
   },
   {
    "duration": 18,
    "start_time": "2022-05-19T15:00:30.637Z"
   },
   {
    "duration": 19,
    "start_time": "2022-05-19T15:00:30.656Z"
   },
   {
    "duration": 1036,
    "start_time": "2022-05-19T15:00:30.677Z"
   },
   {
    "duration": 589,
    "start_time": "2022-05-19T15:00:31.715Z"
   },
   {
    "duration": 273,
    "start_time": "2022-05-19T15:00:32.307Z"
   },
   {
    "duration": 7,
    "start_time": "2022-05-19T15:00:32.582Z"
   },
   {
    "duration": 237,
    "start_time": "2022-05-19T15:00:32.590Z"
   },
   {
    "duration": 18,
    "start_time": "2022-05-19T15:00:32.830Z"
   },
   {
    "duration": 1334,
    "start_time": "2022-05-19T15:01:16.183Z"
   },
   {
    "duration": 945,
    "start_time": "2022-05-19T15:01:17.519Z"
   },
   {
    "duration": 37,
    "start_time": "2022-05-19T15:01:18.466Z"
   },
   {
    "duration": 131,
    "start_time": "2022-05-19T15:01:18.506Z"
   },
   {
    "duration": 467,
    "start_time": "2022-05-19T15:01:18.638Z"
   },
   {
    "duration": 578,
    "start_time": "2022-05-19T15:01:19.106Z"
   },
   {
    "duration": 397,
    "start_time": "2022-05-19T15:01:19.686Z"
   },
   {
    "duration": 64,
    "start_time": "2022-05-19T15:01:20.085Z"
   },
   {
    "duration": 4,
    "start_time": "2022-05-19T15:01:20.151Z"
   },
   {
    "duration": 47,
    "start_time": "2022-05-19T15:01:20.157Z"
   },
   {
    "duration": 247,
    "start_time": "2022-05-19T15:01:20.206Z"
   },
   {
    "duration": 28,
    "start_time": "2022-05-19T15:01:20.455Z"
   },
   {
    "duration": 67,
    "start_time": "2022-05-19T15:01:20.485Z"
   },
   {
    "duration": 49,
    "start_time": "2022-05-19T15:01:20.554Z"
   },
   {
    "duration": 252,
    "start_time": "2022-05-19T15:01:20.604Z"
   },
   {
    "duration": 45,
    "start_time": "2022-05-19T15:01:20.858Z"
   },
   {
    "duration": 244,
    "start_time": "2022-05-19T15:01:20.905Z"
   },
   {
    "duration": 157,
    "start_time": "2022-05-19T15:01:21.151Z"
   },
   {
    "duration": 160,
    "start_time": "2022-05-19T15:01:21.310Z"
   },
   {
    "duration": 46,
    "start_time": "2022-05-19T15:01:21.471Z"
   },
   {
    "duration": 214,
    "start_time": "2022-05-19T15:01:21.519Z"
   },
   {
    "duration": 35,
    "start_time": "2022-05-19T15:01:21.735Z"
   },
   {
    "duration": 52,
    "start_time": "2022-05-19T15:01:21.772Z"
   },
   {
    "duration": 39,
    "start_time": "2022-05-19T15:01:21.826Z"
   },
   {
    "duration": 13,
    "start_time": "2022-05-19T15:01:21.867Z"
   },
   {
    "duration": 133,
    "start_time": "2022-05-19T15:01:21.882Z"
   },
   {
    "duration": 102,
    "start_time": "2022-05-19T15:01:22.017Z"
   },
   {
    "duration": 128,
    "start_time": "2022-05-19T15:01:22.122Z"
   },
   {
    "duration": 24,
    "start_time": "2022-05-19T15:01:22.252Z"
   },
   {
    "duration": 246,
    "start_time": "2022-05-19T15:01:22.278Z"
   },
   {
    "duration": 93,
    "start_time": "2022-05-19T15:01:22.525Z"
   },
   {
    "duration": 19,
    "start_time": "2022-05-19T15:01:22.620Z"
   },
   {
    "duration": 21,
    "start_time": "2022-05-19T15:01:22.641Z"
   },
   {
    "duration": 805,
    "start_time": "2022-05-19T15:01:22.664Z"
   },
   {
    "duration": 536,
    "start_time": "2022-05-19T15:01:23.471Z"
   },
   {
    "duration": 176,
    "start_time": "2022-05-19T15:01:24.009Z"
   },
   {
    "duration": 3,
    "start_time": "2022-05-19T15:01:24.187Z"
   },
   {
    "duration": 216,
    "start_time": "2022-05-19T15:01:24.202Z"
   },
   {
    "duration": 14,
    "start_time": "2022-05-19T15:01:24.420Z"
   },
   {
    "duration": 1439,
    "start_time": "2022-05-19T15:02:20.788Z"
   },
   {
    "duration": 1013,
    "start_time": "2022-05-19T15:02:22.229Z"
   },
   {
    "duration": 24,
    "start_time": "2022-05-19T15:02:23.244Z"
   },
   {
    "duration": 136,
    "start_time": "2022-05-19T15:02:23.271Z"
   },
   {
    "duration": 490,
    "start_time": "2022-05-19T15:02:23.409Z"
   },
   {
    "duration": 596,
    "start_time": "2022-05-19T15:02:23.902Z"
   },
   {
    "duration": 393,
    "start_time": "2022-05-19T15:02:24.501Z"
   },
   {
    "duration": 50,
    "start_time": "2022-05-19T15:02:24.901Z"
   },
   {
    "duration": 5,
    "start_time": "2022-05-19T15:02:24.953Z"
   },
   {
    "duration": 51,
    "start_time": "2022-05-19T15:02:24.961Z"
   },
   {
    "duration": 250,
    "start_time": "2022-05-19T15:02:25.014Z"
   },
   {
    "duration": 43,
    "start_time": "2022-05-19T15:02:25.266Z"
   },
   {
    "duration": 60,
    "start_time": "2022-05-19T15:02:25.311Z"
   },
   {
    "duration": 41,
    "start_time": "2022-05-19T15:02:25.373Z"
   },
   {
    "duration": 255,
    "start_time": "2022-05-19T15:02:25.416Z"
   },
   {
    "duration": 46,
    "start_time": "2022-05-19T15:02:25.673Z"
   },
   {
    "duration": 216,
    "start_time": "2022-05-19T15:02:25.720Z"
   },
   {
    "duration": 126,
    "start_time": "2022-05-19T15:02:25.938Z"
   },
   {
    "duration": 143,
    "start_time": "2022-05-19T15:02:26.066Z"
   },
   {
    "duration": 39,
    "start_time": "2022-05-19T15:02:26.211Z"
   },
   {
    "duration": 58,
    "start_time": "2022-05-19T15:02:26.251Z"
   },
   {
    "duration": 216,
    "start_time": "2022-05-19T15:02:26.311Z"
   },
   {
    "duration": 36,
    "start_time": "2022-05-19T15:02:26.529Z"
   },
   {
    "duration": 51,
    "start_time": "2022-05-19T15:02:26.567Z"
   },
   {
    "duration": 33,
    "start_time": "2022-05-19T15:02:26.620Z"
   },
   {
    "duration": 12,
    "start_time": "2022-05-19T15:02:26.654Z"
   },
   {
    "duration": 145,
    "start_time": "2022-05-19T15:02:26.668Z"
   },
   {
    "duration": 113,
    "start_time": "2022-05-19T15:02:26.816Z"
   },
   {
    "duration": 140,
    "start_time": "2022-05-19T15:02:26.931Z"
   },
   {
    "duration": 37,
    "start_time": "2022-05-19T15:02:27.073Z"
   },
   {
    "duration": 240,
    "start_time": "2022-05-19T15:02:27.112Z"
   },
   {
    "duration": 86,
    "start_time": "2022-05-19T15:02:27.354Z"
   },
   {
    "duration": 19,
    "start_time": "2022-05-19T15:02:27.441Z"
   },
   {
    "duration": 18,
    "start_time": "2022-05-19T15:02:27.461Z"
   },
   {
    "duration": 825,
    "start_time": "2022-05-19T15:02:27.481Z"
   },
   {
    "duration": 548,
    "start_time": "2022-05-19T15:02:28.308Z"
   },
   {
    "duration": 170,
    "start_time": "2022-05-19T15:02:28.858Z"
   },
   {
    "duration": 4,
    "start_time": "2022-05-19T15:02:29.030Z"
   },
   {
    "duration": 233,
    "start_time": "2022-05-19T15:02:29.036Z"
   },
   {
    "duration": 14,
    "start_time": "2022-05-19T15:02:29.271Z"
   },
   {
    "duration": 1339,
    "start_time": "2022-05-19T15:02:52.376Z"
   },
   {
    "duration": 978,
    "start_time": "2022-05-19T15:02:53.717Z"
   },
   {
    "duration": 28,
    "start_time": "2022-05-19T15:02:54.697Z"
   },
   {
    "duration": 147,
    "start_time": "2022-05-19T15:02:54.727Z"
   },
   {
    "duration": 507,
    "start_time": "2022-05-19T15:02:54.877Z"
   },
   {
    "duration": 605,
    "start_time": "2022-05-19T15:02:55.386Z"
   },
   {
    "duration": 398,
    "start_time": "2022-05-19T15:02:55.993Z"
   },
   {
    "duration": 45,
    "start_time": "2022-05-19T15:02:56.402Z"
   },
   {
    "duration": 4,
    "start_time": "2022-05-19T15:02:56.449Z"
   },
   {
    "duration": 49,
    "start_time": "2022-05-19T15:02:56.454Z"
   },
   {
    "duration": 237,
    "start_time": "2022-05-19T15:02:56.505Z"
   },
   {
    "duration": 25,
    "start_time": "2022-05-19T15:02:56.744Z"
   },
   {
    "duration": 75,
    "start_time": "2022-05-19T15:02:56.770Z"
   },
   {
    "duration": 33,
    "start_time": "2022-05-19T15:02:56.848Z"
   },
   {
    "duration": 252,
    "start_time": "2022-05-19T15:02:56.883Z"
   },
   {
    "duration": 35,
    "start_time": "2022-05-19T15:02:57.137Z"
   },
   {
    "duration": 219,
    "start_time": "2022-05-19T15:02:57.174Z"
   },
   {
    "duration": 117,
    "start_time": "2022-05-19T15:02:57.395Z"
   },
   {
    "duration": 138,
    "start_time": "2022-05-19T15:02:57.514Z"
   },
   {
    "duration": 37,
    "start_time": "2022-05-19T15:02:57.653Z"
   },
   {
    "duration": 42,
    "start_time": "2022-05-19T15:02:57.692Z"
   },
   {
    "duration": 228,
    "start_time": "2022-05-19T15:02:57.736Z"
   },
   {
    "duration": 47,
    "start_time": "2022-05-19T15:02:57.966Z"
   },
   {
    "duration": 47,
    "start_time": "2022-05-19T15:02:58.015Z"
   },
   {
    "duration": 48,
    "start_time": "2022-05-19T15:02:58.063Z"
   },
   {
    "duration": 13,
    "start_time": "2022-05-19T15:02:58.113Z"
   },
   {
    "duration": 131,
    "start_time": "2022-05-19T15:02:58.128Z"
   },
   {
    "duration": 88,
    "start_time": "2022-05-19T15:02:58.261Z"
   },
   {
    "duration": 144,
    "start_time": "2022-05-19T15:02:58.351Z"
   },
   {
    "duration": 35,
    "start_time": "2022-05-19T15:02:58.502Z"
   },
   {
    "duration": 244,
    "start_time": "2022-05-19T15:02:58.539Z"
   },
   {
    "duration": 85,
    "start_time": "2022-05-19T15:02:58.785Z"
   },
   {
    "duration": 32,
    "start_time": "2022-05-19T15:02:58.872Z"
   },
   {
    "duration": 20,
    "start_time": "2022-05-19T15:02:58.906Z"
   },
   {
    "duration": 840,
    "start_time": "2022-05-19T15:02:58.927Z"
   },
   {
    "duration": 550,
    "start_time": "2022-05-19T15:02:59.769Z"
   },
   {
    "duration": 173,
    "start_time": "2022-05-19T15:03:00.321Z"
   },
   {
    "duration": 7,
    "start_time": "2022-05-19T15:03:00.495Z"
   },
   {
    "duration": 219,
    "start_time": "2022-05-19T15:03:00.503Z"
   },
   {
    "duration": 14,
    "start_time": "2022-05-19T15:03:00.724Z"
   },
   {
    "duration": 1218,
    "start_time": "2022-05-19T15:04:24.253Z"
   },
   {
    "duration": 923,
    "start_time": "2022-05-19T15:04:25.473Z"
   },
   {
    "duration": 25,
    "start_time": "2022-05-19T15:04:26.398Z"
   },
   {
    "duration": 132,
    "start_time": "2022-05-19T15:04:26.425Z"
   },
   {
    "duration": 466,
    "start_time": "2022-05-19T15:04:26.559Z"
   },
   {
    "duration": 569,
    "start_time": "2022-05-19T15:04:27.027Z"
   },
   {
    "duration": 351,
    "start_time": "2022-05-19T15:04:27.598Z"
   },
   {
    "duration": 53,
    "start_time": "2022-05-19T15:04:27.951Z"
   },
   {
    "duration": 5,
    "start_time": "2022-05-19T15:04:28.005Z"
   },
   {
    "duration": 36,
    "start_time": "2022-05-19T15:04:28.011Z"
   },
   {
    "duration": 222,
    "start_time": "2022-05-19T15:04:28.049Z"
   },
   {
    "duration": 31,
    "start_time": "2022-05-19T15:04:28.273Z"
   },
   {
    "duration": 56,
    "start_time": "2022-05-19T15:04:28.305Z"
   },
   {
    "duration": 52,
    "start_time": "2022-05-19T15:04:28.365Z"
   },
   {
    "duration": 257,
    "start_time": "2022-05-19T15:04:28.418Z"
   },
   {
    "duration": 40,
    "start_time": "2022-05-19T15:04:28.676Z"
   },
   {
    "duration": 195,
    "start_time": "2022-05-19T15:04:28.717Z"
   },
   {
    "duration": 116,
    "start_time": "2022-05-19T15:04:28.914Z"
   },
   {
    "duration": 137,
    "start_time": "2022-05-19T15:04:29.032Z"
   },
   {
    "duration": 45,
    "start_time": "2022-05-19T15:04:29.171Z"
   },
   {
    "duration": 14,
    "start_time": "2022-05-19T15:04:29.218Z"
   },
   {
    "duration": 217,
    "start_time": "2022-05-19T15:04:29.234Z"
   },
   {
    "duration": 50,
    "start_time": "2022-05-19T15:04:29.453Z"
   },
   {
    "duration": 36,
    "start_time": "2022-05-19T15:04:29.504Z"
   },
   {
    "duration": 51,
    "start_time": "2022-05-19T15:04:29.542Z"
   },
   {
    "duration": 26,
    "start_time": "2022-05-19T15:04:29.595Z"
   },
   {
    "duration": 113,
    "start_time": "2022-05-19T15:04:29.623Z"
   },
   {
    "duration": 87,
    "start_time": "2022-05-19T15:04:29.738Z"
   },
   {
    "duration": 121,
    "start_time": "2022-05-19T15:04:29.826Z"
   },
   {
    "duration": 35,
    "start_time": "2022-05-19T15:04:29.948Z"
   },
   {
    "duration": 205,
    "start_time": "2022-05-19T15:04:29.985Z"
   },
   {
    "duration": 88,
    "start_time": "2022-05-19T15:04:30.191Z"
   },
   {
    "duration": 30,
    "start_time": "2022-05-19T15:04:30.281Z"
   },
   {
    "duration": 17,
    "start_time": "2022-05-19T15:04:30.313Z"
   },
   {
    "duration": 848,
    "start_time": "2022-05-19T15:04:30.332Z"
   },
   {
    "duration": 571,
    "start_time": "2022-05-19T15:04:31.182Z"
   },
   {
    "duration": 166,
    "start_time": "2022-05-19T15:04:31.754Z"
   },
   {
    "duration": 4,
    "start_time": "2022-05-19T15:04:31.922Z"
   },
   {
    "duration": 216,
    "start_time": "2022-05-19T15:04:31.928Z"
   },
   {
    "duration": 12,
    "start_time": "2022-05-19T15:04:32.146Z"
   },
   {
    "duration": 57,
    "start_time": "2022-05-19T18:09:16.583Z"
   },
   {
    "duration": 1497,
    "start_time": "2022-05-19T18:09:30.043Z"
   },
   {
    "duration": 1192,
    "start_time": "2022-05-19T18:09:31.542Z"
   },
   {
    "duration": 36,
    "start_time": "2022-05-19T18:09:32.737Z"
   },
   {
    "duration": 156,
    "start_time": "2022-05-19T18:09:32.776Z"
   },
   {
    "duration": 443,
    "start_time": "2022-05-19T18:09:32.939Z"
   },
   {
    "duration": 534,
    "start_time": "2022-05-19T18:09:33.383Z"
   },
   {
    "duration": 349,
    "start_time": "2022-05-19T18:09:33.918Z"
   },
   {
    "duration": 47,
    "start_time": "2022-05-19T18:09:34.269Z"
   },
   {
    "duration": 5,
    "start_time": "2022-05-19T18:09:34.317Z"
   },
   {
    "duration": 53,
    "start_time": "2022-05-19T18:09:34.325Z"
   },
   {
    "duration": 226,
    "start_time": "2022-05-19T18:09:34.380Z"
   },
   {
    "duration": 27,
    "start_time": "2022-05-19T18:09:34.608Z"
   },
   {
    "duration": 61,
    "start_time": "2022-05-19T18:09:34.637Z"
   },
   {
    "duration": 31,
    "start_time": "2022-05-19T18:09:34.700Z"
   },
   {
    "duration": 264,
    "start_time": "2022-05-19T18:09:34.733Z"
   },
   {
    "duration": 75,
    "start_time": "2022-05-19T18:09:34.999Z"
   },
   {
    "duration": 163,
    "start_time": "2022-05-19T18:09:35.076Z"
   },
   {
    "duration": 59,
    "start_time": "2022-05-19T18:09:35.241Z"
   },
   {
    "duration": 26,
    "start_time": "2022-05-19T18:09:35.302Z"
   },
   {
    "duration": 203,
    "start_time": "2022-05-19T18:09:35.330Z"
   },
   {
    "duration": 40,
    "start_time": "2022-05-19T18:09:35.535Z"
   },
   {
    "duration": 37,
    "start_time": "2022-05-19T18:09:35.577Z"
   },
   {
    "duration": 44,
    "start_time": "2022-05-19T18:09:35.615Z"
   },
   {
    "duration": 13,
    "start_time": "2022-05-19T18:09:35.661Z"
   },
   {
    "duration": 117,
    "start_time": "2022-05-19T18:09:35.675Z"
   },
   {
    "duration": 94,
    "start_time": "2022-05-19T18:09:35.793Z"
   },
   {
    "duration": 123,
    "start_time": "2022-05-19T18:09:35.889Z"
   },
   {
    "duration": 23,
    "start_time": "2022-05-19T18:09:36.015Z"
   },
   {
    "duration": 205,
    "start_time": "2022-05-19T18:09:36.058Z"
   },
   {
    "duration": 100,
    "start_time": "2022-05-19T18:09:36.265Z"
   },
   {
    "duration": 23,
    "start_time": "2022-05-19T18:09:36.367Z"
   },
   {
    "duration": 19,
    "start_time": "2022-05-19T18:09:36.392Z"
   },
   {
    "duration": 919,
    "start_time": "2022-05-19T18:09:36.413Z"
   },
   {
    "duration": 546,
    "start_time": "2022-05-19T18:09:37.334Z"
   },
   {
    "duration": 162,
    "start_time": "2022-05-19T18:09:37.882Z"
   },
   {
    "duration": 15,
    "start_time": "2022-05-19T18:09:38.045Z"
   },
   {
    "duration": 226,
    "start_time": "2022-05-19T18:09:38.062Z"
   },
   {
    "duration": 12,
    "start_time": "2022-05-19T18:09:38.290Z"
   },
   {
    "duration": 117,
    "start_time": "2022-05-19T18:19:04.377Z"
   },
   {
    "duration": 1236,
    "start_time": "2022-05-19T18:19:20.790Z"
   },
   {
    "duration": 858,
    "start_time": "2022-05-19T18:19:22.028Z"
   },
   {
    "duration": 24,
    "start_time": "2022-05-19T18:19:22.888Z"
   },
   {
    "duration": 151,
    "start_time": "2022-05-19T18:19:22.914Z"
   },
   {
    "duration": 443,
    "start_time": "2022-05-19T18:19:23.067Z"
   },
   {
    "duration": 509,
    "start_time": "2022-05-19T18:19:23.511Z"
   },
   {
    "duration": 359,
    "start_time": "2022-05-19T18:19:24.022Z"
   },
   {
    "duration": 56,
    "start_time": "2022-05-19T18:19:24.384Z"
   },
   {
    "duration": 18,
    "start_time": "2022-05-19T18:19:24.442Z"
   },
   {
    "duration": 34,
    "start_time": "2022-05-19T18:19:24.463Z"
   },
   {
    "duration": 235,
    "start_time": "2022-05-19T18:19:24.499Z"
   },
   {
    "duration": 46,
    "start_time": "2022-05-19T18:19:24.737Z"
   },
   {
    "duration": 55,
    "start_time": "2022-05-19T18:19:24.785Z"
   },
   {
    "duration": 44,
    "start_time": "2022-05-19T18:19:24.842Z"
   },
   {
    "duration": 244,
    "start_time": "2022-05-19T18:19:24.888Z"
   },
   {
    "duration": 44,
    "start_time": "2022-05-19T18:19:25.134Z"
   },
   {
    "duration": 129,
    "start_time": "2022-05-19T18:19:25.179Z"
   },
   {
    "duration": 35,
    "start_time": "2022-05-19T18:19:25.310Z"
   },
   {
    "duration": 14,
    "start_time": "2022-05-19T18:19:25.359Z"
   },
   {
    "duration": 217,
    "start_time": "2022-05-19T18:19:25.374Z"
   },
   {
    "duration": 36,
    "start_time": "2022-05-19T18:19:25.593Z"
   },
   {
    "duration": 44,
    "start_time": "2022-05-19T18:19:25.630Z"
   },
   {
    "duration": 32,
    "start_time": "2022-05-19T18:19:25.676Z"
   },
   {
    "duration": 12,
    "start_time": "2022-05-19T18:19:25.710Z"
   },
   {
    "duration": 120,
    "start_time": "2022-05-19T18:19:25.724Z"
   },
   {
    "duration": 87,
    "start_time": "2022-05-19T18:19:25.845Z"
   },
   {
    "duration": 125,
    "start_time": "2022-05-19T18:19:25.934Z"
   },
   {
    "duration": 21,
    "start_time": "2022-05-19T18:19:26.062Z"
   },
   {
    "duration": 201,
    "start_time": "2022-05-19T18:19:26.084Z"
   },
   {
    "duration": 85,
    "start_time": "2022-05-19T18:19:26.287Z"
   },
   {
    "duration": 23,
    "start_time": "2022-05-19T18:19:26.374Z"
   },
   {
    "duration": 18,
    "start_time": "2022-05-19T18:19:26.398Z"
   },
   {
    "duration": 890,
    "start_time": "2022-05-19T18:19:26.417Z"
   },
   {
    "duration": 526,
    "start_time": "2022-05-19T18:19:27.309Z"
   },
   {
    "duration": 198,
    "start_time": "2022-05-19T18:19:27.838Z"
   },
   {
    "duration": 633,
    "start_time": "2022-05-19T18:19:28.037Z"
   },
   {
    "duration": 3,
    "start_time": "2022-05-19T18:19:28.672Z"
   },
   {
    "duration": 129,
    "start_time": "2022-05-19T18:19:28.676Z"
   },
   {
    "duration": 9,
    "start_time": "2022-05-19T18:19:28.806Z"
   },
   {
    "duration": 0,
    "start_time": "2022-05-19T18:19:28.816Z"
   },
   {
    "duration": 0,
    "start_time": "2022-05-19T18:19:28.818Z"
   },
   {
    "duration": 0,
    "start_time": "2022-05-19T18:19:28.818Z"
   },
   {
    "duration": 12,
    "start_time": "2022-05-19T18:31:04.382Z"
   },
   {
    "duration": 1260,
    "start_time": "2022-05-19T18:40:54.722Z"
   },
   {
    "duration": 892,
    "start_time": "2022-05-19T18:40:55.984Z"
   },
   {
    "duration": 25,
    "start_time": "2022-05-19T18:40:56.878Z"
   },
   {
    "duration": 165,
    "start_time": "2022-05-19T18:40:56.905Z"
   },
   {
    "duration": 469,
    "start_time": "2022-05-19T18:40:57.072Z"
   },
   {
    "duration": 530,
    "start_time": "2022-05-19T18:40:57.542Z"
   },
   {
    "duration": 355,
    "start_time": "2022-05-19T18:40:58.074Z"
   },
   {
    "duration": 60,
    "start_time": "2022-05-19T18:40:58.431Z"
   },
   {
    "duration": 4,
    "start_time": "2022-05-19T18:40:58.493Z"
   },
   {
    "duration": 33,
    "start_time": "2022-05-19T18:40:58.500Z"
   },
   {
    "duration": 237,
    "start_time": "2022-05-19T18:40:58.535Z"
   },
   {
    "duration": 26,
    "start_time": "2022-05-19T18:40:58.774Z"
   },
   {
    "duration": 69,
    "start_time": "2022-05-19T18:40:58.801Z"
   },
   {
    "duration": 35,
    "start_time": "2022-05-19T18:40:58.872Z"
   },
   {
    "duration": 245,
    "start_time": "2022-05-19T18:40:58.909Z"
   },
   {
    "duration": 33,
    "start_time": "2022-05-19T18:40:59.158Z"
   },
   {
    "duration": 135,
    "start_time": "2022-05-19T18:40:59.193Z"
   },
   {
    "duration": 44,
    "start_time": "2022-05-19T18:40:59.330Z"
   },
   {
    "duration": 13,
    "start_time": "2022-05-19T18:40:59.376Z"
   },
   {
    "duration": 201,
    "start_time": "2022-05-19T18:40:59.391Z"
   },
   {
    "duration": 32,
    "start_time": "2022-05-19T18:40:59.594Z"
   },
   {
    "duration": 72,
    "start_time": "2022-05-19T18:40:59.627Z"
   },
   {
    "duration": 44,
    "start_time": "2022-05-19T18:40:59.701Z"
   },
   {
    "duration": 18,
    "start_time": "2022-05-19T18:40:59.747Z"
   },
   {
    "duration": 113,
    "start_time": "2022-05-19T18:40:59.767Z"
   },
   {
    "duration": 89,
    "start_time": "2022-05-19T18:40:59.882Z"
   },
   {
    "duration": 118,
    "start_time": "2022-05-19T18:40:59.973Z"
   },
   {
    "duration": 22,
    "start_time": "2022-05-19T18:41:00.094Z"
   },
   {
    "duration": 212,
    "start_time": "2022-05-19T18:41:00.118Z"
   },
   {
    "duration": 84,
    "start_time": "2022-05-19T18:41:00.331Z"
   },
   {
    "duration": 20,
    "start_time": "2022-05-19T18:41:00.417Z"
   },
   {
    "duration": 37,
    "start_time": "2022-05-19T18:41:00.438Z"
   },
   {
    "duration": 933,
    "start_time": "2022-05-19T18:41:00.476Z"
   },
   {
    "duration": 545,
    "start_time": "2022-05-19T18:41:01.411Z"
   },
   {
    "duration": 163,
    "start_time": "2022-05-19T18:41:01.959Z"
   },
   {
    "duration": 659,
    "start_time": "2022-05-19T18:41:02.124Z"
   },
   {
    "duration": 47,
    "start_time": "2022-05-19T18:41:02.785Z"
   },
   {
    "duration": 3,
    "start_time": "2022-05-19T18:41:02.834Z"
   },
   {
    "duration": 21,
    "start_time": "2022-05-19T18:41:02.838Z"
   },
   {
    "duration": 130206,
    "start_time": "2022-05-19T18:41:02.861Z"
   },
   {
    "duration": 289,
    "start_time": "2022-05-19T18:43:13.070Z"
   },
   {
    "duration": 0,
    "start_time": "2022-05-19T18:43:13.361Z"
   },
   {
    "duration": 0,
    "start_time": "2022-05-19T18:43:13.362Z"
   },
   {
    "duration": 0,
    "start_time": "2022-05-19T18:43:13.363Z"
   },
   {
    "duration": 120359,
    "start_time": "2022-05-19T18:44:59.400Z"
   },
   {
    "duration": 96605,
    "start_time": "2022-05-19T18:48:52.556Z"
   },
   {
    "duration": 48,
    "start_time": "2022-05-19T18:51:02.574Z"
   },
   {
    "duration": 29152,
    "start_time": "2022-05-19T18:51:44.508Z"
   },
   {
    "duration": 90412,
    "start_time": "2022-05-19T18:58:57.562Z"
   },
   {
    "duration": 1252,
    "start_time": "2022-05-19T19:00:41.083Z"
   },
   {
    "duration": 908,
    "start_time": "2022-05-19T19:00:42.337Z"
   },
   {
    "duration": 39,
    "start_time": "2022-05-19T19:00:43.247Z"
   },
   {
    "duration": 118,
    "start_time": "2022-05-19T19:00:43.288Z"
   },
   {
    "duration": 471,
    "start_time": "2022-05-19T19:00:43.407Z"
   },
   {
    "duration": 538,
    "start_time": "2022-05-19T19:00:43.879Z"
   },
   {
    "duration": 364,
    "start_time": "2022-05-19T19:00:44.418Z"
   },
   {
    "duration": 49,
    "start_time": "2022-05-19T19:00:44.783Z"
   },
   {
    "duration": 4,
    "start_time": "2022-05-19T19:00:44.834Z"
   },
   {
    "duration": 33,
    "start_time": "2022-05-19T19:00:44.859Z"
   },
   {
    "duration": 222,
    "start_time": "2022-05-19T19:00:44.893Z"
   },
   {
    "duration": 24,
    "start_time": "2022-05-19T19:00:45.117Z"
   },
   {
    "duration": 66,
    "start_time": "2022-05-19T19:00:45.142Z"
   },
   {
    "duration": 32,
    "start_time": "2022-05-19T19:00:45.210Z"
   },
   {
    "duration": 246,
    "start_time": "2022-05-19T19:00:45.244Z"
   },
   {
    "duration": 34,
    "start_time": "2022-05-19T19:00:45.492Z"
   },
   {
    "duration": 142,
    "start_time": "2022-05-19T19:00:45.528Z"
   },
   {
    "duration": 34,
    "start_time": "2022-05-19T19:00:45.672Z"
   },
   {
    "duration": 13,
    "start_time": "2022-05-19T19:00:45.708Z"
   },
   {
    "duration": 197,
    "start_time": "2022-05-19T19:00:45.723Z"
   },
   {
    "duration": 40,
    "start_time": "2022-05-19T19:00:45.922Z"
   },
   {
    "duration": 36,
    "start_time": "2022-05-19T19:00:45.963Z"
   },
   {
    "duration": 34,
    "start_time": "2022-05-19T19:00:46.001Z"
   },
   {
    "duration": 23,
    "start_time": "2022-05-19T19:00:46.036Z"
   },
   {
    "duration": 107,
    "start_time": "2022-05-19T19:00:46.061Z"
   },
   {
    "duration": 72,
    "start_time": "2022-05-19T19:00:46.170Z"
   },
   {
    "duration": 125,
    "start_time": "2022-05-19T19:00:46.244Z"
   },
   {
    "duration": 21,
    "start_time": "2022-05-19T19:00:46.372Z"
   },
   {
    "duration": 227,
    "start_time": "2022-05-19T19:00:46.395Z"
   },
   {
    "duration": 80,
    "start_time": "2022-05-19T19:00:46.624Z"
   },
   {
    "duration": 18,
    "start_time": "2022-05-19T19:00:46.706Z"
   },
   {
    "duration": 39,
    "start_time": "2022-05-19T19:00:46.725Z"
   },
   {
    "duration": 777,
    "start_time": "2022-05-19T19:00:46.765Z"
   },
   {
    "duration": 516,
    "start_time": "2022-05-19T19:00:47.544Z"
   },
   {
    "duration": 156,
    "start_time": "2022-05-19T19:00:48.062Z"
   },
   {
    "duration": 630,
    "start_time": "2022-05-19T19:00:48.219Z"
   },
   {
    "duration": 48,
    "start_time": "2022-05-19T19:00:48.851Z"
   },
   {
    "duration": 3,
    "start_time": "2022-05-19T19:00:48.900Z"
   },
   {
    "duration": 7,
    "start_time": "2022-05-19T19:00:48.904Z"
   },
   {
    "duration": 90348,
    "start_time": "2022-05-19T19:00:48.913Z"
   },
   {
    "duration": 21798,
    "start_time": "2022-05-19T19:02:19.263Z"
   },
   {
    "duration": 286,
    "start_time": "2022-05-19T19:02:41.064Z"
   },
   {
    "duration": 16,
    "start_time": "2022-05-19T19:02:41.352Z"
   },
   {
    "duration": 139,
    "start_time": "2022-05-19T19:07:14.425Z"
   },
   {
    "duration": 1296,
    "start_time": "2022-05-19T19:07:23.662Z"
   },
   {
    "duration": 885,
    "start_time": "2022-05-19T19:07:24.961Z"
   },
   {
    "duration": 31,
    "start_time": "2022-05-19T19:07:25.848Z"
   },
   {
    "duration": 124,
    "start_time": "2022-05-19T19:07:25.882Z"
   },
   {
    "duration": 423,
    "start_time": "2022-05-19T19:07:26.008Z"
   },
   {
    "duration": 539,
    "start_time": "2022-05-19T19:07:26.433Z"
   },
   {
    "duration": 413,
    "start_time": "2022-05-19T19:07:26.973Z"
   },
   {
    "duration": 48,
    "start_time": "2022-05-19T19:07:27.387Z"
   },
   {
    "duration": 9,
    "start_time": "2022-05-19T19:07:27.436Z"
   },
   {
    "duration": 35,
    "start_time": "2022-05-19T19:07:27.458Z"
   },
   {
    "duration": 229,
    "start_time": "2022-05-19T19:07:27.494Z"
   },
   {
    "duration": 33,
    "start_time": "2022-05-19T19:07:27.725Z"
   },
   {
    "duration": 54,
    "start_time": "2022-05-19T19:07:27.760Z"
   },
   {
    "duration": 42,
    "start_time": "2022-05-19T19:07:27.817Z"
   },
   {
    "duration": 227,
    "start_time": "2022-05-19T19:07:27.861Z"
   },
   {
    "duration": 33,
    "start_time": "2022-05-19T19:07:28.090Z"
   },
   {
    "duration": 143,
    "start_time": "2022-05-19T19:07:28.124Z"
   },
   {
    "duration": 36,
    "start_time": "2022-05-19T19:07:28.269Z"
   },
   {
    "duration": 13,
    "start_time": "2022-05-19T19:07:28.306Z"
   },
   {
    "duration": 203,
    "start_time": "2022-05-19T19:07:28.321Z"
   },
   {
    "duration": 45,
    "start_time": "2022-05-19T19:07:28.525Z"
   },
   {
    "duration": 47,
    "start_time": "2022-05-19T19:07:28.572Z"
   },
   {
    "duration": 33,
    "start_time": "2022-05-19T19:07:28.620Z"
   },
   {
    "duration": 11,
    "start_time": "2022-05-19T19:07:28.655Z"
   },
   {
    "duration": 116,
    "start_time": "2022-05-19T19:07:28.667Z"
   },
   {
    "duration": 81,
    "start_time": "2022-05-19T19:07:28.785Z"
   },
   {
    "duration": 114,
    "start_time": "2022-05-19T19:07:28.867Z"
   },
   {
    "duration": 22,
    "start_time": "2022-05-19T19:07:28.984Z"
   },
   {
    "duration": 208,
    "start_time": "2022-05-19T19:07:29.007Z"
   },
   {
    "duration": 83,
    "start_time": "2022-05-19T19:07:29.217Z"
   },
   {
    "duration": 24,
    "start_time": "2022-05-19T19:07:29.301Z"
   },
   {
    "duration": 33,
    "start_time": "2022-05-19T19:07:29.327Z"
   },
   {
    "duration": 936,
    "start_time": "2022-05-19T19:07:29.362Z"
   },
   {
    "duration": 531,
    "start_time": "2022-05-19T19:07:30.300Z"
   },
   {
    "duration": 162,
    "start_time": "2022-05-19T19:07:30.833Z"
   },
   {
    "duration": 621,
    "start_time": "2022-05-19T19:07:30.997Z"
   },
   {
    "duration": 56,
    "start_time": "2022-05-19T19:07:31.619Z"
   },
   {
    "duration": 4,
    "start_time": "2022-05-19T19:07:31.676Z"
   },
   {
    "duration": 27,
    "start_time": "2022-05-19T19:07:31.681Z"
   },
   {
    "duration": 93360,
    "start_time": "2022-05-19T19:07:31.710Z"
   },
   {
    "duration": 24301,
    "start_time": "2022-05-19T19:09:05.158Z"
   },
   {
    "duration": 286,
    "start_time": "2022-05-19T19:09:29.462Z"
   },
   {
    "duration": 16,
    "start_time": "2022-05-19T19:09:29.750Z"
   },
   {
    "duration": 27,
    "start_time": "2022-05-19T19:10:34.672Z"
   },
   {
    "duration": 98966,
    "start_time": "2022-05-19T19:10:57.327Z"
   },
   {
    "duration": 87805,
    "start_time": "2022-05-19T19:14:39.756Z"
   },
   {
    "duration": 88788,
    "start_time": "2022-05-19T19:16:43.673Z"
   },
   {
    "duration": 57,
    "start_time": "2022-05-20T08:06:03.493Z"
   },
   {
    "duration": 1530,
    "start_time": "2022-05-20T08:06:12.141Z"
   },
   {
    "duration": 1270,
    "start_time": "2022-05-20T08:06:13.673Z"
   },
   {
    "duration": 24,
    "start_time": "2022-05-20T08:06:14.944Z"
   },
   {
    "duration": 130,
    "start_time": "2022-05-20T08:06:14.970Z"
   },
   {
    "duration": 452,
    "start_time": "2022-05-20T08:06:15.102Z"
   },
   {
    "duration": 562,
    "start_time": "2022-05-20T08:06:15.555Z"
   },
   {
    "duration": 376,
    "start_time": "2022-05-20T08:06:16.119Z"
   },
   {
    "duration": 61,
    "start_time": "2022-05-20T08:06:16.497Z"
   },
   {
    "duration": 4,
    "start_time": "2022-05-20T08:06:16.560Z"
   },
   {
    "duration": 48,
    "start_time": "2022-05-20T08:06:16.566Z"
   },
   {
    "duration": 228,
    "start_time": "2022-05-20T08:06:16.616Z"
   },
   {
    "duration": 27,
    "start_time": "2022-05-20T08:06:16.846Z"
   },
   {
    "duration": 76,
    "start_time": "2022-05-20T08:06:16.875Z"
   },
   {
    "duration": 35,
    "start_time": "2022-05-20T08:06:16.953Z"
   },
   {
    "duration": 252,
    "start_time": "2022-05-20T08:06:16.990Z"
   },
   {
    "duration": 37,
    "start_time": "2022-05-20T08:06:17.244Z"
   },
   {
    "duration": 149,
    "start_time": "2022-05-20T08:06:17.283Z"
   },
   {
    "duration": 38,
    "start_time": "2022-05-20T08:06:17.433Z"
   },
   {
    "duration": 18,
    "start_time": "2022-05-20T08:06:17.473Z"
   },
   {
    "duration": 221,
    "start_time": "2022-05-20T08:06:17.493Z"
   },
   {
    "duration": 39,
    "start_time": "2022-05-20T08:06:17.716Z"
   },
   {
    "duration": 62,
    "start_time": "2022-05-20T08:06:17.756Z"
   },
   {
    "duration": 38,
    "start_time": "2022-05-20T08:06:17.820Z"
   },
   {
    "duration": 27,
    "start_time": "2022-05-20T08:06:17.860Z"
   },
   {
    "duration": 131,
    "start_time": "2022-05-20T08:06:17.889Z"
   },
   {
    "duration": 85,
    "start_time": "2022-05-20T08:06:18.022Z"
   },
   {
    "duration": 128,
    "start_time": "2022-05-20T08:06:18.109Z"
   },
   {
    "duration": 24,
    "start_time": "2022-05-20T08:06:18.241Z"
   },
   {
    "duration": 221,
    "start_time": "2022-05-20T08:06:18.266Z"
   },
   {
    "duration": 92,
    "start_time": "2022-05-20T08:06:18.489Z"
   },
   {
    "duration": 20,
    "start_time": "2022-05-20T08:06:18.583Z"
   },
   {
    "duration": 38,
    "start_time": "2022-05-20T08:06:18.605Z"
   },
   {
    "duration": 960,
    "start_time": "2022-05-20T08:06:18.644Z"
   },
   {
    "duration": 545,
    "start_time": "2022-05-20T08:06:19.606Z"
   },
   {
    "duration": 164,
    "start_time": "2022-05-20T08:06:20.153Z"
   },
   {
    "duration": 664,
    "start_time": "2022-05-20T08:06:20.318Z"
   },
   {
    "duration": 51,
    "start_time": "2022-05-20T08:06:20.984Z"
   },
   {
    "duration": 3,
    "start_time": "2022-05-20T08:06:21.036Z"
   },
   {
    "duration": 8,
    "start_time": "2022-05-20T08:06:21.041Z"
   },
   {
    "duration": 115079,
    "start_time": "2022-05-20T08:06:21.050Z"
   },
   {
    "duration": 24405,
    "start_time": "2022-05-20T08:08:16.131Z"
   },
   {
    "duration": 301,
    "start_time": "2022-05-20T08:08:40.627Z"
   },
   {
    "duration": 12,
    "start_time": "2022-05-20T08:08:40.930Z"
   },
   {
    "duration": 1372,
    "start_time": "2022-05-20T08:20:06.627Z"
   },
   {
    "duration": 942,
    "start_time": "2022-05-20T08:20:08.001Z"
   },
   {
    "duration": 25,
    "start_time": "2022-05-20T08:20:08.945Z"
   },
   {
    "duration": 132,
    "start_time": "2022-05-20T08:20:08.972Z"
   },
   {
    "duration": 490,
    "start_time": "2022-05-20T08:20:09.106Z"
   },
   {
    "duration": 607,
    "start_time": "2022-05-20T08:20:09.597Z"
   },
   {
    "duration": 367,
    "start_time": "2022-05-20T08:20:10.206Z"
   },
   {
    "duration": 62,
    "start_time": "2022-05-20T08:20:10.574Z"
   },
   {
    "duration": 4,
    "start_time": "2022-05-20T08:20:10.638Z"
   },
   {
    "duration": 36,
    "start_time": "2022-05-20T08:20:10.643Z"
   },
   {
    "duration": 250,
    "start_time": "2022-05-20T08:20:10.680Z"
   },
   {
    "duration": 28,
    "start_time": "2022-05-20T08:20:10.931Z"
   },
   {
    "duration": 77,
    "start_time": "2022-05-20T08:20:10.961Z"
   },
   {
    "duration": 34,
    "start_time": "2022-05-20T08:20:11.041Z"
   },
   {
    "duration": 250,
    "start_time": "2022-05-20T08:20:11.077Z"
   },
   {
    "duration": 37,
    "start_time": "2022-05-20T08:20:11.328Z"
   },
   {
    "duration": 146,
    "start_time": "2022-05-20T08:20:11.367Z"
   },
   {
    "duration": 43,
    "start_time": "2022-05-20T08:20:11.514Z"
   },
   {
    "duration": 15,
    "start_time": "2022-05-20T08:20:11.558Z"
   },
   {
    "duration": 198,
    "start_time": "2022-05-20T08:20:11.574Z"
   },
   {
    "duration": 33,
    "start_time": "2022-05-20T08:20:11.774Z"
   },
   {
    "duration": 46,
    "start_time": "2022-05-20T08:20:11.809Z"
   },
   {
    "duration": 33,
    "start_time": "2022-05-20T08:20:11.857Z"
   },
   {
    "duration": 14,
    "start_time": "2022-05-20T08:20:11.892Z"
   },
   {
    "duration": 129,
    "start_time": "2022-05-20T08:20:11.908Z"
   },
   {
    "duration": 89,
    "start_time": "2022-05-20T08:20:12.038Z"
   },
   {
    "duration": 134,
    "start_time": "2022-05-20T08:20:12.129Z"
   },
   {
    "duration": 24,
    "start_time": "2022-05-20T08:20:12.265Z"
   },
   {
    "duration": 259,
    "start_time": "2022-05-20T08:20:12.291Z"
   },
   {
    "duration": 84,
    "start_time": "2022-05-20T08:20:12.552Z"
   },
   {
    "duration": 20,
    "start_time": "2022-05-20T08:20:12.638Z"
   },
   {
    "duration": 18,
    "start_time": "2022-05-20T08:20:12.660Z"
   },
   {
    "duration": 897,
    "start_time": "2022-05-20T08:20:12.680Z"
   },
   {
    "duration": 553,
    "start_time": "2022-05-20T08:20:13.579Z"
   },
   {
    "duration": 181,
    "start_time": "2022-05-20T08:20:14.134Z"
   },
   {
    "duration": 713,
    "start_time": "2022-05-20T08:20:14.317Z"
   },
   {
    "duration": 50,
    "start_time": "2022-05-20T08:20:15.032Z"
   },
   {
    "duration": 3,
    "start_time": "2022-05-20T08:20:15.084Z"
   },
   {
    "duration": 12,
    "start_time": "2022-05-20T08:20:15.089Z"
   },
   {
    "duration": 11,
    "start_time": "2022-05-20T08:20:15.102Z"
   },
   {
    "duration": 99604,
    "start_time": "2022-05-20T08:20:15.128Z"
   },
   {
    "duration": 25335,
    "start_time": "2022-05-20T08:21:54.734Z"
   },
   {
    "duration": 0,
    "start_time": "2022-05-20T08:22:20.071Z"
   },
   {
    "duration": 0,
    "start_time": "2022-05-20T08:22:20.072Z"
   },
   {
    "duration": 25510,
    "start_time": "2022-05-20T08:25:24.519Z"
   },
   {
    "duration": 15,
    "start_time": "2022-05-20T08:26:14.207Z"
   },
   {
    "duration": 4,
    "start_time": "2022-05-20T08:26:39.108Z"
   },
   {
    "duration": 1317,
    "start_time": "2022-05-20T08:27:04.651Z"
   },
   {
    "duration": 980,
    "start_time": "2022-05-20T08:27:05.970Z"
   },
   {
    "duration": 33,
    "start_time": "2022-05-20T08:27:06.952Z"
   },
   {
    "duration": 143,
    "start_time": "2022-05-20T08:27:06.988Z"
   },
   {
    "duration": 490,
    "start_time": "2022-05-20T08:27:07.133Z"
   },
   {
    "duration": 598,
    "start_time": "2022-05-20T08:27:07.626Z"
   },
   {
    "duration": 378,
    "start_time": "2022-05-20T08:27:08.225Z"
   },
   {
    "duration": 62,
    "start_time": "2022-05-20T08:27:08.605Z"
   },
   {
    "duration": 4,
    "start_time": "2022-05-20T08:27:08.669Z"
   },
   {
    "duration": 58,
    "start_time": "2022-05-20T08:27:08.676Z"
   },
   {
    "duration": 236,
    "start_time": "2022-05-20T08:27:08.736Z"
   },
   {
    "duration": 27,
    "start_time": "2022-05-20T08:27:08.973Z"
   },
   {
    "duration": 75,
    "start_time": "2022-05-20T08:27:09.001Z"
   },
   {
    "duration": 32,
    "start_time": "2022-05-20T08:27:09.078Z"
   },
   {
    "duration": 249,
    "start_time": "2022-05-20T08:27:09.112Z"
   },
   {
    "duration": 41,
    "start_time": "2022-05-20T08:27:09.363Z"
   },
   {
    "duration": 149,
    "start_time": "2022-05-20T08:27:09.405Z"
   },
   {
    "duration": 38,
    "start_time": "2022-05-20T08:27:09.556Z"
   },
   {
    "duration": 32,
    "start_time": "2022-05-20T08:27:09.596Z"
   },
   {
    "duration": 208,
    "start_time": "2022-05-20T08:27:09.629Z"
   },
   {
    "duration": 33,
    "start_time": "2022-05-20T08:27:09.839Z"
   },
   {
    "duration": 41,
    "start_time": "2022-05-20T08:27:09.873Z"
   },
   {
    "duration": 37,
    "start_time": "2022-05-20T08:27:09.926Z"
   },
   {
    "duration": 18,
    "start_time": "2022-05-20T08:27:09.965Z"
   },
   {
    "duration": 123,
    "start_time": "2022-05-20T08:27:09.985Z"
   },
   {
    "duration": 83,
    "start_time": "2022-05-20T08:27:10.110Z"
   },
   {
    "duration": 125,
    "start_time": "2022-05-20T08:27:10.195Z"
   },
   {
    "duration": 22,
    "start_time": "2022-05-20T08:27:10.328Z"
   },
   {
    "duration": 243,
    "start_time": "2022-05-20T08:27:10.351Z"
   },
   {
    "duration": 82,
    "start_time": "2022-05-20T08:27:10.596Z"
   },
   {
    "duration": 21,
    "start_time": "2022-05-20T08:27:10.680Z"
   },
   {
    "duration": 33,
    "start_time": "2022-05-20T08:27:10.702Z"
   },
   {
    "duration": 923,
    "start_time": "2022-05-20T08:27:10.737Z"
   },
   {
    "duration": 556,
    "start_time": "2022-05-20T08:27:11.662Z"
   },
   {
    "duration": 173,
    "start_time": "2022-05-20T08:27:12.220Z"
   },
   {
    "duration": 695,
    "start_time": "2022-05-20T08:27:12.395Z"
   },
   {
    "duration": 55,
    "start_time": "2022-05-20T08:27:13.091Z"
   },
   {
    "duration": 3,
    "start_time": "2022-05-20T08:27:13.147Z"
   },
   {
    "duration": 8,
    "start_time": "2022-05-20T08:27:13.152Z"
   },
   {
    "duration": 6,
    "start_time": "2022-05-20T08:27:13.162Z"
   },
   {
    "duration": 100160,
    "start_time": "2022-05-20T08:27:13.169Z"
   },
   {
    "duration": 24696,
    "start_time": "2022-05-20T08:28:53.332Z"
   },
   {
    "duration": 4,
    "start_time": "2022-05-20T08:29:18.030Z"
   },
   {
    "duration": 312,
    "start_time": "2022-05-20T08:29:18.036Z"
   },
   {
    "duration": 3,
    "start_time": "2022-05-20T08:34:41.355Z"
   },
   {
    "duration": 1412,
    "start_time": "2022-05-20T08:37:44.314Z"
   },
   {
    "duration": 938,
    "start_time": "2022-05-20T08:37:45.728Z"
   },
   {
    "duration": 23,
    "start_time": "2022-05-20T08:37:46.668Z"
   },
   {
    "duration": 124,
    "start_time": "2022-05-20T08:37:46.694Z"
   },
   {
    "duration": 459,
    "start_time": "2022-05-20T08:37:46.827Z"
   },
   {
    "duration": 576,
    "start_time": "2022-05-20T08:37:47.288Z"
   },
   {
    "duration": 369,
    "start_time": "2022-05-20T08:37:47.866Z"
   },
   {
    "duration": 50,
    "start_time": "2022-05-20T08:37:48.236Z"
   },
   {
    "duration": 3,
    "start_time": "2022-05-20T08:37:48.288Z"
   },
   {
    "duration": 50,
    "start_time": "2022-05-20T08:37:48.294Z"
   },
   {
    "duration": 220,
    "start_time": "2022-05-20T08:37:48.346Z"
   },
   {
    "duration": 26,
    "start_time": "2022-05-20T08:37:48.568Z"
   },
   {
    "duration": 74,
    "start_time": "2022-05-20T08:37:48.596Z"
   },
   {
    "duration": 31,
    "start_time": "2022-05-20T08:37:48.671Z"
   },
   {
    "duration": 238,
    "start_time": "2022-05-20T08:37:48.704Z"
   },
   {
    "duration": 38,
    "start_time": "2022-05-20T08:37:48.944Z"
   },
   {
    "duration": 148,
    "start_time": "2022-05-20T08:37:48.984Z"
   },
   {
    "duration": 40,
    "start_time": "2022-05-20T08:37:49.134Z"
   },
   {
    "duration": 16,
    "start_time": "2022-05-20T08:37:49.175Z"
   },
   {
    "duration": 238,
    "start_time": "2022-05-20T08:37:49.192Z"
   },
   {
    "duration": 39,
    "start_time": "2022-05-20T08:37:49.431Z"
   },
   {
    "duration": 39,
    "start_time": "2022-05-20T08:37:49.471Z"
   },
   {
    "duration": 34,
    "start_time": "2022-05-20T08:37:49.525Z"
   },
   {
    "duration": 12,
    "start_time": "2022-05-20T08:37:49.561Z"
   },
   {
    "duration": 127,
    "start_time": "2022-05-20T08:37:49.574Z"
   },
   {
    "duration": 88,
    "start_time": "2022-05-20T08:37:49.703Z"
   },
   {
    "duration": 114,
    "start_time": "2022-05-20T08:37:49.793Z"
   },
   {
    "duration": 33,
    "start_time": "2022-05-20T08:37:49.911Z"
   },
   {
    "duration": 215,
    "start_time": "2022-05-20T08:37:49.945Z"
   },
   {
    "duration": 86,
    "start_time": "2022-05-20T08:37:50.161Z"
   },
   {
    "duration": 58,
    "start_time": "2022-05-20T08:37:50.249Z"
   },
   {
    "duration": 28,
    "start_time": "2022-05-20T08:37:50.309Z"
   },
   {
    "duration": 904,
    "start_time": "2022-05-20T08:37:50.339Z"
   },
   {
    "duration": 555,
    "start_time": "2022-05-20T08:37:51.245Z"
   },
   {
    "duration": 175,
    "start_time": "2022-05-20T08:37:51.801Z"
   },
   {
    "duration": 686,
    "start_time": "2022-05-20T08:37:51.977Z"
   },
   {
    "duration": 45,
    "start_time": "2022-05-20T08:37:52.665Z"
   },
   {
    "duration": 15,
    "start_time": "2022-05-20T08:37:52.712Z"
   },
   {
    "duration": 6,
    "start_time": "2022-05-20T08:37:52.729Z"
   },
   {
    "duration": 10,
    "start_time": "2022-05-20T08:37:52.737Z"
   },
   {
    "duration": 101578,
    "start_time": "2022-05-20T08:37:52.749Z"
   },
   {
    "duration": 24698,
    "start_time": "2022-05-20T08:39:34.329Z"
   },
   {
    "duration": 5,
    "start_time": "2022-05-20T08:39:59.030Z"
   },
   {
    "duration": 221,
    "start_time": "2022-05-20T08:39:59.126Z"
   },
   {
    "duration": 1335,
    "start_time": "2022-05-20T08:45:29.318Z"
   },
   {
    "duration": 943,
    "start_time": "2022-05-20T08:45:30.656Z"
   },
   {
    "duration": 29,
    "start_time": "2022-05-20T08:45:31.601Z"
   },
   {
    "duration": 125,
    "start_time": "2022-05-20T08:45:31.633Z"
   },
   {
    "duration": 484,
    "start_time": "2022-05-20T08:45:31.760Z"
   },
   {
    "duration": 573,
    "start_time": "2022-05-20T08:45:32.246Z"
   },
   {
    "duration": 388,
    "start_time": "2022-05-20T08:45:32.821Z"
   },
   {
    "duration": 62,
    "start_time": "2022-05-20T08:45:33.211Z"
   },
   {
    "duration": 5,
    "start_time": "2022-05-20T08:45:33.275Z"
   },
   {
    "duration": 53,
    "start_time": "2022-05-20T08:45:33.282Z"
   },
   {
    "duration": 246,
    "start_time": "2022-05-20T08:45:33.337Z"
   },
   {
    "duration": 41,
    "start_time": "2022-05-20T08:45:33.585Z"
   },
   {
    "duration": 76,
    "start_time": "2022-05-20T08:45:33.628Z"
   },
   {
    "duration": 33,
    "start_time": "2022-05-20T08:45:33.706Z"
   },
   {
    "duration": 236,
    "start_time": "2022-05-20T08:45:33.741Z"
   },
   {
    "duration": 52,
    "start_time": "2022-05-20T08:45:33.979Z"
   },
   {
    "duration": 132,
    "start_time": "2022-05-20T08:45:34.033Z"
   },
   {
    "duration": 38,
    "start_time": "2022-05-20T08:45:34.167Z"
   },
   {
    "duration": 31,
    "start_time": "2022-05-20T08:45:34.207Z"
   },
   {
    "duration": 225,
    "start_time": "2022-05-20T08:45:34.240Z"
   },
   {
    "duration": 60,
    "start_time": "2022-05-20T08:45:34.467Z"
   },
   {
    "duration": 38,
    "start_time": "2022-05-20T08:45:34.529Z"
   },
   {
    "duration": 38,
    "start_time": "2022-05-20T08:45:34.569Z"
   },
   {
    "duration": 18,
    "start_time": "2022-05-20T08:45:34.609Z"
   },
   {
    "duration": 115,
    "start_time": "2022-05-20T08:45:34.628Z"
   },
   {
    "duration": 83,
    "start_time": "2022-05-20T08:45:34.744Z"
   },
   {
    "duration": 118,
    "start_time": "2022-05-20T08:45:34.829Z"
   },
   {
    "duration": 23,
    "start_time": "2022-05-20T08:45:34.950Z"
   },
   {
    "duration": 241,
    "start_time": "2022-05-20T08:45:34.974Z"
   },
   {
    "duration": 82,
    "start_time": "2022-05-20T08:45:35.216Z"
   },
   {
    "duration": 28,
    "start_time": "2022-05-20T08:45:35.300Z"
   },
   {
    "duration": 19,
    "start_time": "2022-05-20T08:45:35.330Z"
   },
   {
    "duration": 900,
    "start_time": "2022-05-20T08:45:35.350Z"
   },
   {
    "duration": 546,
    "start_time": "2022-05-20T08:45:36.252Z"
   },
   {
    "duration": 168,
    "start_time": "2022-05-20T08:45:36.800Z"
   },
   {
    "duration": 666,
    "start_time": "2022-05-20T08:45:36.970Z"
   },
   {
    "duration": 46,
    "start_time": "2022-05-20T08:45:37.637Z"
   },
   {
    "duration": 3,
    "start_time": "2022-05-20T08:45:37.685Z"
   },
   {
    "duration": 7,
    "start_time": "2022-05-20T08:45:37.689Z"
   },
   {
    "duration": 10,
    "start_time": "2022-05-20T08:45:37.698Z"
   },
   {
    "duration": 98623,
    "start_time": "2022-05-20T08:45:37.710Z"
   },
   {
    "duration": 194,
    "start_time": "2022-05-20T08:47:16.335Z"
   },
   {
    "duration": 0,
    "start_time": "2022-05-20T08:47:16.530Z"
   },
   {
    "duration": 0,
    "start_time": "2022-05-20T08:47:16.532Z"
   },
   {
    "duration": 29,
    "start_time": "2022-05-20T08:48:00.295Z"
   },
   {
    "duration": 28,
    "start_time": "2022-05-20T08:48:12.497Z"
   },
   {
    "duration": 24539,
    "start_time": "2022-05-20T08:48:17.688Z"
   },
   {
    "duration": 3,
    "start_time": "2022-05-20T08:48:48.115Z"
   },
   {
    "duration": 7,
    "start_time": "2022-05-20T08:54:30.498Z"
   },
   {
    "duration": 5,
    "start_time": "2022-05-20T08:54:53.972Z"
   },
   {
    "duration": 23767,
    "start_time": "2022-05-20T08:56:04.261Z"
   },
   {
    "duration": 1359,
    "start_time": "2022-05-20T08:59:10.410Z"
   },
   {
    "duration": 976,
    "start_time": "2022-05-20T08:59:11.771Z"
   },
   {
    "duration": 30,
    "start_time": "2022-05-20T08:59:12.749Z"
   },
   {
    "duration": 146,
    "start_time": "2022-05-20T08:59:12.781Z"
   },
   {
    "duration": 453,
    "start_time": "2022-05-20T08:59:12.928Z"
   },
   {
    "duration": 589,
    "start_time": "2022-05-20T08:59:13.383Z"
   },
   {
    "duration": 387,
    "start_time": "2022-05-20T08:59:13.974Z"
   },
   {
    "duration": 77,
    "start_time": "2022-05-20T08:59:14.363Z"
   },
   {
    "duration": 7,
    "start_time": "2022-05-20T08:59:14.442Z"
   },
   {
    "duration": 58,
    "start_time": "2022-05-20T08:59:14.453Z"
   },
   {
    "duration": 249,
    "start_time": "2022-05-20T08:59:14.526Z"
   },
   {
    "duration": 28,
    "start_time": "2022-05-20T08:59:14.777Z"
   },
   {
    "duration": 87,
    "start_time": "2022-05-20T08:59:14.808Z"
   },
   {
    "duration": 43,
    "start_time": "2022-05-20T08:59:14.897Z"
   },
   {
    "duration": 246,
    "start_time": "2022-05-20T08:59:14.941Z"
   },
   {
    "duration": 45,
    "start_time": "2022-05-20T08:59:15.189Z"
   },
   {
    "duration": 130,
    "start_time": "2022-05-20T08:59:15.236Z"
   },
   {
    "duration": 44,
    "start_time": "2022-05-20T08:59:15.368Z"
   },
   {
    "duration": 13,
    "start_time": "2022-05-20T08:59:15.426Z"
   },
   {
    "duration": 199,
    "start_time": "2022-05-20T08:59:15.441Z"
   },
   {
    "duration": 32,
    "start_time": "2022-05-20T08:59:15.642Z"
   },
   {
    "duration": 69,
    "start_time": "2022-05-20T08:59:15.677Z"
   },
   {
    "duration": 61,
    "start_time": "2022-05-20T08:59:15.748Z"
   },
   {
    "duration": 8,
    "start_time": "2022-05-20T08:59:15.811Z"
   },
   {
    "duration": 117,
    "start_time": "2022-05-20T08:59:15.821Z"
   },
   {
    "duration": 89,
    "start_time": "2022-05-20T08:59:15.940Z"
   },
   {
    "duration": 122,
    "start_time": "2022-05-20T08:59:16.031Z"
   },
   {
    "duration": 22,
    "start_time": "2022-05-20T08:59:16.157Z"
   },
   {
    "duration": 257,
    "start_time": "2022-05-20T08:59:16.181Z"
   },
   {
    "duration": 86,
    "start_time": "2022-05-20T08:59:16.441Z"
   },
   {
    "duration": 27,
    "start_time": "2022-05-20T08:59:16.528Z"
   },
   {
    "duration": 20,
    "start_time": "2022-05-20T08:59:16.557Z"
   },
   {
    "duration": 938,
    "start_time": "2022-05-20T08:59:16.579Z"
   },
   {
    "duration": 546,
    "start_time": "2022-05-20T08:59:17.526Z"
   },
   {
    "duration": 169,
    "start_time": "2022-05-20T08:59:18.073Z"
   },
   {
    "duration": 665,
    "start_time": "2022-05-20T08:59:18.243Z"
   },
   {
    "duration": 56,
    "start_time": "2022-05-20T08:59:18.910Z"
   },
   {
    "duration": 4,
    "start_time": "2022-05-20T08:59:18.967Z"
   },
   {
    "duration": 20,
    "start_time": "2022-05-20T08:59:18.972Z"
   },
   {
    "duration": 6,
    "start_time": "2022-05-20T08:59:18.993Z"
   },
   {
    "duration": 19796,
    "start_time": "2022-05-20T08:59:19.000Z"
   },
   {
    "duration": 0,
    "start_time": "2022-05-20T08:59:38.798Z"
   },
   {
    "duration": 0,
    "start_time": "2022-05-20T08:59:38.799Z"
   },
   {
    "duration": 0,
    "start_time": "2022-05-20T08:59:38.800Z"
   },
   {
    "duration": 0,
    "start_time": "2022-05-20T08:59:38.801Z"
   },
   {
    "duration": 0,
    "start_time": "2022-05-20T08:59:38.802Z"
   },
   {
    "duration": 1263,
    "start_time": "2022-05-20T08:59:45.964Z"
   },
   {
    "duration": 907,
    "start_time": "2022-05-20T08:59:47.229Z"
   },
   {
    "duration": 24,
    "start_time": "2022-05-20T08:59:48.138Z"
   },
   {
    "duration": 127,
    "start_time": "2022-05-20T08:59:48.164Z"
   },
   {
    "duration": 472,
    "start_time": "2022-05-20T08:59:48.293Z"
   },
   {
    "duration": 566,
    "start_time": "2022-05-20T08:59:48.767Z"
   },
   {
    "duration": 377,
    "start_time": "2022-05-20T08:59:49.335Z"
   },
   {
    "duration": 56,
    "start_time": "2022-05-20T08:59:49.714Z"
   },
   {
    "duration": 4,
    "start_time": "2022-05-20T08:59:49.772Z"
   },
   {
    "duration": 54,
    "start_time": "2022-05-20T08:59:49.779Z"
   },
   {
    "duration": 226,
    "start_time": "2022-05-20T08:59:49.835Z"
   },
   {
    "duration": 28,
    "start_time": "2022-05-20T08:59:50.063Z"
   },
   {
    "duration": 79,
    "start_time": "2022-05-20T08:59:50.092Z"
   },
   {
    "duration": 32,
    "start_time": "2022-05-20T08:59:50.173Z"
   },
   {
    "duration": 244,
    "start_time": "2022-05-20T08:59:50.207Z"
   },
   {
    "duration": 36,
    "start_time": "2022-05-20T08:59:50.453Z"
   },
   {
    "duration": 146,
    "start_time": "2022-05-20T08:59:50.490Z"
   },
   {
    "duration": 38,
    "start_time": "2022-05-20T08:59:50.638Z"
   },
   {
    "duration": 14,
    "start_time": "2022-05-20T08:59:50.678Z"
   },
   {
    "duration": 218,
    "start_time": "2022-05-20T08:59:50.694Z"
   },
   {
    "duration": 41,
    "start_time": "2022-05-20T08:59:50.914Z"
   },
   {
    "duration": 74,
    "start_time": "2022-05-20T08:59:50.956Z"
   },
   {
    "duration": 34,
    "start_time": "2022-05-20T08:59:51.032Z"
   },
   {
    "duration": 11,
    "start_time": "2022-05-20T08:59:51.068Z"
   },
   {
    "duration": 123,
    "start_time": "2022-05-20T08:59:51.081Z"
   },
   {
    "duration": 88,
    "start_time": "2022-05-20T08:59:51.206Z"
   },
   {
    "duration": 137,
    "start_time": "2022-05-20T08:59:51.295Z"
   },
   {
    "duration": 23,
    "start_time": "2022-05-20T08:59:51.435Z"
   },
   {
    "duration": 225,
    "start_time": "2022-05-20T08:59:51.459Z"
   },
   {
    "duration": 82,
    "start_time": "2022-05-20T08:59:51.686Z"
   },
   {
    "duration": 21,
    "start_time": "2022-05-20T08:59:51.769Z"
   },
   {
    "duration": 36,
    "start_time": "2022-05-20T08:59:51.791Z"
   },
   {
    "duration": 978,
    "start_time": "2022-05-20T08:59:51.829Z"
   },
   {
    "duration": 569,
    "start_time": "2022-05-20T08:59:52.809Z"
   },
   {
    "duration": 172,
    "start_time": "2022-05-20T08:59:53.379Z"
   },
   {
    "duration": 680,
    "start_time": "2022-05-20T08:59:53.552Z"
   },
   {
    "duration": 45,
    "start_time": "2022-05-20T08:59:54.234Z"
   },
   {
    "duration": 3,
    "start_time": "2022-05-20T08:59:54.281Z"
   },
   {
    "duration": 7,
    "start_time": "2022-05-20T08:59:54.285Z"
   },
   {
    "duration": 6,
    "start_time": "2022-05-20T08:59:54.293Z"
   },
   {
    "duration": 109134,
    "start_time": "2022-05-20T08:59:54.300Z"
   },
   {
    "duration": 91,
    "start_time": "2022-05-20T09:01:43.436Z"
   },
   {
    "duration": 25997,
    "start_time": "2022-05-20T09:01:43.529Z"
   },
   {
    "duration": 6,
    "start_time": "2022-05-20T09:02:09.529Z"
   },
   {
    "duration": 6,
    "start_time": "2022-05-20T09:02:09.627Z"
   },
   {
    "duration": 227,
    "start_time": "2022-05-20T09:02:09.635Z"
   },
   {
    "duration": 5,
    "start_time": "2022-05-20T09:02:42.636Z"
   },
   {
    "duration": 5,
    "start_time": "2022-05-20T09:02:55.528Z"
   },
   {
    "duration": 25712,
    "start_time": "2022-05-20T09:02:55.916Z"
   },
   {
    "duration": 4927,
    "start_time": "2022-05-20T09:07:44.222Z"
   },
   {
    "duration": 5207,
    "start_time": "2022-05-20T09:08:57.452Z"
   },
   {
    "duration": 5048,
    "start_time": "2022-05-20T09:09:15.737Z"
   },
   {
    "duration": 41157,
    "start_time": "2022-05-20T09:10:35.786Z"
   },
   {
    "duration": 1351,
    "start_time": "2022-05-20T09:20:03.026Z"
   },
   {
    "duration": 1046,
    "start_time": "2022-05-20T09:20:04.380Z"
   },
   {
    "duration": 32,
    "start_time": "2022-05-20T09:20:05.428Z"
   },
   {
    "duration": 159,
    "start_time": "2022-05-20T09:20:05.463Z"
   },
   {
    "duration": 481,
    "start_time": "2022-05-20T09:20:05.625Z"
   },
   {
    "duration": 571,
    "start_time": "2022-05-20T09:20:06.108Z"
   },
   {
    "duration": 389,
    "start_time": "2022-05-20T09:20:06.680Z"
   },
   {
    "duration": 61,
    "start_time": "2022-05-20T09:20:07.071Z"
   },
   {
    "duration": 5,
    "start_time": "2022-05-20T09:20:07.134Z"
   },
   {
    "duration": 56,
    "start_time": "2022-05-20T09:20:07.142Z"
   },
   {
    "duration": 243,
    "start_time": "2022-05-20T09:20:07.200Z"
   },
   {
    "duration": 28,
    "start_time": "2022-05-20T09:20:07.445Z"
   },
   {
    "duration": 79,
    "start_time": "2022-05-20T09:20:07.474Z"
   },
   {
    "duration": 32,
    "start_time": "2022-05-20T09:20:07.555Z"
   },
   {
    "duration": 250,
    "start_time": "2022-05-20T09:20:07.589Z"
   },
   {
    "duration": 36,
    "start_time": "2022-05-20T09:20:07.841Z"
   },
   {
    "duration": 144,
    "start_time": "2022-05-20T09:20:07.880Z"
   },
   {
    "duration": 39,
    "start_time": "2022-05-20T09:20:08.025Z"
   },
   {
    "duration": 14,
    "start_time": "2022-05-20T09:20:08.065Z"
   },
   {
    "duration": 211,
    "start_time": "2022-05-20T09:20:08.081Z"
   },
   {
    "duration": 39,
    "start_time": "2022-05-20T09:20:08.294Z"
   },
   {
    "duration": 36,
    "start_time": "2022-05-20T09:20:08.335Z"
   },
   {
    "duration": 31,
    "start_time": "2022-05-20T09:20:08.373Z"
   },
   {
    "duration": 28,
    "start_time": "2022-05-20T09:20:08.405Z"
   },
   {
    "duration": 122,
    "start_time": "2022-05-20T09:20:08.435Z"
   },
   {
    "duration": 90,
    "start_time": "2022-05-20T09:20:08.559Z"
   },
   {
    "duration": 122,
    "start_time": "2022-05-20T09:20:08.651Z"
   },
   {
    "duration": 23,
    "start_time": "2022-05-20T09:20:08.777Z"
   },
   {
    "duration": 224,
    "start_time": "2022-05-20T09:20:08.802Z"
   },
   {
    "duration": 85,
    "start_time": "2022-05-20T09:20:09.028Z"
   },
   {
    "duration": 23,
    "start_time": "2022-05-20T09:20:09.125Z"
   },
   {
    "duration": 19,
    "start_time": "2022-05-20T09:20:09.149Z"
   },
   {
    "duration": 890,
    "start_time": "2022-05-20T09:20:09.170Z"
   },
   {
    "duration": 542,
    "start_time": "2022-05-20T09:20:10.062Z"
   },
   {
    "duration": 166,
    "start_time": "2022-05-20T09:20:10.606Z"
   },
   {
    "duration": 692,
    "start_time": "2022-05-20T09:20:10.774Z"
   },
   {
    "duration": 60,
    "start_time": "2022-05-20T09:20:11.468Z"
   },
   {
    "duration": 4,
    "start_time": "2022-05-20T09:20:11.530Z"
   },
   {
    "duration": 18,
    "start_time": "2022-05-20T09:20:11.535Z"
   },
   {
    "duration": 6,
    "start_time": "2022-05-20T09:20:11.555Z"
   },
   {
    "duration": 99264,
    "start_time": "2022-05-20T09:20:11.563Z"
   },
   {
    "duration": 7,
    "start_time": "2022-05-20T09:21:50.829Z"
   },
   {
    "duration": 25454,
    "start_time": "2022-05-20T09:21:50.927Z"
   },
   {
    "duration": 0,
    "start_time": "2022-05-20T09:22:16.383Z"
   },
   {
    "duration": 0,
    "start_time": "2022-05-20T09:22:16.384Z"
   },
   {
    "duration": 0,
    "start_time": "2022-05-20T09:22:16.385Z"
   },
   {
    "duration": 1288,
    "start_time": "2022-05-20T09:22:33.962Z"
   },
   {
    "duration": 954,
    "start_time": "2022-05-20T09:22:35.253Z"
   },
   {
    "duration": 30,
    "start_time": "2022-05-20T09:22:36.212Z"
   },
   {
    "duration": 125,
    "start_time": "2022-05-20T09:22:36.243Z"
   },
   {
    "duration": 475,
    "start_time": "2022-05-20T09:22:36.369Z"
   },
   {
    "duration": 587,
    "start_time": "2022-05-20T09:22:36.846Z"
   },
   {
    "duration": 366,
    "start_time": "2022-05-20T09:22:37.435Z"
   },
   {
    "duration": 63,
    "start_time": "2022-05-20T09:22:37.802Z"
   },
   {
    "duration": 4,
    "start_time": "2022-05-20T09:22:37.868Z"
   },
   {
    "duration": 34,
    "start_time": "2022-05-20T09:22:37.873Z"
   },
   {
    "duration": 235,
    "start_time": "2022-05-20T09:22:37.909Z"
   },
   {
    "duration": 26,
    "start_time": "2022-05-20T09:22:38.146Z"
   },
   {
    "duration": 71,
    "start_time": "2022-05-20T09:22:38.174Z"
   },
   {
    "duration": 32,
    "start_time": "2022-05-20T09:22:38.247Z"
   },
   {
    "duration": 239,
    "start_time": "2022-05-20T09:22:38.281Z"
   },
   {
    "duration": 39,
    "start_time": "2022-05-20T09:22:38.522Z"
   },
   {
    "duration": 143,
    "start_time": "2022-05-20T09:22:38.563Z"
   },
   {
    "duration": 47,
    "start_time": "2022-05-20T09:22:38.708Z"
   },
   {
    "duration": 15,
    "start_time": "2022-05-20T09:22:38.757Z"
   },
   {
    "duration": 206,
    "start_time": "2022-05-20T09:22:38.774Z"
   },
   {
    "duration": 45,
    "start_time": "2022-05-20T09:22:38.982Z"
   },
   {
    "duration": 36,
    "start_time": "2022-05-20T09:22:39.028Z"
   },
   {
    "duration": 39,
    "start_time": "2022-05-20T09:22:39.066Z"
   },
   {
    "duration": 27,
    "start_time": "2022-05-20T09:22:39.107Z"
   },
   {
    "duration": 114,
    "start_time": "2022-05-20T09:22:39.136Z"
   },
   {
    "duration": 84,
    "start_time": "2022-05-20T09:22:39.251Z"
   },
   {
    "duration": 116,
    "start_time": "2022-05-20T09:22:39.340Z"
   },
   {
    "duration": 22,
    "start_time": "2022-05-20T09:22:39.458Z"
   },
   {
    "duration": 259,
    "start_time": "2022-05-20T09:22:39.482Z"
   },
   {
    "duration": 97,
    "start_time": "2022-05-20T09:22:39.743Z"
   },
   {
    "duration": 20,
    "start_time": "2022-05-20T09:22:39.843Z"
   },
   {
    "duration": 19,
    "start_time": "2022-05-20T09:22:39.864Z"
   },
   {
    "duration": 858,
    "start_time": "2022-05-20T09:22:39.885Z"
   },
   {
    "duration": 544,
    "start_time": "2022-05-20T09:22:40.745Z"
   },
   {
    "duration": 158,
    "start_time": "2022-05-20T09:22:41.290Z"
   },
   {
    "duration": 672,
    "start_time": "2022-05-20T09:22:41.450Z"
   },
   {
    "duration": 54,
    "start_time": "2022-05-20T09:22:42.126Z"
   },
   {
    "duration": 4,
    "start_time": "2022-05-20T09:22:42.182Z"
   },
   {
    "duration": 7,
    "start_time": "2022-05-20T09:22:42.187Z"
   },
   {
    "duration": 13,
    "start_time": "2022-05-20T09:22:42.196Z"
   },
   {
    "duration": 98725,
    "start_time": "2022-05-20T09:22:42.211Z"
   },
   {
    "duration": 92,
    "start_time": "2022-05-20T09:24:20.938Z"
   },
   {
    "duration": 28795,
    "start_time": "2022-05-20T09:24:21.033Z"
   },
   {
    "duration": 39046,
    "start_time": "2022-05-20T09:24:49.830Z"
   },
   {
    "duration": 651,
    "start_time": "2022-05-20T09:25:28.878Z"
   },
   {
    "duration": 225,
    "start_time": "2022-05-20T09:25:29.531Z"
   },
   {
    "duration": 615,
    "start_time": "2022-05-20T09:26:35.208Z"
   },
   {
    "duration": 647,
    "start_time": "2022-05-20T09:27:43.066Z"
   },
   {
    "duration": 608,
    "start_time": "2022-05-20T09:27:53.584Z"
   },
   {
    "duration": 1288,
    "start_time": "2022-05-20T09:29:47.451Z"
   },
   {
    "duration": 947,
    "start_time": "2022-05-20T09:29:48.741Z"
   },
   {
    "duration": 24,
    "start_time": "2022-05-20T09:29:49.690Z"
   },
   {
    "duration": 124,
    "start_time": "2022-05-20T09:29:49.726Z"
   },
   {
    "duration": 487,
    "start_time": "2022-05-20T09:29:49.852Z"
   },
   {
    "duration": 594,
    "start_time": "2022-05-20T09:29:50.341Z"
   },
   {
    "duration": 367,
    "start_time": "2022-05-20T09:29:50.937Z"
   },
   {
    "duration": 63,
    "start_time": "2022-05-20T09:29:51.305Z"
   },
   {
    "duration": 4,
    "start_time": "2022-05-20T09:29:51.370Z"
   },
   {
    "duration": 45,
    "start_time": "2022-05-20T09:29:51.376Z"
   },
   {
    "duration": 231,
    "start_time": "2022-05-20T09:29:51.426Z"
   },
   {
    "duration": 26,
    "start_time": "2022-05-20T09:29:51.659Z"
   },
   {
    "duration": 89,
    "start_time": "2022-05-20T09:29:51.687Z"
   },
   {
    "duration": 33,
    "start_time": "2022-05-20T09:29:51.778Z"
   },
   {
    "duration": 242,
    "start_time": "2022-05-20T09:29:51.813Z"
   },
   {
    "duration": 40,
    "start_time": "2022-05-20T09:29:52.057Z"
   },
   {
    "duration": 159,
    "start_time": "2022-05-20T09:29:52.099Z"
   },
   {
    "duration": 37,
    "start_time": "2022-05-20T09:29:52.259Z"
   },
   {
    "duration": 29,
    "start_time": "2022-05-20T09:29:52.298Z"
   },
   {
    "duration": 204,
    "start_time": "2022-05-20T09:29:52.329Z"
   },
   {
    "duration": 33,
    "start_time": "2022-05-20T09:29:52.535Z"
   },
   {
    "duration": 59,
    "start_time": "2022-05-20T09:29:52.569Z"
   },
   {
    "duration": 52,
    "start_time": "2022-05-20T09:29:52.630Z"
   },
   {
    "duration": 20,
    "start_time": "2022-05-20T09:29:52.684Z"
   },
   {
    "duration": 136,
    "start_time": "2022-05-20T09:29:52.705Z"
   },
   {
    "duration": 85,
    "start_time": "2022-05-20T09:29:52.843Z"
   },
   {
    "duration": 120,
    "start_time": "2022-05-20T09:29:52.929Z"
   },
   {
    "duration": 23,
    "start_time": "2022-05-20T09:29:53.053Z"
   },
   {
    "duration": 225,
    "start_time": "2022-05-20T09:29:53.077Z"
   },
   {
    "duration": 85,
    "start_time": "2022-05-20T09:29:53.304Z"
   },
   {
    "duration": 41,
    "start_time": "2022-05-20T09:29:53.391Z"
   },
   {
    "duration": 20,
    "start_time": "2022-05-20T09:29:53.434Z"
   },
   {
    "duration": 901,
    "start_time": "2022-05-20T09:29:53.456Z"
   },
   {
    "duration": 570,
    "start_time": "2022-05-20T09:29:54.359Z"
   },
   {
    "duration": 166,
    "start_time": "2022-05-20T09:29:54.931Z"
   },
   {
    "duration": 681,
    "start_time": "2022-05-20T09:29:55.099Z"
   },
   {
    "duration": 65,
    "start_time": "2022-05-20T09:29:55.782Z"
   },
   {
    "duration": 4,
    "start_time": "2022-05-20T09:29:55.849Z"
   },
   {
    "duration": 8,
    "start_time": "2022-05-20T09:29:55.855Z"
   },
   {
    "duration": 7,
    "start_time": "2022-05-20T09:29:55.865Z"
   },
   {
    "duration": 100364,
    "start_time": "2022-05-20T09:29:55.874Z"
   },
   {
    "duration": 7,
    "start_time": "2022-05-20T09:31:36.326Z"
   },
   {
    "duration": 25601,
    "start_time": "2022-05-20T09:31:36.426Z"
   },
   {
    "duration": 38644,
    "start_time": "2022-05-20T09:32:02.029Z"
   },
   {
    "duration": 636,
    "start_time": "2022-05-20T09:32:40.675Z"
   },
   {
    "duration": 213,
    "start_time": "2022-05-20T09:32:41.313Z"
   },
   {
    "duration": 609,
    "start_time": "2022-05-20T09:34:35.087Z"
   },
   {
    "duration": 5,
    "start_time": "2022-05-20T09:35:44.807Z"
   },
   {
    "duration": 604,
    "start_time": "2022-05-20T09:35:51.081Z"
   },
   {
    "duration": 666,
    "start_time": "2022-05-20T09:36:55.568Z"
   },
   {
    "duration": 9791577,
    "start_time": "2022-05-20T12:31:31.492Z"
   },
   {
    "duration": 666029,
    "start_time": "2022-05-20T17:34:28.785Z"
   },
   {
    "duration": 12,
    "start_time": "2022-05-20T17:45:34.816Z"
   },
   {
    "duration": 11,
    "start_time": "2022-05-20T17:46:57.199Z"
   },
   {
    "duration": 127151,
    "start_time": "2022-05-20T17:47:06.607Z"
   },
   {
    "duration": 1285,
    "start_time": "2022-05-20T17:50:46.930Z"
   },
   {
    "duration": 914,
    "start_time": "2022-05-20T17:50:48.217Z"
   },
   {
    "duration": 23,
    "start_time": "2022-05-20T17:50:49.133Z"
   },
   {
    "duration": 137,
    "start_time": "2022-05-20T17:50:49.158Z"
   },
   {
    "duration": 471,
    "start_time": "2022-05-20T17:50:49.297Z"
   },
   {
    "duration": 612,
    "start_time": "2022-05-20T17:50:49.770Z"
   },
   {
    "duration": 365,
    "start_time": "2022-05-20T17:50:50.384Z"
   },
   {
    "duration": 56,
    "start_time": "2022-05-20T17:50:50.751Z"
   },
   {
    "duration": 18,
    "start_time": "2022-05-20T17:50:50.809Z"
   },
   {
    "duration": 38,
    "start_time": "2022-05-20T17:50:50.829Z"
   },
   {
    "duration": 245,
    "start_time": "2022-05-20T17:50:50.869Z"
   },
   {
    "duration": 32,
    "start_time": "2022-05-20T17:50:51.116Z"
   },
   {
    "duration": 76,
    "start_time": "2022-05-20T17:50:51.150Z"
   },
   {
    "duration": 32,
    "start_time": "2022-05-20T17:50:51.228Z"
   },
   {
    "duration": 229,
    "start_time": "2022-05-20T17:50:51.262Z"
   },
   {
    "duration": 46,
    "start_time": "2022-05-20T17:50:51.493Z"
   },
   {
    "duration": 137,
    "start_time": "2022-05-20T17:50:51.540Z"
   },
   {
    "duration": 48,
    "start_time": "2022-05-20T17:50:51.679Z"
   },
   {
    "duration": 14,
    "start_time": "2022-05-20T17:50:51.729Z"
   },
   {
    "duration": 208,
    "start_time": "2022-05-20T17:50:51.746Z"
   },
   {
    "duration": 34,
    "start_time": "2022-05-20T17:50:51.956Z"
   },
   {
    "duration": 55,
    "start_time": "2022-05-20T17:50:51.992Z"
   },
   {
    "duration": 33,
    "start_time": "2022-05-20T17:50:52.049Z"
   },
   {
    "duration": 26,
    "start_time": "2022-05-20T17:50:52.083Z"
   },
   {
    "duration": 124,
    "start_time": "2022-05-20T17:50:52.110Z"
   },
   {
    "duration": 74,
    "start_time": "2022-05-20T17:50:52.235Z"
   },
   {
    "duration": 125,
    "start_time": "2022-05-20T17:50:52.311Z"
   },
   {
    "duration": 22,
    "start_time": "2022-05-20T17:50:52.440Z"
   },
   {
    "duration": 239,
    "start_time": "2022-05-20T17:50:52.464Z"
   },
   {
    "duration": 90,
    "start_time": "2022-05-20T17:50:52.705Z"
   },
   {
    "duration": 37,
    "start_time": "2022-05-20T17:50:52.797Z"
   },
   {
    "duration": 24,
    "start_time": "2022-05-20T17:50:52.837Z"
   },
   {
    "duration": 888,
    "start_time": "2022-05-20T17:50:52.864Z"
   },
   {
    "duration": 549,
    "start_time": "2022-05-20T17:50:53.754Z"
   },
   {
    "duration": 195,
    "start_time": "2022-05-20T17:50:54.304Z"
   },
   {
    "duration": 674,
    "start_time": "2022-05-20T17:50:54.501Z"
   },
   {
    "duration": 60,
    "start_time": "2022-05-20T17:50:55.176Z"
   },
   {
    "duration": 4,
    "start_time": "2022-05-20T17:50:55.237Z"
   },
   {
    "duration": 8,
    "start_time": "2022-05-20T17:50:55.242Z"
   },
   {
    "duration": 6,
    "start_time": "2022-05-20T17:50:55.252Z"
   },
   {
    "duration": 127873,
    "start_time": "2022-05-20T17:50:55.260Z"
   },
   {
    "duration": 91,
    "start_time": "2022-05-20T17:53:03.136Z"
   },
   {
    "duration": 31300,
    "start_time": "2022-05-20T17:53:03.229Z"
   },
   {
    "duration": 38105,
    "start_time": "2022-05-20T17:53:34.531Z"
   },
   {
    "duration": 697,
    "start_time": "2022-05-20T17:54:12.638Z"
   },
   {
    "duration": 4392555,
    "start_time": "2022-05-20T17:54:13.337Z"
   },
   {
    "duration": 213,
    "start_time": "2022-05-20T19:09:41.494Z"
   },
   {
    "duration": 249832,
    "start_time": "2022-05-20T19:09:41.709Z"
   },
   {
    "duration": 1314,
    "start_time": "2022-05-20T19:56:20.526Z"
   },
   {
    "duration": 1067,
    "start_time": "2022-05-20T19:56:21.842Z"
   },
   {
    "duration": 33,
    "start_time": "2022-05-20T19:56:22.911Z"
   },
   {
    "duration": 130,
    "start_time": "2022-05-20T19:56:22.946Z"
   },
   {
    "duration": 564,
    "start_time": "2022-05-20T19:56:23.078Z"
   },
   {
    "duration": 672,
    "start_time": "2022-05-20T19:56:23.644Z"
   },
   {
    "duration": 447,
    "start_time": "2022-05-20T19:56:24.318Z"
   },
   {
    "duration": 74,
    "start_time": "2022-05-20T19:56:24.766Z"
   },
   {
    "duration": 5,
    "start_time": "2022-05-20T19:56:24.842Z"
   },
   {
    "duration": 36,
    "start_time": "2022-05-20T19:56:24.850Z"
   },
   {
    "duration": 257,
    "start_time": "2022-05-20T19:56:24.887Z"
   },
   {
    "duration": 32,
    "start_time": "2022-05-20T19:56:25.146Z"
   },
   {
    "duration": 90,
    "start_time": "2022-05-20T19:56:25.180Z"
   },
   {
    "duration": 34,
    "start_time": "2022-05-20T19:56:25.272Z"
   },
   {
    "duration": 285,
    "start_time": "2022-05-20T19:56:25.308Z"
   },
   {
    "duration": 51,
    "start_time": "2022-05-20T19:56:25.595Z"
   },
   {
    "duration": 151,
    "start_time": "2022-05-20T19:56:25.648Z"
   },
   {
    "duration": 56,
    "start_time": "2022-05-20T19:56:25.801Z"
   },
   {
    "duration": 15,
    "start_time": "2022-05-20T19:56:25.858Z"
   },
   {
    "duration": 232,
    "start_time": "2022-05-20T19:56:25.874Z"
   },
   {
    "duration": 51,
    "start_time": "2022-05-20T19:56:26.107Z"
   },
   {
    "duration": 35,
    "start_time": "2022-05-20T19:56:26.159Z"
   },
   {
    "duration": 56,
    "start_time": "2022-05-20T19:56:26.196Z"
   },
   {
    "duration": 10,
    "start_time": "2022-05-20T19:56:26.254Z"
   },
   {
    "duration": 152,
    "start_time": "2022-05-20T19:56:26.266Z"
   },
   {
    "duration": 107,
    "start_time": "2022-05-20T19:56:26.420Z"
   },
   {
    "duration": 140,
    "start_time": "2022-05-20T19:56:26.531Z"
   },
   {
    "duration": 23,
    "start_time": "2022-05-20T19:56:26.675Z"
   },
   {
    "duration": 286,
    "start_time": "2022-05-20T19:56:26.700Z"
   },
   {
    "duration": 103,
    "start_time": "2022-05-20T19:56:26.988Z"
   },
   {
    "duration": 49,
    "start_time": "2022-05-20T19:56:27.093Z"
   },
   {
    "duration": 28,
    "start_time": "2022-05-20T19:56:27.145Z"
   },
   {
    "duration": 984,
    "start_time": "2022-05-20T19:56:27.175Z"
   },
   {
    "duration": 588,
    "start_time": "2022-05-20T19:56:28.160Z"
   },
   {
    "duration": 178,
    "start_time": "2022-05-20T19:56:28.750Z"
   },
   {
    "duration": 727,
    "start_time": "2022-05-20T19:56:28.936Z"
   },
   {
    "duration": 50,
    "start_time": "2022-05-20T19:56:29.665Z"
   },
   {
    "duration": 3,
    "start_time": "2022-05-20T19:56:29.738Z"
   },
   {
    "duration": 11,
    "start_time": "2022-05-20T19:56:29.742Z"
   },
   {
    "duration": 9,
    "start_time": "2022-05-20T19:56:29.754Z"
   },
   {
    "duration": 126769,
    "start_time": "2022-05-20T19:56:29.765Z"
   },
   {
    "duration": 93,
    "start_time": "2022-05-20T19:58:36.536Z"
   },
   {
    "duration": 27997,
    "start_time": "2022-05-20T19:58:36.631Z"
   },
   {
    "duration": 37748,
    "start_time": "2022-05-20T19:59:04.630Z"
   },
   {
    "duration": 692,
    "start_time": "2022-05-20T19:59:42.380Z"
   },
   {
    "duration": 19733149,
    "start_time": "2022-05-20T19:59:43.074Z"
   },
   {
    "duration": 216621,
    "start_time": "2022-05-21T01:28:36.225Z"
   },
   {
    "duration": 221,
    "start_time": "2022-05-21T01:32:12.847Z"
   },
   {
    "duration": 6961134,
    "start_time": "2022-05-21T01:32:13.070Z"
   },
   {
    "duration": 3898533,
    "start_time": "2022-05-21T03:28:14.206Z"
   },
   {
    "duration": 1782662,
    "start_time": "2022-05-21T04:33:12.740Z"
   },
   {
    "duration": 12,
    "start_time": "2022-05-21T05:02:55.425Z"
   },
   {
    "duration": 274411,
    "start_time": "2022-05-21T06:40:34.862Z"
   },
   {
    "duration": 599297,
    "start_time": "2022-05-21T06:45:09.276Z"
   },
   {
    "duration": 4,
    "start_time": "2022-05-21T06:56:09.701Z"
   },
   {
    "duration": 13,
    "start_time": "2022-05-21T06:56:43.660Z"
   },
   {
    "duration": 12,
    "start_time": "2022-05-21T06:56:57.355Z"
   },
   {
    "duration": 10,
    "start_time": "2022-05-21T06:57:08.269Z"
   },
   {
    "duration": 5,
    "start_time": "2022-05-21T06:57:22.657Z"
   },
   {
    "duration": 1047893,
    "start_time": "2022-05-21T07:00:18.408Z"
   },
   {
    "duration": 1285,
    "start_time": "2022-05-21T07:33:55.468Z"
   },
   {
    "duration": 1035,
    "start_time": "2022-05-21T07:33:56.755Z"
   },
   {
    "duration": 36,
    "start_time": "2022-05-21T07:33:57.791Z"
   },
   {
    "duration": 125,
    "start_time": "2022-05-21T07:33:57.828Z"
   },
   {
    "duration": 529,
    "start_time": "2022-05-21T07:33:57.955Z"
   },
   {
    "duration": 634,
    "start_time": "2022-05-21T07:33:58.485Z"
   },
   {
    "duration": 397,
    "start_time": "2022-05-21T07:33:59.121Z"
   },
   {
    "duration": 58,
    "start_time": "2022-05-21T07:33:59.520Z"
   },
   {
    "duration": 4,
    "start_time": "2022-05-21T07:33:59.580Z"
   },
   {
    "duration": 49,
    "start_time": "2022-05-21T07:33:59.585Z"
   },
   {
    "duration": 258,
    "start_time": "2022-05-21T07:33:59.635Z"
   },
   {
    "duration": 34,
    "start_time": "2022-05-21T07:33:59.896Z"
   },
   {
    "duration": 75,
    "start_time": "2022-05-21T07:33:59.932Z"
   },
   {
    "duration": 45,
    "start_time": "2022-05-21T07:34:00.010Z"
   },
   {
    "duration": 252,
    "start_time": "2022-05-21T07:34:00.057Z"
   },
   {
    "duration": 43,
    "start_time": "2022-05-21T07:34:00.311Z"
   },
   {
    "duration": 134,
    "start_time": "2022-05-21T07:34:00.356Z"
   },
   {
    "duration": 50,
    "start_time": "2022-05-21T07:34:00.492Z"
   },
   {
    "duration": 14,
    "start_time": "2022-05-21T07:34:00.544Z"
   },
   {
    "duration": 215,
    "start_time": "2022-05-21T07:34:00.560Z"
   },
   {
    "duration": 33,
    "start_time": "2022-05-21T07:34:00.776Z"
   },
   {
    "duration": 47,
    "start_time": "2022-05-21T07:34:00.810Z"
   },
   {
    "duration": 48,
    "start_time": "2022-05-21T07:34:00.859Z"
   },
   {
    "duration": 10,
    "start_time": "2022-05-21T07:34:00.910Z"
   },
   {
    "duration": 118,
    "start_time": "2022-05-21T07:34:00.921Z"
   },
   {
    "duration": 105,
    "start_time": "2022-05-21T07:34:01.041Z"
   },
   {
    "duration": 112,
    "start_time": "2022-05-21T07:34:01.148Z"
   },
   {
    "duration": 50,
    "start_time": "2022-05-21T07:34:01.262Z"
   },
   {
    "duration": 223,
    "start_time": "2022-05-21T07:34:01.314Z"
   },
   {
    "duration": 105634,
    "start_time": "2022-05-21T07:34:04.093Z"
   },
   {
    "duration": 7,
    "start_time": "2022-05-21T07:35:49.730Z"
   },
   {
    "duration": 28403,
    "start_time": "2022-05-21T07:35:49.827Z"
   },
   {
    "duration": 1259,
    "start_time": "2022-05-21T07:36:40.876Z"
   },
   {
    "duration": 958,
    "start_time": "2022-05-21T07:36:42.137Z"
   },
   {
    "duration": 30,
    "start_time": "2022-05-21T07:36:43.097Z"
   },
   {
    "duration": 123,
    "start_time": "2022-05-21T07:36:43.129Z"
   },
   {
    "duration": 477,
    "start_time": "2022-05-21T07:36:43.253Z"
   },
   {
    "duration": 602,
    "start_time": "2022-05-21T07:36:43.732Z"
   },
   {
    "duration": 411,
    "start_time": "2022-05-21T07:36:44.336Z"
   },
   {
    "duration": 54,
    "start_time": "2022-05-21T07:36:44.748Z"
   },
   {
    "duration": 5,
    "start_time": "2022-05-21T07:36:44.803Z"
   },
   {
    "duration": 49,
    "start_time": "2022-05-21T07:36:44.810Z"
   },
   {
    "duration": 244,
    "start_time": "2022-05-21T07:36:44.860Z"
   },
   {
    "duration": 33,
    "start_time": "2022-05-21T07:36:45.105Z"
   },
   {
    "duration": 66,
    "start_time": "2022-05-21T07:36:45.139Z"
   },
   {
    "duration": 47,
    "start_time": "2022-05-21T07:36:45.207Z"
   },
   {
    "duration": 255,
    "start_time": "2022-05-21T07:36:45.256Z"
   },
   {
    "duration": 51,
    "start_time": "2022-05-21T07:36:45.512Z"
   },
   {
    "duration": 139,
    "start_time": "2022-05-21T07:36:45.564Z"
   },
   {
    "duration": 48,
    "start_time": "2022-05-21T07:36:45.705Z"
   },
   {
    "duration": 14,
    "start_time": "2022-05-21T07:36:45.755Z"
   },
   {
    "duration": 219,
    "start_time": "2022-05-21T07:36:45.771Z"
   },
   {
    "duration": 40,
    "start_time": "2022-05-21T07:36:45.991Z"
   },
   {
    "duration": 44,
    "start_time": "2022-05-21T07:36:46.033Z"
   },
   {
    "duration": 36,
    "start_time": "2022-05-21T07:36:46.078Z"
   },
   {
    "duration": 21,
    "start_time": "2022-05-21T07:36:46.115Z"
   },
   {
    "duration": 117,
    "start_time": "2022-05-21T07:36:46.137Z"
   },
   {
    "duration": 97,
    "start_time": "2022-05-21T07:36:46.255Z"
   },
   {
    "duration": 121,
    "start_time": "2022-05-21T07:36:46.353Z"
   },
   {
    "duration": 24,
    "start_time": "2022-05-21T07:36:46.477Z"
   },
   {
    "duration": 222,
    "start_time": "2022-05-21T07:36:46.502Z"
   },
   {
    "duration": 84,
    "start_time": "2022-05-21T07:36:46.726Z"
   },
   {
    "duration": 30,
    "start_time": "2022-05-21T07:36:46.813Z"
   },
   {
    "duration": 18,
    "start_time": "2022-05-21T07:36:46.845Z"
   },
   {
    "duration": 876,
    "start_time": "2022-05-21T07:36:46.865Z"
   },
   {
    "duration": 551,
    "start_time": "2022-05-21T07:36:47.743Z"
   },
   {
    "duration": 173,
    "start_time": "2022-05-21T07:36:48.296Z"
   },
   {
    "duration": 664,
    "start_time": "2022-05-21T07:36:48.472Z"
   },
   {
    "duration": 45,
    "start_time": "2022-05-21T07:36:49.138Z"
   },
   {
    "duration": 4,
    "start_time": "2022-05-21T07:36:49.185Z"
   },
   {
    "duration": 14,
    "start_time": "2022-05-21T07:36:49.190Z"
   },
   {
    "duration": 10,
    "start_time": "2022-05-21T07:36:49.206Z"
   },
   {
    "duration": 99110,
    "start_time": "2022-05-21T07:36:49.217Z"
   },
   {
    "duration": 96,
    "start_time": "2022-05-21T07:38:28.330Z"
   },
   {
    "duration": 23698,
    "start_time": "2022-05-21T07:38:28.428Z"
   },
   {
    "duration": 38958,
    "start_time": "2022-05-21T07:38:52.128Z"
   },
   {
    "duration": 669,
    "start_time": "2022-05-21T07:39:31.088Z"
   },
   {
    "duration": 1310,
    "start_time": "2022-05-21T08:10:42.022Z"
   },
   {
    "duration": 973,
    "start_time": "2022-05-21T08:10:43.334Z"
   },
   {
    "duration": 30,
    "start_time": "2022-05-21T08:10:44.309Z"
   },
   {
    "duration": 154,
    "start_time": "2022-05-21T08:10:44.340Z"
   },
   {
    "duration": 558,
    "start_time": "2022-05-21T08:10:44.496Z"
   },
   {
    "duration": 652,
    "start_time": "2022-05-21T08:10:45.056Z"
   },
   {
    "duration": 399,
    "start_time": "2022-05-21T08:10:45.710Z"
   },
   {
    "duration": 63,
    "start_time": "2022-05-21T08:10:46.110Z"
   },
   {
    "duration": 4,
    "start_time": "2022-05-21T08:10:46.175Z"
   },
   {
    "duration": 49,
    "start_time": "2022-05-21T08:10:46.181Z"
   },
   {
    "duration": 257,
    "start_time": "2022-05-21T08:10:46.232Z"
   },
   {
    "duration": 36,
    "start_time": "2022-05-21T08:10:46.491Z"
   },
   {
    "duration": 65,
    "start_time": "2022-05-21T08:10:46.529Z"
   },
   {
    "duration": 48,
    "start_time": "2022-05-21T08:10:46.597Z"
   },
   {
    "duration": 251,
    "start_time": "2022-05-21T08:10:46.647Z"
   },
   {
    "duration": 49,
    "start_time": "2022-05-21T08:10:46.900Z"
   },
   {
    "duration": 138,
    "start_time": "2022-05-21T08:10:46.951Z"
   },
   {
    "duration": 50,
    "start_time": "2022-05-21T08:10:47.091Z"
   },
   {
    "duration": 14,
    "start_time": "2022-05-21T08:10:47.143Z"
   },
   {
    "duration": 212,
    "start_time": "2022-05-21T08:10:47.159Z"
   },
   {
    "duration": 54,
    "start_time": "2022-05-21T08:10:47.373Z"
   },
   {
    "duration": 35,
    "start_time": "2022-05-21T08:10:47.429Z"
   },
   {
    "duration": 38,
    "start_time": "2022-05-21T08:10:47.465Z"
   },
   {
    "duration": 22,
    "start_time": "2022-05-21T08:10:47.505Z"
   },
   {
    "duration": 112,
    "start_time": "2022-05-21T08:10:47.529Z"
   },
   {
    "duration": 89,
    "start_time": "2022-05-21T08:10:47.642Z"
   },
   {
    "duration": 121,
    "start_time": "2022-05-21T08:10:47.732Z"
   },
   {
    "duration": 24,
    "start_time": "2022-05-21T08:10:47.855Z"
   },
   {
    "duration": 251,
    "start_time": "2022-05-21T08:10:47.880Z"
   },
   {
    "duration": 81,
    "start_time": "2022-05-21T08:10:48.132Z"
   },
   {
    "duration": 30,
    "start_time": "2022-05-21T08:10:48.215Z"
   },
   {
    "duration": 17,
    "start_time": "2022-05-21T08:10:48.247Z"
   },
   {
    "duration": 910,
    "start_time": "2022-05-21T08:10:48.266Z"
   },
   {
    "duration": 550,
    "start_time": "2022-05-21T08:10:49.178Z"
   },
   {
    "duration": 171,
    "start_time": "2022-05-21T08:10:49.730Z"
   },
   {
    "duration": 665,
    "start_time": "2022-05-21T08:10:49.903Z"
   },
   {
    "duration": 57,
    "start_time": "2022-05-21T08:10:50.569Z"
   },
   {
    "duration": 3,
    "start_time": "2022-05-21T08:10:50.628Z"
   },
   {
    "duration": 12,
    "start_time": "2022-05-21T08:10:50.632Z"
   },
   {
    "duration": 12,
    "start_time": "2022-05-21T08:10:50.645Z"
   },
   {
    "duration": 1343,
    "start_time": "2022-05-21T08:11:36.787Z"
   },
   {
    "duration": 944,
    "start_time": "2022-05-21T08:11:38.132Z"
   },
   {
    "duration": 24,
    "start_time": "2022-05-21T08:11:39.078Z"
   },
   {
    "duration": 1306,
    "start_time": "2022-05-21T08:11:40.962Z"
   },
   {
    "duration": 985,
    "start_time": "2022-05-21T08:11:42.270Z"
   },
   {
    "duration": 26,
    "start_time": "2022-05-21T08:11:43.257Z"
   },
   {
    "duration": 148,
    "start_time": "2022-05-21T08:11:43.286Z"
   },
   {
    "duration": 507,
    "start_time": "2022-05-21T08:11:43.436Z"
   },
   {
    "duration": 671,
    "start_time": "2022-05-21T08:11:43.945Z"
   },
   {
    "duration": 392,
    "start_time": "2022-05-21T08:11:44.617Z"
   },
   {
    "duration": 67,
    "start_time": "2022-05-21T08:11:45.011Z"
   },
   {
    "duration": 4,
    "start_time": "2022-05-21T08:11:45.080Z"
   },
   {
    "duration": 46,
    "start_time": "2022-05-21T08:11:45.087Z"
   },
   {
    "duration": 244,
    "start_time": "2022-05-21T08:11:45.134Z"
   },
   {
    "duration": 32,
    "start_time": "2022-05-21T08:11:45.380Z"
   },
   {
    "duration": 69,
    "start_time": "2022-05-21T08:11:45.427Z"
   },
   {
    "duration": 54,
    "start_time": "2022-05-21T08:11:45.499Z"
   },
   {
    "duration": 261,
    "start_time": "2022-05-21T08:11:45.555Z"
   },
   {
    "duration": 48,
    "start_time": "2022-05-21T08:11:45.818Z"
   },
   {
    "duration": 165,
    "start_time": "2022-05-21T08:11:45.867Z"
   },
   {
    "duration": 40,
    "start_time": "2022-05-21T08:11:46.034Z"
   },
   {
    "duration": 16,
    "start_time": "2022-05-21T08:11:46.076Z"
   },
   {
    "duration": 238,
    "start_time": "2022-05-21T08:11:46.094Z"
   },
   {
    "duration": 36,
    "start_time": "2022-05-21T08:11:46.334Z"
   },
   {
    "duration": 55,
    "start_time": "2022-05-21T08:11:46.372Z"
   },
   {
    "duration": 35,
    "start_time": "2022-05-21T08:11:46.429Z"
   },
   {
    "duration": 14,
    "start_time": "2022-05-21T08:11:46.466Z"
   },
   {
    "duration": 135,
    "start_time": "2022-05-21T08:11:46.482Z"
   },
   {
    "duration": 93,
    "start_time": "2022-05-21T08:11:46.618Z"
   },
   {
    "duration": 131,
    "start_time": "2022-05-21T08:11:46.713Z"
   },
   {
    "duration": 24,
    "start_time": "2022-05-21T08:11:46.847Z"
   },
   {
    "duration": 264,
    "start_time": "2022-05-21T08:11:46.872Z"
   },
   {
    "duration": 90,
    "start_time": "2022-05-21T08:11:47.138Z"
   },
   {
    "duration": 23,
    "start_time": "2022-05-21T08:11:47.231Z"
   },
   {
    "duration": 20,
    "start_time": "2022-05-21T08:11:47.256Z"
   },
   {
    "duration": 950,
    "start_time": "2022-05-21T08:11:47.277Z"
   },
   {
    "duration": 541,
    "start_time": "2022-05-21T08:11:48.229Z"
   },
   {
    "duration": 166,
    "start_time": "2022-05-21T08:11:48.772Z"
   },
   {
    "duration": 674,
    "start_time": "2022-05-21T08:11:48.940Z"
   },
   {
    "duration": 52,
    "start_time": "2022-05-21T08:11:49.616Z"
   },
   {
    "duration": 3,
    "start_time": "2022-05-21T08:11:49.669Z"
   },
   {
    "duration": 8,
    "start_time": "2022-05-21T08:11:49.674Z"
   },
   {
    "duration": 7,
    "start_time": "2022-05-21T08:11:49.684Z"
   },
   {
    "duration": 98039,
    "start_time": "2022-05-21T08:11:49.693Z"
   },
   {
    "duration": 93,
    "start_time": "2022-05-21T08:13:27.734Z"
   },
   {
    "duration": 23799,
    "start_time": "2022-05-21T08:13:27.829Z"
   },
   {
    "duration": 37892,
    "start_time": "2022-05-21T08:13:51.630Z"
   },
   {
    "duration": 676,
    "start_time": "2022-05-21T08:14:29.525Z"
   },
   {
    "duration": 10474244,
    "start_time": "2022-05-21T08:14:30.203Z"
   },
   {
    "duration": 267921,
    "start_time": "2022-05-21T11:09:04.449Z"
   },
   {
    "duration": 243,
    "start_time": "2022-05-21T11:13:32.372Z"
   },
   {
    "duration": 43711942,
    "start_time": "2022-05-21T11:13:32.617Z"
   },
   {
    "duration": 1062607,
    "start_time": "2022-05-21T23:22:04.561Z"
   },
   {
    "duration": 7499962,
    "start_time": "2022-05-21T23:39:47.170Z"
   },
   {
    "duration": 18993,
    "start_time": "2022-05-22T01:44:47.134Z"
   },
   {
    "duration": 9,
    "start_time": "2022-05-22T01:45:06.129Z"
   },
   {
    "duration": 123,
    "start_time": "2022-05-22T07:20:08.380Z"
   },
   {
    "duration": 6,
    "start_time": "2022-05-22T07:20:48.664Z"
   },
   {
    "duration": 5,
    "start_time": "2022-05-22T07:23:48.620Z"
   },
   {
    "duration": 14,
    "start_time": "2022-05-22T07:23:57.700Z"
   },
   {
    "duration": 5,
    "start_time": "2022-05-22T07:59:18.689Z"
   },
   {
    "duration": 10,
    "start_time": "2022-05-22T12:27:24.612Z"
   },
   {
    "duration": 3,
    "start_time": "2022-05-22T12:27:28.628Z"
   },
   {
    "duration": 1777,
    "start_time": "2022-05-22T12:36:57.904Z"
   },
   {
    "duration": 3184,
    "start_time": "2022-05-22T12:36:59.683Z"
   },
   {
    "duration": 28,
    "start_time": "2022-05-22T12:37:02.869Z"
   },
   {
    "duration": 146,
    "start_time": "2022-05-22T12:37:02.900Z"
   },
   {
    "duration": 553,
    "start_time": "2022-05-22T12:37:03.048Z"
   },
   {
    "duration": 662,
    "start_time": "2022-05-22T12:37:03.603Z"
   },
   {
    "duration": 459,
    "start_time": "2022-05-22T12:37:04.266Z"
   },
   {
    "duration": 71,
    "start_time": "2022-05-22T12:37:04.726Z"
   },
   {
    "duration": 6,
    "start_time": "2022-05-22T12:37:04.799Z"
   },
   {
    "duration": 75,
    "start_time": "2022-05-22T12:37:04.808Z"
   },
   {
    "duration": 302,
    "start_time": "2022-05-22T12:37:04.887Z"
   },
   {
    "duration": 26,
    "start_time": "2022-05-22T12:37:05.191Z"
   },
   {
    "duration": 80,
    "start_time": "2022-05-22T12:37:05.220Z"
   },
   {
    "duration": 40,
    "start_time": "2022-05-22T12:37:05.301Z"
   },
   {
    "duration": 323,
    "start_time": "2022-05-22T12:37:05.344Z"
   },
   {
    "duration": 35,
    "start_time": "2022-05-22T12:37:05.670Z"
   },
   {
    "duration": 177,
    "start_time": "2022-05-22T12:37:07.129Z"
   },
   {
    "duration": 4,
    "start_time": "2022-05-22T12:45:00.273Z"
   },
   {
    "duration": 71,
    "start_time": "2022-05-22T12:45:08.877Z"
   },
   {
    "duration": 119,
    "start_time": "2022-05-22T12:46:32.834Z"
   },
   {
    "duration": 17,
    "start_time": "2022-05-22T12:46:39.881Z"
   },
   {
    "duration": 14,
    "start_time": "2022-05-22T12:46:45.667Z"
   },
   {
    "duration": 37,
    "start_time": "2022-05-22T12:47:25.078Z"
   },
   {
    "duration": 47,
    "start_time": "2022-05-22T12:48:41.394Z"
   },
   {
    "duration": 38,
    "start_time": "2022-05-22T12:48:49.113Z"
   },
   {
    "duration": 38,
    "start_time": "2022-05-22T12:52:51.810Z"
   },
   {
    "duration": 39,
    "start_time": "2022-05-22T12:54:28.416Z"
   },
   {
    "duration": 5,
    "start_time": "2022-05-22T12:54:38.209Z"
   },
   {
    "duration": 5,
    "start_time": "2022-05-22T12:54:53.363Z"
   },
   {
    "duration": 1542,
    "start_time": "2022-05-22T12:54:53.371Z"
   },
   {
    "duration": 30,
    "start_time": "2022-05-22T12:54:54.915Z"
   },
   {
    "duration": 122,
    "start_time": "2022-05-22T12:54:54.947Z"
   },
   {
    "duration": 437,
    "start_time": "2022-05-22T12:54:55.071Z"
   },
   {
    "duration": 531,
    "start_time": "2022-05-22T12:54:55.510Z"
   },
   {
    "duration": 393,
    "start_time": "2022-05-22T12:54:56.043Z"
   },
   {
    "duration": 45,
    "start_time": "2022-05-22T12:54:56.441Z"
   },
   {
    "duration": 4,
    "start_time": "2022-05-22T12:54:56.489Z"
   },
   {
    "duration": 54,
    "start_time": "2022-05-22T12:54:56.494Z"
   },
   {
    "duration": 246,
    "start_time": "2022-05-22T12:54:56.550Z"
   },
   {
    "duration": 27,
    "start_time": "2022-05-22T12:54:56.798Z"
   },
   {
    "duration": 66,
    "start_time": "2022-05-22T12:54:56.841Z"
   },
   {
    "duration": 60,
    "start_time": "2022-05-22T12:54:56.910Z"
   },
   {
    "duration": 342,
    "start_time": "2022-05-22T12:54:56.972Z"
   },
   {
    "duration": 52,
    "start_time": "2022-05-22T12:54:57.316Z"
   },
   {
    "duration": 134,
    "start_time": "2022-05-22T12:54:57.371Z"
   },
   {
    "duration": 51,
    "start_time": "2022-05-22T12:54:57.507Z"
   },
   {
    "duration": 6,
    "start_time": "2022-05-22T12:55:02.526Z"
   }
  ],
  "kernelspec": {
   "display_name": "Python 3 (ipykernel)",
   "language": "python",
   "name": "python3"
  },
  "language_info": {
   "codemirror_mode": {
    "name": "ipython",
    "version": 3
   },
   "file_extension": ".py",
   "mimetype": "text/x-python",
   "name": "python",
   "nbconvert_exporter": "python",
   "pygments_lexer": "ipython3",
   "version": "3.9.12"
  },
  "toc": {
   "base_numbering": 1,
   "nav_menu": {
    "height": "245px",
    "width": "365px"
   },
   "number_sections": true,
   "sideBar": true,
   "skip_h1_title": true,
   "title_cell": "Table of Contents",
   "title_sidebar": "Contents",
   "toc_cell": false,
   "toc_position": {
    "height": "calc(100% - 180px)",
    "left": "10px",
    "top": "150px",
    "width": "383.188px"
   },
   "toc_section_display": true,
   "toc_window_display": true
  }
 },
 "nbformat": 4,
 "nbformat_minor": 2
}
