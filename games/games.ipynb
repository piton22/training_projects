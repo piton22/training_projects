{
 "cells": [
  {
   "cell_type": "markdown",
   "metadata": {},
   "source": [
    "# Исследование индустрии видеоигр"
   ]
  },
  {
   "cell_type": "markdown",
   "metadata": {},
   "source": [
    "## Описание проекта\n",
    "\n",
    "Интернет-магазин компьютерных игр хочет узнать закономерности, определяющие успешность игры, для планирования рекламной кампании на 2017 год. Данные представлены до 2016 года. Из открытых источников доступны исторические данные о продажах игр, оценки пользователей и экспертов, жанры и платформы (например, Xbox или PlayStation)."
   ]
  },
  {
   "cell_type": "markdown",
   "metadata": {},
   "source": [
    "## Обзор данных"
   ]
  },
  {
   "cell_type": "code",
   "execution_count": 1,
   "metadata": {
    "scrolled": true
   },
   "outputs": [
    {
     "name": "stdout",
     "output_type": "stream",
     "text": [
      "Collecting kaleido\n",
      "  Downloading kaleido-0.2.1-py2.py3-none-win_amd64.whl (65.9 MB)\n",
      "     ---------------------------------------- 65.9/65.9 MB 4.9 MB/s eta 0:00:00\n",
      "Installing collected packages: kaleido\n",
      "Successfully installed kaleido-0.2.1\n"
     ]
    },
    {
     "name": "stderr",
     "output_type": "stream",
     "text": [
      "WARNING: Ignoring invalid distribution -lotly (d:\\programmes\\anaconda\\envs\\ds_practicum_env\\lib\\site-packages)\n",
      "WARNING: Ignoring invalid distribution -lotly (d:\\programmes\\anaconda\\envs\\ds_practicum_env\\lib\\site-packages)\n",
      "WARNING: Ignoring invalid distribution -lotly (d:\\programmes\\anaconda\\envs\\ds_practicum_env\\lib\\site-packages)\n",
      "WARNING: Ignoring invalid distribution -lotly (d:\\programmes\\anaconda\\envs\\ds_practicum_env\\lib\\site-packages)\n",
      "WARNING: Ignoring invalid distribution -lotly (d:\\programmes\\anaconda\\envs\\ds_practicum_env\\lib\\site-packages)\n",
      "WARNING: Ignoring invalid distribution -lotly (d:\\programmes\\anaconda\\envs\\ds_practicum_env\\lib\\site-packages)\n",
      "WARNING: Ignoring invalid distribution -lotly (d:\\programmes\\anaconda\\envs\\ds_practicum_env\\lib\\site-packages)\n"
     ]
    }
   ],
   "source": [
    "!pip install -U kaleido\n",
    "import pandas as pd\n",
    "import matplotlib.pyplot as plt\n",
    "import plotly.express as px\n",
    "import plotly.io as pio\n",
    "pio.renderers.default='notebook'\n",
    "import numpy as np\n",
    "from scipy import stats as st\n",
    "import warnings"
   ]
  },
  {
   "cell_type": "markdown",
   "metadata": {},
   "source": [
    "Открывем датафрейм и изучаем общую информацию"
   ]
  },
  {
   "cell_type": "code",
   "execution_count": 2,
   "metadata": {},
   "outputs": [],
   "source": [
    "try:\n",
    "    data = pd.read_csv('/datasets/games.csv')\n",
    "except:\n",
    "    data = pd.read_csv('C:\\\\Users\\\\Дмитрий\\\\Desktop\\\\Проекты Я.Практикум\\\\games\\\\games.csv')"
   ]
  },
  {
   "cell_type": "code",
   "execution_count": 3,
   "metadata": {},
   "outputs": [
    {
     "data": {
      "text/html": [
       "<div>\n",
       "<style scoped>\n",
       "    .dataframe tbody tr th:only-of-type {\n",
       "        vertical-align: middle;\n",
       "    }\n",
       "\n",
       "    .dataframe tbody tr th {\n",
       "        vertical-align: top;\n",
       "    }\n",
       "\n",
       "    .dataframe thead th {\n",
       "        text-align: right;\n",
       "    }\n",
       "</style>\n",
       "<table border=\"1\" class=\"dataframe\">\n",
       "  <thead>\n",
       "    <tr style=\"text-align: right;\">\n",
       "      <th></th>\n",
       "      <th>Name</th>\n",
       "      <th>Platform</th>\n",
       "      <th>Year_of_Release</th>\n",
       "      <th>Genre</th>\n",
       "      <th>NA_sales</th>\n",
       "      <th>EU_sales</th>\n",
       "      <th>JP_sales</th>\n",
       "      <th>Other_sales</th>\n",
       "      <th>Critic_Score</th>\n",
       "      <th>User_Score</th>\n",
       "      <th>Rating</th>\n",
       "    </tr>\n",
       "  </thead>\n",
       "  <tbody>\n",
       "    <tr>\n",
       "      <th>0</th>\n",
       "      <td>Wii Sports</td>\n",
       "      <td>Wii</td>\n",
       "      <td>2006.0</td>\n",
       "      <td>Sports</td>\n",
       "      <td>41.36</td>\n",
       "      <td>28.96</td>\n",
       "      <td>3.77</td>\n",
       "      <td>8.45</td>\n",
       "      <td>76.0</td>\n",
       "      <td>8</td>\n",
       "      <td>E</td>\n",
       "    </tr>\n",
       "    <tr>\n",
       "      <th>1</th>\n",
       "      <td>Super Mario Bros.</td>\n",
       "      <td>NES</td>\n",
       "      <td>1985.0</td>\n",
       "      <td>Platform</td>\n",
       "      <td>29.08</td>\n",
       "      <td>3.58</td>\n",
       "      <td>6.81</td>\n",
       "      <td>0.77</td>\n",
       "      <td>NaN</td>\n",
       "      <td>NaN</td>\n",
       "      <td>NaN</td>\n",
       "    </tr>\n",
       "    <tr>\n",
       "      <th>2</th>\n",
       "      <td>Mario Kart Wii</td>\n",
       "      <td>Wii</td>\n",
       "      <td>2008.0</td>\n",
       "      <td>Racing</td>\n",
       "      <td>15.68</td>\n",
       "      <td>12.76</td>\n",
       "      <td>3.79</td>\n",
       "      <td>3.29</td>\n",
       "      <td>82.0</td>\n",
       "      <td>8.3</td>\n",
       "      <td>E</td>\n",
       "    </tr>\n",
       "    <tr>\n",
       "      <th>3</th>\n",
       "      <td>Wii Sports Resort</td>\n",
       "      <td>Wii</td>\n",
       "      <td>2009.0</td>\n",
       "      <td>Sports</td>\n",
       "      <td>15.61</td>\n",
       "      <td>10.93</td>\n",
       "      <td>3.28</td>\n",
       "      <td>2.95</td>\n",
       "      <td>80.0</td>\n",
       "      <td>8</td>\n",
       "      <td>E</td>\n",
       "    </tr>\n",
       "    <tr>\n",
       "      <th>4</th>\n",
       "      <td>Pokemon Red/Pokemon Blue</td>\n",
       "      <td>GB</td>\n",
       "      <td>1996.0</td>\n",
       "      <td>Role-Playing</td>\n",
       "      <td>11.27</td>\n",
       "      <td>8.89</td>\n",
       "      <td>10.22</td>\n",
       "      <td>1.00</td>\n",
       "      <td>NaN</td>\n",
       "      <td>NaN</td>\n",
       "      <td>NaN</td>\n",
       "    </tr>\n",
       "    <tr>\n",
       "      <th>...</th>\n",
       "      <td>...</td>\n",
       "      <td>...</td>\n",
       "      <td>...</td>\n",
       "      <td>...</td>\n",
       "      <td>...</td>\n",
       "      <td>...</td>\n",
       "      <td>...</td>\n",
       "      <td>...</td>\n",
       "      <td>...</td>\n",
       "      <td>...</td>\n",
       "      <td>...</td>\n",
       "    </tr>\n",
       "    <tr>\n",
       "      <th>16710</th>\n",
       "      <td>Samurai Warriors: Sanada Maru</td>\n",
       "      <td>PS3</td>\n",
       "      <td>2016.0</td>\n",
       "      <td>Action</td>\n",
       "      <td>0.00</td>\n",
       "      <td>0.00</td>\n",
       "      <td>0.01</td>\n",
       "      <td>0.00</td>\n",
       "      <td>NaN</td>\n",
       "      <td>NaN</td>\n",
       "      <td>NaN</td>\n",
       "    </tr>\n",
       "    <tr>\n",
       "      <th>16711</th>\n",
       "      <td>LMA Manager 2007</td>\n",
       "      <td>X360</td>\n",
       "      <td>2006.0</td>\n",
       "      <td>Sports</td>\n",
       "      <td>0.00</td>\n",
       "      <td>0.01</td>\n",
       "      <td>0.00</td>\n",
       "      <td>0.00</td>\n",
       "      <td>NaN</td>\n",
       "      <td>NaN</td>\n",
       "      <td>NaN</td>\n",
       "    </tr>\n",
       "    <tr>\n",
       "      <th>16712</th>\n",
       "      <td>Haitaka no Psychedelica</td>\n",
       "      <td>PSV</td>\n",
       "      <td>2016.0</td>\n",
       "      <td>Adventure</td>\n",
       "      <td>0.00</td>\n",
       "      <td>0.00</td>\n",
       "      <td>0.01</td>\n",
       "      <td>0.00</td>\n",
       "      <td>NaN</td>\n",
       "      <td>NaN</td>\n",
       "      <td>NaN</td>\n",
       "    </tr>\n",
       "    <tr>\n",
       "      <th>16713</th>\n",
       "      <td>Spirits &amp; Spells</td>\n",
       "      <td>GBA</td>\n",
       "      <td>2003.0</td>\n",
       "      <td>Platform</td>\n",
       "      <td>0.01</td>\n",
       "      <td>0.00</td>\n",
       "      <td>0.00</td>\n",
       "      <td>0.00</td>\n",
       "      <td>NaN</td>\n",
       "      <td>NaN</td>\n",
       "      <td>NaN</td>\n",
       "    </tr>\n",
       "    <tr>\n",
       "      <th>16714</th>\n",
       "      <td>Winning Post 8 2016</td>\n",
       "      <td>PSV</td>\n",
       "      <td>2016.0</td>\n",
       "      <td>Simulation</td>\n",
       "      <td>0.00</td>\n",
       "      <td>0.00</td>\n",
       "      <td>0.01</td>\n",
       "      <td>0.00</td>\n",
       "      <td>NaN</td>\n",
       "      <td>NaN</td>\n",
       "      <td>NaN</td>\n",
       "    </tr>\n",
       "  </tbody>\n",
       "</table>\n",
       "<p>16715 rows × 11 columns</p>\n",
       "</div>"
      ],
      "text/plain": [
       "                                Name Platform  Year_of_Release         Genre  \\\n",
       "0                         Wii Sports      Wii           2006.0        Sports   \n",
       "1                  Super Mario Bros.      NES           1985.0      Platform   \n",
       "2                     Mario Kart Wii      Wii           2008.0        Racing   \n",
       "3                  Wii Sports Resort      Wii           2009.0        Sports   \n",
       "4           Pokemon Red/Pokemon Blue       GB           1996.0  Role-Playing   \n",
       "...                              ...      ...              ...           ...   \n",
       "16710  Samurai Warriors: Sanada Maru      PS3           2016.0        Action   \n",
       "16711               LMA Manager 2007     X360           2006.0        Sports   \n",
       "16712        Haitaka no Psychedelica      PSV           2016.0     Adventure   \n",
       "16713               Spirits & Spells      GBA           2003.0      Platform   \n",
       "16714            Winning Post 8 2016      PSV           2016.0    Simulation   \n",
       "\n",
       "       NA_sales  EU_sales  JP_sales  Other_sales  Critic_Score User_Score  \\\n",
       "0         41.36     28.96      3.77         8.45          76.0          8   \n",
       "1         29.08      3.58      6.81         0.77           NaN        NaN   \n",
       "2         15.68     12.76      3.79         3.29          82.0        8.3   \n",
       "3         15.61     10.93      3.28         2.95          80.0          8   \n",
       "4         11.27      8.89     10.22         1.00           NaN        NaN   \n",
       "...         ...       ...       ...          ...           ...        ...   \n",
       "16710      0.00      0.00      0.01         0.00           NaN        NaN   \n",
       "16711      0.00      0.01      0.00         0.00           NaN        NaN   \n",
       "16712      0.00      0.00      0.01         0.00           NaN        NaN   \n",
       "16713      0.01      0.00      0.00         0.00           NaN        NaN   \n",
       "16714      0.00      0.00      0.01         0.00           NaN        NaN   \n",
       "\n",
       "      Rating  \n",
       "0          E  \n",
       "1        NaN  \n",
       "2          E  \n",
       "3          E  \n",
       "4        NaN  \n",
       "...      ...  \n",
       "16710    NaN  \n",
       "16711    NaN  \n",
       "16712    NaN  \n",
       "16713    NaN  \n",
       "16714    NaN  \n",
       "\n",
       "[16715 rows x 11 columns]"
      ]
     },
     "metadata": {},
     "output_type": "display_data"
    },
    {
     "name": "stdout",
     "output_type": "stream",
     "text": [
      "<class 'pandas.core.frame.DataFrame'>\n",
      "RangeIndex: 16715 entries, 0 to 16714\n",
      "Data columns (total 11 columns):\n",
      " #   Column           Non-Null Count  Dtype  \n",
      "---  ------           --------------  -----  \n",
      " 0   Name             16713 non-null  object \n",
      " 1   Platform         16715 non-null  object \n",
      " 2   Year_of_Release  16446 non-null  float64\n",
      " 3   Genre            16713 non-null  object \n",
      " 4   NA_sales         16715 non-null  float64\n",
      " 5   EU_sales         16715 non-null  float64\n",
      " 6   JP_sales         16715 non-null  float64\n",
      " 7   Other_sales      16715 non-null  float64\n",
      " 8   Critic_Score     8137 non-null   float64\n",
      " 9   User_Score       10014 non-null  object \n",
      " 10  Rating           9949 non-null   object \n",
      "dtypes: float64(6), object(5)\n",
      "memory usage: 1.4+ MB\n"
     ]
    }
   ],
   "source": [
    "display(data)\n",
    "data.info()"
   ]
  },
  {
   "cell_type": "code",
   "execution_count": 4,
   "metadata": {},
   "outputs": [
    {
     "data": {
      "text/plain": [
       "array([76., nan, 82., 80., 89., 58., 87., 91., 61., 97., 95., 77., 88.,\n",
       "       83., 94., 93., 85., 86., 98., 96., 90., 84., 73., 74., 78., 92.,\n",
       "       71., 72., 68., 62., 49., 67., 81., 66., 56., 79., 70., 59., 64.,\n",
       "       75., 60., 63., 69., 50., 25., 42., 44., 55., 48., 57., 29., 47.,\n",
       "       65., 54., 20., 53., 37., 38., 33., 52., 30., 32., 43., 45., 51.,\n",
       "       40., 46., 39., 34., 35., 41., 36., 28., 31., 27., 26., 19., 23.,\n",
       "       24., 21., 17., 22., 13.])"
      ]
     },
     "execution_count": 4,
     "metadata": {},
     "output_type": "execute_result"
    }
   ],
   "source": [
    "data['Critic_Score'].unique()"
   ]
  },
  {
   "cell_type": "code",
   "execution_count": 5,
   "metadata": {},
   "outputs": [
    {
     "data": {
      "text/plain": [
       "array(['8', nan, '8.3', '8.5', '6.6', '8.4', '8.6', '7.7', '6.3', '7.4',\n",
       "       '8.2', '9', '7.9', '8.1', '8.7', '7.1', '3.4', '5.3', '4.8', '3.2',\n",
       "       '8.9', '6.4', '7.8', '7.5', '2.6', '7.2', '9.2', '7', '7.3', '4.3',\n",
       "       '7.6', '5.7', '5', '9.1', '6.5', 'tbd', '8.8', '6.9', '9.4', '6.8',\n",
       "       '6.1', '6.7', '5.4', '4', '4.9', '4.5', '9.3', '6.2', '4.2', '6',\n",
       "       '3.7', '4.1', '5.8', '5.6', '5.5', '4.4', '4.6', '5.9', '3.9',\n",
       "       '3.1', '2.9', '5.2', '3.3', '4.7', '5.1', '3.5', '2.5', '1.9', '3',\n",
       "       '2.7', '2.2', '2', '9.5', '2.1', '3.6', '2.8', '1.8', '3.8', '0',\n",
       "       '1.6', '9.6', '2.4', '1.7', '1.1', '0.3', '1.5', '0.7', '1.2',\n",
       "       '2.3', '0.5', '1.3', '0.2', '0.6', '1.4', '0.9', '1', '9.7'],\n",
       "      dtype=object)"
      ]
     },
     "execution_count": 5,
     "metadata": {},
     "output_type": "execute_result"
    }
   ],
   "source": [
    "data['User_Score'].unique()"
   ]
  },
  {
   "cell_type": "code",
   "execution_count": 6,
   "metadata": {},
   "outputs": [
    {
     "data": {
      "text/plain": [
       "array(['E', nan, 'M', 'T', 'E10+', 'K-A', 'AO', 'EC', 'RP'], dtype=object)"
      ]
     },
     "execution_count": 6,
     "metadata": {},
     "output_type": "execute_result"
    }
   ],
   "source": [
    "data['Rating'].unique()"
   ]
  },
  {
   "cell_type": "code",
   "execution_count": 7,
   "metadata": {},
   "outputs": [
    {
     "data": {
      "text/plain": [
       "array(['Wii', 'NES', 'GB', 'DS', 'X360', 'PS3', 'PS2', 'SNES', 'GBA',\n",
       "       'PS4', '3DS', 'N64', 'PS', 'XB', 'PC', '2600', 'PSP', 'XOne',\n",
       "       'WiiU', 'GC', 'GEN', 'DC', 'PSV', 'SAT', 'SCD', 'WS', 'NG', 'TG16',\n",
       "       '3DO', 'GG', 'PCFX'], dtype=object)"
      ]
     },
     "execution_count": 7,
     "metadata": {},
     "output_type": "execute_result"
    }
   ],
   "source": [
    "data['Platform'].unique()"
   ]
  },
  {
   "cell_type": "code",
   "execution_count": 8,
   "metadata": {
    "scrolled": true
   },
   "outputs": [
    {
     "data": {
      "text/plain": [
       "array(['Sports', 'Platform', 'Racing', 'Role-Playing', 'Puzzle', 'Misc',\n",
       "       'Shooter', 'Simulation', 'Action', 'Fighting', 'Adventure',\n",
       "       'Strategy', nan], dtype=object)"
      ]
     },
     "execution_count": 8,
     "metadata": {},
     "output_type": "execute_result"
    }
   ],
   "source": [
    "data['Genre'].unique()"
   ]
  },
  {
   "cell_type": "markdown",
   "metadata": {},
   "source": [
    "**Выводы**\n",
    "\n",
    "* В названиях столбцов содержатся прописные буквы, необходимо свести к нижнему регистру. Это упростит работу с таблицей.\n",
    "\n",
    "* В столбце с годом выпуска значения имеют вещественную форму. Это нелогично, поэтому нужно привести их к целому.\n",
    "\n",
    "* Столбец user_score содержит текстовое значение 'tbd'. Необходимо перевести столбец в вещественную форму (т.к. оценки содержат дробную часть), а значения 'tbd' заменить на NaN.\n",
    "\n",
    "* В столбцах critic_score, user_score и rating высокое количество пропусков (более 40 %). Заменять их медианой или средним нецелесообразно, т.к. можно исказить данные. Пропуски могли возникнуть из-за отсутствия информации о рейтингах. Например, из таблицы видно, что чаще всего рейтинг отсутствует у игр, выпущенных давно (раньше 2005 года) и у малопопулярных игр, что логично, т.к. пользователей было слишком мало для составления достоверного рейтинга."
   ]
  },
  {
   "cell_type": "markdown",
   "metadata": {},
   "source": [
    "## Предобработка данных"
   ]
  },
  {
   "cell_type": "code",
   "execution_count": 9,
   "metadata": {},
   "outputs": [],
   "source": [
    "data.columns = data.columns.str.lower()"
   ]
  },
  {
   "cell_type": "code",
   "execution_count": 10,
   "metadata": {},
   "outputs": [
    {
     "data": {
      "text/html": [
       "<div>\n",
       "<style scoped>\n",
       "    .dataframe tbody tr th:only-of-type {\n",
       "        vertical-align: middle;\n",
       "    }\n",
       "\n",
       "    .dataframe tbody tr th {\n",
       "        vertical-align: top;\n",
       "    }\n",
       "\n",
       "    .dataframe thead th {\n",
       "        text-align: right;\n",
       "    }\n",
       "</style>\n",
       "<table border=\"1\" class=\"dataframe\">\n",
       "  <thead>\n",
       "    <tr style=\"text-align: right;\">\n",
       "      <th></th>\n",
       "      <th>name</th>\n",
       "      <th>platform</th>\n",
       "      <th>year_of_release</th>\n",
       "      <th>genre</th>\n",
       "      <th>na_sales</th>\n",
       "      <th>eu_sales</th>\n",
       "      <th>jp_sales</th>\n",
       "      <th>other_sales</th>\n",
       "      <th>critic_score</th>\n",
       "      <th>user_score</th>\n",
       "      <th>rating</th>\n",
       "    </tr>\n",
       "  </thead>\n",
       "  <tbody>\n",
       "    <tr>\n",
       "      <th>0</th>\n",
       "      <td>Wii Sports</td>\n",
       "      <td>Wii</td>\n",
       "      <td>2006.0</td>\n",
       "      <td>Sports</td>\n",
       "      <td>41.36</td>\n",
       "      <td>28.96</td>\n",
       "      <td>3.77</td>\n",
       "      <td>8.45</td>\n",
       "      <td>76.0</td>\n",
       "      <td>8</td>\n",
       "      <td>E</td>\n",
       "    </tr>\n",
       "    <tr>\n",
       "      <th>1</th>\n",
       "      <td>Super Mario Bros.</td>\n",
       "      <td>NES</td>\n",
       "      <td>1985.0</td>\n",
       "      <td>Platform</td>\n",
       "      <td>29.08</td>\n",
       "      <td>3.58</td>\n",
       "      <td>6.81</td>\n",
       "      <td>0.77</td>\n",
       "      <td>NaN</td>\n",
       "      <td>NaN</td>\n",
       "      <td>NaN</td>\n",
       "    </tr>\n",
       "    <tr>\n",
       "      <th>2</th>\n",
       "      <td>Mario Kart Wii</td>\n",
       "      <td>Wii</td>\n",
       "      <td>2008.0</td>\n",
       "      <td>Racing</td>\n",
       "      <td>15.68</td>\n",
       "      <td>12.76</td>\n",
       "      <td>3.79</td>\n",
       "      <td>3.29</td>\n",
       "      <td>82.0</td>\n",
       "      <td>8.3</td>\n",
       "      <td>E</td>\n",
       "    </tr>\n",
       "    <tr>\n",
       "      <th>3</th>\n",
       "      <td>Wii Sports Resort</td>\n",
       "      <td>Wii</td>\n",
       "      <td>2009.0</td>\n",
       "      <td>Sports</td>\n",
       "      <td>15.61</td>\n",
       "      <td>10.93</td>\n",
       "      <td>3.28</td>\n",
       "      <td>2.95</td>\n",
       "      <td>80.0</td>\n",
       "      <td>8</td>\n",
       "      <td>E</td>\n",
       "    </tr>\n",
       "    <tr>\n",
       "      <th>4</th>\n",
       "      <td>Pokemon Red/Pokemon Blue</td>\n",
       "      <td>GB</td>\n",
       "      <td>1996.0</td>\n",
       "      <td>Role-Playing</td>\n",
       "      <td>11.27</td>\n",
       "      <td>8.89</td>\n",
       "      <td>10.22</td>\n",
       "      <td>1.00</td>\n",
       "      <td>NaN</td>\n",
       "      <td>NaN</td>\n",
       "      <td>NaN</td>\n",
       "    </tr>\n",
       "    <tr>\n",
       "      <th>...</th>\n",
       "      <td>...</td>\n",
       "      <td>...</td>\n",
       "      <td>...</td>\n",
       "      <td>...</td>\n",
       "      <td>...</td>\n",
       "      <td>...</td>\n",
       "      <td>...</td>\n",
       "      <td>...</td>\n",
       "      <td>...</td>\n",
       "      <td>...</td>\n",
       "      <td>...</td>\n",
       "    </tr>\n",
       "    <tr>\n",
       "      <th>16710</th>\n",
       "      <td>Samurai Warriors: Sanada Maru</td>\n",
       "      <td>PS3</td>\n",
       "      <td>2016.0</td>\n",
       "      <td>Action</td>\n",
       "      <td>0.00</td>\n",
       "      <td>0.00</td>\n",
       "      <td>0.01</td>\n",
       "      <td>0.00</td>\n",
       "      <td>NaN</td>\n",
       "      <td>NaN</td>\n",
       "      <td>NaN</td>\n",
       "    </tr>\n",
       "    <tr>\n",
       "      <th>16711</th>\n",
       "      <td>LMA Manager 2007</td>\n",
       "      <td>X360</td>\n",
       "      <td>2006.0</td>\n",
       "      <td>Sports</td>\n",
       "      <td>0.00</td>\n",
       "      <td>0.01</td>\n",
       "      <td>0.00</td>\n",
       "      <td>0.00</td>\n",
       "      <td>NaN</td>\n",
       "      <td>NaN</td>\n",
       "      <td>NaN</td>\n",
       "    </tr>\n",
       "    <tr>\n",
       "      <th>16712</th>\n",
       "      <td>Haitaka no Psychedelica</td>\n",
       "      <td>PSV</td>\n",
       "      <td>2016.0</td>\n",
       "      <td>Adventure</td>\n",
       "      <td>0.00</td>\n",
       "      <td>0.00</td>\n",
       "      <td>0.01</td>\n",
       "      <td>0.00</td>\n",
       "      <td>NaN</td>\n",
       "      <td>NaN</td>\n",
       "      <td>NaN</td>\n",
       "    </tr>\n",
       "    <tr>\n",
       "      <th>16713</th>\n",
       "      <td>Spirits &amp; Spells</td>\n",
       "      <td>GBA</td>\n",
       "      <td>2003.0</td>\n",
       "      <td>Platform</td>\n",
       "      <td>0.01</td>\n",
       "      <td>0.00</td>\n",
       "      <td>0.00</td>\n",
       "      <td>0.00</td>\n",
       "      <td>NaN</td>\n",
       "      <td>NaN</td>\n",
       "      <td>NaN</td>\n",
       "    </tr>\n",
       "    <tr>\n",
       "      <th>16714</th>\n",
       "      <td>Winning Post 8 2016</td>\n",
       "      <td>PSV</td>\n",
       "      <td>2016.0</td>\n",
       "      <td>Simulation</td>\n",
       "      <td>0.00</td>\n",
       "      <td>0.00</td>\n",
       "      <td>0.01</td>\n",
       "      <td>0.00</td>\n",
       "      <td>NaN</td>\n",
       "      <td>NaN</td>\n",
       "      <td>NaN</td>\n",
       "    </tr>\n",
       "  </tbody>\n",
       "</table>\n",
       "<p>16715 rows × 11 columns</p>\n",
       "</div>"
      ],
      "text/plain": [
       "                                name platform  year_of_release         genre  \\\n",
       "0                         Wii Sports      Wii           2006.0        Sports   \n",
       "1                  Super Mario Bros.      NES           1985.0      Platform   \n",
       "2                     Mario Kart Wii      Wii           2008.0        Racing   \n",
       "3                  Wii Sports Resort      Wii           2009.0        Sports   \n",
       "4           Pokemon Red/Pokemon Blue       GB           1996.0  Role-Playing   \n",
       "...                              ...      ...              ...           ...   \n",
       "16710  Samurai Warriors: Sanada Maru      PS3           2016.0        Action   \n",
       "16711               LMA Manager 2007     X360           2006.0        Sports   \n",
       "16712        Haitaka no Psychedelica      PSV           2016.0     Adventure   \n",
       "16713               Spirits & Spells      GBA           2003.0      Platform   \n",
       "16714            Winning Post 8 2016      PSV           2016.0    Simulation   \n",
       "\n",
       "       na_sales  eu_sales  jp_sales  other_sales  critic_score user_score  \\\n",
       "0         41.36     28.96      3.77         8.45          76.0          8   \n",
       "1         29.08      3.58      6.81         0.77           NaN        NaN   \n",
       "2         15.68     12.76      3.79         3.29          82.0        8.3   \n",
       "3         15.61     10.93      3.28         2.95          80.0          8   \n",
       "4         11.27      8.89     10.22         1.00           NaN        NaN   \n",
       "...         ...       ...       ...          ...           ...        ...   \n",
       "16710      0.00      0.00      0.01         0.00           NaN        NaN   \n",
       "16711      0.00      0.01      0.00         0.00           NaN        NaN   \n",
       "16712      0.00      0.00      0.01         0.00           NaN        NaN   \n",
       "16713      0.01      0.00      0.00         0.00           NaN        NaN   \n",
       "16714      0.00      0.00      0.01         0.00           NaN        NaN   \n",
       "\n",
       "      rating  \n",
       "0          E  \n",
       "1        NaN  \n",
       "2          E  \n",
       "3          E  \n",
       "4        NaN  \n",
       "...      ...  \n",
       "16710    NaN  \n",
       "16711    NaN  \n",
       "16712    NaN  \n",
       "16713    NaN  \n",
       "16714    NaN  \n",
       "\n",
       "[16715 rows x 11 columns]"
      ]
     },
     "metadata": {},
     "output_type": "display_data"
    }
   ],
   "source": [
    "display(data)"
   ]
  },
  {
   "cell_type": "markdown",
   "metadata": {},
   "source": [
    "Приводим данные к правильному типу"
   ]
  },
  {
   "cell_type": "code",
   "execution_count": 11,
   "metadata": {},
   "outputs": [],
   "source": [
    "data['year_of_release'] = data['year_of_release'].astype('Int64')\n",
    "data['user_score'] = pd.to_numeric(data['user_score'], errors='coerce')"
   ]
  },
  {
   "cell_type": "code",
   "execution_count": 12,
   "metadata": {},
   "outputs": [
    {
     "name": "stdout",
     "output_type": "stream",
     "text": [
      "<class 'pandas.core.frame.DataFrame'>\n",
      "RangeIndex: 16715 entries, 0 to 16714\n",
      "Data columns (total 11 columns):\n",
      " #   Column           Non-Null Count  Dtype  \n",
      "---  ------           --------------  -----  \n",
      " 0   name             16713 non-null  object \n",
      " 1   platform         16715 non-null  object \n",
      " 2   year_of_release  16446 non-null  Int64  \n",
      " 3   genre            16713 non-null  object \n",
      " 4   na_sales         16715 non-null  float64\n",
      " 5   eu_sales         16715 non-null  float64\n",
      " 6   jp_sales         16715 non-null  float64\n",
      " 7   other_sales      16715 non-null  float64\n",
      " 8   critic_score     8137 non-null   float64\n",
      " 9   user_score       7590 non-null   float64\n",
      " 10  rating           9949 non-null   object \n",
      "dtypes: Int64(1), float64(6), object(4)\n",
      "memory usage: 1.4+ MB\n"
     ]
    }
   ],
   "source": [
    "data.info()"
   ]
  },
  {
   "cell_type": "markdown",
   "metadata": {},
   "source": [
    "Рассчитываем суммарные продажи"
   ]
  },
  {
   "cell_type": "code",
   "execution_count": 13,
   "metadata": {},
   "outputs": [],
   "source": [
    "data['total_sales'] = data['na_sales'] + data['eu_sales'] + data['jp_sales'] + data['other_sales']"
   ]
  },
  {
   "cell_type": "code",
   "execution_count": 14,
   "metadata": {},
   "outputs": [
    {
     "data": {
      "text/html": [
       "<div>\n",
       "<style scoped>\n",
       "    .dataframe tbody tr th:only-of-type {\n",
       "        vertical-align: middle;\n",
       "    }\n",
       "\n",
       "    .dataframe tbody tr th {\n",
       "        vertical-align: top;\n",
       "    }\n",
       "\n",
       "    .dataframe thead th {\n",
       "        text-align: right;\n",
       "    }\n",
       "</style>\n",
       "<table border=\"1\" class=\"dataframe\">\n",
       "  <thead>\n",
       "    <tr style=\"text-align: right;\">\n",
       "      <th></th>\n",
       "      <th>name</th>\n",
       "      <th>platform</th>\n",
       "      <th>year_of_release</th>\n",
       "      <th>genre</th>\n",
       "      <th>na_sales</th>\n",
       "      <th>eu_sales</th>\n",
       "      <th>jp_sales</th>\n",
       "      <th>other_sales</th>\n",
       "      <th>critic_score</th>\n",
       "      <th>user_score</th>\n",
       "      <th>rating</th>\n",
       "      <th>total_sales</th>\n",
       "    </tr>\n",
       "  </thead>\n",
       "  <tbody>\n",
       "    <tr>\n",
       "      <th>0</th>\n",
       "      <td>Wii Sports</td>\n",
       "      <td>Wii</td>\n",
       "      <td>2006</td>\n",
       "      <td>Sports</td>\n",
       "      <td>41.36</td>\n",
       "      <td>28.96</td>\n",
       "      <td>3.77</td>\n",
       "      <td>8.45</td>\n",
       "      <td>76.0</td>\n",
       "      <td>8.0</td>\n",
       "      <td>E</td>\n",
       "      <td>82.54</td>\n",
       "    </tr>\n",
       "    <tr>\n",
       "      <th>1</th>\n",
       "      <td>Super Mario Bros.</td>\n",
       "      <td>NES</td>\n",
       "      <td>1985</td>\n",
       "      <td>Platform</td>\n",
       "      <td>29.08</td>\n",
       "      <td>3.58</td>\n",
       "      <td>6.81</td>\n",
       "      <td>0.77</td>\n",
       "      <td>NaN</td>\n",
       "      <td>NaN</td>\n",
       "      <td>NaN</td>\n",
       "      <td>40.24</td>\n",
       "    </tr>\n",
       "    <tr>\n",
       "      <th>2</th>\n",
       "      <td>Mario Kart Wii</td>\n",
       "      <td>Wii</td>\n",
       "      <td>2008</td>\n",
       "      <td>Racing</td>\n",
       "      <td>15.68</td>\n",
       "      <td>12.76</td>\n",
       "      <td>3.79</td>\n",
       "      <td>3.29</td>\n",
       "      <td>82.0</td>\n",
       "      <td>8.3</td>\n",
       "      <td>E</td>\n",
       "      <td>35.52</td>\n",
       "    </tr>\n",
       "    <tr>\n",
       "      <th>3</th>\n",
       "      <td>Wii Sports Resort</td>\n",
       "      <td>Wii</td>\n",
       "      <td>2009</td>\n",
       "      <td>Sports</td>\n",
       "      <td>15.61</td>\n",
       "      <td>10.93</td>\n",
       "      <td>3.28</td>\n",
       "      <td>2.95</td>\n",
       "      <td>80.0</td>\n",
       "      <td>8.0</td>\n",
       "      <td>E</td>\n",
       "      <td>32.77</td>\n",
       "    </tr>\n",
       "    <tr>\n",
       "      <th>4</th>\n",
       "      <td>Pokemon Red/Pokemon Blue</td>\n",
       "      <td>GB</td>\n",
       "      <td>1996</td>\n",
       "      <td>Role-Playing</td>\n",
       "      <td>11.27</td>\n",
       "      <td>8.89</td>\n",
       "      <td>10.22</td>\n",
       "      <td>1.00</td>\n",
       "      <td>NaN</td>\n",
       "      <td>NaN</td>\n",
       "      <td>NaN</td>\n",
       "      <td>31.38</td>\n",
       "    </tr>\n",
       "    <tr>\n",
       "      <th>...</th>\n",
       "      <td>...</td>\n",
       "      <td>...</td>\n",
       "      <td>...</td>\n",
       "      <td>...</td>\n",
       "      <td>...</td>\n",
       "      <td>...</td>\n",
       "      <td>...</td>\n",
       "      <td>...</td>\n",
       "      <td>...</td>\n",
       "      <td>...</td>\n",
       "      <td>...</td>\n",
       "      <td>...</td>\n",
       "    </tr>\n",
       "    <tr>\n",
       "      <th>16710</th>\n",
       "      <td>Samurai Warriors: Sanada Maru</td>\n",
       "      <td>PS3</td>\n",
       "      <td>2016</td>\n",
       "      <td>Action</td>\n",
       "      <td>0.00</td>\n",
       "      <td>0.00</td>\n",
       "      <td>0.01</td>\n",
       "      <td>0.00</td>\n",
       "      <td>NaN</td>\n",
       "      <td>NaN</td>\n",
       "      <td>NaN</td>\n",
       "      <td>0.01</td>\n",
       "    </tr>\n",
       "    <tr>\n",
       "      <th>16711</th>\n",
       "      <td>LMA Manager 2007</td>\n",
       "      <td>X360</td>\n",
       "      <td>2006</td>\n",
       "      <td>Sports</td>\n",
       "      <td>0.00</td>\n",
       "      <td>0.01</td>\n",
       "      <td>0.00</td>\n",
       "      <td>0.00</td>\n",
       "      <td>NaN</td>\n",
       "      <td>NaN</td>\n",
       "      <td>NaN</td>\n",
       "      <td>0.01</td>\n",
       "    </tr>\n",
       "    <tr>\n",
       "      <th>16712</th>\n",
       "      <td>Haitaka no Psychedelica</td>\n",
       "      <td>PSV</td>\n",
       "      <td>2016</td>\n",
       "      <td>Adventure</td>\n",
       "      <td>0.00</td>\n",
       "      <td>0.00</td>\n",
       "      <td>0.01</td>\n",
       "      <td>0.00</td>\n",
       "      <td>NaN</td>\n",
       "      <td>NaN</td>\n",
       "      <td>NaN</td>\n",
       "      <td>0.01</td>\n",
       "    </tr>\n",
       "    <tr>\n",
       "      <th>16713</th>\n",
       "      <td>Spirits &amp; Spells</td>\n",
       "      <td>GBA</td>\n",
       "      <td>2003</td>\n",
       "      <td>Platform</td>\n",
       "      <td>0.01</td>\n",
       "      <td>0.00</td>\n",
       "      <td>0.00</td>\n",
       "      <td>0.00</td>\n",
       "      <td>NaN</td>\n",
       "      <td>NaN</td>\n",
       "      <td>NaN</td>\n",
       "      <td>0.01</td>\n",
       "    </tr>\n",
       "    <tr>\n",
       "      <th>16714</th>\n",
       "      <td>Winning Post 8 2016</td>\n",
       "      <td>PSV</td>\n",
       "      <td>2016</td>\n",
       "      <td>Simulation</td>\n",
       "      <td>0.00</td>\n",
       "      <td>0.00</td>\n",
       "      <td>0.01</td>\n",
       "      <td>0.00</td>\n",
       "      <td>NaN</td>\n",
       "      <td>NaN</td>\n",
       "      <td>NaN</td>\n",
       "      <td>0.01</td>\n",
       "    </tr>\n",
       "  </tbody>\n",
       "</table>\n",
       "<p>16715 rows × 12 columns</p>\n",
       "</div>"
      ],
      "text/plain": [
       "                                name platform  year_of_release         genre  \\\n",
       "0                         Wii Sports      Wii             2006        Sports   \n",
       "1                  Super Mario Bros.      NES             1985      Platform   \n",
       "2                     Mario Kart Wii      Wii             2008        Racing   \n",
       "3                  Wii Sports Resort      Wii             2009        Sports   \n",
       "4           Pokemon Red/Pokemon Blue       GB             1996  Role-Playing   \n",
       "...                              ...      ...              ...           ...   \n",
       "16710  Samurai Warriors: Sanada Maru      PS3             2016        Action   \n",
       "16711               LMA Manager 2007     X360             2006        Sports   \n",
       "16712        Haitaka no Psychedelica      PSV             2016     Adventure   \n",
       "16713               Spirits & Spells      GBA             2003      Platform   \n",
       "16714            Winning Post 8 2016      PSV             2016    Simulation   \n",
       "\n",
       "       na_sales  eu_sales  jp_sales  other_sales  critic_score  user_score  \\\n",
       "0         41.36     28.96      3.77         8.45          76.0         8.0   \n",
       "1         29.08      3.58      6.81         0.77           NaN         NaN   \n",
       "2         15.68     12.76      3.79         3.29          82.0         8.3   \n",
       "3         15.61     10.93      3.28         2.95          80.0         8.0   \n",
       "4         11.27      8.89     10.22         1.00           NaN         NaN   \n",
       "...         ...       ...       ...          ...           ...         ...   \n",
       "16710      0.00      0.00      0.01         0.00           NaN         NaN   \n",
       "16711      0.00      0.01      0.00         0.00           NaN         NaN   \n",
       "16712      0.00      0.00      0.01         0.00           NaN         NaN   \n",
       "16713      0.01      0.00      0.00         0.00           NaN         NaN   \n",
       "16714      0.00      0.00      0.01         0.00           NaN         NaN   \n",
       "\n",
       "      rating  total_sales  \n",
       "0          E        82.54  \n",
       "1        NaN        40.24  \n",
       "2          E        35.52  \n",
       "3          E        32.77  \n",
       "4        NaN        31.38  \n",
       "...      ...          ...  \n",
       "16710    NaN         0.01  \n",
       "16711    NaN         0.01  \n",
       "16712    NaN         0.01  \n",
       "16713    NaN         0.01  \n",
       "16714    NaN         0.01  \n",
       "\n",
       "[16715 rows x 12 columns]"
      ]
     },
     "metadata": {},
     "output_type": "display_data"
    }
   ],
   "source": [
    "display(data)"
   ]
  },
  {
   "cell_type": "markdown",
   "metadata": {},
   "source": [
    "## Исследовательский анализ данных"
   ]
  },
  {
   "cell_type": "markdown",
   "metadata": {},
   "source": [
    "### Исследуем количество выпускаемых игр по годам"
   ]
  },
  {
   "cell_type": "code",
   "execution_count": 15,
   "metadata": {},
   "outputs": [
    {
     "name": "stdout",
     "output_type": "stream",
     "text": [
      "              name\n",
      "count    37.000000\n",
      "mean    444.432432\n",
      "std     451.604334\n",
      "min       9.000000\n",
      "25%      36.000000\n",
      "50%     338.000000\n",
      "75%     762.000000\n",
      "max    1427.000000\n"
     ]
    }
   ],
   "source": [
    "print(data.pivot_table(index='year_of_release',\n",
    "                       values='name', \n",
    "                       aggfunc='count').describe())"
   ]
  },
  {
   "cell_type": "code",
   "execution_count": 16,
   "metadata": {},
   "outputs": [
    {
     "data": {
      "image/png": "[encoded data removed]",
      "text/plain": [
       "<Figure size 432x288 with 1 Axes>"
      ]
     },
     "metadata": {
      "needs_background": "light"
     },
     "output_type": "display_data"
    }
   ],
   "source": [
    "data.plot(kind='hist',y='year_of_release', bins=37)\n",
    "plt.xlabel('Год выпуска')\n",
    "plt.ylabel('Частота')\n",
    "plt.show()"
   ]
  },
  {
   "cell_type": "markdown",
   "metadata": {},
   "source": [
    "До 1990 года игры практически не выпускались, этими данными можно пренебречь. После 1990 количество выпускаемых игр стало стремительно расти и достигло максимума в 2008-2009 годах. В последующие годы произошло снижение, вероятно, из-за популярности мобильных игр. Среднее количество выпускаемых игр в год равняется 444, медианное - 338."
   ]
  },
  {
   "cell_type": "markdown",
   "metadata": {},
   "source": [
    "### Исследуем платформы"
   ]
  },
  {
   "cell_type": "markdown",
   "metadata": {},
   "source": [
    "Определяем наиболее популярные платформы"
   ]
  },
  {
   "cell_type": "code",
   "execution_count": 17,
   "metadata": {},
   "outputs": [
    {
     "data": {
      "text/html": [
       "<div>\n",
       "<style scoped>\n",
       "    .dataframe tbody tr th:only-of-type {\n",
       "        vertical-align: middle;\n",
       "    }\n",
       "\n",
       "    .dataframe tbody tr th {\n",
       "        vertical-align: top;\n",
       "    }\n",
       "\n",
       "    .dataframe thead th {\n",
       "        text-align: right;\n",
       "    }\n",
       "</style>\n",
       "<table border=\"1\" class=\"dataframe\">\n",
       "  <thead>\n",
       "    <tr style=\"text-align: right;\">\n",
       "      <th></th>\n",
       "      <th>total_sales</th>\n",
       "    </tr>\n",
       "    <tr>\n",
       "      <th>platform</th>\n",
       "      <th></th>\n",
       "    </tr>\n",
       "  </thead>\n",
       "  <tbody>\n",
       "    <tr>\n",
       "      <th>PS2</th>\n",
       "      <td>1255.77</td>\n",
       "    </tr>\n",
       "    <tr>\n",
       "      <th>X360</th>\n",
       "      <td>971.42</td>\n",
       "    </tr>\n",
       "    <tr>\n",
       "      <th>PS3</th>\n",
       "      <td>939.65</td>\n",
       "    </tr>\n",
       "    <tr>\n",
       "      <th>Wii</th>\n",
       "      <td>907.51</td>\n",
       "    </tr>\n",
       "    <tr>\n",
       "      <th>DS</th>\n",
       "      <td>806.12</td>\n",
       "    </tr>\n",
       "    <tr>\n",
       "      <th>PS</th>\n",
       "      <td>730.86</td>\n",
       "    </tr>\n",
       "    <tr>\n",
       "      <th>GBA</th>\n",
       "      <td>317.85</td>\n",
       "    </tr>\n",
       "    <tr>\n",
       "      <th>PS4</th>\n",
       "      <td>314.14</td>\n",
       "    </tr>\n",
       "    <tr>\n",
       "      <th>PSP</th>\n",
       "      <td>294.05</td>\n",
       "    </tr>\n",
       "    <tr>\n",
       "      <th>PC</th>\n",
       "      <td>259.52</td>\n",
       "    </tr>\n",
       "    <tr>\n",
       "      <th>3DS</th>\n",
       "      <td>259.00</td>\n",
       "    </tr>\n",
       "    <tr>\n",
       "      <th>XB</th>\n",
       "      <td>257.74</td>\n",
       "    </tr>\n",
       "    <tr>\n",
       "      <th>GB</th>\n",
       "      <td>255.46</td>\n",
       "    </tr>\n",
       "    <tr>\n",
       "      <th>NES</th>\n",
       "      <td>251.05</td>\n",
       "    </tr>\n",
       "    <tr>\n",
       "      <th>N64</th>\n",
       "      <td>218.68</td>\n",
       "    </tr>\n",
       "    <tr>\n",
       "      <th>SNES</th>\n",
       "      <td>200.04</td>\n",
       "    </tr>\n",
       "    <tr>\n",
       "      <th>GC</th>\n",
       "      <td>198.93</td>\n",
       "    </tr>\n",
       "    <tr>\n",
       "      <th>XOne</th>\n",
       "      <td>159.32</td>\n",
       "    </tr>\n",
       "    <tr>\n",
       "      <th>2600</th>\n",
       "      <td>96.98</td>\n",
       "    </tr>\n",
       "    <tr>\n",
       "      <th>WiiU</th>\n",
       "      <td>82.19</td>\n",
       "    </tr>\n",
       "  </tbody>\n",
       "</table>\n",
       "</div>"
      ],
      "text/plain": [
       "          total_sales\n",
       "platform             \n",
       "PS2           1255.77\n",
       "X360           971.42\n",
       "PS3            939.65\n",
       "Wii            907.51\n",
       "DS             806.12\n",
       "PS             730.86\n",
       "GBA            317.85\n",
       "PS4            314.14\n",
       "PSP            294.05\n",
       "PC             259.52\n",
       "3DS            259.00\n",
       "XB             257.74\n",
       "GB             255.46\n",
       "NES            251.05\n",
       "N64            218.68\n",
       "SNES           200.04\n",
       "GC             198.93\n",
       "XOne           159.32\n",
       "2600            96.98\n",
       "WiiU            82.19"
      ]
     },
     "metadata": {},
     "output_type": "display_data"
    }
   ],
   "source": [
    "display(data.pivot_table(index='platform', \n",
    "                         values='total_sales',\n",
    "                         aggfunc='sum').\n",
    "                         sort_values(by='total_sales', \n",
    "                         ascending=False).head(20))"
   ]
  },
  {
   "cell_type": "markdown",
   "metadata": {},
   "source": [
    "Создаем сводную таблицу для изучения продаж в зависимости от платформы и года"
   ]
  },
  {
   "cell_type": "code",
   "execution_count": 18,
   "metadata": {},
   "outputs": [],
   "source": [
    "data_pivot = data.pivot_table(index='year_of_release', \n",
    "                              columns='platform', \n",
    "                              values='total_sales', \n",
    "                              aggfunc='sum')"
   ]
  },
  {
   "cell_type": "code",
   "execution_count": 19,
   "metadata": {
    "scrolled": true
   },
   "outputs": [
    {
     "data": {
      "image/svg+xml": [
       "<svg class=\"main-svg\" xmlns=\"http://www.w3.org/2000/svg\" xmlns:xlink=\"http://www.w3.org/1999/xlink\" width=\"700\" height=\"500\" style=\"\" viewBox=\"0 0 700 500\"><rect x=\"0\" y=\"0\" width=\"700\" height=\"500\" style=\"fill: rgb(255, 255, 255); fill-opacity: 1;\"/><defs id=\"defs-14f11f\"><g class=\"clips\"><clipPath id=\"clip14f11fxyplot\" class=\"plotclip\"><rect width=\"528\" height=\"360\"/></clipPath><clipPath class=\"axesclip\" id=\"clip14f11fx\"><rect x=\"80\" y=\"0\" width=\"528\" height=\"500\"/></clipPath><clipPath class=\"axesclip\" id=\"clip14f11fy\"><rect x=\"0\" y=\"60\" width=\"700\" height=\"360\"/></clipPath><clipPath class=\"axesclip\" id=\"clip14f11fxy\"><rect x=\"80\" y=\"60\" width=\"528\" height=\"360\"/></clipPath></g><g class=\"gradients\"/><g class=\"patterns\"/></defs><g class=\"bglayer\"><rect class=\"bg\" x=\"80\" y=\"60\" width=\"528\" height=\"360\" style=\"fill: rgb(229, 236, 246); fill-opacity: 1; stroke-width: 0;\"/></g><g class=\"layer-below\"><g class=\"imagelayer\"/><g class=\"shapelayer\"/></g><g class=\"cartesianlayer\"><g class=\"subplot xy\"><g class=\"layer-subplot\"><g class=\"shapelayer\"/><g class=\"imagelayer\"/></g><g class=\"minor-gridlayer\"><g class=\"x\"/><g class=\"y\"/></g><g class=\"gridlayer\"><g class=\"x\"><path class=\"xgrid crisp\" transform=\"translate(153.32999999999998,0)\" d=\"M0,60v360\" style=\"stroke: rgb(255, 255, 255); stroke-opacity: 1; stroke-width: 1px;\"/><path class=\"xgrid crisp\" transform=\"translate(226.67,0)\" d=\"M0,60v360\" style=\"stroke: rgb(255, 255, 255); stroke-opacity: 1; stroke-width: 1px;\"/><path class=\"xgrid crisp\" transform=\"translate(300,0)\" d=\"M0,60v360\" style=\"stroke: rgb(255, 255, 255); stroke-opacity: 1; stroke-width: 1px;\"/><path class=\"xgrid crisp\" transform=\"translate(373.33,0)\" d=\"M0,60v360\" style=\"stroke: rgb(255, 255, 255); stroke-opacity: 1; stroke-width: 1px;\"/><path class=\"xgrid crisp\" transform=\"translate(446.67,0)\" d=\"M0,60v360\" style=\"stroke: rgb(255, 255, 255); stroke-opacity: 1; stroke-width: 1px;\"/><path class=\"xgrid crisp\" transform=\"translate(520,0)\" d=\"M0,60v360\" style=\"stroke: rgb(255, 255, 255); stroke-opacity: 1; stroke-width: 1px;\"/><path class=\"xgrid crisp\" transform=\"translate(593.33,0)\" d=\"M0,60v360\" style=\"stroke: rgb(255, 255, 255); stroke-opacity: 1; stroke-width: 1px;\"/></g><g class=\"y\"><path class=\"ygrid crisp\" transform=\"translate(0,326.04)\" d=\"M80,0h528\" style=\"stroke: rgb(255, 255, 255); stroke-opacity: 1; stroke-width: 1px;\"/><path class=\"ygrid crisp\" transform=\"translate(0,249.4)\" d=\"M80,0h528\" style=\"stroke: rgb(255, 255, 255); stroke-opacity: 1; stroke-width: 1px;\"/><path class=\"ygrid crisp\" transform=\"translate(0,172.75)\" d=\"M80,0h528\" style=\"stroke: rgb(255, 255, 255); stroke-opacity: 1; stroke-width: 1px;\"/><path class=\"ygrid crisp\" transform=\"translate(0,96.1)\" d=\"M80,0h528\" style=\"stroke: rgb(255, 255, 255); stroke-opacity: 1; stroke-width: 1px;\"/></g></g><g class=\"zerolinelayer\"><path class=\"yzl zl crisp\" transform=\"translate(0,402.69)\" d=\"M80,0h528\" style=\"stroke: rgb(255, 255, 255); stroke-opacity: 1; stroke-width: 2px;\"/></g><path class=\"xlines-below\"/><path class=\"ylines-below\"/><g class=\"overlines-below\"/><g class=\"xaxislayer-below\"/><g class=\"yaxislayer-below\"/><g class=\"overaxes-below\"/><g class=\"plot\" transform=\"translate(80,60)\" clip-path=\"url(#clip14f11fxyplot)\"><g class=\"scatterlayer mlayer\"><g class=\"trace scatter trace5ced3e\" style=\"stroke-miterlimit: 2; opacity: 1;\"><g class=\"fills\"/><g class=\"errorbars\"/><g class=\"lines\"><path class=\"js-line\" d=\"M293.33,282.64L308,87.56L322.67,27.86L337.33,60.16L352,18L366.67,96.41L381.33,184.15L396,226.2L410.67,260.06L425.33,302.22L440,334.04L454.67,342\" style=\"vector-effect: non-scaling-stroke; fill: none; stroke: rgb(99, 110, 250); stroke-opacity: 1; stroke-width: 2px; opacity: 1;\"/></g><g class=\"points\"/><g class=\"text\"/></g><g class=\"trace scatter tracee712cb\" style=\"stroke-miterlimit: 2; opacity: 1;\"><g class=\"fills\"/><g class=\"errorbars\"/><g class=\"lines\"><path class=\"js-line\" d=\"M381.33,310.56L396,230.49L410.67,161.01L425.33,141.98L440,124.75L454.67,102.36L469.33,178.11L484,169.09L498.67,269.48L513.33,316.91L528,337.17\" style=\"vector-effect: non-scaling-stroke; fill: none; stroke: rgb(239, 85, 59); stroke-opacity: 1; stroke-width: 2px; opacity: 1;\"/></g><g class=\"points\"/><g class=\"text\"/></g><g class=\"trace scatter trace9f4987\" style=\"stroke-miterlimit: 2; opacity: 1;\"><g class=\"fills\"/><g class=\"errorbars\"/><g class=\"lines\"><path class=\"js-line\" d=\"M205.33,333.45L220,287.57L234.67,197.52L249.33,133.95L264,82.87L278.67,121.14L293.33,194.96L308,288.13L322.67,332.47L337.33,339.52\" style=\"vector-effect: non-scaling-stroke; fill: none; stroke: rgb(0, 204, 150); stroke-opacity: 1; stroke-width: 2px; opacity: 1;\"/></g><g class=\"points\"/><g class=\"text\"/></g><g class=\"trace scatter trace34a9e6\" style=\"stroke-miterlimit: 2; opacity: 1;\"><g class=\"fills\"/><g class=\"errorbars\"/><g class=\"lines\"><path class=\"js-line\" d=\"M484,302.85L498.67,189.4L513.33,160.42L528,236.53\" style=\"vector-effect: non-scaling-stroke; fill: none; stroke: rgb(171, 99, 250); stroke-opacity: 1; stroke-width: 2px; opacity: 1;\"/></g><g class=\"points\"/><g class=\"text\"/></g></g></g><g class=\"overplot\"/><path class=\"xlines-above crisp\" d=\"M0,0\" style=\"fill: none;\"/><path class=\"ylines-above crisp\" d=\"M0,0\" style=\"fill: none;\"/><g class=\"overlines-above\"/><g class=\"xaxislayer-above\"><g class=\"xtick\"><text text-anchor=\"middle\" x=\"0\" y=\"433\" transform=\"translate(80,0)\" style=\"font-family: 'Open Sans', verdana, arial, sans-serif; font-size: 12px; fill: rgb(42, 63, 95); fill-opacity: 1; white-space: pre; opacity: 1;\">1980</text></g><g class=\"xtick\"><text text-anchor=\"middle\" x=\"0\" y=\"433\" style=\"font-family: 'Open Sans', verdana, arial, sans-serif; font-size: 12px; fill: rgb(42, 63, 95); fill-opacity: 1; white-space: pre; opacity: 1;\" transform=\"translate(153.32999999999998,0)\">1985</text></g><g class=\"xtick\"><text text-anchor=\"middle\" x=\"0\" y=\"433\" style=\"font-family: 'Open Sans', verdana, arial, sans-serif; font-size: 12px; fill: rgb(42, 63, 95); fill-opacity: 1; white-space: pre; opacity: 1;\" transform=\"translate(226.67,0)\">1990</text></g><g class=\"xtick\"><text text-anchor=\"middle\" x=\"0\" y=\"433\" style=\"font-family: 'Open Sans', verdana, arial, sans-serif; font-size: 12px; fill: rgb(42, 63, 95); fill-opacity: 1; white-space: pre; opacity: 1;\" transform=\"translate(300,0)\">1995</text></g><g class=\"xtick\"><text text-anchor=\"middle\" x=\"0\" y=\"433\" style=\"font-family: 'Open Sans', verdana, arial, sans-serif; font-size: 12px; fill: rgb(42, 63, 95); fill-opacity: 1; white-space: pre; opacity: 1;\" transform=\"translate(373.33,0)\">2000</text></g><g class=\"xtick\"><text text-anchor=\"middle\" x=\"0\" y=\"433\" style=\"font-family: 'Open Sans', verdana, arial, sans-serif; font-size: 12px; fill: rgb(42, 63, 95); fill-opacity: 1; white-space: pre; opacity: 1;\" transform=\"translate(446.67,0)\">2005</text></g><g class=\"xtick\"><text text-anchor=\"middle\" x=\"0\" y=\"433\" style=\"font-family: 'Open Sans', verdana, arial, sans-serif; font-size: 12px; fill: rgb(42, 63, 95); fill-opacity: 1; white-space: pre; opacity: 1;\" transform=\"translate(520,0)\">2010</text></g><g class=\"xtick\"><text text-anchor=\"middle\" x=\"0\" y=\"433\" style=\"font-family: 'Open Sans', verdana, arial, sans-serif; font-size: 12px; fill: rgb(42, 63, 95); fill-opacity: 1; white-space: pre; opacity: 1;\" transform=\"translate(593.33,0)\">2015</text></g></g><g class=\"yaxislayer-above\"><g class=\"ytick\"><text text-anchor=\"end\" x=\"79\" y=\"4.199999999999999\" transform=\"translate(0,402.69)\" style=\"font-family: 'Open Sans', verdana, arial, sans-serif; font-size: 12px; fill: rgb(42, 63, 95); fill-opacity: 1; white-space: pre; opacity: 1;\">0</text></g><g class=\"ytick\"><text text-anchor=\"end\" x=\"79\" y=\"4.199999999999999\" style=\"font-family: 'Open Sans', verdana, arial, sans-serif; font-size: 12px; fill: rgb(42, 63, 95); fill-opacity: 1; white-space: pre; opacity: 1;\" transform=\"translate(0,326.04)\">50</text></g><g class=\"ytick\"><text text-anchor=\"end\" x=\"79\" y=\"4.199999999999999\" style=\"font-family: 'Open Sans', verdana, arial, sans-serif; font-size: 12px; fill: rgb(42, 63, 95); fill-opacity: 1; white-space: pre; opacity: 1;\" transform=\"translate(0,249.4)\">100</text></g><g class=\"ytick\"><text text-anchor=\"end\" x=\"79\" y=\"4.199999999999999\" style=\"font-family: 'Open Sans', verdana, arial, sans-serif; font-size: 12px; fill: rgb(42, 63, 95); fill-opacity: 1; white-space: pre; opacity: 1;\" transform=\"translate(0,172.75)\">150</text></g><g class=\"ytick\"><text text-anchor=\"end\" x=\"79\" y=\"4.199999999999999\" style=\"font-family: 'Open Sans', verdana, arial, sans-serif; font-size: 12px; fill: rgb(42, 63, 95); fill-opacity: 1; white-space: pre; opacity: 1;\" transform=\"translate(0,96.1)\">200</text></g></g><g class=\"overaxes-above\"/></g></g><g class=\"polarlayer\"/><g class=\"smithlayer\"/><g class=\"ternarylayer\"/><g class=\"geolayer\"/><g class=\"funnelarealayer\"/><g class=\"pielayer\"/><g class=\"iciclelayer\"/><g class=\"treemaplayer\"/><g class=\"sunburstlayer\"/><g class=\"glimages\"/><defs id=\"topdefs-14f11f\"><g class=\"clips\"/><clipPath id=\"legend14f11f\"><rect width=\"69\" height=\"105\" x=\"0\" y=\"0\"/></clipPath></defs><g class=\"layer-above\"><g class=\"imagelayer\"/><g class=\"shapelayer\"/></g><g class=\"infolayer\"><g class=\"legend\" pointer-events=\"all\" transform=\"translate(618.5600000000001,60)\"><rect class=\"bg\" shape-rendering=\"crispEdges\" style=\"stroke: rgb(68, 68, 68); stroke-opacity: 1; fill: rgb(255, 255, 255); fill-opacity: 1; stroke-width: 0px;\" width=\"69\" height=\"105\" x=\"0\" y=\"0\"/><g class=\"scrollbox\" transform=\"\" clip-path=\"url(#legend14f11f)\"><text class=\"legendtitletext\" text-anchor=\"start\" x=\"2\" y=\"18.2\" style=\"font-family: 'Open Sans', verdana, arial, sans-serif; font-size: 14px; fill: rgb(42, 63, 95); fill-opacity: 1; white-space: pre;\">variable</text><g class=\"groups\" transform=\"\"><g class=\"traces\" transform=\"translate(0,32.7)\" style=\"opacity: 1;\"><text class=\"legendtext\" text-anchor=\"start\" x=\"40\" y=\"4.680000000000001\" style=\"font-family: 'Open Sans', verdana, arial, sans-serif; font-size: 12px; fill: rgb(42, 63, 95); fill-opacity: 1; white-space: pre;\">PS2</text><g class=\"layers\" style=\"opacity: 1;\"><g class=\"legendfill\"/><g class=\"legendlines\"><path class=\"js-line\" d=\"M5,0h30\" style=\"fill: none; stroke: rgb(99, 110, 250); stroke-opacity: 1; stroke-width: 2px;\"/></g><g class=\"legendsymbols\"><g class=\"legendpoints\"/></g></g><rect class=\"legendtoggle\" x=\"0\" y=\"-9.5\" width=\"63.453125\" height=\"19\" style=\"fill: rgb(0, 0, 0); fill-opacity: 0;\"/></g></g><g class=\"groups\" transform=\"\"><g class=\"traces\" transform=\"translate(0,51.7)\" style=\"opacity: 1;\"><text class=\"legendtext\" text-anchor=\"start\" x=\"40\" y=\"4.680000000000001\" style=\"font-family: 'Open Sans', verdana, arial, sans-serif; font-size: 12px; fill: rgb(42, 63, 95); fill-opacity: 1; white-space: pre;\">PS3</text><g class=\"layers\" style=\"opacity: 1;\"><g class=\"legendfill\"/><g class=\"legendlines\"><path class=\"js-line\" d=\"M5,0h30\" style=\"fill: none; stroke: rgb(239, 85, 59); stroke-opacity: 1; stroke-width: 2px;\"/></g><g class=\"legendsymbols\"><g class=\"legendpoints\"/></g></g><rect class=\"legendtoggle\" x=\"0\" y=\"-9.5\" width=\"63.453125\" height=\"19\" style=\"fill: rgb(0, 0, 0); fill-opacity: 0;\"/></g></g><g class=\"groups\" transform=\"\"><g class=\"traces\" transform=\"translate(0,70.7)\" style=\"opacity: 1;\"><text class=\"legendtext\" text-anchor=\"start\" x=\"40\" y=\"4.680000000000001\" style=\"font-family: 'Open Sans', verdana, arial, sans-serif; font-size: 12px; fill: rgb(42, 63, 95); fill-opacity: 1; white-space: pre;\">PS</text><g class=\"layers\" style=\"opacity: 1;\"><g class=\"legendfill\"/><g class=\"legendlines\"><path class=\"js-line\" d=\"M5,0h30\" style=\"fill: none; stroke: rgb(0, 204, 150); stroke-opacity: 1; stroke-width: 2px;\"/></g><g class=\"legendsymbols\"><g class=\"legendpoints\"/></g></g><rect class=\"legendtoggle\" x=\"0\" y=\"-9.5\" width=\"63.453125\" height=\"19\" style=\"fill: rgb(0, 0, 0); fill-opacity: 0;\"/></g></g><g class=\"groups\" transform=\"\"><g class=\"traces\" transform=\"translate(0,89.7)\" style=\"opacity: 1;\"><text class=\"legendtext\" text-anchor=\"start\" x=\"40\" y=\"4.680000000000001\" style=\"font-family: 'Open Sans', verdana, arial, sans-serif; font-size: 12px; fill: rgb(42, 63, 95); fill-opacity: 1; white-space: pre;\">PS4</text><g class=\"layers\" style=\"opacity: 1;\"><g class=\"legendfill\"/><g class=\"legendlines\"><path class=\"js-line\" d=\"M5,0h30\" style=\"fill: none; stroke: rgb(171, 99, 250); stroke-opacity: 1; stroke-width: 2px;\"/></g><g class=\"legendsymbols\"><g class=\"legendpoints\"/></g></g><rect class=\"legendtoggle\" x=\"0\" y=\"-9.5\" width=\"63.453125\" height=\"19\" style=\"fill: rgb(0, 0, 0); fill-opacity: 0;\"/></g></g></g><rect class=\"scrollbar\" rx=\"20\" ry=\"3\" width=\"0\" height=\"0\" style=\"fill: rgb(128, 139, 164); fill-opacity: 1;\" x=\"0\" y=\"0\"/></g><g class=\"g-gtitle\"/><g class=\"g-xtitle\"><text class=\"xtitle\" x=\"344\" y=\"460.8\" text-anchor=\"middle\" style=\"font-family: 'Open Sans', verdana, arial, sans-serif; font-size: 14px; fill: rgb(42, 63, 95); opacity: 1; font-weight: normal; white-space: pre;\">year_of_release</text></g><g class=\"g-ytitle\"><text class=\"ytitle\" transform=\"rotate(-90,31.309375000000003,240)\" x=\"31.309375000000003\" y=\"240\" text-anchor=\"middle\" style=\"font-family: 'Open Sans', verdana, arial, sans-serif; font-size: 14px; fill: rgb(42, 63, 95); opacity: 1; font-weight: normal; white-space: pre;\">value</text></g></g></svg>"
      ]
     },
     "metadata": {},
     "output_type": "display_data"
    }
   ],
   "source": [
    "fig = px.line(data_pivot,  x=data_pivot.index, y=['PS2', 'PS3', 'PS', 'PS4'])\n",
    "fig.show(\"svg\")"
   ]
  },
  {
   "cell_type": "code",
   "execution_count": 20,
   "metadata": {
    "scrolled": true
   },
   "outputs": [
    {
     "data": {
      "image/svg+xml": [
       "<svg class=\"main-svg\" xmlns=\"http://www.w3.org/2000/svg\" xmlns:xlink=\"http://www.w3.org/1999/xlink\" width=\"700\" height=\"500\" style=\"\" viewBox=\"0 0 700 500\"><rect x=\"0\" y=\"0\" width=\"700\" height=\"500\" style=\"fill: rgb(255, 255, 255); fill-opacity: 1;\"/><defs id=\"defs-e3ae92\"><g class=\"clips\"><clipPath id=\"clipe3ae92xyplot\" class=\"plotclip\"><rect width=\"525\" height=\"360\"/></clipPath><clipPath class=\"axesclip\" id=\"clipe3ae92x\"><rect x=\"80\" y=\"0\" width=\"525\" height=\"500\"/></clipPath><clipPath class=\"axesclip\" id=\"clipe3ae92y\"><rect x=\"0\" y=\"60\" width=\"700\" height=\"360\"/></clipPath><clipPath class=\"axesclip\" id=\"clipe3ae92xy\"><rect x=\"80\" y=\"60\" width=\"525\" height=\"360\"/></clipPath></g><g class=\"gradients\"/><g class=\"patterns\"/></defs><g class=\"bglayer\"><rect class=\"bg\" x=\"80\" y=\"60\" width=\"525\" height=\"360\" style=\"fill: rgb(229, 236, 246); fill-opacity: 1; stroke-width: 0;\"/></g><g class=\"layer-below\"><g class=\"imagelayer\"/><g class=\"shapelayer\"/></g><g class=\"cartesianlayer\"><g class=\"subplot xy\"><g class=\"layer-subplot\"><g class=\"shapelayer\"/><g class=\"imagelayer\"/></g><g class=\"minor-gridlayer\"><g class=\"x\"/><g class=\"y\"/></g><g class=\"gridlayer\"><g class=\"x\"><path class=\"xgrid crisp\" transform=\"translate(152.92000000000002,0)\" d=\"M0,60v360\" style=\"stroke: rgb(255, 255, 255); stroke-opacity: 1; stroke-width: 1px;\"/><path class=\"xgrid crisp\" transform=\"translate(225.83,0)\" d=\"M0,60v360\" style=\"stroke: rgb(255, 255, 255); stroke-opacity: 1; stroke-width: 1px;\"/><path class=\"xgrid crisp\" transform=\"translate(298.75,0)\" d=\"M0,60v360\" style=\"stroke: rgb(255, 255, 255); stroke-opacity: 1; stroke-width: 1px;\"/><path class=\"xgrid crisp\" transform=\"translate(371.67,0)\" d=\"M0,60v360\" style=\"stroke: rgb(255, 255, 255); stroke-opacity: 1; stroke-width: 1px;\"/><path class=\"xgrid crisp\" transform=\"translate(444.58,0)\" d=\"M0,60v360\" style=\"stroke: rgb(255, 255, 255); stroke-opacity: 1; stroke-width: 1px;\"/><path class=\"xgrid crisp\" transform=\"translate(517.5,0)\" d=\"M0,60v360\" style=\"stroke: rgb(255, 255, 255); stroke-opacity: 1; stroke-width: 1px;\"/><path class=\"xgrid crisp\" transform=\"translate(590.4200000000001,0)\" d=\"M0,60v360\" style=\"stroke: rgb(255, 255, 255); stroke-opacity: 1; stroke-width: 1px;\"/></g><g class=\"y\"><path class=\"ygrid crisp\" transform=\"translate(0,323.75)\" d=\"M80,0h525\" style=\"stroke: rgb(255, 255, 255); stroke-opacity: 1; stroke-width: 1px;\"/><path class=\"ygrid crisp\" transform=\"translate(0,245.47)\" d=\"M80,0h525\" style=\"stroke: rgb(255, 255, 255); stroke-opacity: 1; stroke-width: 1px;\"/><path class=\"ygrid crisp\" transform=\"translate(0,167.19)\" d=\"M80,0h525\" style=\"stroke: rgb(255, 255, 255); stroke-opacity: 1; stroke-width: 1px;\"/><path class=\"ygrid crisp\" transform=\"translate(0,88.91)\" d=\"M80,0h525\" style=\"stroke: rgb(255, 255, 255); stroke-opacity: 1; stroke-width: 1px;\"/></g></g><g class=\"zerolinelayer\"><path class=\"yzl zl crisp\" transform=\"translate(0,402.03)\" d=\"M80,0h525\" style=\"stroke: rgb(255, 255, 255); stroke-opacity: 1; stroke-width: 2px;\"/></g><path class=\"xlines-below\"/><path class=\"ylines-below\"/><g class=\"overlines-below\"/><g class=\"xaxislayer-below\"/><g class=\"yaxislayer-below\"/><g class=\"overaxes-below\"/><g class=\"plot\" transform=\"translate(80,60)\" clip-path=\"url(#clipe3ae92xyplot)\"><g class=\"scatterlayer mlayer\"><g class=\"trace scatter trace653bbd\" style=\"stroke-miterlimit: 2; opacity: 1;\"><g class=\"fills\"/><g class=\"errorbars\"/><g class=\"lines\"><path class=\"js-line\" d=\"M379.17,127.31L393.75,102.86L408.33,73.81L422.92,18L437.5,141.71L452.08,248.64L466.67,308.04L481.25,328.58L495.83,336.16L510.42,340.25L525,341.75\" style=\"vector-effect: non-scaling-stroke; fill: none; stroke: rgb(99, 110, 250); stroke-opacity: 1; stroke-width: 2px; opacity: 1;\"/></g><g class=\"points\"/><g class=\"text\"/></g><g class=\"trace scatter trace271416\" style=\"stroke-miterlimit: 2; opacity: 1;\"><g class=\"fills\"/><g class=\"errorbars\"/><g class=\"lines\"><path class=\"js-line\" d=\"M350,314.99L364.58,138.28L379.17,154.46L393.75,111.98L408.33,114.53L422.92,154.88L437.5,208.92L452.08,301.04L466.67,324.79L481.25,339.62\" style=\"vector-effect: non-scaling-stroke; fill: none; stroke: rgb(239, 85, 59); stroke-opacity: 1; stroke-width: 2px; opacity: 1;\"/></g><g class=\"points\"/><g class=\"text\"/></g><g class=\"trace scatter trace8fb7b0\" style=\"stroke-miterlimit: 2; opacity: 1;\"><g class=\"fills\"/><g class=\"errorbars\"/><g class=\"lines\"><path class=\"js-line\" d=\"M291.67,341.92L306.25,245.7L320.83,225.93L335.42,253.31L350,220.06L364.58,289.02L379.17,333.76L393.75,336.71\" style=\"vector-effect: non-scaling-stroke; fill: none; stroke: rgb(0, 204, 150); stroke-opacity: 1; stroke-width: 2px; opacity: 1;\"/></g><g class=\"points\"/><g class=\"text\"/></g></g></g><g class=\"overplot\"/><path class=\"xlines-above crisp\" d=\"M0,0\" style=\"fill: none;\"/><path class=\"ylines-above crisp\" d=\"M0,0\" style=\"fill: none;\"/><g class=\"overlines-above\"/><g class=\"xaxislayer-above\"><g class=\"xtick\"><text text-anchor=\"middle\" x=\"0\" y=\"433\" transform=\"translate(80,0)\" style=\"font-family: 'Open Sans', verdana, arial, sans-serif; font-size: 12px; fill: rgb(42, 63, 95); fill-opacity: 1; white-space: pre; opacity: 1;\">1980</text></g><g class=\"xtick\"><text text-anchor=\"middle\" x=\"0\" y=\"433\" style=\"font-family: 'Open Sans', verdana, arial, sans-serif; font-size: 12px; fill: rgb(42, 63, 95); fill-opacity: 1; white-space: pre; opacity: 1;\" transform=\"translate(152.92000000000002,0)\">1985</text></g><g class=\"xtick\"><text text-anchor=\"middle\" x=\"0\" y=\"433\" style=\"font-family: 'Open Sans', verdana, arial, sans-serif; font-size: 12px; fill: rgb(42, 63, 95); fill-opacity: 1; white-space: pre; opacity: 1;\" transform=\"translate(225.83,0)\">1990</text></g><g class=\"xtick\"><text text-anchor=\"middle\" x=\"0\" y=\"433\" style=\"font-family: 'Open Sans', verdana, arial, sans-serif; font-size: 12px; fill: rgb(42, 63, 95); fill-opacity: 1; white-space: pre; opacity: 1;\" transform=\"translate(298.75,0)\">1995</text></g><g class=\"xtick\"><text text-anchor=\"middle\" x=\"0\" y=\"433\" style=\"font-family: 'Open Sans', verdana, arial, sans-serif; font-size: 12px; fill: rgb(42, 63, 95); fill-opacity: 1; white-space: pre; opacity: 1;\" transform=\"translate(371.67,0)\">2000</text></g><g class=\"xtick\"><text text-anchor=\"middle\" x=\"0\" y=\"433\" style=\"font-family: 'Open Sans', verdana, arial, sans-serif; font-size: 12px; fill: rgb(42, 63, 95); fill-opacity: 1; white-space: pre; opacity: 1;\" transform=\"translate(444.58,0)\">2005</text></g><g class=\"xtick\"><text text-anchor=\"middle\" x=\"0\" y=\"433\" style=\"font-family: 'Open Sans', verdana, arial, sans-serif; font-size: 12px; fill: rgb(42, 63, 95); fill-opacity: 1; white-space: pre; opacity: 1;\" transform=\"translate(517.5,0)\">2010</text></g><g class=\"xtick\"><text text-anchor=\"middle\" x=\"0\" y=\"433\" style=\"font-family: 'Open Sans', verdana, arial, sans-serif; font-size: 12px; fill: rgb(42, 63, 95); fill-opacity: 1; white-space: pre; opacity: 1;\" transform=\"translate(590.4200000000001,0)\">2015</text></g></g><g class=\"yaxislayer-above\"><g class=\"ytick\"><text text-anchor=\"end\" x=\"79\" y=\"4.199999999999999\" transform=\"translate(0,402.03)\" style=\"font-family: 'Open Sans', verdana, arial, sans-serif; font-size: 12px; fill: rgb(42, 63, 95); fill-opacity: 1; white-space: pre; opacity: 1;\">0</text></g><g class=\"ytick\"><text text-anchor=\"end\" x=\"79\" y=\"4.199999999999999\" style=\"font-family: 'Open Sans', verdana, arial, sans-serif; font-size: 12px; fill: rgb(42, 63, 95); fill-opacity: 1; white-space: pre; opacity: 1;\" transform=\"translate(0,323.75)\">50</text></g><g class=\"ytick\"><text text-anchor=\"end\" x=\"79\" y=\"4.199999999999999\" style=\"font-family: 'Open Sans', verdana, arial, sans-serif; font-size: 12px; fill: rgb(42, 63, 95); fill-opacity: 1; white-space: pre; opacity: 1;\" transform=\"translate(0,245.47)\">100</text></g><g class=\"ytick\"><text text-anchor=\"end\" x=\"79\" y=\"4.199999999999999\" style=\"font-family: 'Open Sans', verdana, arial, sans-serif; font-size: 12px; fill: rgb(42, 63, 95); fill-opacity: 1; white-space: pre; opacity: 1;\" transform=\"translate(0,167.19)\">150</text></g><g class=\"ytick\"><text text-anchor=\"end\" x=\"79\" y=\"4.199999999999999\" style=\"font-family: 'Open Sans', verdana, arial, sans-serif; font-size: 12px; fill: rgb(42, 63, 95); fill-opacity: 1; white-space: pre; opacity: 1;\" transform=\"translate(0,88.91)\">200</text></g></g><g class=\"overaxes-above\"/></g></g><g class=\"polarlayer\"/><g class=\"smithlayer\"/><g class=\"ternarylayer\"/><g class=\"geolayer\"/><g class=\"funnelarealayer\"/><g class=\"pielayer\"/><g class=\"iciclelayer\"/><g class=\"treemaplayer\"/><g class=\"sunburstlayer\"/><g class=\"glimages\"/><defs id=\"topdefs-e3ae92\"><g class=\"clips\"/><clipPath id=\"legende3ae92\"><rect width=\"72\" height=\"86\" x=\"0\" y=\"0\"/></clipPath></defs><g class=\"layer-above\"><g class=\"imagelayer\"/><g class=\"shapelayer\"/></g><g class=\"infolayer\"><g class=\"legend\" pointer-events=\"all\" transform=\"translate(615.5,60)\"><rect class=\"bg\" shape-rendering=\"crispEdges\" style=\"stroke: rgb(68, 68, 68); stroke-opacity: 1; fill: rgb(255, 255, 255); fill-opacity: 1; stroke-width: 0px;\" width=\"72\" height=\"86\" x=\"0\" y=\"0\"/><g class=\"scrollbox\" transform=\"\" clip-path=\"url(#legende3ae92)\"><text class=\"legendtitletext\" text-anchor=\"start\" x=\"2\" y=\"18.2\" style=\"font-family: 'Open Sans', verdana, arial, sans-serif; font-size: 14px; fill: rgb(42, 63, 95); fill-opacity: 1; white-space: pre;\">variable</text><g class=\"groups\" transform=\"\"><g class=\"traces\" transform=\"translate(0,32.7)\" style=\"opacity: 1;\"><text class=\"legendtext\" text-anchor=\"start\" x=\"40\" y=\"4.680000000000001\" style=\"font-family: 'Open Sans', verdana, arial, sans-serif; font-size: 12px; fill: rgb(42, 63, 95); fill-opacity: 1; white-space: pre;\">Wii</text><g class=\"layers\" style=\"opacity: 1;\"><g class=\"legendfill\"/><g class=\"legendlines\"><path class=\"js-line\" d=\"M5,0h30\" style=\"fill: none; stroke: rgb(99, 110, 250); stroke-opacity: 1; stroke-width: 2px;\"/></g><g class=\"legendsymbols\"><g class=\"legendpoints\"/></g></g><rect class=\"legendtoggle\" x=\"0\" y=\"-9.5\" width=\"66.53125\" height=\"19\" style=\"fill: rgb(0, 0, 0); fill-opacity: 0;\"/></g></g><g class=\"groups\" transform=\"\"><g class=\"traces\" transform=\"translate(0,51.7)\" style=\"opacity: 1;\"><text class=\"legendtext\" text-anchor=\"start\" x=\"40\" y=\"4.680000000000001\" style=\"font-family: 'Open Sans', verdana, arial, sans-serif; font-size: 12px; fill: rgb(42, 63, 95); fill-opacity: 1; white-space: pre;\">DS</text><g class=\"layers\" style=\"opacity: 1;\"><g class=\"legendfill\"/><g class=\"legendlines\"><path class=\"js-line\" d=\"M5,0h30\" style=\"fill: none; stroke: rgb(239, 85, 59); stroke-opacity: 1; stroke-width: 2px;\"/></g><g class=\"legendsymbols\"><g class=\"legendpoints\"/></g></g><rect class=\"legendtoggle\" x=\"0\" y=\"-9.5\" width=\"66.53125\" height=\"19\" style=\"fill: rgb(0, 0, 0); fill-opacity: 0;\"/></g></g><g class=\"groups\" transform=\"\"><g class=\"traces\" transform=\"translate(0,70.7)\" style=\"opacity: 1;\"><text class=\"legendtext\" text-anchor=\"start\" x=\"40\" y=\"4.680000000000001\" style=\"font-family: 'Open Sans', verdana, arial, sans-serif; font-size: 12px; fill: rgb(42, 63, 95); fill-opacity: 1; white-space: pre;\">GBA</text><g class=\"layers\" style=\"opacity: 1;\"><g class=\"legendfill\"/><g class=\"legendlines\"><path class=\"js-line\" d=\"M5,0h30\" style=\"fill: none; stroke: rgb(0, 204, 150); stroke-opacity: 1; stroke-width: 2px;\"/></g><g class=\"legendsymbols\"><g class=\"legendpoints\"/></g></g><rect class=\"legendtoggle\" x=\"0\" y=\"-9.5\" width=\"66.53125\" height=\"19\" style=\"fill: rgb(0, 0, 0); fill-opacity: 0;\"/></g></g></g><rect class=\"scrollbar\" rx=\"20\" ry=\"3\" width=\"0\" height=\"0\" style=\"fill: rgb(128, 139, 164); fill-opacity: 1;\" x=\"0\" y=\"0\"/></g><g class=\"g-gtitle\"/><g class=\"g-xtitle\"><text class=\"xtitle\" x=\"342.5\" y=\"460.8\" text-anchor=\"middle\" style=\"font-family: 'Open Sans', verdana, arial, sans-serif; font-size: 14px; fill: rgb(42, 63, 95); opacity: 1; font-weight: normal; white-space: pre;\">year_of_release</text></g><g class=\"g-ytitle\"><text class=\"ytitle\" transform=\"rotate(-90,31.309375000000003,240)\" x=\"31.309375000000003\" y=\"240\" text-anchor=\"middle\" style=\"font-family: 'Open Sans', verdana, arial, sans-serif; font-size: 14px; fill: rgb(42, 63, 95); opacity: 1; font-weight: normal; white-space: pre;\">value</text></g></g></svg>"
      ]
     },
     "metadata": {},
     "output_type": "display_data"
    }
   ],
   "source": [
    "fig = px.line(data_pivot, x=data_pivot.index, y=['Wii', 'DS', 'GBA'])\n",
    "fig.show('svg')"
   ]
  },
  {
   "cell_type": "code",
   "execution_count": 21,
   "metadata": {},
   "outputs": [
    {
     "data": {
      "image/svg+xml": [
       "<svg class=\"main-svg\" xmlns=\"http://www.w3.org/2000/svg\" xmlns:xlink=\"http://www.w3.org/1999/xlink\" width=\"700\" height=\"500\" style=\"\" viewBox=\"0 0 700 500\"><rect x=\"0\" y=\"0\" width=\"700\" height=\"500\" style=\"fill: rgb(255, 255, 255); fill-opacity: 1;\"/><defs id=\"defs-cd8c10\"><g class=\"clips\"><clipPath id=\"clipcd8c10xyplot\" class=\"plotclip\"><rect width=\"520\" height=\"360\"/></clipPath><clipPath class=\"axesclip\" id=\"clipcd8c10x\"><rect x=\"80\" y=\"0\" width=\"520\" height=\"500\"/></clipPath><clipPath class=\"axesclip\" id=\"clipcd8c10y\"><rect x=\"0\" y=\"60\" width=\"700\" height=\"360\"/></clipPath><clipPath class=\"axesclip\" id=\"clipcd8c10xy\"><rect x=\"80\" y=\"60\" width=\"520\" height=\"360\"/></clipPath></g><g class=\"gradients\"/><g class=\"patterns\"/></defs><g class=\"bglayer\"><rect class=\"bg\" x=\"80\" y=\"60\" width=\"520\" height=\"360\" style=\"fill: rgb(229, 236, 246); fill-opacity: 1; stroke-width: 0;\"/></g><g class=\"layer-below\"><g class=\"imagelayer\"/><g class=\"shapelayer\"/></g><g class=\"cartesianlayer\"><g class=\"subplot xy\"><g class=\"layer-subplot\"><g class=\"shapelayer\"/><g class=\"imagelayer\"/></g><g class=\"minor-gridlayer\"><g class=\"x\"/><g class=\"y\"/></g><g class=\"gridlayer\"><g class=\"x\"><path class=\"xgrid crisp\" transform=\"translate(152.22,0)\" d=\"M0,60v360\" style=\"stroke: rgb(255, 255, 255); stroke-opacity: 1; stroke-width: 1px;\"/><path class=\"xgrid crisp\" transform=\"translate(224.44,0)\" d=\"M0,60v360\" style=\"stroke: rgb(255, 255, 255); stroke-opacity: 1; stroke-width: 1px;\"/><path class=\"xgrid crisp\" transform=\"translate(296.66999999999996,0)\" d=\"M0,60v360\" style=\"stroke: rgb(255, 255, 255); stroke-opacity: 1; stroke-width: 1px;\"/><path class=\"xgrid crisp\" transform=\"translate(368.89,0)\" d=\"M0,60v360\" style=\"stroke: rgb(255, 255, 255); stroke-opacity: 1; stroke-width: 1px;\"/><path class=\"xgrid crisp\" transform=\"translate(441.11,0)\" d=\"M0,60v360\" style=\"stroke: rgb(255, 255, 255); stroke-opacity: 1; stroke-width: 1px;\"/><path class=\"xgrid crisp\" transform=\"translate(513.3299999999999,0)\" d=\"M0,60v360\" style=\"stroke: rgb(255, 255, 255); stroke-opacity: 1; stroke-width: 1px;\"/><path class=\"xgrid crisp\" transform=\"translate(585.56,0)\" d=\"M0,60v360\" style=\"stroke: rgb(255, 255, 255); stroke-opacity: 1; stroke-width: 1px;\"/></g><g class=\"y\"><path class=\"ygrid crisp\" transform=\"translate(0,363.94)\" d=\"M80,0h520\" style=\"stroke: rgb(255, 255, 255); stroke-opacity: 1; stroke-width: 1px;\"/><path class=\"ygrid crisp\" transform=\"translate(0,325.82)\" d=\"M80,0h520\" style=\"stroke: rgb(255, 255, 255); stroke-opacity: 1; stroke-width: 1px;\"/><path class=\"ygrid crisp\" transform=\"translate(0,287.7)\" d=\"M80,0h520\" style=\"stroke: rgb(255, 255, 255); stroke-opacity: 1; stroke-width: 1px;\"/><path class=\"ygrid crisp\" transform=\"translate(0,249.59)\" d=\"M80,0h520\" style=\"stroke: rgb(255, 255, 255); stroke-opacity: 1; stroke-width: 1px;\"/><path class=\"ygrid crisp\" transform=\"translate(0,211.47)\" d=\"M80,0h520\" style=\"stroke: rgb(255, 255, 255); stroke-opacity: 1; stroke-width: 1px;\"/><path class=\"ygrid crisp\" transform=\"translate(0,173.35)\" d=\"M80,0h520\" style=\"stroke: rgb(255, 255, 255); stroke-opacity: 1; stroke-width: 1px;\"/><path class=\"ygrid crisp\" transform=\"translate(0,135.23000000000002)\" d=\"M80,0h520\" style=\"stroke: rgb(255, 255, 255); stroke-opacity: 1; stroke-width: 1px;\"/><path class=\"ygrid crisp\" transform=\"translate(0,97.12)\" d=\"M80,0h520\" style=\"stroke: rgb(255, 255, 255); stroke-opacity: 1; stroke-width: 1px;\"/></g></g><g class=\"zerolinelayer\"><path class=\"yzl zl crisp\" transform=\"translate(0,402.06)\" d=\"M80,0h520\" style=\"stroke: rgb(255, 255, 255); stroke-opacity: 1; stroke-width: 2px;\"/></g><path class=\"xlines-below\"/><path class=\"ylines-below\"/><g class=\"overlines-below\"/><g class=\"xaxislayer-below\"/><g class=\"yaxislayer-below\"/><g class=\"overaxes-below\"/><g class=\"plot\" transform=\"translate(80,60)\" clip-path=\"url(#clipcd8c10xyplot)\"><g class=\"scatterlayer mlayer\"><g class=\"trace scatter trace93ec5d\" style=\"stroke-miterlimit: 2; opacity: 1;\"><g class=\"fills\"/><g class=\"errorbars\"/><g class=\"lines\"><path class=\"js-line\" d=\"M361.11,326.33L390,160.22L404.44,84.27L418.89,112.8L433.33,18L447.78,67.92L462.22,151.96L476.67,173.23L491.11,275.85L505.56,319.26L520,339.16\" style=\"vector-effect: non-scaling-stroke; fill: none; stroke: rgb(99, 110, 250); stroke-opacity: 1; stroke-width: 2px; opacity: 1;\"/></g><g class=\"points\"/><g class=\"text\"/></g><g class=\"trace scatter trace0b6d70\" style=\"stroke-miterlimit: 2; opacity: 1;\"><g class=\"fills\"/><g class=\"errorbars\"/><g class=\"lines\"><path class=\"js-line\" d=\"M476.67,305.92L491.11,239.01L505.56,227.44L520,292.22\" style=\"vector-effect: non-scaling-stroke; fill: none; stroke: rgb(239, 85, 59); stroke-opacity: 1; stroke-width: 2px; opacity: 1;\"/></g><g class=\"points\"/><g class=\"text\"/></g><g class=\"trace scatter tracefd4d71\" style=\"stroke-miterlimit: 2; opacity: 1;\"><g class=\"fills\"/><g class=\"errorbars\"/><g class=\"lines\"><path class=\"js-line\" d=\"M202.22,317.53L216.67,334.01L231.11,321.89L245.56,320.58L260,335.84L274.44,333.02L288.89,333.18L303.33,331.63L317.78,325.72L332.22,325.21L346.67,322.26L361.11,333.73L375.56,336.63L390,324.37L404.44,318.39L418.89,309.83L433.33,295.78L447.78,275.29L462.22,297.8L476.67,318.46L491.11,316.75L505.56,325.82L520,332.05\" style=\"vector-effect: non-scaling-stroke; fill: none; stroke: rgb(0, 204, 150); stroke-opacity: 1; stroke-width: 2px; opacity: 1;\"/></g><g class=\"points\"/><g class=\"text\"/></g></g></g><g class=\"overplot\"/><path class=\"xlines-above crisp\" d=\"M0,0\" style=\"fill: none;\"/><path class=\"ylines-above crisp\" d=\"M0,0\" style=\"fill: none;\"/><g class=\"overlines-above\"/><g class=\"xaxislayer-above\"><g class=\"xtick\"><text text-anchor=\"middle\" x=\"0\" y=\"433\" transform=\"translate(80,0)\" style=\"font-family: 'Open Sans', verdana, arial, sans-serif; font-size: 12px; fill: rgb(42, 63, 95); fill-opacity: 1; white-space: pre; opacity: 1;\">1980</text></g><g class=\"xtick\"><text text-anchor=\"middle\" x=\"0\" y=\"433\" style=\"font-family: 'Open Sans', verdana, arial, sans-serif; font-size: 12px; fill: rgb(42, 63, 95); fill-opacity: 1; white-space: pre; opacity: 1;\" transform=\"translate(152.22,0)\">1985</text></g><g class=\"xtick\"><text text-anchor=\"middle\" x=\"0\" y=\"433\" style=\"font-family: 'Open Sans', verdana, arial, sans-serif; font-size: 12px; fill: rgb(42, 63, 95); fill-opacity: 1; white-space: pre; opacity: 1;\" transform=\"translate(224.44,0)\">1990</text></g><g class=\"xtick\"><text text-anchor=\"middle\" x=\"0\" y=\"433\" style=\"font-family: 'Open Sans', verdana, arial, sans-serif; font-size: 12px; fill: rgb(42, 63, 95); fill-opacity: 1; white-space: pre; opacity: 1;\" transform=\"translate(296.66999999999996,0)\">1995</text></g><g class=\"xtick\"><text text-anchor=\"middle\" x=\"0\" y=\"433\" style=\"font-family: 'Open Sans', verdana, arial, sans-serif; font-size: 12px; fill: rgb(42, 63, 95); fill-opacity: 1; white-space: pre; opacity: 1;\" transform=\"translate(368.89,0)\">2000</text></g><g class=\"xtick\"><text text-anchor=\"middle\" x=\"0\" y=\"433\" style=\"font-family: 'Open Sans', verdana, arial, sans-serif; font-size: 12px; fill: rgb(42, 63, 95); fill-opacity: 1; white-space: pre; opacity: 1;\" transform=\"translate(441.11,0)\">2005</text></g><g class=\"xtick\"><text text-anchor=\"middle\" x=\"0\" y=\"433\" style=\"font-family: 'Open Sans', verdana, arial, sans-serif; font-size: 12px; fill: rgb(42, 63, 95); fill-opacity: 1; white-space: pre; opacity: 1;\" transform=\"translate(513.3299999999999,0)\">2010</text></g><g class=\"xtick\"><text text-anchor=\"middle\" x=\"0\" y=\"433\" style=\"font-family: 'Open Sans', verdana, arial, sans-serif; font-size: 12px; fill: rgb(42, 63, 95); fill-opacity: 1; white-space: pre; opacity: 1;\" transform=\"translate(585.56,0)\">2015</text></g></g><g class=\"yaxislayer-above\"><g class=\"ytick\"><text text-anchor=\"end\" x=\"79\" y=\"4.199999999999999\" transform=\"translate(0,402.06)\" style=\"font-family: 'Open Sans', verdana, arial, sans-serif; font-size: 12px; fill: rgb(42, 63, 95); fill-opacity: 1; white-space: pre; opacity: 1;\">0</text></g><g class=\"ytick\"><text text-anchor=\"end\" x=\"79\" y=\"4.199999999999999\" style=\"font-family: 'Open Sans', verdana, arial, sans-serif; font-size: 12px; fill: rgb(42, 63, 95); fill-opacity: 1; white-space: pre; opacity: 1;\" transform=\"translate(0,363.94)\">20</text></g><g class=\"ytick\"><text text-anchor=\"end\" x=\"79\" y=\"4.199999999999999\" style=\"font-family: 'Open Sans', verdana, arial, sans-serif; font-size: 12px; fill: rgb(42, 63, 95); fill-opacity: 1; white-space: pre; opacity: 1;\" transform=\"translate(0,325.82)\">40</text></g><g class=\"ytick\"><text text-anchor=\"end\" x=\"79\" y=\"4.199999999999999\" style=\"font-family: 'Open Sans', verdana, arial, sans-serif; font-size: 12px; fill: rgb(42, 63, 95); fill-opacity: 1; white-space: pre; opacity: 1;\" transform=\"translate(0,287.7)\">60</text></g><g class=\"ytick\"><text text-anchor=\"end\" x=\"79\" y=\"4.199999999999999\" style=\"font-family: 'Open Sans', verdana, arial, sans-serif; font-size: 12px; fill: rgb(42, 63, 95); fill-opacity: 1; white-space: pre; opacity: 1;\" transform=\"translate(0,249.59)\">80</text></g><g class=\"ytick\"><text text-anchor=\"end\" x=\"79\" y=\"4.199999999999999\" style=\"font-family: 'Open Sans', verdana, arial, sans-serif; font-size: 12px; fill: rgb(42, 63, 95); fill-opacity: 1; white-space: pre; opacity: 1;\" transform=\"translate(0,211.47)\">100</text></g><g class=\"ytick\"><text text-anchor=\"end\" x=\"79\" y=\"4.199999999999999\" style=\"font-family: 'Open Sans', verdana, arial, sans-serif; font-size: 12px; fill: rgb(42, 63, 95); fill-opacity: 1; white-space: pre; opacity: 1;\" transform=\"translate(0,173.35)\">120</text></g><g class=\"ytick\"><text text-anchor=\"end\" x=\"79\" y=\"4.199999999999999\" style=\"font-family: 'Open Sans', verdana, arial, sans-serif; font-size: 12px; fill: rgb(42, 63, 95); fill-opacity: 1; white-space: pre; opacity: 1;\" transform=\"translate(0,135.23000000000002)\">140</text></g><g class=\"ytick\"><text text-anchor=\"end\" x=\"79\" y=\"4.199999999999999\" style=\"font-family: 'Open Sans', verdana, arial, sans-serif; font-size: 12px; fill: rgb(42, 63, 95); fill-opacity: 1; white-space: pre; opacity: 1;\" transform=\"translate(0,97.12)\">160</text></g></g><g class=\"overaxes-above\"/></g></g><g class=\"polarlayer\"/><g class=\"smithlayer\"/><g class=\"ternarylayer\"/><g class=\"geolayer\"/><g class=\"funnelarealayer\"/><g class=\"pielayer\"/><g class=\"iciclelayer\"/><g class=\"treemaplayer\"/><g class=\"sunburstlayer\"/><g class=\"glimages\"/><defs id=\"topdefs-cd8c10\"><g class=\"clips\"/><clipPath id=\"legendcd8c10\"><rect width=\"78\" height=\"86\" x=\"0\" y=\"0\"/></clipPath></defs><g class=\"layer-above\"><g class=\"imagelayer\"/><g class=\"shapelayer\"/></g><g class=\"infolayer\"><g class=\"legend\" pointer-events=\"all\" transform=\"translate(610.4,60)\"><rect class=\"bg\" shape-rendering=\"crispEdges\" style=\"stroke: rgb(68, 68, 68); stroke-opacity: 1; fill: rgb(255, 255, 255); fill-opacity: 1; stroke-width: 0px;\" width=\"78\" height=\"86\" x=\"0\" y=\"0\"/><g class=\"scrollbox\" transform=\"\" clip-path=\"url(#legendcd8c10)\"><text class=\"legendtitletext\" text-anchor=\"start\" x=\"2\" y=\"18.2\" style=\"font-family: 'Open Sans', verdana, arial, sans-serif; font-size: 14px; fill: rgb(42, 63, 95); fill-opacity: 1; white-space: pre;\">variable</text><g class=\"groups\" transform=\"\"><g class=\"traces\" transform=\"translate(0,32.7)\" style=\"opacity: 1;\"><text class=\"legendtext\" text-anchor=\"start\" x=\"40\" y=\"4.680000000000001\" style=\"font-family: 'Open Sans', verdana, arial, sans-serif; font-size: 12px; fill: rgb(42, 63, 95); fill-opacity: 1; white-space: pre;\">X360</text><g class=\"layers\" style=\"opacity: 1;\"><g class=\"legendfill\"/><g class=\"legendlines\"><path class=\"js-line\" d=\"M5,0h30\" style=\"fill: none; stroke: rgb(99, 110, 250); stroke-opacity: 1; stroke-width: 2px;\"/></g><g class=\"legendsymbols\"><g class=\"legendpoints\"/></g></g><rect class=\"legendtoggle\" x=\"0\" y=\"-9.5\" width=\"72.359375\" height=\"19\" style=\"fill: rgb(0, 0, 0); fill-opacity: 0;\"/></g></g><g class=\"groups\" transform=\"\"><g class=\"traces\" transform=\"translate(0,51.7)\" style=\"opacity: 1;\"><text class=\"legendtext\" text-anchor=\"start\" x=\"40\" y=\"4.680000000000001\" style=\"font-family: 'Open Sans', verdana, arial, sans-serif; font-size: 12px; fill: rgb(42, 63, 95); fill-opacity: 1; white-space: pre;\">XOne</text><g class=\"layers\" style=\"opacity: 1;\"><g class=\"legendfill\"/><g class=\"legendlines\"><path class=\"js-line\" d=\"M5,0h30\" style=\"fill: none; stroke: rgb(239, 85, 59); stroke-opacity: 1; stroke-width: 2px;\"/></g><g class=\"legendsymbols\"><g class=\"legendpoints\"/></g></g><rect class=\"legendtoggle\" x=\"0\" y=\"-9.5\" width=\"72.359375\" height=\"19\" style=\"fill: rgb(0, 0, 0); fill-opacity: 0;\"/></g></g><g class=\"groups\" transform=\"\"><g class=\"traces\" transform=\"translate(0,70.7)\" style=\"opacity: 1;\"><text class=\"legendtext\" text-anchor=\"start\" x=\"40\" y=\"4.680000000000001\" style=\"font-family: 'Open Sans', verdana, arial, sans-serif; font-size: 12px; fill: rgb(42, 63, 95); fill-opacity: 1; white-space: pre;\">PC</text><g class=\"layers\" style=\"opacity: 1;\"><g class=\"legendfill\"/><g class=\"legendlines\"><path class=\"js-line\" d=\"M5,0h30\" style=\"fill: none; stroke: rgb(0, 204, 150); stroke-opacity: 1; stroke-width: 2px;\"/></g><g class=\"legendsymbols\"><g class=\"legendpoints\"/></g></g><rect class=\"legendtoggle\" x=\"0\" y=\"-9.5\" width=\"72.359375\" height=\"19\" style=\"fill: rgb(0, 0, 0); fill-opacity: 0;\"/></g></g></g><rect class=\"scrollbar\" rx=\"20\" ry=\"3\" width=\"0\" height=\"0\" style=\"fill: rgb(128, 139, 164); fill-opacity: 1;\" x=\"0\" y=\"0\"/></g><g class=\"g-gtitle\"/><g class=\"g-xtitle\"><text class=\"xtitle\" x=\"340\" y=\"460.8\" text-anchor=\"middle\" style=\"font-family: 'Open Sans', verdana, arial, sans-serif; font-size: 14px; fill: rgb(42, 63, 95); opacity: 1; font-weight: normal; white-space: pre;\">year_of_release</text></g><g class=\"g-ytitle\"><text class=\"ytitle\" transform=\"rotate(-90,31.309375000000003,240)\" x=\"31.309375000000003\" y=\"240\" text-anchor=\"middle\" style=\"font-family: 'Open Sans', verdana, arial, sans-serif; font-size: 14px; fill: rgb(42, 63, 95); opacity: 1; font-weight: normal; white-space: pre;\">value</text></g></g></svg>"
      ]
     },
     "metadata": {},
     "output_type": "display_data"
    }
   ],
   "source": [
    "fig = px.line(data_pivot, x=data_pivot.index, y=['X360', 'XOne','PC'])\n",
    "fig.show('svg')"
   ]
  },
  {
   "cell_type": "markdown",
   "metadata": {},
   "source": [
    "**Вывод**\n",
    "\n",
    "* Наибольшее число игр было продано на следующих платформах (по убыванию): PS2, X360, PS3, Wii, DS, PS, GBA, PS4, PSP, PC.\n",
    "\n",
    "* Большинство платформ имеет продолжительность жизни 9-11 лет: популярность платформы растет первые 4-5 лет, а потом падает из-за появления платформы следующего поколения (проиллюстрировано на примере PlayStation)\n",
    "\n",
    "* В качестве актуального периода примем 2013-н.в., т.к. в этот год на рынок вышли наиболее популярные на данный момент платформы."
   ]
  },
  {
   "cell_type": "markdown",
   "metadata": {},
   "source": [
    "### Исследуем актуальный период"
   ]
  },
  {
   "cell_type": "markdown",
   "metadata": {},
   "source": [
    "Делаем срез по актуальному периоду"
   ]
  },
  {
   "cell_type": "code",
   "execution_count": 22,
   "metadata": {},
   "outputs": [
    {
     "data": {
      "text/html": [
       "<div>\n",
       "<style scoped>\n",
       "    .dataframe tbody tr th:only-of-type {\n",
       "        vertical-align: middle;\n",
       "    }\n",
       "\n",
       "    .dataframe tbody tr th {\n",
       "        vertical-align: top;\n",
       "    }\n",
       "\n",
       "    .dataframe thead th {\n",
       "        text-align: right;\n",
       "    }\n",
       "</style>\n",
       "<table border=\"1\" class=\"dataframe\">\n",
       "  <thead>\n",
       "    <tr style=\"text-align: right;\">\n",
       "      <th></th>\n",
       "      <th>name</th>\n",
       "      <th>platform</th>\n",
       "      <th>year_of_release</th>\n",
       "      <th>genre</th>\n",
       "      <th>na_sales</th>\n",
       "      <th>eu_sales</th>\n",
       "      <th>jp_sales</th>\n",
       "      <th>other_sales</th>\n",
       "      <th>critic_score</th>\n",
       "      <th>user_score</th>\n",
       "      <th>rating</th>\n",
       "      <th>total_sales</th>\n",
       "    </tr>\n",
       "  </thead>\n",
       "  <tbody>\n",
       "    <tr>\n",
       "      <th>16</th>\n",
       "      <td>Grand Theft Auto V</td>\n",
       "      <td>PS3</td>\n",
       "      <td>2013</td>\n",
       "      <td>Action</td>\n",
       "      <td>7.02</td>\n",
       "      <td>9.09</td>\n",
       "      <td>0.98</td>\n",
       "      <td>3.96</td>\n",
       "      <td>97.0</td>\n",
       "      <td>8.2</td>\n",
       "      <td>M</td>\n",
       "      <td>21.05</td>\n",
       "    </tr>\n",
       "    <tr>\n",
       "      <th>23</th>\n",
       "      <td>Grand Theft Auto V</td>\n",
       "      <td>X360</td>\n",
       "      <td>2013</td>\n",
       "      <td>Action</td>\n",
       "      <td>9.66</td>\n",
       "      <td>5.14</td>\n",
       "      <td>0.06</td>\n",
       "      <td>1.41</td>\n",
       "      <td>97.0</td>\n",
       "      <td>8.1</td>\n",
       "      <td>M</td>\n",
       "      <td>16.27</td>\n",
       "    </tr>\n",
       "    <tr>\n",
       "      <th>31</th>\n",
       "      <td>Call of Duty: Black Ops 3</td>\n",
       "      <td>PS4</td>\n",
       "      <td>2015</td>\n",
       "      <td>Shooter</td>\n",
       "      <td>6.03</td>\n",
       "      <td>5.86</td>\n",
       "      <td>0.36</td>\n",
       "      <td>2.38</td>\n",
       "      <td>NaN</td>\n",
       "      <td>NaN</td>\n",
       "      <td>NaN</td>\n",
       "      <td>14.63</td>\n",
       "    </tr>\n",
       "    <tr>\n",
       "      <th>33</th>\n",
       "      <td>Pokemon X/Pokemon Y</td>\n",
       "      <td>3DS</td>\n",
       "      <td>2013</td>\n",
       "      <td>Role-Playing</td>\n",
       "      <td>5.28</td>\n",
       "      <td>4.19</td>\n",
       "      <td>4.35</td>\n",
       "      <td>0.78</td>\n",
       "      <td>NaN</td>\n",
       "      <td>NaN</td>\n",
       "      <td>NaN</td>\n",
       "      <td>14.60</td>\n",
       "    </tr>\n",
       "    <tr>\n",
       "      <th>42</th>\n",
       "      <td>Grand Theft Auto V</td>\n",
       "      <td>PS4</td>\n",
       "      <td>2014</td>\n",
       "      <td>Action</td>\n",
       "      <td>3.96</td>\n",
       "      <td>6.31</td>\n",
       "      <td>0.38</td>\n",
       "      <td>1.97</td>\n",
       "      <td>97.0</td>\n",
       "      <td>8.3</td>\n",
       "      <td>M</td>\n",
       "      <td>12.62</td>\n",
       "    </tr>\n",
       "    <tr>\n",
       "      <th>...</th>\n",
       "      <td>...</td>\n",
       "      <td>...</td>\n",
       "      <td>...</td>\n",
       "      <td>...</td>\n",
       "      <td>...</td>\n",
       "      <td>...</td>\n",
       "      <td>...</td>\n",
       "      <td>...</td>\n",
       "      <td>...</td>\n",
       "      <td>...</td>\n",
       "      <td>...</td>\n",
       "      <td>...</td>\n",
       "    </tr>\n",
       "    <tr>\n",
       "      <th>16703</th>\n",
       "      <td>Strawberry Nauts</td>\n",
       "      <td>PSV</td>\n",
       "      <td>2016</td>\n",
       "      <td>Adventure</td>\n",
       "      <td>0.00</td>\n",
       "      <td>0.00</td>\n",
       "      <td>0.01</td>\n",
       "      <td>0.00</td>\n",
       "      <td>NaN</td>\n",
       "      <td>NaN</td>\n",
       "      <td>NaN</td>\n",
       "      <td>0.01</td>\n",
       "    </tr>\n",
       "    <tr>\n",
       "      <th>16707</th>\n",
       "      <td>Aiyoku no Eustia</td>\n",
       "      <td>PSV</td>\n",
       "      <td>2014</td>\n",
       "      <td>Misc</td>\n",
       "      <td>0.00</td>\n",
       "      <td>0.00</td>\n",
       "      <td>0.01</td>\n",
       "      <td>0.00</td>\n",
       "      <td>NaN</td>\n",
       "      <td>NaN</td>\n",
       "      <td>NaN</td>\n",
       "      <td>0.01</td>\n",
       "    </tr>\n",
       "    <tr>\n",
       "      <th>16710</th>\n",
       "      <td>Samurai Warriors: Sanada Maru</td>\n",
       "      <td>PS3</td>\n",
       "      <td>2016</td>\n",
       "      <td>Action</td>\n",
       "      <td>0.00</td>\n",
       "      <td>0.00</td>\n",
       "      <td>0.01</td>\n",
       "      <td>0.00</td>\n",
       "      <td>NaN</td>\n",
       "      <td>NaN</td>\n",
       "      <td>NaN</td>\n",
       "      <td>0.01</td>\n",
       "    </tr>\n",
       "    <tr>\n",
       "      <th>16712</th>\n",
       "      <td>Haitaka no Psychedelica</td>\n",
       "      <td>PSV</td>\n",
       "      <td>2016</td>\n",
       "      <td>Adventure</td>\n",
       "      <td>0.00</td>\n",
       "      <td>0.00</td>\n",
       "      <td>0.01</td>\n",
       "      <td>0.00</td>\n",
       "      <td>NaN</td>\n",
       "      <td>NaN</td>\n",
       "      <td>NaN</td>\n",
       "      <td>0.01</td>\n",
       "    </tr>\n",
       "    <tr>\n",
       "      <th>16714</th>\n",
       "      <td>Winning Post 8 2016</td>\n",
       "      <td>PSV</td>\n",
       "      <td>2016</td>\n",
       "      <td>Simulation</td>\n",
       "      <td>0.00</td>\n",
       "      <td>0.00</td>\n",
       "      <td>0.01</td>\n",
       "      <td>0.00</td>\n",
       "      <td>NaN</td>\n",
       "      <td>NaN</td>\n",
       "      <td>NaN</td>\n",
       "      <td>0.01</td>\n",
       "    </tr>\n",
       "  </tbody>\n",
       "</table>\n",
       "<p>2233 rows × 12 columns</p>\n",
       "</div>"
      ],
      "text/plain": [
       "                                name platform  year_of_release         genre  \\\n",
       "16                Grand Theft Auto V      PS3             2013        Action   \n",
       "23                Grand Theft Auto V     X360             2013        Action   \n",
       "31         Call of Duty: Black Ops 3      PS4             2015       Shooter   \n",
       "33               Pokemon X/Pokemon Y      3DS             2013  Role-Playing   \n",
       "42                Grand Theft Auto V      PS4             2014        Action   \n",
       "...                              ...      ...              ...           ...   \n",
       "16703               Strawberry Nauts      PSV             2016     Adventure   \n",
       "16707               Aiyoku no Eustia      PSV             2014          Misc   \n",
       "16710  Samurai Warriors: Sanada Maru      PS3             2016        Action   \n",
       "16712        Haitaka no Psychedelica      PSV             2016     Adventure   \n",
       "16714            Winning Post 8 2016      PSV             2016    Simulation   \n",
       "\n",
       "       na_sales  eu_sales  jp_sales  other_sales  critic_score  user_score  \\\n",
       "16         7.02      9.09      0.98         3.96          97.0         8.2   \n",
       "23         9.66      5.14      0.06         1.41          97.0         8.1   \n",
       "31         6.03      5.86      0.36         2.38           NaN         NaN   \n",
       "33         5.28      4.19      4.35         0.78           NaN         NaN   \n",
       "42         3.96      6.31      0.38         1.97          97.0         8.3   \n",
       "...         ...       ...       ...          ...           ...         ...   \n",
       "16703      0.00      0.00      0.01         0.00           NaN         NaN   \n",
       "16707      0.00      0.00      0.01         0.00           NaN         NaN   \n",
       "16710      0.00      0.00      0.01         0.00           NaN         NaN   \n",
       "16712      0.00      0.00      0.01         0.00           NaN         NaN   \n",
       "16714      0.00      0.00      0.01         0.00           NaN         NaN   \n",
       "\n",
       "      rating  total_sales  \n",
       "16         M        21.05  \n",
       "23         M        16.27  \n",
       "31       NaN        14.63  \n",
       "33       NaN        14.60  \n",
       "42         M        12.62  \n",
       "...      ...          ...  \n",
       "16703    NaN         0.01  \n",
       "16707    NaN         0.01  \n",
       "16710    NaN         0.01  \n",
       "16712    NaN         0.01  \n",
       "16714    NaN         0.01  \n",
       "\n",
       "[2233 rows x 12 columns]"
      ]
     },
     "metadata": {},
     "output_type": "display_data"
    }
   ],
   "source": [
    "data_actual = data.query('year_of_release >= 2013')\n",
    "display(data_actual)"
   ]
  },
  {
   "cell_type": "markdown",
   "metadata": {},
   "source": [
    "Определяем популярные платформы за актуальный период"
   ]
  },
  {
   "cell_type": "code",
   "execution_count": 23,
   "metadata": {
    "scrolled": true
   },
   "outputs": [
    {
     "data": {
      "text/html": [
       "<div>\n",
       "<style scoped>\n",
       "    .dataframe tbody tr th:only-of-type {\n",
       "        vertical-align: middle;\n",
       "    }\n",
       "\n",
       "    .dataframe tbody tr th {\n",
       "        vertical-align: top;\n",
       "    }\n",
       "\n",
       "    .dataframe thead th {\n",
       "        text-align: right;\n",
       "    }\n",
       "</style>\n",
       "<table border=\"1\" class=\"dataframe\">\n",
       "  <thead>\n",
       "    <tr style=\"text-align: right;\">\n",
       "      <th></th>\n",
       "      <th>total_sales</th>\n",
       "    </tr>\n",
       "    <tr>\n",
       "      <th>platform</th>\n",
       "      <th></th>\n",
       "    </tr>\n",
       "  </thead>\n",
       "  <tbody>\n",
       "    <tr>\n",
       "      <th>PS4</th>\n",
       "      <td>314.14</td>\n",
       "    </tr>\n",
       "    <tr>\n",
       "      <th>PS3</th>\n",
       "      <td>181.43</td>\n",
       "    </tr>\n",
       "    <tr>\n",
       "      <th>XOne</th>\n",
       "      <td>159.32</td>\n",
       "    </tr>\n",
       "    <tr>\n",
       "      <th>3DS</th>\n",
       "      <td>143.25</td>\n",
       "    </tr>\n",
       "    <tr>\n",
       "      <th>X360</th>\n",
       "      <td>136.80</td>\n",
       "    </tr>\n",
       "    <tr>\n",
       "      <th>WiiU</th>\n",
       "      <td>64.63</td>\n",
       "    </tr>\n",
       "    <tr>\n",
       "      <th>PC</th>\n",
       "      <td>39.43</td>\n",
       "    </tr>\n",
       "    <tr>\n",
       "      <th>PSV</th>\n",
       "      <td>32.99</td>\n",
       "    </tr>\n",
       "    <tr>\n",
       "      <th>Wii</th>\n",
       "      <td>13.66</td>\n",
       "    </tr>\n",
       "    <tr>\n",
       "      <th>PSP</th>\n",
       "      <td>3.50</td>\n",
       "    </tr>\n",
       "    <tr>\n",
       "      <th>DS</th>\n",
       "      <td>1.54</td>\n",
       "    </tr>\n",
       "  </tbody>\n",
       "</table>\n",
       "</div>"
      ],
      "text/plain": [
       "          total_sales\n",
       "platform             \n",
       "PS4            314.14\n",
       "PS3            181.43\n",
       "XOne           159.32\n",
       "3DS            143.25\n",
       "X360           136.80\n",
       "WiiU            64.63\n",
       "PC              39.43\n",
       "PSV             32.99\n",
       "Wii             13.66\n",
       "PSP              3.50\n",
       "DS               1.54"
      ]
     },
     "metadata": {},
     "output_type": "display_data"
    }
   ],
   "source": [
    "display(data_actual.pivot_table(index='platform', \n",
    "                                values='total_sales', \n",
    "                                aggfunc='sum').\n",
    "                                sort_values(\n",
    "                                by='total_sales',\n",
    "                                ascending=False).head(15))"
   ]
  },
  {
   "cell_type": "code",
   "execution_count": 24,
   "metadata": {},
   "outputs": [],
   "source": [
    "data_actual_pivot = data_actual.pivot_table(index='year_of_release',\n",
    "                                            columns='platform', \n",
    "                                            values='total_sales',\n",
    "                                            aggfunc='sum')"
   ]
  },
  {
   "cell_type": "code",
   "execution_count": 25,
   "metadata": {},
   "outputs": [
    {
     "data": {
      "image/svg+xml": [
       "<svg class=\"main-svg\" xmlns=\"http://www.w3.org/2000/svg\" xmlns:xlink=\"http://www.w3.org/1999/xlink\" width=\"700\" height=\"500\" style=\"\" viewBox=\"0 0 700 500\"><rect x=\"0\" y=\"0\" width=\"700\" height=\"500\" style=\"fill: rgb(255, 255, 255); fill-opacity: 1;\"/><defs id=\"defs-0721a1\"><g class=\"clips\"><clipPath id=\"clip0721a1xyplot\" class=\"plotclip\"><rect width=\"521\" height=\"360\"/></clipPath><clipPath class=\"axesclip\" id=\"clip0721a1x\"><rect x=\"80\" y=\"0\" width=\"521\" height=\"500\"/></clipPath><clipPath class=\"axesclip\" id=\"clip0721a1y\"><rect x=\"0\" y=\"60\" width=\"700\" height=\"360\"/></clipPath><clipPath class=\"axesclip\" id=\"clip0721a1xy\"><rect x=\"80\" y=\"60\" width=\"521\" height=\"360\"/></clipPath></g><g class=\"gradients\"/><g class=\"patterns\"/></defs><g class=\"bglayer\"><rect class=\"bg\" x=\"80\" y=\"60\" width=\"521\" height=\"360\" style=\"fill: rgb(229, 236, 246); fill-opacity: 1; stroke-width: 0;\"/></g><g class=\"layer-below\"><g class=\"imagelayer\"/><g class=\"shapelayer\"/></g><g class=\"cartesianlayer\"><g class=\"subplot xy\"><g class=\"layer-subplot\"><g class=\"shapelayer\"/><g class=\"imagelayer\"/></g><g class=\"minor-gridlayer\"><g class=\"x\"/><g class=\"y\"/></g><g class=\"gridlayer\"><g class=\"x\"><path class=\"xgrid crisp\" transform=\"translate(166.82999999999998,0)\" d=\"M0,60v360\" style=\"stroke: rgb(255, 255, 255); stroke-opacity: 1; stroke-width: 1px;\"/><path class=\"xgrid crisp\" transform=\"translate(253.67,0)\" d=\"M0,60v360\" style=\"stroke: rgb(255, 255, 255); stroke-opacity: 1; stroke-width: 1px;\"/><path class=\"xgrid crisp\" transform=\"translate(340.5,0)\" d=\"M0,60v360\" style=\"stroke: rgb(255, 255, 255); stroke-opacity: 1; stroke-width: 1px;\"/><path class=\"xgrid crisp\" transform=\"translate(427.33,0)\" d=\"M0,60v360\" style=\"stroke: rgb(255, 255, 255); stroke-opacity: 1; stroke-width: 1px;\"/><path class=\"xgrid crisp\" transform=\"translate(514.1700000000001,0)\" d=\"M0,60v360\" style=\"stroke: rgb(255, 255, 255); stroke-opacity: 1; stroke-width: 1px;\"/></g><g class=\"y\"><path class=\"ygrid crisp\" transform=\"translate(0,350.99)\" d=\"M80,0h521\" style=\"stroke: rgb(255, 255, 255); stroke-opacity: 1; stroke-width: 1px;\"/><path class=\"ygrid crisp\" transform=\"translate(0,295.78)\" d=\"M80,0h521\" style=\"stroke: rgb(255, 255, 255); stroke-opacity: 1; stroke-width: 1px;\"/><path class=\"ygrid crisp\" transform=\"translate(0,240.58)\" d=\"M80,0h521\" style=\"stroke: rgb(255, 255, 255); stroke-opacity: 1; stroke-width: 1px;\"/><path class=\"ygrid crisp\" transform=\"translate(0,185.37)\" d=\"M80,0h521\" style=\"stroke: rgb(255, 255, 255); stroke-opacity: 1; stroke-width: 1px;\"/><path class=\"ygrid crisp\" transform=\"translate(0,130.17000000000002)\" d=\"M80,0h521\" style=\"stroke: rgb(255, 255, 255); stroke-opacity: 1; stroke-width: 1px;\"/><path class=\"ygrid crisp\" transform=\"translate(0,74.96000000000001)\" d=\"M80,0h521\" style=\"stroke: rgb(255, 255, 255); stroke-opacity: 1; stroke-width: 1px;\"/></g></g><g class=\"zerolinelayer\"><path class=\"yzl zl crisp\" transform=\"translate(0,406.2)\" d=\"M80,0h521\" style=\"stroke: rgb(255, 255, 255); stroke-opacity: 1; stroke-width: 2px;\"/></g><path class=\"xlines-below\"/><path class=\"ylines-below\"/><g class=\"overlines-below\"/><g class=\"xaxislayer-below\"/><g class=\"yaxislayer-below\"/><g class=\"overaxes-below\"/><g class=\"plot\" transform=\"translate(80,60)\" clip-path=\"url(#clip0721a1xyplot)\"><g class=\"scatterlayer mlayer\"><g class=\"trace scatter trace856fba\" style=\"stroke-miterlimit: 2; opacity: 1;\"><g class=\"fills\"/><g class=\"errorbars\"/><g class=\"lines\"><path class=\"js-line\" d=\"M0,274.46L173.67,70.17L347.33,18L521,155.05\" style=\"vector-effect: non-scaling-stroke; fill: none; stroke: rgb(99, 110, 250); stroke-opacity: 1; stroke-width: 2px; opacity: 1;\"/></g><g class=\"points\"/><g class=\"text\"/></g><g class=\"trace scatter trace767390\" style=\"stroke-miterlimit: 2; opacity: 1;\"><g class=\"fills\"/><g class=\"errorbars\"/><g class=\"lines\"><path class=\"js-line\" d=\"M0,33.6L173.67,214.37L347.33,299.77L521,336.26\" style=\"vector-effect: non-scaling-stroke; fill: none; stroke: rgb(239, 85, 59); stroke-opacity: 1; stroke-width: 2px; opacity: 1;\"/></g><g class=\"points\"/><g class=\"text\"/></g><g class=\"trace scatter tracea835d9\" style=\"stroke-miterlimit: 2; opacity: 1;\"><g class=\"fills\"/><g class=\"errorbars\"/><g class=\"lines\"><path class=\"js-line\" d=\"M0,101.69L173.67,250.3L347.33,313.18L521,342\" style=\"vector-effect: non-scaling-stroke; fill: none; stroke: rgb(0, 204, 150); stroke-opacity: 1; stroke-width: 2px; opacity: 1;\"/></g><g class=\"points\"/><g class=\"text\"/></g><g class=\"trace scatter trace7cca99\" style=\"stroke-miterlimit: 2; opacity: 1;\"><g class=\"fills\"/><g class=\"errorbars\"/><g class=\"lines\"><path class=\"js-line\" d=\"M0,190.05L173.67,225.41L347.33,269.52L521,304.41\" style=\"vector-effect: non-scaling-stroke; fill: none; stroke: rgb(171, 99, 250); stroke-opacity: 1; stroke-width: 2px; opacity: 1;\"/></g><g class=\"points\"/><g class=\"text\"/></g></g></g><g class=\"overplot\"/><path class=\"xlines-above crisp\" d=\"M0,0\" style=\"fill: none;\"/><path class=\"ylines-above crisp\" d=\"M0,0\" style=\"fill: none;\"/><g class=\"overlines-above\"/><g class=\"xaxislayer-above\"><g class=\"xtick\"><text text-anchor=\"middle\" x=\"0\" y=\"433\" transform=\"translate(80,0)\" style=\"font-family: 'Open Sans', verdana, arial, sans-serif; font-size: 12px; fill: rgb(42, 63, 95); fill-opacity: 1; white-space: pre; opacity: 1;\">2013</text></g><g class=\"xtick\"><text text-anchor=\"middle\" x=\"0\" y=\"433\" style=\"font-family: 'Open Sans', verdana, arial, sans-serif; font-size: 12px; fill: rgb(42, 63, 95); fill-opacity: 1; white-space: pre; opacity: 1;\" transform=\"translate(166.82999999999998,0)\">2,013.5</text></g><g class=\"xtick\"><text text-anchor=\"middle\" x=\"0\" y=\"433\" style=\"font-family: 'Open Sans', verdana, arial, sans-serif; font-size: 12px; fill: rgb(42, 63, 95); fill-opacity: 1; white-space: pre; opacity: 1;\" transform=\"translate(253.67,0)\">2014</text></g><g class=\"xtick\"><text text-anchor=\"middle\" x=\"0\" y=\"433\" style=\"font-family: 'Open Sans', verdana, arial, sans-serif; font-size: 12px; fill: rgb(42, 63, 95); fill-opacity: 1; white-space: pre; opacity: 1;\" transform=\"translate(340.5,0)\">2,014.5</text></g><g class=\"xtick\"><text text-anchor=\"middle\" x=\"0\" y=\"433\" style=\"font-family: 'Open Sans', verdana, arial, sans-serif; font-size: 12px; fill: rgb(42, 63, 95); fill-opacity: 1; white-space: pre; opacity: 1;\" transform=\"translate(427.33,0)\">2015</text></g><g class=\"xtick\"><text text-anchor=\"middle\" x=\"0\" y=\"433\" style=\"font-family: 'Open Sans', verdana, arial, sans-serif; font-size: 12px; fill: rgb(42, 63, 95); fill-opacity: 1; white-space: pre; opacity: 1;\" transform=\"translate(514.1700000000001,0)\">2,015.5</text></g><g class=\"xtick\"><text text-anchor=\"middle\" x=\"0\" y=\"433\" style=\"font-family: 'Open Sans', verdana, arial, sans-serif; font-size: 12px; fill: rgb(42, 63, 95); fill-opacity: 1; white-space: pre; opacity: 1;\" transform=\"translate(601,0)\">2016</text></g></g><g class=\"yaxislayer-above\"><g class=\"ytick\"><text text-anchor=\"end\" x=\"79\" y=\"4.199999999999999\" transform=\"translate(0,406.2)\" style=\"font-family: 'Open Sans', verdana, arial, sans-serif; font-size: 12px; fill: rgb(42, 63, 95); fill-opacity: 1; white-space: pre; opacity: 1;\">0</text></g><g class=\"ytick\"><text text-anchor=\"end\" x=\"79\" y=\"4.199999999999999\" style=\"font-family: 'Open Sans', verdana, arial, sans-serif; font-size: 12px; fill: rgb(42, 63, 95); fill-opacity: 1; white-space: pre; opacity: 1;\" transform=\"translate(0,350.99)\">20</text></g><g class=\"ytick\"><text text-anchor=\"end\" x=\"79\" y=\"4.199999999999999\" style=\"font-family: 'Open Sans', verdana, arial, sans-serif; font-size: 12px; fill: rgb(42, 63, 95); fill-opacity: 1; white-space: pre; opacity: 1;\" transform=\"translate(0,295.78)\">40</text></g><g class=\"ytick\"><text text-anchor=\"end\" x=\"79\" y=\"4.199999999999999\" style=\"font-family: 'Open Sans', verdana, arial, sans-serif; font-size: 12px; fill: rgb(42, 63, 95); fill-opacity: 1; white-space: pre; opacity: 1;\" transform=\"translate(0,240.58)\">60</text></g><g class=\"ytick\"><text text-anchor=\"end\" x=\"79\" y=\"4.199999999999999\" style=\"font-family: 'Open Sans', verdana, arial, sans-serif; font-size: 12px; fill: rgb(42, 63, 95); fill-opacity: 1; white-space: pre; opacity: 1;\" transform=\"translate(0,185.37)\">80</text></g><g class=\"ytick\"><text text-anchor=\"end\" x=\"79\" y=\"4.199999999999999\" style=\"font-family: 'Open Sans', verdana, arial, sans-serif; font-size: 12px; fill: rgb(42, 63, 95); fill-opacity: 1; white-space: pre; opacity: 1;\" transform=\"translate(0,130.17000000000002)\">100</text></g><g class=\"ytick\"><text text-anchor=\"end\" x=\"79\" y=\"4.199999999999999\" style=\"font-family: 'Open Sans', verdana, arial, sans-serif; font-size: 12px; fill: rgb(42, 63, 95); fill-opacity: 1; white-space: pre; opacity: 1;\" transform=\"translate(0,74.96000000000001)\">120</text></g></g><g class=\"overaxes-above\"/></g></g><g class=\"polarlayer\"/><g class=\"smithlayer\"/><g class=\"ternarylayer\"/><g class=\"geolayer\"/><g class=\"funnelarealayer\"/><g class=\"pielayer\"/><g class=\"iciclelayer\"/><g class=\"treemaplayer\"/><g class=\"sunburstlayer\"/><g class=\"glimages\"/><defs id=\"topdefs-0721a1\"><g class=\"clips\"/><clipPath id=\"legend0721a1\"><rect width=\"77\" height=\"105\" x=\"0\" y=\"0\"/></clipPath></defs><g class=\"layer-above\"><g class=\"imagelayer\"/><g class=\"shapelayer\"/></g><g class=\"infolayer\"><g class=\"legend\" pointer-events=\"all\" transform=\"translate(611.42,60)\"><rect class=\"bg\" shape-rendering=\"crispEdges\" style=\"stroke: rgb(68, 68, 68); stroke-opacity: 1; fill: rgb(255, 255, 255); fill-opacity: 1; stroke-width: 0px;\" width=\"77\" height=\"105\" x=\"0\" y=\"0\"/><g class=\"scrollbox\" transform=\"\" clip-path=\"url(#legend0721a1)\"><text class=\"legendtitletext\" text-anchor=\"start\" x=\"2\" y=\"18.2\" style=\"font-family: 'Open Sans', verdana, arial, sans-serif; font-size: 14px; fill: rgb(42, 63, 95); fill-opacity: 1; white-space: pre;\">variable</text><g class=\"groups\" transform=\"\"><g class=\"traces\" transform=\"translate(0,32.7)\" style=\"opacity: 1;\"><text class=\"legendtext\" text-anchor=\"start\" x=\"40\" y=\"4.680000000000001\" style=\"font-family: 'Open Sans', verdana, arial, sans-serif; font-size: 12px; fill: rgb(42, 63, 95); fill-opacity: 1; white-space: pre;\">PS4</text><g class=\"layers\" style=\"opacity: 1;\"><g class=\"legendfill\"/><g class=\"legendlines\"><path class=\"js-line\" d=\"M5,0h30\" style=\"fill: none; stroke: rgb(99, 110, 250); stroke-opacity: 1; stroke-width: 2px;\"/></g><g class=\"legendsymbols\"><g class=\"legendpoints\"/></g></g><rect class=\"legendtoggle\" x=\"0\" y=\"-9.5\" width=\"71.484375\" height=\"19\" style=\"fill: rgb(0, 0, 0); fill-opacity: 0;\"/></g></g><g class=\"groups\" transform=\"\"><g class=\"traces\" transform=\"translate(0,51.7)\" style=\"opacity: 1;\"><text class=\"legendtext\" text-anchor=\"start\" x=\"40\" y=\"4.680000000000001\" style=\"font-family: 'Open Sans', verdana, arial, sans-serif; font-size: 12px; fill: rgb(42, 63, 95); fill-opacity: 1; white-space: pre;\">PS3</text><g class=\"layers\" style=\"opacity: 1;\"><g class=\"legendfill\"/><g class=\"legendlines\"><path class=\"js-line\" d=\"M5,0h30\" style=\"fill: none; stroke: rgb(239, 85, 59); stroke-opacity: 1; stroke-width: 2px;\"/></g><g class=\"legendsymbols\"><g class=\"legendpoints\"/></g></g><rect class=\"legendtoggle\" x=\"0\" y=\"-9.5\" width=\"71.484375\" height=\"19\" style=\"fill: rgb(0, 0, 0); fill-opacity: 0;\"/></g></g><g class=\"groups\" transform=\"\"><g class=\"traces\" transform=\"translate(0,70.7)\" style=\"opacity: 1;\"><text class=\"legendtext\" text-anchor=\"start\" x=\"40\" y=\"4.680000000000001\" style=\"font-family: 'Open Sans', verdana, arial, sans-serif; font-size: 12px; fill: rgb(42, 63, 95); fill-opacity: 1; white-space: pre;\">X360</text><g class=\"layers\" style=\"opacity: 1;\"><g class=\"legendfill\"/><g class=\"legendlines\"><path class=\"js-line\" d=\"M5,0h30\" style=\"fill: none; stroke: rgb(0, 204, 150); stroke-opacity: 1; stroke-width: 2px;\"/></g><g class=\"legendsymbols\"><g class=\"legendpoints\"/></g></g><rect class=\"legendtoggle\" x=\"0\" y=\"-9.5\" width=\"71.484375\" height=\"19\" style=\"fill: rgb(0, 0, 0); fill-opacity: 0;\"/></g></g><g class=\"groups\" transform=\"\"><g class=\"traces\" transform=\"translate(0,89.7)\" style=\"opacity: 1;\"><text class=\"legendtext\" text-anchor=\"start\" x=\"40\" y=\"4.680000000000001\" style=\"font-family: 'Open Sans', verdana, arial, sans-serif; font-size: 12px; fill: rgb(42, 63, 95); fill-opacity: 1; white-space: pre;\">3DS</text><g class=\"layers\" style=\"opacity: 1;\"><g class=\"legendfill\"/><g class=\"legendlines\"><path class=\"js-line\" d=\"M5,0h30\" style=\"fill: none; stroke: rgb(171, 99, 250); stroke-opacity: 1; stroke-width: 2px;\"/></g><g class=\"legendsymbols\"><g class=\"legendpoints\"/></g></g><rect class=\"legendtoggle\" x=\"0\" y=\"-9.5\" width=\"71.484375\" height=\"19\" style=\"fill: rgb(0, 0, 0); fill-opacity: 0;\"/></g></g></g><rect class=\"scrollbar\" rx=\"20\" ry=\"3\" width=\"0\" height=\"0\" style=\"fill: rgb(128, 139, 164); fill-opacity: 1;\" x=\"0\" y=\"0\"/></g><g class=\"g-gtitle\"/><g class=\"g-xtitle\"><text class=\"xtitle\" x=\"340.5\" y=\"460.8\" text-anchor=\"middle\" style=\"font-family: 'Open Sans', verdana, arial, sans-serif; font-size: 14px; fill: rgb(42, 63, 95); opacity: 1; font-weight: normal; white-space: pre;\">year_of_release</text></g><g class=\"g-ytitle\"><text class=\"ytitle\" transform=\"rotate(-90,31.309375000000003,240)\" x=\"31.309375000000003\" y=\"240\" text-anchor=\"middle\" style=\"font-family: 'Open Sans', verdana, arial, sans-serif; font-size: 14px; fill: rgb(42, 63, 95); opacity: 1; font-weight: normal; white-space: pre;\">value</text></g></g></svg>"
      ]
     },
     "metadata": {},
     "output_type": "display_data"
    }
   ],
   "source": [
    "fig = px.line(data_actual_pivot, x=data_actual_pivot.index, y=['PS4','PS3', 'X360', '3DS'])\n",
    "fig.show('svg')"
   ]
  },
  {
   "cell_type": "code",
   "execution_count": 26,
   "metadata": {},
   "outputs": [
    {
     "data": {
      "image/svg+xml": [
       "<svg class=\"main-svg\" xmlns=\"http://www.w3.org/2000/svg\" xmlns:xlink=\"http://www.w3.org/1999/xlink\" width=\"700\" height=\"500\" style=\"\" viewBox=\"0 0 700 500\"><rect x=\"0\" y=\"0\" width=\"700\" height=\"500\" style=\"fill: rgb(255, 255, 255); fill-opacity: 1;\"/><defs id=\"defs-4874a9\"><g class=\"clips\"><clipPath id=\"clip4874a9xyplot\" class=\"plotclip\"><rect width=\"520\" height=\"360\"/></clipPath><clipPath class=\"axesclip\" id=\"clip4874a9x\"><rect x=\"80\" y=\"0\" width=\"520\" height=\"500\"/></clipPath><clipPath class=\"axesclip\" id=\"clip4874a9y\"><rect x=\"0\" y=\"60\" width=\"700\" height=\"360\"/></clipPath><clipPath class=\"axesclip\" id=\"clip4874a9xy\"><rect x=\"80\" y=\"60\" width=\"520\" height=\"360\"/></clipPath></g><g class=\"gradients\"/><g class=\"patterns\"/></defs><g class=\"bglayer\"><rect class=\"bg\" x=\"80\" y=\"60\" width=\"520\" height=\"360\" style=\"fill: rgb(229, 236, 246); fill-opacity: 1; stroke-width: 0;\"/></g><g class=\"layer-below\"><g class=\"imagelayer\"/><g class=\"shapelayer\"/></g><g class=\"cartesianlayer\"><g class=\"subplot xy\"><g class=\"layer-subplot\"><g class=\"shapelayer\"/><g class=\"imagelayer\"/></g><g class=\"minor-gridlayer\"><g class=\"x\"/><g class=\"y\"/></g><g class=\"gridlayer\"><g class=\"x\"><path class=\"xgrid crisp\" transform=\"translate(166.67000000000002,0)\" d=\"M0,60v360\" style=\"stroke: rgb(255, 255, 255); stroke-opacity: 1; stroke-width: 1px;\"/><path class=\"xgrid crisp\" transform=\"translate(253.33,0)\" d=\"M0,60v360\" style=\"stroke: rgb(255, 255, 255); stroke-opacity: 1; stroke-width: 1px;\"/><path class=\"xgrid crisp\" transform=\"translate(340,0)\" d=\"M0,60v360\" style=\"stroke: rgb(255, 255, 255); stroke-opacity: 1; stroke-width: 1px;\"/><path class=\"xgrid crisp\" transform=\"translate(426.67,0)\" d=\"M0,60v360\" style=\"stroke: rgb(255, 255, 255); stroke-opacity: 1; stroke-width: 1px;\"/><path class=\"xgrid crisp\" transform=\"translate(513.3299999999999,0)\" d=\"M0,60v360\" style=\"stroke: rgb(255, 255, 255); stroke-opacity: 1; stroke-width: 1px;\"/></g><g class=\"y\"><path class=\"ygrid crisp\" transform=\"translate(0,368.67)\" d=\"M80,0h520\" style=\"stroke: rgb(255, 255, 255); stroke-opacity: 1; stroke-width: 1px;\"/><path class=\"ygrid crisp\" transform=\"translate(0,310.7)\" d=\"M80,0h520\" style=\"stroke: rgb(255, 255, 255); stroke-opacity: 1; stroke-width: 1px;\"/><path class=\"ygrid crisp\" transform=\"translate(0,252.72)\" d=\"M80,0h520\" style=\"stroke: rgb(255, 255, 255); stroke-opacity: 1; stroke-width: 1px;\"/><path class=\"ygrid crisp\" transform=\"translate(0,194.75)\" d=\"M80,0h520\" style=\"stroke: rgb(255, 255, 255); stroke-opacity: 1; stroke-width: 1px;\"/><path class=\"ygrid crisp\" transform=\"translate(0,136.78)\" d=\"M80,0h520\" style=\"stroke: rgb(255, 255, 255); stroke-opacity: 1; stroke-width: 1px;\"/><path class=\"ygrid crisp\" transform=\"translate(0,78.81)\" d=\"M80,0h520\" style=\"stroke: rgb(255, 255, 255); stroke-opacity: 1; stroke-width: 1px;\"/></g></g><g class=\"zerolinelayer\"/><path class=\"xlines-below\"/><path class=\"ylines-below\"/><g class=\"overlines-below\"/><g class=\"xaxislayer-below\"/><g class=\"yaxislayer-below\"/><g class=\"overaxes-below\"/><g class=\"plot\" transform=\"translate(80,60)\" clip-path=\"url(#clip4874a9xyplot)\"><g class=\"scatterlayer mlayer\"><g class=\"trace scatter trace396313\" style=\"stroke-miterlimit: 2; opacity: 1;\"><g class=\"fills\"/><g class=\"errorbars\"/><g class=\"lines\"><path class=\"js-line\" d=\"M0,256.72L173.33,53.19L346.67,18L520,215.04\" style=\"vector-effect: non-scaling-stroke; fill: none; stroke: rgb(99, 110, 250); stroke-opacity: 1; stroke-width: 2px; opacity: 1;\"/></g><g class=\"points\"/><g class=\"text\"/></g><g class=\"trace scatter tracedbe168\" style=\"stroke-miterlimit: 2; opacity: 1;\"><g class=\"fills\"/><g class=\"errorbars\"/><g class=\"lines\"><path class=\"js-line\" d=\"M0,241.13L173.33,238.93L346.67,271.86L520,339.97\" style=\"vector-effect: non-scaling-stroke; fill: none; stroke: rgb(239, 85, 59); stroke-opacity: 1; stroke-width: 2px; opacity: 1;\"/></g><g class=\"points\"/><g class=\"text\"/></g><g class=\"trace scatter trace49d190\" style=\"stroke-miterlimit: 2; opacity: 1;\"><g class=\"fills\"/><g class=\"errorbars\"/><g class=\"lines\"><path class=\"js-line\" d=\"M0,294.87L173.33,289.65L346.67,317.25L520,336.2\" style=\"vector-effect: non-scaling-stroke; fill: none; stroke: rgb(0, 204, 150); stroke-opacity: 1; stroke-width: 2px; opacity: 1;\"/></g><g class=\"points\"/><g class=\"text\"/></g><g class=\"trace scatter trace53d6d6\" style=\"stroke-miterlimit: 2; opacity: 1;\"><g class=\"fills\"/><g class=\"errorbars\"/><g class=\"lines\"><path class=\"js-line\" d=\"M0,305.25L173.33,297.65L346.67,330.41L520,342\" style=\"vector-effect: non-scaling-stroke; fill: none; stroke: rgb(171, 99, 250); stroke-opacity: 1; stroke-width: 2px; opacity: 1;\"/></g><g class=\"points\"/><g class=\"text\"/></g></g></g><g class=\"overplot\"/><path class=\"xlines-above crisp\" d=\"M0,0\" style=\"fill: none;\"/><path class=\"ylines-above crisp\" d=\"M0,0\" style=\"fill: none;\"/><g class=\"overlines-above\"/><g class=\"xaxislayer-above\"><g class=\"xtick\"><text text-anchor=\"middle\" x=\"0\" y=\"433\" transform=\"translate(80,0)\" style=\"font-family: 'Open Sans', verdana, arial, sans-serif; font-size: 12px; fill: rgb(42, 63, 95); fill-opacity: 1; white-space: pre; opacity: 1;\">2013</text></g><g class=\"xtick\"><text text-anchor=\"middle\" x=\"0\" y=\"433\" style=\"font-family: 'Open Sans', verdana, arial, sans-serif; font-size: 12px; fill: rgb(42, 63, 95); fill-opacity: 1; white-space: pre; opacity: 1;\" transform=\"translate(166.67000000000002,0)\">2,013.5</text></g><g class=\"xtick\"><text text-anchor=\"middle\" x=\"0\" y=\"433\" style=\"font-family: 'Open Sans', verdana, arial, sans-serif; font-size: 12px; fill: rgb(42, 63, 95); fill-opacity: 1; white-space: pre; opacity: 1;\" transform=\"translate(253.33,0)\">2014</text></g><g class=\"xtick\"><text text-anchor=\"middle\" x=\"0\" y=\"433\" style=\"font-family: 'Open Sans', verdana, arial, sans-serif; font-size: 12px; fill: rgb(42, 63, 95); fill-opacity: 1; white-space: pre; opacity: 1;\" transform=\"translate(340,0)\">2,014.5</text></g><g class=\"xtick\"><text text-anchor=\"middle\" x=\"0\" y=\"433\" style=\"font-family: 'Open Sans', verdana, arial, sans-serif; font-size: 12px; fill: rgb(42, 63, 95); fill-opacity: 1; white-space: pre; opacity: 1;\" transform=\"translate(426.67,0)\">2015</text></g><g class=\"xtick\"><text text-anchor=\"middle\" x=\"0\" y=\"433\" style=\"font-family: 'Open Sans', verdana, arial, sans-serif; font-size: 12px; fill: rgb(42, 63, 95); fill-opacity: 1; white-space: pre; opacity: 1;\" transform=\"translate(513.3299999999999,0)\">2,015.5</text></g><g class=\"xtick\"><text text-anchor=\"middle\" x=\"0\" y=\"433\" style=\"font-family: 'Open Sans', verdana, arial, sans-serif; font-size: 12px; fill: rgb(42, 63, 95); fill-opacity: 1; white-space: pre; opacity: 1;\" transform=\"translate(600,0)\">2016</text></g></g><g class=\"yaxislayer-above\"><g class=\"ytick\"><text text-anchor=\"end\" x=\"79\" y=\"4.199999999999999\" transform=\"translate(0,368.67)\" style=\"font-family: 'Open Sans', verdana, arial, sans-serif; font-size: 12px; fill: rgb(42, 63, 95); fill-opacity: 1; white-space: pre; opacity: 1;\">10</text></g><g class=\"ytick\"><text text-anchor=\"end\" x=\"79\" y=\"4.199999999999999\" style=\"font-family: 'Open Sans', verdana, arial, sans-serif; font-size: 12px; fill: rgb(42, 63, 95); fill-opacity: 1; white-space: pre; opacity: 1;\" transform=\"translate(0,310.7)\">20</text></g><g class=\"ytick\"><text text-anchor=\"end\" x=\"79\" y=\"4.199999999999999\" style=\"font-family: 'Open Sans', verdana, arial, sans-serif; font-size: 12px; fill: rgb(42, 63, 95); fill-opacity: 1; white-space: pre; opacity: 1;\" transform=\"translate(0,252.72)\">30</text></g><g class=\"ytick\"><text text-anchor=\"end\" x=\"79\" y=\"4.199999999999999\" style=\"font-family: 'Open Sans', verdana, arial, sans-serif; font-size: 12px; fill: rgb(42, 63, 95); fill-opacity: 1; white-space: pre; opacity: 1;\" transform=\"translate(0,194.75)\">40</text></g><g class=\"ytick\"><text text-anchor=\"end\" x=\"79\" y=\"4.199999999999999\" style=\"font-family: 'Open Sans', verdana, arial, sans-serif; font-size: 12px; fill: rgb(42, 63, 95); fill-opacity: 1; white-space: pre; opacity: 1;\" transform=\"translate(0,136.78)\">50</text></g><g class=\"ytick\"><text text-anchor=\"end\" x=\"79\" y=\"4.199999999999999\" style=\"font-family: 'Open Sans', verdana, arial, sans-serif; font-size: 12px; fill: rgb(42, 63, 95); fill-opacity: 1; white-space: pre; opacity: 1;\" transform=\"translate(0,78.81)\">60</text></g></g><g class=\"overaxes-above\"/></g></g><g class=\"polarlayer\"/><g class=\"smithlayer\"/><g class=\"ternarylayer\"/><g class=\"geolayer\"/><g class=\"funnelarealayer\"/><g class=\"pielayer\"/><g class=\"iciclelayer\"/><g class=\"treemaplayer\"/><g class=\"sunburstlayer\"/><g class=\"glimages\"/><defs id=\"topdefs-4874a9\"><g class=\"clips\"/><clipPath id=\"legend4874a9\"><rect width=\"78\" height=\"105\" x=\"0\" y=\"0\"/></clipPath></defs><g class=\"layer-above\"><g class=\"imagelayer\"/><g class=\"shapelayer\"/></g><g class=\"infolayer\"><g class=\"legend\" pointer-events=\"all\" transform=\"translate(610.4,60)\"><rect class=\"bg\" shape-rendering=\"crispEdges\" style=\"stroke: rgb(68, 68, 68); stroke-opacity: 1; fill: rgb(255, 255, 255); fill-opacity: 1; stroke-width: 0px;\" width=\"78\" height=\"105\" x=\"0\" y=\"0\"/><g class=\"scrollbox\" transform=\"\" clip-path=\"url(#legend4874a9)\"><text class=\"legendtitletext\" text-anchor=\"start\" x=\"2\" y=\"18.2\" style=\"font-family: 'Open Sans', verdana, arial, sans-serif; font-size: 14px; fill: rgb(42, 63, 95); fill-opacity: 1; white-space: pre;\">variable</text><g class=\"groups\" transform=\"\"><g class=\"traces\" transform=\"translate(0,32.7)\" style=\"opacity: 1;\"><text class=\"legendtext\" text-anchor=\"start\" x=\"40\" y=\"4.680000000000001\" style=\"font-family: 'Open Sans', verdana, arial, sans-serif; font-size: 12px; fill: rgb(42, 63, 95); fill-opacity: 1; white-space: pre;\">XOne</text><g class=\"layers\" style=\"opacity: 1;\"><g class=\"legendfill\"/><g class=\"legendlines\"><path class=\"js-line\" d=\"M5,0h30\" style=\"fill: none; stroke: rgb(99, 110, 250); stroke-opacity: 1; stroke-width: 2px;\"/></g><g class=\"legendsymbols\"><g class=\"legendpoints\"/></g></g><rect class=\"legendtoggle\" x=\"0\" y=\"-9.5\" width=\"72.359375\" height=\"19\" style=\"fill: rgb(0, 0, 0); fill-opacity: 0;\"/></g></g><g class=\"groups\" transform=\"\"><g class=\"traces\" transform=\"translate(0,51.7)\" style=\"opacity: 1;\"><text class=\"legendtext\" text-anchor=\"start\" x=\"40\" y=\"4.680000000000001\" style=\"font-family: 'Open Sans', verdana, arial, sans-serif; font-size: 12px; fill: rgb(42, 63, 95); fill-opacity: 1; white-space: pre;\">WiiU</text><g class=\"layers\" style=\"opacity: 1;\"><g class=\"legendfill\"/><g class=\"legendlines\"><path class=\"js-line\" d=\"M5,0h30\" style=\"fill: none; stroke: rgb(239, 85, 59); stroke-opacity: 1; stroke-width: 2px;\"/></g><g class=\"legendsymbols\"><g class=\"legendpoints\"/></g></g><rect class=\"legendtoggle\" x=\"0\" y=\"-9.5\" width=\"72.359375\" height=\"19\" style=\"fill: rgb(0, 0, 0); fill-opacity: 0;\"/></g></g><g class=\"groups\" transform=\"\"><g class=\"traces\" transform=\"translate(0,70.7)\" style=\"opacity: 1;\"><text class=\"legendtext\" text-anchor=\"start\" x=\"40\" y=\"4.680000000000001\" style=\"font-family: 'Open Sans', verdana, arial, sans-serif; font-size: 12px; fill: rgb(42, 63, 95); fill-opacity: 1; white-space: pre;\">PC</text><g class=\"layers\" style=\"opacity: 1;\"><g class=\"legendfill\"/><g class=\"legendlines\"><path class=\"js-line\" d=\"M5,0h30\" style=\"fill: none; stroke: rgb(0, 204, 150); stroke-opacity: 1; stroke-width: 2px;\"/></g><g class=\"legendsymbols\"><g class=\"legendpoints\"/></g></g><rect class=\"legendtoggle\" x=\"0\" y=\"-9.5\" width=\"72.359375\" height=\"19\" style=\"fill: rgb(0, 0, 0); fill-opacity: 0;\"/></g></g><g class=\"groups\" transform=\"\"><g class=\"traces\" transform=\"translate(0,89.7)\" style=\"opacity: 1;\"><text class=\"legendtext\" text-anchor=\"start\" x=\"40\" y=\"4.680000000000001\" style=\"font-family: 'Open Sans', verdana, arial, sans-serif; font-size: 12px; fill: rgb(42, 63, 95); fill-opacity: 1; white-space: pre;\">PSV</text><g class=\"layers\" style=\"opacity: 1;\"><g class=\"legendfill\"/><g class=\"legendlines\"><path class=\"js-line\" d=\"M5,0h30\" style=\"fill: none; stroke: rgb(171, 99, 250); stroke-opacity: 1; stroke-width: 2px;\"/></g><g class=\"legendsymbols\"><g class=\"legendpoints\"/></g></g><rect class=\"legendtoggle\" x=\"0\" y=\"-9.5\" width=\"72.359375\" height=\"19\" style=\"fill: rgb(0, 0, 0); fill-opacity: 0;\"/></g></g></g><rect class=\"scrollbar\" rx=\"20\" ry=\"3\" width=\"0\" height=\"0\" style=\"fill: rgb(128, 139, 164); fill-opacity: 1;\" x=\"0\" y=\"0\"/></g><g class=\"g-gtitle\"/><g class=\"g-xtitle\"><text class=\"xtitle\" x=\"340\" y=\"460.8\" text-anchor=\"middle\" style=\"font-family: 'Open Sans', verdana, arial, sans-serif; font-size: 14px; fill: rgb(42, 63, 95); opacity: 1; font-weight: normal; white-space: pre;\">year_of_release</text></g><g class=\"g-ytitle\"><text class=\"ytitle\" transform=\"rotate(-90,38.934375,240)\" x=\"38.934375\" y=\"240\" text-anchor=\"middle\" style=\"font-family: 'Open Sans', verdana, arial, sans-serif; font-size: 14px; fill: rgb(42, 63, 95); opacity: 1; font-weight: normal; white-space: pre;\">value</text></g></g></svg>"
      ]
     },
     "metadata": {},
     "output_type": "display_data"
    }
   ],
   "source": [
    "fig = px.line(data_actual_pivot, x=data_actual_pivot.index, y=['XOne','WiiU', 'PC', 'PSV'])\n",
    "fig.show('svg')"
   ]
  },
  {
   "cell_type": "code",
   "execution_count": 27,
   "metadata": {
    "scrolled": true
   },
   "outputs": [
    {
     "data": {
      "image/svg+xml": [
       "<svg class=\"main-svg\" xmlns=\"http://www.w3.org/2000/svg\" xmlns:xlink=\"http://www.w3.org/1999/xlink\" width=\"700\" height=\"500\" style=\"\" viewBox=\"0 0 700 500\"><rect x=\"0\" y=\"0\" width=\"700\" height=\"500\" style=\"fill: rgb(255, 255, 255); fill-opacity: 1;\"/><defs id=\"defs-02e719\"><g class=\"clips\"><clipPath id=\"clip02e719xyplot\" class=\"plotclip\"><rect width=\"528\" height=\"360\"/></clipPath><clipPath class=\"axesclip\" id=\"clip02e719x\"><rect x=\"80\" y=\"0\" width=\"528\" height=\"500\"/></clipPath><clipPath class=\"axesclip\" id=\"clip02e719y\"><rect x=\"0\" y=\"60\" width=\"700\" height=\"360\"/></clipPath><clipPath class=\"axesclip\" id=\"clip02e719xy\"><rect x=\"80\" y=\"60\" width=\"528\" height=\"360\"/></clipPath></g><g class=\"gradients\"/><g class=\"patterns\"/></defs><g class=\"bglayer\"><rect class=\"bg\" x=\"80\" y=\"60\" width=\"528\" height=\"360\" style=\"fill: rgb(229, 236, 246); fill-opacity: 1; stroke-width: 0;\"/></g><g class=\"layer-below\"><g class=\"imagelayer\"/><g class=\"shapelayer\"/></g><g class=\"cartesianlayer\"><g class=\"subplot xy\"><g class=\"layer-subplot\"><g class=\"shapelayer\"/><g class=\"imagelayer\"/></g><g class=\"minor-gridlayer\"><g class=\"x\"/><g class=\"y\"/></g><g class=\"gridlayer\"><g class=\"x\"><path class=\"xgrid crisp\" transform=\"translate(168,0)\" d=\"M0,60v360\" style=\"stroke: rgb(255, 255, 255); stroke-opacity: 1; stroke-width: 1px;\"/><path class=\"xgrid crisp\" transform=\"translate(256,0)\" d=\"M0,60v360\" style=\"stroke: rgb(255, 255, 255); stroke-opacity: 1; stroke-width: 1px;\"/><path class=\"xgrid crisp\" transform=\"translate(344,0)\" d=\"M0,60v360\" style=\"stroke: rgb(255, 255, 255); stroke-opacity: 1; stroke-width: 1px;\"/><path class=\"xgrid crisp\" transform=\"translate(432,0)\" d=\"M0,60v360\" style=\"stroke: rgb(255, 255, 255); stroke-opacity: 1; stroke-width: 1px;\"/><path class=\"xgrid crisp\" transform=\"translate(520,0)\" d=\"M0,60v360\" style=\"stroke: rgb(255, 255, 255); stroke-opacity: 1; stroke-width: 1px;\"/></g><g class=\"y\"><path class=\"ygrid crisp\" transform=\"translate(0,368.34)\" d=\"M80,0h528\" style=\"stroke: rgb(255, 255, 255); stroke-opacity: 1; stroke-width: 1px;\"/><path class=\"ygrid crisp\" transform=\"translate(0,330.09)\" d=\"M80,0h528\" style=\"stroke: rgb(255, 255, 255); stroke-opacity: 1; stroke-width: 1px;\"/><path class=\"ygrid crisp\" transform=\"translate(0,291.83000000000004)\" d=\"M80,0h528\" style=\"stroke: rgb(255, 255, 255); stroke-opacity: 1; stroke-width: 1px;\"/><path class=\"ygrid crisp\" transform=\"translate(0,253.58)\" d=\"M80,0h528\" style=\"stroke: rgb(255, 255, 255); stroke-opacity: 1; stroke-width: 1px;\"/><path class=\"ygrid crisp\" transform=\"translate(0,215.33)\" d=\"M80,0h528\" style=\"stroke: rgb(255, 255, 255); stroke-opacity: 1; stroke-width: 1px;\"/><path class=\"ygrid crisp\" transform=\"translate(0,177.07)\" d=\"M80,0h528\" style=\"stroke: rgb(255, 255, 255); stroke-opacity: 1; stroke-width: 1px;\"/><path class=\"ygrid crisp\" transform=\"translate(0,138.82)\" d=\"M80,0h528\" style=\"stroke: rgb(255, 255, 255); stroke-opacity: 1; stroke-width: 1px;\"/><path class=\"ygrid crisp\" transform=\"translate(0,100.57)\" d=\"M80,0h528\" style=\"stroke: rgb(255, 255, 255); stroke-opacity: 1; stroke-width: 1px;\"/><path class=\"ygrid crisp\" transform=\"translate(0,62.32)\" d=\"M80,0h528\" style=\"stroke: rgb(255, 255, 255); stroke-opacity: 1; stroke-width: 1px;\"/></g></g><g class=\"zerolinelayer\"><path class=\"yzl zl crisp\" transform=\"translate(0,406.59)\" d=\"M80,0h528\" style=\"stroke: rgb(255, 255, 255); stroke-opacity: 1; stroke-width: 2px;\"/></g><path class=\"xlines-below\"/><path class=\"ylines-below\"/><g class=\"overlines-below\"/><g class=\"xaxislayer-below\"/><g class=\"yaxislayer-below\"/><g class=\"overaxes-below\"/><g class=\"plot\" transform=\"translate(80,60)\" clip-path=\"url(#clip02e719xyplot)\"><g class=\"scatterlayer mlayer\"><g class=\"trace scatter trace1a6014\" style=\"stroke-miterlimit: 2; opacity: 1;\"><g class=\"fills\"/><g class=\"errorbars\"/><g class=\"lines\"><path class=\"js-line\" d=\"M0,18L176,203.14L352,302.98L528,339.7\" style=\"vector-effect: non-scaling-stroke; fill: none; stroke: rgb(99, 110, 250); stroke-opacity: 1; stroke-width: 2px; opacity: 1;\"/></g><g class=\"points\"/><g class=\"text\"/></g><g class=\"trace scatter trace83f3ae\" style=\"stroke-miterlimit: 2; opacity: 1;\"><g class=\"fills\"/><g class=\"errorbars\"/><g class=\"lines\"><path class=\"js-line\" d=\"M0,226.48L176,337.41L352,342\" style=\"vector-effect: non-scaling-stroke; fill: none; stroke: rgb(239, 85, 59); stroke-opacity: 1; stroke-width: 2px; opacity: 1;\"/></g><g class=\"points\"/><g class=\"text\"/></g></g></g><g class=\"overplot\"/><path class=\"xlines-above crisp\" d=\"M0,0\" style=\"fill: none;\"/><path class=\"ylines-above crisp\" d=\"M0,0\" style=\"fill: none;\"/><g class=\"overlines-above\"/><g class=\"xaxislayer-above\"><g class=\"xtick\"><text text-anchor=\"middle\" x=\"0\" y=\"433\" transform=\"translate(80,0)\" style=\"font-family: 'Open Sans', verdana, arial, sans-serif; font-size: 12px; fill: rgb(42, 63, 95); fill-opacity: 1; white-space: pre; opacity: 1;\">2013</text></g><g class=\"xtick\"><text text-anchor=\"middle\" x=\"0\" y=\"433\" style=\"font-family: 'Open Sans', verdana, arial, sans-serif; font-size: 12px; fill: rgb(42, 63, 95); fill-opacity: 1; white-space: pre; opacity: 1;\" transform=\"translate(168,0)\">2,013.5</text></g><g class=\"xtick\"><text text-anchor=\"middle\" x=\"0\" y=\"433\" style=\"font-family: 'Open Sans', verdana, arial, sans-serif; font-size: 12px; fill: rgb(42, 63, 95); fill-opacity: 1; white-space: pre; opacity: 1;\" transform=\"translate(256,0)\">2014</text></g><g class=\"xtick\"><text text-anchor=\"middle\" x=\"0\" y=\"433\" style=\"font-family: 'Open Sans', verdana, arial, sans-serif; font-size: 12px; fill: rgb(42, 63, 95); fill-opacity: 1; white-space: pre; opacity: 1;\" transform=\"translate(344,0)\">2,014.5</text></g><g class=\"xtick\"><text text-anchor=\"middle\" x=\"0\" y=\"433\" style=\"font-family: 'Open Sans', verdana, arial, sans-serif; font-size: 12px; fill: rgb(42, 63, 95); fill-opacity: 1; white-space: pre; opacity: 1;\" transform=\"translate(432,0)\">2015</text></g><g class=\"xtick\"><text text-anchor=\"middle\" x=\"0\" y=\"433\" style=\"font-family: 'Open Sans', verdana, arial, sans-serif; font-size: 12px; fill: rgb(42, 63, 95); fill-opacity: 1; white-space: pre; opacity: 1;\" transform=\"translate(520,0)\">2,015.5</text></g><g class=\"xtick\"><text text-anchor=\"middle\" x=\"0\" y=\"433\" style=\"font-family: 'Open Sans', verdana, arial, sans-serif; font-size: 12px; fill: rgb(42, 63, 95); fill-opacity: 1; white-space: pre; opacity: 1;\" transform=\"translate(608,0)\">2016</text></g></g><g class=\"yaxislayer-above\"><g class=\"ytick\"><text text-anchor=\"end\" x=\"79\" y=\"4.199999999999999\" transform=\"translate(0,406.59)\" style=\"font-family: 'Open Sans', verdana, arial, sans-serif; font-size: 12px; fill: rgb(42, 63, 95); fill-opacity: 1; white-space: pre; opacity: 1;\">0</text></g><g class=\"ytick\"><text text-anchor=\"end\" x=\"79\" y=\"4.199999999999999\" style=\"font-family: 'Open Sans', verdana, arial, sans-serif; font-size: 12px; fill: rgb(42, 63, 95); fill-opacity: 1; white-space: pre; opacity: 1;\" transform=\"translate(0,368.34)\">1</text></g><g class=\"ytick\"><text text-anchor=\"end\" x=\"79\" y=\"4.199999999999999\" style=\"font-family: 'Open Sans', verdana, arial, sans-serif; font-size: 12px; fill: rgb(42, 63, 95); fill-opacity: 1; white-space: pre; opacity: 1;\" transform=\"translate(0,330.09)\">2</text></g><g class=\"ytick\"><text text-anchor=\"end\" x=\"79\" y=\"4.199999999999999\" style=\"font-family: 'Open Sans', verdana, arial, sans-serif; font-size: 12px; fill: rgb(42, 63, 95); fill-opacity: 1; white-space: pre; opacity: 1;\" transform=\"translate(0,291.83000000000004)\">3</text></g><g class=\"ytick\"><text text-anchor=\"end\" x=\"79\" y=\"4.199999999999999\" style=\"font-family: 'Open Sans', verdana, arial, sans-serif; font-size: 12px; fill: rgb(42, 63, 95); fill-opacity: 1; white-space: pre; opacity: 1;\" transform=\"translate(0,253.58)\">4</text></g><g class=\"ytick\"><text text-anchor=\"end\" x=\"79\" y=\"4.199999999999999\" style=\"font-family: 'Open Sans', verdana, arial, sans-serif; font-size: 12px; fill: rgb(42, 63, 95); fill-opacity: 1; white-space: pre; opacity: 1;\" transform=\"translate(0,215.33)\">5</text></g><g class=\"ytick\"><text text-anchor=\"end\" x=\"79\" y=\"4.199999999999999\" style=\"font-family: 'Open Sans', verdana, arial, sans-serif; font-size: 12px; fill: rgb(42, 63, 95); fill-opacity: 1; white-space: pre; opacity: 1;\" transform=\"translate(0,177.07)\">6</text></g><g class=\"ytick\"><text text-anchor=\"end\" x=\"79\" y=\"4.199999999999999\" style=\"font-family: 'Open Sans', verdana, arial, sans-serif; font-size: 12px; fill: rgb(42, 63, 95); fill-opacity: 1; white-space: pre; opacity: 1;\" transform=\"translate(0,138.82)\">7</text></g><g class=\"ytick\"><text text-anchor=\"end\" x=\"79\" y=\"4.199999999999999\" style=\"font-family: 'Open Sans', verdana, arial, sans-serif; font-size: 12px; fill: rgb(42, 63, 95); fill-opacity: 1; white-space: pre; opacity: 1;\" transform=\"translate(0,100.57)\">8</text></g><g class=\"ytick\"><text text-anchor=\"end\" x=\"79\" y=\"4.199999999999999\" style=\"font-family: 'Open Sans', verdana, arial, sans-serif; font-size: 12px; fill: rgb(42, 63, 95); fill-opacity: 1; white-space: pre; opacity: 1;\" transform=\"translate(0,62.32)\">9</text></g></g><g class=\"overaxes-above\"/></g></g><g class=\"polarlayer\"/><g class=\"smithlayer\"/><g class=\"ternarylayer\"/><g class=\"geolayer\"/><g class=\"funnelarealayer\"/><g class=\"pielayer\"/><g class=\"iciclelayer\"/><g class=\"treemaplayer\"/><g class=\"sunburstlayer\"/><g class=\"glimages\"/><defs id=\"topdefs-02e719\"><g class=\"clips\"/><clipPath id=\"legend02e719\"><rect width=\"69\" height=\"67\" x=\"0\" y=\"0\"/></clipPath></defs><g class=\"layer-above\"><g class=\"imagelayer\"/><g class=\"shapelayer\"/></g><g class=\"infolayer\"><g class=\"legend\" pointer-events=\"all\" transform=\"translate(618.5600000000001,60)\"><rect class=\"bg\" shape-rendering=\"crispEdges\" style=\"stroke: rgb(68, 68, 68); stroke-opacity: 1; fill: rgb(255, 255, 255); fill-opacity: 1; stroke-width: 0px;\" width=\"69\" height=\"67\" x=\"0\" y=\"0\"/><g class=\"scrollbox\" transform=\"\" clip-path=\"url(#legend02e719)\"><text class=\"legendtitletext\" text-anchor=\"start\" x=\"2\" y=\"18.2\" style=\"font-family: 'Open Sans', verdana, arial, sans-serif; font-size: 14px; fill: rgb(42, 63, 95); fill-opacity: 1; white-space: pre;\">variable</text><g class=\"groups\" transform=\"\"><g class=\"traces\" transform=\"translate(0,32.7)\" style=\"opacity: 1;\"><text class=\"legendtext\" text-anchor=\"start\" x=\"40\" y=\"4.680000000000001\" style=\"font-family: 'Open Sans', verdana, arial, sans-serif; font-size: 12px; fill: rgb(42, 63, 95); fill-opacity: 1; white-space: pre;\">Wii</text><g class=\"layers\" style=\"opacity: 1;\"><g class=\"legendfill\"/><g class=\"legendlines\"><path class=\"js-line\" d=\"M5,0h30\" style=\"fill: none; stroke: rgb(99, 110, 250); stroke-opacity: 1; stroke-width: 2px;\"/></g><g class=\"legendsymbols\"><g class=\"legendpoints\"/></g></g><rect class=\"legendtoggle\" x=\"0\" y=\"-9.5\" width=\"63.453125\" height=\"19\" style=\"fill: rgb(0, 0, 0); fill-opacity: 0;\"/></g></g><g class=\"groups\" transform=\"\"><g class=\"traces\" transform=\"translate(0,51.7)\" style=\"opacity: 1;\"><text class=\"legendtext\" text-anchor=\"start\" x=\"40\" y=\"4.680000000000001\" style=\"font-family: 'Open Sans', verdana, arial, sans-serif; font-size: 12px; fill: rgb(42, 63, 95); fill-opacity: 1; white-space: pre;\">PSP</text><g class=\"layers\" style=\"opacity: 1;\"><g class=\"legendfill\"/><g class=\"legendlines\"><path class=\"js-line\" d=\"M5,0h30\" style=\"fill: none; stroke: rgb(239, 85, 59); stroke-opacity: 1; stroke-width: 2px;\"/></g><g class=\"legendsymbols\"><g class=\"legendpoints\"/></g></g><rect class=\"legendtoggle\" x=\"0\" y=\"-9.5\" width=\"63.453125\" height=\"19\" style=\"fill: rgb(0, 0, 0); fill-opacity: 0;\"/></g></g></g><rect class=\"scrollbar\" rx=\"20\" ry=\"3\" width=\"0\" height=\"0\" style=\"fill: rgb(128, 139, 164); fill-opacity: 1;\" x=\"0\" y=\"0\"/></g><g class=\"g-gtitle\"/><g class=\"g-xtitle\"><text class=\"xtitle\" x=\"344\" y=\"460.8\" text-anchor=\"middle\" style=\"font-family: 'Open Sans', verdana, arial, sans-serif; font-size: 14px; fill: rgb(42, 63, 95); opacity: 1; font-weight: normal; white-space: pre;\">year_of_release</text></g><g class=\"g-ytitle\"><text class=\"ytitle\" transform=\"rotate(-90,46.559375,240)\" x=\"46.559375\" y=\"240\" text-anchor=\"middle\" style=\"font-family: 'Open Sans', verdana, arial, sans-serif; font-size: 14px; fill: rgb(42, 63, 95); opacity: 1; font-weight: normal; white-space: pre;\">value</text></g></g></svg>"
      ]
     },
     "metadata": {},
     "output_type": "display_data"
    }
   ],
   "source": [
    "fig = px.line(data_actual_pivot, x=data_actual_pivot.index, y=['Wii','PSP'])\n",
    "fig.show('svg')"
   ]
  },
  {
   "cell_type": "markdown",
   "metadata": {},
   "source": [
    "**Вывод**\n",
    "\n",
    "* За актуальный период по продажам лидируют следующие платформы (по убыванию): PS4, PS3, XOne, 3DS, X360, WiiU, PC, PSV, Wii, PSP.\n",
    "\n",
    "* Все платформы из топ-10 имеют нисходящий тренд. \n",
    "\n",
    "* PS4 и XOne, несмотря на нисходящий тренд, сохраняют высокое количество количество продаж - 69.25 и 26.15 млн копий, соответственно. Скорее всего, ближайшие 3-4 года эти платформы будут прибыльными."
   ]
  },
  {
   "cell_type": "markdown",
   "metadata": {},
   "source": [
    "Строим boxplot для сравнения продаж с разных платформ"
   ]
  },
  {
   "cell_type": "code",
   "execution_count": 28,
   "metadata": {
    "scrolled": true
   },
   "outputs": [
    {
     "data": {
      "image/png": "[encoded data removed]",
      "text/plain": [
       "<Figure size 720x576 with 1 Axes>"
      ]
     },
     "metadata": {
      "needs_background": "light"
     },
     "output_type": "display_data"
    }
   ],
   "source": [
    "data_actual.boxplot(column='total_sales', by='platform', figsize=(10, 8))\n",
    "plt.show()\n",
    "warnings.filterwarnings(\"ignore\", category=np.VisibleDeprecationWarning) "
   ]
  },
  {
   "cell_type": "code",
   "execution_count": 29,
   "metadata": {},
   "outputs": [
    {
     "data": {
      "image/png": "[encoded data removed]",
      "text/plain": [
       "<Figure size 720x576 with 1 Axes>"
      ]
     },
     "metadata": {
      "needs_background": "light"
     },
     "output_type": "display_data"
    }
   ],
   "source": [
    "data_actual.boxplot(column='total_sales', by='platform', figsize=(10, 8))\n",
    "plt.ylim([0, 2])\n",
    "plt.show()"
   ]
  },
  {
   "cell_type": "markdown",
   "metadata": {},
   "source": [
    "**Вывод**"
   ]
  },
  {
   "cell_type": "markdown",
   "metadata": {},
   "source": [
    "* Больше всего выбросов имеют следующие платформы: PS4, PS3, 3DS, XOne.\n",
    "* Наиболее высокие медианы продаж наблюдаем у следующих платформ (по убыванию): X360, XOne, PS4, WiiU, Wii. \n",
    "* Наибольший межквартильный размах и длину правого уса имеют X360, PS4, Wii, XOne, WiiU, PS3.\n",
    "\n",
    "Исходя из медианы, межквартильного размаха и длины усов, делаем вывод, что игры для платформ X360, XOne, PS4, WiiU, Wii имеют продажи выше остальных. Если принять в расчет выбросы, то видим, что \"взрывные\" продажи чаще встречались на PS4, PS3 и XOne."
   ]
  },
  {
   "cell_type": "markdown",
   "metadata": {},
   "source": [
    "### Исследуем зависимость продаж от оценок критиков и пользователей"
   ]
  },
  {
   "cell_type": "markdown",
   "metadata": {},
   "source": [
    "Делаем срез по платформе PS4"
   ]
  },
  {
   "cell_type": "code",
   "execution_count": 30,
   "metadata": {},
   "outputs": [],
   "source": [
    "data_actual_ps4 = data_actual.query('platform == \"PS4\"')"
   ]
  },
  {
   "cell_type": "markdown",
   "metadata": {},
   "source": [
    "Строим матрицу корреляции и диаграмму рассеяния"
   ]
  },
  {
   "cell_type": "code",
   "execution_count": 31,
   "metadata": {
    "scrolled": true
   },
   "outputs": [
    {
     "data": {
      "text/html": [
       "<div>\n",
       "<style scoped>\n",
       "    .dataframe tbody tr th:only-of-type {\n",
       "        vertical-align: middle;\n",
       "    }\n",
       "\n",
       "    .dataframe tbody tr th {\n",
       "        vertical-align: top;\n",
       "    }\n",
       "\n",
       "    .dataframe thead th {\n",
       "        text-align: right;\n",
       "    }\n",
       "</style>\n",
       "<table border=\"1\" class=\"dataframe\">\n",
       "  <thead>\n",
       "    <tr style=\"text-align: right;\">\n",
       "      <th></th>\n",
       "      <th>total_sales</th>\n",
       "      <th>critic_score</th>\n",
       "      <th>user_score</th>\n",
       "    </tr>\n",
       "  </thead>\n",
       "  <tbody>\n",
       "    <tr>\n",
       "      <th>total_sales</th>\n",
       "      <td>1.000000</td>\n",
       "      <td>0.406568</td>\n",
       "      <td>-0.031957</td>\n",
       "    </tr>\n",
       "    <tr>\n",
       "      <th>critic_score</th>\n",
       "      <td>0.406568</td>\n",
       "      <td>1.000000</td>\n",
       "      <td>0.557654</td>\n",
       "    </tr>\n",
       "    <tr>\n",
       "      <th>user_score</th>\n",
       "      <td>-0.031957</td>\n",
       "      <td>0.557654</td>\n",
       "      <td>1.000000</td>\n",
       "    </tr>\n",
       "  </tbody>\n",
       "</table>\n",
       "</div>"
      ],
      "text/plain": [
       "              total_sales  critic_score  user_score\n",
       "total_sales      1.000000      0.406568   -0.031957\n",
       "critic_score     0.406568      1.000000    0.557654\n",
       "user_score      -0.031957      0.557654    1.000000"
      ]
     },
     "metadata": {},
     "output_type": "display_data"
    },
    {
     "data": {
      "image/png": "[encoded data removed]",
      "text/plain": [
       "<Figure size 648x648 with 9 Axes>"
      ]
     },
     "metadata": {
      "needs_background": "light"
     },
     "output_type": "display_data"
    }
   ],
   "source": [
    "display(data_actual_ps4[['total_sales', 'critic_score', 'user_score']].corr())\n",
    "pd.plotting.scatter_matrix(data_actual_ps4[['total_sales', 'critic_score', 'user_score']], figsize=(9,9))                  \n",
    "plt.show()"
   ]
  },
  {
   "cell_type": "markdown",
   "metadata": {},
   "source": [
    "**Вывод**\n",
    "\n",
    "* Обнаружена корреляция между продажами и оценками критиков (0.41). Из диаграммы рассеяния видно, что игры с высокими продажами имеют оценку критиков не ниже 60.\n",
    "\n",
    "* При исследовании зависимости продаж от оценки пользователей на матрице явной корреляции не обнаружено (исходя из матрицы корреляции). Однако из диаграммы рассеяния видно, что популярные игры чаще имеют высокую оценку среди пользователей. Но встречаются также популярные игры с низкими оценками. Поэтому оценку пользователей не стоит использовать как достоверный показатель."
   ]
  },
  {
   "cell_type": "code",
   "execution_count": 32,
   "metadata": {},
   "outputs": [
    {
     "data": {
      "text/html": [
       "<div>\n",
       "<style scoped>\n",
       "    .dataframe tbody tr th:only-of-type {\n",
       "        vertical-align: middle;\n",
       "    }\n",
       "\n",
       "    .dataframe tbody tr th {\n",
       "        vertical-align: top;\n",
       "    }\n",
       "\n",
       "    .dataframe thead th {\n",
       "        text-align: right;\n",
       "    }\n",
       "</style>\n",
       "<table border=\"1\" class=\"dataframe\">\n",
       "  <thead>\n",
       "    <tr style=\"text-align: right;\">\n",
       "      <th></th>\n",
       "      <th>total_sales</th>\n",
       "      <th>critic_score</th>\n",
       "      <th>user_score</th>\n",
       "    </tr>\n",
       "  </thead>\n",
       "  <tbody>\n",
       "    <tr>\n",
       "      <th>total_sales</th>\n",
       "      <td>1.000000</td>\n",
       "      <td>0.416998</td>\n",
       "      <td>-0.068925</td>\n",
       "    </tr>\n",
       "    <tr>\n",
       "      <th>critic_score</th>\n",
       "      <td>0.416998</td>\n",
       "      <td>1.000000</td>\n",
       "      <td>0.472462</td>\n",
       "    </tr>\n",
       "    <tr>\n",
       "      <th>user_score</th>\n",
       "      <td>-0.068925</td>\n",
       "      <td>0.472462</td>\n",
       "      <td>1.000000</td>\n",
       "    </tr>\n",
       "  </tbody>\n",
       "</table>\n",
       "</div>"
      ],
      "text/plain": [
       "              total_sales  critic_score  user_score\n",
       "total_sales      1.000000      0.416998   -0.068925\n",
       "critic_score     0.416998      1.000000    0.472462\n",
       "user_score      -0.068925      0.472462    1.000000"
      ]
     },
     "metadata": {},
     "output_type": "display_data"
    },
    {
     "data": {
      "image/png": "[encoded data removed]",
      "text/plain": [
       "<Figure size 648x648 with 9 Axes>"
      ]
     },
     "metadata": {
      "needs_background": "light"
     },
     "output_type": "display_data"
    }
   ],
   "source": [
    "data_actual_xone = data_actual.query('platform == \"XOne\"')\n",
    "display(data_actual_xone[['total_sales', 'critic_score', 'user_score']].corr())\n",
    "pd.plotting.scatter_matrix(data_actual_xone[['total_sales', 'critic_score', 'user_score']], figsize=(9,9))                  \n",
    "plt.show()"
   ]
  },
  {
   "cell_type": "code",
   "execution_count": 33,
   "metadata": {},
   "outputs": [
    {
     "data": {
      "text/html": [
       "<div>\n",
       "<style scoped>\n",
       "    .dataframe tbody tr th:only-of-type {\n",
       "        vertical-align: middle;\n",
       "    }\n",
       "\n",
       "    .dataframe tbody tr th {\n",
       "        vertical-align: top;\n",
       "    }\n",
       "\n",
       "    .dataframe thead th {\n",
       "        text-align: right;\n",
       "    }\n",
       "</style>\n",
       "<table border=\"1\" class=\"dataframe\">\n",
       "  <thead>\n",
       "    <tr style=\"text-align: right;\">\n",
       "      <th></th>\n",
       "      <th>total_sales</th>\n",
       "      <th>critic_score</th>\n",
       "      <th>user_score</th>\n",
       "    </tr>\n",
       "  </thead>\n",
       "  <tbody>\n",
       "    <tr>\n",
       "      <th>total_sales</th>\n",
       "      <td>1.000000</td>\n",
       "      <td>0.357057</td>\n",
       "      <td>0.241504</td>\n",
       "    </tr>\n",
       "    <tr>\n",
       "      <th>critic_score</th>\n",
       "      <td>0.357057</td>\n",
       "      <td>1.000000</td>\n",
       "      <td>0.769536</td>\n",
       "    </tr>\n",
       "    <tr>\n",
       "      <th>user_score</th>\n",
       "      <td>0.241504</td>\n",
       "      <td>0.769536</td>\n",
       "      <td>1.000000</td>\n",
       "    </tr>\n",
       "  </tbody>\n",
       "</table>\n",
       "</div>"
      ],
      "text/plain": [
       "              total_sales  critic_score  user_score\n",
       "total_sales      1.000000      0.357057    0.241504\n",
       "critic_score     0.357057      1.000000    0.769536\n",
       "user_score       0.241504      0.769536    1.000000"
      ]
     },
     "metadata": {},
     "output_type": "display_data"
    },
    {
     "data": {
      "image/png": "[encoded data removed]",
      "text/plain": [
       "<Figure size 648x648 with 9 Axes>"
      ]
     },
     "metadata": {
      "needs_background": "light"
     },
     "output_type": "display_data"
    }
   ],
   "source": [
    "data_actual_3ds = data_actual.query('platform == \"3DS\"')\n",
    "display(data_actual_3ds[['total_sales', 'critic_score', 'user_score']].corr())\n",
    "pd.plotting.scatter_matrix(data_actual_3ds[['total_sales', 'critic_score', 'user_score']], figsize=(9,9))                  \n",
    "plt.show()"
   ]
  },
  {
   "cell_type": "code",
   "execution_count": 34,
   "metadata": {},
   "outputs": [
    {
     "data": {
      "text/html": [
       "<div>\n",
       "<style scoped>\n",
       "    .dataframe tbody tr th:only-of-type {\n",
       "        vertical-align: middle;\n",
       "    }\n",
       "\n",
       "    .dataframe tbody tr th {\n",
       "        vertical-align: top;\n",
       "    }\n",
       "\n",
       "    .dataframe thead th {\n",
       "        text-align: right;\n",
       "    }\n",
       "</style>\n",
       "<table border=\"1\" class=\"dataframe\">\n",
       "  <thead>\n",
       "    <tr style=\"text-align: right;\">\n",
       "      <th></th>\n",
       "      <th>total_sales</th>\n",
       "      <th>critic_score</th>\n",
       "      <th>user_score</th>\n",
       "    </tr>\n",
       "  </thead>\n",
       "  <tbody>\n",
       "    <tr>\n",
       "      <th>total_sales</th>\n",
       "      <td>1.000000</td>\n",
       "      <td>0.350345</td>\n",
       "      <td>-0.011742</td>\n",
       "    </tr>\n",
       "    <tr>\n",
       "      <th>critic_score</th>\n",
       "      <td>0.350345</td>\n",
       "      <td>1.000000</td>\n",
       "      <td>0.520946</td>\n",
       "    </tr>\n",
       "    <tr>\n",
       "      <th>user_score</th>\n",
       "      <td>-0.011742</td>\n",
       "      <td>0.520946</td>\n",
       "      <td>1.000000</td>\n",
       "    </tr>\n",
       "  </tbody>\n",
       "</table>\n",
       "</div>"
      ],
      "text/plain": [
       "              total_sales  critic_score  user_score\n",
       "total_sales      1.000000      0.350345   -0.011742\n",
       "critic_score     0.350345      1.000000    0.520946\n",
       "user_score      -0.011742      0.520946    1.000000"
      ]
     },
     "metadata": {},
     "output_type": "display_data"
    },
    {
     "data": {
      "image/png": "[encoded data removed]",
      "text/plain": [
       "<Figure size 648x648 with 9 Axes>"
      ]
     },
     "metadata": {
      "needs_background": "light"
     },
     "output_type": "display_data"
    }
   ],
   "source": [
    "data_actual_x360 = data_actual.query('platform == \"X360\"')\n",
    "display(data_actual_x360[['total_sales', 'critic_score', 'user_score']].corr())\n",
    "pd.plotting.scatter_matrix(data_actual_x360[['total_sales', 'critic_score', 'user_score']], figsize=(9,9))                  \n",
    "plt.show()"
   ]
  },
  {
   "cell_type": "markdown",
   "metadata": {},
   "source": [
    "Исследование других платформ подтвердило, что сильнее всего продажи коррелируют с оценкой критиков (0.3-0.4) и совсем немного с оценкой пользователей (0-0.2)."
   ]
  },
  {
   "cell_type": "markdown",
   "metadata": {},
   "source": [
    "### Исследуем распределение продаж по жанрам"
   ]
  },
  {
   "cell_type": "markdown",
   "metadata": {},
   "source": [
    "Определяем количество выпущенных игр по жанрам и строим столбчатую диаграмму "
   ]
  },
  {
   "cell_type": "code",
   "execution_count": 35,
   "metadata": {},
   "outputs": [
    {
     "data": {
      "image/png": "[encoded data removed]",
      "text/plain": [
       "<Figure size 432x288 with 1 Axes>"
      ]
     },
     "metadata": {
      "needs_background": "light"
     },
     "output_type": "display_data"
    },
    {
     "data": {
      "text/plain": [
       "genre\n",
       "Action          766\n",
       "Role-Playing    292\n",
       "Adventure       245\n",
       "Sports          214\n",
       "Shooter         187\n",
       "Misc            155\n",
       "Racing           85\n",
       "Fighting         80\n",
       "Platform         74\n",
       "Simulation       62\n",
       "Strategy         56\n",
       "Puzzle           17\n",
       "Name: total_sales, dtype: int64"
      ]
     },
     "metadata": {},
     "output_type": "display_data"
    }
   ],
   "source": [
    "data_actual.groupby('genre')['total_sales'].count().sort_values(ascending=False).plot(kind='bar',\n",
    "                                                                                      x='genre', \n",
    "                                                                                      y='total_sales', \n",
    "                                                                                      grid=True)\n",
    "plt.ylabel('Количество продаж')\n",
    "plt.show()\n",
    "display(data_actual.groupby('genre')['total_sales'].count().sort_values(ascending=False))"
   ]
  },
  {
   "cell_type": "code",
   "execution_count": 36,
   "metadata": {
    "scrolled": true
   },
   "outputs": [
    {
     "data": {
      "image/png": "[encoded data removed]",
      "text/plain": [
       "<Figure size 432x288 with 1 Axes>"
      ]
     },
     "metadata": {
      "needs_background": "light"
     },
     "output_type": "display_data"
    },
    {
     "data": {
      "text/plain": [
       "genre\n",
       "Shooter         1.245882\n",
       "Sports          0.703972\n",
       "Platform        0.576081\n",
       "Role-Playing    0.499623\n",
       "Racing          0.469294\n",
       "Fighting        0.441375\n",
       "Action          0.420196\n",
       "Misc            0.405290\n",
       "Simulation      0.350968\n",
       "Puzzle          0.186471\n",
       "Strategy        0.180000\n",
       "Adventure       0.096490\n",
       "Name: total_sales, dtype: float64"
      ]
     },
     "metadata": {},
     "output_type": "display_data"
    }
   ],
   "source": [
    "data_actual.groupby('genre')['total_sales'].mean().sort_values(ascending=False).plot(kind='bar',\n",
    "                                                                                     x='genre',\n",
    "                                                                                     y='total_sales', \n",
    "                                                                                     grid=True)\n",
    "plt.ylabel('Средняя продажа')\n",
    "plt.show()\n",
    "display(data_actual.groupby('genre')['total_sales'].mean().sort_values(ascending=False))"
   ]
  },
  {
   "cell_type": "markdown",
   "metadata": {},
   "source": [
    "**Вывод**\n",
    "\n",
    "* Больше всего выпускают игры следующих жанров (по убыванию): Action, Role-Playing, Adventure, Sports, Shooter.\n",
    "\n",
    "* Самый прибыльный жанр - Shooter. Также высокие средние показатели продаж имеют Platform и Sports.\n",
    "\n",
    "* Наименее прибыльные жанры (по возрастанию продаж): Adventure, Puzzle, Strategy."
   ]
  },
  {
   "cell_type": "markdown",
   "metadata": {},
   "source": [
    "## Составляем портрет пользователя для каждого региона"
   ]
  },
  {
   "cell_type": "markdown",
   "metadata": {},
   "source": [
    "### NA"
   ]
  },
  {
   "cell_type": "markdown",
   "metadata": {},
   "source": [
    "Создаем сводную таблицу для NА и определяем долю рынка каждой платформы"
   ]
  },
  {
   "cell_type": "code",
   "execution_count": 37,
   "metadata": {
    "scrolled": false
   },
   "outputs": [
    {
     "data": {
      "text/html": [
       "<div>\n",
       "<style scoped>\n",
       "    .dataframe tbody tr th:only-of-type {\n",
       "        vertical-align: middle;\n",
       "    }\n",
       "\n",
       "    .dataframe tbody tr th {\n",
       "        vertical-align: top;\n",
       "    }\n",
       "\n",
       "    .dataframe thead th {\n",
       "        text-align: right;\n",
       "    }\n",
       "</style>\n",
       "<table border=\"1\" class=\"dataframe\">\n",
       "  <thead>\n",
       "    <tr style=\"text-align: right;\">\n",
       "      <th></th>\n",
       "      <th>number_of_games</th>\n",
       "      <th>total_sales</th>\n",
       "      <th>share</th>\n",
       "    </tr>\n",
       "    <tr>\n",
       "      <th>platform</th>\n",
       "      <th></th>\n",
       "      <th></th>\n",
       "      <th></th>\n",
       "    </tr>\n",
       "  </thead>\n",
       "  <tbody>\n",
       "    <tr>\n",
       "      <th>PS4</th>\n",
       "      <td>392</td>\n",
       "      <td>108.74</td>\n",
       "      <td>0.248429</td>\n",
       "    </tr>\n",
       "    <tr>\n",
       "      <th>XOne</th>\n",
       "      <td>247</td>\n",
       "      <td>93.12</td>\n",
       "      <td>0.212744</td>\n",
       "    </tr>\n",
       "    <tr>\n",
       "      <th>X360</th>\n",
       "      <td>186</td>\n",
       "      <td>81.66</td>\n",
       "      <td>0.186562</td>\n",
       "    </tr>\n",
       "    <tr>\n",
       "      <th>PS3</th>\n",
       "      <td>345</td>\n",
       "      <td>63.50</td>\n",
       "      <td>0.145073</td>\n",
       "    </tr>\n",
       "    <tr>\n",
       "      <th>3DS</th>\n",
       "      <td>303</td>\n",
       "      <td>38.20</td>\n",
       "      <td>0.087272</td>\n",
       "    </tr>\n",
       "    <tr>\n",
       "      <th>WiiU</th>\n",
       "      <td>115</td>\n",
       "      <td>29.21</td>\n",
       "      <td>0.066734</td>\n",
       "    </tr>\n",
       "    <tr>\n",
       "      <th>PC</th>\n",
       "      <td>189</td>\n",
       "      <td>11.11</td>\n",
       "      <td>0.025382</td>\n",
       "    </tr>\n",
       "    <tr>\n",
       "      <th>Wii</th>\n",
       "      <td>23</td>\n",
       "      <td>6.56</td>\n",
       "      <td>0.014987</td>\n",
       "    </tr>\n",
       "    <tr>\n",
       "      <th>PSV</th>\n",
       "      <td>358</td>\n",
       "      <td>5.04</td>\n",
       "      <td>0.011514</td>\n",
       "    </tr>\n",
       "    <tr>\n",
       "      <th>DS</th>\n",
       "      <td>8</td>\n",
       "      <td>0.57</td>\n",
       "      <td>0.001302</td>\n",
       "    </tr>\n",
       "    <tr>\n",
       "      <th>PSP</th>\n",
       "      <td>67</td>\n",
       "      <td>0.00</td>\n",
       "      <td>0.000000</td>\n",
       "    </tr>\n",
       "  </tbody>\n",
       "</table>\n",
       "</div>"
      ],
      "text/plain": [
       "          number_of_games  total_sales     share\n",
       "platform                                        \n",
       "PS4                   392       108.74  0.248429\n",
       "XOne                  247        93.12  0.212744\n",
       "X360                  186        81.66  0.186562\n",
       "PS3                   345        63.50  0.145073\n",
       "3DS                   303        38.20  0.087272\n",
       "WiiU                  115        29.21  0.066734\n",
       "PC                    189        11.11  0.025382\n",
       "Wii                    23         6.56  0.014987\n",
       "PSV                   358         5.04  0.011514\n",
       "DS                      8         0.57  0.001302\n",
       "PSP                    67         0.00  0.000000"
      ]
     },
     "metadata": {},
     "output_type": "display_data"
    }
   ],
   "source": [
    "na_platform = data_actual.pivot_table(index='platform', values='na_sales', aggfunc=['count','sum'])\n",
    "na_platform.columns = ['number_of_games', 'total_sales']\n",
    "na_platform['share'] = na_platform['total_sales']/ na_platform['total_sales'].sum()\n",
    "display(na_platform.sort_values(by='total_sales', ascending=False))"
   ]
  },
  {
   "cell_type": "code",
   "execution_count": 38,
   "metadata": {},
   "outputs": [
    {
     "data": {
      "image/svg+xml": [
       "<svg class=\"main-svg\" xmlns=\"http://www.w3.org/2000/svg\" xmlns:xlink=\"http://www.w3.org/1999/xlink\" width=\"700\" height=\"500\" style=\"\" viewBox=\"0 0 700 500\"><rect x=\"0\" y=\"0\" width=\"700\" height=\"500\" style=\"fill: rgb(255, 255, 255); fill-opacity: 1;\"/><defs id=\"defs-dd15f5\"><g class=\"clips\"/><g class=\"gradients\"/><g class=\"patterns\"/></defs><g class=\"bglayer\"/><g class=\"layer-below\"><g class=\"imagelayer\"/><g class=\"shapelayer\"/></g><g class=\"cartesianlayer\"/><g class=\"polarlayer\"/><g class=\"smithlayer\"/><g class=\"ternarylayer\"/><g class=\"geolayer\"/><g class=\"funnelarealayer\"/><g class=\"pielayer\"><g class=\"trace\" stroke-linejoin=\"round\" style=\"opacity: 1;\"><g class=\"slice\"><path class=\"surface\" d=\"M330,240l0,-180a180,180 0 0 1 179.99123461111083,178.22363765856736Z\" style=\"pointer-events: all; stroke-width: 0; fill: rgb(99, 110, 250); fill-opacity: 1; stroke: rgb(68, 68, 68); stroke-opacity: 1;\"/><g class=\"slicetext\"><text data-notex=\"1\" class=\"slicetext\" transform=\"translate(404.3028919326499,169.42073252724134)\" text-anchor=\"middle\" x=\"0\" y=\"0\" style=\"font-family: 'Open Sans', verdana, arial, sans-serif; font-size: 12px; fill: rgb(255, 255, 255); fill-opacity: 1; white-space: pre;\">24.8%</text></g></g><g class=\"slice\"><path class=\"surface\" d=\"M330,240l-175.0906953278986,-41.75222640282773a180,180 0 0 1 175.0906953278986,-138.24777359717228Z\" style=\"pointer-events: all; stroke-width: 0; fill: rgb(239, 85, 59); fill-opacity: 1; stroke: rgb(68, 68, 68); stroke-opacity: 1;\"/><g class=\"slicetext\"><text data-notex=\"1\" class=\"slicetext\" transform=\"translate(261.09298820898033,157.27879698586526)\" text-anchor=\"middle\" x=\"0\" y=\"0\" style=\"font-family: 'Open Sans', verdana, arial, sans-serif; font-size: 12px; fill: rgb(68, 68, 68); fill-opacity: 1; white-space: pre;\">21.3%</text></g></g><g class=\"slice\"><path class=\"surface\" d=\"M330,240l-106.43580905700121,145.1599757177631a180,180 0 0 1 -68.65488627089739,-186.91220212059085Z\" style=\"pointer-events: all; stroke-width: 0; fill: rgb(0, 204, 150); fill-opacity: 1; stroke: rgb(68, 68, 68); stroke-opacity: 1;\"/><g class=\"slicetext\"><text data-notex=\"1\" class=\"slicetext\" transform=\"translate(221.1716489682987,284.45948978663813)\" text-anchor=\"middle\" x=\"0\" y=\"0\" style=\"font-family: 'Open Sans', verdana, arial, sans-serif; font-size: 12px; fill: rgb(68, 68, 68); fill-opacity: 1; white-space: pre;\">18.7%</text></g></g><g class=\"slice\"><path class=\"surface\" d=\"M330,240l49.54324306589212,173.04758613316147a180,180 0 0 1 -155.97905212289334,-27.88761041539837Z\" style=\"pointer-events: all; stroke-width: 0; fill: rgb(171, 99, 250); fill-opacity: 1; stroke: rgb(68, 68, 68); stroke-opacity: 1;\"/><g class=\"slicetext\"><text data-notex=\"1\" class=\"slicetext\" transform=\"translate(307.96318219086504,367.5363222535432)\" text-anchor=\"middle\" x=\"0\" y=\"0\" style=\"font-family: 'Open Sans', verdana, arial, sans-serif; font-size: 12px; fill: rgb(68, 68, 68); fill-opacity: 1; white-space: pre;\">14.5%</text></g></g><g class=\"slice\"><path class=\"surface\" d=\"M330,240l132.4855531037726,121.85063897570441a180,180 0 0 1 -82.94231003788047,51.19694715745706Z\" style=\"pointer-events: all; stroke-width: 0; fill: rgb(255, 161, 90); fill-opacity: 1; stroke: rgb(68, 68, 68); stroke-opacity: 1;\"/><g class=\"slicetext\"><text data-notex=\"1\" class=\"slicetext\" transform=\"translate(404.36235939018974,365.035034690568)\" text-anchor=\"middle\" x=\"0\" y=\"0\" style=\"font-family: 'Open Sans', verdana, arial, sans-serif; font-size: 12px; fill: rgb(68, 68, 68); fill-opacity: 1; white-space: pre;\">8.73%</text></g></g><g class=\"slice\"><path class=\"surface\" d=\"M330,240l170.61686178407024,57.35753198103516a180,180 0 0 1 -38.13130868029765,64.49310699466926Z\" style=\"pointer-events: all; stroke-width: 0; fill: rgb(25, 211, 243); fill-opacity: 1; stroke: rgb(68, 68, 68); stroke-opacity: 1;\"/><g class=\"slicetext\"><text data-notex=\"1\" class=\"slicetext\" transform=\"translate(458.2132584511042,320.3287058422443)\" text-anchor=\"middle\" x=\"0\" y=\"0\" style=\"font-family: 'Open Sans', verdana, arial, sans-serif; font-size: 12px; fill: rgb(68, 68, 68); fill-opacity: 1; white-space: pre;\">6.67%</text></g></g><g class=\"slice\"><path class=\"surface\" d=\"M330,240l177.56039931337284,29.534803125729145a180,180 0 0 1 -6.943537529302603,27.822728855306014Z\" style=\"pointer-events: all; stroke-width: 0; fill: rgb(255, 102, 146); fill-opacity: 1; stroke: rgb(68, 68, 68); stroke-opacity: 1;\"/><g class=\"slicetext\"><text data-notex=\"1\" class=\"slicetext\" transform=\"translate(477.06927317382616,281.3411400379106)rotate(14.012702474240882)\" text-anchor=\"middle\" x=\"0\" y=\"0\" style=\"font-family: 'Open Sans', verdana, arial, sans-serif; font-size: 12px; fill: rgb(68, 68, 68); fill-opacity: 1; white-space: pre;\">2.54%</text></g></g><g class=\"slice\"><path class=\"surface\" d=\"M330,240l179.55082037363684,12.708379249691784a180,180 0 0 1 -1.9904210602639978,16.82642387603736Z\" style=\"pointer-events: all; stroke-width: 0; fill: rgb(182, 232, 128); fill-opacity: 1; stroke: rgb(68, 68, 68); stroke-opacity: 1;\"/><g class=\"slicetext\"><text data-notex=\"1\" class=\"slicetext\" transform=\"translate(528.7849574907817,273.45975913181815)\" text-anchor=\"middle\" x=\"0\" y=\"0\" style=\"font-family: 'Open Sans', verdana, arial, sans-serif; font-size: 12px; fill: rgb(42, 63, 95); fill-opacity: 1; white-space: pre;\">1.5%</text></g><path class=\"textline\" stroke-width=\"1.5\" d=\"M508.7537074907817,261.14502443365944V268.95975913181815h3.75\" fill=\"none\" style=\"stroke: rgb(42, 63, 95); stroke-opacity: 1;\"/></g><g class=\"slice\"><path class=\"surface\" d=\"M330,240l179.99974396169762,-0.30360125708342456a180,180 0 0 1 -0.44892358806077937,13.01198050677521Z\" style=\"pointer-events: all; stroke-width: 0; fill: rgb(255, 151, 255); fill-opacity: 1; stroke: rgb(68, 68, 68); stroke-opacity: 1;\"/><g class=\"slicetext\"><text data-notex=\"1\" class=\"slicetext\" transform=\"translate(533.7367181439537,258.45975913181815)\" text-anchor=\"middle\" x=\"0\" y=\"0\" style=\"font-family: 'Open Sans', verdana, arial, sans-serif; font-size: 12px; fill: rgb(42, 63, 95); fill-opacity: 1; white-space: pre;\">1.15%</text></g><path class=\"textline\" stroke-width=\"1.5\" d=\"M509.8929681439537,246.20644925528717V253.95975913181812h3.75\" fill=\"none\" style=\"stroke: rgb(42, 63, 95); stroke-opacity: 1;\"/></g><g class=\"slice\"><path class=\"surface\" d=\"M330,240l179.99123461111083,-1.7763623414326424a180,180 0 0 1 0.008509350586791697,1.4727610843492178Z\" style=\"pointer-events: all; stroke-width: 0; fill: rgb(254, 203, 82); fill-opacity: 1; stroke: rgb(68, 68, 68); stroke-opacity: 1;\"/><g class=\"slicetext\"><text data-notex=\"1\" class=\"slicetext\" transform=\"translate(533.8407455853568,243.45975913181812)\" text-anchor=\"middle\" x=\"0\" y=\"0\" style=\"font-family: 'Open Sans', verdana, arial, sans-serif; font-size: 12px; fill: rgb(42, 63, 95); fill-opacity: 1; white-space: pre;\">0.13%</text></g></g><g class=\"slice\"><path class=\"surface\" d=\"M330,240l179.99123461111083,-1.7763623414326424a180,180 0 0 1 0,0Z\" style=\"pointer-events: all; stroke-width: 0; fill: rgb(198, 202, 253); fill-opacity: 1; stroke: rgb(68, 68, 68); stroke-opacity: 1;\"/><g class=\"slicetext\"><text data-notex=\"1\" class=\"slicetext\" transform=\"translate(524.0224846111108,228.45975913181812)\" text-anchor=\"middle\" x=\"0\" y=\"0\" style=\"font-family: 'Open Sans', verdana, arial, sans-serif; font-size: 12px; fill: rgb(42, 63, 95); fill-opacity: 1; white-space: pre;\">0%</text></g><path class=\"textline\" stroke-width=\"1.5\" d=\"M509.9912346111108,238.22363765856736V223.95975913181812h3.75\" fill=\"none\" style=\"stroke: rgb(42, 63, 95); stroke-opacity: 1;\"/></g></g></g><g class=\"iciclelayer\"/><g class=\"treemaplayer\"/><g class=\"sunburstlayer\"/><g class=\"glimages\"/><defs id=\"topdefs-dd15f5\"><g class=\"clips\"/><clipPath id=\"legenddd15f5\"><rect width=\"78\" height=\"219\" x=\"0\" y=\"0\"/></clipPath></defs><g class=\"layer-above\"><g class=\"imagelayer\"/><g class=\"shapelayer\"/></g><g class=\"infolayer\"><g class=\"legend\" pointer-events=\"all\" transform=\"translate(590,60)\"><rect class=\"bg\" shape-rendering=\"crispEdges\" width=\"78\" height=\"219\" x=\"0\" y=\"0\" style=\"stroke: rgb(68, 68, 68); stroke-opacity: 1; fill: rgb(255, 255, 255); fill-opacity: 1; stroke-width: 0px;\"/><g class=\"scrollbox\" transform=\"\" clip-path=\"url(#legenddd15f5)\"><g class=\"groups\"><g class=\"traces\" transform=\"translate(0,14.5)\" style=\"opacity: 1;\"><text class=\"legendtext\" text-anchor=\"start\" x=\"40\" y=\"4.680000000000001\" style=\"font-family: 'Open Sans', verdana, arial, sans-serif; font-size: 12px; fill: rgb(42, 63, 95); fill-opacity: 1; white-space: pre;\">PS4</text><g class=\"layers\" style=\"opacity: 1;\"><g class=\"legendfill\"/><g class=\"legendlines\"/><g class=\"legendsymbols\"><g class=\"legendpoints\"><path class=\"legendpie\" d=\"M6,6H-6V-6H6Z\" transform=\"translate(20,0)\" style=\"stroke-width: 0; fill: rgb(99, 110, 250); fill-opacity: 1; stroke: rgb(68, 68, 68); stroke-opacity: 1;\"/></g></g></g><rect class=\"legendtoggle\" x=\"0\" y=\"-9.5\" width=\"72.359375\" height=\"19\" style=\"fill: rgb(0, 0, 0); fill-opacity: 0;\"/></g><g class=\"traces\" transform=\"translate(0,33.5)\" style=\"opacity: 1;\"><text class=\"legendtext\" text-anchor=\"start\" x=\"40\" y=\"4.680000000000001\" style=\"font-family: 'Open Sans', verdana, arial, sans-serif; font-size: 12px; fill: rgb(42, 63, 95); fill-opacity: 1; white-space: pre;\">XOne</text><g class=\"layers\" style=\"opacity: 1;\"><g class=\"legendfill\"/><g class=\"legendlines\"/><g class=\"legendsymbols\"><g class=\"legendpoints\"><path class=\"legendpie\" d=\"M6,6H-6V-6H6Z\" transform=\"translate(20,0)\" style=\"stroke-width: 0; fill: rgb(239, 85, 59); fill-opacity: 1; stroke: rgb(68, 68, 68); stroke-opacity: 1;\"/></g></g></g><rect class=\"legendtoggle\" x=\"0\" y=\"-9.5\" width=\"72.359375\" height=\"19\" style=\"fill: rgb(0, 0, 0); fill-opacity: 0;\"/></g><g class=\"traces\" transform=\"translate(0,52.5)\" style=\"opacity: 1;\"><text class=\"legendtext\" text-anchor=\"start\" x=\"40\" y=\"4.680000000000001\" style=\"font-family: 'Open Sans', verdana, arial, sans-serif; font-size: 12px; fill: rgb(42, 63, 95); fill-opacity: 1; white-space: pre;\">X360</text><g class=\"layers\" style=\"opacity: 1;\"><g class=\"legendfill\"/><g class=\"legendlines\"/><g class=\"legendsymbols\"><g class=\"legendpoints\"><path class=\"legendpie\" d=\"M6,6H-6V-6H6Z\" transform=\"translate(20,0)\" style=\"stroke-width: 0; fill: rgb(0, 204, 150); fill-opacity: 1; stroke: rgb(68, 68, 68); stroke-opacity: 1;\"/></g></g></g><rect class=\"legendtoggle\" x=\"0\" y=\"-9.5\" width=\"72.359375\" height=\"19\" style=\"fill: rgb(0, 0, 0); fill-opacity: 0;\"/></g><g class=\"traces\" transform=\"translate(0,71.5)\" style=\"opacity: 1;\"><text class=\"legendtext\" text-anchor=\"start\" x=\"40\" y=\"4.680000000000001\" style=\"font-family: 'Open Sans', verdana, arial, sans-serif; font-size: 12px; fill: rgb(42, 63, 95); fill-opacity: 1; white-space: pre;\">PS3</text><g class=\"layers\" style=\"opacity: 1;\"><g class=\"legendfill\"/><g class=\"legendlines\"/><g class=\"legendsymbols\"><g class=\"legendpoints\"><path class=\"legendpie\" d=\"M6,6H-6V-6H6Z\" transform=\"translate(20,0)\" style=\"stroke-width: 0; fill: rgb(171, 99, 250); fill-opacity: 1; stroke: rgb(68, 68, 68); stroke-opacity: 1;\"/></g></g></g><rect class=\"legendtoggle\" x=\"0\" y=\"-9.5\" width=\"72.359375\" height=\"19\" style=\"fill: rgb(0, 0, 0); fill-opacity: 0;\"/></g><g class=\"traces\" transform=\"translate(0,90.5)\" style=\"opacity: 1;\"><text class=\"legendtext\" text-anchor=\"start\" x=\"40\" y=\"4.680000000000001\" style=\"font-family: 'Open Sans', verdana, arial, sans-serif; font-size: 12px; fill: rgb(42, 63, 95); fill-opacity: 1; white-space: pre;\">3DS</text><g class=\"layers\" style=\"opacity: 1;\"><g class=\"legendfill\"/><g class=\"legendlines\"/><g class=\"legendsymbols\"><g class=\"legendpoints\"><path class=\"legendpie\" d=\"M6,6H-6V-6H6Z\" transform=\"translate(20,0)\" style=\"stroke-width: 0; fill: rgb(255, 161, 90); fill-opacity: 1; stroke: rgb(68, 68, 68); stroke-opacity: 1;\"/></g></g></g><rect class=\"legendtoggle\" x=\"0\" y=\"-9.5\" width=\"72.359375\" height=\"19\" style=\"fill: rgb(0, 0, 0); fill-opacity: 0;\"/></g><g class=\"traces\" transform=\"translate(0,109.5)\" style=\"opacity: 1;\"><text class=\"legendtext\" text-anchor=\"start\" x=\"40\" y=\"4.680000000000001\" style=\"font-family: 'Open Sans', verdana, arial, sans-serif; font-size: 12px; fill: rgb(42, 63, 95); fill-opacity: 1; white-space: pre;\">WiiU</text><g class=\"layers\" style=\"opacity: 1;\"><g class=\"legendfill\"/><g class=\"legendlines\"/><g class=\"legendsymbols\"><g class=\"legendpoints\"><path class=\"legendpie\" d=\"M6,6H-6V-6H6Z\" transform=\"translate(20,0)\" style=\"stroke-width: 0; fill: rgb(25, 211, 243); fill-opacity: 1; stroke: rgb(68, 68, 68); stroke-opacity: 1;\"/></g></g></g><rect class=\"legendtoggle\" x=\"0\" y=\"-9.5\" width=\"72.359375\" height=\"19\" style=\"fill: rgb(0, 0, 0); fill-opacity: 0;\"/></g><g class=\"traces\" transform=\"translate(0,128.5)\" style=\"opacity: 1;\"><text class=\"legendtext\" text-anchor=\"start\" x=\"40\" y=\"4.680000000000001\" style=\"font-family: 'Open Sans', verdana, arial, sans-serif; font-size: 12px; fill: rgb(42, 63, 95); fill-opacity: 1; white-space: pre;\">PC</text><g class=\"layers\" style=\"opacity: 1;\"><g class=\"legendfill\"/><g class=\"legendlines\"/><g class=\"legendsymbols\"><g class=\"legendpoints\"><path class=\"legendpie\" d=\"M6,6H-6V-6H6Z\" transform=\"translate(20,0)\" style=\"stroke-width: 0; fill: rgb(255, 102, 146); fill-opacity: 1; stroke: rgb(68, 68, 68); stroke-opacity: 1;\"/></g></g></g><rect class=\"legendtoggle\" x=\"0\" y=\"-9.5\" width=\"72.359375\" height=\"19\" style=\"fill: rgb(0, 0, 0); fill-opacity: 0;\"/></g><g class=\"traces\" transform=\"translate(0,147.5)\" style=\"opacity: 1;\"><text class=\"legendtext\" text-anchor=\"start\" x=\"40\" y=\"4.680000000000001\" style=\"font-family: 'Open Sans', verdana, arial, sans-serif; font-size: 12px; fill: rgb(42, 63, 95); fill-opacity: 1; white-space: pre;\">Wii</text><g class=\"layers\" style=\"opacity: 1;\"><g class=\"legendfill\"/><g class=\"legendlines\"/><g class=\"legendsymbols\"><g class=\"legendpoints\"><path class=\"legendpie\" d=\"M6,6H-6V-6H6Z\" transform=\"translate(20,0)\" style=\"stroke-width: 0; fill: rgb(182, 232, 128); fill-opacity: 1; stroke: rgb(68, 68, 68); stroke-opacity: 1;\"/></g></g></g><rect class=\"legendtoggle\" x=\"0\" y=\"-9.5\" width=\"72.359375\" height=\"19\" style=\"fill: rgb(0, 0, 0); fill-opacity: 0;\"/></g><g class=\"traces\" transform=\"translate(0,166.5)\" style=\"opacity: 1;\"><text class=\"legendtext\" text-anchor=\"start\" x=\"40\" y=\"4.680000000000001\" style=\"font-family: 'Open Sans', verdana, arial, sans-serif; font-size: 12px; fill: rgb(42, 63, 95); fill-opacity: 1; white-space: pre;\">PSV</text><g class=\"layers\" style=\"opacity: 1;\"><g class=\"legendfill\"/><g class=\"legendlines\"/><g class=\"legendsymbols\"><g class=\"legendpoints\"><path class=\"legendpie\" d=\"M6,6H-6V-6H6Z\" transform=\"translate(20,0)\" style=\"stroke-width: 0; fill: rgb(255, 151, 255); fill-opacity: 1; stroke: rgb(68, 68, 68); stroke-opacity: 1;\"/></g></g></g><rect class=\"legendtoggle\" x=\"0\" y=\"-9.5\" width=\"72.359375\" height=\"19\" style=\"fill: rgb(0, 0, 0); fill-opacity: 0;\"/></g><g class=\"traces\" transform=\"translate(0,185.5)\" style=\"opacity: 1;\"><text class=\"legendtext\" text-anchor=\"start\" x=\"40\" y=\"4.680000000000001\" style=\"font-family: 'Open Sans', verdana, arial, sans-serif; font-size: 12px; fill: rgb(42, 63, 95); fill-opacity: 1; white-space: pre;\">DS</text><g class=\"layers\" style=\"opacity: 1;\"><g class=\"legendfill\"/><g class=\"legendlines\"/><g class=\"legendsymbols\"><g class=\"legendpoints\"><path class=\"legendpie\" d=\"M6,6H-6V-6H6Z\" transform=\"translate(20,0)\" style=\"stroke-width: 0; fill: rgb(254, 203, 82); fill-opacity: 1; stroke: rgb(68, 68, 68); stroke-opacity: 1;\"/></g></g></g><rect class=\"legendtoggle\" x=\"0\" y=\"-9.5\" width=\"72.359375\" height=\"19\" style=\"fill: rgb(0, 0, 0); fill-opacity: 0;\"/></g><g class=\"traces\" transform=\"translate(0,204.5)\" style=\"opacity: 1;\"><text class=\"legendtext\" text-anchor=\"start\" x=\"40\" y=\"4.680000000000001\" style=\"font-family: 'Open Sans', verdana, arial, sans-serif; font-size: 12px; fill: rgb(42, 63, 95); fill-opacity: 1; white-space: pre;\">PSP</text><g class=\"layers\" style=\"opacity: 1;\"><g class=\"legendfill\"/><g class=\"legendlines\"/><g class=\"legendsymbols\"><g class=\"legendpoints\"><path class=\"legendpie\" d=\"M6,6H-6V-6H6Z\" transform=\"translate(20,0)\" style=\"stroke-width: 0; fill: rgb(198, 202, 253); fill-opacity: 1; stroke: rgb(68, 68, 68); stroke-opacity: 1;\"/></g></g></g><rect class=\"legendtoggle\" x=\"0\" y=\"-9.5\" width=\"72.359375\" height=\"19\" style=\"fill: rgb(0, 0, 0); fill-opacity: 0;\"/></g></g></g><rect class=\"scrollbar\" rx=\"20\" ry=\"3\" width=\"0\" height=\"0\" x=\"0\" y=\"0\" style=\"fill: rgb(128, 139, 164); fill-opacity: 1;\"/></g><g class=\"g-gtitle\"/></g></svg>"
      ]
     },
     "metadata": {},
     "output_type": "display_data"
    }
   ],
   "source": [
    "fig = px.pie(na_platform, values=na_platform['share'], names=na_platform.index)\n",
    "fig.show('svg')"
   ]
  },
  {
   "cell_type": "markdown",
   "metadata": {},
   "source": [
    "Определяем долю рынка по жанрам в NA"
   ]
  },
  {
   "cell_type": "code",
   "execution_count": 39,
   "metadata": {},
   "outputs": [
    {
     "data": {
      "text/html": [
       "<div>\n",
       "<style scoped>\n",
       "    .dataframe tbody tr th:only-of-type {\n",
       "        vertical-align: middle;\n",
       "    }\n",
       "\n",
       "    .dataframe tbody tr th {\n",
       "        vertical-align: top;\n",
       "    }\n",
       "\n",
       "    .dataframe thead th {\n",
       "        text-align: right;\n",
       "    }\n",
       "</style>\n",
       "<table border=\"1\" class=\"dataframe\">\n",
       "  <thead>\n",
       "    <tr style=\"text-align: right;\">\n",
       "      <th></th>\n",
       "      <th>number_of_games</th>\n",
       "      <th>total_sales</th>\n",
       "      <th>share</th>\n",
       "    </tr>\n",
       "    <tr>\n",
       "      <th>genre</th>\n",
       "      <th></th>\n",
       "      <th></th>\n",
       "      <th></th>\n",
       "    </tr>\n",
       "  </thead>\n",
       "  <tbody>\n",
       "    <tr>\n",
       "      <th>Action</th>\n",
       "      <td>766</td>\n",
       "      <td>126.05</td>\n",
       "      <td>0.287976</td>\n",
       "    </tr>\n",
       "    <tr>\n",
       "      <th>Shooter</th>\n",
       "      <td>187</td>\n",
       "      <td>109.74</td>\n",
       "      <td>0.250714</td>\n",
       "    </tr>\n",
       "    <tr>\n",
       "      <th>Sports</th>\n",
       "      <td>214</td>\n",
       "      <td>65.27</td>\n",
       "      <td>0.149117</td>\n",
       "    </tr>\n",
       "    <tr>\n",
       "      <th>Role-Playing</th>\n",
       "      <td>292</td>\n",
       "      <td>46.40</td>\n",
       "      <td>0.106006</td>\n",
       "    </tr>\n",
       "    <tr>\n",
       "      <th>Misc</th>\n",
       "      <td>155</td>\n",
       "      <td>27.49</td>\n",
       "      <td>0.062804</td>\n",
       "    </tr>\n",
       "    <tr>\n",
       "      <th>Platform</th>\n",
       "      <td>74</td>\n",
       "      <td>18.14</td>\n",
       "      <td>0.041443</td>\n",
       "    </tr>\n",
       "    <tr>\n",
       "      <th>Fighting</th>\n",
       "      <td>80</td>\n",
       "      <td>15.55</td>\n",
       "      <td>0.035526</td>\n",
       "    </tr>\n",
       "    <tr>\n",
       "      <th>Racing</th>\n",
       "      <td>85</td>\n",
       "      <td>12.96</td>\n",
       "      <td>0.029609</td>\n",
       "    </tr>\n",
       "    <tr>\n",
       "      <th>Adventure</th>\n",
       "      <td>245</td>\n",
       "      <td>7.14</td>\n",
       "      <td>0.016312</td>\n",
       "    </tr>\n",
       "    <tr>\n",
       "      <th>Simulation</th>\n",
       "      <td>62</td>\n",
       "      <td>4.86</td>\n",
       "      <td>0.011103</td>\n",
       "    </tr>\n",
       "    <tr>\n",
       "      <th>Strategy</th>\n",
       "      <td>56</td>\n",
       "      <td>3.28</td>\n",
       "      <td>0.007494</td>\n",
       "    </tr>\n",
       "    <tr>\n",
       "      <th>Puzzle</th>\n",
       "      <td>17</td>\n",
       "      <td>0.83</td>\n",
       "      <td>0.001896</td>\n",
       "    </tr>\n",
       "  </tbody>\n",
       "</table>\n",
       "</div>"
      ],
      "text/plain": [
       "              number_of_games  total_sales     share\n",
       "genre                                               \n",
       "Action                    766       126.05  0.287976\n",
       "Shooter                   187       109.74  0.250714\n",
       "Sports                    214        65.27  0.149117\n",
       "Role-Playing              292        46.40  0.106006\n",
       "Misc                      155        27.49  0.062804\n",
       "Platform                   74        18.14  0.041443\n",
       "Fighting                   80        15.55  0.035526\n",
       "Racing                     85        12.96  0.029609\n",
       "Adventure                 245         7.14  0.016312\n",
       "Simulation                 62         4.86  0.011103\n",
       "Strategy                   56         3.28  0.007494\n",
       "Puzzle                     17         0.83  0.001896"
      ]
     },
     "metadata": {},
     "output_type": "display_data"
    },
    {
     "data": {
      "image/svg+xml": [
       "<svg class=\"main-svg\" xmlns=\"http://www.w3.org/2000/svg\" xmlns:xlink=\"http://www.w3.org/1999/xlink\" width=\"700\" height=\"500\" style=\"\" viewBox=\"0 0 700 500\"><rect x=\"0\" y=\"0\" width=\"700\" height=\"500\" style=\"fill: rgb(255, 255, 255); fill-opacity: 1;\"/><defs id=\"defs-8f43a7\"><g class=\"clips\"/><g class=\"gradients\"/><g class=\"patterns\"/></defs><g class=\"bglayer\"/><g class=\"layer-below\"><g class=\"imagelayer\"/><g class=\"shapelayer\"/></g><g class=\"cartesianlayer\"/><g class=\"polarlayer\"/><g class=\"smithlayer\"/><g class=\"ternarylayer\"/><g class=\"geolayer\"/><g class=\"funnelarealayer\"/><g class=\"pielayer\"><g class=\"trace\" stroke-linejoin=\"round\" style=\"opacity: 1;\"><g class=\"slice\"><path class=\"surface\" d=\"M319,240l0,-180a180,180 0 0 1 174.90011402177984,222.5435084962255Z\" style=\"pointer-events: all; stroke-width: 0; fill: rgb(99, 110, 250); fill-opacity: 1; stroke: rgb(68, 68, 68); stroke-opacity: 1;\"/><g class=\"slicetext\"><text data-notex=\"1\" class=\"slicetext\" transform=\"translate(398.19071460152605,182.23218934753993)\" text-anchor=\"middle\" x=\"0\" y=\"0\" style=\"font-family: 'Open Sans', verdana, arial, sans-serif; font-size: 12px; fill: rgb(255, 255, 255); fill-opacity: 1; white-space: pre;\">28.8%</text></g></g><g class=\"slice\"><path class=\"surface\" d=\"M319,240l-179.99818895757602,0.8074478266512334a180,180 0 0 1 179.99818895757602,-180.80744782665124Z\" style=\"pointer-events: all; stroke-width: 0; fill: rgb(239, 85, 59); fill-opacity: 1; stroke: rgb(68, 68, 68); stroke-opacity: 1;\"/><g class=\"slicetext\"><text data-notex=\"1\" class=\"slicetext\" transform=\"translate(244.30473675825152,170.1779458507063)\" text-anchor=\"middle\" x=\"0\" y=\"0\" style=\"font-family: 'Open Sans', verdana, arial, sans-serif; font-size: 12px; fill: rgb(68, 68, 68); fill-opacity: 1; white-space: pre;\">25.1%</text></g></g><g class=\"slice\"><path class=\"surface\" d=\"M319,240l-105.95597320946968,145.51058979068893a180,180 0 0 1 -74.04221574810634,-144.70314196403768Z\" style=\"pointer-events: all; stroke-width: 0; fill: rgb(0, 204, 150); fill-opacity: 1; stroke: rgb(68, 68, 68); stroke-opacity: 1;\"/><g class=\"slicetext\"><text data-notex=\"1\" class=\"slicetext\" transform=\"translate(208.56536718275572,300.98759608202613)\" text-anchor=\"middle\" x=\"0\" y=\"0\" style=\"font-family: 'Open Sans', verdana, arial, sans-serif; font-size: 12px; fill: rgb(68, 68, 68); fill-opacity: 1; white-space: pre;\">14.9%</text></g></g><g class=\"slice\"><path class=\"surface\" d=\"M319,240l6.6002356285392425,179.87895065751235a180,180 0 0 1 -112.55620883800891,-34.36836086682342Z\" style=\"pointer-events: all; stroke-width: 0; fill: rgb(171, 99, 250); fill-opacity: 1; stroke: rgb(68, 68, 68); stroke-opacity: 1;\"/><g class=\"slicetext\"><text data-notex=\"1\" class=\"slicetext\" transform=\"translate(279.34547267222774,374.240447897644)\" text-anchor=\"middle\" x=\"0\" y=\"0\" style=\"font-family: 'Open Sans', verdana, arial, sans-serif; font-size: 12px; fill: rgb(68, 68, 68); fill-opacity: 1; white-space: pre;\">10.6%</text></g></g><g class=\"slice\"><path class=\"surface\" d=\"M319,240l75.24712988034331,163.51718394337257a180,180 0 0 1 -68.64689425180407,16.361766714139776Z\" style=\"pointer-events: all; stroke-width: 0; fill: rgb(255, 161, 90); fill-opacity: 1; stroke: rgb(68, 68, 68); stroke-opacity: 1;\"/><g class=\"slicetext\"><text data-notex=\"1\" class=\"slicetext\" transform=\"translate(353.8542663636222,390.89731139330263)\" text-anchor=\"middle\" x=\"0\" y=\"0\" style=\"font-family: 'Open Sans', verdana, arial, sans-serif; font-size: 12px; fill: rgb(68, 68, 68); fill-opacity: 1; white-space: pre;\">6.28%</text></g></g><g class=\"slice\"><path class=\"surface\" d=\"M319,240l114.80976568463618,138.63158984675513a180,180 0 0 1 -39.56263580429287,24.88559409661744Z\" style=\"pointer-events: all; stroke-width: 0; fill: rgb(25, 211, 243); fill-opacity: 1; stroke: rgb(68, 68, 68); stroke-opacity: 1;\"/><g class=\"slicetext\"><text data-notex=\"1\" class=\"slicetext\" transform=\"translate(391.00547827021694,362.9245367793654)rotate(57.82938475246169)\" text-anchor=\"middle\" x=\"0\" y=\"0\" style=\"font-family: 'Open Sans', verdana, arial, sans-serif; font-size: 12px; fill: rgb(68, 68, 68); fill-opacity: 1; white-space: pre;\">4.14%</text></g></g><g class=\"slice\"><path class=\"surface\" d=\"M319,240l142.64977118493826,109.7772416345244a180,180 0 0 1 -27.840005500302084,28.854348212230732Z\" style=\"pointer-events: all; stroke-width: 0; fill: rgb(255, 102, 146); fill-opacity: 1; stroke: rgb(68, 68, 68); stroke-opacity: 1;\"/><g class=\"slicetext\"><text data-notex=\"1\" class=\"slicetext\" transform=\"translate(420.79612386190513,344.4706962684887)rotate(43.97500628269859)\" text-anchor=\"middle\" x=\"0\" y=\"0\" style=\"font-family: 'Open Sans', verdana, arial, sans-serif; font-size: 12px; fill: rgb(68, 68, 68); fill-opacity: 1; white-space: pre;\">3.55%</text></g></g><g class=\"slice\"><path class=\"surface\" d=\"M319,240l160.49334136794653,81.49777528590451a180,180 0 0 1 -17.843570183008268,28.27946634861989Z\" style=\"pointer-events: all; stroke-width: 0; fill: rgb(182, 232, 128); fill-opacity: 1; stroke: rgb(68, 68, 68); stroke-opacity: 1;\"/><g class=\"slicetext\"><text data-notex=\"1\" class=\"slicetext\" transform=\"translate(443.1514168580895,323.6570580507)rotate(32.250805327728415)\" text-anchor=\"middle\" x=\"0\" y=\"0\" style=\"font-family: 'Open Sans', verdana, arial, sans-serif; font-size: 12px; fill: rgb(68, 68, 68); fill-opacity: 1; white-space: pre;\">2.96%</text></g></g><g class=\"slice\"><path class=\"surface\" d=\"M319,240l167.98939783767455,64.6495337503335a180,180 0 0 1 -7.496056469728018,16.848241535571006Z\" style=\"pointer-events: all; stroke-width: 0; fill: rgb(255, 151, 255); fill-opacity: 1; stroke: rgb(68, 68, 68); stroke-opacity: 1;\"/><g class=\"slicetext\"><text data-notex=\"1\" class=\"slicetext\" transform=\"translate(507.30101891723956,333.5243882245522)\" text-anchor=\"middle\" x=\"0\" y=\"0\" style=\"font-family: 'Open Sans', verdana, arial, sans-serif; font-size: 12px; fill: rgb(42, 63, 95); fill-opacity: 1; white-space: pre;\">1.63%</text></g><path class=\"textline\" stroke-width=\"1.5\" d=\"M483.45726891723956,313.1697116318136V329.0243882245522h3.75\" fill=\"none\" style=\"stroke: rgb(42, 63, 95); stroke-opacity: 1;\"/></g><g class=\"slice\"><path class=\"surface\" d=\"M319,240l172.0872980640652,52.7822114448569a180,180 0 0 1 -4.097900226390664,11.867322305476605Z\" style=\"pointer-events: all; stroke-width: 0; fill: rgb(254, 203, 82); fill-opacity: 1; stroke: rgb(68, 68, 68); stroke-opacity: 1;\"/><g class=\"slicetext\"><text data-notex=\"1\" class=\"slicetext\" transform=\"translate(512.9855970234075,318.5243882245522)\" text-anchor=\"middle\" x=\"0\" y=\"0\" style=\"font-family: 'Open Sans', verdana, arial, sans-serif; font-size: 12px; fill: rgb(42, 63, 95); fill-opacity: 1; white-space: pre;\">1.11%</text></g><path class=\"textline\" stroke-width=\"1.5\" d=\"M489.14184702340754,298.7516118201313V314.0243882245522h3.75\" fill=\"none\" style=\"stroke: rgb(42, 63, 95); stroke-opacity: 1;\"/></g><g class=\"slice\"><path class=\"surface\" d=\"M319,240l174.3808328294424,44.624266287638434a180,180 0 0 1 -2.2935347653771885,8.157945157218464Z\" style=\"pointer-events: all; stroke-width: 0; fill: rgb(198, 202, 253); fill-opacity: 1; stroke: rgb(68, 68, 68); stroke-opacity: 1;\"/><g class=\"slicetext\"><text data-notex=\"1\" class=\"slicetext\" transform=\"translate(519.9383305753071,303.5243882245522)\" text-anchor=\"middle\" x=\"0\" y=\"0\" style=\"font-family: 'Open Sans', verdana, arial, sans-serif; font-size: 12px; fill: rgb(42, 63, 95); fill-opacity: 1; white-space: pre;\">0.749%</text></g><path class=\"textline\" stroke-width=\"1.5\" d=\"M492.2820805753071,288.716737898722V299.0243882245522h3.75\" fill=\"none\" style=\"stroke: rgb(42, 63, 95); stroke-opacity: 1;\"/></g><g class=\"slice\"><path class=\"surface\" d=\"M319,240l174.9001140217798,42.54350849622565a180,180 0 0 1 -0.5192811923374165,2.080757791412786Z\" style=\"pointer-events: all; stroke-width: 0; fill: rgb(247, 167, 153); fill-opacity: 1; stroke: rgb(68, 68, 68); stroke-opacity: 1;\"/><g class=\"slicetext\"><text data-notex=\"1\" class=\"slicetext\" transform=\"translate(517.4873223024704,288.5243882245522)\" text-anchor=\"middle\" x=\"0\" y=\"0\" style=\"font-family: 'Open Sans', verdana, arial, sans-serif; font-size: 12px; fill: rgb(42, 63, 95); fill-opacity: 1; white-space: pre;\">0.19%</text></g></g></g></g><g class=\"iciclelayer\"/><g class=\"treemaplayer\"/><g class=\"sunburstlayer\"/><g class=\"glimages\"/><defs id=\"topdefs-8f43a7\"><g class=\"clips\"/><clipPath id=\"legend8f43a7\"><rect width=\"120\" height=\"238\" x=\"0\" y=\"0\"/></clipPath></defs><g class=\"layer-above\"><g class=\"imagelayer\"/><g class=\"shapelayer\"/></g><g class=\"infolayer\"><g class=\"legend\" pointer-events=\"all\" transform=\"translate(567.56,60)\"><rect class=\"bg\" shape-rendering=\"crispEdges\" style=\"stroke: rgb(68, 68, 68); stroke-opacity: 1; fill: rgb(255, 255, 255); fill-opacity: 1; stroke-width: 0px;\" width=\"120\" height=\"238\" x=\"0\" y=\"0\"/><g class=\"scrollbox\" transform=\"\" clip-path=\"url(#legend8f43a7)\"><g class=\"groups\"><g class=\"traces\" transform=\"translate(0,14.5)\" style=\"opacity: 1;\"><text class=\"legendtext\" text-anchor=\"start\" x=\"40\" y=\"4.680000000000001\" style=\"font-family: 'Open Sans', verdana, arial, sans-serif; font-size: 12px; fill: rgb(42, 63, 95); fill-opacity: 1; white-space: pre;\">Action</text><g class=\"layers\" style=\"opacity: 1;\"><g class=\"legendfill\"/><g class=\"legendlines\"/><g class=\"legendsymbols\"><g class=\"legendpoints\"><path class=\"legendpie\" d=\"M6,6H-6V-6H6Z\" transform=\"translate(20,0)\" style=\"stroke-width: 0; fill: rgb(99, 110, 250); fill-opacity: 1; stroke: rgb(68, 68, 68); stroke-opacity: 1;\"/></g></g></g><rect class=\"legendtoggle\" x=\"0\" y=\"-9.5\" width=\"114.34375\" height=\"19\" style=\"fill: rgb(0, 0, 0); fill-opacity: 0;\"/></g><g class=\"traces\" transform=\"translate(0,33.5)\" style=\"opacity: 1;\"><text class=\"legendtext\" text-anchor=\"start\" x=\"40\" y=\"4.680000000000001\" style=\"font-family: 'Open Sans', verdana, arial, sans-serif; font-size: 12px; fill: rgb(42, 63, 95); fill-opacity: 1; white-space: pre;\">Shooter</text><g class=\"layers\" style=\"opacity: 1;\"><g class=\"legendfill\"/><g class=\"legendlines\"/><g class=\"legendsymbols\"><g class=\"legendpoints\"><path class=\"legendpie\" d=\"M6,6H-6V-6H6Z\" transform=\"translate(20,0)\" style=\"stroke-width: 0; fill: rgb(239, 85, 59); fill-opacity: 1; stroke: rgb(68, 68, 68); stroke-opacity: 1;\"/></g></g></g><rect class=\"legendtoggle\" x=\"0\" y=\"-9.5\" width=\"114.34375\" height=\"19\" style=\"fill: rgb(0, 0, 0); fill-opacity: 0;\"/></g><g class=\"traces\" transform=\"translate(0,52.5)\" style=\"opacity: 1;\"><text class=\"legendtext\" text-anchor=\"start\" x=\"40\" y=\"4.680000000000001\" style=\"font-family: 'Open Sans', verdana, arial, sans-serif; font-size: 12px; fill: rgb(42, 63, 95); fill-opacity: 1; white-space: pre;\">Sports</text><g class=\"layers\" style=\"opacity: 1;\"><g class=\"legendfill\"/><g class=\"legendlines\"/><g class=\"legendsymbols\"><g class=\"legendpoints\"><path class=\"legendpie\" d=\"M6,6H-6V-6H6Z\" transform=\"translate(20,0)\" style=\"stroke-width: 0; fill: rgb(0, 204, 150); fill-opacity: 1; stroke: rgb(68, 68, 68); stroke-opacity: 1;\"/></g></g></g><rect class=\"legendtoggle\" x=\"0\" y=\"-9.5\" width=\"114.34375\" height=\"19\" style=\"fill: rgb(0, 0, 0); fill-opacity: 0;\"/></g><g class=\"traces\" transform=\"translate(0,71.5)\" style=\"opacity: 1;\"><text class=\"legendtext\" text-anchor=\"start\" x=\"40\" y=\"4.680000000000001\" style=\"font-family: 'Open Sans', verdana, arial, sans-serif; font-size: 12px; fill: rgb(42, 63, 95); fill-opacity: 1; white-space: pre;\">Role-Playing</text><g class=\"layers\" style=\"opacity: 1;\"><g class=\"legendfill\"/><g class=\"legendlines\"/><g class=\"legendsymbols\"><g class=\"legendpoints\"><path class=\"legendpie\" d=\"M6,6H-6V-6H6Z\" transform=\"translate(20,0)\" style=\"stroke-width: 0; fill: rgb(171, 99, 250); fill-opacity: 1; stroke: rgb(68, 68, 68); stroke-opacity: 1;\"/></g></g></g><rect class=\"legendtoggle\" x=\"0\" y=\"-9.5\" width=\"114.34375\" height=\"19\" style=\"fill: rgb(0, 0, 0); fill-opacity: 0;\"/></g><g class=\"traces\" transform=\"translate(0,90.5)\" style=\"opacity: 1;\"><text class=\"legendtext\" text-anchor=\"start\" x=\"40\" y=\"4.680000000000001\" style=\"font-family: 'Open Sans', verdana, arial, sans-serif; font-size: 12px; fill: rgb(42, 63, 95); fill-opacity: 1; white-space: pre;\">Misc</text><g class=\"layers\" style=\"opacity: 1;\"><g class=\"legendfill\"/><g class=\"legendlines\"/><g class=\"legendsymbols\"><g class=\"legendpoints\"><path class=\"legendpie\" d=\"M6,6H-6V-6H6Z\" transform=\"translate(20,0)\" style=\"stroke-width: 0; fill: rgb(255, 161, 90); fill-opacity: 1; stroke: rgb(68, 68, 68); stroke-opacity: 1;\"/></g></g></g><rect class=\"legendtoggle\" x=\"0\" y=\"-9.5\" width=\"114.34375\" height=\"19\" style=\"fill: rgb(0, 0, 0); fill-opacity: 0;\"/></g><g class=\"traces\" transform=\"translate(0,109.5)\" style=\"opacity: 1;\"><text class=\"legendtext\" text-anchor=\"start\" x=\"40\" y=\"4.680000000000001\" style=\"font-family: 'Open Sans', verdana, arial, sans-serif; font-size: 12px; fill: rgb(42, 63, 95); fill-opacity: 1; white-space: pre;\">Platform</text><g class=\"layers\" style=\"opacity: 1;\"><g class=\"legendfill\"/><g class=\"legendlines\"/><g class=\"legendsymbols\"><g class=\"legendpoints\"><path class=\"legendpie\" d=\"M6,6H-6V-6H6Z\" transform=\"translate(20,0)\" style=\"stroke-width: 0; fill: rgb(25, 211, 243); fill-opacity: 1; stroke: rgb(68, 68, 68); stroke-opacity: 1;\"/></g></g></g><rect class=\"legendtoggle\" x=\"0\" y=\"-9.5\" width=\"114.34375\" height=\"19\" style=\"fill: rgb(0, 0, 0); fill-opacity: 0;\"/></g><g class=\"traces\" transform=\"translate(0,128.5)\" style=\"opacity: 1;\"><text class=\"legendtext\" text-anchor=\"start\" x=\"40\" y=\"4.680000000000001\" style=\"font-family: 'Open Sans', verdana, arial, sans-serif; font-size: 12px; fill: rgb(42, 63, 95); fill-opacity: 1; white-space: pre;\">Fighting</text><g class=\"layers\" style=\"opacity: 1;\"><g class=\"legendfill\"/><g class=\"legendlines\"/><g class=\"legendsymbols\"><g class=\"legendpoints\"><path class=\"legendpie\" d=\"M6,6H-6V-6H6Z\" transform=\"translate(20,0)\" style=\"stroke-width: 0; fill: rgb(255, 102, 146); fill-opacity: 1; stroke: rgb(68, 68, 68); stroke-opacity: 1;\"/></g></g></g><rect class=\"legendtoggle\" x=\"0\" y=\"-9.5\" width=\"114.34375\" height=\"19\" style=\"fill: rgb(0, 0, 0); fill-opacity: 0;\"/></g><g class=\"traces\" transform=\"translate(0,147.5)\" style=\"opacity: 1;\"><text class=\"legendtext\" text-anchor=\"start\" x=\"40\" y=\"4.680000000000001\" style=\"font-family: 'Open Sans', verdana, arial, sans-serif; font-size: 12px; fill: rgb(42, 63, 95); fill-opacity: 1; white-space: pre;\">Racing</text><g class=\"layers\" style=\"opacity: 1;\"><g class=\"legendfill\"/><g class=\"legendlines\"/><g class=\"legendsymbols\"><g class=\"legendpoints\"><path class=\"legendpie\" d=\"M6,6H-6V-6H6Z\" transform=\"translate(20,0)\" style=\"stroke-width: 0; fill: rgb(182, 232, 128); fill-opacity: 1; stroke: rgb(68, 68, 68); stroke-opacity: 1;\"/></g></g></g><rect class=\"legendtoggle\" x=\"0\" y=\"-9.5\" width=\"114.34375\" height=\"19\" style=\"fill: rgb(0, 0, 0); fill-opacity: 0;\"/></g><g class=\"traces\" transform=\"translate(0,166.5)\" style=\"opacity: 1;\"><text class=\"legendtext\" text-anchor=\"start\" x=\"40\" y=\"4.680000000000001\" style=\"font-family: 'Open Sans', verdana, arial, sans-serif; font-size: 12px; fill: rgb(42, 63, 95); fill-opacity: 1; white-space: pre;\">Adventure</text><g class=\"layers\" style=\"opacity: 1;\"><g class=\"legendfill\"/><g class=\"legendlines\"/><g class=\"legendsymbols\"><g class=\"legendpoints\"><path class=\"legendpie\" d=\"M6,6H-6V-6H6Z\" transform=\"translate(20,0)\" style=\"stroke-width: 0; fill: rgb(255, 151, 255); fill-opacity: 1; stroke: rgb(68, 68, 68); stroke-opacity: 1;\"/></g></g></g><rect class=\"legendtoggle\" x=\"0\" y=\"-9.5\" width=\"114.34375\" height=\"19\" style=\"fill: rgb(0, 0, 0); fill-opacity: 0;\"/></g><g class=\"traces\" transform=\"translate(0,185.5)\" style=\"opacity: 1;\"><text class=\"legendtext\" text-anchor=\"start\" x=\"40\" y=\"4.680000000000001\" style=\"font-family: 'Open Sans', verdana, arial, sans-serif; font-size: 12px; fill: rgb(42, 63, 95); fill-opacity: 1; white-space: pre;\">Simulation</text><g class=\"layers\" style=\"opacity: 1;\"><g class=\"legendfill\"/><g class=\"legendlines\"/><g class=\"legendsymbols\"><g class=\"legendpoints\"><path class=\"legendpie\" d=\"M6,6H-6V-6H6Z\" transform=\"translate(20,0)\" style=\"stroke-width: 0; fill: rgb(254, 203, 82); fill-opacity: 1; stroke: rgb(68, 68, 68); stroke-opacity: 1;\"/></g></g></g><rect class=\"legendtoggle\" x=\"0\" y=\"-9.5\" width=\"114.34375\" height=\"19\" style=\"fill: rgb(0, 0, 0); fill-opacity: 0;\"/></g><g class=\"traces\" transform=\"translate(0,204.5)\" style=\"opacity: 1;\"><text class=\"legendtext\" text-anchor=\"start\" x=\"40\" y=\"4.680000000000001\" style=\"font-family: 'Open Sans', verdana, arial, sans-serif; font-size: 12px; fill: rgb(42, 63, 95); fill-opacity: 1; white-space: pre;\">Strategy</text><g class=\"layers\" style=\"opacity: 1;\"><g class=\"legendfill\"/><g class=\"legendlines\"/><g class=\"legendsymbols\"><g class=\"legendpoints\"><path class=\"legendpie\" d=\"M6,6H-6V-6H6Z\" transform=\"translate(20,0)\" style=\"stroke-width: 0; fill: rgb(198, 202, 253); fill-opacity: 1; stroke: rgb(68, 68, 68); stroke-opacity: 1;\"/></g></g></g><rect class=\"legendtoggle\" x=\"0\" y=\"-9.5\" width=\"114.34375\" height=\"19\" style=\"fill: rgb(0, 0, 0); fill-opacity: 0;\"/></g><g class=\"traces\" transform=\"translate(0,223.5)\" style=\"opacity: 1;\"><text class=\"legendtext\" text-anchor=\"start\" x=\"40\" y=\"4.680000000000001\" style=\"font-family: 'Open Sans', verdana, arial, sans-serif; font-size: 12px; fill: rgb(42, 63, 95); fill-opacity: 1; white-space: pre;\">Puzzle</text><g class=\"layers\" style=\"opacity: 1;\"><g class=\"legendfill\"/><g class=\"legendlines\"/><g class=\"legendsymbols\"><g class=\"legendpoints\"><path class=\"legendpie\" d=\"M6,6H-6V-6H6Z\" transform=\"translate(20,0)\" style=\"stroke-width: 0; fill: rgb(247, 167, 153); fill-opacity: 1; stroke: rgb(68, 68, 68); stroke-opacity: 1;\"/></g></g></g><rect class=\"legendtoggle\" x=\"0\" y=\"-9.5\" width=\"114.34375\" height=\"19\" style=\"fill: rgb(0, 0, 0); fill-opacity: 0;\"/></g></g></g><rect class=\"scrollbar\" rx=\"20\" ry=\"3\" width=\"0\" height=\"0\" style=\"fill: rgb(128, 139, 164); fill-opacity: 1;\" x=\"0\" y=\"0\"/></g><g class=\"g-gtitle\"/></g></svg>"
      ]
     },
     "metadata": {},
     "output_type": "display_data"
    }
   ],
   "source": [
    "na_genre = data_actual.pivot_table(index='genre', values='na_sales', aggfunc=['count','sum'])\n",
    "na_genre.columns = ['number_of_games', 'total_sales']\n",
    "na_genre['share'] = na_genre['total_sales']/ na_genre['total_sales'].sum()\n",
    "display(na_genre.sort_values(by='total_sales', ascending=False))\n",
    "fig = px.pie(na_genre, values=na_genre['share'], names=na_genre.index)\n",
    "fig.show('svg')"
   ]
  },
  {
   "cell_type": "markdown",
   "metadata": {},
   "source": [
    "Определяем долю рынка по возрастной группе в NA"
   ]
  },
  {
   "cell_type": "code",
   "execution_count": 40,
   "metadata": {
    "scrolled": true
   },
   "outputs": [
    {
     "data": {
      "text/html": [
       "<div>\n",
       "<style scoped>\n",
       "    .dataframe tbody tr th:only-of-type {\n",
       "        vertical-align: middle;\n",
       "    }\n",
       "\n",
       "    .dataframe tbody tr th {\n",
       "        vertical-align: top;\n",
       "    }\n",
       "\n",
       "    .dataframe thead th {\n",
       "        text-align: right;\n",
       "    }\n",
       "</style>\n",
       "<table border=\"1\" class=\"dataframe\">\n",
       "  <thead>\n",
       "    <tr style=\"text-align: right;\">\n",
       "      <th></th>\n",
       "      <th>number_of_games</th>\n",
       "      <th>total_sales</th>\n",
       "      <th>share</th>\n",
       "    </tr>\n",
       "    <tr>\n",
       "      <th>rating</th>\n",
       "      <th></th>\n",
       "      <th></th>\n",
       "      <th></th>\n",
       "    </tr>\n",
       "  </thead>\n",
       "  <tbody>\n",
       "    <tr>\n",
       "      <th>M</th>\n",
       "      <td>369</td>\n",
       "      <td>165.21</td>\n",
       "      <td>0.474346</td>\n",
       "    </tr>\n",
       "    <tr>\n",
       "      <th>E</th>\n",
       "      <td>302</td>\n",
       "      <td>79.05</td>\n",
       "      <td>0.226966</td>\n",
       "    </tr>\n",
       "    <tr>\n",
       "      <th>E10+</th>\n",
       "      <td>252</td>\n",
       "      <td>54.24</td>\n",
       "      <td>0.155732</td>\n",
       "    </tr>\n",
       "    <tr>\n",
       "      <th>T</th>\n",
       "      <td>333</td>\n",
       "      <td>49.79</td>\n",
       "      <td>0.142956</td>\n",
       "    </tr>\n",
       "  </tbody>\n",
       "</table>\n",
       "</div>"
      ],
      "text/plain": [
       "        number_of_games  total_sales     share\n",
       "rating                                        \n",
       "M                   369       165.21  0.474346\n",
       "E                   302        79.05  0.226966\n",
       "E10+                252        54.24  0.155732\n",
       "T                   333        49.79  0.142956"
      ]
     },
     "metadata": {},
     "output_type": "display_data"
    },
    {
     "data": {
      "image/svg+xml": [
       "<svg class=\"main-svg\" xmlns=\"http://www.w3.org/2000/svg\" xmlns:xlink=\"http://www.w3.org/1999/xlink\" width=\"700\" height=\"500\" style=\"\" viewBox=\"0 0 700 500\"><rect x=\"0\" y=\"0\" width=\"700\" height=\"500\" style=\"fill: rgb(255, 255, 255); fill-opacity: 1;\"/><defs id=\"defs-af0038\"><g class=\"clips\"/><g class=\"gradients\"/><g class=\"patterns\"/></defs><g class=\"bglayer\"/><g class=\"layer-below\"><g class=\"imagelayer\"/><g class=\"shapelayer\"/></g><g class=\"cartesianlayer\"/><g class=\"polarlayer\"/><g class=\"smithlayer\"/><g class=\"ternarylayer\"/><g class=\"geolayer\"/><g class=\"funnelarealayer\"/><g class=\"pielayer\"><g class=\"trace\" stroke-linejoin=\"round\" style=\"opacity: 1;\"><g class=\"slice\"><path class=\"surface\" d=\"M340,240l0,-180a180,180 0 0 1 28.888412618530268,357.66670936442074Z\" style=\"pointer-events: all; stroke-width: 0; fill: rgb(99, 110, 250); fill-opacity: 1; stroke: rgb(68, 68, 68); stroke-opacity: 1;\"/><g class=\"slicetext\"><text data-notex=\"1\" class=\"slicetext\" transform=\"translate(429.81463232142505,237.24259934363621)\" text-anchor=\"middle\" x=\"0\" y=\"0\" style=\"font-family: 'Open Sans', verdana, arial, sans-serif; font-size: 12px; fill: rgb(255, 255, 255); fill-opacity: 1; white-space: pre;\">47.4%</text></g></g><g class=\"slice\"><path class=\"surface\" d=\"M340,240l-178.11816517810948,-25.959954421834265a180,180 0 0 1 178.11816517810948,-154.04004557816575Z\" style=\"pointer-events: all; stroke-width: 0; fill: rgb(239, 85, 59); fill-opacity: 1; stroke: rgb(68, 68, 68); stroke-opacity: 1;\"/><g class=\"slicetext\"><text data-notex=\"1\" class=\"slicetext\" transform=\"translate(268.7793217325378,162.191930385207)\" text-anchor=\"middle\" x=\"0\" y=\"0\" style=\"font-family: 'Open Sans', verdana, arial, sans-serif; font-size: 12px; fill: rgb(68, 68, 68); fill-opacity: 1; white-space: pre;\">22.7%</text></g></g><g class=\"slice\"><path class=\"surface\" d=\"M340,240l-120.97625802291951,133.28445143666235a180,180 0 0 1 -57.14190715518997,-159.2444058584966Z\" style=\"pointer-events: all; stroke-width: 0; fill: rgb(0, 204, 150); fill-opacity: 1; stroke: rgb(68, 68, 68); stroke-opacity: 1;\"/><g class=\"slicetext\"><text data-notex=\"1\" class=\"slicetext\" transform=\"translate(224.7043747915564,285.85768393123)\" text-anchor=\"middle\" x=\"0\" y=\"0\" style=\"font-family: 'Open Sans', verdana, arial, sans-serif; font-size: 12px; fill: rgb(68, 68, 68); fill-opacity: 1; white-space: pre;\">15.6%</text></g></g><g class=\"slice\"><path class=\"surface\" d=\"M340,240l28.88841261853022,177.6667093644207a180,180 0 0 1 -149.86467064144972,-44.38225792775836Z\" style=\"pointer-events: all; stroke-width: 0; fill: rgb(171, 99, 250); fill-opacity: 1; stroke: rgb(68, 68, 68); stroke-opacity: 1;\"/><g class=\"slicetext\"><text data-notex=\"1\" class=\"slicetext\" transform=\"translate(304.32165765667753,364.8424337786445)\" text-anchor=\"middle\" x=\"0\" y=\"0\" style=\"font-family: 'Open Sans', verdana, arial, sans-serif; font-size: 12px; fill: rgb(68, 68, 68); fill-opacity: 1; white-space: pre;\">14.3%</text></g></g></g></g><g class=\"iciclelayer\"/><g class=\"treemaplayer\"/><g class=\"sunburstlayer\"/><g class=\"glimages\"/><defs id=\"topdefs-af0038\"><g class=\"clips\"/><clipPath id=\"legendaf0038\"><rect width=\"78\" height=\"86\" x=\"0\" y=\"0\"/></clipPath></defs><g class=\"layer-above\"><g class=\"imagelayer\"/><g class=\"shapelayer\"/></g><g class=\"infolayer\"><g class=\"legend\" pointer-events=\"all\" transform=\"translate(610.4,60)\"><rect class=\"bg\" shape-rendering=\"crispEdges\" style=\"stroke: rgb(68, 68, 68); stroke-opacity: 1; fill: rgb(255, 255, 255); fill-opacity: 1; stroke-width: 0px;\" width=\"78\" height=\"86\" x=\"0\" y=\"0\"/><g class=\"scrollbox\" transform=\"\" clip-path=\"url(#legendaf0038)\"><g class=\"groups\"><g class=\"traces\" transform=\"translate(0,14.5)\" style=\"opacity: 1;\"><text class=\"legendtext\" text-anchor=\"start\" x=\"40\" y=\"4.680000000000001\" style=\"font-family: 'Open Sans', verdana, arial, sans-serif; font-size: 12px; fill: rgb(42, 63, 95); fill-opacity: 1; white-space: pre;\">M</text><g class=\"layers\" style=\"opacity: 1;\"><g class=\"legendfill\"/><g class=\"legendlines\"/><g class=\"legendsymbols\"><g class=\"legendpoints\"><path class=\"legendpie\" d=\"M6,6H-6V-6H6Z\" transform=\"translate(20,0)\" style=\"stroke-width: 0; fill: rgb(99, 110, 250); fill-opacity: 1; stroke: rgb(68, 68, 68); stroke-opacity: 1;\"/></g></g></g><rect class=\"legendtoggle\" x=\"0\" y=\"-9.5\" width=\"72.671875\" height=\"19\" style=\"fill: rgb(0, 0, 0); fill-opacity: 0;\"/></g><g class=\"traces\" transform=\"translate(0,33.5)\" style=\"opacity: 1;\"><text class=\"legendtext\" text-anchor=\"start\" x=\"40\" y=\"4.680000000000001\" style=\"font-family: 'Open Sans', verdana, arial, sans-serif; font-size: 12px; fill: rgb(42, 63, 95); fill-opacity: 1; white-space: pre;\">E</text><g class=\"layers\" style=\"opacity: 1;\"><g class=\"legendfill\"/><g class=\"legendlines\"/><g class=\"legendsymbols\"><g class=\"legendpoints\"><path class=\"legendpie\" d=\"M6,6H-6V-6H6Z\" transform=\"translate(20,0)\" style=\"stroke-width: 0; fill: rgb(239, 85, 59); fill-opacity: 1; stroke: rgb(68, 68, 68); stroke-opacity: 1;\"/></g></g></g><rect class=\"legendtoggle\" x=\"0\" y=\"-9.5\" width=\"72.671875\" height=\"19\" style=\"fill: rgb(0, 0, 0); fill-opacity: 0;\"/></g><g class=\"traces\" transform=\"translate(0,52.5)\" style=\"opacity: 1;\"><text class=\"legendtext\" text-anchor=\"start\" x=\"40\" y=\"4.680000000000001\" style=\"font-family: 'Open Sans', verdana, arial, sans-serif; font-size: 12px; fill: rgb(42, 63, 95); fill-opacity: 1; white-space: pre;\">E10+</text><g class=\"layers\" style=\"opacity: 1;\"><g class=\"legendfill\"/><g class=\"legendlines\"/><g class=\"legendsymbols\"><g class=\"legendpoints\"><path class=\"legendpie\" d=\"M6,6H-6V-6H6Z\" transform=\"translate(20,0)\" style=\"stroke-width: 0; fill: rgb(0, 204, 150); fill-opacity: 1; stroke: rgb(68, 68, 68); stroke-opacity: 1;\"/></g></g></g><rect class=\"legendtoggle\" x=\"0\" y=\"-9.5\" width=\"72.671875\" height=\"19\" style=\"fill: rgb(0, 0, 0); fill-opacity: 0;\"/></g><g class=\"traces\" transform=\"translate(0,71.5)\" style=\"opacity: 1;\"><text class=\"legendtext\" text-anchor=\"start\" x=\"40\" y=\"4.680000000000001\" style=\"font-family: 'Open Sans', verdana, arial, sans-serif; font-size: 12px; fill: rgb(42, 63, 95); fill-opacity: 1; white-space: pre;\">T</text><g class=\"layers\" style=\"opacity: 1;\"><g class=\"legendfill\"/><g class=\"legendlines\"/><g class=\"legendsymbols\"><g class=\"legendpoints\"><path class=\"legendpie\" d=\"M6,6H-6V-6H6Z\" transform=\"translate(20,0)\" style=\"stroke-width: 0; fill: rgb(171, 99, 250); fill-opacity: 1; stroke: rgb(68, 68, 68); stroke-opacity: 1;\"/></g></g></g><rect class=\"legendtoggle\" x=\"0\" y=\"-9.5\" width=\"72.671875\" height=\"19\" style=\"fill: rgb(0, 0, 0); fill-opacity: 0;\"/></g></g></g><rect class=\"scrollbar\" rx=\"20\" ry=\"3\" width=\"0\" height=\"0\" style=\"fill: rgb(128, 139, 164); fill-opacity: 1;\" x=\"0\" y=\"0\"/></g><g class=\"g-gtitle\"/></g></svg>"
      ]
     },
     "metadata": {},
     "output_type": "display_data"
    }
   ],
   "source": [
    "na_rating = data_actual.pivot_table(index='rating', values='na_sales', aggfunc=['count','sum'])\n",
    "na_rating.columns = ['number_of_games', 'total_sales']\n",
    "na_rating['share'] = na_rating['total_sales']/ na_rating['total_sales'].sum()\n",
    "display(na_rating.sort_values(by='total_sales', ascending=False))\n",
    "fig = px.pie(na_rating, values=na_rating['share'], names=na_rating.index)\n",
    "fig.show('svg')"
   ]
  },
  {
   "cell_type": "markdown",
   "metadata": {},
   "source": [
    "**Выводы по Северной Америке**"
   ]
  },
  {
   "cell_type": "markdown",
   "metadata": {},
   "source": [
    "* Наиболее популярными платформами являются PS4 (25% рынка), XOne (21%), X360 (19%), PS3 (15%), 3DS (9%).\n",
    "\n",
    "* 29% от всех продаж имеют игры жанра Action, жанр Shooter занимает 25% рынка. Далее идут жанры Sports и Role-Playing - 15 и 11% рынка, соответственно. 5-е место занимает жанр Misc (6%). Наименее популярные жанры: Puzzle, Strategy, Simulation, Adventure и Racing (каждый занимает менее 3% рынка).\n",
    "\n",
    "* Наиболее популярны игры с рейтингом M (для взрослых), они занимают 47% рынка Северной Америки. На втором месте по продажам игры для всех возрастов (E), - 23% рынка. Далее следуют игры 10+ (E10+), - 16% и игры для тинейджеров (T), - 14%."
   ]
  },
  {
   "cell_type": "markdown",
   "metadata": {},
   "source": [
    "### EU"
   ]
  },
  {
   "cell_type": "code",
   "execution_count": 41,
   "metadata": {},
   "outputs": [
    {
     "data": {
      "text/html": [
       "<div>\n",
       "<style scoped>\n",
       "    .dataframe tbody tr th:only-of-type {\n",
       "        vertical-align: middle;\n",
       "    }\n",
       "\n",
       "    .dataframe tbody tr th {\n",
       "        vertical-align: top;\n",
       "    }\n",
       "\n",
       "    .dataframe thead th {\n",
       "        text-align: right;\n",
       "    }\n",
       "</style>\n",
       "<table border=\"1\" class=\"dataframe\">\n",
       "  <thead>\n",
       "    <tr style=\"text-align: right;\">\n",
       "      <th></th>\n",
       "      <th>number_of_games</th>\n",
       "      <th>total_sales</th>\n",
       "      <th>share</th>\n",
       "    </tr>\n",
       "    <tr>\n",
       "      <th>platform</th>\n",
       "      <th></th>\n",
       "      <th></th>\n",
       "      <th></th>\n",
       "    </tr>\n",
       "  </thead>\n",
       "  <tbody>\n",
       "    <tr>\n",
       "      <th>PS4</th>\n",
       "      <td>392</td>\n",
       "      <td>141.09</td>\n",
       "      <td>0.359712</td>\n",
       "    </tr>\n",
       "    <tr>\n",
       "      <th>PS3</th>\n",
       "      <td>345</td>\n",
       "      <td>67.81</td>\n",
       "      <td>0.172883</td>\n",
       "    </tr>\n",
       "    <tr>\n",
       "      <th>XOne</th>\n",
       "      <td>247</td>\n",
       "      <td>51.59</td>\n",
       "      <td>0.131530</td>\n",
       "    </tr>\n",
       "    <tr>\n",
       "      <th>X360</th>\n",
       "      <td>186</td>\n",
       "      <td>42.52</td>\n",
       "      <td>0.108406</td>\n",
       "    </tr>\n",
       "    <tr>\n",
       "      <th>3DS</th>\n",
       "      <td>303</td>\n",
       "      <td>30.96</td>\n",
       "      <td>0.078933</td>\n",
       "    </tr>\n",
       "    <tr>\n",
       "      <th>PC</th>\n",
       "      <td>189</td>\n",
       "      <td>25.36</td>\n",
       "      <td>0.064656</td>\n",
       "    </tr>\n",
       "    <tr>\n",
       "      <th>WiiU</th>\n",
       "      <td>115</td>\n",
       "      <td>19.85</td>\n",
       "      <td>0.050608</td>\n",
       "    </tr>\n",
       "    <tr>\n",
       "      <th>PSV</th>\n",
       "      <td>358</td>\n",
       "      <td>6.10</td>\n",
       "      <td>0.015552</td>\n",
       "    </tr>\n",
       "    <tr>\n",
       "      <th>Wii</th>\n",
       "      <td>23</td>\n",
       "      <td>5.93</td>\n",
       "      <td>0.015119</td>\n",
       "    </tr>\n",
       "    <tr>\n",
       "      <th>DS</th>\n",
       "      <td>8</td>\n",
       "      <td>0.85</td>\n",
       "      <td>0.002167</td>\n",
       "    </tr>\n",
       "    <tr>\n",
       "      <th>PSP</th>\n",
       "      <td>67</td>\n",
       "      <td>0.17</td>\n",
       "      <td>0.000433</td>\n",
       "    </tr>\n",
       "  </tbody>\n",
       "</table>\n",
       "</div>"
      ],
      "text/plain": [
       "          number_of_games  total_sales     share\n",
       "platform                                        \n",
       "PS4                   392       141.09  0.359712\n",
       "PS3                   345        67.81  0.172883\n",
       "XOne                  247        51.59  0.131530\n",
       "X360                  186        42.52  0.108406\n",
       "3DS                   303        30.96  0.078933\n",
       "PC                    189        25.36  0.064656\n",
       "WiiU                  115        19.85  0.050608\n",
       "PSV                   358         6.10  0.015552\n",
       "Wii                    23         5.93  0.015119\n",
       "DS                      8         0.85  0.002167\n",
       "PSP                    67         0.17  0.000433"
      ]
     },
     "metadata": {},
     "output_type": "display_data"
    },
    {
     "data": {
      "image/svg+xml": [
       "<svg class=\"main-svg\" xmlns=\"http://www.w3.org/2000/svg\" xmlns:xlink=\"http://www.w3.org/1999/xlink\" width=\"700\" height=\"500\" style=\"\" viewBox=\"0 0 700 500\"><rect x=\"0\" y=\"0\" width=\"700\" height=\"500\" style=\"fill: rgb(255, 255, 255); fill-opacity: 1;\"/><defs id=\"defs-0f7876\"><g class=\"clips\"/><g class=\"gradients\"/><g class=\"patterns\"/></defs><g class=\"bglayer\"/><g class=\"layer-below\"><g class=\"imagelayer\"/><g class=\"shapelayer\"/></g><g class=\"cartesianlayer\"/><g class=\"polarlayer\"/><g class=\"smithlayer\"/><g class=\"ternarylayer\"/><g class=\"geolayer\"/><g class=\"funnelarealayer\"/><g class=\"pielayer\"><g class=\"trace\" stroke-linejoin=\"round\" style=\"opacity: 1;\"><g class=\"slice\"><path class=\"surface\" d=\"M341,240l0,-180a180,180 0 0 1 138.89948092134705,294.48551960741736Z\" style=\"pointer-events: all; stroke-width: 0; fill: rgb(99, 110, 250); fill-opacity: 1; stroke: rgb(68, 68, 68); stroke-opacity: 1;\"/><g class=\"slicetext\"><text data-notex=\"1\" class=\"slicetext\" transform=\"translate(426.44506358308337,204.17984858547797)\" text-anchor=\"middle\" x=\"0\" y=\"0\" style=\"font-family: 'Open Sans', verdana, arial, sans-serif; font-size: 12px; fill: rgb(255, 255, 255); fill-opacity: 1; white-space: pre;\">36%</text></g></g><g class=\"slice\"><path class=\"surface\" d=\"M341,240l-159.2801779264018,-83.84405118870265a180,180 0 0 1 159.2801779264018,-96.15594881129735Z\" style=\"pointer-events: all; stroke-width: 0; fill: rgb(239, 85, 59); fill-opacity: 1; stroke: rgb(68, 68, 68); stroke-opacity: 1;\"/><g class=\"slicetext\"><text data-notex=\"1\" class=\"slicetext\" transform=\"translate(279.6304900446187,142.90748592508044)\" text-anchor=\"middle\" x=\"0\" y=\"0\" style=\"font-family: 'Open Sans', verdana, arial, sans-serif; font-size: 12px; fill: rgb(68, 68, 68); fill-opacity: 1; white-space: pre;\">17.3%</text></g></g><g class=\"slice\"><path class=\"surface\" d=\"M341,240l-169.5821817510056,60.348020949894476a180,180 0 0 1 10.302003824603815,-144.19207213859713Z\" style=\"pointer-events: all; stroke-width: 0; fill: rgb(0, 204, 150); fill-opacity: 1; stroke: rgb(68, 68, 68); stroke-opacity: 1;\"/><g class=\"slicetext\"><text data-notex=\"1\" class=\"slicetext\" transform=\"translate(212.85865034651937,235.34755331813838)\" text-anchor=\"middle\" x=\"0\" y=\"0\" style=\"font-family: 'Open Sans', verdana, arial, sans-serif; font-size: 12px; fill: rgb(68, 68, 68); fill-opacity: 1; white-space: pre;\">13.2%</text></g></g><g class=\"slice\"><path class=\"surface\" d=\"M341,240l-93.74192805836404,153.66343391939574a180,180 0 0 1 -75.84025369264157,-93.31541296950127Z\" style=\"pointer-events: all; stroke-width: 0; fill: rgb(171, 99, 250); fill-opacity: 1; stroke: rgb(68, 68, 68); stroke-opacity: 1;\"/><g class=\"slicetext\"><text data-notex=\"1\" class=\"slicetext\" transform=\"translate(236.25138654285746,329.60061367062406)\" text-anchor=\"middle\" x=\"0\" y=\"0\" style=\"font-family: 'Open Sans', verdana, arial, sans-serif; font-size: 12px; fill: rgb(68, 68, 68); fill-opacity: 1; white-space: pre;\">10.8%</text></g></g><g class=\"slice\"><path class=\"surface\" d=\"M341,240l-9.323767804227373,179.7583582310788a180,180 0 0 1 -84.41816025413667,-26.09492431168306Z\" style=\"pointer-events: all; stroke-width: 0; fill: rgb(255, 161, 90); fill-opacity: 1; stroke: rgb(68, 68, 68); stroke-opacity: 1;\"/><g class=\"slicetext\"><text data-notex=\"1\" class=\"slicetext\" transform=\"translate(298.2781835250307,382.58047580860944)\" text-anchor=\"middle\" x=\"0\" y=\"0\" style=\"font-family: 'Open Sans', verdana, arial, sans-serif; font-size: 12px; fill: rgb(68, 68, 68); fill-opacity: 1; white-space: pre;\">7.89%</text></g></g><g class=\"slice\"><path class=\"surface\" d=\"M341,240l62.468932325371995,168.81241806848243a180,180 0 0 1 -71.79270012959937,10.945940162596372Z\" style=\"pointer-events: all; stroke-width: 0; fill: rgb(25, 211, 243); fill-opacity: 1; stroke: rgb(68, 68, 68); stroke-opacity: 1;\"/><g class=\"slicetext\"><text data-notex=\"1\" class=\"slicetext\" transform=\"translate(363.53703337389203,392.57306244098515)\" text-anchor=\"middle\" x=\"0\" y=\"0\" style=\"font-family: 'Open Sans', verdana, arial, sans-serif; font-size: 12px; fill: rgb(68, 68, 68); fill-opacity: 1; white-space: pre;\">6.47%</text></g></g><g class=\"slice\"><path class=\"surface\" d=\"M341,240l112.11621561476457,140.8188701709527a180,180 0 0 1 -49.647283289392576,27.993547897529737Z\" style=\"pointer-events: all; stroke-width: 0; fill: rgb(255, 102, 146); fill-opacity: 1; stroke: rgb(68, 68, 68); stroke-opacity: 1;\"/><g class=\"slicetext\"><text data-notex=\"1\" class=\"slicetext\" transform=\"translate(417.2848590578546,379.8624545631302)\" text-anchor=\"middle\" x=\"0\" y=\"0\" style=\"font-family: 'Open Sans', verdana, arial, sans-serif; font-size: 12px; fill: rgb(68, 68, 68); fill-opacity: 1; white-space: pre;\">5.06%</text></g></g><g class=\"slice\"><path class=\"surface\" d=\"M341,240l125.31983773489003,129.20889392801425a180,180 0 0 1 -13.203622120125459,11.609976242938444Z\" style=\"pointer-events: all; stroke-width: 0; fill: rgb(182, 232, 128); fill-opacity: 1; stroke: rgb(68, 68, 68); stroke-opacity: 1;\"/><g class=\"slicetext\"><text data-notex=\"1\" class=\"slicetext\" transform=\"translate(483.7036159962874,407.21858214976646)\" text-anchor=\"middle\" x=\"0\" y=\"0\" style=\"font-family: 'Open Sans', verdana, arial, sans-serif; font-size: 12px; fill: rgb(42, 63, 95); fill-opacity: 1; white-space: pre;\">1.56%</text></g><path class=\"textline\" stroke-width=\"1.5\" d=\"M459.8598659962874,375.1751909758022V402.71858214976646h3.75\" fill=\"none\" style=\"stroke: rgb(42, 63, 95); stroke-opacity: 1;\"/></g><g class=\"slice\"><path class=\"surface\" d=\"M341,240l137.01038471955457,116.73968682071941a180,180 0 0 1 -11.690546984664536,12.469207107294835Z\" style=\"pointer-events: all; stroke-width: 0; fill: rgb(255, 151, 255); fill-opacity: 1; stroke: rgb(68, 68, 68); stroke-opacity: 1;\"/><g class=\"slicetext\"><text data-notex=\"1\" class=\"slicetext\" transform=\"translate(496.1569507252917,392.21858214976646)\" text-anchor=\"middle\" x=\"0\" y=\"0\" style=\"font-family: 'Open Sans', verdana, arial, sans-serif; font-size: 12px; fill: rgb(42, 63, 95); fill-opacity: 1; white-space: pre;\">1.51%</text></g><path class=\"textline\" stroke-width=\"1.5\" d=\"M472.3132007252917,363.1131321804431V387.71858214976646h3.75\" fill=\"none\" style=\"stroke: rgb(42, 63, 95); stroke-opacity: 1;\"/></g><g class=\"slice\"><path class=\"surface\" d=\"M341,240l138.58719323202897,114.8633530420746a180,180 0 0 1 -1.5768085124744005,1.8763337786448062Z\" style=\"pointer-events: all; stroke-width: 0; fill: rgb(254, 203, 82); fill-opacity: 1; stroke: rgb(68, 68, 68); stroke-opacity: 1;\"/><g class=\"slicetext\"><text data-notex=\"1\" class=\"slicetext\" transform=\"translate(506.45823257030634,377.21858214976646)\" text-anchor=\"middle\" x=\"0\" y=\"0\" style=\"font-family: 'Open Sans', verdana, arial, sans-serif; font-size: 12px; fill: rgb(42, 63, 95); fill-opacity: 1; white-space: pre;\">0.217%</text></g><path class=\"textline\" stroke-width=\"1.5\" d=\"M478.80198257030634,355.80420372202815V372.71858214976646h3.75\" fill=\"none\" style=\"stroke: rgb(42, 63, 95); stroke-opacity: 1;\"/></g><g class=\"slice\"><path class=\"surface\" d=\"M341,240l138.89948092134716,114.48551960741723a180,180 0 0 1 -0.3122876893181967,0.37783343465737573Z\" style=\"pointer-events: all; stroke-width: 0; fill: rgb(198, 202, 253); fill-opacity: 1; stroke: rgb(68, 68, 68); stroke-opacity: 1;\"/><g class=\"slicetext\"><text data-notex=\"1\" class=\"slicetext\" transform=\"translate(511.2122156937096,362.21858214976646)\" text-anchor=\"middle\" x=\"0\" y=\"0\" style=\"font-family: 'Open Sans', verdana, arial, sans-serif; font-size: 12px; fill: rgb(42, 63, 95); fill-opacity: 1; white-space: pre;\">0.0433%</text></g></g></g></g><g class=\"iciclelayer\"/><g class=\"treemaplayer\"/><g class=\"sunburstlayer\"/><g class=\"glimages\"/><defs id=\"topdefs-0f7876\"><g class=\"clips\"/><clipPath id=\"legend0f7876\"><rect width=\"78\" height=\"219\" x=\"0\" y=\"0\"/></clipPath></defs><g class=\"layer-above\"><g class=\"imagelayer\"/><g class=\"shapelayer\"/></g><g class=\"infolayer\"><g class=\"legend\" pointer-events=\"all\" transform=\"translate(610.36,60)\"><rect class=\"bg\" shape-rendering=\"crispEdges\" width=\"78\" height=\"219\" x=\"0\" y=\"0\" style=\"stroke: rgb(68, 68, 68); stroke-opacity: 1; fill: rgb(255, 255, 255); fill-opacity: 1; stroke-width: 0px;\"/><g class=\"scrollbox\" transform=\"\" clip-path=\"url(#legend0f7876)\"><g class=\"groups\"><g class=\"traces\" transform=\"translate(0,14.5)\" style=\"opacity: 1;\"><text class=\"legendtext\" text-anchor=\"start\" x=\"40\" y=\"4.680000000000001\" style=\"font-family: 'Open Sans', verdana, arial, sans-serif; font-size: 12px; fill: rgb(42, 63, 95); fill-opacity: 1; white-space: pre;\">PS4</text><g class=\"layers\" style=\"opacity: 1;\"><g class=\"legendfill\"/><g class=\"legendlines\"/><g class=\"legendsymbols\"><g class=\"legendpoints\"><path class=\"legendpie\" d=\"M6,6H-6V-6H6Z\" transform=\"translate(20,0)\" style=\"stroke-width: 0; fill: rgb(99, 110, 250); fill-opacity: 1; stroke: rgb(68, 68, 68); stroke-opacity: 1;\"/></g></g></g><rect class=\"legendtoggle\" x=\"0\" y=\"-9.5\" width=\"72.359375\" height=\"19\" style=\"fill: rgb(0, 0, 0); fill-opacity: 0;\"/></g><g class=\"traces\" transform=\"translate(0,33.5)\" style=\"opacity: 1;\"><text class=\"legendtext\" text-anchor=\"start\" x=\"40\" y=\"4.680000000000001\" style=\"font-family: 'Open Sans', verdana, arial, sans-serif; font-size: 12px; fill: rgb(42, 63, 95); fill-opacity: 1; white-space: pre;\">PS3</text><g class=\"layers\" style=\"opacity: 1;\"><g class=\"legendfill\"/><g class=\"legendlines\"/><g class=\"legendsymbols\"><g class=\"legendpoints\"><path class=\"legendpie\" d=\"M6,6H-6V-6H6Z\" transform=\"translate(20,0)\" style=\"stroke-width: 0; fill: rgb(239, 85, 59); fill-opacity: 1; stroke: rgb(68, 68, 68); stroke-opacity: 1;\"/></g></g></g><rect class=\"legendtoggle\" x=\"0\" y=\"-9.5\" width=\"72.359375\" height=\"19\" style=\"fill: rgb(0, 0, 0); fill-opacity: 0;\"/></g><g class=\"traces\" transform=\"translate(0,52.5)\" style=\"opacity: 1;\"><text class=\"legendtext\" text-anchor=\"start\" x=\"40\" y=\"4.680000000000001\" style=\"font-family: 'Open Sans', verdana, arial, sans-serif; font-size: 12px; fill: rgb(42, 63, 95); fill-opacity: 1; white-space: pre;\">XOne</text><g class=\"layers\" style=\"opacity: 1;\"><g class=\"legendfill\"/><g class=\"legendlines\"/><g class=\"legendsymbols\"><g class=\"legendpoints\"><path class=\"legendpie\" d=\"M6,6H-6V-6H6Z\" transform=\"translate(20,0)\" style=\"stroke-width: 0; fill: rgb(0, 204, 150); fill-opacity: 1; stroke: rgb(68, 68, 68); stroke-opacity: 1;\"/></g></g></g><rect class=\"legendtoggle\" x=\"0\" y=\"-9.5\" width=\"72.359375\" height=\"19\" style=\"fill: rgb(0, 0, 0); fill-opacity: 0;\"/></g><g class=\"traces\" transform=\"translate(0,71.5)\" style=\"opacity: 1;\"><text class=\"legendtext\" text-anchor=\"start\" x=\"40\" y=\"4.680000000000001\" style=\"font-family: 'Open Sans', verdana, arial, sans-serif; font-size: 12px; fill: rgb(42, 63, 95); fill-opacity: 1; white-space: pre;\">X360</text><g class=\"layers\" style=\"opacity: 1;\"><g class=\"legendfill\"/><g class=\"legendlines\"/><g class=\"legendsymbols\"><g class=\"legendpoints\"><path class=\"legendpie\" d=\"M6,6H-6V-6H6Z\" transform=\"translate(20,0)\" style=\"stroke-width: 0; fill: rgb(171, 99, 250); fill-opacity: 1; stroke: rgb(68, 68, 68); stroke-opacity: 1;\"/></g></g></g><rect class=\"legendtoggle\" x=\"0\" y=\"-9.5\" width=\"72.359375\" height=\"19\" style=\"fill: rgb(0, 0, 0); fill-opacity: 0;\"/></g><g class=\"traces\" transform=\"translate(0,90.5)\" style=\"opacity: 1;\"><text class=\"legendtext\" text-anchor=\"start\" x=\"40\" y=\"4.680000000000001\" style=\"font-family: 'Open Sans', verdana, arial, sans-serif; font-size: 12px; fill: rgb(42, 63, 95); fill-opacity: 1; white-space: pre;\">3DS</text><g class=\"layers\" style=\"opacity: 1;\"><g class=\"legendfill\"/><g class=\"legendlines\"/><g class=\"legendsymbols\"><g class=\"legendpoints\"><path class=\"legendpie\" d=\"M6,6H-6V-6H6Z\" transform=\"translate(20,0)\" style=\"stroke-width: 0; fill: rgb(255, 161, 90); fill-opacity: 1; stroke: rgb(68, 68, 68); stroke-opacity: 1;\"/></g></g></g><rect class=\"legendtoggle\" x=\"0\" y=\"-9.5\" width=\"72.359375\" height=\"19\" style=\"fill: rgb(0, 0, 0); fill-opacity: 0;\"/></g><g class=\"traces\" transform=\"translate(0,109.5)\" style=\"opacity: 1;\"><text class=\"legendtext\" text-anchor=\"start\" x=\"40\" y=\"4.680000000000001\" style=\"font-family: 'Open Sans', verdana, arial, sans-serif; font-size: 12px; fill: rgb(42, 63, 95); fill-opacity: 1; white-space: pre;\">PC</text><g class=\"layers\" style=\"opacity: 1;\"><g class=\"legendfill\"/><g class=\"legendlines\"/><g class=\"legendsymbols\"><g class=\"legendpoints\"><path class=\"legendpie\" d=\"M6,6H-6V-6H6Z\" transform=\"translate(20,0)\" style=\"stroke-width: 0; fill: rgb(25, 211, 243); fill-opacity: 1; stroke: rgb(68, 68, 68); stroke-opacity: 1;\"/></g></g></g><rect class=\"legendtoggle\" x=\"0\" y=\"-9.5\" width=\"72.359375\" height=\"19\" style=\"fill: rgb(0, 0, 0); fill-opacity: 0;\"/></g><g class=\"traces\" transform=\"translate(0,128.5)\" style=\"opacity: 1;\"><text class=\"legendtext\" text-anchor=\"start\" x=\"40\" y=\"4.680000000000001\" style=\"font-family: 'Open Sans', verdana, arial, sans-serif; font-size: 12px; fill: rgb(42, 63, 95); fill-opacity: 1; white-space: pre;\">WiiU</text><g class=\"layers\" style=\"opacity: 1;\"><g class=\"legendfill\"/><g class=\"legendlines\"/><g class=\"legendsymbols\"><g class=\"legendpoints\"><path class=\"legendpie\" d=\"M6,6H-6V-6H6Z\" transform=\"translate(20,0)\" style=\"stroke-width: 0; fill: rgb(255, 102, 146); fill-opacity: 1; stroke: rgb(68, 68, 68); stroke-opacity: 1;\"/></g></g></g><rect class=\"legendtoggle\" x=\"0\" y=\"-9.5\" width=\"72.359375\" height=\"19\" style=\"fill: rgb(0, 0, 0); fill-opacity: 0;\"/></g><g class=\"traces\" transform=\"translate(0,147.5)\" style=\"opacity: 1;\"><text class=\"legendtext\" text-anchor=\"start\" x=\"40\" y=\"4.680000000000001\" style=\"font-family: 'Open Sans', verdana, arial, sans-serif; font-size: 12px; fill: rgb(42, 63, 95); fill-opacity: 1; white-space: pre;\">PSV</text><g class=\"layers\" style=\"opacity: 1;\"><g class=\"legendfill\"/><g class=\"legendlines\"/><g class=\"legendsymbols\"><g class=\"legendpoints\"><path class=\"legendpie\" d=\"M6,6H-6V-6H6Z\" transform=\"translate(20,0)\" style=\"stroke-width: 0; fill: rgb(182, 232, 128); fill-opacity: 1; stroke: rgb(68, 68, 68); stroke-opacity: 1;\"/></g></g></g><rect class=\"legendtoggle\" x=\"0\" y=\"-9.5\" width=\"72.359375\" height=\"19\" style=\"fill: rgb(0, 0, 0); fill-opacity: 0;\"/></g><g class=\"traces\" transform=\"translate(0,166.5)\" style=\"opacity: 1;\"><text class=\"legendtext\" text-anchor=\"start\" x=\"40\" y=\"4.680000000000001\" style=\"font-family: 'Open Sans', verdana, arial, sans-serif; font-size: 12px; fill: rgb(42, 63, 95); fill-opacity: 1; white-space: pre;\">Wii</text><g class=\"layers\" style=\"opacity: 1;\"><g class=\"legendfill\"/><g class=\"legendlines\"/><g class=\"legendsymbols\"><g class=\"legendpoints\"><path class=\"legendpie\" d=\"M6,6H-6V-6H6Z\" transform=\"translate(20,0)\" style=\"stroke-width: 0; fill: rgb(255, 151, 255); fill-opacity: 1; stroke: rgb(68, 68, 68); stroke-opacity: 1;\"/></g></g></g><rect class=\"legendtoggle\" x=\"0\" y=\"-9.5\" width=\"72.359375\" height=\"19\" style=\"fill: rgb(0, 0, 0); fill-opacity: 0;\"/></g><g class=\"traces\" transform=\"translate(0,185.5)\" style=\"opacity: 1;\"><text class=\"legendtext\" text-anchor=\"start\" x=\"40\" y=\"4.680000000000001\" style=\"font-family: 'Open Sans', verdana, arial, sans-serif; font-size: 12px; fill: rgb(42, 63, 95); fill-opacity: 1; white-space: pre;\">DS</text><g class=\"layers\" style=\"opacity: 1;\"><g class=\"legendfill\"/><g class=\"legendlines\"/><g class=\"legendsymbols\"><g class=\"legendpoints\"><path class=\"legendpie\" d=\"M6,6H-6V-6H6Z\" transform=\"translate(20,0)\" style=\"stroke-width: 0; fill: rgb(254, 203, 82); fill-opacity: 1; stroke: rgb(68, 68, 68); stroke-opacity: 1;\"/></g></g></g><rect class=\"legendtoggle\" x=\"0\" y=\"-9.5\" width=\"72.359375\" height=\"19\" style=\"fill: rgb(0, 0, 0); fill-opacity: 0;\"/></g><g class=\"traces\" transform=\"translate(0,204.5)\" style=\"opacity: 1;\"><text class=\"legendtext\" text-anchor=\"start\" x=\"40\" y=\"4.680000000000001\" style=\"font-family: 'Open Sans', verdana, arial, sans-serif; font-size: 12px; fill: rgb(42, 63, 95); fill-opacity: 1; white-space: pre;\">PSP</text><g class=\"layers\" style=\"opacity: 1;\"><g class=\"legendfill\"/><g class=\"legendlines\"/><g class=\"legendsymbols\"><g class=\"legendpoints\"><path class=\"legendpie\" d=\"M6,6H-6V-6H6Z\" transform=\"translate(20,0)\" style=\"stroke-width: 0; fill: rgb(198, 202, 253); fill-opacity: 1; stroke: rgb(68, 68, 68); stroke-opacity: 1;\"/></g></g></g><rect class=\"legendtoggle\" x=\"0\" y=\"-9.5\" width=\"72.359375\" height=\"19\" style=\"fill: rgb(0, 0, 0); fill-opacity: 0;\"/></g></g></g><rect class=\"scrollbar\" rx=\"20\" ry=\"3\" width=\"0\" height=\"0\" x=\"0\" y=\"0\" style=\"fill: rgb(128, 139, 164); fill-opacity: 1;\"/></g><g class=\"g-gtitle\"/></g></svg>"
      ]
     },
     "metadata": {},
     "output_type": "display_data"
    }
   ],
   "source": [
    "eu_platform = data_actual.pivot_table(index='platform', values='eu_sales', aggfunc=['count','sum'])\n",
    "eu_platform.columns = ['number_of_games', 'total_sales']\n",
    "eu_platform['share'] = eu_platform['total_sales']/ eu_platform['total_sales'].sum()\n",
    "display(eu_platform.sort_values(by='total_sales', ascending=False))\n",
    "fig = px.pie(eu_platform, values=eu_platform['share'], names=eu_platform.index)\n",
    "fig.show('svg')"
   ]
  },
  {
   "cell_type": "code",
   "execution_count": 42,
   "metadata": {},
   "outputs": [
    {
     "data": {
      "text/html": [
       "<div>\n",
       "<style scoped>\n",
       "    .dataframe tbody tr th:only-of-type {\n",
       "        vertical-align: middle;\n",
       "    }\n",
       "\n",
       "    .dataframe tbody tr th {\n",
       "        vertical-align: top;\n",
       "    }\n",
       "\n",
       "    .dataframe thead th {\n",
       "        text-align: right;\n",
       "    }\n",
       "</style>\n",
       "<table border=\"1\" class=\"dataframe\">\n",
       "  <thead>\n",
       "    <tr style=\"text-align: right;\">\n",
       "      <th></th>\n",
       "      <th>number_of_games</th>\n",
       "      <th>total_sales</th>\n",
       "      <th>share</th>\n",
       "    </tr>\n",
       "    <tr>\n",
       "      <th>genre</th>\n",
       "      <th></th>\n",
       "      <th></th>\n",
       "      <th></th>\n",
       "    </tr>\n",
       "  </thead>\n",
       "  <tbody>\n",
       "    <tr>\n",
       "      <th>Action</th>\n",
       "      <td>766</td>\n",
       "      <td>118.13</td>\n",
       "      <td>0.301175</td>\n",
       "    </tr>\n",
       "    <tr>\n",
       "      <th>Shooter</th>\n",
       "      <td>187</td>\n",
       "      <td>87.86</td>\n",
       "      <td>0.224001</td>\n",
       "    </tr>\n",
       "    <tr>\n",
       "      <th>Sports</th>\n",
       "      <td>214</td>\n",
       "      <td>60.52</td>\n",
       "      <td>0.154297</td>\n",
       "    </tr>\n",
       "    <tr>\n",
       "      <th>Role-Playing</th>\n",
       "      <td>292</td>\n",
       "      <td>36.97</td>\n",
       "      <td>0.094256</td>\n",
       "    </tr>\n",
       "    <tr>\n",
       "      <th>Racing</th>\n",
       "      <td>85</td>\n",
       "      <td>20.19</td>\n",
       "      <td>0.051475</td>\n",
       "    </tr>\n",
       "    <tr>\n",
       "      <th>Misc</th>\n",
       "      <td>155</td>\n",
       "      <td>20.04</td>\n",
       "      <td>0.051092</td>\n",
       "    </tr>\n",
       "    <tr>\n",
       "      <th>Platform</th>\n",
       "      <td>74</td>\n",
       "      <td>15.58</td>\n",
       "      <td>0.039722</td>\n",
       "    </tr>\n",
       "    <tr>\n",
       "      <th>Simulation</th>\n",
       "      <td>62</td>\n",
       "      <td>10.92</td>\n",
       "      <td>0.027841</td>\n",
       "    </tr>\n",
       "    <tr>\n",
       "      <th>Fighting</th>\n",
       "      <td>80</td>\n",
       "      <td>8.55</td>\n",
       "      <td>0.021798</td>\n",
       "    </tr>\n",
       "    <tr>\n",
       "      <th>Adventure</th>\n",
       "      <td>245</td>\n",
       "      <td>8.25</td>\n",
       "      <td>0.021034</td>\n",
       "    </tr>\n",
       "    <tr>\n",
       "      <th>Strategy</th>\n",
       "      <td>56</td>\n",
       "      <td>4.22</td>\n",
       "      <td>0.010759</td>\n",
       "    </tr>\n",
       "    <tr>\n",
       "      <th>Puzzle</th>\n",
       "      <td>17</td>\n",
       "      <td>1.00</td>\n",
       "      <td>0.002550</td>\n",
       "    </tr>\n",
       "  </tbody>\n",
       "</table>\n",
       "</div>"
      ],
      "text/plain": [
       "              number_of_games  total_sales     share\n",
       "genre                                               \n",
       "Action                    766       118.13  0.301175\n",
       "Shooter                   187        87.86  0.224001\n",
       "Sports                    214        60.52  0.154297\n",
       "Role-Playing              292        36.97  0.094256\n",
       "Racing                     85        20.19  0.051475\n",
       "Misc                      155        20.04  0.051092\n",
       "Platform                   74        15.58  0.039722\n",
       "Simulation                 62        10.92  0.027841\n",
       "Fighting                   80         8.55  0.021798\n",
       "Adventure                 245         8.25  0.021034\n",
       "Strategy                   56         4.22  0.010759\n",
       "Puzzle                     17         1.00  0.002550"
      ]
     },
     "metadata": {},
     "output_type": "display_data"
    },
    {
     "data": {
      "image/svg+xml": [
       "<svg class=\"main-svg\" xmlns=\"http://www.w3.org/2000/svg\" xmlns:xlink=\"http://www.w3.org/1999/xlink\" width=\"700\" height=\"500\" style=\"\" viewBox=\"0 0 700 500\"><rect x=\"0\" y=\"0\" width=\"700\" height=\"500\" style=\"fill: rgb(255, 255, 255); fill-opacity: 1;\"/><defs id=\"defs-9cf8cf\"><g class=\"clips\"/><g class=\"gradients\"/><g class=\"patterns\"/></defs><g class=\"bglayer\"/><g class=\"layer-below\"><g class=\"imagelayer\"/><g class=\"shapelayer\"/></g><g class=\"cartesianlayer\"/><g class=\"polarlayer\"/><g class=\"smithlayer\"/><g class=\"ternarylayer\"/><g class=\"geolayer\"/><g class=\"funnelarealayer\"/><g class=\"pielayer\"><g class=\"trace\" stroke-linejoin=\"round\" style=\"opacity: 1;\"><g class=\"slice\"><path class=\"surface\" d=\"M319,240l0,-180a180,180 0 0 1 170.77474236357074,236.8857396071814Z\" style=\"pointer-events: all; stroke-width: 0; fill: rgb(99, 110, 250); fill-opacity: 1; stroke: rgb(68, 68, 68); stroke-opacity: 1;\"/><g class=\"slicetext\"><text data-notex=\"1\" class=\"slicetext\" transform=\"translate(399.5783144418085,186.38163542434341)\" text-anchor=\"middle\" x=\"0\" y=\"0\" style=\"font-family: 'Open Sans', verdana, arial, sans-serif; font-size: 12px; fill: rgb(255, 255, 255); fill-opacity: 1; white-space: pre;\">30.1%</text></g></g><g class=\"slice\"><path class=\"surface\" d=\"M319,240l-177.6036950506648,-29.273324108315123a180,180 0 0 1 177.6036950506648,-150.72667589168486Z\" style=\"pointer-events: all; stroke-width: 0; fill: rgb(239, 85, 59); fill-opacity: 1; stroke: rgb(68, 68, 68); stroke-opacity: 1;\"/><g class=\"slicetext\"><text data-notex=\"1\" class=\"slicetext\" transform=\"translate(248.24664718646125,161.17620095599307)\" text-anchor=\"middle\" x=\"0\" y=\"0\" style=\"font-family: 'Open Sans', verdana, arial, sans-serif; font-size: 12px; fill: rgb(68, 68, 68); fill-opacity: 1; white-space: pre;\">22.4%</text></g></g><g class=\"slice\"><path class=\"surface\" d=\"M319,240l-124.61424544669725,129.889529338397a180,180 0 0 1 -52.98944960396756,-159.16285344671212Z\" style=\"pointer-events: all; stroke-width: 0; fill: rgb(0, 204, 150); fill-opacity: 1; stroke: rgb(68, 68, 68); stroke-opacity: 1;\"/><g class=\"slicetext\"><text data-notex=\"1\" class=\"slicetext\" transform=\"translate(202.46265775733502,283.2853044205421)\" text-anchor=\"middle\" x=\"0\" y=\"0\" style=\"font-family: 'Open Sans', verdana, arial, sans-serif; font-size: 12px; fill: rgb(68, 68, 68); fill-opacity: 1; white-space: pre;\">15.4%</text></g></g><g class=\"slice\"><path class=\"surface\" d=\"M319,240l-30.8866624155382,177.33024018713948a180,180 0 0 1 -93.72758303115906,-47.44071084874247Z\" style=\"pointer-events: all; stroke-width: 0; fill: rgb(171, 99, 250); fill-opacity: 1; stroke: rgb(68, 68, 68); stroke-opacity: 1;\"/><g class=\"slicetext\"><text data-notex=\"1\" class=\"slicetext\" transform=\"translate(256.03480939186517,368.8217859000714)\" text-anchor=\"middle\" x=\"0\" y=\"0\" style=\"font-family: 'Open Sans', verdana, arial, sans-serif; font-size: 12px; fill: rgb(68, 68, 68); fill-opacity: 1; white-space: pre;\">9.43%</text></g></g><g class=\"slice\"><path class=\"surface\" d=\"M319,240l27.073331875527998,177.95233828516422a180,180 0 0 1 -57.959994291066195,-0.6220980980247361Z\" style=\"pointer-events: all; stroke-width: 0; fill: rgb(255, 161, 90); fill-opacity: 1; stroke: rgb(68, 68, 68); stroke-opacity: 1;\"/><g class=\"slicetext\"><text data-notex=\"1\" class=\"slicetext\" transform=\"translate(317.29697954816294,399.528593874943)\" text-anchor=\"middle\" x=\"0\" y=\"0\" style=\"font-family: 'Open Sans', verdana, arial, sans-serif; font-size: 12px; fill: rgb(68, 68, 68); fill-opacity: 1; white-space: pre;\">5.15%</text></g></g><g class=\"slice\"><path class=\"surface\" d=\"M319,240l81.84094379137166,160.31862000197464a180,180 0 0 1 -54.76761191584366,17.63371828318958Z\" style=\"pointer-events: all; stroke-width: 0; fill: rgb(25, 211, 243); fill-opacity: 1; stroke: rgb(68, 68, 68); stroke-opacity: 1;\"/><g class=\"slicetext\"><text data-notex=\"1\" class=\"slicetext\" transform=\"translate(366.5253050717343,392.22759677547117)\" text-anchor=\"middle\" x=\"0\" y=\"0\" style=\"font-family: 'Open Sans', verdana, arial, sans-serif; font-size: 12px; fill: rgb(68, 68, 68); fill-opacity: 1; white-space: pre;\">5.11%</text></g></g><g class=\"slice\"><path class=\"surface\" d=\"M319,240l118.90316768791917,135.13710339421434a180,180 0 0 1 -37.06222389654751,25.1815166077603Z\" style=\"pointer-events: all; stroke-width: 0; fill: rgb(255, 102, 146); fill-opacity: 1; stroke: rgb(68, 68, 68); stroke-opacity: 1;\"/><g class=\"slicetext\"><text data-notex=\"1\" class=\"slicetext\" transform=\"translate(395.8340233277863,361.09174487706554)rotate(55.80628712745073)\" text-anchor=\"middle\" x=\"0\" y=\"0\" style=\"font-family: 'Open Sans', verdana, arial, sans-serif; font-size: 12px; fill: rgb(68, 68, 68); fill-opacity: 1; white-space: pre;\">3.97%</text></g></g><g class=\"slice\"><path class=\"surface\" d=\"M319,240l140.60759028215753,112.38107293955206a180,180 0 0 1 -21.704422594238366,22.75603045466228Z\" style=\"pointer-events: all; stroke-width: 0; fill: rgb(182, 232, 128); fill-opacity: 1; stroke: rgb(68, 68, 68); stroke-opacity: 1;\"/><g class=\"slicetext\"><text data-notex=\"1\" class=\"slicetext\" transform=\"translate(425.0792946790411,347.39578276025)rotate(43.64505519720569)\" text-anchor=\"middle\" x=\"0\" y=\"0\" style=\"font-family: 'Open Sans', verdana, arial, sans-serif; font-size: 12px; fill: rgb(68, 68, 68); fill-opacity: 1; white-space: pre;\">2.78%</text></g></g><g class=\"slice\"><path class=\"surface\" d=\"M319,240l154.6348580964966,92.13067166517543a180,180 0 0 1 -14.02726781433907,20.250401274376628Z\" style=\"pointer-events: all; stroke-width: 0; fill: rgb(255, 151, 255); fill-opacity: 1; stroke: rgb(68, 68, 68); stroke-opacity: 1;\"/><g class=\"slicetext\"><text data-notex=\"1\" class=\"slicetext\" transform=\"translate(444.30155871573,332.2693986087161)rotate(34.70999158656906)\" text-anchor=\"middle\" x=\"0\" y=\"0\" style=\"font-family: 'Open Sans', verdana, arial, sans-serif; font-size: 12px; fill: rgb(68, 68, 68); fill-opacity: 1; white-space: pre;\">2.18%</text></g></g><g class=\"slice\"><path class=\"surface\" d=\"M319,240l165.4267998822299,70.95050303362665a180,180 0 0 1 -10.791941785733286,21.18016863154878Z\" style=\"pointer-events: all; stroke-width: 0; fill: rgb(254, 203, 82); fill-opacity: 1; stroke: rgb(68, 68, 68); stroke-opacity: 1;\"/><g class=\"slicetext\"><text data-notex=\"1\" class=\"slicetext\" transform=\"translate(459.18480178062333,316.4789096769853)rotate(27.00022945720616)\" text-anchor=\"middle\" x=\"0\" y=\"0\" style=\"font-family: 'Open Sans', verdana, arial, sans-serif; font-size: 12px; fill: rgb(68, 68, 68); fill-opacity: 1; white-space: pre;\">2.1%</text></g></g><g class=\"slice\"><path class=\"surface\" d=\"M319,240l169.8416099822083,59.61398760904562a180,180 0 0 1 -4.414810099978411,11.336515424581023Z\" style=\"pointer-events: all; stroke-width: 0; fill: rgb(198, 202, 253); fill-opacity: 1; stroke: rgb(68, 68, 68); stroke-opacity: 1;\"/><g class=\"slicetext\"><text data-notex=\"1\" class=\"slicetext\" transform=\"translate(510.57375867092975,318.5372099607171)\" text-anchor=\"middle\" x=\"0\" y=\"0\" style=\"font-family: 'Open Sans', verdana, arial, sans-serif; font-size: 12px; fill: rgb(42, 63, 95); fill-opacity: 1; white-space: pre;\">1.08%</text></g><path class=\"textline\" stroke-width=\"1.5\" d=\"M486.73000867092975,305.31955443241964V314.0372099607171h3.75\" fill=\"none\" style=\"stroke: rgb(42, 63, 95); stroke-opacity: 1;\"/></g><g class=\"slice\"><path class=\"surface\" d=\"M319,240l170.77474236357085,56.885739607181016a180,180 0 0 1 -0.9331323813625545,2.728248001864607Z\" style=\"pointer-events: all; stroke-width: 0; fill: rgb(247, 167, 153); fill-opacity: 1; stroke: rgb(68, 68, 68); stroke-opacity: 1;\"/><g class=\"slicetext\"><text data-notex=\"1\" class=\"slicetext\" transform=\"translate(516.9698892237154,303.5372099607171)\" text-anchor=\"middle\" x=\"0\" y=\"0\" style=\"font-family: 'Open Sans', verdana, arial, sans-serif; font-size: 12px; fill: rgb(42, 63, 95); fill-opacity: 1; white-space: pre;\">0.255%</text></g></g></g></g><g class=\"iciclelayer\"/><g class=\"treemaplayer\"/><g class=\"sunburstlayer\"/><g class=\"glimages\"/><defs id=\"topdefs-9cf8cf\"><g class=\"clips\"/><clipPath id=\"legend9cf8cf\"><rect width=\"120\" height=\"238\" x=\"0\" y=\"0\"/></clipPath></defs><g class=\"layer-above\"><g class=\"imagelayer\"/><g class=\"shapelayer\"/></g><g class=\"infolayer\"><g class=\"legend\" pointer-events=\"all\" transform=\"translate(567.56,60)\"><rect class=\"bg\" shape-rendering=\"crispEdges\" width=\"120\" height=\"238\" x=\"0\" y=\"0\" style=\"stroke: rgb(68, 68, 68); stroke-opacity: 1; fill: rgb(255, 255, 255); fill-opacity: 1; stroke-width: 0px;\"/><g class=\"scrollbox\" transform=\"\" clip-path=\"url(#legend9cf8cf)\"><g class=\"groups\"><g class=\"traces\" transform=\"translate(0,14.5)\" style=\"opacity: 1;\"><text class=\"legendtext\" text-anchor=\"start\" x=\"40\" y=\"4.680000000000001\" style=\"font-family: 'Open Sans', verdana, arial, sans-serif; font-size: 12px; fill: rgb(42, 63, 95); fill-opacity: 1; white-space: pre;\">Action</text><g class=\"layers\" style=\"opacity: 1;\"><g class=\"legendfill\"/><g class=\"legendlines\"/><g class=\"legendsymbols\"><g class=\"legendpoints\"><path class=\"legendpie\" d=\"M6,6H-6V-6H6Z\" transform=\"translate(20,0)\" style=\"stroke-width: 0; fill: rgb(99, 110, 250); fill-opacity: 1; stroke: rgb(68, 68, 68); stroke-opacity: 1;\"/></g></g></g><rect class=\"legendtoggle\" x=\"0\" y=\"-9.5\" width=\"114.34375\" height=\"19\" style=\"fill: rgb(0, 0, 0); fill-opacity: 0;\"/></g><g class=\"traces\" transform=\"translate(0,33.5)\" style=\"opacity: 1;\"><text class=\"legendtext\" text-anchor=\"start\" x=\"40\" y=\"4.680000000000001\" style=\"font-family: 'Open Sans', verdana, arial, sans-serif; font-size: 12px; fill: rgb(42, 63, 95); fill-opacity: 1; white-space: pre;\">Shooter</text><g class=\"layers\" style=\"opacity: 1;\"><g class=\"legendfill\"/><g class=\"legendlines\"/><g class=\"legendsymbols\"><g class=\"legendpoints\"><path class=\"legendpie\" d=\"M6,6H-6V-6H6Z\" transform=\"translate(20,0)\" style=\"stroke-width: 0; fill: rgb(239, 85, 59); fill-opacity: 1; stroke: rgb(68, 68, 68); stroke-opacity: 1;\"/></g></g></g><rect class=\"legendtoggle\" x=\"0\" y=\"-9.5\" width=\"114.34375\" height=\"19\" style=\"fill: rgb(0, 0, 0); fill-opacity: 0;\"/></g><g class=\"traces\" transform=\"translate(0,52.5)\" style=\"opacity: 1;\"><text class=\"legendtext\" text-anchor=\"start\" x=\"40\" y=\"4.680000000000001\" style=\"font-family: 'Open Sans', verdana, arial, sans-serif; font-size: 12px; fill: rgb(42, 63, 95); fill-opacity: 1; white-space: pre;\">Sports</text><g class=\"layers\" style=\"opacity: 1;\"><g class=\"legendfill\"/><g class=\"legendlines\"/><g class=\"legendsymbols\"><g class=\"legendpoints\"><path class=\"legendpie\" d=\"M6,6H-6V-6H6Z\" transform=\"translate(20,0)\" style=\"stroke-width: 0; fill: rgb(0, 204, 150); fill-opacity: 1; stroke: rgb(68, 68, 68); stroke-opacity: 1;\"/></g></g></g><rect class=\"legendtoggle\" x=\"0\" y=\"-9.5\" width=\"114.34375\" height=\"19\" style=\"fill: rgb(0, 0, 0); fill-opacity: 0;\"/></g><g class=\"traces\" transform=\"translate(0,71.5)\" style=\"opacity: 1;\"><text class=\"legendtext\" text-anchor=\"start\" x=\"40\" y=\"4.680000000000001\" style=\"font-family: 'Open Sans', verdana, arial, sans-serif; font-size: 12px; fill: rgb(42, 63, 95); fill-opacity: 1; white-space: pre;\">Role-Playing</text><g class=\"layers\" style=\"opacity: 1;\"><g class=\"legendfill\"/><g class=\"legendlines\"/><g class=\"legendsymbols\"><g class=\"legendpoints\"><path class=\"legendpie\" d=\"M6,6H-6V-6H6Z\" transform=\"translate(20,0)\" style=\"stroke-width: 0; fill: rgb(171, 99, 250); fill-opacity: 1; stroke: rgb(68, 68, 68); stroke-opacity: 1;\"/></g></g></g><rect class=\"legendtoggle\" x=\"0\" y=\"-9.5\" width=\"114.34375\" height=\"19\" style=\"fill: rgb(0, 0, 0); fill-opacity: 0;\"/></g><g class=\"traces\" transform=\"translate(0,90.5)\" style=\"opacity: 1;\"><text class=\"legendtext\" text-anchor=\"start\" x=\"40\" y=\"4.680000000000001\" style=\"font-family: 'Open Sans', verdana, arial, sans-serif; font-size: 12px; fill: rgb(42, 63, 95); fill-opacity: 1; white-space: pre;\">Racing</text><g class=\"layers\" style=\"opacity: 1;\"><g class=\"legendfill\"/><g class=\"legendlines\"/><g class=\"legendsymbols\"><g class=\"legendpoints\"><path class=\"legendpie\" d=\"M6,6H-6V-6H6Z\" transform=\"translate(20,0)\" style=\"stroke-width: 0; fill: rgb(255, 161, 90); fill-opacity: 1; stroke: rgb(68, 68, 68); stroke-opacity: 1;\"/></g></g></g><rect class=\"legendtoggle\" x=\"0\" y=\"-9.5\" width=\"114.34375\" height=\"19\" style=\"fill: rgb(0, 0, 0); fill-opacity: 0;\"/></g><g class=\"traces\" transform=\"translate(0,109.5)\" style=\"opacity: 1;\"><text class=\"legendtext\" text-anchor=\"start\" x=\"40\" y=\"4.680000000000001\" style=\"font-family: 'Open Sans', verdana, arial, sans-serif; font-size: 12px; fill: rgb(42, 63, 95); fill-opacity: 1; white-space: pre;\">Misc</text><g class=\"layers\" style=\"opacity: 1;\"><g class=\"legendfill\"/><g class=\"legendlines\"/><g class=\"legendsymbols\"><g class=\"legendpoints\"><path class=\"legendpie\" d=\"M6,6H-6V-6H6Z\" transform=\"translate(20,0)\" style=\"stroke-width: 0; fill: rgb(25, 211, 243); fill-opacity: 1; stroke: rgb(68, 68, 68); stroke-opacity: 1;\"/></g></g></g><rect class=\"legendtoggle\" x=\"0\" y=\"-9.5\" width=\"114.34375\" height=\"19\" style=\"fill: rgb(0, 0, 0); fill-opacity: 0;\"/></g><g class=\"traces\" transform=\"translate(0,128.5)\" style=\"opacity: 1;\"><text class=\"legendtext\" text-anchor=\"start\" x=\"40\" y=\"4.680000000000001\" style=\"font-family: 'Open Sans', verdana, arial, sans-serif; font-size: 12px; fill: rgb(42, 63, 95); fill-opacity: 1; white-space: pre;\">Platform</text><g class=\"layers\" style=\"opacity: 1;\"><g class=\"legendfill\"/><g class=\"legendlines\"/><g class=\"legendsymbols\"><g class=\"legendpoints\"><path class=\"legendpie\" d=\"M6,6H-6V-6H6Z\" transform=\"translate(20,0)\" style=\"stroke-width: 0; fill: rgb(255, 102, 146); fill-opacity: 1; stroke: rgb(68, 68, 68); stroke-opacity: 1;\"/></g></g></g><rect class=\"legendtoggle\" x=\"0\" y=\"-9.5\" width=\"114.34375\" height=\"19\" style=\"fill: rgb(0, 0, 0); fill-opacity: 0;\"/></g><g class=\"traces\" transform=\"translate(0,147.5)\" style=\"opacity: 1;\"><text class=\"legendtext\" text-anchor=\"start\" x=\"40\" y=\"4.680000000000001\" style=\"font-family: 'Open Sans', verdana, arial, sans-serif; font-size: 12px; fill: rgb(42, 63, 95); fill-opacity: 1; white-space: pre;\">Simulation</text><g class=\"layers\" style=\"opacity: 1;\"><g class=\"legendfill\"/><g class=\"legendlines\"/><g class=\"legendsymbols\"><g class=\"legendpoints\"><path class=\"legendpie\" d=\"M6,6H-6V-6H6Z\" transform=\"translate(20,0)\" style=\"stroke-width: 0; fill: rgb(182, 232, 128); fill-opacity: 1; stroke: rgb(68, 68, 68); stroke-opacity: 1;\"/></g></g></g><rect class=\"legendtoggle\" x=\"0\" y=\"-9.5\" width=\"114.34375\" height=\"19\" style=\"fill: rgb(0, 0, 0); fill-opacity: 0;\"/></g><g class=\"traces\" transform=\"translate(0,166.5)\" style=\"opacity: 1;\"><text class=\"legendtext\" text-anchor=\"start\" x=\"40\" y=\"4.680000000000001\" style=\"font-family: 'Open Sans', verdana, arial, sans-serif; font-size: 12px; fill: rgb(42, 63, 95); fill-opacity: 1; white-space: pre;\">Fighting</text><g class=\"layers\" style=\"opacity: 1;\"><g class=\"legendfill\"/><g class=\"legendlines\"/><g class=\"legendsymbols\"><g class=\"legendpoints\"><path class=\"legendpie\" d=\"M6,6H-6V-6H6Z\" transform=\"translate(20,0)\" style=\"stroke-width: 0; fill: rgb(255, 151, 255); fill-opacity: 1; stroke: rgb(68, 68, 68); stroke-opacity: 1;\"/></g></g></g><rect class=\"legendtoggle\" x=\"0\" y=\"-9.5\" width=\"114.34375\" height=\"19\" style=\"fill: rgb(0, 0, 0); fill-opacity: 0;\"/></g><g class=\"traces\" transform=\"translate(0,185.5)\" style=\"opacity: 1;\"><text class=\"legendtext\" text-anchor=\"start\" x=\"40\" y=\"4.680000000000001\" style=\"font-family: 'Open Sans', verdana, arial, sans-serif; font-size: 12px; fill: rgb(42, 63, 95); fill-opacity: 1; white-space: pre;\">Adventure</text><g class=\"layers\" style=\"opacity: 1;\"><g class=\"legendfill\"/><g class=\"legendlines\"/><g class=\"legendsymbols\"><g class=\"legendpoints\"><path class=\"legendpie\" d=\"M6,6H-6V-6H6Z\" transform=\"translate(20,0)\" style=\"stroke-width: 0; fill: rgb(254, 203, 82); fill-opacity: 1; stroke: rgb(68, 68, 68); stroke-opacity: 1;\"/></g></g></g><rect class=\"legendtoggle\" x=\"0\" y=\"-9.5\" width=\"114.34375\" height=\"19\" style=\"fill: rgb(0, 0, 0); fill-opacity: 0;\"/></g><g class=\"traces\" transform=\"translate(0,204.5)\" style=\"opacity: 1;\"><text class=\"legendtext\" text-anchor=\"start\" x=\"40\" y=\"4.680000000000001\" style=\"font-family: 'Open Sans', verdana, arial, sans-serif; font-size: 12px; fill: rgb(42, 63, 95); fill-opacity: 1; white-space: pre;\">Strategy</text><g class=\"layers\" style=\"opacity: 1;\"><g class=\"legendfill\"/><g class=\"legendlines\"/><g class=\"legendsymbols\"><g class=\"legendpoints\"><path class=\"legendpie\" d=\"M6,6H-6V-6H6Z\" transform=\"translate(20,0)\" style=\"stroke-width: 0; fill: rgb(198, 202, 253); fill-opacity: 1; stroke: rgb(68, 68, 68); stroke-opacity: 1;\"/></g></g></g><rect class=\"legendtoggle\" x=\"0\" y=\"-9.5\" width=\"114.34375\" height=\"19\" style=\"fill: rgb(0, 0, 0); fill-opacity: 0;\"/></g><g class=\"traces\" transform=\"translate(0,223.5)\" style=\"opacity: 1;\"><text class=\"legendtext\" text-anchor=\"start\" x=\"40\" y=\"4.680000000000001\" style=\"font-family: 'Open Sans', verdana, arial, sans-serif; font-size: 12px; fill: rgb(42, 63, 95); fill-opacity: 1; white-space: pre;\">Puzzle</text><g class=\"layers\" style=\"opacity: 1;\"><g class=\"legendfill\"/><g class=\"legendlines\"/><g class=\"legendsymbols\"><g class=\"legendpoints\"><path class=\"legendpie\" d=\"M6,6H-6V-6H6Z\" transform=\"translate(20,0)\" style=\"stroke-width: 0; fill: rgb(247, 167, 153); fill-opacity: 1; stroke: rgb(68, 68, 68); stroke-opacity: 1;\"/></g></g></g><rect class=\"legendtoggle\" x=\"0\" y=\"-9.5\" width=\"114.34375\" height=\"19\" style=\"fill: rgb(0, 0, 0); fill-opacity: 0;\"/></g></g></g><rect class=\"scrollbar\" rx=\"20\" ry=\"3\" width=\"0\" height=\"0\" x=\"0\" y=\"0\" style=\"fill: rgb(128, 139, 164); fill-opacity: 1;\"/></g><g class=\"g-gtitle\"/></g></svg>"
      ]
     },
     "metadata": {},
     "output_type": "display_data"
    }
   ],
   "source": [
    "eu_genre = data_actual.pivot_table(index='genre', values='eu_sales', aggfunc=['count','sum'])\n",
    "eu_genre.columns = ['number_of_games', 'total_sales']\n",
    "eu_genre['share'] = eu_genre['total_sales']/ eu_genre['total_sales'].sum()\n",
    "display(eu_genre.sort_values(by='total_sales', ascending=False))\n",
    "fig = px.pie(eu_genre, values=eu_genre['share'], names=eu_genre.index)\n",
    "fig.show('svg')"
   ]
  },
  {
   "cell_type": "code",
   "execution_count": 43,
   "metadata": {},
   "outputs": [
    {
     "data": {
      "text/html": [
       "<div>\n",
       "<style scoped>\n",
       "    .dataframe tbody tr th:only-of-type {\n",
       "        vertical-align: middle;\n",
       "    }\n",
       "\n",
       "    .dataframe tbody tr th {\n",
       "        vertical-align: top;\n",
       "    }\n",
       "\n",
       "    .dataframe thead th {\n",
       "        text-align: right;\n",
       "    }\n",
       "</style>\n",
       "<table border=\"1\" class=\"dataframe\">\n",
       "  <thead>\n",
       "    <tr style=\"text-align: right;\">\n",
       "      <th></th>\n",
       "      <th>number_of_games</th>\n",
       "      <th>total_sales</th>\n",
       "      <th>share</th>\n",
       "    </tr>\n",
       "    <tr>\n",
       "      <th>rating</th>\n",
       "      <th></th>\n",
       "      <th></th>\n",
       "      <th></th>\n",
       "    </tr>\n",
       "  </thead>\n",
       "  <tbody>\n",
       "    <tr>\n",
       "      <th>M</th>\n",
       "      <td>369</td>\n",
       "      <td>145.32</td>\n",
       "      <td>0.463807</td>\n",
       "    </tr>\n",
       "    <tr>\n",
       "      <th>E</th>\n",
       "      <td>302</td>\n",
       "      <td>83.36</td>\n",
       "      <td>0.266054</td>\n",
       "    </tr>\n",
       "    <tr>\n",
       "      <th>E10+</th>\n",
       "      <td>252</td>\n",
       "      <td>42.69</td>\n",
       "      <td>0.136250</td>\n",
       "    </tr>\n",
       "    <tr>\n",
       "      <th>T</th>\n",
       "      <td>333</td>\n",
       "      <td>41.95</td>\n",
       "      <td>0.133889</td>\n",
       "    </tr>\n",
       "  </tbody>\n",
       "</table>\n",
       "</div>"
      ],
      "text/plain": [
       "        number_of_games  total_sales     share\n",
       "rating                                        \n",
       "M                   369       145.32  0.463807\n",
       "E                   302        83.36  0.266054\n",
       "E10+                252        42.69  0.136250\n",
       "T                   333        41.95  0.133889"
      ]
     },
     "metadata": {},
     "output_type": "display_data"
    },
    {
     "data": {
      "image/svg+xml": [
       "<svg class=\"main-svg\" xmlns=\"http://www.w3.org/2000/svg\" xmlns:xlink=\"http://www.w3.org/1999/xlink\" width=\"700\" height=\"500\" style=\"\" viewBox=\"0 0 700 500\"><rect x=\"0\" y=\"0\" width=\"700\" height=\"500\" style=\"fill: rgb(255, 255, 255); fill-opacity: 1;\"/><defs id=\"defs-780316\"><g class=\"clips\"/><g class=\"gradients\"/><g class=\"patterns\"/></defs><g class=\"bglayer\"/><g class=\"layer-below\"><g class=\"imagelayer\"/><g class=\"shapelayer\"/></g><g class=\"cartesianlayer\"/><g class=\"polarlayer\"/><g class=\"smithlayer\"/><g class=\"ternarylayer\"/><g class=\"geolayer\"/><g class=\"funnelarealayer\"/><g class=\"pielayer\"><g class=\"trace\" stroke-linejoin=\"round\" style=\"opacity: 1;\"><g class=\"slice\"><path class=\"surface\" d=\"M340,240l0,-180a180,180 0 0 1 40.581457369342395,355.3657472763146Z\" style=\"pointer-events: all; stroke-width: 0; fill: rgb(99, 110, 250); fill-opacity: 1; stroke: rgb(68, 68, 68); stroke-opacity: 1;\"/><g class=\"slicetext\"><text data-notex=\"1\" class=\"slicetext\" transform=\"translate(429.6694173072236,234.25562254700174)\" text-anchor=\"middle\" x=\"0\" y=\"0\" style=\"font-family: 'Open Sans', verdana, arial, sans-serif; font-size: 12px; fill: rgb(255, 255, 255); fill-opacity: 1; white-space: pre;\">46.4%</text></g></g><g class=\"slice\"><path class=\"surface\" d=\"M340,240l-179.08505767914795,18.125730773026692a180,180 0 0 1 179.08505767914795,-198.1257307730267Z\" style=\"pointer-events: all; stroke-width: 0; fill: rgb(239, 85, 59); fill-opacity: 1; stroke: rgb(68, 68, 68); stroke-opacity: 1;\"/><g class=\"slicetext\"><text data-notex=\"1\" class=\"slicetext\" transform=\"translate(263.2990289978443,175.20560672591233)\" text-anchor=\"middle\" x=\"0\" y=\"0\" style=\"font-family: 'Open Sans', verdana, arial, sans-serif; font-size: 12px; fill: rgb(68, 68, 68); fill-opacity: 1; white-space: pre;\">26.6%</text></g></g><g class=\"slice\"><path class=\"surface\" d=\"M340,240l-103.68190002267521,147.13960584318548a180,180 0 0 1 -75.40315765647274,-129.01387507015878Z\" style=\"pointer-events: all; stroke-width: 0; fill: rgb(0, 204, 150); fill-opacity: 1; stroke: rgb(68, 68, 68); stroke-opacity: 1;\"/><g class=\"slicetext\"><text data-notex=\"1\" class=\"slicetext\" transform=\"translate(230.14183163782903,308.6846262544632)\" text-anchor=\"middle\" x=\"0\" y=\"0\" style=\"font-family: 'Open Sans', verdana, arial, sans-serif; font-size: 12px; fill: rgb(68, 68, 68); fill-opacity: 1; white-space: pre;\">13.6%</text></g></g><g class=\"slice\"><path class=\"surface\" d=\"M340,240l40.58145736934235,175.3657472763146a180,180 0 0 1 -144.26335739201755,-28.22614143312913Z\" style=\"pointer-events: all; stroke-width: 0; fill: rgb(171, 99, 250); fill-opacity: 1; stroke: rgb(68, 68, 68); stroke-opacity: 1;\"/><g class=\"slicetext\"><text data-notex=\"1\" class=\"slicetext\" transform=\"translate(315.4191605969841,369.93262920944153)\" text-anchor=\"middle\" x=\"0\" y=\"0\" style=\"font-family: 'Open Sans', verdana, arial, sans-serif; font-size: 12px; fill: rgb(68, 68, 68); fill-opacity: 1; white-space: pre;\">13.4%</text></g></g></g></g><g class=\"iciclelayer\"/><g class=\"treemaplayer\"/><g class=\"sunburstlayer\"/><g class=\"glimages\"/><defs id=\"topdefs-780316\"><g class=\"clips\"/><clipPath id=\"legend780316\"><rect width=\"78\" height=\"86\" x=\"0\" y=\"0\"/></clipPath></defs><g class=\"layer-above\"><g class=\"imagelayer\"/><g class=\"shapelayer\"/></g><g class=\"infolayer\"><g class=\"legend\" pointer-events=\"all\" transform=\"translate(610.4,60)\"><rect class=\"bg\" shape-rendering=\"crispEdges\" width=\"78\" height=\"86\" x=\"0\" y=\"0\" style=\"stroke: rgb(68, 68, 68); stroke-opacity: 1; fill: rgb(255, 255, 255); fill-opacity: 1; stroke-width: 0px;\"/><g class=\"scrollbox\" transform=\"\" clip-path=\"url(#legend780316)\"><g class=\"groups\"><g class=\"traces\" transform=\"translate(0,14.5)\" style=\"opacity: 1;\"><text class=\"legendtext\" text-anchor=\"start\" x=\"40\" y=\"4.680000000000001\" style=\"font-family: 'Open Sans', verdana, arial, sans-serif; font-size: 12px; fill: rgb(42, 63, 95); fill-opacity: 1; white-space: pre;\">M</text><g class=\"layers\" style=\"opacity: 1;\"><g class=\"legendfill\"/><g class=\"legendlines\"/><g class=\"legendsymbols\"><g class=\"legendpoints\"><path class=\"legendpie\" d=\"M6,6H-6V-6H6Z\" transform=\"translate(20,0)\" style=\"stroke-width: 0; fill: rgb(99, 110, 250); fill-opacity: 1; stroke: rgb(68, 68, 68); stroke-opacity: 1;\"/></g></g></g><rect class=\"legendtoggle\" x=\"0\" y=\"-9.5\" width=\"72.671875\" height=\"19\" style=\"fill: rgb(0, 0, 0); fill-opacity: 0;\"/></g><g class=\"traces\" transform=\"translate(0,33.5)\" style=\"opacity: 1;\"><text class=\"legendtext\" text-anchor=\"start\" x=\"40\" y=\"4.680000000000001\" style=\"font-family: 'Open Sans', verdana, arial, sans-serif; font-size: 12px; fill: rgb(42, 63, 95); fill-opacity: 1; white-space: pre;\">E</text><g class=\"layers\" style=\"opacity: 1;\"><g class=\"legendfill\"/><g class=\"legendlines\"/><g class=\"legendsymbols\"><g class=\"legendpoints\"><path class=\"legendpie\" d=\"M6,6H-6V-6H6Z\" transform=\"translate(20,0)\" style=\"stroke-width: 0; fill: rgb(239, 85, 59); fill-opacity: 1; stroke: rgb(68, 68, 68); stroke-opacity: 1;\"/></g></g></g><rect class=\"legendtoggle\" x=\"0\" y=\"-9.5\" width=\"72.671875\" height=\"19\" style=\"fill: rgb(0, 0, 0); fill-opacity: 0;\"/></g><g class=\"traces\" transform=\"translate(0,52.5)\" style=\"opacity: 1;\"><text class=\"legendtext\" text-anchor=\"start\" x=\"40\" y=\"4.680000000000001\" style=\"font-family: 'Open Sans', verdana, arial, sans-serif; font-size: 12px; fill: rgb(42, 63, 95); fill-opacity: 1; white-space: pre;\">E10+</text><g class=\"layers\" style=\"opacity: 1;\"><g class=\"legendfill\"/><g class=\"legendlines\"/><g class=\"legendsymbols\"><g class=\"legendpoints\"><path class=\"legendpie\" d=\"M6,6H-6V-6H6Z\" transform=\"translate(20,0)\" style=\"stroke-width: 0; fill: rgb(0, 204, 150); fill-opacity: 1; stroke: rgb(68, 68, 68); stroke-opacity: 1;\"/></g></g></g><rect class=\"legendtoggle\" x=\"0\" y=\"-9.5\" width=\"72.671875\" height=\"19\" style=\"fill: rgb(0, 0, 0); fill-opacity: 0;\"/></g><g class=\"traces\" transform=\"translate(0,71.5)\" style=\"opacity: 1;\"><text class=\"legendtext\" text-anchor=\"start\" x=\"40\" y=\"4.680000000000001\" style=\"font-family: 'Open Sans', verdana, arial, sans-serif; font-size: 12px; fill: rgb(42, 63, 95); fill-opacity: 1; white-space: pre;\">T</text><g class=\"layers\" style=\"opacity: 1;\"><g class=\"legendfill\"/><g class=\"legendlines\"/><g class=\"legendsymbols\"><g class=\"legendpoints\"><path class=\"legendpie\" d=\"M6,6H-6V-6H6Z\" transform=\"translate(20,0)\" style=\"stroke-width: 0; fill: rgb(171, 99, 250); fill-opacity: 1; stroke: rgb(68, 68, 68); stroke-opacity: 1;\"/></g></g></g><rect class=\"legendtoggle\" x=\"0\" y=\"-9.5\" width=\"72.671875\" height=\"19\" style=\"fill: rgb(0, 0, 0); fill-opacity: 0;\"/></g></g></g><rect class=\"scrollbar\" rx=\"20\" ry=\"3\" width=\"0\" height=\"0\" x=\"0\" y=\"0\" style=\"fill: rgb(128, 139, 164); fill-opacity: 1;\"/></g><g class=\"g-gtitle\"/></g></svg>"
      ]
     },
     "metadata": {},
     "output_type": "display_data"
    }
   ],
   "source": [
    "eu_rating = data_actual.pivot_table(index='rating', values='eu_sales', aggfunc=['count','sum'])\n",
    "eu_rating.columns = ['number_of_games', 'total_sales']\n",
    "eu_rating['share'] = eu_rating['total_sales']/ eu_rating['total_sales'].sum()\n",
    "display(eu_rating.sort_values(by='total_sales', ascending=False))\n",
    "fig = px.pie(eu_rating, values=eu_rating['share'], names=eu_rating.index)\n",
    "fig.show('svg')"
   ]
  },
  {
   "cell_type": "markdown",
   "metadata": {},
   "source": [
    "**Выводы по Европе**"
   ]
  },
  {
   "cell_type": "markdown",
   "metadata": {},
   "source": [
    "* Наиболее популярные платформы: PS4 (36% рынка), PS3  (17%), XOne (13%), X360 (11%), 3DS (8%).\n",
    "\n",
    "* Самый популярный жанр - Action (30% рынка). Далее идут Shooter (22%), Sports (15%), Role-Playing (9%) и Racing (5%).\n",
    "\n",
    "* Зависимость продаж от возрастной категории примерно такая же, как в Северной Америке: M - 46%, E - 27%, E10+ - 14%, T - 13%."
   ]
  },
  {
   "cell_type": "markdown",
   "metadata": {},
   "source": [
    "### JP"
   ]
  },
  {
   "cell_type": "code",
   "execution_count": 44,
   "metadata": {},
   "outputs": [
    {
     "data": {
      "text/html": [
       "<div>\n",
       "<style scoped>\n",
       "    .dataframe tbody tr th:only-of-type {\n",
       "        vertical-align: middle;\n",
       "    }\n",
       "\n",
       "    .dataframe tbody tr th {\n",
       "        vertical-align: top;\n",
       "    }\n",
       "\n",
       "    .dataframe thead th {\n",
       "        text-align: right;\n",
       "    }\n",
       "</style>\n",
       "<table border=\"1\" class=\"dataframe\">\n",
       "  <thead>\n",
       "    <tr style=\"text-align: right;\">\n",
       "      <th></th>\n",
       "      <th>number_of_games</th>\n",
       "      <th>total_sales</th>\n",
       "      <th>share</th>\n",
       "    </tr>\n",
       "    <tr>\n",
       "      <th>platform</th>\n",
       "      <th></th>\n",
       "      <th></th>\n",
       "      <th></th>\n",
       "    </tr>\n",
       "  </thead>\n",
       "  <tbody>\n",
       "    <tr>\n",
       "      <th>3DS</th>\n",
       "      <td>303</td>\n",
       "      <td>67.81</td>\n",
       "      <td>0.481674</td>\n",
       "    </tr>\n",
       "    <tr>\n",
       "      <th>PS3</th>\n",
       "      <td>345</td>\n",
       "      <td>23.35</td>\n",
       "      <td>0.165862</td>\n",
       "    </tr>\n",
       "    <tr>\n",
       "      <th>PSV</th>\n",
       "      <td>358</td>\n",
       "      <td>18.59</td>\n",
       "      <td>0.132050</td>\n",
       "    </tr>\n",
       "    <tr>\n",
       "      <th>PS4</th>\n",
       "      <td>392</td>\n",
       "      <td>15.96</td>\n",
       "      <td>0.113368</td>\n",
       "    </tr>\n",
       "    <tr>\n",
       "      <th>WiiU</th>\n",
       "      <td>115</td>\n",
       "      <td>10.88</td>\n",
       "      <td>0.077284</td>\n",
       "    </tr>\n",
       "    <tr>\n",
       "      <th>PSP</th>\n",
       "      <td>67</td>\n",
       "      <td>3.29</td>\n",
       "      <td>0.023370</td>\n",
       "    </tr>\n",
       "    <tr>\n",
       "      <th>X360</th>\n",
       "      <td>186</td>\n",
       "      <td>0.51</td>\n",
       "      <td>0.003623</td>\n",
       "    </tr>\n",
       "    <tr>\n",
       "      <th>XOne</th>\n",
       "      <td>247</td>\n",
       "      <td>0.34</td>\n",
       "      <td>0.002415</td>\n",
       "    </tr>\n",
       "    <tr>\n",
       "      <th>Wii</th>\n",
       "      <td>23</td>\n",
       "      <td>0.05</td>\n",
       "      <td>0.000355</td>\n",
       "    </tr>\n",
       "    <tr>\n",
       "      <th>DS</th>\n",
       "      <td>8</td>\n",
       "      <td>0.00</td>\n",
       "      <td>0.000000</td>\n",
       "    </tr>\n",
       "    <tr>\n",
       "      <th>PC</th>\n",
       "      <td>189</td>\n",
       "      <td>0.00</td>\n",
       "      <td>0.000000</td>\n",
       "    </tr>\n",
       "  </tbody>\n",
       "</table>\n",
       "</div>"
      ],
      "text/plain": [
       "          number_of_games  total_sales     share\n",
       "platform                                        \n",
       "3DS                   303        67.81  0.481674\n",
       "PS3                   345        23.35  0.165862\n",
       "PSV                   358        18.59  0.132050\n",
       "PS4                   392        15.96  0.113368\n",
       "WiiU                  115        10.88  0.077284\n",
       "PSP                    67         3.29  0.023370\n",
       "X360                  186         0.51  0.003623\n",
       "XOne                  247         0.34  0.002415\n",
       "Wii                    23         0.05  0.000355\n",
       "DS                      8         0.00  0.000000\n",
       "PC                    189         0.00  0.000000"
      ]
     },
     "metadata": {},
     "output_type": "display_data"
    },
    {
     "data": {
      "image/svg+xml": [
       "<svg class=\"main-svg\" xmlns=\"http://www.w3.org/2000/svg\" xmlns:xlink=\"http://www.w3.org/1999/xlink\" width=\"700\" height=\"500\" style=\"\" viewBox=\"0 0 700 500\"><rect x=\"0\" y=\"0\" width=\"700\" height=\"500\" style=\"fill: rgb(255, 255, 255); fill-opacity: 1;\"/><defs id=\"defs-ac5d03\"><g class=\"clips\"/><g class=\"gradients\"/><g class=\"patterns\"/></defs><g class=\"bglayer\"/><g class=\"layer-below\"><g class=\"imagelayer\"/><g class=\"shapelayer\"/></g><g class=\"cartesianlayer\"/><g class=\"polarlayer\"/><g class=\"smithlayer\"/><g class=\"ternarylayer\"/><g class=\"geolayer\"/><g class=\"funnelarealayer\"/><g class=\"pielayer\"><g class=\"trace\" stroke-linejoin=\"round\" style=\"opacity: 1;\"><g class=\"slice\"><path class=\"surface\" d=\"M342,240l0,-180a180,180 0 0 1 20.68097270052822,358.8079902245982Z\" style=\"pointer-events: all; stroke-width: 0; fill: rgb(99, 110, 250); fill-opacity: 1; stroke: rgb(68, 68, 68); stroke-opacity: 1;\"/><g class=\"slicetext\"><text data-notex=\"1\" class=\"slicetext\" transform=\"translate(431.88631329228315,239.31688175148824)\" text-anchor=\"middle\" x=\"0\" y=\"0\" style=\"font-family: 'Open Sans', verdana, arial, sans-serif; font-size: 12px; fill: rgb(255, 255, 255); fill-opacity: 1; white-space: pre;\">48.2%</text></g></g><g class=\"slice\"><path class=\"surface\" d=\"M342,240l-155.42734183768022,-90.78734167973471a180,180 0 0 1 155.42734183768022,-89.21265832026529Z\" style=\"pointer-events: all; stroke-width: 0; fill: rgb(239, 85, 59); fill-opacity: 1; stroke: rgb(68, 68, 68); stroke-opacity: 1;\"/><g class=\"slicetext\"><text data-notex=\"1\" class=\"slicetext\" transform=\"translate(282.13654326200424,140.27323724531442)\" text-anchor=\"middle\" x=\"0\" y=\"0\" style=\"font-family: 'Open Sans', verdana, arial, sans-serif; font-size: 12px; fill: rgb(68, 68, 68); fill-opacity: 1; white-space: pre;\">16.6%</text></g></g><g class=\"slice\"><path class=\"surface\" d=\"M342,240l-171.90527738103378,53.37204894464733a180,180 0 0 1 16.477935543353567,-144.15939062438204Z\" style=\"pointer-events: all; stroke-width: 0; fill: rgb(0, 204, 150); fill-opacity: 1; stroke: rgb(68, 68, 68); stroke-opacity: 1;\"/><g class=\"slicetext\"><text data-notex=\"1\" class=\"slicetext\" transform=\"translate(214.49898474720163,229.93064151011083)\" text-anchor=\"middle\" x=\"0\" y=\"0\" style=\"font-family: 'Open Sans', verdana, arial, sans-serif; font-size: 12px; fill: rgb(68, 68, 68); fill-opacity: 1; white-space: pre;\">13.2%</text></g></g><g class=\"slice\"><path class=\"surface\" d=\"M342,240l-95.22341830213728,152.74979740365023a180,180 0 0 1 -76.68185907889651,-99.3777484590029Z\" style=\"pointer-events: all; stroke-width: 0; fill: rgb(171, 99, 250); fill-opacity: 1; stroke: rgb(68, 68, 68); stroke-opacity: 1;\"/><g class=\"slicetext\"><text data-notex=\"1\" class=\"slicetext\" transform=\"translate(236.2960540026608,326.03313826860955)\" text-anchor=\"middle\" x=\"0\" y=\"0\" style=\"font-family: 'Open Sans', verdana, arial, sans-serif; font-size: 12px; fill: rgb(68, 68, 68); fill-opacity: 1; white-space: pre;\">11.3%</text></g></g><g class=\"slice\"><path class=\"surface\" d=\"M342,240l-12.92300434263222,179.53550055284416a180,180 0 0 1 -82.30041395950505,-26.78570314919392Z\" style=\"pointer-events: all; stroke-width: 0; fill: rgb(255, 161, 90); fill-opacity: 1; stroke: rgb(68, 68, 68); stroke-opacity: 1;\"/><g class=\"slicetext\"><text data-notex=\"1\" class=\"slicetext\" transform=\"translate(297.0509090543788,382.4883108321164)\" text-anchor=\"middle\" x=\"0\" y=\"0\" style=\"font-family: 'Open Sans', verdana, arial, sans-serif; font-size: 12px; fill: rgb(68, 68, 68); fill-opacity: 1; white-space: pre;\">7.73%</text></g></g><g class=\"slice\"><path class=\"surface\" d=\"M342,240l13.483842744512675,179.49425056207582a180,180 0 0 1 -26.406847087144897,0.041249990768335465Z\" style=\"pointer-events: all; stroke-width: 0; fill: rgb(25, 211, 243); fill-opacity: 1; stroke: rgb(68, 68, 68); stroke-opacity: 1;\"/><g class=\"slicetext\"><text data-notex=\"1\" class=\"slicetext\" transform=\"translate(337.74098748779494,394.27554293596273)rotate(89.91049865037644)\" text-anchor=\"middle\" x=\"0\" y=\"0\" style=\"font-family: 'Open Sans', verdana, arial, sans-serif; font-size: 12px; fill: rgb(68, 68, 68); fill-opacity: 1; white-space: pre;\">2.34%</text></g></g><g class=\"slice\"><path class=\"surface\" d=\"M342,240l17.56563264816097,179.1408623113941a180,180 0 0 1 -4.081789903648296,0.35338825068171786Z\" style=\"pointer-events: all; stroke-width: 0; fill: rgb(255, 102, 146); fill-opacity: 1; stroke: rgb(68, 68, 68); stroke-opacity: 1;\"/><g class=\"slicetext\"><text data-notex=\"1\" class=\"slicetext\" transform=\"translate(385.1819931820184,490.7089849857464)\" text-anchor=\"middle\" x=\"0\" y=\"0\" style=\"font-family: 'Open Sans', verdana, arial, sans-serif; font-size: 12px; fill: rgb(42, 63, 95); fill-opacity: 1; white-space: pre;\">0.362%</text></g><path class=\"textline\" stroke-width=\"1.5\" d=\"M357.5257431820184,419.3291702391053V486.2089849857464h3.75\" fill=\"none\" style=\"stroke: rgb(42, 63, 95); stroke-opacity: 1;\"/></g><g class=\"slice\"><path class=\"surface\" d=\"M342,240l20.28190046310555,178.85369583434579a180,180 0 0 1 -2.7162678149445796,0.28716647704831644Z\" style=\"pointer-events: all; stroke-width: 0; fill: rgb(182, 232, 128); fill-opacity: 1; stroke: rgb(68, 68, 68); stroke-opacity: 1;\"/><g class=\"slicetext\"><text data-notex=\"1\" class=\"slicetext\" transform=\"translate(388.5805612635173,475.7089849857464)\" text-anchor=\"middle\" x=\"0\" y=\"0\" style=\"font-family: 'Open Sans', verdana, arial, sans-serif; font-size: 12px; fill: rgb(42, 63, 95); fill-opacity: 1; white-space: pre;\">0.242%</text></g><path class=\"textline\" stroke-width=\"1.5\" d=\"M360.9243112635173,419.00243138907786V471.2089849857464h3.75\" fill=\"none\" style=\"stroke: rgb(42, 63, 95); stroke-opacity: 1;\"/></g><g class=\"slice\"><path class=\"surface\" d=\"M342,240l20.68097270052794,178.80799022459823a180,180 0 0 1 -0.39907223742238784,0.04570560974755722Z\" style=\"pointer-events: all; stroke-width: 0; fill: rgb(255, 151, 255); fill-opacity: 1; stroke: rgb(68, 68, 68); stroke-opacity: 1;\"/><g class=\"slicetext\"><text data-notex=\"1\" class=\"slicetext\" transform=\"translate(393.9501993311795,460.7089849857464)\" text-anchor=\"middle\" x=\"0\" y=\"0\" style=\"font-family: 'Open Sans', verdana, arial, sans-serif; font-size: 12px; fill: rgb(42, 63, 95); fill-opacity: 1; white-space: pre;\">0.0355%</text></g><path class=\"textline\" stroke-width=\"1.5\" d=\"M362.4814493311795,418.8309543487769V456.2089849857464h3.75\" fill=\"none\" style=\"stroke: rgb(42, 63, 95); stroke-opacity: 1;\"/></g><g class=\"slice\"><path class=\"surface\" d=\"M342,240l20.68097270052794,178.80799022459823a180,180 0 0 1 0,0Z\" style=\"pointer-events: all; stroke-width: 0; fill: rgb(254, 203, 82); fill-opacity: 1; stroke: rgb(68, 68, 68); stroke-opacity: 1;\"/><g class=\"slicetext\"><text data-notex=\"1\" class=\"slicetext\" transform=\"translate(376.71222270052795,430.7089849857464)\" text-anchor=\"middle\" x=\"0\" y=\"0\" style=\"font-family: 'Open Sans', verdana, arial, sans-serif; font-size: 12px; fill: rgb(42, 63, 95); fill-opacity: 1; white-space: pre;\">0%</text></g></g><g class=\"slice\"><path class=\"surface\" d=\"M342,240l20.68097270052794,178.80799022459823a180,180 0 0 1 0,0Z\" style=\"pointer-events: all; stroke-width: 0; fill: rgb(198, 202, 253); fill-opacity: 1; stroke: rgb(68, 68, 68); stroke-opacity: 1;\"/><g class=\"slicetext\"><text data-notex=\"1\" class=\"slicetext\" transform=\"translate(376.71222270052795,445.7089849857464)\" text-anchor=\"middle\" x=\"0\" y=\"0\" style=\"font-family: 'Open Sans', verdana, arial, sans-serif; font-size: 12px; fill: rgb(42, 63, 95); fill-opacity: 1; white-space: pre;\">0%</text></g><path class=\"textline\" stroke-width=\"1.5\" d=\"M362.68097270052795,418.80799022459826V441.2089849857464h3.75\" fill=\"none\" style=\"stroke: rgb(42, 63, 95); stroke-opacity: 1;\"/></g></g></g><g class=\"iciclelayer\"/><g class=\"treemaplayer\"/><g class=\"sunburstlayer\"/><g class=\"glimages\"/><defs id=\"topdefs-ac5d03\"><g class=\"clips\"/><clipPath id=\"legendac5d03\"><rect width=\"78\" height=\"219\" x=\"0\" y=\"0\"/></clipPath></defs><g class=\"layer-above\"><g class=\"imagelayer\"/><g class=\"shapelayer\"/></g><g class=\"infolayer\"><g class=\"legend\" pointer-events=\"all\" transform=\"translate(610.32,60)\"><rect class=\"bg\" shape-rendering=\"crispEdges\" width=\"78\" height=\"219\" x=\"0\" y=\"0\" style=\"stroke: rgb(68, 68, 68); stroke-opacity: 1; fill: rgb(255, 255, 255); fill-opacity: 1; stroke-width: 0px;\"/><g class=\"scrollbox\" transform=\"\" clip-path=\"url(#legendac5d03)\"><g class=\"groups\"><g class=\"traces\" transform=\"translate(0,14.5)\" style=\"opacity: 1;\"><text class=\"legendtext\" text-anchor=\"start\" x=\"40\" y=\"4.680000000000001\" style=\"font-family: 'Open Sans', verdana, arial, sans-serif; font-size: 12px; fill: rgb(42, 63, 95); fill-opacity: 1; white-space: pre;\">3DS</text><g class=\"layers\" style=\"opacity: 1;\"><g class=\"legendfill\"/><g class=\"legendlines\"/><g class=\"legendsymbols\"><g class=\"legendpoints\"><path class=\"legendpie\" d=\"M6,6H-6V-6H6Z\" transform=\"translate(20,0)\" style=\"stroke-width: 0; fill: rgb(99, 110, 250); fill-opacity: 1; stroke: rgb(68, 68, 68); stroke-opacity: 1;\"/></g></g></g><rect class=\"legendtoggle\" x=\"0\" y=\"-9.5\" width=\"72.359375\" height=\"19\" style=\"fill: rgb(0, 0, 0); fill-opacity: 0;\"/></g><g class=\"traces\" transform=\"translate(0,33.5)\" style=\"opacity: 1;\"><text class=\"legendtext\" text-anchor=\"start\" x=\"40\" y=\"4.680000000000001\" style=\"font-family: 'Open Sans', verdana, arial, sans-serif; font-size: 12px; fill: rgb(42, 63, 95); fill-opacity: 1; white-space: pre;\">PS3</text><g class=\"layers\" style=\"opacity: 1;\"><g class=\"legendfill\"/><g class=\"legendlines\"/><g class=\"legendsymbols\"><g class=\"legendpoints\"><path class=\"legendpie\" d=\"M6,6H-6V-6H6Z\" transform=\"translate(20,0)\" style=\"stroke-width: 0; fill: rgb(239, 85, 59); fill-opacity: 1; stroke: rgb(68, 68, 68); stroke-opacity: 1;\"/></g></g></g><rect class=\"legendtoggle\" x=\"0\" y=\"-9.5\" width=\"72.359375\" height=\"19\" style=\"fill: rgb(0, 0, 0); fill-opacity: 0;\"/></g><g class=\"traces\" transform=\"translate(0,52.5)\" style=\"opacity: 1;\"><text class=\"legendtext\" text-anchor=\"start\" x=\"40\" y=\"4.680000000000001\" style=\"font-family: 'Open Sans', verdana, arial, sans-serif; font-size: 12px; fill: rgb(42, 63, 95); fill-opacity: 1; white-space: pre;\">PSV</text><g class=\"layers\" style=\"opacity: 1;\"><g class=\"legendfill\"/><g class=\"legendlines\"/><g class=\"legendsymbols\"><g class=\"legendpoints\"><path class=\"legendpie\" d=\"M6,6H-6V-6H6Z\" transform=\"translate(20,0)\" style=\"stroke-width: 0; fill: rgb(0, 204, 150); fill-opacity: 1; stroke: rgb(68, 68, 68); stroke-opacity: 1;\"/></g></g></g><rect class=\"legendtoggle\" x=\"0\" y=\"-9.5\" width=\"72.359375\" height=\"19\" style=\"fill: rgb(0, 0, 0); fill-opacity: 0;\"/></g><g class=\"traces\" transform=\"translate(0,71.5)\" style=\"opacity: 1;\"><text class=\"legendtext\" text-anchor=\"start\" x=\"40\" y=\"4.680000000000001\" style=\"font-family: 'Open Sans', verdana, arial, sans-serif; font-size: 12px; fill: rgb(42, 63, 95); fill-opacity: 1; white-space: pre;\">PS4</text><g class=\"layers\" style=\"opacity: 1;\"><g class=\"legendfill\"/><g class=\"legendlines\"/><g class=\"legendsymbols\"><g class=\"legendpoints\"><path class=\"legendpie\" d=\"M6,6H-6V-6H6Z\" transform=\"translate(20,0)\" style=\"stroke-width: 0; fill: rgb(171, 99, 250); fill-opacity: 1; stroke: rgb(68, 68, 68); stroke-opacity: 1;\"/></g></g></g><rect class=\"legendtoggle\" x=\"0\" y=\"-9.5\" width=\"72.359375\" height=\"19\" style=\"fill: rgb(0, 0, 0); fill-opacity: 0;\"/></g><g class=\"traces\" transform=\"translate(0,90.5)\" style=\"opacity: 1;\"><text class=\"legendtext\" text-anchor=\"start\" x=\"40\" y=\"4.680000000000001\" style=\"font-family: 'Open Sans', verdana, arial, sans-serif; font-size: 12px; fill: rgb(42, 63, 95); fill-opacity: 1; white-space: pre;\">WiiU</text><g class=\"layers\" style=\"opacity: 1;\"><g class=\"legendfill\"/><g class=\"legendlines\"/><g class=\"legendsymbols\"><g class=\"legendpoints\"><path class=\"legendpie\" d=\"M6,6H-6V-6H6Z\" transform=\"translate(20,0)\" style=\"stroke-width: 0; fill: rgb(255, 161, 90); fill-opacity: 1; stroke: rgb(68, 68, 68); stroke-opacity: 1;\"/></g></g></g><rect class=\"legendtoggle\" x=\"0\" y=\"-9.5\" width=\"72.359375\" height=\"19\" style=\"fill: rgb(0, 0, 0); fill-opacity: 0;\"/></g><g class=\"traces\" transform=\"translate(0,109.5)\" style=\"opacity: 1;\"><text class=\"legendtext\" text-anchor=\"start\" x=\"40\" y=\"4.680000000000001\" style=\"font-family: 'Open Sans', verdana, arial, sans-serif; font-size: 12px; fill: rgb(42, 63, 95); fill-opacity: 1; white-space: pre;\">PSP</text><g class=\"layers\" style=\"opacity: 1;\"><g class=\"legendfill\"/><g class=\"legendlines\"/><g class=\"legendsymbols\"><g class=\"legendpoints\"><path class=\"legendpie\" d=\"M6,6H-6V-6H6Z\" transform=\"translate(20,0)\" style=\"stroke-width: 0; fill: rgb(25, 211, 243); fill-opacity: 1; stroke: rgb(68, 68, 68); stroke-opacity: 1;\"/></g></g></g><rect class=\"legendtoggle\" x=\"0\" y=\"-9.5\" width=\"72.359375\" height=\"19\" style=\"fill: rgb(0, 0, 0); fill-opacity: 0;\"/></g><g class=\"traces\" transform=\"translate(0,128.5)\" style=\"opacity: 1;\"><text class=\"legendtext\" text-anchor=\"start\" x=\"40\" y=\"4.680000000000001\" style=\"font-family: 'Open Sans', verdana, arial, sans-serif; font-size: 12px; fill: rgb(42, 63, 95); fill-opacity: 1; white-space: pre;\">X360</text><g class=\"layers\" style=\"opacity: 1;\"><g class=\"legendfill\"/><g class=\"legendlines\"/><g class=\"legendsymbols\"><g class=\"legendpoints\"><path class=\"legendpie\" d=\"M6,6H-6V-6H6Z\" transform=\"translate(20,0)\" style=\"stroke-width: 0; fill: rgb(255, 102, 146); fill-opacity: 1; stroke: rgb(68, 68, 68); stroke-opacity: 1;\"/></g></g></g><rect class=\"legendtoggle\" x=\"0\" y=\"-9.5\" width=\"72.359375\" height=\"19\" style=\"fill: rgb(0, 0, 0); fill-opacity: 0;\"/></g><g class=\"traces\" transform=\"translate(0,147.5)\" style=\"opacity: 1;\"><text class=\"legendtext\" text-anchor=\"start\" x=\"40\" y=\"4.680000000000001\" style=\"font-family: 'Open Sans', verdana, arial, sans-serif; font-size: 12px; fill: rgb(42, 63, 95); fill-opacity: 1; white-space: pre;\">XOne</text><g class=\"layers\" style=\"opacity: 1;\"><g class=\"legendfill\"/><g class=\"legendlines\"/><g class=\"legendsymbols\"><g class=\"legendpoints\"><path class=\"legendpie\" d=\"M6,6H-6V-6H6Z\" transform=\"translate(20,0)\" style=\"stroke-width: 0; fill: rgb(182, 232, 128); fill-opacity: 1; stroke: rgb(68, 68, 68); stroke-opacity: 1;\"/></g></g></g><rect class=\"legendtoggle\" x=\"0\" y=\"-9.5\" width=\"72.359375\" height=\"19\" style=\"fill: rgb(0, 0, 0); fill-opacity: 0;\"/></g><g class=\"traces\" transform=\"translate(0,166.5)\" style=\"opacity: 1;\"><text class=\"legendtext\" text-anchor=\"start\" x=\"40\" y=\"4.680000000000001\" style=\"font-family: 'Open Sans', verdana, arial, sans-serif; font-size: 12px; fill: rgb(42, 63, 95); fill-opacity: 1; white-space: pre;\">Wii</text><g class=\"layers\" style=\"opacity: 1;\"><g class=\"legendfill\"/><g class=\"legendlines\"/><g class=\"legendsymbols\"><g class=\"legendpoints\"><path class=\"legendpie\" d=\"M6,6H-6V-6H6Z\" transform=\"translate(20,0)\" style=\"stroke-width: 0; fill: rgb(255, 151, 255); fill-opacity: 1; stroke: rgb(68, 68, 68); stroke-opacity: 1;\"/></g></g></g><rect class=\"legendtoggle\" x=\"0\" y=\"-9.5\" width=\"72.359375\" height=\"19\" style=\"fill: rgb(0, 0, 0); fill-opacity: 0;\"/></g><g class=\"traces\" transform=\"translate(0,185.5)\" style=\"opacity: 1;\"><text class=\"legendtext\" text-anchor=\"start\" x=\"40\" y=\"4.680000000000001\" style=\"font-family: 'Open Sans', verdana, arial, sans-serif; font-size: 12px; fill: rgb(42, 63, 95); fill-opacity: 1; white-space: pre;\">DS</text><g class=\"layers\" style=\"opacity: 1;\"><g class=\"legendfill\"/><g class=\"legendlines\"/><g class=\"legendsymbols\"><g class=\"legendpoints\"><path class=\"legendpie\" d=\"M6,6H-6V-6H6Z\" transform=\"translate(20,0)\" style=\"stroke-width: 0; fill: rgb(254, 203, 82); fill-opacity: 1; stroke: rgb(68, 68, 68); stroke-opacity: 1;\"/></g></g></g><rect class=\"legendtoggle\" x=\"0\" y=\"-9.5\" width=\"72.359375\" height=\"19\" style=\"fill: rgb(0, 0, 0); fill-opacity: 0;\"/></g><g class=\"traces\" transform=\"translate(0,204.5)\" style=\"opacity: 1;\"><text class=\"legendtext\" text-anchor=\"start\" x=\"40\" y=\"4.680000000000001\" style=\"font-family: 'Open Sans', verdana, arial, sans-serif; font-size: 12px; fill: rgb(42, 63, 95); fill-opacity: 1; white-space: pre;\">PC</text><g class=\"layers\" style=\"opacity: 1;\"><g class=\"legendfill\"/><g class=\"legendlines\"/><g class=\"legendsymbols\"><g class=\"legendpoints\"><path class=\"legendpie\" d=\"M6,6H-6V-6H6Z\" transform=\"translate(20,0)\" style=\"stroke-width: 0; fill: rgb(198, 202, 253); fill-opacity: 1; stroke: rgb(68, 68, 68); stroke-opacity: 1;\"/></g></g></g><rect class=\"legendtoggle\" x=\"0\" y=\"-9.5\" width=\"72.359375\" height=\"19\" style=\"fill: rgb(0, 0, 0); fill-opacity: 0;\"/></g></g></g><rect class=\"scrollbar\" rx=\"20\" ry=\"3\" width=\"0\" height=\"0\" x=\"0\" y=\"0\" style=\"fill: rgb(128, 139, 164); fill-opacity: 1;\"/></g><g class=\"g-gtitle\"/></g></svg>"
      ]
     },
     "metadata": {},
     "output_type": "display_data"
    }
   ],
   "source": [
    "jp_platform = data_actual.pivot_table(index='platform', values='jp_sales', aggfunc=['count','sum'])\n",
    "jp_platform.columns = ['number_of_games', 'total_sales']\n",
    "jp_platform['share'] = jp_platform['total_sales']/ jp_platform['total_sales'].sum()\n",
    "display(jp_platform.sort_values(by='total_sales', ascending=False))\n",
    "fig = px.pie(jp_platform, values=jp_platform['share'], names=jp_platform.index)\n",
    "fig.show('svg')"
   ]
  },
  {
   "cell_type": "code",
   "execution_count": 45,
   "metadata": {},
   "outputs": [
    {
     "data": {
      "text/html": [
       "<div>\n",
       "<style scoped>\n",
       "    .dataframe tbody tr th:only-of-type {\n",
       "        vertical-align: middle;\n",
       "    }\n",
       "\n",
       "    .dataframe tbody tr th {\n",
       "        vertical-align: top;\n",
       "    }\n",
       "\n",
       "    .dataframe thead th {\n",
       "        text-align: right;\n",
       "    }\n",
       "</style>\n",
       "<table border=\"1\" class=\"dataframe\">\n",
       "  <thead>\n",
       "    <tr style=\"text-align: right;\">\n",
       "      <th></th>\n",
       "      <th>number_of_games</th>\n",
       "      <th>total_sales</th>\n",
       "      <th>share</th>\n",
       "    </tr>\n",
       "    <tr>\n",
       "      <th>genre</th>\n",
       "      <th></th>\n",
       "      <th></th>\n",
       "      <th></th>\n",
       "    </tr>\n",
       "  </thead>\n",
       "  <tbody>\n",
       "    <tr>\n",
       "      <th>Role-Playing</th>\n",
       "      <td>292</td>\n",
       "      <td>51.04</td>\n",
       "      <td>0.362551</td>\n",
       "    </tr>\n",
       "    <tr>\n",
       "      <th>Action</th>\n",
       "      <td>766</td>\n",
       "      <td>40.49</td>\n",
       "      <td>0.287612</td>\n",
       "    </tr>\n",
       "    <tr>\n",
       "      <th>Misc</th>\n",
       "      <td>155</td>\n",
       "      <td>9.20</td>\n",
       "      <td>0.065350</td>\n",
       "    </tr>\n",
       "    <tr>\n",
       "      <th>Fighting</th>\n",
       "      <td>80</td>\n",
       "      <td>7.65</td>\n",
       "      <td>0.054340</td>\n",
       "    </tr>\n",
       "    <tr>\n",
       "      <th>Shooter</th>\n",
       "      <td>187</td>\n",
       "      <td>6.61</td>\n",
       "      <td>0.046953</td>\n",
       "    </tr>\n",
       "    <tr>\n",
       "      <th>Adventure</th>\n",
       "      <td>245</td>\n",
       "      <td>5.82</td>\n",
       "      <td>0.041341</td>\n",
       "    </tr>\n",
       "    <tr>\n",
       "      <th>Sports</th>\n",
       "      <td>214</td>\n",
       "      <td>5.41</td>\n",
       "      <td>0.038429</td>\n",
       "    </tr>\n",
       "    <tr>\n",
       "      <th>Platform</th>\n",
       "      <td>74</td>\n",
       "      <td>4.79</td>\n",
       "      <td>0.034025</td>\n",
       "    </tr>\n",
       "    <tr>\n",
       "      <th>Simulation</th>\n",
       "      <td>62</td>\n",
       "      <td>4.52</td>\n",
       "      <td>0.032107</td>\n",
       "    </tr>\n",
       "    <tr>\n",
       "      <th>Racing</th>\n",
       "      <td>85</td>\n",
       "      <td>2.30</td>\n",
       "      <td>0.016338</td>\n",
       "    </tr>\n",
       "    <tr>\n",
       "      <th>Strategy</th>\n",
       "      <td>56</td>\n",
       "      <td>1.77</td>\n",
       "      <td>0.012573</td>\n",
       "    </tr>\n",
       "    <tr>\n",
       "      <th>Puzzle</th>\n",
       "      <td>17</td>\n",
       "      <td>1.18</td>\n",
       "      <td>0.008382</td>\n",
       "    </tr>\n",
       "  </tbody>\n",
       "</table>\n",
       "</div>"
      ],
      "text/plain": [
       "              number_of_games  total_sales     share\n",
       "genre                                               \n",
       "Role-Playing              292        51.04  0.362551\n",
       "Action                    766        40.49  0.287612\n",
       "Misc                      155         9.20  0.065350\n",
       "Fighting                   80         7.65  0.054340\n",
       "Shooter                   187         6.61  0.046953\n",
       "Adventure                 245         5.82  0.041341\n",
       "Sports                    214         5.41  0.038429\n",
       "Platform                   74         4.79  0.034025\n",
       "Simulation                 62         4.52  0.032107\n",
       "Racing                     85         2.30  0.016338\n",
       "Strategy                   56         1.77  0.012573\n",
       "Puzzle                     17         1.18  0.008382"
      ]
     },
     "metadata": {},
     "output_type": "display_data"
    },
    {
     "data": {
      "image/svg+xml": [
       "<svg class=\"main-svg\" xmlns=\"http://www.w3.org/2000/svg\" xmlns:xlink=\"http://www.w3.org/1999/xlink\" width=\"700\" height=\"500\" style=\"\" viewBox=\"0 0 700 500\"><rect x=\"0\" y=\"0\" width=\"700\" height=\"500\" style=\"fill: rgb(255, 255, 255); fill-opacity: 1;\"/><defs id=\"defs-1b888b\"><g class=\"clips\"/><g class=\"gradients\"/><g class=\"patterns\"/></defs><g class=\"bglayer\"/><g class=\"layer-below\"><g class=\"imagelayer\"/><g class=\"shapelayer\"/></g><g class=\"cartesianlayer\"/><g class=\"polarlayer\"/><g class=\"smithlayer\"/><g class=\"ternarylayer\"/><g class=\"geolayer\"/><g class=\"funnelarealayer\"/><g class=\"pielayer\"><g class=\"trace\" stroke-linejoin=\"round\" style=\"opacity: 1;\"><g class=\"slice\"><path class=\"surface\" d=\"M319,240l0,-180a180,180 0 0 1 136.83524034563092,296.94493148295663Z\" style=\"pointer-events: all; stroke-width: 0; fill: rgb(99, 110, 250); fill-opacity: 1; stroke: rgb(68, 68, 68); stroke-opacity: 1;\"/><g class=\"slicetext\"><text data-notex=\"1\" class=\"slicetext\" transform=\"translate(404.63174130760353,205.02202349077757)\" text-anchor=\"middle\" x=\"0\" y=\"0\" style=\"font-family: 'Open Sans', verdana, arial, sans-serif; font-size: 12px; fill: rgb(255, 255, 255); fill-opacity: 1; white-space: pre;\">36.3%</text></g></g><g class=\"slice\"><path class=\"surface\" d=\"M319,240l-174.99700469397018,42.14318863278587a180,180 0 0 1 174.99700469397018,-222.14318863278586Z\" style=\"pointer-events: all; stroke-width: 0; fill: rgb(239, 85, 59); fill-opacity: 1; stroke: rgb(68, 68, 68); stroke-opacity: 1;\"/><g class=\"slicetext\"><text data-notex=\"1\" class=\"slicetext\" transform=\"translate(239.77108842504265,182.11687461327898)\" text-anchor=\"middle\" x=\"0\" y=\"0\" style=\"font-family: 'Open Sans', verdana, arial, sans-serif; font-size: 12px; fill: rgb(68, 68, 68); fill-opacity: 1; white-space: pre;\">28.8%</text></g></g><g class=\"slice\"><path class=\"surface\" d=\"M319,240l-143.62886044028966,108.49308940491923a180,180 0 0 1 -31.368144253680526,-66.34990077213337Z\" style=\"pointer-events: all; stroke-width: 0; fill: rgb(0, 204, 150); fill-opacity: 1; stroke: rgb(68, 68, 68); stroke-opacity: 1;\"/><g class=\"slicetext\"><text data-notex=\"1\" class=\"slicetext\" transform=\"translate(183.78757036789713,308.40571244435625)\" text-anchor=\"middle\" x=\"0\" y=\"0\" style=\"font-family: 'Open Sans', verdana, arial, sans-serif; font-size: 12px; fill: rgb(68, 68, 68); fill-opacity: 1; white-space: pre;\">6.54%</text></g></g><g class=\"slice\"><path class=\"surface\" d=\"M319,240l-99.01103136554282,150.32237247971938a180,180 0 0 1 -44.61782907474684,-41.829283074800145Z\" style=\"pointer-events: all; stroke-width: 0; fill: rgb(171, 99, 250); fill-opacity: 1; stroke: rgb(68, 68, 68); stroke-opacity: 1;\"/><g class=\"slicetext\"><text data-notex=\"1\" class=\"slicetext\" transform=\"translate(213.72892383784455,356.74729791264554)\" text-anchor=\"middle\" x=\"0\" y=\"0\" style=\"font-family: 'Open Sans', verdana, arial, sans-serif; font-size: 12px; fill: rgb(68, 68, 68); fill-opacity: 1; white-space: pre;\">5.43%</text></g></g><g class=\"slice\"><path class=\"surface\" d=\"M319,240l-51.02711115547507,172.6158565344644a180,180 0 0 1 -47.98392021006775,-22.293484054745022Z\" style=\"pointer-events: all; stroke-width: 0; fill: rgb(255, 161, 90); fill-opacity: 1; stroke: rgb(68, 68, 68); stroke-opacity: 1;\"/><g class=\"slicetext\"><text data-notex=\"1\" class=\"slicetext\" transform=\"translate(252.83667435141962,386.8241588923233)\" text-anchor=\"middle\" x=\"0\" y=\"0\" style=\"font-family: 'Open Sans', verdana, arial, sans-serif; font-size: 12px; fill: rgb(68, 68, 68); fill-opacity: 1; white-space: pre;\">4.7%</text></g></g><g class=\"slice\"><path class=\"surface\" d=\"M319,240l-4.98021024244601,179.9310909930272a180,180 0 0 1 -46.046900913029056,-7.315234458562799Z\" style=\"pointer-events: all; stroke-width: 0; fill: rgb(25, 211, 243); fill-opacity: 1; stroke: rgb(68, 68, 68); stroke-opacity: 1;\"/><g class=\"slicetext\"><text data-notex=\"1\" class=\"slicetext\" transform=\"translate(301.08268104571226,381.4645802745309)rotate(-80.973149595113)\" text-anchor=\"middle\" x=\"0\" y=\"0\" style=\"font-family: 'Open Sans', verdana, arial, sans-serif; font-size: 12px; fill: rgb(68, 68, 68); fill-opacity: 1; white-space: pre;\">4.13%</text></g></g><g class=\"slice\"><path class=\"surface\" d=\"M319,240l38.18860081617052,175.9023330365552a180,180 0 0 1 -43.168811058616534,4.028757956471992Z\" style=\"pointer-events: all; stroke-width: 0; fill: rgb(255, 102, 146); fill-opacity: 1; stroke: rgb(68, 68, 68); stroke-opacity: 1;\"/><g class=\"slicetext\"><text data-notex=\"1\" class=\"slicetext\" transform=\"translate(327.90719232318247,383.8698214403175)rotate(84.66827674385559)\" text-anchor=\"middle\" x=\"0\" y=\"0\" style=\"font-family: 'Open Sans', verdana, arial, sans-serif; font-size: 12px; fill: rgb(68, 68, 68); fill-opacity: 1; white-space: pre;\">3.84%</text></g></g><g class=\"slice\"><path class=\"surface\" d=\"M319,240l74.63848865517866,163.79589741892428a180,180 0 0 1 -36.44988783900814,12.106435617630922Z\" style=\"pointer-events: all; stroke-width: 0; fill: rgb(182, 232, 128); fill-opacity: 1; stroke: rgb(68, 68, 68); stroke-opacity: 1;\"/><g class=\"slicetext\"><text data-notex=\"1\" class=\"slicetext\" transform=\"translate(362.29702887244724,384.6343961509448)rotate(71.62665151299893)\" text-anchor=\"middle\" x=\"0\" y=\"0\" style=\"font-family: 'Open Sans', verdana, arial, sans-serif; font-size: 12px; fill: rgb(68, 68, 68); fill-opacity: 1; white-space: pre;\">3.4%</text></g></g><g class=\"slice\"><path class=\"surface\" d=\"M319,240l105.9442798022814,145.51910382206148a180,180 0 0 1 -31.305791147102738,18.276793596862802Z\" style=\"pointer-events: all; stroke-width: 0; fill: rgb(255, 151, 255); fill-opacity: 1; stroke: rgb(68, 68, 68); stroke-opacity: 1;\"/><g class=\"slicetext\"><text data-notex=\"1\" class=\"slicetext\" transform=\"translate(389.71119546860564,370.0445203228677)rotate(59.722972013070034)\" text-anchor=\"middle\" x=\"0\" y=\"0\" style=\"font-family: 'Open Sans', verdana, arial, sans-serif; font-size: 12px; fill: rgb(68, 68, 68); fill-opacity: 1; white-space: pre;\">3.21%</text></g></g><g class=\"slice\"><path class=\"surface\" d=\"M319,240l120.29816461886114,133.8967945446544a180,180 0 0 1 -14.353884816579736,11.622309277407084Z\" style=\"pointer-events: all; stroke-width: 0; fill: rgb(254, 203, 82); fill-opacity: 1; stroke: rgb(68, 68, 68); stroke-opacity: 1;\"/><g class=\"slicetext\"><text data-notex=\"1\" class=\"slicetext\" transform=\"translate(456.1141363887131,398.3687464181442)\" text-anchor=\"middle\" x=\"0\" y=\"0\" style=\"font-family: 'Open Sans', verdana, arial, sans-serif; font-size: 12px; fill: rgb(42, 63, 95); fill-opacity: 1; white-space: pre;\">1.63%</text></g><path class=\"textline\" stroke-width=\"1.5\" d=\"M432.2703863887131,379.89217121537445V393.8687464181442h3.75\" fill=\"none\" style=\"stroke: rgb(42, 63, 95); stroke-opacity: 1;\"/></g><g class=\"slice\"><path class=\"surface\" d=\"M319,240l130.48948043319947,123.9858681313062a180,180 0 0 1 -10.191315814338338,9.910926413348193Z\" style=\"pointer-events: all; stroke-width: 0; fill: rgb(198, 202, 253); fill-opacity: 1; stroke: rgb(68, 68, 68); stroke-opacity: 1;\"/><g class=\"slicetext\"><text data-notex=\"1\" class=\"slicetext\" transform=\"translate(468.3354522885668,383.3687464181442)\" text-anchor=\"middle\" x=\"0\" y=\"0\" style=\"font-family: 'Open Sans', verdana, arial, sans-serif; font-size: 12px; fill: rgb(42, 63, 95); fill-opacity: 1; white-space: pre;\">1.26%</text></g><path class=\"textline\" stroke-width=\"1.5\" d=\"M444.4917022885668,369.0419802107737V378.8687464181442h3.75\" fill=\"none\" style=\"stroke: rgb(42, 63, 95); stroke-opacity: 1;\"/></g><g class=\"slice\"><path class=\"surface\" d=\"M319,240l136.83524034563092,116.94493148295665a180,180 0 0 1 -6.345759912431447,7.0409366483495575Z\" style=\"pointer-events: all; stroke-width: 0; fill: rgb(247, 167, 153); fill-opacity: 1; stroke: rgb(68, 68, 68); stroke-opacity: 1;\"/><g class=\"slicetext\"><text data-notex=\"1\" class=\"slicetext\" transform=\"translate(480.36496430872194,368.3687464181442)\" text-anchor=\"middle\" x=\"0\" y=\"0\" style=\"font-family: 'Open Sans', verdana, arial, sans-serif; font-size: 12px; fill: rgb(42, 63, 95); fill-opacity: 1; white-space: pre;\">0.838%</text></g></g></g></g><g class=\"iciclelayer\"/><g class=\"treemaplayer\"/><g class=\"sunburstlayer\"/><g class=\"glimages\"/><defs id=\"topdefs-1b888b\"><g class=\"clips\"/><clipPath id=\"legend1b888b\"><rect width=\"120\" height=\"238\" x=\"0\" y=\"0\"/></clipPath></defs><g class=\"layer-above\"><g class=\"imagelayer\"/><g class=\"shapelayer\"/></g><g class=\"infolayer\"><g class=\"legend\" pointer-events=\"all\" transform=\"translate(567.56,60)\"><rect class=\"bg\" shape-rendering=\"crispEdges\" width=\"120\" height=\"238\" x=\"0\" y=\"0\" style=\"stroke: rgb(68, 68, 68); stroke-opacity: 1; fill: rgb(255, 255, 255); fill-opacity: 1; stroke-width: 0px;\"/><g class=\"scrollbox\" transform=\"\" clip-path=\"url(#legend1b888b)\"><g class=\"groups\"><g class=\"traces\" transform=\"translate(0,14.5)\" style=\"opacity: 1;\"><text class=\"legendtext\" text-anchor=\"start\" x=\"40\" y=\"4.680000000000001\" style=\"font-family: 'Open Sans', verdana, arial, sans-serif; font-size: 12px; fill: rgb(42, 63, 95); fill-opacity: 1; white-space: pre;\">Role-Playing</text><g class=\"layers\" style=\"opacity: 1;\"><g class=\"legendfill\"/><g class=\"legendlines\"/><g class=\"legendsymbols\"><g class=\"legendpoints\"><path class=\"legendpie\" d=\"M6,6H-6V-6H6Z\" transform=\"translate(20,0)\" style=\"stroke-width: 0; fill: rgb(99, 110, 250); fill-opacity: 1; stroke: rgb(68, 68, 68); stroke-opacity: 1;\"/></g></g></g><rect class=\"legendtoggle\" x=\"0\" y=\"-9.5\" width=\"114.34375\" height=\"19\" style=\"fill: rgb(0, 0, 0); fill-opacity: 0;\"/></g><g class=\"traces\" transform=\"translate(0,33.5)\" style=\"opacity: 1;\"><text class=\"legendtext\" text-anchor=\"start\" x=\"40\" y=\"4.680000000000001\" style=\"font-family: 'Open Sans', verdana, arial, sans-serif; font-size: 12px; fill: rgb(42, 63, 95); fill-opacity: 1; white-space: pre;\">Action</text><g class=\"layers\" style=\"opacity: 1;\"><g class=\"legendfill\"/><g class=\"legendlines\"/><g class=\"legendsymbols\"><g class=\"legendpoints\"><path class=\"legendpie\" d=\"M6,6H-6V-6H6Z\" transform=\"translate(20,0)\" style=\"stroke-width: 0; fill: rgb(239, 85, 59); fill-opacity: 1; stroke: rgb(68, 68, 68); stroke-opacity: 1;\"/></g></g></g><rect class=\"legendtoggle\" x=\"0\" y=\"-9.5\" width=\"114.34375\" height=\"19\" style=\"fill: rgb(0, 0, 0); fill-opacity: 0;\"/></g><g class=\"traces\" transform=\"translate(0,52.5)\" style=\"opacity: 1;\"><text class=\"legendtext\" text-anchor=\"start\" x=\"40\" y=\"4.680000000000001\" style=\"font-family: 'Open Sans', verdana, arial, sans-serif; font-size: 12px; fill: rgb(42, 63, 95); fill-opacity: 1; white-space: pre;\">Misc</text><g class=\"layers\" style=\"opacity: 1;\"><g class=\"legendfill\"/><g class=\"legendlines\"/><g class=\"legendsymbols\"><g class=\"legendpoints\"><path class=\"legendpie\" d=\"M6,6H-6V-6H6Z\" transform=\"translate(20,0)\" style=\"stroke-width: 0; fill: rgb(0, 204, 150); fill-opacity: 1; stroke: rgb(68, 68, 68); stroke-opacity: 1;\"/></g></g></g><rect class=\"legendtoggle\" x=\"0\" y=\"-9.5\" width=\"114.34375\" height=\"19\" style=\"fill: rgb(0, 0, 0); fill-opacity: 0;\"/></g><g class=\"traces\" transform=\"translate(0,71.5)\" style=\"opacity: 1;\"><text class=\"legendtext\" text-anchor=\"start\" x=\"40\" y=\"4.680000000000001\" style=\"font-family: 'Open Sans', verdana, arial, sans-serif; font-size: 12px; fill: rgb(42, 63, 95); fill-opacity: 1; white-space: pre;\">Fighting</text><g class=\"layers\" style=\"opacity: 1;\"><g class=\"legendfill\"/><g class=\"legendlines\"/><g class=\"legendsymbols\"><g class=\"legendpoints\"><path class=\"legendpie\" d=\"M6,6H-6V-6H6Z\" transform=\"translate(20,0)\" style=\"stroke-width: 0; fill: rgb(171, 99, 250); fill-opacity: 1; stroke: rgb(68, 68, 68); stroke-opacity: 1;\"/></g></g></g><rect class=\"legendtoggle\" x=\"0\" y=\"-9.5\" width=\"114.34375\" height=\"19\" style=\"fill: rgb(0, 0, 0); fill-opacity: 0;\"/></g><g class=\"traces\" transform=\"translate(0,90.5)\" style=\"opacity: 1;\"><text class=\"legendtext\" text-anchor=\"start\" x=\"40\" y=\"4.680000000000001\" style=\"font-family: 'Open Sans', verdana, arial, sans-serif; font-size: 12px; fill: rgb(42, 63, 95); fill-opacity: 1; white-space: pre;\">Shooter</text><g class=\"layers\" style=\"opacity: 1;\"><g class=\"legendfill\"/><g class=\"legendlines\"/><g class=\"legendsymbols\"><g class=\"legendpoints\"><path class=\"legendpie\" d=\"M6,6H-6V-6H6Z\" transform=\"translate(20,0)\" style=\"stroke-width: 0; fill: rgb(255, 161, 90); fill-opacity: 1; stroke: rgb(68, 68, 68); stroke-opacity: 1;\"/></g></g></g><rect class=\"legendtoggle\" x=\"0\" y=\"-9.5\" width=\"114.34375\" height=\"19\" style=\"fill: rgb(0, 0, 0); fill-opacity: 0;\"/></g><g class=\"traces\" transform=\"translate(0,109.5)\" style=\"opacity: 1;\"><text class=\"legendtext\" text-anchor=\"start\" x=\"40\" y=\"4.680000000000001\" style=\"font-family: 'Open Sans', verdana, arial, sans-serif; font-size: 12px; fill: rgb(42, 63, 95); fill-opacity: 1; white-space: pre;\">Adventure</text><g class=\"layers\" style=\"opacity: 1;\"><g class=\"legendfill\"/><g class=\"legendlines\"/><g class=\"legendsymbols\"><g class=\"legendpoints\"><path class=\"legendpie\" d=\"M6,6H-6V-6H6Z\" transform=\"translate(20,0)\" style=\"stroke-width: 0; fill: rgb(25, 211, 243); fill-opacity: 1; stroke: rgb(68, 68, 68); stroke-opacity: 1;\"/></g></g></g><rect class=\"legendtoggle\" x=\"0\" y=\"-9.5\" width=\"114.34375\" height=\"19\" style=\"fill: rgb(0, 0, 0); fill-opacity: 0;\"/></g><g class=\"traces\" transform=\"translate(0,128.5)\" style=\"opacity: 1;\"><text class=\"legendtext\" text-anchor=\"start\" x=\"40\" y=\"4.680000000000001\" style=\"font-family: 'Open Sans', verdana, arial, sans-serif; font-size: 12px; fill: rgb(42, 63, 95); fill-opacity: 1; white-space: pre;\">Sports</text><g class=\"layers\" style=\"opacity: 1;\"><g class=\"legendfill\"/><g class=\"legendlines\"/><g class=\"legendsymbols\"><g class=\"legendpoints\"><path class=\"legendpie\" d=\"M6,6H-6V-6H6Z\" transform=\"translate(20,0)\" style=\"stroke-width: 0; fill: rgb(255, 102, 146); fill-opacity: 1; stroke: rgb(68, 68, 68); stroke-opacity: 1;\"/></g></g></g><rect class=\"legendtoggle\" x=\"0\" y=\"-9.5\" width=\"114.34375\" height=\"19\" style=\"fill: rgb(0, 0, 0); fill-opacity: 0;\"/></g><g class=\"traces\" transform=\"translate(0,147.5)\" style=\"opacity: 1;\"><text class=\"legendtext\" text-anchor=\"start\" x=\"40\" y=\"4.680000000000001\" style=\"font-family: 'Open Sans', verdana, arial, sans-serif; font-size: 12px; fill: rgb(42, 63, 95); fill-opacity: 1; white-space: pre;\">Platform</text><g class=\"layers\" style=\"opacity: 1;\"><g class=\"legendfill\"/><g class=\"legendlines\"/><g class=\"legendsymbols\"><g class=\"legendpoints\"><path class=\"legendpie\" d=\"M6,6H-6V-6H6Z\" transform=\"translate(20,0)\" style=\"stroke-width: 0; fill: rgb(182, 232, 128); fill-opacity: 1; stroke: rgb(68, 68, 68); stroke-opacity: 1;\"/></g></g></g><rect class=\"legendtoggle\" x=\"0\" y=\"-9.5\" width=\"114.34375\" height=\"19\" style=\"fill: rgb(0, 0, 0); fill-opacity: 0;\"/></g><g class=\"traces\" transform=\"translate(0,166.5)\" style=\"opacity: 1;\"><text class=\"legendtext\" text-anchor=\"start\" x=\"40\" y=\"4.680000000000001\" style=\"font-family: 'Open Sans', verdana, arial, sans-serif; font-size: 12px; fill: rgb(42, 63, 95); fill-opacity: 1; white-space: pre;\">Simulation</text><g class=\"layers\" style=\"opacity: 1;\"><g class=\"legendfill\"/><g class=\"legendlines\"/><g class=\"legendsymbols\"><g class=\"legendpoints\"><path class=\"legendpie\" d=\"M6,6H-6V-6H6Z\" transform=\"translate(20,0)\" style=\"stroke-width: 0; fill: rgb(255, 151, 255); fill-opacity: 1; stroke: rgb(68, 68, 68); stroke-opacity: 1;\"/></g></g></g><rect class=\"legendtoggle\" x=\"0\" y=\"-9.5\" width=\"114.34375\" height=\"19\" style=\"fill: rgb(0, 0, 0); fill-opacity: 0;\"/></g><g class=\"traces\" transform=\"translate(0,185.5)\" style=\"opacity: 1;\"><text class=\"legendtext\" text-anchor=\"start\" x=\"40\" y=\"4.680000000000001\" style=\"font-family: 'Open Sans', verdana, arial, sans-serif; font-size: 12px; fill: rgb(42, 63, 95); fill-opacity: 1; white-space: pre;\">Racing</text><g class=\"layers\" style=\"opacity: 1;\"><g class=\"legendfill\"/><g class=\"legendlines\"/><g class=\"legendsymbols\"><g class=\"legendpoints\"><path class=\"legendpie\" d=\"M6,6H-6V-6H6Z\" transform=\"translate(20,0)\" style=\"stroke-width: 0; fill: rgb(254, 203, 82); fill-opacity: 1; stroke: rgb(68, 68, 68); stroke-opacity: 1;\"/></g></g></g><rect class=\"legendtoggle\" x=\"0\" y=\"-9.5\" width=\"114.34375\" height=\"19\" style=\"fill: rgb(0, 0, 0); fill-opacity: 0;\"/></g><g class=\"traces\" transform=\"translate(0,204.5)\" style=\"opacity: 1;\"><text class=\"legendtext\" text-anchor=\"start\" x=\"40\" y=\"4.680000000000001\" style=\"font-family: 'Open Sans', verdana, arial, sans-serif; font-size: 12px; fill: rgb(42, 63, 95); fill-opacity: 1; white-space: pre;\">Strategy</text><g class=\"layers\" style=\"opacity: 1;\"><g class=\"legendfill\"/><g class=\"legendlines\"/><g class=\"legendsymbols\"><g class=\"legendpoints\"><path class=\"legendpie\" d=\"M6,6H-6V-6H6Z\" transform=\"translate(20,0)\" style=\"stroke-width: 0; fill: rgb(198, 202, 253); fill-opacity: 1; stroke: rgb(68, 68, 68); stroke-opacity: 1;\"/></g></g></g><rect class=\"legendtoggle\" x=\"0\" y=\"-9.5\" width=\"114.34375\" height=\"19\" style=\"fill: rgb(0, 0, 0); fill-opacity: 0;\"/></g><g class=\"traces\" transform=\"translate(0,223.5)\" style=\"opacity: 1;\"><text class=\"legendtext\" text-anchor=\"start\" x=\"40\" y=\"4.680000000000001\" style=\"font-family: 'Open Sans', verdana, arial, sans-serif; font-size: 12px; fill: rgb(42, 63, 95); fill-opacity: 1; white-space: pre;\">Puzzle</text><g class=\"layers\" style=\"opacity: 1;\"><g class=\"legendfill\"/><g class=\"legendlines\"/><g class=\"legendsymbols\"><g class=\"legendpoints\"><path class=\"legendpie\" d=\"M6,6H-6V-6H6Z\" transform=\"translate(20,0)\" style=\"stroke-width: 0; fill: rgb(247, 167, 153); fill-opacity: 1; stroke: rgb(68, 68, 68); stroke-opacity: 1;\"/></g></g></g><rect class=\"legendtoggle\" x=\"0\" y=\"-9.5\" width=\"114.34375\" height=\"19\" style=\"fill: rgb(0, 0, 0); fill-opacity: 0;\"/></g></g></g><rect class=\"scrollbar\" rx=\"20\" ry=\"3\" width=\"0\" height=\"0\" x=\"0\" y=\"0\" style=\"fill: rgb(128, 139, 164); fill-opacity: 1;\"/></g><g class=\"g-gtitle\"/></g></svg>"
      ]
     },
     "metadata": {},
     "output_type": "display_data"
    }
   ],
   "source": [
    "jp_genre = data_actual.pivot_table(index='genre', values='jp_sales', aggfunc=['count','sum'])\n",
    "jp_genre.columns = ['number_of_games', 'total_sales']\n",
    "jp_genre['share'] = jp_genre['total_sales']/ jp_genre['total_sales'].sum()\n",
    "display(jp_genre.sort_values(by='total_sales', ascending=False))\n",
    "fig = px.pie(jp_genre, values=jp_genre['share'], names=jp_genre.index)\n",
    "fig.show('svg')"
   ]
  },
  {
   "cell_type": "code",
   "execution_count": 46,
   "metadata": {},
   "outputs": [
    {
     "data": {
      "text/html": [
       "<div>\n",
       "<style scoped>\n",
       "    .dataframe tbody tr th:only-of-type {\n",
       "        vertical-align: middle;\n",
       "    }\n",
       "\n",
       "    .dataframe tbody tr th {\n",
       "        vertical-align: top;\n",
       "    }\n",
       "\n",
       "    .dataframe thead th {\n",
       "        text-align: right;\n",
       "    }\n",
       "</style>\n",
       "<table border=\"1\" class=\"dataframe\">\n",
       "  <thead>\n",
       "    <tr style=\"text-align: right;\">\n",
       "      <th></th>\n",
       "      <th>number_of_games</th>\n",
       "      <th>total_sales</th>\n",
       "      <th>share</th>\n",
       "    </tr>\n",
       "    <tr>\n",
       "      <th>rating</th>\n",
       "      <th></th>\n",
       "      <th></th>\n",
       "      <th></th>\n",
       "    </tr>\n",
       "  </thead>\n",
       "  <tbody>\n",
       "    <tr>\n",
       "      <th>T</th>\n",
       "      <td>333</td>\n",
       "      <td>20.59</td>\n",
       "      <td>0.369460</td>\n",
       "    </tr>\n",
       "    <tr>\n",
       "      <th>E</th>\n",
       "      <td>302</td>\n",
       "      <td>15.14</td>\n",
       "      <td>0.271667</td>\n",
       "    </tr>\n",
       "    <tr>\n",
       "      <th>M</th>\n",
       "      <td>369</td>\n",
       "      <td>14.11</td>\n",
       "      <td>0.253185</td>\n",
       "    </tr>\n",
       "    <tr>\n",
       "      <th>E10+</th>\n",
       "      <td>252</td>\n",
       "      <td>5.89</td>\n",
       "      <td>0.105688</td>\n",
       "    </tr>\n",
       "  </tbody>\n",
       "</table>\n",
       "</div>"
      ],
      "text/plain": [
       "        number_of_games  total_sales     share\n",
       "rating                                        \n",
       "T                   333        20.59  0.369460\n",
       "E                   302        15.14  0.271667\n",
       "M                   369        14.11  0.253185\n",
       "E10+                252         5.89  0.105688"
      ]
     },
     "metadata": {},
     "output_type": "display_data"
    },
    {
     "data": {
      "image/svg+xml": [
       "<svg class=\"main-svg\" xmlns=\"http://www.w3.org/2000/svg\" xmlns:xlink=\"http://www.w3.org/1999/xlink\" width=\"700\" height=\"500\" style=\"\" viewBox=\"0 0 700 500\"><rect x=\"0\" y=\"0\" width=\"700\" height=\"500\" style=\"fill: rgb(255, 255, 255); fill-opacity: 1;\"/><defs id=\"defs-bdb185\"><g class=\"clips\"/><g class=\"gradients\"/><g class=\"patterns\"/></defs><g class=\"bglayer\"/><g class=\"layer-below\"><g class=\"imagelayer\"/><g class=\"shapelayer\"/></g><g class=\"cartesianlayer\"/><g class=\"polarlayer\"/><g class=\"smithlayer\"/><g class=\"ternarylayer\"/><g class=\"geolayer\"/><g class=\"funnelarealayer\"/><g class=\"pielayer\"><g class=\"trace\" stroke-linejoin=\"round\" style=\"opacity: 1;\"><g class=\"slice\"><path class=\"surface\" d=\"M340,240l0,-180a180,180 0 0 1 131.63174760321436,302.77248479575405Z\" style=\"pointer-events: all; stroke-width: 0; fill: rgb(99, 110, 250); fill-opacity: 1; stroke: rgb(68, 68, 68); stroke-opacity: 1;\"/><g class=\"slicetext\"><text data-notex=\"1\" class=\"slicetext\" transform=\"translate(426.0681142651449,207.06450394948877)\" text-anchor=\"middle\" x=\"0\" y=\"0\" style=\"font-family: 'Open Sans', verdana, arial, sans-serif; font-size: 12px; fill: rgb(255, 255, 255); fill-opacity: 1; white-space: pre;\">36.9%</text></g></g><g class=\"slice\"><path class=\"surface\" d=\"M340,240l-178.33456538147175,24.42913813873861a180,180 0 0 1 178.33456538147175,-204.4291381387386Z\" style=\"pointer-events: all; stroke-width: 0; fill: rgb(239, 85, 59); fill-opacity: 1; stroke: rgb(68, 68, 68); stroke-opacity: 1;\"/><g class=\"slicetext\"><text data-notex=\"1\" class=\"slicetext\" transform=\"translate(262.6090296034916,177.02175789740096)\" text-anchor=\"middle\" x=\"0\" y=\"0\" style=\"font-family: 'Open Sans', verdana, arial, sans-serif; font-size: 12px; fill: rgb(68, 68, 68); fill-opacity: 1; white-space: pre;\">27.2%</text></g></g><g class=\"slice\"><path class=\"surface\" d=\"M340,240l27.992828983377425,177.81001525647363a180,180 0 0 1 -206.32739436484917,-153.38087711773503Z\" style=\"pointer-events: all; stroke-width: 0; fill: rgb(0, 204, 150); fill-opacity: 1; stroke: rgb(68, 68, 68); stroke-opacity: 1;\"/><g class=\"slicetext\"><text data-notex=\"1\" class=\"slicetext\" transform=\"translate(277.31312291061954,328.7736108293154)\" text-anchor=\"middle\" x=\"0\" y=\"0\" style=\"font-family: 'Open Sans', verdana, arial, sans-serif; font-size: 12px; fill: rgb(68, 68, 68); fill-opacity: 1; white-space: pre;\">25.3%</text></g></g><g class=\"slice\"><path class=\"surface\" d=\"M340,240l131.63174760321434,122.77248479575411a180,180 0 0 1 -103.63891861983691,55.03753046071952Z\" style=\"pointer-events: all; stroke-width: 0; fill: rgb(171, 99, 250); fill-opacity: 1; stroke: rgb(68, 68, 68); stroke-opacity: 1;\"/><g class=\"slicetext\"><text data-notex=\"1\" class=\"slicetext\" transform=\"translate(403.63036753789595,364.39329504851906)\" text-anchor=\"middle\" x=\"0\" y=\"0\" style=\"font-family: 'Open Sans', verdana, arial, sans-serif; font-size: 12px; fill: rgb(68, 68, 68); fill-opacity: 1; white-space: pre;\">10.6%</text></g></g></g></g><g class=\"iciclelayer\"/><g class=\"treemaplayer\"/><g class=\"sunburstlayer\"/><g class=\"glimages\"/><defs id=\"topdefs-bdb185\"><g class=\"clips\"/><clipPath id=\"legendbdb185\"><rect width=\"78\" height=\"86\" x=\"0\" y=\"0\"/></clipPath></defs><g class=\"layer-above\"><g class=\"imagelayer\"/><g class=\"shapelayer\"/></g><g class=\"infolayer\"><g class=\"legend\" pointer-events=\"all\" transform=\"translate(610.4,60)\"><rect class=\"bg\" shape-rendering=\"crispEdges\" width=\"78\" height=\"86\" x=\"0\" y=\"0\" style=\"stroke: rgb(68, 68, 68); stroke-opacity: 1; fill: rgb(255, 255, 255); fill-opacity: 1; stroke-width: 0px;\"/><g class=\"scrollbox\" transform=\"\" clip-path=\"url(#legendbdb185)\"><g class=\"groups\"><g class=\"traces\" transform=\"translate(0,14.5)\" style=\"opacity: 1;\"><text class=\"legendtext\" text-anchor=\"start\" x=\"40\" y=\"4.680000000000001\" style=\"font-family: 'Open Sans', verdana, arial, sans-serif; font-size: 12px; fill: rgb(42, 63, 95); fill-opacity: 1; white-space: pre;\">T</text><g class=\"layers\" style=\"opacity: 1;\"><g class=\"legendfill\"/><g class=\"legendlines\"/><g class=\"legendsymbols\"><g class=\"legendpoints\"><path class=\"legendpie\" d=\"M6,6H-6V-6H6Z\" transform=\"translate(20,0)\" style=\"stroke-width: 0; fill: rgb(99, 110, 250); fill-opacity: 1; stroke: rgb(68, 68, 68); stroke-opacity: 1;\"/></g></g></g><rect class=\"legendtoggle\" x=\"0\" y=\"-9.5\" width=\"72.671875\" height=\"19\" style=\"fill: rgb(0, 0, 0); fill-opacity: 0;\"/></g><g class=\"traces\" transform=\"translate(0,33.5)\" style=\"opacity: 1;\"><text class=\"legendtext\" text-anchor=\"start\" x=\"40\" y=\"4.680000000000001\" style=\"font-family: 'Open Sans', verdana, arial, sans-serif; font-size: 12px; fill: rgb(42, 63, 95); fill-opacity: 1; white-space: pre;\">E</text><g class=\"layers\" style=\"opacity: 1;\"><g class=\"legendfill\"/><g class=\"legendlines\"/><g class=\"legendsymbols\"><g class=\"legendpoints\"><path class=\"legendpie\" d=\"M6,6H-6V-6H6Z\" transform=\"translate(20,0)\" style=\"stroke-width: 0; fill: rgb(239, 85, 59); fill-opacity: 1; stroke: rgb(68, 68, 68); stroke-opacity: 1;\"/></g></g></g><rect class=\"legendtoggle\" x=\"0\" y=\"-9.5\" width=\"72.671875\" height=\"19\" style=\"fill: rgb(0, 0, 0); fill-opacity: 0;\"/></g><g class=\"traces\" transform=\"translate(0,52.5)\" style=\"opacity: 1;\"><text class=\"legendtext\" text-anchor=\"start\" x=\"40\" y=\"4.680000000000001\" style=\"font-family: 'Open Sans', verdana, arial, sans-serif; font-size: 12px; fill: rgb(42, 63, 95); fill-opacity: 1; white-space: pre;\">M</text><g class=\"layers\" style=\"opacity: 1;\"><g class=\"legendfill\"/><g class=\"legendlines\"/><g class=\"legendsymbols\"><g class=\"legendpoints\"><path class=\"legendpie\" d=\"M6,6H-6V-6H6Z\" transform=\"translate(20,0)\" style=\"stroke-width: 0; fill: rgb(0, 204, 150); fill-opacity: 1; stroke: rgb(68, 68, 68); stroke-opacity: 1;\"/></g></g></g><rect class=\"legendtoggle\" x=\"0\" y=\"-9.5\" width=\"72.671875\" height=\"19\" style=\"fill: rgb(0, 0, 0); fill-opacity: 0;\"/></g><g class=\"traces\" transform=\"translate(0,71.5)\" style=\"opacity: 1;\"><text class=\"legendtext\" text-anchor=\"start\" x=\"40\" y=\"4.680000000000001\" style=\"font-family: 'Open Sans', verdana, arial, sans-serif; font-size: 12px; fill: rgb(42, 63, 95); fill-opacity: 1; white-space: pre;\">E10+</text><g class=\"layers\" style=\"opacity: 1;\"><g class=\"legendfill\"/><g class=\"legendlines\"/><g class=\"legendsymbols\"><g class=\"legendpoints\"><path class=\"legendpie\" d=\"M6,6H-6V-6H6Z\" transform=\"translate(20,0)\" style=\"stroke-width: 0; fill: rgb(171, 99, 250); fill-opacity: 1; stroke: rgb(68, 68, 68); stroke-opacity: 1;\"/></g></g></g><rect class=\"legendtoggle\" x=\"0\" y=\"-9.5\" width=\"72.671875\" height=\"19\" style=\"fill: rgb(0, 0, 0); fill-opacity: 0;\"/></g></g></g><rect class=\"scrollbar\" rx=\"20\" ry=\"3\" width=\"0\" height=\"0\" x=\"0\" y=\"0\" style=\"fill: rgb(128, 139, 164); fill-opacity: 1;\"/></g><g class=\"g-gtitle\"/></g></svg>"
      ]
     },
     "metadata": {},
     "output_type": "display_data"
    }
   ],
   "source": [
    "jp_rating = data_actual.pivot_table(index='rating', values='jp_sales', aggfunc=['count','sum'])\n",
    "jp_rating.columns = ['number_of_games', 'total_sales']\n",
    "jp_rating['share'] = jp_rating['total_sales']/ jp_rating['total_sales'].sum()\n",
    "display(jp_rating.sort_values(by='total_sales', ascending=False))\n",
    "fig = px.pie(jp_rating, values=jp_rating['share'], names=jp_rating.index)\n",
    "fig.show('svg')"
   ]
  },
  {
   "cell_type": "markdown",
   "metadata": {},
   "source": [
    "**Выводы по Японии**"
   ]
  },
  {
   "cell_type": "markdown",
   "metadata": {},
   "source": [
    "* Наиболее популярная платформа в Японии - 3DS (48% рынка). Далее идут PS3 (17%), PSV (13%), PS4 (11%), WiiU (8%).\n",
    "\n",
    "* Самый популярный жанр - Role-Playing (36%). Далее следуют Action (29%), Misc (7%), Fighting (5%) и Shooter (5%).\n",
    "\n",
    "* Наиболее популярны в Японии игры для тинейджеров (Т) - 37% рынка. Далее идут игры без возрастного ограничения (27%), игры для взрослых (25%) и игры 10+ (11%)."
   ]
  },
  {
   "cell_type": "markdown",
   "metadata": {},
   "source": [
    "## Проверка гипотез"
   ]
  },
  {
   "cell_type": "markdown",
   "metadata": {},
   "source": [
    "### Средние пользовательские рейтинги платформ Xbox One и PC одинаковые"
   ]
  },
  {
   "cell_type": "markdown",
   "metadata": {},
   "source": [
    "**H0: средние пользовательские рейтинги платформ Xbox One и PC одинаковые**\n",
    "\n",
    "**H1: средние пользовательские рейтинги платформ Xbox One и PC отличаются**"
   ]
  },
  {
   "cell_type": "code",
   "execution_count": 47,
   "metadata": {},
   "outputs": [],
   "source": [
    "xone = data_actual.query('platform == \"XOne\"').dropna(subset=['user_score'])\n",
    "pc = data_actual.query('platform == \"PC\"').dropna(subset=['user_score'])"
   ]
  },
  {
   "cell_type": "code",
   "execution_count": 48,
   "metadata": {},
   "outputs": [
    {
     "data": {
      "image/png": "[encoded data removed]",
      "text/plain": [
       "<Figure size 1152x432 with 2 Axes>"
      ]
     },
     "metadata": {
      "needs_background": "light"
     },
     "output_type": "display_data"
    }
   ],
   "source": [
    "plt.figure(figsize=(16,6))\n",
    "plt.subplot(1,2,1)\n",
    "plt.title('XBox One')\n",
    "plt.hist(xone['user_score'], bins=20, alpha=0.8)\n",
    "plt.xlabel('Оценка пользователей')\n",
    "plt.ylabel('Частота')\n",
    "\n",
    "plt.subplot(1,2,2)\n",
    "plt.title('PC')\n",
    "plt.hist(pc['user_score'], bins=20, alpha=0.8)\n",
    "plt.xlabel('Оценка пользователей')\n",
    "plt.ylabel('Частота')\n",
    "plt.show()"
   ]
  },
  {
   "cell_type": "code",
   "execution_count": 49,
   "metadata": {},
   "outputs": [
    {
     "data": {
      "text/plain": [
       "count    182.000000\n",
       "mean       6.521429\n",
       "std        1.380941\n",
       "min        1.600000\n",
       "25%        5.800000\n",
       "50%        6.800000\n",
       "75%        7.500000\n",
       "max        9.200000\n",
       "Name: user_score, dtype: float64"
      ]
     },
     "execution_count": 49,
     "metadata": {},
     "output_type": "execute_result"
    }
   ],
   "source": [
    "xone['user_score'].describe()"
   ]
  },
  {
   "cell_type": "code",
   "execution_count": 50,
   "metadata": {},
   "outputs": [
    {
     "data": {
      "text/plain": [
       "count    155.000000\n",
       "mean       6.269677\n",
       "std        1.742381\n",
       "min        1.400000\n",
       "25%        5.300000\n",
       "50%        6.800000\n",
       "75%        7.600000\n",
       "max        9.300000\n",
       "Name: user_score, dtype: float64"
      ]
     },
     "execution_count": 50,
     "metadata": {},
     "output_type": "execute_result"
    }
   ],
   "source": [
    "pc['user_score'].describe()"
   ]
  },
  {
   "cell_type": "markdown",
   "metadata": {},
   "source": [
    "Проводим t-тест с уровнем значимости 0.05. Т.к. стандартные отклонения распределений отличаются, то параметр `equal_var = False`"
   ]
  },
  {
   "cell_type": "code",
   "execution_count": 51,
   "metadata": {},
   "outputs": [
    {
     "name": "stdout",
     "output_type": "stream",
     "text": [
      "pvalue:  0.14759594013430463\n",
      "H0 верна\n"
     ]
    }
   ],
   "source": [
    "alpha = 0.05\n",
    "results = st.ttest_ind(xone['user_score'], pc['user_score'], equal_var = False)\n",
    "print('pvalue: ', results.pvalue)\n",
    "if results.pvalue < alpha:\n",
    "    print('H0 неверна')\n",
    "else:\n",
    "    print('H0 верна')"
   ]
  },
  {
   "cell_type": "markdown",
   "metadata": {},
   "source": [
    "**Вывод** \n",
    "\n",
    "Статистически значимой разницы между средними пользовательскими рейтингами платформ XOne и PC не обнаружено."
   ]
  },
  {
   "cell_type": "markdown",
   "metadata": {},
   "source": [
    "###  Средние пользовательские рейтинги жанров Action и Sports разные"
   ]
  },
  {
   "cell_type": "markdown",
   "metadata": {},
   "source": [
    "**H0: средние пользовательские рейтинги жанров Action и Sports одинаковые.**\n",
    "\n",
    "**H1: средние пользовательские рейтинги жанров Action и Sports разные.**"
   ]
  },
  {
   "cell_type": "code",
   "execution_count": 52,
   "metadata": {},
   "outputs": [],
   "source": [
    "action = data_actual.query('genre == \"Action\"').dropna(subset=['user_score'])\n",
    "sports = data_actual.query('genre == \"Sports\"').dropna(subset=['user_score'])"
   ]
  },
  {
   "cell_type": "code",
   "execution_count": 53,
   "metadata": {},
   "outputs": [
    {
     "data": {
      "image/png": "[encoded data removed]",
      "text/plain": [
       "<Figure size 1152x432 with 2 Axes>"
      ]
     },
     "metadata": {
      "needs_background": "light"
     },
     "output_type": "display_data"
    }
   ],
   "source": [
    "plt.figure(figsize=(16,6))\n",
    "plt.subplot(1,2,1)\n",
    "plt.title('Action')\n",
    "plt.hist(action['user_score'], bins=20, alpha=0.8)\n",
    "plt.xlabel('Оценка пользователей')\n",
    "plt.ylabel('Частота')\n",
    "\n",
    "plt.subplot(1,2,2)\n",
    "plt.title('Sports')\n",
    "plt.hist(sports['user_score'], bins=20, alpha=0.8)\n",
    "plt.xlabel('Оценка пользователей')\n",
    "plt.ylabel('Частота')\n",
    "plt.show()"
   ]
  },
  {
   "cell_type": "code",
   "execution_count": 54,
   "metadata": {},
   "outputs": [
    {
     "data": {
      "text/plain": [
       "count    389.000000\n",
       "mean       6.837532\n",
       "std        1.330173\n",
       "min        2.000000\n",
       "25%        6.300000\n",
       "50%        7.100000\n",
       "75%        7.800000\n",
       "max        9.100000\n",
       "Name: user_score, dtype: float64"
      ]
     },
     "execution_count": 54,
     "metadata": {},
     "output_type": "execute_result"
    }
   ],
   "source": [
    "action['user_score'].describe()"
   ]
  },
  {
   "cell_type": "code",
   "execution_count": 55,
   "metadata": {},
   "outputs": [
    {
     "data": {
      "text/plain": [
       "count    160.000000\n",
       "mean       5.238125\n",
       "std        1.783427\n",
       "min        0.200000\n",
       "25%        4.100000\n",
       "50%        5.500000\n",
       "75%        6.500000\n",
       "max        8.800000\n",
       "Name: user_score, dtype: float64"
      ]
     },
     "execution_count": 55,
     "metadata": {},
     "output_type": "execute_result"
    }
   ],
   "source": [
    "sports['user_score'].describe()"
   ]
  },
  {
   "cell_type": "code",
   "execution_count": 56,
   "metadata": {},
   "outputs": [
    {
     "name": "stdout",
     "output_type": "stream",
     "text": [
      "pvalue:  1.4460039700704318e-20\n",
      "H0 неверна\n"
     ]
    }
   ],
   "source": [
    "alpha = 0.05\n",
    "results = st.ttest_ind(action['user_score'], sports['user_score'], equal_var = False)\n",
    "print('pvalue: ', results.pvalue)\n",
    "if results.pvalue < alpha:\n",
    "    print('H0 неверна')\n",
    "else:\n",
    "    print('H0 верна')"
   ]
  },
  {
   "cell_type": "markdown",
   "metadata": {},
   "source": [
    "**Вывод**\n",
    "\n",
    "Средние пользовательские рейтинги жанров Action и Sports отличаются."
   ]
  },
  {
   "cell_type": "markdown",
   "metadata": {},
   "source": [
    "## Что было сделано"
   ]
  },
  {
   "cell_type": "markdown",
   "metadata": {},
   "source": [
    "**Предобработку данных осуществили следующими методами:**\n",
    "\n",
    "* Свели названия столбцов к нижнему регистру, чтобы привести их к стандартной форме.\n",
    "* Изменили типы значений в столбцах на более подходящие.\n",
    "\n",
    "**Провели следующие расчеты и анализ:**\n",
    "\n",
    "* Посчитали общее число продаж в мире и вынесли в отдельный столбец.\n",
    "* Исследовали количество выпускаемых игр по годам.\n",
    "* Исследовали количество выпускаемых игр по платформам, определили наиболее популярные платформы и их \"продолжительность жизни\".\n",
    "* Определили актуальный период, на основании которого можно строить прогнозы.\n",
    "* Определили наиболее перспективные платформы.\n",
    "* Исследовали зависимость продаж от оценок критиков и пользователей.\n",
    "* Исследовали зависимость продаж от жанра игры.\n",
    "* Составили портреты пользователей из Северной Америки, Европы и Японии.\n",
    "\n",
    "**Проверили следующие гипотезы:**\n",
    "\n",
    "* Гипотеза №1: \"Средние пользовательские рейтинги платформ Xbox One и PC одинаковые.\". Гипотеза оказалась верна.\n",
    "* Гипотеза №2: \"Средние пользовательские рейтинги жанров Action и Sports разные.\". Гипотеза оказалась верна."
   ]
  },
  {
   "cell_type": "markdown",
   "metadata": {},
   "source": [
    "## Общий вывод"
   ]
  },
  {
   "cell_type": "markdown",
   "metadata": {},
   "source": [
    "**Общемировые продажи**\n",
    "1) За актуальный период наибольшие продажи были у игр на PS4, XOne и 3DS. Несмотря на общий нисходящий тренд, эти платформы будут актуальными еще 2-3 года. Игры для PS3 также хорошо продавались, но к концу актуального периода продажи сильно упали, поэтому в дальнейшем нет смысла делать ставку на данную платформу.\n",
    "\n",
    "2) Продажи игр коррелируют с оценками критиков. Наибольшее внимание стоит уделить играм с высокими оценками.\n",
    "\n",
    "3) Наиболее прибыльные жанры: Shooter, Sports, Platform, Role-Playing и Racing.\n",
    "\n",
    "**Специфика регионов**\n",
    "* Северная Америка и Европа:\n",
    " \n",
    "Наиболее популярные платформы - PS4 и XOne. Наиболее прибыльные жанры: Action, Shooter, Sports, Role-Playing. Лучше всего продаются игры для взрослых (M) и для всех возрастов (E).\n",
    " \n",
    " * Япония\n",
    " \n",
    "Почти половину рынка занимает платформа 3DS, также популярны платформы от PlayStation. Платформ XBox практически нет. Наиболее популярные жанры: Role-Playing, Action, Misc, Fighting и Shooter. Среди возрастных категория наиболее популярны T, E и M.\n",
    " "
   ]
  }
 ],
 "metadata": {
  "ExecuteTimeLog": [
   {
    "duration": 18865,
    "start_time": "2022-02-14T12:51:36.454Z"
   },
   {
    "duration": -982,
    "start_time": "2022-02-14T12:51:56.305Z"
   },
   {
    "duration": -986,
    "start_time": "2022-02-14T12:51:56.310Z"
   },
   {
    "duration": -993,
    "start_time": "2022-02-14T12:51:56.318Z"
   },
   {
    "duration": -994,
    "start_time": "2022-02-14T12:51:56.321Z"
   },
   {
    "duration": -997,
    "start_time": "2022-02-14T12:51:56.325Z"
   },
   {
    "duration": -998,
    "start_time": "2022-02-14T12:51:56.328Z"
   },
   {
    "duration": -1002,
    "start_time": "2022-02-14T12:51:56.333Z"
   },
   {
    "duration": -1029,
    "start_time": "2022-02-14T12:51:56.362Z"
   },
   {
    "duration": -1038,
    "start_time": "2022-02-14T12:51:56.372Z"
   },
   {
    "duration": -1040,
    "start_time": "2022-02-14T12:51:56.376Z"
   },
   {
    "duration": -1050,
    "start_time": "2022-02-14T12:51:56.387Z"
   },
   {
    "duration": -1051,
    "start_time": "2022-02-14T12:51:56.390Z"
   },
   {
    "duration": -1054,
    "start_time": "2022-02-14T12:51:56.394Z"
   },
   {
    "duration": -1062,
    "start_time": "2022-02-14T12:51:56.404Z"
   },
   {
    "duration": -1065,
    "start_time": "2022-02-14T12:51:56.408Z"
   },
   {
    "duration": -1074,
    "start_time": "2022-02-14T12:51:56.418Z"
   },
   {
    "duration": 5603,
    "start_time": "2022-02-14T12:52:31.996Z"
   },
   {
    "duration": 21,
    "start_time": "2022-02-14T12:52:37.601Z"
   },
   {
    "duration": 18,
    "start_time": "2022-02-14T12:52:37.624Z"
   },
   {
    "duration": 18,
    "start_time": "2022-02-14T12:52:37.644Z"
   },
   {
    "duration": 29,
    "start_time": "2022-02-14T12:52:37.664Z"
   },
   {
    "duration": 18,
    "start_time": "2022-02-14T12:52:37.695Z"
   },
   {
    "duration": 19,
    "start_time": "2022-02-14T12:52:37.714Z"
   },
   {
    "duration": 19,
    "start_time": "2022-02-14T12:52:37.735Z"
   },
   {
    "duration": 20,
    "start_time": "2022-02-14T12:52:37.756Z"
   },
   {
    "duration": 20,
    "start_time": "2022-02-14T12:52:37.778Z"
   },
   {
    "duration": 22,
    "start_time": "2022-02-14T12:52:37.800Z"
   },
   {
    "duration": 27,
    "start_time": "2022-02-14T12:52:37.824Z"
   },
   {
    "duration": 30,
    "start_time": "2022-02-14T12:52:37.853Z"
   },
   {
    "duration": 19,
    "start_time": "2022-02-14T12:52:37.884Z"
   },
   {
    "duration": 44,
    "start_time": "2022-02-14T12:52:37.905Z"
   },
   {
    "duration": 292,
    "start_time": "2022-02-14T12:52:37.952Z"
   },
   {
    "duration": 481,
    "start_time": "2022-02-14T12:52:38.246Z"
   },
   {
    "duration": 19,
    "start_time": "2022-02-14T12:56:42.440Z"
   },
   {
    "duration": 31,
    "start_time": "2022-02-14T12:56:43.552Z"
   },
   {
    "duration": 18,
    "start_time": "2022-02-14T12:58:21.645Z"
   },
   {
    "duration": 30,
    "start_time": "2022-02-14T12:58:23.975Z"
   },
   {
    "duration": 10,
    "start_time": "2022-02-14T12:58:36.387Z"
   },
   {
    "duration": 8,
    "start_time": "2022-02-14T12:58:38.942Z"
   },
   {
    "duration": 14,
    "start_time": "2022-02-14T12:59:17.139Z"
   },
   {
    "duration": 15,
    "start_time": "2022-02-14T12:59:51.895Z"
   },
   {
    "duration": 18,
    "start_time": "2022-02-14T13:02:45.321Z"
   },
   {
    "duration": 18,
    "start_time": "2022-02-14T13:03:11.664Z"
   },
   {
    "duration": 73,
    "start_time": "2022-02-14T13:03:45.262Z"
   },
   {
    "duration": 110,
    "start_time": "2022-02-14T13:04:52.387Z"
   },
   {
    "duration": 117,
    "start_time": "2022-02-14T13:08:52.722Z"
   },
   {
    "duration": 65,
    "start_time": "2022-02-14T13:13:45.523Z"
   },
   {
    "duration": 59,
    "start_time": "2022-02-14T13:13:51.118Z"
   },
   {
    "duration": 17,
    "start_time": "2022-02-14T13:15:42.070Z"
   },
   {
    "duration": 16,
    "start_time": "2022-02-14T13:15:52.129Z"
   },
   {
    "duration": 65,
    "start_time": "2022-02-14T13:16:55.956Z"
   },
   {
    "duration": 195,
    "start_time": "2022-02-14T13:18:44.666Z"
   },
   {
    "duration": 181,
    "start_time": "2022-02-14T13:19:07.635Z"
   },
   {
    "duration": 291,
    "start_time": "2022-02-14T13:19:11.737Z"
   },
   {
    "duration": 216,
    "start_time": "2022-02-14T13:19:19.705Z"
   },
   {
    "duration": 188,
    "start_time": "2022-02-14T13:19:32.802Z"
   },
   {
    "duration": 185,
    "start_time": "2022-02-14T13:20:55.649Z"
   },
   {
    "duration": 187,
    "start_time": "2022-02-14T13:21:08.861Z"
   },
   {
    "duration": 22,
    "start_time": "2022-02-14T13:21:56.845Z"
   },
   {
    "duration": 13,
    "start_time": "2022-02-14T13:23:37.578Z"
   },
   {
    "duration": 15,
    "start_time": "2022-02-14T13:24:05.547Z"
   },
   {
    "duration": 15,
    "start_time": "2022-02-14T13:24:22.557Z"
   },
   {
    "duration": 14,
    "start_time": "2022-02-14T13:24:31.916Z"
   },
   {
    "duration": 14,
    "start_time": "2022-02-14T13:29:57.013Z"
   },
   {
    "duration": 65,
    "start_time": "2022-02-14T13:30:48.576Z"
   },
   {
    "duration": 70,
    "start_time": "2022-02-14T13:31:49.444Z"
   },
   {
    "duration": 57,
    "start_time": "2022-02-14T13:32:47.358Z"
   },
   {
    "duration": 348,
    "start_time": "2022-02-14T13:38:19.856Z"
   },
   {
    "duration": 5589,
    "start_time": "2022-02-14T13:38:30.177Z"
   },
   {
    "duration": 22,
    "start_time": "2022-02-14T13:38:35.768Z"
   },
   {
    "duration": 31,
    "start_time": "2022-02-14T13:38:35.792Z"
   },
   {
    "duration": 12,
    "start_time": "2022-02-14T13:38:35.825Z"
   },
   {
    "duration": 16,
    "start_time": "2022-02-14T13:38:35.839Z"
   },
   {
    "duration": 27,
    "start_time": "2022-02-14T13:38:35.856Z"
   },
   {
    "duration": 9,
    "start_time": "2022-02-14T13:38:35.885Z"
   },
   {
    "duration": 13,
    "start_time": "2022-02-14T13:38:35.896Z"
   },
   {
    "duration": 25,
    "start_time": "2022-02-14T13:38:35.911Z"
   },
   {
    "duration": 35,
    "start_time": "2022-02-14T13:38:35.938Z"
   },
   {
    "duration": 28,
    "start_time": "2022-02-14T13:38:35.975Z"
   },
   {
    "duration": 16,
    "start_time": "2022-02-14T13:38:36.005Z"
   },
   {
    "duration": 22,
    "start_time": "2022-02-14T13:38:36.022Z"
   },
   {
    "duration": 13,
    "start_time": "2022-02-14T13:38:36.045Z"
   },
   {
    "duration": 25,
    "start_time": "2022-02-14T13:38:36.060Z"
   },
   {
    "duration": 285,
    "start_time": "2022-02-14T13:38:36.088Z"
   },
   {
    "duration": 15,
    "start_time": "2022-02-14T13:38:36.375Z"
   },
   {
    "duration": 32,
    "start_time": "2022-02-14T13:38:36.392Z"
   },
   {
    "duration": 469,
    "start_time": "2022-02-14T13:38:36.426Z"
   },
   {
    "duration": 64,
    "start_time": "2022-02-14T13:38:36.896Z"
   },
   {
    "duration": 170,
    "start_time": "2022-02-14T13:38:36.962Z"
   },
   {
    "duration": 215,
    "start_time": "2022-02-14T13:38:37.134Z"
   },
   {
    "duration": 23,
    "start_time": "2022-02-14T13:38:37.352Z"
   },
   {
    "duration": 13,
    "start_time": "2022-02-14T13:38:37.377Z"
   },
   {
    "duration": 36,
    "start_time": "2022-02-14T13:38:37.392Z"
   },
   {
    "duration": 66,
    "start_time": "2022-02-14T13:38:37.430Z"
   },
   {
    "duration": 85,
    "start_time": "2022-02-14T13:38:37.498Z"
   },
   {
    "duration": 77,
    "start_time": "2022-02-14T13:38:37.584Z"
   },
   {
    "duration": 17,
    "start_time": "2022-02-14T13:41:39.596Z"
   },
   {
    "duration": 66,
    "start_time": "2022-02-14T13:48:11.039Z"
   },
   {
    "duration": 13,
    "start_time": "2022-02-14T13:48:14.140Z"
   },
   {
    "duration": 14,
    "start_time": "2022-02-14T13:50:29.126Z"
   },
   {
    "duration": 466,
    "start_time": "2022-02-14T13:53:27.955Z"
   },
   {
    "duration": 478,
    "start_time": "2022-02-14T13:54:38.707Z"
   },
   {
    "duration": 284,
    "start_time": "2022-02-14T14:00:13.608Z"
   },
   {
    "duration": 312,
    "start_time": "2022-02-14T14:00:30.228Z"
   },
   {
    "duration": 6277,
    "start_time": "2022-02-14T14:03:31.235Z"
   },
   {
    "duration": 469,
    "start_time": "2022-02-14T14:05:06.659Z"
   },
   {
    "duration": 362,
    "start_time": "2022-02-14T14:05:51.107Z"
   },
   {
    "duration": 6129,
    "start_time": "2022-02-14T14:06:43.726Z"
   },
   {
    "duration": 25,
    "start_time": "2022-02-14T14:06:49.857Z"
   },
   {
    "duration": 13,
    "start_time": "2022-02-14T14:06:49.884Z"
   },
   {
    "duration": 24,
    "start_time": "2022-02-14T14:06:49.899Z"
   },
   {
    "duration": 9,
    "start_time": "2022-02-14T14:06:49.925Z"
   },
   {
    "duration": 21,
    "start_time": "2022-02-14T14:06:49.936Z"
   },
   {
    "duration": 9,
    "start_time": "2022-02-14T14:06:49.959Z"
   },
   {
    "duration": 8,
    "start_time": "2022-02-14T14:06:49.971Z"
   },
   {
    "duration": 12,
    "start_time": "2022-02-14T14:06:49.981Z"
   },
   {
    "duration": 35,
    "start_time": "2022-02-14T14:06:49.995Z"
   },
   {
    "duration": 14,
    "start_time": "2022-02-14T14:06:50.032Z"
   },
   {
    "duration": 18,
    "start_time": "2022-02-14T14:06:50.048Z"
   },
   {
    "duration": 18,
    "start_time": "2022-02-14T14:06:50.068Z"
   },
   {
    "duration": 12,
    "start_time": "2022-02-14T14:06:50.088Z"
   },
   {
    "duration": 33,
    "start_time": "2022-02-14T14:06:50.102Z"
   },
   {
    "duration": 330,
    "start_time": "2022-02-14T14:06:50.137Z"
   },
   {
    "duration": 16,
    "start_time": "2022-02-14T14:06:50.469Z"
   },
   {
    "duration": 36,
    "start_time": "2022-02-14T14:06:50.487Z"
   },
   {
    "duration": 513,
    "start_time": "2022-02-14T14:06:50.525Z"
   },
   {
    "duration": 198,
    "start_time": "2022-02-14T14:06:51.040Z"
   },
   {
    "duration": 109,
    "start_time": "2022-02-14T14:06:51.240Z"
   },
   {
    "duration": 216,
    "start_time": "2022-02-14T14:06:51.351Z"
   },
   {
    "duration": 24,
    "start_time": "2022-02-14T14:06:51.570Z"
   },
   {
    "duration": 32,
    "start_time": "2022-02-14T14:06:51.596Z"
   },
   {
    "duration": 18,
    "start_time": "2022-02-14T14:06:51.629Z"
   },
   {
    "duration": 93,
    "start_time": "2022-02-14T14:06:51.649Z"
   },
   {
    "duration": 89,
    "start_time": "2022-02-14T14:06:51.745Z"
   },
   {
    "duration": 65,
    "start_time": "2022-02-14T14:06:51.836Z"
   },
   {
    "duration": 921,
    "start_time": "2022-02-14T14:06:51.902Z"
   },
   {
    "duration": 613,
    "start_time": "2022-02-14T14:07:03.563Z"
   },
   {
    "duration": 5519,
    "start_time": "2022-02-14T14:07:29.045Z"
   },
   {
    "duration": 380,
    "start_time": "2022-02-14T14:07:41.568Z"
   },
   {
    "duration": 379,
    "start_time": "2022-02-14T14:07:48.927Z"
   },
   {
    "duration": 5622,
    "start_time": "2022-02-14T14:09:23.666Z"
   },
   {
    "duration": 20,
    "start_time": "2022-02-14T14:09:29.291Z"
   },
   {
    "duration": 10,
    "start_time": "2022-02-14T14:09:29.318Z"
   },
   {
    "duration": 5,
    "start_time": "2022-02-14T14:09:29.330Z"
   },
   {
    "duration": 14,
    "start_time": "2022-02-14T14:09:29.337Z"
   },
   {
    "duration": 14,
    "start_time": "2022-02-14T14:09:29.353Z"
   },
   {
    "duration": 10,
    "start_time": "2022-02-14T14:09:29.368Z"
   },
   {
    "duration": 9,
    "start_time": "2022-02-14T14:09:29.381Z"
   },
   {
    "duration": 10,
    "start_time": "2022-02-14T14:09:29.391Z"
   },
   {
    "duration": 28,
    "start_time": "2022-02-14T14:09:29.402Z"
   },
   {
    "duration": 14,
    "start_time": "2022-02-14T14:09:29.431Z"
   },
   {
    "duration": 15,
    "start_time": "2022-02-14T14:09:29.447Z"
   },
   {
    "duration": 20,
    "start_time": "2022-02-14T14:09:29.464Z"
   },
   {
    "duration": 8,
    "start_time": "2022-02-14T14:09:29.486Z"
   },
   {
    "duration": 21,
    "start_time": "2022-02-14T14:09:29.495Z"
   },
   {
    "duration": 292,
    "start_time": "2022-02-14T14:09:29.518Z"
   },
   {
    "duration": 20,
    "start_time": "2022-02-14T14:09:29.811Z"
   },
   {
    "duration": 18,
    "start_time": "2022-02-14T14:09:29.832Z"
   },
   {
    "duration": 571,
    "start_time": "2022-02-14T14:09:29.852Z"
   },
   {
    "duration": 133,
    "start_time": "2022-02-14T14:09:30.425Z"
   },
   {
    "duration": 164,
    "start_time": "2022-02-14T14:09:30.560Z"
   },
   {
    "duration": 216,
    "start_time": "2022-02-14T14:09:30.726Z"
   },
   {
    "duration": 23,
    "start_time": "2022-02-14T14:09:30.945Z"
   },
   {
    "duration": 14,
    "start_time": "2022-02-14T14:09:30.970Z"
   },
   {
    "duration": 37,
    "start_time": "2022-02-14T14:09:30.985Z"
   },
   {
    "duration": 72,
    "start_time": "2022-02-14T14:09:31.024Z"
   },
   {
    "duration": 89,
    "start_time": "2022-02-14T14:09:31.098Z"
   },
   {
    "duration": 78,
    "start_time": "2022-02-14T14:09:31.189Z"
   },
   {
    "duration": 469,
    "start_time": "2022-02-14T14:09:31.270Z"
   },
   {
    "duration": 355,
    "start_time": "2022-02-14T14:09:52.029Z"
   },
   {
    "duration": 6280,
    "start_time": "2022-02-14T14:09:58.681Z"
   },
   {
    "duration": 21,
    "start_time": "2022-02-14T14:10:04.963Z"
   },
   {
    "duration": 37,
    "start_time": "2022-02-14T14:10:04.986Z"
   },
   {
    "duration": 20,
    "start_time": "2022-02-14T14:10:05.025Z"
   },
   {
    "duration": 28,
    "start_time": "2022-02-14T14:10:05.046Z"
   },
   {
    "duration": 23,
    "start_time": "2022-02-14T14:10:05.076Z"
   },
   {
    "duration": 17,
    "start_time": "2022-02-14T14:10:05.101Z"
   },
   {
    "duration": 29,
    "start_time": "2022-02-14T14:10:05.121Z"
   },
   {
    "duration": 25,
    "start_time": "2022-02-14T14:10:05.153Z"
   },
   {
    "duration": 35,
    "start_time": "2022-02-14T14:10:05.181Z"
   },
   {
    "duration": 27,
    "start_time": "2022-02-14T14:10:05.218Z"
   },
   {
    "duration": 16,
    "start_time": "2022-02-14T14:10:05.247Z"
   },
   {
    "duration": 44,
    "start_time": "2022-02-14T14:10:05.265Z"
   },
   {
    "duration": 19,
    "start_time": "2022-02-14T14:10:05.311Z"
   },
   {
    "duration": 36,
    "start_time": "2022-02-14T14:10:05.331Z"
   },
   {
    "duration": 296,
    "start_time": "2022-02-14T14:10:05.369Z"
   },
   {
    "duration": 17,
    "start_time": "2022-02-14T14:10:05.667Z"
   },
   {
    "duration": 33,
    "start_time": "2022-02-14T14:10:05.686Z"
   },
   {
    "duration": 589,
    "start_time": "2022-02-14T14:10:05.721Z"
   },
   {
    "duration": 125,
    "start_time": "2022-02-14T14:10:06.313Z"
   },
   {
    "duration": 125,
    "start_time": "2022-02-14T14:10:06.439Z"
   },
   {
    "duration": 249,
    "start_time": "2022-02-14T14:10:06.566Z"
   },
   {
    "duration": 25,
    "start_time": "2022-02-14T14:10:06.821Z"
   },
   {
    "duration": 14,
    "start_time": "2022-02-14T14:10:06.849Z"
   },
   {
    "duration": 27,
    "start_time": "2022-02-14T14:10:06.865Z"
   },
   {
    "duration": 106,
    "start_time": "2022-02-14T14:10:06.894Z"
   },
   {
    "duration": 85,
    "start_time": "2022-02-14T14:10:07.002Z"
   },
   {
    "duration": 78,
    "start_time": "2022-02-14T14:10:07.089Z"
   },
   {
    "duration": 456,
    "start_time": "2022-02-14T14:10:07.169Z"
   },
   {
    "duration": 6,
    "start_time": "2022-02-14T14:28:52.478Z"
   },
   {
    "duration": 6121,
    "start_time": "2022-02-14T14:30:12.410Z"
   },
   {
    "duration": 67,
    "start_time": "2022-02-14T14:30:30.943Z"
   },
   {
    "duration": 10,
    "start_time": "2022-02-14T14:30:35.209Z"
   },
   {
    "duration": 870,
    "start_time": "2022-02-14T14:32:21.867Z"
   },
   {
    "duration": 869,
    "start_time": "2022-02-14T14:32:43.658Z"
   },
   {
    "duration": 624,
    "start_time": "2022-02-14T14:36:21.762Z"
   },
   {
    "duration": 8,
    "start_time": "2022-02-14T14:45:16.185Z"
   },
   {
    "duration": 931,
    "start_time": "2022-02-14T14:45:39.128Z"
   },
   {
    "duration": 969,
    "start_time": "2022-02-14T14:46:59.679Z"
   },
   {
    "duration": 1214,
    "start_time": "2022-02-14T14:56:00.929Z"
   },
   {
    "duration": 15,
    "start_time": "2022-02-14T15:07:11.314Z"
   },
   {
    "duration": 22,
    "start_time": "2022-02-14T15:07:21.879Z"
   },
   {
    "duration": 922,
    "start_time": "2022-02-14T15:08:27.397Z"
   },
   {
    "duration": 21,
    "start_time": "2022-02-14T15:08:44.904Z"
   },
   {
    "duration": 23,
    "start_time": "2022-02-14T15:08:51.677Z"
   },
   {
    "duration": 24,
    "start_time": "2022-02-14T15:09:39.396Z"
   },
   {
    "duration": 19,
    "start_time": "2022-02-14T15:09:44.775Z"
   },
   {
    "duration": 58656,
    "start_time": "2022-02-14T15:12:26.083Z"
   },
   {
    "duration": 20,
    "start_time": "2022-02-14T15:14:28.792Z"
   },
   {
    "duration": 6573,
    "start_time": "2022-02-14T15:14:32.648Z"
   },
   {
    "duration": 201,
    "start_time": "2022-02-14T15:16:09.885Z"
   },
   {
    "duration": 196,
    "start_time": "2022-02-14T15:16:21.622Z"
   },
   {
    "duration": 183,
    "start_time": "2022-02-14T15:16:38.748Z"
   },
   {
    "duration": 188,
    "start_time": "2022-02-14T15:16:48.693Z"
   },
   {
    "duration": 181,
    "start_time": "2022-02-14T15:16:54.340Z"
   },
   {
    "duration": 185,
    "start_time": "2022-02-14T15:17:52.317Z"
   },
   {
    "duration": 195,
    "start_time": "2022-02-14T15:18:13.848Z"
   },
   {
    "duration": 5899,
    "start_time": "2022-02-14T15:19:39.444Z"
   },
   {
    "duration": 23,
    "start_time": "2022-02-14T15:19:45.345Z"
   },
   {
    "duration": 32,
    "start_time": "2022-02-14T15:19:45.370Z"
   },
   {
    "duration": 14,
    "start_time": "2022-02-14T15:19:45.404Z"
   },
   {
    "duration": 5,
    "start_time": "2022-02-14T15:19:45.420Z"
   },
   {
    "duration": 8,
    "start_time": "2022-02-14T15:19:45.427Z"
   },
   {
    "duration": 29,
    "start_time": "2022-02-14T15:19:45.438Z"
   },
   {
    "duration": 8,
    "start_time": "2022-02-14T15:19:45.470Z"
   },
   {
    "duration": 9,
    "start_time": "2022-02-14T15:19:45.480Z"
   },
   {
    "duration": 23,
    "start_time": "2022-02-14T15:19:45.491Z"
   },
   {
    "duration": 7,
    "start_time": "2022-02-14T15:19:45.516Z"
   },
   {
    "duration": 12,
    "start_time": "2022-02-14T15:19:45.525Z"
   },
   {
    "duration": 18,
    "start_time": "2022-02-14T15:19:45.539Z"
   },
   {
    "duration": 9,
    "start_time": "2022-02-14T15:19:45.559Z"
   },
   {
    "duration": 23,
    "start_time": "2022-02-14T15:19:45.570Z"
   },
   {
    "duration": 328,
    "start_time": "2022-02-14T15:19:45.595Z"
   },
   {
    "duration": 15,
    "start_time": "2022-02-14T15:19:45.924Z"
   },
   {
    "duration": 17,
    "start_time": "2022-02-14T15:19:45.941Z"
   },
   {
    "duration": 535,
    "start_time": "2022-02-14T15:19:45.960Z"
   },
   {
    "duration": 143,
    "start_time": "2022-02-14T15:19:46.497Z"
   },
   {
    "duration": 126,
    "start_time": "2022-02-14T15:19:46.642Z"
   },
   {
    "duration": 228,
    "start_time": "2022-02-14T15:19:46.771Z"
   },
   {
    "duration": 33,
    "start_time": "2022-02-14T15:19:47.001Z"
   },
   {
    "duration": 24,
    "start_time": "2022-02-14T15:19:47.036Z"
   },
   {
    "duration": 32,
    "start_time": "2022-02-14T15:19:47.062Z"
   },
   {
    "duration": 104,
    "start_time": "2022-02-14T15:19:47.096Z"
   },
   {
    "duration": 75,
    "start_time": "2022-02-14T15:19:47.202Z"
   },
   {
    "duration": 76,
    "start_time": "2022-02-14T15:19:47.279Z"
   },
   {
    "duration": 449,
    "start_time": "2022-02-14T15:19:47.357Z"
   },
   {
    "duration": 12,
    "start_time": "2022-02-14T15:19:47.808Z"
   },
   {
    "duration": 907,
    "start_time": "2022-02-14T15:19:47.821Z"
   },
   {
    "duration": 918,
    "start_time": "2022-02-14T15:19:48.730Z"
   },
   {
    "duration": 1107,
    "start_time": "2022-02-14T15:19:49.650Z"
   },
   {
    "duration": 885,
    "start_time": "2022-02-14T15:19:50.759Z"
   },
   {
    "duration": 204,
    "start_time": "2022-02-14T15:19:51.647Z"
   },
   {
    "duration": 204,
    "start_time": "2022-02-14T15:19:51.852Z"
   },
   {
    "duration": 188,
    "start_time": "2022-02-14T15:21:03.513Z"
   },
   {
    "duration": 186,
    "start_time": "2022-02-14T15:21:12.874Z"
   },
   {
    "duration": 193,
    "start_time": "2022-02-14T15:21:25.997Z"
   },
   {
    "duration": 303,
    "start_time": "2022-02-14T15:21:51.895Z"
   },
   {
    "duration": 192,
    "start_time": "2022-02-14T15:24:26.134Z"
   },
   {
    "duration": 346,
    "start_time": "2022-02-14T15:36:58.771Z"
   },
   {
    "duration": 20,
    "start_time": "2022-02-14T15:37:08.115Z"
   },
   {
    "duration": 73,
    "start_time": "2022-02-14T15:37:32.726Z"
   },
   {
    "duration": 19,
    "start_time": "2022-02-14T15:37:39.338Z"
   },
   {
    "duration": 23,
    "start_time": "2022-02-14T15:37:49.669Z"
   },
   {
    "duration": 22,
    "start_time": "2022-02-14T15:38:25.787Z"
   },
   {
    "duration": 20,
    "start_time": "2022-02-14T15:38:31.777Z"
   },
   {
    "duration": 20,
    "start_time": "2022-02-14T15:38:43.041Z"
   },
   {
    "duration": 21,
    "start_time": "2022-02-14T15:38:52.180Z"
   },
   {
    "duration": 20,
    "start_time": "2022-02-14T15:39:02.597Z"
   },
   {
    "duration": 20,
    "start_time": "2022-02-14T15:40:04.926Z"
   },
   {
    "duration": 110894,
    "start_time": "2022-02-15T09:37:40.861Z"
   },
   {
    "duration": 21,
    "start_time": "2022-02-15T09:39:31.757Z"
   },
   {
    "duration": 17,
    "start_time": "2022-02-15T09:39:31.780Z"
   },
   {
    "duration": 7,
    "start_time": "2022-02-15T09:39:31.799Z"
   },
   {
    "duration": 6,
    "start_time": "2022-02-15T09:39:31.807Z"
   },
   {
    "duration": 11,
    "start_time": "2022-02-15T09:39:31.815Z"
   },
   {
    "duration": 8,
    "start_time": "2022-02-15T09:39:31.827Z"
   },
   {
    "duration": 24,
    "start_time": "2022-02-15T09:39:31.837Z"
   },
   {
    "duration": 7,
    "start_time": "2022-02-15T09:39:31.863Z"
   },
   {
    "duration": 36,
    "start_time": "2022-02-15T09:39:31.872Z"
   },
   {
    "duration": 15,
    "start_time": "2022-02-15T09:39:31.910Z"
   },
   {
    "duration": 29,
    "start_time": "2022-02-15T09:39:31.926Z"
   },
   {
    "duration": 15,
    "start_time": "2022-02-15T09:39:31.957Z"
   },
   {
    "duration": 20,
    "start_time": "2022-02-15T09:39:31.974Z"
   },
   {
    "duration": 21,
    "start_time": "2022-02-15T09:39:31.996Z"
   },
   {
    "duration": 295,
    "start_time": "2022-02-15T09:39:32.019Z"
   },
   {
    "duration": 16,
    "start_time": "2022-02-15T09:39:32.317Z"
   },
   {
    "duration": 29,
    "start_time": "2022-02-15T09:39:32.335Z"
   },
   {
    "duration": 428,
    "start_time": "2022-02-15T09:39:32.366Z"
   },
   {
    "duration": 104,
    "start_time": "2022-02-15T09:39:32.795Z"
   },
   {
    "duration": 120,
    "start_time": "2022-02-15T09:39:32.901Z"
   },
   {
    "duration": 237,
    "start_time": "2022-02-15T09:39:33.023Z"
   },
   {
    "duration": 22,
    "start_time": "2022-02-15T09:39:33.263Z"
   },
   {
    "duration": 13,
    "start_time": "2022-02-15T09:39:33.287Z"
   },
   {
    "duration": 15,
    "start_time": "2022-02-15T09:39:33.301Z"
   },
   {
    "duration": 87,
    "start_time": "2022-02-15T09:39:33.317Z"
   },
   {
    "duration": 76,
    "start_time": "2022-02-15T09:39:33.406Z"
   },
   {
    "duration": 56,
    "start_time": "2022-02-15T09:39:33.484Z"
   },
   {
    "duration": 452,
    "start_time": "2022-02-15T09:39:33.541Z"
   },
   {
    "duration": 6,
    "start_time": "2022-02-15T09:39:33.995Z"
   },
   {
    "duration": 892,
    "start_time": "2022-02-15T09:39:34.002Z"
   },
   {
    "duration": 898,
    "start_time": "2022-02-15T09:39:34.896Z"
   },
   {
    "duration": 1098,
    "start_time": "2022-02-15T09:39:35.796Z"
   },
   {
    "duration": 885,
    "start_time": "2022-02-15T09:39:36.896Z"
   },
   {
    "duration": 209,
    "start_time": "2022-02-15T09:39:37.783Z"
   },
   {
    "duration": 213,
    "start_time": "2022-02-15T09:39:37.994Z"
   },
   {
    "duration": 19,
    "start_time": "2022-02-15T09:39:38.208Z"
   },
   {
    "duration": 23,
    "start_time": "2022-02-15T09:41:56.444Z"
   },
   {
    "duration": 24,
    "start_time": "2022-02-15T09:42:15.178Z"
   },
   {
    "duration": 25,
    "start_time": "2022-02-15T09:42:21.141Z"
   },
   {
    "duration": 23,
    "start_time": "2022-02-15T09:46:40.778Z"
   },
   {
    "duration": 16,
    "start_time": "2022-02-15T09:47:08.725Z"
   },
   {
    "duration": 32,
    "start_time": "2022-02-15T09:47:23.260Z"
   },
   {
    "duration": 25,
    "start_time": "2022-02-15T09:48:08.584Z"
   },
   {
    "duration": 24,
    "start_time": "2022-02-15T09:54:55.920Z"
   },
   {
    "duration": 34,
    "start_time": "2022-02-15T10:01:42.074Z"
   },
   {
    "duration": 22,
    "start_time": "2022-02-15T10:04:34.922Z"
   },
   {
    "duration": 24,
    "start_time": "2022-02-15T10:10:10.009Z"
   },
   {
    "duration": 23,
    "start_time": "2022-02-15T10:14:14.402Z"
   },
   {
    "duration": 210752,
    "start_time": "2022-02-15T12:22:32.968Z"
   },
   {
    "duration": 24,
    "start_time": "2022-02-15T12:26:03.722Z"
   },
   {
    "duration": 12,
    "start_time": "2022-02-15T12:26:03.748Z"
   },
   {
    "duration": 10,
    "start_time": "2022-02-15T12:26:03.762Z"
   },
   {
    "duration": 10,
    "start_time": "2022-02-15T12:26:03.774Z"
   },
   {
    "duration": 8,
    "start_time": "2022-02-15T12:26:03.786Z"
   },
   {
    "duration": 7,
    "start_time": "2022-02-15T12:26:03.795Z"
   },
   {
    "duration": 5,
    "start_time": "2022-02-15T12:26:03.805Z"
   },
   {
    "duration": 8,
    "start_time": "2022-02-15T12:26:03.812Z"
   },
   {
    "duration": 49,
    "start_time": "2022-02-15T12:26:03.822Z"
   },
   {
    "duration": 30,
    "start_time": "2022-02-15T12:26:03.873Z"
   },
   {
    "duration": 22,
    "start_time": "2022-02-15T12:26:03.905Z"
   },
   {
    "duration": 18,
    "start_time": "2022-02-15T12:26:03.928Z"
   },
   {
    "duration": 5,
    "start_time": "2022-02-15T12:26:03.948Z"
   },
   {
    "duration": 24,
    "start_time": "2022-02-15T12:26:03.955Z"
   },
   {
    "duration": 341,
    "start_time": "2022-02-15T12:26:03.980Z"
   },
   {
    "duration": 15,
    "start_time": "2022-02-15T12:26:04.322Z"
   },
   {
    "duration": 35,
    "start_time": "2022-02-15T12:26:04.339Z"
   },
   {
    "duration": 818,
    "start_time": "2022-02-15T12:26:04.375Z"
   },
   {
    "duration": -159,
    "start_time": "2022-02-15T12:26:05.354Z"
   },
   {
    "duration": -162,
    "start_time": "2022-02-15T12:26:05.358Z"
   },
   {
    "duration": -164,
    "start_time": "2022-02-15T12:26:05.362Z"
   },
   {
    "duration": -168,
    "start_time": "2022-02-15T12:26:05.367Z"
   },
   {
    "duration": -171,
    "start_time": "2022-02-15T12:26:05.371Z"
   },
   {
    "duration": -181,
    "start_time": "2022-02-15T12:26:05.382Z"
   },
   {
    "duration": -185,
    "start_time": "2022-02-15T12:26:05.387Z"
   },
   {
    "duration": -188,
    "start_time": "2022-02-15T12:26:05.391Z"
   },
   {
    "duration": -191,
    "start_time": "2022-02-15T12:26:05.395Z"
   },
   {
    "duration": -195,
    "start_time": "2022-02-15T12:26:05.400Z"
   },
   {
    "duration": -198,
    "start_time": "2022-02-15T12:26:05.405Z"
   },
   {
    "duration": -202,
    "start_time": "2022-02-15T12:26:05.410Z"
   },
   {
    "duration": -204,
    "start_time": "2022-02-15T12:26:05.413Z"
   },
   {
    "duration": -208,
    "start_time": "2022-02-15T12:26:05.418Z"
   },
   {
    "duration": -211,
    "start_time": "2022-02-15T12:26:05.422Z"
   },
   {
    "duration": -215,
    "start_time": "2022-02-15T12:26:05.427Z"
   },
   {
    "duration": -219,
    "start_time": "2022-02-15T12:26:05.432Z"
   },
   {
    "duration": -222,
    "start_time": "2022-02-15T12:26:05.436Z"
   },
   {
    "duration": -225,
    "start_time": "2022-02-15T12:26:05.440Z"
   },
   {
    "duration": -228,
    "start_time": "2022-02-15T12:26:05.445Z"
   },
   {
    "duration": -239,
    "start_time": "2022-02-15T12:26:05.457Z"
   },
   {
    "duration": -242,
    "start_time": "2022-02-15T12:26:05.462Z"
   },
   {
    "duration": -244,
    "start_time": "2022-02-15T12:26:05.465Z"
   },
   {
    "duration": -246,
    "start_time": "2022-02-15T12:26:05.469Z"
   },
   {
    "duration": -248,
    "start_time": "2022-02-15T12:26:05.472Z"
   },
   {
    "duration": 210643,
    "start_time": "2022-02-15T12:28:51.936Z"
   },
   {
    "duration": 22,
    "start_time": "2022-02-15T12:32:22.581Z"
   },
   {
    "duration": 11,
    "start_time": "2022-02-15T12:32:22.605Z"
   },
   {
    "duration": 14,
    "start_time": "2022-02-15T12:32:22.618Z"
   },
   {
    "duration": 8,
    "start_time": "2022-02-15T12:32:22.634Z"
   },
   {
    "duration": 25,
    "start_time": "2022-02-15T12:32:22.644Z"
   },
   {
    "duration": 4,
    "start_time": "2022-02-15T12:32:22.671Z"
   },
   {
    "duration": 7,
    "start_time": "2022-02-15T12:32:22.678Z"
   },
   {
    "duration": 7,
    "start_time": "2022-02-15T12:32:22.687Z"
   },
   {
    "duration": 21,
    "start_time": "2022-02-15T12:32:22.696Z"
   },
   {
    "duration": 10,
    "start_time": "2022-02-15T12:32:22.719Z"
   },
   {
    "duration": 12,
    "start_time": "2022-02-15T12:32:22.730Z"
   },
   {
    "duration": 30,
    "start_time": "2022-02-15T12:32:22.744Z"
   },
   {
    "duration": 8,
    "start_time": "2022-02-15T12:32:22.776Z"
   },
   {
    "duration": 27,
    "start_time": "2022-02-15T12:32:22.786Z"
   },
   {
    "duration": 356,
    "start_time": "2022-02-15T12:32:22.814Z"
   },
   {
    "duration": 15,
    "start_time": "2022-02-15T12:32:23.172Z"
   },
   {
    "duration": 18,
    "start_time": "2022-02-15T12:32:23.188Z"
   },
   {
    "duration": 818,
    "start_time": "2022-02-15T12:32:23.208Z"
   },
   {
    "duration": -294,
    "start_time": "2022-02-15T12:32:24.323Z"
   },
   {
    "duration": -304,
    "start_time": "2022-02-15T12:32:24.334Z"
   },
   {
    "duration": -307,
    "start_time": "2022-02-15T12:32:24.338Z"
   },
   {
    "duration": -317,
    "start_time": "2022-02-15T12:32:24.349Z"
   },
   {
    "duration": -336,
    "start_time": "2022-02-15T12:32:24.368Z"
   },
   {
    "duration": -339,
    "start_time": "2022-02-15T12:32:24.372Z"
   },
   {
    "duration": -348,
    "start_time": "2022-02-15T12:32:24.382Z"
   },
   {
    "duration": -352,
    "start_time": "2022-02-15T12:32:24.387Z"
   },
   {
    "duration": -355,
    "start_time": "2022-02-15T12:32:24.391Z"
   },
   {
    "duration": -366,
    "start_time": "2022-02-15T12:32:24.403Z"
   },
   {
    "duration": -369,
    "start_time": "2022-02-15T12:32:24.407Z"
   },
   {
    "duration": -380,
    "start_time": "2022-02-15T12:32:24.419Z"
   },
   {
    "duration": -384,
    "start_time": "2022-02-15T12:32:24.424Z"
   },
   {
    "duration": -393,
    "start_time": "2022-02-15T12:32:24.435Z"
   },
   {
    "duration": -397,
    "start_time": "2022-02-15T12:32:24.439Z"
   },
   {
    "duration": -404,
    "start_time": "2022-02-15T12:32:24.447Z"
   },
   {
    "duration": -408,
    "start_time": "2022-02-15T12:32:24.452Z"
   },
   {
    "duration": -412,
    "start_time": "2022-02-15T12:32:24.457Z"
   },
   {
    "duration": -423,
    "start_time": "2022-02-15T12:32:24.469Z"
   },
   {
    "duration": -427,
    "start_time": "2022-02-15T12:32:24.474Z"
   },
   {
    "duration": -437,
    "start_time": "2022-02-15T12:32:24.485Z"
   },
   {
    "duration": -442,
    "start_time": "2022-02-15T12:32:24.490Z"
   },
   {
    "duration": -453,
    "start_time": "2022-02-15T12:32:24.502Z"
   },
   {
    "duration": -457,
    "start_time": "2022-02-15T12:32:24.507Z"
   },
   {
    "duration": -466,
    "start_time": "2022-02-15T12:32:24.517Z"
   },
   {
    "duration": 210888,
    "start_time": "2022-02-15T12:36:34.142Z"
   },
   {
    "duration": 25,
    "start_time": "2022-02-15T12:40:05.032Z"
   },
   {
    "duration": 11,
    "start_time": "2022-02-15T12:40:05.059Z"
   },
   {
    "duration": 5,
    "start_time": "2022-02-15T12:40:05.072Z"
   },
   {
    "duration": 9,
    "start_time": "2022-02-15T12:40:05.079Z"
   },
   {
    "duration": 7,
    "start_time": "2022-02-15T12:40:05.090Z"
   },
   {
    "duration": 8,
    "start_time": "2022-02-15T12:40:05.099Z"
   },
   {
    "duration": 6,
    "start_time": "2022-02-15T12:40:05.111Z"
   },
   {
    "duration": 8,
    "start_time": "2022-02-15T12:40:05.119Z"
   },
   {
    "duration": 53,
    "start_time": "2022-02-15T12:40:05.128Z"
   },
   {
    "duration": 6,
    "start_time": "2022-02-15T12:40:05.183Z"
   },
   {
    "duration": 13,
    "start_time": "2022-02-15T12:40:05.191Z"
   },
   {
    "duration": 14,
    "start_time": "2022-02-15T12:40:05.205Z"
   },
   {
    "duration": 6,
    "start_time": "2022-02-15T12:40:05.221Z"
   },
   {
    "duration": 54,
    "start_time": "2022-02-15T12:40:05.229Z"
   },
   {
    "duration": 361,
    "start_time": "2022-02-15T12:40:05.285Z"
   },
   {
    "duration": 29,
    "start_time": "2022-02-15T12:40:05.648Z"
   },
   {
    "duration": 19,
    "start_time": "2022-02-15T12:40:05.680Z"
   },
   {
    "duration": 999,
    "start_time": "2022-02-15T12:40:05.701Z"
   },
   {
    "duration": -765,
    "start_time": "2022-02-15T12:40:07.469Z"
   },
   {
    "duration": -771,
    "start_time": "2022-02-15T12:40:07.476Z"
   },
   {
    "duration": -782,
    "start_time": "2022-02-15T12:40:07.488Z"
   },
   {
    "duration": -793,
    "start_time": "2022-02-15T12:40:07.501Z"
   },
   {
    "duration": -796,
    "start_time": "2022-02-15T12:40:07.505Z"
   },
   {
    "duration": -799,
    "start_time": "2022-02-15T12:40:07.510Z"
   },
   {
    "duration": -808,
    "start_time": "2022-02-15T12:40:07.520Z"
   },
   {
    "duration": -811,
    "start_time": "2022-02-15T12:40:07.525Z"
   },
   {
    "duration": -822,
    "start_time": "2022-02-15T12:40:07.537Z"
   },
   {
    "duration": -825,
    "start_time": "2022-02-15T12:40:07.542Z"
   },
   {
    "duration": -835,
    "start_time": "2022-02-15T12:40:07.553Z"
   },
   {
    "duration": -838,
    "start_time": "2022-02-15T12:40:07.558Z"
   },
   {
    "duration": -849,
    "start_time": "2022-02-15T12:40:07.570Z"
   },
   {
    "duration": -853,
    "start_time": "2022-02-15T12:40:07.576Z"
   },
   {
    "duration": -861,
    "start_time": "2022-02-15T12:40:07.586Z"
   },
   {
    "duration": -865,
    "start_time": "2022-02-15T12:40:07.591Z"
   },
   {
    "duration": -875,
    "start_time": "2022-02-15T12:40:07.603Z"
   },
   {
    "duration": -878,
    "start_time": "2022-02-15T12:40:07.607Z"
   },
   {
    "duration": -888,
    "start_time": "2022-02-15T12:40:07.618Z"
   },
   {
    "duration": -889,
    "start_time": "2022-02-15T12:40:07.621Z"
   },
   {
    "duration": -893,
    "start_time": "2022-02-15T12:40:07.626Z"
   },
   {
    "duration": -903,
    "start_time": "2022-02-15T12:40:07.638Z"
   },
   {
    "duration": -906,
    "start_time": "2022-02-15T12:40:07.642Z"
   },
   {
    "duration": -915,
    "start_time": "2022-02-15T12:40:07.653Z"
   },
   {
    "duration": -890,
    "start_time": "2022-02-15T12:40:07.658Z"
   },
   {
    "duration": 36046,
    "start_time": "2022-02-15T12:41:22.394Z"
   },
   {
    "duration": 5237,
    "start_time": "2022-02-15T12:42:45.838Z"
   },
   {
    "duration": 23,
    "start_time": "2022-02-15T12:42:51.077Z"
   },
   {
    "duration": 12,
    "start_time": "2022-02-15T12:42:51.102Z"
   },
   {
    "duration": 7,
    "start_time": "2022-02-15T12:42:51.116Z"
   },
   {
    "duration": 7,
    "start_time": "2022-02-15T12:42:51.124Z"
   },
   {
    "duration": 12,
    "start_time": "2022-02-15T12:42:51.133Z"
   },
   {
    "duration": 23,
    "start_time": "2022-02-15T12:42:51.147Z"
   },
   {
    "duration": 4,
    "start_time": "2022-02-15T12:42:51.172Z"
   },
   {
    "duration": 8,
    "start_time": "2022-02-15T12:42:51.179Z"
   },
   {
    "duration": 20,
    "start_time": "2022-02-15T12:42:51.189Z"
   },
   {
    "duration": 7,
    "start_time": "2022-02-15T12:42:51.211Z"
   },
   {
    "duration": 10,
    "start_time": "2022-02-15T12:42:51.220Z"
   },
   {
    "duration": 42,
    "start_time": "2022-02-15T12:42:51.232Z"
   },
   {
    "duration": 5,
    "start_time": "2022-02-15T12:42:51.276Z"
   },
   {
    "duration": 21,
    "start_time": "2022-02-15T12:42:51.283Z"
   },
   {
    "duration": 375,
    "start_time": "2022-02-15T12:42:51.306Z"
   },
   {
    "duration": 16,
    "start_time": "2022-02-15T12:42:51.682Z"
   },
   {
    "duration": 17,
    "start_time": "2022-02-15T12:42:51.700Z"
   },
   {
    "duration": 824,
    "start_time": "2022-02-15T12:42:51.719Z"
   },
   {
    "duration": -46,
    "start_time": "2022-02-15T12:42:52.591Z"
   },
   {
    "duration": -51,
    "start_time": "2022-02-15T12:42:52.597Z"
   },
   {
    "duration": -80,
    "start_time": "2022-02-15T12:42:52.627Z"
   },
   {
    "duration": -94,
    "start_time": "2022-02-15T12:42:52.642Z"
   },
   {
    "duration": -96,
    "start_time": "2022-02-15T12:42:52.646Z"
   },
   {
    "duration": -108,
    "start_time": "2022-02-15T12:42:52.659Z"
   },
   {
    "duration": -111,
    "start_time": "2022-02-15T12:42:52.664Z"
   },
   {
    "duration": -122,
    "start_time": "2022-02-15T12:42:52.676Z"
   },
   {
    "duration": -125,
    "start_time": "2022-02-15T12:42:52.681Z"
   },
   {
    "duration": -135,
    "start_time": "2022-02-15T12:42:52.692Z"
   },
   {
    "duration": -138,
    "start_time": "2022-02-15T12:42:52.697Z"
   },
   {
    "duration": -149,
    "start_time": "2022-02-15T12:42:52.709Z"
   },
   {
    "duration": -152,
    "start_time": "2022-02-15T12:42:52.713Z"
   },
   {
    "duration": -161,
    "start_time": "2022-02-15T12:42:52.724Z"
   },
   {
    "duration": -164,
    "start_time": "2022-02-15T12:42:52.728Z"
   },
   {
    "duration": -174,
    "start_time": "2022-02-15T12:42:52.740Z"
   },
   {
    "duration": -177,
    "start_time": "2022-02-15T12:42:52.744Z"
   },
   {
    "duration": -190,
    "start_time": "2022-02-15T12:42:52.758Z"
   },
   {
    "duration": -192,
    "start_time": "2022-02-15T12:42:52.762Z"
   },
   {
    "duration": -205,
    "start_time": "2022-02-15T12:42:52.776Z"
   },
   {
    "duration": -209,
    "start_time": "2022-02-15T12:42:52.781Z"
   },
   {
    "duration": -223,
    "start_time": "2022-02-15T12:42:52.796Z"
   },
   {
    "duration": -233,
    "start_time": "2022-02-15T12:42:52.807Z"
   },
   {
    "duration": -235,
    "start_time": "2022-02-15T12:42:52.811Z"
   },
   {
    "duration": -249,
    "start_time": "2022-02-15T12:42:52.826Z"
   },
   {
    "duration": 224,
    "start_time": "2022-02-15T12:43:41.132Z"
   },
   {
    "duration": 45,
    "start_time": "2022-02-15T12:44:38.758Z"
   },
   {
    "duration": 5176,
    "start_time": "2022-02-15T12:44:57.362Z"
   },
   {
    "duration": 24,
    "start_time": "2022-02-15T12:45:02.540Z"
   },
   {
    "duration": 16,
    "start_time": "2022-02-15T12:45:02.566Z"
   },
   {
    "duration": 5,
    "start_time": "2022-02-15T12:45:02.584Z"
   },
   {
    "duration": 8,
    "start_time": "2022-02-15T12:45:02.591Z"
   },
   {
    "duration": 12,
    "start_time": "2022-02-15T12:45:02.601Z"
   },
   {
    "duration": 8,
    "start_time": "2022-02-15T12:45:02.615Z"
   },
   {
    "duration": 15,
    "start_time": "2022-02-15T12:45:02.625Z"
   },
   {
    "duration": 16,
    "start_time": "2022-02-15T12:45:02.643Z"
   },
   {
    "duration": 26,
    "start_time": "2022-02-15T12:45:02.661Z"
   },
   {
    "duration": 9,
    "start_time": "2022-02-15T12:45:02.689Z"
   },
   {
    "duration": 14,
    "start_time": "2022-02-15T12:45:02.699Z"
   },
   {
    "duration": 16,
    "start_time": "2022-02-15T12:45:02.714Z"
   },
   {
    "duration": 5,
    "start_time": "2022-02-15T12:45:02.732Z"
   },
   {
    "duration": 40,
    "start_time": "2022-02-15T12:45:02.738Z"
   },
   {
    "duration": 363,
    "start_time": "2022-02-15T12:45:02.780Z"
   },
   {
    "duration": 15,
    "start_time": "2022-02-15T12:45:03.144Z"
   },
   {
    "duration": 19,
    "start_time": "2022-02-15T12:45:03.169Z"
   },
   {
    "duration": 827,
    "start_time": "2022-02-15T12:45:03.190Z"
   },
   {
    "duration": -89,
    "start_time": "2022-02-15T12:45:04.108Z"
   },
   {
    "duration": -92,
    "start_time": "2022-02-15T12:45:04.113Z"
   },
   {
    "duration": -95,
    "start_time": "2022-02-15T12:45:04.117Z"
   },
   {
    "duration": -98,
    "start_time": "2022-02-15T12:45:04.121Z"
   },
   {
    "duration": -102,
    "start_time": "2022-02-15T12:45:04.126Z"
   },
   {
    "duration": -106,
    "start_time": "2022-02-15T12:45:04.131Z"
   },
   {
    "duration": -111,
    "start_time": "2022-02-15T12:45:04.137Z"
   },
   {
    "duration": -114,
    "start_time": "2022-02-15T12:45:04.141Z"
   },
   {
    "duration": -119,
    "start_time": "2022-02-15T12:45:04.147Z"
   },
   {
    "duration": -123,
    "start_time": "2022-02-15T12:45:04.152Z"
   },
   {
    "duration": -125,
    "start_time": "2022-02-15T12:45:04.155Z"
   },
   {
    "duration": -127,
    "start_time": "2022-02-15T12:45:04.158Z"
   },
   {
    "duration": -129,
    "start_time": "2022-02-15T12:45:04.162Z"
   },
   {
    "duration": -132,
    "start_time": "2022-02-15T12:45:04.165Z"
   },
   {
    "duration": -134,
    "start_time": "2022-02-15T12:45:04.168Z"
   },
   {
    "duration": -159,
    "start_time": "2022-02-15T12:45:04.194Z"
   },
   {
    "duration": -163,
    "start_time": "2022-02-15T12:45:04.199Z"
   },
   {
    "duration": -165,
    "start_time": "2022-02-15T12:45:04.203Z"
   },
   {
    "duration": -168,
    "start_time": "2022-02-15T12:45:04.207Z"
   },
   {
    "duration": -171,
    "start_time": "2022-02-15T12:45:04.211Z"
   },
   {
    "duration": -174,
    "start_time": "2022-02-15T12:45:04.215Z"
   },
   {
    "duration": -176,
    "start_time": "2022-02-15T12:45:04.218Z"
   },
   {
    "duration": -179,
    "start_time": "2022-02-15T12:45:04.223Z"
   },
   {
    "duration": -182,
    "start_time": "2022-02-15T12:45:04.227Z"
   },
   {
    "duration": -186,
    "start_time": "2022-02-15T12:45:04.232Z"
   },
   {
    "duration": 9682,
    "start_time": "2022-02-15T13:31:07.059Z"
   },
   {
    "duration": 35,
    "start_time": "2022-02-15T13:31:16.744Z"
   },
   {
    "duration": 27,
    "start_time": "2022-02-15T13:31:16.782Z"
   },
   {
    "duration": 12,
    "start_time": "2022-02-15T13:31:16.812Z"
   },
   {
    "duration": 29,
    "start_time": "2022-02-15T13:31:16.827Z"
   },
   {
    "duration": 18,
    "start_time": "2022-02-15T13:31:16.860Z"
   },
   {
    "duration": 25,
    "start_time": "2022-02-15T13:31:16.881Z"
   },
   {
    "duration": 10,
    "start_time": "2022-02-15T13:31:16.910Z"
   },
   {
    "duration": 28,
    "start_time": "2022-02-15T13:31:16.924Z"
   },
   {
    "duration": 41,
    "start_time": "2022-02-15T13:31:16.956Z"
   },
   {
    "duration": 23,
    "start_time": "2022-02-15T13:31:17.000Z"
   },
   {
    "duration": 13,
    "start_time": "2022-02-15T13:31:17.026Z"
   },
   {
    "duration": 18,
    "start_time": "2022-02-15T13:31:17.041Z"
   },
   {
    "duration": 7,
    "start_time": "2022-02-15T13:31:17.062Z"
   },
   {
    "duration": 35,
    "start_time": "2022-02-15T13:31:17.072Z"
   },
   {
    "duration": 527,
    "start_time": "2022-02-15T13:31:17.110Z"
   },
   {
    "duration": 26,
    "start_time": "2022-02-15T13:31:17.640Z"
   },
   {
    "duration": 26,
    "start_time": "2022-02-15T13:31:17.668Z"
   },
   {
    "duration": 1256,
    "start_time": "2022-02-15T13:31:17.697Z"
   },
   {
    "duration": 100,
    "start_time": "2022-02-15T13:31:18.857Z"
   },
   {
    "duration": 89,
    "start_time": "2022-02-15T13:31:18.869Z"
   },
   {
    "duration": 87,
    "start_time": "2022-02-15T13:31:18.873Z"
   },
   {
    "duration": 80,
    "start_time": "2022-02-15T13:31:18.882Z"
   },
   {
    "duration": 77,
    "start_time": "2022-02-15T13:31:18.886Z"
   },
   {
    "duration": 75,
    "start_time": "2022-02-15T13:31:18.890Z"
   },
   {
    "duration": 67,
    "start_time": "2022-02-15T13:31:18.900Z"
   },
   {
    "duration": 65,
    "start_time": "2022-02-15T13:31:18.903Z"
   },
   {
    "duration": 58,
    "start_time": "2022-02-15T13:31:18.912Z"
   },
   {
    "duration": 57,
    "start_time": "2022-02-15T13:31:18.915Z"
   },
   {
    "duration": 56,
    "start_time": "2022-02-15T13:31:18.918Z"
   },
   {
    "duration": 53,
    "start_time": "2022-02-15T13:31:18.922Z"
   },
   {
    "duration": 44,
    "start_time": "2022-02-15T13:31:18.933Z"
   },
   {
    "duration": 43,
    "start_time": "2022-02-15T13:31:18.936Z"
   },
   {
    "duration": 31,
    "start_time": "2022-02-15T13:31:18.949Z"
   },
   {
    "duration": 29,
    "start_time": "2022-02-15T13:31:18.953Z"
   },
   {
    "duration": 21,
    "start_time": "2022-02-15T13:31:18.963Z"
   },
   {
    "duration": 19,
    "start_time": "2022-02-15T13:31:18.966Z"
   },
   {
    "duration": 18,
    "start_time": "2022-02-15T13:31:18.969Z"
   },
   {
    "duration": 14,
    "start_time": "2022-02-15T13:31:18.974Z"
   },
   {
    "duration": 1,
    "start_time": "2022-02-15T13:31:18.989Z"
   },
   {
    "duration": -9,
    "start_time": "2022-02-15T13:31:19.000Z"
   },
   {
    "duration": -10,
    "start_time": "2022-02-15T13:31:19.003Z"
   },
   {
    "duration": 29,
    "start_time": "2022-02-15T13:31:19.018Z"
   },
   {
    "duration": 25,
    "start_time": "2022-02-15T13:31:19.025Z"
   },
   {
    "duration": 25750,
    "start_time": "2022-02-15T13:32:48.781Z"
   },
   {
    "duration": 34,
    "start_time": "2022-02-15T13:33:14.538Z"
   },
   {
    "duration": 17,
    "start_time": "2022-02-15T13:33:14.575Z"
   },
   {
    "duration": 9,
    "start_time": "2022-02-15T13:33:14.596Z"
   },
   {
    "duration": 43,
    "start_time": "2022-02-15T13:33:14.607Z"
   },
   {
    "duration": 7,
    "start_time": "2022-02-15T13:33:14.653Z"
   },
   {
    "duration": 11,
    "start_time": "2022-02-15T13:33:14.664Z"
   },
   {
    "duration": 9,
    "start_time": "2022-02-15T13:33:14.678Z"
   },
   {
    "duration": 12,
    "start_time": "2022-02-15T13:33:14.689Z"
   },
   {
    "duration": 71,
    "start_time": "2022-02-15T13:33:14.704Z"
   },
   {
    "duration": 10,
    "start_time": "2022-02-15T13:33:14.779Z"
   },
   {
    "duration": 15,
    "start_time": "2022-02-15T13:33:14.792Z"
   },
   {
    "duration": 47,
    "start_time": "2022-02-15T13:33:14.810Z"
   },
   {
    "duration": 7,
    "start_time": "2022-02-15T13:33:14.859Z"
   },
   {
    "duration": 36,
    "start_time": "2022-02-15T13:33:14.869Z"
   },
   {
    "duration": 514,
    "start_time": "2022-02-15T13:33:14.907Z"
   },
   {
    "duration": 36,
    "start_time": "2022-02-15T13:33:15.423Z"
   },
   {
    "duration": 24,
    "start_time": "2022-02-15T13:33:15.462Z"
   },
   {
    "duration": 750,
    "start_time": "2022-02-15T13:33:15.489Z"
   },
   {
    "duration": 224,
    "start_time": "2022-02-15T13:33:16.241Z"
   },
   {
    "duration": 154,
    "start_time": "2022-02-15T13:33:16.468Z"
   },
   {
    "duration": 369,
    "start_time": "2022-02-15T13:33:16.627Z"
   },
   {
    "duration": 54,
    "start_time": "2022-02-15T13:33:16.999Z"
   },
   {
    "duration": 21,
    "start_time": "2022-02-15T13:33:17.055Z"
   },
   {
    "duration": 42,
    "start_time": "2022-02-15T13:33:17.079Z"
   },
   {
    "duration": 184,
    "start_time": "2022-02-15T13:33:17.124Z"
   },
   {
    "duration": 167,
    "start_time": "2022-02-15T13:33:17.311Z"
   },
   {
    "duration": 114,
    "start_time": "2022-02-15T13:33:17.480Z"
   },
   {
    "duration": 711,
    "start_time": "2022-02-15T13:33:17.597Z"
   },
   {
    "duration": 8,
    "start_time": "2022-02-15T13:33:18.310Z"
   },
   {
    "duration": 1571,
    "start_time": "2022-02-15T13:33:18.320Z"
   },
   {
    "duration": 1420,
    "start_time": "2022-02-15T13:33:19.894Z"
   },
   {
    "duration": 1531,
    "start_time": "2022-02-15T13:33:21.317Z"
   },
   {
    "duration": 1416,
    "start_time": "2022-02-15T13:33:22.851Z"
   },
   {
    "duration": 360,
    "start_time": "2022-02-15T13:33:24.269Z"
   },
   {
    "duration": 337,
    "start_time": "2022-02-15T13:33:24.632Z"
   },
   {
    "duration": 34,
    "start_time": "2022-02-15T13:33:24.971Z"
   },
   {
    "duration": 61,
    "start_time": "2022-02-15T13:33:25.007Z"
   },
   {
    "duration": 33,
    "start_time": "2022-02-15T13:33:25.070Z"
   },
   {
    "duration": 55,
    "start_time": "2022-02-15T13:33:25.105Z"
   },
   {
    "duration": 33,
    "start_time": "2022-02-15T13:33:25.163Z"
   },
   {
    "duration": 58,
    "start_time": "2022-02-15T13:33:25.199Z"
   },
   {
    "duration": 52,
    "start_time": "2022-02-15T13:33:25.259Z"
   },
   {
    "duration": 46,
    "start_time": "2022-02-15T13:33:25.314Z"
   },
   {
    "duration": 40,
    "start_time": "2022-02-15T13:36:15.670Z"
   },
   {
    "duration": 7,
    "start_time": "2022-02-15T14:01:16.842Z"
   },
   {
    "duration": 35,
    "start_time": "2022-02-15T14:01:26.096Z"
   },
   {
    "duration": 12,
    "start_time": "2022-02-15T14:01:55.889Z"
   },
   {
    "duration": 35,
    "start_time": "2022-02-15T14:02:22.071Z"
   },
   {
    "duration": 9,
    "start_time": "2022-02-15T14:02:41.313Z"
   },
   {
    "duration": 10,
    "start_time": "2022-02-15T14:02:42.847Z"
   },
   {
    "duration": 430,
    "start_time": "2022-02-15T14:04:11.298Z"
   },
   {
    "duration": 10801,
    "start_time": "2022-02-15T14:04:48.192Z"
   },
   {
    "duration": 44,
    "start_time": "2022-02-15T14:04:58.996Z"
   },
   {
    "duration": 23,
    "start_time": "2022-02-15T14:04:59.044Z"
   },
   {
    "duration": 8,
    "start_time": "2022-02-15T14:04:59.071Z"
   },
   {
    "duration": 8,
    "start_time": "2022-02-15T14:04:59.083Z"
   },
   {
    "duration": 12,
    "start_time": "2022-02-15T14:04:59.094Z"
   },
   {
    "duration": 44,
    "start_time": "2022-02-15T14:04:59.109Z"
   },
   {
    "duration": 7,
    "start_time": "2022-02-15T14:04:59.159Z"
   },
   {
    "duration": 12,
    "start_time": "2022-02-15T14:04:59.170Z"
   },
   {
    "duration": 75,
    "start_time": "2022-02-15T14:04:59.184Z"
   },
   {
    "duration": 16,
    "start_time": "2022-02-15T14:04:59.262Z"
   },
   {
    "duration": 21,
    "start_time": "2022-02-15T14:04:59.281Z"
   },
   {
    "duration": 44,
    "start_time": "2022-02-15T14:04:59.305Z"
   },
   {
    "duration": 15,
    "start_time": "2022-02-15T14:04:59.353Z"
   },
   {
    "duration": 39,
    "start_time": "2022-02-15T14:04:59.371Z"
   },
   {
    "duration": 620,
    "start_time": "2022-02-15T14:04:59.414Z"
   },
   {
    "duration": 31,
    "start_time": "2022-02-15T14:05:00.037Z"
   },
   {
    "duration": 28,
    "start_time": "2022-02-15T14:05:00.071Z"
   },
   {
    "duration": 945,
    "start_time": "2022-02-15T14:05:00.101Z"
   },
   {
    "duration": 225,
    "start_time": "2022-02-15T14:05:01.048Z"
   },
   {
    "duration": 172,
    "start_time": "2022-02-15T14:05:01.276Z"
   },
   {
    "duration": 363,
    "start_time": "2022-02-15T14:05:01.451Z"
   },
   {
    "duration": 56,
    "start_time": "2022-02-15T14:05:01.820Z"
   },
   {
    "duration": 21,
    "start_time": "2022-02-15T14:05:01.880Z"
   },
   {
    "duration": 58,
    "start_time": "2022-02-15T14:05:01.904Z"
   },
   {
    "duration": 232,
    "start_time": "2022-02-15T14:05:01.965Z"
   },
   {
    "duration": 266,
    "start_time": "2022-02-15T14:05:02.200Z"
   },
   {
    "duration": 280,
    "start_time": "2022-02-15T14:05:02.468Z"
   },
   {
    "duration": 636,
    "start_time": "2022-02-15T14:05:02.751Z"
   },
   {
    "duration": 6,
    "start_time": "2022-02-15T14:05:03.390Z"
   },
   {
    "duration": 2041,
    "start_time": "2022-02-15T14:05:03.399Z"
   },
   {
    "duration": 1895,
    "start_time": "2022-02-15T14:05:05.443Z"
   },
   {
    "duration": 1430,
    "start_time": "2022-02-15T14:05:07.341Z"
   },
   {
    "duration": 1779,
    "start_time": "2022-02-15T14:05:08.773Z"
   },
   {
    "duration": 338,
    "start_time": "2022-02-15T14:05:10.554Z"
   },
   {
    "duration": 338,
    "start_time": "2022-02-15T14:05:10.895Z"
   },
   {
    "duration": 43,
    "start_time": "2022-02-15T14:05:11.235Z"
   },
   {
    "duration": 35,
    "start_time": "2022-02-15T14:05:11.281Z"
   },
   {
    "duration": 34,
    "start_time": "2022-02-15T14:05:11.349Z"
   },
   {
    "duration": 34,
    "start_time": "2022-02-15T14:05:11.386Z"
   },
   {
    "duration": 36,
    "start_time": "2022-02-15T14:05:11.449Z"
   },
   {
    "duration": 34,
    "start_time": "2022-02-15T14:05:11.487Z"
   },
   {
    "duration": 32,
    "start_time": "2022-02-15T14:05:11.548Z"
   },
   {
    "duration": 67,
    "start_time": "2022-02-15T14:05:11.583Z"
   },
   {
    "duration": 33,
    "start_time": "2022-02-15T14:05:11.652Z"
   },
   {
    "duration": 10,
    "start_time": "2022-02-15T14:05:11.688Z"
   },
   {
    "duration": 20,
    "start_time": "2022-02-15T14:05:11.700Z"
   },
   {
    "duration": 6,
    "start_time": "2022-02-15T14:05:36.772Z"
   },
   {
    "duration": 457,
    "start_time": "2022-02-15T14:06:23.084Z"
   },
   {
    "duration": 322,
    "start_time": "2022-02-15T14:06:39.600Z"
   },
   {
    "duration": 578,
    "start_time": "2022-02-15T14:06:57.826Z"
   },
   {
    "duration": 9,
    "start_time": "2022-02-15T14:07:36.182Z"
   },
   {
    "duration": 9,
    "start_time": "2022-02-15T14:07:43.179Z"
   },
   {
    "duration": 782,
    "start_time": "2022-02-15T14:09:17.784Z"
   },
   {
    "duration": 375,
    "start_time": "2022-02-15T14:09:22.798Z"
   },
   {
    "duration": 19,
    "start_time": "2022-02-15T14:11:43.245Z"
   },
   {
    "duration": 613,
    "start_time": "2022-02-15T14:11:46.942Z"
   },
   {
    "duration": 8,
    "start_time": "2022-02-15T14:11:49.955Z"
   },
   {
    "duration": 8,
    "start_time": "2022-02-15T14:13:47.772Z"
   },
   {
    "duration": 8,
    "start_time": "2022-02-15T14:14:37.265Z"
   },
   {
    "duration": 18,
    "start_time": "2022-02-15T14:19:35.923Z"
   },
   {
    "duration": 558,
    "start_time": "2022-02-15T14:19:37.958Z"
   },
   {
    "duration": 8,
    "start_time": "2022-02-15T14:20:36.786Z"
   },
   {
    "duration": 9774,
    "start_time": "2022-02-15T14:45:20.164Z"
   },
   {
    "duration": 35,
    "start_time": "2022-02-15T14:45:29.941Z"
   },
   {
    "duration": 14,
    "start_time": "2022-02-15T14:45:29.979Z"
   },
   {
    "duration": 8,
    "start_time": "2022-02-15T14:45:29.996Z"
   },
   {
    "duration": 41,
    "start_time": "2022-02-15T14:45:30.007Z"
   },
   {
    "duration": 7,
    "start_time": "2022-02-15T14:45:30.050Z"
   },
   {
    "duration": 15,
    "start_time": "2022-02-15T14:45:30.059Z"
   },
   {
    "duration": 16,
    "start_time": "2022-02-15T14:45:30.078Z"
   },
   {
    "duration": 19,
    "start_time": "2022-02-15T14:45:30.098Z"
   },
   {
    "duration": 43,
    "start_time": "2022-02-15T14:45:30.120Z"
   },
   {
    "duration": 6,
    "start_time": "2022-02-15T14:45:30.166Z"
   },
   {
    "duration": 34,
    "start_time": "2022-02-15T14:45:30.174Z"
   },
   {
    "duration": 40,
    "start_time": "2022-02-15T14:45:30.211Z"
   },
   {
    "duration": 13,
    "start_time": "2022-02-15T14:45:30.253Z"
   },
   {
    "duration": 72,
    "start_time": "2022-02-15T14:45:30.269Z"
   },
   {
    "duration": 719,
    "start_time": "2022-02-15T14:45:30.344Z"
   },
   {
    "duration": 29,
    "start_time": "2022-02-15T14:45:31.067Z"
   },
   {
    "duration": 58,
    "start_time": "2022-02-15T14:45:31.099Z"
   },
   {
    "duration": 935,
    "start_time": "2022-02-15T14:45:31.160Z"
   },
   {
    "duration": 297,
    "start_time": "2022-02-15T14:45:32.099Z"
   },
   {
    "duration": 169,
    "start_time": "2022-02-15T14:45:32.399Z"
   },
   {
    "duration": 330,
    "start_time": "2022-02-15T14:45:32.571Z"
   },
   {
    "duration": 48,
    "start_time": "2022-02-15T14:45:32.907Z"
   },
   {
    "duration": 20,
    "start_time": "2022-02-15T14:45:32.958Z"
   },
   {
    "duration": 23,
    "start_time": "2022-02-15T14:45:32.981Z"
   },
   {
    "duration": 131,
    "start_time": "2022-02-15T14:45:33.007Z"
   },
   {
    "duration": 134,
    "start_time": "2022-02-15T14:45:33.149Z"
   },
   {
    "duration": 107,
    "start_time": "2022-02-15T14:45:33.286Z"
   },
   {
    "duration": 644,
    "start_time": "2022-02-15T14:45:33.395Z"
   },
   {
    "duration": 9,
    "start_time": "2022-02-15T14:45:34.049Z"
   },
   {
    "duration": 1512,
    "start_time": "2022-02-15T14:45:34.061Z"
   },
   {
    "duration": 1596,
    "start_time": "2022-02-15T14:45:35.576Z"
   },
   {
    "duration": 1486,
    "start_time": "2022-02-15T14:45:37.174Z"
   },
   {
    "duration": 1458,
    "start_time": "2022-02-15T14:45:38.662Z"
   },
   {
    "duration": 461,
    "start_time": "2022-02-15T14:45:40.123Z"
   },
   {
    "duration": 340,
    "start_time": "2022-02-15T14:45:40.587Z"
   },
   {
    "duration": 59,
    "start_time": "2022-02-15T14:45:40.930Z"
   },
   {
    "duration": 69,
    "start_time": "2022-02-15T14:45:40.992Z"
   },
   {
    "duration": 42,
    "start_time": "2022-02-15T14:45:41.064Z"
   },
   {
    "duration": 57,
    "start_time": "2022-02-15T14:45:41.109Z"
   },
   {
    "duration": 34,
    "start_time": "2022-02-15T14:45:41.169Z"
   },
   {
    "duration": 61,
    "start_time": "2022-02-15T14:45:41.206Z"
   },
   {
    "duration": 37,
    "start_time": "2022-02-15T14:45:41.269Z"
   },
   {
    "duration": 55,
    "start_time": "2022-02-15T14:45:41.308Z"
   },
   {
    "duration": 34,
    "start_time": "2022-02-15T14:45:41.366Z"
   },
   {
    "duration": 47,
    "start_time": "2022-02-15T14:45:41.402Z"
   },
   {
    "duration": 619,
    "start_time": "2022-02-15T14:45:41.452Z"
   },
   {
    "duration": 7,
    "start_time": "2022-02-15T14:45:42.074Z"
   },
   {
    "duration": 37,
    "start_time": "2022-02-15T14:45:42.084Z"
   },
   {
    "duration": 687,
    "start_time": "2022-02-15T14:45:42.123Z"
   },
   {
    "duration": 8,
    "start_time": "2022-02-15T14:45:42.813Z"
   },
   {
    "duration": 619,
    "start_time": "2022-02-15T14:47:18.150Z"
   },
   {
    "duration": 625,
    "start_time": "2022-02-15T14:47:33.563Z"
   },
   {
    "duration": 687,
    "start_time": "2022-02-15T14:48:05.884Z"
   },
   {
    "duration": 307,
    "start_time": "2022-02-15T14:56:25.751Z"
   },
   {
    "duration": 104,
    "start_time": "2022-02-15T14:56:41.735Z"
   },
   {
    "duration": 9485,
    "start_time": "2022-02-15T15:02:50.716Z"
   },
   {
    "duration": 66,
    "start_time": "2022-02-15T15:03:00.205Z"
   },
   {
    "duration": 38,
    "start_time": "2022-02-15T15:03:00.275Z"
   },
   {
    "duration": 38,
    "start_time": "2022-02-15T15:03:00.317Z"
   },
   {
    "duration": 28,
    "start_time": "2022-02-15T15:03:00.359Z"
   },
   {
    "duration": 28,
    "start_time": "2022-02-15T15:03:00.390Z"
   },
   {
    "duration": 53,
    "start_time": "2022-02-15T15:03:00.421Z"
   },
   {
    "duration": 44,
    "start_time": "2022-02-15T15:03:00.477Z"
   },
   {
    "duration": 52,
    "start_time": "2022-02-15T15:03:00.525Z"
   },
   {
    "duration": 49,
    "start_time": "2022-02-15T15:03:00.580Z"
   },
   {
    "duration": 58,
    "start_time": "2022-02-15T15:03:00.631Z"
   },
   {
    "duration": 61,
    "start_time": "2022-02-15T15:03:00.692Z"
   },
   {
    "duration": 35,
    "start_time": "2022-02-15T15:03:00.757Z"
   },
   {
    "duration": 74,
    "start_time": "2022-02-15T15:03:00.795Z"
   },
   {
    "duration": 504,
    "start_time": "2022-02-15T15:03:00.872Z"
   },
   {
    "duration": 21,
    "start_time": "2022-02-15T15:03:01.380Z"
   },
   {
    "duration": 54,
    "start_time": "2022-02-15T15:03:01.403Z"
   },
   {
    "duration": 812,
    "start_time": "2022-02-15T15:03:01.460Z"
   },
   {
    "duration": 311,
    "start_time": "2022-02-15T15:03:02.275Z"
   },
   {
    "duration": 207,
    "start_time": "2022-02-15T15:03:02.588Z"
   },
   {
    "duration": 69,
    "start_time": "2022-02-15T15:03:02.798Z"
   },
   {
    "duration": 21,
    "start_time": "2022-02-15T15:03:02.870Z"
   },
   {
    "duration": 21,
    "start_time": "2022-02-15T15:03:02.896Z"
   },
   {
    "duration": 126,
    "start_time": "2022-02-15T15:03:02.951Z"
   },
   {
    "duration": 136,
    "start_time": "2022-02-15T15:03:03.080Z"
   },
   {
    "duration": 112,
    "start_time": "2022-02-15T15:03:03.219Z"
   },
   {
    "duration": 653,
    "start_time": "2022-02-15T15:03:03.333Z"
   },
   {
    "duration": 8,
    "start_time": "2022-02-15T15:03:03.988Z"
   },
   {
    "duration": 1528,
    "start_time": "2022-02-15T15:03:03.999Z"
   },
   {
    "duration": 1551,
    "start_time": "2022-02-15T15:03:05.529Z"
   },
   {
    "duration": 1883,
    "start_time": "2022-02-15T15:03:07.083Z"
   },
   {
    "duration": 1843,
    "start_time": "2022-02-15T15:03:08.969Z"
   },
   {
    "duration": 490,
    "start_time": "2022-02-15T15:03:10.815Z"
   },
   {
    "duration": 482,
    "start_time": "2022-02-15T15:03:11.308Z"
   },
   {
    "duration": 55,
    "start_time": "2022-02-15T15:03:11.793Z"
   },
   {
    "duration": 35,
    "start_time": "2022-02-15T15:03:11.850Z"
   },
   {
    "duration": 61,
    "start_time": "2022-02-15T15:03:11.888Z"
   },
   {
    "duration": 38,
    "start_time": "2022-02-15T15:03:11.952Z"
   },
   {
    "duration": 64,
    "start_time": "2022-02-15T15:03:11.993Z"
   },
   {
    "duration": 43,
    "start_time": "2022-02-15T15:03:12.060Z"
   },
   {
    "duration": 65,
    "start_time": "2022-02-15T15:03:12.107Z"
   },
   {
    "duration": 37,
    "start_time": "2022-02-15T15:03:12.175Z"
   },
   {
    "duration": 63,
    "start_time": "2022-02-15T15:03:12.214Z"
   },
   {
    "duration": 23,
    "start_time": "2022-02-15T15:03:12.280Z"
   },
   {
    "duration": 695,
    "start_time": "2022-02-15T15:03:12.305Z"
   },
   {
    "duration": 7,
    "start_time": "2022-02-15T15:03:13.003Z"
   },
   {
    "duration": 38,
    "start_time": "2022-02-15T15:03:13.013Z"
   },
   {
    "duration": 674,
    "start_time": "2022-02-15T15:03:13.054Z"
   },
   {
    "duration": 18,
    "start_time": "2022-02-15T15:03:13.730Z"
   },
   {
    "duration": 100,
    "start_time": "2022-02-15T15:05:09.571Z"
   },
   {
    "duration": 113,
    "start_time": "2022-02-23T09:43:26.702Z"
   },
   {
    "duration": 32109,
    "start_time": "2022-02-23T11:57:24.564Z"
   },
   {
    "duration": 45,
    "start_time": "2022-02-23T11:57:56.679Z"
   },
   {
    "duration": 7,
    "start_time": "2022-02-23T11:57:56.727Z"
   },
   {
    "duration": 8,
    "start_time": "2022-02-23T11:57:56.761Z"
   },
   {
    "duration": 8,
    "start_time": "2022-02-23T11:57:56.772Z"
   },
   {
    "duration": 8,
    "start_time": "2022-02-23T11:57:56.783Z"
   },
   {
    "duration": 6,
    "start_time": "2022-02-23T11:57:56.795Z"
   },
   {
    "duration": 58,
    "start_time": "2022-02-23T11:57:56.805Z"
   },
   {
    "duration": 29,
    "start_time": "2022-02-23T11:57:56.866Z"
   },
   {
    "duration": 7,
    "start_time": "2022-02-23T11:57:56.897Z"
   },
   {
    "duration": 12,
    "start_time": "2022-02-23T11:57:56.906Z"
   },
   {
    "duration": 51,
    "start_time": "2022-02-23T11:57:56.920Z"
   },
   {
    "duration": 7,
    "start_time": "2022-02-23T11:57:56.973Z"
   },
   {
    "duration": 32,
    "start_time": "2022-02-23T11:57:56.982Z"
   },
   {
    "duration": 526,
    "start_time": "2022-02-23T11:57:57.017Z"
   },
   {
    "duration": 30,
    "start_time": "2022-02-23T11:57:57.546Z"
   },
   {
    "duration": 23,
    "start_time": "2022-02-23T11:57:57.578Z"
   },
   {
    "duration": 737,
    "start_time": "2022-02-23T11:57:57.604Z"
   },
   {
    "duration": 222,
    "start_time": "2022-02-23T11:57:58.343Z"
   },
   {
    "duration": 144,
    "start_time": "2022-02-23T11:57:58.567Z"
   },
   {
    "duration": 51,
    "start_time": "2022-02-23T11:57:58.714Z"
   },
   {
    "duration": 22,
    "start_time": "2022-02-23T11:57:58.770Z"
   },
   {
    "duration": 20,
    "start_time": "2022-02-23T11:57:58.795Z"
   },
   {
    "duration": 148,
    "start_time": "2022-02-23T11:57:58.817Z"
   },
   {
    "duration": 121,
    "start_time": "2022-02-23T11:57:58.967Z"
   },
   {
    "duration": 117,
    "start_time": "2022-02-23T11:57:59.091Z"
   },
   {
    "duration": 660,
    "start_time": "2022-02-23T11:57:59.210Z"
   },
   {
    "duration": 8,
    "start_time": "2022-02-23T11:57:59.874Z"
   },
   {
    "duration": 1427,
    "start_time": "2022-02-23T11:57:59.885Z"
   },
   {
    "duration": 1585,
    "start_time": "2022-02-23T11:58:01.315Z"
   },
   {
    "duration": 1502,
    "start_time": "2022-02-23T11:58:02.902Z"
   },
   {
    "duration": 1467,
    "start_time": "2022-02-23T11:58:04.406Z"
   },
   {
    "duration": 350,
    "start_time": "2022-02-23T11:58:05.875Z"
   },
   {
    "duration": 469,
    "start_time": "2022-02-23T11:58:06.227Z"
   },
   {
    "duration": 38,
    "start_time": "2022-02-23T11:58:06.699Z"
   },
   {
    "duration": 44,
    "start_time": "2022-02-23T11:58:06.762Z"
   },
   {
    "duration": 36,
    "start_time": "2022-02-23T11:58:06.809Z"
   },
   {
    "duration": 39,
    "start_time": "2022-02-23T11:58:06.847Z"
   },
   {
    "duration": 34,
    "start_time": "2022-02-23T11:58:06.888Z"
   },
   {
    "duration": 59,
    "start_time": "2022-02-23T11:58:06.925Z"
   },
   {
    "duration": 45,
    "start_time": "2022-02-23T11:58:06.987Z"
   },
   {
    "duration": 47,
    "start_time": "2022-02-23T11:58:07.035Z"
   },
   {
    "duration": 43,
    "start_time": "2022-02-23T11:58:07.084Z"
   },
   {
    "duration": 32,
    "start_time": "2022-02-23T11:58:07.129Z"
   },
   {
    "duration": 664,
    "start_time": "2022-02-23T11:58:07.164Z"
   },
   {
    "duration": 9,
    "start_time": "2022-02-23T11:58:07.831Z"
   },
   {
    "duration": 17,
    "start_time": "2022-02-23T11:58:07.862Z"
   },
   {
    "duration": 613,
    "start_time": "2022-02-23T11:58:07.882Z"
   },
   {
    "duration": 8,
    "start_time": "2022-02-23T11:58:08.497Z"
   },
   {
    "duration": 835,
    "start_time": "2022-02-23T11:59:55.199Z"
   },
   {
    "duration": 607,
    "start_time": "2022-02-23T12:03:35.940Z"
   },
   {
    "duration": 594,
    "start_time": "2022-02-23T12:03:53.205Z"
   },
   {
    "duration": 996,
    "start_time": "2022-02-23T12:04:21.953Z"
   },
   {
    "duration": 1021,
    "start_time": "2022-02-23T12:04:29.655Z"
   },
   {
    "duration": 599,
    "start_time": "2022-02-23T12:05:45.671Z"
   },
   {
    "duration": 638,
    "start_time": "2022-02-23T12:06:09.094Z"
   },
   {
    "duration": 659,
    "start_time": "2022-02-23T12:21:20.128Z"
   },
   {
    "duration": 623,
    "start_time": "2022-02-23T12:32:35.953Z"
   },
   {
    "duration": 9464,
    "start_time": "2022-02-23T12:38:02.197Z"
   },
   {
    "duration": 47,
    "start_time": "2022-02-23T12:38:11.665Z"
   },
   {
    "duration": 7,
    "start_time": "2022-02-23T12:38:11.719Z"
   },
   {
    "duration": 36,
    "start_time": "2022-02-23T12:38:11.729Z"
   },
   {
    "duration": 9,
    "start_time": "2022-02-23T12:38:11.768Z"
   },
   {
    "duration": 11,
    "start_time": "2022-02-23T12:38:11.779Z"
   },
   {
    "duration": 8,
    "start_time": "2022-02-23T12:38:11.795Z"
   },
   {
    "duration": 106,
    "start_time": "2022-02-23T12:38:11.807Z"
   },
   {
    "duration": -38,
    "start_time": "2022-02-23T12:38:11.955Z"
   },
   {
    "duration": -40,
    "start_time": "2022-02-23T12:38:11.959Z"
   },
   {
    "duration": -41,
    "start_time": "2022-02-23T12:38:11.962Z"
   },
   {
    "duration": -115,
    "start_time": "2022-02-23T12:38:12.038Z"
   },
   {
    "duration": -117,
    "start_time": "2022-02-23T12:38:12.041Z"
   },
   {
    "duration": -119,
    "start_time": "2022-02-23T12:38:12.044Z"
   },
   {
    "duration": -121,
    "start_time": "2022-02-23T12:38:12.048Z"
   },
   {
    "duration": -123,
    "start_time": "2022-02-23T12:38:12.051Z"
   },
   {
    "duration": -125,
    "start_time": "2022-02-23T12:38:12.054Z"
   },
   {
    "duration": -126,
    "start_time": "2022-02-23T12:38:12.057Z"
   },
   {
    "duration": -128,
    "start_time": "2022-02-23T12:38:12.060Z"
   },
   {
    "duration": -129,
    "start_time": "2022-02-23T12:38:12.063Z"
   },
   {
    "duration": -132,
    "start_time": "2022-02-23T12:38:12.067Z"
   },
   {
    "duration": -138,
    "start_time": "2022-02-23T12:38:12.075Z"
   },
   {
    "duration": -141,
    "start_time": "2022-02-23T12:38:12.079Z"
   },
   {
    "duration": -143,
    "start_time": "2022-02-23T12:38:12.082Z"
   },
   {
    "duration": -145,
    "start_time": "2022-02-23T12:38:12.086Z"
   },
   {
    "duration": -147,
    "start_time": "2022-02-23T12:38:12.089Z"
   },
   {
    "duration": -149,
    "start_time": "2022-02-23T12:38:12.092Z"
   },
   {
    "duration": -151,
    "start_time": "2022-02-23T12:38:12.096Z"
   },
   {
    "duration": -153,
    "start_time": "2022-02-23T12:38:12.099Z"
   },
   {
    "duration": -154,
    "start_time": "2022-02-23T12:38:12.102Z"
   },
   {
    "duration": -156,
    "start_time": "2022-02-23T12:38:12.106Z"
   },
   {
    "duration": -159,
    "start_time": "2022-02-23T12:38:12.110Z"
   },
   {
    "duration": -161,
    "start_time": "2022-02-23T12:38:12.113Z"
   },
   {
    "duration": -163,
    "start_time": "2022-02-23T12:38:12.116Z"
   },
   {
    "duration": -165,
    "start_time": "2022-02-23T12:38:12.120Z"
   },
   {
    "duration": -173,
    "start_time": "2022-02-23T12:38:12.133Z"
   },
   {
    "duration": -175,
    "start_time": "2022-02-23T12:38:12.136Z"
   },
   {
    "duration": -176,
    "start_time": "2022-02-23T12:38:12.139Z"
   },
   {
    "duration": -179,
    "start_time": "2022-02-23T12:38:12.143Z"
   },
   {
    "duration": -179,
    "start_time": "2022-02-23T12:38:12.145Z"
   },
   {
    "duration": -182,
    "start_time": "2022-02-23T12:38:12.149Z"
   },
   {
    "duration": -183,
    "start_time": "2022-02-23T12:38:12.152Z"
   },
   {
    "duration": -185,
    "start_time": "2022-02-23T12:38:12.155Z"
   },
   {
    "duration": -186,
    "start_time": "2022-02-23T12:38:12.158Z"
   },
   {
    "duration": -189,
    "start_time": "2022-02-23T12:38:12.162Z"
   },
   {
    "duration": -199,
    "start_time": "2022-02-23T12:38:12.174Z"
   },
   {
    "duration": -212,
    "start_time": "2022-02-23T12:38:12.188Z"
   },
   {
    "duration": -213,
    "start_time": "2022-02-23T12:38:12.191Z"
   },
   {
    "duration": -216,
    "start_time": "2022-02-23T12:38:12.195Z"
   },
   {
    "duration": -217,
    "start_time": "2022-02-23T12:38:12.198Z"
   },
   {
    "duration": -219,
    "start_time": "2022-02-23T12:38:12.201Z"
   },
   {
    "duration": 6,
    "start_time": "2022-02-23T12:38:27.150Z"
   },
   {
    "duration": 32,
    "start_time": "2022-02-23T12:38:32.366Z"
   },
   {
    "duration": 6,
    "start_time": "2022-02-23T12:38:38.390Z"
   },
   {
    "duration": 6,
    "start_time": "2022-02-23T12:38:41.055Z"
   },
   {
    "duration": 483,
    "start_time": "2022-02-23T12:39:56.998Z"
   },
   {
    "duration": 770,
    "start_time": "2022-02-23T12:40:09.064Z"
   },
   {
    "duration": 566,
    "start_time": "2022-02-23T12:40:18.004Z"
   },
   {
    "duration": 9164,
    "start_time": "2022-02-23T12:41:20.739Z"
   },
   {
    "duration": 47,
    "start_time": "2022-02-23T12:41:29.906Z"
   },
   {
    "duration": 7,
    "start_time": "2022-02-23T12:41:29.966Z"
   },
   {
    "duration": 9,
    "start_time": "2022-02-23T12:41:29.977Z"
   },
   {
    "duration": 7,
    "start_time": "2022-02-23T12:41:29.989Z"
   },
   {
    "duration": 15,
    "start_time": "2022-02-23T12:41:29.998Z"
   },
   {
    "duration": 50,
    "start_time": "2022-02-23T12:41:30.017Z"
   },
   {
    "duration": 8,
    "start_time": "2022-02-23T12:41:30.070Z"
   },
   {
    "duration": 7,
    "start_time": "2022-02-23T12:41:30.080Z"
   },
   {
    "duration": 32,
    "start_time": "2022-02-23T12:41:30.089Z"
   },
   {
    "duration": 37,
    "start_time": "2022-02-23T12:41:30.124Z"
   },
   {
    "duration": 14,
    "start_time": "2022-02-23T12:41:30.164Z"
   },
   {
    "duration": 18,
    "start_time": "2022-02-23T12:41:30.180Z"
   },
   {
    "duration": 9,
    "start_time": "2022-02-23T12:41:30.201Z"
   },
   {
    "duration": 76,
    "start_time": "2022-02-23T12:41:30.213Z"
   },
   {
    "duration": 481,
    "start_time": "2022-02-23T12:41:30.292Z"
   },
   {
    "duration": 23,
    "start_time": "2022-02-23T12:41:30.776Z"
   },
   {
    "duration": 26,
    "start_time": "2022-02-23T12:41:30.801Z"
   },
   {
    "duration": 1025,
    "start_time": "2022-02-23T12:41:30.830Z"
   },
   {
    "duration": 209,
    "start_time": "2022-02-23T12:41:31.860Z"
   },
   {
    "duration": 149,
    "start_time": "2022-02-23T12:41:32.072Z"
   },
   {
    "duration": 52,
    "start_time": "2022-02-23T12:41:32.226Z"
   },
   {
    "duration": 21,
    "start_time": "2022-02-23T12:41:32.281Z"
   },
   {
    "duration": 57,
    "start_time": "2022-02-23T12:41:32.306Z"
   },
   {
    "duration": 134,
    "start_time": "2022-02-23T12:41:32.366Z"
   },
   {
    "duration": 130,
    "start_time": "2022-02-23T12:41:32.503Z"
   },
   {
    "duration": 134,
    "start_time": "2022-02-23T12:41:32.637Z"
   },
   {
    "duration": 657,
    "start_time": "2022-02-23T12:41:32.773Z"
   },
   {
    "duration": 640,
    "start_time": "2022-02-23T12:41:33.433Z"
   },
   {
    "duration": 9,
    "start_time": "2022-02-23T12:41:34.076Z"
   },
   {
    "duration": 1616,
    "start_time": "2022-02-23T12:41:34.088Z"
   },
   {
    "duration": 1540,
    "start_time": "2022-02-23T12:41:35.706Z"
   },
   {
    "duration": 1542,
    "start_time": "2022-02-23T12:41:37.249Z"
   },
   {
    "duration": 1511,
    "start_time": "2022-02-23T12:41:38.794Z"
   },
   {
    "duration": 403,
    "start_time": "2022-02-23T12:41:40.308Z"
   },
   {
    "duration": 349,
    "start_time": "2022-02-23T12:41:40.714Z"
   },
   {
    "duration": 43,
    "start_time": "2022-02-23T12:41:41.066Z"
   },
   {
    "duration": 63,
    "start_time": "2022-02-23T12:41:41.111Z"
   },
   {
    "duration": 37,
    "start_time": "2022-02-23T12:41:41.177Z"
   },
   {
    "duration": 76,
    "start_time": "2022-02-23T12:41:41.218Z"
   },
   {
    "duration": 33,
    "start_time": "2022-02-23T12:41:41.297Z"
   },
   {
    "duration": 57,
    "start_time": "2022-02-23T12:41:41.332Z"
   },
   {
    "duration": 37,
    "start_time": "2022-02-23T12:41:41.392Z"
   },
   {
    "duration": 60,
    "start_time": "2022-02-23T12:41:41.431Z"
   },
   {
    "duration": 71,
    "start_time": "2022-02-23T12:41:41.493Z"
   },
   {
    "duration": 25,
    "start_time": "2022-02-23T12:41:41.567Z"
   },
   {
    "duration": 719,
    "start_time": "2022-02-23T12:41:41.595Z"
   },
   {
    "duration": 8,
    "start_time": "2022-02-23T12:41:42.317Z"
   },
   {
    "duration": 40,
    "start_time": "2022-02-23T12:41:42.328Z"
   },
   {
    "duration": 669,
    "start_time": "2022-02-23T12:41:42.370Z"
   },
   {
    "duration": 7,
    "start_time": "2022-02-23T12:41:43.041Z"
   },
   {
    "duration": 8966,
    "start_time": "2022-02-23T12:42:42.001Z"
   },
   {
    "duration": 48,
    "start_time": "2022-02-23T12:42:50.970Z"
   },
   {
    "duration": 8,
    "start_time": "2022-02-23T12:42:51.024Z"
   },
   {
    "duration": 7,
    "start_time": "2022-02-23T12:42:51.061Z"
   },
   {
    "duration": 13,
    "start_time": "2022-02-23T12:42:51.072Z"
   },
   {
    "duration": 18,
    "start_time": "2022-02-23T12:42:51.087Z"
   },
   {
    "duration": 8,
    "start_time": "2022-02-23T12:42:51.109Z"
   },
   {
    "duration": 15,
    "start_time": "2022-02-23T12:42:51.120Z"
   },
   {
    "duration": 46,
    "start_time": "2022-02-23T12:42:51.163Z"
   },
   {
    "duration": 8,
    "start_time": "2022-02-23T12:42:51.212Z"
   },
   {
    "duration": 41,
    "start_time": "2022-02-23T12:42:51.222Z"
   },
   {
    "duration": 14,
    "start_time": "2022-02-23T12:42:51.265Z"
   },
   {
    "duration": 11,
    "start_time": "2022-02-23T12:42:51.282Z"
   },
   {
    "duration": 34,
    "start_time": "2022-02-23T12:42:51.295Z"
   },
   {
    "duration": 536,
    "start_time": "2022-02-23T12:42:51.331Z"
   },
   {
    "duration": 24,
    "start_time": "2022-02-23T12:42:51.870Z"
   },
   {
    "duration": 30,
    "start_time": "2022-02-23T12:42:51.897Z"
   },
   {
    "duration": 1052,
    "start_time": "2022-02-23T12:42:51.929Z"
   },
   {
    "duration": 222,
    "start_time": "2022-02-23T12:42:52.983Z"
   },
   {
    "duration": 191,
    "start_time": "2022-02-23T12:42:53.207Z"
   },
   {
    "duration": 37,
    "start_time": "2022-02-23T12:42:53.401Z"
   },
   {
    "duration": 22,
    "start_time": "2022-02-23T12:42:53.460Z"
   },
   {
    "duration": 24,
    "start_time": "2022-02-23T12:42:53.486Z"
   },
   {
    "duration": 157,
    "start_time": "2022-02-23T12:42:53.513Z"
   },
   {
    "duration": 128,
    "start_time": "2022-02-23T12:42:53.672Z"
   },
   {
    "duration": 167,
    "start_time": "2022-02-23T12:42:53.802Z"
   },
   {
    "duration": 648,
    "start_time": "2022-02-23T12:42:53.972Z"
   },
   {
    "duration": 652,
    "start_time": "2022-02-23T12:42:54.623Z"
   },
   {
    "duration": 11,
    "start_time": "2022-02-23T12:42:55.278Z"
   },
   {
    "duration": 1711,
    "start_time": "2022-02-23T12:42:55.293Z"
   },
   {
    "duration": 1608,
    "start_time": "2022-02-23T12:42:57.007Z"
   },
   {
    "duration": 2218,
    "start_time": "2022-02-23T12:42:58.618Z"
   },
   {
    "duration": 1617,
    "start_time": "2022-02-23T12:43:00.839Z"
   },
   {
    "duration": 521,
    "start_time": "2022-02-23T12:43:02.463Z"
   },
   {
    "duration": 447,
    "start_time": "2022-02-23T12:43:02.986Z"
   },
   {
    "duration": 53,
    "start_time": "2022-02-23T12:43:03.435Z"
   },
   {
    "duration": 39,
    "start_time": "2022-02-23T12:43:03.491Z"
   },
   {
    "duration": 36,
    "start_time": "2022-02-23T12:43:03.561Z"
   },
   {
    "duration": 63,
    "start_time": "2022-02-23T12:43:03.600Z"
   },
   {
    "duration": 45,
    "start_time": "2022-02-23T12:43:03.666Z"
   },
   {
    "duration": 55,
    "start_time": "2022-02-23T12:43:03.713Z"
   },
   {
    "duration": 54,
    "start_time": "2022-02-23T12:43:03.781Z"
   },
   {
    "duration": 39,
    "start_time": "2022-02-23T12:43:03.839Z"
   },
   {
    "duration": 39,
    "start_time": "2022-02-23T12:43:03.881Z"
   },
   {
    "duration": 46,
    "start_time": "2022-02-23T12:43:03.923Z"
   },
   {
    "duration": 744,
    "start_time": "2022-02-23T12:43:03.972Z"
   },
   {
    "duration": 6,
    "start_time": "2022-02-23T12:43:04.719Z"
   },
   {
    "duration": 45,
    "start_time": "2022-02-23T12:43:04.728Z"
   },
   {
    "duration": 647,
    "start_time": "2022-02-23T12:43:04.775Z"
   },
   {
    "duration": 7,
    "start_time": "2022-02-23T12:43:05.424Z"
   },
   {
    "duration": 9623,
    "start_time": "2022-02-23T13:22:55.046Z"
   },
   {
    "duration": 45,
    "start_time": "2022-02-23T13:23:04.673Z"
   },
   {
    "duration": 8,
    "start_time": "2022-02-23T13:23:04.721Z"
   },
   {
    "duration": 8,
    "start_time": "2022-02-23T13:23:04.762Z"
   },
   {
    "duration": 18,
    "start_time": "2022-02-23T13:23:04.773Z"
   },
   {
    "duration": 6,
    "start_time": "2022-02-23T13:23:04.795Z"
   },
   {
    "duration": 7,
    "start_time": "2022-02-23T13:23:04.804Z"
   },
   {
    "duration": 6,
    "start_time": "2022-02-23T13:23:04.814Z"
   },
   {
    "duration": 71,
    "start_time": "2022-02-23T13:23:04.822Z"
   },
   {
    "duration": 9,
    "start_time": "2022-02-23T13:23:04.896Z"
   },
   {
    "duration": 20,
    "start_time": "2022-02-23T13:23:04.908Z"
   },
   {
    "duration": 43,
    "start_time": "2022-02-23T13:23:04.930Z"
   },
   {
    "duration": 11,
    "start_time": "2022-02-23T13:23:04.976Z"
   },
   {
    "duration": 33,
    "start_time": "2022-02-23T13:23:04.990Z"
   },
   {
    "duration": 528,
    "start_time": "2022-02-23T13:23:05.025Z"
   },
   {
    "duration": 23,
    "start_time": "2022-02-23T13:23:05.561Z"
   },
   {
    "duration": 27,
    "start_time": "2022-02-23T13:23:05.586Z"
   },
   {
    "duration": 723,
    "start_time": "2022-02-23T13:23:05.620Z"
   },
   {
    "duration": 224,
    "start_time": "2022-02-23T13:23:06.346Z"
   },
   {
    "duration": 151,
    "start_time": "2022-02-23T13:23:06.572Z"
   },
   {
    "duration": 50,
    "start_time": "2022-02-23T13:23:06.725Z"
   },
   {
    "duration": 23,
    "start_time": "2022-02-23T13:23:06.777Z"
   },
   {
    "duration": 24,
    "start_time": "2022-02-23T13:23:06.802Z"
   },
   {
    "duration": 156,
    "start_time": "2022-02-23T13:23:06.829Z"
   },
   {
    "duration": 196,
    "start_time": "2022-02-23T13:23:06.989Z"
   },
   {
    "duration": 108,
    "start_time": "2022-02-23T13:23:07.188Z"
   },
   {
    "duration": 699,
    "start_time": "2022-02-23T13:23:07.298Z"
   },
   {
    "duration": 657,
    "start_time": "2022-02-23T13:23:07.999Z"
   },
   {
    "duration": 7,
    "start_time": "2022-02-23T13:23:08.659Z"
   },
   {
    "duration": 1575,
    "start_time": "2022-02-23T13:23:08.669Z"
   },
   {
    "duration": 1584,
    "start_time": "2022-02-23T13:23:10.247Z"
   },
   {
    "duration": 1339,
    "start_time": "2022-02-23T13:23:11.834Z"
   },
   {
    "duration": 1503,
    "start_time": "2022-02-23T13:23:13.176Z"
   },
   {
    "duration": 358,
    "start_time": "2022-02-23T13:23:14.682Z"
   },
   {
    "duration": 344,
    "start_time": "2022-02-23T13:23:15.043Z"
   },
   {
    "duration": 36,
    "start_time": "2022-02-23T13:23:15.389Z"
   },
   {
    "duration": 66,
    "start_time": "2022-02-23T13:23:15.427Z"
   },
   {
    "duration": 36,
    "start_time": "2022-02-23T13:23:15.495Z"
   },
   {
    "duration": 71,
    "start_time": "2022-02-23T13:23:15.535Z"
   },
   {
    "duration": 70,
    "start_time": "2022-02-23T13:23:15.609Z"
   },
   {
    "duration": 35,
    "start_time": "2022-02-23T13:23:15.681Z"
   },
   {
    "duration": 61,
    "start_time": "2022-02-23T13:23:15.719Z"
   },
   {
    "duration": 42,
    "start_time": "2022-02-23T13:23:15.782Z"
   },
   {
    "duration": 53,
    "start_time": "2022-02-23T13:23:15.826Z"
   },
   {
    "duration": 18,
    "start_time": "2022-02-23T13:23:15.881Z"
   },
   {
    "duration": 680,
    "start_time": "2022-02-23T13:23:15.902Z"
   },
   {
    "duration": 8,
    "start_time": "2022-02-23T13:23:16.585Z"
   },
   {
    "duration": 21,
    "start_time": "2022-02-23T13:23:16.596Z"
   },
   {
    "duration": 627,
    "start_time": "2022-02-23T13:23:16.619Z"
   },
   {
    "duration": 9,
    "start_time": "2022-02-23T13:23:17.261Z"
   },
   {
    "duration": 557,
    "start_time": "2022-02-23T13:26:34.396Z"
   },
   {
    "duration": 63,
    "start_time": "2022-02-23T13:26:41.325Z"
   },
   {
    "duration": 57,
    "start_time": "2022-02-23T13:26:52.927Z"
   },
   {
    "duration": 320,
    "start_time": "2022-02-23T13:28:41.194Z"
   },
   {
    "duration": 7784,
    "start_time": "2022-02-23T13:29:12.379Z"
   },
   {
    "duration": 68,
    "start_time": "2022-02-23T13:30:04.826Z"
   },
   {
    "duration": 454,
    "start_time": "2022-02-23T13:31:03.230Z"
   },
   {
    "duration": 68,
    "start_time": "2022-02-23T13:31:13.027Z"
   },
   {
    "duration": 103,
    "start_time": "2022-02-23T13:31:22.144Z"
   },
   {
    "duration": 94,
    "start_time": "2022-02-23T13:32:13.280Z"
   },
   {
    "duration": 97,
    "start_time": "2022-02-23T13:33:12.272Z"
   },
   {
    "duration": 102,
    "start_time": "2022-02-23T13:33:46.071Z"
   },
   {
    "duration": 91,
    "start_time": "2022-02-23T13:34:05.852Z"
   },
   {
    "duration": 94,
    "start_time": "2022-02-23T13:34:45.439Z"
   },
   {
    "duration": 97,
    "start_time": "2022-02-23T13:35:06.693Z"
   },
   {
    "duration": 98,
    "start_time": "2022-02-23T13:35:25.076Z"
   },
   {
    "duration": 97,
    "start_time": "2022-02-23T13:35:51.411Z"
   },
   {
    "duration": 8790,
    "start_time": "2022-02-23T13:39:46.385Z"
   },
   {
    "duration": 47,
    "start_time": "2022-02-23T13:39:55.178Z"
   },
   {
    "duration": 8,
    "start_time": "2022-02-23T13:39:55.228Z"
   },
   {
    "duration": 8,
    "start_time": "2022-02-23T13:39:55.263Z"
   },
   {
    "duration": 7,
    "start_time": "2022-02-23T13:39:55.274Z"
   },
   {
    "duration": 12,
    "start_time": "2022-02-23T13:39:55.283Z"
   },
   {
    "duration": 14,
    "start_time": "2022-02-23T13:39:55.298Z"
   },
   {
    "duration": 46,
    "start_time": "2022-02-23T13:39:55.317Z"
   },
   {
    "duration": 31,
    "start_time": "2022-02-23T13:39:55.366Z"
   },
   {
    "duration": 10,
    "start_time": "2022-02-23T13:39:55.400Z"
   },
   {
    "duration": 23,
    "start_time": "2022-02-23T13:39:55.412Z"
   },
   {
    "duration": 31,
    "start_time": "2022-02-23T13:39:55.438Z"
   },
   {
    "duration": 6,
    "start_time": "2022-02-23T13:39:55.472Z"
   },
   {
    "duration": 32,
    "start_time": "2022-02-23T13:39:55.481Z"
   },
   {
    "duration": 533,
    "start_time": "2022-02-23T13:39:55.517Z"
   },
   {
    "duration": 29,
    "start_time": "2022-02-23T13:39:56.053Z"
   },
   {
    "duration": 25,
    "start_time": "2022-02-23T13:39:56.085Z"
   },
   {
    "duration": 711,
    "start_time": "2022-02-23T13:39:56.112Z"
   },
   {
    "duration": 238,
    "start_time": "2022-02-23T13:39:56.825Z"
   },
   {
    "duration": 146,
    "start_time": "2022-02-23T13:39:57.066Z"
   },
   {
    "duration": 59,
    "start_time": "2022-02-23T13:39:57.216Z"
   },
   {
    "duration": 21,
    "start_time": "2022-02-23T13:39:57.278Z"
   },
   {
    "duration": 23,
    "start_time": "2022-02-23T13:39:57.305Z"
   },
   {
    "duration": 122,
    "start_time": "2022-02-23T13:39:57.360Z"
   },
   {
    "duration": 122,
    "start_time": "2022-02-23T13:39:57.485Z"
   },
   {
    "duration": 106,
    "start_time": "2022-02-23T13:39:57.609Z"
   },
   {
    "duration": 579,
    "start_time": "2022-02-23T13:39:57.717Z"
   },
   {
    "duration": 584,
    "start_time": "2022-02-23T13:39:58.299Z"
   },
   {
    "duration": 8,
    "start_time": "2022-02-23T13:39:58.885Z"
   },
   {
    "duration": 1352,
    "start_time": "2022-02-23T13:39:58.895Z"
   },
   {
    "duration": 1594,
    "start_time": "2022-02-23T13:40:00.251Z"
   },
   {
    "duration": 1398,
    "start_time": "2022-02-23T13:40:01.848Z"
   },
   {
    "duration": 1568,
    "start_time": "2022-02-23T13:40:03.249Z"
   },
   {
    "duration": 358,
    "start_time": "2022-02-23T13:40:04.819Z"
   },
   {
    "duration": 402,
    "start_time": "2022-02-23T13:40:05.180Z"
   },
   {
    "duration": 33,
    "start_time": "2022-02-23T13:40:05.584Z"
   },
   {
    "duration": 100,
    "start_time": "2022-02-23T13:40:05.620Z"
   },
   {
    "duration": 111,
    "start_time": "2022-02-23T13:40:05.723Z"
   },
   {
    "duration": 104,
    "start_time": "2022-02-23T13:40:05.836Z"
   },
   {
    "duration": 124,
    "start_time": "2022-02-23T13:40:05.942Z"
   },
   {
    "duration": 102,
    "start_time": "2022-02-23T13:40:06.068Z"
   },
   {
    "duration": 109,
    "start_time": "2022-02-23T13:40:06.173Z"
   },
   {
    "duration": 108,
    "start_time": "2022-02-23T13:40:06.284Z"
   },
   {
    "duration": 110,
    "start_time": "2022-02-23T13:40:06.395Z"
   },
   {
    "duration": 111,
    "start_time": "2022-02-23T13:40:06.508Z"
   },
   {
    "duration": 17,
    "start_time": "2022-02-23T13:40:06.622Z"
   },
   {
    "duration": 639,
    "start_time": "2022-02-23T13:40:06.662Z"
   },
   {
    "duration": 8,
    "start_time": "2022-02-23T13:40:07.304Z"
   },
   {
    "duration": 48,
    "start_time": "2022-02-23T13:40:07.315Z"
   },
   {
    "duration": 629,
    "start_time": "2022-02-23T13:40:07.366Z"
   },
   {
    "duration": 8,
    "start_time": "2022-02-23T13:40:07.998Z"
   },
   {
    "duration": 94,
    "start_time": "2022-02-23T19:39:47.740Z"
   }
  ],
  "kernelspec": {
   "display_name": "Python 3 (ipykernel)",
   "language": "python",
   "name": "python3"
  },
  "language_info": {
   "codemirror_mode": {
    "name": "ipython",
    "version": 3
   },
   "file_extension": ".py",
   "mimetype": "text/x-python",
   "name": "python",
   "nbconvert_exporter": "python",
   "pygments_lexer": "ipython3",
   "version": "3.9.12"
  },
  "toc": {
   "base_numbering": 1,
   "nav_menu": {},
   "number_sections": true,
   "sideBar": true,
   "skip_h1_title": true,
   "title_cell": "Table of Contents",
   "title_sidebar": "Contents",
   "toc_cell": false,
   "toc_position": {},
   "toc_section_display": true,
   "toc_window_display": false
  }
 },
 "nbformat": 4,
 "nbformat_minor": 2
}
