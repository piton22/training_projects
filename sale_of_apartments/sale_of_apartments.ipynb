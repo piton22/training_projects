{
  {
   "cell_type": "markdown",
   "metadata": {},
   "source": [
    "# Исследование объявлений о продаже квартир\n",
    "\n",
    "На основе архивных объявлений сервиса Яндекс.Недвижимость нужно научиться определять рыночную стоимость квартир в Санкт-Петербурге и соседних населённых пунктах за несколько лет.\n",
    "\n",
    "Часть данных получена от пользователей, другая часть - на основе картографических данных (расстояние до центра, аэропорта и т.д.)."
   ]
  },
  {
   "cell_type": "markdown",
   "metadata": {},
   "source": [
    "## Изучение данных из файла"
   ]
  },
  {
   "cell_type": "code",
   "execution_count": 1,
   "metadata": {},
   "outputs": [],
   "source": [
    "import pandas as pd                                              \n",
    "import matplotlib.pyplot as plt                                       "
   ]
  },
  {
   "cell_type": "code",
   "execution_count": 2,
   "metadata": {},
   "outputs": [
    {
     "name": "stdout",
     "output_type": "stream",
     "text": [
      "<class 'pandas.core.frame.DataFrame'>\n",
      "RangeIndex: 23699 entries, 0 to 23698\n",
      "Data columns (total 22 columns):\n",
      " #   Column                Non-Null Count  Dtype  \n",
      "---  ------                --------------  -----  \n",
      " 0   total_images          23699 non-null  int64  \n",
      " 1   last_price            23699 non-null  float64\n",
      " 2   total_area            23699 non-null  float64\n",
      " 3   first_day_exposition  23699 non-null  object \n",
      " 4   rooms                 23699 non-null  int64  \n",
      " 5   ceiling_height        14504 non-null  float64\n",
      " 6   floors_total          23613 non-null  float64\n",
      " 7   living_area           21796 non-null  float64\n",
      " 8   floor                 23699 non-null  int64  \n",
      " 9   is_apartment          2775 non-null   object \n",
      " 10  studio                23699 non-null  bool   \n",
      " 11  open_plan             23699 non-null  bool   \n",
      " 12  kitchen_area          21421 non-null  float64\n",
      " 13  balcony               12180 non-null  float64\n",
      " 14  locality_name         23650 non-null  object \n",
      " 15  airports_nearest      18157 non-null  float64\n",
      " 16  cityCenters_nearest   18180 non-null  float64\n",
      " 17  parks_around3000      18181 non-null  float64\n",
      " 18  parks_nearest         8079 non-null   float64\n",
      " 19  ponds_around3000      18181 non-null  float64\n",
      " 20  ponds_nearest         9110 non-null   float64\n",
      " 21  days_exposition       20518 non-null  float64\n",
      "dtypes: bool(2), float64(14), int64(3), object(3)\n",
      "memory usage: 3.7+ MB\n"
     ]
    }
   ],
   "source": [
    "try:\n",
    "    data = pd.read_csv('/datasets/real_estate_data.csv', sep='\\t')\n",
    "except:\n",
    "    data = pd.read_csv(\"C:\\\\Users\\\\Дмитрий\\\\Desktop\\\\Проекты Я.Практикум\\\\sale_of_apartments\\\\real_estate_data.csv\", sep='\\t')\n",
    "data.info()                                                      "
   ]
  },
  {
   "cell_type": "markdown",
   "metadata": {},
   "source": [
    "Определяем долю пропусков"
   ]
  },
  {
   "cell_type": "code",
   "execution_count": 3,
   "metadata": {},
   "outputs": [
    {
     "data": {
      "text/plain": [
       "total_images            0.000000\n",
       "last_price              0.000000\n",
       "total_area              0.000000\n",
       "first_day_exposition    0.000000\n",
       "rooms                   0.000000\n",
       "ceiling_height          0.387991\n",
       "floors_total            0.003629\n",
       "living_area             0.080299\n",
       "floor                   0.000000\n",
       "is_apartment            0.882906\n",
       "studio                  0.000000\n",
       "open_plan               0.000000\n",
       "kitchen_area            0.096122\n",
       "balcony                 0.486054\n",
       "locality_name           0.002068\n",
       "airports_nearest        0.233850\n",
       "cityCenters_nearest     0.232879\n",
       "parks_around3000        0.232837\n",
       "parks_nearest           0.659100\n",
       "ponds_around3000        0.232837\n",
       "ponds_nearest           0.615596\n",
       "days_exposition         0.134225\n",
       "dtype: float64"
      ]
     },
     "execution_count": 3,
     "metadata": {},
     "output_type": "execute_result"
    }
   ],
   "source": [
    "data.isna().mean()     "
   ]
  },
  {
   "cell_type": "code",
   "execution_count": 4,
   "metadata": {},
   "outputs": [
    {
     "data": {
      "text/html": [
       "<div>\n",
       "<style scoped>\n",
       "    .dataframe tbody tr th:only-of-type {\n",
       "        vertical-align: middle;\n",
       "    }\n",
       "\n",
       "    .dataframe tbody tr th {\n",
       "        vertical-align: top;\n",
       "    }\n",
       "\n",
       "    .dataframe thead th {\n",
       "        text-align: right;\n",
       "    }\n",
       "</style>\n",
       "<table border=\"1\" class=\"dataframe\">\n",
       "  <thead>\n",
       "    <tr style=\"text-align: right;\">\n",
       "      <th></th>\n",
       "      <th>total_images</th>\n",
       "      <th>last_price</th>\n",
       "      <th>total_area</th>\n",
       "      <th>rooms</th>\n",
       "      <th>ceiling_height</th>\n",
       "      <th>floors_total</th>\n",
       "      <th>living_area</th>\n",
       "      <th>floor</th>\n",
       "      <th>kitchen_area</th>\n",
       "      <th>balcony</th>\n",
       "      <th>airports_nearest</th>\n",
       "      <th>cityCenters_nearest</th>\n",
       "      <th>parks_around3000</th>\n",
       "      <th>parks_nearest</th>\n",
       "      <th>ponds_around3000</th>\n",
       "      <th>ponds_nearest</th>\n",
       "      <th>days_exposition</th>\n",
       "    </tr>\n",
       "  </thead>\n",
       "  <tbody>\n",
       "    <tr>\n",
       "      <th>count</th>\n",
       "      <td>23699.000000</td>\n",
       "      <td>2.369900e+04</td>\n",
       "      <td>23699.000000</td>\n",
       "      <td>23699.000000</td>\n",
       "      <td>14504.000000</td>\n",
       "      <td>23613.000000</td>\n",
       "      <td>21796.000000</td>\n",
       "      <td>23699.000000</td>\n",
       "      <td>21421.000000</td>\n",
       "      <td>12180.000000</td>\n",
       "      <td>18157.000000</td>\n",
       "      <td>18180.000000</td>\n",
       "      <td>18181.000000</td>\n",
       "      <td>8079.000000</td>\n",
       "      <td>18181.000000</td>\n",
       "      <td>9110.000000</td>\n",
       "      <td>20518.000000</td>\n",
       "    </tr>\n",
       "    <tr>\n",
       "      <th>mean</th>\n",
       "      <td>9.858475</td>\n",
       "      <td>6.541549e+06</td>\n",
       "      <td>60.348651</td>\n",
       "      <td>2.070636</td>\n",
       "      <td>2.771499</td>\n",
       "      <td>10.673824</td>\n",
       "      <td>34.457852</td>\n",
       "      <td>5.892358</td>\n",
       "      <td>10.569807</td>\n",
       "      <td>1.150082</td>\n",
       "      <td>28793.672193</td>\n",
       "      <td>14191.277833</td>\n",
       "      <td>0.611408</td>\n",
       "      <td>490.804555</td>\n",
       "      <td>0.770255</td>\n",
       "      <td>517.980900</td>\n",
       "      <td>180.888634</td>\n",
       "    </tr>\n",
       "    <tr>\n",
       "      <th>std</th>\n",
       "      <td>5.682529</td>\n",
       "      <td>1.088701e+07</td>\n",
       "      <td>35.654083</td>\n",
       "      <td>1.078405</td>\n",
       "      <td>1.261056</td>\n",
       "      <td>6.597173</td>\n",
       "      <td>22.030445</td>\n",
       "      <td>4.885249</td>\n",
       "      <td>5.905438</td>\n",
       "      <td>1.071300</td>\n",
       "      <td>12630.880622</td>\n",
       "      <td>8608.386210</td>\n",
       "      <td>0.802074</td>\n",
       "      <td>342.317995</td>\n",
       "      <td>0.938346</td>\n",
       "      <td>277.720643</td>\n",
       "      <td>219.727988</td>\n",
       "    </tr>\n",
       "    <tr>\n",
       "      <th>min</th>\n",
       "      <td>0.000000</td>\n",
       "      <td>1.219000e+04</td>\n",
       "      <td>12.000000</td>\n",
       "      <td>0.000000</td>\n",
       "      <td>1.000000</td>\n",
       "      <td>1.000000</td>\n",
       "      <td>2.000000</td>\n",
       "      <td>1.000000</td>\n",
       "      <td>1.300000</td>\n",
       "      <td>0.000000</td>\n",
       "      <td>0.000000</td>\n",
       "      <td>181.000000</td>\n",
       "      <td>0.000000</td>\n",
       "      <td>1.000000</td>\n",
       "      <td>0.000000</td>\n",
       "      <td>13.000000</td>\n",
       "      <td>1.000000</td>\n",
       "    </tr>\n",
       "    <tr>\n",
       "      <th>25%</th>\n",
       "      <td>6.000000</td>\n",
       "      <td>3.400000e+06</td>\n",
       "      <td>40.000000</td>\n",
       "      <td>1.000000</td>\n",
       "      <td>2.520000</td>\n",
       "      <td>5.000000</td>\n",
       "      <td>18.600000</td>\n",
       "      <td>2.000000</td>\n",
       "      <td>7.000000</td>\n",
       "      <td>0.000000</td>\n",
       "      <td>18585.000000</td>\n",
       "      <td>9238.000000</td>\n",
       "      <td>0.000000</td>\n",
       "      <td>288.000000</td>\n",
       "      <td>0.000000</td>\n",
       "      <td>294.000000</td>\n",
       "      <td>45.000000</td>\n",
       "    </tr>\n",
       "    <tr>\n",
       "      <th>50%</th>\n",
       "      <td>9.000000</td>\n",
       "      <td>4.650000e+06</td>\n",
       "      <td>52.000000</td>\n",
       "      <td>2.000000</td>\n",
       "      <td>2.650000</td>\n",
       "      <td>9.000000</td>\n",
       "      <td>30.000000</td>\n",
       "      <td>4.000000</td>\n",
       "      <td>9.100000</td>\n",
       "      <td>1.000000</td>\n",
       "      <td>26726.000000</td>\n",
       "      <td>13098.500000</td>\n",
       "      <td>0.000000</td>\n",
       "      <td>455.000000</td>\n",
       "      <td>1.000000</td>\n",
       "      <td>502.000000</td>\n",
       "      <td>95.000000</td>\n",
       "    </tr>\n",
       "    <tr>\n",
       "      <th>75%</th>\n",
       "      <td>14.000000</td>\n",
       "      <td>6.800000e+06</td>\n",
       "      <td>69.900000</td>\n",
       "      <td>3.000000</td>\n",
       "      <td>2.800000</td>\n",
       "      <td>16.000000</td>\n",
       "      <td>42.300000</td>\n",
       "      <td>8.000000</td>\n",
       "      <td>12.000000</td>\n",
       "      <td>2.000000</td>\n",
       "      <td>37273.000000</td>\n",
       "      <td>16293.000000</td>\n",
       "      <td>1.000000</td>\n",
       "      <td>612.000000</td>\n",
       "      <td>1.000000</td>\n",
       "      <td>729.000000</td>\n",
       "      <td>232.000000</td>\n",
       "    </tr>\n",
       "    <tr>\n",
       "      <th>max</th>\n",
       "      <td>50.000000</td>\n",
       "      <td>7.630000e+08</td>\n",
       "      <td>900.000000</td>\n",
       "      <td>19.000000</td>\n",
       "      <td>100.000000</td>\n",
       "      <td>60.000000</td>\n",
       "      <td>409.700000</td>\n",
       "      <td>33.000000</td>\n",
       "      <td>112.000000</td>\n",
       "      <td>5.000000</td>\n",
       "      <td>84869.000000</td>\n",
       "      <td>65968.000000</td>\n",
       "      <td>3.000000</td>\n",
       "      <td>3190.000000</td>\n",
       "      <td>3.000000</td>\n",
       "      <td>1344.000000</td>\n",
       "      <td>1580.000000</td>\n",
       "    </tr>\n",
       "  </tbody>\n",
       "</table>\n",
       "</div>"
      ],
      "text/plain": [
       "       total_images    last_price    total_area         rooms  ceiling_height  \\\n",
       "count  23699.000000  2.369900e+04  23699.000000  23699.000000    14504.000000   \n",
       "mean       9.858475  6.541549e+06     60.348651      2.070636        2.771499   \n",
       "std        5.682529  1.088701e+07     35.654083      1.078405        1.261056   \n",
       "min        0.000000  1.219000e+04     12.000000      0.000000        1.000000   \n",
       "25%        6.000000  3.400000e+06     40.000000      1.000000        2.520000   \n",
       "50%        9.000000  4.650000e+06     52.000000      2.000000        2.650000   \n",
       "75%       14.000000  6.800000e+06     69.900000      3.000000        2.800000   \n",
       "max       50.000000  7.630000e+08    900.000000     19.000000      100.000000   \n",
       "\n",
       "       floors_total   living_area         floor  kitchen_area       balcony  \\\n",
       "count  23613.000000  21796.000000  23699.000000  21421.000000  12180.000000   \n",
       "mean      10.673824     34.457852      5.892358     10.569807      1.150082   \n",
       "std        6.597173     22.030445      4.885249      5.905438      1.071300   \n",
       "min        1.000000      2.000000      1.000000      1.300000      0.000000   \n",
       "25%        5.000000     18.600000      2.000000      7.000000      0.000000   \n",
       "50%        9.000000     30.000000      4.000000      9.100000      1.000000   \n",
       "75%       16.000000     42.300000      8.000000     12.000000      2.000000   \n",
       "max       60.000000    409.700000     33.000000    112.000000      5.000000   \n",
       "\n",
       "       airports_nearest  cityCenters_nearest  parks_around3000  parks_nearest  \\\n",
       "count      18157.000000         18180.000000      18181.000000    8079.000000   \n",
       "mean       28793.672193         14191.277833          0.611408     490.804555   \n",
       "std        12630.880622          8608.386210          0.802074     342.317995   \n",
       "min            0.000000           181.000000          0.000000       1.000000   \n",
       "25%        18585.000000          9238.000000          0.000000     288.000000   \n",
       "50%        26726.000000         13098.500000          0.000000     455.000000   \n",
       "75%        37273.000000         16293.000000          1.000000     612.000000   \n",
       "max        84869.000000         65968.000000          3.000000    3190.000000   \n",
       "\n",
       "       ponds_around3000  ponds_nearest  days_exposition  \n",
       "count      18181.000000    9110.000000     20518.000000  \n",
       "mean           0.770255     517.980900       180.888634  \n",
       "std            0.938346     277.720643       219.727988  \n",
       "min            0.000000      13.000000         1.000000  \n",
       "25%            0.000000     294.000000        45.000000  \n",
       "50%            1.000000     502.000000        95.000000  \n",
       "75%            1.000000     729.000000       232.000000  \n",
       "max            3.000000    1344.000000      1580.000000  "
      ]
     },
     "execution_count": 4,
     "metadata": {},
     "output_type": "execute_result"
    }
   ],
   "source": [
    "data.describe()"
   ]
  },
  {
   "cell_type": "code",
   "execution_count": 5,
   "metadata": {},
   "outputs": [
    {
     "data": {
      "text/html": [
       "<div>\n",
       "<style scoped>\n",
       "    .dataframe tbody tr th:only-of-type {\n",
       "        vertical-align: middle;\n",
       "    }\n",
       "\n",
       "    .dataframe tbody tr th {\n",
       "        vertical-align: top;\n",
       "    }\n",
       "\n",
       "    .dataframe thead th {\n",
       "        text-align: right;\n",
       "    }\n",
       "</style>\n",
       "<table border=\"1\" class=\"dataframe\">\n",
       "  <thead>\n",
       "    <tr style=\"text-align: right;\">\n",
       "      <th></th>\n",
       "      <th>total_images</th>\n",
       "      <th>last_price</th>\n",
       "      <th>total_area</th>\n",
       "      <th>first_day_exposition</th>\n",
       "      <th>rooms</th>\n",
       "      <th>ceiling_height</th>\n",
       "      <th>floors_total</th>\n",
       "      <th>living_area</th>\n",
       "      <th>floor</th>\n",
       "      <th>is_apartment</th>\n",
       "      <th>...</th>\n",
       "      <th>kitchen_area</th>\n",
       "      <th>balcony</th>\n",
       "      <th>locality_name</th>\n",
       "      <th>airports_nearest</th>\n",
       "      <th>cityCenters_nearest</th>\n",
       "      <th>parks_around3000</th>\n",
       "      <th>parks_nearest</th>\n",
       "      <th>ponds_around3000</th>\n",
       "      <th>ponds_nearest</th>\n",
       "      <th>days_exposition</th>\n",
       "    </tr>\n",
       "  </thead>\n",
       "  <tbody>\n",
       "    <tr>\n",
       "      <th>0</th>\n",
       "      <td>20</td>\n",
       "      <td>13000000.0</td>\n",
       "      <td>108.00</td>\n",
       "      <td>2019-03-07T00:00:00</td>\n",
       "      <td>3</td>\n",
       "      <td>2.70</td>\n",
       "      <td>16.0</td>\n",
       "      <td>51.0</td>\n",
       "      <td>8</td>\n",
       "      <td>NaN</td>\n",
       "      <td>...</td>\n",
       "      <td>25.00</td>\n",
       "      <td>NaN</td>\n",
       "      <td>Санкт-Петербург</td>\n",
       "      <td>18863.0</td>\n",
       "      <td>16028.0</td>\n",
       "      <td>1.0</td>\n",
       "      <td>482.0</td>\n",
       "      <td>2.0</td>\n",
       "      <td>755.0</td>\n",
       "      <td>NaN</td>\n",
       "    </tr>\n",
       "    <tr>\n",
       "      <th>1</th>\n",
       "      <td>7</td>\n",
       "      <td>3350000.0</td>\n",
       "      <td>40.40</td>\n",
       "      <td>2018-12-04T00:00:00</td>\n",
       "      <td>1</td>\n",
       "      <td>NaN</td>\n",
       "      <td>11.0</td>\n",
       "      <td>18.6</td>\n",
       "      <td>1</td>\n",
       "      <td>NaN</td>\n",
       "      <td>...</td>\n",
       "      <td>11.00</td>\n",
       "      <td>2.0</td>\n",
       "      <td>посёлок Шушары</td>\n",
       "      <td>12817.0</td>\n",
       "      <td>18603.0</td>\n",
       "      <td>0.0</td>\n",
       "      <td>NaN</td>\n",
       "      <td>0.0</td>\n",
       "      <td>NaN</td>\n",
       "      <td>81.0</td>\n",
       "    </tr>\n",
       "    <tr>\n",
       "      <th>2</th>\n",
       "      <td>10</td>\n",
       "      <td>5196000.0</td>\n",
       "      <td>56.00</td>\n",
       "      <td>2015-08-20T00:00:00</td>\n",
       "      <td>2</td>\n",
       "      <td>NaN</td>\n",
       "      <td>5.0</td>\n",
       "      <td>34.3</td>\n",
       "      <td>4</td>\n",
       "      <td>NaN</td>\n",
       "      <td>...</td>\n",
       "      <td>8.30</td>\n",
       "      <td>0.0</td>\n",
       "      <td>Санкт-Петербург</td>\n",
       "      <td>21741.0</td>\n",
       "      <td>13933.0</td>\n",
       "      <td>1.0</td>\n",
       "      <td>90.0</td>\n",
       "      <td>2.0</td>\n",
       "      <td>574.0</td>\n",
       "      <td>558.0</td>\n",
       "    </tr>\n",
       "    <tr>\n",
       "      <th>3</th>\n",
       "      <td>0</td>\n",
       "      <td>64900000.0</td>\n",
       "      <td>159.00</td>\n",
       "      <td>2015-07-24T00:00:00</td>\n",
       "      <td>3</td>\n",
       "      <td>NaN</td>\n",
       "      <td>14.0</td>\n",
       "      <td>NaN</td>\n",
       "      <td>9</td>\n",
       "      <td>NaN</td>\n",
       "      <td>...</td>\n",
       "      <td>NaN</td>\n",
       "      <td>0.0</td>\n",
       "      <td>Санкт-Петербург</td>\n",
       "      <td>28098.0</td>\n",
       "      <td>6800.0</td>\n",
       "      <td>2.0</td>\n",
       "      <td>84.0</td>\n",
       "      <td>3.0</td>\n",
       "      <td>234.0</td>\n",
       "      <td>424.0</td>\n",
       "    </tr>\n",
       "    <tr>\n",
       "      <th>4</th>\n",
       "      <td>2</td>\n",
       "      <td>10000000.0</td>\n",
       "      <td>100.00</td>\n",
       "      <td>2018-06-19T00:00:00</td>\n",
       "      <td>2</td>\n",
       "      <td>3.03</td>\n",
       "      <td>14.0</td>\n",
       "      <td>32.0</td>\n",
       "      <td>13</td>\n",
       "      <td>NaN</td>\n",
       "      <td>...</td>\n",
       "      <td>41.00</td>\n",
       "      <td>NaN</td>\n",
       "      <td>Санкт-Петербург</td>\n",
       "      <td>31856.0</td>\n",
       "      <td>8098.0</td>\n",
       "      <td>2.0</td>\n",
       "      <td>112.0</td>\n",
       "      <td>1.0</td>\n",
       "      <td>48.0</td>\n",
       "      <td>121.0</td>\n",
       "    </tr>\n",
       "    <tr>\n",
       "      <th>...</th>\n",
       "      <td>...</td>\n",
       "      <td>...</td>\n",
       "      <td>...</td>\n",
       "      <td>...</td>\n",
       "      <td>...</td>\n",
       "      <td>...</td>\n",
       "      <td>...</td>\n",
       "      <td>...</td>\n",
       "      <td>...</td>\n",
       "      <td>...</td>\n",
       "      <td>...</td>\n",
       "      <td>...</td>\n",
       "      <td>...</td>\n",
       "      <td>...</td>\n",
       "      <td>...</td>\n",
       "      <td>...</td>\n",
       "      <td>...</td>\n",
       "      <td>...</td>\n",
       "      <td>...</td>\n",
       "      <td>...</td>\n",
       "      <td>...</td>\n",
       "    </tr>\n",
       "    <tr>\n",
       "      <th>23694</th>\n",
       "      <td>9</td>\n",
       "      <td>9700000.0</td>\n",
       "      <td>133.81</td>\n",
       "      <td>2017-03-21T00:00:00</td>\n",
       "      <td>3</td>\n",
       "      <td>3.70</td>\n",
       "      <td>5.0</td>\n",
       "      <td>73.3</td>\n",
       "      <td>3</td>\n",
       "      <td>NaN</td>\n",
       "      <td>...</td>\n",
       "      <td>13.83</td>\n",
       "      <td>NaN</td>\n",
       "      <td>Санкт-Петербург</td>\n",
       "      <td>24665.0</td>\n",
       "      <td>4232.0</td>\n",
       "      <td>1.0</td>\n",
       "      <td>796.0</td>\n",
       "      <td>3.0</td>\n",
       "      <td>381.0</td>\n",
       "      <td>NaN</td>\n",
       "    </tr>\n",
       "    <tr>\n",
       "      <th>23695</th>\n",
       "      <td>14</td>\n",
       "      <td>3100000.0</td>\n",
       "      <td>59.00</td>\n",
       "      <td>2018-01-15T00:00:00</td>\n",
       "      <td>3</td>\n",
       "      <td>NaN</td>\n",
       "      <td>5.0</td>\n",
       "      <td>38.0</td>\n",
       "      <td>4</td>\n",
       "      <td>NaN</td>\n",
       "      <td>...</td>\n",
       "      <td>8.50</td>\n",
       "      <td>NaN</td>\n",
       "      <td>Тосно</td>\n",
       "      <td>NaN</td>\n",
       "      <td>NaN</td>\n",
       "      <td>NaN</td>\n",
       "      <td>NaN</td>\n",
       "      <td>NaN</td>\n",
       "      <td>NaN</td>\n",
       "      <td>45.0</td>\n",
       "    </tr>\n",
       "    <tr>\n",
       "      <th>23696</th>\n",
       "      <td>18</td>\n",
       "      <td>2500000.0</td>\n",
       "      <td>56.70</td>\n",
       "      <td>2018-02-11T00:00:00</td>\n",
       "      <td>2</td>\n",
       "      <td>NaN</td>\n",
       "      <td>3.0</td>\n",
       "      <td>29.7</td>\n",
       "      <td>1</td>\n",
       "      <td>NaN</td>\n",
       "      <td>...</td>\n",
       "      <td>NaN</td>\n",
       "      <td>NaN</td>\n",
       "      <td>село Рождествено</td>\n",
       "      <td>NaN</td>\n",
       "      <td>NaN</td>\n",
       "      <td>NaN</td>\n",
       "      <td>NaN</td>\n",
       "      <td>NaN</td>\n",
       "      <td>NaN</td>\n",
       "      <td>NaN</td>\n",
       "    </tr>\n",
       "    <tr>\n",
       "      <th>23697</th>\n",
       "      <td>13</td>\n",
       "      <td>11475000.0</td>\n",
       "      <td>76.75</td>\n",
       "      <td>2017-03-28T00:00:00</td>\n",
       "      <td>2</td>\n",
       "      <td>3.00</td>\n",
       "      <td>17.0</td>\n",
       "      <td>NaN</td>\n",
       "      <td>12</td>\n",
       "      <td>NaN</td>\n",
       "      <td>...</td>\n",
       "      <td>23.30</td>\n",
       "      <td>2.0</td>\n",
       "      <td>Санкт-Петербург</td>\n",
       "      <td>39140.0</td>\n",
       "      <td>10364.0</td>\n",
       "      <td>2.0</td>\n",
       "      <td>173.0</td>\n",
       "      <td>3.0</td>\n",
       "      <td>196.0</td>\n",
       "      <td>602.0</td>\n",
       "    </tr>\n",
       "    <tr>\n",
       "      <th>23698</th>\n",
       "      <td>4</td>\n",
       "      <td>1350000.0</td>\n",
       "      <td>32.30</td>\n",
       "      <td>2017-07-21T00:00:00</td>\n",
       "      <td>1</td>\n",
       "      <td>2.50</td>\n",
       "      <td>5.0</td>\n",
       "      <td>12.3</td>\n",
       "      <td>1</td>\n",
       "      <td>NaN</td>\n",
       "      <td>...</td>\n",
       "      <td>9.00</td>\n",
       "      <td>NaN</td>\n",
       "      <td>поселок Новый Учхоз</td>\n",
       "      <td>NaN</td>\n",
       "      <td>NaN</td>\n",
       "      <td>NaN</td>\n",
       "      <td>NaN</td>\n",
       "      <td>NaN</td>\n",
       "      <td>NaN</td>\n",
       "      <td>NaN</td>\n",
       "    </tr>\n",
       "  </tbody>\n",
       "</table>\n",
       "<p>23699 rows × 22 columns</p>\n",
       "</div>"
      ],
      "text/plain": [
       "       total_images  last_price  total_area first_day_exposition  rooms  \\\n",
       "0                20  13000000.0      108.00  2019-03-07T00:00:00      3   \n",
       "1                 7   3350000.0       40.40  2018-12-04T00:00:00      1   \n",
       "2                10   5196000.0       56.00  2015-08-20T00:00:00      2   \n",
       "3                 0  64900000.0      159.00  2015-07-24T00:00:00      3   \n",
       "4                 2  10000000.0      100.00  2018-06-19T00:00:00      2   \n",
       "...             ...         ...         ...                  ...    ...   \n",
       "23694             9   9700000.0      133.81  2017-03-21T00:00:00      3   \n",
       "23695            14   3100000.0       59.00  2018-01-15T00:00:00      3   \n",
       "23696            18   2500000.0       56.70  2018-02-11T00:00:00      2   \n",
       "23697            13  11475000.0       76.75  2017-03-28T00:00:00      2   \n",
       "23698             4   1350000.0       32.30  2017-07-21T00:00:00      1   \n",
       "\n",
       "       ceiling_height  floors_total  living_area  floor is_apartment  ...  \\\n",
       "0                2.70          16.0         51.0      8          NaN  ...   \n",
       "1                 NaN          11.0         18.6      1          NaN  ...   \n",
       "2                 NaN           5.0         34.3      4          NaN  ...   \n",
       "3                 NaN          14.0          NaN      9          NaN  ...   \n",
       "4                3.03          14.0         32.0     13          NaN  ...   \n",
       "...               ...           ...          ...    ...          ...  ...   \n",
       "23694            3.70           5.0         73.3      3          NaN  ...   \n",
       "23695             NaN           5.0         38.0      4          NaN  ...   \n",
       "23696             NaN           3.0         29.7      1          NaN  ...   \n",
       "23697            3.00          17.0          NaN     12          NaN  ...   \n",
       "23698            2.50           5.0         12.3      1          NaN  ...   \n",
       "\n",
       "       kitchen_area  balcony        locality_name  airports_nearest  \\\n",
       "0             25.00      NaN      Санкт-Петербург           18863.0   \n",
       "1             11.00      2.0       посёлок Шушары           12817.0   \n",
       "2              8.30      0.0      Санкт-Петербург           21741.0   \n",
       "3               NaN      0.0      Санкт-Петербург           28098.0   \n",
       "4             41.00      NaN      Санкт-Петербург           31856.0   \n",
       "...             ...      ...                  ...               ...   \n",
       "23694         13.83      NaN      Санкт-Петербург           24665.0   \n",
       "23695          8.50      NaN                Тосно               NaN   \n",
       "23696           NaN      NaN     село Рождествено               NaN   \n",
       "23697         23.30      2.0      Санкт-Петербург           39140.0   \n",
       "23698          9.00      NaN  поселок Новый Учхоз               NaN   \n",
       "\n",
       "      cityCenters_nearest  parks_around3000  parks_nearest  ponds_around3000  \\\n",
       "0                 16028.0               1.0          482.0               2.0   \n",
       "1                 18603.0               0.0            NaN               0.0   \n",
       "2                 13933.0               1.0           90.0               2.0   \n",
       "3                  6800.0               2.0           84.0               3.0   \n",
       "4                  8098.0               2.0          112.0               1.0   \n",
       "...                   ...               ...            ...               ...   \n",
       "23694              4232.0               1.0          796.0               3.0   \n",
       "23695                 NaN               NaN            NaN               NaN   \n",
       "23696                 NaN               NaN            NaN               NaN   \n",
       "23697             10364.0               2.0          173.0               3.0   \n",
       "23698                 NaN               NaN            NaN               NaN   \n",
       "\n",
       "       ponds_nearest  days_exposition  \n",
       "0              755.0              NaN  \n",
       "1                NaN             81.0  \n",
       "2              574.0            558.0  \n",
       "3              234.0            424.0  \n",
       "4               48.0            121.0  \n",
       "...              ...              ...  \n",
       "23694          381.0              NaN  \n",
       "23695            NaN             45.0  \n",
       "23696            NaN              NaN  \n",
       "23697          196.0            602.0  \n",
       "23698            NaN              NaN  \n",
       "\n",
       "[23699 rows x 22 columns]"
      ]
     },
     "metadata": {},
     "output_type": "display_data"
    }
   ],
   "source": [
    "display(data) "
   ]
  },
  {
   "cell_type": "markdown",
   "metadata": {},
   "source": [
    "### Вывод"
   ]
  },
  {
   "cell_type": "markdown",
   "metadata": {},
   "source": [
    "Данные склеились в одну строку, т.к. разделителем в таблице была не запятая, а \\t. Решили проблему, заменив разделитель. Обнаружили пропуски в большинстве столбцов. В некоторых столбцах слишком высокий процент пропусков: `ceiling_height` (39 %), `is_apartment` (88 %), `balcony` (49 %), `parks_nearest` (66 %), `ponds_nearest` (62 %). У ряда столбцов неподходящий тип данных (каких именно - см.далее)."
   ]
  },
  {
   "cell_type": "markdown",
   "metadata": {},
   "source": [
    "## Предобработка данных"
   ]
  },
  {
   "cell_type": "code",
   "execution_count": 6,
   "metadata": {},
   "outputs": [
    {
     "name": "stdout",
     "output_type": "stream",
     "text": [
      " Количество явных дубликатов равно: 0\n"
     ]
    },
    {
     "data": {
      "text/plain": [
       "1.0    4195\n",
       "0.0    3758\n",
       "2.0    3659\n",
       "5.0     304\n",
       "4.0     183\n",
       "3.0      81\n",
       "Name: balcony, dtype: int64"
      ]
     },
     "execution_count": 6,
     "metadata": {},
     "output_type": "execute_result"
    }
   ],
   "source": [
    "print(f' Количество явных дубликатов равно: {data.duplicated().sum()}')                         \n",
    "data['balcony'].value_counts()                                         "
   ]
  },
  {
   "cell_type": "markdown",
   "metadata": {},
   "source": [
    "Вероятно, в столбце `balcony` пропуски означают отсутствие балкона. Поэтому заполним их нулем."
   ]
  },
  {
   "cell_type": "code",
   "execution_count": 7,
   "metadata": {},
   "outputs": [
    {
     "data": {
      "text/plain": [
       "0.0    15277\n",
       "1.0     4195\n",
       "2.0     3659\n",
       "5.0      304\n",
       "4.0      183\n",
       "3.0       81\n",
       "Name: balcony, dtype: int64"
      ]
     },
     "execution_count": 7,
     "metadata": {},
     "output_type": "execute_result"
    }
   ],
   "source": [
    "data['balcony'] = data['balcony'].fillna(0)                             \n",
    "data['balcony'].value_counts()                                        "
   ]
  },
  {
   "cell_type": "code",
   "execution_count": 8,
   "metadata": {},
   "outputs": [
    {
     "data": {
      "text/plain": [
       "False    2725\n",
       "True       50\n",
       "Name: is_apartment, dtype: int64"
      ]
     },
     "execution_count": 8,
     "metadata": {},
     "output_type": "execute_result"
    }
   ],
   "source": [
    "data['is_apartment'].value_counts()                            "
   ]
  },
  {
   "cell_type": "markdown",
   "metadata": {},
   "source": [
    "Пропуски в столбце `is_apartment`, вероятно, показывают, что квартира не относится к апартаментам. Поэтому заполним пропуски на `False`."
   ]
  },
  {
   "cell_type": "code",
   "execution_count": 9,
   "metadata": {},
   "outputs": [
    {
     "data": {
      "text/plain": [
       "False    23649\n",
       "True        50\n",
       "Name: is_apartment, dtype: int64"
      ]
     },
     "execution_count": 9,
     "metadata": {},
     "output_type": "execute_result"
    }
   ],
   "source": [
    "data['is_apartment'] = data['is_apartment'].fillna(False)         \n",
    "data['is_apartment'].value_counts()                              "
   ]
  },
  {
   "cell_type": "code",
   "execution_count": 10,
   "metadata": {},
   "outputs": [
    {
     "data": {
      "text/plain": [
       "0.0    10106\n",
       "1.0     5681\n",
       "2.0     1747\n",
       "3.0      647\n",
       "Name: parks_around3000, dtype: int64"
      ]
     },
     "execution_count": 10,
     "metadata": {},
     "output_type": "execute_result"
    }
   ],
   "source": [
    "data['parks_around3000'].value_counts()                        "
   ]
  },
  {
   "cell_type": "markdown",
   "metadata": {},
   "source": [
    "Примем, что пропуски в `parks_around3000` означают отсутствие парков. Заменим их на 0."
   ]
  },
  {
   "cell_type": "code",
   "execution_count": 11,
   "metadata": {},
   "outputs": [
    {
     "data": {
      "text/plain": [
       "0.0    15624\n",
       "1.0     5681\n",
       "2.0     1747\n",
       "3.0      647\n",
       "Name: parks_around3000, dtype: int64"
      ]
     },
     "execution_count": 11,
     "metadata": {},
     "output_type": "execute_result"
    }
   ],
   "source": [
    "data['parks_around3000'] = data['parks_around3000'].fillna(0)     \n",
    "data['parks_around3000'].value_counts()                          "
   ]
  },
  {
   "cell_type": "code",
   "execution_count": 12,
   "metadata": {},
   "outputs": [
    {
     "data": {
      "text/plain": [
       "0.0    9071\n",
       "1.0    5717\n",
       "2.0    1892\n",
       "3.0    1501\n",
       "Name: ponds_around3000, dtype: int64"
      ]
     },
     "execution_count": 12,
     "metadata": {},
     "output_type": "execute_result"
    }
   ],
   "source": [
    "data['ponds_around3000'].value_counts()                          "
   ]
  },
  {
   "cell_type": "markdown",
   "metadata": {},
   "source": [
    "Заменим на 0 пропуски в `ponds_around3000`"
   ]
  },
  {
   "cell_type": "code",
   "execution_count": 13,
   "metadata": {},
   "outputs": [
    {
     "data": {
      "text/plain": [
       "0.0    14589\n",
       "1.0     5717\n",
       "2.0     1892\n",
       "3.0     1501\n",
       "Name: ponds_around3000, dtype: int64"
      ]
     },
     "execution_count": 13,
     "metadata": {},
     "output_type": "execute_result"
    }
   ],
   "source": [
    "data['ponds_around3000'] = data['ponds_around3000'].fillna(0)     \n",
    "data['ponds_around3000'].value_counts()                          "
   ]
  },
  {
   "cell_type": "markdown",
   "metadata": {},
   "source": [
    "Чтобы повысить точность заполнения пропусков в `ceiling_height`, заполним пропуски медианой по населенному пункту. Такое заполнение основано на допущении, что застройка в населенных пунктах приблизительно однотипна, и, соответственно, высота потолков тоже."
   ]
  },
  {
   "cell_type": "code",
   "execution_count": 14,
   "metadata": {},
   "outputs": [
    {
     "data": {
      "text/plain": [
       "156"
      ]
     },
     "execution_count": 14,
     "metadata": {},
     "output_type": "execute_result"
    }
   ],
   "source": [
    "data['ceiling_height'] = data['ceiling_height'].fillna(\n",
    "    data.groupby('locality_name')['ceiling_height'].transform('median'))\n",
    "data['ceiling_height'].isna().sum()     "
   ]
  },
  {
   "cell_type": "markdown",
   "metadata": {},
   "source": [
    "Приводим данные к правильному формату"
   ]
  },
  {
   "cell_type": "markdown",
   "metadata": {},
   "source": [
    "В столбце `days_exposition` заполнять пропуски средним или медианой будет некорректно. Поэтому заполним их 0 и отфильтруем на этапе анализа."
   ]
  },
  {
   "cell_type": "code",
   "execution_count": 15,
   "metadata": {},
   "outputs": [
    {
     "name": "stdout",
     "output_type": "stream",
     "text": [
      "<class 'pandas.core.frame.DataFrame'>\n",
      "RangeIndex: 23699 entries, 0 to 23698\n",
      "Data columns (total 22 columns):\n",
      " #   Column                Non-Null Count  Dtype         \n",
      "---  ------                --------------  -----         \n",
      " 0   total_images          23699 non-null  int64         \n",
      " 1   last_price            23699 non-null  Int64         \n",
      " 2   total_area            23699 non-null  float64       \n",
      " 3   first_day_exposition  23699 non-null  datetime64[ns]\n",
      " 4   rooms                 23699 non-null  int64         \n",
      " 5   ceiling_height        23543 non-null  float64       \n",
      " 6   floors_total          23699 non-null  Int64         \n",
      " 7   living_area           21796 non-null  float64       \n",
      " 8   floor                 23699 non-null  int64         \n",
      " 9   is_apartment          23699 non-null  bool          \n",
      " 10  studio                23699 non-null  bool          \n",
      " 11  open_plan             23699 non-null  bool          \n",
      " 12  kitchen_area          21421 non-null  float64       \n",
      " 13  balcony               23699 non-null  Int64         \n",
      " 14  locality_name         23650 non-null  object        \n",
      " 15  airports_nearest      18157 non-null  float64       \n",
      " 16  cityCenters_nearest   18180 non-null  float64       \n",
      " 17  parks_around3000      23699 non-null  Int64         \n",
      " 18  parks_nearest         8079 non-null   float64       \n",
      " 19  ponds_around3000      23699 non-null  Int64         \n",
      " 20  ponds_nearest         9110 non-null   float64       \n",
      " 21  days_exposition       23699 non-null  int32         \n",
      "dtypes: Int64(5), bool(3), datetime64[ns](1), float64(8), int32(1), int64(3), object(1)\n",
      "memory usage: 3.5+ MB\n"
     ]
    },
    {
     "data": {
      "text/html": [
       "<div>\n",
       "<style scoped>\n",
       "    .dataframe tbody tr th:only-of-type {\n",
       "        vertical-align: middle;\n",
       "    }\n",
       "\n",
       "    .dataframe tbody tr th {\n",
       "        vertical-align: top;\n",
       "    }\n",
       "\n",
       "    .dataframe thead th {\n",
       "        text-align: right;\n",
       "    }\n",
       "</style>\n",
       "<table border=\"1\" class=\"dataframe\">\n",
       "  <thead>\n",
       "    <tr style=\"text-align: right;\">\n",
       "      <th></th>\n",
       "      <th>total_images</th>\n",
       "      <th>last_price</th>\n",
       "      <th>total_area</th>\n",
       "      <th>first_day_exposition</th>\n",
       "      <th>rooms</th>\n",
       "      <th>ceiling_height</th>\n",
       "      <th>floors_total</th>\n",
       "      <th>living_area</th>\n",
       "      <th>floor</th>\n",
       "      <th>is_apartment</th>\n",
       "      <th>...</th>\n",
       "      <th>kitchen_area</th>\n",
       "      <th>balcony</th>\n",
       "      <th>locality_name</th>\n",
       "      <th>airports_nearest</th>\n",
       "      <th>cityCenters_nearest</th>\n",
       "      <th>parks_around3000</th>\n",
       "      <th>parks_nearest</th>\n",
       "      <th>ponds_around3000</th>\n",
       "      <th>ponds_nearest</th>\n",
       "      <th>days_exposition</th>\n",
       "    </tr>\n",
       "  </thead>\n",
       "  <tbody>\n",
       "    <tr>\n",
       "      <th>0</th>\n",
       "      <td>20</td>\n",
       "      <td>13000000</td>\n",
       "      <td>108.00</td>\n",
       "      <td>2019-03-07</td>\n",
       "      <td>3</td>\n",
       "      <td>2.70</td>\n",
       "      <td>16</td>\n",
       "      <td>51.0</td>\n",
       "      <td>8</td>\n",
       "      <td>False</td>\n",
       "      <td>...</td>\n",
       "      <td>25.00</td>\n",
       "      <td>0</td>\n",
       "      <td>Санкт-Петербург</td>\n",
       "      <td>18863.0</td>\n",
       "      <td>16028.0</td>\n",
       "      <td>1</td>\n",
       "      <td>482.0</td>\n",
       "      <td>2</td>\n",
       "      <td>755.0</td>\n",
       "      <td>0</td>\n",
       "    </tr>\n",
       "    <tr>\n",
       "      <th>1</th>\n",
       "      <td>7</td>\n",
       "      <td>3350000</td>\n",
       "      <td>40.40</td>\n",
       "      <td>2018-12-04</td>\n",
       "      <td>1</td>\n",
       "      <td>2.63</td>\n",
       "      <td>11</td>\n",
       "      <td>18.6</td>\n",
       "      <td>1</td>\n",
       "      <td>False</td>\n",
       "      <td>...</td>\n",
       "      <td>11.00</td>\n",
       "      <td>2</td>\n",
       "      <td>посёлок Шушары</td>\n",
       "      <td>12817.0</td>\n",
       "      <td>18603.0</td>\n",
       "      <td>0</td>\n",
       "      <td>NaN</td>\n",
       "      <td>0</td>\n",
       "      <td>NaN</td>\n",
       "      <td>81</td>\n",
       "    </tr>\n",
       "    <tr>\n",
       "      <th>2</th>\n",
       "      <td>10</td>\n",
       "      <td>5196000</td>\n",
       "      <td>56.00</td>\n",
       "      <td>2015-08-20</td>\n",
       "      <td>2</td>\n",
       "      <td>2.70</td>\n",
       "      <td>5</td>\n",
       "      <td>34.3</td>\n",
       "      <td>4</td>\n",
       "      <td>False</td>\n",
       "      <td>...</td>\n",
       "      <td>8.30</td>\n",
       "      <td>0</td>\n",
       "      <td>Санкт-Петербург</td>\n",
       "      <td>21741.0</td>\n",
       "      <td>13933.0</td>\n",
       "      <td>1</td>\n",
       "      <td>90.0</td>\n",
       "      <td>2</td>\n",
       "      <td>574.0</td>\n",
       "      <td>558</td>\n",
       "    </tr>\n",
       "    <tr>\n",
       "      <th>3</th>\n",
       "      <td>0</td>\n",
       "      <td>64900000</td>\n",
       "      <td>159.00</td>\n",
       "      <td>2015-07-24</td>\n",
       "      <td>3</td>\n",
       "      <td>2.70</td>\n",
       "      <td>14</td>\n",
       "      <td>NaN</td>\n",
       "      <td>9</td>\n",
       "      <td>False</td>\n",
       "      <td>...</td>\n",
       "      <td>NaN</td>\n",
       "      <td>0</td>\n",
       "      <td>Санкт-Петербург</td>\n",
       "      <td>28098.0</td>\n",
       "      <td>6800.0</td>\n",
       "      <td>2</td>\n",
       "      <td>84.0</td>\n",
       "      <td>3</td>\n",
       "      <td>234.0</td>\n",
       "      <td>424</td>\n",
       "    </tr>\n",
       "    <tr>\n",
       "      <th>4</th>\n",
       "      <td>2</td>\n",
       "      <td>10000000</td>\n",
       "      <td>100.00</td>\n",
       "      <td>2018-06-19</td>\n",
       "      <td>2</td>\n",
       "      <td>3.03</td>\n",
       "      <td>14</td>\n",
       "      <td>32.0</td>\n",
       "      <td>13</td>\n",
       "      <td>False</td>\n",
       "      <td>...</td>\n",
       "      <td>41.00</td>\n",
       "      <td>0</td>\n",
       "      <td>Санкт-Петербург</td>\n",
       "      <td>31856.0</td>\n",
       "      <td>8098.0</td>\n",
       "      <td>2</td>\n",
       "      <td>112.0</td>\n",
       "      <td>1</td>\n",
       "      <td>48.0</td>\n",
       "      <td>121</td>\n",
       "    </tr>\n",
       "    <tr>\n",
       "      <th>...</th>\n",
       "      <td>...</td>\n",
       "      <td>...</td>\n",
       "      <td>...</td>\n",
       "      <td>...</td>\n",
       "      <td>...</td>\n",
       "      <td>...</td>\n",
       "      <td>...</td>\n",
       "      <td>...</td>\n",
       "      <td>...</td>\n",
       "      <td>...</td>\n",
       "      <td>...</td>\n",
       "      <td>...</td>\n",
       "      <td>...</td>\n",
       "      <td>...</td>\n",
       "      <td>...</td>\n",
       "      <td>...</td>\n",
       "      <td>...</td>\n",
       "      <td>...</td>\n",
       "      <td>...</td>\n",
       "      <td>...</td>\n",
       "      <td>...</td>\n",
       "    </tr>\n",
       "    <tr>\n",
       "      <th>23694</th>\n",
       "      <td>9</td>\n",
       "      <td>9700000</td>\n",
       "      <td>133.81</td>\n",
       "      <td>2017-03-21</td>\n",
       "      <td>3</td>\n",
       "      <td>3.70</td>\n",
       "      <td>5</td>\n",
       "      <td>73.3</td>\n",
       "      <td>3</td>\n",
       "      <td>False</td>\n",
       "      <td>...</td>\n",
       "      <td>13.83</td>\n",
       "      <td>0</td>\n",
       "      <td>Санкт-Петербург</td>\n",
       "      <td>24665.0</td>\n",
       "      <td>4232.0</td>\n",
       "      <td>1</td>\n",
       "      <td>796.0</td>\n",
       "      <td>3</td>\n",
       "      <td>381.0</td>\n",
       "      <td>0</td>\n",
       "    </tr>\n",
       "    <tr>\n",
       "      <th>23695</th>\n",
       "      <td>14</td>\n",
       "      <td>3100000</td>\n",
       "      <td>59.00</td>\n",
       "      <td>2018-01-15</td>\n",
       "      <td>3</td>\n",
       "      <td>2.50</td>\n",
       "      <td>5</td>\n",
       "      <td>38.0</td>\n",
       "      <td>4</td>\n",
       "      <td>False</td>\n",
       "      <td>...</td>\n",
       "      <td>8.50</td>\n",
       "      <td>0</td>\n",
       "      <td>Тосно</td>\n",
       "      <td>NaN</td>\n",
       "      <td>NaN</td>\n",
       "      <td>0</td>\n",
       "      <td>NaN</td>\n",
       "      <td>0</td>\n",
       "      <td>NaN</td>\n",
       "      <td>45</td>\n",
       "    </tr>\n",
       "    <tr>\n",
       "      <th>23696</th>\n",
       "      <td>18</td>\n",
       "      <td>2500000</td>\n",
       "      <td>56.70</td>\n",
       "      <td>2018-02-11</td>\n",
       "      <td>2</td>\n",
       "      <td>NaN</td>\n",
       "      <td>3</td>\n",
       "      <td>29.7</td>\n",
       "      <td>1</td>\n",
       "      <td>False</td>\n",
       "      <td>...</td>\n",
       "      <td>NaN</td>\n",
       "      <td>0</td>\n",
       "      <td>село Рождествено</td>\n",
       "      <td>NaN</td>\n",
       "      <td>NaN</td>\n",
       "      <td>0</td>\n",
       "      <td>NaN</td>\n",
       "      <td>0</td>\n",
       "      <td>NaN</td>\n",
       "      <td>0</td>\n",
       "    </tr>\n",
       "    <tr>\n",
       "      <th>23697</th>\n",
       "      <td>13</td>\n",
       "      <td>11475000</td>\n",
       "      <td>76.75</td>\n",
       "      <td>2017-03-28</td>\n",
       "      <td>2</td>\n",
       "      <td>3.00</td>\n",
       "      <td>17</td>\n",
       "      <td>NaN</td>\n",
       "      <td>12</td>\n",
       "      <td>False</td>\n",
       "      <td>...</td>\n",
       "      <td>23.30</td>\n",
       "      <td>2</td>\n",
       "      <td>Санкт-Петербург</td>\n",
       "      <td>39140.0</td>\n",
       "      <td>10364.0</td>\n",
       "      <td>2</td>\n",
       "      <td>173.0</td>\n",
       "      <td>3</td>\n",
       "      <td>196.0</td>\n",
       "      <td>602</td>\n",
       "    </tr>\n",
       "    <tr>\n",
       "      <th>23698</th>\n",
       "      <td>4</td>\n",
       "      <td>1350000</td>\n",
       "      <td>32.30</td>\n",
       "      <td>2017-07-21</td>\n",
       "      <td>1</td>\n",
       "      <td>2.50</td>\n",
       "      <td>5</td>\n",
       "      <td>12.3</td>\n",
       "      <td>1</td>\n",
       "      <td>False</td>\n",
       "      <td>...</td>\n",
       "      <td>9.00</td>\n",
       "      <td>0</td>\n",
       "      <td>поселок Новый Учхоз</td>\n",
       "      <td>NaN</td>\n",
       "      <td>NaN</td>\n",
       "      <td>0</td>\n",
       "      <td>NaN</td>\n",
       "      <td>0</td>\n",
       "      <td>NaN</td>\n",
       "      <td>0</td>\n",
       "    </tr>\n",
       "  </tbody>\n",
       "</table>\n",
       "<p>23699 rows × 22 columns</p>\n",
       "</div>"
      ],
      "text/plain": [
       "       total_images  last_price  total_area first_day_exposition  rooms  \\\n",
       "0                20    13000000      108.00           2019-03-07      3   \n",
       "1                 7     3350000       40.40           2018-12-04      1   \n",
       "2                10     5196000       56.00           2015-08-20      2   \n",
       "3                 0    64900000      159.00           2015-07-24      3   \n",
       "4                 2    10000000      100.00           2018-06-19      2   \n",
       "...             ...         ...         ...                  ...    ...   \n",
       "23694             9     9700000      133.81           2017-03-21      3   \n",
       "23695            14     3100000       59.00           2018-01-15      3   \n",
       "23696            18     2500000       56.70           2018-02-11      2   \n",
       "23697            13    11475000       76.75           2017-03-28      2   \n",
       "23698             4     1350000       32.30           2017-07-21      1   \n",
       "\n",
       "       ceiling_height  floors_total  living_area  floor  is_apartment  ...  \\\n",
       "0                2.70            16         51.0      8         False  ...   \n",
       "1                2.63            11         18.6      1         False  ...   \n",
       "2                2.70             5         34.3      4         False  ...   \n",
       "3                2.70            14          NaN      9         False  ...   \n",
       "4                3.03            14         32.0     13         False  ...   \n",
       "...               ...           ...          ...    ...           ...  ...   \n",
       "23694            3.70             5         73.3      3         False  ...   \n",
       "23695            2.50             5         38.0      4         False  ...   \n",
       "23696             NaN             3         29.7      1         False  ...   \n",
       "23697            3.00            17          NaN     12         False  ...   \n",
       "23698            2.50             5         12.3      1         False  ...   \n",
       "\n",
       "       kitchen_area  balcony        locality_name  airports_nearest  \\\n",
       "0             25.00        0      Санкт-Петербург           18863.0   \n",
       "1             11.00        2       посёлок Шушары           12817.0   \n",
       "2              8.30        0      Санкт-Петербург           21741.0   \n",
       "3               NaN        0      Санкт-Петербург           28098.0   \n",
       "4             41.00        0      Санкт-Петербург           31856.0   \n",
       "...             ...      ...                  ...               ...   \n",
       "23694         13.83        0      Санкт-Петербург           24665.0   \n",
       "23695          8.50        0                Тосно               NaN   \n",
       "23696           NaN        0     село Рождествено               NaN   \n",
       "23697         23.30        2      Санкт-Петербург           39140.0   \n",
       "23698          9.00        0  поселок Новый Учхоз               NaN   \n",
       "\n",
       "      cityCenters_nearest  parks_around3000  parks_nearest  ponds_around3000  \\\n",
       "0                 16028.0                 1          482.0                 2   \n",
       "1                 18603.0                 0            NaN                 0   \n",
       "2                 13933.0                 1           90.0                 2   \n",
       "3                  6800.0                 2           84.0                 3   \n",
       "4                  8098.0                 2          112.0                 1   \n",
       "...                   ...               ...            ...               ...   \n",
       "23694              4232.0                 1          796.0                 3   \n",
       "23695                 NaN                 0            NaN                 0   \n",
       "23696                 NaN                 0            NaN                 0   \n",
       "23697             10364.0                 2          173.0                 3   \n",
       "23698                 NaN                 0            NaN                 0   \n",
       "\n",
       "       ponds_nearest  days_exposition  \n",
       "0              755.0                0  \n",
       "1                NaN               81  \n",
       "2              574.0              558  \n",
       "3              234.0              424  \n",
       "4               48.0              121  \n",
       "...              ...              ...  \n",
       "23694          381.0                0  \n",
       "23695            NaN               45  \n",
       "23696            NaN                0  \n",
       "23697          196.0              602  \n",
       "23698            NaN                0  \n",
       "\n",
       "[23699 rows x 22 columns]"
      ]
     },
     "metadata": {},
     "output_type": "display_data"
    }
   ],
   "source": [
    "data['last_price'] = data['last_price'].astype('Int64') \n",
    "data['floors_total'] = data['floors_total'].fillna(data['floors_total'].median()).astype('Int64')\n",
    "data['balcony'] = data['balcony'].astype('Int64')\n",
    "data['parks_around3000'] = data['parks_around3000'].astype('Int64')\n",
    "data['ponds_around3000'] = data['ponds_around3000'].astype('Int64')\n",
    "data['first_day_exposition'] = pd.to_datetime(data['first_day_exposition'], format='%Y-%m-%dT%H:%M:%S')  \n",
    "data['first_day_exposition'] = data['first_day_exposition'].dt.round('1d')\n",
    "data['days_exposition'] = data['days_exposition'].fillna(0).astype('int')\n",
    "data.info()\n",
    "display(data)"
   ]
  },
  {
   "cell_type": "markdown",
   "metadata": {},
   "source": [
    "### Вывод\n",
    "\n",
    "* Приняли, что пропуски в столбцах `balcony`, `is_apartment`, `parks_around3000`, `ponds_around3000` равнозначны их отсутствию, поэтому заменили пропуски на 0 (`False` - в случае с `is_apartment`). \n",
    "\n",
    "* В столбце `days_exposition` заменили пропуски на 0, чтобы затем перевести значения в `int`. Значения в столбце варьируются в широком диапазоне, и замена пропусков на медиану или среднее могла бы повлиять на исследование. Далее значения с 0 отфильтровывались и не влияли на результаты.\n",
    "\n",
    "* В столбцах, связанных с расстоянием до объекта (`parks_nearest`, `ponds_nearest`, `cityCenters_nearest`, `airports_nearest`), а также `days_exposition`, `floors_total`, `living_area`, `kitchen_area` имеются пропуски. Если заменить их медианой или средним, то можно исказить данные. Поэтому оставляем пропуски.\n",
    "\n",
    "* В столбце `ceiling_height` около 40 % пропусков, что нежелательно для проведения исследования. Поэтому заменили пропуски на медиану, с группировкой по поселению. Такая замена точнее медианы по всему столбцу, т.к. учитывает особенности застройки в разных населенных пунктах.\n",
    "\n",
    "* В столбце `first_day_exposition` часы, минуты и секунды равны 0 во всех строках. Поменяли строчный формат на дату и округлили до дней.\n",
    "\n",
    "* В столбцах `last_price`, `floors_total`, `balcony`, `parks_around3000`, `ponds_around3000`, `days_exposition` вещественные значения привели к целым, т.к. дробная часть в данных величинах не несет смысла."
   ]
  },
  {
   "cell_type": "markdown",
   "metadata": {},
   "source": [
    "## Расчёты и добавление результатов в таблицу"
   ]
  },
  {
   "cell_type": "markdown",
   "metadata": {},
   "source": [
    "Рассчитаем стоимость квадратного метра для каждой квартиры. В отдельные столбцы вынесем день недели, месяц и год. "
   ]
  },
  {
   "cell_type": "code",
   "execution_count": 16,
   "metadata": {
    "scrolled": true
   },
   "outputs": [],
   "source": [
    "data['square_meter_price'] = data['last_price']/data['total_area']  \n",
    "data['weekday'] = data['first_day_exposition'].dt.weekday             \n",
    "data['month'] = data['first_day_exposition'].dt.month\n",
    "data['year'] = data['first_day_exposition'].dt.year"
   ]
  },
  {
   "cell_type": "markdown",
   "metadata": {},
   "source": [
    "Создадим функцию для категоризации этажа на первый, последний и другой. Применим ее к данным."
   ]
  },
  {
   "cell_type": "code",
   "execution_count": 17,
   "metadata": {},
   "outputs": [
    {
     "data": {
      "text/plain": [
       "3    17441\n",
       "2     3341\n",
       "1     2917\n",
       "Name: floor_type, dtype: int64"
      ]
     },
     "execution_count": 17,
     "metadata": {},
     "output_type": "execute_result"
    }
   ],
   "source": [
    "def floor_type(data):                                            \n",
    "    if (data['floor'] == 1) or (data['floors_total'] == 1):\n",
    "        return 1                                              #1 - первый этаж, 2 - последний, 3 - другой\n",
    "    if data['floor'] == data['floors_total']:\n",
    "        return 2\n",
    "    return 3\n",
    " \n",
    "data['floor_type'] = data.apply(floor_type, axis=1)                   \n",
    "data['floor_type'].value_counts()      "
   ]
  },
  {
   "cell_type": "markdown",
   "metadata": {},
   "source": [
    "Вычислим доли жилой площади и кухни"
   ]
  },
  {
   "cell_type": "code",
   "execution_count": 18,
   "metadata": {},
   "outputs": [
    {
     "data": {
      "text/html": [
       "<div>\n",
       "<style scoped>\n",
       "    .dataframe tbody tr th:only-of-type {\n",
       "        vertical-align: middle;\n",
       "    }\n",
       "\n",
       "    .dataframe tbody tr th {\n",
       "        vertical-align: top;\n",
       "    }\n",
       "\n",
       "    .dataframe thead th {\n",
       "        text-align: right;\n",
       "    }\n",
       "</style>\n",
       "<table border=\"1\" class=\"dataframe\">\n",
       "  <thead>\n",
       "    <tr style=\"text-align: right;\">\n",
       "      <th></th>\n",
       "      <th>total_images</th>\n",
       "      <th>last_price</th>\n",
       "      <th>total_area</th>\n",
       "      <th>first_day_exposition</th>\n",
       "      <th>rooms</th>\n",
       "      <th>ceiling_height</th>\n",
       "      <th>floors_total</th>\n",
       "      <th>living_area</th>\n",
       "      <th>floor</th>\n",
       "      <th>is_apartment</th>\n",
       "      <th>...</th>\n",
       "      <th>ponds_around3000</th>\n",
       "      <th>ponds_nearest</th>\n",
       "      <th>days_exposition</th>\n",
       "      <th>square_meter_price</th>\n",
       "      <th>weekday</th>\n",
       "      <th>month</th>\n",
       "      <th>year</th>\n",
       "      <th>floor_type</th>\n",
       "      <th>living_total_ratio</th>\n",
       "      <th>kitchen_total_ratio</th>\n",
       "    </tr>\n",
       "  </thead>\n",
       "  <tbody>\n",
       "    <tr>\n",
       "      <th>0</th>\n",
       "      <td>20</td>\n",
       "      <td>13000000</td>\n",
       "      <td>108.00</td>\n",
       "      <td>2019-03-07</td>\n",
       "      <td>3</td>\n",
       "      <td>2.70</td>\n",
       "      <td>16</td>\n",
       "      <td>51.0</td>\n",
       "      <td>8</td>\n",
       "      <td>False</td>\n",
       "      <td>...</td>\n",
       "      <td>2</td>\n",
       "      <td>755.0</td>\n",
       "      <td>0</td>\n",
       "      <td>120370.37037</td>\n",
       "      <td>3</td>\n",
       "      <td>3</td>\n",
       "      <td>2019</td>\n",
       "      <td>3</td>\n",
       "      <td>0.472222</td>\n",
       "      <td>0.231481</td>\n",
       "    </tr>\n",
       "    <tr>\n",
       "      <th>1</th>\n",
       "      <td>7</td>\n",
       "      <td>3350000</td>\n",
       "      <td>40.40</td>\n",
       "      <td>2018-12-04</td>\n",
       "      <td>1</td>\n",
       "      <td>2.63</td>\n",
       "      <td>11</td>\n",
       "      <td>18.6</td>\n",
       "      <td>1</td>\n",
       "      <td>False</td>\n",
       "      <td>...</td>\n",
       "      <td>0</td>\n",
       "      <td>NaN</td>\n",
       "      <td>81</td>\n",
       "      <td>82920.792079</td>\n",
       "      <td>1</td>\n",
       "      <td>12</td>\n",
       "      <td>2018</td>\n",
       "      <td>1</td>\n",
       "      <td>0.460396</td>\n",
       "      <td>0.272277</td>\n",
       "    </tr>\n",
       "    <tr>\n",
       "      <th>2</th>\n",
       "      <td>10</td>\n",
       "      <td>5196000</td>\n",
       "      <td>56.00</td>\n",
       "      <td>2015-08-20</td>\n",
       "      <td>2</td>\n",
       "      <td>2.70</td>\n",
       "      <td>5</td>\n",
       "      <td>34.3</td>\n",
       "      <td>4</td>\n",
       "      <td>False</td>\n",
       "      <td>...</td>\n",
       "      <td>2</td>\n",
       "      <td>574.0</td>\n",
       "      <td>558</td>\n",
       "      <td>92785.714286</td>\n",
       "      <td>3</td>\n",
       "      <td>8</td>\n",
       "      <td>2015</td>\n",
       "      <td>3</td>\n",
       "      <td>0.612500</td>\n",
       "      <td>0.148214</td>\n",
       "    </tr>\n",
       "    <tr>\n",
       "      <th>3</th>\n",
       "      <td>0</td>\n",
       "      <td>64900000</td>\n",
       "      <td>159.00</td>\n",
       "      <td>2015-07-24</td>\n",
       "      <td>3</td>\n",
       "      <td>2.70</td>\n",
       "      <td>14</td>\n",
       "      <td>NaN</td>\n",
       "      <td>9</td>\n",
       "      <td>False</td>\n",
       "      <td>...</td>\n",
       "      <td>3</td>\n",
       "      <td>234.0</td>\n",
       "      <td>424</td>\n",
       "      <td>408176.100629</td>\n",
       "      <td>4</td>\n",
       "      <td>7</td>\n",
       "      <td>2015</td>\n",
       "      <td>3</td>\n",
       "      <td>NaN</td>\n",
       "      <td>NaN</td>\n",
       "    </tr>\n",
       "    <tr>\n",
       "      <th>4</th>\n",
       "      <td>2</td>\n",
       "      <td>10000000</td>\n",
       "      <td>100.00</td>\n",
       "      <td>2018-06-19</td>\n",
       "      <td>2</td>\n",
       "      <td>3.03</td>\n",
       "      <td>14</td>\n",
       "      <td>32.0</td>\n",
       "      <td>13</td>\n",
       "      <td>False</td>\n",
       "      <td>...</td>\n",
       "      <td>1</td>\n",
       "      <td>48.0</td>\n",
       "      <td>121</td>\n",
       "      <td>100000.0</td>\n",
       "      <td>1</td>\n",
       "      <td>6</td>\n",
       "      <td>2018</td>\n",
       "      <td>3</td>\n",
       "      <td>0.320000</td>\n",
       "      <td>0.410000</td>\n",
       "    </tr>\n",
       "    <tr>\n",
       "      <th>...</th>\n",
       "      <td>...</td>\n",
       "      <td>...</td>\n",
       "      <td>...</td>\n",
       "      <td>...</td>\n",
       "      <td>...</td>\n",
       "      <td>...</td>\n",
       "      <td>...</td>\n",
       "      <td>...</td>\n",
       "      <td>...</td>\n",
       "      <td>...</td>\n",
       "      <td>...</td>\n",
       "      <td>...</td>\n",
       "      <td>...</td>\n",
       "      <td>...</td>\n",
       "      <td>...</td>\n",
       "      <td>...</td>\n",
       "      <td>...</td>\n",
       "      <td>...</td>\n",
       "      <td>...</td>\n",
       "      <td>...</td>\n",
       "      <td>...</td>\n",
       "    </tr>\n",
       "    <tr>\n",
       "      <th>23694</th>\n",
       "      <td>9</td>\n",
       "      <td>9700000</td>\n",
       "      <td>133.81</td>\n",
       "      <td>2017-03-21</td>\n",
       "      <td>3</td>\n",
       "      <td>3.70</td>\n",
       "      <td>5</td>\n",
       "      <td>73.3</td>\n",
       "      <td>3</td>\n",
       "      <td>False</td>\n",
       "      <td>...</td>\n",
       "      <td>3</td>\n",
       "      <td>381.0</td>\n",
       "      <td>0</td>\n",
       "      <td>72490.845228</td>\n",
       "      <td>1</td>\n",
       "      <td>3</td>\n",
       "      <td>2017</td>\n",
       "      <td>3</td>\n",
       "      <td>0.547792</td>\n",
       "      <td>0.103356</td>\n",
       "    </tr>\n",
       "    <tr>\n",
       "      <th>23695</th>\n",
       "      <td>14</td>\n",
       "      <td>3100000</td>\n",
       "      <td>59.00</td>\n",
       "      <td>2018-01-15</td>\n",
       "      <td>3</td>\n",
       "      <td>2.50</td>\n",
       "      <td>5</td>\n",
       "      <td>38.0</td>\n",
       "      <td>4</td>\n",
       "      <td>False</td>\n",
       "      <td>...</td>\n",
       "      <td>0</td>\n",
       "      <td>NaN</td>\n",
       "      <td>45</td>\n",
       "      <td>52542.372881</td>\n",
       "      <td>0</td>\n",
       "      <td>1</td>\n",
       "      <td>2018</td>\n",
       "      <td>3</td>\n",
       "      <td>0.644068</td>\n",
       "      <td>0.144068</td>\n",
       "    </tr>\n",
       "    <tr>\n",
       "      <th>23696</th>\n",
       "      <td>18</td>\n",
       "      <td>2500000</td>\n",
       "      <td>56.70</td>\n",
       "      <td>2018-02-11</td>\n",
       "      <td>2</td>\n",
       "      <td>NaN</td>\n",
       "      <td>3</td>\n",
       "      <td>29.7</td>\n",
       "      <td>1</td>\n",
       "      <td>False</td>\n",
       "      <td>...</td>\n",
       "      <td>0</td>\n",
       "      <td>NaN</td>\n",
       "      <td>0</td>\n",
       "      <td>44091.710758</td>\n",
       "      <td>6</td>\n",
       "      <td>2</td>\n",
       "      <td>2018</td>\n",
       "      <td>1</td>\n",
       "      <td>0.523810</td>\n",
       "      <td>NaN</td>\n",
       "    </tr>\n",
       "    <tr>\n",
       "      <th>23697</th>\n",
       "      <td>13</td>\n",
       "      <td>11475000</td>\n",
       "      <td>76.75</td>\n",
       "      <td>2017-03-28</td>\n",
       "      <td>2</td>\n",
       "      <td>3.00</td>\n",
       "      <td>17</td>\n",
       "      <td>NaN</td>\n",
       "      <td>12</td>\n",
       "      <td>False</td>\n",
       "      <td>...</td>\n",
       "      <td>3</td>\n",
       "      <td>196.0</td>\n",
       "      <td>602</td>\n",
       "      <td>149511.400651</td>\n",
       "      <td>1</td>\n",
       "      <td>3</td>\n",
       "      <td>2017</td>\n",
       "      <td>3</td>\n",
       "      <td>NaN</td>\n",
       "      <td>0.303583</td>\n",
       "    </tr>\n",
       "    <tr>\n",
       "      <th>23698</th>\n",
       "      <td>4</td>\n",
       "      <td>1350000</td>\n",
       "      <td>32.30</td>\n",
       "      <td>2017-07-21</td>\n",
       "      <td>1</td>\n",
       "      <td>2.50</td>\n",
       "      <td>5</td>\n",
       "      <td>12.3</td>\n",
       "      <td>1</td>\n",
       "      <td>False</td>\n",
       "      <td>...</td>\n",
       "      <td>0</td>\n",
       "      <td>NaN</td>\n",
       "      <td>0</td>\n",
       "      <td>41795.665635</td>\n",
       "      <td>4</td>\n",
       "      <td>7</td>\n",
       "      <td>2017</td>\n",
       "      <td>1</td>\n",
       "      <td>0.380805</td>\n",
       "      <td>0.278638</td>\n",
       "    </tr>\n",
       "  </tbody>\n",
       "</table>\n",
       "<p>23699 rows × 29 columns</p>\n",
       "</div>"
      ],
      "text/plain": [
       "       total_images  last_price  total_area first_day_exposition  rooms  \\\n",
       "0                20    13000000      108.00           2019-03-07      3   \n",
       "1                 7     3350000       40.40           2018-12-04      1   \n",
       "2                10     5196000       56.00           2015-08-20      2   \n",
       "3                 0    64900000      159.00           2015-07-24      3   \n",
       "4                 2    10000000      100.00           2018-06-19      2   \n",
       "...             ...         ...         ...                  ...    ...   \n",
       "23694             9     9700000      133.81           2017-03-21      3   \n",
       "23695            14     3100000       59.00           2018-01-15      3   \n",
       "23696            18     2500000       56.70           2018-02-11      2   \n",
       "23697            13    11475000       76.75           2017-03-28      2   \n",
       "23698             4     1350000       32.30           2017-07-21      1   \n",
       "\n",
       "       ceiling_height  floors_total  living_area  floor  is_apartment  ...  \\\n",
       "0                2.70            16         51.0      8         False  ...   \n",
       "1                2.63            11         18.6      1         False  ...   \n",
       "2                2.70             5         34.3      4         False  ...   \n",
       "3                2.70            14          NaN      9         False  ...   \n",
       "4                3.03            14         32.0     13         False  ...   \n",
       "...               ...           ...          ...    ...           ...  ...   \n",
       "23694            3.70             5         73.3      3         False  ...   \n",
       "23695            2.50             5         38.0      4         False  ...   \n",
       "23696             NaN             3         29.7      1         False  ...   \n",
       "23697            3.00            17          NaN     12         False  ...   \n",
       "23698            2.50             5         12.3      1         False  ...   \n",
       "\n",
       "       ponds_around3000  ponds_nearest  days_exposition  square_meter_price  \\\n",
       "0                     2          755.0                0        120370.37037   \n",
       "1                     0            NaN               81        82920.792079   \n",
       "2                     2          574.0              558        92785.714286   \n",
       "3                     3          234.0              424       408176.100629   \n",
       "4                     1           48.0              121            100000.0   \n",
       "...                 ...            ...              ...                 ...   \n",
       "23694                 3          381.0                0        72490.845228   \n",
       "23695                 0            NaN               45        52542.372881   \n",
       "23696                 0            NaN                0        44091.710758   \n",
       "23697                 3          196.0              602       149511.400651   \n",
       "23698                 0            NaN                0        41795.665635   \n",
       "\n",
       "      weekday  month  year  floor_type  living_total_ratio  \\\n",
       "0           3      3  2019           3            0.472222   \n",
       "1           1     12  2018           1            0.460396   \n",
       "2           3      8  2015           3            0.612500   \n",
       "3           4      7  2015           3                 NaN   \n",
       "4           1      6  2018           3            0.320000   \n",
       "...       ...    ...   ...         ...                 ...   \n",
       "23694       1      3  2017           3            0.547792   \n",
       "23695       0      1  2018           3            0.644068   \n",
       "23696       6      2  2018           1            0.523810   \n",
       "23697       1      3  2017           3                 NaN   \n",
       "23698       4      7  2017           1            0.380805   \n",
       "\n",
       "       kitchen_total_ratio  \n",
       "0                 0.231481  \n",
       "1                 0.272277  \n",
       "2                 0.148214  \n",
       "3                      NaN  \n",
       "4                 0.410000  \n",
       "...                    ...  \n",
       "23694             0.103356  \n",
       "23695             0.144068  \n",
       "23696                  NaN  \n",
       "23697             0.303583  \n",
       "23698             0.278638  \n",
       "\n",
       "[23699 rows x 29 columns]"
      ]
     },
     "metadata": {},
     "output_type": "display_data"
    }
   ],
   "source": [
    "data['living_total_ratio'] = data['living_area']/data['total_area']   \n",
    "data['kitchen_total_ratio'] = data['kitchen_area']/data['total_area']\n",
    "display(data)                                                        "
   ]
  },
  {
   "cell_type": "markdown",
   "metadata": {},
   "source": [
    "### Вывод\n",
    "* Определили цену квадратного метра каждой квартиры.\n",
    "* Определили долю жилой площади и кухни.\n",
    "* Категоризировали этажи на первые, последние и другие с помощью функции.\n",
    "* В отдельный столбец вынесли день недели, месяц и год."
   ]
  },
  {
   "cell_type": "markdown",
   "metadata": {},
   "source": [
    "## Исследовательский анализ данных"
   ]
  },
  {
   "cell_type": "markdown",
   "metadata": {},
   "source": [
    "Изучаем основные параметры квартир и фильтруем данные от выбросов."
   ]
  },
  {
   "cell_type": "code",
   "execution_count": 19,
   "metadata": {
    "scrolled": true
   },
   "outputs": [
    {
     "data": {
      "image/png": "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\n",
      "text/plain": [
       "<Figure size 576x432 with 1 Axes>"
      ]
     },
     "metadata": {
      "needs_background": "light"
     },
     "output_type": "display_data"
    }
   ],
   "source": [
    "plt.figure(figsize=(8,6))\n",
    "plt.hist(data['total_area'], bins=50, range=(0,300))\n",
    "plt.xlabel('Общая площадь')\n",
    "plt.ylabel('Частота')\n",
    "plt.grid(True)"
   ]
  },
  {
   "cell_type": "code",
   "execution_count": 20,
   "metadata": {},
   "outputs": [
    {
     "name": "stdout",
     "output_type": "stream",
     "text": [
      "count    23699.000000\n",
      "mean        60.348651\n",
      "std         35.654083\n",
      "min         12.000000\n",
      "25%         40.000000\n",
      "50%         52.000000\n",
      "75%         69.900000\n",
      "max        900.000000\n",
      "Name: total_area, dtype: float64\n"
     ]
    }
   ],
   "source": [
    "print(data['total_area'].describe())\n",
    "data_clear = data.query('total_area<=300')"
   ]
  },
  {
   "cell_type": "code",
   "execution_count": 21,
   "metadata": {},
   "outputs": [
    {
     "data": {
      "image/png": "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\n",
      "text/plain": [
       "<Figure size 576x432 with 1 Axes>"
      ]
     },
     "metadata": {
      "needs_background": "light"
     },
     "output_type": "display_data"
    }
   ],
   "source": [
    "plt.figure(figsize=(8,6))\n",
    "plt.hist(data['last_price'], bins=50, range=(0,40000000))\n",
    "plt.xlabel('Последняя цена')\n",
    "plt.ylabel('Частота')\n",
    "plt.grid(True)"
   ]
  },
  {
   "cell_type": "code",
   "execution_count": 22,
   "metadata": {},
   "outputs": [
    {
     "name": "stdout",
     "output_type": "stream",
     "text": [
      "count    2.369900e+04\n",
      "mean     6.541549e+06\n",
      "std      1.088701e+07\n",
      "min      1.219000e+04\n",
      "25%      3.400000e+06\n",
      "50%      4.650000e+06\n",
      "75%      6.800000e+06\n",
      "max      7.630000e+08\n",
      "Name: last_price, dtype: float64\n"
     ]
    }
   ],
   "source": [
    "print(data['last_price'].describe())\n",
    "data_clear = data_clear.query('1000000<=last_price<=25000000')"
   ]
  },
  {
   "cell_type": "code",
   "execution_count": 23,
   "metadata": {},
   "outputs": [
    {
     "data": {
      "image/png": "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\n",
      "text/plain": [
       "<Figure size 576x432 with 1 Axes>"
      ]
     },
     "metadata": {
      "needs_background": "light"
     },
     "output_type": "display_data"
    }
   ],
   "source": [
    "plt.figure(figsize=(8,6))\n",
    "plt.hist(data['rooms'], bins=data['rooms'].max())\n",
    "plt.xlabel('Количество комнат')\n",
    "plt.ylabel('Частота')\n",
    "plt.grid(True)"
   ]
  },
  {
   "cell_type": "code",
   "execution_count": 24,
   "metadata": {},
   "outputs": [
    {
     "name": "stdout",
     "output_type": "stream",
     "text": [
      "count    23699.000000\n",
      "mean         2.070636\n",
      "std          1.078405\n",
      "min          0.000000\n",
      "25%          1.000000\n",
      "50%          2.000000\n",
      "75%          3.000000\n",
      "max         19.000000\n",
      "Name: rooms, dtype: float64\n"
     ]
    }
   ],
   "source": [
    "print(data['rooms'].describe())\n",
    "data_clear = data_clear.query('rooms<=7')"
   ]
  },
  {
   "cell_type": "code",
   "execution_count": 25,
   "metadata": {},
   "outputs": [
    {
     "data": {
      "image/png": "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\n",
      "text/plain": [
       "<Figure size 576x432 with 1 Axes>"
      ]
     },
     "metadata": {
      "needs_background": "light"
     },
     "output_type": "display_data"
    }
   ],
   "source": [
    "plt.figure(figsize=(8,6))\n",
    "plt.hist(data['ceiling_height'], bins=30, range=(2,5))\n",
    "plt.xlabel('Высота потолка')\n",
    "plt.ylabel('Частота')\n",
    "plt.grid(True)"
   ]
  },
  {
   "cell_type": "code",
   "execution_count": 26,
   "metadata": {},
   "outputs": [
    {
     "name": "stdout",
     "output_type": "stream",
     "text": [
      "count    23543.000000\n",
      "mean         2.734102\n",
      "std          1.012723\n",
      "min          1.000000\n",
      "25%          2.550000\n",
      "50%          2.700000\n",
      "75%          2.700000\n",
      "max        100.000000\n",
      "Name: ceiling_height, dtype: float64\n"
     ]
    }
   ],
   "source": [
    "print(data['ceiling_height'].describe())\n",
    "data_clear = data_clear.query('2.5<=ceiling_height<=4')"
   ]
  },
  {
   "cell_type": "code",
   "execution_count": 27,
   "metadata": {
    "scrolled": true
   },
   "outputs": [
    {
     "data": {
      "image/png": "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\n",
      "text/plain": [
       "<Figure size 1152x432 with 2 Axes>"
      ]
     },
     "metadata": {
      "needs_background": "light"
     },
     "output_type": "display_data"
    }
   ],
   "source": [
    "plt.figure(figsize=(16,6))\n",
    "plt.subplot(1,2,1)\n",
    "plt.hist(data['days_exposition'], bins=50, range=(0,1000))\n",
    "plt.xlabel('Длительность размещения')\n",
    "plt.ylabel('Частота')\n",
    "plt.grid(True)\n",
    "\n",
    "plt.subplot(1,2,2)\n",
    "plt.hist(data['days_exposition'], bins=50, range=(0,200))\n",
    "plt.xlabel('Длительность размещения')\n",
    "plt.ylabel('Частота')\n",
    "plt.grid(True)\n",
    "plt.show()"
   ]
  },
  {
   "cell_type": "markdown",
   "metadata": {},
   "source": [
    "Всплекс в области нуля вызван предыдущей заменой пропусков на 0. Значения менее 3 дней и дольше 800 похожи на аномалии, поэтому отфильтровываем их.  Также видны всплески в районе 45, 60 и 90 дней. Вероятно, это связано с усреднением длителности размещения. Удаляем значения в этих точках."
   ]
  },
  {
   "cell_type": "code",
   "execution_count": 28,
   "metadata": {},
   "outputs": [
    {
     "name": "stdout",
     "output_type": "stream",
     "text": [
      "count    23699.000000\n",
      "mean       156.608844\n",
      "std        213.546873\n",
      "min          0.000000\n",
      "25%         22.000000\n",
      "50%         74.000000\n",
      "75%        199.000000\n",
      "max       1580.000000\n",
      "Name: days_exposition, dtype: float64\n"
     ]
    }
   ],
   "source": [
    "print(data['days_exposition'].describe())\n",
    "data_clear = data_clear.query('3 <= days_exposition <= 800 and days_exposition != 45 and days_exposition != 60 and days_exposition != 90')"
   ]
  },
  {
   "cell_type": "code",
   "execution_count": 29,
   "metadata": {
    "scrolled": true
   },
   "outputs": [
    {
     "data": {
      "image/png": "iVBORw0KGgoAAAANSUhEUgAAAfsAAAFzCAYAAAA5aKBnAAAAOXRFWHRTb2Z0d2FyZQBNYXRwbG90bGliIHZlcnNpb24zLjMuNCwgaHR0cHM6Ly9tYXRwbG90bGliLm9yZy8QVMy6AAAACXBIWXMAAAsTAAALEwEAmpwYAAAiG0lEQVR4nO3df5RdZX3v8ffXUIESBRU7CwM20Aa7gGCUKeKv3km1GIQrVr0WLktAqbEWaW2xNdS2oJRe7rUpLdiLjYWilRKplIYGKEV0ivaKkGAk/JQAoZJiQgVDgyka/N4/9jNwGObHyeScOXOevF9rnTV7P3uffZ7vyUw+Zz97n70jM5EkSfV6Xq87IEmSusuwlySpcoa9JEmVM+wlSaqcYS9JUuUMe0mSKrdLrzvQLXvvvXfOnTu3Y9t74okn2GOPPTq2vV6qpZZa6gBrmalqqaWWOsBaJrJ69er/yMyXjrWs2rCfO3cuq1at6tj2hoeHGRoa6tj2eqmWWmqpA6xlpqqlllrqAGuZSEQ8ON4yh/ElSaqcYS9JUuUMe0mSKmfYS5JUOcNekqTKGfaSJFXOsJckqXKGvSRJlTPsJUmqnGEvSVLlDHtJkipn2EuSVDnDXpKkylV717vpNnfJ1RMuX3/u0dPUE0mSns09e0mSKmfYS5JUOYfx27R2w2ZOnmSoXpKkmcg9e0mSKmfYS5JUOcNekqTKGfaSJFXOsJckqXKGvSRJlTPsJUmqnGEvSVLlDHtJkipn2EuSVDnDXpKkynUt7CPi4ojYFBG3t7R9ISLWlMf6iFhT2udGxNaWZZ9uec5hEbE2ItZFxPkREd3qsyRJNermjXAuAT4FfG6kITN/ZWQ6IpYCm1vWvy8zF4yxnQuB9wPfAK4BFgHXdr67kiTVqWt79pl5I/DoWMvK3vm7gcsm2kZE7AO8MDNvysyk+eDw9g53VZKkqvXqmP0bgY2ZeW9L2/4R8c2I+JeIeGNpmwM81LLOQ6VNkiS1KZod5i5tPGIusDIzDxnVfiGwLjOXlvldgdmZ+b2IOAz4B+Bg4EDg3Mx8c1nvjcBHM/OYcV5vMbAYYGBg4LDly5d3rJZNj25m49apP3/+nD071pcdtWXLFmbPnt3rbuywWuoAa5mpaqmlljrAWiaycOHC1Zk5ONaybh6zH1NE7AK8AzhspC0znwSeLNOrI+I+mqDfAOzb8vR9S9uYMnMZsAxgcHAwh4aGOtbvCy5dwdK1U3+71p/Qub7sqOHhYTr53vRKLXWAtcxUtdRSSx1gLVPVi2H8NwN3Z+bTw/MR8dKImFWmDwDmAfdn5sPA4xFxRDnOfyKwogd9liSpb3Xzq3eXAV8HXhERD0XEKWXRcTz3xLxfAG4rX8X7IvBrmTlyct+vA38FrAPuwzPxJUnaLl0bxs/M48dpP3mMtiuAK8ZZfxVwyFjLJEnS5LyCniRJlTPsJUmqnGEvSVLlDHtJkipn2EuSVDnDXpKkyhn2kiRVzrCXJKlyhr0kSZUz7CVJqpxhL0lS5Qx7SZIqZ9hLklQ5w16SpMoZ9pIkVc6wlySpcoa9JEmVM+wlSaqcYS9JUuUMe0mSKmfYS5JUOcNekqTKGfaSJFXOsJckqXKGvSRJlTPsJUmqnGEvSVLlDHtJkipn2EuSVDnDXpKkyhn2kiRVzrCXJKlyhr0kSZXrWthHxMURsSkibm9pOysiNkTEmvJ4a8uyMyJiXUTcExFvaWlfVNrWRcSSbvVXkqRadXPP/hJg0Rjt52XmgvK4BiAiDgKOAw4uz/m/ETErImYBfwEcBRwEHF/WlSRJbdqlWxvOzBsjYm6bqx8LLM/MJ4EHImIdcHhZti4z7weIiOVl3Ts73V9JkmoVmdm9jTdhvzIzDynzZwEnA48Dq4DTM/OxiPgUcFNmfr6sdxFwbdnMosz81dL+HuA1mfmhcV5vMbAYYGBg4LDly5d3rJZNj25m49apP3/+nD071pcdtWXLFmbPnt3rbuywWuoAa5mpaqmlljrAWiaycOHC1Zk5ONayru3Zj+NC4Gwgy8+lwPs6tfHMXAYsAxgcHMyhoaFObZoLLl3B0rVTf7vWn9C5vuyo4eFhOvne9EotdYC1zFS11FJLHWAtUzWtYZ+ZG0emI+IzwMoyuwHYr2XVfUsbE7RLkqQ2TOtX7yJin5bZXwZGztS/CjguInaNiP2BecDNwC3AvIjYPyKeT3MS31XT2WdJkvpd1/bsI+IyYAjYOyIeAs4EhiJiAc0w/nrgAwCZeUdEXE5z4t024NTMfKps50PAdcAs4OLMvKNbfZYkqUbdPBv/+DGaL5pg/XOAc8Zovwa4poNdkyRpp+IV9CRJqpxhL0lS5Qx7SZIqZ9hLklQ5w16SpMoZ9pIkVc6wlySpcoa9JEmVM+wlSaqcYS9JUuWm+xa3O625S66ecPn6c4+epp5IknY27tlLklQ5w16SpMoZ9pIkVc6wlySpcoa9JEmVM+wlSaqcYS9JUuUMe0mSKmfYS5JUOcNekqTKGfaSJFXOsJckqXKGvSRJlTPsJUmqnGEvSVLlDHtJkipn2EuSVDnDXpKkyhn2kiRVzrCXJKlyhr0kSZUz7CVJqlzXwj4iLo6ITRFxe0vbJyPi7oi4LSKujIi9SvvciNgaEWvK49MtzzksItZGxLqIOD8iolt9liSpRt3cs78EWDSq7XrgkMw8FPg2cEbLsvsyc0F5/FpL+4XA+4F55TF6m5IkaQJdC/vMvBF4dFTbP2fmtjJ7E7DvRNuIiH2AF2bmTZmZwOeAt3ehu5IkVSuaDO3SxiPmAisz85Axlv0j8IXM/HxZ7w6avf3Hgd/PzK9GxCBwbma+uTznjcBHM/OYcV5vMbAYYGBg4LDly5d3rJZNj25m49aObe455s/Zs3sbH2XLli3Mnj172l6vW2qpA6xlpqqlllrqAGuZyMKFC1dn5uBYy3bp2Ktsh4j4GLANuLQ0PQy8PDO/FxGHAf8QEQdv73YzcxmwDGBwcDCHhoY61GO44NIVLF3bvbdr/QlDXdv2aMPDw3TyvemVWuoAa5mpaqmlljrAWqZq2sM+Ik4GjgHeVIbmycwngSfL9OqIuA84ENjAs4f69y1tkiSpTdP61buIWAT8LvC2zPxBS/tLI2JWmT6A5kS8+zPzYeDxiDiinIV/IrBiOvssSVK/69qefURcBgwBe0fEQ8CZNGff7wpcX75Bd1M58/4XgE9ExI+AHwO/lpkjJ/f9Os2Z/bsD15aHJElqU9fCPjOPH6P5onHWvQK4Ypxlq4DnnOAnSZLa4xX0JEmqXE/OxtdzzV1y9YTL15979DT1RJJUG/fsJUmqnGEvSVLlDHtJkipn2EuSVDnDXpKkyhn2kiRVzrCXJKlyhr0kSZUz7CVJqpxhL0lS5Qx7SZIqZ9hLklQ5w16SpMoZ9pIkVc5b3PYJb4ErSZoq9+wlSaqcYS9JUuUMe0mSKmfYS5JUubZP0IuIo4GDgd1G2jLzE93olCRJ6py29uwj4tPArwCnAQH8D+Cnu9gvSZLUIe0O478uM08EHsvMjwOvBQ7sXrckSVKntBv2W8vPH0TEy4AfAft0p0uSJKmT2j1mvzIi9gI+CdwKJPCZbnVKkiR1Tlthn5lnl8krImIlsFtmbu5etyRJUqe0e4LerSPTmfmkQS9JUv9o95h9dLUXkiSpa9o9Zv+KiLitZT6AzMxDu9AnSZLUQe2G/QPAf+9mRyRJUne0G/Y/zMwHu9oTSZLUFe0esz9tKhuPiIsjYlNE3N7S9uKIuD4i7i0/X1TaIyLOj4h1EXFbRLy65TknlfXvjYiTptIXSZJ2Vu2G/dqIOC8iVpXH0ojYs43nXQIsGtW2BLghM+cBN5R5gKOAeeWxGLgQmg8HwJnAa4DDgTNHPiBIkqTJtRv2FwOPA+8uj8eBv57sSZl5I/DoqOZjgc+W6c8Cb29p/1w2bgL2ioh9gLcA12fmo5n5GHA9z/0AIUmSxtHuMfufycx3tsx/PCLWTPE1BzLz4TL9XWCgTM8BvtOy3kOlbbx2SZLUhnbDfmtEvCEzvwYQEa/nmevlT1lmZkTkjm5nREQspjkEwMDAAMPDw53aNAO7w+nzt3Vse522PbVu2bKlo+9Nr9RSB1jLTFVLLbXUAdYyVe2G/QeBz7Ycp38MmOqJchsjYp/MfLgM028q7RuA/VrW27e0bQCGRrUPj7XhzFwGLAMYHBzMoaGhsVabkgsuXcHSte2+XdNv/QlDba87PDxMJ9+bXqmlDrCWmaqWWmqpA6xlqto9Zv/dzHwlcChwaGa+KjNvm+xJ47iKZz4onASsaGk/sZyVfwSwuQz3XwccGREvKifmHVnaJElSG9rdVb0GeHVmPr49G4+Iy2j2yveOiIdozqo/F7g8Ik4BHqQ54W/kNd4KrAN+ALwXIDMfjYizgVvKep/IzNEn/UmSpHF0dVw6M48fZ9Gbxlg3gVPH2c7FNN8I0DjmLrl60nXWn3v0NPREkjTTtBv2h0ZE6179yLXxX9iFPkmSpA5qN+zXZuarutoTSZLUFe2eoCdJkvpUu2H/zslXkSRJM1G7YX9mROw1MlO+BucJc5Ik9YF2w/7QzPz+yEy5Rr3H8CVJ6gPthv3zWu80V+5EN3MvJydJkp7WbmAvBb4eEX9H87W7dwHndK1XkiSpY9oK+8z8XESsBhaWpndk5p3d65YkSeqUtofiM/OOiHgE2A0gIl6emf/WtZ5JkqSOaOuYfUS8LSLuBR4A/gVYD1zbxX5JkqQOafcEvbOBI4BvZ+b+NNe2v6lrvZIkSR3Tbtj/KDO/R3NW/vMy8yvAYBf7JUmSOqTdY/bfj4jZwFeBSyNiE/BE97olSZI6pd09+7fR3GP+w8A/0dxz/pgu9UmSJHXQhHv2EfEAkKOby8/fAg7oRqckSVLnTDaM33pcPoAv88x37SVJUh+YMOzLSXlPi4hto9skSdLM1vb97CPiAJ4ZwpckSX1ismP2a2mO2e8K/CTwgenolCRJ6pzJjtmPnHH/X5m5sdudkSRJnTfZMfsHp6sj6r65S64G4PT52zi5TLdaf+7R090lSdI0aPuYvSRJ6k9t3/VO9Zs7xt5+K/f8Jak/uWcvSVLlDHtJkipn2EuSVDnDXpKkyhn2kiRVzrCXJKlyhr0kSZUz7CVJqpxhL0lS5aY97CPiFRGxpuXxeER8OCLOiogNLe1vbXnOGRGxLiLuiYi3THefJUnqZ9N+udzMvAdYABARs4ANwJXAe4HzMvNPWtePiIOA44CDgZcBX4qIAzPzqenstyRJ/arXw/hvAu6b5O56xwLLM/PJzHwAWAccPi29kySpAr0O++OAy1rmPxQRt0XExRHxotI2B/hOyzoPlTZJktSGyMzevHDE84F/Bw7OzI0RMQD8B5DA2cA+mfm+iPgUcFNmfr487yLg2sz84hjbXAwsBhgYGDhs+fLlHevvpkc3s3FrxzbXUwO7M6Va5s/Zs/Od2QFbtmxh9uzZve5GR1jLzFRLLbXUAdYykYULF67OzMGxlvXyFrdHAbdm5kaAkZ8AEfEZYGWZ3QDs1/K8fUvbc2TmMmAZwODgYA4NDXWssxdcuoKla+u4I/Dp87dNqZb1Jwx1vjM7YHh4mE7+G/eStcxMtdRSSx1gLVPVy2H842kZwo+IfVqW/TJwe5m+CjguInaNiP2BecDN09ZLSZL6XE92VSNiD+CXgA+0NP+fiFhAM4y/fmRZZt4REZcDdwLbgFM9E1+SpPb1JOwz8wngJaPa3jPB+ucA53S7X5Ik1ajXZ+NLkqQuM+wlSaqcYS9JUuUMe0mSKmfYS5JUOcNekqTK1XFJOE2LuUuunnD5+nOPnqaeSJK2h3v2kiRVzrCXJKlyhr0kSZUz7CVJqpxhL0lS5Qx7SZIqZ9hLklQ5w16SpMoZ9pIkVc6wlySpcoa9JEmVM+wlSaqcYS9JUuUMe0mSKuctbtUx3gJXkmYm9+wlSaqcYS9JUuUMe0mSKmfYS5JUOcNekqTKGfaSJFXOr95p2vjVPEnqDffsJUmqnGEvSVLlDHtJkipn2EuSVLmehX1ErI+ItRGxJiJWlbYXR8T1EXFv+fmi0h4RcX5ErIuI2yLi1b3qtyRJ/abXe/YLM3NBZg6W+SXADZk5D7ihzAMcBcwrj8XAhdPeU0mS+lSvw360Y4HPlunPAm9vaf9cNm4C9oqIfXrQP0mS+k5kZm9eOOIB4DEggb/MzGUR8f3M3KssD+CxzNwrIlYC52bm18qyG4CPZuaqUdtcTLPnz8DAwGHLly/vWH83PbqZjVs7trmeGtidvqxl/pw9nzW/ZcsWZs+e3aPedJa1zEy11FJLHWAtE1m4cOHqlpHyZ+nlRXXekJkbIuKngOsj4u7WhZmZEbFdn0QycxmwDGBwcDCHhoY61tkLLl3B0rV1XIPo9Pnb+rKW9ScMPWt+eHiYTv4b95K1zEy11FJLHWAtU9WzYfzM3FB+bgKuBA4HNo4Mz5efm8rqG4D9Wp6+b2mTJEmT6EnYR8QeEfGCkWngSOB24CrgpLLaScCKMn0VcGI5K/8IYHNmPjzN3ZYkqS/1aix3ALiyOSzPLsDfZuY/RcQtwOURcQrwIPDusv41wFuBdcAPgPdOf5clSepPPQn7zLwfeOUY7d8D3jRGewKnTkPXJEmqzkz76p0kSeoww16SpMoZ9pIkVc6wlySpcoa9JEmVM+wlSaqcYS9JUuUMe0mSKmfYS5JUuf679Zl2WnOXXP2s+dPnb+Pklrb15x493V2SpL7gnr0kSZUz7CVJqpxhL0lS5Qx7SZIqZ9hLklQ5w16SpMr51TtVY/RX80bzq3mSdlbu2UuSVDnDXpKkyhn2kiRVzrCXJKlyhr0kSZUz7CVJqpxhL0lS5fyevXYak30PH/wuvqQ6uWcvSVLlDHtJkipn2EuSVDnDXpKkyhn2kiRVzrCXJKlyhr0kSZXze/ZSi8m+iz/Z9/B39PmS1A3THvYRsR/wOWAASGBZZv55RJwFvB94pKz6e5l5TXnOGcApwFPAb2TmddPdbwnauzCPJM00vdiz3wacnpm3RsQLgNURcX1Zdl5m/knryhFxEHAccDDwMuBLEXFgZj41rb2WJKlPTfsx+8x8ODNvLdP/CdwFzJngKccCyzPzycx8AFgHHN79nkqSVIfIzN69eMRc4EbgEOC3gZOBx4FVNHv/j0XEp4CbMvPz5TkXAddm5hfH2N5iYDHAwMDAYcuXL+9YXzc9upmNWzu2uZ4a2J0qaunHOubP2XPM9i1btjB79uxp7k13WMvMU0sdYC0TWbhw4erMHBxrWc9O0IuI2cAVwIcz8/GIuBA4m+Y4/tnAUuB927PNzFwGLAMYHBzMoaGhjvX3gktXsHRtHecznj5/WxW19GMd608YGrN9eHiYTv6+9pK1zDy11AHWMlU9+epdRPwETdBfmpl/D5CZGzPzqcz8MfAZnhmq3wDs1/L0fUubJElqw7SHfUQEcBFwV2b+aUv7Pi2r/TJwe5m+CjguInaNiP2BecDN09VfSZL6XS/GQF8PvAdYGxFrStvvAcdHxAKaYfz1wAcAMvOOiLgcuJPmTP5TPRNf/Wq8r+6dPn8bJy+52u/hS+qKaQ/7zPwaEGMsumaC55wDnNO1TkmSVLH+OrtJqtyOXrTHkQFJY/Ha+JIkVc6wlySpcg7jSzuRdg4TeChAqo9hL1XEG/VIGovD+JIkVc49e0nPsqOjA5cs2qNDPZHUKe7ZS5JUOcNekqTKOYwvqaPWbtjMyRMcCpjsbP/JDiP4bQFp+xn2kqaV3xiQpp/D+JIkVc6wlySpcoa9JEmVM+wlSaqcJ+hJqopn80vPZdhL2qn4YUA7I8NeUl/xq3vS9vOYvSRJlXPPXpKmmYcSNN0Me0lq0RrEp8/fNualfw1j9RuH8SVJqpx79pI0wzjMr04z7CVpO/U6jHv9+uo/hr0kdVivvx44+vVHn3vgh4Gdj2EvSTsZRwZ2Pp6gJ0lS5dyzlyQ9SycOQ3jewsxi2EuSOq5b5y2Md+2D7X39ne3DgGEvSdIonfiwMNk2Llm0x3b1aUcY9pKknU6vvzEx3Qx7SZK2U799WOibs/EjYlFE3BMR6yJiSa/7I0lSv+iLsI+IWcBfAEcBBwHHR8RBve2VJEn9oS/CHjgcWJeZ92fmD4HlwLE97pMkSX2hX8J+DvCdlvmHSpskSZpEZGav+zCpiHgXsCgzf7XMvwd4TWZ+aNR6i4HFZfYVwD0d7MbewH90cHu9VEsttdQB1jJT1VJLLXWAtUzkpzPzpWMt6Jez8TcA+7XM71vaniUzlwHLutGBiFiVmYPd2PZ0q6WWWuoAa5mpaqmlljrAWqaqX4bxbwHmRcT+EfF84Djgqh73SZKkvtAXe/aZuS0iPgRcB8wCLs7MO3rcLUmS+kJfhD1AZl4DXNPDLnTl8ECP1FJLLXWAtcxUtdRSSx1gLVPSFyfoSZKkqeuXY/aSJGmKDPtJ9NtleiPi4ojYFBG3t7S9OCKuj4h7y88XlfaIiPNLbbdFxKt71/Pnioj9IuIrEXFnRNwREb9Z2vuqnojYLSJujohvlTo+Xtr3j4hvlP5+oZx8SkTsWubXleVze1rAGCJiVkR8MyJWlvm+rCUi1kfE2ohYExGrSltf/X6NiIi9IuKLEXF3RNwVEa/tt1oi4hXl32Lk8XhEfLjf6hgREb9V/uZvj4jLyv8FPflbMewnEP15md5LgEWj2pYAN2TmPOCGMg9NXfPKYzFw4TT1sV3bgNMz8yDgCODU8v73Wz1PAr+Yma8EFgCLIuII4H8D52XmzwKPAaeU9U8BHivt55X1ZprfBO5qme/nWhZm5oKWr0D12+/XiD8H/ikzfw54Jc2/T1/Vkpn3lH+LBcBhwA+AK+mzOgAiYg7wG8BgZh5Cc3L5cfTqbyUzfYzzAF4LXNcyfwZwRq/71Ua/5wK3t8zfA+xTpvcB7inTfwkcP9Z6M/EBrAB+qZ/rAX4SuBV4Dc3FNHYZ/btG862T15bpXcp60eu+t9SwL81/uL8IrASij2tZD+w9qq3vfr+APYEHRr+3/VhLS5+OBP61X+vgmSu/vrj87q8E3tKrvxX37CdWy2V6BzLz4TL9XWCgTPdNfWVI61XAN+jDesqw9xpgE3A9cB/w/czcVlZp7evTdZTlm4GXTGuHJ/ZnwO8CPy7zL6F/a0ngnyNidTRX4IQ+/P0C9gceAf66HF75q4jYg/6sZcRxwGVluu/qyMwNwJ8A/wY8TPO7v5oe/a0Y9juZbD429tVXMCJiNnAF8OHMfLx1Wb/Uk5lPZTM0uS/NjZ1+rrc9mpqIOAbYlJmre92XDnlDZr6aZjj41Ij4hdaF/fL7RbMn+Grgwsx8FfAEzwx1A31VC+U49tuAvxu9rF/qKOcVHEvzQexlwB489xDrtDHsJ9bWZXr7wMaI2Aeg/NxU2md8fRHxEzRBf2lm/n1p7tt6MvP7wFdohu/2ioiRa1209vXpOsryPYHvTW9Px/V64G0RsZ7m7pO/SHOsuB9rGdn7IjM30RwbPpz+/P16CHgoM79R5r9IE/79WAs0H75uzcyNZb4f63gz8EBmPpKZPwL+nubvpyd/K4b9xGq5TO9VwEll+iSaY98j7SeWM1qPADa3DJX1XEQEcBFwV2b+acuivqonIl4aEXuV6d1pzju4iyb031VWG13HSH3vAr5c9mZ6LjPPyMx9M3Muzd/DlzPzBPqwlojYIyJeMDJNc4z4dvrs9wsgM78LfCciXlGa3gTcSR/WUhzPM0P40J91/BtwRET8ZPm/bOTfpDd/K70+iWGmP4C3At+mOcb6sV73p43+XkZzfOhHNJ/2T6E57nMDcC/wJeDFZd2g+bbBfcBamrNGe15DSy1voBmuuw1YUx5v7bd6gEOBb5Y6bgf+sLQfANwMrKMZrty1tO9W5teV5Qf0uoZx6hoCVvZrLaXP3yqPO0b+vvvt96ulngXAqvJ79g/Ai/qxFprh7u8Be7a09V0dpX8fB+4uf/d/A+zaq78Vr6AnSVLlHMaXJKlyhr0kSZUz7CVJqpxhL0lS5Qx7SZIqZ9hLU1TuZHVnuTvXhog4q9d9kqSxGPbSjjkqm8vgntfrjkjSeAx7aep+gub2tc8REUMRsbns9X83Ij5S2tdHxN5l+vMRcXuZ/kpZd0tE3FOm31au8nZxRNxcbnBybMtrnBwRj5R1H42Id5X2LWP0Z+7Ia5X5d0XEJS3LvhzN/cBviIiXl/aBiLgyIr5VHq+LiE+21LShTH+i1LtyojerrHNjRFxdavx0RDyvLLswIlZFc+/vj7c854pS910R8eul7ayI2NpyVcKjIiIjYqjMHxkRX4+IWyPi76K5t8Lo935ly/ofGRmVieaGRZ+MiFvK+/GBlr6vbOlX63OGI2KwTP9R6/tfaryrvE9PTfT+SN1k2EtT9wLgP8dZNgv4l7LX/+nRCyNiPnDIyHxmLizrrgJOyOae3lcBH6O5bObhwELgk+XSriOvcVl53o5cxvkC4LOZeShwKXB+aT+/1PBKmuus35GZv9NS03mln3+4Ha91OHAacBDwM8A7SvvHsrmf/KHAf4uIQwEy853Z3NjlWOAPWrZzG/A/y/SJNHcTo4T57wNvzuYGN6uA396O/p1Cc8nVnwd+Hnh/ROzfzhMj4qdoLok6Mj8feB1wcHnPtm5HP6SOMuylKYiIWcALMvOJcVbZHfivCTbxR8CZbbzUkcCSaG6PO0xzSc2XT/Iau5c9yW9FxPkje8/Az5T2NcAnW9Z/LfC3ZfpvaC5TDM1Nbi6Ep+/at3mSvr6xbP+bEfG+cda5OTPvz8ynaC7tPPJa746IW2kuK3wwzYcBACLimzSXtP3jlu1cRXNDnpfQjLB8t7QfUZ77r6XOk4CfnqTfrY6kudb6GprbKb8EmDeqvjXAb43x3D8Y1cengOeXh9RTu0y+iqQxHEBzz4TxvAz493GWvQ7YQhNgkwngnZl5z3a8xtbMXBDNnbO+RHP3rW8D95U9TMqQ/zFtvP72+GpmHlP2ru+OiOWZ+YNR64y+PneWPeePAD+fmY+Vwwu7Pb1C5qvKOpdHxKdK85M010n/XzQfVEY+XARwfWYeP8UaAjgtM697VmMz5P/VzDymzH8EmN2yylzgkMw8LSJG+n1nRFwObIqI+2k+nEk94Z69NDXvBr4+1oKy1/8O4F/Hee5ZQLtD39cBp0VJkIh4Vfm5O01Yj/caZOY2YDOT71n+P5o72AGcAHy1TN8AfLC83qyI2LPNPv8nsI3mMMNoh0dzF8nnAb8CfA14Ic391zdHxADN7U2JiOdFxAvL834IHEizFz/iIprDC//Y0nYT8PqI+NmyjT0i4sA2+w3N+/3BaG6tTEQc2HLYZCJnMvZIzWbgzx3GV6+5Zy9tp4j4IM0w/IMRMTIM/VJgVhmKPo5mr/OKcTbxjcy8LyLmtvFyZwN/BtxWAvIBmpC/FvhCZt4yxnN2j4iv0QTjepoAmzPBa5wG/HVE/A7wCPDe0v6bwLKIOIVmSPqDjPMBp3hded09aI7nj3U+wy3Ap4CfpbnV55WZ+eMyVH838B2e+QDzfGC4fHjaDfhoZv6wZc95DTByYtxI2yMRcTJwWUTsWrbz+zwzCrMyIrbRDPVfEBGby3szKyJWAH9Fs5d+a/mA9Qjw9glqHvFQZt7Y2hARr6c5LHBUG8+Xusq73knbqZyFvT4zL2mnXY0yFP6RkaHwmaT82w1n5nCPuyJ1hXv2kgRfBh7sdSekbnHPXtpO5cS3LGeUT9ouSb1m2EuSVDnPxpckqXKGvSRJlTPsJUmqnGEvSVLlDHtJkir3/wFH7K+hRkip6AAAAABJRU5ErkJggg==\n",
      "text/plain": [
       "<Figure size 576x432 with 1 Axes>"
      ]
     },
     "metadata": {
      "needs_background": "light"
     },
     "output_type": "display_data"
    }
   ],
   "source": [
    "plt.figure(figsize=(8,6))\n",
    "plt.hist(data_clear['days_exposition'], bins=50, range=(0,800))\n",
    "plt.xlabel('Длительность размещения')\n",
    "plt.ylabel('Частота')\n",
    "plt.grid(True)"
   ]
  },
  {
   "cell_type": "markdown",
   "metadata": {},
   "source": [
    "После фильтрации от выбросов распределение стало более равномерным, оно точнее отражает общую ситуацию на рынке."
   ]
  },
  {
   "cell_type": "code",
   "execution_count": 30,
   "metadata": {},
   "outputs": [
    {
     "data": {
      "text/plain": [
       "count    17660.000000\n",
       "mean       163.237939\n",
       "std        168.424771\n",
       "min          3.000000\n",
       "25%         39.000000\n",
       "50%        103.000000\n",
       "75%        226.000000\n",
       "max        800.000000\n",
       "Name: days_exposition, dtype: float64"
      ]
     },
     "execution_count": 30,
     "metadata": {},
     "output_type": "execute_result"
    }
   ],
   "source": [
    "data_clear['days_exposition'].describe()"
   ]
  },
  {
   "cell_type": "code",
   "execution_count": 31,
   "metadata": {},
   "outputs": [
    {
     "name": "stdout",
     "output_type": "stream",
     "text": [
      "Доля оставшихся строк: 0.7451791214819191\n"
     ]
    }
   ],
   "source": [
    "print(f'Доля оставшихся строк: {data_clear.shape[0] / data.shape[0]}')"
   ]
  },
  {
   "cell_type": "markdown",
   "metadata": {},
   "source": [
    "Из-за фильтрации потеряли чуть более 25% данных. Это большое число, однако для получения образа \"средней квартиры\" и изучения зависимостей фильтрация была необходима."
   ]
  },
  {
   "cell_type": "markdown",
   "metadata": {},
   "source": [
    "**Исследование параметров квартир**\n",
    "\n",
    "* Площади квартир варьируются от 12 до 900 м^2. Среднее и медиана равны 60 и 52 м^2, соответственно. Отфильтровываем значения выше 300 м^2.\n",
    "\n",
    "* Цены на квартиры варьируются от 12 тыс до 763 млн рублей. Средняя и медиана равны 6.54 и 4.65 млн рублей, соответственно. Отфильтровываем значения ниже 1 и выше 25 млн рублей.\n",
    "\n",
    "* Число комнат варьируется от 0 до 19. Максимум распределения равен 2. Отфильтровываем значения выше 7.\n",
    "\n",
    "* Высота потолков в квартирах имеет диапазон от 1 до 100 м. Среднее и медиана равны 2.73 и 2.70 м. Отфильтровываем значения меньше 2.5 м и больше 4.\n",
    "\n",
    "* Время продажи квартиры на нефильтрованных данных составляло: среднее - 157 дней, медиана - 74. После очистки данных от аномалий получили среднее 163 дней и медиану 103 дней.  Распределение имеет длинный \"хвост\", и продажи длительностью более 800 дней крайне редки. Продажи быстрее 3 дней также редки. Из общего тренда выбиваются значения около 45, 60 и 90. Методом `query()` отфильтровали столбец от аномальных значений и получили более ровное распределение."
   ]
  },
  {
   "cell_type": "markdown",
   "metadata": {},
   "source": [
    "**Исследуем зависимость стоимости квартиры от других характеристик**"
   ]
  },
  {
   "cell_type": "code",
   "execution_count": 32,
   "metadata": {
    "scrolled": true
   },
   "outputs": [
    {
     "data": {
      "image/png": "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\n",
      "text/plain": [
       "<Figure size 648x648 with 16 Axes>"
      ]
     },
     "metadata": {
      "needs_background": "light"
     },
     "output_type": "display_data"
    },
    {
     "name": "stdout",
     "output_type": "stream",
     "text": [
      "                     last_price  total_area     rooms  cityCenters_nearest\n",
      "last_price             1.000000    0.784437  0.518875            -0.351363\n",
      "total_area             0.784437    1.000000  0.796428            -0.207366\n",
      "rooms                  0.518875    0.796428  1.000000            -0.151814\n",
      "cityCenters_nearest   -0.351363   -0.207366 -0.151814             1.000000\n"
     ]
    }
   ],
   "source": [
    "data_analysis_1 =  data_clear[['last_price','total_area', 'rooms', 'cityCenters_nearest']]  \n",
    "pd.plotting.scatter_matrix(data_analysis_1, figsize=(9,9))              \n",
    "plt.show()\n",
    "print(data_analysis_1.corr())"
   ]
  },
  {
   "cell_type": "code",
   "execution_count": 33,
   "metadata": {
    "scrolled": true
   },
   "outputs": [
    {
     "data": {
      "image/png": "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\n",
      "text/plain": [
       "<Figure size 432x288 with 1 Axes>"
      ]
     },
     "metadata": {
      "needs_background": "light"
     },
     "output_type": "display_data"
    },
    {
     "data": {
      "text/plain": [
       "floor_type\n",
       "1     2917\n",
       "2     3341\n",
       "3    17441\n",
       "Name: last_price, dtype: int64"
      ]
     },
     "execution_count": 33,
     "metadata": {},
     "output_type": "execute_result"
    }
   ],
   "source": [
    "data.groupby('floor_type')['last_price'].median().plot(kind='bar',x='floor_type',y='last_price', grid=True)\n",
    "plt.ylabel('Последняя цена')\n",
    "plt.show()\n",
    "data.groupby('floor_type')['last_price'].count()"
   ]
  },
  {
   "cell_type": "code",
   "execution_count": 34,
   "metadata": {
    "scrolled": true
   },
   "outputs": [
    {
     "data": {
      "image/png": "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\n",
      "text/plain": [
       "<Figure size 432x288 with 1 Axes>"
      ]
     },
     "metadata": {
      "needs_background": "light"
     },
     "output_type": "display_data"
    },
    {
     "data": {
      "text/plain": [
       "weekday\n",
       "0    3612\n",
       "1    4183\n",
       "2    3974\n",
       "3    4295\n",
       "4    4000\n",
       "5    1936\n",
       "6    1699\n",
       "Name: last_price, dtype: int64"
      ]
     },
     "execution_count": 34,
     "metadata": {},
     "output_type": "execute_result"
    }
   ],
   "source": [
    "data.groupby('weekday')['last_price'].median().plot(kind='bar',x='weekday',y='last_price', grid=True)\n",
    "plt.ylabel('Последняя цена')\n",
    "plt.show() \n",
    "data.groupby('weekday')['last_price'].count()"
   ]
  },
  {
   "cell_type": "code",
   "execution_count": 35,
   "metadata": {
    "scrolled": true
   },
   "outputs": [
    {
     "data": {
      "image/png": "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\n",
      "text/plain": [
       "<Figure size 432x288 with 1 Axes>"
      ]
     },
     "metadata": {
      "needs_background": "light"
     },
     "output_type": "display_data"
    },
    {
     "data": {
      "text/plain": [
       "month\n",
       "1     1500\n",
       "2     2640\n",
       "3     2587\n",
       "4     2379\n",
       "5     1274\n",
       "6     1760\n",
       "7     1695\n",
       "8     1744\n",
       "9     1981\n",
       "10    2127\n",
       "11    2371\n",
       "12    1641\n",
       "Name: last_price, dtype: int64"
      ]
     },
     "execution_count": 35,
     "metadata": {},
     "output_type": "execute_result"
    }
   ],
   "source": [
    "data.groupby('month')['last_price'].median().plot(kind='bar',x='month',y='last_price', grid=True)\n",
    "plt.ylabel('Последняя цена')\n",
    "plt.show() \n",
    "data.groupby('month')['last_price'].count()"
   ]
  },
  {
   "cell_type": "code",
   "execution_count": 36,
   "metadata": {},
   "outputs": [
    {
     "data": {
      "image/png": "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\n",
      "text/plain": [
       "<Figure size 432x288 with 1 Axes>"
      ]
     },
     "metadata": {
      "needs_background": "light"
     },
     "output_type": "display_data"
    },
    {
     "name": "stdout",
     "output_type": "stream",
     "text": [
      "year\n",
      "2014    7700000.0\n",
      "2015    5350000.0\n",
      "2016    4550000.0\n",
      "2017    4500000.0\n",
      "2018    4550000.0\n",
      "2019    5050000.0\n",
      "Name: last_price, dtype: Float64\n",
      "\n",
      "year\n",
      "2014     137\n",
      "2015    1191\n",
      "2016    2783\n",
      "2017    8190\n",
      "2018    8519\n",
      "2019    2879\n",
      "Name: last_price, dtype: int64\n"
     ]
    }
   ],
   "source": [
    "data.groupby('year')['last_price'].median().plot(kind='bar',x='year',y='last_price', grid=True)\n",
    "plt.ylabel('Последняя цена')\n",
    "plt.show() \n",
    "print(data.groupby('year')['last_price'].median())\n",
    "print('')\n",
    "print(data.groupby('year')['last_price'].count())"
   ]
  },
  {
   "cell_type": "markdown",
   "metadata": {},
   "source": [
    "**Выводы:**\n",
    "\n",
    "* Цена квартиры имеет высокую корреляцию с общей площадью (0.78) и количеством комнат (0.52) (но количество комнат и площадь коррелируют друг с другом, что логично). При отдалении от центра населенного пункта цена падает (-0.35). \n",
    "\n",
    "* Медианная цена квартир на первом этаже самая низкая, она примерно в 2 раза ниже стоимости квартир на других этажах. Стоимость квартир на последнем этаже немного ниже стоимости квартир на других этажах (кроме первого). Квартиры на первом этаже практически не продают (всего 25 объявлений). \n",
    "\n",
    "* Стоимости квартир в зависимости от дня недели различаются незначительно. Отмечается небольшой спад в пятницу и на выходных. Скорее всего, это обусловлено общим снижением количества объявлений в выходные дни.\n",
    "\n",
    "* Медианная цена квартир практически не зависит от месяца продажи. Однако в мае и июне она немного ниже, чем в другие месяцы.\n",
    "\n",
    "* Медианные цены на квартиры менялись год от года. В 2014 году цена была максимальной (7.7 млн рублей), затем она снижалась до 2016 года. С 2016 по 2018 цена держалась на уровне 4.5 млн, но в 2019 поднялась до 5 млн."
   ]
  },
  {
   "cell_type": "markdown",
   "metadata": {},
   "source": [
    "**Изучаем населенные пункты**"
   ]
  },
  {
   "cell_type": "markdown",
   "metadata": {},
   "source": [
    "Определяем населенные пункты с максимальным числом объявлений"
   ]
  },
  {
   "cell_type": "code",
   "execution_count": 37,
   "metadata": {
    "scrolled": true
   },
   "outputs": [
    {
     "data": {
      "text/html": [
       "<div>\n",
       "<style scoped>\n",
       "    .dataframe tbody tr th:only-of-type {\n",
       "        vertical-align: middle;\n",
       "    }\n",
       "\n",
       "    .dataframe tbody tr th {\n",
       "        vertical-align: top;\n",
       "    }\n",
       "\n",
       "    .dataframe thead th {\n",
       "        text-align: right;\n",
       "    }\n",
       "</style>\n",
       "<table border=\"1\" class=\"dataframe\">\n",
       "  <thead>\n",
       "    <tr style=\"text-align: right;\">\n",
       "      <th></th>\n",
       "      <th>count</th>\n",
       "      <th>mean</th>\n",
       "      <th>median</th>\n",
       "    </tr>\n",
       "    <tr>\n",
       "      <th>locality_name</th>\n",
       "      <th></th>\n",
       "      <th></th>\n",
       "      <th></th>\n",
       "    </tr>\n",
       "  </thead>\n",
       "  <tbody>\n",
       "    <tr>\n",
       "      <th>Санкт-Петербург</th>\n",
       "      <td>15721</td>\n",
       "      <td>114849.008794</td>\n",
       "      <td>104761.904762</td>\n",
       "    </tr>\n",
       "    <tr>\n",
       "      <th>посёлок Мурино</th>\n",
       "      <td>522</td>\n",
       "      <td>85752.189195</td>\n",
       "      <td>85878.462169</td>\n",
       "    </tr>\n",
       "    <tr>\n",
       "      <th>посёлок Шушары</th>\n",
       "      <td>440</td>\n",
       "      <td>78677.364217</td>\n",
       "      <td>76876.172608</td>\n",
       "    </tr>\n",
       "    <tr>\n",
       "      <th>Всеволожск</th>\n",
       "      <td>398</td>\n",
       "      <td>68654.473986</td>\n",
       "      <td>65789.473684</td>\n",
       "    </tr>\n",
       "    <tr>\n",
       "      <th>Пушкин</th>\n",
       "      <td>369</td>\n",
       "      <td>103125.819291</td>\n",
       "      <td>100000.0</td>\n",
       "    </tr>\n",
       "    <tr>\n",
       "      <th>Колпино</th>\n",
       "      <td>338</td>\n",
       "      <td>75424.579098</td>\n",
       "      <td>74723.748474</td>\n",
       "    </tr>\n",
       "    <tr>\n",
       "      <th>посёлок Парголово</th>\n",
       "      <td>327</td>\n",
       "      <td>90175.913458</td>\n",
       "      <td>91642.857143</td>\n",
       "    </tr>\n",
       "    <tr>\n",
       "      <th>Гатчина</th>\n",
       "      <td>307</td>\n",
       "      <td>68746.146763</td>\n",
       "      <td>67796.610169</td>\n",
       "    </tr>\n",
       "    <tr>\n",
       "      <th>деревня Кудрово</th>\n",
       "      <td>299</td>\n",
       "      <td>92473.547576</td>\n",
       "      <td>91860.465116</td>\n",
       "    </tr>\n",
       "    <tr>\n",
       "      <th>Выборг</th>\n",
       "      <td>237</td>\n",
       "      <td>58141.909153</td>\n",
       "      <td>58158.319871</td>\n",
       "    </tr>\n",
       "  </tbody>\n",
       "</table>\n",
       "</div>"
      ],
      "text/plain": [
       "                   count           mean         median\n",
       "locality_name                                         \n",
       "Санкт-Петербург    15721  114849.008794  104761.904762\n",
       "посёлок Мурино       522   85752.189195   85878.462169\n",
       "посёлок Шушары       440   78677.364217   76876.172608\n",
       "Всеволожск           398   68654.473986   65789.473684\n",
       "Пушкин               369  103125.819291       100000.0\n",
       "Колпино              338   75424.579098   74723.748474\n",
       "посёлок Парголово    327   90175.913458   91642.857143\n",
       "Гатчина              307   68746.146763   67796.610169\n",
       "деревня Кудрово      299   92473.547576   91860.465116\n",
       "Выборг               237   58141.909153   58158.319871"
      ]
     },
     "metadata": {},
     "output_type": "display_data"
    }
   ],
   "source": [
    "localities = data.pivot_table(index='locality_name', values='square_meter_price', aggfunc=['count', 'mean', 'median'])  \n",
    "localities.columns = ['count', 'mean','median']     \n",
    "display(localities.sort_values(by='count', ascending=False).head(10))"
   ]
  },
  {
   "cell_type": "markdown",
   "metadata": {},
   "source": [
    "Населенные пункты с самой высокой ценой за кв.м."
   ]
  },
  {
   "cell_type": "code",
   "execution_count": 38,
   "metadata": {
    "scrolled": true
   },
   "outputs": [
    {
     "data": {
      "text/html": [
       "<div>\n",
       "<style scoped>\n",
       "    .dataframe tbody tr th:only-of-type {\n",
       "        vertical-align: middle;\n",
       "    }\n",
       "\n",
       "    .dataframe tbody tr th {\n",
       "        vertical-align: top;\n",
       "    }\n",
       "\n",
       "    .dataframe thead th {\n",
       "        text-align: right;\n",
       "    }\n",
       "</style>\n",
       "<table border=\"1\" class=\"dataframe\">\n",
       "  <thead>\n",
       "    <tr style=\"text-align: right;\">\n",
       "      <th></th>\n",
       "      <th>count</th>\n",
       "      <th>mean</th>\n",
       "      <th>median</th>\n",
       "    </tr>\n",
       "    <tr>\n",
       "      <th>locality_name</th>\n",
       "      <th></th>\n",
       "      <th></th>\n",
       "      <th></th>\n",
       "    </tr>\n",
       "  </thead>\n",
       "  <tbody>\n",
       "    <tr>\n",
       "      <th>посёлок Лисий Нос</th>\n",
       "      <td>2</td>\n",
       "      <td>121616.221359</td>\n",
       "      <td>121616.221359</td>\n",
       "    </tr>\n",
       "    <tr>\n",
       "      <th>Зеленогорск</th>\n",
       "      <td>24</td>\n",
       "      <td>115122.799198</td>\n",
       "      <td>101666.666667</td>\n",
       "    </tr>\n",
       "    <tr>\n",
       "      <th>Санкт-Петербург</th>\n",
       "      <td>15721</td>\n",
       "      <td>114849.008794</td>\n",
       "      <td>104761.904762</td>\n",
       "    </tr>\n",
       "    <tr>\n",
       "      <th>посёлок Репино</th>\n",
       "      <td>4</td>\n",
       "      <td>104238.614786</td>\n",
       "      <td>86542.207792</td>\n",
       "    </tr>\n",
       "    <tr>\n",
       "      <th>Пушкин</th>\n",
       "      <td>369</td>\n",
       "      <td>103125.819291</td>\n",
       "      <td>100000.0</td>\n",
       "    </tr>\n",
       "    <tr>\n",
       "      <th>Сестрорецк</th>\n",
       "      <td>183</td>\n",
       "      <td>101757.616875</td>\n",
       "      <td>99678.456592</td>\n",
       "    </tr>\n",
       "    <tr>\n",
       "      <th>Кудрово</th>\n",
       "      <td>173</td>\n",
       "      <td>100253.043304</td>\n",
       "      <td>100000.0</td>\n",
       "    </tr>\n",
       "    <tr>\n",
       "      <th>деревня Мистолово</th>\n",
       "      <td>11</td>\n",
       "      <td>98549.976709</td>\n",
       "      <td>90888.888889</td>\n",
       "    </tr>\n",
       "    <tr>\n",
       "      <th>посёлок Левашово</th>\n",
       "      <td>1</td>\n",
       "      <td>96997.690531</td>\n",
       "      <td>96997.690531</td>\n",
       "    </tr>\n",
       "    <tr>\n",
       "      <th>Мурино</th>\n",
       "      <td>34</td>\n",
       "      <td>92722.708914</td>\n",
       "      <td>91478.394974</td>\n",
       "    </tr>\n",
       "  </tbody>\n",
       "</table>\n",
       "</div>"
      ],
      "text/plain": [
       "                   count           mean         median\n",
       "locality_name                                         \n",
       "посёлок Лисий Нос      2  121616.221359  121616.221359\n",
       "Зеленогорск           24  115122.799198  101666.666667\n",
       "Санкт-Петербург    15721  114849.008794  104761.904762\n",
       "посёлок Репино         4  104238.614786   86542.207792\n",
       "Пушкин               369  103125.819291       100000.0\n",
       "Сестрорецк           183  101757.616875   99678.456592\n",
       "Кудрово              173  100253.043304       100000.0\n",
       "деревня Мистолово     11   98549.976709   90888.888889\n",
       "посёлок Левашово       1   96997.690531   96997.690531\n",
       "Мурино                34   92722.708914   91478.394974"
      ]
     },
     "metadata": {},
     "output_type": "display_data"
    }
   ],
   "source": [
    "display(localities.sort_values(by='mean', ascending=False).head(10))"
   ]
  },
  {
   "cell_type": "markdown",
   "metadata": {},
   "source": [
    "Населенные пункты с самой низкой ценой за кв.м."
   ]
  },
  {
   "cell_type": "code",
   "execution_count": 39,
   "metadata": {},
   "outputs": [
    {
     "data": {
      "text/html": [
       "<div>\n",
       "<style scoped>\n",
       "    .dataframe tbody tr th:only-of-type {\n",
       "        vertical-align: middle;\n",
       "    }\n",
       "\n",
       "    .dataframe tbody tr th {\n",
       "        vertical-align: top;\n",
       "    }\n",
       "\n",
       "    .dataframe thead th {\n",
       "        text-align: right;\n",
       "    }\n",
       "</style>\n",
       "<table border=\"1\" class=\"dataframe\">\n",
       "  <thead>\n",
       "    <tr style=\"text-align: right;\">\n",
       "      <th></th>\n",
       "      <th>count</th>\n",
       "      <th>mean</th>\n",
       "      <th>median</th>\n",
       "    </tr>\n",
       "    <tr>\n",
       "      <th>locality_name</th>\n",
       "      <th></th>\n",
       "      <th></th>\n",
       "      <th></th>\n",
       "    </tr>\n",
       "  </thead>\n",
       "  <tbody>\n",
       "    <tr>\n",
       "      <th>деревня Старополье</th>\n",
       "      <td>3</td>\n",
       "      <td>11206.221198</td>\n",
       "      <td>11000.0</td>\n",
       "    </tr>\n",
       "    <tr>\n",
       "      <th>посёлок станции Свирь</th>\n",
       "      <td>2</td>\n",
       "      <td>11481.481481</td>\n",
       "      <td>11481.481481</td>\n",
       "    </tr>\n",
       "    <tr>\n",
       "      <th>деревня Вахнова Кара</th>\n",
       "      <td>1</td>\n",
       "      <td>11688.311688</td>\n",
       "      <td>11688.311688</td>\n",
       "    </tr>\n",
       "    <tr>\n",
       "      <th>деревня Выскатка</th>\n",
       "      <td>2</td>\n",
       "      <td>12335.480902</td>\n",
       "      <td>12335.480902</td>\n",
       "    </tr>\n",
       "    <tr>\n",
       "      <th>поселок Совхозный</th>\n",
       "      <td>2</td>\n",
       "      <td>12629.129129</td>\n",
       "      <td>12629.129129</td>\n",
       "    </tr>\n",
       "    <tr>\n",
       "      <th>деревня Малая Романовка</th>\n",
       "      <td>1</td>\n",
       "      <td>12724.550898</td>\n",
       "      <td>12724.550898</td>\n",
       "    </tr>\n",
       "    <tr>\n",
       "      <th>поселок Тёсово-4</th>\n",
       "      <td>1</td>\n",
       "      <td>12931.034483</td>\n",
       "      <td>12931.034483</td>\n",
       "    </tr>\n",
       "    <tr>\n",
       "      <th>деревня Сижно</th>\n",
       "      <td>1</td>\n",
       "      <td>13709.677419</td>\n",
       "      <td>13709.677419</td>\n",
       "    </tr>\n",
       "    <tr>\n",
       "      <th>деревня Ям-Тесово</th>\n",
       "      <td>2</td>\n",
       "      <td>13711.553373</td>\n",
       "      <td>13711.553373</td>\n",
       "    </tr>\n",
       "    <tr>\n",
       "      <th>поселок Житково</th>\n",
       "      <td>2</td>\n",
       "      <td>14956.275202</td>\n",
       "      <td>14956.275202</td>\n",
       "    </tr>\n",
       "  </tbody>\n",
       "</table>\n",
       "</div>"
      ],
      "text/plain": [
       "                         count          mean        median\n",
       "locality_name                                             \n",
       "деревня Старополье           3  11206.221198       11000.0\n",
       "посёлок станции Свирь        2  11481.481481  11481.481481\n",
       "деревня Вахнова Кара         1  11688.311688  11688.311688\n",
       "деревня Выскатка             2  12335.480902  12335.480902\n",
       "поселок Совхозный            2  12629.129129  12629.129129\n",
       "деревня Малая Романовка      1  12724.550898  12724.550898\n",
       "поселок Тёсово-4             1  12931.034483  12931.034483\n",
       "деревня Сижно                1  13709.677419  13709.677419\n",
       "деревня Ям-Тесово            2  13711.553373  13711.553373\n",
       "поселок Житково              2  14956.275202  14956.275202"
      ]
     },
     "metadata": {},
     "output_type": "display_data"
    }
   ],
   "source": [
    "display(localities.sort_values(by='mean', ascending=True).head(10))"
   ]
  },
  {
   "cell_type": "markdown",
   "metadata": {},
   "source": [
    "\n",
    "Больше всего объявлений о продаже было в Санкт-Петербурге (15721 объявление). Самой дорогой оказалась недвижимость в посёлке Лисий Нос (121616 за кв.м), самой дешевой - в деревне Старополье (11206 за кв.м). При исследовании данного пункта использовали \"сырые\" данные, т.к. искомые объявления могли быть отфильтрованы."
   ]
  },
  {
   "cell_type": "markdown",
   "metadata": {},
   "source": [
    "**Исследуем рынок недвижимости Санкт-Петербурга**"
   ]
  },
  {
   "cell_type": "code",
   "execution_count": 40,
   "metadata": {},
   "outputs": [
    {
     "name": "stdout",
     "output_type": "stream",
     "text": [
      "Количество пропусков в cityCenters_nearest: 17\n"
     ]
    }
   ],
   "source": [
    "data_spb = data_clear.query('locality_name == \"Санкт-Петербург\"')\n",
    "print('Количество пропусков в cityCenters_nearest:',data_spb['cityCenters_nearest'].isna().sum())          "
   ]
  },
  {
   "cell_type": "code",
   "execution_count": 41,
   "metadata": {},
   "outputs": [],
   "source": [
    "pd.set_option('mode.chained_assignment', None)\n",
    "data_spb['cityCenters_nearest'] = data_spb['cityCenters_nearest'].fillna(data_spb['cityCenters_nearest'].median())  \n",
    "data_spb['cityCenters_nearest'] = data_spb['cityCenters_nearest']/1000             \n",
    "data_spb['cityCenters_nearest'] = data_spb['cityCenters_nearest'].astype('int')"
   ]
  },
  {
   "cell_type": "code",
   "execution_count": 42,
   "metadata": {},
   "outputs": [
    {
     "data": {
      "image/png": "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\n",
      "text/plain": [
       "<Figure size 576x432 with 1 Axes>"
      ]
     },
     "metadata": {
      "needs_background": "light"
     },
     "output_type": "display_data"
    }
   ],
   "source": [
    "plt.figure(figsize=(8,6))\n",
    "data_spb.groupby('cityCenters_nearest')['last_price'].mean().plot() \n",
    "plt.ylabel('Последняя цена')\n",
    "plt.grid(True)\n",
    "plt.show()"
   ]
  },
  {
   "cell_type": "markdown",
   "metadata": {},
   "source": [
    "Резкий спад в ценах на квартиры наблюдается до 9-10 км от центра, в этой области происходит перелом и далее цены падают медленнее. Примем радиус центра 10 км."
   ]
  },
  {
   "cell_type": "markdown",
   "metadata": {},
   "source": [
    "**Исследуем центр СПБ**"
   ]
  },
  {
   "cell_type": "code",
   "execution_count": 43,
   "metadata": {
    "scrolled": true
   },
   "outputs": [
    {
     "name": "stdout",
     "output_type": "stream",
     "text": [
      "<class 'pandas.core.frame.DataFrame'>\n",
      "Int64Index: 4188 entries, 4 to 23697\n",
      "Data columns (total 29 columns):\n",
      " #   Column                Non-Null Count  Dtype         \n",
      "---  ------                --------------  -----         \n",
      " 0   total_images          4188 non-null   int64         \n",
      " 1   last_price            4188 non-null   Int64         \n",
      " 2   total_area            4188 non-null   float64       \n",
      " 3   first_day_exposition  4188 non-null   datetime64[ns]\n",
      " 4   rooms                 4188 non-null   int64         \n",
      " 5   ceiling_height        4188 non-null   float64       \n",
      " 6   floors_total          4188 non-null   Int64         \n",
      " 7   living_area           3932 non-null   float64       \n",
      " 8   floor                 4188 non-null   int64         \n",
      " 9   is_apartment          4188 non-null   bool          \n",
      " 10  studio                4188 non-null   bool          \n",
      " 11  open_plan             4188 non-null   bool          \n",
      " 12  kitchen_area          3868 non-null   float64       \n",
      " 13  balcony               4188 non-null   Int64         \n",
      " 14  locality_name         4188 non-null   object        \n",
      " 15  airports_nearest      4183 non-null   float64       \n",
      " 16  cityCenters_nearest   4188 non-null   int32         \n",
      " 17  parks_around3000      4188 non-null   Int64         \n",
      " 18  parks_nearest         2528 non-null   float64       \n",
      " 19  ponds_around3000      4188 non-null   Int64         \n",
      " 20  ponds_nearest         2496 non-null   float64       \n",
      " 21  days_exposition       4188 non-null   int32         \n",
      " 22  square_meter_price    4188 non-null   Float64       \n",
      " 23  weekday               4188 non-null   int64         \n",
      " 24  month                 4188 non-null   int64         \n",
      " 25  year                  4188 non-null   int64         \n",
      " 26  floor_type            4188 non-null   int64         \n",
      " 27  living_total_ratio    3932 non-null   float64       \n",
      " 28  kitchen_total_ratio   3868 non-null   float64       \n",
      "dtypes: Float64(1), Int64(5), bool(3), datetime64[ns](1), float64(9), int32(2), int64(7), object(1)\n",
      "memory usage: 887.5+ KB\n"
     ]
    },
    {
     "data": {
      "text/html": [
       "<div>\n",
       "<style scoped>\n",
       "    .dataframe tbody tr th:only-of-type {\n",
       "        vertical-align: middle;\n",
       "    }\n",
       "\n",
       "    .dataframe tbody tr th {\n",
       "        vertical-align: top;\n",
       "    }\n",
       "\n",
       "    .dataframe thead th {\n",
       "        text-align: right;\n",
       "    }\n",
       "</style>\n",
       "<table border=\"1\" class=\"dataframe\">\n",
       "  <thead>\n",
       "    <tr style=\"text-align: right;\">\n",
       "      <th></th>\n",
       "      <th>total_images</th>\n",
       "      <th>last_price</th>\n",
       "      <th>total_area</th>\n",
       "      <th>first_day_exposition</th>\n",
       "      <th>rooms</th>\n",
       "      <th>ceiling_height</th>\n",
       "      <th>floors_total</th>\n",
       "      <th>living_area</th>\n",
       "      <th>floor</th>\n",
       "      <th>is_apartment</th>\n",
       "      <th>...</th>\n",
       "      <th>ponds_around3000</th>\n",
       "      <th>ponds_nearest</th>\n",
       "      <th>days_exposition</th>\n",
       "      <th>square_meter_price</th>\n",
       "      <th>weekday</th>\n",
       "      <th>month</th>\n",
       "      <th>year</th>\n",
       "      <th>floor_type</th>\n",
       "      <th>living_total_ratio</th>\n",
       "      <th>kitchen_total_ratio</th>\n",
       "    </tr>\n",
       "  </thead>\n",
       "  <tbody>\n",
       "    <tr>\n",
       "      <th>4</th>\n",
       "      <td>2</td>\n",
       "      <td>10000000</td>\n",
       "      <td>100.00</td>\n",
       "      <td>2018-06-19</td>\n",
       "      <td>2</td>\n",
       "      <td>3.03</td>\n",
       "      <td>14</td>\n",
       "      <td>32.0</td>\n",
       "      <td>13</td>\n",
       "      <td>False</td>\n",
       "      <td>...</td>\n",
       "      <td>1</td>\n",
       "      <td>48.0</td>\n",
       "      <td>121</td>\n",
       "      <td>100000.0</td>\n",
       "      <td>1</td>\n",
       "      <td>6</td>\n",
       "      <td>2018</td>\n",
       "      <td>3</td>\n",
       "      <td>0.320000</td>\n",
       "      <td>0.410000</td>\n",
       "    </tr>\n",
       "    <tr>\n",
       "      <th>16</th>\n",
       "      <td>11</td>\n",
       "      <td>6700000</td>\n",
       "      <td>82.00</td>\n",
       "      <td>2017-11-23</td>\n",
       "      <td>3</td>\n",
       "      <td>3.05</td>\n",
       "      <td>5</td>\n",
       "      <td>55.6</td>\n",
       "      <td>1</td>\n",
       "      <td>False</td>\n",
       "      <td>...</td>\n",
       "      <td>0</td>\n",
       "      <td>NaN</td>\n",
       "      <td>397</td>\n",
       "      <td>81707.317073</td>\n",
       "      <td>3</td>\n",
       "      <td>11</td>\n",
       "      <td>2017</td>\n",
       "      <td>1</td>\n",
       "      <td>0.678049</td>\n",
       "      <td>0.109756</td>\n",
       "    </tr>\n",
       "    <tr>\n",
       "      <th>18</th>\n",
       "      <td>8</td>\n",
       "      <td>3250000</td>\n",
       "      <td>31.00</td>\n",
       "      <td>2017-01-27</td>\n",
       "      <td>1</td>\n",
       "      <td>2.50</td>\n",
       "      <td>5</td>\n",
       "      <td>19.4</td>\n",
       "      <td>2</td>\n",
       "      <td>False</td>\n",
       "      <td>...</td>\n",
       "      <td>0</td>\n",
       "      <td>NaN</td>\n",
       "      <td>168</td>\n",
       "      <td>104838.709677</td>\n",
       "      <td>4</td>\n",
       "      <td>1</td>\n",
       "      <td>2017</td>\n",
       "      <td>3</td>\n",
       "      <td>0.625806</td>\n",
       "      <td>0.180645</td>\n",
       "    </tr>\n",
       "    <tr>\n",
       "      <th>21</th>\n",
       "      <td>13</td>\n",
       "      <td>3200000</td>\n",
       "      <td>31.60</td>\n",
       "      <td>2018-03-14</td>\n",
       "      <td>1</td>\n",
       "      <td>2.70</td>\n",
       "      <td>5</td>\n",
       "      <td>16.9</td>\n",
       "      <td>2</td>\n",
       "      <td>False</td>\n",
       "      <td>...</td>\n",
       "      <td>0</td>\n",
       "      <td>NaN</td>\n",
       "      <td>310</td>\n",
       "      <td>101265.822785</td>\n",
       "      <td>2</td>\n",
       "      <td>3</td>\n",
       "      <td>2018</td>\n",
       "      <td>3</td>\n",
       "      <td>0.534810</td>\n",
       "      <td>0.180380</td>\n",
       "    </tr>\n",
       "    <tr>\n",
       "      <th>24</th>\n",
       "      <td>8</td>\n",
       "      <td>6500000</td>\n",
       "      <td>97.20</td>\n",
       "      <td>2015-10-31</td>\n",
       "      <td>2</td>\n",
       "      <td>2.70</td>\n",
       "      <td>3</td>\n",
       "      <td>46.5</td>\n",
       "      <td>1</td>\n",
       "      <td>False</td>\n",
       "      <td>...</td>\n",
       "      <td>3</td>\n",
       "      <td>124.0</td>\n",
       "      <td>265</td>\n",
       "      <td>66872.427984</td>\n",
       "      <td>5</td>\n",
       "      <td>10</td>\n",
       "      <td>2015</td>\n",
       "      <td>1</td>\n",
       "      <td>0.478395</td>\n",
       "      <td>0.201646</td>\n",
       "    </tr>\n",
       "    <tr>\n",
       "      <th>...</th>\n",
       "      <td>...</td>\n",
       "      <td>...</td>\n",
       "      <td>...</td>\n",
       "      <td>...</td>\n",
       "      <td>...</td>\n",
       "      <td>...</td>\n",
       "      <td>...</td>\n",
       "      <td>...</td>\n",
       "      <td>...</td>\n",
       "      <td>...</td>\n",
       "      <td>...</td>\n",
       "      <td>...</td>\n",
       "      <td>...</td>\n",
       "      <td>...</td>\n",
       "      <td>...</td>\n",
       "      <td>...</td>\n",
       "      <td>...</td>\n",
       "      <td>...</td>\n",
       "      <td>...</td>\n",
       "      <td>...</td>\n",
       "      <td>...</td>\n",
       "    </tr>\n",
       "    <tr>\n",
       "      <th>23668</th>\n",
       "      <td>13</td>\n",
       "      <td>6000000</td>\n",
       "      <td>47.00</td>\n",
       "      <td>2018-03-16</td>\n",
       "      <td>2</td>\n",
       "      <td>3.00</td>\n",
       "      <td>5</td>\n",
       "      <td>27.0</td>\n",
       "      <td>4</td>\n",
       "      <td>False</td>\n",
       "      <td>...</td>\n",
       "      <td>0</td>\n",
       "      <td>NaN</td>\n",
       "      <td>157</td>\n",
       "      <td>127659.574468</td>\n",
       "      <td>4</td>\n",
       "      <td>3</td>\n",
       "      <td>2018</td>\n",
       "      <td>3</td>\n",
       "      <td>0.574468</td>\n",
       "      <td>0.191489</td>\n",
       "    </tr>\n",
       "    <tr>\n",
       "      <th>23681</th>\n",
       "      <td>13</td>\n",
       "      <td>5250000</td>\n",
       "      <td>43.00</td>\n",
       "      <td>2018-05-11</td>\n",
       "      <td>2</td>\n",
       "      <td>2.50</td>\n",
       "      <td>5</td>\n",
       "      <td>29.0</td>\n",
       "      <td>2</td>\n",
       "      <td>False</td>\n",
       "      <td>...</td>\n",
       "      <td>2</td>\n",
       "      <td>660.0</td>\n",
       "      <td>80</td>\n",
       "      <td>122093.023256</td>\n",
       "      <td>4</td>\n",
       "      <td>5</td>\n",
       "      <td>2018</td>\n",
       "      <td>3</td>\n",
       "      <td>0.674419</td>\n",
       "      <td>0.139535</td>\n",
       "    </tr>\n",
       "    <tr>\n",
       "      <th>23690</th>\n",
       "      <td>3</td>\n",
       "      <td>5500000</td>\n",
       "      <td>52.00</td>\n",
       "      <td>2018-07-19</td>\n",
       "      <td>2</td>\n",
       "      <td>2.70</td>\n",
       "      <td>5</td>\n",
       "      <td>31.0</td>\n",
       "      <td>2</td>\n",
       "      <td>False</td>\n",
       "      <td>...</td>\n",
       "      <td>0</td>\n",
       "      <td>NaN</td>\n",
       "      <td>15</td>\n",
       "      <td>105769.230769</td>\n",
       "      <td>3</td>\n",
       "      <td>7</td>\n",
       "      <td>2018</td>\n",
       "      <td>3</td>\n",
       "      <td>0.596154</td>\n",
       "      <td>0.115385</td>\n",
       "    </tr>\n",
       "    <tr>\n",
       "      <th>23691</th>\n",
       "      <td>11</td>\n",
       "      <td>9470000</td>\n",
       "      <td>72.90</td>\n",
       "      <td>2016-10-13</td>\n",
       "      <td>2</td>\n",
       "      <td>2.75</td>\n",
       "      <td>25</td>\n",
       "      <td>40.3</td>\n",
       "      <td>7</td>\n",
       "      <td>False</td>\n",
       "      <td>...</td>\n",
       "      <td>1</td>\n",
       "      <td>806.0</td>\n",
       "      <td>519</td>\n",
       "      <td>129903.978052</td>\n",
       "      <td>3</td>\n",
       "      <td>10</td>\n",
       "      <td>2016</td>\n",
       "      <td>3</td>\n",
       "      <td>0.552812</td>\n",
       "      <td>0.145405</td>\n",
       "    </tr>\n",
       "    <tr>\n",
       "      <th>23697</th>\n",
       "      <td>13</td>\n",
       "      <td>11475000</td>\n",
       "      <td>76.75</td>\n",
       "      <td>2017-03-28</td>\n",
       "      <td>2</td>\n",
       "      <td>3.00</td>\n",
       "      <td>17</td>\n",
       "      <td>NaN</td>\n",
       "      <td>12</td>\n",
       "      <td>False</td>\n",
       "      <td>...</td>\n",
       "      <td>3</td>\n",
       "      <td>196.0</td>\n",
       "      <td>602</td>\n",
       "      <td>149511.400651</td>\n",
       "      <td>1</td>\n",
       "      <td>3</td>\n",
       "      <td>2017</td>\n",
       "      <td>3</td>\n",
       "      <td>NaN</td>\n",
       "      <td>0.303583</td>\n",
       "    </tr>\n",
       "  </tbody>\n",
       "</table>\n",
       "<p>4188 rows × 29 columns</p>\n",
       "</div>"
      ],
      "text/plain": [
       "       total_images  last_price  total_area first_day_exposition  rooms  \\\n",
       "4                 2    10000000      100.00           2018-06-19      2   \n",
       "16               11     6700000       82.00           2017-11-23      3   \n",
       "18                8     3250000       31.00           2017-01-27      1   \n",
       "21               13     3200000       31.60           2018-03-14      1   \n",
       "24                8     6500000       97.20           2015-10-31      2   \n",
       "...             ...         ...         ...                  ...    ...   \n",
       "23668            13     6000000       47.00           2018-03-16      2   \n",
       "23681            13     5250000       43.00           2018-05-11      2   \n",
       "23690             3     5500000       52.00           2018-07-19      2   \n",
       "23691            11     9470000       72.90           2016-10-13      2   \n",
       "23697            13    11475000       76.75           2017-03-28      2   \n",
       "\n",
       "       ceiling_height  floors_total  living_area  floor  is_apartment  ...  \\\n",
       "4                3.03            14         32.0     13         False  ...   \n",
       "16               3.05             5         55.6      1         False  ...   \n",
       "18               2.50             5         19.4      2         False  ...   \n",
       "21               2.70             5         16.9      2         False  ...   \n",
       "24               2.70             3         46.5      1         False  ...   \n",
       "...               ...           ...          ...    ...           ...  ...   \n",
       "23668            3.00             5         27.0      4         False  ...   \n",
       "23681            2.50             5         29.0      2         False  ...   \n",
       "23690            2.70             5         31.0      2         False  ...   \n",
       "23691            2.75            25         40.3      7         False  ...   \n",
       "23697            3.00            17          NaN     12         False  ...   \n",
       "\n",
       "       ponds_around3000  ponds_nearest  days_exposition  square_meter_price  \\\n",
       "4                     1           48.0              121            100000.0   \n",
       "16                    0            NaN              397        81707.317073   \n",
       "18                    0            NaN              168       104838.709677   \n",
       "21                    0            NaN              310       101265.822785   \n",
       "24                    3          124.0              265        66872.427984   \n",
       "...                 ...            ...              ...                 ...   \n",
       "23668                 0            NaN              157       127659.574468   \n",
       "23681                 2          660.0               80       122093.023256   \n",
       "23690                 0            NaN               15       105769.230769   \n",
       "23691                 1          806.0              519       129903.978052   \n",
       "23697                 3          196.0              602       149511.400651   \n",
       "\n",
       "      weekday  month  year  floor_type  living_total_ratio  \\\n",
       "4           1      6  2018           3            0.320000   \n",
       "16          3     11  2017           1            0.678049   \n",
       "18          4      1  2017           3            0.625806   \n",
       "21          2      3  2018           3            0.534810   \n",
       "24          5     10  2015           1            0.478395   \n",
       "...       ...    ...   ...         ...                 ...   \n",
       "23668       4      3  2018           3            0.574468   \n",
       "23681       4      5  2018           3            0.674419   \n",
       "23690       3      7  2018           3            0.596154   \n",
       "23691       3     10  2016           3            0.552812   \n",
       "23697       1      3  2017           3                 NaN   \n",
       "\n",
       "       kitchen_total_ratio  \n",
       "4                 0.410000  \n",
       "16                0.109756  \n",
       "18                0.180645  \n",
       "21                0.180380  \n",
       "24                0.201646  \n",
       "...                    ...  \n",
       "23668             0.191489  \n",
       "23681             0.139535  \n",
       "23690             0.115385  \n",
       "23691             0.145405  \n",
       "23697             0.303583  \n",
       "\n",
       "[4188 rows x 29 columns]"
      ]
     },
     "metadata": {},
     "output_type": "display_data"
    }
   ],
   "source": [
    "spb_centre = data_spb.query('cityCenters_nearest <= 10') \n",
    "spb_centre.info()\n",
    "display(spb_centre)"
   ]
  },
  {
   "cell_type": "markdown",
   "metadata": {},
   "source": [
    "Изучаем характеристики квартир в центре СПБ"
   ]
  },
  {
   "cell_type": "code",
   "execution_count": 44,
   "metadata": {},
   "outputs": [
    {
     "data": {
      "image/png": "iVBORw0KGgoAAAANSUhEUgAAAfQAAAFzCAYAAADIY/vqAAAAOXRFWHRTb2Z0d2FyZQBNYXRwbG90bGliIHZlcnNpb24zLjMuNCwgaHR0cHM6Ly9tYXRwbG90bGliLm9yZy8QVMy6AAAACXBIWXMAAAsTAAALEwEAmpwYAAAgP0lEQVR4nO3df5TddX3n8efbRH7IaALiztKQNlFTPZYowhSxejwT0W4Aa+gWkR5PCZpu+gN/tbRL2p7d6tqeE9elVHa7dtOiBI91pKglB9BdNjJWdhcqUSQBahkkSGZjUAyhA/4o9r1/3E+ce7OT5M5wv3dmPvN8nHPPfL+f7/d+v+/74Rte9/vjfr+RmUiSpPntWbNdgCRJeuYMdEmSKmCgS5JUAQNdkqQKGOiSJFXAQJckqQKLZ7uAZ+Lkk0/OFStW9Gx5Tz75JCeccELPljff2R+d7I9J9kUn+6OT/TGp132xY8eO72TmC6aaNq8DfcWKFdx11109W97o6CjDw8M9W958Z390sj8m2Red7I9O9sekXvdFRDx8uGkecpckqQIGuiRJFTDQJUmqgIEuSVIFGg30iPitiLg3InZFxCcj4riIWBkRd0bEWER8KiKOKfMeW8bHyvQVTdYmSVJNGgv0iFgGvBsYyszTgEXAxcAHgasy88XAfmBDecsGYH9pv6rMJ0mSutD0IffFwPERsRh4DrAXeD1wQ5m+FbigDK8r45Tp50RENFyfJElVaCzQM3Mc+E/AN2kF+QFgB/B4Zj5dZtsDLCvDy4BHynufLvM/v6n6JEmqSWRmMwuOOBH4NPBW4HHgr2nteb+vHFYnIpYDn8vM0yJiF7A2M/eUaQ8Cr8rM7xyy3I3ARoDBwcEzR0ZGelbzxMQEAwMDPVvefGd/dLI/JtkXneyPTvbHpF73xZo1a3Zk5tBU05q8U9wbgIcy89sAEfEZ4DXA0ohYXPbCTwXGy/zjwHJgTzlEvwR47NCFZuYWYAvA0NBQ9vIOPN7dqJP90cn+mGRfdLI/Otkfk/rZF02eQ/8mcHZEPKecCz8HuA+4DbiwzLMeuLEMbyvjlOlfyKYOH0iSVJkmz6HfSesQ+1eAnWVdW4ArgN+OiDFa58ivKW+5Bnh+af9tYFNTtUmSVJtGH86SmX8I/OEhzd8Azppi3u8Db2myHkmSajWvn7am7qzYdPOM3nftWh9/KEnzhbd+lSSpAga6JEkVMNAlSaqAgS5JUgUMdEmSKmCgS5JUAQNdkqQKGOiSJFXAQJckqQIGuiRJFTDQJUmqgIEuSVIFDHRJkipgoEuSVAEDXZKkChjokiRVwECXJKkCBrokSRUw0CVJqoCBLklSBQx0SZIqYKBLklQBA12SpAoY6JIkVcBAlySpAga6JEkVMNAlSaqAgS5JUgUMdEmSKmCgS5JUgcYCPSJeEhF3t72eiIj3RsRJEXFrRDxQ/p5Y5o+IuDoixiLinog4o6naJEmqTWOBnplfz8zTM/N04EzgKeCzwCZge2auAraXcYBzgVXltRH4SFO1SZJUm34dcj8HeDAzHwbWAVtL+1bggjK8DrguW+4AlkbEKX2qT5KkeS0ys/mVRHwU+Epm/peIeDwzl5b2APZn5tKIuAnYnJm3l2nbgSsy865DlrWR1h48g4ODZ46MjPSszomJCQYGBnq2vLli5/iBGb1v5ZJFVfbHTNW6fcyEfdHJ/uhkf0zqdV+sWbNmR2YOTTVtcc/WchgRcQzwZuD3Dp2WmRkR0/pGkZlbgC0AQ0NDOTw83IsyARgdHaWXy5srLt1084zed+3aE6rsj5mqdfuYCfuik/3Ryf6Y1M++6Mch93Np7Z3vK+P7Dh5KL38fLe3jwPK2951a2iRJ0lH0I9B/Gfhk2/g2YH0ZXg/c2NZ+Sbna/WzgQGbu7UN9kiTNe40eco+IE4A3Ar/W1rwZuD4iNgAPAxeV9luA84AxWlfEv73J2iRJqkmjgZ6ZTwLPP6TtMVpXvR86bwKXNVmPJEm18k5xkiRVwECXJKkCBrokSRUw0CVJqoCBLklSBQx0SZIqYKBLklQBA12SpAoY6JIkVcBAlySpAga6JEkVMNAlSaqAgS5JUgUMdEmSKmCgS5JUAQNdkqQKGOiSJFXAQJckqQIGuiRJFTDQJUmqgIEuSVIFDHRJkipgoEuSVAEDXZKkChjokiRVwECXJKkCBrokSRUw0CVJqoCBLklSBQx0SZIq0GigR8TSiLghIv4+Iu6PiFdHxEkRcWtEPFD+nljmjYi4OiLGIuKeiDijydokSapJ03voHwY+n5kvBV4B3A9sArZn5ipgexkHOBdYVV4bgY80XJskSdVoLNAjYgnwOuAagMz8YWY+DqwDtpbZtgIXlOF1wHXZcgewNCJOaao+SZJq0uQe+krg28DHIuKrEfGXEXECMJiZe8s83wIGy/Ay4JG29+8pbZIk6SgiM5tZcMQQcAfwmsy8MyI+DDwBvCszl7bNtz8zT4yIm4DNmXl7ad8OXJGZdx2y3I20DskzODh45sjISM9qnpiYYGBgoGfLmyt2jh+Y0ftWLllUZX/MVK3bx0zYF53sj072x6Re98WaNWt2ZObQVNMW92wt/789wJ7MvLOM30DrfPm+iDglM/eWQ+qPlunjwPK2959a2jpk5hZgC8DQ0FAODw/3rODR0VF6uby54tJNN8/ofdeuPaHK/pipWrePmbAvOtkfneyPSf3si8YOuWfmt4BHIuIlpekc4D5gG7C+tK0HbizD24BLytXuZwMH2g7NS5KkI2hyDx3gXcAnIuIY4BvA22l9ibg+IjYADwMXlXlvAc4DxoCnyrySJKkLjQZ6Zt4NTHWs/5wp5k3gsibrkSSpVt4pTpKkCjR9yF3z2M7xAzO6oG735vMbqEaSdCTuoUuSVAEDXZKkChjokiRVwECXJKkCBrokSRUw0CVJqoCBLklSBQx0SZIqYKBLklQBA12SpAp469d5ZsUMn20uSaqbe+iSJFXAQJckqQIGuiRJFTDQJUmqgIEuSVIFDHRJkipgoEuSVAEDXZKkChjokiRVwECXJKkCBrokSRUw0CVJqoCBLklSBQx0SZIqYKBLklQBA12SpAoY6JIkVcBAlySpAo0GekTsjoidEXF3RNxV2k6KiFsj4oHy98TSHhFxdUSMRcQ9EXFGk7VJklSTfuyhr8nM0zNzqIxvArZn5ipgexkHOBdYVV4bgY/0oTZJkqowG4fc1wFby/BW4IK29uuy5Q5gaUScMgv1SZI070RmNrfwiIeA/UAC/y0zt0TE45m5tEwPYH9mLo2Im4DNmXl7mbYduCIz7zpkmRtp7cEzODh45sjISM/qnZiYYGBgoGfLa8LO8QN9W9fg8bDve9N/3+plS3pfzBwwH7aPfrEvOtkfneyPSb3uizVr1uxoO+LdYXHP1jK112bmeET8C+DWiPj79omZmRExrW8UmbkF2AIwNDSUw8PDPSt2dHSUXi6vCZduurlv67p89dNcuXMGm8jOJ6f9lt2bz5/+evpsPmwf/WJfdLI/Otkfk/rZF40ecs/M8fL3UeCzwFnAvoOH0svfR8vs48DytrefWtokSdJRNBboEXFCRDz34DDw88AuYBuwvsy2HrixDG8DLilXu58NHMjMvU3VJ0lSTZo85D4IfLZ1mpzFwF9l5ucj4svA9RGxAXgYuKjMfwtwHjAGPAW8vcHaJEmqSmOBnpnfAF4xRftjwDlTtCdwWVP1SJJUM+8UJ0lSBQx0SZIqYKBLklQBA12SpAoY6JIkVcBAlySpAga6JEkVMNAlSaqAgS5JUgUMdEmSKtD1rV8j4nzgZ4DjDrZl5n9ooihJkjQ9Xe2hR8SfA28F3gUE8BbgpxqsS5IkTUO3h9x/LjMvAfZn5vuBVwM/3VxZkiRpOroN9O+Vv09FxE8A/wSc0kxJkiRpuro9h35TRCwFPgR8BUjgL5oqSpIkTU9XgZ6ZHyiDn46Im4DjMvNAc2VJkqTp6CrQI+IrmXkGQGb+APhBo1VpwVmx6eYZvW/35vN7XIkkzU/dnkOPRquQJEnPSLfn0F8SEfe0jQeQmfnyBmqSJEnT1G2gPwT8QpOFSJKkmes20H+YmQ83WokkSZqxbs+hv6vRKiRJ0jPSbaDvjIirIuKu8royIpY0WpkkSepat4H+UeAJ4KLyegL4WFNFSZKk6en2HPqLMvOX2sbfHxF3N1CPJEmaga7v5R4Rrz04EhGvYfL+7pIkaZZ1u4f+G8DWtvPm+4H1zZQkSZKmq9tA/1ZmviIingeQmU80WJMkSZqmbg+53wKtIDfMJUmae7oNdEmSNId1G+gvj4gn2l7/GBFd7alHxKKI+Gp57CoRsTIi7oyIsYj4VEQcU9qPLeNjZfqKmX0kSZIWnq5vLJOZz2t7PTczn9fle98D3N82/kHgqsx8Ma2L6zaU9g3A/tJ+VZlPkiR1odFD7hFxKnA+8JdlPIDXAzeUWbYCF5ThdWWcMv2cMr8kSTqKbgP9l44+y5T+FPi3wD+X8ecDj2fm02V8D7CsDC8DHgEo0w+U+SVJ0lFEZh59poitwHsy8/EyfiJwZWa+4wjveRNwXmb+ZkQMA78DXArcUQ6rExHLgc9l5mkRsQtYm5l7yrQHgVdl5ncOWe5GYCPA4ODgmSMjI9P6wEcyMTHBwMBAz5bXhJ3jB/q2rsHjYd8cv33Q6mX9e6TAfNg++sW+6GR/dLI/JvW6L9asWbMjM4emmtbt79BffjDMATJzf0S88ijveQ3w5og4DzgOeB7wYWBpRCwue+GnAuNl/nFgObAnIhYDS4DHDl1oZm4BtgAMDQ3l8PBwlx/h6EZHR+nl8ppw6aab+7auy1c/zZU7u91EZsfutw33bV3zYfvoF/uik/3Ryf6Y1M++6PaQ+7PKXjkAEXESR/kykJm/l5mnZuYK4GLgC5n5NuA24MIy23rgxjK8jcm7z11Y5j/64QNJktT1HvqVwP+JiL8Gglbg/vEM13kFMBIRfwR8FbimtF8DfDwixoDv0voSIEmSutBVoGfmdRGxA1hTmv51Zt7X7UoycxQYLcPfAM6aYp7vA2/pdpmSJGlS1ydIM/PeiPg2rfPhRMRPZuY3G6tMkiR1ratz6BHx5oh4AHgI+CKwG/hcg3VJkqRp6PaiuA8AZwP/kJkrgXOAOxqrSpIkTUu3gf5PmfkYravdn5WZtwFT/g5OkiT1X7fn0B+PiAHgS8AnIuJR4MnmypIkSdPR7R76m4GngPcCnwfGgDc1VJMkSZqmI+6hR8RDwKE3dzn4wJTfAl7YRFGSJGl6jnbIvf08eQBfYPK36JIkaY442u1bO+6lHhFPH9omSZJmX9fPQ4+IFzJ5uF2SJM0hRzuHvpPWOfRjgecAv9aPoiRJ0vQc7Rz6wSvZv5+Z+5ouRpIkzczRzqE/3K9CpJlYMYPnw+/efH4DlUjS7Or6HLokSZq7DHRJkipgoEuSVAEDXZKkChjokiRVwECXJKkCBrokSRUw0CVJqoCBLklSBQx0SZIqYKBLklQBA12SpAoY6JIkVcBAlySpAga6JEkVMNAlSaqAgS5JUgUMdEmSKtBYoEfEcRHxdxHxtYi4NyLeX9pXRsSdETEWEZ+KiGNK+7FlfKxMX9FUbZIk1abJPfQfAK/PzFcApwNrI+Js4IPAVZn5YmA/sKHMvwHYX9qvKvNJkqQuNBbo2TJRRp9dXgm8HrihtG8FLijD68o4Zfo5ERFN1SdJUk0iM5tbeMQiYAfwYuDPgA8Bd5S9cCJiOfC5zDwtInYBazNzT5n2IPCqzPzOIcvcCGwEGBwcPHNkZKRn9U5MTDAwMNCz5TVh5/iBvq1r8HjY972+ra5vVi9bMqP3zYfto1/si072Ryf7Y1Kv+2LNmjU7MnNoqmmLe7aWKWTmj4DTI2Ip8FngpT1Y5hZgC8DQ0FAODw8/00X+2OjoKL1cXhMu3XRz39Z1+eqnuXJno5vIrNj9tuEZvW8+bB/9Yl90sj862R+T+tkXfbnKPTMfB24DXg0sjYiDKXEqMF6Gx4HlAGX6EuCxftQnSdJ81+RV7i8oe+ZExPHAG4H7aQX7hWW29cCNZXhbGadM/0I2eT5AkqSKNHk89RRgazmP/izg+sy8KSLuA0Yi4o+ArwLXlPmvAT4eEWPAd4GLG6xNkqSqNBbomXkP8Mop2r8BnDVF+/eBtzRVjyRJNfNOcZIkVcBAlySpAvX9Jkk6ihUz/OnftWtP6HElktQ77qFLklQBA12SpAoY6JIkVcBAlySpAga6JEkVMNAlSaqAgS5JUgUMdEmSKmCgS5JUAQNdkqQKGOiSJFXAQJckqQIGuiRJFTDQJUmqgIEuSVIFDHRJkipgoEuSVAEDXZKkChjokiRVwECXJKkCBrokSRUw0CVJqoCBLklSBQx0SZIqYKBLklQBA12SpAoY6JIkVaCxQI+I5RFxW0TcFxH3RsR7SvtJEXFrRDxQ/p5Y2iMiro6IsYi4JyLOaKo2SZJq0+Qe+tPA5Zn5MuBs4LKIeBmwCdiemauA7WUc4FxgVXltBD7SYG2SJFWlsUDPzL2Z+ZUy/I/A/cAyYB2wtcy2FbigDK8DrsuWO4ClEXFKU/VJklSTvpxDj4gVwCuBO4HBzNxbJn0LGCzDy4BH2t62p7RJkqSjiMxsdgURA8AXgT/OzM9ExOOZubRt+v7MPDEibgI2Z+btpX07cEVm3nXI8jbSOiTP4ODgmSMjIz2rdWJigoGBgZ4trwk7xw/0bV2Dx8O+7/VtdXPeyiWL5vz20S/z4d9KP9kfneyPSb3uizVr1uzIzKGppi3u2VqmEBHPBj4NfCIzP1Oa90XEKZm5txxSf7S0jwPL295+amnrkJlbgC0AQ0NDOTw83LN6R0dH6eXymnDpppv7tq7LVz/NlTsb3UTmlWvXnjDnt49+mQ//VvrJ/uhkf0zqZ180eZV7ANcA92fmn7RN2gasL8PrgRvb2i8pV7ufDRxoOzQvSZKOoMndr9cAvwLsjIi7S9vvA5uB6yNiA/AwcFGZdgtwHjAGPAW8vcHaJEmqSmOBXs6Fx2EmnzPF/Alc1lQ9kiTVzDvFSZJUAQNdkqQKGOiSJFXA3yRJXdo5fmDaPxvcvfn8hqqRpE7uoUuSVAEDXZKkChjokiRVwECXJKkCBrokSRUw0CVJqoCBLklSBQx0SZIqYKBLklQBA12SpAoY6JIkVcBAlySpAga6JEkVMNAlSaqAgS5JUgUMdEmSKmCgS5JUAQNdkqQKGOiSJFXAQJckqQIGuiRJFVg82wVINVux6eYZvW/35vN7XImk2rmHLklSBQx0SZIqYKBLklQBA12SpAoY6JIkVaCxQI+Ij0bEoxGxq63tpIi4NSIeKH9PLO0REVdHxFhE3BMRZzRVlyRJNWpyD/1aYO0hbZuA7Zm5CthexgHOBVaV10bgIw3WJUlSdRoL9Mz8W+C7hzSvA7aW4a3ABW3t12XLHcDSiDilqdokSapNZGZzC49YAdyUmaeV8cczc2kZDmB/Zi6NiJuAzZl5e5m2HbgiM++aYpkbae3FMzg4eObIyEjP6p2YmGBgYKBny2vCzvEDfVvX4PGw73t9W92c18/+WL1sSX9WNEPz4d9KP9kfneyPSb3uizVr1uzIzKGpps3aneIyMyNi2t8mMnMLsAVgaGgoh4eHe1bT6OgovVxeEy6d4Z3HZuLy1U9z5U5vJnhQP/tj99uG+7KemZoP/1b6yf7oZH9M6mdf9Psq930HD6WXv4+W9nFgedt8p5Y2SZLUhX4H+jZgfRleD9zY1n5Judr9bOBAZu7tc22SJM1bjR0/jIhPAsPAyRGxB/hDYDNwfURsAB4GLiqz3wKcB4wBTwFvb6ouSZJq1FigZ+YvH2bSOVPMm8BlTdUiSVLtvFOcJEkVMNAlSaqAgS5JUgX8kbE0B62Ywf0Gdm8+v4FKJM0X7qFLklQB99BnyUz2wCRJOhz30CVJqoCBLklSBQx0SZIqYKBLklQBA12SpAoY6JIkVcBAlySpAv4OXarETO9t4B3mpDq4hy5JUgUMdEmSKuAhd0nTtnP8AJf6ABlpTjHQpQVuJufeL1/dQCGSnhEPuUuSVAEDXZKkChjokiRVwECXJKkCBrokSRUw0CVJqoA/W5PUNzP5iZy/XZe64x66JEkVMNAlSaqAgS5JUgUMdEmSKuBFcT0w0+dQSzo6n/MudWdOBXpErAU+DCwC/jIzN89ySZLmqX5+0b527Ql9W5d0OHMm0CNiEfBnwBuBPcCXI2JbZt43u5VJ0vzmUY6FYc4EOnAWMJaZ3wCIiBFgHWCgS5rTZvJ8eMNSvTaXAn0Z8Ejb+B7gVbNUiyQ1aj5cezPTGi9f/fS0v+DMB3P9S1hk5mzXAEBEXAiszcxfLeO/ArwqM995yHwbgY1l9CXA13tYxsnAd3q4vPnO/uhkf0yyLzrZH53sj0m97oufyswXTDVhLu2hjwPL28ZPLW0dMnMLsKWJAiLirswcamLZ85H90cn+mGRfdLI/Otkfk/rZF3Ppd+hfBlZFxMqIOAa4GNg2yzVJkjQvzJk99Mx8OiLeCfx3Wj9b+2hm3jvLZUmSNC/MmUAHyMxbgFtmsYRGDuXPY/ZHJ/tjkn3Ryf7oZH9M6ltfzJmL4iRJ0szNpXPokiRphgz0IiLWRsTXI2IsIjbNdj2zISJ2R8TOiLg7Iu4qbSdFxK0R8UD5e+Js19mEiPhoRDwaEbva2qb87NFyddlW7omIM2av8mYcpj/eFxHjZfu4OyLOa5v2e6U/vh4R/2p2qm5GRCyPiNsi4r6IuDci3lPaF+T2cYT+WKjbx3ER8XcR8bXSH+8v7Ssj4s7yuT9VLvYmIo4t42Nl+oqeFZOZC/5F6yK8B4EXAscAXwNeNtt1zUI/7AZOPqTtPwKbyvAm4IOzXWdDn/11wBnArqN9duA84HNAAGcDd852/X3qj/cBvzPFvC8r/2aOBVaWf0uLZvsz9LAvTgHOKMPPBf6hfOYFuX0coT8W6vYRwEAZfjZwZ/nvfj1wcWn/c+A3yvBvAn9ehi8GPtWrWtxDb/nxbWcz84fAwdvOqtUPW8vwVuCC2SulOZn5t8B3D2k+3GdfB1yXLXcASyPilL4U2ieH6Y/DWQeMZOYPMvMhYIzWv6kqZObezPxKGf5H4H5ad7ZckNvHEfrjcGrfPjIzJ8ros8srgdcDN5T2Q7ePg9vNDcA5ERG9qMVAb5nqtrNH2kBrlcD/iIgd5Y58AIOZubcMfwsYnJ3SZsXhPvtC3l7eWQ4jf7Tt9MuC6Y9yePSVtPbCFvz2cUh/wALdPiJiUUTcDTwK3ErrKMTjmfl0maX9M/+4P8r0A8Dze1GHga52r83MM4Bzgcsi4nXtE7N1jGhB/ixiIX/2Nh8BXgScDuwFrpzVavosIgaATwPvzcwn2qctxO1jiv5YsNtHZv4oM0+ndYfTs4CXzkYdBnpLV7edrV1mjpe/jwKfpbVh7jt4uLD8fXT2Kuy7w332Bbm9ZOa+8j+ufwb+gsnDptX3R0Q8m1Z4fSIzP1OaF+z2MVV/LOTt46DMfBy4DXg1rVMtB+/10v6Zf9wfZfoS4LFerN9Ab1nwt52NiBMi4rkHh4GfB3bR6of1Zbb1wI2zU+GsONxn3wZcUq5mPhs40HbotVqHnAf+RVrbB7T64+Jy9e5KYBXwd/2urynl/OY1wP2Z+Sdtkxbk9nG4/ljA28cLImJpGT4eeCOt6wpuAy4ssx26fRzcbi4EvlCO8Dxzs32F4Fx50boy9R9onfv4g9muZxY+/wtpXYn6NeDeg31A69zOduAB4H8CJ812rQ19/k/SOkz4T7TOd2043GendVXrn5VtZScwNNv196k/Pl4+7z3lf0qntM3/B6U/vg6cO9v197gvXkvrcPo9wN3ldd5C3T6O0B8Ldft4OfDV8rl3Af++tL+Q1heXMeCvgWNL+3FlfKxMf2GvavFOcZIkVcBD7pIkVcBAlySpAga6JEkVMNAlSaqAgS5JUgUMdEmSKmCgS3NIRJwaETeWR3I+GBEfPvjYxTL9dRFxS3lc402zWaukucVAl+aIcgeuzwB/k5mrgJ8GBoA/LtNfBvwR8M7MPCsz3zRrxUqacwx0ae54PfD9zPwYtB74APwW8I6IeA5wKa07dN0UETsj4q0AETF8cG89Ik6OiN0HFxgRu8oTsYiIfxMRX46Ir0XEp8syiYgXlT3+uyPioYi49tDCIuJ9ETFe5rk7Ig5ExHDb9B+V9rG2WlZExBfK07e2R8RPlvZrI+LCMvw7EfG+MjwUEaNty/yb8uS/e9ue/ndw2kRZ330RsattfbuQFigDXZo7fgbY0d6QradYfRN4MfAC4IfAauANwIem+Zztz2Tmz2bmK2jda3pDaf9N4PpsPS3qd4/w/qsy8/Qy35cONkbEIuDJ0v6rbfP/Z2BrZr4c+ARw9TRqBXhHZp4JDAHvjoj2R0xGWd9501ymVC0DXZo/Avhktp5otQ/4IvCz03j/aRHxpYjYCbyN1hcIgB8Bz30GdR0PfH+K9lcDf1WGP07rHuDT8e6I+BpwB62nU62CHz+h6qnDvOdFbUcR/mCa65PmNQNdmjvuA85sb4iI5wE/SetBDk9M9aZpuJbW+ffVwPtpPSQC4E+BN0bEN4EPzWC5PwH832dYW4dyOP8NwKvLEYWvMlnvCg7/+M0Hy577zwHrI+IlvaxLmssMdGnu2A48JyIugR8fyr4SuDYznwLuBN4aEYsi4gXA65jeYyifC+wtz7J+W1v7Y7SeqnY+Rz7kfjgXAf9rivb/TetRxJT1fWmKeQ5nCbA/M5+KiJcCZ7dNewtwtCv8v0drL/7Z01inNK8tPvoskvohMzMifhH4rxHx72h94b4F+P0yywitPc97aB0m/93M/FYJvJ+LiNtp/Zv+l2UYYCWtc9m/APw7Wl8Kvl3+HjzMfhWtLw07p7tHGxHvBl7D5POd270L+FhE/G5Z59vbpn0gIt4LLAMWRcQbaF3RvzIi3kHrnPuvR8T9tB65eUdZ35uBDwDfjIg3AceU9/w68PkyfDut0wB/m5leJKcFw8enSpWLiNHMHJ7tOrpRDrUPZ+b7DjP9UoDMvLat7TTgwsO9R1oo3EOX6nfNbBcwDQ8B/3yE6V+cou0R4IZmypHmD/fQJUmqgBfFSZJUAQNdkqQKGOiSJFXAQJckqQIGuiRJFfh/Jrp54eJDl1wAAAAASUVORK5CYII=\n",
      "text/plain": [
       "<Figure size 576x432 with 1 Axes>"
      ]
     },
     "metadata": {
      "needs_background": "light"
     },
     "output_type": "display_data"
    }
   ],
   "source": [
    "plt.figure(figsize=(8,6))\n",
    "plt.hist(spb_centre['total_area'], bins=30, range=(0,300))\n",
    "plt.xlabel('Общая площадь')\n",
    "plt.ylabel('Частота')\n",
    "plt.grid(True)"
   ]
  },
  {
   "cell_type": "code",
   "execution_count": 45,
   "metadata": {
    "scrolled": true
   },
   "outputs": [
    {
     "data": {
      "text/plain": [
       "count    4188.000000\n",
       "mean       68.533625\n",
       "std        32.775058\n",
       "min        12.000000\n",
       "25%        44.675000\n",
       "50%        61.000000\n",
       "75%        84.100000\n",
       "max       281.100000\n",
       "Name: total_area, dtype: float64"
      ]
     },
     "execution_count": 45,
     "metadata": {},
     "output_type": "execute_result"
    }
   ],
   "source": [
    "spb_centre['total_area'].describe()"
   ]
  },
  {
   "cell_type": "markdown",
   "metadata": {},
   "source": [
    "Площадь квартир в центре СПБ варьируется от 12 до 281 кв.м со средним 68 и медианой 61. Распределение скошено слева и имеет длинный правый хвост."
   ]
  },
  {
   "cell_type": "code",
   "execution_count": 57,
   "metadata": {
    "scrolled": true
   },
   "outputs": [
    {
     "data": {
      "image/png": "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\n",
      "text/plain": [
       "<Figure size 576x432 with 1 Axes>"
      ]
     },
     "metadata": {
      "needs_background": "light"
     },
     "output_type": "display_data"
    }
   ],
   "source": [
    "plt.figure(figsize=(8,6))\n",
    "plt.hist(spb_centre['last_price'], bins=30, range=(0,30000000))\n",
    "plt.xlabel('Последняя цена')\n",
    "plt.ylabel('Частота')\n",
    "plt.grid(True)\n",
    "plt.show()"
   ]
  },
  {
   "cell_type": "code",
   "execution_count": 55,
   "metadata": {},
   "outputs": [
    {
     "data": {
      "text/plain": [
       "count    4.188000e+03\n",
       "mean     8.037734e+06\n",
       "std      4.450766e+06\n",
       "min      1.600000e+06\n",
       "25%      4.838750e+06\n",
       "50%      6.768077e+06\n",
       "75%      9.900000e+06\n",
       "max      2.500000e+07\n",
       "Name: last_price, dtype: float64"
      ]
     },
     "execution_count": 55,
     "metadata": {},
     "output_type": "execute_result"
    }
   ],
   "source": [
    "spb_centre['last_price'].describe()"
   ]
  },
  {
   "cell_type": "markdown",
   "metadata": {},
   "source": [
    "Цены на квартиры варьируются от 1.6 млн до 25 млн со средним 8 млн и медианой 6.8 млн. Распределение также скошено слева и имеет длинный правый хвост."
   ]
  },
  {
   "cell_type": "code",
   "execution_count": 58,
   "metadata": {},
   "outputs": [
    {
     "data": {
      "image/png": "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\n",
      "text/plain": [
       "<Figure size 576x432 with 1 Axes>"
      ]
     },
     "metadata": {
      "needs_background": "light"
     },
     "output_type": "display_data"
    }
   ],
   "source": [
    "plt.figure(figsize=(8,6))\n",
    "plt.hist(spb_centre['rooms'],bins=7)\n",
    "plt.xlabel('Комнаты')\n",
    "plt.ylabel('Частота')\n",
    "plt.grid(True)\n",
    "plt.show()"
   ]
  },
  {
   "cell_type": "code",
   "execution_count": 59,
   "metadata": {
    "scrolled": false
   },
   "outputs": [
    {
     "data": {
      "text/plain": [
       "count    4188.000000\n",
       "mean        2.329274\n",
       "std         1.116450\n",
       "min         0.000000\n",
       "25%         2.000000\n",
       "50%         2.000000\n",
       "75%         3.000000\n",
       "max         7.000000\n",
       "Name: rooms, dtype: float64"
      ]
     },
     "execution_count": 59,
     "metadata": {},
     "output_type": "execute_result"
    }
   ],
   "source": [
    "spb_centre['rooms'].describe()"
   ]
  },
  {
   "cell_type": "markdown",
   "metadata": {},
   "source": [
    "Как и предыдущие распределения, распределение по числу комнат скошено слева и имеет длинный правый хвост. Медиана приходится на 2 комнаты, минимальное число комнат - 0, максимальное - 7."
   ]
  },
  {
   "cell_type": "code",
   "execution_count": 60,
   "metadata": {},
   "outputs": [
    {
     "data": {
      "image/png": "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\n",
      "text/plain": [
       "<Figure size 576x432 with 1 Axes>"
      ]
     },
     "metadata": {
      "needs_background": "light"
     },
     "output_type": "display_data"
    }
   ],
   "source": [
    "plt.figure(figsize=(8,6))\n",
    "plt.hist(spb_centre['ceiling_height'],bins=30, range=(2,4.5))\n",
    "plt.xlabel('Высота потолка')\n",
    "plt.ylabel('Частота')\n",
    "plt.grid(True)\n",
    "plt.show()"
   ]
  },
  {
   "cell_type": "code",
   "execution_count": 61,
   "metadata": {
    "scrolled": true
   },
   "outputs": [
    {
     "data": {
      "text/plain": [
       "count    4188.000000\n",
       "mean        2.824563\n",
       "std         0.274647\n",
       "min         2.500000\n",
       "25%         2.700000\n",
       "50%         2.700000\n",
       "75%         3.000000\n",
       "max         4.000000\n",
       "Name: ceiling_height, dtype: float64"
      ]
     },
     "execution_count": 61,
     "metadata": {},
     "output_type": "execute_result"
    }
   ],
   "source": [
    "spb_centre['ceiling_height'].describe()"
   ]
  },
  {
   "cell_type": "markdown",
   "metadata": {},
   "source": [
    "Распределение высоты потолков состоит из изолированных значений, что логично, т.к. высоты потолков в домах обычно стандартные. Минимальная высота составляет 2.5 м, максимальная - 4 м. Максимум распределения приходится на 2.7 м."
   ]
  },
  {
   "cell_type": "markdown",
   "metadata": {},
   "source": [
    "**Исследуем зависимость цены от параметров квартиры в центре СПБ**"
   ]
  },
  {
   "cell_type": "code",
   "execution_count": 49,
   "metadata": {
    "scrolled": true
   },
   "outputs": [
    {
     "data": {
      "image/png": "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\n",
      "text/plain": [
       "<Figure size 648x648 with 16 Axes>"
      ]
     },
     "metadata": {
      "needs_background": "light"
     },
     "output_type": "display_data"
    },
    {
     "name": "stdout",
     "output_type": "stream",
     "text": [
      "                     last_price  total_area     rooms  cityCenters_nearest\n",
      "last_price             1.000000    0.784367  0.537896            -0.339873\n",
      "total_area             0.784367    1.000000  0.809038            -0.350124\n",
      "rooms                  0.537896    0.809038  1.000000            -0.303198\n",
      "cityCenters_nearest   -0.339873   -0.350124 -0.303198             1.000000\n"
     ]
    }
   ],
   "source": [
    "spb_centre_analysis_1 = spb_centre[['last_price', 'total_area','rooms', 'cityCenters_nearest']]\n",
    "pd.plotting.scatter_matrix(spb_centre_analysis_1, figsize=(9,9))     \n",
    "plt.show()\n",
    "print(spb_centre_analysis_1.corr())  "
   ]
  },
  {
   "cell_type": "code",
   "execution_count": 50,
   "metadata": {
    "scrolled": true
   },
   "outputs": [
    {
     "data": {
      "image/png": "iVBORw0KGgoAAAANSUhEUgAAAWoAAAEPCAYAAABr4Y4KAAAAOXRFWHRTb2Z0d2FyZQBNYXRwbG90bGliIHZlcnNpb24zLjMuNCwgaHR0cHM6Ly9tYXRwbG90bGliLm9yZy8QVMy6AAAACXBIWXMAAAsTAAALEwEAmpwYAAAQIElEQVR4nO3df4xldXnH8c/HXZBlF5am4G2zqGMbxFCnLt1bDKhkBqJFloQ0pS3EYtnQToy60rq02cb0VxrTTeu2pf4IJXT9FWCiBPqDVSgpTEGU1RlYmV1WGsVtZaxLUVwY2IqjT/+49+rscO/cM+Occ5979/1KNpl7znfm+8CT/cx3v/ecexwRAgDk9ZJeFwAAWBxBDQDJEdQAkBxBDQDJEdQAkBxBDQDJlRbUtnfZftL2voLjf8P2o7b32765rLoAoN+4rOuobZ8vaVbSJyLitV3GniHpU5IuiIinbb8sIp4spTAA6DOlragj4j5J35l/zPbP277T9pTt+22/pnnqdyV9OCKebn4vIQ0ATVXvUd8gaWtEbJJ0raSPNI+/WtKrbT9g+0HbF1VcFwCktbqqiWyvk3SepE/bbh1+6bw6zpA0Iul0SffZHo6I71ZVHwBkVVlQq7F6/25EbGxz7glJeyLi+5K+bvs/1QjuL1VYHwCkVNnWR0Q8o0YI/7okueF1zdP/pMZqWrZPVWMr5PGqagOAzMq8PO8WSV+QdKbtJ2xfLeltkq62/WVJ+yVd2hx+l6Rv235U0r2S/iAivl1WbQDQT0q7PA8AsDK4MxEAkiOoASC5Uq76OPXUU2NoaKiMH91zzz33nNauXdvrMrBM9K+/DXL/pqamnoqI09qdKyWoh4aGNDk5WcaP7rmJiQmNjIz0ugwsE/3rb4PcP9v/1ekcWx8AkBxBDQDJEdQAkBxBDQDJEdQAkFzXoLZ9pu298/48Y/v3KqgNAKACl+dFxGOSNkqS7VWSZiTdXm5ZAICWpW59XCjpaxHR8Xo/AMDKWtKHMtneJemhiPhQm3NjksYkqVarbRofH1+xIjOZnZ3VunXrel0Glon+razpmcOVzldbIx06Us1cwxvWVzNR0+jo6FRE1NudKxzUto+X9E1JvxARhxYbW6/XgzsTkRH9W1lD23dXOt+24TntnK7meScHd2yuZJ4W2x2DeilbH29VYzW9aEgDAFbWUn41XSHplrIKwbGpFyuyqyqcs+pVGQZToRW17bWS3izptnLLAQAsVGhFHRHPSfrpkmsBALTBnYkAkBxBDQDJEdQAkBxBDQDJEdQAkBxBDQDJEdQAkBxBDQDJEdQAkBxBDQDJEdQAkBxBDQDJEdQAkBxBDQDJEdQAkBxBDQDJEdQAkBxBDQDJEdQAkBxBDQDJFX0K+Sm2b7X9FdsHbJ9bdmEAgIZCTyGXdJ2kOyPiMtvHSzqxxJoAAPN0DWrb6yWdL+kqSYqIFyS9UG5ZAICWIlsfr5L0v5I+avth2zfaXltyXQCAJkfE4gPsuqQHJb0hIvbYvk7SMxHxxwvGjUkak6RarbZpfHy8pJJ7a3Z2VuvWret1GQNjeuZwpfPV1kiHjlQ33/CG9dVN1gOD3L+qezc6OjoVEfV254oE9c9IejAihpqv3yRpe0Rs7vQ99Xo9Jicnl19xYhMTExoZGel1GQNjaPvuSufbNjynndNF35r5yR3c0fGvyUAY5P5V3TvbHYO669ZHRHxL0jdsn9k8dKGkR1ewPgDAIor+atoq6abmFR+PS9pSXkkAgPkKBXVE7JXUdkkOACgXdyYCQHIENQAkR1ADQHIENQAkR1ADQHIENQAkR1ADQHIENQAkR1ADQHIENQAkR1ADQHIENQAkR1ADQHIENQAkR1ADQHIENQAkV93D40rSi2e2XVXhnIP+zD0A3bGiBoDkCGoASI6gBoDkCGoASK7Qm4m2D0p6VtIPJM1FBE8kB4CKLOWqj9GIeKq0SgAAbbH1AQDJFQ3qkPRvtqdsj5VZEADgaI6I7oPsDRExY/tlku6WtDUi7lswZkzSmCTVarVN4+PjZdT7ItMzhyuZp6W2Rjp0pLr5hjesr26yHqB//W2Q+1d170ZHR6c6vf9XKKiP+gb7zyTNRsQHOo2p1+sxOTm5pJ+7XL24M3HndHU3dA76nYn0r78Ncv+q7p3tjkHddevD9lrbJ7W+lvQWSftWtkQAQCdFfjXVJN1uuzX+5oi4s9SqAAA/0jWoI+JxSa+roBYAQBtcngcAyRHUAJAcQQ0AyRHUAJAcQQ0AyRHUAJAcQQ0AyRHUAJAcQQ0AyRHUAJAcQQ0AyRHUAJAcQQ0AyRHUAJAcQQ0AyRHUAJAcQQ0AyRHUAJAcQQ0AyRHUAJBc4aC2vcr2w7bvKLMgAMDRlrKivkbSgbIKAQC0VyiobZ8uabOkG8stBwCwUNEV9d9J+kNJPyyvFABAO46IxQfYl0i6OCLeaXtE0rURcUmbcWOSxiSpVqttGh8fX/lq25ieOVzJPC21NdKhI9XNN7xhfXWT9QD962+D3L+qezc6OjoVEfV254oE9V9KulLSnKQTJJ0s6baI+K1O31Ov12NycnL5FS/B0PbdlczTsm14TjunV1c238EdmyubqxfoX38b5P5V3TvbHYO669ZHRPxRRJweEUOSLpd0z2IhDQBYWVxHDQDJLenfEBExIWmilEoAAG2xogaA5AhqAEiOoAaA5AhqAEiOoAaA5AhqAEiOoAaA5AhqAEiOoAaA5AhqAEiOoAaA5AhqAEiOoAaA5AhqAEiOoAaA5AhqAEiOoAaA5AhqAEiOoAaA5AhqAEiOoAaA5LoGte0TbH/R9pdt77f951UUBgBoWF1gzPckXRARs7aPk/Q525+NiAdLrg0AoAJBHREhabb58rjmnyizKADAjxXao7a9yvZeSU9Kujsi9pRaFQDgR9xYMBccbJ8i6XZJWyNi34JzY5LGJKlWq20aHx9fwTI7m545XMk8LbU10qEj1c03vGF9dZP1AP3rb4Pcv6p7Nzo6OhUR9XbnlhTUkmT7TyQ9HxEf6DSmXq/H5OTk0qpcpqHtuyuZp2Xb8Jx2ThfZ2l8ZB3dsrmyuXqB//W2Q+1d172x3DOoiV32c1lxJy/YaSW+W9JUVrRAA0FGRX00/K+njtlepEeyfiog7yi0LANBS5KqPRySdXUEtAIA2uDMRAJIjqAEgOYIaAJIjqAEgOYIaAJIjqAEgOYIaAJIjqAEgOYIaAJIjqAEgOYIaAJIjqAEgOYIaAJIjqAEgOYIaAJIjqAEgOYIaAJIjqAEgOYIaAJIjqAEgua5Bbfvltu+1/ajt/bavqaIwAEBD16eQS5qTtC0iHrJ9kqQp23dHxKMl1wYAUIEVdUT8T0Q81Pz6WUkHJG0ouzAAQMOS9qhtD0k6W9KeUqoBALyII6LYQHudpP+Q9P6IuK3N+TFJY5JUq9U2jY+Pr2SdHU3PHK5knpbaGunQkermG96wvrrJeoD+9bdB7l/VvRsdHZ2KiHq7c4WC2vZxku6QdFdE/E238fV6PSYnJ5dc6HIMbd9dyTwt24bntHO6yNb+yji4Y3Nlc/UC/etvg9y/qntnu2NQF7nqw5L+UdKBIiENAFhZRfao3yDpSkkX2N7b/HNxyXUBAJq6/hsiIj4nyRXUAgBogzsTASA5ghoAkiOoASA5ghoAkiOoASA5ghoAkiOoASA5ghoAkiOoASA5ghoAkiOoASA5ghoAkiOoASA5ghoAkiOoASA5ghoAkiOoASA5ghoAkiOoASA5ghoAkiOoASC5rkFte5ftJ23vq6IgAMDRiqyoPybpopLrAAB00DWoI+I+Sd+poBYAQBvsUQNAco6I7oPsIUl3RMRrFxkzJmlMkmq12qbx8fGVqnFR0zOHK5mnpbZGOnSkuvmGN6yvbrIeoH/9bZD7V3XvRkdHpyKi3u7cigX1fPV6PSYnJ5dU5HINbd9dyTwt24bntHN6dWXzHdyxubK5eoH+9bdB7l/VvbPdMajZ+gCA5IpcnneLpC9IOtP2E7avLr8sAEBL139DRMQVVRQCAGiPrQ8ASI6gBoDkCGoASI6gBoDkCGoASI6gBoDkCGoASI6gBoDkCGoASI6gBoDkCGoASI6gBoDkCGoASI6gBoDkCGoASI6gBoDkCGoASI6gBoDkCGoASI6gBoDkCGoASK5QUNu+yPZjtr9qe3vZRQEAfqxrUNteJenDkt4q6SxJV9g+q+zCAAANRVbU50j6akQ8HhEvSBqXdGm5ZQEAWooE9QZJ35j3+onmMQBABRwRiw+wL5N0UUT8TvP1lZJeHxHvXjBuTNJY8+WZkh5b+XJTOFXSU70uAstG//rbIPfvlRFxWrsTqwt884ykl897fXrz2FEi4gZJNyyrvD5iezIi6r2uA8tD//rbsdq/IlsfX5J0hu1X2T5e0uWS/qXcsgAALV1X1BExZ/vdku6StErSrojYX3plAABJxbY+FBGfkfSZkmvpFwO/vTPg6F9/Oyb71/XNRABAb3ELOQAkR1ADQHIENQaa7dfYvtD2ugXHL+pVTSjG9jm2f7n59Vm232v74l7X1QvsUS+T7S0R8dFe14HObL9H0rskHZC0UdI1EfHPzXMPRcQv9bA8LML2n6rx+UKrJd0t6fWS7pX0Zkl3RcT7e1he5QjqZbL93xHxil7Xgc5sT0s6NyJmbQ9JulXSJyPiOtsPR8TZva0QnTR7t1HSSyV9S9LpEfGM7TWS9kTEL/ayvqoVujzvWGX7kU6nJNWqrAXL8pKImJWkiDhoe0TSrbZfqUYPkddcRPxA0vO2vxYRz0hSRByx/cMe11Y5gnpxNUm/IunpBcct6fPVl4MlOmR7Y0TslaTmyvoSSbskDfe0MnTzgu0TI+J5SZtaB22vl0RQ4yh3SFrX+os+n+2JyqvBUr1d0tz8AxExJ+nttv+hNyWhoPMj4nuSFBHzg/k4Sb/dm5J6hz1qAEiOy/MAIDmCGgCSI6gBIDmCGqnYfo/tA7ZnbH+oxHlGbJ9X1s8HVhJBjWzeqcbdZ+9biR9mu9OVTSOSCGr0BYIaadi+XtLPSfqspJ+ad3zI9j22H7H977Zf0eX4x2xfb3uPpL9qM8+QpHdI+n3be22/yfbXbR/XPH9y67XtCdvXNcfts31Oc8xa27tsf9H2w7YvLfl/D45hBDXSiIh3SPqmpFEdfZPRByV9vHnb8E2S/r7LcanxbM/zIuK9beY5KOl6SX8bERsj4n5JE5I2N4dcLum2iPh+8/WJEbFRjdX+ruax90m6JyLOadb717bXLvM/HVgUQY1+cK6km5tff1LSG7scl6RPN29BLupGSVuaX2+RNP8Dt26RpIi4T9LJtk+R9BZJ223vVSPkT5DEZ7+gFNyZiEH13FIGR8QDza2UEUmrImLf/NMLh6vxMQK/FhGP/URVAgWwokY/+Lwa2xGS9DZJ93c5XsSzkk5acOwTaqzQF3587W9Kku03SjocEYfVeNjzVttunuOT+FAaghr9YKukLc1PM7xS0jVdjhfxr5J+tfVmYvPYTWq8iXnLgrH/Z/thNfa1r24e+ws1PnfiEdv7m6+BUvBZH0CT7cskXRoRV847NiHp2oiY7FlhOOaxRw1Isv1BNZ4ockw+6gm5saLGQLO9RS/eEnkgIt7Vi3qA5SCoASA53kwEgOQIagBIjqAGgOQIagBIjqAGgOT+H7MxcGF4TJVVAAAAAElFTkSuQmCC\n",
      "text/plain": [
       "<Figure size 432x288 with 1 Axes>"
      ]
     },
     "metadata": {
      "needs_background": "light"
     },
     "output_type": "display_data"
    },
    {
     "name": "stdout",
     "output_type": "stream",
     "text": [
      "floor_type\n",
      "1     464\n",
      "2     639\n",
      "3    3085\n",
      "Name: last_price, dtype: int64\n"
     ]
    }
   ],
   "source": [
    "spb_centre.groupby('floor_type')['last_price'].median().plot(kind='bar',x='floor_type',y='last_price', grid=True)\n",
    "plt.show()\n",
    "print(spb_centre.groupby('floor_type')['last_price'].count())"
   ]
  },
  {
   "cell_type": "code",
   "execution_count": 51,
   "metadata": {},
   "outputs": [
    {
     "data": {
      "image/png": "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\n",
      "text/plain": [
       "<Figure size 432x288 with 1 Axes>"
      ]
     },
     "metadata": {
      "needs_background": "light"
     },
     "output_type": "display_data"
    },
    {
     "data": {
      "image/png": "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\n",
      "text/plain": [
       "<Figure size 432x288 with 1 Axes>"
      ]
     },
     "metadata": {
      "needs_background": "light"
     },
     "output_type": "display_data"
    }
   ],
   "source": [
    "spb_centre.groupby('weekday')['last_price'].median().plot(kind='bar',x='weekday',y='last_price', grid=True)\n",
    "plt.show()\n",
    "spb_centre.groupby('weekday')['last_price'].count().plot(kind='bar',x='weekday',y='last_price', grid=True)\n",
    "plt.show()"
   ]
  },
  {
   "cell_type": "code",
   "execution_count": 52,
   "metadata": {},
   "outputs": [
    {
     "data": {
      "image/png": "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\n",
      "text/plain": [
       "<Figure size 432x288 with 1 Axes>"
      ]
     },
     "metadata": {
      "needs_background": "light"
     },
     "output_type": "display_data"
    },
    {
     "data": {
      "image/png": "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\n",
      "text/plain": [
       "<Figure size 432x288 with 1 Axes>"
      ]
     },
     "metadata": {
      "needs_background": "light"
     },
     "output_type": "display_data"
    }
   ],
   "source": [
    "spb_centre.groupby('month')['last_price'].median().plot(kind='bar',x='month',y='last_price', grid=True)\n",
    "plt.show()\n",
    "spb_centre.groupby('month')['last_price'].count().plot(kind='bar',x='month',y='last_price', grid=True)\n",
    "plt.show()"
   ]
  },
  {
   "cell_type": "code",
   "execution_count": 53,
   "metadata": {
    "scrolled": true
   },
   "outputs": [
    {
     "data": {
      "image/png": "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\n",
      "text/plain": [
       "<Figure size 432x288 with 1 Axes>"
      ]
     },
     "metadata": {
      "needs_background": "light"
     },
     "output_type": "display_data"
    },
    {
     "name": "stdout",
     "output_type": "stream",
     "text": [
      "year\n",
      "2014    9000000.0\n",
      "2015    6655000.0\n",
      "2016    7000000.0\n",
      "2017    6900000.0\n",
      "2018    6500000.0\n",
      "2019    6415000.0\n",
      "Name: last_price, dtype: Float64\n",
      "year\n",
      "2014      21\n",
      "2015     222\n",
      "2016     622\n",
      "2017    1663\n",
      "2018    1430\n",
      "2019     230\n",
      "Name: last_price, dtype: int64\n"
     ]
    }
   ],
   "source": [
    "spb_centre.groupby('year')['last_price'].median().plot(kind='bar',x='year',y='last_price', grid=True)\n",
    "plt.show()\n",
    "print(spb_centre.groupby('year')['last_price'].median())\n",
    "print(spb_centre.groupby('year')['last_price'].count())"
   ]
  },
  {
   "cell_type": "markdown",
   "metadata": {},
   "source": [
    "**Выводы**\n",
    "\n",
    "* Сильнее всего цена квартиры коррелирует с площадью (0.78) и с количеством комнат(0.54) (Но площадь и количество комнат также сильно коррелируют - 0.81). Также заметна обратная корреляция с удалением от центра (-0.34).\n",
    "\n",
    "* Квартиры на последнем и других этажах (кроме первого) имеют сопоставимую медианную цену. Квартир на первом этаже в центре СПБ среди объявлений не было (возможно, потому что первые этажи в центре города обычно не используют для жилья).\n",
    "\n",
    "* Цена квартиры не зависит от дня недели, в который было выставлено объявление. Однако видно, что количество объявлений на выходных примерно в 2 раза ниже, чем в будние дни.\n",
    "\n",
    "* Зависимость цены от месяца так же не выявили. Заметно, что количество объявлений резко падает в декабре и январе, а также мае (возможно, это связано с праздниками). В летние месяцы количество объявлений также немного ниже, чем осенью и весной.\n",
    "\n",
    "* В 2014 году медианная цена на недвижимость в центре СПБ была максимальной (9 млн рублей). Возможно, такие высокие значения связаны с малым размером выборки (24 объявления). В последующие годы она упала и держалась на уровне 6.5 - 7 млн."
   ]
  },
  {
   "cell_type": "markdown",
   "metadata": {},
   "source": [
    "## Общий вывод"
   ]
  },
  {
   "cell_type": "markdown",
   "metadata": {},
   "source": [
    "**Предобработку данных осуществили следующими способами:**\n",
    "* Заменили разделитель при чтении файла.\n",
    "* Заменили пропуски нулевыми значениями или медианой по населенному пункту.\n",
    "* Привели столбцы к целочисленным значениям, где это уместно.\n",
    "* Перевели строчные значения в формат даты.\n",
    "\n",
    "**Провели следующие рассчеты:**\n",
    "* Определили цену квадратного метра каждой квартиры.\n",
    "* Определили долю жилой площади и кухни.\n",
    "* Категоризировали этажи на первые, последние и другие с помощью функции.\n",
    "* В отдельный столбец вынесли день недели, месяц и год.\n",
    "* Исследовали различные параметры квартир и отфильтровали данные от выбросов.\n",
    "\n",
    "**Результаты исследования:**\n",
    "* Определили основные параметры, влияющие на стоимость квадратного метра: удаленность от центра, число комнат, этаж, год продажи.\n",
    "* Определили населенные пункты с максимальной и минимальной ценой за кв.м.\n",
    "* Определили радиус центрального района, где цена квартир резко растет.\n",
    "* Изучили основные параметры квартир в центре СПБ и влияние этих параметров на цену. На стоимость квартиры сильнее всего влияет ее площадь и количество комнат, а также удаленность от центра. Обнаружили, что в 2014 году цены на недвижимость были максимальные, а в последующие годы держались на одном уровне.\n",
    "\n"
   ]
  }
 ],
 "metadata": {
  "ExecuteTimeLog": [
   {
    "duration": 613,
    "start_time": "2022-01-20T08:08:26.931Z"
   },
   {
    "duration": 69,
    "start_time": "2022-01-20T08:08:45.282Z"
   },
   {
    "duration": 90,
    "start_time": "2022-01-20T08:11:31.613Z"
   },
   {
    "duration": 101,
    "start_time": "2022-01-20T08:11:40.412Z"
   },
   {
    "duration": 102,
    "start_time": "2022-01-20T08:11:56.410Z"
   },
   {
    "duration": 8,
    "start_time": "2022-01-20T08:26:21.535Z"
   },
   {
    "duration": 7,
    "start_time": "2022-01-20T08:27:37.632Z"
   },
   {
    "duration": 7,
    "start_time": "2022-01-20T08:28:07.624Z"
   },
   {
    "duration": 13,
    "start_time": "2022-01-20T08:31:41.582Z"
   },
   {
    "duration": 10,
    "start_time": "2022-01-20T08:31:51.034Z"
   },
   {
    "duration": 8,
    "start_time": "2022-01-20T08:32:45.610Z"
   },
   {
    "duration": 10,
    "start_time": "2022-01-20T08:33:05.478Z"
   },
   {
    "duration": 11,
    "start_time": "2022-01-20T08:33:13.965Z"
   },
   {
    "duration": 9,
    "start_time": "2022-01-20T08:33:19.128Z"
   },
   {
    "duration": 6,
    "start_time": "2022-01-20T08:48:19.724Z"
   },
   {
    "duration": 7,
    "start_time": "2022-01-20T08:48:36.939Z"
   },
   {
    "duration": 7,
    "start_time": "2022-01-20T08:48:41.794Z"
   },
   {
    "duration": 8,
    "start_time": "2022-01-20T08:49:04.641Z"
   },
   {
    "duration": 7,
    "start_time": "2022-01-20T08:49:12.234Z"
   },
   {
    "duration": 95,
    "start_time": "2022-01-20T08:49:15.834Z"
   },
   {
    "duration": 10,
    "start_time": "2022-01-20T08:49:19.489Z"
   },
   {
    "duration": 8,
    "start_time": "2022-01-20T08:49:28.248Z"
   },
   {
    "duration": 10,
    "start_time": "2022-01-20T08:50:33.482Z"
   },
   {
    "duration": 12,
    "start_time": "2022-01-20T08:51:08.236Z"
   },
   {
    "duration": 11,
    "start_time": "2022-01-20T08:53:42.051Z"
   },
   {
    "duration": 15,
    "start_time": "2022-01-20T08:54:45.016Z"
   },
   {
    "duration": 19,
    "start_time": "2022-01-20T08:55:02.720Z"
   },
   {
    "duration": 13,
    "start_time": "2022-01-20T08:55:21.769Z"
   },
   {
    "duration": 15,
    "start_time": "2022-01-20T08:55:31.086Z"
   },
   {
    "duration": 19,
    "start_time": "2022-01-20T08:58:28.639Z"
   },
   {
    "duration": 22,
    "start_time": "2022-01-20T09:33:21.577Z"
   },
   {
    "duration": 17,
    "start_time": "2022-01-20T09:33:36.067Z"
   },
   {
    "duration": 15,
    "start_time": "2022-01-20T09:33:52.733Z"
   },
   {
    "duration": 18,
    "start_time": "2022-01-20T09:33:55.236Z"
   },
   {
    "duration": 20,
    "start_time": "2022-01-20T09:34:05.848Z"
   },
   {
    "duration": 15,
    "start_time": "2022-01-20T09:35:02.381Z"
   },
   {
    "duration": 24,
    "start_time": "2022-01-20T09:35:09.080Z"
   },
   {
    "duration": 18,
    "start_time": "2022-01-20T09:36:12.372Z"
   },
   {
    "duration": 25,
    "start_time": "2022-01-20T09:36:17.973Z"
   },
   {
    "duration": 27,
    "start_time": "2022-01-20T09:48:53.841Z"
   },
   {
    "duration": 339,
    "start_time": "2022-01-20T09:51:20.823Z"
   },
   {
    "duration": 24,
    "start_time": "2022-01-20T09:52:54.207Z"
   },
   {
    "duration": 30,
    "start_time": "2022-01-20T09:54:04.150Z"
   },
   {
    "duration": 287,
    "start_time": "2022-01-20T09:54:08.743Z"
   },
   {
    "duration": 27,
    "start_time": "2022-01-20T09:54:24.501Z"
   },
   {
    "duration": 61,
    "start_time": "2022-01-20T09:54:59.921Z"
   },
   {
    "duration": 271,
    "start_time": "2022-01-20T11:26:34.084Z"
   },
   {
    "duration": 780,
    "start_time": "2022-01-20T11:26:39.987Z"
   },
   {
    "duration": 74,
    "start_time": "2022-01-20T11:26:43.151Z"
   },
   {
    "duration": 263,
    "start_time": "2022-01-20T11:33:21.485Z"
   },
   {
    "duration": 301,
    "start_time": "2022-01-20T11:33:38.652Z"
   },
   {
    "duration": 406,
    "start_time": "2022-01-20T11:34:23.687Z"
   },
   {
    "duration": 338,
    "start_time": "2022-01-20T11:35:04.734Z"
   },
   {
    "duration": 305,
    "start_time": "2022-01-20T11:35:16.691Z"
   },
   {
    "duration": 342,
    "start_time": "2022-01-20T11:35:28.174Z"
   },
   {
    "duration": 283,
    "start_time": "2022-01-20T11:35:44.695Z"
   },
   {
    "duration": 383,
    "start_time": "2022-01-20T11:35:58.852Z"
   },
   {
    "duration": 242,
    "start_time": "2022-01-20T11:37:54.832Z"
   },
   {
    "duration": 382,
    "start_time": "2022-01-20T11:38:12.356Z"
   },
   {
    "duration": 365,
    "start_time": "2022-01-20T11:39:56.003Z"
   },
   {
    "duration": 1052,
    "start_time": "2022-01-20T11:40:23.610Z"
   },
   {
    "duration": 916,
    "start_time": "2022-01-20T11:42:14.199Z"
   },
   {
    "duration": 348,
    "start_time": "2022-01-20T11:42:44.719Z"
   },
   {
    "duration": 322,
    "start_time": "2022-01-20T11:43:05.211Z"
   },
   {
    "duration": 506,
    "start_time": "2022-01-20T11:43:12.286Z"
   },
   {
    "duration": 879,
    "start_time": "2022-01-20T11:43:55.286Z"
   },
   {
    "duration": 406,
    "start_time": "2022-01-20T11:45:41.608Z"
   },
   {
    "duration": 237,
    "start_time": "2022-01-20T11:45:46.430Z"
   },
   {
    "duration": 293,
    "start_time": "2022-01-20T11:45:55.428Z"
   },
   {
    "duration": 739,
    "start_time": "2022-01-20T11:46:28.923Z"
   },
   {
    "duration": 264,
    "start_time": "2022-01-20T11:46:58.206Z"
   },
   {
    "duration": 1109,
    "start_time": "2022-01-20T13:50:34.046Z"
   },
   {
    "duration": 295,
    "start_time": "2022-01-20T13:50:55.308Z"
   },
   {
    "duration": 280,
    "start_time": "2022-01-20T13:51:06.407Z"
   },
   {
    "duration": 291,
    "start_time": "2022-01-20T13:52:05.795Z"
   },
   {
    "duration": 224,
    "start_time": "2022-01-20T13:52:17.973Z"
   },
   {
    "duration": 690,
    "start_time": "2022-01-20T13:53:30.547Z"
   },
   {
    "duration": 256,
    "start_time": "2022-01-20T13:53:45.922Z"
   },
   {
    "duration": 270,
    "start_time": "2022-01-20T13:54:15.064Z"
   },
   {
    "duration": 252,
    "start_time": "2022-01-20T13:54:29.421Z"
   },
   {
    "duration": 257,
    "start_time": "2022-01-20T13:54:39.904Z"
   },
   {
    "duration": 256,
    "start_time": "2022-01-20T13:55:04.279Z"
   },
   {
    "duration": 277,
    "start_time": "2022-01-20T13:59:54.209Z"
   },
   {
    "duration": 323,
    "start_time": "2022-01-20T14:00:32.588Z"
   },
   {
    "duration": 290,
    "start_time": "2022-01-20T14:00:47.149Z"
   },
   {
    "duration": 269,
    "start_time": "2022-01-20T14:00:59.268Z"
   },
   {
    "duration": 347,
    "start_time": "2022-01-20T14:01:14.961Z"
   },
   {
    "duration": 253,
    "start_time": "2022-01-20T14:01:35.400Z"
   },
   {
    "duration": 75,
    "start_time": "2022-01-20T14:03:06.485Z"
   },
   {
    "duration": 287,
    "start_time": "2022-01-20T14:04:14.932Z"
   },
   {
    "duration": 63,
    "start_time": "2022-01-20T14:06:07.173Z"
   },
   {
    "duration": 7,
    "start_time": "2022-01-20T14:18:18.548Z"
   },
   {
    "duration": 38,
    "start_time": "2022-01-20T14:18:25.733Z"
   },
   {
    "duration": 289,
    "start_time": "2022-01-20T14:18:41.851Z"
   },
   {
    "duration": 38,
    "start_time": "2022-01-20T14:18:53.934Z"
   },
   {
    "duration": 10,
    "start_time": "2022-01-20T14:24:42.531Z"
   },
   {
    "duration": 12,
    "start_time": "2022-01-20T14:25:02.122Z"
   },
   {
    "duration": 68,
    "start_time": "2022-01-20T14:25:07.235Z"
   },
   {
    "duration": 3900,
    "start_time": "2022-01-20T14:34:06.332Z"
   },
   {
    "duration": 471,
    "start_time": "2022-01-20T14:35:15.767Z"
   },
   {
    "duration": 40572,
    "start_time": "2022-01-20T14:35:22.600Z"
   },
   {
    "duration": 4482,
    "start_time": "2022-01-20T14:37:20.759Z"
   },
   {
    "duration": 655,
    "start_time": "2022-01-20T14:38:43.553Z"
   },
   {
    "duration": 81,
    "start_time": "2022-01-20T14:38:44.210Z"
   },
   {
    "duration": 4456,
    "start_time": "2022-01-20T14:38:44.293Z"
   },
   {
    "duration": 294,
    "start_time": "2022-01-20T14:41:33.751Z"
   },
   {
    "duration": 334,
    "start_time": "2022-01-20T14:42:14.999Z"
   },
   {
    "duration": 458,
    "start_time": "2022-01-20T14:45:32.906Z"
   },
   {
    "duration": 686,
    "start_time": "2022-01-20T15:01:26.314Z"
   },
   {
    "duration": 785,
    "start_time": "2022-01-20T15:01:48.317Z"
   },
   {
    "duration": 706,
    "start_time": "2022-01-20T15:02:26.966Z"
   },
   {
    "duration": 1227,
    "start_time": "2022-01-20T15:04:41.218Z"
   },
   {
    "duration": 1160,
    "start_time": "2022-01-20T15:05:17.606Z"
   },
   {
    "duration": 1234,
    "start_time": "2022-01-20T15:05:22.059Z"
   },
   {
    "duration": 111,
    "start_time": "2022-01-20T15:05:52.628Z"
   },
   {
    "duration": 78,
    "start_time": "2022-01-20T15:07:28.745Z"
   },
   {
    "duration": 358,
    "start_time": "2022-01-21T08:09:57.721Z"
   },
   {
    "duration": 878,
    "start_time": "2022-01-21T08:10:05.419Z"
   },
   {
    "duration": 166,
    "start_time": "2022-01-21T08:10:08.328Z"
   },
   {
    "duration": 1328,
    "start_time": "2022-01-21T08:10:11.312Z"
   },
   {
    "duration": 440,
    "start_time": "2022-01-21T08:11:36.092Z"
   },
   {
    "duration": 401,
    "start_time": "2022-01-21T08:11:50.897Z"
   },
   {
    "duration": 383,
    "start_time": "2022-01-21T08:12:20.989Z"
   },
   {
    "duration": 388,
    "start_time": "2022-01-21T08:15:41.742Z"
   },
   {
    "duration": 377,
    "start_time": "2022-01-21T08:16:00.513Z"
   },
   {
    "duration": 292,
    "start_time": "2022-01-21T08:17:14.919Z"
   },
   {
    "duration": 417,
    "start_time": "2022-01-21T08:18:09.267Z"
   },
   {
    "duration": 401,
    "start_time": "2022-01-21T08:19:18.026Z"
   },
   {
    "duration": 391,
    "start_time": "2022-01-21T08:19:54.421Z"
   },
   {
    "duration": 394,
    "start_time": "2022-01-21T08:20:03.679Z"
   },
   {
    "duration": 413,
    "start_time": "2022-01-21T08:20:13.540Z"
   },
   {
    "duration": 291,
    "start_time": "2022-01-21T08:20:19.178Z"
   },
   {
    "duration": 389,
    "start_time": "2022-01-21T08:20:35.610Z"
   },
   {
    "duration": 313,
    "start_time": "2022-01-21T08:20:53.517Z"
   },
   {
    "duration": 318,
    "start_time": "2022-01-21T08:20:57.724Z"
   },
   {
    "duration": 318,
    "start_time": "2022-01-21T08:21:01.076Z"
   },
   {
    "duration": 404,
    "start_time": "2022-01-21T08:21:05.670Z"
   },
   {
    "duration": 295,
    "start_time": "2022-01-21T08:21:10.126Z"
   },
   {
    "duration": 310,
    "start_time": "2022-01-21T08:21:16.409Z"
   },
   {
    "duration": 391,
    "start_time": "2022-01-21T08:21:22.127Z"
   },
   {
    "duration": 363,
    "start_time": "2022-01-21T08:21:29.806Z"
   },
   {
    "duration": 362,
    "start_time": "2022-01-21T08:21:39.670Z"
   },
   {
    "duration": 384,
    "start_time": "2022-01-21T08:21:46.668Z"
   },
   {
    "duration": 519,
    "start_time": "2022-01-21T08:24:17.516Z"
   },
   {
    "duration": 407,
    "start_time": "2022-01-21T08:24:28.701Z"
   },
   {
    "duration": 448,
    "start_time": "2022-01-21T08:26:32.950Z"
   },
   {
    "duration": 394,
    "start_time": "2022-01-21T08:29:55.436Z"
   },
   {
    "duration": 394,
    "start_time": "2022-01-21T08:30:35.066Z"
   },
   {
    "duration": 396,
    "start_time": "2022-01-21T08:30:51.718Z"
   },
   {
    "duration": 429,
    "start_time": "2022-01-21T08:31:37.877Z"
   },
   {
    "duration": 419,
    "start_time": "2022-01-21T08:31:49.683Z"
   },
   {
    "duration": 365,
    "start_time": "2022-01-21T08:31:55.230Z"
   },
   {
    "duration": 300,
    "start_time": "2022-01-21T08:31:58.675Z"
   },
   {
    "duration": 459,
    "start_time": "2022-01-21T08:32:03.467Z"
   },
   {
    "duration": 312,
    "start_time": "2022-01-21T08:32:14.586Z"
   },
   {
    "duration": 312,
    "start_time": "2022-01-21T08:32:42.686Z"
   },
   {
    "duration": 397,
    "start_time": "2022-01-21T08:35:30.923Z"
   },
   {
    "duration": 555,
    "start_time": "2022-01-21T08:35:42.922Z"
   },
   {
    "duration": 410,
    "start_time": "2022-01-21T08:35:57.004Z"
   },
   {
    "duration": 418,
    "start_time": "2022-01-21T08:36:17.307Z"
   },
   {
    "duration": 368,
    "start_time": "2022-01-21T08:36:22.194Z"
   },
   {
    "duration": 365,
    "start_time": "2022-01-21T08:37:03.101Z"
   },
   {
    "duration": 471,
    "start_time": "2022-01-21T08:37:23.413Z"
   },
   {
    "duration": 339,
    "start_time": "2022-01-21T08:48:37.373Z"
   },
   {
    "duration": 429,
    "start_time": "2022-01-21T08:49:01.815Z"
   },
   {
    "duration": 414,
    "start_time": "2022-01-21T08:49:41.999Z"
   },
   {
    "duration": 880,
    "start_time": "2022-01-21T08:50:02.308Z"
   },
   {
    "duration": 401,
    "start_time": "2022-01-21T08:53:16.971Z"
   },
   {
    "duration": 399,
    "start_time": "2022-01-21T08:53:19.627Z"
   },
   {
    "duration": 405,
    "start_time": "2022-01-21T08:53:27.912Z"
   },
   {
    "duration": 423,
    "start_time": "2022-01-21T08:53:43.128Z"
   },
   {
    "duration": 436,
    "start_time": "2022-01-21T08:55:53.414Z"
   },
   {
    "duration": 419,
    "start_time": "2022-01-21T08:55:59.773Z"
   },
   {
    "duration": 436,
    "start_time": "2022-01-21T08:56:09.049Z"
   },
   {
    "duration": 411,
    "start_time": "2022-01-21T08:58:29.208Z"
   },
   {
    "duration": 391,
    "start_time": "2022-01-21T08:59:11.868Z"
   },
   {
    "duration": 398,
    "start_time": "2022-01-21T08:59:33.607Z"
   },
   {
    "duration": 409,
    "start_time": "2022-01-21T08:59:57.990Z"
   },
   {
    "duration": 409,
    "start_time": "2022-01-21T09:02:09.602Z"
   },
   {
    "duration": 513,
    "start_time": "2022-01-21T09:02:16.463Z"
   },
   {
    "duration": 295,
    "start_time": "2022-01-21T09:02:30.820Z"
   },
   {
    "duration": 409,
    "start_time": "2022-01-21T09:03:33.636Z"
   },
   {
    "duration": 403,
    "start_time": "2022-01-21T09:03:53.525Z"
   },
   {
    "duration": 421,
    "start_time": "2022-01-21T09:04:40.269Z"
   },
   {
    "duration": 410,
    "start_time": "2022-01-21T09:25:33.504Z"
   },
   {
    "duration": 417,
    "start_time": "2022-01-21T09:25:43.058Z"
   },
   {
    "duration": 458,
    "start_time": "2022-01-21T09:26:00.938Z"
   },
   {
    "duration": 306,
    "start_time": "2022-01-21T09:27:04.854Z"
   },
   {
    "duration": 12,
    "start_time": "2022-01-21T09:30:54.058Z"
   },
   {
    "duration": 132,
    "start_time": "2022-01-21T09:35:01.065Z"
   },
   {
    "duration": 171,
    "start_time": "2022-01-21T09:35:04.630Z"
   },
   {
    "duration": 1311,
    "start_time": "2022-01-21T09:35:07.215Z"
   },
   {
    "duration": 354,
    "start_time": "2022-01-21T09:35:47.611Z"
   },
   {
    "duration": 470,
    "start_time": "2022-01-21T09:36:43.470Z"
   },
   {
    "duration": 1549,
    "start_time": "2022-01-21T09:43:02.125Z"
   },
   {
    "duration": 392,
    "start_time": "2022-01-21T09:43:19.776Z"
   },
   {
    "duration": 7,
    "start_time": "2022-01-21T09:43:31.529Z"
   },
   {
    "duration": 12,
    "start_time": "2022-01-21T09:43:34.343Z"
   },
   {
    "duration": 18,
    "start_time": "2022-01-21T09:54:59.573Z"
   },
   {
    "duration": 5215,
    "start_time": "2022-01-21T09:55:21.954Z"
   },
   {
    "duration": 5911,
    "start_time": "2022-01-21T09:55:49.993Z"
   },
   {
    "duration": 402,
    "start_time": "2022-01-21T09:56:09.394Z"
   },
   {
    "duration": 406,
    "start_time": "2022-01-21T09:56:33.929Z"
   },
   {
    "duration": 429,
    "start_time": "2022-01-21T09:56:42.848Z"
   },
   {
    "duration": 635,
    "start_time": "2022-01-21T09:56:57.333Z"
   },
   {
    "duration": 407,
    "start_time": "2022-01-21T09:57:43.068Z"
   },
   {
    "duration": 390,
    "start_time": "2022-01-21T09:58:03.489Z"
   },
   {
    "duration": 409,
    "start_time": "2022-01-21T09:58:24.668Z"
   },
   {
    "duration": 431,
    "start_time": "2022-01-21T09:58:34.468Z"
   },
   {
    "duration": 401,
    "start_time": "2022-01-21T09:58:45.429Z"
   },
   {
    "duration": 425,
    "start_time": "2022-01-21T09:58:52.004Z"
   },
   {
    "duration": 443,
    "start_time": "2022-01-21T10:12:12.680Z"
   },
   {
    "duration": 210,
    "start_time": "2022-01-21T10:12:48.538Z"
   },
   {
    "duration": 112,
    "start_time": "2022-01-21T10:14:23.748Z"
   },
   {
    "duration": 135,
    "start_time": "2022-01-21T10:14:31.562Z"
   },
   {
    "duration": 106,
    "start_time": "2022-01-21T10:14:58.297Z"
   },
   {
    "duration": 398,
    "start_time": "2022-01-21T10:15:04.653Z"
   },
   {
    "duration": 312,
    "start_time": "2022-01-21T12:47:21.706Z"
   },
   {
    "duration": 690,
    "start_time": "2022-01-21T12:47:27.622Z"
   },
   {
    "duration": 92,
    "start_time": "2022-01-21T12:47:30.423Z"
   },
   {
    "duration": 711,
    "start_time": "2022-01-21T12:47:34.402Z"
   },
   {
    "duration": 252,
    "start_time": "2022-01-21T12:47:38.237Z"
   },
   {
    "duration": 221,
    "start_time": "2022-01-21T12:47:58.704Z"
   },
   {
    "duration": 204,
    "start_time": "2022-01-21T12:48:14.682Z"
   },
   {
    "duration": 314,
    "start_time": "2022-01-21T12:52:23.285Z"
   },
   {
    "duration": 207,
    "start_time": "2022-01-21T12:52:35.934Z"
   },
   {
    "duration": 205,
    "start_time": "2022-01-21T12:52:53.678Z"
   },
   {
    "duration": 206,
    "start_time": "2022-01-21T12:53:13.703Z"
   },
   {
    "duration": 218,
    "start_time": "2022-01-21T12:53:22.409Z"
   },
   {
    "duration": 202,
    "start_time": "2022-01-21T12:53:36.866Z"
   },
   {
    "duration": 200,
    "start_time": "2022-01-21T12:58:09.201Z"
   },
   {
    "duration": 214,
    "start_time": "2022-01-21T12:58:23.777Z"
   },
   {
    "duration": 207,
    "start_time": "2022-01-21T12:59:29.829Z"
   },
   {
    "duration": 626,
    "start_time": "2022-01-21T13:00:04.636Z"
   },
   {
    "duration": 279,
    "start_time": "2022-01-21T13:00:14.144Z"
   },
   {
    "duration": 232,
    "start_time": "2022-01-21T13:00:51.775Z"
   },
   {
    "duration": 222,
    "start_time": "2022-01-21T13:01:02.631Z"
   },
   {
    "duration": 207,
    "start_time": "2022-01-21T13:01:28.162Z"
   },
   {
    "duration": 211,
    "start_time": "2022-01-21T13:01:42.647Z"
   },
   {
    "duration": 207,
    "start_time": "2022-01-21T13:01:45.776Z"
   },
   {
    "duration": 293,
    "start_time": "2022-01-21T13:03:12.813Z"
   },
   {
    "duration": 11,
    "start_time": "2022-01-21T13:03:31.760Z"
   },
   {
    "duration": 12,
    "start_time": "2022-01-21T13:03:40.124Z"
   },
   {
    "duration": 358,
    "start_time": "2022-01-24T07:36:51.190Z"
   },
   {
    "duration": 895,
    "start_time": "2022-01-24T07:36:57.523Z"
   },
   {
    "duration": 147,
    "start_time": "2022-01-24T07:37:00.478Z"
   },
   {
    "duration": 1615,
    "start_time": "2022-01-24T07:37:04.258Z"
   },
   {
    "duration": 1506,
    "start_time": "2022-01-24T07:38:51.856Z"
   },
   {
    "duration": 1525,
    "start_time": "2022-01-24T07:42:18.193Z"
   },
   {
    "duration": 131,
    "start_time": "2022-01-24T07:44:56.620Z"
   },
   {
    "duration": 457,
    "start_time": "2022-01-24T07:49:28.180Z"
   },
   {
    "duration": 1146,
    "start_time": "2022-01-24T07:53:53.285Z"
   },
   {
    "duration": 331,
    "start_time": "2022-01-24T07:55:26.167Z"
   },
   {
    "duration": 141,
    "start_time": "2022-01-24T07:57:22.491Z"
   },
   {
    "duration": 12,
    "start_time": "2022-01-24T07:57:28.897Z"
   },
   {
    "duration": 19,
    "start_time": "2022-01-24T07:57:53.090Z"
   },
   {
    "duration": 26,
    "start_time": "2022-01-24T07:58:10.597Z"
   },
   {
    "duration": 380,
    "start_time": "2022-01-24T07:58:40.356Z"
   },
   {
    "duration": 434,
    "start_time": "2022-01-24T07:59:09.659Z"
   },
   {
    "duration": 377,
    "start_time": "2022-01-24T07:59:25.632Z"
   },
   {
    "duration": 832,
    "start_time": "2022-01-24T08:01:38.331Z"
   },
   {
    "duration": 702,
    "start_time": "2022-01-24T08:01:53.132Z"
   },
   {
    "duration": 41,
    "start_time": "2022-01-24T08:15:01.189Z"
   },
   {
    "duration": 44,
    "start_time": "2022-01-24T08:15:34.610Z"
   },
   {
    "duration": 47,
    "start_time": "2022-01-24T08:15:52.994Z"
   },
   {
    "duration": 24388,
    "start_time": "2022-01-24T08:18:00.674Z"
   },
   {
    "duration": 43,
    "start_time": "2022-01-24T08:18:28.047Z"
   },
   {
    "duration": 7688,
    "start_time": "2022-01-24T08:23:29.268Z"
   },
   {
    "duration": 16086,
    "start_time": "2022-01-24T08:25:01.494Z"
   },
   {
    "duration": 16899,
    "start_time": "2022-01-24T08:28:45.085Z"
   },
   {
    "duration": 15826,
    "start_time": "2022-01-24T08:32:30.679Z"
   },
   {
    "duration": 1176,
    "start_time": "2022-01-24T08:33:25.055Z"
   },
   {
    "duration": 40,
    "start_time": "2022-01-24T08:34:32.584Z"
   },
   {
    "duration": 38,
    "start_time": "2022-01-24T08:34:41.862Z"
   },
   {
    "duration": 923,
    "start_time": "2022-01-24T08:35:10.735Z"
   },
   {
    "duration": 146,
    "start_time": "2022-01-24T08:35:11.661Z"
   },
   {
    "duration": 1219,
    "start_time": "2022-01-24T08:35:11.814Z"
   },
   {
    "duration": 37,
    "start_time": "2022-01-24T08:35:13.036Z"
   },
   {
    "duration": 2515,
    "start_time": "2022-01-24T08:36:34.546Z"
   },
   {
    "duration": 388,
    "start_time": "2022-01-24T08:39:22.586Z"
   },
   {
    "duration": 279,
    "start_time": "2022-01-24T08:39:27.022Z"
   },
   {
    "duration": 840,
    "start_time": "2022-01-24T08:48:02.477Z"
   },
   {
    "duration": 145,
    "start_time": "2022-01-24T08:48:03.320Z"
   },
   {
    "duration": 1230,
    "start_time": "2022-01-24T08:48:03.468Z"
   },
   {
    "duration": 503,
    "start_time": "2022-01-24T08:48:04.700Z"
   },
   {
    "duration": 19573,
    "start_time": "2022-01-24T08:48:27.650Z"
   },
   {
    "duration": 20752,
    "start_time": "2022-01-24T08:49:20.313Z"
   },
   {
    "duration": 19434,
    "start_time": "2022-01-24T08:54:38.972Z"
   },
   {
    "duration": 48,
    "start_time": "2022-01-24T08:55:32.850Z"
   },
   {
    "duration": 51,
    "start_time": "2022-01-24T08:55:46.160Z"
   },
   {
    "duration": 96,
    "start_time": "2022-01-24T08:56:19.637Z"
   },
   {
    "duration": 19789,
    "start_time": "2022-01-24T09:03:33.535Z"
   },
   {
    "duration": 448,
    "start_time": "2022-01-24T09:18:35.791Z"
   },
   {
    "duration": 53,
    "start_time": "2022-01-24T09:21:19.684Z"
   },
   {
    "duration": 358,
    "start_time": "2022-01-24T09:21:42.801Z"
   },
   {
    "duration": 52,
    "start_time": "2022-01-24T09:21:50.950Z"
   },
   {
    "duration": 355,
    "start_time": "2022-01-24T09:22:19.671Z"
   },
   {
    "duration": 48,
    "start_time": "2022-01-24T09:22:41.662Z"
   },
   {
    "duration": 45,
    "start_time": "2022-01-24T09:22:54.480Z"
   },
   {
    "duration": 43,
    "start_time": "2022-01-24T09:26:10.468Z"
   },
   {
    "duration": 48,
    "start_time": "2022-01-24T09:27:20.481Z"
   },
   {
    "duration": 47,
    "start_time": "2022-01-24T09:28:49.888Z"
   },
   {
    "duration": 49,
    "start_time": "2022-01-24T09:29:13.327Z"
   },
   {
    "duration": 105,
    "start_time": "2022-01-24T09:33:53.190Z"
   },
   {
    "duration": 459,
    "start_time": "2022-01-24T09:34:16.952Z"
   },
   {
    "duration": 1320,
    "start_time": "2022-01-24T09:34:52.579Z"
   },
   {
    "duration": 153,
    "start_time": "2022-01-24T09:34:53.902Z"
   },
   {
    "duration": 1228,
    "start_time": "2022-01-24T09:34:54.059Z"
   },
   {
    "duration": 551,
    "start_time": "2022-01-24T09:34:55.290Z"
   },
   {
    "duration": 108,
    "start_time": "2022-01-24T09:37:31.697Z"
   },
   {
    "duration": 117,
    "start_time": "2022-01-24T09:37:55.845Z"
   },
   {
    "duration": 96,
    "start_time": "2022-01-24T12:39:03.049Z"
   },
   {
    "duration": 112,
    "start_time": "2022-01-24T12:39:23.248Z"
   },
   {
    "duration": 304,
    "start_time": "2022-01-24T12:39:48.204Z"
   },
   {
    "duration": 895,
    "start_time": "2022-01-24T12:39:54.314Z"
   },
   {
    "duration": 159,
    "start_time": "2022-01-24T12:39:57.669Z"
   },
   {
    "duration": 1328,
    "start_time": "2022-01-24T12:40:00.898Z"
   },
   {
    "duration": 382,
    "start_time": "2022-01-24T12:40:04.402Z"
   },
   {
    "duration": 444,
    "start_time": "2022-01-24T12:40:25.514Z"
   },
   {
    "duration": 323,
    "start_time": "2022-01-24T12:40:37.888Z"
   },
   {
    "duration": 396,
    "start_time": "2022-01-24T12:41:07.839Z"
   },
   {
    "duration": 315,
    "start_time": "2022-01-24T12:41:13.539Z"
   },
   {
    "duration": 66,
    "start_time": "2022-01-24T12:41:34.949Z"
   },
   {
    "duration": 78,
    "start_time": "2022-01-24T12:41:42.798Z"
   },
   {
    "duration": 64,
    "start_time": "2022-01-24T12:42:43.703Z"
   },
   {
    "duration": 75,
    "start_time": "2022-01-24T12:42:53.038Z"
   },
   {
    "duration": 75,
    "start_time": "2022-01-24T12:43:33.363Z"
   },
   {
    "duration": 75,
    "start_time": "2022-01-24T12:44:02.167Z"
   },
   {
    "duration": 63,
    "start_time": "2022-01-24T12:45:24.314Z"
   },
   {
    "duration": 76,
    "start_time": "2022-01-24T12:46:17.615Z"
   },
   {
    "duration": 90,
    "start_time": "2022-01-24T12:49:56.116Z"
   },
   {
    "duration": 93,
    "start_time": "2022-01-24T12:54:05.803Z"
   },
   {
    "duration": 458,
    "start_time": "2022-01-24T12:56:29.245Z"
   },
   {
    "duration": 519,
    "start_time": "2022-01-24T12:56:39.766Z"
   },
   {
    "duration": 82,
    "start_time": "2022-01-24T12:57:06.031Z"
   },
   {
    "duration": 193,
    "start_time": "2022-01-24T13:05:52.029Z"
   },
   {
    "duration": 130,
    "start_time": "2022-01-24T13:05:59.971Z"
   },
   {
    "duration": 86,
    "start_time": "2022-01-24T13:06:26.350Z"
   },
   {
    "duration": 492,
    "start_time": "2022-01-24T13:06:40.726Z"
   },
   {
    "duration": 335,
    "start_time": "2022-01-24T13:06:49.013Z"
   },
   {
    "duration": 497,
    "start_time": "2022-01-24T13:10:50.516Z"
   },
   {
    "duration": 504,
    "start_time": "2022-01-24T13:11:50.644Z"
   },
   {
    "duration": 77,
    "start_time": "2022-01-24T13:11:59.765Z"
   },
   {
    "duration": 77,
    "start_time": "2022-01-24T13:13:37.200Z"
   },
   {
    "duration": 76,
    "start_time": "2022-01-24T13:15:42.709Z"
   },
   {
    "duration": 79,
    "start_time": "2022-01-24T13:16:09.499Z"
   },
   {
    "duration": 77,
    "start_time": "2022-01-24T13:16:26.318Z"
   },
   {
    "duration": 327,
    "start_time": "2022-01-24T13:16:43.599Z"
   },
   {
    "duration": 79,
    "start_time": "2022-01-24T13:17:19.892Z"
   },
   {
    "duration": 97,
    "start_time": "2022-01-24T13:17:40.068Z"
   },
   {
    "duration": 91,
    "start_time": "2022-01-24T13:17:46.313Z"
   },
   {
    "duration": 77,
    "start_time": "2022-01-24T13:18:26.713Z"
   },
   {
    "duration": 78,
    "start_time": "2022-01-24T13:20:10.268Z"
   },
   {
    "duration": 75,
    "start_time": "2022-01-24T13:20:24.566Z"
   },
   {
    "duration": 78,
    "start_time": "2022-01-24T13:21:26.356Z"
   },
   {
    "duration": 486,
    "start_time": "2022-01-24T13:21:37.015Z"
   },
   {
    "duration": 355,
    "start_time": "2022-01-24T13:21:55.181Z"
   },
   {
    "duration": 74,
    "start_time": "2022-01-24T13:23:11.626Z"
   },
   {
    "duration": 75,
    "start_time": "2022-01-24T13:23:31.527Z"
   },
   {
    "duration": 77,
    "start_time": "2022-01-24T13:23:46.874Z"
   },
   {
    "duration": 74,
    "start_time": "2022-01-24T13:24:31.677Z"
   },
   {
    "duration": 78,
    "start_time": "2022-01-24T13:24:45.562Z"
   },
   {
    "duration": 398,
    "start_time": "2022-01-24T13:28:23.830Z"
   },
   {
    "duration": 680,
    "start_time": "2022-01-24T13:28:35.293Z"
   },
   {
    "duration": 444,
    "start_time": "2022-01-24T13:31:28.747Z"
   },
   {
    "duration": 351,
    "start_time": "2022-01-24T13:32:02.565Z"
   },
   {
    "duration": 513,
    "start_time": "2022-01-24T13:32:09.923Z"
   },
   {
    "duration": 432,
    "start_time": "2022-01-24T13:32:15.357Z"
   },
   {
    "duration": 429,
    "start_time": "2022-01-24T13:34:22.231Z"
   },
   {
    "duration": 1616,
    "start_time": "2022-01-24T13:34:29.831Z"
   },
   {
    "duration": 433,
    "start_time": "2022-01-24T13:34:47.375Z"
   },
   {
    "duration": 80,
    "start_time": "2022-01-24T13:36:07.273Z"
   },
   {
    "duration": 140,
    "start_time": "2022-01-24T13:36:13.794Z"
   },
   {
    "duration": 101,
    "start_time": "2022-01-24T13:36:57.173Z"
   },
   {
    "duration": 76,
    "start_time": "2022-01-24T13:37:02.335Z"
   },
   {
    "duration": 75,
    "start_time": "2022-01-24T13:37:11.842Z"
   },
   {
    "duration": 78,
    "start_time": "2022-01-24T13:37:23.689Z"
   },
   {
    "duration": 80,
    "start_time": "2022-01-24T13:37:27.611Z"
   },
   {
    "duration": 74,
    "start_time": "2022-01-24T13:38:22.725Z"
   },
   {
    "duration": 78,
    "start_time": "2022-01-24T13:38:28.310Z"
   },
   {
    "duration": 93,
    "start_time": "2022-01-24T13:39:25.174Z"
   },
   {
    "duration": 78,
    "start_time": "2022-01-24T13:39:41.322Z"
   },
   {
    "duration": 83,
    "start_time": "2022-01-24T13:39:44.096Z"
   },
   {
    "duration": 751,
    "start_time": "2022-01-24T13:41:01.699Z"
   },
   {
    "duration": 395,
    "start_time": "2022-01-24T13:41:17.041Z"
   },
   {
    "duration": 620,
    "start_time": "2022-01-24T13:41:47.074Z"
   },
   {
    "duration": 606,
    "start_time": "2022-01-24T13:41:52.600Z"
   },
   {
    "duration": 633,
    "start_time": "2022-01-24T13:44:30.522Z"
   },
   {
    "duration": 863,
    "start_time": "2022-01-24T13:44:44.662Z"
   },
   {
    "duration": 593,
    "start_time": "2022-01-24T13:44:51.472Z"
   },
   {
    "duration": 433,
    "start_time": "2022-01-24T13:45:55.841Z"
   },
   {
    "duration": 338,
    "start_time": "2022-01-24T13:46:07.748Z"
   },
   {
    "duration": 141,
    "start_time": "2022-01-24T13:49:02.647Z"
   },
   {
    "duration": 361,
    "start_time": "2022-01-24T13:51:11.462Z"
   },
   {
    "duration": 448,
    "start_time": "2022-01-24T13:51:29.656Z"
   },
   {
    "duration": 480,
    "start_time": "2022-01-24T13:51:52.388Z"
   },
   {
    "duration": 419,
    "start_time": "2022-01-24T13:57:51.876Z"
   },
   {
    "duration": 447,
    "start_time": "2022-01-24T13:58:09.679Z"
   },
   {
    "duration": 452,
    "start_time": "2022-01-24T13:58:37.216Z"
   },
   {
    "duration": 417,
    "start_time": "2022-01-24T13:58:44.921Z"
   },
   {
    "duration": 454,
    "start_time": "2022-01-24T14:00:10.167Z"
   },
   {
    "duration": 425,
    "start_time": "2022-01-24T14:01:48.705Z"
   },
   {
    "duration": 1391,
    "start_time": "2022-01-24T14:01:54.210Z"
   },
   {
    "duration": 86,
    "start_time": "2022-01-24T14:02:01.624Z"
   },
   {
    "duration": 417,
    "start_time": "2022-01-24T14:02:05.290Z"
   },
   {
    "duration": 412,
    "start_time": "2022-01-24T14:02:59.272Z"
   },
   {
    "duration": 422,
    "start_time": "2022-01-24T14:03:02.204Z"
   },
   {
    "duration": 518,
    "start_time": "2022-01-24T14:08:46.258Z"
   },
   {
    "duration": 460,
    "start_time": "2022-01-24T14:08:52.210Z"
   },
   {
    "duration": 435,
    "start_time": "2022-01-24T14:09:14.440Z"
   },
   {
    "duration": 518,
    "start_time": "2022-01-24T14:09:23.149Z"
   },
   {
    "duration": 405,
    "start_time": "2022-01-24T14:12:32.627Z"
   },
   {
    "duration": 391,
    "start_time": "2022-01-24T14:12:47.227Z"
   },
   {
    "duration": 560,
    "start_time": "2022-01-24T14:12:52.377Z"
   },
   {
    "duration": 481,
    "start_time": "2022-01-24T14:13:01.943Z"
   },
   {
    "duration": 537,
    "start_time": "2022-01-24T14:21:12.399Z"
   },
   {
    "duration": 6476,
    "start_time": "2022-01-24T14:21:59.282Z"
   },
   {
    "duration": 718,
    "start_time": "2022-01-24T14:24:09.380Z"
   },
   {
    "duration": 441,
    "start_time": "2022-01-24T14:24:18.023Z"
   },
   {
    "duration": 531,
    "start_time": "2022-01-24T14:27:39.614Z"
   },
   {
    "duration": 457,
    "start_time": "2022-01-24T14:27:47.568Z"
   },
   {
    "duration": 439,
    "start_time": "2022-01-24T14:28:40.536Z"
   },
   {
    "duration": 384,
    "start_time": "2022-01-24T14:30:00.847Z"
   },
   {
    "duration": 97,
    "start_time": "2022-01-24T14:33:36.437Z"
   },
   {
    "duration": 100,
    "start_time": "2022-01-24T14:34:17.296Z"
   },
   {
    "duration": 104,
    "start_time": "2022-01-24T14:34:32.046Z"
   },
   {
    "duration": 114,
    "start_time": "2022-01-24T14:37:33.954Z"
   },
   {
    "duration": 101,
    "start_time": "2022-01-24T14:37:39.238Z"
   },
   {
    "duration": 89,
    "start_time": "2022-01-24T14:41:11.730Z"
   },
   {
    "duration": 96,
    "start_time": "2022-01-24T14:41:56.675Z"
   },
   {
    "duration": 91,
    "start_time": "2022-01-24T14:42:04.020Z"
   },
   {
    "duration": 9918,
    "start_time": "2022-01-24T14:42:26.521Z"
   },
   {
    "duration": 8917,
    "start_time": "2022-01-24T14:42:50.088Z"
   },
   {
    "duration": 107,
    "start_time": "2022-01-24T14:46:34.964Z"
   },
   {
    "duration": 104,
    "start_time": "2022-01-24T14:48:18.437Z"
   },
   {
    "duration": 1333,
    "start_time": "2022-01-24T14:52:20.078Z"
   },
   {
    "duration": 11714,
    "start_time": "2022-01-24T14:53:34.413Z"
   },
   {
    "duration": 13101,
    "start_time": "2022-01-24T14:54:02.435Z"
   },
   {
    "duration": 147,
    "start_time": "2022-01-24T15:00:11.959Z"
   },
   {
    "duration": 151,
    "start_time": "2022-01-24T15:00:24.943Z"
   },
   {
    "duration": 134,
    "start_time": "2022-01-24T15:00:42.449Z"
   },
   {
    "duration": 516,
    "start_time": "2022-01-24T15:17:33.051Z"
   },
   {
    "duration": 502,
    "start_time": "2022-01-24T15:18:24.513Z"
   },
   {
    "duration": 539,
    "start_time": "2022-01-24T15:18:36.379Z"
   },
   {
    "duration": 535,
    "start_time": "2022-01-24T15:20:40.769Z"
   },
   {
    "duration": 810,
    "start_time": "2022-01-24T15:24:10.141Z"
   },
   {
    "duration": 525,
    "start_time": "2022-01-24T15:24:36.131Z"
   },
   {
    "duration": 529,
    "start_time": "2022-01-24T15:24:53.020Z"
   },
   {
    "duration": 496,
    "start_time": "2022-01-24T15:27:28.597Z"
   },
   {
    "duration": 504,
    "start_time": "2022-01-24T15:27:53.296Z"
   },
   {
    "duration": 570,
    "start_time": "2022-01-24T15:28:00.150Z"
   },
   {
    "duration": 113,
    "start_time": "2022-01-24T15:29:26.718Z"
   },
   {
    "duration": 425,
    "start_time": "2022-01-24T15:30:11.472Z"
   },
   {
    "duration": 426,
    "start_time": "2022-01-24T15:32:24.951Z"
   },
   {
    "duration": 501,
    "start_time": "2022-01-24T15:33:55.946Z"
   },
   {
    "duration": 504,
    "start_time": "2022-01-24T15:34:24.264Z"
   },
   {
    "duration": 470,
    "start_time": "2022-01-24T15:35:45.821Z"
   },
   {
    "duration": 759,
    "start_time": "2022-01-24T15:38:44.893Z"
   },
   {
    "duration": 658,
    "start_time": "2022-01-24T15:39:16.401Z"
   },
   {
    "duration": 523,
    "start_time": "2022-01-24T15:40:58.967Z"
   },
   {
    "duration": 834,
    "start_time": "2022-01-24T15:41:19.077Z"
   },
   {
    "duration": 918,
    "start_time": "2022-01-24T15:41:29.615Z"
   },
   {
    "duration": 771,
    "start_time": "2022-01-24T15:41:40.128Z"
   },
   {
    "duration": 558,
    "start_time": "2022-01-24T16:04:24.160Z"
   },
   {
    "duration": 523,
    "start_time": "2022-01-24T16:04:44.044Z"
   },
   {
    "duration": 566,
    "start_time": "2022-01-24T16:06:21.729Z"
   },
   {
    "duration": 514,
    "start_time": "2022-01-24T16:06:38.716Z"
   },
   {
    "duration": 528,
    "start_time": "2022-01-24T16:08:54.500Z"
   },
   {
    "duration": 852,
    "start_time": "2022-01-24T16:09:02.356Z"
   },
   {
    "duration": 503,
    "start_time": "2022-01-24T16:09:12.270Z"
   },
   {
    "duration": 533,
    "start_time": "2022-01-24T16:09:33.291Z"
   },
   {
    "duration": 121,
    "start_time": "2022-01-24T16:10:59.593Z"
   },
   {
    "duration": 15931,
    "start_time": "2022-01-24T16:12:21.775Z"
   },
   {
    "duration": 21952,
    "start_time": "2022-01-24T16:15:23.701Z"
   },
   {
    "duration": 12761,
    "start_time": "2022-01-24T16:17:05.864Z"
   },
   {
    "duration": 1543,
    "start_time": "2022-01-24T16:28:13.712Z"
   },
   {
    "duration": 185,
    "start_time": "2022-01-24T16:28:15.258Z"
   },
   {
    "duration": 1459,
    "start_time": "2022-01-24T16:28:15.446Z"
   },
   {
    "duration": 14123,
    "start_time": "2022-01-24T16:28:16.908Z"
   },
   {
    "duration": 115,
    "start_time": "2022-01-24T16:39:14.583Z"
   },
   {
    "duration": 120,
    "start_time": "2022-01-24T16:39:36.124Z"
   },
   {
    "duration": 130,
    "start_time": "2022-01-24T16:40:12.724Z"
   },
   {
    "duration": 136,
    "start_time": "2022-01-24T16:42:39.378Z"
   },
   {
    "duration": 127,
    "start_time": "2022-01-24T16:43:28.238Z"
   },
   {
    "duration": 13793,
    "start_time": "2022-01-24T17:31:11.709Z"
   },
   {
    "duration": 380,
    "start_time": "2022-02-01T12:16:12.823Z"
   },
   {
    "duration": 717,
    "start_time": "2022-02-01T12:16:22.560Z"
   },
   {
    "duration": 38,
    "start_time": "2022-02-01T12:16:23.278Z"
   },
   {
    "duration": 98,
    "start_time": "2022-02-01T12:16:23.318Z"
   },
   {
    "duration": 733,
    "start_time": "2022-02-01T12:16:23.418Z"
   },
   {
    "duration": 81,
    "start_time": "2022-02-01T12:16:24.152Z"
   },
   {
    "duration": 28,
    "start_time": "2022-02-01T12:21:07.623Z"
   },
   {
    "duration": 26,
    "start_time": "2022-02-01T12:22:36.407Z"
   },
   {
    "duration": 25,
    "start_time": "2022-02-01T12:22:43.651Z"
   },
   {
    "duration": 25,
    "start_time": "2022-02-01T12:23:17.739Z"
   },
   {
    "duration": 11,
    "start_time": "2022-02-01T12:33:13.871Z"
   },
   {
    "duration": 43,
    "start_time": "2022-02-01T12:35:02.468Z"
   },
   {
    "duration": 680,
    "start_time": "2022-02-01T12:39:57.672Z"
   },
   {
    "duration": 32,
    "start_time": "2022-02-01T12:41:02.962Z"
   },
   {
    "duration": 225,
    "start_time": "2022-02-01T12:43:00.118Z"
   },
   {
    "duration": 224,
    "start_time": "2022-02-01T12:43:58.907Z"
   },
   {
    "duration": 175,
    "start_time": "2022-02-01T12:44:45.924Z"
   },
   {
    "duration": 189,
    "start_time": "2022-02-01T12:45:14.767Z"
   },
   {
    "duration": 233,
    "start_time": "2022-02-01T12:46:30.949Z"
   },
   {
    "duration": 286,
    "start_time": "2022-02-01T12:46:45.445Z"
   },
   {
    "duration": 218,
    "start_time": "2022-02-01T12:47:53.716Z"
   },
   {
    "duration": 8821,
    "start_time": "2022-02-01T12:49:30.556Z"
   },
   {
    "duration": 8474,
    "start_time": "2022-02-01T12:52:17.499Z"
   },
   {
    "duration": 29,
    "start_time": "2022-02-01T12:54:19.420Z"
   },
   {
    "duration": 9,
    "start_time": "2022-02-01T12:54:22.070Z"
   },
   {
    "duration": 7,
    "start_time": "2022-02-01T12:54:24.354Z"
   },
   {
    "duration": 159,
    "start_time": "2022-02-01T12:57:01.490Z"
   },
   {
    "duration": 13,
    "start_time": "2022-02-01T12:57:35.376Z"
   },
   {
    "duration": 152,
    "start_time": "2022-02-01T12:57:59.229Z"
   },
   {
    "duration": 155,
    "start_time": "2022-02-01T12:58:03.991Z"
   },
   {
    "duration": 152,
    "start_time": "2022-02-01T12:58:13.038Z"
   },
   {
    "duration": 141,
    "start_time": "2022-02-01T12:59:53.639Z"
   },
   {
    "duration": 187,
    "start_time": "2022-02-01T13:01:35.475Z"
   },
   {
    "duration": 7843,
    "start_time": "2022-02-01T13:08:11.613Z"
   },
   {
    "duration": 3129,
    "start_time": "2022-02-01T13:09:48.822Z"
   },
   {
    "duration": 4674,
    "start_time": "2022-02-01T13:10:20.856Z"
   },
   {
    "duration": 4988,
    "start_time": "2022-02-01T13:11:32.309Z"
   },
   {
    "duration": 662,
    "start_time": "2022-02-01T13:12:03.208Z"
   },
   {
    "duration": 37,
    "start_time": "2022-02-01T13:12:03.872Z"
   },
   {
    "duration": 23,
    "start_time": "2022-02-01T13:12:03.913Z"
   },
   {
    "duration": 6,
    "start_time": "2022-02-01T13:12:03.938Z"
   },
   {
    "duration": 29,
    "start_time": "2022-02-01T13:12:03.945Z"
   },
   {
    "duration": 8,
    "start_time": "2022-02-01T13:12:03.975Z"
   },
   {
    "duration": 5,
    "start_time": "2022-02-01T13:12:03.985Z"
   },
   {
    "duration": 5,
    "start_time": "2022-02-01T13:12:03.992Z"
   },
   {
    "duration": 5,
    "start_time": "2022-02-01T13:12:03.998Z"
   },
   {
    "duration": 5,
    "start_time": "2022-02-01T13:12:04.004Z"
   },
   {
    "duration": 11,
    "start_time": "2022-02-01T13:12:04.011Z"
   },
   {
    "duration": 84,
    "start_time": "2022-02-01T13:12:04.024Z"
   },
   {
    "duration": 700,
    "start_time": "2022-02-01T13:12:04.109Z"
   },
   {
    "duration": 37,
    "start_time": "2022-02-01T13:12:04.811Z"
   },
   {
    "duration": 282,
    "start_time": "2022-02-01T13:12:04.849Z"
   },
   {
    "duration": 248,
    "start_time": "2022-02-01T13:12:05.133Z"
   },
   {
    "duration": 179,
    "start_time": "2022-02-01T13:12:05.383Z"
   },
   {
    "duration": 201,
    "start_time": "2022-02-01T13:12:05.564Z"
   },
   {
    "duration": 227,
    "start_time": "2022-02-01T13:12:05.766Z"
   },
   {
    "duration": 225,
    "start_time": "2022-02-01T13:12:05.995Z"
   },
   {
    "duration": 8329,
    "start_time": "2022-02-01T13:12:06.222Z"
   },
   {
    "duration": 40,
    "start_time": "2022-02-01T13:12:14.553Z"
   },
   {
    "duration": 7,
    "start_time": "2022-02-01T13:12:14.594Z"
   },
   {
    "duration": 7,
    "start_time": "2022-02-01T13:12:14.603Z"
   },
   {
    "duration": 177,
    "start_time": "2022-02-01T13:12:14.611Z"
   },
   {
    "duration": 124,
    "start_time": "2022-02-01T13:12:14.790Z"
   },
   {
    "duration": 194,
    "start_time": "2022-02-01T13:12:14.916Z"
   },
   {
    "duration": 193,
    "start_time": "2022-02-01T13:12:15.112Z"
   },
   {
    "duration": 166,
    "start_time": "2022-02-01T13:12:15.307Z"
   },
   {
    "duration": 209,
    "start_time": "2022-02-01T13:12:15.475Z"
   },
   {
    "duration": 4288,
    "start_time": "2022-02-01T13:12:15.685Z"
   },
   {
    "duration": 475,
    "start_time": "2022-02-02T05:06:21.528Z"
   },
   {
    "duration": 960,
    "start_time": "2022-02-02T05:06:28.227Z"
   },
   {
    "duration": 71,
    "start_time": "2022-02-02T05:06:29.190Z"
   },
   {
    "duration": 39,
    "start_time": "2022-02-02T05:06:29.264Z"
   },
   {
    "duration": 10,
    "start_time": "2022-02-02T05:06:29.324Z"
   },
   {
    "duration": 9,
    "start_time": "2022-02-02T05:06:29.337Z"
   },
   {
    "duration": 11,
    "start_time": "2022-02-02T05:06:29.348Z"
   },
   {
    "duration": 7,
    "start_time": "2022-02-02T05:06:29.362Z"
   },
   {
    "duration": 52,
    "start_time": "2022-02-02T05:06:29.374Z"
   },
   {
    "duration": 8,
    "start_time": "2022-02-02T05:06:29.430Z"
   },
   {
    "duration": 9,
    "start_time": "2022-02-02T05:06:29.441Z"
   },
   {
    "duration": 10,
    "start_time": "2022-02-02T05:06:29.452Z"
   },
   {
    "duration": 124,
    "start_time": "2022-02-02T05:06:29.465Z"
   },
   {
    "duration": 1263,
    "start_time": "2022-02-02T05:06:29.591Z"
   },
   {
    "duration": 73,
    "start_time": "2022-02-02T05:06:30.856Z"
   },
   {
    "duration": 485,
    "start_time": "2022-02-02T05:06:30.931Z"
   },
   {
    "duration": 442,
    "start_time": "2022-02-02T05:06:31.423Z"
   },
   {
    "duration": 310,
    "start_time": "2022-02-02T05:06:31.868Z"
   },
   {
    "duration": 145,
    "start_time": "2022-02-02T05:06:32.180Z"
   },
   {
    "duration": 358,
    "start_time": "2022-02-02T05:06:32.327Z"
   },
   {
    "duration": 408,
    "start_time": "2022-02-02T05:06:32.688Z"
   },
   {
    "duration": 428,
    "start_time": "2022-02-02T05:06:33.098Z"
   },
   {
    "duration": 12403,
    "start_time": "2022-02-02T05:06:33.528Z"
   },
   {
    "duration": 47,
    "start_time": "2022-02-02T05:06:45.934Z"
   },
   {
    "duration": 40,
    "start_time": "2022-02-02T05:06:45.984Z"
   },
   {
    "duration": 14,
    "start_time": "2022-02-02T05:06:46.028Z"
   },
   {
    "duration": 317,
    "start_time": "2022-02-02T05:06:46.045Z"
   },
   {
    "duration": 176,
    "start_time": "2022-02-02T05:06:46.367Z"
   },
   {
    "duration": 359,
    "start_time": "2022-02-02T05:06:46.545Z"
   },
   {
    "duration": 353,
    "start_time": "2022-02-02T05:06:46.907Z"
   },
   {
    "duration": 301,
    "start_time": "2022-02-02T05:06:47.263Z"
   },
   {
    "duration": 375,
    "start_time": "2022-02-02T05:06:47.566Z"
   },
   {
    "duration": 8523,
    "start_time": "2022-02-02T05:06:47.944Z"
   },
   {
    "duration": 5,
    "start_time": "2022-02-02T05:08:58.837Z"
   },
   {
    "duration": 1311,
    "start_time": "2022-02-02T08:36:24.676Z"
   },
   {
    "duration": 1559,
    "start_time": "2022-02-02T08:36:38.296Z"
   },
   {
    "duration": 27,
    "start_time": "2022-02-02T08:54:18.598Z"
   },
   {
    "duration": 879,
    "start_time": "2022-02-02T14:02:52.305Z"
   },
   {
    "duration": 50,
    "start_time": "2022-02-02T14:12:08.743Z"
   },
   {
    "duration": 33,
    "start_time": "2022-02-02T14:12:12.413Z"
   },
   {
    "duration": 10,
    "start_time": "2022-02-02T14:12:15.785Z"
   },
   {
    "duration": 9,
    "start_time": "2022-02-02T14:12:20.187Z"
   },
   {
    "duration": 12,
    "start_time": "2022-02-02T14:12:27.504Z"
   },
   {
    "duration": 7,
    "start_time": "2022-02-02T14:12:39.333Z"
   },
   {
    "duration": 8,
    "start_time": "2022-02-02T14:12:42.814Z"
   },
   {
    "duration": 7,
    "start_time": "2022-02-02T14:12:47.755Z"
   },
   {
    "duration": 8,
    "start_time": "2022-02-02T14:12:51.332Z"
   },
   {
    "duration": 84,
    "start_time": "2022-02-02T14:13:21.943Z"
   },
   {
    "duration": 14,
    "start_time": "2022-02-02T14:14:36.632Z"
   },
   {
    "duration": 12,
    "start_time": "2022-02-02T14:16:29.494Z"
   },
   {
    "duration": 10,
    "start_time": "2022-02-02T14:31:49.219Z"
   },
   {
    "duration": 11,
    "start_time": "2022-02-02T14:32:50.536Z"
   },
   {
    "duration": 11,
    "start_time": "2022-02-02T14:33:34.462Z"
   },
   {
    "duration": 17,
    "start_time": "2022-02-02T14:35:08.524Z"
   },
   {
    "duration": 21,
    "start_time": "2022-02-02T14:35:40.975Z"
   },
   {
    "duration": 16,
    "start_time": "2022-02-02T14:36:00.176Z"
   },
   {
    "duration": 17,
    "start_time": "2022-02-02T14:36:23.946Z"
   },
   {
    "duration": 17,
    "start_time": "2022-02-02T14:36:37.453Z"
   },
   {
    "duration": 14,
    "start_time": "2022-02-02T14:37:22.841Z"
   },
   {
    "duration": 5590,
    "start_time": "2022-02-02T14:39:10.012Z"
   },
   {
    "duration": 11,
    "start_time": "2022-02-02T14:39:33.748Z"
   },
   {
    "duration": 16,
    "start_time": "2022-02-02T14:40:03.815Z"
   },
   {
    "duration": 14,
    "start_time": "2022-02-02T14:40:31.345Z"
   },
   {
    "duration": 17,
    "start_time": "2022-02-02T14:41:01.620Z"
   },
   {
    "duration": 18,
    "start_time": "2022-02-02T14:41:09.844Z"
   },
   {
    "duration": 236,
    "start_time": "2022-02-02T14:43:04.456Z"
   },
   {
    "duration": 2175,
    "start_time": "2022-02-02T14:44:05.446Z"
   },
   {
    "duration": 2234,
    "start_time": "2022-02-02T14:44:21.077Z"
   },
   {
    "duration": 195,
    "start_time": "2022-02-02T14:46:10.352Z"
   },
   {
    "duration": 10,
    "start_time": "2022-02-02T14:49:12.260Z"
   },
   {
    "duration": 822,
    "start_time": "2022-02-02T14:50:05.824Z"
   },
   {
    "duration": 49,
    "start_time": "2022-02-02T14:50:09.029Z"
   },
   {
    "duration": 34,
    "start_time": "2022-02-02T14:50:12.416Z"
   },
   {
    "duration": 8,
    "start_time": "2022-02-02T14:50:15.272Z"
   },
   {
    "duration": 8,
    "start_time": "2022-02-02T14:50:17.080Z"
   },
   {
    "duration": 11,
    "start_time": "2022-02-02T14:50:19.154Z"
   },
   {
    "duration": 7,
    "start_time": "2022-02-02T14:50:21.278Z"
   },
   {
    "duration": 8,
    "start_time": "2022-02-02T14:50:23.611Z"
   },
   {
    "duration": 9,
    "start_time": "2022-02-02T14:50:26.807Z"
   },
   {
    "duration": 8,
    "start_time": "2022-02-02T14:50:29.818Z"
   },
   {
    "duration": 8,
    "start_time": "2022-02-02T14:50:32.052Z"
   },
   {
    "duration": 15,
    "start_time": "2022-02-02T14:51:18.731Z"
   },
   {
    "duration": 8,
    "start_time": "2022-02-02T14:52:04.644Z"
   },
   {
    "duration": 7,
    "start_time": "2022-02-02T14:53:04.475Z"
   },
   {
    "duration": 5,
    "start_time": "2022-02-02T14:53:09.362Z"
   },
   {
    "duration": 12,
    "start_time": "2022-02-02T14:53:19.867Z"
   },
   {
    "duration": 791,
    "start_time": "2022-02-02T15:08:11.153Z"
   },
   {
    "duration": 48,
    "start_time": "2022-02-02T15:08:11.946Z"
   },
   {
    "duration": 47,
    "start_time": "2022-02-02T15:08:11.997Z"
   },
   {
    "duration": 8,
    "start_time": "2022-02-02T15:08:12.046Z"
   },
   {
    "duration": 10,
    "start_time": "2022-02-02T15:08:12.056Z"
   },
   {
    "duration": 48,
    "start_time": "2022-02-02T15:08:12.068Z"
   },
   {
    "duration": 7,
    "start_time": "2022-02-02T15:08:12.119Z"
   },
   {
    "duration": 15,
    "start_time": "2022-02-02T15:08:12.129Z"
   },
   {
    "duration": 6,
    "start_time": "2022-02-02T15:08:12.147Z"
   },
   {
    "duration": 11,
    "start_time": "2022-02-02T15:08:12.154Z"
   },
   {
    "duration": 12,
    "start_time": "2022-02-02T15:08:12.167Z"
   },
   {
    "duration": 813,
    "start_time": "2022-02-02T15:09:19.271Z"
   },
   {
    "duration": 58,
    "start_time": "2022-02-02T15:09:20.087Z"
   },
   {
    "duration": 32,
    "start_time": "2022-02-02T15:09:20.148Z"
   },
   {
    "duration": 29,
    "start_time": "2022-02-02T15:09:20.182Z"
   },
   {
    "duration": 11,
    "start_time": "2022-02-02T15:09:20.214Z"
   },
   {
    "duration": 15,
    "start_time": "2022-02-02T15:09:20.227Z"
   },
   {
    "duration": 6,
    "start_time": "2022-02-02T15:09:20.244Z"
   },
   {
    "duration": 8,
    "start_time": "2022-02-02T15:09:20.253Z"
   },
   {
    "duration": 46,
    "start_time": "2022-02-02T15:09:20.263Z"
   },
   {
    "duration": 12,
    "start_time": "2022-02-02T15:09:20.314Z"
   },
   {
    "duration": 16,
    "start_time": "2022-02-02T15:09:20.328Z"
   },
   {
    "duration": 304,
    "start_time": "2022-02-02T15:09:20.346Z"
   },
   {
    "duration": -933,
    "start_time": "2022-02-02T15:09:21.586Z"
   },
   {
    "duration": -937,
    "start_time": "2022-02-02T15:09:21.591Z"
   },
   {
    "duration": -945,
    "start_time": "2022-02-02T15:09:21.600Z"
   },
   {
    "duration": -947,
    "start_time": "2022-02-02T15:09:21.603Z"
   },
   {
    "duration": -951,
    "start_time": "2022-02-02T15:09:21.608Z"
   },
   {
    "duration": -959,
    "start_time": "2022-02-02T15:09:21.618Z"
   },
   {
    "duration": -961,
    "start_time": "2022-02-02T15:09:21.621Z"
   },
   {
    "duration": -969,
    "start_time": "2022-02-02T15:09:21.630Z"
   },
   {
    "duration": -971,
    "start_time": "2022-02-02T15:09:21.633Z"
   },
   {
    "duration": -972,
    "start_time": "2022-02-02T15:09:21.635Z"
   },
   {
    "duration": -973,
    "start_time": "2022-02-02T15:09:21.637Z"
   },
   {
    "duration": -981,
    "start_time": "2022-02-02T15:09:21.646Z"
   },
   {
    "duration": -983,
    "start_time": "2022-02-02T15:09:21.649Z"
   },
   {
    "duration": -984,
    "start_time": "2022-02-02T15:09:21.651Z"
   },
   {
    "duration": -985,
    "start_time": "2022-02-02T15:09:21.653Z"
   },
   {
    "duration": -988,
    "start_time": "2022-02-02T15:09:21.657Z"
   },
   {
    "duration": -998,
    "start_time": "2022-02-02T15:09:21.669Z"
   },
   {
    "duration": -1000,
    "start_time": "2022-02-02T15:09:21.672Z"
   },
   {
    "duration": -1010,
    "start_time": "2022-02-02T15:09:21.683Z"
   },
   {
    "duration": 74,
    "start_time": "2022-02-02T15:19:01.003Z"
   },
   {
    "duration": 56,
    "start_time": "2022-02-02T15:24:01.345Z"
   },
   {
    "duration": 392,
    "start_time": "2022-02-02T15:24:36.531Z"
   },
   {
    "duration": 57,
    "start_time": "2022-02-02T15:24:44.881Z"
   },
   {
    "duration": 59,
    "start_time": "2022-02-02T15:25:00.409Z"
   },
   {
    "duration": 61,
    "start_time": "2022-02-02T15:28:05.102Z"
   },
   {
    "duration": 56,
    "start_time": "2022-02-02T15:31:13.839Z"
   },
   {
    "duration": 808,
    "start_time": "2022-02-02T15:31:29.154Z"
   },
   {
    "duration": 62,
    "start_time": "2022-02-02T15:31:35.001Z"
   },
   {
    "duration": 59,
    "start_time": "2022-02-02T15:33:20.238Z"
   },
   {
    "duration": 781,
    "start_time": "2022-02-02T15:33:39.847Z"
   },
   {
    "duration": 45,
    "start_time": "2022-02-02T15:33:40.631Z"
   },
   {
    "duration": 53,
    "start_time": "2022-02-02T15:33:40.678Z"
   },
   {
    "duration": 8,
    "start_time": "2022-02-02T15:33:40.733Z"
   },
   {
    "duration": 9,
    "start_time": "2022-02-02T15:33:40.743Z"
   },
   {
    "duration": 13,
    "start_time": "2022-02-02T15:33:40.754Z"
   },
   {
    "duration": 5,
    "start_time": "2022-02-02T15:33:40.770Z"
   },
   {
    "duration": 45,
    "start_time": "2022-02-02T15:33:40.778Z"
   },
   {
    "duration": 6,
    "start_time": "2022-02-02T15:33:40.826Z"
   },
   {
    "duration": 10,
    "start_time": "2022-02-02T15:33:40.834Z"
   },
   {
    "duration": 12,
    "start_time": "2022-02-02T15:33:40.845Z"
   },
   {
    "duration": 311,
    "start_time": "2022-02-02T15:33:40.858Z"
   },
   {
    "duration": -935,
    "start_time": "2022-02-02T15:33:42.107Z"
   },
   {
    "duration": -943,
    "start_time": "2022-02-02T15:33:42.116Z"
   },
   {
    "duration": -948,
    "start_time": "2022-02-02T15:33:42.122Z"
   },
   {
    "duration": -957,
    "start_time": "2022-02-02T15:33:42.132Z"
   },
   {
    "duration": -960,
    "start_time": "2022-02-02T15:33:42.136Z"
   },
   {
    "duration": -970,
    "start_time": "2022-02-02T15:33:42.147Z"
   },
   {
    "duration": -972,
    "start_time": "2022-02-02T15:33:42.150Z"
   },
   {
    "duration": -974,
    "start_time": "2022-02-02T15:33:42.153Z"
   },
   {
    "duration": -983,
    "start_time": "2022-02-02T15:33:42.162Z"
   },
   {
    "duration": -986,
    "start_time": "2022-02-02T15:33:42.166Z"
   },
   {
    "duration": -988,
    "start_time": "2022-02-02T15:33:42.169Z"
   },
   {
    "duration": -991,
    "start_time": "2022-02-02T15:33:42.173Z"
   },
   {
    "duration": -996,
    "start_time": "2022-02-02T15:33:42.180Z"
   },
   {
    "duration": -998,
    "start_time": "2022-02-02T15:33:42.183Z"
   },
   {
    "duration": -999,
    "start_time": "2022-02-02T15:33:42.185Z"
   },
   {
    "duration": -1002,
    "start_time": "2022-02-02T15:33:42.189Z"
   },
   {
    "duration": -1009,
    "start_time": "2022-02-02T15:33:42.197Z"
   },
   {
    "duration": -1011,
    "start_time": "2022-02-02T15:33:42.200Z"
   },
   {
    "duration": -1011,
    "start_time": "2022-02-02T15:33:42.202Z"
   },
   {
    "duration": 225,
    "start_time": "2022-02-02T15:33:57.826Z"
   },
   {
    "duration": 238,
    "start_time": "2022-02-02T15:34:59.836Z"
   },
   {
    "duration": 66,
    "start_time": "2022-02-02T15:36:07.552Z"
   },
   {
    "duration": 795,
    "start_time": "2022-02-02T15:43:41.800Z"
   },
   {
    "duration": 50,
    "start_time": "2022-02-02T15:43:42.597Z"
   },
   {
    "duration": 32,
    "start_time": "2022-02-02T15:43:42.650Z"
   },
   {
    "duration": 25,
    "start_time": "2022-02-02T15:43:42.684Z"
   },
   {
    "duration": 18,
    "start_time": "2022-02-02T15:43:42.711Z"
   },
   {
    "duration": 14,
    "start_time": "2022-02-02T15:43:42.731Z"
   },
   {
    "duration": 14,
    "start_time": "2022-02-02T15:43:42.747Z"
   },
   {
    "duration": 17,
    "start_time": "2022-02-02T15:43:42.764Z"
   },
   {
    "duration": 26,
    "start_time": "2022-02-02T15:43:42.783Z"
   },
   {
    "duration": 8,
    "start_time": "2022-02-02T15:43:42.811Z"
   },
   {
    "duration": 15,
    "start_time": "2022-02-02T15:43:42.821Z"
   },
   {
    "duration": 100,
    "start_time": "2022-02-02T15:43:42.839Z"
   },
   {
    "duration": 802,
    "start_time": "2022-02-02T15:43:42.941Z"
   },
   {
    "duration": 45,
    "start_time": "2022-02-02T15:43:43.746Z"
   },
   {
    "duration": 358,
    "start_time": "2022-02-02T15:43:43.808Z"
   },
   {
    "duration": 301,
    "start_time": "2022-02-02T15:43:44.168Z"
   },
   {
    "duration": 220,
    "start_time": "2022-02-02T15:43:44.471Z"
   },
   {
    "duration": 241,
    "start_time": "2022-02-02T15:43:44.693Z"
   },
   {
    "duration": 284,
    "start_time": "2022-02-02T15:43:44.936Z"
   },
   {
    "duration": 305,
    "start_time": "2022-02-02T15:43:45.222Z"
   },
   {
    "duration": 12014,
    "start_time": "2022-02-02T15:43:45.530Z"
   },
   {
    "duration": 34,
    "start_time": "2022-02-02T15:43:57.546Z"
   },
   {
    "duration": 10,
    "start_time": "2022-02-02T15:43:57.607Z"
   },
   {
    "duration": 11,
    "start_time": "2022-02-02T15:43:57.619Z"
   },
   {
    "duration": 314,
    "start_time": "2022-02-02T15:43:57.632Z"
   },
   {
    "duration": 44,
    "start_time": "2022-02-02T15:43:57.948Z"
   },
   {
    "duration": 251,
    "start_time": "2022-02-02T15:43:58.007Z"
   },
   {
    "duration": 244,
    "start_time": "2022-02-02T15:43:58.259Z"
   },
   {
    "duration": 200,
    "start_time": "2022-02-02T15:43:58.507Z"
   },
   {
    "duration": 251,
    "start_time": "2022-02-02T15:43:58.709Z"
   },
   {
    "duration": 7398,
    "start_time": "2022-02-02T15:43:58.962Z"
   },
   {
    "duration": 228,
    "start_time": "2022-02-02T15:44:55.122Z"
   },
   {
    "duration": 266,
    "start_time": "2022-02-02T15:45:36.861Z"
   },
   {
    "duration": 311,
    "start_time": "2022-02-02T15:49:33.298Z"
   },
   {
    "duration": 101,
    "start_time": "2022-02-02T15:50:13.040Z"
   },
   {
    "duration": 423,
    "start_time": "2022-02-02T15:50:19.413Z"
   },
   {
    "duration": 308,
    "start_time": "2022-02-02T15:51:22.535Z"
   },
   {
    "duration": 306,
    "start_time": "2022-02-02T15:51:29.725Z"
   },
   {
    "duration": 554,
    "start_time": "2022-02-02T15:54:08.094Z"
   },
   {
    "duration": 591,
    "start_time": "2022-02-02T15:54:25.206Z"
   },
   {
    "duration": 572,
    "start_time": "2022-02-02T15:56:38.316Z"
   },
   {
    "duration": 328,
    "start_time": "2022-02-02T15:57:00.066Z"
   },
   {
    "duration": 392,
    "start_time": "2022-02-02T15:57:50.047Z"
   },
   {
    "duration": 313,
    "start_time": "2022-02-02T15:58:32.758Z"
   },
   {
    "duration": 257,
    "start_time": "2022-02-02T15:58:38.327Z"
   },
   {
    "duration": 278,
    "start_time": "2022-02-02T15:58:57.199Z"
   },
   {
    "duration": 250,
    "start_time": "2022-02-02T16:01:19.747Z"
   },
   {
    "duration": 74,
    "start_time": "2022-02-02T16:01:40.985Z"
   },
   {
    "duration": 77,
    "start_time": "2022-02-02T16:01:58.793Z"
   },
   {
    "duration": 252,
    "start_time": "2022-02-02T16:04:20.345Z"
   },
   {
    "duration": 518,
    "start_time": "2022-02-02T16:06:02.600Z"
   },
   {
    "duration": 287,
    "start_time": "2022-02-02T16:06:09.407Z"
   },
   {
    "duration": 509,
    "start_time": "2022-02-02T16:06:30.342Z"
   },
   {
    "duration": 273,
    "start_time": "2022-02-02T16:07:15.509Z"
   },
   {
    "duration": 267,
    "start_time": "2022-02-02T16:07:45.781Z"
   },
   {
    "duration": 393,
    "start_time": "2022-02-02T16:08:28.123Z"
   },
   {
    "duration": 484,
    "start_time": "2022-02-02T16:08:44.287Z"
   },
   {
    "duration": 279,
    "start_time": "2022-02-02T16:08:57.677Z"
   },
   {
    "duration": 285,
    "start_time": "2022-02-02T16:09:05.027Z"
   },
   {
    "duration": 506,
    "start_time": "2022-02-02T16:10:09.706Z"
   },
   {
    "duration": 484,
    "start_time": "2022-02-02T16:10:18.214Z"
   },
   {
    "duration": 270,
    "start_time": "2022-02-02T16:11:51.479Z"
   },
   {
    "duration": 770,
    "start_time": "2022-02-02T16:12:17.625Z"
   },
   {
    "duration": 47,
    "start_time": "2022-02-02T16:12:18.397Z"
   },
   {
    "duration": 33,
    "start_time": "2022-02-02T16:12:18.446Z"
   },
   {
    "duration": 8,
    "start_time": "2022-02-02T16:12:18.481Z"
   },
   {
    "duration": 8,
    "start_time": "2022-02-02T16:12:18.508Z"
   },
   {
    "duration": 12,
    "start_time": "2022-02-02T16:12:18.518Z"
   },
   {
    "duration": 6,
    "start_time": "2022-02-02T16:12:18.532Z"
   },
   {
    "duration": 7,
    "start_time": "2022-02-02T16:12:18.541Z"
   },
   {
    "duration": 6,
    "start_time": "2022-02-02T16:12:18.550Z"
   },
   {
    "duration": 8,
    "start_time": "2022-02-02T16:12:18.558Z"
   },
   {
    "duration": 13,
    "start_time": "2022-02-02T16:12:18.606Z"
   },
   {
    "duration": 88,
    "start_time": "2022-02-02T16:12:18.621Z"
   },
   {
    "duration": 814,
    "start_time": "2022-02-02T16:12:18.711Z"
   },
   {
    "duration": 42,
    "start_time": "2022-02-02T16:12:19.527Z"
   },
   {
    "duration": 371,
    "start_time": "2022-02-02T16:12:19.571Z"
   },
   {
    "duration": 331,
    "start_time": "2022-02-02T16:12:19.944Z"
   },
   {
    "duration": 266,
    "start_time": "2022-02-02T16:12:20.277Z"
   },
   {
    "duration": 268,
    "start_time": "2022-02-02T16:12:20.545Z"
   },
   {
    "duration": 296,
    "start_time": "2022-02-02T16:12:20.814Z"
   },
   {
    "duration": 297,
    "start_time": "2022-02-02T16:12:21.112Z"
   },
   {
    "duration": 12241,
    "start_time": "2022-02-02T16:12:21.411Z"
   },
   {
    "duration": 52,
    "start_time": "2022-02-02T16:12:33.655Z"
   },
   {
    "duration": 10,
    "start_time": "2022-02-02T16:12:33.711Z"
   },
   {
    "duration": 10,
    "start_time": "2022-02-02T16:12:33.724Z"
   },
   {
    "duration": 330,
    "start_time": "2022-02-02T16:12:33.736Z"
   },
   {
    "duration": 56,
    "start_time": "2022-02-02T16:12:34.068Z"
   },
   {
    "duration": 244,
    "start_time": "2022-02-02T16:12:34.126Z"
   },
   {
    "duration": 246,
    "start_time": "2022-02-02T16:12:34.372Z"
   },
   {
    "duration": 208,
    "start_time": "2022-02-02T16:12:34.620Z"
   },
   {
    "duration": 247,
    "start_time": "2022-02-02T16:12:34.831Z"
   },
   {
    "duration": 7269,
    "start_time": "2022-02-02T16:12:35.080Z"
   },
   {
    "duration": 346,
    "start_time": "2022-02-02T16:13:31.875Z"
   },
   {
    "duration": 340,
    "start_time": "2022-02-02T16:13:42.803Z"
   },
   {
    "duration": 281,
    "start_time": "2022-02-02T16:14:36.492Z"
   },
   {
    "duration": 68,
    "start_time": "2022-02-02T16:15:13.281Z"
   },
   {
    "duration": 75,
    "start_time": "2022-02-02T16:15:18.257Z"
   },
   {
    "duration": 4600,
    "start_time": "2022-02-02T17:12:04.313Z"
   },
   {
    "duration": 557,
    "start_time": "2022-02-02T17:20:05.777Z"
   },
   {
    "duration": 4754,
    "start_time": "2022-02-02T17:20:12.393Z"
   },
   {
    "duration": 5485,
    "start_time": "2022-02-02T17:21:01.515Z"
   },
   {
    "duration": 5233,
    "start_time": "2022-02-02T17:21:18.947Z"
   },
   {
    "duration": 5048,
    "start_time": "2022-02-02T17:21:41.781Z"
   },
   {
    "duration": 147,
    "start_time": "2022-02-02T17:23:24.138Z"
   },
   {
    "duration": 148,
    "start_time": "2022-02-02T17:25:27.101Z"
   },
   {
    "duration": 164,
    "start_time": "2022-02-02T17:28:31.669Z"
   },
   {
    "duration": 164,
    "start_time": "2022-02-02T17:31:12.895Z"
   },
   {
    "duration": 145,
    "start_time": "2022-02-02T17:32:28.844Z"
   },
   {
    "duration": 201,
    "start_time": "2022-02-02T17:35:38.576Z"
   },
   {
    "duration": 193,
    "start_time": "2022-02-02T17:38:04.641Z"
   },
   {
    "duration": 178,
    "start_time": "2022-02-02T17:40:30.508Z"
   },
   {
    "duration": 178,
    "start_time": "2022-02-02T17:40:42.466Z"
   },
   {
    "duration": 191,
    "start_time": "2022-02-02T17:41:44.850Z"
   },
   {
    "duration": 249,
    "start_time": "2022-02-02T17:42:19.321Z"
   },
   {
    "duration": 5285,
    "start_time": "2022-02-02T17:43:32.825Z"
   },
   {
    "duration": 856,
    "start_time": "2022-02-02T17:44:02.078Z"
   },
   {
    "duration": 49,
    "start_time": "2022-02-02T17:44:02.936Z"
   },
   {
    "duration": 50,
    "start_time": "2022-02-02T17:44:02.990Z"
   },
   {
    "duration": 8,
    "start_time": "2022-02-02T17:44:03.042Z"
   },
   {
    "duration": 18,
    "start_time": "2022-02-02T17:44:03.053Z"
   },
   {
    "duration": 36,
    "start_time": "2022-02-02T17:44:03.073Z"
   },
   {
    "duration": 9,
    "start_time": "2022-02-02T17:44:03.114Z"
   },
   {
    "duration": 15,
    "start_time": "2022-02-02T17:44:03.126Z"
   },
   {
    "duration": 12,
    "start_time": "2022-02-02T17:44:03.143Z"
   },
   {
    "duration": 16,
    "start_time": "2022-02-02T17:44:03.156Z"
   },
   {
    "duration": 37,
    "start_time": "2022-02-02T17:44:03.174Z"
   },
   {
    "duration": 95,
    "start_time": "2022-02-02T17:44:03.213Z"
   },
   {
    "duration": 873,
    "start_time": "2022-02-02T17:44:03.312Z"
   },
   {
    "duration": 56,
    "start_time": "2022-02-02T17:44:04.187Z"
   },
   {
    "duration": 384,
    "start_time": "2022-02-02T17:44:04.246Z"
   },
   {
    "duration": 480,
    "start_time": "2022-02-02T17:44:04.632Z"
   },
   {
    "duration": 277,
    "start_time": "2022-02-02T17:44:05.115Z"
   },
   {
    "duration": 302,
    "start_time": "2022-02-02T17:44:05.394Z"
   },
   {
    "duration": 377,
    "start_time": "2022-02-02T17:44:05.708Z"
   },
   {
    "duration": 376,
    "start_time": "2022-02-02T17:44:06.087Z"
   },
   {
    "duration": 13070,
    "start_time": "2022-02-02T17:44:06.465Z"
   },
   {
    "duration": 4532,
    "start_time": "2022-02-02T17:44:19.539Z"
   },
   {
    "duration": 153,
    "start_time": "2022-02-02T17:44:24.073Z"
   },
   {
    "duration": 170,
    "start_time": "2022-02-02T17:44:24.228Z"
   },
   {
    "duration": 208,
    "start_time": "2022-02-02T17:44:24.400Z"
   },
   {
    "duration": 197,
    "start_time": "2022-02-02T17:44:24.610Z"
   },
   {
    "duration": 34,
    "start_time": "2022-02-02T17:44:24.809Z"
   },
   {
    "duration": 10,
    "start_time": "2022-02-02T17:44:24.845Z"
   },
   {
    "duration": 12,
    "start_time": "2022-02-02T17:44:24.856Z"
   },
   {
    "duration": 217,
    "start_time": "2022-02-02T17:44:24.870Z"
   },
   {
    "duration": 141,
    "start_time": "2022-02-02T17:44:25.089Z"
   },
   {
    "duration": 253,
    "start_time": "2022-02-02T17:44:25.233Z"
   },
   {
    "duration": 241,
    "start_time": "2022-02-02T17:44:25.488Z"
   },
   {
    "duration": 215,
    "start_time": "2022-02-02T17:44:25.731Z"
   },
   {
    "duration": 249,
    "start_time": "2022-02-02T17:44:25.948Z"
   },
   {
    "duration": 6264,
    "start_time": "2022-02-02T17:44:26.208Z"
   },
   {
    "duration": 862,
    "start_time": "2022-02-02T17:50:52.291Z"
   },
   {
    "duration": 63,
    "start_time": "2022-02-02T17:50:53.156Z"
   },
   {
    "duration": 36,
    "start_time": "2022-02-02T17:50:53.223Z"
   },
   {
    "duration": 12,
    "start_time": "2022-02-02T17:50:53.261Z"
   },
   {
    "duration": 36,
    "start_time": "2022-02-02T17:50:53.276Z"
   },
   {
    "duration": 16,
    "start_time": "2022-02-02T17:50:53.314Z"
   },
   {
    "duration": 23,
    "start_time": "2022-02-02T17:50:53.332Z"
   },
   {
    "duration": 16,
    "start_time": "2022-02-02T17:50:53.358Z"
   },
   {
    "duration": 23,
    "start_time": "2022-02-02T17:50:53.377Z"
   },
   {
    "duration": 19,
    "start_time": "2022-02-02T17:50:53.402Z"
   },
   {
    "duration": 13,
    "start_time": "2022-02-02T17:50:53.423Z"
   },
   {
    "duration": 83,
    "start_time": "2022-02-02T17:50:53.438Z"
   },
   {
    "duration": 1035,
    "start_time": "2022-02-02T17:50:53.523Z"
   },
   {
    "duration": 58,
    "start_time": "2022-02-02T17:50:54.560Z"
   },
   {
    "duration": 390,
    "start_time": "2022-02-02T17:50:54.620Z"
   },
   {
    "duration": 348,
    "start_time": "2022-02-02T17:50:55.012Z"
   },
   {
    "duration": 283,
    "start_time": "2022-02-02T17:50:55.362Z"
   },
   {
    "duration": 274,
    "start_time": "2022-02-02T17:50:55.647Z"
   },
   {
    "duration": 308,
    "start_time": "2022-02-02T17:50:55.923Z"
   },
   {
    "duration": 301,
    "start_time": "2022-02-02T17:50:56.233Z"
   },
   {
    "duration": 4994,
    "start_time": "2022-02-02T17:50:56.536Z"
   },
   {
    "duration": 163,
    "start_time": "2022-02-02T17:51:01.532Z"
   },
   {
    "duration": 184,
    "start_time": "2022-02-02T17:51:01.699Z"
   },
   {
    "duration": 221,
    "start_time": "2022-02-02T17:51:01.886Z"
   },
   {
    "duration": 217,
    "start_time": "2022-02-02T17:51:02.110Z"
   },
   {
    "duration": 37,
    "start_time": "2022-02-02T17:51:02.329Z"
   },
   {
    "duration": 12,
    "start_time": "2022-02-02T17:51:02.368Z"
   },
   {
    "duration": 36,
    "start_time": "2022-02-02T17:51:02.382Z"
   },
   {
    "duration": 235,
    "start_time": "2022-02-02T17:51:02.420Z"
   },
   {
    "duration": 64,
    "start_time": "2022-02-02T17:51:02.658Z"
   },
   {
    "duration": 257,
    "start_time": "2022-02-02T17:51:02.725Z"
   },
   {
    "duration": 243,
    "start_time": "2022-02-02T17:51:02.984Z"
   },
   {
    "duration": 221,
    "start_time": "2022-02-02T17:51:03.229Z"
   },
   {
    "duration": 361,
    "start_time": "2022-02-02T17:51:03.452Z"
   },
   {
    "duration": 6406,
    "start_time": "2022-02-02T17:51:03.815Z"
   },
   {
    "duration": 65,
    "start_time": "2022-02-02T18:01:46.799Z"
   },
   {
    "duration": 74,
    "start_time": "2022-02-02T18:01:50.799Z"
   },
   {
    "duration": 67,
    "start_time": "2022-02-02T18:06:04.625Z"
   },
   {
    "duration": 71,
    "start_time": "2022-02-02T18:06:40.030Z"
   },
   {
    "duration": 300,
    "start_time": "2022-02-02T18:06:51.008Z"
   },
   {
    "duration": 227,
    "start_time": "2022-02-02T18:07:10.755Z"
   },
   {
    "duration": 224,
    "start_time": "2022-02-02T18:07:56.820Z"
   },
   {
    "duration": 197,
    "start_time": "2022-02-02T18:08:11.604Z"
   },
   {
    "duration": 306,
    "start_time": "2022-02-02T18:09:33.586Z"
   },
   {
    "duration": 318,
    "start_time": "2022-02-02T18:10:16.669Z"
   },
   {
    "duration": 313,
    "start_time": "2022-02-02T18:10:37.820Z"
   },
   {
    "duration": 870,
    "start_time": "2022-02-02T18:11:28.397Z"
   },
   {
    "duration": 62,
    "start_time": "2022-02-02T18:11:29.269Z"
   },
   {
    "duration": 31,
    "start_time": "2022-02-02T18:11:29.333Z"
   },
   {
    "duration": 8,
    "start_time": "2022-02-02T18:11:29.366Z"
   },
   {
    "duration": 31,
    "start_time": "2022-02-02T18:11:29.376Z"
   },
   {
    "duration": 17,
    "start_time": "2022-02-02T18:11:29.409Z"
   },
   {
    "duration": 9,
    "start_time": "2022-02-02T18:11:29.428Z"
   },
   {
    "duration": 12,
    "start_time": "2022-02-02T18:11:29.439Z"
   },
   {
    "duration": 6,
    "start_time": "2022-02-02T18:11:29.455Z"
   },
   {
    "duration": 7,
    "start_time": "2022-02-02T18:11:29.463Z"
   },
   {
    "duration": 44,
    "start_time": "2022-02-02T18:11:29.472Z"
   },
   {
    "duration": 73,
    "start_time": "2022-02-02T18:11:29.517Z"
   },
   {
    "duration": 864,
    "start_time": "2022-02-02T18:11:29.592Z"
   },
   {
    "duration": 53,
    "start_time": "2022-02-02T18:11:30.458Z"
   },
   {
    "duration": 378,
    "start_time": "2022-02-02T18:11:30.513Z"
   },
   {
    "duration": 403,
    "start_time": "2022-02-02T18:11:30.894Z"
   },
   {
    "duration": 271,
    "start_time": "2022-02-02T18:11:31.300Z"
   },
   {
    "duration": 272,
    "start_time": "2022-02-02T18:11:31.573Z"
   },
   {
    "duration": 331,
    "start_time": "2022-02-02T18:11:31.848Z"
   },
   {
    "duration": 350,
    "start_time": "2022-02-02T18:11:32.182Z"
   },
   {
    "duration": 4578,
    "start_time": "2022-02-02T18:11:32.535Z"
   },
   {
    "duration": 226,
    "start_time": "2022-02-02T18:11:37.115Z"
   },
   {
    "duration": 182,
    "start_time": "2022-02-02T18:11:37.343Z"
   },
   {
    "duration": 251,
    "start_time": "2022-02-02T18:11:37.527Z"
   },
   {
    "duration": 200,
    "start_time": "2022-02-02T18:11:37.780Z"
   },
   {
    "duration": 50,
    "start_time": "2022-02-02T18:11:37.983Z"
   },
   {
    "duration": 12,
    "start_time": "2022-02-02T18:11:38.037Z"
   },
   {
    "duration": 12,
    "start_time": "2022-02-02T18:11:38.052Z"
   },
   {
    "duration": 255,
    "start_time": "2022-02-02T18:11:38.066Z"
   },
   {
    "duration": 48,
    "start_time": "2022-02-02T18:11:38.322Z"
   },
   {
    "duration": 260,
    "start_time": "2022-02-02T18:11:38.373Z"
   },
   {
    "duration": 261,
    "start_time": "2022-02-02T18:11:38.635Z"
   },
   {
    "duration": 305,
    "start_time": "2022-02-02T18:11:38.898Z"
   },
   {
    "duration": 253,
    "start_time": "2022-02-02T18:11:39.208Z"
   },
   {
    "duration": 7594,
    "start_time": "2022-02-02T18:11:39.464Z"
   },
   {
    "duration": 198,
    "start_time": "2022-02-02T18:13:23.933Z"
   },
   {
    "duration": 186,
    "start_time": "2022-02-02T18:13:33.806Z"
   },
   {
    "duration": 25,
    "start_time": "2022-02-02T18:14:06.922Z"
   },
   {
    "duration": 809,
    "start_time": "2022-02-02T18:14:32.488Z"
   },
   {
    "duration": 49,
    "start_time": "2022-02-02T18:14:33.300Z"
   },
   {
    "duration": 32,
    "start_time": "2022-02-02T18:14:33.351Z"
   },
   {
    "duration": 29,
    "start_time": "2022-02-02T18:14:33.385Z"
   },
   {
    "duration": 8,
    "start_time": "2022-02-02T18:14:33.416Z"
   },
   {
    "duration": 13,
    "start_time": "2022-02-02T18:14:33.426Z"
   },
   {
    "duration": 8,
    "start_time": "2022-02-02T18:14:33.441Z"
   },
   {
    "duration": 8,
    "start_time": "2022-02-02T18:14:33.451Z"
   },
   {
    "duration": 9,
    "start_time": "2022-02-02T18:14:33.462Z"
   },
   {
    "duration": 41,
    "start_time": "2022-02-02T18:14:33.473Z"
   },
   {
    "duration": 12,
    "start_time": "2022-02-02T18:14:33.516Z"
   },
   {
    "duration": 96,
    "start_time": "2022-02-02T18:14:33.530Z"
   },
   {
    "duration": 822,
    "start_time": "2022-02-02T18:14:33.628Z"
   },
   {
    "duration": 57,
    "start_time": "2022-02-02T18:14:34.452Z"
   },
   {
    "duration": 372,
    "start_time": "2022-02-02T18:14:34.511Z"
   },
   {
    "duration": 354,
    "start_time": "2022-02-02T18:14:34.885Z"
   },
   {
    "duration": 269,
    "start_time": "2022-02-02T18:14:35.241Z"
   },
   {
    "duration": 266,
    "start_time": "2022-02-02T18:14:35.512Z"
   },
   {
    "duration": 329,
    "start_time": "2022-02-02T18:14:35.780Z"
   },
   {
    "duration": 328,
    "start_time": "2022-02-02T18:14:36.111Z"
   },
   {
    "duration": 4484,
    "start_time": "2022-02-02T18:14:36.441Z"
   },
   {
    "duration": 169,
    "start_time": "2022-02-02T18:14:40.928Z"
   },
   {
    "duration": 178,
    "start_time": "2022-02-02T18:14:41.100Z"
   },
   {
    "duration": 210,
    "start_time": "2022-02-02T18:14:41.280Z"
   },
   {
    "duration": 193,
    "start_time": "2022-02-02T18:14:41.492Z"
   },
   {
    "duration": 48,
    "start_time": "2022-02-02T18:14:41.687Z"
   },
   {
    "duration": 11,
    "start_time": "2022-02-02T18:14:41.737Z"
   },
   {
    "duration": 10,
    "start_time": "2022-02-02T18:14:41.750Z"
   },
   {
    "duration": 231,
    "start_time": "2022-02-02T18:14:41.762Z"
   },
   {
    "duration": 33,
    "start_time": "2022-02-02T18:14:41.995Z"
   },
   {
    "duration": 242,
    "start_time": "2022-02-02T18:14:42.031Z"
   },
   {
    "duration": 234,
    "start_time": "2022-02-02T18:14:42.276Z"
   },
   {
    "duration": 284,
    "start_time": "2022-02-02T18:14:42.513Z"
   },
   {
    "duration": 246,
    "start_time": "2022-02-02T18:14:42.799Z"
   },
   {
    "duration": 2915,
    "start_time": "2022-02-02T18:14:43.047Z"
   },
   {
    "duration": 27,
    "start_time": "2022-02-02T18:15:05.249Z"
   },
   {
    "duration": 27,
    "start_time": "2022-02-02T18:15:10.346Z"
   },
   {
    "duration": 25,
    "start_time": "2022-02-02T18:16:41.627Z"
   },
   {
    "duration": 262,
    "start_time": "2022-02-02T18:17:08.429Z"
   },
   {
    "duration": 188,
    "start_time": "2022-02-02T18:17:23.043Z"
   },
   {
    "duration": 26,
    "start_time": "2022-02-02T18:18:05.688Z"
   },
   {
    "duration": 24,
    "start_time": "2022-02-02T18:18:18.235Z"
   },
   {
    "duration": 818,
    "start_time": "2022-02-02T18:18:51.168Z"
   },
   {
    "duration": 54,
    "start_time": "2022-02-02T18:18:51.989Z"
   },
   {
    "duration": 32,
    "start_time": "2022-02-02T18:18:52.045Z"
   },
   {
    "duration": 7,
    "start_time": "2022-02-02T18:18:52.079Z"
   },
   {
    "duration": 9,
    "start_time": "2022-02-02T18:18:52.107Z"
   },
   {
    "duration": 15,
    "start_time": "2022-02-02T18:18:52.118Z"
   },
   {
    "duration": 7,
    "start_time": "2022-02-02T18:18:52.135Z"
   },
   {
    "duration": 8,
    "start_time": "2022-02-02T18:18:52.145Z"
   },
   {
    "duration": 9,
    "start_time": "2022-02-02T18:18:52.156Z"
   },
   {
    "duration": 45,
    "start_time": "2022-02-02T18:18:52.167Z"
   },
   {
    "duration": 14,
    "start_time": "2022-02-02T18:18:52.213Z"
   },
   {
    "duration": 98,
    "start_time": "2022-02-02T18:18:52.230Z"
   },
   {
    "duration": 847,
    "start_time": "2022-02-02T18:18:52.330Z"
   },
   {
    "duration": 59,
    "start_time": "2022-02-02T18:18:53.179Z"
   },
   {
    "duration": 441,
    "start_time": "2022-02-02T18:18:53.240Z"
   },
   {
    "duration": 367,
    "start_time": "2022-02-02T18:18:53.683Z"
   },
   {
    "duration": 328,
    "start_time": "2022-02-02T18:18:54.052Z"
   },
   {
    "duration": 359,
    "start_time": "2022-02-02T18:18:54.383Z"
   },
   {
    "duration": 329,
    "start_time": "2022-02-02T18:18:54.744Z"
   },
   {
    "duration": 335,
    "start_time": "2022-02-02T18:18:55.075Z"
   },
   {
    "duration": 4474,
    "start_time": "2022-02-02T18:18:55.412Z"
   },
   {
    "duration": 166,
    "start_time": "2022-02-02T18:18:59.888Z"
   },
   {
    "duration": 182,
    "start_time": "2022-02-02T18:19:00.058Z"
   },
   {
    "duration": 200,
    "start_time": "2022-02-02T18:19:00.243Z"
   },
   {
    "duration": 191,
    "start_time": "2022-02-02T18:19:00.445Z"
   },
   {
    "duration": 35,
    "start_time": "2022-02-02T18:19:00.637Z"
   },
   {
    "duration": 34,
    "start_time": "2022-02-02T18:19:00.673Z"
   },
   {
    "duration": 18,
    "start_time": "2022-02-02T18:19:00.709Z"
   },
   {
    "duration": 214,
    "start_time": "2022-02-02T18:19:00.729Z"
   },
   {
    "duration": 27,
    "start_time": "2022-02-02T18:19:00.945Z"
   },
   {
    "duration": 244,
    "start_time": "2022-02-02T18:19:00.975Z"
   },
   {
    "duration": 247,
    "start_time": "2022-02-02T18:19:01.221Z"
   },
   {
    "duration": 288,
    "start_time": "2022-02-02T18:19:01.470Z"
   },
   {
    "duration": 368,
    "start_time": "2022-02-02T18:19:01.760Z"
   },
   {
    "duration": 3002,
    "start_time": "2022-02-02T18:19:02.130Z"
   },
   {
    "duration": 117,
    "start_time": "2022-02-02T18:19:46.643Z"
   },
   {
    "duration": 25,
    "start_time": "2022-02-02T18:20:18.728Z"
   },
   {
    "duration": 45,
    "start_time": "2022-02-02T18:20:25.325Z"
   },
   {
    "duration": 28,
    "start_time": "2022-02-02T18:21:50.170Z"
   },
   {
    "duration": 31,
    "start_time": "2022-02-02T18:22:02.123Z"
   },
   {
    "duration": 25,
    "start_time": "2022-02-02T18:22:05.016Z"
   },
   {
    "duration": 788,
    "start_time": "2022-02-02T18:22:12.910Z"
   },
   {
    "duration": 45,
    "start_time": "2022-02-02T18:22:13.701Z"
   },
   {
    "duration": 31,
    "start_time": "2022-02-02T18:22:13.749Z"
   },
   {
    "duration": 28,
    "start_time": "2022-02-02T18:22:13.783Z"
   },
   {
    "duration": 8,
    "start_time": "2022-02-02T18:22:13.813Z"
   },
   {
    "duration": 13,
    "start_time": "2022-02-02T18:22:13.823Z"
   },
   {
    "duration": 6,
    "start_time": "2022-02-02T18:22:13.838Z"
   },
   {
    "duration": 7,
    "start_time": "2022-02-02T18:22:13.847Z"
   },
   {
    "duration": 7,
    "start_time": "2022-02-02T18:22:13.856Z"
   },
   {
    "duration": 45,
    "start_time": "2022-02-02T18:22:13.864Z"
   },
   {
    "duration": 17,
    "start_time": "2022-02-02T18:22:13.911Z"
   },
   {
    "duration": 84,
    "start_time": "2022-02-02T18:22:13.930Z"
   },
   {
    "duration": 806,
    "start_time": "2022-02-02T18:22:14.016Z"
   },
   {
    "duration": 44,
    "start_time": "2022-02-02T18:22:14.824Z"
   },
   {
    "duration": 389,
    "start_time": "2022-02-02T18:22:14.870Z"
   },
   {
    "duration": 330,
    "start_time": "2022-02-02T18:22:15.261Z"
   },
   {
    "duration": 269,
    "start_time": "2022-02-02T18:22:15.593Z"
   },
   {
    "duration": 285,
    "start_time": "2022-02-02T18:22:15.864Z"
   },
   {
    "duration": 317,
    "start_time": "2022-02-02T18:22:16.151Z"
   },
   {
    "duration": 339,
    "start_time": "2022-02-02T18:22:16.470Z"
   },
   {
    "duration": 4657,
    "start_time": "2022-02-02T18:22:16.811Z"
   },
   {
    "duration": 156,
    "start_time": "2022-02-02T18:22:21.470Z"
   },
   {
    "duration": 168,
    "start_time": "2022-02-02T18:22:21.629Z"
   },
   {
    "duration": 196,
    "start_time": "2022-02-02T18:22:21.799Z"
   },
   {
    "duration": 190,
    "start_time": "2022-02-02T18:22:21.997Z"
   },
   {
    "duration": 43,
    "start_time": "2022-02-02T18:22:22.189Z"
   },
   {
    "duration": 10,
    "start_time": "2022-02-02T18:22:22.233Z"
   },
   {
    "duration": 18,
    "start_time": "2022-02-02T18:22:22.244Z"
   },
   {
    "duration": 211,
    "start_time": "2022-02-02T18:22:22.265Z"
   },
   {
    "duration": 58,
    "start_time": "2022-02-02T18:22:22.478Z"
   },
   {
    "duration": 252,
    "start_time": "2022-02-02T18:22:22.538Z"
   },
   {
    "duration": 247,
    "start_time": "2022-02-02T18:22:22.792Z"
   },
   {
    "duration": 313,
    "start_time": "2022-02-02T18:22:23.041Z"
   },
   {
    "duration": 248,
    "start_time": "2022-02-02T18:22:23.356Z"
   },
   {
    "duration": 6847,
    "start_time": "2022-02-02T18:22:23.608Z"
   },
   {
    "duration": 811,
    "start_time": "2022-02-02T18:23:10.886Z"
   },
   {
    "duration": 47,
    "start_time": "2022-02-02T18:23:11.699Z"
   },
   {
    "duration": 31,
    "start_time": "2022-02-02T18:23:11.751Z"
   },
   {
    "duration": 30,
    "start_time": "2022-02-02T18:23:11.783Z"
   },
   {
    "duration": 9,
    "start_time": "2022-02-02T18:23:11.815Z"
   },
   {
    "duration": 12,
    "start_time": "2022-02-02T18:23:11.825Z"
   },
   {
    "duration": 12,
    "start_time": "2022-02-02T18:23:11.839Z"
   },
   {
    "duration": 24,
    "start_time": "2022-02-02T18:23:11.854Z"
   },
   {
    "duration": 6,
    "start_time": "2022-02-02T18:23:11.881Z"
   },
   {
    "duration": 33,
    "start_time": "2022-02-02T18:23:11.889Z"
   },
   {
    "duration": 22,
    "start_time": "2022-02-02T18:23:11.924Z"
   },
   {
    "duration": 94,
    "start_time": "2022-02-02T18:23:11.948Z"
   },
   {
    "duration": 864,
    "start_time": "2022-02-02T18:23:12.043Z"
   },
   {
    "duration": 49,
    "start_time": "2022-02-02T18:23:12.909Z"
   },
   {
    "duration": 375,
    "start_time": "2022-02-02T18:23:12.960Z"
   },
   {
    "duration": 328,
    "start_time": "2022-02-02T18:23:13.337Z"
   },
   {
    "duration": 253,
    "start_time": "2022-02-02T18:23:13.667Z"
   },
   {
    "duration": 263,
    "start_time": "2022-02-02T18:23:13.922Z"
   },
   {
    "duration": 311,
    "start_time": "2022-02-02T18:23:14.187Z"
   },
   {
    "duration": 327,
    "start_time": "2022-02-02T18:23:14.499Z"
   },
   {
    "duration": 4502,
    "start_time": "2022-02-02T18:23:14.828Z"
   },
   {
    "duration": 162,
    "start_time": "2022-02-02T18:23:19.332Z"
   },
   {
    "duration": 171,
    "start_time": "2022-02-02T18:23:19.496Z"
   },
   {
    "duration": 275,
    "start_time": "2022-02-02T18:23:19.668Z"
   },
   {
    "duration": 210,
    "start_time": "2022-02-02T18:23:19.945Z"
   },
   {
    "duration": 49,
    "start_time": "2022-02-02T18:23:20.158Z"
   },
   {
    "duration": 10,
    "start_time": "2022-02-02T18:23:20.210Z"
   },
   {
    "duration": 12,
    "start_time": "2022-02-02T18:23:20.222Z"
   },
   {
    "duration": 219,
    "start_time": "2022-02-02T18:23:20.236Z"
   },
   {
    "duration": 29,
    "start_time": "2022-02-02T18:23:20.458Z"
   },
   {
    "duration": 244,
    "start_time": "2022-02-02T18:23:20.489Z"
   },
   {
    "duration": 239,
    "start_time": "2022-02-02T18:23:20.735Z"
   },
   {
    "duration": 298,
    "start_time": "2022-02-02T18:23:20.976Z"
   },
   {
    "duration": 252,
    "start_time": "2022-02-02T18:23:21.276Z"
   },
   {
    "duration": 2853,
    "start_time": "2022-02-02T18:23:21.530Z"
   },
   {
    "duration": 50,
    "start_time": "2022-02-02T18:25:18.541Z"
   },
   {
    "duration": 27,
    "start_time": "2022-02-02T18:27:00.490Z"
   },
   {
    "duration": 26,
    "start_time": "2022-02-02T18:27:03.172Z"
   },
   {
    "duration": 317,
    "start_time": "2022-02-02T18:28:40.800Z"
   },
   {
    "duration": 51,
    "start_time": "2022-02-02T18:28:44.120Z"
   },
   {
    "duration": 187,
    "start_time": "2022-02-02T18:29:38.049Z"
   },
   {
    "duration": 31,
    "start_time": "2022-02-02T18:29:52.400Z"
   },
   {
    "duration": 771,
    "start_time": "2022-02-02T18:30:00.750Z"
   },
   {
    "duration": 50,
    "start_time": "2022-02-02T18:30:01.523Z"
   },
   {
    "duration": 56,
    "start_time": "2022-02-02T18:30:01.579Z"
   },
   {
    "duration": 9,
    "start_time": "2022-02-02T18:30:01.637Z"
   },
   {
    "duration": 12,
    "start_time": "2022-02-02T18:30:01.648Z"
   },
   {
    "duration": 19,
    "start_time": "2022-02-02T18:30:01.662Z"
   },
   {
    "duration": 8,
    "start_time": "2022-02-02T18:30:01.709Z"
   },
   {
    "duration": 28,
    "start_time": "2022-02-02T18:30:01.720Z"
   },
   {
    "duration": 26,
    "start_time": "2022-02-02T18:30:01.750Z"
   },
   {
    "duration": 8,
    "start_time": "2022-02-02T18:30:01.779Z"
   },
   {
    "duration": 15,
    "start_time": "2022-02-02T18:30:01.790Z"
   },
   {
    "duration": 77,
    "start_time": "2022-02-02T18:30:01.807Z"
   },
   {
    "duration": 874,
    "start_time": "2022-02-02T18:30:01.886Z"
   },
   {
    "duration": 60,
    "start_time": "2022-02-02T18:30:02.762Z"
   },
   {
    "duration": 373,
    "start_time": "2022-02-02T18:30:02.824Z"
   },
   {
    "duration": 351,
    "start_time": "2022-02-02T18:30:03.207Z"
   },
   {
    "duration": 273,
    "start_time": "2022-02-02T18:30:03.560Z"
   },
   {
    "duration": 272,
    "start_time": "2022-02-02T18:30:03.835Z"
   },
   {
    "duration": 314,
    "start_time": "2022-02-02T18:30:04.109Z"
   },
   {
    "duration": 329,
    "start_time": "2022-02-02T18:30:04.425Z"
   },
   {
    "duration": 4557,
    "start_time": "2022-02-02T18:30:04.756Z"
   },
   {
    "duration": 165,
    "start_time": "2022-02-02T18:30:09.316Z"
   },
   {
    "duration": 177,
    "start_time": "2022-02-02T18:30:09.483Z"
   },
   {
    "duration": 206,
    "start_time": "2022-02-02T18:30:09.662Z"
   },
   {
    "duration": 194,
    "start_time": "2022-02-02T18:30:09.871Z"
   },
   {
    "duration": 52,
    "start_time": "2022-02-02T18:30:10.067Z"
   },
   {
    "duration": 10,
    "start_time": "2022-02-02T18:30:10.121Z"
   },
   {
    "duration": 17,
    "start_time": "2022-02-02T18:30:10.133Z"
   },
   {
    "duration": 228,
    "start_time": "2022-02-02T18:30:10.152Z"
   },
   {
    "duration": 46,
    "start_time": "2022-02-02T18:30:10.382Z"
   },
   {
    "duration": 240,
    "start_time": "2022-02-02T18:30:10.430Z"
   },
   {
    "duration": 246,
    "start_time": "2022-02-02T18:30:10.672Z"
   },
   {
    "duration": 299,
    "start_time": "2022-02-02T18:30:10.920Z"
   },
   {
    "duration": 244,
    "start_time": "2022-02-02T18:30:11.222Z"
   },
   {
    "duration": 2895,
    "start_time": "2022-02-02T18:30:11.468Z"
   },
   {
    "duration": 272,
    "start_time": "2022-02-02T18:31:19.040Z"
   },
   {
    "duration": 25,
    "start_time": "2022-02-02T18:31:21.294Z"
   },
   {
    "duration": 24,
    "start_time": "2022-02-02T18:32:05.011Z"
   },
   {
    "duration": 759,
    "start_time": "2022-02-02T18:32:12.819Z"
   },
   {
    "duration": 52,
    "start_time": "2022-02-02T18:32:13.580Z"
   },
   {
    "duration": 30,
    "start_time": "2022-02-02T18:32:13.635Z"
   },
   {
    "duration": 7,
    "start_time": "2022-02-02T18:32:13.668Z"
   },
   {
    "duration": 33,
    "start_time": "2022-02-02T18:32:13.677Z"
   },
   {
    "duration": 14,
    "start_time": "2022-02-02T18:32:13.711Z"
   },
   {
    "duration": 6,
    "start_time": "2022-02-02T18:32:13.727Z"
   },
   {
    "duration": 8,
    "start_time": "2022-02-02T18:32:13.736Z"
   },
   {
    "duration": 11,
    "start_time": "2022-02-02T18:32:13.747Z"
   },
   {
    "duration": 9,
    "start_time": "2022-02-02T18:32:13.760Z"
   },
   {
    "duration": 46,
    "start_time": "2022-02-02T18:32:13.771Z"
   },
   {
    "duration": 94,
    "start_time": "2022-02-02T18:32:13.820Z"
   },
   {
    "duration": 809,
    "start_time": "2022-02-02T18:32:13.917Z"
   },
   {
    "duration": 46,
    "start_time": "2022-02-02T18:32:14.728Z"
   },
   {
    "duration": 399,
    "start_time": "2022-02-02T18:32:14.777Z"
   },
   {
    "duration": 346,
    "start_time": "2022-02-02T18:32:15.178Z"
   },
   {
    "duration": 257,
    "start_time": "2022-02-02T18:32:15.526Z"
   },
   {
    "duration": 283,
    "start_time": "2022-02-02T18:32:15.785Z"
   },
   {
    "duration": 414,
    "start_time": "2022-02-02T18:32:16.070Z"
   },
   {
    "duration": 330,
    "start_time": "2022-02-02T18:32:16.486Z"
   },
   {
    "duration": 5127,
    "start_time": "2022-02-02T18:32:16.818Z"
   },
   {
    "duration": 162,
    "start_time": "2022-02-02T18:32:21.946Z"
   },
   {
    "duration": 172,
    "start_time": "2022-02-02T18:32:22.112Z"
   },
   {
    "duration": 202,
    "start_time": "2022-02-02T18:32:22.286Z"
   },
   {
    "duration": 196,
    "start_time": "2022-02-02T18:32:22.489Z"
   },
   {
    "duration": 46,
    "start_time": "2022-02-02T18:32:22.687Z"
   },
   {
    "duration": 11,
    "start_time": "2022-02-02T18:32:22.735Z"
   },
   {
    "duration": 11,
    "start_time": "2022-02-02T18:32:22.748Z"
   },
   {
    "duration": 239,
    "start_time": "2022-02-02T18:32:22.761Z"
   },
   {
    "duration": 51,
    "start_time": "2022-02-02T18:32:23.002Z"
   },
   {
    "duration": 263,
    "start_time": "2022-02-02T18:32:23.055Z"
   },
   {
    "duration": 240,
    "start_time": "2022-02-02T18:32:23.320Z"
   },
   {
    "duration": 297,
    "start_time": "2022-02-02T18:32:23.563Z"
   },
   {
    "duration": 264,
    "start_time": "2022-02-02T18:32:23.862Z"
   },
   {
    "duration": 7190,
    "start_time": "2022-02-02T18:32:24.128Z"
   },
   {
    "duration": 741,
    "start_time": "2022-02-02T18:33:21.655Z"
   },
   {
    "duration": 50,
    "start_time": "2022-02-02T18:33:22.398Z"
   },
   {
    "duration": 34,
    "start_time": "2022-02-02T18:33:22.451Z"
   },
   {
    "duration": 26,
    "start_time": "2022-02-02T18:33:22.487Z"
   },
   {
    "duration": 9,
    "start_time": "2022-02-02T18:33:22.515Z"
   },
   {
    "duration": 18,
    "start_time": "2022-02-02T18:33:22.526Z"
   },
   {
    "duration": 17,
    "start_time": "2022-02-02T18:33:22.546Z"
   },
   {
    "duration": 12,
    "start_time": "2022-02-02T18:33:22.565Z"
   },
   {
    "duration": 30,
    "start_time": "2022-02-02T18:33:22.579Z"
   },
   {
    "duration": 8,
    "start_time": "2022-02-02T18:33:22.611Z"
   },
   {
    "duration": 19,
    "start_time": "2022-02-02T18:33:22.621Z"
   },
   {
    "duration": 94,
    "start_time": "2022-02-02T18:33:22.642Z"
   },
   {
    "duration": 907,
    "start_time": "2022-02-02T18:33:22.737Z"
   },
   {
    "duration": 47,
    "start_time": "2022-02-02T18:33:23.646Z"
   },
   {
    "duration": 382,
    "start_time": "2022-02-02T18:33:23.708Z"
   },
   {
    "duration": 335,
    "start_time": "2022-02-02T18:33:24.092Z"
   },
   {
    "duration": 265,
    "start_time": "2022-02-02T18:33:24.429Z"
   },
   {
    "duration": 275,
    "start_time": "2022-02-02T18:33:24.696Z"
   },
   {
    "duration": 318,
    "start_time": "2022-02-02T18:33:24.974Z"
   },
   {
    "duration": 339,
    "start_time": "2022-02-02T18:33:25.293Z"
   },
   {
    "duration": 5353,
    "start_time": "2022-02-02T18:33:25.634Z"
   },
   {
    "duration": 176,
    "start_time": "2022-02-02T18:33:30.989Z"
   },
   {
    "duration": 180,
    "start_time": "2022-02-02T18:33:31.168Z"
   },
   {
    "duration": 208,
    "start_time": "2022-02-02T18:33:31.350Z"
   },
   {
    "duration": 191,
    "start_time": "2022-02-02T18:33:31.560Z"
   },
   {
    "duration": 36,
    "start_time": "2022-02-02T18:33:31.752Z"
   },
   {
    "duration": 23,
    "start_time": "2022-02-02T18:33:31.790Z"
   },
   {
    "duration": 18,
    "start_time": "2022-02-02T18:33:31.815Z"
   },
   {
    "duration": 245,
    "start_time": "2022-02-02T18:33:31.835Z"
   },
   {
    "duration": 45,
    "start_time": "2022-02-02T18:33:32.082Z"
   },
   {
    "duration": 293,
    "start_time": "2022-02-02T18:33:32.129Z"
   },
   {
    "duration": 244,
    "start_time": "2022-02-02T18:33:32.424Z"
   },
   {
    "duration": 287,
    "start_time": "2022-02-02T18:33:32.669Z"
   },
   {
    "duration": 233,
    "start_time": "2022-02-02T18:33:32.958Z"
   },
   {
    "duration": 3262,
    "start_time": "2022-02-02T18:33:33.193Z"
   },
   {
    "duration": 780,
    "start_time": "2022-02-02T18:34:10.444Z"
   },
   {
    "duration": 80,
    "start_time": "2022-02-02T18:34:11.227Z"
   },
   {
    "duration": 33,
    "start_time": "2022-02-02T18:34:11.314Z"
   },
   {
    "duration": 8,
    "start_time": "2022-02-02T18:34:11.349Z"
   },
   {
    "duration": 8,
    "start_time": "2022-02-02T18:34:11.359Z"
   },
   {
    "duration": 48,
    "start_time": "2022-02-02T18:34:11.369Z"
   },
   {
    "duration": 8,
    "start_time": "2022-02-02T18:34:11.420Z"
   },
   {
    "duration": 10,
    "start_time": "2022-02-02T18:34:11.431Z"
   },
   {
    "duration": 6,
    "start_time": "2022-02-02T18:34:11.443Z"
   },
   {
    "duration": 7,
    "start_time": "2022-02-02T18:34:11.451Z"
   },
   {
    "duration": 52,
    "start_time": "2022-02-02T18:34:11.460Z"
   },
   {
    "duration": 95,
    "start_time": "2022-02-02T18:34:11.514Z"
   },
   {
    "duration": 831,
    "start_time": "2022-02-02T18:34:11.611Z"
   },
   {
    "duration": 48,
    "start_time": "2022-02-02T18:34:12.444Z"
   },
   {
    "duration": 376,
    "start_time": "2022-02-02T18:34:12.494Z"
   },
   {
    "duration": 338,
    "start_time": "2022-02-02T18:34:12.872Z"
   },
   {
    "duration": 273,
    "start_time": "2022-02-02T18:34:13.212Z"
   },
   {
    "duration": 267,
    "start_time": "2022-02-02T18:34:13.488Z"
   },
   {
    "duration": 308,
    "start_time": "2022-02-02T18:34:13.758Z"
   },
   {
    "duration": 324,
    "start_time": "2022-02-02T18:34:14.069Z"
   },
   {
    "duration": 4416,
    "start_time": "2022-02-02T18:34:14.395Z"
   },
   {
    "duration": 158,
    "start_time": "2022-02-02T18:34:18.815Z"
   },
   {
    "duration": 180,
    "start_time": "2022-02-02T18:34:18.975Z"
   },
   {
    "duration": 211,
    "start_time": "2022-02-02T18:34:19.157Z"
   },
   {
    "duration": 212,
    "start_time": "2022-02-02T18:34:19.370Z"
   },
   {
    "duration": 49,
    "start_time": "2022-02-02T18:34:19.584Z"
   },
   {
    "duration": 10,
    "start_time": "2022-02-02T18:34:19.634Z"
   },
   {
    "duration": 19,
    "start_time": "2022-02-02T18:34:19.645Z"
   },
   {
    "duration": 214,
    "start_time": "2022-02-02T18:34:19.665Z"
   },
   {
    "duration": 56,
    "start_time": "2022-02-02T18:34:19.881Z"
   },
   {
    "duration": 249,
    "start_time": "2022-02-02T18:34:19.939Z"
   },
   {
    "duration": 241,
    "start_time": "2022-02-02T18:34:20.189Z"
   },
   {
    "duration": 309,
    "start_time": "2022-02-02T18:34:20.432Z"
   },
   {
    "duration": 258,
    "start_time": "2022-02-02T18:34:20.743Z"
   },
   {
    "duration": 6471,
    "start_time": "2022-02-02T18:34:21.003Z"
   },
   {
    "duration": 833,
    "start_time": "2022-02-02T18:34:42.932Z"
   },
   {
    "duration": 63,
    "start_time": "2022-02-02T18:34:43.767Z"
   },
   {
    "duration": 33,
    "start_time": "2022-02-02T18:34:43.833Z"
   },
   {
    "duration": 9,
    "start_time": "2022-02-02T18:34:43.869Z"
   },
   {
    "duration": 35,
    "start_time": "2022-02-02T18:34:43.880Z"
   },
   {
    "duration": 12,
    "start_time": "2022-02-02T18:34:43.917Z"
   },
   {
    "duration": 11,
    "start_time": "2022-02-02T18:34:43.931Z"
   },
   {
    "duration": 7,
    "start_time": "2022-02-02T18:34:43.944Z"
   },
   {
    "duration": 5,
    "start_time": "2022-02-02T18:34:43.955Z"
   },
   {
    "duration": 45,
    "start_time": "2022-02-02T18:34:43.963Z"
   },
   {
    "duration": 12,
    "start_time": "2022-02-02T18:34:44.010Z"
   },
   {
    "duration": 97,
    "start_time": "2022-02-02T18:34:44.025Z"
   },
   {
    "duration": 868,
    "start_time": "2022-02-02T18:34:44.124Z"
   },
   {
    "duration": 61,
    "start_time": "2022-02-02T18:34:44.994Z"
   },
   {
    "duration": 392,
    "start_time": "2022-02-02T18:34:45.058Z"
   },
   {
    "duration": 378,
    "start_time": "2022-02-02T18:34:45.453Z"
   },
   {
    "duration": 311,
    "start_time": "2022-02-02T18:34:45.834Z"
   },
   {
    "duration": 314,
    "start_time": "2022-02-02T18:34:46.148Z"
   },
   {
    "duration": 410,
    "start_time": "2022-02-02T18:34:46.464Z"
   },
   {
    "duration": 553,
    "start_time": "2022-02-02T18:34:46.876Z"
   },
   {
    "duration": 7881,
    "start_time": "2022-02-02T18:34:47.432Z"
   },
   {
    "duration": 240,
    "start_time": "2022-02-02T18:34:55.315Z"
   },
   {
    "duration": 177,
    "start_time": "2022-02-02T18:34:55.557Z"
   },
   {
    "duration": 208,
    "start_time": "2022-02-02T18:34:55.736Z"
   },
   {
    "duration": 207,
    "start_time": "2022-02-02T18:34:55.946Z"
   },
   {
    "duration": 33,
    "start_time": "2022-02-02T18:34:56.155Z"
   },
   {
    "duration": 23,
    "start_time": "2022-02-02T18:34:56.192Z"
   },
   {
    "duration": 10,
    "start_time": "2022-02-02T18:34:56.217Z"
   },
   {
    "duration": 219,
    "start_time": "2022-02-02T18:34:56.229Z"
   },
   {
    "duration": 59,
    "start_time": "2022-02-02T18:34:56.450Z"
   },
   {
    "duration": 252,
    "start_time": "2022-02-02T18:34:56.511Z"
   },
   {
    "duration": 258,
    "start_time": "2022-02-02T18:34:56.765Z"
   },
   {
    "duration": 309,
    "start_time": "2022-02-02T18:34:57.025Z"
   },
   {
    "duration": 249,
    "start_time": "2022-02-02T18:34:57.336Z"
   },
   {
    "duration": 5575,
    "start_time": "2022-02-02T18:34:57.586Z"
   },
   {
    "duration": 767,
    "start_time": "2022-02-02T18:45:13.335Z"
   },
   {
    "duration": 48,
    "start_time": "2022-02-02T18:45:14.104Z"
   },
   {
    "duration": 32,
    "start_time": "2022-02-02T18:45:14.155Z"
   },
   {
    "duration": 24,
    "start_time": "2022-02-02T18:45:14.189Z"
   },
   {
    "duration": 8,
    "start_time": "2022-02-02T18:45:14.215Z"
   },
   {
    "duration": 12,
    "start_time": "2022-02-02T18:45:14.225Z"
   },
   {
    "duration": 12,
    "start_time": "2022-02-02T18:45:14.238Z"
   },
   {
    "duration": 9,
    "start_time": "2022-02-02T18:45:14.254Z"
   },
   {
    "duration": 44,
    "start_time": "2022-02-02T18:45:14.265Z"
   },
   {
    "duration": 9,
    "start_time": "2022-02-02T18:45:14.311Z"
   },
   {
    "duration": 14,
    "start_time": "2022-02-02T18:45:14.322Z"
   },
   {
    "duration": 103,
    "start_time": "2022-02-02T18:45:14.338Z"
   },
   {
    "duration": 869,
    "start_time": "2022-02-02T18:45:14.443Z"
   },
   {
    "duration": 52,
    "start_time": "2022-02-02T18:45:15.313Z"
   },
   {
    "duration": 400,
    "start_time": "2022-02-02T18:45:15.367Z"
   },
   {
    "duration": 359,
    "start_time": "2022-02-02T18:45:15.769Z"
   },
   {
    "duration": 308,
    "start_time": "2022-02-02T18:45:16.131Z"
   },
   {
    "duration": 295,
    "start_time": "2022-02-02T18:45:16.441Z"
   },
   {
    "duration": 339,
    "start_time": "2022-02-02T18:45:16.738Z"
   },
   {
    "duration": 382,
    "start_time": "2022-02-02T18:45:17.079Z"
   },
   {
    "duration": 808,
    "start_time": "2022-02-02T18:46:23.431Z"
   },
   {
    "duration": 48,
    "start_time": "2022-02-02T18:46:24.241Z"
   },
   {
    "duration": 46,
    "start_time": "2022-02-02T18:46:24.292Z"
   },
   {
    "duration": 9,
    "start_time": "2022-02-02T18:46:24.341Z"
   },
   {
    "duration": 10,
    "start_time": "2022-02-02T18:46:24.352Z"
   },
   {
    "duration": 42,
    "start_time": "2022-02-02T18:46:24.364Z"
   },
   {
    "duration": 7,
    "start_time": "2022-02-02T18:46:24.408Z"
   },
   {
    "duration": 9,
    "start_time": "2022-02-02T18:46:24.417Z"
   },
   {
    "duration": 7,
    "start_time": "2022-02-02T18:46:24.429Z"
   },
   {
    "duration": 8,
    "start_time": "2022-02-02T18:46:24.438Z"
   },
   {
    "duration": 12,
    "start_time": "2022-02-02T18:46:24.448Z"
   },
   {
    "duration": 108,
    "start_time": "2022-02-02T18:46:24.462Z"
   },
   {
    "duration": 908,
    "start_time": "2022-02-02T18:46:24.572Z"
   },
   {
    "duration": 55,
    "start_time": "2022-02-02T18:46:25.482Z"
   },
   {
    "duration": 386,
    "start_time": "2022-02-02T18:46:25.539Z"
   },
   {
    "duration": 351,
    "start_time": "2022-02-02T18:46:25.927Z"
   },
   {
    "duration": 303,
    "start_time": "2022-02-02T18:46:26.281Z"
   },
   {
    "duration": 271,
    "start_time": "2022-02-02T18:46:26.586Z"
   },
   {
    "duration": 423,
    "start_time": "2022-02-02T18:46:26.859Z"
   },
   {
    "duration": 344,
    "start_time": "2022-02-02T18:46:27.285Z"
   },
   {
    "duration": 4836,
    "start_time": "2022-02-02T18:46:27.630Z"
   },
   {
    "duration": 156,
    "start_time": "2022-02-02T18:46:32.468Z"
   },
   {
    "duration": 199,
    "start_time": "2022-02-02T18:46:32.626Z"
   },
   {
    "duration": 223,
    "start_time": "2022-02-02T18:46:32.827Z"
   },
   {
    "duration": 226,
    "start_time": "2022-02-02T18:46:33.052Z"
   },
   {
    "duration": 51,
    "start_time": "2022-02-02T18:46:33.280Z"
   },
   {
    "duration": 14,
    "start_time": "2022-02-02T18:46:33.336Z"
   },
   {
    "duration": 16,
    "start_time": "2022-02-02T18:46:33.352Z"
   },
   {
    "duration": 237,
    "start_time": "2022-02-02T18:46:33.370Z"
   },
   {
    "duration": 50,
    "start_time": "2022-02-02T18:46:33.609Z"
   },
   {
    "duration": 268,
    "start_time": "2022-02-02T18:46:33.661Z"
   },
   {
    "duration": 278,
    "start_time": "2022-02-02T18:46:33.932Z"
   },
   {
    "duration": 362,
    "start_time": "2022-02-02T18:46:34.213Z"
   },
   {
    "duration": 311,
    "start_time": "2022-02-02T18:46:34.577Z"
   },
   {
    "duration": 6323,
    "start_time": "2022-02-02T18:46:34.890Z"
   },
   {
    "duration": 238,
    "start_time": "2022-02-02T18:50:21.662Z"
   },
   {
    "duration": 207,
    "start_time": "2022-02-02T18:51:01.094Z"
   },
   {
    "duration": 232,
    "start_time": "2022-02-02T18:51:29.853Z"
   },
   {
    "duration": 331,
    "start_time": "2022-02-03T08:43:51.869Z"
   },
   {
    "duration": 755,
    "start_time": "2022-02-03T08:44:28.083Z"
   },
   {
    "duration": 41,
    "start_time": "2022-02-03T08:44:28.840Z"
   },
   {
    "duration": 42,
    "start_time": "2022-02-03T08:44:28.885Z"
   },
   {
    "duration": 7,
    "start_time": "2022-02-03T08:44:28.928Z"
   },
   {
    "duration": 6,
    "start_time": "2022-02-03T08:44:28.936Z"
   },
   {
    "duration": 9,
    "start_time": "2022-02-03T08:44:28.944Z"
   },
   {
    "duration": 7,
    "start_time": "2022-02-03T08:44:28.955Z"
   },
   {
    "duration": 11,
    "start_time": "2022-02-03T08:44:28.964Z"
   },
   {
    "duration": 8,
    "start_time": "2022-02-03T08:44:28.976Z"
   },
   {
    "duration": 35,
    "start_time": "2022-02-03T08:44:28.986Z"
   },
   {
    "duration": 10,
    "start_time": "2022-02-03T08:44:29.022Z"
   },
   {
    "duration": 64,
    "start_time": "2022-02-03T08:44:29.034Z"
   },
   {
    "duration": 757,
    "start_time": "2022-02-03T08:44:29.119Z"
   },
   {
    "duration": 52,
    "start_time": "2022-02-03T08:44:29.878Z"
   },
   {
    "duration": 354,
    "start_time": "2022-02-03T08:44:29.932Z"
   },
   {
    "duration": 341,
    "start_time": "2022-02-03T08:44:30.288Z"
   },
   {
    "duration": 242,
    "start_time": "2022-02-03T08:44:30.631Z"
   },
   {
    "duration": 252,
    "start_time": "2022-02-03T08:44:30.875Z"
   },
   {
    "duration": 296,
    "start_time": "2022-02-03T08:44:31.129Z"
   },
   {
    "duration": 305,
    "start_time": "2022-02-03T08:44:31.427Z"
   },
   {
    "duration": 4248,
    "start_time": "2022-02-03T08:44:31.733Z"
   },
   {
    "duration": 152,
    "start_time": "2022-02-03T08:44:35.984Z"
   },
   {
    "duration": 161,
    "start_time": "2022-02-03T08:44:36.138Z"
   },
   {
    "duration": 186,
    "start_time": "2022-02-03T08:44:36.301Z"
   },
   {
    "duration": 168,
    "start_time": "2022-02-03T08:44:36.489Z"
   },
   {
    "duration": 31,
    "start_time": "2022-02-03T08:44:36.659Z"
   },
   {
    "duration": 26,
    "start_time": "2022-02-03T08:44:36.692Z"
   },
   {
    "duration": 8,
    "start_time": "2022-02-03T08:44:36.720Z"
   },
   {
    "duration": 190,
    "start_time": "2022-02-03T08:44:36.730Z"
   },
   {
    "duration": 43,
    "start_time": "2022-02-03T08:44:36.922Z"
   },
   {
    "duration": 240,
    "start_time": "2022-02-03T08:44:36.967Z"
   },
   {
    "duration": 240,
    "start_time": "2022-02-03T08:44:37.209Z"
   },
   {
    "duration": 288,
    "start_time": "2022-02-03T08:44:37.451Z"
   },
   {
    "duration": 217,
    "start_time": "2022-02-03T08:44:37.741Z"
   },
   {
    "duration": 3,
    "start_time": "2022-02-03T08:44:37.960Z"
   },
   {
    "duration": 1953,
    "start_time": "2022-02-03T08:44:37.965Z"
   },
   {
    "duration": 146,
    "start_time": "2022-02-03T08:46:36.127Z"
   },
   {
    "duration": 158,
    "start_time": "2022-02-03T08:47:32.106Z"
   },
   {
    "duration": 153,
    "start_time": "2022-02-03T08:47:37.222Z"
   },
   {
    "duration": 244,
    "start_time": "2022-02-03T08:48:32.375Z"
   },
   {
    "duration": 139,
    "start_time": "2022-02-03T08:49:24.686Z"
   },
   {
    "duration": 144,
    "start_time": "2022-02-03T08:50:25.911Z"
   },
   {
    "duration": 167,
    "start_time": "2022-02-03T08:51:21.728Z"
   },
   {
    "duration": 180,
    "start_time": "2022-02-03T08:51:41.226Z"
   },
   {
    "duration": 157,
    "start_time": "2022-02-03T08:52:54.307Z"
   },
   {
    "duration": 148,
    "start_time": "2022-02-03T08:53:06.722Z"
   },
   {
    "duration": 352,
    "start_time": "2022-02-03T08:53:42.283Z"
   },
   {
    "duration": 340,
    "start_time": "2022-02-03T08:54:26.961Z"
   },
   {
    "duration": 766,
    "start_time": "2022-02-03T08:55:19.176Z"
   },
   {
    "duration": 41,
    "start_time": "2022-02-03T08:55:19.944Z"
   },
   {
    "duration": 46,
    "start_time": "2022-02-03T08:55:19.987Z"
   },
   {
    "duration": 7,
    "start_time": "2022-02-03T08:55:20.035Z"
   },
   {
    "duration": 10,
    "start_time": "2022-02-03T08:55:20.043Z"
   },
   {
    "duration": 32,
    "start_time": "2022-02-03T08:55:20.055Z"
   },
   {
    "duration": 13,
    "start_time": "2022-02-03T08:55:20.089Z"
   },
   {
    "duration": 26,
    "start_time": "2022-02-03T08:55:20.103Z"
   },
   {
    "duration": 9,
    "start_time": "2022-02-03T08:55:20.132Z"
   },
   {
    "duration": 18,
    "start_time": "2022-02-03T08:55:20.143Z"
   },
   {
    "duration": 35,
    "start_time": "2022-02-03T08:55:20.163Z"
   },
   {
    "duration": 90,
    "start_time": "2022-02-03T08:55:20.200Z"
   },
   {
    "duration": 771,
    "start_time": "2022-02-03T08:55:20.292Z"
   },
   {
    "duration": 54,
    "start_time": "2022-02-03T08:55:21.065Z"
   },
   {
    "duration": 332,
    "start_time": "2022-02-03T08:55:21.121Z"
   },
   {
    "duration": 312,
    "start_time": "2022-02-03T08:55:21.454Z"
   },
   {
    "duration": 243,
    "start_time": "2022-02-03T08:55:21.768Z"
   },
   {
    "duration": 252,
    "start_time": "2022-02-03T08:55:22.013Z"
   },
   {
    "duration": 287,
    "start_time": "2022-02-03T08:55:22.267Z"
   },
   {
    "duration": 296,
    "start_time": "2022-02-03T08:55:22.556Z"
   },
   {
    "duration": 5068,
    "start_time": "2022-02-03T08:55:22.855Z"
   },
   {
    "duration": 137,
    "start_time": "2022-02-03T08:55:27.925Z"
   },
   {
    "duration": 156,
    "start_time": "2022-02-03T08:55:28.063Z"
   },
   {
    "duration": 190,
    "start_time": "2022-02-03T08:55:28.220Z"
   },
   {
    "duration": 167,
    "start_time": "2022-02-03T08:55:28.411Z"
   },
   {
    "duration": 39,
    "start_time": "2022-02-03T08:55:28.579Z"
   },
   {
    "duration": 8,
    "start_time": "2022-02-03T08:55:28.621Z"
   },
   {
    "duration": 9,
    "start_time": "2022-02-03T08:55:28.631Z"
   },
   {
    "duration": 194,
    "start_time": "2022-02-03T08:55:28.642Z"
   },
   {
    "duration": 42,
    "start_time": "2022-02-03T08:55:28.838Z"
   },
   {
    "duration": 245,
    "start_time": "2022-02-03T08:55:28.882Z"
   },
   {
    "duration": 233,
    "start_time": "2022-02-03T08:55:29.129Z"
   },
   {
    "duration": 287,
    "start_time": "2022-02-03T08:55:29.364Z"
   },
   {
    "duration": 236,
    "start_time": "2022-02-03T08:55:29.653Z"
   },
   {
    "duration": 2131,
    "start_time": "2022-02-03T08:55:29.891Z"
   },
   {
    "duration": 151,
    "start_time": "2022-02-03T08:55:32.024Z"
   },
   {
    "duration": 172,
    "start_time": "2022-02-03T08:55:32.177Z"
   },
   {
    "duration": 432,
    "start_time": "2022-02-03T08:55:32.351Z"
   },
   {
    "duration": 155,
    "start_time": "2022-02-03T08:55:32.785Z"
   },
   {
    "duration": 268,
    "start_time": "2022-02-03T08:56:01.360Z"
   },
   {
    "duration": 139,
    "start_time": "2022-02-03T08:56:32.586Z"
   },
   {
    "duration": 699,
    "start_time": "2022-02-03T08:56:48.165Z"
   },
   {
    "duration": 54,
    "start_time": "2022-02-03T08:56:48.865Z"
   },
   {
    "duration": 30,
    "start_time": "2022-02-03T08:56:48.921Z"
   },
   {
    "duration": 6,
    "start_time": "2022-02-03T08:56:48.953Z"
   },
   {
    "duration": 7,
    "start_time": "2022-02-03T08:56:48.961Z"
   },
   {
    "duration": 11,
    "start_time": "2022-02-03T08:56:48.969Z"
   },
   {
    "duration": 36,
    "start_time": "2022-02-03T08:56:48.982Z"
   },
   {
    "duration": 8,
    "start_time": "2022-02-03T08:56:49.022Z"
   },
   {
    "duration": 7,
    "start_time": "2022-02-03T08:56:49.033Z"
   },
   {
    "duration": 8,
    "start_time": "2022-02-03T08:56:49.042Z"
   },
   {
    "duration": 30,
    "start_time": "2022-02-03T08:56:49.052Z"
   },
   {
    "duration": 134,
    "start_time": "2022-02-03T08:56:49.097Z"
   },
   {
    "duration": 974,
    "start_time": "2022-02-03T08:56:49.233Z"
   },
   {
    "duration": 65,
    "start_time": "2022-02-03T08:56:50.208Z"
   },
   {
    "duration": 378,
    "start_time": "2022-02-03T08:56:50.275Z"
   },
   {
    "duration": 307,
    "start_time": "2022-02-03T08:56:50.655Z"
   },
   {
    "duration": 303,
    "start_time": "2022-02-03T08:56:50.964Z"
   },
   {
    "duration": 290,
    "start_time": "2022-02-03T08:56:51.269Z"
   },
   {
    "duration": 289,
    "start_time": "2022-02-03T08:56:51.561Z"
   },
   {
    "duration": 305,
    "start_time": "2022-02-03T08:56:51.852Z"
   },
   {
    "duration": 4197,
    "start_time": "2022-02-03T08:56:52.158Z"
   },
   {
    "duration": 143,
    "start_time": "2022-02-03T08:56:56.357Z"
   },
   {
    "duration": 166,
    "start_time": "2022-02-03T08:56:56.503Z"
   },
   {
    "duration": 187,
    "start_time": "2022-02-03T08:56:56.671Z"
   },
   {
    "duration": 165,
    "start_time": "2022-02-03T08:56:56.860Z"
   },
   {
    "duration": 32,
    "start_time": "2022-02-03T08:56:57.027Z"
   },
   {
    "duration": 8,
    "start_time": "2022-02-03T08:56:57.060Z"
   },
   {
    "duration": 10,
    "start_time": "2022-02-03T08:56:57.069Z"
   },
   {
    "duration": 195,
    "start_time": "2022-02-03T08:56:57.081Z"
   },
   {
    "duration": 56,
    "start_time": "2022-02-03T08:56:57.278Z"
   },
   {
    "duration": 230,
    "start_time": "2022-02-03T08:56:57.335Z"
   },
   {
    "duration": 220,
    "start_time": "2022-02-03T08:56:57.567Z"
   },
   {
    "duration": 268,
    "start_time": "2022-02-03T08:56:57.789Z"
   },
   {
    "duration": 211,
    "start_time": "2022-02-03T08:56:58.059Z"
   },
   {
    "duration": 1917,
    "start_time": "2022-02-03T08:56:58.272Z"
   },
   {
    "duration": 207,
    "start_time": "2022-02-03T08:57:00.191Z"
   },
   {
    "duration": 178,
    "start_time": "2022-02-03T08:57:00.400Z"
   },
   {
    "duration": 449,
    "start_time": "2022-02-03T08:57:00.580Z"
   },
   {
    "duration": 170,
    "start_time": "2022-02-03T08:57:01.031Z"
   },
   {
    "duration": 765,
    "start_time": "2022-02-03T08:58:01.127Z"
   },
   {
    "duration": 50,
    "start_time": "2022-02-03T08:58:01.894Z"
   },
   {
    "duration": 30,
    "start_time": "2022-02-03T08:58:01.946Z"
   },
   {
    "duration": 8,
    "start_time": "2022-02-03T08:58:01.978Z"
   },
   {
    "duration": 32,
    "start_time": "2022-02-03T08:58:01.988Z"
   },
   {
    "duration": 16,
    "start_time": "2022-02-03T08:58:02.021Z"
   },
   {
    "duration": 17,
    "start_time": "2022-02-03T08:58:02.038Z"
   },
   {
    "duration": 11,
    "start_time": "2022-02-03T08:58:02.058Z"
   },
   {
    "duration": 8,
    "start_time": "2022-02-03T08:58:02.071Z"
   },
   {
    "duration": 7,
    "start_time": "2022-02-03T08:58:02.081Z"
   },
   {
    "duration": 28,
    "start_time": "2022-02-03T08:58:02.090Z"
   },
   {
    "duration": 64,
    "start_time": "2022-02-03T08:58:02.120Z"
   },
   {
    "duration": 783,
    "start_time": "2022-02-03T08:58:02.185Z"
   },
   {
    "duration": 54,
    "start_time": "2022-02-03T08:58:02.969Z"
   },
   {
    "duration": 349,
    "start_time": "2022-02-03T08:58:03.026Z"
   },
   {
    "duration": 317,
    "start_time": "2022-02-03T08:58:03.377Z"
   },
   {
    "duration": 240,
    "start_time": "2022-02-03T08:58:03.696Z"
   },
   {
    "duration": 250,
    "start_time": "2022-02-03T08:58:03.938Z"
   },
   {
    "duration": 316,
    "start_time": "2022-02-03T08:58:04.189Z"
   },
   {
    "duration": 337,
    "start_time": "2022-02-03T08:58:04.507Z"
   },
   {
    "duration": 4391,
    "start_time": "2022-02-03T08:58:04.847Z"
   },
   {
    "duration": 233,
    "start_time": "2022-02-03T08:58:09.240Z"
   },
   {
    "duration": 162,
    "start_time": "2022-02-03T08:58:09.477Z"
   },
   {
    "duration": 198,
    "start_time": "2022-02-03T08:58:09.641Z"
   },
   {
    "duration": 186,
    "start_time": "2022-02-03T08:58:09.841Z"
   },
   {
    "duration": 34,
    "start_time": "2022-02-03T08:58:10.028Z"
   },
   {
    "duration": 9,
    "start_time": "2022-02-03T08:58:10.064Z"
   },
   {
    "duration": 23,
    "start_time": "2022-02-03T08:58:10.075Z"
   },
   {
    "duration": 183,
    "start_time": "2022-02-03T08:58:10.118Z"
   },
   {
    "duration": 56,
    "start_time": "2022-02-03T08:58:10.303Z"
   },
   {
    "duration": 240,
    "start_time": "2022-02-03T08:58:10.360Z"
   },
   {
    "duration": 230,
    "start_time": "2022-02-03T08:58:10.601Z"
   },
   {
    "duration": 296,
    "start_time": "2022-02-03T08:58:10.833Z"
   },
   {
    "duration": 234,
    "start_time": "2022-02-03T08:58:11.130Z"
   },
   {
    "duration": 2200,
    "start_time": "2022-02-03T08:58:11.366Z"
   },
   {
    "duration": 159,
    "start_time": "2022-02-03T08:58:13.568Z"
   },
   {
    "duration": 342,
    "start_time": "2022-02-03T08:58:13.729Z"
   },
   {
    "duration": 450,
    "start_time": "2022-02-03T08:58:14.073Z"
   },
   {
    "duration": 162,
    "start_time": "2022-02-03T08:58:14.525Z"
   },
   {
    "duration": 165,
    "start_time": "2022-02-03T09:14:15.111Z"
   },
   {
    "duration": 244,
    "start_time": "2022-02-03T09:16:31.916Z"
   },
   {
    "duration": 247,
    "start_time": "2022-02-03T09:17:18.545Z"
   },
   {
    "duration": 204,
    "start_time": "2022-02-03T09:17:49.653Z"
   },
   {
    "duration": 226,
    "start_time": "2022-02-03T09:18:32.865Z"
   },
   {
    "duration": 113,
    "start_time": "2022-02-03T09:23:29.877Z"
   },
   {
    "duration": 78,
    "start_time": "2022-02-03T09:42:24.476Z"
   },
   {
    "duration": 748,
    "start_time": "2022-02-03T09:42:39.839Z"
   },
   {
    "duration": 53,
    "start_time": "2022-02-03T09:42:40.589Z"
   },
   {
    "duration": 30,
    "start_time": "2022-02-03T09:42:40.644Z"
   },
   {
    "duration": 7,
    "start_time": "2022-02-03T09:42:40.676Z"
   },
   {
    "duration": 34,
    "start_time": "2022-02-03T09:42:40.685Z"
   },
   {
    "duration": 10,
    "start_time": "2022-02-03T09:42:40.721Z"
   },
   {
    "duration": 6,
    "start_time": "2022-02-03T09:42:40.732Z"
   },
   {
    "duration": 9,
    "start_time": "2022-02-03T09:42:40.741Z"
   },
   {
    "duration": 6,
    "start_time": "2022-02-03T09:42:40.752Z"
   },
   {
    "duration": 7,
    "start_time": "2022-02-03T09:42:40.760Z"
   },
   {
    "duration": 51,
    "start_time": "2022-02-03T09:42:40.768Z"
   },
   {
    "duration": 65,
    "start_time": "2022-02-03T09:42:40.821Z"
   },
   {
    "duration": 801,
    "start_time": "2022-02-03T09:42:40.888Z"
   },
   {
    "duration": 57,
    "start_time": "2022-02-03T09:42:41.691Z"
   },
   {
    "duration": 349,
    "start_time": "2022-02-03T09:42:41.750Z"
   },
   {
    "duration": 303,
    "start_time": "2022-02-03T09:42:42.101Z"
   },
   {
    "duration": 234,
    "start_time": "2022-02-03T09:42:42.418Z"
   },
   {
    "duration": 249,
    "start_time": "2022-02-03T09:42:42.654Z"
   },
   {
    "duration": 304,
    "start_time": "2022-02-03T09:42:42.905Z"
   },
   {
    "duration": 311,
    "start_time": "2022-02-03T09:42:43.210Z"
   },
   {
    "duration": 4436,
    "start_time": "2022-02-03T09:42:43.523Z"
   },
   {
    "duration": 151,
    "start_time": "2022-02-03T09:42:47.961Z"
   },
   {
    "duration": 164,
    "start_time": "2022-02-03T09:42:48.120Z"
   },
   {
    "duration": 192,
    "start_time": "2022-02-03T09:42:48.286Z"
   },
   {
    "duration": 183,
    "start_time": "2022-02-03T09:42:48.480Z"
   },
   {
    "duration": 59,
    "start_time": "2022-02-03T09:42:48.665Z"
   },
   {
    "duration": 10,
    "start_time": "2022-02-03T09:42:48.726Z"
   },
   {
    "duration": 15,
    "start_time": "2022-02-03T09:42:48.738Z"
   },
   {
    "duration": 227,
    "start_time": "2022-02-03T09:42:48.754Z"
   },
   {
    "duration": 49,
    "start_time": "2022-02-03T09:42:48.982Z"
   },
   {
    "duration": 271,
    "start_time": "2022-02-03T09:42:49.033Z"
   },
   {
    "duration": 298,
    "start_time": "2022-02-03T09:42:49.305Z"
   },
   {
    "duration": 302,
    "start_time": "2022-02-03T09:42:49.605Z"
   },
   {
    "duration": 257,
    "start_time": "2022-02-03T09:42:49.908Z"
   },
   {
    "duration": 2177,
    "start_time": "2022-02-03T09:42:50.167Z"
   },
   {
    "duration": 217,
    "start_time": "2022-02-03T09:42:52.346Z"
   },
   {
    "duration": 356,
    "start_time": "2022-02-03T09:42:52.564Z"
   },
   {
    "duration": 514,
    "start_time": "2022-02-03T09:42:52.922Z"
   },
   {
    "duration": 183,
    "start_time": "2022-02-03T09:42:53.438Z"
   },
   {
    "duration": 1183,
    "start_time": "2022-02-04T06:21:03.348Z"
   },
   {
    "duration": 66,
    "start_time": "2022-02-04T06:21:04.534Z"
   },
   {
    "duration": 62,
    "start_time": "2022-02-04T06:21:04.603Z"
   },
   {
    "duration": 10,
    "start_time": "2022-02-04T06:21:04.668Z"
   },
   {
    "duration": 17,
    "start_time": "2022-02-04T06:21:04.680Z"
   },
   {
    "duration": 43,
    "start_time": "2022-02-04T06:21:04.700Z"
   },
   {
    "duration": 11,
    "start_time": "2022-02-04T06:21:04.746Z"
   },
   {
    "duration": 13,
    "start_time": "2022-02-04T06:21:04.760Z"
   },
   {
    "duration": 11,
    "start_time": "2022-02-04T06:21:04.779Z"
   },
   {
    "duration": 49,
    "start_time": "2022-02-04T06:21:04.794Z"
   },
   {
    "duration": 20,
    "start_time": "2022-02-04T06:21:04.846Z"
   },
   {
    "duration": 125,
    "start_time": "2022-02-04T06:21:04.868Z"
   },
   {
    "duration": 1348,
    "start_time": "2022-02-04T06:21:04.995Z"
   },
   {
    "duration": 60,
    "start_time": "2022-02-04T06:21:06.345Z"
   },
   {
    "duration": 529,
    "start_time": "2022-02-04T06:21:06.407Z"
   },
   {
    "duration": 496,
    "start_time": "2022-02-04T06:21:06.939Z"
   },
   {
    "duration": 381,
    "start_time": "2022-02-04T06:21:07.438Z"
   },
   {
    "duration": 387,
    "start_time": "2022-02-04T06:21:07.822Z"
   },
   {
    "duration": 467,
    "start_time": "2022-02-04T06:21:08.211Z"
   },
   {
    "duration": 489,
    "start_time": "2022-02-04T06:21:08.681Z"
   },
   {
    "duration": 6616,
    "start_time": "2022-02-04T06:21:09.173Z"
   },
   {
    "duration": 226,
    "start_time": "2022-02-04T06:21:15.791Z"
   },
   {
    "duration": 246,
    "start_time": "2022-02-04T06:21:16.020Z"
   },
   {
    "duration": 292,
    "start_time": "2022-02-04T06:21:16.268Z"
   },
   {
    "duration": 274,
    "start_time": "2022-02-04T06:21:16.562Z"
   },
   {
    "duration": 45,
    "start_time": "2022-02-04T06:21:16.839Z"
   },
   {
    "duration": 12,
    "start_time": "2022-02-04T06:21:16.890Z"
   },
   {
    "duration": 41,
    "start_time": "2022-02-04T06:21:16.905Z"
   },
   {
    "duration": 313,
    "start_time": "2022-02-04T06:21:16.949Z"
   },
   {
    "duration": 88,
    "start_time": "2022-02-04T06:21:17.265Z"
   },
   {
    "duration": 419,
    "start_time": "2022-02-04T06:21:17.356Z"
   },
   {
    "duration": 402,
    "start_time": "2022-02-04T06:21:17.778Z"
   },
   {
    "duration": 431,
    "start_time": "2022-02-04T06:21:18.183Z"
   },
   {
    "duration": 408,
    "start_time": "2022-02-04T06:21:18.617Z"
   },
   {
    "duration": 3180,
    "start_time": "2022-02-04T06:21:19.028Z"
   },
   {
    "duration": 238,
    "start_time": "2022-02-04T06:21:22.211Z"
   },
   {
    "duration": 714,
    "start_time": "2022-02-04T06:21:22.451Z"
   },
   {
    "duration": 679,
    "start_time": "2022-02-04T06:21:23.168Z"
   },
   {
    "duration": 255,
    "start_time": "2022-02-04T06:21:23.851Z"
   },
   {
    "duration": 6,
    "start_time": "2022-02-04T06:21:33.679Z"
   },
   {
    "duration": 12,
    "start_time": "2022-02-04T06:25:10.224Z"
   },
   {
    "duration": 13,
    "start_time": "2022-02-04T06:25:23.424Z"
   },
   {
    "duration": 12,
    "start_time": "2022-02-04T06:25:24.534Z"
   },
   {
    "duration": 591,
    "start_time": "2022-02-04T06:25:37.009Z"
   },
   {
    "duration": 470,
    "start_time": "2022-02-04T06:26:04.082Z"
   },
   {
    "duration": 340,
    "start_time": "2022-02-04T06:26:14.185Z"
   },
   {
    "duration": 352,
    "start_time": "2022-02-04T06:26:18.303Z"
   },
   {
    "duration": 406,
    "start_time": "2022-02-04T06:26:59.432Z"
   },
   {
    "duration": 423,
    "start_time": "2022-02-04T06:28:21.745Z"
   },
   {
    "duration": 375,
    "start_time": "2022-02-04T06:28:39.626Z"
   },
   {
    "duration": 379,
    "start_time": "2022-02-04T06:28:55.559Z"
   },
   {
    "duration": 4,
    "start_time": "2022-02-04T06:29:06.090Z"
   },
   {
    "duration": 6,
    "start_time": "2022-02-04T06:29:06.835Z"
   },
   {
    "duration": 14,
    "start_time": "2022-02-04T06:29:08.924Z"
   },
   {
    "duration": 7,
    "start_time": "2022-02-04T06:29:34.727Z"
   },
   {
    "duration": 8,
    "start_time": "2022-02-04T06:34:38.899Z"
   },
   {
    "duration": 10,
    "start_time": "2022-02-04T06:34:50.884Z"
   },
   {
    "duration": 9,
    "start_time": "2022-02-04T06:34:58.386Z"
   }
  ],
  "kernelspec": {
   "display_name": "Python 3 (ipykernel)",
   "language": "python",
   "name": "python3"
  },
  "language_info": {
   "codemirror_mode": {
    "name": "ipython",
    "version": 3
   },
   "file_extension": ".py",
   "mimetype": "text/x-python",
   "name": "python",
   "nbconvert_exporter": "python",
   "pygments_lexer": "ipython3",
   "version": "3.9.12"
  },
  "toc": {
   "base_numbering": 1,
   "nav_menu": {},
   "number_sections": true,
   "sideBar": true,
   "skip_h1_title": true,
   "title_cell": "Содержание",
   "title_sidebar": "Contents",
   "toc_cell": true,
   "toc_position": {},
   "toc_section_display": true,
   "toc_window_display": false
  }
 },
 "nbformat": 4,
 "nbformat_minor": 2
}
