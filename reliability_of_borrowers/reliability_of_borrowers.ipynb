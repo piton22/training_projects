{
 "cells": [
  {
   "cell_type": "markdown",
   "metadata": {},
   "source": [
    "# Исследование надёжности заёмщиков\n",
    "\n",
    "Заказчик — кредитный отдел банка. Нужно разобраться, влияет ли семейное положение и количество детей у клиента на факт погашения кредита в срок. Входные данные от банка — статистика о платёжеспособности клиентов.\n",
    "\n",
    "Результаты исследования будут учтены при построении модели **кредитного скоринга** — специальной системы, которая оценивает способность потенциального заёмщика вернуть кредит банку."
   ]
  },
  {
   "cell_type": "markdown",
   "metadata": {},
   "source": [
    "## Изучение данных"
   ]
  },
  {
   "cell_type": "code",
   "execution_count": 1,
   "metadata": {},
   "outputs": [
    {
     "name": "stdout",
     "output_type": "stream",
     "text": [
      "Requirement already satisfied: pymystem3 in /opt/conda/lib/python3.9/site-packages (0.2.0)\r\n",
      "Requirement already satisfied: requests in /opt/conda/lib/python3.9/site-packages (from pymystem3) (2.25.1)\r\n",
      "Requirement already satisfied: idna<3,>=2.5 in /opt/conda/lib/python3.9/site-packages (from requests->pymystem3) (2.10)\r\n",
      "Requirement already satisfied: chardet<5,>=3.0.2 in /opt/conda/lib/python3.9/site-packages (from requests->pymystem3) (4.0.0)\r\n",
      "Requirement already satisfied: certifi>=2017.4.17 in /opt/conda/lib/python3.9/site-packages (from requests->pymystem3) (2022.5.18.1)\r\n",
      "Requirement already satisfied: urllib3<1.27,>=1.21.1 in /opt/conda/lib/python3.9/site-packages (from requests->pymystem3) (1.26.6)\r\n"
     ]
    }
   ],
   "source": [
    "!pip install pymystem3\n",
    "\n",
    "import pandas as pd                      \n",
    "from pymystem3 import Mystem\n",
    "from collections import Counter\n",
    "import matplotlib.pyplot as plt\n",
    "m = Mystem()"
   ]
  },
  {
   "cell_type": "code",
   "execution_count": 2,
   "metadata": {},
   "outputs": [],
   "source": [
    "try:\n",
    "    data = pd.read_csv('/datasets/data.csv')\n",
    "except:\n",
    "    data = pd.read_csv(\"C:\\\\Users\\\\Дмитрий\\\\Desktop\\\\Проекты Я.Практикум\\\\reliability_of_borrowers\\data.csv\")"
   ]
  },
  {
   "cell_type": "code",
   "execution_count": 3,
   "metadata": {},
   "outputs": [
    {
     "name": "stdout",
     "output_type": "stream",
     "text": [
      "<class 'pandas.core.frame.DataFrame'>\n",
      "RangeIndex: 21525 entries, 0 to 21524\n",
      "Data columns (total 12 columns):\n",
      " #   Column            Non-Null Count  Dtype  \n",
      "---  ------            --------------  -----  \n",
      " 0   children          21525 non-null  int64  \n",
      " 1   days_employed     19351 non-null  float64\n",
      " 2   dob_years         21525 non-null  int64  \n",
      " 3   education         21525 non-null  object \n",
      " 4   education_id      21525 non-null  int64  \n",
      " 5   family_status     21525 non-null  object \n",
      " 6   family_status_id  21525 non-null  int64  \n",
      " 7   gender            21525 non-null  object \n",
      " 8   income_type       21525 non-null  object \n",
      " 9   debt              21525 non-null  int64  \n",
      " 10  total_income      19351 non-null  float64\n",
      " 11  purpose           21525 non-null  object \n",
      "dtypes: float64(2), int64(5), object(5)\n",
      "memory usage: 2.0+ MB\n"
     ]
    },
    {
     "data": {
      "text/html": [
       "<div>\n",
       "<style scoped>\n",
       "    .dataframe tbody tr th:only-of-type {\n",
       "        vertical-align: middle;\n",
       "    }\n",
       "\n",
       "    .dataframe tbody tr th {\n",
       "        vertical-align: top;\n",
       "    }\n",
       "\n",
       "    .dataframe thead th {\n",
       "        text-align: right;\n",
       "    }\n",
       "</style>\n",
       "<table border=\"1\" class=\"dataframe\">\n",
       "  <thead>\n",
       "    <tr style=\"text-align: right;\">\n",
       "      <th></th>\n",
       "      <th>children</th>\n",
       "      <th>days_employed</th>\n",
       "      <th>dob_years</th>\n",
       "      <th>education</th>\n",
       "      <th>education_id</th>\n",
       "      <th>family_status</th>\n",
       "      <th>family_status_id</th>\n",
       "      <th>gender</th>\n",
       "      <th>income_type</th>\n",
       "      <th>debt</th>\n",
       "      <th>total_income</th>\n",
       "      <th>purpose</th>\n",
       "    </tr>\n",
       "  </thead>\n",
       "  <tbody>\n",
       "    <tr>\n",
       "      <th>0</th>\n",
       "      <td>1</td>\n",
       "      <td>-8437.673028</td>\n",
       "      <td>42</td>\n",
       "      <td>высшее</td>\n",
       "      <td>0</td>\n",
       "      <td>женат / замужем</td>\n",
       "      <td>0</td>\n",
       "      <td>F</td>\n",
       "      <td>сотрудник</td>\n",
       "      <td>0</td>\n",
       "      <td>253875.639453</td>\n",
       "      <td>покупка жилья</td>\n",
       "    </tr>\n",
       "    <tr>\n",
       "      <th>1</th>\n",
       "      <td>1</td>\n",
       "      <td>-4024.803754</td>\n",
       "      <td>36</td>\n",
       "      <td>среднее</td>\n",
       "      <td>1</td>\n",
       "      <td>женат / замужем</td>\n",
       "      <td>0</td>\n",
       "      <td>F</td>\n",
       "      <td>сотрудник</td>\n",
       "      <td>0</td>\n",
       "      <td>112080.014102</td>\n",
       "      <td>приобретение автомобиля</td>\n",
       "    </tr>\n",
       "    <tr>\n",
       "      <th>2</th>\n",
       "      <td>0</td>\n",
       "      <td>-5623.422610</td>\n",
       "      <td>33</td>\n",
       "      <td>Среднее</td>\n",
       "      <td>1</td>\n",
       "      <td>женат / замужем</td>\n",
       "      <td>0</td>\n",
       "      <td>M</td>\n",
       "      <td>сотрудник</td>\n",
       "      <td>0</td>\n",
       "      <td>145885.952297</td>\n",
       "      <td>покупка жилья</td>\n",
       "    </tr>\n",
       "    <tr>\n",
       "      <th>3</th>\n",
       "      <td>3</td>\n",
       "      <td>-4124.747207</td>\n",
       "      <td>32</td>\n",
       "      <td>среднее</td>\n",
       "      <td>1</td>\n",
       "      <td>женат / замужем</td>\n",
       "      <td>0</td>\n",
       "      <td>M</td>\n",
       "      <td>сотрудник</td>\n",
       "      <td>0</td>\n",
       "      <td>267628.550329</td>\n",
       "      <td>дополнительное образование</td>\n",
       "    </tr>\n",
       "    <tr>\n",
       "      <th>4</th>\n",
       "      <td>0</td>\n",
       "      <td>340266.072047</td>\n",
       "      <td>53</td>\n",
       "      <td>среднее</td>\n",
       "      <td>1</td>\n",
       "      <td>гражданский брак</td>\n",
       "      <td>1</td>\n",
       "      <td>F</td>\n",
       "      <td>пенсионер</td>\n",
       "      <td>0</td>\n",
       "      <td>158616.077870</td>\n",
       "      <td>сыграть свадьбу</td>\n",
       "    </tr>\n",
       "    <tr>\n",
       "      <th>...</th>\n",
       "      <td>...</td>\n",
       "      <td>...</td>\n",
       "      <td>...</td>\n",
       "      <td>...</td>\n",
       "      <td>...</td>\n",
       "      <td>...</td>\n",
       "      <td>...</td>\n",
       "      <td>...</td>\n",
       "      <td>...</td>\n",
       "      <td>...</td>\n",
       "      <td>...</td>\n",
       "      <td>...</td>\n",
       "    </tr>\n",
       "    <tr>\n",
       "      <th>21520</th>\n",
       "      <td>1</td>\n",
       "      <td>-4529.316663</td>\n",
       "      <td>43</td>\n",
       "      <td>среднее</td>\n",
       "      <td>1</td>\n",
       "      <td>гражданский брак</td>\n",
       "      <td>1</td>\n",
       "      <td>F</td>\n",
       "      <td>компаньон</td>\n",
       "      <td>0</td>\n",
       "      <td>224791.862382</td>\n",
       "      <td>операции с жильем</td>\n",
       "    </tr>\n",
       "    <tr>\n",
       "      <th>21521</th>\n",
       "      <td>0</td>\n",
       "      <td>343937.404131</td>\n",
       "      <td>67</td>\n",
       "      <td>среднее</td>\n",
       "      <td>1</td>\n",
       "      <td>женат / замужем</td>\n",
       "      <td>0</td>\n",
       "      <td>F</td>\n",
       "      <td>пенсионер</td>\n",
       "      <td>0</td>\n",
       "      <td>155999.806512</td>\n",
       "      <td>сделка с автомобилем</td>\n",
       "    </tr>\n",
       "    <tr>\n",
       "      <th>21522</th>\n",
       "      <td>1</td>\n",
       "      <td>-2113.346888</td>\n",
       "      <td>38</td>\n",
       "      <td>среднее</td>\n",
       "      <td>1</td>\n",
       "      <td>гражданский брак</td>\n",
       "      <td>1</td>\n",
       "      <td>M</td>\n",
       "      <td>сотрудник</td>\n",
       "      <td>1</td>\n",
       "      <td>89672.561153</td>\n",
       "      <td>недвижимость</td>\n",
       "    </tr>\n",
       "    <tr>\n",
       "      <th>21523</th>\n",
       "      <td>3</td>\n",
       "      <td>-3112.481705</td>\n",
       "      <td>38</td>\n",
       "      <td>среднее</td>\n",
       "      <td>1</td>\n",
       "      <td>женат / замужем</td>\n",
       "      <td>0</td>\n",
       "      <td>M</td>\n",
       "      <td>сотрудник</td>\n",
       "      <td>1</td>\n",
       "      <td>244093.050500</td>\n",
       "      <td>на покупку своего автомобиля</td>\n",
       "    </tr>\n",
       "    <tr>\n",
       "      <th>21524</th>\n",
       "      <td>2</td>\n",
       "      <td>-1984.507589</td>\n",
       "      <td>40</td>\n",
       "      <td>среднее</td>\n",
       "      <td>1</td>\n",
       "      <td>женат / замужем</td>\n",
       "      <td>0</td>\n",
       "      <td>F</td>\n",
       "      <td>сотрудник</td>\n",
       "      <td>0</td>\n",
       "      <td>82047.418899</td>\n",
       "      <td>на покупку автомобиля</td>\n",
       "    </tr>\n",
       "  </tbody>\n",
       "</table>\n",
       "<p>21525 rows × 12 columns</p>\n",
       "</div>"
      ],
      "text/plain": [
       "       children  days_employed  dob_years education  education_id  \\\n",
       "0             1   -8437.673028         42    высшее             0   \n",
       "1             1   -4024.803754         36   среднее             1   \n",
       "2             0   -5623.422610         33   Среднее             1   \n",
       "3             3   -4124.747207         32   среднее             1   \n",
       "4             0  340266.072047         53   среднее             1   \n",
       "...         ...            ...        ...       ...           ...   \n",
       "21520         1   -4529.316663         43   среднее             1   \n",
       "21521         0  343937.404131         67   среднее             1   \n",
       "21522         1   -2113.346888         38   среднее             1   \n",
       "21523         3   -3112.481705         38   среднее             1   \n",
       "21524         2   -1984.507589         40   среднее             1   \n",
       "\n",
       "          family_status  family_status_id gender income_type  debt  \\\n",
       "0       женат / замужем                 0      F   сотрудник     0   \n",
       "1       женат / замужем                 0      F   сотрудник     0   \n",
       "2       женат / замужем                 0      M   сотрудник     0   \n",
       "3       женат / замужем                 0      M   сотрудник     0   \n",
       "4      гражданский брак                 1      F   пенсионер     0   \n",
       "...                 ...               ...    ...         ...   ...   \n",
       "21520  гражданский брак                 1      F   компаньон     0   \n",
       "21521   женат / замужем                 0      F   пенсионер     0   \n",
       "21522  гражданский брак                 1      M   сотрудник     1   \n",
       "21523   женат / замужем                 0      M   сотрудник     1   \n",
       "21524   женат / замужем                 0      F   сотрудник     0   \n",
       "\n",
       "        total_income                       purpose  \n",
       "0      253875.639453                 покупка жилья  \n",
       "1      112080.014102       приобретение автомобиля  \n",
       "2      145885.952297                 покупка жилья  \n",
       "3      267628.550329    дополнительное образование  \n",
       "4      158616.077870               сыграть свадьбу  \n",
       "...              ...                           ...  \n",
       "21520  224791.862382             операции с жильем  \n",
       "21521  155999.806512          сделка с автомобилем  \n",
       "21522   89672.561153                  недвижимость  \n",
       "21523  244093.050500  на покупку своего автомобиля  \n",
       "21524   82047.418899         на покупку автомобиля  \n",
       "\n",
       "[21525 rows x 12 columns]"
      ]
     },
     "metadata": {},
     "output_type": "display_data"
    }
   ],
   "source": [
    "data.info()                              \n",
    "display(data)"
   ]
  },
  {
   "cell_type": "markdown",
   "metadata": {},
   "source": [
    "**Выводы**\n",
    "* В столбцах `days_employed` и `total_income` есть пропущенные значения, причем в одних и тех же строках. Возможно, люди работали неофициально, за границей, данные об их трудовом стаже и зарплате были утеряны или не загрузились. Количество пропущенных значений более 10%, из-за их удаления можно исказить результаты анализа.\n",
    "\n",
    "* Значения в столбцах `days_employed` и `total_income` вещественной формы. Целесообразно привести их к целому, т.к. значения после запятой не представляют ценности.\n",
    "\n",
    "* В столбце `days_employed` присутствуют отрицательные значения. Вероятно, из-за ошибки в выгрузке данных.\n",
    "\n",
    "* В стобце `education` присутствуют дубликаты. Вероятно, из-за человеческого фактора (необходима стандартизация).\n",
    "\n",
    "* Цели кредита (`purpose`) записаны в нестандартной форме, и разные по записи значения могут относиться к одной цели. Вызвано это человеческим фактором (необходима стандартизация).\n"
   ]
  },
  {
   "cell_type": "markdown",
   "metadata": {},
   "source": [
    "## Предобработка данных"
   ]
  },
  {
   "cell_type": "markdown",
   "metadata": {},
   "source": [
    "### Обработка пропусков"
   ]
  },
  {
   "cell_type": "markdown",
   "metadata": {},
   "source": [
    "Заменям отрицательные значения на положительные"
   ]
  },
  {
   "cell_type": "code",
   "execution_count": 4,
   "metadata": {},
   "outputs": [
    {
     "data": {
      "text/html": [
       "<div>\n",
       "<style scoped>\n",
       "    .dataframe tbody tr th:only-of-type {\n",
       "        vertical-align: middle;\n",
       "    }\n",
       "\n",
       "    .dataframe tbody tr th {\n",
       "        vertical-align: top;\n",
       "    }\n",
       "\n",
       "    .dataframe thead th {\n",
       "        text-align: right;\n",
       "    }\n",
       "</style>\n",
       "<table border=\"1\" class=\"dataframe\">\n",
       "  <thead>\n",
       "    <tr style=\"text-align: right;\">\n",
       "      <th></th>\n",
       "      <th>children</th>\n",
       "      <th>days_employed</th>\n",
       "      <th>dob_years</th>\n",
       "      <th>education</th>\n",
       "      <th>education_id</th>\n",
       "      <th>family_status</th>\n",
       "      <th>family_status_id</th>\n",
       "      <th>gender</th>\n",
       "      <th>income_type</th>\n",
       "      <th>debt</th>\n",
       "      <th>total_income</th>\n",
       "      <th>purpose</th>\n",
       "    </tr>\n",
       "  </thead>\n",
       "  <tbody>\n",
       "    <tr>\n",
       "      <th>0</th>\n",
       "      <td>1</td>\n",
       "      <td>8437.673028</td>\n",
       "      <td>42</td>\n",
       "      <td>высшее</td>\n",
       "      <td>0</td>\n",
       "      <td>женат / замужем</td>\n",
       "      <td>0</td>\n",
       "      <td>F</td>\n",
       "      <td>сотрудник</td>\n",
       "      <td>0</td>\n",
       "      <td>253875.639453</td>\n",
       "      <td>покупка жилья</td>\n",
       "    </tr>\n",
       "    <tr>\n",
       "      <th>1</th>\n",
       "      <td>1</td>\n",
       "      <td>4024.803754</td>\n",
       "      <td>36</td>\n",
       "      <td>среднее</td>\n",
       "      <td>1</td>\n",
       "      <td>женат / замужем</td>\n",
       "      <td>0</td>\n",
       "      <td>F</td>\n",
       "      <td>сотрудник</td>\n",
       "      <td>0</td>\n",
       "      <td>112080.014102</td>\n",
       "      <td>приобретение автомобиля</td>\n",
       "    </tr>\n",
       "    <tr>\n",
       "      <th>2</th>\n",
       "      <td>0</td>\n",
       "      <td>5623.422610</td>\n",
       "      <td>33</td>\n",
       "      <td>Среднее</td>\n",
       "      <td>1</td>\n",
       "      <td>женат / замужем</td>\n",
       "      <td>0</td>\n",
       "      <td>M</td>\n",
       "      <td>сотрудник</td>\n",
       "      <td>0</td>\n",
       "      <td>145885.952297</td>\n",
       "      <td>покупка жилья</td>\n",
       "    </tr>\n",
       "    <tr>\n",
       "      <th>3</th>\n",
       "      <td>3</td>\n",
       "      <td>4124.747207</td>\n",
       "      <td>32</td>\n",
       "      <td>среднее</td>\n",
       "      <td>1</td>\n",
       "      <td>женат / замужем</td>\n",
       "      <td>0</td>\n",
       "      <td>M</td>\n",
       "      <td>сотрудник</td>\n",
       "      <td>0</td>\n",
       "      <td>267628.550329</td>\n",
       "      <td>дополнительное образование</td>\n",
       "    </tr>\n",
       "    <tr>\n",
       "      <th>4</th>\n",
       "      <td>0</td>\n",
       "      <td>340266.072047</td>\n",
       "      <td>53</td>\n",
       "      <td>среднее</td>\n",
       "      <td>1</td>\n",
       "      <td>гражданский брак</td>\n",
       "      <td>1</td>\n",
       "      <td>F</td>\n",
       "      <td>пенсионер</td>\n",
       "      <td>0</td>\n",
       "      <td>158616.077870</td>\n",
       "      <td>сыграть свадьбу</td>\n",
       "    </tr>\n",
       "    <tr>\n",
       "      <th>...</th>\n",
       "      <td>...</td>\n",
       "      <td>...</td>\n",
       "      <td>...</td>\n",
       "      <td>...</td>\n",
       "      <td>...</td>\n",
       "      <td>...</td>\n",
       "      <td>...</td>\n",
       "      <td>...</td>\n",
       "      <td>...</td>\n",
       "      <td>...</td>\n",
       "      <td>...</td>\n",
       "      <td>...</td>\n",
       "    </tr>\n",
       "    <tr>\n",
       "      <th>21520</th>\n",
       "      <td>1</td>\n",
       "      <td>4529.316663</td>\n",
       "      <td>43</td>\n",
       "      <td>среднее</td>\n",
       "      <td>1</td>\n",
       "      <td>гражданский брак</td>\n",
       "      <td>1</td>\n",
       "      <td>F</td>\n",
       "      <td>компаньон</td>\n",
       "      <td>0</td>\n",
       "      <td>224791.862382</td>\n",
       "      <td>операции с жильем</td>\n",
       "    </tr>\n",
       "    <tr>\n",
       "      <th>21521</th>\n",
       "      <td>0</td>\n",
       "      <td>343937.404131</td>\n",
       "      <td>67</td>\n",
       "      <td>среднее</td>\n",
       "      <td>1</td>\n",
       "      <td>женат / замужем</td>\n",
       "      <td>0</td>\n",
       "      <td>F</td>\n",
       "      <td>пенсионер</td>\n",
       "      <td>0</td>\n",
       "      <td>155999.806512</td>\n",
       "      <td>сделка с автомобилем</td>\n",
       "    </tr>\n",
       "    <tr>\n",
       "      <th>21522</th>\n",
       "      <td>1</td>\n",
       "      <td>2113.346888</td>\n",
       "      <td>38</td>\n",
       "      <td>среднее</td>\n",
       "      <td>1</td>\n",
       "      <td>гражданский брак</td>\n",
       "      <td>1</td>\n",
       "      <td>M</td>\n",
       "      <td>сотрудник</td>\n",
       "      <td>1</td>\n",
       "      <td>89672.561153</td>\n",
       "      <td>недвижимость</td>\n",
       "    </tr>\n",
       "    <tr>\n",
       "      <th>21523</th>\n",
       "      <td>3</td>\n",
       "      <td>3112.481705</td>\n",
       "      <td>38</td>\n",
       "      <td>среднее</td>\n",
       "      <td>1</td>\n",
       "      <td>женат / замужем</td>\n",
       "      <td>0</td>\n",
       "      <td>M</td>\n",
       "      <td>сотрудник</td>\n",
       "      <td>1</td>\n",
       "      <td>244093.050500</td>\n",
       "      <td>на покупку своего автомобиля</td>\n",
       "    </tr>\n",
       "    <tr>\n",
       "      <th>21524</th>\n",
       "      <td>2</td>\n",
       "      <td>1984.507589</td>\n",
       "      <td>40</td>\n",
       "      <td>среднее</td>\n",
       "      <td>1</td>\n",
       "      <td>женат / замужем</td>\n",
       "      <td>0</td>\n",
       "      <td>F</td>\n",
       "      <td>сотрудник</td>\n",
       "      <td>0</td>\n",
       "      <td>82047.418899</td>\n",
       "      <td>на покупку автомобиля</td>\n",
       "    </tr>\n",
       "  </tbody>\n",
       "</table>\n",
       "<p>21525 rows × 12 columns</p>\n",
       "</div>"
      ],
      "text/plain": [
       "       children  days_employed  dob_years education  education_id  \\\n",
       "0             1    8437.673028         42    высшее             0   \n",
       "1             1    4024.803754         36   среднее             1   \n",
       "2             0    5623.422610         33   Среднее             1   \n",
       "3             3    4124.747207         32   среднее             1   \n",
       "4             0  340266.072047         53   среднее             1   \n",
       "...         ...            ...        ...       ...           ...   \n",
       "21520         1    4529.316663         43   среднее             1   \n",
       "21521         0  343937.404131         67   среднее             1   \n",
       "21522         1    2113.346888         38   среднее             1   \n",
       "21523         3    3112.481705         38   среднее             1   \n",
       "21524         2    1984.507589         40   среднее             1   \n",
       "\n",
       "          family_status  family_status_id gender income_type  debt  \\\n",
       "0       женат / замужем                 0      F   сотрудник     0   \n",
       "1       женат / замужем                 0      F   сотрудник     0   \n",
       "2       женат / замужем                 0      M   сотрудник     0   \n",
       "3       женат / замужем                 0      M   сотрудник     0   \n",
       "4      гражданский брак                 1      F   пенсионер     0   \n",
       "...                 ...               ...    ...         ...   ...   \n",
       "21520  гражданский брак                 1      F   компаньон     0   \n",
       "21521   женат / замужем                 0      F   пенсионер     0   \n",
       "21522  гражданский брак                 1      M   сотрудник     1   \n",
       "21523   женат / замужем                 0      M   сотрудник     1   \n",
       "21524   женат / замужем                 0      F   сотрудник     0   \n",
       "\n",
       "        total_income                       purpose  \n",
       "0      253875.639453                 покупка жилья  \n",
       "1      112080.014102       приобретение автомобиля  \n",
       "2      145885.952297                 покупка жилья  \n",
       "3      267628.550329    дополнительное образование  \n",
       "4      158616.077870               сыграть свадьбу  \n",
       "...              ...                           ...  \n",
       "21520  224791.862382             операции с жильем  \n",
       "21521  155999.806512          сделка с автомобилем  \n",
       "21522   89672.561153                  недвижимость  \n",
       "21523  244093.050500  на покупку своего автомобиля  \n",
       "21524   82047.418899         на покупку автомобиля  \n",
       "\n",
       "[21525 rows x 12 columns]"
      ]
     },
     "metadata": {},
     "output_type": "display_data"
    }
   ],
   "source": [
    "data['days_employed'] = abs(data['days_employed']) \n",
    "display(data) "
   ]
  },
  {
   "cell_type": "code",
   "execution_count": 5,
   "metadata": {},
   "outputs": [
    {
     "data": {
      "text/html": [
       "<div>\n",
       "<style scoped>\n",
       "    .dataframe tbody tr th:only-of-type {\n",
       "        vertical-align: middle;\n",
       "    }\n",
       "\n",
       "    .dataframe tbody tr th {\n",
       "        vertical-align: top;\n",
       "    }\n",
       "\n",
       "    .dataframe thead th {\n",
       "        text-align: right;\n",
       "    }\n",
       "</style>\n",
       "<table border=\"1\" class=\"dataframe\">\n",
       "  <thead>\n",
       "    <tr style=\"text-align: right;\">\n",
       "      <th></th>\n",
       "      <th>days_employed</th>\n",
       "      <th>total_income</th>\n",
       "    </tr>\n",
       "  </thead>\n",
       "  <tbody>\n",
       "    <tr>\n",
       "      <th>count</th>\n",
       "      <td>19351.000000</td>\n",
       "      <td>1.935100e+04</td>\n",
       "    </tr>\n",
       "    <tr>\n",
       "      <th>mean</th>\n",
       "      <td>66914.728907</td>\n",
       "      <td>1.674223e+05</td>\n",
       "    </tr>\n",
       "    <tr>\n",
       "      <th>std</th>\n",
       "      <td>139030.880527</td>\n",
       "      <td>1.029716e+05</td>\n",
       "    </tr>\n",
       "    <tr>\n",
       "      <th>min</th>\n",
       "      <td>24.141633</td>\n",
       "      <td>2.066726e+04</td>\n",
       "    </tr>\n",
       "    <tr>\n",
       "      <th>25%</th>\n",
       "      <td>927.009265</td>\n",
       "      <td>1.030532e+05</td>\n",
       "    </tr>\n",
       "    <tr>\n",
       "      <th>50%</th>\n",
       "      <td>2194.220567</td>\n",
       "      <td>1.450179e+05</td>\n",
       "    </tr>\n",
       "    <tr>\n",
       "      <th>75%</th>\n",
       "      <td>5537.882441</td>\n",
       "      <td>2.034351e+05</td>\n",
       "    </tr>\n",
       "    <tr>\n",
       "      <th>max</th>\n",
       "      <td>401755.400475</td>\n",
       "      <td>2.265604e+06</td>\n",
       "    </tr>\n",
       "  </tbody>\n",
       "</table>\n",
       "</div>"
      ],
      "text/plain": [
       "       days_employed  total_income\n",
       "count   19351.000000  1.935100e+04\n",
       "mean    66914.728907  1.674223e+05\n",
       "std    139030.880527  1.029716e+05\n",
       "min        24.141633  2.066726e+04\n",
       "25%       927.009265  1.030532e+05\n",
       "50%      2194.220567  1.450179e+05\n",
       "75%      5537.882441  2.034351e+05\n",
       "max    401755.400475  2.265604e+06"
      ]
     },
     "execution_count": 5,
     "metadata": {},
     "output_type": "execute_result"
    }
   ],
   "source": [
    "data[['days_employed', 'total_income']].describe()"
   ]
  },
  {
   "cell_type": "code",
   "execution_count": 6,
   "metadata": {},
   "outputs": [
    {
     "data": {
      "image/png": "[encoded data removed]",
      "text/plain": [
       "<Figure size 1080x360 with 2 Axes>"
      ]
     },
     "metadata": {
      "needs_background": "light"
     },
     "output_type": "display_data"
    }
   ],
   "source": [
    "plt.figure(figsize=(15,5))\n",
    "plt.subplot(1,2,1)\n",
    "plt.hist(data['days_employed'], bins=20, alpha=0.8, range = (0, 18000))\n",
    "plt.title('days_employed')\n",
    "plt.ylabel('Частота')\n",
    "plt.xlabel('Стаж, дни')\n",
    "plt.grid(True)\n",
    "\n",
    "plt.subplot(1,2,2)\n",
    "plt.hist(data['days_employed'], bins=20, alpha=0.8, range = (300000, 500000))\n",
    "plt.title('days_employed')\n",
    "plt.ylabel('Частота')\n",
    "plt.xlabel('Стаж, дни')\n",
    "plt.grid(True)\n",
    "plt.show()"
   ]
  },
  {
   "cell_type": "code",
   "execution_count": 7,
   "metadata": {},
   "outputs": [
    {
     "data": {
      "image/png": "[encoded data removed]",
      "text/plain": [
       "<Figure size 432x288 with 1 Axes>"
      ]
     },
     "metadata": {
      "needs_background": "light"
     },
     "output_type": "display_data"
    }
   ],
   "source": [
    "plt.hist(data['total_income'], bins=20, range=(0,700000), alpha=0.8)\n",
    "plt.title('total_income')\n",
    "plt.ylabel('Частота')\n",
    "plt.xlabel('Доход, у.е.')\n",
    "plt.grid(True)\n",
    "plt.show()"
   ]
  },
  {
   "cell_type": "markdown",
   "metadata": {},
   "source": [
    "Столбцы `total_income` и `days_employed` имеют скошенное слева распределение с длинным правым хвостом. В столбце `days_employed` присутствуют аномальные значения (изолированная часть распределения), которые сильно искажают среднее (среднее значение больше медианы примерно в 27 раз!). В `total_income` среднее и медиана отличаются более, чем на 10%. Т.к. распределения признаков ненормальны, правильнее будет заполнить их медианами по столбцам."
   ]
  },
  {
   "cell_type": "code",
   "execution_count": 8,
   "metadata": {},
   "outputs": [],
   "source": [
    "data['days_employed'] = data['days_employed'].fillna(data['days_employed'].median())       \n",
    "data['total_income'] = data['total_income'].fillna(data['total_income'].median())"
   ]
  },
  {
   "cell_type": "markdown",
   "metadata": {},
   "source": [
    "### Замена типа данных"
   ]
  },
  {
   "cell_type": "code",
   "execution_count": 9,
   "metadata": {
    "scrolled": false
   },
   "outputs": [
    {
     "name": "stdout",
     "output_type": "stream",
     "text": [
      "<class 'pandas.core.frame.DataFrame'>\n",
      "RangeIndex: 21525 entries, 0 to 21524\n",
      "Data columns (total 12 columns):\n",
      " #   Column            Non-Null Count  Dtype \n",
      "---  ------            --------------  ----- \n",
      " 0   children          21525 non-null  int64 \n",
      " 1   days_employed     21525 non-null  int64 \n",
      " 2   dob_years         21525 non-null  int64 \n",
      " 3   education         21525 non-null  object\n",
      " 4   education_id      21525 non-null  int64 \n",
      " 5   family_status     21525 non-null  object\n",
      " 6   family_status_id  21525 non-null  int64 \n",
      " 7   gender            21525 non-null  object\n",
      " 8   income_type       21525 non-null  object\n",
      " 9   debt              21525 non-null  int64 \n",
      " 10  total_income      21525 non-null  int64 \n",
      " 11  purpose           21525 non-null  object\n",
      "dtypes: int64(7), object(5)\n",
      "memory usage: 2.0+ MB\n"
     ]
    }
   ],
   "source": [
    "data['days_employed'] = data['days_employed'].astype('int') \n",
    "data['total_income'] = data['total_income'].astype('int')\n",
    "data.info()  "
   ]
  },
  {
   "cell_type": "code",
   "execution_count": 10,
   "metadata": {},
   "outputs": [
    {
     "data": {
      "text/html": [
       "<div>\n",
       "<style scoped>\n",
       "    .dataframe tbody tr th:only-of-type {\n",
       "        vertical-align: middle;\n",
       "    }\n",
       "\n",
       "    .dataframe tbody tr th {\n",
       "        vertical-align: top;\n",
       "    }\n",
       "\n",
       "    .dataframe thead th {\n",
       "        text-align: right;\n",
       "    }\n",
       "</style>\n",
       "<table border=\"1\" class=\"dataframe\">\n",
       "  <thead>\n",
       "    <tr style=\"text-align: right;\">\n",
       "      <th></th>\n",
       "      <th>children</th>\n",
       "      <th>days_employed</th>\n",
       "      <th>dob_years</th>\n",
       "      <th>education</th>\n",
       "      <th>education_id</th>\n",
       "      <th>family_status</th>\n",
       "      <th>family_status_id</th>\n",
       "      <th>gender</th>\n",
       "      <th>income_type</th>\n",
       "      <th>debt</th>\n",
       "      <th>total_income</th>\n",
       "      <th>purpose</th>\n",
       "    </tr>\n",
       "  </thead>\n",
       "  <tbody>\n",
       "    <tr>\n",
       "      <th>0</th>\n",
       "      <td>1</td>\n",
       "      <td>8437</td>\n",
       "      <td>42</td>\n",
       "      <td>высшее</td>\n",
       "      <td>0</td>\n",
       "      <td>женат / замужем</td>\n",
       "      <td>0</td>\n",
       "      <td>F</td>\n",
       "      <td>сотрудник</td>\n",
       "      <td>0</td>\n",
       "      <td>253875</td>\n",
       "      <td>покупка жилья</td>\n",
       "    </tr>\n",
       "    <tr>\n",
       "      <th>1</th>\n",
       "      <td>1</td>\n",
       "      <td>4024</td>\n",
       "      <td>36</td>\n",
       "      <td>среднее</td>\n",
       "      <td>1</td>\n",
       "      <td>женат / замужем</td>\n",
       "      <td>0</td>\n",
       "      <td>F</td>\n",
       "      <td>сотрудник</td>\n",
       "      <td>0</td>\n",
       "      <td>112080</td>\n",
       "      <td>приобретение автомобиля</td>\n",
       "    </tr>\n",
       "    <tr>\n",
       "      <th>2</th>\n",
       "      <td>0</td>\n",
       "      <td>5623</td>\n",
       "      <td>33</td>\n",
       "      <td>Среднее</td>\n",
       "      <td>1</td>\n",
       "      <td>женат / замужем</td>\n",
       "      <td>0</td>\n",
       "      <td>M</td>\n",
       "      <td>сотрудник</td>\n",
       "      <td>0</td>\n",
       "      <td>145885</td>\n",
       "      <td>покупка жилья</td>\n",
       "    </tr>\n",
       "    <tr>\n",
       "      <th>3</th>\n",
       "      <td>3</td>\n",
       "      <td>4124</td>\n",
       "      <td>32</td>\n",
       "      <td>среднее</td>\n",
       "      <td>1</td>\n",
       "      <td>женат / замужем</td>\n",
       "      <td>0</td>\n",
       "      <td>M</td>\n",
       "      <td>сотрудник</td>\n",
       "      <td>0</td>\n",
       "      <td>267628</td>\n",
       "      <td>дополнительное образование</td>\n",
       "    </tr>\n",
       "    <tr>\n",
       "      <th>4</th>\n",
       "      <td>0</td>\n",
       "      <td>340266</td>\n",
       "      <td>53</td>\n",
       "      <td>среднее</td>\n",
       "      <td>1</td>\n",
       "      <td>гражданский брак</td>\n",
       "      <td>1</td>\n",
       "      <td>F</td>\n",
       "      <td>пенсионер</td>\n",
       "      <td>0</td>\n",
       "      <td>158616</td>\n",
       "      <td>сыграть свадьбу</td>\n",
       "    </tr>\n",
       "    <tr>\n",
       "      <th>...</th>\n",
       "      <td>...</td>\n",
       "      <td>...</td>\n",
       "      <td>...</td>\n",
       "      <td>...</td>\n",
       "      <td>...</td>\n",
       "      <td>...</td>\n",
       "      <td>...</td>\n",
       "      <td>...</td>\n",
       "      <td>...</td>\n",
       "      <td>...</td>\n",
       "      <td>...</td>\n",
       "      <td>...</td>\n",
       "    </tr>\n",
       "    <tr>\n",
       "      <th>21520</th>\n",
       "      <td>1</td>\n",
       "      <td>4529</td>\n",
       "      <td>43</td>\n",
       "      <td>среднее</td>\n",
       "      <td>1</td>\n",
       "      <td>гражданский брак</td>\n",
       "      <td>1</td>\n",
       "      <td>F</td>\n",
       "      <td>компаньон</td>\n",
       "      <td>0</td>\n",
       "      <td>224791</td>\n",
       "      <td>операции с жильем</td>\n",
       "    </tr>\n",
       "    <tr>\n",
       "      <th>21521</th>\n",
       "      <td>0</td>\n",
       "      <td>343937</td>\n",
       "      <td>67</td>\n",
       "      <td>среднее</td>\n",
       "      <td>1</td>\n",
       "      <td>женат / замужем</td>\n",
       "      <td>0</td>\n",
       "      <td>F</td>\n",
       "      <td>пенсионер</td>\n",
       "      <td>0</td>\n",
       "      <td>155999</td>\n",
       "      <td>сделка с автомобилем</td>\n",
       "    </tr>\n",
       "    <tr>\n",
       "      <th>21522</th>\n",
       "      <td>1</td>\n",
       "      <td>2113</td>\n",
       "      <td>38</td>\n",
       "      <td>среднее</td>\n",
       "      <td>1</td>\n",
       "      <td>гражданский брак</td>\n",
       "      <td>1</td>\n",
       "      <td>M</td>\n",
       "      <td>сотрудник</td>\n",
       "      <td>1</td>\n",
       "      <td>89672</td>\n",
       "      <td>недвижимость</td>\n",
       "    </tr>\n",
       "    <tr>\n",
       "      <th>21523</th>\n",
       "      <td>3</td>\n",
       "      <td>3112</td>\n",
       "      <td>38</td>\n",
       "      <td>среднее</td>\n",
       "      <td>1</td>\n",
       "      <td>женат / замужем</td>\n",
       "      <td>0</td>\n",
       "      <td>M</td>\n",
       "      <td>сотрудник</td>\n",
       "      <td>1</td>\n",
       "      <td>244093</td>\n",
       "      <td>на покупку своего автомобиля</td>\n",
       "    </tr>\n",
       "    <tr>\n",
       "      <th>21524</th>\n",
       "      <td>2</td>\n",
       "      <td>1984</td>\n",
       "      <td>40</td>\n",
       "      <td>среднее</td>\n",
       "      <td>1</td>\n",
       "      <td>женат / замужем</td>\n",
       "      <td>0</td>\n",
       "      <td>F</td>\n",
       "      <td>сотрудник</td>\n",
       "      <td>0</td>\n",
       "      <td>82047</td>\n",
       "      <td>на покупку автомобиля</td>\n",
       "    </tr>\n",
       "  </tbody>\n",
       "</table>\n",
       "<p>21525 rows × 12 columns</p>\n",
       "</div>"
      ],
      "text/plain": [
       "       children  days_employed  dob_years education  education_id  \\\n",
       "0             1           8437         42    высшее             0   \n",
       "1             1           4024         36   среднее             1   \n",
       "2             0           5623         33   Среднее             1   \n",
       "3             3           4124         32   среднее             1   \n",
       "4             0         340266         53   среднее             1   \n",
       "...         ...            ...        ...       ...           ...   \n",
       "21520         1           4529         43   среднее             1   \n",
       "21521         0         343937         67   среднее             1   \n",
       "21522         1           2113         38   среднее             1   \n",
       "21523         3           3112         38   среднее             1   \n",
       "21524         2           1984         40   среднее             1   \n",
       "\n",
       "          family_status  family_status_id gender income_type  debt  \\\n",
       "0       женат / замужем                 0      F   сотрудник     0   \n",
       "1       женат / замужем                 0      F   сотрудник     0   \n",
       "2       женат / замужем                 0      M   сотрудник     0   \n",
       "3       женат / замужем                 0      M   сотрудник     0   \n",
       "4      гражданский брак                 1      F   пенсионер     0   \n",
       "...                 ...               ...    ...         ...   ...   \n",
       "21520  гражданский брак                 1      F   компаньон     0   \n",
       "21521   женат / замужем                 0      F   пенсионер     0   \n",
       "21522  гражданский брак                 1      M   сотрудник     1   \n",
       "21523   женат / замужем                 0      M   сотрудник     1   \n",
       "21524   женат / замужем                 0      F   сотрудник     0   \n",
       "\n",
       "       total_income                       purpose  \n",
       "0            253875                 покупка жилья  \n",
       "1            112080       приобретение автомобиля  \n",
       "2            145885                 покупка жилья  \n",
       "3            267628    дополнительное образование  \n",
       "4            158616               сыграть свадьбу  \n",
       "...             ...                           ...  \n",
       "21520        224791             операции с жильем  \n",
       "21521        155999          сделка с автомобилем  \n",
       "21522         89672                  недвижимость  \n",
       "21523        244093  на покупку своего автомобиля  \n",
       "21524         82047         на покупку автомобиля  \n",
       "\n",
       "[21525 rows x 12 columns]"
      ]
     },
     "metadata": {},
     "output_type": "display_data"
    }
   ],
   "source": [
    "display(data)"
   ]
  },
  {
   "cell_type": "markdown",
   "metadata": {},
   "source": [
    "**Вывод**\n",
    "\n",
    "Методом astype() заменили вещественные значения на целые в стобцах `days_employed` и `total_income`, т.к. значения после запятой в данном случае не представляют ценности. Метод astype() использовали, т.к. он, в отличие от int(), работает со всем столбцом и не нуждается в цикле (экономит ресурсы компьютера)."
   ]
  },
  {
   "cell_type": "markdown",
   "metadata": {},
   "source": [
    "### Обработка дубликатов"
   ]
  },
  {
   "cell_type": "code",
   "execution_count": 11,
   "metadata": {},
   "outputs": [
    {
     "name": "stdout",
     "output_type": "stream",
     "text": [
      "54\n",
      "0\n"
     ]
    }
   ],
   "source": [
    "print(data.duplicated().sum())                     \n",
    "data = data.drop_duplicates().reset_index(drop=True)  \n",
    "print(data.duplicated().sum())   "
   ]
  },
  {
   "cell_type": "code",
   "execution_count": 12,
   "metadata": {},
   "outputs": [
    {
     "data": {
      "text/plain": [
       "среднее                13705\n",
       "высшее                  4710\n",
       "СРЕДНЕЕ                  772\n",
       "Среднее                  711\n",
       "неоконченное высшее      668\n",
       "ВЫСШЕЕ                   273\n",
       "Высшее                   268\n",
       "начальное                250\n",
       "Неоконченное высшее       47\n",
       "НЕОКОНЧЕННОЕ ВЫСШЕЕ       29\n",
       "НАЧАЛЬНОЕ                 17\n",
       "Начальное                 15\n",
       "ученая степень             4\n",
       "Ученая степень             1\n",
       "УЧЕНАЯ СТЕПЕНЬ             1\n",
       "Name: education, dtype: int64"
      ]
     },
     "execution_count": 12,
     "metadata": {},
     "output_type": "execute_result"
    }
   ],
   "source": [
    "data['education'].value_counts()    "
   ]
  },
  {
   "cell_type": "markdown",
   "metadata": {},
   "source": [
    "В столбце присутствуют неявные дубликаты, необходимо свести все значения к нижнему регистру."
   ]
  },
  {
   "cell_type": "code",
   "execution_count": 13,
   "metadata": {},
   "outputs": [],
   "source": [
    "data['education'] = data['education'].str.lower() "
   ]
  },
  {
   "cell_type": "code",
   "execution_count": 14,
   "metadata": {},
   "outputs": [
    {
     "data": {
      "text/plain": [
       "женат / замужем          12344\n",
       "гражданский брак          4163\n",
       "Не женат / не замужем     2810\n",
       "в разводе                 1195\n",
       "вдовец / вдова             959\n",
       "Name: family_status, dtype: int64"
      ]
     },
     "execution_count": 14,
     "metadata": {},
     "output_type": "execute_result"
    }
   ],
   "source": [
    "data['family_status'].value_counts()                "
   ]
  },
  {
   "cell_type": "code",
   "execution_count": 15,
   "metadata": {},
   "outputs": [],
   "source": [
    "data['family_status'] = data['family_status'].str.lower() "
   ]
  },
  {
   "cell_type": "code",
   "execution_count": 16,
   "metadata": {},
   "outputs": [
    {
     "data": {
      "text/plain": [
       "сотрудник          11091\n",
       "компаньон           5080\n",
       "пенсионер           3837\n",
       "госслужащий         1457\n",
       "предприниматель        2\n",
       "безработный            2\n",
       "студент                1\n",
       "в декрете              1\n",
       "Name: income_type, dtype: int64"
      ]
     },
     "execution_count": 16,
     "metadata": {},
     "output_type": "execute_result"
    }
   ],
   "source": [
    "data['income_type'].value_counts()   "
   ]
  },
  {
   "cell_type": "markdown",
   "metadata": {},
   "source": [
    "**Вывод**"
   ]
  },
  {
   "cell_type": "markdown",
   "metadata": {},
   "source": [
    "* В таблице обнаружено 54 явных дубликата. Удалили их методом drop_duplicates().\n",
    "* В столбце `education` одни и те же уровни образования были написаны в разных регистрах. Это может быть связано с отсутствием стандарта записи у сотрудников банка. Проблема решается путем сведения всех значений к нижнему регистру."
   ]
  },
  {
   "cell_type": "markdown",
   "metadata": {},
   "source": [
    "### Лемматизация"
   ]
  },
  {
   "cell_type": "code",
   "execution_count": 17,
   "metadata": {
    "scrolled": true
   },
   "outputs": [
    {
     "name": "stdout",
     "output_type": "stream",
     "text": [
      "Counter({'автомобиль': 972, 'свадьба': 793, 'на проведение свадьба': 773, 'сыграть свадьба': 769, 'операция с недвижимость': 675, 'покупка коммерческий недвижимость': 662, 'операция с жилье': 652, 'покупка жилье для сдача': 652, 'операция с коммерческий недвижимость': 650, 'покупка жилье': 646, 'жилье': 646, 'покупка жилье для семья': 638, 'строительство собственный недвижимость': 635, 'недвижимость': 633, 'операция со свой недвижимость': 627, 'строительство жилой недвижимость': 625, 'покупка недвижимость': 621, 'покупка свой жилье': 620, 'строительство недвижимость': 619, 'ремонт жилье': 607, 'покупка жилой недвижимость': 606, 'на покупка свой автомобиль': 505, 'заниматься высокий образование': 496, 'сделка с подержанный автомобиль': 486, 'свой автомобиль': 479, 'на покупка подержать автомобиль': 478, 'на покупка автомобиль': 472, 'приобретение автомобиль': 461, 'дополнительный образование': 460, 'сделка с автомобиль': 455, 'высокий образование': 452, 'образование': 447, 'получение дополнительный образование': 447, 'получение образование': 442, 'профильный образование': 436, 'получение высокий образование': 426, 'заниматься образование': 408})\n"
     ]
    }
   ],
   "source": [
    "lemmas_list = []\n",
    "for purpose in data['purpose']:\n",
    "    lemmas = ''.join(m.lemmatize(purpose)).strip()\n",
    "    lemmas_list.append(lemmas)\n",
    "print(Counter(lemmas_list))"
   ]
  },
  {
   "cell_type": "markdown",
   "metadata": {},
   "source": [
    "**Вывод**"
   ]
  },
  {
   "cell_type": "markdown",
   "metadata": {},
   "source": [
    "Лемматизировали значения в столбце `purpose` и подсчитали число одинаковых лемм. Как видно, все леммы относятся к 4 категориям: автомобиль, свадьба, недвижимость, образование."
   ]
  },
  {
   "cell_type": "markdown",
   "metadata": {},
   "source": [
    "### Категоризация данных"
   ]
  },
  {
   "cell_type": "markdown",
   "metadata": {},
   "source": [
    "Создаем функцию для лемматизации и категоризации цели кредита."
   ]
  },
  {
   "cell_type": "code",
   "execution_count": 18,
   "metadata": {},
   "outputs": [
    {
     "data": {
      "text/html": [
       "<div>\n",
       "<style scoped>\n",
       "    .dataframe tbody tr th:only-of-type {\n",
       "        vertical-align: middle;\n",
       "    }\n",
       "\n",
       "    .dataframe tbody tr th {\n",
       "        vertical-align: top;\n",
       "    }\n",
       "\n",
       "    .dataframe thead th {\n",
       "        text-align: right;\n",
       "    }\n",
       "</style>\n",
       "<table border=\"1\" class=\"dataframe\">\n",
       "  <thead>\n",
       "    <tr style=\"text-align: right;\">\n",
       "      <th></th>\n",
       "      <th>children</th>\n",
       "      <th>days_employed</th>\n",
       "      <th>dob_years</th>\n",
       "      <th>education</th>\n",
       "      <th>education_id</th>\n",
       "      <th>family_status</th>\n",
       "      <th>family_status_id</th>\n",
       "      <th>gender</th>\n",
       "      <th>income_type</th>\n",
       "      <th>debt</th>\n",
       "      <th>total_income</th>\n",
       "      <th>purpose</th>\n",
       "      <th>purpose_category</th>\n",
       "      <th>having_children</th>\n",
       "      <th>total_income_category</th>\n",
       "      <th>debt_status</th>\n",
       "    </tr>\n",
       "  </thead>\n",
       "  <tbody>\n",
       "    <tr>\n",
       "      <th>0</th>\n",
       "      <td>1</td>\n",
       "      <td>8437</td>\n",
       "      <td>42</td>\n",
       "      <td>высшее</td>\n",
       "      <td>0</td>\n",
       "      <td>женат / замужем</td>\n",
       "      <td>0</td>\n",
       "      <td>F</td>\n",
       "      <td>сотрудник</td>\n",
       "      <td>0</td>\n",
       "      <td>253875</td>\n",
       "      <td>покупка жилья</td>\n",
       "      <td>недвижимость</td>\n",
       "      <td>есть дети</td>\n",
       "      <td>высокий доход</td>\n",
       "      <td>нет долгов</td>\n",
       "    </tr>\n",
       "    <tr>\n",
       "      <th>1</th>\n",
       "      <td>1</td>\n",
       "      <td>4024</td>\n",
       "      <td>36</td>\n",
       "      <td>среднее</td>\n",
       "      <td>1</td>\n",
       "      <td>женат / замужем</td>\n",
       "      <td>0</td>\n",
       "      <td>F</td>\n",
       "      <td>сотрудник</td>\n",
       "      <td>0</td>\n",
       "      <td>112080</td>\n",
       "      <td>приобретение автомобиля</td>\n",
       "      <td>автомобиль</td>\n",
       "      <td>есть дети</td>\n",
       "      <td>высокий доход</td>\n",
       "      <td>нет долгов</td>\n",
       "    </tr>\n",
       "    <tr>\n",
       "      <th>2</th>\n",
       "      <td>0</td>\n",
       "      <td>5623</td>\n",
       "      <td>33</td>\n",
       "      <td>среднее</td>\n",
       "      <td>1</td>\n",
       "      <td>женат / замужем</td>\n",
       "      <td>0</td>\n",
       "      <td>M</td>\n",
       "      <td>сотрудник</td>\n",
       "      <td>0</td>\n",
       "      <td>145885</td>\n",
       "      <td>покупка жилья</td>\n",
       "      <td>недвижимость</td>\n",
       "      <td>нет детей</td>\n",
       "      <td>высокий доход</td>\n",
       "      <td>нет долгов</td>\n",
       "    </tr>\n",
       "    <tr>\n",
       "      <th>3</th>\n",
       "      <td>3</td>\n",
       "      <td>4124</td>\n",
       "      <td>32</td>\n",
       "      <td>среднее</td>\n",
       "      <td>1</td>\n",
       "      <td>женат / замужем</td>\n",
       "      <td>0</td>\n",
       "      <td>M</td>\n",
       "      <td>сотрудник</td>\n",
       "      <td>0</td>\n",
       "      <td>267628</td>\n",
       "      <td>дополнительное образование</td>\n",
       "      <td>образование</td>\n",
       "      <td>есть дети</td>\n",
       "      <td>высокий доход</td>\n",
       "      <td>нет долгов</td>\n",
       "    </tr>\n",
       "    <tr>\n",
       "      <th>4</th>\n",
       "      <td>0</td>\n",
       "      <td>340266</td>\n",
       "      <td>53</td>\n",
       "      <td>среднее</td>\n",
       "      <td>1</td>\n",
       "      <td>гражданский брак</td>\n",
       "      <td>1</td>\n",
       "      <td>F</td>\n",
       "      <td>пенсионер</td>\n",
       "      <td>0</td>\n",
       "      <td>158616</td>\n",
       "      <td>сыграть свадьбу</td>\n",
       "      <td>свадьба</td>\n",
       "      <td>нет детей</td>\n",
       "      <td>высокий доход</td>\n",
       "      <td>нет долгов</td>\n",
       "    </tr>\n",
       "    <tr>\n",
       "      <th>...</th>\n",
       "      <td>...</td>\n",
       "      <td>...</td>\n",
       "      <td>...</td>\n",
       "      <td>...</td>\n",
       "      <td>...</td>\n",
       "      <td>...</td>\n",
       "      <td>...</td>\n",
       "      <td>...</td>\n",
       "      <td>...</td>\n",
       "      <td>...</td>\n",
       "      <td>...</td>\n",
       "      <td>...</td>\n",
       "      <td>...</td>\n",
       "      <td>...</td>\n",
       "      <td>...</td>\n",
       "      <td>...</td>\n",
       "    </tr>\n",
       "    <tr>\n",
       "      <th>21466</th>\n",
       "      <td>1</td>\n",
       "      <td>4529</td>\n",
       "      <td>43</td>\n",
       "      <td>среднее</td>\n",
       "      <td>1</td>\n",
       "      <td>гражданский брак</td>\n",
       "      <td>1</td>\n",
       "      <td>F</td>\n",
       "      <td>компаньон</td>\n",
       "      <td>0</td>\n",
       "      <td>224791</td>\n",
       "      <td>операции с жильем</td>\n",
       "      <td>недвижимость</td>\n",
       "      <td>есть дети</td>\n",
       "      <td>высокий доход</td>\n",
       "      <td>нет долгов</td>\n",
       "    </tr>\n",
       "    <tr>\n",
       "      <th>21467</th>\n",
       "      <td>0</td>\n",
       "      <td>343937</td>\n",
       "      <td>67</td>\n",
       "      <td>среднее</td>\n",
       "      <td>1</td>\n",
       "      <td>женат / замужем</td>\n",
       "      <td>0</td>\n",
       "      <td>F</td>\n",
       "      <td>пенсионер</td>\n",
       "      <td>0</td>\n",
       "      <td>155999</td>\n",
       "      <td>сделка с автомобилем</td>\n",
       "      <td>автомобиль</td>\n",
       "      <td>нет детей</td>\n",
       "      <td>высокий доход</td>\n",
       "      <td>нет долгов</td>\n",
       "    </tr>\n",
       "    <tr>\n",
       "      <th>21468</th>\n",
       "      <td>1</td>\n",
       "      <td>2113</td>\n",
       "      <td>38</td>\n",
       "      <td>среднее</td>\n",
       "      <td>1</td>\n",
       "      <td>гражданский брак</td>\n",
       "      <td>1</td>\n",
       "      <td>M</td>\n",
       "      <td>сотрудник</td>\n",
       "      <td>1</td>\n",
       "      <td>89672</td>\n",
       "      <td>недвижимость</td>\n",
       "      <td>недвижимость</td>\n",
       "      <td>есть дети</td>\n",
       "      <td>средний доход</td>\n",
       "      <td>есть долги</td>\n",
       "    </tr>\n",
       "    <tr>\n",
       "      <th>21469</th>\n",
       "      <td>3</td>\n",
       "      <td>3112</td>\n",
       "      <td>38</td>\n",
       "      <td>среднее</td>\n",
       "      <td>1</td>\n",
       "      <td>женат / замужем</td>\n",
       "      <td>0</td>\n",
       "      <td>M</td>\n",
       "      <td>сотрудник</td>\n",
       "      <td>1</td>\n",
       "      <td>244093</td>\n",
       "      <td>на покупку своего автомобиля</td>\n",
       "      <td>автомобиль</td>\n",
       "      <td>есть дети</td>\n",
       "      <td>высокий доход</td>\n",
       "      <td>есть долги</td>\n",
       "    </tr>\n",
       "    <tr>\n",
       "      <th>21470</th>\n",
       "      <td>2</td>\n",
       "      <td>1984</td>\n",
       "      <td>40</td>\n",
       "      <td>среднее</td>\n",
       "      <td>1</td>\n",
       "      <td>женат / замужем</td>\n",
       "      <td>0</td>\n",
       "      <td>F</td>\n",
       "      <td>сотрудник</td>\n",
       "      <td>0</td>\n",
       "      <td>82047</td>\n",
       "      <td>на покупку автомобиля</td>\n",
       "      <td>автомобиль</td>\n",
       "      <td>есть дети</td>\n",
       "      <td>средний доход</td>\n",
       "      <td>нет долгов</td>\n",
       "    </tr>\n",
       "  </tbody>\n",
       "</table>\n",
       "<p>21471 rows × 16 columns</p>\n",
       "</div>"
      ],
      "text/plain": [
       "       children  days_employed  dob_years education  education_id  \\\n",
       "0             1           8437         42    высшее             0   \n",
       "1             1           4024         36   среднее             1   \n",
       "2             0           5623         33   среднее             1   \n",
       "3             3           4124         32   среднее             1   \n",
       "4             0         340266         53   среднее             1   \n",
       "...         ...            ...        ...       ...           ...   \n",
       "21466         1           4529         43   среднее             1   \n",
       "21467         0         343937         67   среднее             1   \n",
       "21468         1           2113         38   среднее             1   \n",
       "21469         3           3112         38   среднее             1   \n",
       "21470         2           1984         40   среднее             1   \n",
       "\n",
       "          family_status  family_status_id gender income_type  debt  \\\n",
       "0       женат / замужем                 0      F   сотрудник     0   \n",
       "1       женат / замужем                 0      F   сотрудник     0   \n",
       "2       женат / замужем                 0      M   сотрудник     0   \n",
       "3       женат / замужем                 0      M   сотрудник     0   \n",
       "4      гражданский брак                 1      F   пенсионер     0   \n",
       "...                 ...               ...    ...         ...   ...   \n",
       "21466  гражданский брак                 1      F   компаньон     0   \n",
       "21467   женат / замужем                 0      F   пенсионер     0   \n",
       "21468  гражданский брак                 1      M   сотрудник     1   \n",
       "21469   женат / замужем                 0      M   сотрудник     1   \n",
       "21470   женат / замужем                 0      F   сотрудник     0   \n",
       "\n",
       "       total_income                       purpose purpose_category  \\\n",
       "0            253875                 покупка жилья     недвижимость   \n",
       "1            112080       приобретение автомобиля       автомобиль   \n",
       "2            145885                 покупка жилья     недвижимость   \n",
       "3            267628    дополнительное образование      образование   \n",
       "4            158616               сыграть свадьбу          свадьба   \n",
       "...             ...                           ...              ...   \n",
       "21466        224791             операции с жильем     недвижимость   \n",
       "21467        155999          сделка с автомобилем       автомобиль   \n",
       "21468         89672                  недвижимость     недвижимость   \n",
       "21469        244093  на покупку своего автомобиля       автомобиль   \n",
       "21470         82047         на покупку автомобиля       автомобиль   \n",
       "\n",
       "      having_children total_income_category debt_status  \n",
       "0           есть дети         высокий доход  нет долгов  \n",
       "1           есть дети         высокий доход  нет долгов  \n",
       "2           нет детей         высокий доход  нет долгов  \n",
       "3           есть дети         высокий доход  нет долгов  \n",
       "4           нет детей         высокий доход  нет долгов  \n",
       "...               ...                   ...         ...  \n",
       "21466       есть дети         высокий доход  нет долгов  \n",
       "21467       нет детей         высокий доход  нет долгов  \n",
       "21468       есть дети         средний доход  есть долги  \n",
       "21469       есть дети         высокий доход  есть долги  \n",
       "21470       есть дети         средний доход  нет долгов  \n",
       "\n",
       "[21471 rows x 16 columns]"
      ]
     },
     "metadata": {},
     "output_type": "display_data"
    }
   ],
   "source": [
    "def purpose_category(row):                  \n",
    "    m_purpose = m.lemmatize(row)\n",
    "    if 'свадьба' in m_purpose:\n",
    "        return 'свадьба'\n",
    "    elif 'недвижимость' in m_purpose or 'жилье' in m_purpose:\n",
    "        return 'недвижимость'\n",
    "    elif 'автомобиль' in m_purpose:\n",
    "        return 'автомобиль'\n",
    "    elif 'образование' in m_purpose:\n",
    "        return 'образование'\n",
    "    return 'другое'\n",
    "data['purpose_category'] = data['purpose'].apply(purpose_category)     \n",
    "\n",
    "def having_children(row):            \n",
    "    if row != 0:\n",
    "        return 'есть дети'\n",
    "    return 'нет детей'\n",
    "data['having_children'] = data['children'].apply(having_children)  \n",
    "\n",
    "def total_income_category(income):      \n",
    "    if  income < 70000:\n",
    "        return 'низкий доход'\n",
    "    if 70000 <= income <= 110000:\n",
    "        return 'средний доход'\n",
    "    if income > 110000:\n",
    "        return 'высокий доход'\n",
    "data['total_income_category'] = data['total_income'].apply(total_income_category)\n",
    "\n",
    "def debt_status(debt):                  \n",
    "    if debt != 0:\n",
    "        return 'есть долги'\n",
    "    return 'нет долгов'\n",
    "data['debt_status'] = data['debt'].apply(debt_status)\n",
    "display(data)"
   ]
  },
  {
   "cell_type": "markdown",
   "metadata": {},
   "source": [
    "**Вывод**"
   ]
  },
  {
   "cell_type": "markdown",
   "metadata": {},
   "source": [
    "Присвоили каждой цели из столбца `purpose` одну из 4 категорий: автомобиль, свадьба, недвижимость, образование. По наличию детей разделили заемщиков на 2 категории: `'есть дети'` и `'нет детей'`. В зависимости от уровня доходов распределили заемщиков по 3 категориям: с высоким, средним и низким доходом (в соответствии с данными Всероссийского центра уровня жизни). Также разделили заемщиков в столбце `debt_status` на имевших и не имевших просроченной задолженности.\n",
    "\n",
    "Категоризацию провели для упрощения анализа данных при поиске ответов на вопросы заказчика.\n",
    " "
   ]
  },
  {
   "cell_type": "markdown",
   "metadata": {},
   "source": [
    "## Исследование кредитоспособности разных категорий заемщиков"
   ]
  },
  {
   "cell_type": "markdown",
   "metadata": {},
   "source": [
    "- Есть ли зависимость между наличием детей и возвратом кредита в срок?"
   ]
  },
  {
   "cell_type": "code",
   "execution_count": 19,
   "metadata": {
    "scrolled": true
   },
   "outputs": [
    {
     "data": {
      "text/html": [
       "<div>\n",
       "<style scoped>\n",
       "    .dataframe tbody tr th:only-of-type {\n",
       "        vertical-align: middle;\n",
       "    }\n",
       "\n",
       "    .dataframe tbody tr th {\n",
       "        vertical-align: top;\n",
       "    }\n",
       "\n",
       "    .dataframe thead th {\n",
       "        text-align: right;\n",
       "    }\n",
       "</style>\n",
       "<table border=\"1\" class=\"dataframe\">\n",
       "  <thead>\n",
       "    <tr style=\"text-align: right;\">\n",
       "      <th>debt_status</th>\n",
       "      <th>есть долги</th>\n",
       "      <th>нет долгов</th>\n",
       "      <th>процент должников</th>\n",
       "    </tr>\n",
       "    <tr>\n",
       "      <th>having_children</th>\n",
       "      <th></th>\n",
       "      <th></th>\n",
       "      <th></th>\n",
       "    </tr>\n",
       "  </thead>\n",
       "  <tbody>\n",
       "    <tr>\n",
       "      <th>есть дети</th>\n",
       "      <td>678</td>\n",
       "      <td>6686</td>\n",
       "      <td>9.206953</td>\n",
       "    </tr>\n",
       "    <tr>\n",
       "      <th>нет детей</th>\n",
       "      <td>1063</td>\n",
       "      <td>13044</td>\n",
       "      <td>7.535266</td>\n",
       "    </tr>\n",
       "  </tbody>\n",
       "</table>\n",
       "</div>"
      ],
      "text/plain": [
       "debt_status      есть долги  нет долгов  процент должников\n",
       "having_children                                           \n",
       "есть дети               678        6686           9.206953\n",
       "нет детей              1063       13044           7.535266"
      ]
     },
     "metadata": {},
     "output_type": "display_data"
    }
   ],
   "source": [
    "table_child = data.pivot_table(index='having_children', \n",
    "                               columns='debt_status', \n",
    "                               values = 'debt',\n",
    "                               aggfunc='count')  \n",
    "table_child['процент должников'] = (table_child['есть долги']/\n",
    "                                    (table_child['есть долги'] + \n",
    "                                     table_child['нет долгов'])*100)  \n",
    "display(table_child)"
   ]
  },
  {
   "cell_type": "code",
   "execution_count": 20,
   "metadata": {},
   "outputs": [
    {
     "data": {
      "image/png": "[encoded data removed]",
      "text/plain": [
       "<Figure size 432x288 with 1 Axes>"
      ]
     },
     "metadata": {
      "needs_background": "light"
     },
     "output_type": "display_data"
    }
   ],
   "source": [
    "plt.figure(figsize=(6,4))\n",
    "plt.bar(table_child.index, table_child['процент должников'], alpha=0.8)\n",
    "plt.ylabel('% просроченных кредитов')\n",
    "plt.xlabel('Категория')\n",
    "plt.show()"
   ]
  },
  {
   "cell_type": "markdown",
   "metadata": {},
   "source": [
    "**Вывод**"
   ]
  },
  {
   "cell_type": "markdown",
   "metadata": {},
   "source": [
    "Заемщики с детьми чаще просрочивают платежи (9,2 % должников), заемщики без детей - реже (7,5 %)."
   ]
  },
  {
   "cell_type": "markdown",
   "metadata": {},
   "source": [
    "- Есть ли зависимость между семейным положением и возвратом кредита в срок?"
   ]
  },
  {
   "cell_type": "code",
   "execution_count": 21,
   "metadata": {
    "scrolled": true
   },
   "outputs": [
    {
     "data": {
      "text/html": [
       "<div>\n",
       "<style scoped>\n",
       "    .dataframe tbody tr th:only-of-type {\n",
       "        vertical-align: middle;\n",
       "    }\n",
       "\n",
       "    .dataframe tbody tr th {\n",
       "        vertical-align: top;\n",
       "    }\n",
       "\n",
       "    .dataframe thead th {\n",
       "        text-align: right;\n",
       "    }\n",
       "</style>\n",
       "<table border=\"1\" class=\"dataframe\">\n",
       "  <thead>\n",
       "    <tr style=\"text-align: right;\">\n",
       "      <th>debt_status</th>\n",
       "      <th>есть долги</th>\n",
       "      <th>нет долгов</th>\n",
       "      <th>процент должников</th>\n",
       "    </tr>\n",
       "    <tr>\n",
       "      <th>family_status</th>\n",
       "      <th></th>\n",
       "      <th></th>\n",
       "      <th></th>\n",
       "    </tr>\n",
       "  </thead>\n",
       "  <tbody>\n",
       "    <tr>\n",
       "      <th>в разводе</th>\n",
       "      <td>85</td>\n",
       "      <td>1110</td>\n",
       "      <td>7.112971</td>\n",
       "    </tr>\n",
       "    <tr>\n",
       "      <th>вдовец / вдова</th>\n",
       "      <td>63</td>\n",
       "      <td>896</td>\n",
       "      <td>6.569343</td>\n",
       "    </tr>\n",
       "    <tr>\n",
       "      <th>гражданский брак</th>\n",
       "      <td>388</td>\n",
       "      <td>3775</td>\n",
       "      <td>9.320202</td>\n",
       "    </tr>\n",
       "    <tr>\n",
       "      <th>женат / замужем</th>\n",
       "      <td>931</td>\n",
       "      <td>11413</td>\n",
       "      <td>7.542126</td>\n",
       "    </tr>\n",
       "    <tr>\n",
       "      <th>не женат / не замужем</th>\n",
       "      <td>274</td>\n",
       "      <td>2536</td>\n",
       "      <td>9.750890</td>\n",
       "    </tr>\n",
       "  </tbody>\n",
       "</table>\n",
       "</div>"
      ],
      "text/plain": [
       "debt_status            есть долги  нет долгов  процент должников\n",
       "family_status                                                   \n",
       "в разводе                      85        1110           7.112971\n",
       "вдовец / вдова                 63         896           6.569343\n",
       "гражданский брак              388        3775           9.320202\n",
       "женат / замужем               931       11413           7.542126\n",
       "не женат / не замужем         274        2536           9.750890"
      ]
     },
     "metadata": {},
     "output_type": "display_data"
    }
   ],
   "source": [
    "table_family = data.pivot_table(index='family_status', \n",
    "                                columns='debt_status', \n",
    "                                values = 'debt',\n",
    "                                aggfunc='count')  \n",
    "table_family['процент должников'] = (table_family['есть долги']/\n",
    "                                     (table_family['есть долги'] + \n",
    "                                      table_family['нет долгов'])*100) \n",
    "display(table_family)"
   ]
  },
  {
   "cell_type": "code",
   "execution_count": 22,
   "metadata": {},
   "outputs": [
    {
     "data": {
      "image/png": "[encoded data removed]",
      "text/plain": [
       "<Figure size 864x432 with 1 Axes>"
      ]
     },
     "metadata": {
      "needs_background": "light"
     },
     "output_type": "display_data"
    }
   ],
   "source": [
    "plt.figure(figsize=(12,6))\n",
    "plt.bar(table_family.index, table_family['процент должников'], alpha=0.8)\n",
    "plt.ylabel('% просроченных кредитов')\n",
    "plt.xlabel('Категория')\n",
    "plt.show()"
   ]
  },
  {
   "cell_type": "markdown",
   "metadata": {},
   "source": [
    "**Вывод**"
   ]
  },
  {
   "cell_type": "markdown",
   "metadata": {},
   "source": [
    "Наименее рискованным является выдача займов вдовцам/вдовам (6,56 % должников). Наиболее рискованным - неженатым (9,75 %) и живущим в гражданском браке (9,32 %). Выдавать кредиты разведенным и женатым людям (7,11 % и 7,54 % должников, соответственно)  более рискованно, чем вдовцам/вдовам, но менее рискованно, чем неженатым и живущим в гражданском браке."
   ]
  },
  {
   "cell_type": "markdown",
   "metadata": {},
   "source": [
    "- Есть ли зависимость между уровнем дохода и возвратом кредита в срок?"
   ]
  },
  {
   "cell_type": "code",
   "execution_count": 23,
   "metadata": {
    "scrolled": true
   },
   "outputs": [
    {
     "data": {
      "text/html": [
       "<div>\n",
       "<style scoped>\n",
       "    .dataframe tbody tr th:only-of-type {\n",
       "        vertical-align: middle;\n",
       "    }\n",
       "\n",
       "    .dataframe tbody tr th {\n",
       "        vertical-align: top;\n",
       "    }\n",
       "\n",
       "    .dataframe thead th {\n",
       "        text-align: right;\n",
       "    }\n",
       "</style>\n",
       "<table border=\"1\" class=\"dataframe\">\n",
       "  <thead>\n",
       "    <tr style=\"text-align: right;\">\n",
       "      <th>debt_status</th>\n",
       "      <th>есть долги</th>\n",
       "      <th>нет долгов</th>\n",
       "      <th>процент должников</th>\n",
       "    </tr>\n",
       "    <tr>\n",
       "      <th>total_income_category</th>\n",
       "      <th></th>\n",
       "      <th></th>\n",
       "      <th></th>\n",
       "    </tr>\n",
       "  </thead>\n",
       "  <tbody>\n",
       "    <tr>\n",
       "      <th>высокий доход</th>\n",
       "      <td>1286</td>\n",
       "      <td>14543</td>\n",
       "      <td>8.124329</td>\n",
       "    </tr>\n",
       "    <tr>\n",
       "      <th>низкий доход</th>\n",
       "      <td>101</td>\n",
       "      <td>1373</td>\n",
       "      <td>6.852103</td>\n",
       "    </tr>\n",
       "    <tr>\n",
       "      <th>средний доход</th>\n",
       "      <td>354</td>\n",
       "      <td>3814</td>\n",
       "      <td>8.493282</td>\n",
       "    </tr>\n",
       "  </tbody>\n",
       "</table>\n",
       "</div>"
      ],
      "text/plain": [
       "debt_status            есть долги  нет долгов  процент должников\n",
       "total_income_category                                           \n",
       "высокий доход                1286       14543           8.124329\n",
       "низкий доход                  101        1373           6.852103\n",
       "средний доход                 354        3814           8.493282"
      ]
     },
     "metadata": {},
     "output_type": "display_data"
    }
   ],
   "source": [
    "table_income = data.pivot_table(index='total_income_category', \n",
    "                                columns='debt_status', \n",
    "                                values = 'debt',\n",
    "                                aggfunc='count') \n",
    "table_income['процент должников'] = (table_income['есть долги']/\n",
    "                                     (table_income['есть долги'] + \n",
    "                                      table_income['нет долгов'])*100) \n",
    "display(table_income)"
   ]
  },
  {
   "cell_type": "code",
   "execution_count": 24,
   "metadata": {},
   "outputs": [
    {
     "data": {
      "image/png": "[encoded data removed]",
      "text/plain": [
       "<Figure size 576x432 with 1 Axes>"
      ]
     },
     "metadata": {
      "needs_background": "light"
     },
     "output_type": "display_data"
    }
   ],
   "source": [
    "plt.figure(figsize=(8,6))\n",
    "plt.bar(table_income.index, table_income['процент должников'], alpha=0.8)\n",
    "plt.ylabel('% просроченных кредитов')\n",
    "plt.xlabel('Категория')\n",
    "plt.show()"
   ]
  },
  {
   "cell_type": "markdown",
   "metadata": {},
   "source": [
    "**Вывод**"
   ]
  },
  {
   "cell_type": "markdown",
   "metadata": {},
   "source": [
    "Чаще всего просроченную задолженность имеют люди со средним доходом (от 70 до 110 т.р.) - 8,49 %. Люди с высоким доходом (более 110 т.р.) просрочивают выплаты в 8,1 % случаев. Наименее рискованно выдавать кредиты людям с низким доходом (до 70 т.р.), число просрочек составляет 6,85 %."
   ]
  },
  {
   "cell_type": "markdown",
   "metadata": {},
   "source": [
    "- Как разные цели кредита влияют на его возврат в срок?"
   ]
  },
  {
   "cell_type": "code",
   "execution_count": 25,
   "metadata": {},
   "outputs": [
    {
     "data": {
      "text/html": [
       "<div>\n",
       "<style scoped>\n",
       "    .dataframe tbody tr th:only-of-type {\n",
       "        vertical-align: middle;\n",
       "    }\n",
       "\n",
       "    .dataframe tbody tr th {\n",
       "        vertical-align: top;\n",
       "    }\n",
       "\n",
       "    .dataframe thead th {\n",
       "        text-align: right;\n",
       "    }\n",
       "</style>\n",
       "<table border=\"1\" class=\"dataframe\">\n",
       "  <thead>\n",
       "    <tr style=\"text-align: right;\">\n",
       "      <th>debt_status</th>\n",
       "      <th>есть долги</th>\n",
       "      <th>нет долгов</th>\n",
       "      <th>процент должников</th>\n",
       "    </tr>\n",
       "    <tr>\n",
       "      <th>purpose_category</th>\n",
       "      <th></th>\n",
       "      <th></th>\n",
       "      <th></th>\n",
       "    </tr>\n",
       "  </thead>\n",
       "  <tbody>\n",
       "    <tr>\n",
       "      <th>автомобиль</th>\n",
       "      <td>403</td>\n",
       "      <td>3905</td>\n",
       "      <td>9.354689</td>\n",
       "    </tr>\n",
       "    <tr>\n",
       "      <th>недвижимость</th>\n",
       "      <td>782</td>\n",
       "      <td>10032</td>\n",
       "      <td>7.231367</td>\n",
       "    </tr>\n",
       "    <tr>\n",
       "      <th>образование</th>\n",
       "      <td>370</td>\n",
       "      <td>3644</td>\n",
       "      <td>9.217738</td>\n",
       "    </tr>\n",
       "    <tr>\n",
       "      <th>свадьба</th>\n",
       "      <td>186</td>\n",
       "      <td>2149</td>\n",
       "      <td>7.965739</td>\n",
       "    </tr>\n",
       "  </tbody>\n",
       "</table>\n",
       "</div>"
      ],
      "text/plain": [
       "debt_status       есть долги  нет долгов  процент должников\n",
       "purpose_category                                           \n",
       "автомобиль               403        3905           9.354689\n",
       "недвижимость             782       10032           7.231367\n",
       "образование              370        3644           9.217738\n",
       "свадьба                  186        2149           7.965739"
      ]
     },
     "metadata": {},
     "output_type": "display_data"
    }
   ],
   "source": [
    "table_purpose = data.pivot_table(index='purpose_category', \n",
    "                                 columns='debt_status', \n",
    "                                 values = 'debt',\n",
    "                                 aggfunc='count')\n",
    "table_purpose['процент должников'] = (table_purpose['есть долги']/\n",
    "                                      (table_purpose['есть долги'] + \n",
    "                                       table_purpose['нет долгов'])*100)  \n",
    "display(table_purpose)"
   ]
  },
  {
   "cell_type": "code",
   "execution_count": 27,
   "metadata": {},
   "outputs": [
    {
     "data": {
      "image/png": "[encoded data removed]",
      "text/plain": [
       "<Figure size 576x432 with 1 Axes>"
      ]
     },
     "metadata": {
      "needs_background": "light"
     },
     "output_type": "display_data"
    }
   ],
   "source": [
    "plt.figure(figsize=(8,6))\n",
    "plt.bar(table_purpose.index, table_purpose['процент должников'], alpha=0.8)\n",
    "plt.ylabel('% просроченных кредитов')\n",
    "plt.xlabel('Категория')\n",
    "plt.show()"
   ]
  },
  {
   "cell_type": "markdown",
   "metadata": {},
   "source": [
    "**Вывод**"
   ]
  },
  {
   "cell_type": "markdown",
   "metadata": {},
   "source": [
    "Чаще всего кредиты просрочивают люди, целью которых является покупка автомобиля (9,35 % должников) и получение образования (9,2 %). Менее рискованно выдавать кредиты на недвижимость (7,23 %) и свадьбу (7,96 %)."
   ]
  },
  {
   "cell_type": "markdown",
   "metadata": {},
   "source": [
    "## Общий вывод"
   ]
  },
  {
   "cell_type": "markdown",
   "metadata": {},
   "source": [
    "При изучении данных обнаружили следующие проблемы:\n",
    "* Пропущенные значения в столбцах `days_employed` и `total_income`.\n",
    "* Отрицательные значения трудового стажа.\n",
    "* Данные по трудовому стажу и доходу записаны в вещественной форме.\n",
    "* Явные и неявные дубликаты, записанные в разных регистрах.\n",
    "* Нестандартная форма записи цели кредита.\n",
    "\n",
    "Предобработку данных осуществили следующими способами:\n",
    "* Заменили пропуски на медианное значение всего столбца.\n",
    "* Заменили вещественные значения на целые.\n",
    "* Удалили явные дубликаты.\n",
    "* Исправили неявные дубликаты путем сведения к нижнему регистру.\n",
    "* Лемматизировали цели кредита и разбили и получили 4 категории: автомобиль, свадьба, недвижимость, образование.\n",
    "* По наличию детей разделили заемщиков на 2 категории: `'есть дети'` и `'нет детей'`.\n",
    "* В зависимости от уровня доходов распределили заемщиков по 3 категориям: с высоким, средним и низким доходом (в соответствии с данными Всероссийского центра уровня жизни).\n",
    "* В столбце `debt_status` распределили заемщиков на имевших и не имевших просроченной задолженности.\n",
    "* Упростили анализ данных путем создания сводных таблиц.\n",
    "\n",
    "При анализе данных получили следующие выводы:\n",
    "* Наиболее рискованно выдавать кредит людям с детьми; неженатым или живущим в гражданском браке;  со средним или высоким доходом; если целью кредита является покупка автомобиля или получение образования.\n",
    "* Наименее рискованно выдавать кредит бездетным; вдовцам/ вдовам; с низким доходом; если целью кредита является покупка недвижимости или свадьба.\n",
    "\n",
    "\n"
   ]
  }
 ],
 "metadata": {
  "ExecuteTimeLog": [
   {
    "duration": 738,
    "start_time": "2021-12-28T07:59:24.080Z"
   },
   {
    "duration": 111,
    "start_time": "2021-12-28T08:00:41.506Z"
   },
   {
    "duration": 88,
    "start_time": "2021-12-28T08:18:47.312Z"
   },
   {
    "duration": 115,
    "start_time": "2021-12-28T08:28:25.613Z"
   },
   {
    "duration": 13,
    "start_time": "2021-12-28T08:42:50.728Z"
   },
   {
    "duration": 6,
    "start_time": "2021-12-28T08:44:39.047Z"
   },
   {
    "duration": 525,
    "start_time": "2021-12-28T08:44:54.223Z"
   },
   {
    "duration": 21,
    "start_time": "2021-12-28T08:45:10.216Z"
   },
   {
    "duration": 32,
    "start_time": "2021-12-28T08:45:37.095Z"
   },
   {
    "duration": 332,
    "start_time": "2021-12-28T08:55:01.369Z"
   },
   {
    "duration": 7,
    "start_time": "2021-12-28T08:55:12.696Z"
   },
   {
    "duration": 5,
    "start_time": "2021-12-28T08:55:20.600Z"
   },
   {
    "duration": 6,
    "start_time": "2021-12-28T08:55:23.016Z"
   },
   {
    "duration": 18,
    "start_time": "2021-12-28T08:56:15.177Z"
   },
   {
    "duration": 11,
    "start_time": "2021-12-28T08:56:33.058Z"
   },
   {
    "duration": 6,
    "start_time": "2021-12-28T08:56:56.880Z"
   },
   {
    "duration": 98,
    "start_time": "2021-12-28T08:57:05.875Z"
   },
   {
    "duration": 6,
    "start_time": "2021-12-28T08:57:12.352Z"
   },
   {
    "duration": 328,
    "start_time": "2021-12-28T08:57:35.551Z"
   },
   {
    "duration": 4,
    "start_time": "2021-12-28T09:16:22.820Z"
   },
   {
    "duration": 34,
    "start_time": "2021-12-28T09:16:33.202Z"
   },
   {
    "duration": 6,
    "start_time": "2021-12-28T09:19:40.043Z"
   },
   {
    "duration": 8,
    "start_time": "2021-12-28T09:20:58.642Z"
   },
   {
    "duration": 11,
    "start_time": "2021-12-28T09:21:15.503Z"
   },
   {
    "duration": 16,
    "start_time": "2021-12-28T09:23:18.992Z"
   },
   {
    "duration": 35,
    "start_time": "2021-12-28T09:23:28.101Z"
   },
   {
    "duration": 24,
    "start_time": "2021-12-28T09:26:13.532Z"
   },
   {
    "duration": 37,
    "start_time": "2021-12-28T09:46:46.870Z"
   },
   {
    "duration": 35,
    "start_time": "2021-12-28T09:49:21.139Z"
   },
   {
    "duration": 34,
    "start_time": "2021-12-28T09:49:43.975Z"
   },
   {
    "duration": 20,
    "start_time": "2021-12-28T09:49:52.328Z"
   },
   {
    "duration": 114,
    "start_time": "2021-12-28T09:50:34.768Z"
   },
   {
    "duration": 39,
    "start_time": "2021-12-28T09:50:38.938Z"
   },
   {
    "duration": 13,
    "start_time": "2021-12-28T09:51:16.777Z"
   },
   {
    "duration": 10,
    "start_time": "2021-12-28T09:54:36.399Z"
   },
   {
    "duration": 19,
    "start_time": "2021-12-28T09:54:38.256Z"
   },
   {
    "duration": 41,
    "start_time": "2021-12-28T09:54:53.749Z"
   },
   {
    "duration": 187,
    "start_time": "2021-12-28T12:20:31.983Z"
   },
   {
    "duration": 592,
    "start_time": "2021-12-28T12:20:37.656Z"
   },
   {
    "duration": 9,
    "start_time": "2021-12-28T12:20:41.898Z"
   },
   {
    "duration": 5,
    "start_time": "2021-12-28T12:20:44.075Z"
   },
   {
    "duration": 17,
    "start_time": "2021-12-28T12:20:48.115Z"
   },
   {
    "duration": 17,
    "start_time": "2021-12-28T12:20:55.726Z"
   },
   {
    "duration": 16,
    "start_time": "2021-12-28T12:21:10.075Z"
   },
   {
    "duration": 8,
    "start_time": "2021-12-28T12:22:49.421Z"
   },
   {
    "duration": 16,
    "start_time": "2021-12-28T12:28:26.708Z"
   },
   {
    "duration": 19,
    "start_time": "2021-12-28T12:28:46.378Z"
   },
   {
    "duration": 19,
    "start_time": "2021-12-28T12:29:06.859Z"
   },
   {
    "duration": 22,
    "start_time": "2021-12-28T12:30:38.317Z"
   },
   {
    "duration": 30,
    "start_time": "2021-12-28T12:31:56.454Z"
   },
   {
    "duration": 36,
    "start_time": "2021-12-28T12:32:09.414Z"
   },
   {
    "duration": 4444,
    "start_time": "2021-12-28T12:34:53.729Z"
   },
   {
    "duration": 34,
    "start_time": "2021-12-28T12:34:59.447Z"
   },
   {
    "duration": 35,
    "start_time": "2021-12-28T12:35:28.467Z"
   },
   {
    "duration": 57,
    "start_time": "2021-12-28T12:36:05.698Z"
   },
   {
    "duration": 32,
    "start_time": "2021-12-28T12:36:58.628Z"
   },
   {
    "duration": 24,
    "start_time": "2021-12-28T12:44:33.188Z"
   },
   {
    "duration": 25,
    "start_time": "2021-12-28T12:44:35.780Z"
   },
   {
    "duration": 40,
    "start_time": "2021-12-28T12:44:59.891Z"
   },
   {
    "duration": 30,
    "start_time": "2021-12-28T12:45:02.528Z"
   },
   {
    "duration": 71,
    "start_time": "2021-12-28T12:45:07.726Z"
   },
   {
    "duration": 50,
    "start_time": "2021-12-28T12:45:17.607Z"
   },
   {
    "duration": 8,
    "start_time": "2021-12-28T12:45:23.581Z"
   },
   {
    "duration": 5,
    "start_time": "2021-12-28T12:45:25.859Z"
   },
   {
    "duration": 26,
    "start_time": "2021-12-28T12:45:27.809Z"
   },
   {
    "duration": 34,
    "start_time": "2021-12-28T12:45:39.898Z"
   },
   {
    "duration": 21,
    "start_time": "2021-12-28T12:46:07.135Z"
   },
   {
    "duration": 52,
    "start_time": "2021-12-28T12:52:13.318Z"
   },
   {
    "duration": 9,
    "start_time": "2021-12-28T12:52:15.202Z"
   },
   {
    "duration": 20,
    "start_time": "2021-12-28T12:52:16.929Z"
   },
   {
    "duration": 23,
    "start_time": "2021-12-28T12:52:19.978Z"
   },
   {
    "duration": 134,
    "start_time": "2021-12-28T12:53:42.285Z"
   },
   {
    "duration": 8,
    "start_time": "2021-12-28T13:01:47.412Z"
   },
   {
    "duration": 4,
    "start_time": "2021-12-28T13:11:10.374Z"
   },
   {
    "duration": 661,
    "start_time": "2021-12-28T13:12:44.191Z"
   },
   {
    "duration": 2852,
    "start_time": "2021-12-28T13:14:28.212Z"
   },
   {
    "duration": 2974,
    "start_time": "2021-12-28T13:14:52.849Z"
   },
   {
    "duration": 5,
    "start_time": "2021-12-28T13:15:46.459Z"
   },
   {
    "duration": 2940,
    "start_time": "2021-12-28T13:16:12.173Z"
   },
   {
    "duration": 3003,
    "start_time": "2021-12-28T13:16:21.071Z"
   },
   {
    "duration": 2696,
    "start_time": "2021-12-28T13:16:33.054Z"
   },
   {
    "duration": 2804,
    "start_time": "2021-12-28T13:16:54.024Z"
   },
   {
    "duration": 2700,
    "start_time": "2021-12-28T13:17:11.473Z"
   },
   {
    "duration": 3054,
    "start_time": "2021-12-28T13:18:34.773Z"
   },
   {
    "duration": 2766,
    "start_time": "2021-12-28T13:18:49.004Z"
   },
   {
    "duration": 2718,
    "start_time": "2021-12-28T13:19:09.984Z"
   },
   {
    "duration": 3535,
    "start_time": "2021-12-28T13:19:26.616Z"
   },
   {
    "duration": 2733,
    "start_time": "2021-12-28T13:20:45.202Z"
   },
   {
    "duration": 2784,
    "start_time": "2021-12-28T13:21:20.969Z"
   },
   {
    "duration": 504,
    "start_time": "2021-12-28T13:25:12.381Z"
   },
   {
    "duration": 530,
    "start_time": "2021-12-28T13:25:19.541Z"
   },
   {
    "duration": 3136,
    "start_time": "2021-12-28T13:25:22.671Z"
   },
   {
    "duration": 2928,
    "start_time": "2021-12-28T13:25:27.070Z"
   },
   {
    "duration": 3047,
    "start_time": "2021-12-28T13:29:22.518Z"
   },
   {
    "duration": 7,
    "start_time": "2021-12-28T14:24:28.832Z"
   },
   {
    "duration": 8,
    "start_time": "2021-12-28T14:25:15.790Z"
   },
   {
    "duration": 608,
    "start_time": "2021-12-28T14:50:37.349Z"
   },
   {
    "duration": 22,
    "start_time": "2021-12-28T14:51:06.856Z"
   },
   {
    "duration": 88,
    "start_time": "2021-12-28T14:59:24.281Z"
   },
   {
    "duration": 7798,
    "start_time": "2021-12-28T14:59:37.950Z"
   },
   {
    "duration": 4183,
    "start_time": "2021-12-28T15:01:22.527Z"
   },
   {
    "duration": 3210,
    "start_time": "2021-12-28T15:06:15.308Z"
   },
   {
    "duration": 625,
    "start_time": "2021-12-28T15:06:53.972Z"
   },
   {
    "duration": 8,
    "start_time": "2021-12-28T15:06:54.599Z"
   },
   {
    "duration": 26,
    "start_time": "2021-12-28T15:06:54.609Z"
   },
   {
    "duration": 23,
    "start_time": "2021-12-28T15:06:54.637Z"
   },
   {
    "duration": 3571,
    "start_time": "2021-12-28T15:06:54.662Z"
   },
   {
    "duration": 3087,
    "start_time": "2021-12-28T15:06:58.235Z"
   },
   {
    "duration": 3032,
    "start_time": "2021-12-28T15:25:34.428Z"
   },
   {
    "duration": 3045,
    "start_time": "2021-12-28T15:26:16.979Z"
   },
   {
    "duration": 2752,
    "start_time": "2021-12-28T15:31:36.508Z"
   },
   {
    "duration": 20,
    "start_time": "2021-12-28T15:43:29.118Z"
   },
   {
    "duration": 13,
    "start_time": "2021-12-28T15:44:33.375Z"
   },
   {
    "duration": 13,
    "start_time": "2021-12-28T15:44:55.325Z"
   },
   {
    "duration": 15,
    "start_time": "2021-12-28T16:01:47.937Z"
   },
   {
    "duration": 88,
    "start_time": "2021-12-28T16:02:49.785Z"
   },
   {
    "duration": 212,
    "start_time": "2021-12-28T16:04:14.014Z"
   },
   {
    "duration": 131,
    "start_time": "2021-12-28T16:04:20.113Z"
   },
   {
    "duration": 358,
    "start_time": "2021-12-28T16:06:03.439Z"
   },
   {
    "duration": 3911,
    "start_time": "2021-12-28T16:06:57.025Z"
   },
   {
    "duration": 3238,
    "start_time": "2021-12-28T16:07:39.715Z"
   },
   {
    "duration": 3447,
    "start_time": "2021-12-28T16:07:51.227Z"
   },
   {
    "duration": 7,
    "start_time": "2021-12-28T16:07:55.172Z"
   },
   {
    "duration": 8,
    "start_time": "2021-12-28T16:08:02.037Z"
   },
   {
    "duration": 8,
    "start_time": "2021-12-28T16:10:12.977Z"
   },
   {
    "duration": 9,
    "start_time": "2021-12-28T16:10:45.951Z"
   },
   {
    "duration": 14,
    "start_time": "2021-12-28T16:12:44.385Z"
   },
   {
    "duration": 8,
    "start_time": "2021-12-28T16:12:49.626Z"
   },
   {
    "duration": 10,
    "start_time": "2021-12-28T16:13:03.553Z"
   },
   {
    "duration": 27,
    "start_time": "2021-12-28T16:13:11.879Z"
   },
   {
    "duration": 9,
    "start_time": "2021-12-28T16:13:19.914Z"
   },
   {
    "duration": 14,
    "start_time": "2021-12-28T16:13:49.161Z"
   },
   {
    "duration": 16,
    "start_time": "2021-12-28T16:14:23.242Z"
   },
   {
    "duration": 141,
    "start_time": "2021-12-28T16:15:33.270Z"
   },
   {
    "duration": 8,
    "start_time": "2021-12-28T16:15:53.971Z"
   },
   {
    "duration": 19,
    "start_time": "2021-12-28T16:20:46.089Z"
   },
   {
    "duration": 13,
    "start_time": "2021-12-28T16:20:53.920Z"
   },
   {
    "duration": 13,
    "start_time": "2021-12-28T16:21:05.379Z"
   },
   {
    "duration": 22,
    "start_time": "2021-12-28T16:21:15.990Z"
   },
   {
    "duration": 12,
    "start_time": "2021-12-28T16:21:30.272Z"
   },
   {
    "duration": 11,
    "start_time": "2021-12-28T16:27:16.344Z"
   },
   {
    "duration": 13,
    "start_time": "2021-12-28T16:27:28.934Z"
   },
   {
    "duration": 33,
    "start_time": "2021-12-28T16:27:42.323Z"
   },
   {
    "duration": 13,
    "start_time": "2021-12-28T16:27:45.965Z"
   },
   {
    "duration": 11,
    "start_time": "2021-12-28T16:28:09.525Z"
   },
   {
    "duration": 12,
    "start_time": "2021-12-28T16:28:34.772Z"
   },
   {
    "duration": 616,
    "start_time": "2021-12-29T08:22:31.929Z"
   },
   {
    "duration": 886,
    "start_time": "2021-12-29T08:22:59.832Z"
   },
   {
    "duration": 11,
    "start_time": "2021-12-29T08:23:03.266Z"
   },
   {
    "duration": 41,
    "start_time": "2021-12-29T08:23:06.401Z"
   },
   {
    "duration": 33,
    "start_time": "2021-12-29T08:23:09.296Z"
   },
   {
    "duration": 4784,
    "start_time": "2021-12-29T08:23:11.881Z"
   },
   {
    "duration": 4063,
    "start_time": "2021-12-29T08:23:19.057Z"
   },
   {
    "duration": 513,
    "start_time": "2021-12-29T08:30:50.773Z"
   },
   {
    "duration": 341,
    "start_time": "2021-12-29T08:32:37.983Z"
   },
   {
    "duration": 36,
    "start_time": "2021-12-29T08:33:01.027Z"
   },
   {
    "duration": 31,
    "start_time": "2021-12-29T08:33:06.797Z"
   },
   {
    "duration": 41,
    "start_time": "2021-12-29T08:33:16.046Z"
   },
   {
    "duration": 134,
    "start_time": "2021-12-29T08:33:36.603Z"
   },
   {
    "duration": 328,
    "start_time": "2021-12-29T08:33:42.023Z"
   },
   {
    "duration": 3850,
    "start_time": "2021-12-29T08:37:17.642Z"
   },
   {
    "duration": 27,
    "start_time": "2021-12-29T08:37:43.321Z"
   },
   {
    "duration": 26,
    "start_time": "2021-12-29T08:37:57.401Z"
   },
   {
    "duration": 2734,
    "start_time": "2021-12-29T08:40:15.534Z"
   },
   {
    "duration": 354,
    "start_time": "2021-12-29T08:41:40.162Z"
   },
   {
    "duration": 31,
    "start_time": "2021-12-29T08:44:31.157Z"
   },
   {
    "duration": 26,
    "start_time": "2021-12-29T08:48:22.570Z"
   },
   {
    "duration": 29,
    "start_time": "2021-12-29T08:48:47.226Z"
   },
   {
    "duration": 27,
    "start_time": "2021-12-29T08:49:01.790Z"
   },
   {
    "duration": 28,
    "start_time": "2021-12-29T08:54:37.238Z"
   },
   {
    "duration": 28,
    "start_time": "2021-12-29T08:54:54.593Z"
   },
   {
    "duration": 37,
    "start_time": "2021-12-29T09:03:29.998Z"
   },
   {
    "duration": 33,
    "start_time": "2021-12-29T09:03:52.968Z"
   },
   {
    "duration": 33,
    "start_time": "2021-12-29T09:04:10.819Z"
   },
   {
    "duration": 31,
    "start_time": "2021-12-29T09:05:34.471Z"
   },
   {
    "duration": 30,
    "start_time": "2021-12-29T09:16:16.576Z"
   },
   {
    "duration": 31,
    "start_time": "2021-12-29T09:28:08.102Z"
   },
   {
    "duration": 122,
    "start_time": "2021-12-29T09:33:05.507Z"
   },
   {
    "duration": 379,
    "start_time": "2021-12-29T12:07:44.483Z"
   },
   {
    "duration": 873,
    "start_time": "2021-12-29T12:07:50.044Z"
   },
   {
    "duration": 10,
    "start_time": "2021-12-29T12:07:54.376Z"
   },
   {
    "duration": 31,
    "start_time": "2021-12-29T12:07:58.536Z"
   },
   {
    "duration": 33,
    "start_time": "2021-12-29T12:08:08.923Z"
   },
   {
    "duration": 44,
    "start_time": "2021-12-29T12:08:15.419Z"
   },
   {
    "duration": 64,
    "start_time": "2021-12-29T12:08:56.299Z"
   },
   {
    "duration": 55,
    "start_time": "2021-12-29T12:09:02.625Z"
   },
   {
    "duration": 46,
    "start_time": "2021-12-29T12:09:46.772Z"
   },
   {
    "duration": 46,
    "start_time": "2021-12-29T12:09:52.339Z"
   },
   {
    "duration": 60,
    "start_time": "2021-12-29T12:11:48.384Z"
   },
   {
    "duration": 63,
    "start_time": "2021-12-29T12:14:00.984Z"
   },
   {
    "duration": 59,
    "start_time": "2021-12-29T12:14:32.106Z"
   },
   {
    "duration": 61,
    "start_time": "2021-12-29T12:14:39.892Z"
   },
   {
    "duration": 35,
    "start_time": "2021-12-29T12:15:09.891Z"
   },
   {
    "duration": 34,
    "start_time": "2021-12-29T12:15:37.508Z"
   },
   {
    "duration": 4921,
    "start_time": "2021-12-29T12:15:39.576Z"
   },
   {
    "duration": 4077,
    "start_time": "2021-12-29T12:15:47.044Z"
   },
   {
    "duration": 56,
    "start_time": "2021-12-29T12:15:51.124Z"
   },
   {
    "duration": 36,
    "start_time": "2021-12-29T12:15:53.536Z"
   },
   {
    "duration": 32,
    "start_time": "2021-12-29T12:15:56.083Z"
   },
   {
    "duration": 31,
    "start_time": "2021-12-29T12:15:58.226Z"
   },
   {
    "duration": 861,
    "start_time": "2021-12-29T12:18:26.056Z"
   },
   {
    "duration": 13,
    "start_time": "2021-12-29T12:18:26.920Z"
   },
   {
    "duration": 51,
    "start_time": "2021-12-29T12:18:26.937Z"
   },
   {
    "duration": 33,
    "start_time": "2021-12-29T12:18:26.992Z"
   },
   {
    "duration": 4941,
    "start_time": "2021-12-29T12:18:27.028Z"
   },
   {
    "duration": 4119,
    "start_time": "2021-12-29T12:18:31.972Z"
   },
   {
    "duration": 49,
    "start_time": "2021-12-29T12:18:36.094Z"
   },
   {
    "duration": 35,
    "start_time": "2021-12-29T12:18:36.159Z"
   },
   {
    "duration": 31,
    "start_time": "2021-12-29T12:18:36.196Z"
   },
   {
    "duration": 55,
    "start_time": "2021-12-29T12:18:36.230Z"
   },
   {
    "duration": 65,
    "start_time": "2021-12-29T12:19:22.427Z"
   },
   {
    "duration": 99,
    "start_time": "2021-12-29T12:20:18.576Z"
   },
   {
    "duration": 133,
    "start_time": "2021-12-29T12:20:30.251Z"
   },
   {
    "duration": 90,
    "start_time": "2021-12-29T12:21:38.589Z"
   },
   {
    "duration": 135,
    "start_time": "2021-12-29T12:21:44.097Z"
   },
   {
    "duration": 13,
    "start_time": "2021-12-29T12:21:47.240Z"
   },
   {
    "duration": 32,
    "start_time": "2021-12-29T12:21:50.018Z"
   },
   {
    "duration": 69,
    "start_time": "2021-12-29T12:21:52.540Z"
   },
   {
    "duration": 873,
    "start_time": "2021-12-29T12:22:08.053Z"
   },
   {
    "duration": 11,
    "start_time": "2021-12-29T12:22:08.928Z"
   },
   {
    "duration": 44,
    "start_time": "2021-12-29T12:22:08.942Z"
   },
   {
    "duration": 82,
    "start_time": "2021-12-29T12:22:08.990Z"
   },
   {
    "duration": 5617,
    "start_time": "2021-12-29T12:22:09.074Z"
   },
   {
    "duration": 4710,
    "start_time": "2021-12-29T12:22:14.695Z"
   },
   {
    "duration": 57,
    "start_time": "2021-12-29T12:22:19.407Z"
   },
   {
    "duration": 34,
    "start_time": "2021-12-29T12:22:19.468Z"
   },
   {
    "duration": 54,
    "start_time": "2021-12-29T12:22:19.505Z"
   },
   {
    "duration": 31,
    "start_time": "2021-12-29T12:22:19.562Z"
   },
   {
    "duration": 837,
    "start_time": "2021-12-29T12:24:03.297Z"
   },
   {
    "duration": 23,
    "start_time": "2021-12-29T12:24:04.136Z"
   },
   {
    "duration": 36,
    "start_time": "2021-12-29T12:24:04.163Z"
   },
   {
    "duration": 105,
    "start_time": "2021-12-29T12:24:04.201Z"
   },
   {
    "duration": 5006,
    "start_time": "2021-12-29T12:24:04.308Z"
   },
   {
    "duration": 4070,
    "start_time": "2021-12-29T12:24:09.317Z"
   },
   {
    "duration": 46,
    "start_time": "2021-12-29T12:24:13.434Z"
   },
   {
    "duration": 30,
    "start_time": "2021-12-29T12:24:13.483Z"
   },
   {
    "duration": 61,
    "start_time": "2021-12-29T12:24:13.515Z"
   },
   {
    "duration": 29,
    "start_time": "2021-12-29T12:24:13.578Z"
   },
   {
    "duration": 846,
    "start_time": "2021-12-29T12:47:47.605Z"
   },
   {
    "duration": 11,
    "start_time": "2021-12-29T12:47:48.454Z"
   },
   {
    "duration": 32,
    "start_time": "2021-12-29T12:47:48.467Z"
   },
   {
    "duration": 108,
    "start_time": "2021-12-29T12:47:48.502Z"
   },
   {
    "duration": 5394,
    "start_time": "2021-12-29T12:47:48.613Z"
   },
   {
    "duration": 4313,
    "start_time": "2021-12-29T12:47:54.011Z"
   },
   {
    "duration": 57,
    "start_time": "2021-12-29T12:47:58.326Z"
   },
   {
    "duration": 34,
    "start_time": "2021-12-29T12:47:58.386Z"
   },
   {
    "duration": 48,
    "start_time": "2021-12-29T12:47:58.423Z"
   },
   {
    "duration": 32,
    "start_time": "2021-12-29T12:47:58.474Z"
   },
   {
    "duration": 894,
    "start_time": "2021-12-29T12:57:56.336Z"
   },
   {
    "duration": 27,
    "start_time": "2021-12-29T12:57:57.233Z"
   },
   {
    "duration": 31,
    "start_time": "2021-12-29T12:57:57.264Z"
   },
   {
    "duration": 121,
    "start_time": "2021-12-29T12:57:57.298Z"
   },
   {
    "duration": 5308,
    "start_time": "2021-12-29T12:57:57.422Z"
   },
   {
    "duration": 4065,
    "start_time": "2021-12-29T12:58:02.734Z"
   },
   {
    "duration": 48,
    "start_time": "2021-12-29T12:58:06.801Z"
   },
   {
    "duration": 36,
    "start_time": "2021-12-29T12:58:06.860Z"
   },
   {
    "duration": 30,
    "start_time": "2021-12-29T12:58:06.900Z"
   },
   {
    "duration": 57,
    "start_time": "2021-12-29T12:58:06.933Z"
   },
   {
    "duration": 679,
    "start_time": "2021-12-30T12:26:30.834Z"
   },
   {
    "duration": 7,
    "start_time": "2021-12-30T12:26:31.515Z"
   },
   {
    "duration": 19,
    "start_time": "2021-12-30T12:26:31.524Z"
   },
   {
    "duration": 74,
    "start_time": "2021-12-30T12:26:31.545Z"
   },
   {
    "duration": 3720,
    "start_time": "2021-12-30T12:26:31.621Z"
   },
   {
    "duration": 2999,
    "start_time": "2021-12-30T12:26:35.343Z"
   },
   {
    "duration": 31,
    "start_time": "2021-12-30T12:26:38.344Z"
   },
   {
    "duration": 22,
    "start_time": "2021-12-30T12:26:38.376Z"
   },
   {
    "duration": 41,
    "start_time": "2021-12-30T12:26:38.400Z"
   },
   {
    "duration": 20,
    "start_time": "2021-12-30T12:26:38.443Z"
   },
   {
    "duration": 3135,
    "start_time": "2022-08-04T16:07:39.294Z"
   },
   {
    "duration": 65,
    "start_time": "2022-08-04T16:07:42.431Z"
   },
   {
    "duration": 35,
    "start_time": "2022-08-04T16:07:42.498Z"
   },
   {
    "duration": 50,
    "start_time": "2022-08-04T16:07:42.536Z"
   },
   {
    "duration": 27,
    "start_time": "2022-08-04T16:07:42.588Z"
   },
   {
    "duration": 302,
    "start_time": "2022-08-04T16:07:42.617Z"
   },
   {
    "duration": 222,
    "start_time": "2022-08-04T16:07:42.922Z"
   },
   {
    "duration": 9,
    "start_time": "2022-08-04T16:07:43.146Z"
   },
   {
    "duration": 23,
    "start_time": "2022-08-04T16:07:43.157Z"
   },
   {
    "duration": 25,
    "start_time": "2022-08-04T16:07:43.183Z"
   },
   {
    "duration": 72,
    "start_time": "2022-08-04T16:07:43.210Z"
   },
   {
    "duration": 8,
    "start_time": "2022-08-04T16:07:43.285Z"
   },
   {
    "duration": 23,
    "start_time": "2022-08-04T16:07:43.295Z"
   },
   {
    "duration": 8,
    "start_time": "2022-08-04T16:07:43.320Z"
   },
   {
    "duration": 26,
    "start_time": "2022-08-04T16:07:43.329Z"
   },
   {
    "duration": 7,
    "start_time": "2022-08-04T16:07:43.356Z"
   },
   {
    "duration": 4303,
    "start_time": "2022-08-04T16:07:43.365Z"
   },
   {
    "duration": 3170,
    "start_time": "2022-08-04T16:07:47.671Z"
   },
   {
    "duration": 50,
    "start_time": "2022-08-04T16:07:50.843Z"
   },
   {
    "duration": 36,
    "start_time": "2022-08-04T16:07:50.896Z"
   },
   {
    "duration": 49,
    "start_time": "2022-08-04T16:07:50.934Z"
   },
   {
    "duration": 20,
    "start_time": "2022-08-04T16:07:50.986Z"
   },
   {
    "duration": 1485,
    "start_time": "2022-08-04T16:18:49.276Z"
   },
   {
    "duration": 21,
    "start_time": "2022-08-04T16:19:34.944Z"
   },
   {
    "duration": 1170,
    "start_time": "2022-08-04T16:20:20.154Z"
   },
   {
    "duration": 353,
    "start_time": "2022-08-04T16:20:46.958Z"
   },
   {
    "duration": 455,
    "start_time": "2022-08-04T16:21:22.840Z"
   },
   {
    "duration": 17,
    "start_time": "2022-08-04T16:21:33.302Z"
   },
   {
    "duration": 19,
    "start_time": "2022-08-04T16:21:54.598Z"
   },
   {
    "duration": 1259,
    "start_time": "2022-08-04T16:22:09.480Z"
   },
   {
    "duration": 93,
    "start_time": "2022-08-04T16:22:22.875Z"
   },
   {
    "duration": 77,
    "start_time": "2022-08-04T16:22:32.161Z"
   },
   {
    "duration": 19,
    "start_time": "2022-08-04T16:22:44.195Z"
   },
   {
    "duration": 130,
    "start_time": "2022-08-04T16:22:44.901Z"
   },
   {
    "duration": 81,
    "start_time": "2022-08-04T16:23:20.069Z"
   },
   {
    "duration": 97,
    "start_time": "2022-08-04T16:23:27.442Z"
   },
   {
    "duration": 77,
    "start_time": "2022-08-04T16:23:51.754Z"
   },
   {
    "duration": 83,
    "start_time": "2022-08-04T16:24:03.882Z"
   },
   {
    "duration": 81,
    "start_time": "2022-08-04T16:24:24.651Z"
   },
   {
    "duration": 127,
    "start_time": "2022-08-04T16:24:37.391Z"
   },
   {
    "duration": 81,
    "start_time": "2022-08-04T16:24:45.267Z"
   },
   {
    "duration": 7,
    "start_time": "2022-08-04T16:25:40.528Z"
   },
   {
    "duration": 7,
    "start_time": "2022-08-04T16:25:44.907Z"
   },
   {
    "duration": 111,
    "start_time": "2022-08-04T16:25:50.440Z"
   },
   {
    "duration": 110,
    "start_time": "2022-08-04T16:26:11.167Z"
   },
   {
    "duration": 95,
    "start_time": "2022-08-04T16:26:19.243Z"
   },
   {
    "duration": 153,
    "start_time": "2022-08-04T16:26:28.152Z"
   },
   {
    "duration": 93,
    "start_time": "2022-08-04T16:26:31.893Z"
   },
   {
    "duration": 100,
    "start_time": "2022-08-04T16:27:15.988Z"
   },
   {
    "duration": 90,
    "start_time": "2022-08-04T16:27:36.645Z"
   },
   {
    "duration": 92,
    "start_time": "2022-08-04T16:27:43.195Z"
   },
   {
    "duration": 102,
    "start_time": "2022-08-04T16:27:52.665Z"
   },
   {
    "duration": 109,
    "start_time": "2022-08-04T16:27:57.839Z"
   },
   {
    "duration": 104,
    "start_time": "2022-08-04T16:28:22.309Z"
   },
   {
    "duration": 127,
    "start_time": "2022-08-04T16:28:30.345Z"
   },
   {
    "duration": 120,
    "start_time": "2022-08-04T16:28:34.645Z"
   },
   {
    "duration": 87,
    "start_time": "2022-08-04T16:29:40.536Z"
   },
   {
    "duration": 132,
    "start_time": "2022-08-04T16:29:45.936Z"
   },
   {
    "duration": 82,
    "start_time": "2022-08-04T16:29:54.340Z"
   },
   {
    "duration": 2230,
    "start_time": "2022-08-04T16:31:27.596Z"
   },
   {
    "duration": 63,
    "start_time": "2022-08-04T16:31:29.828Z"
   },
   {
    "duration": 29,
    "start_time": "2022-08-04T16:31:29.893Z"
   },
   {
    "duration": 17,
    "start_time": "2022-08-04T16:31:29.923Z"
   },
   {
    "duration": 26,
    "start_time": "2022-08-04T16:31:29.942Z"
   },
   {
    "duration": 278,
    "start_time": "2022-08-04T16:31:29.970Z"
   },
   {
    "duration": 150,
    "start_time": "2022-08-04T16:31:30.254Z"
   },
   {
    "duration": 6,
    "start_time": "2022-08-04T16:31:30.406Z"
   },
   {
    "duration": 18,
    "start_time": "2022-08-04T16:31:30.413Z"
   },
   {
    "duration": 30,
    "start_time": "2022-08-04T16:31:30.434Z"
   },
   {
    "duration": 49,
    "start_time": "2022-08-04T16:31:30.465Z"
   },
   {
    "duration": 7,
    "start_time": "2022-08-04T16:31:30.515Z"
   },
   {
    "duration": 42,
    "start_time": "2022-08-04T16:31:30.523Z"
   },
   {
    "duration": 20,
    "start_time": "2022-08-04T16:31:30.567Z"
   },
   {
    "duration": 38,
    "start_time": "2022-08-04T16:31:30.589Z"
   },
   {
    "duration": 23,
    "start_time": "2022-08-04T16:31:30.629Z"
   },
   {
    "duration": 2954,
    "start_time": "2022-08-04T16:31:30.653Z"
   },
   {
    "duration": 2373,
    "start_time": "2022-08-04T16:31:33.609Z"
   },
   {
    "duration": 24,
    "start_time": "2022-08-04T16:31:35.983Z"
   },
   {
    "duration": 88,
    "start_time": "2022-08-04T16:31:36.008Z"
   },
   {
    "duration": 20,
    "start_time": "2022-08-04T16:31:36.097Z"
   },
   {
    "duration": 126,
    "start_time": "2022-08-04T16:31:36.118Z"
   },
   {
    "duration": 25,
    "start_time": "2022-08-04T16:31:36.246Z"
   },
   {
    "duration": 165,
    "start_time": "2022-08-04T16:31:36.273Z"
   },
   {
    "duration": 25,
    "start_time": "2022-08-04T16:31:36.439Z"
   },
   {
    "duration": 98,
    "start_time": "2022-08-04T16:31:36.465Z"
   },
   {
    "duration": 95,
    "start_time": "2022-08-04T16:32:52.053Z"
   }
  ],
  "kernelspec": {
   "display_name": "Python 3 (ipykernel)",
   "language": "python",
   "name": "python3"
  },
  "language_info": {
   "codemirror_mode": {
    "name": "ipython",
    "version": 3
   },
   "file_extension": ".py",
   "mimetype": "text/x-python",
   "name": "python",
   "nbconvert_exporter": "python",
   "pygments_lexer": "ipython3",
   "version": "3.9.5"
  },
  "toc": {
   "base_numbering": 1,
   "nav_menu": {},
   "number_sections": true,
   "sideBar": true,
   "skip_h1_title": true,
   "title_cell": "Table of Contents",
   "title_sidebar": "Contents",
   "toc_cell": false,
   "toc_position": {},
   "toc_section_display": true,
   "toc_window_display": false
  }
 },
 "nbformat": 4,
 "nbformat_minor": 2
}
