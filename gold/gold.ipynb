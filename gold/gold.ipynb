{
 "cells": [
  {
   "cell_type": "markdown",
   "metadata": {},
   "source": [
    "# Восстановление золота из руды"
   ]
  },
  {
   "cell_type": "markdown",
   "metadata": {},
   "source": [
    "Чтобы повысить эффективность работы золотодобывающего предприятия, нужно построить модель, предсказывающую коэффициент восстановления золота из золотосодержащей руды. Нам предоставлены данные с параметрами добычи и очистки. \n",
    "\n",
    "Модель поможет оптимизировать производство, чтобы не запускать предприятие с убыточными характеристиками."
   ]
  },
  {
   "cell_type": "markdown",
   "metadata": {},
   "source": [
    "## Подготовка данных"
   ]
  },
  {
   "cell_type": "code",
   "execution_count": 1,
   "metadata": {},
   "outputs": [],
   "source": [
    "#импортируем нужные библиотеки\n",
    "\n",
    "import pandas as pd\n",
    "import numpy as np\n",
    "import matplotlib\n",
    "from matplotlib import pyplot as plt\n",
    "from sklearn.metrics import mean_absolute_error\n",
    "from sklearn.preprocessing import StandardScaler\n",
    "from sklearn.linear_model import LinearRegression\n",
    "from sklearn.tree import DecisionTreeRegressor\n",
    "from sklearn.ensemble import RandomForestRegressor\n",
    "from sklearn.model_selection import cross_val_score\n",
    "from sklearn.metrics import make_scorer\n",
    "from sklearn.model_selection import GridSearchCV\n",
    "from sklearn.model_selection import StratifiedKFold\n",
    "\n",
    "#давим варнинги\n",
    "from warnings import simplefilter\n",
    "simplefilter(action='ignore', category=FutureWarning)\n",
    "\n",
    "#улучшаем качество графиков\n",
    "%config InlineBackend.figure_format = 'retina'"
   ]
  },
  {
   "cell_type": "code",
   "execution_count": 2,
   "metadata": {
    "scrolled": true
   },
   "outputs": [],
   "source": [
    "#считываем файлы\n",
    "try:\n",
    "    data_train = pd.read_csv('/datasets/gold_recovery_train_new.csv',\n",
    "                             index_col='date',\n",
    "                             parse_dates=True)\n",
    "    data_test = pd.read_csv('/datasets/gold_recovery_test_new.csv',\n",
    "                            index_col='date',\n",
    "                            parse_dates=True)\n",
    "    data = pd.read_csv('/datasets/gold_recovery_full_new.csv', \n",
    "                       index_col='date',\n",
    "                       parse_dates=True)\n",
    "except:\n",
    "    data_train = pd.read_csv('C:\\\\Users\\\\Дмитрий\\\\Desktop\\\\Проекты Я.Практикум\\\\gold\\\\gold_recovery_train_new.csv',\n",
    "                             index_col='date',\n",
    "                             parse_dates=True)\n",
    "    data_test = pd.read_csv('C:\\\\Users\\\\Дмитрий\\\\Desktop\\\\Проекты Я.Практикум\\\\gold\\\\gold_recovery_test_new.csv',\n",
    "                            index_col='date',\n",
    "                            parse_dates=True)\n",
    "    data = pd.read_csv('C:\\\\Users\\\\Дмитрий\\\\Desktop\\\\Проекты Я.Практикум\\\\gold\\\\gold_recovery_full_new.csv', \n",
    "                       index_col='date',\n",
    "                       parse_dates=True)\n",
    "    "
   ]
  },
  {
   "cell_type": "code",
   "execution_count": 3,
   "metadata": {},
   "outputs": [
    {
     "name": "stdout",
     "output_type": "stream",
     "text": [
      "<class 'pandas.core.frame.DataFrame'>\n",
      "DatetimeIndex: 19439 entries, 2016-01-15 00:00:00 to 2018-08-18 10:59:59\n",
      "Data columns (total 86 columns):\n",
      " #   Column                                              Non-Null Count  Dtype  \n",
      "---  ------                                              --------------  -----  \n",
      " 0   final.output.concentrate_ag                         19438 non-null  float64\n",
      " 1   final.output.concentrate_pb                         19438 non-null  float64\n",
      " 2   final.output.concentrate_sol                        19228 non-null  float64\n",
      " 3   final.output.concentrate_au                         19439 non-null  float64\n",
      " 4   final.output.recovery                               19439 non-null  float64\n",
      " 5   final.output.tail_ag                                19438 non-null  float64\n",
      " 6   final.output.tail_pb                                19338 non-null  float64\n",
      " 7   final.output.tail_sol                               19433 non-null  float64\n",
      " 8   final.output.tail_au                                19439 non-null  float64\n",
      " 9   primary_cleaner.input.sulfate                       19415 non-null  float64\n",
      " 10  primary_cleaner.input.depressant                    19402 non-null  float64\n",
      " 11  primary_cleaner.input.feed_size                     19439 non-null  float64\n",
      " 12  primary_cleaner.input.xanthate                      19335 non-null  float64\n",
      " 13  primary_cleaner.output.concentrate_ag               19439 non-null  float64\n",
      " 14  primary_cleaner.output.concentrate_pb               19323 non-null  float64\n",
      " 15  primary_cleaner.output.concentrate_sol              19069 non-null  float64\n",
      " 16  primary_cleaner.output.concentrate_au               19439 non-null  float64\n",
      " 17  primary_cleaner.output.tail_ag                      19435 non-null  float64\n",
      " 18  primary_cleaner.output.tail_pb                      19418 non-null  float64\n",
      " 19  primary_cleaner.output.tail_sol                     19377 non-null  float64\n",
      " 20  primary_cleaner.output.tail_au                      19439 non-null  float64\n",
      " 21  primary_cleaner.state.floatbank8_a_air              19435 non-null  float64\n",
      " 22  primary_cleaner.state.floatbank8_a_level            19438 non-null  float64\n",
      " 23  primary_cleaner.state.floatbank8_b_air              19435 non-null  float64\n",
      " 24  primary_cleaner.state.floatbank8_b_level            19438 non-null  float64\n",
      " 25  primary_cleaner.state.floatbank8_c_air              19437 non-null  float64\n",
      " 26  primary_cleaner.state.floatbank8_c_level            19438 non-null  float64\n",
      " 27  primary_cleaner.state.floatbank8_d_air              19436 non-null  float64\n",
      " 28  primary_cleaner.state.floatbank8_d_level            19438 non-null  float64\n",
      " 29  rougher.calculation.sulfate_to_au_concentrate       19437 non-null  float64\n",
      " 30  rougher.calculation.floatbank10_sulfate_to_au_feed  19437 non-null  float64\n",
      " 31  rougher.calculation.floatbank11_sulfate_to_au_feed  19437 non-null  float64\n",
      " 32  rougher.calculation.au_pb_ratio                     19439 non-null  float64\n",
      " 33  rougher.input.feed_ag                               19439 non-null  float64\n",
      " 34  rougher.input.feed_pb                               19339 non-null  float64\n",
      " 35  rougher.input.feed_rate                             19428 non-null  float64\n",
      " 36  rougher.input.feed_size                             19294 non-null  float64\n",
      " 37  rougher.input.feed_sol                              19340 non-null  float64\n",
      " 38  rougher.input.feed_au                               19439 non-null  float64\n",
      " 39  rougher.input.floatbank10_sulfate                   19405 non-null  float64\n",
      " 40  rougher.input.floatbank10_xanthate                  19431 non-null  float64\n",
      " 41  rougher.input.floatbank11_sulfate                   19395 non-null  float64\n",
      " 42  rougher.input.floatbank11_xanthate                  18986 non-null  float64\n",
      " 43  rougher.output.concentrate_ag                       19439 non-null  float64\n",
      " 44  rougher.output.concentrate_pb                       19439 non-null  float64\n",
      " 45  rougher.output.concentrate_sol                      19416 non-null  float64\n",
      " 46  rougher.output.concentrate_au                       19439 non-null  float64\n",
      " 47  rougher.output.recovery                             19439 non-null  float64\n",
      " 48  rougher.output.tail_ag                              19438 non-null  float64\n",
      " 49  rougher.output.tail_pb                              19439 non-null  float64\n",
      " 50  rougher.output.tail_sol                             19439 non-null  float64\n",
      " 51  rougher.output.tail_au                              19439 non-null  float64\n",
      " 52  rougher.state.floatbank10_a_air                     19438 non-null  float64\n",
      " 53  rougher.state.floatbank10_a_level                   19438 non-null  float64\n",
      " 54  rougher.state.floatbank10_b_air                     19438 non-null  float64\n",
      " 55  rougher.state.floatbank10_b_level                   19438 non-null  float64\n",
      " 56  rougher.state.floatbank10_c_air                     19438 non-null  float64\n",
      " 57  rougher.state.floatbank10_c_level                   19438 non-null  float64\n",
      " 58  rougher.state.floatbank10_d_air                     19439 non-null  float64\n",
      " 59  rougher.state.floatbank10_d_level                   19439 non-null  float64\n",
      " 60  rougher.state.floatbank10_e_air                     19003 non-null  float64\n",
      " 61  rougher.state.floatbank10_e_level                   19439 non-null  float64\n",
      " 62  rougher.state.floatbank10_f_air                     19439 non-null  float64\n",
      " 63  rougher.state.floatbank10_f_level                   19439 non-null  float64\n",
      " 64  secondary_cleaner.output.tail_ag                    19437 non-null  float64\n",
      " 65  secondary_cleaner.output.tail_pb                    19427 non-null  float64\n",
      " 66  secondary_cleaner.output.tail_sol                   17691 non-null  float64\n",
      " 67  secondary_cleaner.output.tail_au                    19439 non-null  float64\n",
      " 68  secondary_cleaner.state.floatbank2_a_air            19219 non-null  float64\n",
      " 69  secondary_cleaner.state.floatbank2_a_level          19438 non-null  float64\n",
      " 70  secondary_cleaner.state.floatbank2_b_air            19416 non-null  float64\n",
      " 71  secondary_cleaner.state.floatbank2_b_level          19438 non-null  float64\n",
      " 72  secondary_cleaner.state.floatbank3_a_air            19426 non-null  float64\n",
      " 73  secondary_cleaner.state.floatbank3_a_level          19438 non-null  float64\n",
      " 74  secondary_cleaner.state.floatbank3_b_air            19438 non-null  float64\n",
      " 75  secondary_cleaner.state.floatbank3_b_level          19438 non-null  float64\n",
      " 76  secondary_cleaner.state.floatbank4_a_air            19433 non-null  float64\n",
      " 77  secondary_cleaner.state.floatbank4_a_level          19438 non-null  float64\n",
      " 78  secondary_cleaner.state.floatbank4_b_air            19438 non-null  float64\n",
      " 79  secondary_cleaner.state.floatbank4_b_level          19438 non-null  float64\n",
      " 80  secondary_cleaner.state.floatbank5_a_air            19438 non-null  float64\n",
      " 81  secondary_cleaner.state.floatbank5_a_level          19438 non-null  float64\n",
      " 82  secondary_cleaner.state.floatbank5_b_air            19438 non-null  float64\n",
      " 83  secondary_cleaner.state.floatbank5_b_level          19438 non-null  float64\n",
      " 84  secondary_cleaner.state.floatbank6_a_air            19437 non-null  float64\n",
      " 85  secondary_cleaner.state.floatbank6_a_level          19438 non-null  float64\n",
      "dtypes: float64(86)\n",
      "memory usage: 12.9 MB\n"
     ]
    },
    {
     "data": {
      "text/html": [
       "<div>\n",
       "<style scoped>\n",
       "    .dataframe tbody tr th:only-of-type {\n",
       "        vertical-align: middle;\n",
       "    }\n",
       "\n",
       "    .dataframe tbody tr th {\n",
       "        vertical-align: top;\n",
       "    }\n",
       "\n",
       "    .dataframe thead th {\n",
       "        text-align: right;\n",
       "    }\n",
       "</style>\n",
       "<table border=\"1\" class=\"dataframe\">\n",
       "  <thead>\n",
       "    <tr style=\"text-align: right;\">\n",
       "      <th></th>\n",
       "      <th>final.output.concentrate_ag</th>\n",
       "      <th>final.output.concentrate_pb</th>\n",
       "      <th>final.output.concentrate_sol</th>\n",
       "      <th>final.output.concentrate_au</th>\n",
       "      <th>final.output.recovery</th>\n",
       "      <th>final.output.tail_ag</th>\n",
       "      <th>final.output.tail_pb</th>\n",
       "      <th>final.output.tail_sol</th>\n",
       "      <th>final.output.tail_au</th>\n",
       "      <th>primary_cleaner.input.sulfate</th>\n",
       "      <th>...</th>\n",
       "      <th>secondary_cleaner.state.floatbank4_a_air</th>\n",
       "      <th>secondary_cleaner.state.floatbank4_a_level</th>\n",
       "      <th>secondary_cleaner.state.floatbank4_b_air</th>\n",
       "      <th>secondary_cleaner.state.floatbank4_b_level</th>\n",
       "      <th>secondary_cleaner.state.floatbank5_a_air</th>\n",
       "      <th>secondary_cleaner.state.floatbank5_a_level</th>\n",
       "      <th>secondary_cleaner.state.floatbank5_b_air</th>\n",
       "      <th>secondary_cleaner.state.floatbank5_b_level</th>\n",
       "      <th>secondary_cleaner.state.floatbank6_a_air</th>\n",
       "      <th>secondary_cleaner.state.floatbank6_a_level</th>\n",
       "    </tr>\n",
       "    <tr>\n",
       "      <th>date</th>\n",
       "      <th></th>\n",
       "      <th></th>\n",
       "      <th></th>\n",
       "      <th></th>\n",
       "      <th></th>\n",
       "      <th></th>\n",
       "      <th></th>\n",
       "      <th></th>\n",
       "      <th></th>\n",
       "      <th></th>\n",
       "      <th></th>\n",
       "      <th></th>\n",
       "      <th></th>\n",
       "      <th></th>\n",
       "      <th></th>\n",
       "      <th></th>\n",
       "      <th></th>\n",
       "      <th></th>\n",
       "      <th></th>\n",
       "      <th></th>\n",
       "      <th></th>\n",
       "    </tr>\n",
       "  </thead>\n",
       "  <tbody>\n",
       "    <tr>\n",
       "      <th>2016-01-15 00:00:00</th>\n",
       "      <td>6.055403</td>\n",
       "      <td>9.889648</td>\n",
       "      <td>5.507324</td>\n",
       "      <td>42.192020</td>\n",
       "      <td>70.541216</td>\n",
       "      <td>10.411962</td>\n",
       "      <td>0.895447</td>\n",
       "      <td>16.904297</td>\n",
       "      <td>2.143149</td>\n",
       "      <td>127.092003</td>\n",
       "      <td>...</td>\n",
       "      <td>14.016835</td>\n",
       "      <td>-502.488007</td>\n",
       "      <td>12.099931</td>\n",
       "      <td>-504.715942</td>\n",
       "      <td>9.925633</td>\n",
       "      <td>-498.310211</td>\n",
       "      <td>8.079666</td>\n",
       "      <td>-500.470978</td>\n",
       "      <td>14.151341</td>\n",
       "      <td>-605.841980</td>\n",
       "    </tr>\n",
       "    <tr>\n",
       "      <th>2016-01-15 01:00:00</th>\n",
       "      <td>6.029369</td>\n",
       "      <td>9.968944</td>\n",
       "      <td>5.257781</td>\n",
       "      <td>42.701629</td>\n",
       "      <td>69.266198</td>\n",
       "      <td>10.462676</td>\n",
       "      <td>0.927452</td>\n",
       "      <td>16.634514</td>\n",
       "      <td>2.224930</td>\n",
       "      <td>125.629232</td>\n",
       "      <td>...</td>\n",
       "      <td>13.992281</td>\n",
       "      <td>-505.503262</td>\n",
       "      <td>11.950531</td>\n",
       "      <td>-501.331529</td>\n",
       "      <td>10.039245</td>\n",
       "      <td>-500.169983</td>\n",
       "      <td>7.984757</td>\n",
       "      <td>-500.582168</td>\n",
       "      <td>13.998353</td>\n",
       "      <td>-599.787184</td>\n",
       "    </tr>\n",
       "    <tr>\n",
       "      <th>2016-01-15 02:00:00</th>\n",
       "      <td>6.055926</td>\n",
       "      <td>10.213995</td>\n",
       "      <td>5.383759</td>\n",
       "      <td>42.657501</td>\n",
       "      <td>68.116445</td>\n",
       "      <td>10.507046</td>\n",
       "      <td>0.953716</td>\n",
       "      <td>16.208849</td>\n",
       "      <td>2.257889</td>\n",
       "      <td>123.819808</td>\n",
       "      <td>...</td>\n",
       "      <td>14.015015</td>\n",
       "      <td>-502.520901</td>\n",
       "      <td>11.912783</td>\n",
       "      <td>-501.133383</td>\n",
       "      <td>10.070913</td>\n",
       "      <td>-500.129135</td>\n",
       "      <td>8.013877</td>\n",
       "      <td>-500.517572</td>\n",
       "      <td>14.028663</td>\n",
       "      <td>-601.427363</td>\n",
       "    </tr>\n",
       "    <tr>\n",
       "      <th>2016-01-15 03:00:00</th>\n",
       "      <td>6.047977</td>\n",
       "      <td>9.977019</td>\n",
       "      <td>4.858634</td>\n",
       "      <td>42.689819</td>\n",
       "      <td>68.347543</td>\n",
       "      <td>10.422762</td>\n",
       "      <td>0.883763</td>\n",
       "      <td>16.532835</td>\n",
       "      <td>2.146849</td>\n",
       "      <td>122.270188</td>\n",
       "      <td>...</td>\n",
       "      <td>14.036510</td>\n",
       "      <td>-500.857308</td>\n",
       "      <td>11.999550</td>\n",
       "      <td>-501.193686</td>\n",
       "      <td>9.970366</td>\n",
       "      <td>-499.201640</td>\n",
       "      <td>7.977324</td>\n",
       "      <td>-500.255908</td>\n",
       "      <td>14.005551</td>\n",
       "      <td>-599.996129</td>\n",
       "    </tr>\n",
       "    <tr>\n",
       "      <th>2016-01-15 04:00:00</th>\n",
       "      <td>6.148599</td>\n",
       "      <td>10.142511</td>\n",
       "      <td>4.939416</td>\n",
       "      <td>42.774141</td>\n",
       "      <td>66.927016</td>\n",
       "      <td>10.360302</td>\n",
       "      <td>0.792826</td>\n",
       "      <td>16.525686</td>\n",
       "      <td>2.055292</td>\n",
       "      <td>117.988169</td>\n",
       "      <td>...</td>\n",
       "      <td>14.027298</td>\n",
       "      <td>-499.838632</td>\n",
       "      <td>11.953070</td>\n",
       "      <td>-501.053894</td>\n",
       "      <td>9.925709</td>\n",
       "      <td>-501.686727</td>\n",
       "      <td>7.894242</td>\n",
       "      <td>-500.356035</td>\n",
       "      <td>13.996647</td>\n",
       "      <td>-601.496691</td>\n",
       "    </tr>\n",
       "    <tr>\n",
       "      <th>...</th>\n",
       "      <td>...</td>\n",
       "      <td>...</td>\n",
       "      <td>...</td>\n",
       "      <td>...</td>\n",
       "      <td>...</td>\n",
       "      <td>...</td>\n",
       "      <td>...</td>\n",
       "      <td>...</td>\n",
       "      <td>...</td>\n",
       "      <td>...</td>\n",
       "      <td>...</td>\n",
       "      <td>...</td>\n",
       "      <td>...</td>\n",
       "      <td>...</td>\n",
       "      <td>...</td>\n",
       "      <td>...</td>\n",
       "      <td>...</td>\n",
       "      <td>...</td>\n",
       "      <td>...</td>\n",
       "      <td>...</td>\n",
       "      <td>...</td>\n",
       "    </tr>\n",
       "    <tr>\n",
       "      <th>2018-08-18 06:59:59</th>\n",
       "      <td>3.224920</td>\n",
       "      <td>11.356233</td>\n",
       "      <td>6.803482</td>\n",
       "      <td>46.713954</td>\n",
       "      <td>73.755150</td>\n",
       "      <td>8.769645</td>\n",
       "      <td>3.141541</td>\n",
       "      <td>10.403181</td>\n",
       "      <td>1.529220</td>\n",
       "      <td>123.381787</td>\n",
       "      <td>...</td>\n",
       "      <td>23.031497</td>\n",
       "      <td>-501.167942</td>\n",
       "      <td>20.007571</td>\n",
       "      <td>-499.740028</td>\n",
       "      <td>18.006038</td>\n",
       "      <td>-499.834374</td>\n",
       "      <td>13.001114</td>\n",
       "      <td>-500.155694</td>\n",
       "      <td>20.007840</td>\n",
       "      <td>-501.296428</td>\n",
       "    </tr>\n",
       "    <tr>\n",
       "      <th>2018-08-18 07:59:59</th>\n",
       "      <td>3.195978</td>\n",
       "      <td>11.349355</td>\n",
       "      <td>6.862249</td>\n",
       "      <td>46.866780</td>\n",
       "      <td>69.049291</td>\n",
       "      <td>8.897321</td>\n",
       "      <td>3.130493</td>\n",
       "      <td>10.549470</td>\n",
       "      <td>1.612542</td>\n",
       "      <td>120.878188</td>\n",
       "      <td>...</td>\n",
       "      <td>22.960095</td>\n",
       "      <td>-501.612783</td>\n",
       "      <td>20.035660</td>\n",
       "      <td>-500.251357</td>\n",
       "      <td>17.998535</td>\n",
       "      <td>-500.395178</td>\n",
       "      <td>12.954048</td>\n",
       "      <td>-499.895163</td>\n",
       "      <td>19.968498</td>\n",
       "      <td>-501.041608</td>\n",
       "    </tr>\n",
       "    <tr>\n",
       "      <th>2018-08-18 08:59:59</th>\n",
       "      <td>3.109998</td>\n",
       "      <td>11.434366</td>\n",
       "      <td>6.886013</td>\n",
       "      <td>46.795691</td>\n",
       "      <td>67.002189</td>\n",
       "      <td>8.529606</td>\n",
       "      <td>2.911418</td>\n",
       "      <td>11.115147</td>\n",
       "      <td>1.596616</td>\n",
       "      <td>105.666118</td>\n",
       "      <td>...</td>\n",
       "      <td>23.015718</td>\n",
       "      <td>-501.711599</td>\n",
       "      <td>19.951231</td>\n",
       "      <td>-499.857027</td>\n",
       "      <td>18.019543</td>\n",
       "      <td>-500.451156</td>\n",
       "      <td>13.023431</td>\n",
       "      <td>-499.914391</td>\n",
       "      <td>19.990885</td>\n",
       "      <td>-501.518452</td>\n",
       "    </tr>\n",
       "    <tr>\n",
       "      <th>2018-08-18 09:59:59</th>\n",
       "      <td>3.367241</td>\n",
       "      <td>11.625587</td>\n",
       "      <td>6.799433</td>\n",
       "      <td>46.408188</td>\n",
       "      <td>65.523246</td>\n",
       "      <td>8.777171</td>\n",
       "      <td>2.819214</td>\n",
       "      <td>10.463847</td>\n",
       "      <td>1.602879</td>\n",
       "      <td>98.880538</td>\n",
       "      <td>...</td>\n",
       "      <td>23.024963</td>\n",
       "      <td>-501.153409</td>\n",
       "      <td>20.054122</td>\n",
       "      <td>-500.314711</td>\n",
       "      <td>17.979515</td>\n",
       "      <td>-499.272871</td>\n",
       "      <td>12.992404</td>\n",
       "      <td>-499.976268</td>\n",
       "      <td>20.013986</td>\n",
       "      <td>-500.625471</td>\n",
       "    </tr>\n",
       "    <tr>\n",
       "      <th>2018-08-18 10:59:59</th>\n",
       "      <td>3.598375</td>\n",
       "      <td>11.737832</td>\n",
       "      <td>6.717509</td>\n",
       "      <td>46.299438</td>\n",
       "      <td>70.281454</td>\n",
       "      <td>8.406690</td>\n",
       "      <td>2.517518</td>\n",
       "      <td>10.652193</td>\n",
       "      <td>1.389434</td>\n",
       "      <td>95.248427</td>\n",
       "      <td>...</td>\n",
       "      <td>23.018622</td>\n",
       "      <td>-500.492702</td>\n",
       "      <td>20.020205</td>\n",
       "      <td>-500.220296</td>\n",
       "      <td>17.963512</td>\n",
       "      <td>-499.939490</td>\n",
       "      <td>12.990306</td>\n",
       "      <td>-500.080993</td>\n",
       "      <td>19.990336</td>\n",
       "      <td>-499.191575</td>\n",
       "    </tr>\n",
       "  </tbody>\n",
       "</table>\n",
       "<p>19439 rows × 86 columns</p>\n",
       "</div>"
      ],
      "text/plain": [
       "                     final.output.concentrate_ag  final.output.concentrate_pb  \\\n",
       "date                                                                            \n",
       "2016-01-15 00:00:00                     6.055403                     9.889648   \n",
       "2016-01-15 01:00:00                     6.029369                     9.968944   \n",
       "2016-01-15 02:00:00                     6.055926                    10.213995   \n",
       "2016-01-15 03:00:00                     6.047977                     9.977019   \n",
       "2016-01-15 04:00:00                     6.148599                    10.142511   \n",
       "...                                          ...                          ...   \n",
       "2018-08-18 06:59:59                     3.224920                    11.356233   \n",
       "2018-08-18 07:59:59                     3.195978                    11.349355   \n",
       "2018-08-18 08:59:59                     3.109998                    11.434366   \n",
       "2018-08-18 09:59:59                     3.367241                    11.625587   \n",
       "2018-08-18 10:59:59                     3.598375                    11.737832   \n",
       "\n",
       "                     final.output.concentrate_sol  \\\n",
       "date                                                \n",
       "2016-01-15 00:00:00                      5.507324   \n",
       "2016-01-15 01:00:00                      5.257781   \n",
       "2016-01-15 02:00:00                      5.383759   \n",
       "2016-01-15 03:00:00                      4.858634   \n",
       "2016-01-15 04:00:00                      4.939416   \n",
       "...                                           ...   \n",
       "2018-08-18 06:59:59                      6.803482   \n",
       "2018-08-18 07:59:59                      6.862249   \n",
       "2018-08-18 08:59:59                      6.886013   \n",
       "2018-08-18 09:59:59                      6.799433   \n",
       "2018-08-18 10:59:59                      6.717509   \n",
       "\n",
       "                     final.output.concentrate_au  final.output.recovery  \\\n",
       "date                                                                      \n",
       "2016-01-15 00:00:00                    42.192020              70.541216   \n",
       "2016-01-15 01:00:00                    42.701629              69.266198   \n",
       "2016-01-15 02:00:00                    42.657501              68.116445   \n",
       "2016-01-15 03:00:00                    42.689819              68.347543   \n",
       "2016-01-15 04:00:00                    42.774141              66.927016   \n",
       "...                                          ...                    ...   \n",
       "2018-08-18 06:59:59                    46.713954              73.755150   \n",
       "2018-08-18 07:59:59                    46.866780              69.049291   \n",
       "2018-08-18 08:59:59                    46.795691              67.002189   \n",
       "2018-08-18 09:59:59                    46.408188              65.523246   \n",
       "2018-08-18 10:59:59                    46.299438              70.281454   \n",
       "\n",
       "                     final.output.tail_ag  final.output.tail_pb  \\\n",
       "date                                                              \n",
       "2016-01-15 00:00:00             10.411962              0.895447   \n",
       "2016-01-15 01:00:00             10.462676              0.927452   \n",
       "2016-01-15 02:00:00             10.507046              0.953716   \n",
       "2016-01-15 03:00:00             10.422762              0.883763   \n",
       "2016-01-15 04:00:00             10.360302              0.792826   \n",
       "...                                   ...                   ...   \n",
       "2018-08-18 06:59:59              8.769645              3.141541   \n",
       "2018-08-18 07:59:59              8.897321              3.130493   \n",
       "2018-08-18 08:59:59              8.529606              2.911418   \n",
       "2018-08-18 09:59:59              8.777171              2.819214   \n",
       "2018-08-18 10:59:59              8.406690              2.517518   \n",
       "\n",
       "                     final.output.tail_sol  final.output.tail_au  \\\n",
       "date                                                               \n",
       "2016-01-15 00:00:00              16.904297              2.143149   \n",
       "2016-01-15 01:00:00              16.634514              2.224930   \n",
       "2016-01-15 02:00:00              16.208849              2.257889   \n",
       "2016-01-15 03:00:00              16.532835              2.146849   \n",
       "2016-01-15 04:00:00              16.525686              2.055292   \n",
       "...                                    ...                   ...   \n",
       "2018-08-18 06:59:59              10.403181              1.529220   \n",
       "2018-08-18 07:59:59              10.549470              1.612542   \n",
       "2018-08-18 08:59:59              11.115147              1.596616   \n",
       "2018-08-18 09:59:59              10.463847              1.602879   \n",
       "2018-08-18 10:59:59              10.652193              1.389434   \n",
       "\n",
       "                     primary_cleaner.input.sulfate  ...  \\\n",
       "date                                                ...   \n",
       "2016-01-15 00:00:00                     127.092003  ...   \n",
       "2016-01-15 01:00:00                     125.629232  ...   \n",
       "2016-01-15 02:00:00                     123.819808  ...   \n",
       "2016-01-15 03:00:00                     122.270188  ...   \n",
       "2016-01-15 04:00:00                     117.988169  ...   \n",
       "...                                            ...  ...   \n",
       "2018-08-18 06:59:59                     123.381787  ...   \n",
       "2018-08-18 07:59:59                     120.878188  ...   \n",
       "2018-08-18 08:59:59                     105.666118  ...   \n",
       "2018-08-18 09:59:59                      98.880538  ...   \n",
       "2018-08-18 10:59:59                      95.248427  ...   \n",
       "\n",
       "                     secondary_cleaner.state.floatbank4_a_air  \\\n",
       "date                                                            \n",
       "2016-01-15 00:00:00                                 14.016835   \n",
       "2016-01-15 01:00:00                                 13.992281   \n",
       "2016-01-15 02:00:00                                 14.015015   \n",
       "2016-01-15 03:00:00                                 14.036510   \n",
       "2016-01-15 04:00:00                                 14.027298   \n",
       "...                                                       ...   \n",
       "2018-08-18 06:59:59                                 23.031497   \n",
       "2018-08-18 07:59:59                                 22.960095   \n",
       "2018-08-18 08:59:59                                 23.015718   \n",
       "2018-08-18 09:59:59                                 23.024963   \n",
       "2018-08-18 10:59:59                                 23.018622   \n",
       "\n",
       "                     secondary_cleaner.state.floatbank4_a_level  \\\n",
       "date                                                              \n",
       "2016-01-15 00:00:00                                 -502.488007   \n",
       "2016-01-15 01:00:00                                 -505.503262   \n",
       "2016-01-15 02:00:00                                 -502.520901   \n",
       "2016-01-15 03:00:00                                 -500.857308   \n",
       "2016-01-15 04:00:00                                 -499.838632   \n",
       "...                                                         ...   \n",
       "2018-08-18 06:59:59                                 -501.167942   \n",
       "2018-08-18 07:59:59                                 -501.612783   \n",
       "2018-08-18 08:59:59                                 -501.711599   \n",
       "2018-08-18 09:59:59                                 -501.153409   \n",
       "2018-08-18 10:59:59                                 -500.492702   \n",
       "\n",
       "                     secondary_cleaner.state.floatbank4_b_air  \\\n",
       "date                                                            \n",
       "2016-01-15 00:00:00                                 12.099931   \n",
       "2016-01-15 01:00:00                                 11.950531   \n",
       "2016-01-15 02:00:00                                 11.912783   \n",
       "2016-01-15 03:00:00                                 11.999550   \n",
       "2016-01-15 04:00:00                                 11.953070   \n",
       "...                                                       ...   \n",
       "2018-08-18 06:59:59                                 20.007571   \n",
       "2018-08-18 07:59:59                                 20.035660   \n",
       "2018-08-18 08:59:59                                 19.951231   \n",
       "2018-08-18 09:59:59                                 20.054122   \n",
       "2018-08-18 10:59:59                                 20.020205   \n",
       "\n",
       "                     secondary_cleaner.state.floatbank4_b_level  \\\n",
       "date                                                              \n",
       "2016-01-15 00:00:00                                 -504.715942   \n",
       "2016-01-15 01:00:00                                 -501.331529   \n",
       "2016-01-15 02:00:00                                 -501.133383   \n",
       "2016-01-15 03:00:00                                 -501.193686   \n",
       "2016-01-15 04:00:00                                 -501.053894   \n",
       "...                                                         ...   \n",
       "2018-08-18 06:59:59                                 -499.740028   \n",
       "2018-08-18 07:59:59                                 -500.251357   \n",
       "2018-08-18 08:59:59                                 -499.857027   \n",
       "2018-08-18 09:59:59                                 -500.314711   \n",
       "2018-08-18 10:59:59                                 -500.220296   \n",
       "\n",
       "                     secondary_cleaner.state.floatbank5_a_air  \\\n",
       "date                                                            \n",
       "2016-01-15 00:00:00                                  9.925633   \n",
       "2016-01-15 01:00:00                                 10.039245   \n",
       "2016-01-15 02:00:00                                 10.070913   \n",
       "2016-01-15 03:00:00                                  9.970366   \n",
       "2016-01-15 04:00:00                                  9.925709   \n",
       "...                                                       ...   \n",
       "2018-08-18 06:59:59                                 18.006038   \n",
       "2018-08-18 07:59:59                                 17.998535   \n",
       "2018-08-18 08:59:59                                 18.019543   \n",
       "2018-08-18 09:59:59                                 17.979515   \n",
       "2018-08-18 10:59:59                                 17.963512   \n",
       "\n",
       "                     secondary_cleaner.state.floatbank5_a_level  \\\n",
       "date                                                              \n",
       "2016-01-15 00:00:00                                 -498.310211   \n",
       "2016-01-15 01:00:00                                 -500.169983   \n",
       "2016-01-15 02:00:00                                 -500.129135   \n",
       "2016-01-15 03:00:00                                 -499.201640   \n",
       "2016-01-15 04:00:00                                 -501.686727   \n",
       "...                                                         ...   \n",
       "2018-08-18 06:59:59                                 -499.834374   \n",
       "2018-08-18 07:59:59                                 -500.395178   \n",
       "2018-08-18 08:59:59                                 -500.451156   \n",
       "2018-08-18 09:59:59                                 -499.272871   \n",
       "2018-08-18 10:59:59                                 -499.939490   \n",
       "\n",
       "                     secondary_cleaner.state.floatbank5_b_air  \\\n",
       "date                                                            \n",
       "2016-01-15 00:00:00                                  8.079666   \n",
       "2016-01-15 01:00:00                                  7.984757   \n",
       "2016-01-15 02:00:00                                  8.013877   \n",
       "2016-01-15 03:00:00                                  7.977324   \n",
       "2016-01-15 04:00:00                                  7.894242   \n",
       "...                                                       ...   \n",
       "2018-08-18 06:59:59                                 13.001114   \n",
       "2018-08-18 07:59:59                                 12.954048   \n",
       "2018-08-18 08:59:59                                 13.023431   \n",
       "2018-08-18 09:59:59                                 12.992404   \n",
       "2018-08-18 10:59:59                                 12.990306   \n",
       "\n",
       "                     secondary_cleaner.state.floatbank5_b_level  \\\n",
       "date                                                              \n",
       "2016-01-15 00:00:00                                 -500.470978   \n",
       "2016-01-15 01:00:00                                 -500.582168   \n",
       "2016-01-15 02:00:00                                 -500.517572   \n",
       "2016-01-15 03:00:00                                 -500.255908   \n",
       "2016-01-15 04:00:00                                 -500.356035   \n",
       "...                                                         ...   \n",
       "2018-08-18 06:59:59                                 -500.155694   \n",
       "2018-08-18 07:59:59                                 -499.895163   \n",
       "2018-08-18 08:59:59                                 -499.914391   \n",
       "2018-08-18 09:59:59                                 -499.976268   \n",
       "2018-08-18 10:59:59                                 -500.080993   \n",
       "\n",
       "                     secondary_cleaner.state.floatbank6_a_air  \\\n",
       "date                                                            \n",
       "2016-01-15 00:00:00                                 14.151341   \n",
       "2016-01-15 01:00:00                                 13.998353   \n",
       "2016-01-15 02:00:00                                 14.028663   \n",
       "2016-01-15 03:00:00                                 14.005551   \n",
       "2016-01-15 04:00:00                                 13.996647   \n",
       "...                                                       ...   \n",
       "2018-08-18 06:59:59                                 20.007840   \n",
       "2018-08-18 07:59:59                                 19.968498   \n",
       "2018-08-18 08:59:59                                 19.990885   \n",
       "2018-08-18 09:59:59                                 20.013986   \n",
       "2018-08-18 10:59:59                                 19.990336   \n",
       "\n",
       "                     secondary_cleaner.state.floatbank6_a_level  \n",
       "date                                                             \n",
       "2016-01-15 00:00:00                                 -605.841980  \n",
       "2016-01-15 01:00:00                                 -599.787184  \n",
       "2016-01-15 02:00:00                                 -601.427363  \n",
       "2016-01-15 03:00:00                                 -599.996129  \n",
       "2016-01-15 04:00:00                                 -601.496691  \n",
       "...                                                         ...  \n",
       "2018-08-18 06:59:59                                 -501.296428  \n",
       "2018-08-18 07:59:59                                 -501.041608  \n",
       "2018-08-18 08:59:59                                 -501.518452  \n",
       "2018-08-18 09:59:59                                 -500.625471  \n",
       "2018-08-18 10:59:59                                 -499.191575  \n",
       "\n",
       "[19439 rows x 86 columns]"
      ]
     },
     "metadata": {},
     "output_type": "display_data"
    }
   ],
   "source": [
    "#изучаем данные\n",
    "data.info()\n",
    "display(data)"
   ]
  },
  {
   "cell_type": "code",
   "execution_count": 4,
   "metadata": {},
   "outputs": [
    {
     "name": "stdout",
     "output_type": "stream",
     "text": [
      "<class 'pandas.core.frame.DataFrame'>\n",
      "DatetimeIndex: 14149 entries, 2016-01-15 00:00:00 to 2018-08-18 10:59:59\n",
      "Data columns (total 86 columns):\n",
      " #   Column                                              Non-Null Count  Dtype  \n",
      "---  ------                                              --------------  -----  \n",
      " 0   final.output.concentrate_ag                         14148 non-null  float64\n",
      " 1   final.output.concentrate_pb                         14148 non-null  float64\n",
      " 2   final.output.concentrate_sol                        13938 non-null  float64\n",
      " 3   final.output.concentrate_au                         14149 non-null  float64\n",
      " 4   final.output.recovery                               14149 non-null  float64\n",
      " 5   final.output.tail_ag                                14149 non-null  float64\n",
      " 6   final.output.tail_pb                                14049 non-null  float64\n",
      " 7   final.output.tail_sol                               14144 non-null  float64\n",
      " 8   final.output.tail_au                                14149 non-null  float64\n",
      " 9   primary_cleaner.input.sulfate                       14129 non-null  float64\n",
      " 10  primary_cleaner.input.depressant                    14117 non-null  float64\n",
      " 11  primary_cleaner.input.feed_size                     14149 non-null  float64\n",
      " 12  primary_cleaner.input.xanthate                      14049 non-null  float64\n",
      " 13  primary_cleaner.output.concentrate_ag               14149 non-null  float64\n",
      " 14  primary_cleaner.output.concentrate_pb               14063 non-null  float64\n",
      " 15  primary_cleaner.output.concentrate_sol              13863 non-null  float64\n",
      " 16  primary_cleaner.output.concentrate_au               14149 non-null  float64\n",
      " 17  primary_cleaner.output.tail_ag                      14148 non-null  float64\n",
      " 18  primary_cleaner.output.tail_pb                      14134 non-null  float64\n",
      " 19  primary_cleaner.output.tail_sol                     14103 non-null  float64\n",
      " 20  primary_cleaner.output.tail_au                      14149 non-null  float64\n",
      " 21  primary_cleaner.state.floatbank8_a_air              14145 non-null  float64\n",
      " 22  primary_cleaner.state.floatbank8_a_level            14148 non-null  float64\n",
      " 23  primary_cleaner.state.floatbank8_b_air              14145 non-null  float64\n",
      " 24  primary_cleaner.state.floatbank8_b_level            14148 non-null  float64\n",
      " 25  primary_cleaner.state.floatbank8_c_air              14147 non-null  float64\n",
      " 26  primary_cleaner.state.floatbank8_c_level            14148 non-null  float64\n",
      " 27  primary_cleaner.state.floatbank8_d_air              14146 non-null  float64\n",
      " 28  primary_cleaner.state.floatbank8_d_level            14148 non-null  float64\n",
      " 29  rougher.calculation.sulfate_to_au_concentrate       14148 non-null  float64\n",
      " 30  rougher.calculation.floatbank10_sulfate_to_au_feed  14148 non-null  float64\n",
      " 31  rougher.calculation.floatbank11_sulfate_to_au_feed  14148 non-null  float64\n",
      " 32  rougher.calculation.au_pb_ratio                     14149 non-null  float64\n",
      " 33  rougher.input.feed_ag                               14149 non-null  float64\n",
      " 34  rougher.input.feed_pb                               14049 non-null  float64\n",
      " 35  rougher.input.feed_rate                             14141 non-null  float64\n",
      " 36  rougher.input.feed_size                             14005 non-null  float64\n",
      " 37  rougher.input.feed_sol                              14071 non-null  float64\n",
      " 38  rougher.input.feed_au                               14149 non-null  float64\n",
      " 39  rougher.input.floatbank10_sulfate                   14120 non-null  float64\n",
      " 40  rougher.input.floatbank10_xanthate                  14141 non-null  float64\n",
      " 41  rougher.input.floatbank11_sulfate                   14113 non-null  float64\n",
      " 42  rougher.input.floatbank11_xanthate                  13721 non-null  float64\n",
      " 43  rougher.output.concentrate_ag                       14149 non-null  float64\n",
      " 44  rougher.output.concentrate_pb                       14149 non-null  float64\n",
      " 45  rougher.output.concentrate_sol                      14127 non-null  float64\n",
      " 46  rougher.output.concentrate_au                       14149 non-null  float64\n",
      " 47  rougher.output.recovery                             14149 non-null  float64\n",
      " 48  rougher.output.tail_ag                              14148 non-null  float64\n",
      " 49  rougher.output.tail_pb                              14149 non-null  float64\n",
      " 50  rougher.output.tail_sol                             14149 non-null  float64\n",
      " 51  rougher.output.tail_au                              14149 non-null  float64\n",
      " 52  rougher.state.floatbank10_a_air                     14148 non-null  float64\n",
      " 53  rougher.state.floatbank10_a_level                   14148 non-null  float64\n",
      " 54  rougher.state.floatbank10_b_air                     14148 non-null  float64\n",
      " 55  rougher.state.floatbank10_b_level                   14148 non-null  float64\n",
      " 56  rougher.state.floatbank10_c_air                     14148 non-null  float64\n",
      " 57  rougher.state.floatbank10_c_level                   14148 non-null  float64\n",
      " 58  rougher.state.floatbank10_d_air                     14149 non-null  float64\n",
      " 59  rougher.state.floatbank10_d_level                   14149 non-null  float64\n",
      " 60  rougher.state.floatbank10_e_air                     13713 non-null  float64\n",
      " 61  rougher.state.floatbank10_e_level                   14149 non-null  float64\n",
      " 62  rougher.state.floatbank10_f_air                     14149 non-null  float64\n",
      " 63  rougher.state.floatbank10_f_level                   14149 non-null  float64\n",
      " 64  secondary_cleaner.output.tail_ag                    14147 non-null  float64\n",
      " 65  secondary_cleaner.output.tail_pb                    14139 non-null  float64\n",
      " 66  secondary_cleaner.output.tail_sol                   12544 non-null  float64\n",
      " 67  secondary_cleaner.output.tail_au                    14149 non-null  float64\n",
      " 68  secondary_cleaner.state.floatbank2_a_air            13932 non-null  float64\n",
      " 69  secondary_cleaner.state.floatbank2_a_level          14148 non-null  float64\n",
      " 70  secondary_cleaner.state.floatbank2_b_air            14128 non-null  float64\n",
      " 71  secondary_cleaner.state.floatbank2_b_level          14148 non-null  float64\n",
      " 72  secondary_cleaner.state.floatbank3_a_air            14145 non-null  float64\n",
      " 73  secondary_cleaner.state.floatbank3_a_level          14148 non-null  float64\n",
      " 74  secondary_cleaner.state.floatbank3_b_air            14148 non-null  float64\n",
      " 75  secondary_cleaner.state.floatbank3_b_level          14148 non-null  float64\n",
      " 76  secondary_cleaner.state.floatbank4_a_air            14143 non-null  float64\n",
      " 77  secondary_cleaner.state.floatbank4_a_level          14148 non-null  float64\n",
      " 78  secondary_cleaner.state.floatbank4_b_air            14148 non-null  float64\n",
      " 79  secondary_cleaner.state.floatbank4_b_level          14148 non-null  float64\n",
      " 80  secondary_cleaner.state.floatbank5_a_air            14148 non-null  float64\n",
      " 81  secondary_cleaner.state.floatbank5_a_level          14148 non-null  float64\n",
      " 82  secondary_cleaner.state.floatbank5_b_air            14148 non-null  float64\n",
      " 83  secondary_cleaner.state.floatbank5_b_level          14148 non-null  float64\n",
      " 84  secondary_cleaner.state.floatbank6_a_air            14147 non-null  float64\n",
      " 85  secondary_cleaner.state.floatbank6_a_level          14148 non-null  float64\n",
      "dtypes: float64(86)\n",
      "memory usage: 9.4 MB\n"
     ]
    },
    {
     "data": {
      "text/html": [
       "<div>\n",
       "<style scoped>\n",
       "    .dataframe tbody tr th:only-of-type {\n",
       "        vertical-align: middle;\n",
       "    }\n",
       "\n",
       "    .dataframe tbody tr th {\n",
       "        vertical-align: top;\n",
       "    }\n",
       "\n",
       "    .dataframe thead th {\n",
       "        text-align: right;\n",
       "    }\n",
       "</style>\n",
       "<table border=\"1\" class=\"dataframe\">\n",
       "  <thead>\n",
       "    <tr style=\"text-align: right;\">\n",
       "      <th></th>\n",
       "      <th>final.output.concentrate_ag</th>\n",
       "      <th>final.output.concentrate_pb</th>\n",
       "      <th>final.output.concentrate_sol</th>\n",
       "      <th>final.output.concentrate_au</th>\n",
       "      <th>final.output.recovery</th>\n",
       "      <th>final.output.tail_ag</th>\n",
       "      <th>final.output.tail_pb</th>\n",
       "      <th>final.output.tail_sol</th>\n",
       "      <th>final.output.tail_au</th>\n",
       "      <th>primary_cleaner.input.sulfate</th>\n",
       "      <th>...</th>\n",
       "      <th>secondary_cleaner.state.floatbank4_a_air</th>\n",
       "      <th>secondary_cleaner.state.floatbank4_a_level</th>\n",
       "      <th>secondary_cleaner.state.floatbank4_b_air</th>\n",
       "      <th>secondary_cleaner.state.floatbank4_b_level</th>\n",
       "      <th>secondary_cleaner.state.floatbank5_a_air</th>\n",
       "      <th>secondary_cleaner.state.floatbank5_a_level</th>\n",
       "      <th>secondary_cleaner.state.floatbank5_b_air</th>\n",
       "      <th>secondary_cleaner.state.floatbank5_b_level</th>\n",
       "      <th>secondary_cleaner.state.floatbank6_a_air</th>\n",
       "      <th>secondary_cleaner.state.floatbank6_a_level</th>\n",
       "    </tr>\n",
       "    <tr>\n",
       "      <th>date</th>\n",
       "      <th></th>\n",
       "      <th></th>\n",
       "      <th></th>\n",
       "      <th></th>\n",
       "      <th></th>\n",
       "      <th></th>\n",
       "      <th></th>\n",
       "      <th></th>\n",
       "      <th></th>\n",
       "      <th></th>\n",
       "      <th></th>\n",
       "      <th></th>\n",
       "      <th></th>\n",
       "      <th></th>\n",
       "      <th></th>\n",
       "      <th></th>\n",
       "      <th></th>\n",
       "      <th></th>\n",
       "      <th></th>\n",
       "      <th></th>\n",
       "      <th></th>\n",
       "    </tr>\n",
       "  </thead>\n",
       "  <tbody>\n",
       "    <tr>\n",
       "      <th>2016-01-15 00:00:00</th>\n",
       "      <td>6.055403</td>\n",
       "      <td>9.889648</td>\n",
       "      <td>5.507324</td>\n",
       "      <td>42.192020</td>\n",
       "      <td>70.541216</td>\n",
       "      <td>10.411962</td>\n",
       "      <td>0.895447</td>\n",
       "      <td>16.904297</td>\n",
       "      <td>2.143149</td>\n",
       "      <td>127.092003</td>\n",
       "      <td>...</td>\n",
       "      <td>14.016835</td>\n",
       "      <td>-502.488007</td>\n",
       "      <td>12.099931</td>\n",
       "      <td>-504.715942</td>\n",
       "      <td>9.925633</td>\n",
       "      <td>-498.310211</td>\n",
       "      <td>8.079666</td>\n",
       "      <td>-500.470978</td>\n",
       "      <td>14.151341</td>\n",
       "      <td>-605.841980</td>\n",
       "    </tr>\n",
       "    <tr>\n",
       "      <th>2016-01-15 01:00:00</th>\n",
       "      <td>6.029369</td>\n",
       "      <td>9.968944</td>\n",
       "      <td>5.257781</td>\n",
       "      <td>42.701629</td>\n",
       "      <td>69.266198</td>\n",
       "      <td>10.462676</td>\n",
       "      <td>0.927452</td>\n",
       "      <td>16.634514</td>\n",
       "      <td>2.224930</td>\n",
       "      <td>125.629232</td>\n",
       "      <td>...</td>\n",
       "      <td>13.992281</td>\n",
       "      <td>-505.503262</td>\n",
       "      <td>11.950531</td>\n",
       "      <td>-501.331529</td>\n",
       "      <td>10.039245</td>\n",
       "      <td>-500.169983</td>\n",
       "      <td>7.984757</td>\n",
       "      <td>-500.582168</td>\n",
       "      <td>13.998353</td>\n",
       "      <td>-599.787184</td>\n",
       "    </tr>\n",
       "    <tr>\n",
       "      <th>2016-01-15 02:00:00</th>\n",
       "      <td>6.055926</td>\n",
       "      <td>10.213995</td>\n",
       "      <td>5.383759</td>\n",
       "      <td>42.657501</td>\n",
       "      <td>68.116445</td>\n",
       "      <td>10.507046</td>\n",
       "      <td>0.953716</td>\n",
       "      <td>16.208849</td>\n",
       "      <td>2.257889</td>\n",
       "      <td>123.819808</td>\n",
       "      <td>...</td>\n",
       "      <td>14.015015</td>\n",
       "      <td>-502.520901</td>\n",
       "      <td>11.912783</td>\n",
       "      <td>-501.133383</td>\n",
       "      <td>10.070913</td>\n",
       "      <td>-500.129135</td>\n",
       "      <td>8.013877</td>\n",
       "      <td>-500.517572</td>\n",
       "      <td>14.028663</td>\n",
       "      <td>-601.427363</td>\n",
       "    </tr>\n",
       "    <tr>\n",
       "      <th>2016-01-15 03:00:00</th>\n",
       "      <td>6.047977</td>\n",
       "      <td>9.977019</td>\n",
       "      <td>4.858634</td>\n",
       "      <td>42.689819</td>\n",
       "      <td>68.347543</td>\n",
       "      <td>10.422762</td>\n",
       "      <td>0.883763</td>\n",
       "      <td>16.532835</td>\n",
       "      <td>2.146849</td>\n",
       "      <td>122.270188</td>\n",
       "      <td>...</td>\n",
       "      <td>14.036510</td>\n",
       "      <td>-500.857308</td>\n",
       "      <td>11.999550</td>\n",
       "      <td>-501.193686</td>\n",
       "      <td>9.970366</td>\n",
       "      <td>-499.201640</td>\n",
       "      <td>7.977324</td>\n",
       "      <td>-500.255908</td>\n",
       "      <td>14.005551</td>\n",
       "      <td>-599.996129</td>\n",
       "    </tr>\n",
       "    <tr>\n",
       "      <th>2016-01-15 04:00:00</th>\n",
       "      <td>6.148599</td>\n",
       "      <td>10.142511</td>\n",
       "      <td>4.939416</td>\n",
       "      <td>42.774141</td>\n",
       "      <td>66.927016</td>\n",
       "      <td>10.360302</td>\n",
       "      <td>0.792826</td>\n",
       "      <td>16.525686</td>\n",
       "      <td>2.055292</td>\n",
       "      <td>117.988169</td>\n",
       "      <td>...</td>\n",
       "      <td>14.027298</td>\n",
       "      <td>-499.838632</td>\n",
       "      <td>11.953070</td>\n",
       "      <td>-501.053894</td>\n",
       "      <td>9.925709</td>\n",
       "      <td>-501.686727</td>\n",
       "      <td>7.894242</td>\n",
       "      <td>-500.356035</td>\n",
       "      <td>13.996647</td>\n",
       "      <td>-601.496691</td>\n",
       "    </tr>\n",
       "    <tr>\n",
       "      <th>...</th>\n",
       "      <td>...</td>\n",
       "      <td>...</td>\n",
       "      <td>...</td>\n",
       "      <td>...</td>\n",
       "      <td>...</td>\n",
       "      <td>...</td>\n",
       "      <td>...</td>\n",
       "      <td>...</td>\n",
       "      <td>...</td>\n",
       "      <td>...</td>\n",
       "      <td>...</td>\n",
       "      <td>...</td>\n",
       "      <td>...</td>\n",
       "      <td>...</td>\n",
       "      <td>...</td>\n",
       "      <td>...</td>\n",
       "      <td>...</td>\n",
       "      <td>...</td>\n",
       "      <td>...</td>\n",
       "      <td>...</td>\n",
       "      <td>...</td>\n",
       "    </tr>\n",
       "    <tr>\n",
       "      <th>2018-08-18 06:59:59</th>\n",
       "      <td>3.224920</td>\n",
       "      <td>11.356233</td>\n",
       "      <td>6.803482</td>\n",
       "      <td>46.713954</td>\n",
       "      <td>73.755150</td>\n",
       "      <td>8.769645</td>\n",
       "      <td>3.141541</td>\n",
       "      <td>10.403181</td>\n",
       "      <td>1.529220</td>\n",
       "      <td>123.381787</td>\n",
       "      <td>...</td>\n",
       "      <td>23.031497</td>\n",
       "      <td>-501.167942</td>\n",
       "      <td>20.007571</td>\n",
       "      <td>-499.740028</td>\n",
       "      <td>18.006038</td>\n",
       "      <td>-499.834374</td>\n",
       "      <td>13.001114</td>\n",
       "      <td>-500.155694</td>\n",
       "      <td>20.007840</td>\n",
       "      <td>-501.296428</td>\n",
       "    </tr>\n",
       "    <tr>\n",
       "      <th>2018-08-18 07:59:59</th>\n",
       "      <td>3.195978</td>\n",
       "      <td>11.349355</td>\n",
       "      <td>6.862249</td>\n",
       "      <td>46.866780</td>\n",
       "      <td>69.049291</td>\n",
       "      <td>8.897321</td>\n",
       "      <td>3.130493</td>\n",
       "      <td>10.549470</td>\n",
       "      <td>1.612542</td>\n",
       "      <td>120.878188</td>\n",
       "      <td>...</td>\n",
       "      <td>22.960095</td>\n",
       "      <td>-501.612783</td>\n",
       "      <td>20.035660</td>\n",
       "      <td>-500.251357</td>\n",
       "      <td>17.998535</td>\n",
       "      <td>-500.395178</td>\n",
       "      <td>12.954048</td>\n",
       "      <td>-499.895163</td>\n",
       "      <td>19.968498</td>\n",
       "      <td>-501.041608</td>\n",
       "    </tr>\n",
       "    <tr>\n",
       "      <th>2018-08-18 08:59:59</th>\n",
       "      <td>3.109998</td>\n",
       "      <td>11.434366</td>\n",
       "      <td>6.886013</td>\n",
       "      <td>46.795691</td>\n",
       "      <td>67.002189</td>\n",
       "      <td>8.529606</td>\n",
       "      <td>2.911418</td>\n",
       "      <td>11.115147</td>\n",
       "      <td>1.596616</td>\n",
       "      <td>105.666118</td>\n",
       "      <td>...</td>\n",
       "      <td>23.015718</td>\n",
       "      <td>-501.711599</td>\n",
       "      <td>19.951231</td>\n",
       "      <td>-499.857027</td>\n",
       "      <td>18.019543</td>\n",
       "      <td>-500.451156</td>\n",
       "      <td>13.023431</td>\n",
       "      <td>-499.914391</td>\n",
       "      <td>19.990885</td>\n",
       "      <td>-501.518452</td>\n",
       "    </tr>\n",
       "    <tr>\n",
       "      <th>2018-08-18 09:59:59</th>\n",
       "      <td>3.367241</td>\n",
       "      <td>11.625587</td>\n",
       "      <td>6.799433</td>\n",
       "      <td>46.408188</td>\n",
       "      <td>65.523246</td>\n",
       "      <td>8.777171</td>\n",
       "      <td>2.819214</td>\n",
       "      <td>10.463847</td>\n",
       "      <td>1.602879</td>\n",
       "      <td>98.880538</td>\n",
       "      <td>...</td>\n",
       "      <td>23.024963</td>\n",
       "      <td>-501.153409</td>\n",
       "      <td>20.054122</td>\n",
       "      <td>-500.314711</td>\n",
       "      <td>17.979515</td>\n",
       "      <td>-499.272871</td>\n",
       "      <td>12.992404</td>\n",
       "      <td>-499.976268</td>\n",
       "      <td>20.013986</td>\n",
       "      <td>-500.625471</td>\n",
       "    </tr>\n",
       "    <tr>\n",
       "      <th>2018-08-18 10:59:59</th>\n",
       "      <td>3.598375</td>\n",
       "      <td>11.737832</td>\n",
       "      <td>6.717509</td>\n",
       "      <td>46.299438</td>\n",
       "      <td>70.281454</td>\n",
       "      <td>8.406690</td>\n",
       "      <td>2.517518</td>\n",
       "      <td>10.652193</td>\n",
       "      <td>1.389434</td>\n",
       "      <td>95.248427</td>\n",
       "      <td>...</td>\n",
       "      <td>23.018622</td>\n",
       "      <td>-500.492702</td>\n",
       "      <td>20.020205</td>\n",
       "      <td>-500.220296</td>\n",
       "      <td>17.963512</td>\n",
       "      <td>-499.939490</td>\n",
       "      <td>12.990306</td>\n",
       "      <td>-500.080993</td>\n",
       "      <td>19.990336</td>\n",
       "      <td>-499.191575</td>\n",
       "    </tr>\n",
       "  </tbody>\n",
       "</table>\n",
       "<p>14149 rows × 86 columns</p>\n",
       "</div>"
      ],
      "text/plain": [
       "                     final.output.concentrate_ag  final.output.concentrate_pb  \\\n",
       "date                                                                            \n",
       "2016-01-15 00:00:00                     6.055403                     9.889648   \n",
       "2016-01-15 01:00:00                     6.029369                     9.968944   \n",
       "2016-01-15 02:00:00                     6.055926                    10.213995   \n",
       "2016-01-15 03:00:00                     6.047977                     9.977019   \n",
       "2016-01-15 04:00:00                     6.148599                    10.142511   \n",
       "...                                          ...                          ...   \n",
       "2018-08-18 06:59:59                     3.224920                    11.356233   \n",
       "2018-08-18 07:59:59                     3.195978                    11.349355   \n",
       "2018-08-18 08:59:59                     3.109998                    11.434366   \n",
       "2018-08-18 09:59:59                     3.367241                    11.625587   \n",
       "2018-08-18 10:59:59                     3.598375                    11.737832   \n",
       "\n",
       "                     final.output.concentrate_sol  \\\n",
       "date                                                \n",
       "2016-01-15 00:00:00                      5.507324   \n",
       "2016-01-15 01:00:00                      5.257781   \n",
       "2016-01-15 02:00:00                      5.383759   \n",
       "2016-01-15 03:00:00                      4.858634   \n",
       "2016-01-15 04:00:00                      4.939416   \n",
       "...                                           ...   \n",
       "2018-08-18 06:59:59                      6.803482   \n",
       "2018-08-18 07:59:59                      6.862249   \n",
       "2018-08-18 08:59:59                      6.886013   \n",
       "2018-08-18 09:59:59                      6.799433   \n",
       "2018-08-18 10:59:59                      6.717509   \n",
       "\n",
       "                     final.output.concentrate_au  final.output.recovery  \\\n",
       "date                                                                      \n",
       "2016-01-15 00:00:00                    42.192020              70.541216   \n",
       "2016-01-15 01:00:00                    42.701629              69.266198   \n",
       "2016-01-15 02:00:00                    42.657501              68.116445   \n",
       "2016-01-15 03:00:00                    42.689819              68.347543   \n",
       "2016-01-15 04:00:00                    42.774141              66.927016   \n",
       "...                                          ...                    ...   \n",
       "2018-08-18 06:59:59                    46.713954              73.755150   \n",
       "2018-08-18 07:59:59                    46.866780              69.049291   \n",
       "2018-08-18 08:59:59                    46.795691              67.002189   \n",
       "2018-08-18 09:59:59                    46.408188              65.523246   \n",
       "2018-08-18 10:59:59                    46.299438              70.281454   \n",
       "\n",
       "                     final.output.tail_ag  final.output.tail_pb  \\\n",
       "date                                                              \n",
       "2016-01-15 00:00:00             10.411962              0.895447   \n",
       "2016-01-15 01:00:00             10.462676              0.927452   \n",
       "2016-01-15 02:00:00             10.507046              0.953716   \n",
       "2016-01-15 03:00:00             10.422762              0.883763   \n",
       "2016-01-15 04:00:00             10.360302              0.792826   \n",
       "...                                   ...                   ...   \n",
       "2018-08-18 06:59:59              8.769645              3.141541   \n",
       "2018-08-18 07:59:59              8.897321              3.130493   \n",
       "2018-08-18 08:59:59              8.529606              2.911418   \n",
       "2018-08-18 09:59:59              8.777171              2.819214   \n",
       "2018-08-18 10:59:59              8.406690              2.517518   \n",
       "\n",
       "                     final.output.tail_sol  final.output.tail_au  \\\n",
       "date                                                               \n",
       "2016-01-15 00:00:00              16.904297              2.143149   \n",
       "2016-01-15 01:00:00              16.634514              2.224930   \n",
       "2016-01-15 02:00:00              16.208849              2.257889   \n",
       "2016-01-15 03:00:00              16.532835              2.146849   \n",
       "2016-01-15 04:00:00              16.525686              2.055292   \n",
       "...                                    ...                   ...   \n",
       "2018-08-18 06:59:59              10.403181              1.529220   \n",
       "2018-08-18 07:59:59              10.549470              1.612542   \n",
       "2018-08-18 08:59:59              11.115147              1.596616   \n",
       "2018-08-18 09:59:59              10.463847              1.602879   \n",
       "2018-08-18 10:59:59              10.652193              1.389434   \n",
       "\n",
       "                     primary_cleaner.input.sulfate  ...  \\\n",
       "date                                                ...   \n",
       "2016-01-15 00:00:00                     127.092003  ...   \n",
       "2016-01-15 01:00:00                     125.629232  ...   \n",
       "2016-01-15 02:00:00                     123.819808  ...   \n",
       "2016-01-15 03:00:00                     122.270188  ...   \n",
       "2016-01-15 04:00:00                     117.988169  ...   \n",
       "...                                            ...  ...   \n",
       "2018-08-18 06:59:59                     123.381787  ...   \n",
       "2018-08-18 07:59:59                     120.878188  ...   \n",
       "2018-08-18 08:59:59                     105.666118  ...   \n",
       "2018-08-18 09:59:59                      98.880538  ...   \n",
       "2018-08-18 10:59:59                      95.248427  ...   \n",
       "\n",
       "                     secondary_cleaner.state.floatbank4_a_air  \\\n",
       "date                                                            \n",
       "2016-01-15 00:00:00                                 14.016835   \n",
       "2016-01-15 01:00:00                                 13.992281   \n",
       "2016-01-15 02:00:00                                 14.015015   \n",
       "2016-01-15 03:00:00                                 14.036510   \n",
       "2016-01-15 04:00:00                                 14.027298   \n",
       "...                                                       ...   \n",
       "2018-08-18 06:59:59                                 23.031497   \n",
       "2018-08-18 07:59:59                                 22.960095   \n",
       "2018-08-18 08:59:59                                 23.015718   \n",
       "2018-08-18 09:59:59                                 23.024963   \n",
       "2018-08-18 10:59:59                                 23.018622   \n",
       "\n",
       "                     secondary_cleaner.state.floatbank4_a_level  \\\n",
       "date                                                              \n",
       "2016-01-15 00:00:00                                 -502.488007   \n",
       "2016-01-15 01:00:00                                 -505.503262   \n",
       "2016-01-15 02:00:00                                 -502.520901   \n",
       "2016-01-15 03:00:00                                 -500.857308   \n",
       "2016-01-15 04:00:00                                 -499.838632   \n",
       "...                                                         ...   \n",
       "2018-08-18 06:59:59                                 -501.167942   \n",
       "2018-08-18 07:59:59                                 -501.612783   \n",
       "2018-08-18 08:59:59                                 -501.711599   \n",
       "2018-08-18 09:59:59                                 -501.153409   \n",
       "2018-08-18 10:59:59                                 -500.492702   \n",
       "\n",
       "                     secondary_cleaner.state.floatbank4_b_air  \\\n",
       "date                                                            \n",
       "2016-01-15 00:00:00                                 12.099931   \n",
       "2016-01-15 01:00:00                                 11.950531   \n",
       "2016-01-15 02:00:00                                 11.912783   \n",
       "2016-01-15 03:00:00                                 11.999550   \n",
       "2016-01-15 04:00:00                                 11.953070   \n",
       "...                                                       ...   \n",
       "2018-08-18 06:59:59                                 20.007571   \n",
       "2018-08-18 07:59:59                                 20.035660   \n",
       "2018-08-18 08:59:59                                 19.951231   \n",
       "2018-08-18 09:59:59                                 20.054122   \n",
       "2018-08-18 10:59:59                                 20.020205   \n",
       "\n",
       "                     secondary_cleaner.state.floatbank4_b_level  \\\n",
       "date                                                              \n",
       "2016-01-15 00:00:00                                 -504.715942   \n",
       "2016-01-15 01:00:00                                 -501.331529   \n",
       "2016-01-15 02:00:00                                 -501.133383   \n",
       "2016-01-15 03:00:00                                 -501.193686   \n",
       "2016-01-15 04:00:00                                 -501.053894   \n",
       "...                                                         ...   \n",
       "2018-08-18 06:59:59                                 -499.740028   \n",
       "2018-08-18 07:59:59                                 -500.251357   \n",
       "2018-08-18 08:59:59                                 -499.857027   \n",
       "2018-08-18 09:59:59                                 -500.314711   \n",
       "2018-08-18 10:59:59                                 -500.220296   \n",
       "\n",
       "                     secondary_cleaner.state.floatbank5_a_air  \\\n",
       "date                                                            \n",
       "2016-01-15 00:00:00                                  9.925633   \n",
       "2016-01-15 01:00:00                                 10.039245   \n",
       "2016-01-15 02:00:00                                 10.070913   \n",
       "2016-01-15 03:00:00                                  9.970366   \n",
       "2016-01-15 04:00:00                                  9.925709   \n",
       "...                                                       ...   \n",
       "2018-08-18 06:59:59                                 18.006038   \n",
       "2018-08-18 07:59:59                                 17.998535   \n",
       "2018-08-18 08:59:59                                 18.019543   \n",
       "2018-08-18 09:59:59                                 17.979515   \n",
       "2018-08-18 10:59:59                                 17.963512   \n",
       "\n",
       "                     secondary_cleaner.state.floatbank5_a_level  \\\n",
       "date                                                              \n",
       "2016-01-15 00:00:00                                 -498.310211   \n",
       "2016-01-15 01:00:00                                 -500.169983   \n",
       "2016-01-15 02:00:00                                 -500.129135   \n",
       "2016-01-15 03:00:00                                 -499.201640   \n",
       "2016-01-15 04:00:00                                 -501.686727   \n",
       "...                                                         ...   \n",
       "2018-08-18 06:59:59                                 -499.834374   \n",
       "2018-08-18 07:59:59                                 -500.395178   \n",
       "2018-08-18 08:59:59                                 -500.451156   \n",
       "2018-08-18 09:59:59                                 -499.272871   \n",
       "2018-08-18 10:59:59                                 -499.939490   \n",
       "\n",
       "                     secondary_cleaner.state.floatbank5_b_air  \\\n",
       "date                                                            \n",
       "2016-01-15 00:00:00                                  8.079666   \n",
       "2016-01-15 01:00:00                                  7.984757   \n",
       "2016-01-15 02:00:00                                  8.013877   \n",
       "2016-01-15 03:00:00                                  7.977324   \n",
       "2016-01-15 04:00:00                                  7.894242   \n",
       "...                                                       ...   \n",
       "2018-08-18 06:59:59                                 13.001114   \n",
       "2018-08-18 07:59:59                                 12.954048   \n",
       "2018-08-18 08:59:59                                 13.023431   \n",
       "2018-08-18 09:59:59                                 12.992404   \n",
       "2018-08-18 10:59:59                                 12.990306   \n",
       "\n",
       "                     secondary_cleaner.state.floatbank5_b_level  \\\n",
       "date                                                              \n",
       "2016-01-15 00:00:00                                 -500.470978   \n",
       "2016-01-15 01:00:00                                 -500.582168   \n",
       "2016-01-15 02:00:00                                 -500.517572   \n",
       "2016-01-15 03:00:00                                 -500.255908   \n",
       "2016-01-15 04:00:00                                 -500.356035   \n",
       "...                                                         ...   \n",
       "2018-08-18 06:59:59                                 -500.155694   \n",
       "2018-08-18 07:59:59                                 -499.895163   \n",
       "2018-08-18 08:59:59                                 -499.914391   \n",
       "2018-08-18 09:59:59                                 -499.976268   \n",
       "2018-08-18 10:59:59                                 -500.080993   \n",
       "\n",
       "                     secondary_cleaner.state.floatbank6_a_air  \\\n",
       "date                                                            \n",
       "2016-01-15 00:00:00                                 14.151341   \n",
       "2016-01-15 01:00:00                                 13.998353   \n",
       "2016-01-15 02:00:00                                 14.028663   \n",
       "2016-01-15 03:00:00                                 14.005551   \n",
       "2016-01-15 04:00:00                                 13.996647   \n",
       "...                                                       ...   \n",
       "2018-08-18 06:59:59                                 20.007840   \n",
       "2018-08-18 07:59:59                                 19.968498   \n",
       "2018-08-18 08:59:59                                 19.990885   \n",
       "2018-08-18 09:59:59                                 20.013986   \n",
       "2018-08-18 10:59:59                                 19.990336   \n",
       "\n",
       "                     secondary_cleaner.state.floatbank6_a_level  \n",
       "date                                                             \n",
       "2016-01-15 00:00:00                                 -605.841980  \n",
       "2016-01-15 01:00:00                                 -599.787184  \n",
       "2016-01-15 02:00:00                                 -601.427363  \n",
       "2016-01-15 03:00:00                                 -599.996129  \n",
       "2016-01-15 04:00:00                                 -601.496691  \n",
       "...                                                         ...  \n",
       "2018-08-18 06:59:59                                 -501.296428  \n",
       "2018-08-18 07:59:59                                 -501.041608  \n",
       "2018-08-18 08:59:59                                 -501.518452  \n",
       "2018-08-18 09:59:59                                 -500.625471  \n",
       "2018-08-18 10:59:59                                 -499.191575  \n",
       "\n",
       "[14149 rows x 86 columns]"
      ]
     },
     "metadata": {},
     "output_type": "display_data"
    }
   ],
   "source": [
    "data_train.info()\n",
    "display(data_train)"
   ]
  },
  {
   "cell_type": "code",
   "execution_count": 5,
   "metadata": {
    "scrolled": false
   },
   "outputs": [
    {
     "name": "stdout",
     "output_type": "stream",
     "text": [
      "<class 'pandas.core.frame.DataFrame'>\n",
      "DatetimeIndex: 5290 entries, 2016-09-01 00:59:59 to 2017-12-31 23:59:59\n",
      "Data columns (total 52 columns):\n",
      " #   Column                                      Non-Null Count  Dtype  \n",
      "---  ------                                      --------------  -----  \n",
      " 0   primary_cleaner.input.sulfate               5286 non-null   float64\n",
      " 1   primary_cleaner.input.depressant            5285 non-null   float64\n",
      " 2   primary_cleaner.input.feed_size             5290 non-null   float64\n",
      " 3   primary_cleaner.input.xanthate              5286 non-null   float64\n",
      " 4   primary_cleaner.state.floatbank8_a_air      5290 non-null   float64\n",
      " 5   primary_cleaner.state.floatbank8_a_level    5290 non-null   float64\n",
      " 6   primary_cleaner.state.floatbank8_b_air      5290 non-null   float64\n",
      " 7   primary_cleaner.state.floatbank8_b_level    5290 non-null   float64\n",
      " 8   primary_cleaner.state.floatbank8_c_air      5290 non-null   float64\n",
      " 9   primary_cleaner.state.floatbank8_c_level    5290 non-null   float64\n",
      " 10  primary_cleaner.state.floatbank8_d_air      5290 non-null   float64\n",
      " 11  primary_cleaner.state.floatbank8_d_level    5290 non-null   float64\n",
      " 12  rougher.input.feed_ag                       5290 non-null   float64\n",
      " 13  rougher.input.feed_pb                       5290 non-null   float64\n",
      " 14  rougher.input.feed_rate                     5287 non-null   float64\n",
      " 15  rougher.input.feed_size                     5289 non-null   float64\n",
      " 16  rougher.input.feed_sol                      5269 non-null   float64\n",
      " 17  rougher.input.feed_au                       5290 non-null   float64\n",
      " 18  rougher.input.floatbank10_sulfate           5285 non-null   float64\n",
      " 19  rougher.input.floatbank10_xanthate          5290 non-null   float64\n",
      " 20  rougher.input.floatbank11_sulfate           5282 non-null   float64\n",
      " 21  rougher.input.floatbank11_xanthate          5265 non-null   float64\n",
      " 22  rougher.state.floatbank10_a_air             5290 non-null   float64\n",
      " 23  rougher.state.floatbank10_a_level           5290 non-null   float64\n",
      " 24  rougher.state.floatbank10_b_air             5290 non-null   float64\n",
      " 25  rougher.state.floatbank10_b_level           5290 non-null   float64\n",
      " 26  rougher.state.floatbank10_c_air             5290 non-null   float64\n",
      " 27  rougher.state.floatbank10_c_level           5290 non-null   float64\n",
      " 28  rougher.state.floatbank10_d_air             5290 non-null   float64\n",
      " 29  rougher.state.floatbank10_d_level           5290 non-null   float64\n",
      " 30  rougher.state.floatbank10_e_air             5290 non-null   float64\n",
      " 31  rougher.state.floatbank10_e_level           5290 non-null   float64\n",
      " 32  rougher.state.floatbank10_f_air             5290 non-null   float64\n",
      " 33  rougher.state.floatbank10_f_level           5290 non-null   float64\n",
      " 34  secondary_cleaner.state.floatbank2_a_air    5287 non-null   float64\n",
      " 35  secondary_cleaner.state.floatbank2_a_level  5290 non-null   float64\n",
      " 36  secondary_cleaner.state.floatbank2_b_air    5288 non-null   float64\n",
      " 37  secondary_cleaner.state.floatbank2_b_level  5290 non-null   float64\n",
      " 38  secondary_cleaner.state.floatbank3_a_air    5281 non-null   float64\n",
      " 39  secondary_cleaner.state.floatbank3_a_level  5290 non-null   float64\n",
      " 40  secondary_cleaner.state.floatbank3_b_air    5290 non-null   float64\n",
      " 41  secondary_cleaner.state.floatbank3_b_level  5290 non-null   float64\n",
      " 42  secondary_cleaner.state.floatbank4_a_air    5290 non-null   float64\n",
      " 43  secondary_cleaner.state.floatbank4_a_level  5290 non-null   float64\n",
      " 44  secondary_cleaner.state.floatbank4_b_air    5290 non-null   float64\n",
      " 45  secondary_cleaner.state.floatbank4_b_level  5290 non-null   float64\n",
      " 46  secondary_cleaner.state.floatbank5_a_air    5290 non-null   float64\n",
      " 47  secondary_cleaner.state.floatbank5_a_level  5290 non-null   float64\n",
      " 48  secondary_cleaner.state.floatbank5_b_air    5290 non-null   float64\n",
      " 49  secondary_cleaner.state.floatbank5_b_level  5290 non-null   float64\n",
      " 50  secondary_cleaner.state.floatbank6_a_air    5290 non-null   float64\n",
      " 51  secondary_cleaner.state.floatbank6_a_level  5290 non-null   float64\n",
      "dtypes: float64(52)\n",
      "memory usage: 2.1 MB\n"
     ]
    },
    {
     "data": {
      "text/html": [
       "<div>\n",
       "<style scoped>\n",
       "    .dataframe tbody tr th:only-of-type {\n",
       "        vertical-align: middle;\n",
       "    }\n",
       "\n",
       "    .dataframe tbody tr th {\n",
       "        vertical-align: top;\n",
       "    }\n",
       "\n",
       "    .dataframe thead th {\n",
       "        text-align: right;\n",
       "    }\n",
       "</style>\n",
       "<table border=\"1\" class=\"dataframe\">\n",
       "  <thead>\n",
       "    <tr style=\"text-align: right;\">\n",
       "      <th></th>\n",
       "      <th>primary_cleaner.input.sulfate</th>\n",
       "      <th>primary_cleaner.input.depressant</th>\n",
       "      <th>primary_cleaner.input.feed_size</th>\n",
       "      <th>primary_cleaner.input.xanthate</th>\n",
       "      <th>primary_cleaner.state.floatbank8_a_air</th>\n",
       "      <th>primary_cleaner.state.floatbank8_a_level</th>\n",
       "      <th>primary_cleaner.state.floatbank8_b_air</th>\n",
       "      <th>primary_cleaner.state.floatbank8_b_level</th>\n",
       "      <th>primary_cleaner.state.floatbank8_c_air</th>\n",
       "      <th>primary_cleaner.state.floatbank8_c_level</th>\n",
       "      <th>...</th>\n",
       "      <th>secondary_cleaner.state.floatbank4_a_air</th>\n",
       "      <th>secondary_cleaner.state.floatbank4_a_level</th>\n",
       "      <th>secondary_cleaner.state.floatbank4_b_air</th>\n",
       "      <th>secondary_cleaner.state.floatbank4_b_level</th>\n",
       "      <th>secondary_cleaner.state.floatbank5_a_air</th>\n",
       "      <th>secondary_cleaner.state.floatbank5_a_level</th>\n",
       "      <th>secondary_cleaner.state.floatbank5_b_air</th>\n",
       "      <th>secondary_cleaner.state.floatbank5_b_level</th>\n",
       "      <th>secondary_cleaner.state.floatbank6_a_air</th>\n",
       "      <th>secondary_cleaner.state.floatbank6_a_level</th>\n",
       "    </tr>\n",
       "    <tr>\n",
       "      <th>date</th>\n",
       "      <th></th>\n",
       "      <th></th>\n",
       "      <th></th>\n",
       "      <th></th>\n",
       "      <th></th>\n",
       "      <th></th>\n",
       "      <th></th>\n",
       "      <th></th>\n",
       "      <th></th>\n",
       "      <th></th>\n",
       "      <th></th>\n",
       "      <th></th>\n",
       "      <th></th>\n",
       "      <th></th>\n",
       "      <th></th>\n",
       "      <th></th>\n",
       "      <th></th>\n",
       "      <th></th>\n",
       "      <th></th>\n",
       "      <th></th>\n",
       "      <th></th>\n",
       "    </tr>\n",
       "  </thead>\n",
       "  <tbody>\n",
       "    <tr>\n",
       "      <th>2016-09-01 00:59:59</th>\n",
       "      <td>210.800909</td>\n",
       "      <td>14.993118</td>\n",
       "      <td>8.080000</td>\n",
       "      <td>1.005021</td>\n",
       "      <td>1398.981301</td>\n",
       "      <td>-500.225577</td>\n",
       "      <td>1399.144926</td>\n",
       "      <td>-499.919735</td>\n",
       "      <td>1400.102998</td>\n",
       "      <td>-500.704369</td>\n",
       "      <td>...</td>\n",
       "      <td>12.023554</td>\n",
       "      <td>-497.795834</td>\n",
       "      <td>8.016656</td>\n",
       "      <td>-501.289139</td>\n",
       "      <td>7.946562</td>\n",
       "      <td>-432.317850</td>\n",
       "      <td>4.872511</td>\n",
       "      <td>-500.037437</td>\n",
       "      <td>26.705889</td>\n",
       "      <td>-499.709414</td>\n",
       "    </tr>\n",
       "    <tr>\n",
       "      <th>2016-09-01 01:59:59</th>\n",
       "      <td>215.392455</td>\n",
       "      <td>14.987471</td>\n",
       "      <td>8.080000</td>\n",
       "      <td>0.990469</td>\n",
       "      <td>1398.777912</td>\n",
       "      <td>-500.057435</td>\n",
       "      <td>1398.055362</td>\n",
       "      <td>-499.778182</td>\n",
       "      <td>1396.151033</td>\n",
       "      <td>-499.240168</td>\n",
       "      <td>...</td>\n",
       "      <td>12.058140</td>\n",
       "      <td>-498.695773</td>\n",
       "      <td>8.130979</td>\n",
       "      <td>-499.634209</td>\n",
       "      <td>7.958270</td>\n",
       "      <td>-525.839648</td>\n",
       "      <td>4.878850</td>\n",
       "      <td>-500.162375</td>\n",
       "      <td>25.019940</td>\n",
       "      <td>-499.819438</td>\n",
       "    </tr>\n",
       "    <tr>\n",
       "      <th>2016-09-01 02:59:59</th>\n",
       "      <td>215.259946</td>\n",
       "      <td>12.884934</td>\n",
       "      <td>7.786667</td>\n",
       "      <td>0.996043</td>\n",
       "      <td>1398.493666</td>\n",
       "      <td>-500.868360</td>\n",
       "      <td>1398.860436</td>\n",
       "      <td>-499.764529</td>\n",
       "      <td>1398.075709</td>\n",
       "      <td>-502.151509</td>\n",
       "      <td>...</td>\n",
       "      <td>11.962366</td>\n",
       "      <td>-498.767484</td>\n",
       "      <td>8.096893</td>\n",
       "      <td>-500.827423</td>\n",
       "      <td>8.071056</td>\n",
       "      <td>-500.801673</td>\n",
       "      <td>4.905125</td>\n",
       "      <td>-499.828510</td>\n",
       "      <td>24.994862</td>\n",
       "      <td>-500.622559</td>\n",
       "    </tr>\n",
       "    <tr>\n",
       "      <th>2016-09-01 03:59:59</th>\n",
       "      <td>215.336236</td>\n",
       "      <td>12.006805</td>\n",
       "      <td>7.640000</td>\n",
       "      <td>0.863514</td>\n",
       "      <td>1399.618111</td>\n",
       "      <td>-498.863574</td>\n",
       "      <td>1397.440120</td>\n",
       "      <td>-499.211024</td>\n",
       "      <td>1400.129303</td>\n",
       "      <td>-498.355873</td>\n",
       "      <td>...</td>\n",
       "      <td>12.033091</td>\n",
       "      <td>-498.350935</td>\n",
       "      <td>8.074946</td>\n",
       "      <td>-499.474407</td>\n",
       "      <td>7.897085</td>\n",
       "      <td>-500.868509</td>\n",
       "      <td>4.931400</td>\n",
       "      <td>-499.963623</td>\n",
       "      <td>24.948919</td>\n",
       "      <td>-498.709987</td>\n",
       "    </tr>\n",
       "    <tr>\n",
       "      <th>2016-09-01 04:59:59</th>\n",
       "      <td>199.099327</td>\n",
       "      <td>10.682530</td>\n",
       "      <td>7.530000</td>\n",
       "      <td>0.805575</td>\n",
       "      <td>1401.268123</td>\n",
       "      <td>-500.808305</td>\n",
       "      <td>1398.128818</td>\n",
       "      <td>-499.504543</td>\n",
       "      <td>1402.172226</td>\n",
       "      <td>-500.810606</td>\n",
       "      <td>...</td>\n",
       "      <td>12.025367</td>\n",
       "      <td>-500.786497</td>\n",
       "      <td>8.054678</td>\n",
       "      <td>-500.397500</td>\n",
       "      <td>8.107890</td>\n",
       "      <td>-509.526725</td>\n",
       "      <td>4.957674</td>\n",
       "      <td>-500.360026</td>\n",
       "      <td>25.003331</td>\n",
       "      <td>-500.856333</td>\n",
       "    </tr>\n",
       "    <tr>\n",
       "      <th>...</th>\n",
       "      <td>...</td>\n",
       "      <td>...</td>\n",
       "      <td>...</td>\n",
       "      <td>...</td>\n",
       "      <td>...</td>\n",
       "      <td>...</td>\n",
       "      <td>...</td>\n",
       "      <td>...</td>\n",
       "      <td>...</td>\n",
       "      <td>...</td>\n",
       "      <td>...</td>\n",
       "      <td>...</td>\n",
       "      <td>...</td>\n",
       "      <td>...</td>\n",
       "      <td>...</td>\n",
       "      <td>...</td>\n",
       "      <td>...</td>\n",
       "      <td>...</td>\n",
       "      <td>...</td>\n",
       "      <td>...</td>\n",
       "      <td>...</td>\n",
       "    </tr>\n",
       "    <tr>\n",
       "      <th>2017-12-31 19:59:59</th>\n",
       "      <td>173.957757</td>\n",
       "      <td>15.963399</td>\n",
       "      <td>8.070000</td>\n",
       "      <td>0.896701</td>\n",
       "      <td>1401.930554</td>\n",
       "      <td>-499.728848</td>\n",
       "      <td>1401.441445</td>\n",
       "      <td>-499.193423</td>\n",
       "      <td>1399.810313</td>\n",
       "      <td>-499.599127</td>\n",
       "      <td>...</td>\n",
       "      <td>13.995957</td>\n",
       "      <td>-500.157454</td>\n",
       "      <td>12.069155</td>\n",
       "      <td>-499.673279</td>\n",
       "      <td>7.977259</td>\n",
       "      <td>-499.516126</td>\n",
       "      <td>5.933319</td>\n",
       "      <td>-499.965973</td>\n",
       "      <td>8.987171</td>\n",
       "      <td>-499.755909</td>\n",
       "    </tr>\n",
       "    <tr>\n",
       "      <th>2017-12-31 20:59:59</th>\n",
       "      <td>172.910270</td>\n",
       "      <td>16.002605</td>\n",
       "      <td>8.070000</td>\n",
       "      <td>0.896519</td>\n",
       "      <td>1447.075722</td>\n",
       "      <td>-494.716823</td>\n",
       "      <td>1448.851892</td>\n",
       "      <td>-465.963026</td>\n",
       "      <td>1443.890424</td>\n",
       "      <td>-503.587739</td>\n",
       "      <td>...</td>\n",
       "      <td>16.749781</td>\n",
       "      <td>-496.031539</td>\n",
       "      <td>13.365371</td>\n",
       "      <td>-499.122723</td>\n",
       "      <td>9.288553</td>\n",
       "      <td>-496.892967</td>\n",
       "      <td>7.372897</td>\n",
       "      <td>-499.942956</td>\n",
       "      <td>8.986832</td>\n",
       "      <td>-499.903761</td>\n",
       "    </tr>\n",
       "    <tr>\n",
       "      <th>2017-12-31 21:59:59</th>\n",
       "      <td>171.135718</td>\n",
       "      <td>15.993669</td>\n",
       "      <td>8.070000</td>\n",
       "      <td>1.165996</td>\n",
       "      <td>1498.836182</td>\n",
       "      <td>-501.770403</td>\n",
       "      <td>1499.572353</td>\n",
       "      <td>-495.516347</td>\n",
       "      <td>1502.749213</td>\n",
       "      <td>-520.667442</td>\n",
       "      <td>...</td>\n",
       "      <td>19.994130</td>\n",
       "      <td>-499.791312</td>\n",
       "      <td>15.101425</td>\n",
       "      <td>-499.936252</td>\n",
       "      <td>10.989181</td>\n",
       "      <td>-498.347898</td>\n",
       "      <td>9.020944</td>\n",
       "      <td>-500.040448</td>\n",
       "      <td>8.982038</td>\n",
       "      <td>-497.789882</td>\n",
       "    </tr>\n",
       "    <tr>\n",
       "      <th>2017-12-31 22:59:59</th>\n",
       "      <td>179.697158</td>\n",
       "      <td>15.438979</td>\n",
       "      <td>8.070000</td>\n",
       "      <td>1.501068</td>\n",
       "      <td>1498.466243</td>\n",
       "      <td>-500.483984</td>\n",
       "      <td>1497.986986</td>\n",
       "      <td>-519.200340</td>\n",
       "      <td>1496.569047</td>\n",
       "      <td>-487.479567</td>\n",
       "      <td>...</td>\n",
       "      <td>19.958760</td>\n",
       "      <td>-499.958750</td>\n",
       "      <td>15.026853</td>\n",
       "      <td>-499.723143</td>\n",
       "      <td>11.011607</td>\n",
       "      <td>-499.985046</td>\n",
       "      <td>9.009783</td>\n",
       "      <td>-499.937902</td>\n",
       "      <td>9.012660</td>\n",
       "      <td>-500.154284</td>\n",
       "    </tr>\n",
       "    <tr>\n",
       "      <th>2017-12-31 23:59:59</th>\n",
       "      <td>181.556856</td>\n",
       "      <td>14.995850</td>\n",
       "      <td>8.070000</td>\n",
       "      <td>1.623454</td>\n",
       "      <td>1498.096303</td>\n",
       "      <td>-499.796922</td>\n",
       "      <td>1501.743791</td>\n",
       "      <td>-505.146931</td>\n",
       "      <td>1499.535978</td>\n",
       "      <td>-492.428226</td>\n",
       "      <td>...</td>\n",
       "      <td>20.034715</td>\n",
       "      <td>-500.728588</td>\n",
       "      <td>14.914199</td>\n",
       "      <td>-499.948518</td>\n",
       "      <td>10.986607</td>\n",
       "      <td>-500.658027</td>\n",
       "      <td>8.989497</td>\n",
       "      <td>-500.337588</td>\n",
       "      <td>8.988632</td>\n",
       "      <td>-500.764937</td>\n",
       "    </tr>\n",
       "  </tbody>\n",
       "</table>\n",
       "<p>5290 rows × 52 columns</p>\n",
       "</div>"
      ],
      "text/plain": [
       "                     primary_cleaner.input.sulfate  \\\n",
       "date                                                 \n",
       "2016-09-01 00:59:59                     210.800909   \n",
       "2016-09-01 01:59:59                     215.392455   \n",
       "2016-09-01 02:59:59                     215.259946   \n",
       "2016-09-01 03:59:59                     215.336236   \n",
       "2016-09-01 04:59:59                     199.099327   \n",
       "...                                            ...   \n",
       "2017-12-31 19:59:59                     173.957757   \n",
       "2017-12-31 20:59:59                     172.910270   \n",
       "2017-12-31 21:59:59                     171.135718   \n",
       "2017-12-31 22:59:59                     179.697158   \n",
       "2017-12-31 23:59:59                     181.556856   \n",
       "\n",
       "                     primary_cleaner.input.depressant  \\\n",
       "date                                                    \n",
       "2016-09-01 00:59:59                         14.993118   \n",
       "2016-09-01 01:59:59                         14.987471   \n",
       "2016-09-01 02:59:59                         12.884934   \n",
       "2016-09-01 03:59:59                         12.006805   \n",
       "2016-09-01 04:59:59                         10.682530   \n",
       "...                                               ...   \n",
       "2017-12-31 19:59:59                         15.963399   \n",
       "2017-12-31 20:59:59                         16.002605   \n",
       "2017-12-31 21:59:59                         15.993669   \n",
       "2017-12-31 22:59:59                         15.438979   \n",
       "2017-12-31 23:59:59                         14.995850   \n",
       "\n",
       "                     primary_cleaner.input.feed_size  \\\n",
       "date                                                   \n",
       "2016-09-01 00:59:59                         8.080000   \n",
       "2016-09-01 01:59:59                         8.080000   \n",
       "2016-09-01 02:59:59                         7.786667   \n",
       "2016-09-01 03:59:59                         7.640000   \n",
       "2016-09-01 04:59:59                         7.530000   \n",
       "...                                              ...   \n",
       "2017-12-31 19:59:59                         8.070000   \n",
       "2017-12-31 20:59:59                         8.070000   \n",
       "2017-12-31 21:59:59                         8.070000   \n",
       "2017-12-31 22:59:59                         8.070000   \n",
       "2017-12-31 23:59:59                         8.070000   \n",
       "\n",
       "                     primary_cleaner.input.xanthate  \\\n",
       "date                                                  \n",
       "2016-09-01 00:59:59                        1.005021   \n",
       "2016-09-01 01:59:59                        0.990469   \n",
       "2016-09-01 02:59:59                        0.996043   \n",
       "2016-09-01 03:59:59                        0.863514   \n",
       "2016-09-01 04:59:59                        0.805575   \n",
       "...                                             ...   \n",
       "2017-12-31 19:59:59                        0.896701   \n",
       "2017-12-31 20:59:59                        0.896519   \n",
       "2017-12-31 21:59:59                        1.165996   \n",
       "2017-12-31 22:59:59                        1.501068   \n",
       "2017-12-31 23:59:59                        1.623454   \n",
       "\n",
       "                     primary_cleaner.state.floatbank8_a_air  \\\n",
       "date                                                          \n",
       "2016-09-01 00:59:59                             1398.981301   \n",
       "2016-09-01 01:59:59                             1398.777912   \n",
       "2016-09-01 02:59:59                             1398.493666   \n",
       "2016-09-01 03:59:59                             1399.618111   \n",
       "2016-09-01 04:59:59                             1401.268123   \n",
       "...                                                     ...   \n",
       "2017-12-31 19:59:59                             1401.930554   \n",
       "2017-12-31 20:59:59                             1447.075722   \n",
       "2017-12-31 21:59:59                             1498.836182   \n",
       "2017-12-31 22:59:59                             1498.466243   \n",
       "2017-12-31 23:59:59                             1498.096303   \n",
       "\n",
       "                     primary_cleaner.state.floatbank8_a_level  \\\n",
       "date                                                            \n",
       "2016-09-01 00:59:59                               -500.225577   \n",
       "2016-09-01 01:59:59                               -500.057435   \n",
       "2016-09-01 02:59:59                               -500.868360   \n",
       "2016-09-01 03:59:59                               -498.863574   \n",
       "2016-09-01 04:59:59                               -500.808305   \n",
       "...                                                       ...   \n",
       "2017-12-31 19:59:59                               -499.728848   \n",
       "2017-12-31 20:59:59                               -494.716823   \n",
       "2017-12-31 21:59:59                               -501.770403   \n",
       "2017-12-31 22:59:59                               -500.483984   \n",
       "2017-12-31 23:59:59                               -499.796922   \n",
       "\n",
       "                     primary_cleaner.state.floatbank8_b_air  \\\n",
       "date                                                          \n",
       "2016-09-01 00:59:59                             1399.144926   \n",
       "2016-09-01 01:59:59                             1398.055362   \n",
       "2016-09-01 02:59:59                             1398.860436   \n",
       "2016-09-01 03:59:59                             1397.440120   \n",
       "2016-09-01 04:59:59                             1398.128818   \n",
       "...                                                     ...   \n",
       "2017-12-31 19:59:59                             1401.441445   \n",
       "2017-12-31 20:59:59                             1448.851892   \n",
       "2017-12-31 21:59:59                             1499.572353   \n",
       "2017-12-31 22:59:59                             1497.986986   \n",
       "2017-12-31 23:59:59                             1501.743791   \n",
       "\n",
       "                     primary_cleaner.state.floatbank8_b_level  \\\n",
       "date                                                            \n",
       "2016-09-01 00:59:59                               -499.919735   \n",
       "2016-09-01 01:59:59                               -499.778182   \n",
       "2016-09-01 02:59:59                               -499.764529   \n",
       "2016-09-01 03:59:59                               -499.211024   \n",
       "2016-09-01 04:59:59                               -499.504543   \n",
       "...                                                       ...   \n",
       "2017-12-31 19:59:59                               -499.193423   \n",
       "2017-12-31 20:59:59                               -465.963026   \n",
       "2017-12-31 21:59:59                               -495.516347   \n",
       "2017-12-31 22:59:59                               -519.200340   \n",
       "2017-12-31 23:59:59                               -505.146931   \n",
       "\n",
       "                     primary_cleaner.state.floatbank8_c_air  \\\n",
       "date                                                          \n",
       "2016-09-01 00:59:59                             1400.102998   \n",
       "2016-09-01 01:59:59                             1396.151033   \n",
       "2016-09-01 02:59:59                             1398.075709   \n",
       "2016-09-01 03:59:59                             1400.129303   \n",
       "2016-09-01 04:59:59                             1402.172226   \n",
       "...                                                     ...   \n",
       "2017-12-31 19:59:59                             1399.810313   \n",
       "2017-12-31 20:59:59                             1443.890424   \n",
       "2017-12-31 21:59:59                             1502.749213   \n",
       "2017-12-31 22:59:59                             1496.569047   \n",
       "2017-12-31 23:59:59                             1499.535978   \n",
       "\n",
       "                     primary_cleaner.state.floatbank8_c_level  ...  \\\n",
       "date                                                           ...   \n",
       "2016-09-01 00:59:59                               -500.704369  ...   \n",
       "2016-09-01 01:59:59                               -499.240168  ...   \n",
       "2016-09-01 02:59:59                               -502.151509  ...   \n",
       "2016-09-01 03:59:59                               -498.355873  ...   \n",
       "2016-09-01 04:59:59                               -500.810606  ...   \n",
       "...                                                       ...  ...   \n",
       "2017-12-31 19:59:59                               -499.599127  ...   \n",
       "2017-12-31 20:59:59                               -503.587739  ...   \n",
       "2017-12-31 21:59:59                               -520.667442  ...   \n",
       "2017-12-31 22:59:59                               -487.479567  ...   \n",
       "2017-12-31 23:59:59                               -492.428226  ...   \n",
       "\n",
       "                     secondary_cleaner.state.floatbank4_a_air  \\\n",
       "date                                                            \n",
       "2016-09-01 00:59:59                                 12.023554   \n",
       "2016-09-01 01:59:59                                 12.058140   \n",
       "2016-09-01 02:59:59                                 11.962366   \n",
       "2016-09-01 03:59:59                                 12.033091   \n",
       "2016-09-01 04:59:59                                 12.025367   \n",
       "...                                                       ...   \n",
       "2017-12-31 19:59:59                                 13.995957   \n",
       "2017-12-31 20:59:59                                 16.749781   \n",
       "2017-12-31 21:59:59                                 19.994130   \n",
       "2017-12-31 22:59:59                                 19.958760   \n",
       "2017-12-31 23:59:59                                 20.034715   \n",
       "\n",
       "                     secondary_cleaner.state.floatbank4_a_level  \\\n",
       "date                                                              \n",
       "2016-09-01 00:59:59                                 -497.795834   \n",
       "2016-09-01 01:59:59                                 -498.695773   \n",
       "2016-09-01 02:59:59                                 -498.767484   \n",
       "2016-09-01 03:59:59                                 -498.350935   \n",
       "2016-09-01 04:59:59                                 -500.786497   \n",
       "...                                                         ...   \n",
       "2017-12-31 19:59:59                                 -500.157454   \n",
       "2017-12-31 20:59:59                                 -496.031539   \n",
       "2017-12-31 21:59:59                                 -499.791312   \n",
       "2017-12-31 22:59:59                                 -499.958750   \n",
       "2017-12-31 23:59:59                                 -500.728588   \n",
       "\n",
       "                     secondary_cleaner.state.floatbank4_b_air  \\\n",
       "date                                                            \n",
       "2016-09-01 00:59:59                                  8.016656   \n",
       "2016-09-01 01:59:59                                  8.130979   \n",
       "2016-09-01 02:59:59                                  8.096893   \n",
       "2016-09-01 03:59:59                                  8.074946   \n",
       "2016-09-01 04:59:59                                  8.054678   \n",
       "...                                                       ...   \n",
       "2017-12-31 19:59:59                                 12.069155   \n",
       "2017-12-31 20:59:59                                 13.365371   \n",
       "2017-12-31 21:59:59                                 15.101425   \n",
       "2017-12-31 22:59:59                                 15.026853   \n",
       "2017-12-31 23:59:59                                 14.914199   \n",
       "\n",
       "                     secondary_cleaner.state.floatbank4_b_level  \\\n",
       "date                                                              \n",
       "2016-09-01 00:59:59                                 -501.289139   \n",
       "2016-09-01 01:59:59                                 -499.634209   \n",
       "2016-09-01 02:59:59                                 -500.827423   \n",
       "2016-09-01 03:59:59                                 -499.474407   \n",
       "2016-09-01 04:59:59                                 -500.397500   \n",
       "...                                                         ...   \n",
       "2017-12-31 19:59:59                                 -499.673279   \n",
       "2017-12-31 20:59:59                                 -499.122723   \n",
       "2017-12-31 21:59:59                                 -499.936252   \n",
       "2017-12-31 22:59:59                                 -499.723143   \n",
       "2017-12-31 23:59:59                                 -499.948518   \n",
       "\n",
       "                     secondary_cleaner.state.floatbank5_a_air  \\\n",
       "date                                                            \n",
       "2016-09-01 00:59:59                                  7.946562   \n",
       "2016-09-01 01:59:59                                  7.958270   \n",
       "2016-09-01 02:59:59                                  8.071056   \n",
       "2016-09-01 03:59:59                                  7.897085   \n",
       "2016-09-01 04:59:59                                  8.107890   \n",
       "...                                                       ...   \n",
       "2017-12-31 19:59:59                                  7.977259   \n",
       "2017-12-31 20:59:59                                  9.288553   \n",
       "2017-12-31 21:59:59                                 10.989181   \n",
       "2017-12-31 22:59:59                                 11.011607   \n",
       "2017-12-31 23:59:59                                 10.986607   \n",
       "\n",
       "                     secondary_cleaner.state.floatbank5_a_level  \\\n",
       "date                                                              \n",
       "2016-09-01 00:59:59                                 -432.317850   \n",
       "2016-09-01 01:59:59                                 -525.839648   \n",
       "2016-09-01 02:59:59                                 -500.801673   \n",
       "2016-09-01 03:59:59                                 -500.868509   \n",
       "2016-09-01 04:59:59                                 -509.526725   \n",
       "...                                                         ...   \n",
       "2017-12-31 19:59:59                                 -499.516126   \n",
       "2017-12-31 20:59:59                                 -496.892967   \n",
       "2017-12-31 21:59:59                                 -498.347898   \n",
       "2017-12-31 22:59:59                                 -499.985046   \n",
       "2017-12-31 23:59:59                                 -500.658027   \n",
       "\n",
       "                     secondary_cleaner.state.floatbank5_b_air  \\\n",
       "date                                                            \n",
       "2016-09-01 00:59:59                                  4.872511   \n",
       "2016-09-01 01:59:59                                  4.878850   \n",
       "2016-09-01 02:59:59                                  4.905125   \n",
       "2016-09-01 03:59:59                                  4.931400   \n",
       "2016-09-01 04:59:59                                  4.957674   \n",
       "...                                                       ...   \n",
       "2017-12-31 19:59:59                                  5.933319   \n",
       "2017-12-31 20:59:59                                  7.372897   \n",
       "2017-12-31 21:59:59                                  9.020944   \n",
       "2017-12-31 22:59:59                                  9.009783   \n",
       "2017-12-31 23:59:59                                  8.989497   \n",
       "\n",
       "                     secondary_cleaner.state.floatbank5_b_level  \\\n",
       "date                                                              \n",
       "2016-09-01 00:59:59                                 -500.037437   \n",
       "2016-09-01 01:59:59                                 -500.162375   \n",
       "2016-09-01 02:59:59                                 -499.828510   \n",
       "2016-09-01 03:59:59                                 -499.963623   \n",
       "2016-09-01 04:59:59                                 -500.360026   \n",
       "...                                                         ...   \n",
       "2017-12-31 19:59:59                                 -499.965973   \n",
       "2017-12-31 20:59:59                                 -499.942956   \n",
       "2017-12-31 21:59:59                                 -500.040448   \n",
       "2017-12-31 22:59:59                                 -499.937902   \n",
       "2017-12-31 23:59:59                                 -500.337588   \n",
       "\n",
       "                     secondary_cleaner.state.floatbank6_a_air  \\\n",
       "date                                                            \n",
       "2016-09-01 00:59:59                                 26.705889   \n",
       "2016-09-01 01:59:59                                 25.019940   \n",
       "2016-09-01 02:59:59                                 24.994862   \n",
       "2016-09-01 03:59:59                                 24.948919   \n",
       "2016-09-01 04:59:59                                 25.003331   \n",
       "...                                                       ...   \n",
       "2017-12-31 19:59:59                                  8.987171   \n",
       "2017-12-31 20:59:59                                  8.986832   \n",
       "2017-12-31 21:59:59                                  8.982038   \n",
       "2017-12-31 22:59:59                                  9.012660   \n",
       "2017-12-31 23:59:59                                  8.988632   \n",
       "\n",
       "                     secondary_cleaner.state.floatbank6_a_level  \n",
       "date                                                             \n",
       "2016-09-01 00:59:59                                 -499.709414  \n",
       "2016-09-01 01:59:59                                 -499.819438  \n",
       "2016-09-01 02:59:59                                 -500.622559  \n",
       "2016-09-01 03:59:59                                 -498.709987  \n",
       "2016-09-01 04:59:59                                 -500.856333  \n",
       "...                                                         ...  \n",
       "2017-12-31 19:59:59                                 -499.755909  \n",
       "2017-12-31 20:59:59                                 -499.903761  \n",
       "2017-12-31 21:59:59                                 -497.789882  \n",
       "2017-12-31 22:59:59                                 -500.154284  \n",
       "2017-12-31 23:59:59                                 -500.764937  \n",
       "\n",
       "[5290 rows x 52 columns]"
      ]
     },
     "metadata": {},
     "output_type": "display_data"
    }
   ],
   "source": [
    "data_test.info()\n",
    "display(data_test)"
   ]
  },
  {
   "cell_type": "markdown",
   "metadata": {},
   "source": [
    "**Проверка расчетов эффективности очистки**"
   ]
  },
  {
   "cell_type": "code",
   "execution_count": 6,
   "metadata": {
    "scrolled": true
   },
   "outputs": [
    {
     "name": "stdout",
     "output_type": "stream",
     "text": [
      "9.73512347450521e-15\n"
     ]
    }
   ],
   "source": [
    "C =  data_train['rougher.output.concentrate_au']\n",
    "F = data_train['rougher.input.feed_au']\n",
    "T = data_train['rougher.output.tail_au']\n",
    "recovery = (C* (F-T)) / (F* (C-T)) * 100\n",
    "\n",
    "mae = mean_absolute_error(data_train['rougher.output.recovery'], recovery)\n",
    "print(mae)"
   ]
  },
  {
   "cell_type": "markdown",
   "metadata": {},
   "source": [
    "Среднее абсолютное отклонение стремится к нулю. Значит, первоначальные расчеты были правильные."
   ]
  },
  {
   "cell_type": "code",
   "execution_count": 7,
   "metadata": {
    "scrolled": true
   },
   "outputs": [
    {
     "data": {
      "text/plain": [
       "secondary_cleaner.output.tail_sol           0.113436\n",
       "rougher.state.floatbank10_e_air             0.030815\n",
       "rougher.input.floatbank11_xanthate          0.030249\n",
       "primary_cleaner.output.concentrate_sol      0.020213\n",
       "secondary_cleaner.state.floatbank2_a_air    0.015337\n",
       "                                              ...   \n",
       "rougher.state.floatbank10_d_air             0.000000\n",
       "rougher.output.concentrate_au               0.000000\n",
       "rougher.output.recovery                     0.000000\n",
       "rougher.output.tail_pb                      0.000000\n",
       "rougher.output.concentrate_ag               0.000000\n",
       "Length: 86, dtype: float64"
      ]
     },
     "metadata": {},
     "output_type": "display_data"
    },
    {
     "name": "stdout",
     "output_type": "stream",
     "text": [
      "Максимальная доля пропусков равна 0.11343557848611209\n"
     ]
    }
   ],
   "source": [
    "#проверяем долю пропусков\n",
    "display(data_train.isna().mean().sort_values(ascending=False))\n",
    "print('Максимальная доля пропусков равна', data_train.isna().mean().max())"
   ]
  },
  {
   "cell_type": "code",
   "execution_count": 8,
   "metadata": {},
   "outputs": [
    {
     "data": {
      "text/plain": [
       "rougher.input.floatbank11_xanthate            0.004726\n",
       "rougher.input.feed_sol                        0.003970\n",
       "secondary_cleaner.state.floatbank3_a_air      0.001701\n",
       "rougher.input.floatbank11_sulfate             0.001512\n",
       "primary_cleaner.input.depressant              0.000945\n",
       "rougher.input.floatbank10_sulfate             0.000945\n",
       "primary_cleaner.input.sulfate                 0.000756\n",
       "primary_cleaner.input.xanthate                0.000756\n",
       "rougher.input.feed_rate                       0.000567\n",
       "secondary_cleaner.state.floatbank2_a_air      0.000567\n",
       "secondary_cleaner.state.floatbank2_b_air      0.000378\n",
       "rougher.input.feed_size                       0.000189\n",
       "secondary_cleaner.state.floatbank3_b_level    0.000000\n",
       "secondary_cleaner.state.floatbank3_b_air      0.000000\n",
       "rougher.state.floatbank10_f_air               0.000000\n",
       "rougher.state.floatbank10_f_level             0.000000\n",
       "secondary_cleaner.state.floatbank6_a_air      0.000000\n",
       "secondary_cleaner.state.floatbank5_b_level    0.000000\n",
       "secondary_cleaner.state.floatbank2_a_level    0.000000\n",
       "secondary_cleaner.state.floatbank5_b_air      0.000000\n",
       "secondary_cleaner.state.floatbank2_b_level    0.000000\n",
       "secondary_cleaner.state.floatbank5_a_level    0.000000\n",
       "secondary_cleaner.state.floatbank5_a_air      0.000000\n",
       "secondary_cleaner.state.floatbank4_b_level    0.000000\n",
       "secondary_cleaner.state.floatbank4_b_air      0.000000\n",
       "secondary_cleaner.state.floatbank3_a_level    0.000000\n",
       "secondary_cleaner.state.floatbank4_a_level    0.000000\n",
       "rougher.state.floatbank10_e_air               0.000000\n",
       "secondary_cleaner.state.floatbank4_a_air      0.000000\n",
       "rougher.state.floatbank10_e_level             0.000000\n",
       "rougher.state.floatbank10_c_air               0.000000\n",
       "rougher.state.floatbank10_d_level             0.000000\n",
       "primary_cleaner.state.floatbank8_d_level      0.000000\n",
       "primary_cleaner.input.feed_size               0.000000\n",
       "primary_cleaner.state.floatbank8_a_air        0.000000\n",
       "primary_cleaner.state.floatbank8_a_level      0.000000\n",
       "primary_cleaner.state.floatbank8_b_air        0.000000\n",
       "primary_cleaner.state.floatbank8_b_level      0.000000\n",
       "primary_cleaner.state.floatbank8_c_air        0.000000\n",
       "primary_cleaner.state.floatbank8_c_level      0.000000\n",
       "primary_cleaner.state.floatbank8_d_air        0.000000\n",
       "rougher.input.feed_ag                         0.000000\n",
       "rougher.state.floatbank10_d_air               0.000000\n",
       "rougher.input.feed_pb                         0.000000\n",
       "rougher.input.feed_au                         0.000000\n",
       "rougher.input.floatbank10_xanthate            0.000000\n",
       "rougher.state.floatbank10_a_air               0.000000\n",
       "rougher.state.floatbank10_a_level             0.000000\n",
       "rougher.state.floatbank10_b_air               0.000000\n",
       "rougher.state.floatbank10_b_level             0.000000\n",
       "rougher.state.floatbank10_c_level             0.000000\n",
       "secondary_cleaner.state.floatbank6_a_level    0.000000\n",
       "dtype: float64"
      ]
     },
     "metadata": {},
     "output_type": "display_data"
    },
    {
     "name": "stdout",
     "output_type": "stream",
     "text": [
      "Максимальная доля пропусков равна 0.004725897920604915\n"
     ]
    }
   ],
   "source": [
    "display(data_test.isna().mean().sort_values(ascending=False))\n",
    "print('Максимальная доля пропусков равна', data_test.isna().mean().max())"
   ]
  },
  {
   "cell_type": "code",
   "execution_count": 9,
   "metadata": {
    "scrolled": false
   },
   "outputs": [
    {
     "data": {
      "text/plain": [
       "secondary_cleaner.output.tail_sol           0.089922\n",
       "rougher.input.floatbank11_xanthate          0.023304\n",
       "rougher.state.floatbank10_e_air             0.022429\n",
       "primary_cleaner.output.concentrate_sol      0.019034\n",
       "secondary_cleaner.state.floatbank2_a_air    0.011317\n",
       "                                              ...   \n",
       "rougher.state.floatbank10_d_level           0.000000\n",
       "rougher.state.floatbank10_d_air             0.000000\n",
       "rougher.output.tail_sol                     0.000000\n",
       "rougher.output.tail_au                      0.000000\n",
       "rougher.output.concentrate_ag               0.000000\n",
       "Length: 86, dtype: float64"
      ]
     },
     "metadata": {},
     "output_type": "display_data"
    },
    {
     "name": "stdout",
     "output_type": "stream",
     "text": [
      "Максимальная доля пропусков равна 0.08992232110705284\n"
     ]
    }
   ],
   "source": [
    "display(data.isna().mean().sort_values(ascending=False))\n",
    "print('Максимальная доля пропусков равна', data.isna().mean().max())"
   ]
  },
  {
   "cell_type": "markdown",
   "metadata": {},
   "source": [
    "Значения в строках, стоящих рядом, близки. Поэтому заменяем пропуски значением из предыдущей строки."
   ]
  },
  {
   "cell_type": "code",
   "execution_count": 10,
   "metadata": {
    "scrolled": true
   },
   "outputs": [],
   "source": [
    "#заполняем пропуски предыдущим значением\n",
    "data_train = data_train.fillna(method='ffill')\n",
    "data_test = data_test.fillna(method='ffill')\n",
    "data = data.fillna(method='ffill')"
   ]
  },
  {
   "cell_type": "code",
   "execution_count": 11,
   "metadata": {},
   "outputs": [],
   "source": [
    "#добавляем в тестовую выборку целевые признаки\n",
    "data_full_merged = data[['rougher.output.recovery', 'final.output.recovery']]\n",
    "data_test = data_test.merge(data_full_merged, on='date', how='left')"
   ]
  },
  {
   "cell_type": "code",
   "execution_count": 12,
   "metadata": {},
   "outputs": [
    {
     "data": {
      "text/plain": [
       "{'final.output.concentrate_ag',\n",
       " 'final.output.concentrate_au',\n",
       " 'final.output.concentrate_pb',\n",
       " 'final.output.concentrate_sol',\n",
       " 'final.output.tail_ag',\n",
       " 'final.output.tail_au',\n",
       " 'final.output.tail_pb',\n",
       " 'final.output.tail_sol',\n",
       " 'primary_cleaner.output.concentrate_ag',\n",
       " 'primary_cleaner.output.concentrate_au',\n",
       " 'primary_cleaner.output.concentrate_pb',\n",
       " 'primary_cleaner.output.concentrate_sol',\n",
       " 'primary_cleaner.output.tail_ag',\n",
       " 'primary_cleaner.output.tail_au',\n",
       " 'primary_cleaner.output.tail_pb',\n",
       " 'primary_cleaner.output.tail_sol',\n",
       " 'rougher.calculation.au_pb_ratio',\n",
       " 'rougher.calculation.floatbank10_sulfate_to_au_feed',\n",
       " 'rougher.calculation.floatbank11_sulfate_to_au_feed',\n",
       " 'rougher.calculation.sulfate_to_au_concentrate',\n",
       " 'rougher.output.concentrate_ag',\n",
       " 'rougher.output.concentrate_au',\n",
       " 'rougher.output.concentrate_pb',\n",
       " 'rougher.output.concentrate_sol',\n",
       " 'rougher.output.tail_ag',\n",
       " 'rougher.output.tail_au',\n",
       " 'rougher.output.tail_pb',\n",
       " 'rougher.output.tail_sol',\n",
       " 'secondary_cleaner.output.tail_ag',\n",
       " 'secondary_cleaner.output.tail_au',\n",
       " 'secondary_cleaner.output.tail_pb',\n",
       " 'secondary_cleaner.output.tail_sol'}"
      ]
     },
     "metadata": {},
     "output_type": "display_data"
    }
   ],
   "source": [
    "#удаляем из обучающей выборки лишние столбцы\n",
    "columns = set(data_train.columns) - set(data_test.columns)\n",
    "display(columns)\n",
    "data_train = data_train.drop(columns, axis=1)"
   ]
  },
  {
   "cell_type": "markdown",
   "metadata": {},
   "source": [
    "**Выводы о предобработке**\n",
    "\n",
    "* В каждой из таблиц доля пропусков в стобцах составляет не более 3%. Исключением является столбец `secondary_cleaner.output.tail_sol` в исходном датафрейме, - 9% пропусков. Вероятно, данные по этому процессу еще не были получены. С пропусками обучить модель не получится. Анализируя данные, видно, что стоящие рядом значения практически одинаковые, поэтому заменили пропуски предыдущим значением.\n",
    "\n",
    "* Обучающая и тестовая выборки содержат разное количество столбцов. В обучающей выборке содержатся столбцы, указывающие на выходные данные процесса (`output`) и рассчетные характеристики (`calculation`). Наша задача - прогнозировать результаты на основе входных данных, поэтому столбцы с выходными данными удаляем из обучающей выборки (но добавляем в тестовую выборку данные о `recovery`, т.к. это - целевые признаки)."
   ]
  },
  {
   "cell_type": "markdown",
   "metadata": {},
   "source": [
    "## Анализ данных"
   ]
  },
  {
   "cell_type": "markdown",
   "metadata": {},
   "source": [
    "### Изменение концентраций Au, Ag, Pb на разных этапах очистки"
   ]
  },
  {
   "cell_type": "markdown",
   "metadata": {},
   "source": [
    "#### Au"
   ]
  },
  {
   "cell_type": "code",
   "execution_count": 13,
   "metadata": {},
   "outputs": [],
   "source": [
    "#создаем функцию для построения гистограмм\n",
    "def hist_metal(raw, rougher, primary, final, name):\n",
    "    plt.figure(figsize=(12, 7))\n",
    "    plt.hist(raw, bins=70, alpha=0.5, label='Исходное сырьё')\n",
    "    plt.hist(rougher, bins=70, alpha=0.5, label='После флотации')\n",
    "    plt.hist(primary, bins=70, alpha=0.5, label='После первичной очистки')\n",
    "    plt.hist(final, bins=70, alpha=0.5, label='Финальный концентрат')\n",
    "    plt.title(name)\n",
    "    plt.xlabel('Концентрация, %')\n",
    "    plt.ylabel('Частота')\n",
    "    plt.legend()\n",
    "    plt.show()"
   ]
  },
  {
   "cell_type": "code",
   "execution_count": 14,
   "metadata": {},
   "outputs": [],
   "source": [
    "def bar_metal(raw, rougher, primary, final, name):\n",
    "    metal = data[[raw, rougher, primary, final]]\n",
    "    metal.columns = ['Сырье', 'Флотация', 'Очистка 1', 'Очистка 2']\n",
    "    metal.median().plot(kind='bar')\n",
    "    plt.grid(True)\n",
    "    plt.title(name)\n",
    "    plt.ylabel('Концентрация, %')\n",
    "    plt.show()\n",
    "    display(metal.describe())"
   ]
  },
  {
   "cell_type": "code",
   "execution_count": 15,
   "metadata": {
    "scrolled": true
   },
   "outputs": [
    {
     "data": {
      "image/png": "[encoded data removed]",
      "text/plain": [
       "<Figure size 864x504 with 1 Axes>"
      ]
     },
     "metadata": {
      "image/png": {
       "height": 440,
       "width": 730
      },
      "needs_background": "light"
     },
     "output_type": "display_data"
    }
   ],
   "source": [
    "hist_metal(data['rougher.input.feed_au'],\n",
    "           data['rougher.output.concentrate_au'],\n",
    "           data['primary_cleaner.output.concentrate_au'],\n",
    "           data['final.output.concentrate_au'],\n",
    "          'Золото')"
   ]
  },
  {
   "cell_type": "code",
   "execution_count": 16,
   "metadata": {
    "scrolled": true
   },
   "outputs": [
    {
     "data": {
      "image/png": "[encoded data removed]",
      "text/plain": [
       "<Figure size 432x288 with 1 Axes>"
      ]
     },
     "metadata": {
      "image/png": {
       "height": 307,
       "width": 382
      },
      "needs_background": "light"
     },
     "output_type": "display_data"
    },
    {
     "data": {
      "text/html": [
       "<div>\n",
       "<style scoped>\n",
       "    .dataframe tbody tr th:only-of-type {\n",
       "        vertical-align: middle;\n",
       "    }\n",
       "\n",
       "    .dataframe tbody tr th {\n",
       "        vertical-align: top;\n",
       "    }\n",
       "\n",
       "    .dataframe thead th {\n",
       "        text-align: right;\n",
       "    }\n",
       "</style>\n",
       "<table border=\"1\" class=\"dataframe\">\n",
       "  <thead>\n",
       "    <tr style=\"text-align: right;\">\n",
       "      <th></th>\n",
       "      <th>Сырье</th>\n",
       "      <th>Флотация</th>\n",
       "      <th>Очистка 1</th>\n",
       "      <th>Очистка 2</th>\n",
       "    </tr>\n",
       "  </thead>\n",
       "  <tbody>\n",
       "    <tr>\n",
       "      <th>count</th>\n",
       "      <td>19439.000000</td>\n",
       "      <td>19439.000000</td>\n",
       "      <td>19439.000000</td>\n",
       "      <td>19439.000000</td>\n",
       "    </tr>\n",
       "    <tr>\n",
       "      <th>mean</th>\n",
       "      <td>8.266097</td>\n",
       "      <td>19.772000</td>\n",
       "      <td>32.119400</td>\n",
       "      <td>44.076513</td>\n",
       "    </tr>\n",
       "    <tr>\n",
       "      <th>std</th>\n",
       "      <td>1.955092</td>\n",
       "      <td>3.753600</td>\n",
       "      <td>5.627611</td>\n",
       "      <td>5.129784</td>\n",
       "    </tr>\n",
       "    <tr>\n",
       "      <th>min</th>\n",
       "      <td>0.010000</td>\n",
       "      <td>0.000000</td>\n",
       "      <td>0.000000</td>\n",
       "      <td>0.000000</td>\n",
       "    </tr>\n",
       "    <tr>\n",
       "      <th>25%</th>\n",
       "      <td>6.854384</td>\n",
       "      <td>18.802523</td>\n",
       "      <td>30.463140</td>\n",
       "      <td>43.402215</td>\n",
       "    </tr>\n",
       "    <tr>\n",
       "      <th>50%</th>\n",
       "      <td>8.125839</td>\n",
       "      <td>20.280214</td>\n",
       "      <td>32.841295</td>\n",
       "      <td>45.011244</td>\n",
       "    </tr>\n",
       "    <tr>\n",
       "      <th>75%</th>\n",
       "      <td>9.769917</td>\n",
       "      <td>21.717843</td>\n",
       "      <td>35.048006</td>\n",
       "      <td>46.275313</td>\n",
       "    </tr>\n",
       "    <tr>\n",
       "      <th>max</th>\n",
       "      <td>13.731330</td>\n",
       "      <td>28.824507</td>\n",
       "      <td>45.933934</td>\n",
       "      <td>52.756638</td>\n",
       "    </tr>\n",
       "  </tbody>\n",
       "</table>\n",
       "</div>"
      ],
      "text/plain": [
       "              Сырье      Флотация     Очистка 1     Очистка 2\n",
       "count  19439.000000  19439.000000  19439.000000  19439.000000\n",
       "mean       8.266097     19.772000     32.119400     44.076513\n",
       "std        1.955092      3.753600      5.627611      5.129784\n",
       "min        0.010000      0.000000      0.000000      0.000000\n",
       "25%        6.854384     18.802523     30.463140     43.402215\n",
       "50%        8.125839     20.280214     32.841295     45.011244\n",
       "75%        9.769917     21.717843     35.048006     46.275313\n",
       "max       13.731330     28.824507     45.933934     52.756638"
      ]
     },
     "metadata": {},
     "output_type": "display_data"
    }
   ],
   "source": [
    "bar_metal('rougher.input.feed_au',\n",
    "          'rougher.output.concentrate_au',\n",
    "          'primary_cleaner.output.concentrate_au',\n",
    "          'final.output.concentrate_au',\n",
    "          'Золото')"
   ]
  },
  {
   "cell_type": "markdown",
   "metadata": {},
   "source": [
    "#### Ag"
   ]
  },
  {
   "cell_type": "code",
   "execution_count": 17,
   "metadata": {},
   "outputs": [
    {
     "data": {
      "image/png": "[encoded data removed]",
      "text/plain": [
       "<Figure size 864x504 with 1 Axes>"
      ]
     },
     "metadata": {
      "image/png": {
       "height": 440,
       "width": 730
      },
      "needs_background": "light"
     },
     "output_type": "display_data"
    }
   ],
   "source": [
    "hist_metal(data['rougher.input.feed_ag'],\n",
    "           data['rougher.output.concentrate_ag'],\n",
    "           data['primary_cleaner.output.concentrate_ag'],\n",
    "           data['final.output.concentrate_ag'],\n",
    "          'Серебро')"
   ]
  },
  {
   "cell_type": "code",
   "execution_count": 18,
   "metadata": {},
   "outputs": [
    {
     "data": {
      "image/png": "[encoded data removed]",
      "text/plain": [
       "<Figure size 432x288 with 1 Axes>"
      ]
     },
     "metadata": {
      "image/png": {
       "height": 308,
       "width": 382
      },
      "needs_background": "light"
     },
     "output_type": "display_data"
    },
    {
     "data": {
      "text/html": [
       "<div>\n",
       "<style scoped>\n",
       "    .dataframe tbody tr th:only-of-type {\n",
       "        vertical-align: middle;\n",
       "    }\n",
       "\n",
       "    .dataframe tbody tr th {\n",
       "        vertical-align: top;\n",
       "    }\n",
       "\n",
       "    .dataframe thead th {\n",
       "        text-align: right;\n",
       "    }\n",
       "</style>\n",
       "<table border=\"1\" class=\"dataframe\">\n",
       "  <thead>\n",
       "    <tr style=\"text-align: right;\">\n",
       "      <th></th>\n",
       "      <th>Сырье</th>\n",
       "      <th>Флотация</th>\n",
       "      <th>Очистка 1</th>\n",
       "      <th>Очистка 2</th>\n",
       "    </tr>\n",
       "  </thead>\n",
       "  <tbody>\n",
       "    <tr>\n",
       "      <th>count</th>\n",
       "      <td>19439.000000</td>\n",
       "      <td>19439.000000</td>\n",
       "      <td>19439.000000</td>\n",
       "      <td>19439.000000</td>\n",
       "    </tr>\n",
       "    <tr>\n",
       "      <th>mean</th>\n",
       "      <td>8.794927</td>\n",
       "      <td>11.994759</td>\n",
       "      <td>8.442408</td>\n",
       "      <td>5.168387</td>\n",
       "    </tr>\n",
       "    <tr>\n",
       "      <th>std</th>\n",
       "      <td>1.936847</td>\n",
       "      <td>2.733862</td>\n",
       "      <td>2.054465</td>\n",
       "      <td>1.372362</td>\n",
       "    </tr>\n",
       "    <tr>\n",
       "      <th>min</th>\n",
       "      <td>0.010000</td>\n",
       "      <td>0.000000</td>\n",
       "      <td>0.000000</td>\n",
       "      <td>0.000000</td>\n",
       "    </tr>\n",
       "    <tr>\n",
       "      <th>25%</th>\n",
       "      <td>7.237967</td>\n",
       "      <td>10.628337</td>\n",
       "      <td>7.263288</td>\n",
       "      <td>4.251000</td>\n",
       "    </tr>\n",
       "    <tr>\n",
       "      <th>50%</th>\n",
       "      <td>8.593574</td>\n",
       "      <td>12.098115</td>\n",
       "      <td>8.507298</td>\n",
       "      <td>5.066039</td>\n",
       "    </tr>\n",
       "    <tr>\n",
       "      <th>75%</th>\n",
       "      <td>10.213771</td>\n",
       "      <td>13.736996</td>\n",
       "      <td>9.809001</td>\n",
       "      <td>5.895401</td>\n",
       "    </tr>\n",
       "    <tr>\n",
       "      <th>max</th>\n",
       "      <td>14.596026</td>\n",
       "      <td>24.480271</td>\n",
       "      <td>16.081632</td>\n",
       "      <td>16.001945</td>\n",
       "    </tr>\n",
       "  </tbody>\n",
       "</table>\n",
       "</div>"
      ],
      "text/plain": [
       "              Сырье      Флотация     Очистка 1     Очистка 2\n",
       "count  19439.000000  19439.000000  19439.000000  19439.000000\n",
       "mean       8.794927     11.994759      8.442408      5.168387\n",
       "std        1.936847      2.733862      2.054465      1.372362\n",
       "min        0.010000      0.000000      0.000000      0.000000\n",
       "25%        7.237967     10.628337      7.263288      4.251000\n",
       "50%        8.593574     12.098115      8.507298      5.066039\n",
       "75%       10.213771     13.736996      9.809001      5.895401\n",
       "max       14.596026     24.480271     16.081632     16.001945"
      ]
     },
     "metadata": {},
     "output_type": "display_data"
    }
   ],
   "source": [
    "bar_metal('rougher.input.feed_ag',\n",
    "          'rougher.output.concentrate_ag',\n",
    "          'primary_cleaner.output.concentrate_ag',\n",
    "          'final.output.concentrate_ag',\n",
    "          'Серебро')"
   ]
  },
  {
   "cell_type": "markdown",
   "metadata": {},
   "source": [
    "#### Pb"
   ]
  },
  {
   "cell_type": "code",
   "execution_count": 19,
   "metadata": {},
   "outputs": [
    {
     "data": {
      "image/png": "[encoded data removed]",
      "text/plain": [
       "<Figure size 864x504 with 1 Axes>"
      ]
     },
     "metadata": {
      "image/png": {
       "height": 440,
       "width": 730
      },
      "needs_background": "light"
     },
     "output_type": "display_data"
    }
   ],
   "source": [
    "hist_metal(data['rougher.input.feed_pb'],\n",
    "           data['rougher.output.concentrate_pb'],\n",
    "           data['primary_cleaner.output.concentrate_pb'],\n",
    "           data['final.output.concentrate_pb'],\n",
    "          'Свинец')"
   ]
  },
  {
   "cell_type": "code",
   "execution_count": 20,
   "metadata": {},
   "outputs": [
    {
     "data": {
      "image/png": "[encoded data removed]",
      "text/plain": [
       "<Figure size 432x288 with 1 Axes>"
      ]
     },
     "metadata": {
      "image/png": {
       "height": 307,
       "width": 382
      },
      "needs_background": "light"
     },
     "output_type": "display_data"
    },
    {
     "data": {
      "text/html": [
       "<div>\n",
       "<style scoped>\n",
       "    .dataframe tbody tr th:only-of-type {\n",
       "        vertical-align: middle;\n",
       "    }\n",
       "\n",
       "    .dataframe tbody tr th {\n",
       "        vertical-align: top;\n",
       "    }\n",
       "\n",
       "    .dataframe thead th {\n",
       "        text-align: right;\n",
       "    }\n",
       "</style>\n",
       "<table border=\"1\" class=\"dataframe\">\n",
       "  <thead>\n",
       "    <tr style=\"text-align: right;\">\n",
       "      <th></th>\n",
       "      <th>Сырье</th>\n",
       "      <th>Флотация</th>\n",
       "      <th>Очистка 1</th>\n",
       "      <th>Очистка 2</th>\n",
       "    </tr>\n",
       "  </thead>\n",
       "  <tbody>\n",
       "    <tr>\n",
       "      <th>count</th>\n",
       "      <td>19439.000000</td>\n",
       "      <td>19439.000000</td>\n",
       "      <td>19439.000000</td>\n",
       "      <td>19439.000000</td>\n",
       "    </tr>\n",
       "    <tr>\n",
       "      <th>mean</th>\n",
       "      <td>3.585096</td>\n",
       "      <td>7.606272</td>\n",
       "      <td>9.810317</td>\n",
       "      <td>9.978821</td>\n",
       "    </tr>\n",
       "    <tr>\n",
       "      <th>std</th>\n",
       "      <td>1.062972</td>\n",
       "      <td>1.796757</td>\n",
       "      <td>2.572253</td>\n",
       "      <td>1.669228</td>\n",
       "    </tr>\n",
       "    <tr>\n",
       "      <th>min</th>\n",
       "      <td>0.010000</td>\n",
       "      <td>0.000000</td>\n",
       "      <td>0.000000</td>\n",
       "      <td>0.000000</td>\n",
       "    </tr>\n",
       "    <tr>\n",
       "      <th>25%</th>\n",
       "      <td>2.872178</td>\n",
       "      <td>6.725987</td>\n",
       "      <td>8.676500</td>\n",
       "      <td>9.137225</td>\n",
       "    </tr>\n",
       "    <tr>\n",
       "      <th>50%</th>\n",
       "      <td>3.528235</td>\n",
       "      <td>7.742580</td>\n",
       "      <td>10.142270</td>\n",
       "      <td>10.102264</td>\n",
       "    </tr>\n",
       "    <tr>\n",
       "      <th>75%</th>\n",
       "      <td>4.241005</td>\n",
       "      <td>8.565199</td>\n",
       "      <td>11.416298</td>\n",
       "      <td>11.035644</td>\n",
       "    </tr>\n",
       "    <tr>\n",
       "      <th>max</th>\n",
       "      <td>7.142594</td>\n",
       "      <td>13.617072</td>\n",
       "      <td>17.081278</td>\n",
       "      <td>17.031899</td>\n",
       "    </tr>\n",
       "  </tbody>\n",
       "</table>\n",
       "</div>"
      ],
      "text/plain": [
       "              Сырье      Флотация     Очистка 1     Очистка 2\n",
       "count  19439.000000  19439.000000  19439.000000  19439.000000\n",
       "mean       3.585096      7.606272      9.810317      9.978821\n",
       "std        1.062972      1.796757      2.572253      1.669228\n",
       "min        0.010000      0.000000      0.000000      0.000000\n",
       "25%        2.872178      6.725987      8.676500      9.137225\n",
       "50%        3.528235      7.742580     10.142270     10.102264\n",
       "75%        4.241005      8.565199     11.416298     11.035644\n",
       "max        7.142594     13.617072     17.081278     17.031899"
      ]
     },
     "metadata": {},
     "output_type": "display_data"
    }
   ],
   "source": [
    "bar_metal('rougher.input.feed_pb',\n",
    "          'rougher.output.concentrate_pb',\n",
    "          'primary_cleaner.output.concentrate_pb',\n",
    "          'final.output.concentrate_pb',\n",
    "          'Свинец')"
   ]
  },
  {
   "cell_type": "markdown",
   "metadata": {},
   "source": [
    "#### Выводы"
   ]
  },
  {
   "cell_type": "markdown",
   "metadata": {},
   "source": [
    "* После каждого этапа очистки содержание золота в концентрате линейно возрастает. По мере очистки концентрация возрастает от 8 до 45%.\n",
    "\n",
    "* Концентрация серебра после флотации возрастает с 8.6% до 12.1% (видимо, флотация направлена на очистку от других веществ). На следующих этапах содержание серебра падает и в итоге достигает 5%. \n",
    "\n",
    "* Концентрация свинца после флотации и первой очистки возрастает до примерно 10.1%. После второй очистки она не меняется. Видимо, данные способы очистки не предусмотрены для удаления свинца."
   ]
  },
  {
   "cell_type": "markdown",
   "metadata": {},
   "source": [
    "### Распределение размеров гранул"
   ]
  },
  {
   "cell_type": "code",
   "execution_count": 21,
   "metadata": {
    "scrolled": true
   },
   "outputs": [
    {
     "data": {
      "image/png": "[encoded data removed]",
      "text/plain": [
       "<Figure size 1008x432 with 2 Axes>"
      ]
     },
     "metadata": {
      "image/png": {
       "height": 386,
       "width": 841
      },
      "needs_background": "light"
     },
     "output_type": "display_data"
    }
   ],
   "source": [
    "fig, (ax1, ax2) = plt.subplots(1, 2, figsize=(14, 6))\n",
    "\n",
    "ax1.hist(data_train['rougher.input.feed_size'], range=(10,130), bins=30)\n",
    "ax1.grid(True)\n",
    "ax1.set_title('Обучающая выборка')\n",
    "ax1.set_xlabel('Размер')\n",
    "ax1.set_ylabel('Частота')\n",
    "\n",
    "ax2.hist(data_test['rougher.input.feed_size'],  range=(10,130), bins=30)\n",
    "ax2.grid(True)\n",
    "ax2.set_title('Тестовая выборка')\n",
    "ax2.set_xlabel('Размер')\n",
    "ax2.set_ylabel('Частота')\n",
    "plt.show()"
   ]
  },
  {
   "cell_type": "markdown",
   "metadata": {},
   "source": [
    "**Вывод**\n",
    "\n",
    "Выборки имеют похожее распределение, поэтому оставляем их."
   ]
  },
  {
   "cell_type": "markdown",
   "metadata": {},
   "source": [
    "### Исследование суммарной концентрации веществ"
   ]
  },
  {
   "cell_type": "code",
   "execution_count": 22,
   "metadata": {
    "scrolled": true
   },
   "outputs": [
    {
     "data": {
      "text/html": [
       "<div>\n",
       "<style scoped>\n",
       "    .dataframe tbody tr th:only-of-type {\n",
       "        vertical-align: middle;\n",
       "    }\n",
       "\n",
       "    .dataframe tbody tr th {\n",
       "        vertical-align: top;\n",
       "    }\n",
       "\n",
       "    .dataframe thead th {\n",
       "        text-align: right;\n",
       "    }\n",
       "</style>\n",
       "<table border=\"1\" class=\"dataframe\">\n",
       "  <thead>\n",
       "    <tr style=\"text-align: right;\">\n",
       "      <th></th>\n",
       "      <th>final.output.concentrate_ag</th>\n",
       "      <th>final.output.concentrate_pb</th>\n",
       "      <th>final.output.concentrate_sol</th>\n",
       "      <th>final.output.concentrate_au</th>\n",
       "      <th>final.output.recovery</th>\n",
       "      <th>final.output.tail_ag</th>\n",
       "      <th>final.output.tail_pb</th>\n",
       "      <th>final.output.tail_sol</th>\n",
       "      <th>final.output.tail_au</th>\n",
       "      <th>primary_cleaner.input.sulfate</th>\n",
       "      <th>...</th>\n",
       "      <th>secondary_cleaner.state.floatbank4_b_level</th>\n",
       "      <th>secondary_cleaner.state.floatbank5_a_air</th>\n",
       "      <th>secondary_cleaner.state.floatbank5_a_level</th>\n",
       "      <th>secondary_cleaner.state.floatbank5_b_air</th>\n",
       "      <th>secondary_cleaner.state.floatbank5_b_level</th>\n",
       "      <th>secondary_cleaner.state.floatbank6_a_air</th>\n",
       "      <th>secondary_cleaner.state.floatbank6_a_level</th>\n",
       "      <th>raw</th>\n",
       "      <th>rougher</th>\n",
       "      <th>final</th>\n",
       "    </tr>\n",
       "    <tr>\n",
       "      <th>date</th>\n",
       "      <th></th>\n",
       "      <th></th>\n",
       "      <th></th>\n",
       "      <th></th>\n",
       "      <th></th>\n",
       "      <th></th>\n",
       "      <th></th>\n",
       "      <th></th>\n",
       "      <th></th>\n",
       "      <th></th>\n",
       "      <th></th>\n",
       "      <th></th>\n",
       "      <th></th>\n",
       "      <th></th>\n",
       "      <th></th>\n",
       "      <th></th>\n",
       "      <th></th>\n",
       "      <th></th>\n",
       "      <th></th>\n",
       "      <th></th>\n",
       "      <th></th>\n",
       "    </tr>\n",
       "  </thead>\n",
       "  <tbody>\n",
       "    <tr>\n",
       "      <th>2016-01-15 00:00:00</th>\n",
       "      <td>6.055403</td>\n",
       "      <td>9.889648</td>\n",
       "      <td>5.507324</td>\n",
       "      <td>42.192020</td>\n",
       "      <td>70.541216</td>\n",
       "      <td>10.411962</td>\n",
       "      <td>0.895447</td>\n",
       "      <td>16.904297</td>\n",
       "      <td>2.143149</td>\n",
       "      <td>127.092003</td>\n",
       "      <td>...</td>\n",
       "      <td>-504.715942</td>\n",
       "      <td>9.925633</td>\n",
       "      <td>-498.310211</td>\n",
       "      <td>8.079666</td>\n",
       "      <td>-500.470978</td>\n",
       "      <td>14.151341</td>\n",
       "      <td>-605.841980</td>\n",
       "      <td>51.680034</td>\n",
       "      <td>66.424950</td>\n",
       "      <td>63.644396</td>\n",
       "    </tr>\n",
       "    <tr>\n",
       "      <th>2016-01-15 01:00:00</th>\n",
       "      <td>6.029369</td>\n",
       "      <td>9.968944</td>\n",
       "      <td>5.257781</td>\n",
       "      <td>42.701629</td>\n",
       "      <td>69.266198</td>\n",
       "      <td>10.462676</td>\n",
       "      <td>0.927452</td>\n",
       "      <td>16.634514</td>\n",
       "      <td>2.224930</td>\n",
       "      <td>125.629232</td>\n",
       "      <td>...</td>\n",
       "      <td>-501.331529</td>\n",
       "      <td>10.039245</td>\n",
       "      <td>-500.169983</td>\n",
       "      <td>7.984757</td>\n",
       "      <td>-500.582168</td>\n",
       "      <td>13.998353</td>\n",
       "      <td>-599.787184</td>\n",
       "      <td>50.659114</td>\n",
       "      <td>67.012710</td>\n",
       "      <td>63.957723</td>\n",
       "    </tr>\n",
       "    <tr>\n",
       "      <th>2016-01-15 02:00:00</th>\n",
       "      <td>6.055926</td>\n",
       "      <td>10.213995</td>\n",
       "      <td>5.383759</td>\n",
       "      <td>42.657501</td>\n",
       "      <td>68.116445</td>\n",
       "      <td>10.507046</td>\n",
       "      <td>0.953716</td>\n",
       "      <td>16.208849</td>\n",
       "      <td>2.257889</td>\n",
       "      <td>123.819808</td>\n",
       "      <td>...</td>\n",
       "      <td>-501.133383</td>\n",
       "      <td>10.070913</td>\n",
       "      <td>-500.129135</td>\n",
       "      <td>8.013877</td>\n",
       "      <td>-500.517572</td>\n",
       "      <td>14.028663</td>\n",
       "      <td>-601.427363</td>\n",
       "      <td>50.609929</td>\n",
       "      <td>66.103793</td>\n",
       "      <td>64.311180</td>\n",
       "    </tr>\n",
       "    <tr>\n",
       "      <th>2016-01-15 03:00:00</th>\n",
       "      <td>6.047977</td>\n",
       "      <td>9.977019</td>\n",
       "      <td>4.858634</td>\n",
       "      <td>42.689819</td>\n",
       "      <td>68.347543</td>\n",
       "      <td>10.422762</td>\n",
       "      <td>0.883763</td>\n",
       "      <td>16.532835</td>\n",
       "      <td>2.146849</td>\n",
       "      <td>122.270188</td>\n",
       "      <td>...</td>\n",
       "      <td>-501.193686</td>\n",
       "      <td>9.970366</td>\n",
       "      <td>-499.201640</td>\n",
       "      <td>7.977324</td>\n",
       "      <td>-500.255908</td>\n",
       "      <td>14.005551</td>\n",
       "      <td>-599.996129</td>\n",
       "      <td>51.061546</td>\n",
       "      <td>65.752751</td>\n",
       "      <td>63.573449</td>\n",
       "    </tr>\n",
       "    <tr>\n",
       "      <th>2016-01-15 04:00:00</th>\n",
       "      <td>6.148599</td>\n",
       "      <td>10.142511</td>\n",
       "      <td>4.939416</td>\n",
       "      <td>42.774141</td>\n",
       "      <td>66.927016</td>\n",
       "      <td>10.360302</td>\n",
       "      <td>0.792826</td>\n",
       "      <td>16.525686</td>\n",
       "      <td>2.055292</td>\n",
       "      <td>117.988169</td>\n",
       "      <td>...</td>\n",
       "      <td>-501.053894</td>\n",
       "      <td>9.925709</td>\n",
       "      <td>-501.686727</td>\n",
       "      <td>7.894242</td>\n",
       "      <td>-500.356035</td>\n",
       "      <td>13.996647</td>\n",
       "      <td>-601.496691</td>\n",
       "      <td>47.859163</td>\n",
       "      <td>65.908382</td>\n",
       "      <td>64.004667</td>\n",
       "    </tr>\n",
       "    <tr>\n",
       "      <th>...</th>\n",
       "      <td>...</td>\n",
       "      <td>...</td>\n",
       "      <td>...</td>\n",
       "      <td>...</td>\n",
       "      <td>...</td>\n",
       "      <td>...</td>\n",
       "      <td>...</td>\n",
       "      <td>...</td>\n",
       "      <td>...</td>\n",
       "      <td>...</td>\n",
       "      <td>...</td>\n",
       "      <td>...</td>\n",
       "      <td>...</td>\n",
       "      <td>...</td>\n",
       "      <td>...</td>\n",
       "      <td>...</td>\n",
       "      <td>...</td>\n",
       "      <td>...</td>\n",
       "      <td>...</td>\n",
       "      <td>...</td>\n",
       "      <td>...</td>\n",
       "    </tr>\n",
       "    <tr>\n",
       "      <th>2018-08-18 06:59:59</th>\n",
       "      <td>3.224920</td>\n",
       "      <td>11.356233</td>\n",
       "      <td>6.803482</td>\n",
       "      <td>46.713954</td>\n",
       "      <td>73.755150</td>\n",
       "      <td>8.769645</td>\n",
       "      <td>3.141541</td>\n",
       "      <td>10.403181</td>\n",
       "      <td>1.529220</td>\n",
       "      <td>123.381787</td>\n",
       "      <td>...</td>\n",
       "      <td>-499.740028</td>\n",
       "      <td>18.006038</td>\n",
       "      <td>-499.834374</td>\n",
       "      <td>13.001114</td>\n",
       "      <td>-500.155694</td>\n",
       "      <td>20.007840</td>\n",
       "      <td>-501.296428</td>\n",
       "      <td>53.415050</td>\n",
       "      <td>70.781325</td>\n",
       "      <td>68.098589</td>\n",
       "    </tr>\n",
       "    <tr>\n",
       "      <th>2018-08-18 07:59:59</th>\n",
       "      <td>3.195978</td>\n",
       "      <td>11.349355</td>\n",
       "      <td>6.862249</td>\n",
       "      <td>46.866780</td>\n",
       "      <td>69.049291</td>\n",
       "      <td>8.897321</td>\n",
       "      <td>3.130493</td>\n",
       "      <td>10.549470</td>\n",
       "      <td>1.612542</td>\n",
       "      <td>120.878188</td>\n",
       "      <td>...</td>\n",
       "      <td>-500.251357</td>\n",
       "      <td>17.998535</td>\n",
       "      <td>-500.395178</td>\n",
       "      <td>12.954048</td>\n",
       "      <td>-499.895163</td>\n",
       "      <td>19.968498</td>\n",
       "      <td>-501.041608</td>\n",
       "      <td>53.696482</td>\n",
       "      <td>70.539603</td>\n",
       "      <td>68.274362</td>\n",
       "    </tr>\n",
       "    <tr>\n",
       "      <th>2018-08-18 08:59:59</th>\n",
       "      <td>3.109998</td>\n",
       "      <td>11.434366</td>\n",
       "      <td>6.886013</td>\n",
       "      <td>46.795691</td>\n",
       "      <td>67.002189</td>\n",
       "      <td>8.529606</td>\n",
       "      <td>2.911418</td>\n",
       "      <td>11.115147</td>\n",
       "      <td>1.596616</td>\n",
       "      <td>105.666118</td>\n",
       "      <td>...</td>\n",
       "      <td>-499.857027</td>\n",
       "      <td>18.019543</td>\n",
       "      <td>-500.451156</td>\n",
       "      <td>13.023431</td>\n",
       "      <td>-499.914391</td>\n",
       "      <td>19.990885</td>\n",
       "      <td>-501.518452</td>\n",
       "      <td>54.589604</td>\n",
       "      <td>55.376330</td>\n",
       "      <td>68.226068</td>\n",
       "    </tr>\n",
       "    <tr>\n",
       "      <th>2018-08-18 09:59:59</th>\n",
       "      <td>3.367241</td>\n",
       "      <td>11.625587</td>\n",
       "      <td>6.799433</td>\n",
       "      <td>46.408188</td>\n",
       "      <td>65.523246</td>\n",
       "      <td>8.777171</td>\n",
       "      <td>2.819214</td>\n",
       "      <td>10.463847</td>\n",
       "      <td>1.602879</td>\n",
       "      <td>98.880538</td>\n",
       "      <td>...</td>\n",
       "      <td>-500.314711</td>\n",
       "      <td>17.979515</td>\n",
       "      <td>-499.272871</td>\n",
       "      <td>12.992404</td>\n",
       "      <td>-499.976268</td>\n",
       "      <td>20.013986</td>\n",
       "      <td>-500.625471</td>\n",
       "      <td>54.027355</td>\n",
       "      <td>69.201689</td>\n",
       "      <td>68.200449</td>\n",
       "    </tr>\n",
       "    <tr>\n",
       "      <th>2018-08-18 10:59:59</th>\n",
       "      <td>3.598375</td>\n",
       "      <td>11.737832</td>\n",
       "      <td>6.717509</td>\n",
       "      <td>46.299438</td>\n",
       "      <td>70.281454</td>\n",
       "      <td>8.406690</td>\n",
       "      <td>2.517518</td>\n",
       "      <td>10.652193</td>\n",
       "      <td>1.389434</td>\n",
       "      <td>95.248427</td>\n",
       "      <td>...</td>\n",
       "      <td>-500.220296</td>\n",
       "      <td>17.963512</td>\n",
       "      <td>-499.939490</td>\n",
       "      <td>12.990306</td>\n",
       "      <td>-500.080993</td>\n",
       "      <td>19.990336</td>\n",
       "      <td>-499.191575</td>\n",
       "      <td>53.535054</td>\n",
       "      <td>69.544003</td>\n",
       "      <td>68.353154</td>\n",
       "    </tr>\n",
       "  </tbody>\n",
       "</table>\n",
       "<p>19439 rows × 89 columns</p>\n",
       "</div>"
      ],
      "text/plain": [
       "                     final.output.concentrate_ag  final.output.concentrate_pb  \\\n",
       "date                                                                            \n",
       "2016-01-15 00:00:00                     6.055403                     9.889648   \n",
       "2016-01-15 01:00:00                     6.029369                     9.968944   \n",
       "2016-01-15 02:00:00                     6.055926                    10.213995   \n",
       "2016-01-15 03:00:00                     6.047977                     9.977019   \n",
       "2016-01-15 04:00:00                     6.148599                    10.142511   \n",
       "...                                          ...                          ...   \n",
       "2018-08-18 06:59:59                     3.224920                    11.356233   \n",
       "2018-08-18 07:59:59                     3.195978                    11.349355   \n",
       "2018-08-18 08:59:59                     3.109998                    11.434366   \n",
       "2018-08-18 09:59:59                     3.367241                    11.625587   \n",
       "2018-08-18 10:59:59                     3.598375                    11.737832   \n",
       "\n",
       "                     final.output.concentrate_sol  \\\n",
       "date                                                \n",
       "2016-01-15 00:00:00                      5.507324   \n",
       "2016-01-15 01:00:00                      5.257781   \n",
       "2016-01-15 02:00:00                      5.383759   \n",
       "2016-01-15 03:00:00                      4.858634   \n",
       "2016-01-15 04:00:00                      4.939416   \n",
       "...                                           ...   \n",
       "2018-08-18 06:59:59                      6.803482   \n",
       "2018-08-18 07:59:59                      6.862249   \n",
       "2018-08-18 08:59:59                      6.886013   \n",
       "2018-08-18 09:59:59                      6.799433   \n",
       "2018-08-18 10:59:59                      6.717509   \n",
       "\n",
       "                     final.output.concentrate_au  final.output.recovery  \\\n",
       "date                                                                      \n",
       "2016-01-15 00:00:00                    42.192020              70.541216   \n",
       "2016-01-15 01:00:00                    42.701629              69.266198   \n",
       "2016-01-15 02:00:00                    42.657501              68.116445   \n",
       "2016-01-15 03:00:00                    42.689819              68.347543   \n",
       "2016-01-15 04:00:00                    42.774141              66.927016   \n",
       "...                                          ...                    ...   \n",
       "2018-08-18 06:59:59                    46.713954              73.755150   \n",
       "2018-08-18 07:59:59                    46.866780              69.049291   \n",
       "2018-08-18 08:59:59                    46.795691              67.002189   \n",
       "2018-08-18 09:59:59                    46.408188              65.523246   \n",
       "2018-08-18 10:59:59                    46.299438              70.281454   \n",
       "\n",
       "                     final.output.tail_ag  final.output.tail_pb  \\\n",
       "date                                                              \n",
       "2016-01-15 00:00:00             10.411962              0.895447   \n",
       "2016-01-15 01:00:00             10.462676              0.927452   \n",
       "2016-01-15 02:00:00             10.507046              0.953716   \n",
       "2016-01-15 03:00:00             10.422762              0.883763   \n",
       "2016-01-15 04:00:00             10.360302              0.792826   \n",
       "...                                   ...                   ...   \n",
       "2018-08-18 06:59:59              8.769645              3.141541   \n",
       "2018-08-18 07:59:59              8.897321              3.130493   \n",
       "2018-08-18 08:59:59              8.529606              2.911418   \n",
       "2018-08-18 09:59:59              8.777171              2.819214   \n",
       "2018-08-18 10:59:59              8.406690              2.517518   \n",
       "\n",
       "                     final.output.tail_sol  final.output.tail_au  \\\n",
       "date                                                               \n",
       "2016-01-15 00:00:00              16.904297              2.143149   \n",
       "2016-01-15 01:00:00              16.634514              2.224930   \n",
       "2016-01-15 02:00:00              16.208849              2.257889   \n",
       "2016-01-15 03:00:00              16.532835              2.146849   \n",
       "2016-01-15 04:00:00              16.525686              2.055292   \n",
       "...                                    ...                   ...   \n",
       "2018-08-18 06:59:59              10.403181              1.529220   \n",
       "2018-08-18 07:59:59              10.549470              1.612542   \n",
       "2018-08-18 08:59:59              11.115147              1.596616   \n",
       "2018-08-18 09:59:59              10.463847              1.602879   \n",
       "2018-08-18 10:59:59              10.652193              1.389434   \n",
       "\n",
       "                     primary_cleaner.input.sulfate  ...  \\\n",
       "date                                                ...   \n",
       "2016-01-15 00:00:00                     127.092003  ...   \n",
       "2016-01-15 01:00:00                     125.629232  ...   \n",
       "2016-01-15 02:00:00                     123.819808  ...   \n",
       "2016-01-15 03:00:00                     122.270188  ...   \n",
       "2016-01-15 04:00:00                     117.988169  ...   \n",
       "...                                            ...  ...   \n",
       "2018-08-18 06:59:59                     123.381787  ...   \n",
       "2018-08-18 07:59:59                     120.878188  ...   \n",
       "2018-08-18 08:59:59                     105.666118  ...   \n",
       "2018-08-18 09:59:59                      98.880538  ...   \n",
       "2018-08-18 10:59:59                      95.248427  ...   \n",
       "\n",
       "                     secondary_cleaner.state.floatbank4_b_level  \\\n",
       "date                                                              \n",
       "2016-01-15 00:00:00                                 -504.715942   \n",
       "2016-01-15 01:00:00                                 -501.331529   \n",
       "2016-01-15 02:00:00                                 -501.133383   \n",
       "2016-01-15 03:00:00                                 -501.193686   \n",
       "2016-01-15 04:00:00                                 -501.053894   \n",
       "...                                                         ...   \n",
       "2018-08-18 06:59:59                                 -499.740028   \n",
       "2018-08-18 07:59:59                                 -500.251357   \n",
       "2018-08-18 08:59:59                                 -499.857027   \n",
       "2018-08-18 09:59:59                                 -500.314711   \n",
       "2018-08-18 10:59:59                                 -500.220296   \n",
       "\n",
       "                     secondary_cleaner.state.floatbank5_a_air  \\\n",
       "date                                                            \n",
       "2016-01-15 00:00:00                                  9.925633   \n",
       "2016-01-15 01:00:00                                 10.039245   \n",
       "2016-01-15 02:00:00                                 10.070913   \n",
       "2016-01-15 03:00:00                                  9.970366   \n",
       "2016-01-15 04:00:00                                  9.925709   \n",
       "...                                                       ...   \n",
       "2018-08-18 06:59:59                                 18.006038   \n",
       "2018-08-18 07:59:59                                 17.998535   \n",
       "2018-08-18 08:59:59                                 18.019543   \n",
       "2018-08-18 09:59:59                                 17.979515   \n",
       "2018-08-18 10:59:59                                 17.963512   \n",
       "\n",
       "                     secondary_cleaner.state.floatbank5_a_level  \\\n",
       "date                                                              \n",
       "2016-01-15 00:00:00                                 -498.310211   \n",
       "2016-01-15 01:00:00                                 -500.169983   \n",
       "2016-01-15 02:00:00                                 -500.129135   \n",
       "2016-01-15 03:00:00                                 -499.201640   \n",
       "2016-01-15 04:00:00                                 -501.686727   \n",
       "...                                                         ...   \n",
       "2018-08-18 06:59:59                                 -499.834374   \n",
       "2018-08-18 07:59:59                                 -500.395178   \n",
       "2018-08-18 08:59:59                                 -500.451156   \n",
       "2018-08-18 09:59:59                                 -499.272871   \n",
       "2018-08-18 10:59:59                                 -499.939490   \n",
       "\n",
       "                     secondary_cleaner.state.floatbank5_b_air  \\\n",
       "date                                                            \n",
       "2016-01-15 00:00:00                                  8.079666   \n",
       "2016-01-15 01:00:00                                  7.984757   \n",
       "2016-01-15 02:00:00                                  8.013877   \n",
       "2016-01-15 03:00:00                                  7.977324   \n",
       "2016-01-15 04:00:00                                  7.894242   \n",
       "...                                                       ...   \n",
       "2018-08-18 06:59:59                                 13.001114   \n",
       "2018-08-18 07:59:59                                 12.954048   \n",
       "2018-08-18 08:59:59                                 13.023431   \n",
       "2018-08-18 09:59:59                                 12.992404   \n",
       "2018-08-18 10:59:59                                 12.990306   \n",
       "\n",
       "                     secondary_cleaner.state.floatbank5_b_level  \\\n",
       "date                                                              \n",
       "2016-01-15 00:00:00                                 -500.470978   \n",
       "2016-01-15 01:00:00                                 -500.582168   \n",
       "2016-01-15 02:00:00                                 -500.517572   \n",
       "2016-01-15 03:00:00                                 -500.255908   \n",
       "2016-01-15 04:00:00                                 -500.356035   \n",
       "...                                                         ...   \n",
       "2018-08-18 06:59:59                                 -500.155694   \n",
       "2018-08-18 07:59:59                                 -499.895163   \n",
       "2018-08-18 08:59:59                                 -499.914391   \n",
       "2018-08-18 09:59:59                                 -499.976268   \n",
       "2018-08-18 10:59:59                                 -500.080993   \n",
       "\n",
       "                     secondary_cleaner.state.floatbank6_a_air  \\\n",
       "date                                                            \n",
       "2016-01-15 00:00:00                                 14.151341   \n",
       "2016-01-15 01:00:00                                 13.998353   \n",
       "2016-01-15 02:00:00                                 14.028663   \n",
       "2016-01-15 03:00:00                                 14.005551   \n",
       "2016-01-15 04:00:00                                 13.996647   \n",
       "...                                                       ...   \n",
       "2018-08-18 06:59:59                                 20.007840   \n",
       "2018-08-18 07:59:59                                 19.968498   \n",
       "2018-08-18 08:59:59                                 19.990885   \n",
       "2018-08-18 09:59:59                                 20.013986   \n",
       "2018-08-18 10:59:59                                 19.990336   \n",
       "\n",
       "                     secondary_cleaner.state.floatbank6_a_level        raw  \\\n",
       "date                                                                         \n",
       "2016-01-15 00:00:00                                 -605.841980  51.680034   \n",
       "2016-01-15 01:00:00                                 -599.787184  50.659114   \n",
       "2016-01-15 02:00:00                                 -601.427363  50.609929   \n",
       "2016-01-15 03:00:00                                 -599.996129  51.061546   \n",
       "2016-01-15 04:00:00                                 -601.496691  47.859163   \n",
       "...                                                         ...        ...   \n",
       "2018-08-18 06:59:59                                 -501.296428  53.415050   \n",
       "2018-08-18 07:59:59                                 -501.041608  53.696482   \n",
       "2018-08-18 08:59:59                                 -501.518452  54.589604   \n",
       "2018-08-18 09:59:59                                 -500.625471  54.027355   \n",
       "2018-08-18 10:59:59                                 -499.191575  53.535054   \n",
       "\n",
       "                       rougher      final  \n",
       "date                                       \n",
       "2016-01-15 00:00:00  66.424950  63.644396  \n",
       "2016-01-15 01:00:00  67.012710  63.957723  \n",
       "2016-01-15 02:00:00  66.103793  64.311180  \n",
       "2016-01-15 03:00:00  65.752751  63.573449  \n",
       "2016-01-15 04:00:00  65.908382  64.004667  \n",
       "...                        ...        ...  \n",
       "2018-08-18 06:59:59  70.781325  68.098589  \n",
       "2018-08-18 07:59:59  70.539603  68.274362  \n",
       "2018-08-18 08:59:59  55.376330  68.226068  \n",
       "2018-08-18 09:59:59  69.201689  68.200449  \n",
       "2018-08-18 10:59:59  69.544003  68.353154  \n",
       "\n",
       "[19439 rows x 89 columns]"
      ]
     },
     "metadata": {},
     "output_type": "display_data"
    }
   ],
   "source": [
    "#суммируем концентрации веществ в отдельных столбцах\n",
    "data['raw'] = (data['rougher.input.feed_ag'] + \n",
    "               data['rougher.input.feed_pb'] + \n",
    "               data['rougher.input.feed_sol'] + \n",
    "               data['rougher.input.feed_au'])\n",
    "\n",
    "data['rougher'] = (data['rougher.output.concentrate_ag'] + \n",
    "                   data['rougher.output.concentrate_pb'] +\n",
    "                   data['rougher.output.concentrate_sol'] +\n",
    "                   data['rougher.output.concentrate_au'])\n",
    "\n",
    "data['final'] = (data['final.output.concentrate_ag'] + \n",
    "                 data['final.output.concentrate_pb'] +\n",
    "                 data['final.output.concentrate_sol'] +\n",
    "                 data['final.output.concentrate_au'])\n",
    "display(data)"
   ]
  },
  {
   "cell_type": "markdown",
   "metadata": {},
   "source": [
    "#### Сырье"
   ]
  },
  {
   "cell_type": "code",
   "execution_count": 23,
   "metadata": {},
   "outputs": [],
   "source": [
    "def concentration(raw, rougher, final):\n",
    "    plt.figure(figsize=(12, 7))\n",
    "    plt.hist(raw, bins=70, alpha=0.5, label='Исходное сырьё')\n",
    "    plt.hist(rougher, bins=70, alpha=0.5, label='Черновой концентрат')\n",
    "    plt.hist(final, bins=70, alpha=0.5, label='Финальный концентрат')\n",
    "    plt.title('Суммарная концентрация веществ')\n",
    "    plt.xlabel('Концентрация, %')\n",
    "    plt.ylabel('Частота')\n",
    "    plt.legend()\n",
    "    plt.xlim(30,100)\n",
    "    plt.show()\n",
    "    display(raw.describe())\n",
    "    display(rougher.describe())\n",
    "    display(final.describe())"
   ]
  },
  {
   "cell_type": "code",
   "execution_count": 24,
   "metadata": {},
   "outputs": [
    {
     "data": {
      "image/png": "[encoded data removed]",
      "text/plain": [
       "<Figure size 864x504 with 1 Axes>"
      ]
     },
     "metadata": {
      "image/png": {
       "height": 440,
       "width": 739
      },
      "needs_background": "light"
     },
     "output_type": "display_data"
    },
    {
     "data": {
      "text/plain": [
       "count    19439.000000\n",
       "mean        57.320789\n",
       "std          7.212680\n",
       "min          0.040000\n",
       "25%         53.557679\n",
       "50%         57.594391\n",
       "75%         61.953459\n",
       "max         76.978947\n",
       "Name: raw, dtype: float64"
      ]
     },
     "metadata": {},
     "output_type": "display_data"
    },
    {
     "data": {
      "text/plain": [
       "count    19439.000000\n",
       "mean        68.170865\n",
       "std         12.491279\n",
       "min          0.000000\n",
       "25%         66.012495\n",
       "50%         70.181495\n",
       "75%         74.356904\n",
       "max         88.140119\n",
       "Name: rougher, dtype: float64"
      ]
     },
     "metadata": {},
     "output_type": "display_data"
    },
    {
     "data": {
      "text/plain": [
       "count    19439.000000\n",
       "mean        68.653624\n",
       "std          7.427536\n",
       "min          0.000000\n",
       "25%         67.932362\n",
       "50%         69.598444\n",
       "75%         71.368472\n",
       "max         80.210644\n",
       "Name: final, dtype: float64"
      ]
     },
     "metadata": {},
     "output_type": "display_data"
    }
   ],
   "source": [
    "concentration(data['raw'], data['rougher'], data['final'])"
   ]
  },
  {
   "cell_type": "markdown",
   "metadata": {},
   "source": [
    "В данных по черновому и финальному концентратам присутствуют выбросы (нулевые значения). Фильтруем их."
   ]
  },
  {
   "cell_type": "code",
   "execution_count": 25,
   "metadata": {},
   "outputs": [],
   "source": [
    "#отфильтровыаем выбросы\n",
    "data = data.query('rougher > 0 and final > 0')"
   ]
  },
  {
   "cell_type": "code",
   "execution_count": 26,
   "metadata": {
    "scrolled": true
   },
   "outputs": [
    {
     "data": {
      "image/png": "[encoded data removed]",
      "text/plain": [
       "<Figure size 432x288 with 1 Axes>"
      ]
     },
     "metadata": {
      "image/png": {
       "height": 381,
       "width": 419
      },
      "needs_background": "light"
     },
     "output_type": "display_data"
    }
   ],
   "source": [
    "data_concentration = data[['raw', 'rougher', 'final']]\n",
    "data_concentration.columns = ['Сырье', 'Черновой концентрат', 'Финальный концентрат']\n",
    "data_concentration.mean().plot(kind='bar')\n",
    "plt.grid(True)\n",
    "plt.title('Изменение суммарной концентрации веществ по мере очистки')\n",
    "plt.ylabel('Концентрация, %')\n",
    "plt.show()"
   ]
  },
  {
   "cell_type": "markdown",
   "metadata": {},
   "source": [
    "**Вывод**\n",
    "\n",
    "Суммарная концентрация веществ (золото, серебро, свинец, коллоид) после флотации возрастает с 57 до 70%. После прохождения следующих этапов очистки концентрация остается неизменной или незначительно снижается."
   ]
  },
  {
   "cell_type": "markdown",
   "metadata": {},
   "source": [
    "## Модель"
   ]
  },
  {
   "cell_type": "code",
   "execution_count": 27,
   "metadata": {},
   "outputs": [],
   "source": [
    "#создаем функцию подсчета sMAPE\n",
    "def smape(target_actual, target_predictions):\n",
    "    numerator = np.abs(target_actual - target_predictions)\n",
    "    denominator = (np.abs(target_actual) + np.abs(target_predictions)) / 2 \n",
    "    return 1 / len(target_actual) * np.sum(numerator / denominator) * 100 "
   ]
  },
  {
   "cell_type": "code",
   "execution_count": 28,
   "metadata": {},
   "outputs": [],
   "source": [
    "#создаем оцениватель моделей\n",
    "smape_score = make_scorer(smape, greater_is_better=False)"
   ]
  },
  {
   "cell_type": "code",
   "execution_count": 29,
   "metadata": {},
   "outputs": [],
   "source": [
    "#разделяем признаки и целевой признак\n",
    "features_train = data_train.drop(columns=['rougher.output.recovery', 'final.output.recovery'], axis=1)\n",
    "target_train_rougher = data_train['rougher.output.recovery']\n",
    "target_train_final = data_train[ 'final.output.recovery']"
   ]
  },
  {
   "cell_type": "code",
   "execution_count": 30,
   "metadata": {},
   "outputs": [],
   "source": [
    "features_test = data_test.drop(columns=['rougher.output.recovery', 'final.output.recovery'], axis=1)\n",
    "target_test_rougher = data_test['rougher.output.recovery']\n",
    "target_test_final = data_test['final.output.recovery']"
   ]
  },
  {
   "cell_type": "code",
   "execution_count": 31,
   "metadata": {},
   "outputs": [],
   "source": [
    "#масштабируем признаки\n",
    "scaler = StandardScaler()\n",
    "scaler.fit(features_train)\n",
    "features_train = scaler.transform(features_train)\n",
    "features_test = scaler.transform(features_test)"
   ]
  },
  {
   "cell_type": "markdown",
   "metadata": {},
   "source": [
    "### Линейная регрессия"
   ]
  },
  {
   "cell_type": "code",
   "execution_count": 32,
   "metadata": {},
   "outputs": [
    {
     "name": "stdout",
     "output_type": "stream",
     "text": [
      "rougher_smape 12.80248345848199\n",
      "final_smape 12.24530032030226\n",
      "Итоговый sMAPE: 12.38459610484719\n"
     ]
    }
   ],
   "source": [
    "model_lr = LinearRegression()\n",
    "rougher_smape = cross_val_score(model_lr, features_train, target_train_rougher, scoring = smape_score, cv=5)\n",
    "final_smape = cross_val_score(model_lr, features_train, target_train_final, scoring = smape_score, cv=5)\n",
    "res = abs(0.25*rougher_smape.mean() + 0.75*final_smape.mean())\n",
    "print('rougher_smape', abs(rougher_smape).mean())\n",
    "print('final_smape', abs(final_smape).mean())\n",
    "print(f'Итоговый sMAPE: {res}')"
   ]
  },
  {
   "cell_type": "markdown",
   "metadata": {},
   "source": [
    "* При использовании линейной регрессии sMAPE = 12.3846"
   ]
  },
  {
   "cell_type": "markdown",
   "metadata": {},
   "source": [
    "### Дерево решений"
   ]
  },
  {
   "cell_type": "code",
   "execution_count": 33,
   "metadata": {},
   "outputs": [
    {
     "name": "stdout",
     "output_type": "stream",
     "text": [
      "{'max_depth': 4}\n",
      "{'max_depth': 3}\n",
      "11.579887512182543\n",
      "10.806104806167777\n",
      "Итоговый sMAPE: 10.999550482671468\n"
     ]
    }
   ],
   "source": [
    "model_dt = DecisionTreeRegressor(random_state=12345)\n",
    "parameters = {'max_depth': range(1,11,1)}\n",
    "grid_rougher_dt = GridSearchCV(model_dt, param_grid=parameters, scoring=smape_score, n_jobs=-1, cv=5)\n",
    "grid_final_dt = GridSearchCV(model_dt, param_grid=parameters, scoring=smape_score, n_jobs=-1, cv=5)\n",
    "\n",
    "grid_rougher_dt.fit(features_train, target_train_rougher)\n",
    "grid_final_dt.fit(features_train, target_train_final)\n",
    "\n",
    "print(grid_rougher_dt.best_params_)\n",
    "print(grid_final_dt.best_params_)\n",
    "\n",
    "print(abs(grid_rougher_dt.best_score_))\n",
    "print(abs(grid_final_dt.best_score_))\n",
    "final_smape = 0.25*abs(grid_rougher_dt.best_score_) + 0.75*abs(grid_final_dt.best_score_)\n",
    "print(f'Итоговый sMAPE: {final_smape}')"
   ]
  },
  {
   "cell_type": "markdown",
   "metadata": {},
   "source": [
    "Оптимальные гиперпараметры для дерева решений:\n",
    "* Для предсказания recovery чернового концентрата: глубина 4. \n",
    "* Для предсказания recovery финального концентрата: глубина 3. \n",
    "* Итоговый sMAPE = 11.0000"
   ]
  },
  {
   "cell_type": "markdown",
   "metadata": {},
   "source": [
    "### Случайный лес"
   ]
  },
  {
   "cell_type": "code",
   "execution_count": 34,
   "metadata": {},
   "outputs": [
    {
     "name": "stdout",
     "output_type": "stream",
     "text": [
      "{'max_depth': 6, 'n_estimators': 19}\n",
      "{'max_depth': 5, 'n_estimators': 6}\n",
      "10.894350058020649\n",
      "10.083205174521211\n",
      "Итоговый sMAPE: 10.28599139539607\n"
     ]
    }
   ],
   "source": [
    "model_rf = RandomForestRegressor(random_state=12345)\n",
    "parameters = {'max_depth': range(1,11,1), 'n_estimators' : range(1,21,1)}\n",
    "grid_rougher_rf = GridSearchCV(model_rf, param_grid=parameters, scoring=smape_score, n_jobs=-1, cv=5)\n",
    "grid_final_rf = GridSearchCV(model_rf, param_grid=parameters, scoring=smape_score, n_jobs=-1, cv=5)\n",
    "\n",
    "grid_rougher_rf.fit(features_train, target_train_rougher)\n",
    "grid_final_rf.fit(features_train, target_train_final)\n",
    "\n",
    "print(grid_rougher_rf.best_params_)\n",
    "print(grid_final_rf.best_params_)\n",
    "\n",
    "print(abs(grid_rougher_rf.best_score_))\n",
    "print(abs(grid_final_rf.best_score_))\n",
    "final_smape = 0.25*abs(grid_rougher_rf.best_score_) + 0.75*abs(grid_final_rf.best_score_)\n",
    "print(f'Итоговый sMAPE: {final_smape}')"
   ]
  },
  {
   "cell_type": "markdown",
   "metadata": {},
   "source": [
    "Оптимальные гиперпараметры для случайного леса:\n",
    "* Для предсказания recovery чернового концентрата: 19 деревьев, глубина 6. \n",
    "* Для предсказания recovery финального концентрата: 6 деревьев, глубина 5. \n",
    "* Итоговый sMAPE = 10.2860"
   ]
  },
  {
   "cell_type": "markdown",
   "metadata": {},
   "source": [
    "### Вывод"
   ]
  },
  {
   "cell_type": "markdown",
   "metadata": {},
   "source": [
    "Наибольшую точность показала модель случайного леса, ее и будем использовать в финальном тестировании."
   ]
  },
  {
   "cell_type": "markdown",
   "metadata": {},
   "source": [
    "## Тестирование модели"
   ]
  },
  {
   "cell_type": "code",
   "execution_count": 35,
   "metadata": {},
   "outputs": [
    {
     "name": "stdout",
     "output_type": "stream",
     "text": [
      "10.326960046366555\n",
      "10.375175052418992\n",
      "Итоговый sMAPE: 10.363121300905883\n"
     ]
    }
   ],
   "source": [
    "model_rougher = RandomForestRegressor(random_state=12345, n_estimators=19, max_depth=6)\n",
    "model_rougher.fit(features_train, target_train_rougher)\n",
    "prediction_rougher = model_rougher.predict(features_test)\n",
    "smape_rougher = smape(target_test_rougher,prediction_rougher)\n",
    "\n",
    "model_final = RandomForestRegressor(random_state=12345, n_estimators=6, max_depth=5)\n",
    "model_final.fit(features_train, target_train_final)\n",
    "prediction_final = model_final.predict(features_test)\n",
    "smape_final = smape(target_test_final,prediction_final)\n",
    "\n",
    "smape = 0.25*abs(smape_rougher) + 0.75*abs(smape_final)\n",
    "\n",
    "print(smape_rougher)\n",
    "print(smape_final)\n",
    "print(f'Итоговый sMAPE: {smape}')"
   ]
  },
  {
   "cell_type": "markdown",
   "metadata": {},
   "source": [
    "### Вывод\n",
    "\n",
    "\n",
    "**Что было сделано:**\n",
    "1) Проверили правильность расчетов recovery. \n",
    "\n",
    "2) Заполнили пропуски предыдущими значениями.\n",
    "\n",
    "3) Удалили из обучающей выборки признаки, которые могли снизить точность модели.\n",
    "\n",
    "4) Проанализировали изменение концентраций металлов по мере очистки.\n",
    "\n",
    "5) Сравнили распределения размеров гранул в обучающей и тестовой выборках. Они оказались идентичны.\n",
    "\n",
    "6) Проанализировали суммарные концентрации металлов и коллоида в сырье, черновом концентрате и финальном концентрате.\n",
    "\n",
    "7) Отфильтровали данные от нулевых значений.\n",
    "\n",
    "8) Обучили, подобрали гиперпараметры и проверили кросс-валидацией модели линейной регрессии, дерева решений и случайного леса.\n",
    "Оценивали модель с помощью sMAPE.\n",
    "\n",
    "9) Протестировали лучшую модель (случайного леса) на тестовой выборке.\n",
    "\n",
    "**Результаты**\n",
    "\n",
    "На обучающей выборке лучший результат (sMAPE = 10.2860) показала модель случайного леса со следующими параметрами:\n",
    "* Черновой концентрат: 19 деревьев, глубина 6\n",
    "* Финальный концентрат: 6 деревьев, глубина 5.\n",
    "\n",
    "При тестировании модели значение sMAPE повысилось, но незначительно (sMAPE = 10.3631). Это значит, что модель не переобучилась и справляется с поставленной задачей."
   ]
  }
 ],
 "metadata": {
  "ExecuteTimeLog": [
   {
    "duration": 419,
    "start_time": "2022-04-05T11:29:57.527Z"
   },
   {
    "duration": 169,
    "start_time": "2022-04-05T11:31:47.364Z"
   },
   {
    "duration": 618,
    "start_time": "2022-04-05T11:32:27.116Z"
   },
   {
    "duration": 31,
    "start_time": "2022-04-05T11:33:00.872Z"
   },
   {
    "duration": 37,
    "start_time": "2022-04-05T11:33:27.086Z"
   },
   {
    "duration": 32,
    "start_time": "2022-04-05T11:43:24.089Z"
   },
   {
    "duration": 175,
    "start_time": "2022-04-05T12:04:16.861Z"
   },
   {
    "duration": 15,
    "start_time": "2022-04-05T12:08:23.221Z"
   },
   {
    "duration": 3,
    "start_time": "2022-04-05T12:16:37.632Z"
   },
   {
    "duration": 16,
    "start_time": "2022-04-05T12:16:39.324Z"
   },
   {
    "duration": 278,
    "start_time": "2022-04-05T12:21:41.032Z"
   },
   {
    "duration": 135,
    "start_time": "2022-04-05T12:21:58.124Z"
   },
   {
    "duration": 299,
    "start_time": "2022-04-05T12:24:31.401Z"
   },
   {
    "duration": 188,
    "start_time": "2022-04-05T12:25:39.149Z"
   },
   {
    "duration": 162,
    "start_time": "2022-04-05T12:25:42.265Z"
   },
   {
    "duration": 11,
    "start_time": "2022-04-05T12:31:56.711Z"
   },
   {
    "duration": 867,
    "start_time": "2022-04-05T12:33:31.662Z"
   },
   {
    "duration": 8,
    "start_time": "2022-04-05T12:34:59.834Z"
   },
   {
    "duration": 7,
    "start_time": "2022-04-05T12:35:07.161Z"
   },
   {
    "duration": 38,
    "start_time": "2022-04-05T12:41:13.609Z"
   },
   {
    "duration": 2,
    "start_time": "2022-04-05T12:42:15.587Z"
   },
   {
    "duration": 4,
    "start_time": "2022-04-05T12:42:24.807Z"
   },
   {
    "duration": 4,
    "start_time": "2022-04-05T12:42:51.040Z"
   },
   {
    "duration": 13,
    "start_time": "2022-04-05T12:43:54.014Z"
   },
   {
    "duration": 360,
    "start_time": "2022-04-05T12:46:07.800Z"
   },
   {
    "duration": 150,
    "start_time": "2022-04-05T12:46:51.337Z"
   },
   {
    "duration": 11,
    "start_time": "2022-04-05T12:46:57.147Z"
   },
   {
    "duration": 11,
    "start_time": "2022-04-05T12:47:05.822Z"
   },
   {
    "duration": 4,
    "start_time": "2022-04-05T12:50:44.158Z"
   },
   {
    "duration": 5,
    "start_time": "2022-04-05T12:50:58.788Z"
   },
   {
    "duration": 7,
    "start_time": "2022-04-05T12:55:40.430Z"
   },
   {
    "duration": 6,
    "start_time": "2022-04-05T12:56:26.106Z"
   },
   {
    "duration": 5,
    "start_time": "2022-04-05T12:56:29.473Z"
   },
   {
    "duration": 11,
    "start_time": "2022-04-05T12:56:35.811Z"
   },
   {
    "duration": 14,
    "start_time": "2022-04-05T12:56:47.021Z"
   },
   {
    "duration": 5,
    "start_time": "2022-04-05T12:56:52.898Z"
   },
   {
    "duration": 4,
    "start_time": "2022-04-05T12:57:19.704Z"
   },
   {
    "duration": 4,
    "start_time": "2022-04-05T12:57:49.607Z"
   },
   {
    "duration": 5,
    "start_time": "2022-04-05T13:03:17.350Z"
   },
   {
    "duration": 10,
    "start_time": "2022-04-05T13:03:49.130Z"
   },
   {
    "duration": 9,
    "start_time": "2022-04-05T13:03:59.625Z"
   },
   {
    "duration": 3,
    "start_time": "2022-04-05T13:04:07.131Z"
   },
   {
    "duration": 5,
    "start_time": "2022-04-05T13:04:12.982Z"
   },
   {
    "duration": 4,
    "start_time": "2022-04-05T13:20:43.062Z"
   },
   {
    "duration": 7,
    "start_time": "2022-04-05T13:22:32.742Z"
   },
   {
    "duration": 4,
    "start_time": "2022-04-05T13:22:37.755Z"
   },
   {
    "duration": 7,
    "start_time": "2022-04-05T13:22:55.796Z"
   },
   {
    "duration": 5,
    "start_time": "2022-04-05T13:22:58.582Z"
   },
   {
    "duration": 1067,
    "start_time": "2022-04-05T13:23:05.008Z"
   },
   {
    "duration": 625,
    "start_time": "2022-04-05T13:23:06.077Z"
   },
   {
    "duration": 59,
    "start_time": "2022-04-05T13:23:06.704Z"
   },
   {
    "duration": 32,
    "start_time": "2022-04-05T13:23:06.766Z"
   },
   {
    "duration": 9,
    "start_time": "2022-04-05T13:23:06.800Z"
   },
   {
    "duration": 5,
    "start_time": "2022-04-05T13:23:06.811Z"
   },
   {
    "duration": 9,
    "start_time": "2022-04-05T13:23:34.901Z"
   },
   {
    "duration": 8,
    "start_time": "2022-04-05T13:25:06.250Z"
   },
   {
    "duration": 97,
    "start_time": "2022-04-05T13:25:19.415Z"
   },
   {
    "duration": 1133,
    "start_time": "2022-04-05T13:25:31.224Z"
   },
   {
    "duration": 617,
    "start_time": "2022-04-05T13:25:32.359Z"
   },
   {
    "duration": 43,
    "start_time": "2022-04-05T13:25:32.978Z"
   },
   {
    "duration": 41,
    "start_time": "2022-04-05T13:25:33.023Z"
   },
   {
    "duration": 9,
    "start_time": "2022-04-05T13:25:33.066Z"
   },
   {
    "duration": 16,
    "start_time": "2022-04-05T13:25:33.076Z"
   },
   {
    "duration": 28,
    "start_time": "2022-04-05T13:25:33.094Z"
   },
   {
    "duration": 91,
    "start_time": "2022-04-05T13:26:18.758Z"
   },
   {
    "duration": 4,
    "start_time": "2022-04-05T13:26:32.569Z"
   },
   {
    "duration": 16,
    "start_time": "2022-04-05T13:27:42.367Z"
   },
   {
    "duration": 1143,
    "start_time": "2022-04-05T13:27:49.976Z"
   },
   {
    "duration": 602,
    "start_time": "2022-04-05T13:27:51.121Z"
   },
   {
    "duration": 46,
    "start_time": "2022-04-05T13:27:51.724Z"
   },
   {
    "duration": 30,
    "start_time": "2022-04-05T13:27:51.772Z"
   },
   {
    "duration": 8,
    "start_time": "2022-04-05T13:27:51.804Z"
   },
   {
    "duration": 4,
    "start_time": "2022-04-05T13:27:51.814Z"
   },
   {
    "duration": 18,
    "start_time": "2022-04-05T13:27:51.819Z"
   },
   {
    "duration": 1180,
    "start_time": "2022-04-05T16:25:17.608Z"
   },
   {
    "duration": 675,
    "start_time": "2022-04-05T16:25:18.790Z"
   },
   {
    "duration": 59,
    "start_time": "2022-04-05T16:25:19.467Z"
   },
   {
    "duration": 37,
    "start_time": "2022-04-05T16:25:19.530Z"
   },
   {
    "duration": 32,
    "start_time": "2022-04-05T16:25:19.569Z"
   },
   {
    "duration": 5,
    "start_time": "2022-04-05T16:25:19.603Z"
   },
   {
    "duration": 27,
    "start_time": "2022-04-05T16:25:19.609Z"
   },
   {
    "duration": 30,
    "start_time": "2022-04-05T16:33:00.365Z"
   },
   {
    "duration": 9,
    "start_time": "2022-04-05T16:33:55.972Z"
   },
   {
    "duration": 24,
    "start_time": "2022-04-05T16:34:06.958Z"
   },
   {
    "duration": 11,
    "start_time": "2022-04-05T16:34:18.277Z"
   },
   {
    "duration": 71,
    "start_time": "2022-04-05T16:35:04.990Z"
   },
   {
    "duration": 9,
    "start_time": "2022-04-05T16:38:00.944Z"
   },
   {
    "duration": 9,
    "start_time": "2022-04-05T16:38:58.009Z"
   },
   {
    "duration": 10,
    "start_time": "2022-04-05T16:39:11.869Z"
   },
   {
    "duration": 8,
    "start_time": "2022-04-05T16:39:34.544Z"
   },
   {
    "duration": 6,
    "start_time": "2022-04-05T16:39:50.449Z"
   },
   {
    "duration": 8,
    "start_time": "2022-04-05T16:39:57.578Z"
   },
   {
    "duration": 9,
    "start_time": "2022-04-05T16:40:14.605Z"
   },
   {
    "duration": 12,
    "start_time": "2022-04-05T16:40:24.538Z"
   },
   {
    "duration": 11,
    "start_time": "2022-04-05T16:41:11.096Z"
   },
   {
    "duration": 1202,
    "start_time": "2022-04-05T16:42:09.692Z"
   },
   {
    "duration": 681,
    "start_time": "2022-04-05T16:42:10.897Z"
   },
   {
    "duration": 56,
    "start_time": "2022-04-05T16:42:11.580Z"
   },
   {
    "duration": 39,
    "start_time": "2022-04-05T16:42:11.638Z"
   },
   {
    "duration": 30,
    "start_time": "2022-04-05T16:42:11.679Z"
   },
   {
    "duration": 5,
    "start_time": "2022-04-05T16:42:11.711Z"
   },
   {
    "duration": 22,
    "start_time": "2022-04-05T16:42:11.717Z"
   },
   {
    "duration": 16,
    "start_time": "2022-04-05T16:42:11.741Z"
   },
   {
    "duration": 14,
    "start_time": "2022-04-05T16:42:11.758Z"
   },
   {
    "duration": 10,
    "start_time": "2022-04-05T16:42:11.803Z"
   },
   {
    "duration": 15,
    "start_time": "2022-04-05T16:42:11.814Z"
   },
   {
    "duration": 8,
    "start_time": "2022-04-05T16:46:56.489Z"
   },
   {
    "duration": 10,
    "start_time": "2022-04-05T16:47:23.995Z"
   },
   {
    "duration": 10,
    "start_time": "2022-04-05T16:47:35.193Z"
   },
   {
    "duration": 11,
    "start_time": "2022-04-05T16:47:56.400Z"
   },
   {
    "duration": 1174,
    "start_time": "2022-04-05T16:50:47.053Z"
   },
   {
    "duration": 702,
    "start_time": "2022-04-05T16:50:48.229Z"
   },
   {
    "duration": 54,
    "start_time": "2022-04-05T16:50:48.932Z"
   },
   {
    "duration": 51,
    "start_time": "2022-04-05T16:50:48.988Z"
   },
   {
    "duration": 10,
    "start_time": "2022-04-05T16:50:49.041Z"
   },
   {
    "duration": 9,
    "start_time": "2022-04-05T16:50:49.053Z"
   },
   {
    "duration": 47,
    "start_time": "2022-04-05T16:50:49.064Z"
   },
   {
    "duration": 16,
    "start_time": "2022-04-05T16:50:49.114Z"
   },
   {
    "duration": 18,
    "start_time": "2022-04-05T16:50:49.131Z"
   },
   {
    "duration": 10,
    "start_time": "2022-04-05T16:50:49.152Z"
   },
   {
    "duration": 45,
    "start_time": "2022-04-05T16:50:49.163Z"
   },
   {
    "duration": 1736,
    "start_time": "2022-04-05T17:07:28.189Z"
   },
   {
    "duration": 656,
    "start_time": "2022-04-05T17:07:29.928Z"
   },
   {
    "duration": 51,
    "start_time": "2022-04-05T17:07:30.586Z"
   },
   {
    "duration": 37,
    "start_time": "2022-04-05T17:07:30.639Z"
   },
   {
    "duration": 26,
    "start_time": "2022-04-05T17:07:30.678Z"
   },
   {
    "duration": 6,
    "start_time": "2022-04-05T17:07:30.706Z"
   },
   {
    "duration": 32,
    "start_time": "2022-04-05T17:07:30.714Z"
   },
   {
    "duration": 32,
    "start_time": "2022-04-05T17:07:30.749Z"
   },
   {
    "duration": 20,
    "start_time": "2022-04-05T17:07:30.783Z"
   },
   {
    "duration": 10,
    "start_time": "2022-04-05T17:07:30.806Z"
   },
   {
    "duration": 33,
    "start_time": "2022-04-05T17:07:30.818Z"
   },
   {
    "duration": 19,
    "start_time": "2022-04-05T17:09:40.135Z"
   },
   {
    "duration": 5,
    "start_time": "2022-04-05T17:17:12.853Z"
   },
   {
    "duration": 346,
    "start_time": "2022-04-05T17:18:07.282Z"
   },
   {
    "duration": 244,
    "start_time": "2022-04-05T17:18:20.760Z"
   },
   {
    "duration": 575,
    "start_time": "2022-04-05T17:19:08.803Z"
   },
   {
    "duration": 186,
    "start_time": "2022-04-05T17:23:34.864Z"
   },
   {
    "duration": 189,
    "start_time": "2022-04-05T17:23:46.731Z"
   },
   {
    "duration": 10,
    "start_time": "2022-04-05T17:26:23.138Z"
   },
   {
    "duration": 194,
    "start_time": "2022-04-05T17:27:31.598Z"
   },
   {
    "duration": 273,
    "start_time": "2022-04-05T17:30:24.551Z"
   },
   {
    "duration": 203,
    "start_time": "2022-04-05T17:30:40.650Z"
   },
   {
    "duration": 242,
    "start_time": "2022-04-05T17:31:11.411Z"
   },
   {
    "duration": 172,
    "start_time": "2022-04-05T17:33:17.815Z"
   },
   {
    "duration": 182,
    "start_time": "2022-04-05T17:33:48.072Z"
   },
   {
    "duration": 205,
    "start_time": "2022-04-05T17:34:47.128Z"
   },
   {
    "duration": 197,
    "start_time": "2022-04-05T17:34:58.755Z"
   },
   {
    "duration": 213,
    "start_time": "2022-04-05T17:35:07.528Z"
   },
   {
    "duration": 200,
    "start_time": "2022-04-05T17:35:16.289Z"
   },
   {
    "duration": 1466,
    "start_time": "2022-04-05T17:38:41.826Z"
   },
   {
    "duration": 725,
    "start_time": "2022-04-05T17:38:43.295Z"
   },
   {
    "duration": 48,
    "start_time": "2022-04-05T17:38:44.022Z"
   },
   {
    "duration": 54,
    "start_time": "2022-04-05T17:38:44.072Z"
   },
   {
    "duration": 10,
    "start_time": "2022-04-05T17:38:44.128Z"
   },
   {
    "duration": 5,
    "start_time": "2022-04-05T17:38:44.140Z"
   },
   {
    "duration": 24,
    "start_time": "2022-04-05T17:38:44.146Z"
   },
   {
    "duration": 40,
    "start_time": "2022-04-05T17:38:44.172Z"
   },
   {
    "duration": 19,
    "start_time": "2022-04-05T17:38:44.214Z"
   },
   {
    "duration": 12,
    "start_time": "2022-04-05T17:38:44.236Z"
   },
   {
    "duration": 52,
    "start_time": "2022-04-05T17:38:44.250Z"
   },
   {
    "duration": 19,
    "start_time": "2022-04-05T17:38:44.304Z"
   },
   {
    "duration": 118,
    "start_time": "2022-04-05T17:38:44.326Z"
   },
   {
    "duration": 0,
    "start_time": "2022-04-05T17:38:44.447Z"
   },
   {
    "duration": 0,
    "start_time": "2022-04-05T17:38:44.448Z"
   },
   {
    "duration": 0,
    "start_time": "2022-04-05T17:38:44.450Z"
   },
   {
    "duration": 0,
    "start_time": "2022-04-05T17:38:44.451Z"
   },
   {
    "duration": 1489,
    "start_time": "2022-04-05T17:39:46.794Z"
   },
   {
    "duration": 703,
    "start_time": "2022-04-05T17:39:48.285Z"
   },
   {
    "duration": 52,
    "start_time": "2022-04-05T17:39:48.990Z"
   },
   {
    "duration": 38,
    "start_time": "2022-04-05T17:39:49.044Z"
   },
   {
    "duration": 25,
    "start_time": "2022-04-05T17:39:49.084Z"
   },
   {
    "duration": 104,
    "start_time": "2022-04-05T17:39:49.111Z"
   },
   {
    "duration": 39,
    "start_time": "2022-04-05T17:39:49.217Z"
   },
   {
    "duration": 15,
    "start_time": "2022-04-05T17:39:49.258Z"
   },
   {
    "duration": 16,
    "start_time": "2022-04-05T17:39:49.275Z"
   },
   {
    "duration": 11,
    "start_time": "2022-04-05T17:39:49.294Z"
   },
   {
    "duration": 17,
    "start_time": "2022-04-05T17:39:49.307Z"
   },
   {
    "duration": 19,
    "start_time": "2022-04-05T17:39:49.326Z"
   },
   {
    "duration": 224,
    "start_time": "2022-04-05T17:39:49.347Z"
   },
   {
    "duration": 218,
    "start_time": "2022-04-05T17:39:49.573Z"
   },
   {
    "duration": 194,
    "start_time": "2022-04-05T17:39:49.800Z"
   },
   {
    "duration": 216,
    "start_time": "2022-04-05T17:39:50.000Z"
   },
   {
    "duration": 183,
    "start_time": "2022-04-05T17:45:47.628Z"
   },
   {
    "duration": 9,
    "start_time": "2022-04-05T17:48:00.465Z"
   },
   {
    "duration": 197,
    "start_time": "2022-04-05T17:48:25.148Z"
   },
   {
    "duration": 193,
    "start_time": "2022-04-05T17:50:27.900Z"
   },
   {
    "duration": 272,
    "start_time": "2022-04-05T17:51:20.112Z"
   },
   {
    "duration": 183,
    "start_time": "2022-04-05T17:56:17.663Z"
   },
   {
    "duration": 170,
    "start_time": "2022-04-05T17:56:49.615Z"
   },
   {
    "duration": 105,
    "start_time": "2022-04-05T17:57:17.902Z"
   },
   {
    "duration": 180,
    "start_time": "2022-04-05T17:57:24.542Z"
   },
   {
    "duration": 170,
    "start_time": "2022-04-05T17:57:31.351Z"
   },
   {
    "duration": 179,
    "start_time": "2022-04-05T17:58:54.363Z"
   },
   {
    "duration": 182,
    "start_time": "2022-04-05T18:03:00.165Z"
   },
   {
    "duration": 196,
    "start_time": "2022-04-05T18:03:16.855Z"
   },
   {
    "duration": 206,
    "start_time": "2022-04-05T18:04:04.295Z"
   },
   {
    "duration": 189,
    "start_time": "2022-04-05T18:04:15.138Z"
   },
   {
    "duration": 220,
    "start_time": "2022-04-05T18:05:02.736Z"
   },
   {
    "duration": 134,
    "start_time": "2022-04-05T18:05:12.073Z"
   },
   {
    "duration": 382,
    "start_time": "2022-04-05T18:05:16.531Z"
   },
   {
    "duration": 203,
    "start_time": "2022-04-05T18:05:30.434Z"
   },
   {
    "duration": 211,
    "start_time": "2022-04-05T18:06:04.317Z"
   },
   {
    "duration": 194,
    "start_time": "2022-04-05T18:06:14.671Z"
   },
   {
    "duration": 165,
    "start_time": "2022-04-05T18:07:15.263Z"
   },
   {
    "duration": 185,
    "start_time": "2022-04-05T18:09:19.705Z"
   },
   {
    "duration": 198,
    "start_time": "2022-04-05T18:10:31.837Z"
   },
   {
    "duration": 194,
    "start_time": "2022-04-05T18:10:43.412Z"
   },
   {
    "duration": 177,
    "start_time": "2022-04-05T18:10:47.921Z"
   },
   {
    "duration": 206,
    "start_time": "2022-04-05T18:11:22.178Z"
   },
   {
    "duration": 208,
    "start_time": "2022-04-05T18:12:48.536Z"
   },
   {
    "duration": 277,
    "start_time": "2022-04-05T18:12:59.427Z"
   },
   {
    "duration": 163,
    "start_time": "2022-04-05T18:13:47.405Z"
   },
   {
    "duration": 1421,
    "start_time": "2022-04-06T12:57:31.891Z"
   },
   {
    "duration": 549,
    "start_time": "2022-04-06T12:57:33.314Z"
   },
   {
    "duration": 72,
    "start_time": "2022-04-06T12:57:33.865Z"
   },
   {
    "duration": 36,
    "start_time": "2022-04-06T12:57:33.939Z"
   },
   {
    "duration": 7,
    "start_time": "2022-04-06T12:57:33.976Z"
   },
   {
    "duration": 45,
    "start_time": "2022-04-06T12:57:33.985Z"
   },
   {
    "duration": 16,
    "start_time": "2022-04-06T12:57:34.031Z"
   },
   {
    "duration": 12,
    "start_time": "2022-04-06T12:57:34.049Z"
   },
   {
    "duration": 13,
    "start_time": "2022-04-06T12:57:34.062Z"
   },
   {
    "duration": 7,
    "start_time": "2022-04-06T12:57:34.077Z"
   },
   {
    "duration": 45,
    "start_time": "2022-04-06T12:57:34.086Z"
   },
   {
    "duration": 159,
    "start_time": "2022-04-06T12:57:34.132Z"
   },
   {
    "duration": 173,
    "start_time": "2022-04-06T12:57:34.292Z"
   },
   {
    "duration": 163,
    "start_time": "2022-04-06T12:57:34.467Z"
   },
   {
    "duration": 168,
    "start_time": "2022-04-06T12:57:34.631Z"
   },
   {
    "duration": 142,
    "start_time": "2022-04-06T12:57:34.800Z"
   },
   {
    "duration": 167,
    "start_time": "2022-04-06T12:57:34.943Z"
   },
   {
    "duration": 248,
    "start_time": "2022-04-06T12:57:35.111Z"
   },
   {
    "duration": 175,
    "start_time": "2022-04-06T12:57:35.361Z"
   },
   {
    "duration": 170,
    "start_time": "2022-04-06T12:57:35.538Z"
   },
   {
    "duration": 148,
    "start_time": "2022-04-06T12:57:35.709Z"
   },
   {
    "duration": 154,
    "start_time": "2022-04-06T12:57:35.859Z"
   },
   {
    "duration": 150,
    "start_time": "2022-04-06T12:57:36.014Z"
   },
   {
    "duration": 179,
    "start_time": "2022-04-06T12:57:36.165Z"
   },
   {
    "duration": 161,
    "start_time": "2022-04-06T12:57:36.346Z"
   },
   {
    "duration": 145,
    "start_time": "2022-04-06T12:57:36.509Z"
   },
   {
    "duration": 175,
    "start_time": "2022-04-06T13:04:03.696Z"
   },
   {
    "duration": 148,
    "start_time": "2022-04-06T13:04:31.783Z"
   },
   {
    "duration": 256,
    "start_time": "2022-04-06T13:04:41.551Z"
   },
   {
    "duration": 154,
    "start_time": "2022-04-06T13:04:51.363Z"
   },
   {
    "duration": 148,
    "start_time": "2022-04-06T13:05:39.446Z"
   },
   {
    "duration": 221,
    "start_time": "2022-04-06T13:05:53.319Z"
   },
   {
    "duration": 282,
    "start_time": "2022-04-06T13:05:57.819Z"
   },
   {
    "duration": 198,
    "start_time": "2022-04-06T13:06:04.304Z"
   },
   {
    "duration": 247,
    "start_time": "2022-04-06T13:06:12.894Z"
   },
   {
    "duration": 1292,
    "start_time": "2022-04-06T13:14:56.519Z"
   },
   {
    "duration": 569,
    "start_time": "2022-04-06T13:14:57.813Z"
   },
   {
    "duration": 40,
    "start_time": "2022-04-06T13:14:58.383Z"
   },
   {
    "duration": 29,
    "start_time": "2022-04-06T13:14:58.429Z"
   },
   {
    "duration": 6,
    "start_time": "2022-04-06T13:14:58.459Z"
   },
   {
    "duration": 25,
    "start_time": "2022-04-06T13:14:58.467Z"
   },
   {
    "duration": 24,
    "start_time": "2022-04-06T13:14:58.493Z"
   },
   {
    "duration": 23,
    "start_time": "2022-04-06T13:14:58.519Z"
   },
   {
    "duration": 33,
    "start_time": "2022-04-06T13:14:58.543Z"
   },
   {
    "duration": 21,
    "start_time": "2022-04-06T13:14:58.578Z"
   },
   {
    "duration": 47,
    "start_time": "2022-04-06T13:14:58.601Z"
   },
   {
    "duration": 253,
    "start_time": "2022-04-06T13:14:58.650Z"
   },
   {
    "duration": 193,
    "start_time": "2022-04-06T13:14:58.905Z"
   },
   {
    "duration": 184,
    "start_time": "2022-04-06T13:14:59.099Z"
   },
   {
    "duration": 256,
    "start_time": "2022-04-06T13:14:59.286Z"
   },
   {
    "duration": 222,
    "start_time": "2022-04-06T13:14:59.544Z"
   },
   {
    "duration": 267,
    "start_time": "2022-04-06T13:14:59.768Z"
   },
   {
    "duration": 246,
    "start_time": "2022-04-06T13:15:00.037Z"
   },
   {
    "duration": 245,
    "start_time": "2022-04-06T13:15:00.285Z"
   },
   {
    "duration": 174,
    "start_time": "2022-04-06T13:15:00.531Z"
   },
   {
    "duration": 157,
    "start_time": "2022-04-06T13:15:00.706Z"
   },
   {
    "duration": 164,
    "start_time": "2022-04-06T13:15:00.865Z"
   },
   {
    "duration": 153,
    "start_time": "2022-04-06T13:15:01.031Z"
   },
   {
    "duration": 173,
    "start_time": "2022-04-06T13:15:01.186Z"
   },
   {
    "duration": 192,
    "start_time": "2022-04-06T13:15:01.361Z"
   },
   {
    "duration": 167,
    "start_time": "2022-04-06T13:15:01.556Z"
   },
   {
    "duration": 165,
    "start_time": "2022-04-06T13:15:01.725Z"
   },
   {
    "duration": 173,
    "start_time": "2022-04-06T13:15:01.893Z"
   },
   {
    "duration": 5,
    "start_time": "2022-04-06T13:15:02.067Z"
   },
   {
    "duration": 4,
    "start_time": "2022-04-06T13:19:45.133Z"
   },
   {
    "duration": 4,
    "start_time": "2022-04-06T13:19:55.284Z"
   },
   {
    "duration": 5,
    "start_time": "2022-04-06T13:20:18.036Z"
   },
   {
    "duration": 1343,
    "start_time": "2022-04-06T13:23:31.650Z"
   },
   {
    "duration": 571,
    "start_time": "2022-04-06T13:23:32.995Z"
   },
   {
    "duration": 38,
    "start_time": "2022-04-06T13:23:33.570Z"
   },
   {
    "duration": 40,
    "start_time": "2022-04-06T13:23:33.610Z"
   },
   {
    "duration": 7,
    "start_time": "2022-04-06T13:23:33.652Z"
   },
   {
    "duration": 3,
    "start_time": "2022-04-06T13:23:33.661Z"
   },
   {
    "duration": 17,
    "start_time": "2022-04-06T13:23:33.665Z"
   },
   {
    "duration": 12,
    "start_time": "2022-04-06T13:23:33.683Z"
   },
   {
    "duration": 10,
    "start_time": "2022-04-06T13:23:33.697Z"
   },
   {
    "duration": 8,
    "start_time": "2022-04-06T13:23:33.708Z"
   },
   {
    "duration": 17,
    "start_time": "2022-04-06T13:23:33.717Z"
   },
   {
    "duration": 169,
    "start_time": "2022-04-06T13:23:33.736Z"
   },
   {
    "duration": 172,
    "start_time": "2022-04-06T13:23:33.906Z"
   },
   {
    "duration": 213,
    "start_time": "2022-04-06T13:23:34.080Z"
   },
   {
    "duration": 197,
    "start_time": "2022-04-06T13:23:34.294Z"
   },
   {
    "duration": 145,
    "start_time": "2022-04-06T13:23:34.492Z"
   },
   {
    "duration": 160,
    "start_time": "2022-04-06T13:23:34.639Z"
   },
   {
    "duration": 164,
    "start_time": "2022-04-06T13:23:34.801Z"
   },
   {
    "duration": 241,
    "start_time": "2022-04-06T13:23:34.966Z"
   },
   {
    "duration": 171,
    "start_time": "2022-04-06T13:23:35.209Z"
   },
   {
    "duration": 150,
    "start_time": "2022-04-06T13:23:35.382Z"
   },
   {
    "duration": 154,
    "start_time": "2022-04-06T13:23:35.534Z"
   },
   {
    "duration": 155,
    "start_time": "2022-04-06T13:23:35.690Z"
   },
   {
    "duration": 173,
    "start_time": "2022-04-06T13:23:35.846Z"
   },
   {
    "duration": 155,
    "start_time": "2022-04-06T13:23:36.021Z"
   },
   {
    "duration": 146,
    "start_time": "2022-04-06T13:23:36.178Z"
   },
   {
    "duration": 153,
    "start_time": "2022-04-06T13:23:36.331Z"
   },
   {
    "duration": 171,
    "start_time": "2022-04-06T13:23:36.486Z"
   },
   {
    "duration": 6,
    "start_time": "2022-04-06T13:23:36.658Z"
   },
   {
    "duration": 4,
    "start_time": "2022-04-06T13:24:37.586Z"
   },
   {
    "duration": 4,
    "start_time": "2022-04-06T13:24:55.203Z"
   },
   {
    "duration": 4,
    "start_time": "2022-04-06T13:26:53.501Z"
   },
   {
    "duration": 92,
    "start_time": "2022-04-06T13:28:12.369Z"
   },
   {
    "duration": 3,
    "start_time": "2022-04-06T13:29:50.280Z"
   },
   {
    "duration": 4,
    "start_time": "2022-04-06T13:30:05.681Z"
   },
   {
    "duration": 4,
    "start_time": "2022-04-06T13:30:52.777Z"
   },
   {
    "duration": 1312,
    "start_time": "2022-04-06T13:31:01.510Z"
   },
   {
    "duration": 550,
    "start_time": "2022-04-06T13:31:02.824Z"
   },
   {
    "duration": 61,
    "start_time": "2022-04-06T13:31:03.376Z"
   },
   {
    "duration": 41,
    "start_time": "2022-04-06T13:31:03.440Z"
   },
   {
    "duration": 5,
    "start_time": "2022-04-06T13:31:03.483Z"
   },
   {
    "duration": 4,
    "start_time": "2022-04-06T13:31:03.490Z"
   },
   {
    "duration": 38,
    "start_time": "2022-04-06T13:31:03.495Z"
   },
   {
    "duration": 13,
    "start_time": "2022-04-06T13:31:03.534Z"
   },
   {
    "duration": 14,
    "start_time": "2022-04-06T13:31:03.549Z"
   },
   {
    "duration": 9,
    "start_time": "2022-04-06T13:31:03.566Z"
   },
   {
    "duration": 13,
    "start_time": "2022-04-06T13:31:03.577Z"
   },
   {
    "duration": 189,
    "start_time": "2022-04-06T13:31:03.591Z"
   },
   {
    "duration": 169,
    "start_time": "2022-04-06T13:31:03.781Z"
   },
   {
    "duration": 158,
    "start_time": "2022-04-06T13:31:03.952Z"
   },
   {
    "duration": 179,
    "start_time": "2022-04-06T13:31:04.111Z"
   },
   {
    "duration": 140,
    "start_time": "2022-04-06T13:31:04.291Z"
   },
   {
    "duration": 159,
    "start_time": "2022-04-06T13:31:04.433Z"
   },
   {
    "duration": 167,
    "start_time": "2022-04-06T13:31:04.593Z"
   },
   {
    "duration": 338,
    "start_time": "2022-04-06T13:31:04.762Z"
   },
   {
    "duration": 257,
    "start_time": "2022-04-06T13:31:05.102Z"
   },
   {
    "duration": 215,
    "start_time": "2022-04-06T13:31:05.360Z"
   },
   {
    "duration": 233,
    "start_time": "2022-04-06T13:31:05.577Z"
   },
   {
    "duration": 223,
    "start_time": "2022-04-06T13:31:05.811Z"
   },
   {
    "duration": 254,
    "start_time": "2022-04-06T13:31:06.036Z"
   },
   {
    "duration": 245,
    "start_time": "2022-04-06T13:31:06.292Z"
   },
   {
    "duration": 223,
    "start_time": "2022-04-06T13:31:06.539Z"
   },
   {
    "duration": 240,
    "start_time": "2022-04-06T13:31:06.764Z"
   },
   {
    "duration": 253,
    "start_time": "2022-04-06T13:31:07.007Z"
   },
   {
    "duration": 5,
    "start_time": "2022-04-06T13:31:07.262Z"
   },
   {
    "duration": 6,
    "start_time": "2022-04-06T13:31:07.269Z"
   },
   {
    "duration": 10,
    "start_time": "2022-04-06T13:31:07.276Z"
   },
   {
    "duration": 6,
    "start_time": "2022-04-06T13:31:07.288Z"
   },
   {
    "duration": 306,
    "start_time": "2022-04-06T13:34:01.794Z"
   },
   {
    "duration": 263,
    "start_time": "2022-04-06T13:34:05.146Z"
   },
   {
    "duration": 104,
    "start_time": "2022-04-06T13:42:12.421Z"
   },
   {
    "duration": 98,
    "start_time": "2022-04-06T13:42:31.262Z"
   },
   {
    "duration": 131,
    "start_time": "2022-04-06T13:44:57.893Z"
   },
   {
    "duration": 102,
    "start_time": "2022-04-06T13:45:04.935Z"
   },
   {
    "duration": 92,
    "start_time": "2022-04-06T13:45:12.776Z"
   },
   {
    "duration": 106,
    "start_time": "2022-04-06T13:45:15.370Z"
   },
   {
    "duration": 109,
    "start_time": "2022-04-06T13:47:57.979Z"
   },
   {
    "duration": 9,
    "start_time": "2022-04-06T13:49:17.766Z"
   },
   {
    "duration": 10,
    "start_time": "2022-04-06T13:52:08.303Z"
   },
   {
    "duration": 125,
    "start_time": "2022-04-06T13:53:20.925Z"
   },
   {
    "duration": 3,
    "start_time": "2022-04-06T13:53:24.894Z"
   },
   {
    "duration": 6,
    "start_time": "2022-04-06T13:53:31.781Z"
   },
   {
    "duration": 5,
    "start_time": "2022-04-06T13:57:28.386Z"
   },
   {
    "duration": 10,
    "start_time": "2022-04-06T13:57:34.563Z"
   },
   {
    "duration": 186,
    "start_time": "2022-04-06T13:58:15.196Z"
   },
   {
    "duration": 168,
    "start_time": "2022-04-06T13:58:50.311Z"
   },
   {
    "duration": 183,
    "start_time": "2022-04-06T13:59:02.705Z"
   },
   {
    "duration": 179,
    "start_time": "2022-04-06T13:59:38.319Z"
   },
   {
    "duration": 130,
    "start_time": "2022-04-06T14:03:48.000Z"
   },
   {
    "duration": 300,
    "start_time": "2022-04-06T14:04:19.570Z"
   },
   {
    "duration": 210,
    "start_time": "2022-04-06T14:04:22.956Z"
   },
   {
    "duration": 161,
    "start_time": "2022-04-06T14:04:35.336Z"
   },
   {
    "duration": 267,
    "start_time": "2022-04-06T14:04:43.810Z"
   },
   {
    "duration": 137,
    "start_time": "2022-04-06T14:05:00.261Z"
   },
   {
    "duration": 16,
    "start_time": "2022-04-06T14:22:36.601Z"
   },
   {
    "duration": 4,
    "start_time": "2022-04-06T14:29:24.187Z"
   },
   {
    "duration": 7,
    "start_time": "2022-04-06T14:31:24.923Z"
   },
   {
    "duration": 13,
    "start_time": "2022-04-06T14:31:52.277Z"
   },
   {
    "duration": 20,
    "start_time": "2022-04-06T14:31:57.348Z"
   },
   {
    "duration": 9,
    "start_time": "2022-04-06T14:33:32.510Z"
   },
   {
    "duration": 10,
    "start_time": "2022-04-06T14:34:28.341Z"
   },
   {
    "duration": 24,
    "start_time": "2022-04-06T14:34:46.518Z"
   },
   {
    "duration": 141,
    "start_time": "2022-04-06T14:37:02.321Z"
   },
   {
    "duration": 11,
    "start_time": "2022-04-06T14:38:34.892Z"
   },
   {
    "duration": 1274,
    "start_time": "2022-04-06T14:38:48.106Z"
   },
   {
    "duration": 598,
    "start_time": "2022-04-06T14:38:49.381Z"
   },
   {
    "duration": 40,
    "start_time": "2022-04-06T14:38:49.980Z"
   },
   {
    "duration": 31,
    "start_time": "2022-04-06T14:38:50.029Z"
   },
   {
    "duration": 6,
    "start_time": "2022-04-06T14:38:50.061Z"
   },
   {
    "duration": 4,
    "start_time": "2022-04-06T14:38:50.069Z"
   },
   {
    "duration": 18,
    "start_time": "2022-04-06T14:38:50.074Z"
   },
   {
    "duration": 37,
    "start_time": "2022-04-06T14:38:50.094Z"
   },
   {
    "duration": 13,
    "start_time": "2022-04-06T14:38:50.133Z"
   },
   {
    "duration": 7,
    "start_time": "2022-04-06T14:38:50.149Z"
   },
   {
    "duration": 15,
    "start_time": "2022-04-06T14:38:50.158Z"
   },
   {
    "duration": 183,
    "start_time": "2022-04-06T14:38:50.175Z"
   },
   {
    "duration": 187,
    "start_time": "2022-04-06T14:38:50.359Z"
   },
   {
    "duration": 165,
    "start_time": "2022-04-06T14:38:50.547Z"
   },
   {
    "duration": 173,
    "start_time": "2022-04-06T14:38:50.714Z"
   },
   {
    "duration": 142,
    "start_time": "2022-04-06T14:38:50.889Z"
   },
   {
    "duration": 164,
    "start_time": "2022-04-06T14:38:51.033Z"
   },
   {
    "duration": 170,
    "start_time": "2022-04-06T14:38:51.198Z"
   },
   {
    "duration": 250,
    "start_time": "2022-04-06T14:38:51.370Z"
   },
   {
    "duration": 174,
    "start_time": "2022-04-06T14:38:51.621Z"
   },
   {
    "duration": 146,
    "start_time": "2022-04-06T14:38:51.796Z"
   },
   {
    "duration": 156,
    "start_time": "2022-04-06T14:38:51.944Z"
   },
   {
    "duration": 158,
    "start_time": "2022-04-06T14:38:52.102Z"
   },
   {
    "duration": 181,
    "start_time": "2022-04-06T14:38:52.262Z"
   },
   {
    "duration": 169,
    "start_time": "2022-04-06T14:38:52.444Z"
   },
   {
    "duration": 142,
    "start_time": "2022-04-06T14:38:52.615Z"
   },
   {
    "duration": 199,
    "start_time": "2022-04-06T14:38:52.758Z"
   },
   {
    "duration": 194,
    "start_time": "2022-04-06T14:38:52.960Z"
   },
   {
    "duration": 4,
    "start_time": "2022-04-06T14:38:53.156Z"
   },
   {
    "duration": 8,
    "start_time": "2022-04-06T14:38:53.161Z"
   },
   {
    "duration": 11,
    "start_time": "2022-04-06T14:38:53.170Z"
   },
   {
    "duration": 156,
    "start_time": "2022-04-06T14:38:53.182Z"
   },
   {
    "duration": 134,
    "start_time": "2022-04-06T14:38:53.340Z"
   },
   {
    "duration": 26,
    "start_time": "2022-04-06T14:38:53.476Z"
   },
   {
    "duration": 185,
    "start_time": "2022-04-06T14:38:53.503Z"
   },
   {
    "duration": 1347,
    "start_time": "2022-04-06T15:30:44.812Z"
   },
   {
    "duration": 629,
    "start_time": "2022-04-06T15:30:46.161Z"
   },
   {
    "duration": 52,
    "start_time": "2022-04-06T15:30:46.792Z"
   },
   {
    "duration": 33,
    "start_time": "2022-04-06T15:30:46.847Z"
   },
   {
    "duration": 7,
    "start_time": "2022-04-06T15:30:46.882Z"
   },
   {
    "duration": 5,
    "start_time": "2022-04-06T15:30:46.890Z"
   },
   {
    "duration": 52,
    "start_time": "2022-04-06T15:30:46.896Z"
   },
   {
    "duration": 13,
    "start_time": "2022-04-06T15:30:46.950Z"
   },
   {
    "duration": 16,
    "start_time": "2022-04-06T15:30:46.964Z"
   },
   {
    "duration": 10,
    "start_time": "2022-04-06T15:30:46.983Z"
   },
   {
    "duration": 41,
    "start_time": "2022-04-06T15:30:46.995Z"
   },
   {
    "duration": 171,
    "start_time": "2022-04-06T15:30:47.038Z"
   },
   {
    "duration": 179,
    "start_time": "2022-04-06T15:30:47.211Z"
   },
   {
    "duration": 175,
    "start_time": "2022-04-06T15:30:47.391Z"
   },
   {
    "duration": 194,
    "start_time": "2022-04-06T15:30:47.567Z"
   },
   {
    "duration": 157,
    "start_time": "2022-04-06T15:30:47.762Z"
   },
   {
    "duration": 179,
    "start_time": "2022-04-06T15:30:47.921Z"
   },
   {
    "duration": 171,
    "start_time": "2022-04-06T15:30:48.101Z"
   },
   {
    "duration": 257,
    "start_time": "2022-04-06T15:30:48.273Z"
   },
   {
    "duration": 189,
    "start_time": "2022-04-06T15:30:48.531Z"
   },
   {
    "duration": 154,
    "start_time": "2022-04-06T15:30:48.721Z"
   },
   {
    "duration": 161,
    "start_time": "2022-04-06T15:30:48.876Z"
   },
   {
    "duration": 154,
    "start_time": "2022-04-06T15:30:49.039Z"
   },
   {
    "duration": 181,
    "start_time": "2022-04-06T15:30:49.194Z"
   },
   {
    "duration": 166,
    "start_time": "2022-04-06T15:30:49.376Z"
   },
   {
    "duration": 149,
    "start_time": "2022-04-06T15:30:49.544Z"
   },
   {
    "duration": 219,
    "start_time": "2022-04-06T15:30:49.695Z"
   },
   {
    "duration": 213,
    "start_time": "2022-04-06T15:30:49.917Z"
   },
   {
    "duration": 5,
    "start_time": "2022-04-06T15:30:50.131Z"
   },
   {
    "duration": 5,
    "start_time": "2022-04-06T15:30:50.137Z"
   },
   {
    "duration": 7,
    "start_time": "2022-04-06T15:30:50.143Z"
   },
   {
    "duration": 160,
    "start_time": "2022-04-06T15:30:50.151Z"
   },
   {
    "duration": 121,
    "start_time": "2022-04-06T15:30:50.313Z"
   },
   {
    "duration": 36,
    "start_time": "2022-04-06T15:30:50.436Z"
   },
   {
    "duration": 281,
    "start_time": "2022-04-06T15:30:50.474Z"
   },
   {
    "duration": 202,
    "start_time": "2022-04-06T15:33:25.730Z"
   },
   {
    "duration": 530,
    "start_time": "2022-04-06T15:36:57.638Z"
   },
   {
    "duration": 513,
    "start_time": "2022-04-06T15:37:12.246Z"
   },
   {
    "duration": 535,
    "start_time": "2022-04-06T15:37:38.012Z"
   },
   {
    "duration": 497,
    "start_time": "2022-04-06T15:37:49.406Z"
   },
   {
    "duration": 346,
    "start_time": "2022-04-06T15:38:03.503Z"
   },
   {
    "duration": 426,
    "start_time": "2022-04-06T15:38:28.381Z"
   },
   {
    "duration": 397,
    "start_time": "2022-04-06T15:38:35.388Z"
   },
   {
    "duration": 585,
    "start_time": "2022-04-06T15:46:19.971Z"
   },
   {
    "duration": 646,
    "start_time": "2022-04-06T15:47:03.296Z"
   },
   {
    "duration": 31,
    "start_time": "2022-04-06T15:58:09.811Z"
   },
   {
    "duration": 178,
    "start_time": "2022-04-06T15:58:30.307Z"
   },
   {
    "duration": 243,
    "start_time": "2022-04-06T15:59:05.881Z"
   },
   {
    "duration": 189,
    "start_time": "2022-04-06T15:59:25.518Z"
   },
   {
    "duration": 167,
    "start_time": "2022-04-06T16:02:15.509Z"
   },
   {
    "duration": 3,
    "start_time": "2022-04-06T16:03:14.854Z"
   },
   {
    "duration": 129,
    "start_time": "2022-04-06T16:04:00.570Z"
   },
   {
    "duration": 290,
    "start_time": "2022-04-06T16:05:15.682Z"
   },
   {
    "duration": 1262,
    "start_time": "2022-04-06T16:05:24.960Z"
   },
   {
    "duration": 597,
    "start_time": "2022-04-06T16:05:26.224Z"
   },
   {
    "duration": 38,
    "start_time": "2022-04-06T16:05:26.823Z"
   },
   {
    "duration": 30,
    "start_time": "2022-04-06T16:05:26.863Z"
   },
   {
    "duration": 6,
    "start_time": "2022-04-06T16:05:26.894Z"
   },
   {
    "duration": 28,
    "start_time": "2022-04-06T16:05:26.901Z"
   },
   {
    "duration": 16,
    "start_time": "2022-04-06T16:05:26.931Z"
   },
   {
    "duration": 12,
    "start_time": "2022-04-06T16:05:26.949Z"
   },
   {
    "duration": 12,
    "start_time": "2022-04-06T16:05:26.962Z"
   },
   {
    "duration": 9,
    "start_time": "2022-04-06T16:05:26.976Z"
   },
   {
    "duration": 44,
    "start_time": "2022-04-06T16:05:26.986Z"
   },
   {
    "duration": 171,
    "start_time": "2022-04-06T16:05:27.032Z"
   },
   {
    "duration": 173,
    "start_time": "2022-04-06T16:05:27.204Z"
   },
   {
    "duration": 175,
    "start_time": "2022-04-06T16:05:27.378Z"
   },
   {
    "duration": 177,
    "start_time": "2022-04-06T16:05:27.555Z"
   },
   {
    "duration": 142,
    "start_time": "2022-04-06T16:05:27.733Z"
   },
   {
    "duration": 173,
    "start_time": "2022-04-06T16:05:27.876Z"
   },
   {
    "duration": 172,
    "start_time": "2022-04-06T16:05:28.051Z"
   },
   {
    "duration": 247,
    "start_time": "2022-04-06T16:05:28.225Z"
   },
   {
    "duration": 171,
    "start_time": "2022-04-06T16:05:28.473Z"
   },
   {
    "duration": 155,
    "start_time": "2022-04-06T16:05:28.646Z"
   },
   {
    "duration": 169,
    "start_time": "2022-04-06T16:05:28.803Z"
   },
   {
    "duration": 164,
    "start_time": "2022-04-06T16:05:28.973Z"
   },
   {
    "duration": 186,
    "start_time": "2022-04-06T16:05:29.139Z"
   },
   {
    "duration": 163,
    "start_time": "2022-04-06T16:05:29.330Z"
   },
   {
    "duration": 146,
    "start_time": "2022-04-06T16:05:29.494Z"
   },
   {
    "duration": 364,
    "start_time": "2022-04-06T16:05:29.642Z"
   },
   {
    "duration": 24,
    "start_time": "2022-04-06T16:05:30.009Z"
   },
   {
    "duration": 32,
    "start_time": "2022-04-06T16:05:30.035Z"
   },
   {
    "duration": 184,
    "start_time": "2022-04-06T16:05:30.068Z"
   },
   {
    "duration": 250,
    "start_time": "2022-04-06T16:05:30.254Z"
   },
   {
    "duration": 152,
    "start_time": "2022-04-06T16:05:30.506Z"
   },
   {
    "duration": 1236,
    "start_time": "2022-04-06T16:05:48.353Z"
   },
   {
    "duration": 605,
    "start_time": "2022-04-06T16:05:49.590Z"
   },
   {
    "duration": 39,
    "start_time": "2022-04-06T16:05:50.197Z"
   },
   {
    "duration": 31,
    "start_time": "2022-04-06T16:05:50.238Z"
   },
   {
    "duration": 7,
    "start_time": "2022-04-06T16:05:50.270Z"
   },
   {
    "duration": 14,
    "start_time": "2022-04-06T16:05:50.278Z"
   },
   {
    "duration": 38,
    "start_time": "2022-04-06T16:05:50.294Z"
   },
   {
    "duration": 14,
    "start_time": "2022-04-06T16:05:50.334Z"
   },
   {
    "duration": 14,
    "start_time": "2022-04-06T16:05:50.349Z"
   },
   {
    "duration": 12,
    "start_time": "2022-04-06T16:05:50.365Z"
   },
   {
    "duration": 13,
    "start_time": "2022-04-06T16:05:50.379Z"
   },
   {
    "duration": 191,
    "start_time": "2022-04-06T16:05:50.394Z"
   },
   {
    "duration": 179,
    "start_time": "2022-04-06T16:05:50.586Z"
   },
   {
    "duration": 170,
    "start_time": "2022-04-06T16:05:50.767Z"
   },
   {
    "duration": 175,
    "start_time": "2022-04-06T16:05:50.939Z"
   },
   {
    "duration": 149,
    "start_time": "2022-04-06T16:05:51.115Z"
   },
   {
    "duration": 166,
    "start_time": "2022-04-06T16:05:51.266Z"
   },
   {
    "duration": 175,
    "start_time": "2022-04-06T16:05:51.434Z"
   },
   {
    "duration": 241,
    "start_time": "2022-04-06T16:05:51.610Z"
   },
   {
    "duration": 171,
    "start_time": "2022-04-06T16:05:51.852Z"
   },
   {
    "duration": 144,
    "start_time": "2022-04-06T16:05:52.028Z"
   },
   {
    "duration": 163,
    "start_time": "2022-04-06T16:05:52.174Z"
   },
   {
    "duration": 158,
    "start_time": "2022-04-06T16:05:52.339Z"
   },
   {
    "duration": 173,
    "start_time": "2022-04-06T16:05:52.499Z"
   },
   {
    "duration": 156,
    "start_time": "2022-04-06T16:05:52.674Z"
   },
   {
    "duration": 136,
    "start_time": "2022-04-06T16:05:52.831Z"
   },
   {
    "duration": 344,
    "start_time": "2022-04-06T16:05:52.968Z"
   },
   {
    "duration": 19,
    "start_time": "2022-04-06T16:05:53.315Z"
   },
   {
    "duration": 30,
    "start_time": "2022-04-06T16:05:53.336Z"
   },
   {
    "duration": 182,
    "start_time": "2022-04-06T16:05:53.367Z"
   },
   {
    "duration": 234,
    "start_time": "2022-04-06T16:05:53.551Z"
   },
   {
    "duration": 142,
    "start_time": "2022-04-06T16:05:53.786Z"
   },
   {
    "duration": 163,
    "start_time": "2022-04-06T16:06:49.757Z"
   },
   {
    "duration": 439,
    "start_time": "2022-04-06T16:07:52.876Z"
   },
   {
    "duration": 525,
    "start_time": "2022-04-06T16:08:10.756Z"
   },
   {
    "duration": 441,
    "start_time": "2022-04-06T16:08:13.198Z"
   },
   {
    "duration": 1236,
    "start_time": "2022-04-06T16:08:24.630Z"
   },
   {
    "duration": 601,
    "start_time": "2022-04-06T16:08:25.867Z"
   },
   {
    "duration": 40,
    "start_time": "2022-04-06T16:08:26.469Z"
   },
   {
    "duration": 43,
    "start_time": "2022-04-06T16:08:26.510Z"
   },
   {
    "duration": 6,
    "start_time": "2022-04-06T16:08:26.555Z"
   },
   {
    "duration": 6,
    "start_time": "2022-04-06T16:08:26.563Z"
   },
   {
    "duration": 19,
    "start_time": "2022-04-06T16:08:26.570Z"
   },
   {
    "duration": 15,
    "start_time": "2022-04-06T16:08:26.590Z"
   },
   {
    "duration": 27,
    "start_time": "2022-04-06T16:08:26.606Z"
   },
   {
    "duration": 8,
    "start_time": "2022-04-06T16:08:26.635Z"
   },
   {
    "duration": 12,
    "start_time": "2022-04-06T16:08:26.644Z"
   },
   {
    "duration": 182,
    "start_time": "2022-04-06T16:08:26.658Z"
   },
   {
    "duration": 174,
    "start_time": "2022-04-06T16:08:26.842Z"
   },
   {
    "duration": 167,
    "start_time": "2022-04-06T16:08:27.018Z"
   },
   {
    "duration": 190,
    "start_time": "2022-04-06T16:08:27.186Z"
   },
   {
    "duration": 147,
    "start_time": "2022-04-06T16:08:27.378Z"
   },
   {
    "duration": 173,
    "start_time": "2022-04-06T16:08:27.526Z"
   },
   {
    "duration": 169,
    "start_time": "2022-04-06T16:08:27.700Z"
   },
   {
    "duration": 268,
    "start_time": "2022-04-06T16:08:27.871Z"
   },
   {
    "duration": 194,
    "start_time": "2022-04-06T16:08:28.140Z"
   },
   {
    "duration": 147,
    "start_time": "2022-04-06T16:08:28.336Z"
   },
   {
    "duration": 173,
    "start_time": "2022-04-06T16:08:28.484Z"
   },
   {
    "duration": 158,
    "start_time": "2022-04-06T16:08:28.659Z"
   },
   {
    "duration": 185,
    "start_time": "2022-04-06T16:08:28.818Z"
   },
   {
    "duration": 169,
    "start_time": "2022-04-06T16:08:29.005Z"
   },
   {
    "duration": 156,
    "start_time": "2022-04-06T16:08:29.176Z"
   },
   {
    "duration": 366,
    "start_time": "2022-04-06T16:08:29.334Z"
   },
   {
    "duration": 27,
    "start_time": "2022-04-06T16:08:29.703Z"
   },
   {
    "duration": 33,
    "start_time": "2022-04-06T16:08:29.732Z"
   },
   {
    "duration": 186,
    "start_time": "2022-04-06T16:08:29.766Z"
   },
   {
    "duration": 276,
    "start_time": "2022-04-06T16:08:29.954Z"
   },
   {
    "duration": 157,
    "start_time": "2022-04-06T16:08:30.232Z"
   },
   {
    "duration": 169,
    "start_time": "2022-04-06T16:08:30.391Z"
   },
   {
    "duration": 474,
    "start_time": "2022-04-06T16:08:30.562Z"
   },
   {
    "duration": 568,
    "start_time": "2022-04-06T16:09:31.442Z"
   },
   {
    "duration": 1306,
    "start_time": "2022-04-06T16:10:25.822Z"
   },
   {
    "duration": 626,
    "start_time": "2022-04-06T16:10:27.130Z"
   },
   {
    "duration": 41,
    "start_time": "2022-04-06T16:10:27.758Z"
   },
   {
    "duration": 46,
    "start_time": "2022-04-06T16:10:27.802Z"
   },
   {
    "duration": 8,
    "start_time": "2022-04-06T16:10:27.850Z"
   },
   {
    "duration": 6,
    "start_time": "2022-04-06T16:10:27.859Z"
   },
   {
    "duration": 19,
    "start_time": "2022-04-06T16:10:27.866Z"
   },
   {
    "duration": 43,
    "start_time": "2022-04-06T16:10:27.887Z"
   },
   {
    "duration": 13,
    "start_time": "2022-04-06T16:10:27.931Z"
   },
   {
    "duration": 10,
    "start_time": "2022-04-06T16:10:27.947Z"
   },
   {
    "duration": 14,
    "start_time": "2022-04-06T16:10:27.959Z"
   },
   {
    "duration": 206,
    "start_time": "2022-04-06T16:10:27.975Z"
   },
   {
    "duration": 182,
    "start_time": "2022-04-06T16:10:28.183Z"
   },
   {
    "duration": 178,
    "start_time": "2022-04-06T16:10:28.367Z"
   },
   {
    "duration": 188,
    "start_time": "2022-04-06T16:10:28.547Z"
   },
   {
    "duration": 148,
    "start_time": "2022-04-06T16:10:28.737Z"
   },
   {
    "duration": 177,
    "start_time": "2022-04-06T16:10:28.887Z"
   },
   {
    "duration": 172,
    "start_time": "2022-04-06T16:10:29.065Z"
   },
   {
    "duration": 256,
    "start_time": "2022-04-06T16:10:29.239Z"
   },
   {
    "duration": 180,
    "start_time": "2022-04-06T16:10:29.497Z"
   },
   {
    "duration": 151,
    "start_time": "2022-04-06T16:10:29.679Z"
   },
   {
    "duration": 162,
    "start_time": "2022-04-06T16:10:29.832Z"
   },
   {
    "duration": 155,
    "start_time": "2022-04-06T16:10:29.995Z"
   },
   {
    "duration": 182,
    "start_time": "2022-04-06T16:10:30.152Z"
   },
   {
    "duration": 162,
    "start_time": "2022-04-06T16:10:30.335Z"
   },
   {
    "duration": 163,
    "start_time": "2022-04-06T16:10:30.498Z"
   },
   {
    "duration": 381,
    "start_time": "2022-04-06T16:10:30.662Z"
   },
   {
    "duration": 16,
    "start_time": "2022-04-06T16:10:31.047Z"
   },
   {
    "duration": 37,
    "start_time": "2022-04-06T16:10:31.065Z"
   },
   {
    "duration": 192,
    "start_time": "2022-04-06T16:10:31.104Z"
   },
   {
    "duration": 255,
    "start_time": "2022-04-06T16:10:31.298Z"
   },
   {
    "duration": 14,
    "start_time": "2022-04-06T16:10:31.554Z"
   },
   {
    "duration": 169,
    "start_time": "2022-04-06T16:10:31.570Z"
   },
   {
    "duration": 99,
    "start_time": "2022-04-06T16:10:31.741Z"
   },
   {
    "duration": 224,
    "start_time": "2022-04-06T16:11:26.258Z"
   },
   {
    "duration": 16,
    "start_time": "2022-04-06T16:12:14.787Z"
   },
   {
    "duration": 20,
    "start_time": "2022-04-06T16:12:33.461Z"
   },
   {
    "duration": 173,
    "start_time": "2022-04-06T16:13:13.798Z"
   },
   {
    "duration": 1237,
    "start_time": "2022-04-06T16:13:25.864Z"
   },
   {
    "duration": 609,
    "start_time": "2022-04-06T16:13:27.103Z"
   },
   {
    "duration": 43,
    "start_time": "2022-04-06T16:13:27.714Z"
   },
   {
    "duration": 30,
    "start_time": "2022-04-06T16:13:27.759Z"
   },
   {
    "duration": 5,
    "start_time": "2022-04-06T16:13:27.791Z"
   },
   {
    "duration": 3,
    "start_time": "2022-04-06T16:13:27.798Z"
   },
   {
    "duration": 39,
    "start_time": "2022-04-06T16:13:27.803Z"
   },
   {
    "duration": 12,
    "start_time": "2022-04-06T16:13:27.844Z"
   },
   {
    "duration": 13,
    "start_time": "2022-04-06T16:13:27.858Z"
   },
   {
    "duration": 8,
    "start_time": "2022-04-06T16:13:27.873Z"
   },
   {
    "duration": 13,
    "start_time": "2022-04-06T16:13:27.883Z"
   },
   {
    "duration": 201,
    "start_time": "2022-04-06T16:13:27.897Z"
   },
   {
    "duration": 188,
    "start_time": "2022-04-06T16:13:28.100Z"
   },
   {
    "duration": 171,
    "start_time": "2022-04-06T16:13:28.290Z"
   },
   {
    "duration": 191,
    "start_time": "2022-04-06T16:13:28.462Z"
   },
   {
    "duration": 153,
    "start_time": "2022-04-06T16:13:28.655Z"
   },
   {
    "duration": 176,
    "start_time": "2022-04-06T16:13:28.811Z"
   },
   {
    "duration": 177,
    "start_time": "2022-04-06T16:13:28.989Z"
   },
   {
    "duration": 258,
    "start_time": "2022-04-06T16:13:29.168Z"
   },
   {
    "duration": 183,
    "start_time": "2022-04-06T16:13:29.427Z"
   },
   {
    "duration": 155,
    "start_time": "2022-04-06T16:13:29.611Z"
   },
   {
    "duration": 172,
    "start_time": "2022-04-06T16:13:29.767Z"
   },
   {
    "duration": 162,
    "start_time": "2022-04-06T16:13:29.940Z"
   },
   {
    "duration": 181,
    "start_time": "2022-04-06T16:13:30.104Z"
   },
   {
    "duration": 164,
    "start_time": "2022-04-06T16:13:30.287Z"
   },
   {
    "duration": 145,
    "start_time": "2022-04-06T16:13:30.452Z"
   },
   {
    "duration": 364,
    "start_time": "2022-04-06T16:13:30.599Z"
   },
   {
    "duration": 16,
    "start_time": "2022-04-06T16:13:30.967Z"
   },
   {
    "duration": 50,
    "start_time": "2022-04-06T16:13:30.984Z"
   },
   {
    "duration": 183,
    "start_time": "2022-04-06T16:13:31.035Z"
   },
   {
    "duration": 246,
    "start_time": "2022-04-06T16:13:31.220Z"
   },
   {
    "duration": 20,
    "start_time": "2022-04-06T16:13:31.468Z"
   },
   {
    "duration": 175,
    "start_time": "2022-04-06T16:13:31.489Z"
   },
   {
    "duration": 149,
    "start_time": "2022-04-06T16:13:31.666Z"
   },
   {
    "duration": 570,
    "start_time": "2022-04-06T16:13:40.311Z"
   },
   {
    "duration": 1384,
    "start_time": "2022-04-06T16:14:03.044Z"
   },
   {
    "duration": 808,
    "start_time": "2022-04-06T16:14:04.430Z"
   },
   {
    "duration": 63,
    "start_time": "2022-04-06T16:14:05.240Z"
   },
   {
    "duration": 50,
    "start_time": "2022-04-06T16:14:05.306Z"
   },
   {
    "duration": 9,
    "start_time": "2022-04-06T16:14:05.358Z"
   },
   {
    "duration": 5,
    "start_time": "2022-04-06T16:14:05.369Z"
   },
   {
    "duration": 20,
    "start_time": "2022-04-06T16:14:05.376Z"
   },
   {
    "duration": 42,
    "start_time": "2022-04-06T16:14:05.397Z"
   },
   {
    "duration": 15,
    "start_time": "2022-04-06T16:14:05.442Z"
   },
   {
    "duration": 13,
    "start_time": "2022-04-06T16:14:05.461Z"
   },
   {
    "duration": 17,
    "start_time": "2022-04-06T16:14:05.476Z"
   },
   {
    "duration": 187,
    "start_time": "2022-04-06T16:14:05.495Z"
   },
   {
    "duration": 187,
    "start_time": "2022-04-06T16:14:05.683Z"
   },
   {
    "duration": 273,
    "start_time": "2022-04-06T16:14:05.872Z"
   },
   {
    "duration": 286,
    "start_time": "2022-04-06T16:14:06.146Z"
   },
   {
    "duration": 232,
    "start_time": "2022-04-06T16:14:06.434Z"
   },
   {
    "duration": 372,
    "start_time": "2022-04-06T16:14:06.668Z"
   },
   {
    "duration": 273,
    "start_time": "2022-04-06T16:14:07.042Z"
   },
   {
    "duration": 322,
    "start_time": "2022-04-06T16:14:07.317Z"
   },
   {
    "duration": 282,
    "start_time": "2022-04-06T16:14:07.641Z"
   },
   {
    "duration": 231,
    "start_time": "2022-04-06T16:14:07.930Z"
   },
   {
    "duration": 160,
    "start_time": "2022-04-06T16:14:08.162Z"
   },
   {
    "duration": 152,
    "start_time": "2022-04-06T16:14:08.324Z"
   },
   {
    "duration": 179,
    "start_time": "2022-04-06T16:14:08.477Z"
   },
   {
    "duration": 161,
    "start_time": "2022-04-06T16:14:08.657Z"
   },
   {
    "duration": 147,
    "start_time": "2022-04-06T16:14:08.819Z"
   },
   {
    "duration": 353,
    "start_time": "2022-04-06T16:14:08.968Z"
   },
   {
    "duration": 15,
    "start_time": "2022-04-06T16:14:09.324Z"
   },
   {
    "duration": 30,
    "start_time": "2022-04-06T16:14:09.341Z"
   },
   {
    "duration": 196,
    "start_time": "2022-04-06T16:14:09.372Z"
   },
   {
    "duration": 252,
    "start_time": "2022-04-06T16:14:09.569Z"
   },
   {
    "duration": 26,
    "start_time": "2022-04-06T16:14:09.822Z"
   },
   {
    "duration": 173,
    "start_time": "2022-04-06T16:14:09.850Z"
   },
   {
    "duration": 158,
    "start_time": "2022-04-06T16:14:10.029Z"
   },
   {
    "duration": 586,
    "start_time": "2022-04-06T16:14:37.579Z"
   },
   {
    "duration": 1552,
    "start_time": "2022-04-06T16:15:00.382Z"
   },
   {
    "duration": 673,
    "start_time": "2022-04-06T16:15:01.939Z"
   },
   {
    "duration": 63,
    "start_time": "2022-04-06T16:15:02.614Z"
   },
   {
    "duration": 33,
    "start_time": "2022-04-06T16:15:02.679Z"
   },
   {
    "duration": 9,
    "start_time": "2022-04-06T16:15:02.731Z"
   },
   {
    "duration": 19,
    "start_time": "2022-04-06T16:15:02.742Z"
   },
   {
    "duration": 24,
    "start_time": "2022-04-06T16:15:02.762Z"
   },
   {
    "duration": 16,
    "start_time": "2022-04-06T16:15:02.788Z"
   },
   {
    "duration": 25,
    "start_time": "2022-04-06T16:15:02.806Z"
   },
   {
    "duration": 10,
    "start_time": "2022-04-06T16:15:02.834Z"
   },
   {
    "duration": 33,
    "start_time": "2022-04-06T16:15:02.846Z"
   },
   {
    "duration": 220,
    "start_time": "2022-04-06T16:15:02.881Z"
   },
   {
    "duration": 243,
    "start_time": "2022-04-06T16:15:03.102Z"
   },
   {
    "duration": 178,
    "start_time": "2022-04-06T16:15:03.347Z"
   },
   {
    "duration": 211,
    "start_time": "2022-04-06T16:15:03.528Z"
   },
   {
    "duration": 157,
    "start_time": "2022-04-06T16:15:03.741Z"
   },
   {
    "duration": 187,
    "start_time": "2022-04-06T16:15:03.900Z"
   },
   {
    "duration": 226,
    "start_time": "2022-04-06T16:15:04.088Z"
   },
   {
    "duration": 303,
    "start_time": "2022-04-06T16:15:04.315Z"
   },
   {
    "duration": 212,
    "start_time": "2022-04-06T16:15:04.620Z"
   },
   {
    "duration": 156,
    "start_time": "2022-04-06T16:15:04.834Z"
   },
   {
    "duration": 252,
    "start_time": "2022-04-06T16:15:04.993Z"
   },
   {
    "duration": 237,
    "start_time": "2022-04-06T16:15:05.247Z"
   },
   {
    "duration": 274,
    "start_time": "2022-04-06T16:15:05.486Z"
   },
   {
    "duration": 187,
    "start_time": "2022-04-06T16:15:05.762Z"
   },
   {
    "duration": 151,
    "start_time": "2022-04-06T16:15:05.953Z"
   },
   {
    "duration": 393,
    "start_time": "2022-04-06T16:15:06.106Z"
   },
   {
    "duration": 16,
    "start_time": "2022-04-06T16:15:06.502Z"
   },
   {
    "duration": 44,
    "start_time": "2022-04-06T16:15:06.519Z"
   },
   {
    "duration": 201,
    "start_time": "2022-04-06T16:15:06.565Z"
   },
   {
    "duration": 245,
    "start_time": "2022-04-06T16:15:06.767Z"
   },
   {
    "duration": 37,
    "start_time": "2022-04-06T16:15:07.014Z"
   },
   {
    "duration": 179,
    "start_time": "2022-04-06T16:15:07.053Z"
   },
   {
    "duration": 434,
    "start_time": "2022-04-06T16:15:07.234Z"
   },
   {
    "duration": 1899,
    "start_time": "2022-04-07T12:25:25.773Z"
   },
   {
    "duration": 886,
    "start_time": "2022-04-07T12:25:27.675Z"
   },
   {
    "duration": 60,
    "start_time": "2022-04-07T12:25:28.563Z"
   },
   {
    "duration": 32,
    "start_time": "2022-04-07T12:25:28.634Z"
   },
   {
    "duration": 7,
    "start_time": "2022-04-07T12:25:28.668Z"
   },
   {
    "duration": 4,
    "start_time": "2022-04-07T12:25:28.677Z"
   },
   {
    "duration": 18,
    "start_time": "2022-04-07T12:25:28.683Z"
   },
   {
    "duration": 13,
    "start_time": "2022-04-07T12:25:28.733Z"
   },
   {
    "duration": 13,
    "start_time": "2022-04-07T12:25:28.748Z"
   },
   {
    "duration": 9,
    "start_time": "2022-04-07T12:25:28.763Z"
   },
   {
    "duration": 13,
    "start_time": "2022-04-07T12:25:28.773Z"
   },
   {
    "duration": 205,
    "start_time": "2022-04-07T12:25:28.788Z"
   },
   {
    "duration": 195,
    "start_time": "2022-04-07T12:25:28.995Z"
   },
   {
    "duration": 183,
    "start_time": "2022-04-07T12:25:29.192Z"
   },
   {
    "duration": 192,
    "start_time": "2022-04-07T12:25:29.377Z"
   },
   {
    "duration": 161,
    "start_time": "2022-04-07T12:25:29.571Z"
   },
   {
    "duration": 169,
    "start_time": "2022-04-07T12:25:29.734Z"
   },
   {
    "duration": 248,
    "start_time": "2022-04-07T12:25:29.905Z"
   },
   {
    "duration": 191,
    "start_time": "2022-04-07T12:25:30.154Z"
   },
   {
    "duration": 192,
    "start_time": "2022-04-07T12:25:30.346Z"
   },
   {
    "duration": 164,
    "start_time": "2022-04-07T12:25:30.540Z"
   },
   {
    "duration": 178,
    "start_time": "2022-04-07T12:25:30.706Z"
   },
   {
    "duration": 179,
    "start_time": "2022-04-07T12:25:30.885Z"
   },
   {
    "duration": 212,
    "start_time": "2022-04-07T12:25:31.067Z"
   },
   {
    "duration": 181,
    "start_time": "2022-04-07T12:25:31.281Z"
   },
   {
    "duration": 183,
    "start_time": "2022-04-07T12:25:31.464Z"
   },
   {
    "duration": 385,
    "start_time": "2022-04-07T12:25:31.649Z"
   },
   {
    "duration": 100,
    "start_time": "2022-04-07T12:25:32.037Z"
   },
   {
    "duration": 32,
    "start_time": "2022-04-07T12:25:32.139Z"
   },
   {
    "duration": 201,
    "start_time": "2022-04-07T12:25:32.172Z"
   },
   {
    "duration": 184,
    "start_time": "2022-04-07T12:25:32.374Z"
   },
   {
    "duration": 33,
    "start_time": "2022-04-07T12:25:32.559Z"
   },
   {
    "duration": 203,
    "start_time": "2022-04-07T12:25:32.594Z"
   },
   {
    "duration": 459,
    "start_time": "2022-04-07T12:25:32.799Z"
   },
   {
    "duration": 33,
    "start_time": "2022-04-07T12:27:54.313Z"
   },
   {
    "duration": 19,
    "start_time": "2022-04-07T12:28:08.534Z"
   },
   {
    "duration": 20,
    "start_time": "2022-04-07T12:28:54.631Z"
   },
   {
    "duration": 179,
    "start_time": "2022-04-07T12:29:08.107Z"
   },
   {
    "duration": 219,
    "start_time": "2022-04-07T12:29:33.747Z"
   },
   {
    "duration": 196,
    "start_time": "2022-04-07T12:30:01.720Z"
   },
   {
    "duration": 156,
    "start_time": "2022-04-07T12:34:09.635Z"
   },
   {
    "duration": 262,
    "start_time": "2022-04-07T12:34:34.048Z"
   },
   {
    "duration": 197,
    "start_time": "2022-04-07T12:34:55.254Z"
   },
   {
    "duration": 190,
    "start_time": "2022-04-07T12:35:03.045Z"
   },
   {
    "duration": 155,
    "start_time": "2022-04-07T12:38:00.391Z"
   },
   {
    "duration": 180,
    "start_time": "2022-04-07T12:38:08.347Z"
   },
   {
    "duration": 181,
    "start_time": "2022-04-07T12:38:16.640Z"
   },
   {
    "duration": 190,
    "start_time": "2022-04-07T12:39:42.004Z"
   },
   {
    "duration": 193,
    "start_time": "2022-04-07T12:39:56.605Z"
   },
   {
    "duration": 181,
    "start_time": "2022-04-07T12:47:12.493Z"
   },
   {
    "duration": 170,
    "start_time": "2022-04-07T12:48:28.575Z"
   },
   {
    "duration": 172,
    "start_time": "2022-04-07T12:48:43.581Z"
   },
   {
    "duration": 5,
    "start_time": "2022-04-07T13:06:03.434Z"
   },
   {
    "duration": 4,
    "start_time": "2022-04-07T13:15:05.415Z"
   },
   {
    "duration": 18,
    "start_time": "2022-04-07T13:17:22.860Z"
   },
   {
    "duration": 55,
    "start_time": "2022-04-07T13:17:28.525Z"
   },
   {
    "duration": 36,
    "start_time": "2022-04-07T13:24:52.950Z"
   },
   {
    "duration": 4,
    "start_time": "2022-04-07T13:25:56.265Z"
   },
   {
    "duration": 6,
    "start_time": "2022-04-07T13:26:23.066Z"
   },
   {
    "duration": 32,
    "start_time": "2022-04-07T13:27:18.678Z"
   },
   {
    "duration": 11,
    "start_time": "2022-04-07T13:28:48.774Z"
   },
   {
    "duration": 1653,
    "start_time": "2022-04-07T13:32:52.482Z"
   },
   {
    "duration": 1893,
    "start_time": "2022-04-07T13:32:54.137Z"
   },
   {
    "duration": 46,
    "start_time": "2022-04-07T13:32:56.032Z"
   },
   {
    "duration": 52,
    "start_time": "2022-04-07T13:32:56.080Z"
   },
   {
    "duration": 8,
    "start_time": "2022-04-07T13:32:56.134Z"
   },
   {
    "duration": 5,
    "start_time": "2022-04-07T13:32:56.144Z"
   },
   {
    "duration": 22,
    "start_time": "2022-04-07T13:32:56.150Z"
   },
   {
    "duration": 14,
    "start_time": "2022-04-07T13:32:56.174Z"
   },
   {
    "duration": 45,
    "start_time": "2022-04-07T13:32:56.190Z"
   },
   {
    "duration": 11,
    "start_time": "2022-04-07T13:32:56.238Z"
   },
   {
    "duration": 15,
    "start_time": "2022-04-07T13:32:56.251Z"
   },
   {
    "duration": 205,
    "start_time": "2022-04-07T13:32:56.267Z"
   },
   {
    "duration": 197,
    "start_time": "2022-04-07T13:32:56.473Z"
   },
   {
    "duration": 184,
    "start_time": "2022-04-07T13:32:56.672Z"
   },
   {
    "duration": 203,
    "start_time": "2022-04-07T13:32:56.858Z"
   },
   {
    "duration": 172,
    "start_time": "2022-04-07T13:32:57.063Z"
   },
   {
    "duration": 185,
    "start_time": "2022-04-07T13:32:57.237Z"
   },
   {
    "duration": 197,
    "start_time": "2022-04-07T13:32:57.423Z"
   },
   {
    "duration": 282,
    "start_time": "2022-04-07T13:32:57.632Z"
   },
   {
    "duration": 202,
    "start_time": "2022-04-07T13:32:57.916Z"
   },
   {
    "duration": 173,
    "start_time": "2022-04-07T13:32:58.120Z"
   },
   {
    "duration": 188,
    "start_time": "2022-04-07T13:32:58.295Z"
   },
   {
    "duration": 175,
    "start_time": "2022-04-07T13:32:58.485Z"
   },
   {
    "duration": 201,
    "start_time": "2022-04-07T13:32:58.661Z"
   },
   {
    "duration": 187,
    "start_time": "2022-04-07T13:32:58.864Z"
   },
   {
    "duration": 171,
    "start_time": "2022-04-07T13:32:59.053Z"
   },
   {
    "duration": 401,
    "start_time": "2022-04-07T13:32:59.226Z"
   },
   {
    "duration": 37,
    "start_time": "2022-04-07T13:32:59.634Z"
   },
   {
    "duration": 183,
    "start_time": "2022-04-07T13:32:59.673Z"
   },
   {
    "duration": 295,
    "start_time": "2022-04-07T13:32:59.857Z"
   },
   {
    "duration": 228,
    "start_time": "2022-04-07T13:33:00.153Z"
   },
   {
    "duration": 199,
    "start_time": "2022-04-07T13:33:00.382Z"
   },
   {
    "duration": 215,
    "start_time": "2022-04-07T13:33:00.583Z"
   },
   {
    "duration": 192,
    "start_time": "2022-04-07T13:33:00.800Z"
   },
   {
    "duration": 4,
    "start_time": "2022-04-07T13:33:00.994Z"
   },
   {
    "duration": 25,
    "start_time": "2022-04-07T13:33:00.999Z"
   },
   {
    "duration": 48,
    "start_time": "2022-04-07T13:33:01.026Z"
   },
   {
    "duration": 10,
    "start_time": "2022-04-07T13:33:01.076Z"
   },
   {
    "duration": 13,
    "start_time": "2022-04-07T13:33:24.325Z"
   },
   {
    "duration": 4,
    "start_time": "2022-04-07T13:37:20.933Z"
   },
   {
    "duration": 1372,
    "start_time": "2022-04-07T15:13:01.634Z"
   },
   {
    "duration": 530,
    "start_time": "2022-04-07T15:13:03.007Z"
   },
   {
    "duration": 38,
    "start_time": "2022-04-07T15:13:03.539Z"
   },
   {
    "duration": 29,
    "start_time": "2022-04-07T15:13:03.579Z"
   },
   {
    "duration": 24,
    "start_time": "2022-04-07T15:13:03.610Z"
   },
   {
    "duration": 4,
    "start_time": "2022-04-07T15:13:03.636Z"
   },
   {
    "duration": 22,
    "start_time": "2022-04-07T15:13:03.641Z"
   },
   {
    "duration": 12,
    "start_time": "2022-04-07T15:13:03.664Z"
   },
   {
    "duration": 11,
    "start_time": "2022-04-07T15:13:03.677Z"
   },
   {
    "duration": 8,
    "start_time": "2022-04-07T15:13:03.690Z"
   },
   {
    "duration": 40,
    "start_time": "2022-04-07T15:13:03.700Z"
   },
   {
    "duration": 171,
    "start_time": "2022-04-07T15:13:03.742Z"
   },
   {
    "duration": 170,
    "start_time": "2022-04-07T15:13:03.915Z"
   },
   {
    "duration": 167,
    "start_time": "2022-04-07T15:13:04.086Z"
   },
   {
    "duration": 177,
    "start_time": "2022-04-07T15:13:04.254Z"
   },
   {
    "duration": 143,
    "start_time": "2022-04-07T15:13:04.433Z"
   },
   {
    "duration": 174,
    "start_time": "2022-04-07T15:13:04.577Z"
   },
   {
    "duration": 226,
    "start_time": "2022-04-07T15:13:04.753Z"
   },
   {
    "duration": 175,
    "start_time": "2022-04-07T15:13:04.981Z"
   },
   {
    "duration": 183,
    "start_time": "2022-04-07T15:13:05.158Z"
   },
   {
    "duration": 148,
    "start_time": "2022-04-07T15:13:05.342Z"
   },
   {
    "duration": 164,
    "start_time": "2022-04-07T15:13:05.491Z"
   },
   {
    "duration": 156,
    "start_time": "2022-04-07T15:13:05.657Z"
   },
   {
    "duration": 171,
    "start_time": "2022-04-07T15:13:05.815Z"
   },
   {
    "duration": 162,
    "start_time": "2022-04-07T15:13:05.988Z"
   },
   {
    "duration": 141,
    "start_time": "2022-04-07T15:13:06.152Z"
   },
   {
    "duration": 339,
    "start_time": "2022-04-07T15:13:06.294Z"
   },
   {
    "duration": 33,
    "start_time": "2022-04-07T15:13:06.636Z"
   },
   {
    "duration": 235,
    "start_time": "2022-04-07T15:13:06.670Z"
   },
   {
    "duration": 166,
    "start_time": "2022-04-07T15:13:06.907Z"
   },
   {
    "duration": 202,
    "start_time": "2022-04-07T15:13:07.075Z"
   },
   {
    "duration": 164,
    "start_time": "2022-04-07T15:13:07.278Z"
   },
   {
    "duration": 185,
    "start_time": "2022-04-07T15:13:07.444Z"
   },
   {
    "duration": 156,
    "start_time": "2022-04-07T15:13:07.631Z"
   },
   {
    "duration": 3,
    "start_time": "2022-04-07T15:13:07.788Z"
   },
   {
    "duration": 14,
    "start_time": "2022-04-07T15:13:07.793Z"
   },
   {
    "duration": 11,
    "start_time": "2022-04-07T15:23:04.579Z"
   },
   {
    "duration": 1270,
    "start_time": "2022-04-07T15:26:01.944Z"
   },
   {
    "duration": 10,
    "start_time": "2022-04-07T15:26:03.216Z"
   },
   {
    "duration": 583,
    "start_time": "2022-04-07T15:26:03.227Z"
   },
   {
    "duration": 54,
    "start_time": "2022-04-07T15:26:03.812Z"
   },
   {
    "duration": 30,
    "start_time": "2022-04-07T15:26:03.868Z"
   },
   {
    "duration": 6,
    "start_time": "2022-04-07T15:26:03.899Z"
   },
   {
    "duration": 25,
    "start_time": "2022-04-07T15:26:03.907Z"
   },
   {
    "duration": 34,
    "start_time": "2022-04-07T15:26:03.935Z"
   },
   {
    "duration": 13,
    "start_time": "2022-04-07T15:26:03.970Z"
   },
   {
    "duration": 13,
    "start_time": "2022-04-07T15:26:03.985Z"
   },
   {
    "duration": 13,
    "start_time": "2022-04-07T15:26:04.000Z"
   },
   {
    "duration": 28,
    "start_time": "2022-04-07T15:26:04.015Z"
   },
   {
    "duration": 187,
    "start_time": "2022-04-07T15:26:04.045Z"
   },
   {
    "duration": 183,
    "start_time": "2022-04-07T15:26:04.234Z"
   },
   {
    "duration": 201,
    "start_time": "2022-04-07T15:26:04.418Z"
   },
   {
    "duration": 195,
    "start_time": "2022-04-07T15:26:04.620Z"
   },
   {
    "duration": 158,
    "start_time": "2022-04-07T15:26:04.817Z"
   },
   {
    "duration": 245,
    "start_time": "2022-04-07T15:26:04.977Z"
   },
   {
    "duration": 169,
    "start_time": "2022-04-07T15:26:05.229Z"
   },
   {
    "duration": 217,
    "start_time": "2022-04-07T15:26:05.400Z"
   },
   {
    "duration": 186,
    "start_time": "2022-04-07T15:26:05.619Z"
   },
   {
    "duration": 154,
    "start_time": "2022-04-07T15:26:05.806Z"
   },
   {
    "duration": 169,
    "start_time": "2022-04-07T15:26:05.962Z"
   },
   {
    "duration": 159,
    "start_time": "2022-04-07T15:26:06.133Z"
   },
   {
    "duration": 183,
    "start_time": "2022-04-07T15:26:06.293Z"
   },
   {
    "duration": 184,
    "start_time": "2022-04-07T15:26:06.478Z"
   },
   {
    "duration": 237,
    "start_time": "2022-04-07T15:26:06.665Z"
   },
   {
    "duration": 460,
    "start_time": "2022-04-07T15:26:06.906Z"
   },
   {
    "duration": 30,
    "start_time": "2022-04-07T15:26:07.368Z"
   },
   {
    "duration": 165,
    "start_time": "2022-04-07T15:26:07.400Z"
   },
   {
    "duration": 165,
    "start_time": "2022-04-07T15:26:07.566Z"
   },
   {
    "duration": 201,
    "start_time": "2022-04-07T15:26:07.732Z"
   },
   {
    "duration": 164,
    "start_time": "2022-04-07T15:26:07.935Z"
   },
   {
    "duration": 180,
    "start_time": "2022-04-07T15:26:08.101Z"
   },
   {
    "duration": 169,
    "start_time": "2022-04-07T15:26:08.283Z"
   },
   {
    "duration": 4,
    "start_time": "2022-04-07T15:26:08.453Z"
   },
   {
    "duration": 12,
    "start_time": "2022-04-07T15:26:08.458Z"
   },
   {
    "duration": 1350,
    "start_time": "2022-04-07T15:30:56.410Z"
   },
   {
    "duration": 11,
    "start_time": "2022-04-07T15:30:57.762Z"
   },
   {
    "duration": 594,
    "start_time": "2022-04-07T15:30:57.775Z"
   },
   {
    "duration": 44,
    "start_time": "2022-04-07T15:30:58.372Z"
   },
   {
    "duration": 32,
    "start_time": "2022-04-07T15:30:58.430Z"
   },
   {
    "duration": 8,
    "start_time": "2022-04-07T15:30:58.464Z"
   },
   {
    "duration": 6,
    "start_time": "2022-04-07T15:30:58.473Z"
   },
   {
    "duration": 18,
    "start_time": "2022-04-07T15:30:58.480Z"
   },
   {
    "duration": 38,
    "start_time": "2022-04-07T15:30:58.499Z"
   },
   {
    "duration": 12,
    "start_time": "2022-04-07T15:30:58.540Z"
   },
   {
    "duration": 10,
    "start_time": "2022-04-07T15:30:58.553Z"
   },
   {
    "duration": 14,
    "start_time": "2022-04-07T15:30:58.565Z"
   },
   {
    "duration": 208,
    "start_time": "2022-04-07T15:30:58.581Z"
   },
   {
    "duration": 183,
    "start_time": "2022-04-07T15:30:58.790Z"
   },
   {
    "duration": 170,
    "start_time": "2022-04-07T15:30:58.975Z"
   },
   {
    "duration": 189,
    "start_time": "2022-04-07T15:30:59.147Z"
   },
   {
    "duration": 153,
    "start_time": "2022-04-07T15:30:59.338Z"
   },
   {
    "duration": 258,
    "start_time": "2022-04-07T15:30:59.493Z"
   },
   {
    "duration": 177,
    "start_time": "2022-04-07T15:30:59.753Z"
   },
   {
    "duration": 173,
    "start_time": "2022-04-07T15:30:59.932Z"
   },
   {
    "duration": 179,
    "start_time": "2022-04-07T15:31:00.107Z"
   },
   {
    "duration": 154,
    "start_time": "2022-04-07T15:31:00.287Z"
   },
   {
    "duration": 165,
    "start_time": "2022-04-07T15:31:00.443Z"
   },
   {
    "duration": 155,
    "start_time": "2022-04-07T15:31:00.610Z"
   },
   {
    "duration": 183,
    "start_time": "2022-04-07T15:31:00.766Z"
   },
   {
    "duration": 175,
    "start_time": "2022-04-07T15:31:00.951Z"
   },
   {
    "duration": 143,
    "start_time": "2022-04-07T15:31:01.130Z"
   },
   {
    "duration": 436,
    "start_time": "2022-04-07T15:31:01.277Z"
   },
   {
    "duration": 33,
    "start_time": "2022-04-07T15:31:01.715Z"
   },
   {
    "duration": 160,
    "start_time": "2022-04-07T15:31:01.750Z"
   },
   {
    "duration": 165,
    "start_time": "2022-04-07T15:31:01.911Z"
   },
   {
    "duration": 201,
    "start_time": "2022-04-07T15:31:02.078Z"
   },
   {
    "duration": 167,
    "start_time": "2022-04-07T15:31:02.280Z"
   },
   {
    "duration": 184,
    "start_time": "2022-04-07T15:31:02.449Z"
   },
   {
    "duration": 163,
    "start_time": "2022-04-07T15:31:02.634Z"
   },
   {
    "duration": 4,
    "start_time": "2022-04-07T15:31:02.798Z"
   },
   {
    "duration": 11,
    "start_time": "2022-04-07T15:31:02.803Z"
   },
   {
    "duration": 101,
    "start_time": "2022-04-07T15:57:12.456Z"
   },
   {
    "duration": 1319,
    "start_time": "2022-04-07T15:57:22.091Z"
   },
   {
    "duration": 8,
    "start_time": "2022-04-07T15:57:23.412Z"
   },
   {
    "duration": 639,
    "start_time": "2022-04-07T15:57:23.421Z"
   },
   {
    "duration": 41,
    "start_time": "2022-04-07T15:57:24.062Z"
   },
   {
    "duration": 52,
    "start_time": "2022-04-07T15:57:24.104Z"
   },
   {
    "duration": 8,
    "start_time": "2022-04-07T15:57:24.158Z"
   },
   {
    "duration": 4,
    "start_time": "2022-04-07T15:57:24.167Z"
   },
   {
    "duration": 18,
    "start_time": "2022-04-07T15:57:24.173Z"
   },
   {
    "duration": 12,
    "start_time": "2022-04-07T15:57:24.192Z"
   },
   {
    "duration": 33,
    "start_time": "2022-04-07T15:57:24.206Z"
   },
   {
    "duration": 16,
    "start_time": "2022-04-07T15:57:24.240Z"
   },
   {
    "duration": 16,
    "start_time": "2022-04-07T15:57:24.258Z"
   },
   {
    "duration": 187,
    "start_time": "2022-04-07T15:57:24.275Z"
   },
   {
    "duration": 176,
    "start_time": "2022-04-07T15:57:24.463Z"
   },
   {
    "duration": 167,
    "start_time": "2022-04-07T15:57:24.640Z"
   },
   {
    "duration": 195,
    "start_time": "2022-04-07T15:57:24.808Z"
   },
   {
    "duration": 157,
    "start_time": "2022-04-07T15:57:25.004Z"
   },
   {
    "duration": 245,
    "start_time": "2022-04-07T15:57:25.163Z"
   },
   {
    "duration": 185,
    "start_time": "2022-04-07T15:57:25.410Z"
   },
   {
    "duration": 196,
    "start_time": "2022-04-07T15:57:25.597Z"
   },
   {
    "duration": 198,
    "start_time": "2022-04-07T15:57:25.795Z"
   },
   {
    "duration": 165,
    "start_time": "2022-04-07T15:57:25.995Z"
   },
   {
    "duration": 179,
    "start_time": "2022-04-07T15:57:26.161Z"
   },
   {
    "duration": 153,
    "start_time": "2022-04-07T15:57:26.344Z"
   },
   {
    "duration": 191,
    "start_time": "2022-04-07T15:57:26.499Z"
   },
   {
    "duration": 179,
    "start_time": "2022-04-07T15:57:26.691Z"
   },
   {
    "duration": 157,
    "start_time": "2022-04-07T15:57:26.872Z"
   },
   {
    "duration": 453,
    "start_time": "2022-04-07T15:57:27.033Z"
   },
   {
    "duration": 30,
    "start_time": "2022-04-07T15:57:27.488Z"
   },
   {
    "duration": 174,
    "start_time": "2022-04-07T15:57:27.519Z"
   },
   {
    "duration": 181,
    "start_time": "2022-04-07T15:57:27.694Z"
   },
   {
    "duration": 217,
    "start_time": "2022-04-07T15:57:27.877Z"
   },
   {
    "duration": 190,
    "start_time": "2022-04-07T15:57:28.096Z"
   },
   {
    "duration": 212,
    "start_time": "2022-04-07T15:57:28.288Z"
   },
   {
    "duration": 185,
    "start_time": "2022-04-07T15:57:28.502Z"
   },
   {
    "duration": 2,
    "start_time": "2022-04-07T15:57:28.689Z"
   },
   {
    "duration": 14,
    "start_time": "2022-04-07T15:57:28.693Z"
   },
   {
    "duration": 108,
    "start_time": "2022-04-07T15:57:28.708Z"
   },
   {
    "duration": 10,
    "start_time": "2022-04-07T16:00:30.756Z"
   },
   {
    "duration": 1361,
    "start_time": "2022-04-07T16:01:15.714Z"
   },
   {
    "duration": 8,
    "start_time": "2022-04-07T16:01:17.077Z"
   },
   {
    "duration": 624,
    "start_time": "2022-04-07T16:01:17.087Z"
   },
   {
    "duration": 47,
    "start_time": "2022-04-07T16:01:17.713Z"
   },
   {
    "duration": 31,
    "start_time": "2022-04-07T16:01:17.762Z"
   },
   {
    "duration": 8,
    "start_time": "2022-04-07T16:01:17.794Z"
   },
   {
    "duration": 3,
    "start_time": "2022-04-07T16:01:17.804Z"
   },
   {
    "duration": 40,
    "start_time": "2022-04-07T16:01:17.809Z"
   },
   {
    "duration": 12,
    "start_time": "2022-04-07T16:01:17.851Z"
   },
   {
    "duration": 12,
    "start_time": "2022-04-07T16:01:17.866Z"
   },
   {
    "duration": 8,
    "start_time": "2022-04-07T16:01:17.880Z"
   },
   {
    "duration": 12,
    "start_time": "2022-04-07T16:01:17.889Z"
   },
   {
    "duration": 202,
    "start_time": "2022-04-07T16:01:17.903Z"
   },
   {
    "duration": 176,
    "start_time": "2022-04-07T16:01:18.107Z"
   },
   {
    "duration": 174,
    "start_time": "2022-04-07T16:01:18.285Z"
   },
   {
    "duration": 188,
    "start_time": "2022-04-07T16:01:18.461Z"
   },
   {
    "duration": 144,
    "start_time": "2022-04-07T16:01:18.651Z"
   },
   {
    "duration": 242,
    "start_time": "2022-04-07T16:01:18.797Z"
   },
   {
    "duration": 166,
    "start_time": "2022-04-07T16:01:19.040Z"
   },
   {
    "duration": 184,
    "start_time": "2022-04-07T16:01:19.208Z"
   },
   {
    "duration": 180,
    "start_time": "2022-04-07T16:01:19.394Z"
   },
   {
    "duration": 159,
    "start_time": "2022-04-07T16:01:19.576Z"
   },
   {
    "duration": 159,
    "start_time": "2022-04-07T16:01:19.737Z"
   },
   {
    "duration": 172,
    "start_time": "2022-04-07T16:01:19.897Z"
   },
   {
    "duration": 183,
    "start_time": "2022-04-07T16:01:20.071Z"
   },
   {
    "duration": 188,
    "start_time": "2022-04-07T16:01:20.256Z"
   },
   {
    "duration": 251,
    "start_time": "2022-04-07T16:01:20.448Z"
   },
   {
    "duration": 668,
    "start_time": "2022-04-07T16:01:20.703Z"
   },
   {
    "duration": 33,
    "start_time": "2022-04-07T16:01:21.373Z"
   },
   {
    "duration": 230,
    "start_time": "2022-04-07T16:01:21.408Z"
   },
   {
    "duration": 272,
    "start_time": "2022-04-07T16:01:21.642Z"
   },
   {
    "duration": 227,
    "start_time": "2022-04-07T16:01:21.916Z"
   },
   {
    "duration": 189,
    "start_time": "2022-04-07T16:01:22.145Z"
   },
   {
    "duration": 206,
    "start_time": "2022-04-07T16:01:22.335Z"
   },
   {
    "duration": 173,
    "start_time": "2022-04-07T16:01:22.542Z"
   },
   {
    "duration": 3,
    "start_time": "2022-04-07T16:01:22.717Z"
   },
   {
    "duration": 16,
    "start_time": "2022-04-07T16:01:22.721Z"
   },
   {
    "duration": 118,
    "start_time": "2022-04-07T16:01:22.741Z"
   },
   {
    "duration": 1292,
    "start_time": "2022-04-07T16:14:15.036Z"
   },
   {
    "duration": 12,
    "start_time": "2022-04-07T16:14:16.330Z"
   },
   {
    "duration": 624,
    "start_time": "2022-04-07T16:14:16.347Z"
   },
   {
    "duration": 39,
    "start_time": "2022-04-07T16:14:16.973Z"
   },
   {
    "duration": 51,
    "start_time": "2022-04-07T16:14:17.013Z"
   },
   {
    "duration": 8,
    "start_time": "2022-04-07T16:14:17.066Z"
   },
   {
    "duration": 4,
    "start_time": "2022-04-07T16:14:17.075Z"
   },
   {
    "duration": 15,
    "start_time": "2022-04-07T16:14:17.080Z"
   },
   {
    "duration": 12,
    "start_time": "2022-04-07T16:14:17.096Z"
   },
   {
    "duration": 35,
    "start_time": "2022-04-07T16:14:17.110Z"
   },
   {
    "duration": 13,
    "start_time": "2022-04-07T16:14:17.146Z"
   },
   {
    "duration": 12,
    "start_time": "2022-04-07T16:14:17.161Z"
   },
   {
    "duration": 170,
    "start_time": "2022-04-07T16:14:17.175Z"
   },
   {
    "duration": 173,
    "start_time": "2022-04-07T16:14:17.349Z"
   },
   {
    "duration": 170,
    "start_time": "2022-04-07T16:14:17.523Z"
   },
   {
    "duration": 190,
    "start_time": "2022-04-07T16:14:17.695Z"
   },
   {
    "duration": 149,
    "start_time": "2022-04-07T16:14:17.886Z"
   },
   {
    "duration": 271,
    "start_time": "2022-04-07T16:14:18.037Z"
   },
   {
    "duration": 181,
    "start_time": "2022-04-07T16:14:18.310Z"
   },
   {
    "duration": 196,
    "start_time": "2022-04-07T16:14:18.493Z"
   },
   {
    "duration": 200,
    "start_time": "2022-04-07T16:14:18.690Z"
   },
   {
    "duration": 163,
    "start_time": "2022-04-07T16:14:18.892Z"
   },
   {
    "duration": 161,
    "start_time": "2022-04-07T16:14:19.057Z"
   },
   {
    "duration": 169,
    "start_time": "2022-04-07T16:14:19.220Z"
   },
   {
    "duration": 189,
    "start_time": "2022-04-07T16:14:19.391Z"
   },
   {
    "duration": 176,
    "start_time": "2022-04-07T16:14:19.581Z"
   },
   {
    "duration": 152,
    "start_time": "2022-04-07T16:14:19.758Z"
   },
   {
    "duration": 500,
    "start_time": "2022-04-07T16:14:19.913Z"
   },
   {
    "duration": 44,
    "start_time": "2022-04-07T16:14:20.414Z"
   },
   {
    "duration": 180,
    "start_time": "2022-04-07T16:14:20.459Z"
   },
   {
    "duration": 213,
    "start_time": "2022-04-07T16:14:20.640Z"
   },
   {
    "duration": 213,
    "start_time": "2022-04-07T16:14:20.854Z"
   },
   {
    "duration": 182,
    "start_time": "2022-04-07T16:14:21.068Z"
   },
   {
    "duration": 190,
    "start_time": "2022-04-07T16:14:21.251Z"
   },
   {
    "duration": 179,
    "start_time": "2022-04-07T16:14:21.443Z"
   },
   {
    "duration": 8,
    "start_time": "2022-04-07T16:14:21.624Z"
   },
   {
    "duration": 31,
    "start_time": "2022-04-07T16:14:21.635Z"
   },
   {
    "duration": 3,
    "start_time": "2022-04-07T16:14:21.668Z"
   },
   {
    "duration": 4,
    "start_time": "2022-04-07T16:14:21.673Z"
   },
   {
    "duration": 103,
    "start_time": "2022-04-07T16:16:36.572Z"
   },
   {
    "duration": 28,
    "start_time": "2022-04-07T16:17:25.461Z"
   },
   {
    "duration": 29,
    "start_time": "2022-04-07T16:17:40.468Z"
   },
   {
    "duration": 16,
    "start_time": "2022-04-07T16:21:08.595Z"
   },
   {
    "duration": 12,
    "start_time": "2022-04-07T16:21:29.966Z"
   },
   {
    "duration": 1278,
    "start_time": "2022-04-07T16:21:38.970Z"
   },
   {
    "duration": 10,
    "start_time": "2022-04-07T16:21:40.252Z"
   },
   {
    "duration": 651,
    "start_time": "2022-04-07T16:21:40.263Z"
   },
   {
    "duration": 50,
    "start_time": "2022-04-07T16:21:40.915Z"
   },
   {
    "duration": 29,
    "start_time": "2022-04-07T16:21:40.968Z"
   },
   {
    "duration": 8,
    "start_time": "2022-04-07T16:21:40.998Z"
   },
   {
    "duration": 26,
    "start_time": "2022-04-07T16:21:41.008Z"
   },
   {
    "duration": 27,
    "start_time": "2022-04-07T16:21:41.039Z"
   },
   {
    "duration": 12,
    "start_time": "2022-04-07T16:21:41.067Z"
   },
   {
    "duration": 12,
    "start_time": "2022-04-07T16:21:41.081Z"
   },
   {
    "duration": 8,
    "start_time": "2022-04-07T16:21:41.094Z"
   },
   {
    "duration": 38,
    "start_time": "2022-04-07T16:21:41.104Z"
   },
   {
    "duration": 164,
    "start_time": "2022-04-07T16:21:41.144Z"
   },
   {
    "duration": 188,
    "start_time": "2022-04-07T16:21:41.312Z"
   },
   {
    "duration": 181,
    "start_time": "2022-04-07T16:21:41.502Z"
   },
   {
    "duration": 179,
    "start_time": "2022-04-07T16:21:41.684Z"
   },
   {
    "duration": 149,
    "start_time": "2022-04-07T16:21:41.865Z"
   },
   {
    "duration": 245,
    "start_time": "2022-04-07T16:21:42.016Z"
   },
   {
    "duration": 169,
    "start_time": "2022-04-07T16:21:42.263Z"
   },
   {
    "duration": 179,
    "start_time": "2022-04-07T16:21:42.434Z"
   },
   {
    "duration": 197,
    "start_time": "2022-04-07T16:21:42.615Z"
   },
   {
    "duration": 166,
    "start_time": "2022-04-07T16:21:42.813Z"
   },
   {
    "duration": 170,
    "start_time": "2022-04-07T16:21:42.980Z"
   },
   {
    "duration": 159,
    "start_time": "2022-04-07T16:21:43.152Z"
   },
   {
    "duration": 185,
    "start_time": "2022-04-07T16:21:43.312Z"
   },
   {
    "duration": 174,
    "start_time": "2022-04-07T16:21:43.499Z"
   },
   {
    "duration": 151,
    "start_time": "2022-04-07T16:21:43.675Z"
   },
   {
    "duration": 445,
    "start_time": "2022-04-07T16:21:43.827Z"
   },
   {
    "duration": 30,
    "start_time": "2022-04-07T16:21:44.273Z"
   },
   {
    "duration": 180,
    "start_time": "2022-04-07T16:21:44.304Z"
   },
   {
    "duration": 186,
    "start_time": "2022-04-07T16:21:44.485Z"
   },
   {
    "duration": 234,
    "start_time": "2022-04-07T16:21:44.673Z"
   },
   {
    "duration": 190,
    "start_time": "2022-04-07T16:21:44.909Z"
   },
   {
    "duration": 193,
    "start_time": "2022-04-07T16:21:45.101Z"
   },
   {
    "duration": 185,
    "start_time": "2022-04-07T16:21:45.295Z"
   },
   {
    "duration": 3,
    "start_time": "2022-04-07T16:21:45.481Z"
   },
   {
    "duration": 33,
    "start_time": "2022-04-07T16:21:45.486Z"
   },
   {
    "duration": 2,
    "start_time": "2022-04-07T16:21:45.521Z"
   },
   {
    "duration": 2024,
    "start_time": "2022-04-07T16:21:45.524Z"
   },
   {
    "duration": 1434,
    "start_time": "2022-04-07T16:23:20.770Z"
   },
   {
    "duration": 10,
    "start_time": "2022-04-07T16:23:22.206Z"
   },
   {
    "duration": 664,
    "start_time": "2022-04-07T16:23:22.218Z"
   },
   {
    "duration": 52,
    "start_time": "2022-04-07T16:23:22.884Z"
   },
   {
    "duration": 35,
    "start_time": "2022-04-07T16:23:22.937Z"
   },
   {
    "duration": 7,
    "start_time": "2022-04-07T16:23:22.973Z"
   },
   {
    "duration": 5,
    "start_time": "2022-04-07T16:23:22.981Z"
   },
   {
    "duration": 23,
    "start_time": "2022-04-07T16:23:22.988Z"
   },
   {
    "duration": 29,
    "start_time": "2022-04-07T16:23:23.012Z"
   },
   {
    "duration": 16,
    "start_time": "2022-04-07T16:23:23.044Z"
   },
   {
    "duration": 8,
    "start_time": "2022-04-07T16:23:23.061Z"
   },
   {
    "duration": 12,
    "start_time": "2022-04-07T16:23:23.070Z"
   },
   {
    "duration": 192,
    "start_time": "2022-04-07T16:23:23.083Z"
   },
   {
    "duration": 184,
    "start_time": "2022-04-07T16:23:23.276Z"
   },
   {
    "duration": 173,
    "start_time": "2022-04-07T16:23:23.462Z"
   },
   {
    "duration": 184,
    "start_time": "2022-04-07T16:23:23.637Z"
   },
   {
    "duration": 156,
    "start_time": "2022-04-07T16:23:23.823Z"
   },
   {
    "duration": 239,
    "start_time": "2022-04-07T16:23:23.981Z"
   },
   {
    "duration": 172,
    "start_time": "2022-04-07T16:23:24.222Z"
   },
   {
    "duration": 188,
    "start_time": "2022-04-07T16:23:24.396Z"
   },
   {
    "duration": 185,
    "start_time": "2022-04-07T16:23:24.586Z"
   },
   {
    "duration": 158,
    "start_time": "2022-04-07T16:23:24.773Z"
   },
   {
    "duration": 166,
    "start_time": "2022-04-07T16:23:24.933Z"
   },
   {
    "duration": 169,
    "start_time": "2022-04-07T16:23:25.100Z"
   },
   {
    "duration": 194,
    "start_time": "2022-04-07T16:23:25.271Z"
   },
   {
    "duration": 171,
    "start_time": "2022-04-07T16:23:25.467Z"
   },
   {
    "duration": 146,
    "start_time": "2022-04-07T16:23:25.644Z"
   },
   {
    "duration": 466,
    "start_time": "2022-04-07T16:23:25.793Z"
   },
   {
    "duration": 29,
    "start_time": "2022-04-07T16:23:26.261Z"
   },
   {
    "duration": 177,
    "start_time": "2022-04-07T16:23:26.292Z"
   },
   {
    "duration": 189,
    "start_time": "2022-04-07T16:23:26.470Z"
   },
   {
    "duration": 215,
    "start_time": "2022-04-07T16:23:26.661Z"
   },
   {
    "duration": 180,
    "start_time": "2022-04-07T16:23:26.878Z"
   },
   {
    "duration": 199,
    "start_time": "2022-04-07T16:23:27.060Z"
   },
   {
    "duration": 177,
    "start_time": "2022-04-07T16:23:27.261Z"
   },
   {
    "duration": 6,
    "start_time": "2022-04-07T16:23:27.440Z"
   },
   {
    "duration": 23,
    "start_time": "2022-04-07T16:23:27.447Z"
   },
   {
    "duration": 3,
    "start_time": "2022-04-07T16:23:27.471Z"
   },
   {
    "duration": 110,
    "start_time": "2022-04-07T16:23:27.476Z"
   },
   {
    "duration": 32,
    "start_time": "2022-04-07T16:25:32.174Z"
   },
   {
    "duration": 18,
    "start_time": "2022-04-07T16:26:07.943Z"
   },
   {
    "duration": 1353,
    "start_time": "2022-04-07T16:26:29.957Z"
   },
   {
    "duration": 8,
    "start_time": "2022-04-07T16:26:31.312Z"
   },
   {
    "duration": 641,
    "start_time": "2022-04-07T16:26:31.322Z"
   },
   {
    "duration": 41,
    "start_time": "2022-04-07T16:26:31.965Z"
   },
   {
    "duration": 47,
    "start_time": "2022-04-07T16:26:32.007Z"
   },
   {
    "duration": 8,
    "start_time": "2022-04-07T16:26:32.056Z"
   },
   {
    "duration": 4,
    "start_time": "2022-04-07T16:26:32.065Z"
   },
   {
    "duration": 21,
    "start_time": "2022-04-07T16:26:32.071Z"
   },
   {
    "duration": 12,
    "start_time": "2022-04-07T16:26:32.094Z"
   },
   {
    "duration": 46,
    "start_time": "2022-04-07T16:26:32.108Z"
   },
   {
    "duration": 8,
    "start_time": "2022-04-07T16:26:32.156Z"
   },
   {
    "duration": 19,
    "start_time": "2022-04-07T16:26:32.165Z"
   },
   {
    "duration": 17,
    "start_time": "2022-04-07T16:26:32.185Z"
   },
   {
    "duration": 171,
    "start_time": "2022-04-07T16:26:32.203Z"
   },
   {
    "duration": 171,
    "start_time": "2022-04-07T16:26:32.376Z"
   },
   {
    "duration": 161,
    "start_time": "2022-04-07T16:26:32.548Z"
   },
   {
    "duration": 187,
    "start_time": "2022-04-07T16:26:32.710Z"
   },
   {
    "duration": 155,
    "start_time": "2022-04-07T16:26:32.898Z"
   },
   {
    "duration": 240,
    "start_time": "2022-04-07T16:26:33.055Z"
   },
   {
    "duration": 185,
    "start_time": "2022-04-07T16:26:33.296Z"
   },
   {
    "duration": 193,
    "start_time": "2022-04-07T16:26:33.483Z"
   },
   {
    "duration": 182,
    "start_time": "2022-04-07T16:26:33.677Z"
   },
   {
    "duration": 157,
    "start_time": "2022-04-07T16:26:33.860Z"
   },
   {
    "duration": 172,
    "start_time": "2022-04-07T16:26:34.019Z"
   },
   {
    "duration": 159,
    "start_time": "2022-04-07T16:26:34.193Z"
   },
   {
    "duration": 209,
    "start_time": "2022-04-07T16:26:34.354Z"
   },
   {
    "duration": 171,
    "start_time": "2022-04-07T16:26:34.565Z"
   },
   {
    "duration": 144,
    "start_time": "2022-04-07T16:26:34.740Z"
   },
   {
    "duration": 444,
    "start_time": "2022-04-07T16:26:34.885Z"
   },
   {
    "duration": 32,
    "start_time": "2022-04-07T16:26:35.331Z"
   },
   {
    "duration": 192,
    "start_time": "2022-04-07T16:26:35.365Z"
   },
   {
    "duration": 172,
    "start_time": "2022-04-07T16:26:35.558Z"
   },
   {
    "duration": 198,
    "start_time": "2022-04-07T16:26:35.732Z"
   },
   {
    "duration": 167,
    "start_time": "2022-04-07T16:26:35.932Z"
   },
   {
    "duration": 293,
    "start_time": "2022-04-07T16:26:36.100Z"
   },
   {
    "duration": 239,
    "start_time": "2022-04-07T16:26:36.395Z"
   },
   {
    "duration": 4,
    "start_time": "2022-04-07T16:26:36.635Z"
   },
   {
    "duration": 22,
    "start_time": "2022-04-07T16:26:36.640Z"
   },
   {
    "duration": 10,
    "start_time": "2022-04-07T16:26:36.663Z"
   },
   {
    "duration": 111,
    "start_time": "2022-04-07T16:26:36.675Z"
   },
   {
    "duration": 1263,
    "start_time": "2022-04-07T16:29:22.456Z"
   },
   {
    "duration": 16,
    "start_time": "2022-04-07T16:29:23.721Z"
   },
   {
    "duration": 631,
    "start_time": "2022-04-07T16:29:23.739Z"
   },
   {
    "duration": 41,
    "start_time": "2022-04-07T16:29:24.372Z"
   },
   {
    "duration": 43,
    "start_time": "2022-04-07T16:29:24.414Z"
   },
   {
    "duration": 8,
    "start_time": "2022-04-07T16:29:24.458Z"
   },
   {
    "duration": 4,
    "start_time": "2022-04-07T16:29:24.468Z"
   },
   {
    "duration": 24,
    "start_time": "2022-04-07T16:29:24.473Z"
   },
   {
    "duration": 15,
    "start_time": "2022-04-07T16:29:24.498Z"
   },
   {
    "duration": 13,
    "start_time": "2022-04-07T16:29:24.529Z"
   },
   {
    "duration": 15,
    "start_time": "2022-04-07T16:29:24.544Z"
   },
   {
    "duration": 13,
    "start_time": "2022-04-07T16:29:24.560Z"
   },
   {
    "duration": 16,
    "start_time": "2022-04-07T16:29:24.575Z"
   },
   {
    "duration": 199,
    "start_time": "2022-04-07T16:29:24.593Z"
   },
   {
    "duration": 185,
    "start_time": "2022-04-07T16:29:24.793Z"
   },
   {
    "duration": 176,
    "start_time": "2022-04-07T16:29:24.980Z"
   },
   {
    "duration": 181,
    "start_time": "2022-04-07T16:29:25.158Z"
   },
   {
    "duration": 146,
    "start_time": "2022-04-07T16:29:25.341Z"
   },
   {
    "duration": 234,
    "start_time": "2022-04-07T16:29:25.488Z"
   },
   {
    "duration": 169,
    "start_time": "2022-04-07T16:29:25.723Z"
   },
   {
    "duration": 185,
    "start_time": "2022-04-07T16:29:25.894Z"
   },
   {
    "duration": 180,
    "start_time": "2022-04-07T16:29:26.081Z"
   },
   {
    "duration": 154,
    "start_time": "2022-04-07T16:29:26.263Z"
   },
   {
    "duration": 164,
    "start_time": "2022-04-07T16:29:26.418Z"
   },
   {
    "duration": 165,
    "start_time": "2022-04-07T16:29:26.584Z"
   },
   {
    "duration": 175,
    "start_time": "2022-04-07T16:29:26.750Z"
   },
   {
    "duration": 165,
    "start_time": "2022-04-07T16:29:26.930Z"
   },
   {
    "duration": 163,
    "start_time": "2022-04-07T16:29:27.098Z"
   },
   {
    "duration": 462,
    "start_time": "2022-04-07T16:29:27.263Z"
   },
   {
    "duration": 35,
    "start_time": "2022-04-07T16:29:27.729Z"
   },
   {
    "duration": 180,
    "start_time": "2022-04-07T16:29:27.766Z"
   },
   {
    "duration": 169,
    "start_time": "2022-04-07T16:29:27.948Z"
   },
   {
    "duration": 222,
    "start_time": "2022-04-07T16:29:28.119Z"
   },
   {
    "duration": 173,
    "start_time": "2022-04-07T16:29:28.343Z"
   },
   {
    "duration": 191,
    "start_time": "2022-04-07T16:29:28.518Z"
   },
   {
    "duration": 183,
    "start_time": "2022-04-07T16:29:28.710Z"
   },
   {
    "duration": 3,
    "start_time": "2022-04-07T16:29:28.894Z"
   },
   {
    "duration": 18,
    "start_time": "2022-04-07T16:29:28.898Z"
   },
   {
    "duration": 2,
    "start_time": "2022-04-07T16:29:28.918Z"
   },
   {
    "duration": 112,
    "start_time": "2022-04-07T16:29:28.922Z"
   },
   {
    "duration": 1499,
    "start_time": "2022-04-07T18:09:57.843Z"
   },
   {
    "duration": 11,
    "start_time": "2022-04-07T18:09:59.344Z"
   },
   {
    "duration": 632,
    "start_time": "2022-04-07T18:09:59.356Z"
   },
   {
    "duration": 47,
    "start_time": "2022-04-07T18:09:59.990Z"
   },
   {
    "duration": 35,
    "start_time": "2022-04-07T18:10:00.039Z"
   },
   {
    "duration": 8,
    "start_time": "2022-04-07T18:10:00.075Z"
   },
   {
    "duration": 4,
    "start_time": "2022-04-07T18:10:00.085Z"
   },
   {
    "duration": 22,
    "start_time": "2022-04-07T18:10:00.090Z"
   },
   {
    "duration": 17,
    "start_time": "2022-04-07T18:10:00.135Z"
   },
   {
    "duration": 12,
    "start_time": "2022-04-07T18:10:00.154Z"
   },
   {
    "duration": 8,
    "start_time": "2022-04-07T18:10:00.167Z"
   },
   {
    "duration": 12,
    "start_time": "2022-04-07T18:10:00.177Z"
   },
   {
    "duration": 50,
    "start_time": "2022-04-07T18:10:00.190Z"
   },
   {
    "duration": 268,
    "start_time": "2022-04-07T18:10:00.244Z"
   },
   {
    "duration": 269,
    "start_time": "2022-04-07T18:10:00.514Z"
   },
   {
    "duration": 175,
    "start_time": "2022-04-07T18:10:00.785Z"
   },
   {
    "duration": 185,
    "start_time": "2022-04-07T18:10:00.962Z"
   },
   {
    "duration": 228,
    "start_time": "2022-04-07T18:10:01.148Z"
   },
   {
    "duration": 184,
    "start_time": "2022-04-07T18:10:01.378Z"
   },
   {
    "duration": 171,
    "start_time": "2022-04-07T18:10:01.564Z"
   },
   {
    "duration": 182,
    "start_time": "2022-04-07T18:10:01.736Z"
   },
   {
    "duration": 186,
    "start_time": "2022-04-07T18:10:01.919Z"
   },
   {
    "duration": 154,
    "start_time": "2022-04-07T18:10:02.107Z"
   },
   {
    "duration": 178,
    "start_time": "2022-04-07T18:10:02.263Z"
   },
   {
    "duration": 164,
    "start_time": "2022-04-07T18:10:02.443Z"
   },
   {
    "duration": 176,
    "start_time": "2022-04-07T18:10:02.609Z"
   },
   {
    "duration": 173,
    "start_time": "2022-04-07T18:10:02.786Z"
   },
   {
    "duration": 152,
    "start_time": "2022-04-07T18:10:02.961Z"
   },
   {
    "duration": 444,
    "start_time": "2022-04-07T18:10:03.114Z"
   },
   {
    "duration": 31,
    "start_time": "2022-04-07T18:10:03.559Z"
   },
   {
    "duration": 181,
    "start_time": "2022-04-07T18:10:03.592Z"
   },
   {
    "duration": 175,
    "start_time": "2022-04-07T18:10:03.774Z"
   },
   {
    "duration": 212,
    "start_time": "2022-04-07T18:10:03.952Z"
   },
   {
    "duration": 169,
    "start_time": "2022-04-07T18:10:04.166Z"
   },
   {
    "duration": 184,
    "start_time": "2022-04-07T18:10:04.336Z"
   },
   {
    "duration": 176,
    "start_time": "2022-04-07T18:10:04.522Z"
   },
   {
    "duration": 3,
    "start_time": "2022-04-07T18:10:04.700Z"
   },
   {
    "duration": 14,
    "start_time": "2022-04-07T18:10:04.705Z"
   },
   {
    "duration": 5,
    "start_time": "2022-04-07T18:10:04.730Z"
   },
   {
    "duration": 113,
    "start_time": "2022-04-07T18:10:04.738Z"
   },
   {
    "duration": 1291,
    "start_time": "2022-04-07T18:10:30.250Z"
   },
   {
    "duration": 9,
    "start_time": "2022-04-07T18:10:31.544Z"
   },
   {
    "duration": 613,
    "start_time": "2022-04-07T18:10:31.554Z"
   },
   {
    "duration": 38,
    "start_time": "2022-04-07T18:10:32.169Z"
   },
   {
    "duration": 48,
    "start_time": "2022-04-07T18:10:32.209Z"
   },
   {
    "duration": 8,
    "start_time": "2022-04-07T18:10:32.259Z"
   },
   {
    "duration": 7,
    "start_time": "2022-04-07T18:10:32.268Z"
   },
   {
    "duration": 19,
    "start_time": "2022-04-07T18:10:32.276Z"
   },
   {
    "duration": 12,
    "start_time": "2022-04-07T18:10:32.297Z"
   },
   {
    "duration": 32,
    "start_time": "2022-04-07T18:10:32.310Z"
   },
   {
    "duration": 15,
    "start_time": "2022-04-07T18:10:32.344Z"
   },
   {
    "duration": 20,
    "start_time": "2022-04-07T18:10:32.360Z"
   },
   {
    "duration": 16,
    "start_time": "2022-04-07T18:10:32.381Z"
   },
   {
    "duration": 188,
    "start_time": "2022-04-07T18:10:32.399Z"
   },
   {
    "duration": 190,
    "start_time": "2022-04-07T18:10:32.588Z"
   },
   {
    "duration": 180,
    "start_time": "2022-04-07T18:10:32.779Z"
   },
   {
    "duration": 179,
    "start_time": "2022-04-07T18:10:32.961Z"
   },
   {
    "duration": 142,
    "start_time": "2022-04-07T18:10:33.141Z"
   },
   {
    "duration": 247,
    "start_time": "2022-04-07T18:10:33.285Z"
   },
   {
    "duration": 161,
    "start_time": "2022-04-07T18:10:33.538Z"
   },
   {
    "duration": 181,
    "start_time": "2022-04-07T18:10:33.700Z"
   },
   {
    "duration": 178,
    "start_time": "2022-04-07T18:10:33.882Z"
   },
   {
    "duration": 152,
    "start_time": "2022-04-07T18:10:34.061Z"
   },
   {
    "duration": 166,
    "start_time": "2022-04-07T18:10:34.215Z"
   },
   {
    "duration": 165,
    "start_time": "2022-04-07T18:10:34.383Z"
   },
   {
    "duration": 184,
    "start_time": "2022-04-07T18:10:34.550Z"
   },
   {
    "duration": 152,
    "start_time": "2022-04-07T18:10:34.736Z"
   },
   {
    "duration": 158,
    "start_time": "2022-04-07T18:10:34.890Z"
   },
   {
    "duration": 427,
    "start_time": "2022-04-07T18:10:35.050Z"
   },
   {
    "duration": 32,
    "start_time": "2022-04-07T18:10:35.479Z"
   },
   {
    "duration": 160,
    "start_time": "2022-04-07T18:10:35.533Z"
   },
   {
    "duration": 176,
    "start_time": "2022-04-07T18:10:35.695Z"
   },
   {
    "duration": 206,
    "start_time": "2022-04-07T18:10:35.873Z"
   },
   {
    "duration": 176,
    "start_time": "2022-04-07T18:10:36.080Z"
   },
   {
    "duration": 189,
    "start_time": "2022-04-07T18:10:36.258Z"
   },
   {
    "duration": 170,
    "start_time": "2022-04-07T18:10:36.449Z"
   },
   {
    "duration": 11,
    "start_time": "2022-04-07T18:10:36.620Z"
   },
   {
    "duration": 34,
    "start_time": "2022-04-07T18:10:36.633Z"
   },
   {
    "duration": 6,
    "start_time": "2022-04-07T18:10:36.669Z"
   },
   {
    "duration": 53,
    "start_time": "2022-04-07T18:10:36.676Z"
   },
   {
    "duration": 1275,
    "start_time": "2022-04-07T18:11:03.666Z"
   },
   {
    "duration": 9,
    "start_time": "2022-04-07T18:11:04.943Z"
   },
   {
    "duration": 596,
    "start_time": "2022-04-07T18:11:04.953Z"
   },
   {
    "duration": 38,
    "start_time": "2022-04-07T18:11:05.551Z"
   },
   {
    "duration": 41,
    "start_time": "2022-04-07T18:11:05.590Z"
   },
   {
    "duration": 6,
    "start_time": "2022-04-07T18:11:05.635Z"
   },
   {
    "duration": 7,
    "start_time": "2022-04-07T18:11:05.644Z"
   },
   {
    "duration": 15,
    "start_time": "2022-04-07T18:11:05.653Z"
   },
   {
    "duration": 11,
    "start_time": "2022-04-07T18:11:05.669Z"
   },
   {
    "duration": 10,
    "start_time": "2022-04-07T18:11:05.682Z"
   },
   {
    "duration": 43,
    "start_time": "2022-04-07T18:11:05.694Z"
   },
   {
    "duration": 14,
    "start_time": "2022-04-07T18:11:05.739Z"
   },
   {
    "duration": 17,
    "start_time": "2022-04-07T18:11:05.755Z"
   },
   {
    "duration": 181,
    "start_time": "2022-04-07T18:11:05.773Z"
   },
   {
    "duration": 175,
    "start_time": "2022-04-07T18:11:05.956Z"
   },
   {
    "duration": 157,
    "start_time": "2022-04-07T18:11:06.133Z"
   },
   {
    "duration": 183,
    "start_time": "2022-04-07T18:11:06.291Z"
   },
   {
    "duration": 144,
    "start_time": "2022-04-07T18:11:06.476Z"
   },
   {
    "duration": 233,
    "start_time": "2022-04-07T18:11:06.622Z"
   },
   {
    "duration": 164,
    "start_time": "2022-04-07T18:11:06.856Z"
   },
   {
    "duration": 177,
    "start_time": "2022-04-07T18:11:07.021Z"
   },
   {
    "duration": 181,
    "start_time": "2022-04-07T18:11:07.200Z"
   },
   {
    "duration": 139,
    "start_time": "2022-04-07T18:11:07.382Z"
   },
   {
    "duration": 163,
    "start_time": "2022-04-07T18:11:07.522Z"
   },
   {
    "duration": 161,
    "start_time": "2022-04-07T18:11:07.686Z"
   },
   {
    "duration": 169,
    "start_time": "2022-04-07T18:11:07.848Z"
   },
   {
    "duration": 168,
    "start_time": "2022-04-07T18:11:08.019Z"
   },
   {
    "duration": 138,
    "start_time": "2022-04-07T18:11:08.191Z"
   },
   {
    "duration": 443,
    "start_time": "2022-04-07T18:11:08.331Z"
   },
   {
    "duration": 31,
    "start_time": "2022-04-07T18:11:08.776Z"
   },
   {
    "duration": 155,
    "start_time": "2022-04-07T18:11:08.808Z"
   },
   {
    "duration": 173,
    "start_time": "2022-04-07T18:11:08.964Z"
   },
   {
    "duration": 206,
    "start_time": "2022-04-07T18:11:09.139Z"
   },
   {
    "duration": 175,
    "start_time": "2022-04-07T18:11:09.347Z"
   },
   {
    "duration": 186,
    "start_time": "2022-04-07T18:11:09.529Z"
   },
   {
    "duration": 174,
    "start_time": "2022-04-07T18:11:09.717Z"
   },
   {
    "duration": 2,
    "start_time": "2022-04-07T18:11:09.893Z"
   },
   {
    "duration": 17,
    "start_time": "2022-04-07T18:11:09.896Z"
   },
   {
    "duration": 3,
    "start_time": "2022-04-07T18:11:09.914Z"
   },
   {
    "duration": 108,
    "start_time": "2022-04-07T18:11:09.929Z"
   },
   {
    "duration": 13,
    "start_time": "2022-04-07T18:13:08.243Z"
   },
   {
    "duration": 22,
    "start_time": "2022-04-07T18:14:44.598Z"
   },
   {
    "duration": 42,
    "start_time": "2022-04-07T18:15:35.410Z"
   },
   {
    "duration": 1264,
    "start_time": "2022-04-07T18:15:48.864Z"
   },
   {
    "duration": 10,
    "start_time": "2022-04-07T18:15:50.130Z"
   },
   {
    "duration": 604,
    "start_time": "2022-04-07T18:15:50.142Z"
   },
   {
    "duration": 40,
    "start_time": "2022-04-07T18:15:50.749Z"
   },
   {
    "duration": 49,
    "start_time": "2022-04-07T18:15:50.790Z"
   },
   {
    "duration": 8,
    "start_time": "2022-04-07T18:15:50.840Z"
   },
   {
    "duration": 6,
    "start_time": "2022-04-07T18:15:50.849Z"
   },
   {
    "duration": 20,
    "start_time": "2022-04-07T18:15:50.856Z"
   },
   {
    "duration": 12,
    "start_time": "2022-04-07T18:15:50.878Z"
   },
   {
    "duration": 38,
    "start_time": "2022-04-07T18:15:50.892Z"
   },
   {
    "duration": 11,
    "start_time": "2022-04-07T18:15:50.932Z"
   },
   {
    "duration": 14,
    "start_time": "2022-04-07T18:15:50.945Z"
   },
   {
    "duration": 78,
    "start_time": "2022-04-07T18:15:50.961Z"
   },
   {
    "duration": 169,
    "start_time": "2022-04-07T18:15:51.040Z"
   },
   {
    "duration": 173,
    "start_time": "2022-04-07T18:15:51.210Z"
   },
   {
    "duration": 170,
    "start_time": "2022-04-07T18:15:51.384Z"
   },
   {
    "duration": 179,
    "start_time": "2022-04-07T18:15:51.556Z"
   },
   {
    "duration": 141,
    "start_time": "2022-04-07T18:15:51.736Z"
   },
   {
    "duration": 229,
    "start_time": "2022-04-07T18:15:51.879Z"
   },
   {
    "duration": 165,
    "start_time": "2022-04-07T18:15:52.109Z"
   },
   {
    "duration": 179,
    "start_time": "2022-04-07T18:15:52.276Z"
   },
   {
    "duration": 182,
    "start_time": "2022-04-07T18:15:52.457Z"
   },
   {
    "duration": 146,
    "start_time": "2022-04-07T18:15:52.640Z"
   },
   {
    "duration": 168,
    "start_time": "2022-04-07T18:15:52.787Z"
   },
   {
    "duration": 152,
    "start_time": "2022-04-07T18:15:52.956Z"
   },
   {
    "duration": 174,
    "start_time": "2022-04-07T18:15:53.110Z"
   },
   {
    "duration": 156,
    "start_time": "2022-04-07T18:15:53.286Z"
   },
   {
    "duration": 148,
    "start_time": "2022-04-07T18:15:53.445Z"
   },
   {
    "duration": 407,
    "start_time": "2022-04-07T18:15:53.594Z"
   },
   {
    "duration": 43,
    "start_time": "2022-04-07T18:15:54.003Z"
   },
   {
    "duration": 150,
    "start_time": "2022-04-07T18:15:54.047Z"
   },
   {
    "duration": 171,
    "start_time": "2022-04-07T18:15:54.198Z"
   },
   {
    "duration": 196,
    "start_time": "2022-04-07T18:15:54.371Z"
   },
   {
    "duration": 171,
    "start_time": "2022-04-07T18:15:54.569Z"
   },
   {
    "duration": 178,
    "start_time": "2022-04-07T18:15:54.741Z"
   },
   {
    "duration": 165,
    "start_time": "2022-04-07T18:15:54.921Z"
   },
   {
    "duration": 2,
    "start_time": "2022-04-07T18:15:55.088Z"
   },
   {
    "duration": 10,
    "start_time": "2022-04-07T18:15:55.092Z"
   },
   {
    "duration": 2,
    "start_time": "2022-04-07T18:15:55.104Z"
   },
   {
    "duration": 46,
    "start_time": "2022-04-07T18:15:55.107Z"
   },
   {
    "duration": 18,
    "start_time": "2022-04-07T18:15:55.155Z"
   },
   {
    "duration": 12,
    "start_time": "2022-04-07T18:21:20.262Z"
   },
   {
    "duration": 1378,
    "start_time": "2022-04-07T18:21:48.454Z"
   },
   {
    "duration": 15,
    "start_time": "2022-04-07T18:21:49.834Z"
   },
   {
    "duration": 935,
    "start_time": "2022-04-07T18:21:49.851Z"
   },
   {
    "duration": 75,
    "start_time": "2022-04-07T18:21:50.789Z"
   },
   {
    "duration": 49,
    "start_time": "2022-04-07T18:21:50.866Z"
   },
   {
    "duration": 12,
    "start_time": "2022-04-07T18:21:50.930Z"
   },
   {
    "duration": 6,
    "start_time": "2022-04-07T18:21:50.944Z"
   },
   {
    "duration": 19,
    "start_time": "2022-04-07T18:21:50.951Z"
   },
   {
    "duration": 12,
    "start_time": "2022-04-07T18:21:50.972Z"
   },
   {
    "duration": 14,
    "start_time": "2022-04-07T18:21:50.987Z"
   },
   {
    "duration": 36,
    "start_time": "2022-04-07T18:21:51.002Z"
   },
   {
    "duration": 15,
    "start_time": "2022-04-07T18:21:51.039Z"
   },
   {
    "duration": 13,
    "start_time": "2022-04-07T18:21:51.056Z"
   },
   {
    "duration": 200,
    "start_time": "2022-04-07T18:21:51.070Z"
   },
   {
    "duration": 186,
    "start_time": "2022-04-07T18:21:51.271Z"
   },
   {
    "duration": 178,
    "start_time": "2022-04-07T18:21:51.459Z"
   },
   {
    "duration": 180,
    "start_time": "2022-04-07T18:21:51.639Z"
   },
   {
    "duration": 141,
    "start_time": "2022-04-07T18:21:51.821Z"
   },
   {
    "duration": 245,
    "start_time": "2022-04-07T18:21:51.963Z"
   },
   {
    "duration": 170,
    "start_time": "2022-04-07T18:21:52.210Z"
   },
   {
    "duration": 183,
    "start_time": "2022-04-07T18:21:52.382Z"
   },
   {
    "duration": 187,
    "start_time": "2022-04-07T18:21:52.567Z"
   },
   {
    "duration": 149,
    "start_time": "2022-04-07T18:21:52.755Z"
   },
   {
    "duration": 165,
    "start_time": "2022-04-07T18:21:52.906Z"
   },
   {
    "duration": 157,
    "start_time": "2022-04-07T18:21:53.073Z"
   },
   {
    "duration": 184,
    "start_time": "2022-04-07T18:21:53.232Z"
   },
   {
    "duration": 169,
    "start_time": "2022-04-07T18:21:53.417Z"
   },
   {
    "duration": 152,
    "start_time": "2022-04-07T18:21:53.590Z"
   },
   {
    "duration": 533,
    "start_time": "2022-04-07T18:21:53.744Z"
   },
   {
    "duration": 31,
    "start_time": "2022-04-07T18:21:54.279Z"
   },
   {
    "duration": 170,
    "start_time": "2022-04-07T18:21:54.312Z"
   },
   {
    "duration": 179,
    "start_time": "2022-04-07T18:21:54.484Z"
   },
   {
    "duration": 205,
    "start_time": "2022-04-07T18:21:54.664Z"
   },
   {
    "duration": 172,
    "start_time": "2022-04-07T18:21:54.871Z"
   },
   {
    "duration": 194,
    "start_time": "2022-04-07T18:21:55.045Z"
   },
   {
    "duration": 166,
    "start_time": "2022-04-07T18:21:55.241Z"
   },
   {
    "duration": 3,
    "start_time": "2022-04-07T18:21:55.408Z"
   },
   {
    "duration": 20,
    "start_time": "2022-04-07T18:21:55.412Z"
   },
   {
    "duration": 2,
    "start_time": "2022-04-07T18:21:55.434Z"
   },
   {
    "duration": 33,
    "start_time": "2022-04-07T18:21:55.437Z"
   },
   {
    "duration": 8,
    "start_time": "2022-04-07T18:22:34.730Z"
   },
   {
    "duration": 1257,
    "start_time": "2022-04-07T18:23:16.329Z"
   },
   {
    "duration": 9,
    "start_time": "2022-04-07T18:23:17.587Z"
   },
   {
    "duration": 587,
    "start_time": "2022-04-07T18:23:17.597Z"
   },
   {
    "duration": 44,
    "start_time": "2022-04-07T18:23:18.186Z"
   },
   {
    "duration": 28,
    "start_time": "2022-04-07T18:23:18.232Z"
   },
   {
    "duration": 5,
    "start_time": "2022-04-07T18:23:18.262Z"
   },
   {
    "duration": 7,
    "start_time": "2022-04-07T18:23:18.268Z"
   },
   {
    "duration": 18,
    "start_time": "2022-04-07T18:23:18.276Z"
   },
   {
    "duration": 12,
    "start_time": "2022-04-07T18:23:18.295Z"
   },
   {
    "duration": 9,
    "start_time": "2022-04-07T18:23:18.330Z"
   },
   {
    "duration": 8,
    "start_time": "2022-04-07T18:23:18.341Z"
   },
   {
    "duration": 13,
    "start_time": "2022-04-07T18:23:18.350Z"
   },
   {
    "duration": 13,
    "start_time": "2022-04-07T18:23:18.364Z"
   },
   {
    "duration": 185,
    "start_time": "2022-04-07T18:23:18.378Z"
   },
   {
    "duration": 170,
    "start_time": "2022-04-07T18:23:18.565Z"
   },
   {
    "duration": 158,
    "start_time": "2022-04-07T18:23:18.737Z"
   },
   {
    "duration": 175,
    "start_time": "2022-04-07T18:23:18.896Z"
   },
   {
    "duration": 140,
    "start_time": "2022-04-07T18:23:19.073Z"
   },
   {
    "duration": 228,
    "start_time": "2022-04-07T18:23:19.215Z"
   },
   {
    "duration": 166,
    "start_time": "2022-04-07T18:23:19.445Z"
   },
   {
    "duration": 171,
    "start_time": "2022-04-07T18:23:19.612Z"
   },
   {
    "duration": 176,
    "start_time": "2022-04-07T18:23:19.784Z"
   },
   {
    "duration": 156,
    "start_time": "2022-04-07T18:23:19.961Z"
   },
   {
    "duration": 156,
    "start_time": "2022-04-07T18:23:20.119Z"
   },
   {
    "duration": 168,
    "start_time": "2022-04-07T18:23:20.277Z"
   },
   {
    "duration": 169,
    "start_time": "2022-04-07T18:23:20.447Z"
   },
   {
    "duration": 162,
    "start_time": "2022-04-07T18:23:20.618Z"
   },
   {
    "duration": 146,
    "start_time": "2022-04-07T18:23:20.783Z"
   },
   {
    "duration": 412,
    "start_time": "2022-04-07T18:23:20.931Z"
   },
   {
    "duration": 29,
    "start_time": "2022-04-07T18:23:21.345Z"
   },
   {
    "duration": 271,
    "start_time": "2022-04-07T18:23:21.375Z"
   },
   {
    "duration": 156,
    "start_time": "2022-04-07T18:23:21.648Z"
   },
   {
    "duration": 196,
    "start_time": "2022-04-07T18:23:21.806Z"
   },
   {
    "duration": 168,
    "start_time": "2022-04-07T18:23:22.003Z"
   },
   {
    "duration": 192,
    "start_time": "2022-04-07T18:23:22.172Z"
   },
   {
    "duration": 164,
    "start_time": "2022-04-07T18:23:22.366Z"
   },
   {
    "duration": 3,
    "start_time": "2022-04-07T18:23:22.531Z"
   },
   {
    "duration": 11,
    "start_time": "2022-04-07T18:23:22.536Z"
   },
   {
    "duration": 3,
    "start_time": "2022-04-07T18:23:22.548Z"
   },
   {
    "duration": 1086,
    "start_time": "2022-04-07T18:23:22.552Z"
   },
   {
    "duration": 1301,
    "start_time": "2022-04-07T18:25:47.606Z"
   },
   {
    "duration": 9,
    "start_time": "2022-04-07T18:25:48.909Z"
   },
   {
    "duration": 602,
    "start_time": "2022-04-07T18:25:48.920Z"
   },
   {
    "duration": 40,
    "start_time": "2022-04-07T18:25:49.524Z"
   },
   {
    "duration": 30,
    "start_time": "2022-04-07T18:25:49.565Z"
   },
   {
    "duration": 6,
    "start_time": "2022-04-07T18:25:49.596Z"
   },
   {
    "duration": 27,
    "start_time": "2022-04-07T18:25:49.603Z"
   },
   {
    "duration": 16,
    "start_time": "2022-04-07T18:25:49.631Z"
   },
   {
    "duration": 12,
    "start_time": "2022-04-07T18:25:49.648Z"
   },
   {
    "duration": 13,
    "start_time": "2022-04-07T18:25:49.663Z"
   },
   {
    "duration": 7,
    "start_time": "2022-04-07T18:25:49.678Z"
   },
   {
    "duration": 11,
    "start_time": "2022-04-07T18:25:49.687Z"
   },
   {
    "duration": 12,
    "start_time": "2022-04-07T18:25:49.729Z"
   },
   {
    "duration": 164,
    "start_time": "2022-04-07T18:25:49.743Z"
   },
   {
    "duration": 173,
    "start_time": "2022-04-07T18:25:49.909Z"
   },
   {
    "duration": 268,
    "start_time": "2022-04-07T18:25:50.084Z"
   },
   {
    "duration": 187,
    "start_time": "2022-04-07T18:25:50.353Z"
   },
   {
    "duration": 144,
    "start_time": "2022-04-07T18:25:50.541Z"
   },
   {
    "duration": 234,
    "start_time": "2022-04-07T18:25:50.686Z"
   },
   {
    "duration": 164,
    "start_time": "2022-04-07T18:25:50.921Z"
   },
   {
    "duration": 176,
    "start_time": "2022-04-07T18:25:51.087Z"
   },
   {
    "duration": 178,
    "start_time": "2022-04-07T18:25:51.265Z"
   },
   {
    "duration": 148,
    "start_time": "2022-04-07T18:25:51.444Z"
   },
   {
    "duration": 157,
    "start_time": "2022-04-07T18:25:51.593Z"
   },
   {
    "duration": 151,
    "start_time": "2022-04-07T18:25:51.752Z"
   },
   {
    "duration": 171,
    "start_time": "2022-04-07T18:25:51.904Z"
   },
   {
    "duration": 168,
    "start_time": "2022-04-07T18:25:52.076Z"
   },
   {
    "duration": 146,
    "start_time": "2022-04-07T18:25:52.247Z"
   },
   {
    "duration": 426,
    "start_time": "2022-04-07T18:25:52.394Z"
   },
   {
    "duration": 33,
    "start_time": "2022-04-07T18:25:52.822Z"
   },
   {
    "duration": 168,
    "start_time": "2022-04-07T18:25:52.856Z"
   },
   {
    "duration": 165,
    "start_time": "2022-04-07T18:25:53.030Z"
   },
   {
    "duration": 196,
    "start_time": "2022-04-07T18:25:53.197Z"
   },
   {
    "duration": 168,
    "start_time": "2022-04-07T18:25:53.395Z"
   },
   {
    "duration": 185,
    "start_time": "2022-04-07T18:25:53.564Z"
   },
   {
    "duration": 160,
    "start_time": "2022-04-07T18:25:53.751Z"
   },
   {
    "duration": 3,
    "start_time": "2022-04-07T18:25:53.912Z"
   },
   {
    "duration": 16,
    "start_time": "2022-04-07T18:25:53.916Z"
   },
   {
    "duration": 3,
    "start_time": "2022-04-07T18:25:53.934Z"
   },
   {
    "duration": 1292,
    "start_time": "2022-04-07T18:25:53.938Z"
   },
   {
    "duration": 7,
    "start_time": "2022-04-07T18:26:48.371Z"
   },
   {
    "duration": 12,
    "start_time": "2022-04-07T18:30:07.337Z"
   },
   {
    "duration": 1244,
    "start_time": "2022-04-07T18:35:53.180Z"
   },
   {
    "duration": 9,
    "start_time": "2022-04-07T18:35:54.426Z"
   },
   {
    "duration": 679,
    "start_time": "2022-04-07T18:35:54.436Z"
   },
   {
    "duration": 65,
    "start_time": "2022-04-07T18:35:55.118Z"
   },
   {
    "duration": 45,
    "start_time": "2022-04-07T18:35:55.185Z"
   },
   {
    "duration": 7,
    "start_time": "2022-04-07T18:35:55.232Z"
   },
   {
    "duration": 4,
    "start_time": "2022-04-07T18:35:55.241Z"
   },
   {
    "duration": 18,
    "start_time": "2022-04-07T18:35:55.246Z"
   },
   {
    "duration": 12,
    "start_time": "2022-04-07T18:35:55.265Z"
   },
   {
    "duration": 11,
    "start_time": "2022-04-07T18:35:55.280Z"
   },
   {
    "duration": 38,
    "start_time": "2022-04-07T18:35:55.292Z"
   },
   {
    "duration": 13,
    "start_time": "2022-04-07T18:35:55.332Z"
   },
   {
    "duration": 14,
    "start_time": "2022-04-07T18:35:55.346Z"
   },
   {
    "duration": 181,
    "start_time": "2022-04-07T18:35:55.361Z"
   },
   {
    "duration": 195,
    "start_time": "2022-04-07T18:35:55.545Z"
   },
   {
    "duration": 173,
    "start_time": "2022-04-07T18:35:55.741Z"
   },
   {
    "duration": 176,
    "start_time": "2022-04-07T18:35:55.916Z"
   },
   {
    "duration": 151,
    "start_time": "2022-04-07T18:35:56.093Z"
   },
   {
    "duration": 319,
    "start_time": "2022-04-07T18:35:56.246Z"
   },
   {
    "duration": 168,
    "start_time": "2022-04-07T18:35:56.566Z"
   },
   {
    "duration": 178,
    "start_time": "2022-04-07T18:35:56.736Z"
   },
   {
    "duration": 176,
    "start_time": "2022-04-07T18:35:56.916Z"
   },
   {
    "duration": 159,
    "start_time": "2022-04-07T18:35:57.093Z"
   },
   {
    "duration": 161,
    "start_time": "2022-04-07T18:35:57.254Z"
   },
   {
    "duration": 149,
    "start_time": "2022-04-07T18:35:57.417Z"
   },
   {
    "duration": 176,
    "start_time": "2022-04-07T18:35:57.568Z"
   },
   {
    "duration": 165,
    "start_time": "2022-04-07T18:35:57.745Z"
   },
   {
    "duration": 146,
    "start_time": "2022-04-07T18:35:57.913Z"
   },
   {
    "duration": 445,
    "start_time": "2022-04-07T18:35:58.061Z"
   },
   {
    "duration": 39,
    "start_time": "2022-04-07T18:35:58.507Z"
   },
   {
    "duration": 160,
    "start_time": "2022-04-07T18:35:58.548Z"
   },
   {
    "duration": 183,
    "start_time": "2022-04-07T18:35:58.709Z"
   },
   {
    "duration": 199,
    "start_time": "2022-04-07T18:35:58.894Z"
   },
   {
    "duration": 169,
    "start_time": "2022-04-07T18:35:59.095Z"
   },
   {
    "duration": 185,
    "start_time": "2022-04-07T18:35:59.265Z"
   },
   {
    "duration": 167,
    "start_time": "2022-04-07T18:35:59.451Z"
   },
   {
    "duration": 11,
    "start_time": "2022-04-07T18:35:59.619Z"
   },
   {
    "duration": 107,
    "start_time": "2022-04-07T18:35:59.631Z"
   },
   {
    "duration": 0,
    "start_time": "2022-04-07T18:35:59.740Z"
   },
   {
    "duration": 0,
    "start_time": "2022-04-07T18:35:59.741Z"
   },
   {
    "duration": 1316,
    "start_time": "2022-04-07T18:36:43.245Z"
   },
   {
    "duration": 9,
    "start_time": "2022-04-07T18:36:44.563Z"
   },
   {
    "duration": 586,
    "start_time": "2022-04-07T18:36:44.575Z"
   },
   {
    "duration": 41,
    "start_time": "2022-04-07T18:36:45.163Z"
   },
   {
    "duration": 47,
    "start_time": "2022-04-07T18:36:45.206Z"
   },
   {
    "duration": 8,
    "start_time": "2022-04-07T18:36:45.255Z"
   },
   {
    "duration": 5,
    "start_time": "2022-04-07T18:36:45.264Z"
   },
   {
    "duration": 26,
    "start_time": "2022-04-07T18:36:45.271Z"
   },
   {
    "duration": 33,
    "start_time": "2022-04-07T18:36:45.299Z"
   },
   {
    "duration": 13,
    "start_time": "2022-04-07T18:36:45.334Z"
   },
   {
    "duration": 9,
    "start_time": "2022-04-07T18:36:45.348Z"
   },
   {
    "duration": 14,
    "start_time": "2022-04-07T18:36:45.358Z"
   },
   {
    "duration": 12,
    "start_time": "2022-04-07T18:36:45.376Z"
   },
   {
    "duration": 197,
    "start_time": "2022-04-07T18:36:45.390Z"
   },
   {
    "duration": 173,
    "start_time": "2022-04-07T18:36:45.589Z"
   },
   {
    "duration": 156,
    "start_time": "2022-04-07T18:36:45.763Z"
   },
   {
    "duration": 172,
    "start_time": "2022-04-07T18:36:45.921Z"
   },
   {
    "duration": 145,
    "start_time": "2022-04-07T18:36:46.094Z"
   },
   {
    "duration": 226,
    "start_time": "2022-04-07T18:36:46.240Z"
   },
   {
    "duration": 165,
    "start_time": "2022-04-07T18:36:46.467Z"
   },
   {
    "duration": 166,
    "start_time": "2022-04-07T18:36:46.633Z"
   },
   {
    "duration": 175,
    "start_time": "2022-04-07T18:36:46.800Z"
   },
   {
    "duration": 152,
    "start_time": "2022-04-07T18:36:46.976Z"
   },
   {
    "duration": 156,
    "start_time": "2022-04-07T18:36:47.129Z"
   },
   {
    "duration": 149,
    "start_time": "2022-04-07T18:36:47.287Z"
   },
   {
    "duration": 176,
    "start_time": "2022-04-07T18:36:47.438Z"
   },
   {
    "duration": 162,
    "start_time": "2022-04-07T18:36:47.616Z"
   },
   {
    "duration": 145,
    "start_time": "2022-04-07T18:36:47.780Z"
   },
   {
    "duration": 421,
    "start_time": "2022-04-07T18:36:47.926Z"
   },
   {
    "duration": 31,
    "start_time": "2022-04-07T18:36:48.348Z"
   },
   {
    "duration": 168,
    "start_time": "2022-04-07T18:36:48.380Z"
   },
   {
    "duration": 170,
    "start_time": "2022-04-07T18:36:48.550Z"
   },
   {
    "duration": 189,
    "start_time": "2022-04-07T18:36:48.721Z"
   },
   {
    "duration": 164,
    "start_time": "2022-04-07T18:36:48.912Z"
   },
   {
    "duration": 182,
    "start_time": "2022-04-07T18:36:49.077Z"
   },
   {
    "duration": 165,
    "start_time": "2022-04-07T18:36:49.260Z"
   },
   {
    "duration": 3,
    "start_time": "2022-04-07T18:36:49.427Z"
   },
   {
    "duration": 8,
    "start_time": "2022-04-07T18:36:49.431Z"
   },
   {
    "duration": 2,
    "start_time": "2022-04-07T18:36:49.441Z"
   },
   {
    "duration": 30,
    "start_time": "2022-04-07T18:36:49.446Z"
   },
   {
    "duration": 97,
    "start_time": "2022-04-07T18:37:21.005Z"
   },
   {
    "duration": 25,
    "start_time": "2022-04-07T18:37:35.543Z"
   },
   {
    "duration": 14,
    "start_time": "2022-04-07T18:47:54.559Z"
   },
   {
    "duration": 1324,
    "start_time": "2022-04-07T18:48:18.439Z"
   },
   {
    "duration": 9,
    "start_time": "2022-04-07T18:48:19.764Z"
   },
   {
    "duration": 555,
    "start_time": "2022-04-07T18:48:19.774Z"
   },
   {
    "duration": 39,
    "start_time": "2022-04-07T18:48:20.332Z"
   },
   {
    "duration": 29,
    "start_time": "2022-04-07T18:48:20.373Z"
   },
   {
    "duration": 26,
    "start_time": "2022-04-07T18:48:20.404Z"
   },
   {
    "duration": 4,
    "start_time": "2022-04-07T18:48:20.432Z"
   },
   {
    "duration": 17,
    "start_time": "2022-04-07T18:48:20.438Z"
   },
   {
    "duration": 12,
    "start_time": "2022-04-07T18:48:20.456Z"
   },
   {
    "duration": 11,
    "start_time": "2022-04-07T18:48:20.471Z"
   },
   {
    "duration": 9,
    "start_time": "2022-04-07T18:48:20.484Z"
   },
   {
    "duration": 14,
    "start_time": "2022-04-07T18:48:20.530Z"
   },
   {
    "duration": 14,
    "start_time": "2022-04-07T18:48:20.545Z"
   },
   {
    "duration": 182,
    "start_time": "2022-04-07T18:48:20.560Z"
   },
   {
    "duration": 165,
    "start_time": "2022-04-07T18:48:20.744Z"
   },
   {
    "duration": 159,
    "start_time": "2022-04-07T18:48:20.910Z"
   },
   {
    "duration": 178,
    "start_time": "2022-04-07T18:48:21.070Z"
   },
   {
    "duration": 139,
    "start_time": "2022-04-07T18:48:21.250Z"
   },
   {
    "duration": 230,
    "start_time": "2022-04-07T18:48:21.391Z"
   },
   {
    "duration": 162,
    "start_time": "2022-04-07T18:48:21.622Z"
   },
   {
    "duration": 181,
    "start_time": "2022-04-07T18:48:21.786Z"
   },
   {
    "duration": 169,
    "start_time": "2022-04-07T18:48:21.969Z"
   },
   {
    "duration": 149,
    "start_time": "2022-04-07T18:48:22.139Z"
   },
   {
    "duration": 157,
    "start_time": "2022-04-07T18:48:22.290Z"
   },
   {
    "duration": 155,
    "start_time": "2022-04-07T18:48:22.449Z"
   },
   {
    "duration": 168,
    "start_time": "2022-04-07T18:48:22.606Z"
   },
   {
    "duration": 162,
    "start_time": "2022-04-07T18:48:22.776Z"
   },
   {
    "duration": 137,
    "start_time": "2022-04-07T18:48:22.941Z"
   },
   {
    "duration": 407,
    "start_time": "2022-04-07T18:48:23.079Z"
   },
   {
    "duration": 29,
    "start_time": "2022-04-07T18:48:23.487Z"
   },
   {
    "duration": 37,
    "start_time": "2022-04-07T18:48:23.517Z"
   },
   {
    "duration": 163,
    "start_time": "2022-04-07T18:48:23.555Z"
   },
   {
    "duration": 167,
    "start_time": "2022-04-07T18:48:23.720Z"
   },
   {
    "duration": 169,
    "start_time": "2022-04-07T18:48:23.889Z"
   },
   {
    "duration": 164,
    "start_time": "2022-04-07T18:48:24.059Z"
   },
   {
    "duration": 5,
    "start_time": "2022-04-07T18:48:24.224Z"
   },
   {
    "duration": 100,
    "start_time": "2022-04-07T18:48:24.230Z"
   },
   {
    "duration": 0,
    "start_time": "2022-04-07T18:48:24.331Z"
   },
   {
    "duration": 0,
    "start_time": "2022-04-07T18:48:24.332Z"
   },
   {
    "duration": 1301,
    "start_time": "2022-04-07T18:50:11.413Z"
   },
   {
    "duration": 14,
    "start_time": "2022-04-07T18:50:12.716Z"
   },
   {
    "duration": 632,
    "start_time": "2022-04-07T18:50:12.731Z"
   },
   {
    "duration": 41,
    "start_time": "2022-04-07T18:50:13.365Z"
   },
   {
    "duration": 41,
    "start_time": "2022-04-07T18:50:13.408Z"
   },
   {
    "duration": 8,
    "start_time": "2022-04-07T18:50:13.450Z"
   },
   {
    "duration": 5,
    "start_time": "2022-04-07T18:50:13.460Z"
   },
   {
    "duration": 17,
    "start_time": "2022-04-07T18:50:13.466Z"
   },
   {
    "duration": 12,
    "start_time": "2022-04-07T18:50:13.485Z"
   },
   {
    "duration": 38,
    "start_time": "2022-04-07T18:50:13.500Z"
   },
   {
    "duration": 9,
    "start_time": "2022-04-07T18:50:13.539Z"
   },
   {
    "duration": 13,
    "start_time": "2022-04-07T18:50:13.549Z"
   },
   {
    "duration": 12,
    "start_time": "2022-04-07T18:50:13.563Z"
   },
   {
    "duration": 187,
    "start_time": "2022-04-07T18:50:13.576Z"
   },
   {
    "duration": 191,
    "start_time": "2022-04-07T18:50:13.765Z"
   },
   {
    "duration": 166,
    "start_time": "2022-04-07T18:50:13.957Z"
   },
   {
    "duration": 171,
    "start_time": "2022-04-07T18:50:14.124Z"
   },
   {
    "duration": 144,
    "start_time": "2022-04-07T18:50:14.297Z"
   },
   {
    "duration": 234,
    "start_time": "2022-04-07T18:50:14.442Z"
   },
   {
    "duration": 171,
    "start_time": "2022-04-07T18:50:14.677Z"
   },
   {
    "duration": 179,
    "start_time": "2022-04-07T18:50:14.850Z"
   },
   {
    "duration": 167,
    "start_time": "2022-04-07T18:50:15.031Z"
   },
   {
    "duration": 250,
    "start_time": "2022-04-07T18:50:15.200Z"
   },
   {
    "duration": 157,
    "start_time": "2022-04-07T18:50:15.451Z"
   },
   {
    "duration": 159,
    "start_time": "2022-04-07T18:50:15.610Z"
   },
   {
    "duration": 175,
    "start_time": "2022-04-07T18:50:15.770Z"
   },
   {
    "duration": 161,
    "start_time": "2022-04-07T18:50:15.946Z"
   },
   {
    "duration": 144,
    "start_time": "2022-04-07T18:50:16.110Z"
   },
   {
    "duration": 435,
    "start_time": "2022-04-07T18:50:16.256Z"
   },
   {
    "duration": 40,
    "start_time": "2022-04-07T18:50:16.692Z"
   },
   {
    "duration": 30,
    "start_time": "2022-04-07T18:50:16.734Z"
   },
   {
    "duration": 175,
    "start_time": "2022-04-07T18:50:16.765Z"
   },
   {
    "duration": 162,
    "start_time": "2022-04-07T18:50:16.942Z"
   },
   {
    "duration": 163,
    "start_time": "2022-04-07T18:50:17.106Z"
   },
   {
    "duration": 17,
    "start_time": "2022-04-07T18:50:17.270Z"
   },
   {
    "duration": 169,
    "start_time": "2022-04-07T18:50:17.289Z"
   },
   {
    "duration": 3,
    "start_time": "2022-04-07T18:50:17.460Z"
   },
   {
    "duration": 105,
    "start_time": "2022-04-07T18:50:17.465Z"
   },
   {
    "duration": 0,
    "start_time": "2022-04-07T18:50:17.572Z"
   },
   {
    "duration": 0,
    "start_time": "2022-04-07T18:50:17.573Z"
   },
   {
    "duration": 45,
    "start_time": "2022-04-08T09:08:28.298Z"
   },
   {
    "duration": 6,
    "start_time": "2022-04-08T09:08:35.525Z"
   },
   {
    "duration": 1426,
    "start_time": "2022-04-08T09:08:42.165Z"
   },
   {
    "duration": 9,
    "start_time": "2022-04-08T09:08:43.593Z"
   },
   {
    "duration": 557,
    "start_time": "2022-04-08T09:08:43.603Z"
   },
   {
    "duration": 39,
    "start_time": "2022-04-08T09:08:44.162Z"
   },
   {
    "duration": 41,
    "start_time": "2022-04-08T09:08:44.202Z"
   },
   {
    "duration": 7,
    "start_time": "2022-04-08T09:08:44.245Z"
   },
   {
    "duration": 4,
    "start_time": "2022-04-08T09:08:44.253Z"
   },
   {
    "duration": 19,
    "start_time": "2022-04-08T09:08:44.258Z"
   },
   {
    "duration": 11,
    "start_time": "2022-04-08T09:08:44.278Z"
   },
   {
    "duration": 11,
    "start_time": "2022-04-08T09:08:44.291Z"
   },
   {
    "duration": 31,
    "start_time": "2022-04-08T09:08:44.303Z"
   },
   {
    "duration": 12,
    "start_time": "2022-04-08T09:08:44.336Z"
   },
   {
    "duration": 11,
    "start_time": "2022-04-08T09:08:44.350Z"
   },
   {
    "duration": 176,
    "start_time": "2022-04-08T09:08:44.362Z"
   },
   {
    "duration": 176,
    "start_time": "2022-04-08T09:08:44.540Z"
   },
   {
    "duration": 161,
    "start_time": "2022-04-08T09:08:44.717Z"
   },
   {
    "duration": 168,
    "start_time": "2022-04-08T09:08:44.880Z"
   },
   {
    "duration": 194,
    "start_time": "2022-04-08T09:08:45.050Z"
   },
   {
    "duration": 188,
    "start_time": "2022-04-08T09:08:45.245Z"
   },
   {
    "duration": 172,
    "start_time": "2022-04-08T09:08:45.434Z"
   },
   {
    "duration": 181,
    "start_time": "2022-04-08T09:08:45.607Z"
   },
   {
    "duration": 172,
    "start_time": "2022-04-08T09:08:45.790Z"
   },
   {
    "duration": 152,
    "start_time": "2022-04-08T09:08:45.963Z"
   },
   {
    "duration": 157,
    "start_time": "2022-04-08T09:08:46.116Z"
   },
   {
    "duration": 157,
    "start_time": "2022-04-08T09:08:46.275Z"
   },
   {
    "duration": 165,
    "start_time": "2022-04-08T09:08:46.434Z"
   },
   {
    "duration": 161,
    "start_time": "2022-04-08T09:08:46.600Z"
   },
   {
    "duration": 142,
    "start_time": "2022-04-08T09:08:46.764Z"
   },
   {
    "duration": 412,
    "start_time": "2022-04-08T09:08:46.908Z"
   },
   {
    "duration": 33,
    "start_time": "2022-04-08T09:08:47.322Z"
   },
   {
    "duration": 27,
    "start_time": "2022-04-08T09:08:47.357Z"
   },
   {
    "duration": 159,
    "start_time": "2022-04-08T09:08:47.386Z"
   },
   {
    "duration": 166,
    "start_time": "2022-04-08T09:08:47.546Z"
   },
   {
    "duration": 161,
    "start_time": "2022-04-08T09:08:47.714Z"
   },
   {
    "duration": 17,
    "start_time": "2022-04-08T09:08:47.877Z"
   },
   {
    "duration": 166,
    "start_time": "2022-04-08T09:08:47.895Z"
   },
   {
    "duration": 3,
    "start_time": "2022-04-08T09:08:48.063Z"
   },
   {
    "duration": 14,
    "start_time": "2022-04-08T09:08:48.067Z"
   },
   {
    "duration": 1748,
    "start_time": "2022-04-08T09:08:48.082Z"
   },
   {
    "duration": 0,
    "start_time": "2022-04-08T09:08:49.831Z"
   },
   {
    "duration": 0,
    "start_time": "2022-04-08T09:08:49.833Z"
   },
   {
    "duration": 1694,
    "start_time": "2022-04-08T09:10:26.369Z"
   },
   {
    "duration": 23,
    "start_time": "2022-04-08T09:11:08.506Z"
   },
   {
    "duration": 19,
    "start_time": "2022-04-08T09:13:16.122Z"
   },
   {
    "duration": 8,
    "start_time": "2022-04-08T09:15:05.173Z"
   },
   {
    "duration": 8,
    "start_time": "2022-04-08T09:16:49.431Z"
   },
   {
    "duration": 12,
    "start_time": "2022-04-08T09:17:22.010Z"
   },
   {
    "duration": 118,
    "start_time": "2022-04-08T09:17:46.186Z"
   },
   {
    "duration": 8,
    "start_time": "2022-04-08T09:17:58.557Z"
   },
   {
    "duration": 1330,
    "start_time": "2022-04-08T09:18:07.616Z"
   },
   {
    "duration": 8,
    "start_time": "2022-04-08T09:18:08.948Z"
   },
   {
    "duration": 553,
    "start_time": "2022-04-08T09:18:08.958Z"
   },
   {
    "duration": 49,
    "start_time": "2022-04-08T09:18:09.513Z"
   },
   {
    "duration": 29,
    "start_time": "2022-04-08T09:18:09.563Z"
   },
   {
    "duration": 6,
    "start_time": "2022-04-08T09:18:09.593Z"
   },
   {
    "duration": 4,
    "start_time": "2022-04-08T09:18:09.600Z"
   },
   {
    "duration": 114,
    "start_time": "2022-04-08T09:18:09.605Z"
   },
   {
    "duration": 0,
    "start_time": "2022-04-08T09:18:09.722Z"
   },
   {
    "duration": 0,
    "start_time": "2022-04-08T09:18:09.729Z"
   },
   {
    "duration": 0,
    "start_time": "2022-04-08T09:18:09.730Z"
   },
   {
    "duration": 0,
    "start_time": "2022-04-08T09:18:09.731Z"
   },
   {
    "duration": 0,
    "start_time": "2022-04-08T09:18:09.732Z"
   },
   {
    "duration": 0,
    "start_time": "2022-04-08T09:18:09.733Z"
   },
   {
    "duration": 0,
    "start_time": "2022-04-08T09:18:09.734Z"
   },
   {
    "duration": 0,
    "start_time": "2022-04-08T09:18:09.735Z"
   },
   {
    "duration": 0,
    "start_time": "2022-04-08T09:18:09.736Z"
   },
   {
    "duration": 0,
    "start_time": "2022-04-08T09:18:09.737Z"
   },
   {
    "duration": 0,
    "start_time": "2022-04-08T09:18:09.738Z"
   },
   {
    "duration": 0,
    "start_time": "2022-04-08T09:18:09.739Z"
   },
   {
    "duration": 0,
    "start_time": "2022-04-08T09:18:09.739Z"
   },
   {
    "duration": 0,
    "start_time": "2022-04-08T09:18:09.740Z"
   },
   {
    "duration": 0,
    "start_time": "2022-04-08T09:18:09.741Z"
   },
   {
    "duration": 0,
    "start_time": "2022-04-08T09:18:09.742Z"
   },
   {
    "duration": 0,
    "start_time": "2022-04-08T09:18:09.743Z"
   },
   {
    "duration": 0,
    "start_time": "2022-04-08T09:18:09.744Z"
   },
   {
    "duration": 0,
    "start_time": "2022-04-08T09:18:09.746Z"
   },
   {
    "duration": 0,
    "start_time": "2022-04-08T09:18:09.747Z"
   },
   {
    "duration": 0,
    "start_time": "2022-04-08T09:18:09.748Z"
   },
   {
    "duration": 0,
    "start_time": "2022-04-08T09:18:09.749Z"
   },
   {
    "duration": 0,
    "start_time": "2022-04-08T09:18:09.750Z"
   },
   {
    "duration": 0,
    "start_time": "2022-04-08T09:18:09.751Z"
   },
   {
    "duration": 0,
    "start_time": "2022-04-08T09:18:09.752Z"
   },
   {
    "duration": 0,
    "start_time": "2022-04-08T09:18:09.753Z"
   },
   {
    "duration": 0,
    "start_time": "2022-04-08T09:18:09.754Z"
   },
   {
    "duration": 0,
    "start_time": "2022-04-08T09:18:09.755Z"
   },
   {
    "duration": 0,
    "start_time": "2022-04-08T09:18:09.756Z"
   },
   {
    "duration": 0,
    "start_time": "2022-04-08T09:18:09.757Z"
   },
   {
    "duration": 0,
    "start_time": "2022-04-08T09:18:09.758Z"
   },
   {
    "duration": 0,
    "start_time": "2022-04-08T09:18:09.759Z"
   },
   {
    "duration": 0,
    "start_time": "2022-04-08T09:18:09.759Z"
   },
   {
    "duration": 0,
    "start_time": "2022-04-08T09:18:09.760Z"
   },
   {
    "duration": 1308,
    "start_time": "2022-04-08T09:24:28.259Z"
   },
   {
    "duration": 9,
    "start_time": "2022-04-08T09:24:29.569Z"
   },
   {
    "duration": 609,
    "start_time": "2022-04-08T09:24:29.579Z"
   },
   {
    "duration": 52,
    "start_time": "2022-04-08T09:24:30.189Z"
   },
   {
    "duration": 31,
    "start_time": "2022-04-08T09:24:30.242Z"
   },
   {
    "duration": 7,
    "start_time": "2022-04-08T09:24:30.275Z"
   },
   {
    "duration": 15,
    "start_time": "2022-04-08T09:24:30.283Z"
   },
   {
    "duration": 33,
    "start_time": "2022-04-08T09:24:30.299Z"
   },
   {
    "duration": 21,
    "start_time": "2022-04-08T09:24:30.334Z"
   },
   {
    "duration": 22,
    "start_time": "2022-04-08T09:24:30.357Z"
   },
   {
    "duration": 8,
    "start_time": "2022-04-08T09:24:30.380Z"
   },
   {
    "duration": 22,
    "start_time": "2022-04-08T09:24:30.390Z"
   },
   {
    "duration": 25,
    "start_time": "2022-04-08T09:24:30.414Z"
   },
   {
    "duration": 164,
    "start_time": "2022-04-08T09:24:30.441Z"
   },
   {
    "duration": 172,
    "start_time": "2022-04-08T09:24:30.606Z"
   },
   {
    "duration": 165,
    "start_time": "2022-04-08T09:24:30.779Z"
   },
   {
    "duration": 175,
    "start_time": "2022-04-08T09:24:30.946Z"
   },
   {
    "duration": 139,
    "start_time": "2022-04-08T09:24:31.130Z"
   },
   {
    "duration": 240,
    "start_time": "2022-04-08T09:24:31.270Z"
   },
   {
    "duration": 169,
    "start_time": "2022-04-08T09:24:31.512Z"
   },
   {
    "duration": 179,
    "start_time": "2022-04-08T09:24:31.682Z"
   },
   {
    "duration": 174,
    "start_time": "2022-04-08T09:24:31.863Z"
   },
   {
    "duration": 145,
    "start_time": "2022-04-08T09:24:32.039Z"
   },
   {
    "duration": 160,
    "start_time": "2022-04-08T09:24:32.185Z"
   },
   {
    "duration": 154,
    "start_time": "2022-04-08T09:24:32.347Z"
   },
   {
    "duration": 173,
    "start_time": "2022-04-08T09:24:32.503Z"
   },
   {
    "duration": 162,
    "start_time": "2022-04-08T09:24:32.677Z"
   },
   {
    "duration": 149,
    "start_time": "2022-04-08T09:24:32.842Z"
   },
   {
    "duration": 433,
    "start_time": "2022-04-08T09:24:32.992Z"
   },
   {
    "duration": 30,
    "start_time": "2022-04-08T09:24:33.429Z"
   },
   {
    "duration": 28,
    "start_time": "2022-04-08T09:24:33.461Z"
   },
   {
    "duration": 170,
    "start_time": "2022-04-08T09:24:33.490Z"
   },
   {
    "duration": 168,
    "start_time": "2022-04-08T09:24:33.662Z"
   },
   {
    "duration": 169,
    "start_time": "2022-04-08T09:24:33.832Z"
   },
   {
    "duration": 28,
    "start_time": "2022-04-08T09:24:34.002Z"
   },
   {
    "duration": 162,
    "start_time": "2022-04-08T09:24:34.031Z"
   },
   {
    "duration": 3,
    "start_time": "2022-04-08T09:24:34.195Z"
   },
   {
    "duration": 104,
    "start_time": "2022-04-08T09:24:34.199Z"
   },
   {
    "duration": 0,
    "start_time": "2022-04-08T09:24:34.305Z"
   },
   {
    "duration": 0,
    "start_time": "2022-04-08T09:24:34.306Z"
   },
   {
    "duration": 11,
    "start_time": "2022-04-08T09:26:40.055Z"
   },
   {
    "duration": 1258,
    "start_time": "2022-04-08T09:27:17.159Z"
   },
   {
    "duration": 13,
    "start_time": "2022-04-08T09:27:18.419Z"
   },
   {
    "duration": 600,
    "start_time": "2022-04-08T09:27:18.434Z"
   },
   {
    "duration": 41,
    "start_time": "2022-04-08T09:27:19.036Z"
   },
   {
    "duration": 31,
    "start_time": "2022-04-08T09:27:19.078Z"
   },
   {
    "duration": 22,
    "start_time": "2022-04-08T09:27:19.111Z"
   },
   {
    "duration": 4,
    "start_time": "2022-04-08T09:27:19.135Z"
   },
   {
    "duration": 19,
    "start_time": "2022-04-08T09:27:19.140Z"
   },
   {
    "duration": 12,
    "start_time": "2022-04-08T09:27:19.160Z"
   },
   {
    "duration": 12,
    "start_time": "2022-04-08T09:27:19.175Z"
   },
   {
    "duration": 8,
    "start_time": "2022-04-08T09:27:19.189Z"
   },
   {
    "duration": 14,
    "start_time": "2022-04-08T09:27:19.229Z"
   },
   {
    "duration": 13,
    "start_time": "2022-04-08T09:27:19.244Z"
   },
   {
    "duration": 182,
    "start_time": "2022-04-08T09:27:19.259Z"
   },
   {
    "duration": 171,
    "start_time": "2022-04-08T09:27:19.442Z"
   },
   {
    "duration": 171,
    "start_time": "2022-04-08T09:27:19.614Z"
   },
   {
    "duration": 191,
    "start_time": "2022-04-08T09:27:19.787Z"
   },
   {
    "duration": 151,
    "start_time": "2022-04-08T09:27:19.980Z"
   },
   {
    "duration": 247,
    "start_time": "2022-04-08T09:27:20.133Z"
   },
   {
    "duration": 177,
    "start_time": "2022-04-08T09:27:20.382Z"
   },
   {
    "duration": 190,
    "start_time": "2022-04-08T09:27:20.561Z"
   },
   {
    "duration": 198,
    "start_time": "2022-04-08T09:27:20.752Z"
   },
   {
    "duration": 157,
    "start_time": "2022-04-08T09:27:20.951Z"
   },
   {
    "duration": 180,
    "start_time": "2022-04-08T09:27:21.110Z"
   },
   {
    "duration": 163,
    "start_time": "2022-04-08T09:27:21.291Z"
   },
   {
    "duration": 182,
    "start_time": "2022-04-08T09:27:21.456Z"
   },
   {
    "duration": 169,
    "start_time": "2022-04-08T09:27:21.640Z"
   },
   {
    "duration": 149,
    "start_time": "2022-04-08T09:27:21.813Z"
   },
   {
    "duration": 438,
    "start_time": "2022-04-08T09:27:21.964Z"
   },
   {
    "duration": 39,
    "start_time": "2022-04-08T09:27:22.403Z"
   },
   {
    "duration": 29,
    "start_time": "2022-04-08T09:27:22.443Z"
   },
   {
    "duration": 165,
    "start_time": "2022-04-08T09:27:22.474Z"
   },
   {
    "duration": 169,
    "start_time": "2022-04-08T09:27:22.641Z"
   },
   {
    "duration": 167,
    "start_time": "2022-04-08T09:27:22.812Z"
   },
   {
    "duration": 17,
    "start_time": "2022-04-08T09:27:22.981Z"
   },
   {
    "duration": 170,
    "start_time": "2022-04-08T09:27:23.000Z"
   },
   {
    "duration": 103,
    "start_time": "2022-04-08T09:27:23.172Z"
   },
   {
    "duration": 0,
    "start_time": "2022-04-08T09:27:23.276Z"
   },
   {
    "duration": 0,
    "start_time": "2022-04-08T09:27:23.277Z"
   },
   {
    "duration": 0,
    "start_time": "2022-04-08T09:27:23.278Z"
   },
   {
    "duration": 1303,
    "start_time": "2022-04-08T09:35:15.077Z"
   },
   {
    "duration": 9,
    "start_time": "2022-04-08T09:35:16.382Z"
   },
   {
    "duration": 587,
    "start_time": "2022-04-08T09:35:16.392Z"
   },
   {
    "duration": 49,
    "start_time": "2022-04-08T09:35:16.981Z"
   },
   {
    "duration": 31,
    "start_time": "2022-04-08T09:35:17.032Z"
   },
   {
    "duration": 6,
    "start_time": "2022-04-08T09:35:17.064Z"
   },
   {
    "duration": 28,
    "start_time": "2022-04-08T09:35:17.071Z"
   },
   {
    "duration": 15,
    "start_time": "2022-04-08T09:35:17.101Z"
   },
   {
    "duration": 12,
    "start_time": "2022-04-08T09:35:17.118Z"
   },
   {
    "duration": 8,
    "start_time": "2022-04-08T09:35:17.132Z"
   },
   {
    "duration": 12,
    "start_time": "2022-04-08T09:35:17.141Z"
   },
   {
    "duration": 15,
    "start_time": "2022-04-08T09:35:17.154Z"
   },
   {
    "duration": 185,
    "start_time": "2022-04-08T09:35:17.170Z"
   },
   {
    "duration": 174,
    "start_time": "2022-04-08T09:35:17.356Z"
   },
   {
    "duration": 158,
    "start_time": "2022-04-08T09:35:17.531Z"
   },
   {
    "duration": 169,
    "start_time": "2022-04-08T09:35:17.690Z"
   },
   {
    "duration": 145,
    "start_time": "2022-04-08T09:35:17.861Z"
   },
   {
    "duration": 229,
    "start_time": "2022-04-08T09:35:18.008Z"
   },
   {
    "duration": 166,
    "start_time": "2022-04-08T09:35:18.239Z"
   },
   {
    "duration": 175,
    "start_time": "2022-04-08T09:35:18.407Z"
   },
   {
    "duration": 178,
    "start_time": "2022-04-08T09:35:18.584Z"
   },
   {
    "duration": 154,
    "start_time": "2022-04-08T09:35:18.764Z"
   },
   {
    "duration": 166,
    "start_time": "2022-04-08T09:35:18.919Z"
   },
   {
    "duration": 157,
    "start_time": "2022-04-08T09:35:19.087Z"
   },
   {
    "duration": 184,
    "start_time": "2022-04-08T09:35:19.246Z"
   },
   {
    "duration": 160,
    "start_time": "2022-04-08T09:35:19.431Z"
   },
   {
    "duration": 147,
    "start_time": "2022-04-08T09:35:19.592Z"
   },
   {
    "duration": 442,
    "start_time": "2022-04-08T09:35:19.743Z"
   },
   {
    "duration": 31,
    "start_time": "2022-04-08T09:35:20.187Z"
   },
   {
    "duration": 29,
    "start_time": "2022-04-08T09:35:20.230Z"
   },
   {
    "duration": 170,
    "start_time": "2022-04-08T09:35:20.261Z"
   },
   {
    "duration": 175,
    "start_time": "2022-04-08T09:35:20.432Z"
   },
   {
    "duration": 164,
    "start_time": "2022-04-08T09:35:20.609Z"
   },
   {
    "duration": 17,
    "start_time": "2022-04-08T09:35:20.775Z"
   },
   {
    "duration": 177,
    "start_time": "2022-04-08T09:35:20.794Z"
   },
   {
    "duration": 98,
    "start_time": "2022-04-08T09:35:20.972Z"
   },
   {
    "duration": 0,
    "start_time": "2022-04-08T09:35:21.072Z"
   },
   {
    "duration": 0,
    "start_time": "2022-04-08T09:35:21.073Z"
   },
   {
    "duration": 0,
    "start_time": "2022-04-08T09:35:21.074Z"
   },
   {
    "duration": 4,
    "start_time": "2022-04-08T09:35:41.004Z"
   },
   {
    "duration": 1347,
    "start_time": "2022-04-08T09:35:47.284Z"
   },
   {
    "duration": 10,
    "start_time": "2022-04-08T09:35:48.633Z"
   },
   {
    "duration": 660,
    "start_time": "2022-04-08T09:35:48.645Z"
   },
   {
    "duration": 45,
    "start_time": "2022-04-08T09:35:49.307Z"
   },
   {
    "duration": 32,
    "start_time": "2022-04-08T09:35:49.353Z"
   },
   {
    "duration": 8,
    "start_time": "2022-04-08T09:35:49.386Z"
   },
   {
    "duration": 5,
    "start_time": "2022-04-08T09:35:49.396Z"
   },
   {
    "duration": 12,
    "start_time": "2022-04-08T09:35:49.429Z"
   },
   {
    "duration": 13,
    "start_time": "2022-04-08T09:35:49.443Z"
   },
   {
    "duration": 9,
    "start_time": "2022-04-08T09:35:49.458Z"
   },
   {
    "duration": 12,
    "start_time": "2022-04-08T09:35:49.468Z"
   },
   {
    "duration": 15,
    "start_time": "2022-04-08T09:35:49.482Z"
   },
   {
    "duration": 188,
    "start_time": "2022-04-08T09:35:49.498Z"
   },
   {
    "duration": 178,
    "start_time": "2022-04-08T09:35:49.688Z"
   },
   {
    "duration": 170,
    "start_time": "2022-04-08T09:35:49.867Z"
   },
   {
    "duration": 181,
    "start_time": "2022-04-08T09:35:50.038Z"
   },
   {
    "duration": 148,
    "start_time": "2022-04-08T09:35:50.221Z"
   },
   {
    "duration": 242,
    "start_time": "2022-04-08T09:35:50.371Z"
   },
   {
    "duration": 164,
    "start_time": "2022-04-08T09:35:50.615Z"
   },
   {
    "duration": 177,
    "start_time": "2022-04-08T09:35:50.781Z"
   },
   {
    "duration": 178,
    "start_time": "2022-04-08T09:35:50.959Z"
   },
   {
    "duration": 148,
    "start_time": "2022-04-08T09:35:51.138Z"
   },
   {
    "duration": 169,
    "start_time": "2022-04-08T09:35:51.288Z"
   },
   {
    "duration": 161,
    "start_time": "2022-04-08T09:35:51.458Z"
   },
   {
    "duration": 171,
    "start_time": "2022-04-08T09:35:51.621Z"
   },
   {
    "duration": 160,
    "start_time": "2022-04-08T09:35:51.793Z"
   },
   {
    "duration": 143,
    "start_time": "2022-04-08T09:35:51.954Z"
   },
   {
    "duration": 433,
    "start_time": "2022-04-08T09:35:52.100Z"
   },
   {
    "duration": 31,
    "start_time": "2022-04-08T09:35:52.535Z"
   },
   {
    "duration": 30,
    "start_time": "2022-04-08T09:35:52.567Z"
   },
   {
    "duration": 178,
    "start_time": "2022-04-08T09:35:52.599Z"
   },
   {
    "duration": 167,
    "start_time": "2022-04-08T09:35:52.778Z"
   },
   {
    "duration": 170,
    "start_time": "2022-04-08T09:35:52.946Z"
   },
   {
    "duration": 21,
    "start_time": "2022-04-08T09:35:53.117Z"
   },
   {
    "duration": 166,
    "start_time": "2022-04-08T09:35:53.140Z"
   },
   {
    "duration": 4,
    "start_time": "2022-04-08T09:35:53.308Z"
   },
   {
    "duration": 6,
    "start_time": "2022-04-08T09:35:53.313Z"
   },
   {
    "duration": 95,
    "start_time": "2022-04-08T09:35:53.329Z"
   },
   {
    "duration": 0,
    "start_time": "2022-04-08T09:35:53.429Z"
   },
   {
    "duration": 19,
    "start_time": "2022-04-08T09:36:06.938Z"
   },
   {
    "duration": 1339,
    "start_time": "2022-04-08T09:36:14.966Z"
   },
   {
    "duration": 9,
    "start_time": "2022-04-08T09:36:16.307Z"
   },
   {
    "duration": 590,
    "start_time": "2022-04-08T09:36:16.317Z"
   },
   {
    "duration": 48,
    "start_time": "2022-04-08T09:36:16.909Z"
   },
   {
    "duration": 29,
    "start_time": "2022-04-08T09:36:16.959Z"
   },
   {
    "duration": 8,
    "start_time": "2022-04-08T09:36:16.990Z"
   },
   {
    "duration": 3,
    "start_time": "2022-04-08T09:36:17.000Z"
   },
   {
    "duration": 34,
    "start_time": "2022-04-08T09:36:17.005Z"
   },
   {
    "duration": 14,
    "start_time": "2022-04-08T09:36:17.040Z"
   },
   {
    "duration": 8,
    "start_time": "2022-04-08T09:36:17.057Z"
   },
   {
    "duration": 13,
    "start_time": "2022-04-08T09:36:17.067Z"
   },
   {
    "duration": 15,
    "start_time": "2022-04-08T09:36:17.081Z"
   },
   {
    "duration": 193,
    "start_time": "2022-04-08T09:36:17.097Z"
   },
   {
    "duration": 183,
    "start_time": "2022-04-08T09:36:17.291Z"
   },
   {
    "duration": 178,
    "start_time": "2022-04-08T09:36:17.475Z"
   },
   {
    "duration": 183,
    "start_time": "2022-04-08T09:36:17.655Z"
   },
   {
    "duration": 148,
    "start_time": "2022-04-08T09:36:17.841Z"
   },
   {
    "duration": 251,
    "start_time": "2022-04-08T09:36:17.991Z"
   },
   {
    "duration": 165,
    "start_time": "2022-04-08T09:36:18.243Z"
   },
   {
    "duration": 168,
    "start_time": "2022-04-08T09:36:18.410Z"
   },
   {
    "duration": 178,
    "start_time": "2022-04-08T09:36:18.580Z"
   },
   {
    "duration": 148,
    "start_time": "2022-04-08T09:36:18.760Z"
   },
   {
    "duration": 164,
    "start_time": "2022-04-08T09:36:18.910Z"
   },
   {
    "duration": 161,
    "start_time": "2022-04-08T09:36:19.075Z"
   },
   {
    "duration": 176,
    "start_time": "2022-04-08T09:36:19.238Z"
   },
   {
    "duration": 163,
    "start_time": "2022-04-08T09:36:19.415Z"
   },
   {
    "duration": 149,
    "start_time": "2022-04-08T09:36:19.580Z"
   },
   {
    "duration": 430,
    "start_time": "2022-04-08T09:36:19.734Z"
   },
   {
    "duration": 31,
    "start_time": "2022-04-08T09:36:20.165Z"
   },
   {
    "duration": 46,
    "start_time": "2022-04-08T09:36:20.197Z"
   },
   {
    "duration": 173,
    "start_time": "2022-04-08T09:36:20.245Z"
   },
   {
    "duration": 169,
    "start_time": "2022-04-08T09:36:20.429Z"
   },
   {
    "duration": 173,
    "start_time": "2022-04-08T09:36:20.600Z"
   },
   {
    "duration": 20,
    "start_time": "2022-04-08T09:36:20.776Z"
   },
   {
    "duration": 178,
    "start_time": "2022-04-08T09:36:20.798Z"
   },
   {
    "duration": 5,
    "start_time": "2022-04-08T09:36:20.978Z"
   },
   {
    "duration": 7,
    "start_time": "2022-04-08T09:36:20.985Z"
   },
   {
    "duration": 116,
    "start_time": "2022-04-08T09:36:20.993Z"
   },
   {
    "duration": 0,
    "start_time": "2022-04-08T09:36:21.110Z"
   },
   {
    "duration": 7,
    "start_time": "2022-04-08T09:37:40.082Z"
   },
   {
    "duration": 4,
    "start_time": "2022-04-08T09:38:39.783Z"
   },
   {
    "duration": 1245,
    "start_time": "2022-04-08T09:42:18.875Z"
   },
   {
    "duration": 14,
    "start_time": "2022-04-08T09:42:20.122Z"
   },
   {
    "duration": 585,
    "start_time": "2022-04-08T09:42:20.137Z"
   },
   {
    "duration": 39,
    "start_time": "2022-04-08T09:42:20.724Z"
   },
   {
    "duration": 29,
    "start_time": "2022-04-08T09:42:20.765Z"
   },
   {
    "duration": 6,
    "start_time": "2022-04-08T09:42:20.795Z"
   },
   {
    "duration": 28,
    "start_time": "2022-04-08T09:42:20.802Z"
   },
   {
    "duration": 12,
    "start_time": "2022-04-08T09:42:20.832Z"
   },
   {
    "duration": 18,
    "start_time": "2022-04-08T09:42:20.845Z"
   },
   {
    "duration": 8,
    "start_time": "2022-04-08T09:42:20.865Z"
   },
   {
    "duration": 13,
    "start_time": "2022-04-08T09:42:20.874Z"
   },
   {
    "duration": 42,
    "start_time": "2022-04-08T09:42:20.888Z"
   },
   {
    "duration": 161,
    "start_time": "2022-04-08T09:42:20.931Z"
   },
   {
    "duration": 172,
    "start_time": "2022-04-08T09:42:21.095Z"
   },
   {
    "duration": 170,
    "start_time": "2022-04-08T09:42:21.269Z"
   },
   {
    "duration": 182,
    "start_time": "2022-04-08T09:42:21.441Z"
   },
   {
    "duration": 143,
    "start_time": "2022-04-08T09:42:21.625Z"
   },
   {
    "duration": 228,
    "start_time": "2022-04-08T09:42:21.769Z"
   },
   {
    "duration": 164,
    "start_time": "2022-04-08T09:42:21.999Z"
   },
   {
    "duration": 178,
    "start_time": "2022-04-08T09:42:22.164Z"
   },
   {
    "duration": 189,
    "start_time": "2022-04-08T09:42:22.344Z"
   },
   {
    "duration": 143,
    "start_time": "2022-04-08T09:42:22.534Z"
   },
   {
    "duration": 161,
    "start_time": "2022-04-08T09:42:22.679Z"
   },
   {
    "duration": 154,
    "start_time": "2022-04-08T09:42:22.841Z"
   },
   {
    "duration": 173,
    "start_time": "2022-04-08T09:42:22.996Z"
   },
   {
    "duration": 161,
    "start_time": "2022-04-08T09:42:23.170Z"
   },
   {
    "duration": 144,
    "start_time": "2022-04-08T09:42:23.332Z"
   },
   {
    "duration": 423,
    "start_time": "2022-04-08T09:42:23.477Z"
   },
   {
    "duration": 40,
    "start_time": "2022-04-08T09:42:23.902Z"
   },
   {
    "duration": 28,
    "start_time": "2022-04-08T09:42:23.943Z"
   },
   {
    "duration": 159,
    "start_time": "2022-04-08T09:42:23.973Z"
   },
   {
    "duration": 163,
    "start_time": "2022-04-08T09:42:24.133Z"
   },
   {
    "duration": 163,
    "start_time": "2022-04-08T09:42:24.297Z"
   },
   {
    "duration": 17,
    "start_time": "2022-04-08T09:42:24.461Z"
   },
   {
    "duration": 168,
    "start_time": "2022-04-08T09:42:24.480Z"
   },
   {
    "duration": 2,
    "start_time": "2022-04-08T09:42:24.650Z"
   },
   {
    "duration": 5,
    "start_time": "2022-04-08T09:42:24.654Z"
   },
   {
    "duration": 10,
    "start_time": "2022-04-08T09:42:24.660Z"
   },
   {
    "duration": 1059,
    "start_time": "2022-04-08T09:42:24.671Z"
   },
   {
    "duration": 998,
    "start_time": "2022-04-08T09:42:25.732Z"
   },
   {
    "duration": 1302,
    "start_time": "2022-04-08T09:56:29.371Z"
   },
   {
    "duration": 10,
    "start_time": "2022-04-08T09:56:30.675Z"
   },
   {
    "duration": 615,
    "start_time": "2022-04-08T09:56:30.687Z"
   },
   {
    "duration": 44,
    "start_time": "2022-04-08T09:56:31.304Z"
   },
   {
    "duration": 30,
    "start_time": "2022-04-08T09:56:31.350Z"
   },
   {
    "duration": 9,
    "start_time": "2022-04-08T09:56:31.382Z"
   },
   {
    "duration": 4,
    "start_time": "2022-04-08T09:56:31.392Z"
   },
   {
    "duration": 39,
    "start_time": "2022-04-08T09:56:31.398Z"
   },
   {
    "duration": 17,
    "start_time": "2022-04-08T09:56:31.438Z"
   },
   {
    "duration": 10,
    "start_time": "2022-04-08T09:56:31.457Z"
   },
   {
    "duration": 13,
    "start_time": "2022-04-08T09:56:31.468Z"
   },
   {
    "duration": 16,
    "start_time": "2022-04-08T09:56:31.483Z"
   },
   {
    "duration": 188,
    "start_time": "2022-04-08T09:56:31.500Z"
   },
   {
    "duration": 174,
    "start_time": "2022-04-08T09:56:31.689Z"
   },
   {
    "duration": 166,
    "start_time": "2022-04-08T09:56:31.864Z"
   },
   {
    "duration": 173,
    "start_time": "2022-04-08T09:56:32.032Z"
   },
   {
    "duration": 150,
    "start_time": "2022-04-08T09:56:32.206Z"
   },
   {
    "duration": 228,
    "start_time": "2022-04-08T09:56:32.358Z"
   },
   {
    "duration": 164,
    "start_time": "2022-04-08T09:56:32.588Z"
   },
   {
    "duration": 179,
    "start_time": "2022-04-08T09:56:32.754Z"
   },
   {
    "duration": 173,
    "start_time": "2022-04-08T09:56:32.935Z"
   },
   {
    "duration": 149,
    "start_time": "2022-04-08T09:56:33.109Z"
   },
   {
    "duration": 170,
    "start_time": "2022-04-08T09:56:33.260Z"
   },
   {
    "duration": 155,
    "start_time": "2022-04-08T09:56:33.432Z"
   },
   {
    "duration": 189,
    "start_time": "2022-04-08T09:56:33.589Z"
   },
   {
    "duration": 166,
    "start_time": "2022-04-08T09:56:33.779Z"
   },
   {
    "duration": 144,
    "start_time": "2022-04-08T09:56:33.947Z"
   },
   {
    "duration": 437,
    "start_time": "2022-04-08T09:56:34.094Z"
   },
   {
    "duration": 30,
    "start_time": "2022-04-08T09:56:34.533Z"
   },
   {
    "duration": 30,
    "start_time": "2022-04-08T09:56:34.565Z"
   },
   {
    "duration": 173,
    "start_time": "2022-04-08T09:56:34.596Z"
   },
   {
    "duration": 175,
    "start_time": "2022-04-08T09:56:34.770Z"
   },
   {
    "duration": 165,
    "start_time": "2022-04-08T09:56:34.947Z"
   },
   {
    "duration": 26,
    "start_time": "2022-04-08T09:56:35.114Z"
   },
   {
    "duration": 170,
    "start_time": "2022-04-08T09:56:35.141Z"
   },
   {
    "duration": 3,
    "start_time": "2022-04-08T09:56:35.313Z"
   },
   {
    "duration": 12,
    "start_time": "2022-04-08T09:56:35.317Z"
   },
   {
    "duration": 7,
    "start_time": "2022-04-08T09:56:35.331Z"
   },
   {
    "duration": 105,
    "start_time": "2022-04-08T10:05:33.439Z"
   },
   {
    "duration": 1369,
    "start_time": "2022-04-08T10:05:44.494Z"
   },
   {
    "duration": 9,
    "start_time": "2022-04-08T10:05:45.864Z"
   },
   {
    "duration": 575,
    "start_time": "2022-04-08T10:05:45.877Z"
   },
   {
    "duration": 40,
    "start_time": "2022-04-08T10:05:46.454Z"
   },
   {
    "duration": 44,
    "start_time": "2022-04-08T10:05:46.495Z"
   },
   {
    "duration": 7,
    "start_time": "2022-04-08T10:05:46.540Z"
   },
   {
    "duration": 9,
    "start_time": "2022-04-08T10:05:46.548Z"
   },
   {
    "duration": 19,
    "start_time": "2022-04-08T10:05:46.558Z"
   },
   {
    "duration": 16,
    "start_time": "2022-04-08T10:05:46.579Z"
   },
   {
    "duration": 8,
    "start_time": "2022-04-08T10:05:46.596Z"
   },
   {
    "duration": 33,
    "start_time": "2022-04-08T10:05:46.606Z"
   },
   {
    "duration": 15,
    "start_time": "2022-04-08T10:05:46.640Z"
   },
   {
    "duration": 174,
    "start_time": "2022-04-08T10:05:46.657Z"
   },
   {
    "duration": 175,
    "start_time": "2022-04-08T10:05:46.833Z"
   },
   {
    "duration": 162,
    "start_time": "2022-04-08T10:05:47.010Z"
   },
   {
    "duration": 171,
    "start_time": "2022-04-08T10:05:47.174Z"
   },
   {
    "duration": 145,
    "start_time": "2022-04-08T10:05:47.347Z"
   },
   {
    "duration": 227,
    "start_time": "2022-04-08T10:05:47.493Z"
   },
   {
    "duration": 162,
    "start_time": "2022-04-08T10:05:47.721Z"
   },
   {
    "duration": 173,
    "start_time": "2022-04-08T10:05:47.885Z"
   },
   {
    "duration": 176,
    "start_time": "2022-04-08T10:05:48.060Z"
   },
   {
    "duration": 154,
    "start_time": "2022-04-08T10:05:48.238Z"
   },
   {
    "duration": 268,
    "start_time": "2022-04-08T10:05:48.394Z"
   },
   {
    "duration": 167,
    "start_time": "2022-04-08T10:05:48.663Z"
   },
   {
    "duration": 172,
    "start_time": "2022-04-08T10:05:48.832Z"
   },
   {
    "duration": 165,
    "start_time": "2022-04-08T10:05:49.006Z"
   },
   {
    "duration": 154,
    "start_time": "2022-04-08T10:05:49.175Z"
   },
   {
    "duration": 538,
    "start_time": "2022-04-08T10:05:49.331Z"
   },
   {
    "duration": 34,
    "start_time": "2022-04-08T10:05:49.871Z"
   },
   {
    "duration": 41,
    "start_time": "2022-04-08T10:05:49.907Z"
   },
   {
    "duration": 165,
    "start_time": "2022-04-08T10:05:49.950Z"
   },
   {
    "duration": 178,
    "start_time": "2022-04-08T10:05:50.117Z"
   },
   {
    "duration": 177,
    "start_time": "2022-04-08T10:05:50.297Z"
   },
   {
    "duration": 18,
    "start_time": "2022-04-08T10:05:50.475Z"
   },
   {
    "duration": 170,
    "start_time": "2022-04-08T10:05:50.495Z"
   },
   {
    "duration": 4,
    "start_time": "2022-04-08T10:05:50.666Z"
   },
   {
    "duration": 102,
    "start_time": "2022-04-08T10:05:50.672Z"
   },
   {
    "duration": 0,
    "start_time": "2022-04-08T10:05:50.775Z"
   },
   {
    "duration": 0,
    "start_time": "2022-04-08T10:05:50.776Z"
   },
   {
    "duration": 4,
    "start_time": "2022-04-08T10:06:09.408Z"
   },
   {
    "duration": 1371,
    "start_time": "2022-04-08T10:06:14.938Z"
   },
   {
    "duration": 9,
    "start_time": "2022-04-08T10:06:16.310Z"
   },
   {
    "duration": 570,
    "start_time": "2022-04-08T10:06:16.320Z"
   },
   {
    "duration": 46,
    "start_time": "2022-04-08T10:06:16.892Z"
   },
   {
    "duration": 28,
    "start_time": "2022-04-08T10:06:16.940Z"
   },
   {
    "duration": 6,
    "start_time": "2022-04-08T10:06:16.969Z"
   },
   {
    "duration": 4,
    "start_time": "2022-04-08T10:06:16.976Z"
   },
   {
    "duration": 12,
    "start_time": "2022-04-08T10:06:16.981Z"
   },
   {
    "duration": 36,
    "start_time": "2022-04-08T10:06:16.994Z"
   },
   {
    "duration": 7,
    "start_time": "2022-04-08T10:06:17.033Z"
   },
   {
    "duration": 12,
    "start_time": "2022-04-08T10:06:17.041Z"
   },
   {
    "duration": 15,
    "start_time": "2022-04-08T10:06:17.054Z"
   },
   {
    "duration": 193,
    "start_time": "2022-04-08T10:06:17.070Z"
   },
   {
    "duration": 167,
    "start_time": "2022-04-08T10:06:17.264Z"
   },
   {
    "duration": 165,
    "start_time": "2022-04-08T10:06:17.432Z"
   },
   {
    "duration": 171,
    "start_time": "2022-04-08T10:06:17.598Z"
   },
   {
    "duration": 140,
    "start_time": "2022-04-08T10:06:17.771Z"
   },
   {
    "duration": 223,
    "start_time": "2022-04-08T10:06:17.913Z"
   },
   {
    "duration": 165,
    "start_time": "2022-04-08T10:06:18.137Z"
   },
   {
    "duration": 178,
    "start_time": "2022-04-08T10:06:18.303Z"
   },
   {
    "duration": 177,
    "start_time": "2022-04-08T10:06:18.482Z"
   },
   {
    "duration": 162,
    "start_time": "2022-04-08T10:06:18.660Z"
   },
   {
    "duration": 165,
    "start_time": "2022-04-08T10:06:18.824Z"
   },
   {
    "duration": 194,
    "start_time": "2022-04-08T10:06:18.991Z"
   },
   {
    "duration": 179,
    "start_time": "2022-04-08T10:06:19.187Z"
   },
   {
    "duration": 169,
    "start_time": "2022-04-08T10:06:19.368Z"
   },
   {
    "duration": 147,
    "start_time": "2022-04-08T10:06:19.539Z"
   },
   {
    "duration": 458,
    "start_time": "2022-04-08T10:06:19.690Z"
   },
   {
    "duration": 34,
    "start_time": "2022-04-08T10:06:20.149Z"
   },
   {
    "duration": 29,
    "start_time": "2022-04-08T10:06:20.184Z"
   },
   {
    "duration": 167,
    "start_time": "2022-04-08T10:06:20.229Z"
   },
   {
    "duration": 182,
    "start_time": "2022-04-08T10:06:20.398Z"
   },
   {
    "duration": 177,
    "start_time": "2022-04-08T10:06:20.582Z"
   },
   {
    "duration": 19,
    "start_time": "2022-04-08T10:06:20.760Z"
   },
   {
    "duration": 203,
    "start_time": "2022-04-08T10:06:20.781Z"
   },
   {
    "duration": 4,
    "start_time": "2022-04-08T10:06:20.985Z"
   },
   {
    "duration": 5,
    "start_time": "2022-04-08T10:06:20.990Z"
   },
   {
    "duration": 10,
    "start_time": "2022-04-08T10:06:20.997Z"
   },
   {
    "duration": 1233,
    "start_time": "2022-04-08T10:06:21.008Z"
   },
   {
    "duration": 1262,
    "start_time": "2022-04-08T10:06:41.951Z"
   },
   {
    "duration": 10,
    "start_time": "2022-04-08T10:06:43.215Z"
   },
   {
    "duration": 586,
    "start_time": "2022-04-08T10:06:43.229Z"
   },
   {
    "duration": 42,
    "start_time": "2022-04-08T10:06:43.817Z"
   },
   {
    "duration": 31,
    "start_time": "2022-04-08T10:06:43.861Z"
   },
   {
    "duration": 7,
    "start_time": "2022-04-08T10:06:43.894Z"
   },
   {
    "duration": 28,
    "start_time": "2022-04-08T10:06:43.903Z"
   },
   {
    "duration": 12,
    "start_time": "2022-04-08T10:06:43.933Z"
   },
   {
    "duration": 14,
    "start_time": "2022-04-08T10:06:43.946Z"
   },
   {
    "duration": 9,
    "start_time": "2022-04-08T10:06:43.963Z"
   },
   {
    "duration": 13,
    "start_time": "2022-04-08T10:06:43.973Z"
   },
   {
    "duration": 50,
    "start_time": "2022-04-08T10:06:43.987Z"
   },
   {
    "duration": 172,
    "start_time": "2022-04-08T10:06:44.039Z"
   },
   {
    "duration": 170,
    "start_time": "2022-04-08T10:06:44.213Z"
   },
   {
    "duration": 166,
    "start_time": "2022-04-08T10:06:44.384Z"
   },
   {
    "duration": 183,
    "start_time": "2022-04-08T10:06:44.552Z"
   },
   {
    "duration": 142,
    "start_time": "2022-04-08T10:06:44.737Z"
   },
   {
    "duration": 233,
    "start_time": "2022-04-08T10:06:44.880Z"
   },
   {
    "duration": 168,
    "start_time": "2022-04-08T10:06:45.115Z"
   },
   {
    "duration": 203,
    "start_time": "2022-04-08T10:06:45.285Z"
   },
   {
    "duration": 186,
    "start_time": "2022-04-08T10:06:45.489Z"
   },
   {
    "duration": 149,
    "start_time": "2022-04-08T10:06:45.676Z"
   },
   {
    "duration": 158,
    "start_time": "2022-04-08T10:06:45.829Z"
   },
   {
    "duration": 152,
    "start_time": "2022-04-08T10:06:45.989Z"
   },
   {
    "duration": 173,
    "start_time": "2022-04-08T10:06:46.143Z"
   },
   {
    "duration": 154,
    "start_time": "2022-04-08T10:06:46.318Z"
   },
   {
    "duration": 148,
    "start_time": "2022-04-08T10:06:46.473Z"
   },
   {
    "duration": 424,
    "start_time": "2022-04-08T10:06:46.624Z"
   },
   {
    "duration": 30,
    "start_time": "2022-04-08T10:06:47.049Z"
   },
   {
    "duration": 29,
    "start_time": "2022-04-08T10:06:47.080Z"
   },
   {
    "duration": 163,
    "start_time": "2022-04-08T10:06:47.110Z"
   },
   {
    "duration": 168,
    "start_time": "2022-04-08T10:06:47.275Z"
   },
   {
    "duration": 170,
    "start_time": "2022-04-08T10:06:47.445Z"
   },
   {
    "duration": 26,
    "start_time": "2022-04-08T10:06:47.617Z"
   },
   {
    "duration": 164,
    "start_time": "2022-04-08T10:06:47.644Z"
   },
   {
    "duration": 5,
    "start_time": "2022-04-08T10:06:47.810Z"
   },
   {
    "duration": 5,
    "start_time": "2022-04-08T10:06:47.816Z"
   },
   {
    "duration": 8,
    "start_time": "2022-04-08T10:06:47.830Z"
   },
   {
    "duration": 1497,
    "start_time": "2022-04-08T10:06:47.839Z"
   },
   {
    "duration": 1306,
    "start_time": "2022-04-08T10:07:10.126Z"
   },
   {
    "duration": 9,
    "start_time": "2022-04-08T10:07:11.433Z"
   },
   {
    "duration": 577,
    "start_time": "2022-04-08T10:07:11.443Z"
   },
   {
    "duration": 39,
    "start_time": "2022-04-08T10:07:12.021Z"
   },
   {
    "duration": 29,
    "start_time": "2022-04-08T10:07:12.062Z"
   },
   {
    "duration": 6,
    "start_time": "2022-04-08T10:07:12.093Z"
   },
   {
    "duration": 5,
    "start_time": "2022-04-08T10:07:12.100Z"
   },
   {
    "duration": 33,
    "start_time": "2022-04-08T10:07:12.106Z"
   },
   {
    "duration": 18,
    "start_time": "2022-04-08T10:07:12.141Z"
   },
   {
    "duration": 9,
    "start_time": "2022-04-08T10:07:12.162Z"
   },
   {
    "duration": 14,
    "start_time": "2022-04-08T10:07:12.172Z"
   },
   {
    "duration": 43,
    "start_time": "2022-04-08T10:07:12.187Z"
   },
   {
    "duration": 164,
    "start_time": "2022-04-08T10:07:12.231Z"
   },
   {
    "duration": 170,
    "start_time": "2022-04-08T10:07:12.397Z"
   },
   {
    "duration": 165,
    "start_time": "2022-04-08T10:07:12.568Z"
   },
   {
    "duration": 164,
    "start_time": "2022-04-08T10:07:12.734Z"
   },
   {
    "duration": 149,
    "start_time": "2022-04-08T10:07:12.900Z"
   },
   {
    "duration": 220,
    "start_time": "2022-04-08T10:07:13.051Z"
   },
   {
    "duration": 160,
    "start_time": "2022-04-08T10:07:13.272Z"
   },
   {
    "duration": 175,
    "start_time": "2022-04-08T10:07:13.433Z"
   },
   {
    "duration": 170,
    "start_time": "2022-04-08T10:07:13.609Z"
   },
   {
    "duration": 149,
    "start_time": "2022-04-08T10:07:13.780Z"
   },
   {
    "duration": 158,
    "start_time": "2022-04-08T10:07:13.931Z"
   },
   {
    "duration": 149,
    "start_time": "2022-04-08T10:07:14.090Z"
   },
   {
    "duration": 170,
    "start_time": "2022-04-08T10:07:14.241Z"
   },
   {
    "duration": 163,
    "start_time": "2022-04-08T10:07:14.412Z"
   },
   {
    "duration": 142,
    "start_time": "2022-04-08T10:07:14.576Z"
   },
   {
    "duration": 418,
    "start_time": "2022-04-08T10:07:14.721Z"
   },
   {
    "duration": 28,
    "start_time": "2022-04-08T10:07:15.140Z"
   },
   {
    "duration": 28,
    "start_time": "2022-04-08T10:07:15.170Z"
   },
   {
    "duration": 170,
    "start_time": "2022-04-08T10:07:15.199Z"
   },
   {
    "duration": 162,
    "start_time": "2022-04-08T10:07:15.370Z"
   },
   {
    "duration": 169,
    "start_time": "2022-04-08T10:07:15.533Z"
   },
   {
    "duration": 26,
    "start_time": "2022-04-08T10:07:15.703Z"
   },
   {
    "duration": 158,
    "start_time": "2022-04-08T10:07:15.731Z"
   },
   {
    "duration": 3,
    "start_time": "2022-04-08T10:07:15.891Z"
   },
   {
    "duration": 20,
    "start_time": "2022-04-08T10:07:15.896Z"
   },
   {
    "duration": 25,
    "start_time": "2022-04-08T10:07:15.917Z"
   },
   {
    "duration": 985,
    "start_time": "2022-04-08T10:07:15.944Z"
   },
   {
    "duration": 1325,
    "start_time": "2022-04-08T10:08:46.108Z"
   },
   {
    "duration": 10,
    "start_time": "2022-04-08T10:08:47.434Z"
   },
   {
    "duration": 582,
    "start_time": "2022-04-08T10:08:47.445Z"
   },
   {
    "duration": 38,
    "start_time": "2022-04-08T10:08:48.030Z"
   },
   {
    "duration": 29,
    "start_time": "2022-04-08T10:08:48.069Z"
   },
   {
    "duration": 6,
    "start_time": "2022-04-08T10:08:48.099Z"
   },
   {
    "duration": 24,
    "start_time": "2022-04-08T10:08:48.106Z"
   },
   {
    "duration": 12,
    "start_time": "2022-04-08T10:08:48.131Z"
   },
   {
    "duration": 13,
    "start_time": "2022-04-08T10:08:48.145Z"
   },
   {
    "duration": 8,
    "start_time": "2022-04-08T10:08:48.160Z"
   },
   {
    "duration": 12,
    "start_time": "2022-04-08T10:08:48.169Z"
   },
   {
    "duration": 47,
    "start_time": "2022-04-08T10:08:48.182Z"
   },
   {
    "duration": 156,
    "start_time": "2022-04-08T10:08:48.231Z"
   },
   {
    "duration": 167,
    "start_time": "2022-04-08T10:08:48.389Z"
   },
   {
    "duration": 166,
    "start_time": "2022-04-08T10:08:48.557Z"
   },
   {
    "duration": 171,
    "start_time": "2022-04-08T10:08:48.729Z"
   },
   {
    "duration": 149,
    "start_time": "2022-04-08T10:08:48.902Z"
   },
   {
    "duration": 226,
    "start_time": "2022-04-08T10:08:49.053Z"
   },
   {
    "duration": 160,
    "start_time": "2022-04-08T10:08:49.281Z"
   },
   {
    "duration": 177,
    "start_time": "2022-04-08T10:08:49.442Z"
   },
   {
    "duration": 173,
    "start_time": "2022-04-08T10:08:49.620Z"
   },
   {
    "duration": 152,
    "start_time": "2022-04-08T10:08:49.795Z"
   },
   {
    "duration": 159,
    "start_time": "2022-04-08T10:08:49.948Z"
   },
   {
    "duration": 150,
    "start_time": "2022-04-08T10:08:50.109Z"
   },
   {
    "duration": 180,
    "start_time": "2022-04-08T10:08:50.261Z"
   },
   {
    "duration": 157,
    "start_time": "2022-04-08T10:08:50.443Z"
   },
   {
    "duration": 145,
    "start_time": "2022-04-08T10:08:50.601Z"
   },
   {
    "duration": 428,
    "start_time": "2022-04-08T10:08:50.749Z"
   },
   {
    "duration": 30,
    "start_time": "2022-04-08T10:08:51.179Z"
   },
   {
    "duration": 40,
    "start_time": "2022-04-08T10:08:51.211Z"
   },
   {
    "duration": 167,
    "start_time": "2022-04-08T10:08:51.253Z"
   },
   {
    "duration": 169,
    "start_time": "2022-04-08T10:08:51.421Z"
   },
   {
    "duration": 163,
    "start_time": "2022-04-08T10:08:51.591Z"
   },
   {
    "duration": 18,
    "start_time": "2022-04-08T10:08:51.755Z"
   },
   {
    "duration": 170,
    "start_time": "2022-04-08T10:08:51.775Z"
   },
   {
    "duration": 3,
    "start_time": "2022-04-08T10:08:51.946Z"
   },
   {
    "duration": 7,
    "start_time": "2022-04-08T10:08:51.950Z"
   },
   {
    "duration": 11,
    "start_time": "2022-04-08T10:08:51.958Z"
   },
   {
    "duration": 1059,
    "start_time": "2022-04-08T10:08:51.971Z"
   },
   {
    "duration": 3,
    "start_time": "2022-04-08T10:09:34.073Z"
   },
   {
    "duration": 1171,
    "start_time": "2022-04-08T10:09:40.459Z"
   },
   {
    "duration": 2607,
    "start_time": "2022-04-08T10:10:50.330Z"
   },
   {
    "duration": 1334,
    "start_time": "2022-04-08T10:11:48.795Z"
   },
   {
    "duration": 9,
    "start_time": "2022-04-08T10:11:50.133Z"
   },
   {
    "duration": 598,
    "start_time": "2022-04-08T10:11:50.144Z"
   },
   {
    "duration": 38,
    "start_time": "2022-04-08T10:11:50.744Z"
   },
   {
    "duration": 45,
    "start_time": "2022-04-08T10:11:50.784Z"
   },
   {
    "duration": 7,
    "start_time": "2022-04-08T10:11:50.831Z"
   },
   {
    "duration": 7,
    "start_time": "2022-04-08T10:11:50.839Z"
   },
   {
    "duration": 13,
    "start_time": "2022-04-08T10:11:50.848Z"
   },
   {
    "duration": 12,
    "start_time": "2022-04-08T10:11:50.863Z"
   },
   {
    "duration": 8,
    "start_time": "2022-04-08T10:11:50.876Z"
   },
   {
    "duration": 45,
    "start_time": "2022-04-08T10:11:50.885Z"
   },
   {
    "duration": 18,
    "start_time": "2022-04-08T10:11:50.932Z"
   },
   {
    "duration": 185,
    "start_time": "2022-04-08T10:11:50.952Z"
   },
   {
    "duration": 175,
    "start_time": "2022-04-08T10:11:51.139Z"
   },
   {
    "duration": 178,
    "start_time": "2022-04-08T10:11:51.316Z"
   },
   {
    "duration": 185,
    "start_time": "2022-04-08T10:11:51.495Z"
   },
   {
    "duration": 144,
    "start_time": "2022-04-08T10:11:51.682Z"
   },
   {
    "duration": 229,
    "start_time": "2022-04-08T10:11:51.829Z"
   },
   {
    "duration": 161,
    "start_time": "2022-04-08T10:11:52.059Z"
   },
   {
    "duration": 177,
    "start_time": "2022-04-08T10:11:52.222Z"
   },
   {
    "duration": 179,
    "start_time": "2022-04-08T10:11:52.400Z"
   },
   {
    "duration": 152,
    "start_time": "2022-04-08T10:11:52.581Z"
   },
   {
    "duration": 160,
    "start_time": "2022-04-08T10:11:52.735Z"
   },
   {
    "duration": 158,
    "start_time": "2022-04-08T10:11:52.897Z"
   },
   {
    "duration": 181,
    "start_time": "2022-04-08T10:11:53.057Z"
   },
   {
    "duration": 159,
    "start_time": "2022-04-08T10:11:53.239Z"
   },
   {
    "duration": 148,
    "start_time": "2022-04-08T10:11:53.402Z"
   },
   {
    "duration": 428,
    "start_time": "2022-04-08T10:11:53.552Z"
   },
   {
    "duration": 30,
    "start_time": "2022-04-08T10:11:53.982Z"
   },
   {
    "duration": 41,
    "start_time": "2022-04-08T10:11:54.014Z"
   },
   {
    "duration": 157,
    "start_time": "2022-04-08T10:11:54.056Z"
   },
   {
    "duration": 170,
    "start_time": "2022-04-08T10:11:54.214Z"
   },
   {
    "duration": 265,
    "start_time": "2022-04-08T10:11:54.385Z"
   },
   {
    "duration": 27,
    "start_time": "2022-04-08T10:11:54.651Z"
   },
   {
    "duration": 264,
    "start_time": "2022-04-08T10:11:54.680Z"
   },
   {
    "duration": 4,
    "start_time": "2022-04-08T10:11:54.946Z"
   },
   {
    "duration": 9,
    "start_time": "2022-04-08T10:11:54.952Z"
   },
   {
    "duration": 12,
    "start_time": "2022-04-08T10:11:54.963Z"
   },
   {
    "duration": 3223,
    "start_time": "2022-04-08T10:11:54.977Z"
   },
   {
    "duration": 2698,
    "start_time": "2022-04-08T10:12:47.540Z"
   },
   {
    "duration": 2248,
    "start_time": "2022-04-08T10:13:11.582Z"
   },
   {
    "duration": 2181,
    "start_time": "2022-04-08T10:13:29.554Z"
   },
   {
    "duration": 25,
    "start_time": "2022-04-08T10:17:09.973Z"
   },
   {
    "duration": 1378,
    "start_time": "2022-04-08T10:19:04.870Z"
   },
   {
    "duration": 10,
    "start_time": "2022-04-08T10:19:06.250Z"
   },
   {
    "duration": 616,
    "start_time": "2022-04-08T10:19:06.262Z"
   },
   {
    "duration": 49,
    "start_time": "2022-04-08T10:19:06.880Z"
   },
   {
    "duration": 52,
    "start_time": "2022-04-08T10:19:06.931Z"
   },
   {
    "duration": 36,
    "start_time": "2022-04-08T10:19:06.985Z"
   },
   {
    "duration": 15,
    "start_time": "2022-04-08T10:19:07.023Z"
   },
   {
    "duration": 26,
    "start_time": "2022-04-08T10:19:07.040Z"
   },
   {
    "duration": 49,
    "start_time": "2022-04-08T10:19:07.068Z"
   },
   {
    "duration": 13,
    "start_time": "2022-04-08T10:19:07.119Z"
   },
   {
    "duration": 22,
    "start_time": "2022-04-08T10:19:07.134Z"
   },
   {
    "duration": 34,
    "start_time": "2022-04-08T10:19:07.157Z"
   },
   {
    "duration": 183,
    "start_time": "2022-04-08T10:19:07.193Z"
   },
   {
    "duration": 185,
    "start_time": "2022-04-08T10:19:07.378Z"
   },
   {
    "duration": 209,
    "start_time": "2022-04-08T10:19:07.564Z"
   },
   {
    "duration": 196,
    "start_time": "2022-04-08T10:19:07.775Z"
   },
   {
    "duration": 158,
    "start_time": "2022-04-08T10:19:07.973Z"
   },
   {
    "duration": 252,
    "start_time": "2022-04-08T10:19:08.133Z"
   },
   {
    "duration": 185,
    "start_time": "2022-04-08T10:19:08.386Z"
   },
   {
    "duration": 282,
    "start_time": "2022-04-08T10:19:08.573Z"
   },
   {
    "duration": 296,
    "start_time": "2022-04-08T10:19:08.857Z"
   },
   {
    "duration": 254,
    "start_time": "2022-04-08T10:19:09.155Z"
   },
   {
    "duration": 171,
    "start_time": "2022-04-08T10:19:09.411Z"
   },
   {
    "duration": 177,
    "start_time": "2022-04-08T10:19:09.584Z"
   },
   {
    "duration": 203,
    "start_time": "2022-04-08T10:19:09.762Z"
   },
   {
    "duration": 176,
    "start_time": "2022-04-08T10:19:09.967Z"
   },
   {
    "duration": 160,
    "start_time": "2022-04-08T10:19:10.145Z"
   },
   {
    "duration": 465,
    "start_time": "2022-04-08T10:19:10.309Z"
   },
   {
    "duration": 32,
    "start_time": "2022-04-08T10:19:10.775Z"
   },
   {
    "duration": 43,
    "start_time": "2022-04-08T10:19:10.809Z"
   },
   {
    "duration": 177,
    "start_time": "2022-04-08T10:19:10.854Z"
   },
   {
    "duration": 181,
    "start_time": "2022-04-08T10:19:11.033Z"
   },
   {
    "duration": 183,
    "start_time": "2022-04-08T10:19:11.216Z"
   },
   {
    "duration": 35,
    "start_time": "2022-04-08T10:19:11.401Z"
   },
   {
    "duration": 178,
    "start_time": "2022-04-08T10:19:11.438Z"
   },
   {
    "duration": 4,
    "start_time": "2022-04-08T10:19:11.618Z"
   },
   {
    "duration": 2,
    "start_time": "2022-04-08T10:19:11.630Z"
   },
   {
    "duration": 11,
    "start_time": "2022-04-08T10:19:11.633Z"
   },
   {
    "duration": 17,
    "start_time": "2022-04-08T10:19:11.646Z"
   },
   {
    "duration": 3068,
    "start_time": "2022-04-08T10:19:11.665Z"
   },
   {
    "duration": 3,
    "start_time": "2022-04-08T10:21:22.943Z"
   },
   {
    "duration": 2281,
    "start_time": "2022-04-08T10:21:25.904Z"
   },
   {
    "duration": 5181,
    "start_time": "2022-04-08T10:24:27.658Z"
   },
   {
    "duration": 6085,
    "start_time": "2022-04-08T10:26:57.245Z"
   },
   {
    "duration": 5538,
    "start_time": "2022-04-08T10:27:11.692Z"
   },
   {
    "duration": 1853,
    "start_time": "2022-04-08T12:32:50.330Z"
   },
   {
    "duration": 16,
    "start_time": "2022-04-08T12:32:52.185Z"
   },
   {
    "duration": 614,
    "start_time": "2022-04-08T12:32:52.203Z"
   },
   {
    "duration": 41,
    "start_time": "2022-04-08T12:32:52.819Z"
   },
   {
    "duration": 55,
    "start_time": "2022-04-08T12:32:52.862Z"
   },
   {
    "duration": 10,
    "start_time": "2022-04-08T12:32:52.918Z"
   },
   {
    "duration": 5,
    "start_time": "2022-04-08T12:32:52.929Z"
   },
   {
    "duration": 16,
    "start_time": "2022-04-08T12:32:52.935Z"
   },
   {
    "duration": 14,
    "start_time": "2022-04-08T12:32:52.953Z"
   },
   {
    "duration": 38,
    "start_time": "2022-04-08T12:32:52.969Z"
   },
   {
    "duration": 13,
    "start_time": "2022-04-08T12:32:53.009Z"
   },
   {
    "duration": 17,
    "start_time": "2022-04-08T12:32:53.024Z"
   },
   {
    "duration": 203,
    "start_time": "2022-04-08T12:32:53.043Z"
   },
   {
    "duration": 201,
    "start_time": "2022-04-08T12:32:53.247Z"
   },
   {
    "duration": 197,
    "start_time": "2022-04-08T12:32:53.450Z"
   },
   {
    "duration": 196,
    "start_time": "2022-04-08T12:32:53.648Z"
   },
   {
    "duration": 322,
    "start_time": "2022-04-08T12:32:53.845Z"
   },
   {
    "duration": 179,
    "start_time": "2022-04-08T12:32:54.168Z"
   },
   {
    "duration": 182,
    "start_time": "2022-04-08T12:32:54.349Z"
   },
   {
    "duration": 190,
    "start_time": "2022-04-08T12:32:54.533Z"
   },
   {
    "duration": 309,
    "start_time": "2022-04-08T12:32:54.724Z"
   },
   {
    "duration": 173,
    "start_time": "2022-04-08T12:32:55.035Z"
   },
   {
    "duration": 178,
    "start_time": "2022-04-08T12:32:55.209Z"
   },
   {
    "duration": 168,
    "start_time": "2022-04-08T12:32:55.389Z"
   },
   {
    "duration": 198,
    "start_time": "2022-04-08T12:32:55.558Z"
   },
   {
    "duration": 183,
    "start_time": "2022-04-08T12:32:55.757Z"
   },
   {
    "duration": 160,
    "start_time": "2022-04-08T12:32:55.941Z"
   },
   {
    "duration": 458,
    "start_time": "2022-04-08T12:32:56.105Z"
   },
   {
    "duration": 39,
    "start_time": "2022-04-08T12:32:56.564Z"
   },
   {
    "duration": 30,
    "start_time": "2022-04-08T12:32:56.605Z"
   },
   {
    "duration": 172,
    "start_time": "2022-04-08T12:32:56.636Z"
   },
   {
    "duration": 183,
    "start_time": "2022-04-08T12:32:56.809Z"
   },
   {
    "duration": 183,
    "start_time": "2022-04-08T12:32:56.993Z"
   },
   {
    "duration": 28,
    "start_time": "2022-04-08T12:32:57.177Z"
   },
   {
    "duration": 262,
    "start_time": "2022-04-08T12:32:57.206Z"
   },
   {
    "duration": 5,
    "start_time": "2022-04-08T12:32:57.470Z"
   },
   {
    "duration": 4,
    "start_time": "2022-04-08T12:32:57.477Z"
   },
   {
    "duration": 29,
    "start_time": "2022-04-08T12:32:57.482Z"
   },
   {
    "duration": 20,
    "start_time": "2022-04-08T12:32:57.513Z"
   },
   {
    "duration": 6871,
    "start_time": "2022-04-08T12:32:57.535Z"
   },
   {
    "duration": 197230,
    "start_time": "2022-04-08T12:41:37.331Z"
   },
   {
    "duration": 1618,
    "start_time": "2022-04-08T12:45:17.149Z"
   },
   {
    "duration": 12,
    "start_time": "2022-04-08T12:45:18.769Z"
   },
   {
    "duration": 622,
    "start_time": "2022-04-08T12:45:18.782Z"
   },
   {
    "duration": 42,
    "start_time": "2022-04-08T12:45:19.406Z"
   },
   {
    "duration": 32,
    "start_time": "2022-04-08T12:45:19.449Z"
   },
   {
    "duration": 9,
    "start_time": "2022-04-08T12:45:19.501Z"
   },
   {
    "duration": 4,
    "start_time": "2022-04-08T12:45:19.512Z"
   },
   {
    "duration": 14,
    "start_time": "2022-04-08T12:45:19.518Z"
   },
   {
    "duration": 18,
    "start_time": "2022-04-08T12:45:19.534Z"
   },
   {
    "duration": 10,
    "start_time": "2022-04-08T12:45:19.555Z"
   },
   {
    "duration": 16,
    "start_time": "2022-04-08T12:45:19.600Z"
   },
   {
    "duration": 18,
    "start_time": "2022-04-08T12:45:19.618Z"
   },
   {
    "duration": 210,
    "start_time": "2022-04-08T12:45:19.638Z"
   },
   {
    "duration": 204,
    "start_time": "2022-04-08T12:45:19.850Z"
   },
   {
    "duration": 192,
    "start_time": "2022-04-08T12:45:20.056Z"
   },
   {
    "duration": 307,
    "start_time": "2022-04-08T12:45:20.250Z"
   },
   {
    "duration": 242,
    "start_time": "2022-04-08T12:45:20.559Z"
   },
   {
    "duration": 352,
    "start_time": "2022-04-08T12:45:20.803Z"
   },
   {
    "duration": 266,
    "start_time": "2022-04-08T12:45:21.157Z"
   },
   {
    "duration": 283,
    "start_time": "2022-04-08T12:45:21.425Z"
   },
   {
    "duration": 280,
    "start_time": "2022-04-08T12:45:21.710Z"
   },
   {
    "duration": 242,
    "start_time": "2022-04-08T12:45:21.992Z"
   },
   {
    "duration": 257,
    "start_time": "2022-04-08T12:45:22.236Z"
   },
   {
    "duration": 264,
    "start_time": "2022-04-08T12:45:22.501Z"
   },
   {
    "duration": 198,
    "start_time": "2022-04-08T12:45:22.767Z"
   },
   {
    "duration": 172,
    "start_time": "2022-04-08T12:45:22.967Z"
   },
   {
    "duration": 160,
    "start_time": "2022-04-08T12:45:23.141Z"
   },
   {
    "duration": 485,
    "start_time": "2022-04-08T12:45:23.304Z"
   },
   {
    "duration": 40,
    "start_time": "2022-04-08T12:45:23.791Z"
   },
   {
    "duration": 31,
    "start_time": "2022-04-08T12:45:23.833Z"
   },
   {
    "duration": 197,
    "start_time": "2022-04-08T12:45:23.866Z"
   },
   {
    "duration": 200,
    "start_time": "2022-04-08T12:45:24.065Z"
   },
   {
    "duration": 191,
    "start_time": "2022-04-08T12:45:24.267Z"
   },
   {
    "duration": 21,
    "start_time": "2022-04-08T12:45:24.459Z"
   },
   {
    "duration": 200,
    "start_time": "2022-04-08T12:45:24.481Z"
   },
   {
    "duration": 4,
    "start_time": "2022-04-08T12:45:24.683Z"
   },
   {
    "duration": 13,
    "start_time": "2022-04-08T12:45:24.689Z"
   },
   {
    "duration": 11,
    "start_time": "2022-04-08T12:45:24.704Z"
   },
   {
    "duration": 18,
    "start_time": "2022-04-08T12:45:24.716Z"
   },
   {
    "duration": 3965,
    "start_time": "2022-04-08T12:45:24.735Z"
   },
   {
    "duration": 30216,
    "start_time": "2022-04-08T12:45:28.703Z"
   },
   {
    "duration": 3209,
    "start_time": "2022-04-08T12:46:46.897Z"
   },
   {
    "duration": 2605,
    "start_time": "2022-04-08T12:47:03.098Z"
   },
   {
    "duration": 2445,
    "start_time": "2022-04-08T12:47:22.756Z"
   },
   {
    "duration": 2400,
    "start_time": "2022-04-08T12:47:59.504Z"
   },
   {
    "duration": 3,
    "start_time": "2022-04-08T12:48:34.123Z"
   },
   {
    "duration": 2528,
    "start_time": "2022-04-08T12:49:02.150Z"
   },
   {
    "duration": 2483,
    "start_time": "2022-04-08T12:49:45.425Z"
   },
   {
    "duration": 1523,
    "start_time": "2022-04-08T12:50:26.912Z"
   },
   {
    "duration": 11,
    "start_time": "2022-04-08T12:50:28.437Z"
   },
   {
    "duration": 726,
    "start_time": "2022-04-08T12:50:28.449Z"
   },
   {
    "duration": 55,
    "start_time": "2022-04-08T12:50:29.177Z"
   },
   {
    "duration": 39,
    "start_time": "2022-04-08T12:50:29.233Z"
   },
   {
    "duration": 9,
    "start_time": "2022-04-08T12:50:29.273Z"
   },
   {
    "duration": 4,
    "start_time": "2022-04-08T12:50:29.301Z"
   },
   {
    "duration": 16,
    "start_time": "2022-04-08T12:50:29.307Z"
   },
   {
    "duration": 11,
    "start_time": "2022-04-08T12:50:29.325Z"
   },
   {
    "duration": 9,
    "start_time": "2022-04-08T12:50:29.338Z"
   },
   {
    "duration": 13,
    "start_time": "2022-04-08T12:50:29.348Z"
   },
   {
    "duration": 51,
    "start_time": "2022-04-08T12:50:29.363Z"
   },
   {
    "duration": 197,
    "start_time": "2022-04-08T12:50:29.415Z"
   },
   {
    "duration": 181,
    "start_time": "2022-04-08T12:50:29.613Z"
   },
   {
    "duration": 174,
    "start_time": "2022-04-08T12:50:29.801Z"
   },
   {
    "duration": 185,
    "start_time": "2022-04-08T12:50:29.976Z"
   },
   {
    "duration": 161,
    "start_time": "2022-04-08T12:50:30.163Z"
   },
   {
    "duration": 284,
    "start_time": "2022-04-08T12:50:30.325Z"
   },
   {
    "duration": 195,
    "start_time": "2022-04-08T12:50:30.610Z"
   },
   {
    "duration": 195,
    "start_time": "2022-04-08T12:50:30.807Z"
   },
   {
    "duration": 198,
    "start_time": "2022-04-08T12:50:31.003Z"
   },
   {
    "duration": 159,
    "start_time": "2022-04-08T12:50:31.202Z"
   },
   {
    "duration": 256,
    "start_time": "2022-04-08T12:50:31.363Z"
   },
   {
    "duration": 188,
    "start_time": "2022-04-08T12:50:31.620Z"
   },
   {
    "duration": 201,
    "start_time": "2022-04-08T12:50:31.809Z"
   },
   {
    "duration": 178,
    "start_time": "2022-04-08T12:50:32.012Z"
   },
   {
    "duration": 176,
    "start_time": "2022-04-08T12:50:32.192Z"
   },
   {
    "duration": 537,
    "start_time": "2022-04-08T12:50:32.373Z"
   },
   {
    "duration": 34,
    "start_time": "2022-04-08T12:50:32.912Z"
   },
   {
    "duration": 32,
    "start_time": "2022-04-08T12:50:32.947Z"
   },
   {
    "duration": 192,
    "start_time": "2022-04-08T12:50:32.981Z"
   },
   {
    "duration": 203,
    "start_time": "2022-04-08T12:50:33.175Z"
   },
   {
    "duration": 193,
    "start_time": "2022-04-08T12:50:33.380Z"
   },
   {
    "duration": 28,
    "start_time": "2022-04-08T12:50:33.574Z"
   },
   {
    "duration": 176,
    "start_time": "2022-04-08T12:50:33.604Z"
   },
   {
    "duration": 3,
    "start_time": "2022-04-08T12:50:33.782Z"
   },
   {
    "duration": 29,
    "start_time": "2022-04-08T12:50:33.786Z"
   },
   {
    "duration": 24,
    "start_time": "2022-04-08T12:50:33.817Z"
   },
   {
    "duration": 30,
    "start_time": "2022-04-08T12:50:33.843Z"
   },
   {
    "duration": 2534,
    "start_time": "2022-04-08T12:50:33.874Z"
   },
   {
    "duration": 30634,
    "start_time": "2022-04-08T12:50:36.500Z"
   },
   {
    "duration": 5291,
    "start_time": "2022-04-08T12:51:39.752Z"
   },
   {
    "duration": 5032,
    "start_time": "2022-04-08T12:51:52.743Z"
   },
   {
    "duration": 8801,
    "start_time": "2022-04-08T12:52:18.645Z"
   },
   {
    "duration": 9604,
    "start_time": "2022-04-08T12:52:36.747Z"
   },
   {
    "duration": 5248,
    "start_time": "2022-04-08T12:53:00.902Z"
   },
   {
    "duration": 4,
    "start_time": "2022-04-08T12:54:02.176Z"
   },
   {
    "duration": 3386,
    "start_time": "2022-04-08T12:54:55.823Z"
   },
   {
    "duration": 1611,
    "start_time": "2022-04-08T12:55:19.236Z"
   },
   {
    "duration": 11,
    "start_time": "2022-04-08T12:55:20.849Z"
   },
   {
    "duration": 711,
    "start_time": "2022-04-08T12:55:20.861Z"
   },
   {
    "duration": 55,
    "start_time": "2022-04-08T12:55:21.574Z"
   },
   {
    "duration": 34,
    "start_time": "2022-04-08T12:55:21.631Z"
   },
   {
    "duration": 8,
    "start_time": "2022-04-08T12:55:21.667Z"
   },
   {
    "duration": 4,
    "start_time": "2022-04-08T12:55:21.677Z"
   },
   {
    "duration": 13,
    "start_time": "2022-04-08T12:55:21.701Z"
   },
   {
    "duration": 16,
    "start_time": "2022-04-08T12:55:21.716Z"
   },
   {
    "duration": 10,
    "start_time": "2022-04-08T12:55:21.734Z"
   },
   {
    "duration": 14,
    "start_time": "2022-04-08T12:55:21.745Z"
   },
   {
    "duration": 50,
    "start_time": "2022-04-08T12:55:21.760Z"
   },
   {
    "duration": 191,
    "start_time": "2022-04-08T12:55:21.812Z"
   },
   {
    "duration": 197,
    "start_time": "2022-04-08T12:55:22.005Z"
   },
   {
    "duration": 182,
    "start_time": "2022-04-08T12:55:22.204Z"
   },
   {
    "duration": 217,
    "start_time": "2022-04-08T12:55:22.388Z"
   },
   {
    "duration": 186,
    "start_time": "2022-04-08T12:55:22.607Z"
   },
   {
    "duration": 267,
    "start_time": "2022-04-08T12:55:22.795Z"
   },
   {
    "duration": 189,
    "start_time": "2022-04-08T12:55:23.064Z"
   },
   {
    "duration": 198,
    "start_time": "2022-04-08T12:55:23.254Z"
   },
   {
    "duration": 200,
    "start_time": "2022-04-08T12:55:23.454Z"
   },
   {
    "duration": 165,
    "start_time": "2022-04-08T12:55:23.656Z"
   },
   {
    "duration": 183,
    "start_time": "2022-04-08T12:55:23.823Z"
   },
   {
    "duration": 183,
    "start_time": "2022-04-08T12:55:24.008Z"
   },
   {
    "duration": 213,
    "start_time": "2022-04-08T12:55:24.193Z"
   },
   {
    "duration": 233,
    "start_time": "2022-04-08T12:55:24.407Z"
   },
   {
    "duration": 278,
    "start_time": "2022-04-08T12:55:24.642Z"
   },
   {
    "duration": 743,
    "start_time": "2022-04-08T12:55:24.924Z"
   },
   {
    "duration": 61,
    "start_time": "2022-04-08T12:55:25.669Z"
   },
   {
    "duration": 29,
    "start_time": "2022-04-08T12:55:25.733Z"
   },
   {
    "duration": 179,
    "start_time": "2022-04-08T12:55:25.764Z"
   },
   {
    "duration": 184,
    "start_time": "2022-04-08T12:55:25.945Z"
   },
   {
    "duration": 185,
    "start_time": "2022-04-08T12:55:26.131Z"
   },
   {
    "duration": 18,
    "start_time": "2022-04-08T12:55:26.318Z"
   },
   {
    "duration": 189,
    "start_time": "2022-04-08T12:55:26.338Z"
   },
   {
    "duration": 4,
    "start_time": "2022-04-08T12:55:26.529Z"
   },
   {
    "duration": 7,
    "start_time": "2022-04-08T12:55:26.534Z"
   },
   {
    "duration": 15,
    "start_time": "2022-04-08T12:55:26.543Z"
   },
   {
    "duration": 20,
    "start_time": "2022-04-08T12:55:26.560Z"
   },
   {
    "duration": 2918,
    "start_time": "2022-04-08T12:55:26.582Z"
   },
   {
    "duration": 38620,
    "start_time": "2022-04-08T12:55:29.503Z"
   },
   {
    "duration": 5511,
    "start_time": "2022-04-08T12:56:08.126Z"
   },
   {
    "duration": 6120,
    "start_time": "2022-04-08T12:56:43.044Z"
   },
   {
    "duration": 1599,
    "start_time": "2022-04-08T12:57:04.291Z"
   },
   {
    "duration": 10,
    "start_time": "2022-04-08T12:57:05.892Z"
   },
   {
    "duration": 736,
    "start_time": "2022-04-08T12:57:05.904Z"
   },
   {
    "duration": 44,
    "start_time": "2022-04-08T12:57:06.642Z"
   },
   {
    "duration": 44,
    "start_time": "2022-04-08T12:57:06.688Z"
   },
   {
    "duration": 9,
    "start_time": "2022-04-08T12:57:06.733Z"
   },
   {
    "duration": 4,
    "start_time": "2022-04-08T12:57:06.743Z"
   },
   {
    "duration": 14,
    "start_time": "2022-04-08T12:57:06.748Z"
   },
   {
    "duration": 38,
    "start_time": "2022-04-08T12:57:06.764Z"
   },
   {
    "duration": 10,
    "start_time": "2022-04-08T12:57:06.805Z"
   },
   {
    "duration": 13,
    "start_time": "2022-04-08T12:57:06.816Z"
   },
   {
    "duration": 17,
    "start_time": "2022-04-08T12:57:06.831Z"
   },
   {
    "duration": 199,
    "start_time": "2022-04-08T12:57:06.850Z"
   },
   {
    "duration": 188,
    "start_time": "2022-04-08T12:57:07.051Z"
   },
   {
    "duration": 184,
    "start_time": "2022-04-08T12:57:07.241Z"
   },
   {
    "duration": 207,
    "start_time": "2022-04-08T12:57:07.426Z"
   },
   {
    "duration": 166,
    "start_time": "2022-04-08T12:57:07.635Z"
   },
   {
    "duration": 274,
    "start_time": "2022-04-08T12:57:07.803Z"
   },
   {
    "duration": 191,
    "start_time": "2022-04-08T12:57:08.078Z"
   },
   {
    "duration": 207,
    "start_time": "2022-04-08T12:57:08.270Z"
   },
   {
    "duration": 214,
    "start_time": "2022-04-08T12:57:08.479Z"
   },
   {
    "duration": 166,
    "start_time": "2022-04-08T12:57:08.694Z"
   },
   {
    "duration": 183,
    "start_time": "2022-04-08T12:57:08.862Z"
   },
   {
    "duration": 178,
    "start_time": "2022-04-08T12:57:09.047Z"
   },
   {
    "duration": 193,
    "start_time": "2022-04-08T12:57:09.226Z"
   },
   {
    "duration": 176,
    "start_time": "2022-04-08T12:57:09.421Z"
   },
   {
    "duration": 163,
    "start_time": "2022-04-08T12:57:09.601Z"
   },
   {
    "duration": 476,
    "start_time": "2022-04-08T12:57:09.768Z"
   },
   {
    "duration": 34,
    "start_time": "2022-04-08T12:57:10.246Z"
   },
   {
    "duration": 45,
    "start_time": "2022-04-08T12:57:10.282Z"
   },
   {
    "duration": 198,
    "start_time": "2022-04-08T12:57:10.329Z"
   },
   {
    "duration": 192,
    "start_time": "2022-04-08T12:57:10.529Z"
   },
   {
    "duration": 199,
    "start_time": "2022-04-08T12:57:10.722Z"
   },
   {
    "duration": 20,
    "start_time": "2022-04-08T12:57:10.922Z"
   },
   {
    "duration": 210,
    "start_time": "2022-04-08T12:57:10.944Z"
   },
   {
    "duration": 5,
    "start_time": "2022-04-08T12:57:11.156Z"
   },
   {
    "duration": 14,
    "start_time": "2022-04-08T12:57:11.163Z"
   },
   {
    "duration": 26,
    "start_time": "2022-04-08T12:57:11.179Z"
   },
   {
    "duration": 28,
    "start_time": "2022-04-08T12:57:11.207Z"
   },
   {
    "duration": 2364,
    "start_time": "2022-04-08T12:57:11.237Z"
   },
   {
    "duration": 30963,
    "start_time": "2022-04-08T12:57:13.603Z"
   },
   {
    "duration": 5038,
    "start_time": "2022-04-08T12:57:44.567Z"
   },
   {
    "duration": 3711,
    "start_time": "2022-04-08T12:59:10.897Z"
   },
   {
    "duration": 3008,
    "start_time": "2022-04-08T12:59:21.806Z"
   },
   {
    "duration": 1591,
    "start_time": "2022-04-08T12:59:33.063Z"
   },
   {
    "duration": 10,
    "start_time": "2022-04-08T12:59:34.656Z"
   },
   {
    "duration": 714,
    "start_time": "2022-04-08T12:59:34.668Z"
   },
   {
    "duration": 47,
    "start_time": "2022-04-08T12:59:35.384Z"
   },
   {
    "duration": 33,
    "start_time": "2022-04-08T12:59:35.433Z"
   },
   {
    "duration": 9,
    "start_time": "2022-04-08T12:59:35.468Z"
   },
   {
    "duration": 4,
    "start_time": "2022-04-08T12:59:35.501Z"
   },
   {
    "duration": 36,
    "start_time": "2022-04-08T12:59:35.507Z"
   },
   {
    "duration": 15,
    "start_time": "2022-04-08T12:59:35.544Z"
   },
   {
    "duration": 11,
    "start_time": "2022-04-08T12:59:35.563Z"
   },
   {
    "duration": 31,
    "start_time": "2022-04-08T12:59:35.576Z"
   },
   {
    "duration": 20,
    "start_time": "2022-04-08T12:59:35.609Z"
   },
   {
    "duration": 275,
    "start_time": "2022-04-08T12:59:35.631Z"
   },
   {
    "duration": 301,
    "start_time": "2022-04-08T12:59:35.908Z"
   },
   {
    "duration": 271,
    "start_time": "2022-04-08T12:59:36.211Z"
   },
   {
    "duration": 275,
    "start_time": "2022-04-08T12:59:36.484Z"
   },
   {
    "duration": 240,
    "start_time": "2022-04-08T12:59:36.761Z"
   },
   {
    "duration": 265,
    "start_time": "2022-04-08T12:59:37.003Z"
   },
   {
    "duration": 189,
    "start_time": "2022-04-08T12:59:37.269Z"
   },
   {
    "duration": 204,
    "start_time": "2022-04-08T12:59:37.460Z"
   },
   {
    "duration": 196,
    "start_time": "2022-04-08T12:59:37.665Z"
   },
   {
    "duration": 166,
    "start_time": "2022-04-08T12:59:37.863Z"
   },
   {
    "duration": 183,
    "start_time": "2022-04-08T12:59:38.031Z"
   },
   {
    "duration": 173,
    "start_time": "2022-04-08T12:59:38.215Z"
   },
   {
    "duration": 189,
    "start_time": "2022-04-08T12:59:38.389Z"
   },
   {
    "duration": 168,
    "start_time": "2022-04-08T12:59:38.579Z"
   },
   {
    "duration": 164,
    "start_time": "2022-04-08T12:59:38.749Z"
   },
   {
    "duration": 488,
    "start_time": "2022-04-08T12:59:38.916Z"
   },
   {
    "duration": 32,
    "start_time": "2022-04-08T12:59:39.406Z"
   },
   {
    "duration": 31,
    "start_time": "2022-04-08T12:59:39.439Z"
   },
   {
    "duration": 201,
    "start_time": "2022-04-08T12:59:39.472Z"
   },
   {
    "duration": 187,
    "start_time": "2022-04-08T12:59:39.675Z"
   },
   {
    "duration": 188,
    "start_time": "2022-04-08T12:59:39.864Z"
   },
   {
    "duration": 21,
    "start_time": "2022-04-08T12:59:40.054Z"
   },
   {
    "duration": 257,
    "start_time": "2022-04-08T12:59:40.077Z"
   },
   {
    "duration": 4,
    "start_time": "2022-04-08T12:59:40.336Z"
   },
   {
    "duration": 5,
    "start_time": "2022-04-08T12:59:40.341Z"
   },
   {
    "duration": 11,
    "start_time": "2022-04-08T12:59:40.347Z"
   },
   {
    "duration": 21,
    "start_time": "2022-04-08T12:59:40.359Z"
   },
   {
    "duration": 4233,
    "start_time": "2022-04-08T12:59:40.381Z"
   },
   {
    "duration": 29961,
    "start_time": "2022-04-08T12:59:44.615Z"
   },
   {
    "duration": 5364,
    "start_time": "2022-04-08T13:00:14.578Z"
   },
   {
    "duration": 884,
    "start_time": "2022-04-08T13:02:12.119Z"
   },
   {
    "duration": 1527,
    "start_time": "2022-04-08T13:54:50.426Z"
   },
   {
    "duration": 11,
    "start_time": "2022-04-08T13:54:51.955Z"
   },
   {
    "duration": 694,
    "start_time": "2022-04-08T13:54:51.968Z"
   },
   {
    "duration": 57,
    "start_time": "2022-04-08T13:54:52.665Z"
   },
   {
    "duration": 37,
    "start_time": "2022-04-08T13:54:52.724Z"
   },
   {
    "duration": 10,
    "start_time": "2022-04-08T13:54:52.762Z"
   },
   {
    "duration": 29,
    "start_time": "2022-04-08T13:54:52.773Z"
   },
   {
    "duration": 33,
    "start_time": "2022-04-08T13:54:52.804Z"
   },
   {
    "duration": 16,
    "start_time": "2022-04-08T13:54:52.839Z"
   },
   {
    "duration": 10,
    "start_time": "2022-04-08T13:54:52.857Z"
   },
   {
    "duration": 14,
    "start_time": "2022-04-08T13:54:52.870Z"
   },
   {
    "duration": 31,
    "start_time": "2022-04-08T13:54:52.886Z"
   },
   {
    "duration": 191,
    "start_time": "2022-04-08T13:54:52.919Z"
   },
   {
    "duration": 204,
    "start_time": "2022-04-08T13:54:53.111Z"
   },
   {
    "duration": 196,
    "start_time": "2022-04-08T13:54:53.317Z"
   },
   {
    "duration": 206,
    "start_time": "2022-04-08T13:54:53.515Z"
   },
   {
    "duration": 161,
    "start_time": "2022-04-08T13:54:53.722Z"
   },
   {
    "duration": 255,
    "start_time": "2022-04-08T13:54:53.885Z"
   },
   {
    "duration": 187,
    "start_time": "2022-04-08T13:54:54.141Z"
   },
   {
    "duration": 196,
    "start_time": "2022-04-08T13:54:54.330Z"
   },
   {
    "duration": 204,
    "start_time": "2022-04-08T13:54:54.528Z"
   },
   {
    "duration": 168,
    "start_time": "2022-04-08T13:54:54.733Z"
   },
   {
    "duration": 180,
    "start_time": "2022-04-08T13:54:54.902Z"
   },
   {
    "duration": 164,
    "start_time": "2022-04-08T13:54:55.084Z"
   },
   {
    "duration": 191,
    "start_time": "2022-04-08T13:54:55.250Z"
   },
   {
    "duration": 183,
    "start_time": "2022-04-08T13:54:55.442Z"
   },
   {
    "duration": 170,
    "start_time": "2022-04-08T13:54:55.626Z"
   },
   {
    "duration": 450,
    "start_time": "2022-04-08T13:54:55.800Z"
   },
   {
    "duration": 31,
    "start_time": "2022-04-08T13:54:56.251Z"
   },
   {
    "duration": 44,
    "start_time": "2022-04-08T13:54:56.284Z"
   },
   {
    "duration": 175,
    "start_time": "2022-04-08T13:54:56.330Z"
   },
   {
    "duration": 195,
    "start_time": "2022-04-08T13:54:56.507Z"
   },
   {
    "duration": 190,
    "start_time": "2022-04-08T13:54:56.704Z"
   },
   {
    "duration": 26,
    "start_time": "2022-04-08T13:54:56.895Z"
   },
   {
    "duration": 195,
    "start_time": "2022-04-08T13:54:56.923Z"
   },
   {
    "duration": 6,
    "start_time": "2022-04-08T13:54:57.120Z"
   },
   {
    "duration": 4,
    "start_time": "2022-04-08T13:54:57.128Z"
   },
   {
    "duration": 9,
    "start_time": "2022-04-08T13:54:57.134Z"
   },
   {
    "duration": 19,
    "start_time": "2022-04-08T13:54:57.145Z"
   },
   {
    "duration": 3139,
    "start_time": "2022-04-08T13:54:57.166Z"
   },
   {
    "duration": 787,
    "start_time": "2022-04-08T13:55:00.306Z"
   },
   {
    "duration": 0,
    "start_time": "2022-04-08T13:55:01.095Z"
   },
   {
    "duration": 1574,
    "start_time": "2022-04-08T13:55:59.689Z"
   },
   {
    "duration": 12,
    "start_time": "2022-04-08T13:56:01.266Z"
   },
   {
    "duration": 686,
    "start_time": "2022-04-08T13:56:01.280Z"
   },
   {
    "duration": 56,
    "start_time": "2022-04-08T13:56:01.968Z"
   },
   {
    "duration": 37,
    "start_time": "2022-04-08T13:56:02.026Z"
   },
   {
    "duration": 9,
    "start_time": "2022-04-08T13:56:02.065Z"
   },
   {
    "duration": 27,
    "start_time": "2022-04-08T13:56:02.076Z"
   },
   {
    "duration": 32,
    "start_time": "2022-04-08T13:56:02.105Z"
   },
   {
    "duration": 19,
    "start_time": "2022-04-08T13:56:02.139Z"
   },
   {
    "duration": 9,
    "start_time": "2022-04-08T13:56:02.161Z"
   },
   {
    "duration": 14,
    "start_time": "2022-04-08T13:56:02.172Z"
   },
   {
    "duration": 18,
    "start_time": "2022-04-08T13:56:02.202Z"
   },
   {
    "duration": 196,
    "start_time": "2022-04-08T13:56:02.222Z"
   },
   {
    "duration": 206,
    "start_time": "2022-04-08T13:56:02.420Z"
   },
   {
    "duration": 197,
    "start_time": "2022-04-08T13:56:02.628Z"
   },
   {
    "duration": 209,
    "start_time": "2022-04-08T13:56:02.826Z"
   },
   {
    "duration": 161,
    "start_time": "2022-04-08T13:56:03.037Z"
   },
   {
    "duration": 261,
    "start_time": "2022-04-08T13:56:03.201Z"
   },
   {
    "duration": 190,
    "start_time": "2022-04-08T13:56:03.464Z"
   },
   {
    "duration": 193,
    "start_time": "2022-04-08T13:56:03.655Z"
   },
   {
    "duration": 202,
    "start_time": "2022-04-08T13:56:03.850Z"
   },
   {
    "duration": 161,
    "start_time": "2022-04-08T13:56:04.054Z"
   },
   {
    "duration": 185,
    "start_time": "2022-04-08T13:56:04.217Z"
   },
   {
    "duration": 177,
    "start_time": "2022-04-08T13:56:04.404Z"
   },
   {
    "duration": 205,
    "start_time": "2022-04-08T13:56:04.583Z"
   },
   {
    "duration": 196,
    "start_time": "2022-04-08T13:56:04.790Z"
   },
   {
    "duration": 169,
    "start_time": "2022-04-08T13:56:04.988Z"
   },
   {
    "duration": 505,
    "start_time": "2022-04-08T13:56:05.161Z"
   },
   {
    "duration": 47,
    "start_time": "2022-04-08T13:56:05.667Z"
   },
   {
    "duration": 35,
    "start_time": "2022-04-08T13:56:05.716Z"
   },
   {
    "duration": 190,
    "start_time": "2022-04-08T13:56:05.752Z"
   },
   {
    "duration": 196,
    "start_time": "2022-04-08T13:56:05.945Z"
   },
   {
    "duration": 190,
    "start_time": "2022-04-08T13:56:06.143Z"
   },
   {
    "duration": 21,
    "start_time": "2022-04-08T13:56:06.335Z"
   },
   {
    "duration": 197,
    "start_time": "2022-04-08T13:56:06.357Z"
   },
   {
    "duration": 4,
    "start_time": "2022-04-08T13:56:06.556Z"
   },
   {
    "duration": 13,
    "start_time": "2022-04-08T13:56:06.561Z"
   },
   {
    "duration": 23,
    "start_time": "2022-04-08T13:56:06.576Z"
   },
   {
    "duration": 23,
    "start_time": "2022-04-08T13:56:06.601Z"
   },
   {
    "duration": 3981,
    "start_time": "2022-04-08T13:56:06.625Z"
   },
   {
    "duration": 0,
    "start_time": "2022-04-08T13:56:10.608Z"
   },
   {
    "duration": 0,
    "start_time": "2022-04-08T13:56:10.609Z"
   },
   {
    "duration": 699,
    "start_time": "2022-04-08T13:56:23.516Z"
   },
   {
    "duration": 4541,
    "start_time": "2022-04-08T13:56:51.767Z"
   },
   {
    "duration": 3522,
    "start_time": "2022-04-08T13:57:10.690Z"
   },
   {
    "duration": 2986,
    "start_time": "2022-04-08T13:57:24.317Z"
   },
   {
    "duration": 29881,
    "start_time": "2022-04-08T13:57:43.587Z"
   },
   {
    "duration": 1531,
    "start_time": "2022-04-08T13:58:54.608Z"
   },
   {
    "duration": 10,
    "start_time": "2022-04-08T13:58:56.141Z"
   },
   {
    "duration": 2365,
    "start_time": "2022-04-08T13:58:56.152Z"
   },
   {
    "duration": 44,
    "start_time": "2022-04-08T13:58:58.520Z"
   },
   {
    "duration": 48,
    "start_time": "2022-04-08T13:58:58.565Z"
   },
   {
    "duration": 9,
    "start_time": "2022-04-08T13:58:58.615Z"
   },
   {
    "duration": 33,
    "start_time": "2022-04-08T13:58:58.626Z"
   },
   {
    "duration": 40,
    "start_time": "2022-04-08T13:58:58.661Z"
   },
   {
    "duration": 34,
    "start_time": "2022-04-08T13:58:58.703Z"
   },
   {
    "duration": 13,
    "start_time": "2022-04-08T13:58:58.740Z"
   },
   {
    "duration": 25,
    "start_time": "2022-04-08T13:58:58.755Z"
   },
   {
    "duration": 16,
    "start_time": "2022-04-08T13:58:58.782Z"
   },
   {
    "duration": 186,
    "start_time": "2022-04-08T13:58:58.801Z"
   },
   {
    "duration": 197,
    "start_time": "2022-04-08T13:58:58.988Z"
   },
   {
    "duration": 194,
    "start_time": "2022-04-08T13:58:59.187Z"
   },
   {
    "duration": 195,
    "start_time": "2022-04-08T13:58:59.382Z"
   },
   {
    "duration": 156,
    "start_time": "2022-04-08T13:58:59.579Z"
   },
   {
    "duration": 265,
    "start_time": "2022-04-08T13:58:59.737Z"
   },
   {
    "duration": 184,
    "start_time": "2022-04-08T13:59:00.004Z"
   },
   {
    "duration": 197,
    "start_time": "2022-04-08T13:59:00.189Z"
   },
   {
    "duration": 204,
    "start_time": "2022-04-08T13:59:00.388Z"
   },
   {
    "duration": 157,
    "start_time": "2022-04-08T13:59:00.600Z"
   },
   {
    "duration": 177,
    "start_time": "2022-04-08T13:59:00.758Z"
   },
   {
    "duration": 177,
    "start_time": "2022-04-08T13:59:00.937Z"
   },
   {
    "duration": 194,
    "start_time": "2022-04-08T13:59:01.115Z"
   },
   {
    "duration": 181,
    "start_time": "2022-04-08T13:59:01.311Z"
   },
   {
    "duration": 162,
    "start_time": "2022-04-08T13:59:01.493Z"
   },
   {
    "duration": 481,
    "start_time": "2022-04-08T13:59:01.659Z"
   },
   {
    "duration": 32,
    "start_time": "2022-04-08T13:59:02.141Z"
   },
   {
    "duration": 48,
    "start_time": "2022-04-08T13:59:02.175Z"
   },
   {
    "duration": 176,
    "start_time": "2022-04-08T13:59:02.225Z"
   },
   {
    "duration": 184,
    "start_time": "2022-04-08T13:59:02.402Z"
   },
   {
    "duration": 190,
    "start_time": "2022-04-08T13:59:02.589Z"
   },
   {
    "duration": 28,
    "start_time": "2022-04-08T13:59:02.781Z"
   },
   {
    "duration": 183,
    "start_time": "2022-04-08T13:59:02.811Z"
   },
   {
    "duration": 6,
    "start_time": "2022-04-08T13:59:02.996Z"
   },
   {
    "duration": 19,
    "start_time": "2022-04-08T13:59:03.004Z"
   },
   {
    "duration": 15,
    "start_time": "2022-04-08T13:59:03.025Z"
   },
   {
    "duration": 32,
    "start_time": "2022-04-08T13:59:03.042Z"
   },
   {
    "duration": 2534,
    "start_time": "2022-04-08T13:59:03.076Z"
   },
   {
    "duration": 30180,
    "start_time": "2022-04-08T13:59:05.702Z"
   },
   {
    "duration": 5061,
    "start_time": "2022-04-08T13:59:35.883Z"
   },
   {
    "duration": 1545,
    "start_time": "2022-04-08T14:01:59.593Z"
   },
   {
    "duration": 10,
    "start_time": "2022-04-08T14:02:01.139Z"
   },
   {
    "duration": 670,
    "start_time": "2022-04-08T14:02:01.151Z"
   },
   {
    "duration": 46,
    "start_time": "2022-04-08T14:02:01.823Z"
   },
   {
    "duration": 48,
    "start_time": "2022-04-08T14:02:01.870Z"
   },
   {
    "duration": 10,
    "start_time": "2022-04-08T14:02:01.919Z"
   },
   {
    "duration": 34,
    "start_time": "2022-04-08T14:02:01.931Z"
   },
   {
    "duration": 15,
    "start_time": "2022-04-08T14:02:01.968Z"
   },
   {
    "duration": 26,
    "start_time": "2022-04-08T14:02:01.985Z"
   },
   {
    "duration": 19,
    "start_time": "2022-04-08T14:02:02.014Z"
   },
   {
    "duration": 17,
    "start_time": "2022-04-08T14:02:02.035Z"
   },
   {
    "duration": 19,
    "start_time": "2022-04-08T14:02:02.054Z"
   },
   {
    "duration": 181,
    "start_time": "2022-04-08T14:02:02.101Z"
   },
   {
    "duration": 203,
    "start_time": "2022-04-08T14:02:02.283Z"
   },
   {
    "duration": 203,
    "start_time": "2022-04-08T14:02:02.488Z"
   },
   {
    "duration": 209,
    "start_time": "2022-04-08T14:02:02.693Z"
   },
   {
    "duration": 159,
    "start_time": "2022-04-08T14:02:02.904Z"
   },
   {
    "duration": 283,
    "start_time": "2022-04-08T14:02:03.065Z"
   },
   {
    "duration": 192,
    "start_time": "2022-04-08T14:02:03.350Z"
   },
   {
    "duration": 199,
    "start_time": "2022-04-08T14:02:03.544Z"
   },
   {
    "duration": 209,
    "start_time": "2022-04-08T14:02:03.746Z"
   },
   {
    "duration": 176,
    "start_time": "2022-04-08T14:02:03.957Z"
   },
   {
    "duration": 183,
    "start_time": "2022-04-08T14:02:04.135Z"
   },
   {
    "duration": 187,
    "start_time": "2022-04-08T14:02:04.320Z"
   },
   {
    "duration": 206,
    "start_time": "2022-04-08T14:02:04.509Z"
   },
   {
    "duration": 201,
    "start_time": "2022-04-08T14:02:04.717Z"
   },
   {
    "duration": 162,
    "start_time": "2022-04-08T14:02:04.919Z"
   },
   {
    "duration": 491,
    "start_time": "2022-04-08T14:02:05.085Z"
   },
   {
    "duration": 42,
    "start_time": "2022-04-08T14:02:05.577Z"
   },
   {
    "duration": 31,
    "start_time": "2022-04-08T14:02:05.620Z"
   },
   {
    "duration": 200,
    "start_time": "2022-04-08T14:02:05.652Z"
   },
   {
    "duration": 206,
    "start_time": "2022-04-08T14:02:05.853Z"
   },
   {
    "duration": 201,
    "start_time": "2022-04-08T14:02:06.061Z"
   },
   {
    "duration": 19,
    "start_time": "2022-04-08T14:02:06.264Z"
   },
   {
    "duration": 199,
    "start_time": "2022-04-08T14:02:06.285Z"
   },
   {
    "duration": 3,
    "start_time": "2022-04-08T14:02:06.486Z"
   },
   {
    "duration": 16,
    "start_time": "2022-04-08T14:02:06.490Z"
   },
   {
    "duration": 39,
    "start_time": "2022-04-08T14:02:06.507Z"
   },
   {
    "duration": 40,
    "start_time": "2022-04-08T14:02:06.547Z"
   },
   {
    "duration": 2718,
    "start_time": "2022-04-08T14:02:06.589Z"
   },
   {
    "duration": 0,
    "start_time": "2022-04-08T14:02:09.309Z"
   },
   {
    "duration": 0,
    "start_time": "2022-04-08T14:02:09.310Z"
   },
   {
    "duration": 29766,
    "start_time": "2022-04-08T14:02:49.444Z"
   },
   {
    "duration": 4,
    "start_time": "2022-04-08T14:06:55.415Z"
   },
   {
    "duration": 37575,
    "start_time": "2022-04-08T14:11:10.159Z"
   },
   {
    "duration": 1571,
    "start_time": "2022-04-08T14:13:29.789Z"
   },
   {
    "duration": 12,
    "start_time": "2022-04-08T14:13:31.362Z"
   },
   {
    "duration": 679,
    "start_time": "2022-04-08T14:13:31.375Z"
   },
   {
    "duration": 57,
    "start_time": "2022-04-08T14:13:32.056Z"
   },
   {
    "duration": 35,
    "start_time": "2022-04-08T14:13:32.115Z"
   },
   {
    "duration": 10,
    "start_time": "2022-04-08T14:13:32.152Z"
   },
   {
    "duration": 21,
    "start_time": "2022-04-08T14:13:32.163Z"
   },
   {
    "duration": 27,
    "start_time": "2022-04-08T14:13:32.186Z"
   },
   {
    "duration": 19,
    "start_time": "2022-04-08T14:13:32.215Z"
   },
   {
    "duration": 9,
    "start_time": "2022-04-08T14:13:32.237Z"
   },
   {
    "duration": 13,
    "start_time": "2022-04-08T14:13:32.248Z"
   },
   {
    "duration": 42,
    "start_time": "2022-04-08T14:13:32.263Z"
   },
   {
    "duration": 184,
    "start_time": "2022-04-08T14:13:32.307Z"
   },
   {
    "duration": 199,
    "start_time": "2022-04-08T14:13:32.493Z"
   },
   {
    "duration": 180,
    "start_time": "2022-04-08T14:13:32.694Z"
   },
   {
    "duration": 198,
    "start_time": "2022-04-08T14:13:32.876Z"
   },
   {
    "duration": 165,
    "start_time": "2022-04-08T14:13:33.076Z"
   },
   {
    "duration": 262,
    "start_time": "2022-04-08T14:13:33.243Z"
   },
   {
    "duration": 180,
    "start_time": "2022-04-08T14:13:33.507Z"
   },
   {
    "duration": 194,
    "start_time": "2022-04-08T14:13:33.689Z"
   },
   {
    "duration": 190,
    "start_time": "2022-04-08T14:13:33.885Z"
   },
   {
    "duration": 167,
    "start_time": "2022-04-08T14:13:34.076Z"
   },
   {
    "duration": 176,
    "start_time": "2022-04-08T14:13:34.245Z"
   },
   {
    "duration": 174,
    "start_time": "2022-04-08T14:13:34.422Z"
   },
   {
    "duration": 186,
    "start_time": "2022-04-08T14:13:34.601Z"
   },
   {
    "duration": 186,
    "start_time": "2022-04-08T14:13:34.788Z"
   },
   {
    "duration": 157,
    "start_time": "2022-04-08T14:13:34.976Z"
   },
   {
    "duration": 457,
    "start_time": "2022-04-08T14:13:35.136Z"
   },
   {
    "duration": 38,
    "start_time": "2022-04-08T14:13:35.594Z"
   },
   {
    "duration": 31,
    "start_time": "2022-04-08T14:13:35.634Z"
   },
   {
    "duration": 181,
    "start_time": "2022-04-08T14:13:35.667Z"
   },
   {
    "duration": 183,
    "start_time": "2022-04-08T14:13:35.850Z"
   },
   {
    "duration": 182,
    "start_time": "2022-04-08T14:13:36.035Z"
   },
   {
    "duration": 19,
    "start_time": "2022-04-08T14:13:36.219Z"
   },
   {
    "duration": 187,
    "start_time": "2022-04-08T14:13:36.240Z"
   },
   {
    "duration": 4,
    "start_time": "2022-04-08T14:13:36.429Z"
   },
   {
    "duration": 15,
    "start_time": "2022-04-08T14:13:36.434Z"
   },
   {
    "duration": 15,
    "start_time": "2022-04-08T14:13:36.451Z"
   },
   {
    "duration": 17,
    "start_time": "2022-04-08T14:13:36.468Z"
   },
   {
    "duration": 2490,
    "start_time": "2022-04-08T14:13:36.486Z"
   },
   {
    "duration": 0,
    "start_time": "2022-04-08T14:13:38.978Z"
   },
   {
    "duration": 2599,
    "start_time": "2022-04-08T14:13:55.011Z"
   },
   {
    "duration": 1552,
    "start_time": "2022-04-08T14:14:04.602Z"
   },
   {
    "duration": 11,
    "start_time": "2022-04-08T14:14:06.156Z"
   },
   {
    "duration": 670,
    "start_time": "2022-04-08T14:14:06.168Z"
   },
   {
    "duration": 46,
    "start_time": "2022-04-08T14:14:06.840Z"
   },
   {
    "duration": 46,
    "start_time": "2022-04-08T14:14:06.887Z"
   },
   {
    "duration": 10,
    "start_time": "2022-04-08T14:14:06.934Z"
   },
   {
    "duration": 4,
    "start_time": "2022-04-08T14:14:06.946Z"
   },
   {
    "duration": 16,
    "start_time": "2022-04-08T14:14:06.952Z"
   },
   {
    "duration": 40,
    "start_time": "2022-04-08T14:14:06.969Z"
   },
   {
    "duration": 10,
    "start_time": "2022-04-08T14:14:07.011Z"
   },
   {
    "duration": 14,
    "start_time": "2022-04-08T14:14:07.023Z"
   },
   {
    "duration": 19,
    "start_time": "2022-04-08T14:14:07.038Z"
   },
   {
    "duration": 226,
    "start_time": "2022-04-08T14:14:07.059Z"
   },
   {
    "duration": 214,
    "start_time": "2022-04-08T14:14:07.287Z"
   },
   {
    "duration": 189,
    "start_time": "2022-04-08T14:14:07.504Z"
   },
   {
    "duration": 189,
    "start_time": "2022-04-08T14:14:07.701Z"
   },
   {
    "duration": 166,
    "start_time": "2022-04-08T14:14:07.892Z"
   },
   {
    "duration": 261,
    "start_time": "2022-04-08T14:14:08.060Z"
   },
   {
    "duration": 182,
    "start_time": "2022-04-08T14:14:08.323Z"
   },
   {
    "duration": 195,
    "start_time": "2022-04-08T14:14:08.507Z"
   },
   {
    "duration": 191,
    "start_time": "2022-04-08T14:14:08.703Z"
   },
   {
    "duration": 164,
    "start_time": "2022-04-08T14:14:08.895Z"
   },
   {
    "duration": 174,
    "start_time": "2022-04-08T14:14:09.060Z"
   },
   {
    "duration": 173,
    "start_time": "2022-04-08T14:14:09.236Z"
   },
   {
    "duration": 194,
    "start_time": "2022-04-08T14:14:09.411Z"
   },
   {
    "duration": 177,
    "start_time": "2022-04-08T14:14:09.606Z"
   },
   {
    "duration": 170,
    "start_time": "2022-04-08T14:14:09.785Z"
   },
   {
    "duration": 502,
    "start_time": "2022-04-08T14:14:09.958Z"
   },
   {
    "duration": 49,
    "start_time": "2022-04-08T14:14:10.461Z"
   },
   {
    "duration": 34,
    "start_time": "2022-04-08T14:14:10.512Z"
   },
   {
    "duration": 193,
    "start_time": "2022-04-08T14:14:10.548Z"
   },
   {
    "duration": 205,
    "start_time": "2022-04-08T14:14:10.743Z"
   },
   {
    "duration": 207,
    "start_time": "2022-04-08T14:14:10.950Z"
   },
   {
    "duration": 22,
    "start_time": "2022-04-08T14:14:11.159Z"
   },
   {
    "duration": 207,
    "start_time": "2022-04-08T14:14:11.183Z"
   },
   {
    "duration": 10,
    "start_time": "2022-04-08T14:14:11.392Z"
   },
   {
    "duration": 4,
    "start_time": "2022-04-08T14:14:11.404Z"
   },
   {
    "duration": 10,
    "start_time": "2022-04-08T14:14:11.410Z"
   },
   {
    "duration": 17,
    "start_time": "2022-04-08T14:14:11.422Z"
   },
   {
    "duration": 2364,
    "start_time": "2022-04-08T14:14:11.441Z"
   },
   {
    "duration": 36421,
    "start_time": "2022-04-08T14:14:13.806Z"
   },
   {
    "duration": 33391,
    "start_time": "2022-04-08T14:16:47.423Z"
   },
   {
    "duration": 6321,
    "start_time": "2022-04-08T14:19:10.813Z"
   },
   {
    "duration": 2128,
    "start_time": "2022-04-09T06:31:38.771Z"
   },
   {
    "duration": 16,
    "start_time": "2022-04-09T06:31:40.901Z"
   },
   {
    "duration": 794,
    "start_time": "2022-04-09T06:31:40.919Z"
   },
   {
    "duration": 80,
    "start_time": "2022-04-09T06:31:41.716Z"
   },
   {
    "duration": 52,
    "start_time": "2022-04-09T06:31:41.798Z"
   },
   {
    "duration": 11,
    "start_time": "2022-04-09T06:31:41.867Z"
   },
   {
    "duration": 6,
    "start_time": "2022-04-09T06:31:41.881Z"
   },
   {
    "duration": 23,
    "start_time": "2022-04-09T06:31:41.889Z"
   },
   {
    "duration": 61,
    "start_time": "2022-04-09T06:31:41.915Z"
   },
   {
    "duration": 13,
    "start_time": "2022-04-09T06:31:41.980Z"
   },
   {
    "duration": 21,
    "start_time": "2022-04-09T06:31:41.995Z"
   },
   {
    "duration": 60,
    "start_time": "2022-04-09T06:31:42.018Z"
   },
   {
    "duration": 321,
    "start_time": "2022-04-09T06:31:42.080Z"
   },
   {
    "duration": 345,
    "start_time": "2022-04-09T06:31:42.403Z"
   },
   {
    "duration": 329,
    "start_time": "2022-04-09T06:31:42.750Z"
   },
   {
    "duration": 351,
    "start_time": "2022-04-09T06:31:43.081Z"
   },
   {
    "duration": 364,
    "start_time": "2022-04-09T06:31:43.434Z"
   },
   {
    "duration": 333,
    "start_time": "2022-04-09T06:31:43.800Z"
   },
   {
    "duration": 335,
    "start_time": "2022-04-09T06:31:44.136Z"
   },
   {
    "duration": 355,
    "start_time": "2022-04-09T06:31:44.473Z"
   },
   {
    "duration": 355,
    "start_time": "2022-04-09T06:31:44.831Z"
   },
   {
    "duration": 312,
    "start_time": "2022-04-09T06:31:45.189Z"
   },
   {
    "duration": 330,
    "start_time": "2022-04-09T06:31:45.504Z"
   },
   {
    "duration": 323,
    "start_time": "2022-04-09T06:31:45.837Z"
   },
   {
    "duration": 353,
    "start_time": "2022-04-09T06:31:46.168Z"
   },
   {
    "duration": 331,
    "start_time": "2022-04-09T06:31:46.523Z"
   },
   {
    "duration": 298,
    "start_time": "2022-04-09T06:31:46.856Z"
   },
   {
    "duration": 835,
    "start_time": "2022-04-09T06:31:47.167Z"
   },
   {
    "duration": 65,
    "start_time": "2022-04-09T06:31:48.004Z"
   },
   {
    "duration": 46,
    "start_time": "2022-04-09T06:31:48.072Z"
   },
   {
    "duration": 347,
    "start_time": "2022-04-09T06:31:48.121Z"
   },
   {
    "duration": 340,
    "start_time": "2022-04-09T06:31:48.471Z"
   },
   {
    "duration": 359,
    "start_time": "2022-04-09T06:31:48.814Z"
   },
   {
    "duration": 32,
    "start_time": "2022-04-09T06:31:49.175Z"
   },
   {
    "duration": 344,
    "start_time": "2022-04-09T06:31:49.209Z"
   },
   {
    "duration": 13,
    "start_time": "2022-04-09T06:31:49.555Z"
   },
   {
    "duration": 6,
    "start_time": "2022-04-09T06:31:49.570Z"
   },
   {
    "duration": 12,
    "start_time": "2022-04-09T06:31:49.578Z"
   },
   {
    "duration": 23,
    "start_time": "2022-04-09T06:31:49.593Z"
   },
   {
    "duration": 3156,
    "start_time": "2022-04-09T06:31:49.618Z"
   },
   {
    "duration": 44105,
    "start_time": "2022-04-09T06:31:52.778Z"
   },
   {
    "duration": 1579749,
    "start_time": "2022-04-09T06:32:36.886Z"
   },
   {
    "duration": 5008276,
    "start_time": "2022-04-09T07:00:06.418Z"
   },
   {
    "duration": 3961,
    "start_time": "2022-04-09T08:27:23.911Z"
   },
   {
    "duration": 3933,
    "start_time": "2022-04-09T08:28:12.841Z"
   },
   {
    "duration": 22,
    "start_time": "2022-04-09T08:36:22.004Z"
   },
   {
    "duration": 153,
    "start_time": "2022-04-09T08:36:49.525Z"
   },
   {
    "duration": 11,
    "start_time": "2022-04-09T08:36:59.307Z"
   },
   {
    "duration": 1868,
    "start_time": "2022-04-09T08:38:01.244Z"
   },
   {
    "duration": 15,
    "start_time": "2022-04-09T08:38:03.115Z"
   },
   {
    "duration": 800,
    "start_time": "2022-04-09T08:38:03.132Z"
   },
   {
    "duration": 78,
    "start_time": "2022-04-09T08:38:03.935Z"
   },
   {
    "duration": 64,
    "start_time": "2022-04-09T08:38:04.015Z"
   },
   {
    "duration": 12,
    "start_time": "2022-04-09T08:38:04.081Z"
   },
   {
    "duration": 5,
    "start_time": "2022-04-09T08:38:04.096Z"
   },
   {
    "duration": 24,
    "start_time": "2022-04-09T08:38:04.104Z"
   },
   {
    "duration": 43,
    "start_time": "2022-04-09T08:38:04.131Z"
   },
   {
    "duration": 14,
    "start_time": "2022-04-09T08:38:04.179Z"
   },
   {
    "duration": 20,
    "start_time": "2022-04-09T08:38:04.195Z"
   },
   {
    "duration": 65,
    "start_time": "2022-04-09T08:38:04.217Z"
   },
   {
    "duration": 312,
    "start_time": "2022-04-09T08:38:04.284Z"
   },
   {
    "duration": 341,
    "start_time": "2022-04-09T08:38:04.598Z"
   },
   {
    "duration": 330,
    "start_time": "2022-04-09T08:38:04.941Z"
   },
   {
    "duration": 345,
    "start_time": "2022-04-09T08:38:05.273Z"
   },
   {
    "duration": 287,
    "start_time": "2022-04-09T08:38:05.620Z"
   },
   {
    "duration": 414,
    "start_time": "2022-04-09T08:38:05.910Z"
   },
   {
    "duration": 346,
    "start_time": "2022-04-09T08:38:06.326Z"
   },
   {
    "duration": 361,
    "start_time": "2022-04-09T08:38:06.675Z"
   },
   {
    "duration": 372,
    "start_time": "2022-04-09T08:38:07.038Z"
   },
   {
    "duration": 331,
    "start_time": "2022-04-09T08:38:07.412Z"
   },
   {
    "duration": 313,
    "start_time": "2022-04-09T08:38:07.745Z"
   },
   {
    "duration": 310,
    "start_time": "2022-04-09T08:38:08.068Z"
   },
   {
    "duration": 374,
    "start_time": "2022-04-09T08:38:08.380Z"
   },
   {
    "duration": 322,
    "start_time": "2022-04-09T08:38:08.756Z"
   },
   {
    "duration": 297,
    "start_time": "2022-04-09T08:38:09.080Z"
   },
   {
    "duration": 823,
    "start_time": "2022-04-09T08:38:09.382Z"
   },
   {
    "duration": 64,
    "start_time": "2022-04-09T08:38:10.207Z"
   },
   {
    "duration": 46,
    "start_time": "2022-04-09T08:38:10.273Z"
   },
   {
    "duration": 334,
    "start_time": "2022-04-09T08:38:10.321Z"
   },
   {
    "duration": 349,
    "start_time": "2022-04-09T08:38:10.657Z"
   },
   {
    "duration": 340,
    "start_time": "2022-04-09T08:38:11.008Z"
   },
   {
    "duration": 41,
    "start_time": "2022-04-09T08:38:11.351Z"
   },
   {
    "duration": 342,
    "start_time": "2022-04-09T08:38:11.395Z"
   },
   {
    "duration": 5,
    "start_time": "2022-04-09T08:38:11.739Z"
   },
   {
    "duration": 21,
    "start_time": "2022-04-09T08:38:11.746Z"
   },
   {
    "duration": 12,
    "start_time": "2022-04-09T08:38:11.770Z"
   },
   {
    "duration": 21,
    "start_time": "2022-04-09T08:38:11.785Z"
   },
   {
    "duration": 17,
    "start_time": "2022-04-09T08:38:11.809Z"
   },
   {
    "duration": 49,
    "start_time": "2022-04-09T08:38:11.828Z"
   },
   {
    "duration": 2889,
    "start_time": "2022-04-09T08:38:11.879Z"
   },
   {
    "duration": 2621,
    "start_time": "2022-04-09T08:41:35.681Z"
   },
   {
    "duration": 21,
    "start_time": "2022-04-09T08:41:38.306Z"
   },
   {
    "duration": 778,
    "start_time": "2022-04-09T08:41:38.330Z"
   },
   {
    "duration": 79,
    "start_time": "2022-04-09T08:41:39.110Z"
   },
   {
    "duration": 76,
    "start_time": "2022-04-09T08:41:39.193Z"
   },
   {
    "duration": 13,
    "start_time": "2022-04-09T08:41:39.272Z"
   },
   {
    "duration": 6,
    "start_time": "2022-04-09T08:41:39.288Z"
   },
   {
    "duration": 22,
    "start_time": "2022-04-09T08:41:39.297Z"
   },
   {
    "duration": 59,
    "start_time": "2022-04-09T08:41:39.321Z"
   },
   {
    "duration": 14,
    "start_time": "2022-04-09T08:41:39.383Z"
   },
   {
    "duration": 20,
    "start_time": "2022-04-09T08:41:39.399Z"
   },
   {
    "duration": 55,
    "start_time": "2022-04-09T08:41:39.421Z"
   },
   {
    "duration": 321,
    "start_time": "2022-04-09T08:41:39.478Z"
   },
   {
    "duration": 339,
    "start_time": "2022-04-09T08:41:39.804Z"
   },
   {
    "duration": 332,
    "start_time": "2022-04-09T08:41:40.145Z"
   },
   {
    "duration": 353,
    "start_time": "2022-04-09T08:41:40.479Z"
   },
   {
    "duration": 297,
    "start_time": "2022-04-09T08:41:40.835Z"
   },
   {
    "duration": 547,
    "start_time": "2022-04-09T08:41:41.135Z"
   },
   {
    "duration": 327,
    "start_time": "2022-04-09T08:41:41.685Z"
   },
   {
    "duration": 356,
    "start_time": "2022-04-09T08:41:42.014Z"
   },
   {
    "duration": 356,
    "start_time": "2022-04-09T08:41:42.372Z"
   },
   {
    "duration": 303,
    "start_time": "2022-04-09T08:41:42.730Z"
   },
   {
    "duration": 320,
    "start_time": "2022-04-09T08:41:43.036Z"
   },
   {
    "duration": 306,
    "start_time": "2022-04-09T08:41:43.367Z"
   },
   {
    "duration": 349,
    "start_time": "2022-04-09T08:41:43.676Z"
   },
   {
    "duration": 323,
    "start_time": "2022-04-09T08:41:44.028Z"
   },
   {
    "duration": 290,
    "start_time": "2022-04-09T08:41:44.354Z"
   },
   {
    "duration": 827,
    "start_time": "2022-04-09T08:41:44.647Z"
   },
   {
    "duration": 70,
    "start_time": "2022-04-09T08:41:45.476Z"
   },
   {
    "duration": 58,
    "start_time": "2022-04-09T08:41:45.568Z"
   },
   {
    "duration": 456,
    "start_time": "2022-04-09T08:41:45.629Z"
   },
   {
    "duration": 497,
    "start_time": "2022-04-09T08:41:46.088Z"
   },
   {
    "duration": 495,
    "start_time": "2022-04-09T08:41:46.588Z"
   },
   {
    "duration": 50,
    "start_time": "2022-04-09T08:41:47.086Z"
   },
   {
    "duration": 514,
    "start_time": "2022-04-09T08:41:47.139Z"
   },
   {
    "duration": 16,
    "start_time": "2022-04-09T08:41:47.656Z"
   },
   {
    "duration": 6,
    "start_time": "2022-04-09T08:41:47.674Z"
   },
   {
    "duration": 359,
    "start_time": "2022-04-09T08:41:47.682Z"
   },
   {
    "duration": 0,
    "start_time": "2022-04-09T08:41:48.044Z"
   },
   {
    "duration": 0,
    "start_time": "2022-04-09T08:41:48.047Z"
   },
   {
    "duration": 31,
    "start_time": "2022-04-09T08:42:28.509Z"
   },
   {
    "duration": 1907,
    "start_time": "2022-04-09T08:43:32.599Z"
   },
   {
    "duration": 16,
    "start_time": "2022-04-09T08:43:34.509Z"
   },
   {
    "duration": 785,
    "start_time": "2022-04-09T08:43:34.527Z"
   },
   {
    "duration": 74,
    "start_time": "2022-04-09T08:43:35.315Z"
   },
   {
    "duration": 76,
    "start_time": "2022-04-09T08:43:35.391Z"
   },
   {
    "duration": 12,
    "start_time": "2022-04-09T08:43:35.470Z"
   },
   {
    "duration": 9,
    "start_time": "2022-04-09T08:43:35.485Z"
   },
   {
    "duration": 29,
    "start_time": "2022-04-09T08:43:35.496Z"
   },
   {
    "duration": 47,
    "start_time": "2022-04-09T08:43:35.528Z"
   },
   {
    "duration": 18,
    "start_time": "2022-04-09T08:43:35.579Z"
   },
   {
    "duration": 24,
    "start_time": "2022-04-09T08:43:35.601Z"
   },
   {
    "duration": 60,
    "start_time": "2022-04-09T08:43:35.627Z"
   },
   {
    "duration": 333,
    "start_time": "2022-04-09T08:43:35.689Z"
   },
   {
    "duration": 343,
    "start_time": "2022-04-09T08:43:36.025Z"
   },
   {
    "duration": 324,
    "start_time": "2022-04-09T08:43:36.370Z"
   },
   {
    "duration": 347,
    "start_time": "2022-04-09T08:43:36.696Z"
   },
   {
    "duration": 327,
    "start_time": "2022-04-09T08:43:37.045Z"
   },
   {
    "duration": 403,
    "start_time": "2022-04-09T08:43:37.374Z"
   },
   {
    "duration": 324,
    "start_time": "2022-04-09T08:43:37.779Z"
   },
   {
    "duration": 364,
    "start_time": "2022-04-09T08:43:38.106Z"
   },
   {
    "duration": 357,
    "start_time": "2022-04-09T08:43:38.472Z"
   },
   {
    "duration": 297,
    "start_time": "2022-04-09T08:43:38.832Z"
   },
   {
    "duration": 323,
    "start_time": "2022-04-09T08:43:39.131Z"
   },
   {
    "duration": 331,
    "start_time": "2022-04-09T08:43:39.456Z"
   },
   {
    "duration": 341,
    "start_time": "2022-04-09T08:43:39.789Z"
   },
   {
    "duration": 301,
    "start_time": "2022-04-09T08:43:40.132Z"
   },
   {
    "duration": 286,
    "start_time": "2022-04-09T08:43:40.435Z"
   },
   {
    "duration": 797,
    "start_time": "2022-04-09T08:43:40.727Z"
   },
   {
    "duration": 74,
    "start_time": "2022-04-09T08:43:41.526Z"
   },
   {
    "duration": 63,
    "start_time": "2022-04-09T08:43:41.604Z"
   },
   {
    "duration": 333,
    "start_time": "2022-04-09T08:43:41.670Z"
   },
   {
    "duration": 354,
    "start_time": "2022-04-09T08:43:42.006Z"
   },
   {
    "duration": 361,
    "start_time": "2022-04-09T08:43:42.362Z"
   },
   {
    "duration": 51,
    "start_time": "2022-04-09T08:43:42.726Z"
   },
   {
    "duration": 346,
    "start_time": "2022-04-09T08:43:42.779Z"
   },
   {
    "duration": 5,
    "start_time": "2022-04-09T08:43:43.128Z"
   },
   {
    "duration": 9,
    "start_time": "2022-04-09T08:43:43.136Z"
   },
   {
    "duration": 190,
    "start_time": "2022-04-09T08:43:43.148Z"
   },
   {
    "duration": 0,
    "start_time": "2022-04-09T08:43:43.341Z"
   },
   {
    "duration": 0,
    "start_time": "2022-04-09T08:43:43.343Z"
   },
   {
    "duration": 1882,
    "start_time": "2022-04-09T08:45:03.427Z"
   },
   {
    "duration": 14,
    "start_time": "2022-04-09T08:45:05.312Z"
   },
   {
    "duration": 781,
    "start_time": "2022-04-09T08:45:05.328Z"
   },
   {
    "duration": 81,
    "start_time": "2022-04-09T08:45:06.112Z"
   },
   {
    "duration": 52,
    "start_time": "2022-04-09T08:45:06.196Z"
   },
   {
    "duration": 25,
    "start_time": "2022-04-09T08:45:06.250Z"
   },
   {
    "duration": 13,
    "start_time": "2022-04-09T08:45:06.277Z"
   },
   {
    "duration": 20,
    "start_time": "2022-04-09T08:45:06.292Z"
   },
   {
    "duration": 24,
    "start_time": "2022-04-09T08:45:06.314Z"
   },
   {
    "duration": 14,
    "start_time": "2022-04-09T08:45:06.369Z"
   },
   {
    "duration": 22,
    "start_time": "2022-04-09T08:45:06.385Z"
   },
   {
    "duration": 60,
    "start_time": "2022-04-09T08:45:06.409Z"
   },
   {
    "duration": 319,
    "start_time": "2022-04-09T08:45:06.471Z"
   },
   {
    "duration": 351,
    "start_time": "2022-04-09T08:45:06.793Z"
   },
   {
    "duration": 325,
    "start_time": "2022-04-09T08:45:07.146Z"
   },
   {
    "duration": 335,
    "start_time": "2022-04-09T08:45:07.473Z"
   },
   {
    "duration": 275,
    "start_time": "2022-04-09T08:45:07.811Z"
   },
   {
    "duration": 396,
    "start_time": "2022-04-09T08:45:08.089Z"
   },
   {
    "duration": 331,
    "start_time": "2022-04-09T08:45:08.487Z"
   },
   {
    "duration": 352,
    "start_time": "2022-04-09T08:45:08.820Z"
   },
   {
    "duration": 324,
    "start_time": "2022-04-09T08:45:09.174Z"
   },
   {
    "duration": 288,
    "start_time": "2022-04-09T08:45:09.500Z"
   },
   {
    "duration": 313,
    "start_time": "2022-04-09T08:45:09.791Z"
   },
   {
    "duration": 302,
    "start_time": "2022-04-09T08:45:10.107Z"
   },
   {
    "duration": 341,
    "start_time": "2022-04-09T08:45:10.411Z"
   },
   {
    "duration": 317,
    "start_time": "2022-04-09T08:45:10.755Z"
   },
   {
    "duration": 286,
    "start_time": "2022-04-09T08:45:11.074Z"
   },
   {
    "duration": 800,
    "start_time": "2022-04-09T08:45:11.370Z"
   },
   {
    "duration": 51,
    "start_time": "2022-04-09T08:45:12.173Z"
   },
   {
    "duration": 64,
    "start_time": "2022-04-09T08:45:12.226Z"
   },
   {
    "duration": 318,
    "start_time": "2022-04-09T08:45:12.293Z"
   },
   {
    "duration": 340,
    "start_time": "2022-04-09T08:45:12.614Z"
   },
   {
    "duration": 342,
    "start_time": "2022-04-09T08:45:12.969Z"
   },
   {
    "duration": 54,
    "start_time": "2022-04-09T08:45:13.314Z"
   },
   {
    "duration": 343,
    "start_time": "2022-04-09T08:45:13.371Z"
   },
   {
    "duration": 6,
    "start_time": "2022-04-09T08:45:13.717Z"
   },
   {
    "duration": 6,
    "start_time": "2022-04-09T08:45:13.725Z"
   },
   {
    "duration": 202,
    "start_time": "2022-04-09T08:45:13.733Z"
   },
   {
    "duration": 0,
    "start_time": "2022-04-09T08:45:13.938Z"
   },
   {
    "duration": 0,
    "start_time": "2022-04-09T08:45:13.939Z"
   },
   {
    "duration": 4089,
    "start_time": "2022-04-09T08:45:31.285Z"
   },
   {
    "duration": 16,
    "start_time": "2022-04-09T08:45:35.376Z"
   },
   {
    "duration": 922,
    "start_time": "2022-04-09T08:45:35.395Z"
   },
   {
    "duration": 80,
    "start_time": "2022-04-09T08:45:36.320Z"
   },
   {
    "duration": 67,
    "start_time": "2022-04-09T08:45:36.402Z"
   },
   {
    "duration": 13,
    "start_time": "2022-04-09T08:45:36.471Z"
   },
   {
    "duration": 7,
    "start_time": "2022-04-09T08:45:36.486Z"
   },
   {
    "duration": 20,
    "start_time": "2022-04-09T08:45:36.495Z"
   },
   {
    "duration": 60,
    "start_time": "2022-04-09T08:45:36.517Z"
   },
   {
    "duration": 15,
    "start_time": "2022-04-09T08:45:36.581Z"
   },
   {
    "duration": 21,
    "start_time": "2022-04-09T08:45:36.598Z"
   },
   {
    "duration": 56,
    "start_time": "2022-04-09T08:45:36.621Z"
   },
   {
    "duration": 331,
    "start_time": "2022-04-09T08:45:36.680Z"
   },
   {
    "duration": 344,
    "start_time": "2022-04-09T08:45:37.014Z"
   },
   {
    "duration": 319,
    "start_time": "2022-04-09T08:45:37.368Z"
   },
   {
    "duration": 355,
    "start_time": "2022-04-09T08:45:37.690Z"
   },
   {
    "duration": 292,
    "start_time": "2022-04-09T08:45:38.048Z"
   },
   {
    "duration": 402,
    "start_time": "2022-04-09T08:45:38.343Z"
   },
   {
    "duration": 326,
    "start_time": "2022-04-09T08:45:38.748Z"
   },
   {
    "duration": 338,
    "start_time": "2022-04-09T08:45:39.076Z"
   },
   {
    "duration": 337,
    "start_time": "2022-04-09T08:45:39.416Z"
   },
   {
    "duration": 293,
    "start_time": "2022-04-09T08:45:39.755Z"
   },
   {
    "duration": 322,
    "start_time": "2022-04-09T08:45:40.050Z"
   },
   {
    "duration": 311,
    "start_time": "2022-04-09T08:45:40.374Z"
   },
   {
    "duration": 347,
    "start_time": "2022-04-09T08:45:40.687Z"
   },
   {
    "duration": 322,
    "start_time": "2022-04-09T08:45:41.037Z"
   },
   {
    "duration": 300,
    "start_time": "2022-04-09T08:45:41.361Z"
   },
   {
    "duration": 841,
    "start_time": "2022-04-09T08:45:41.667Z"
   },
   {
    "duration": 64,
    "start_time": "2022-04-09T08:45:42.511Z"
   },
   {
    "duration": 66,
    "start_time": "2022-04-09T08:45:42.578Z"
   },
   {
    "duration": 477,
    "start_time": "2022-04-09T08:45:42.647Z"
   },
   {
    "duration": 492,
    "start_time": "2022-04-09T08:45:43.127Z"
   },
   {
    "duration": 501,
    "start_time": "2022-04-09T08:45:43.622Z"
   },
   {
    "duration": 53,
    "start_time": "2022-04-09T08:45:44.126Z"
   },
   {
    "duration": 342,
    "start_time": "2022-04-09T08:45:44.182Z"
   },
   {
    "duration": 5,
    "start_time": "2022-04-09T08:45:44.527Z"
   },
   {
    "duration": 7,
    "start_time": "2022-04-09T08:45:44.534Z"
   },
   {
    "duration": 202,
    "start_time": "2022-04-09T08:45:44.544Z"
   },
   {
    "duration": 0,
    "start_time": "2022-04-09T08:45:44.748Z"
   },
   {
    "duration": 0,
    "start_time": "2022-04-09T08:45:44.751Z"
   },
   {
    "duration": 1865,
    "start_time": "2022-04-09T09:58:27.239Z"
   },
   {
    "duration": 15,
    "start_time": "2022-04-09T09:58:29.106Z"
   },
   {
    "duration": 780,
    "start_time": "2022-04-09T09:58:29.123Z"
   },
   {
    "duration": 75,
    "start_time": "2022-04-09T09:58:29.906Z"
   },
   {
    "duration": 54,
    "start_time": "2022-04-09T09:58:29.983Z"
   },
   {
    "duration": 37,
    "start_time": "2022-04-09T09:58:30.039Z"
   },
   {
    "duration": 6,
    "start_time": "2022-04-09T09:58:30.078Z"
   },
   {
    "duration": 19,
    "start_time": "2022-04-09T09:58:30.086Z"
   },
   {
    "duration": 18,
    "start_time": "2022-04-09T09:58:30.107Z"
   },
   {
    "duration": 46,
    "start_time": "2022-04-09T09:58:30.129Z"
   },
   {
    "duration": 21,
    "start_time": "2022-04-09T09:58:30.178Z"
   },
   {
    "duration": 23,
    "start_time": "2022-04-09T09:58:30.202Z"
   },
   {
    "duration": 351,
    "start_time": "2022-04-09T09:58:30.227Z"
   },
   {
    "duration": 346,
    "start_time": "2022-04-09T09:58:30.581Z"
   },
   {
    "duration": 339,
    "start_time": "2022-04-09T09:58:30.930Z"
   },
   {
    "duration": 344,
    "start_time": "2022-04-09T09:58:31.271Z"
   },
   {
    "duration": 278,
    "start_time": "2022-04-09T09:58:31.618Z"
   },
   {
    "duration": 394,
    "start_time": "2022-04-09T09:58:31.899Z"
   },
   {
    "duration": 322,
    "start_time": "2022-04-09T09:58:32.295Z"
   },
   {
    "duration": 348,
    "start_time": "2022-04-09T09:58:32.619Z"
   },
   {
    "duration": 334,
    "start_time": "2022-04-09T09:58:32.969Z"
   },
   {
    "duration": 296,
    "start_time": "2022-04-09T09:58:33.306Z"
   },
   {
    "duration": 305,
    "start_time": "2022-04-09T09:58:33.605Z"
   },
   {
    "duration": 315,
    "start_time": "2022-04-09T09:58:33.912Z"
   },
   {
    "duration": 343,
    "start_time": "2022-04-09T09:58:34.230Z"
   },
   {
    "duration": 318,
    "start_time": "2022-04-09T09:58:34.576Z"
   },
   {
    "duration": 282,
    "start_time": "2022-04-09T09:58:34.896Z"
   },
   {
    "duration": 989,
    "start_time": "2022-04-09T09:58:35.184Z"
   },
   {
    "duration": 48,
    "start_time": "2022-04-09T09:58:36.175Z"
   },
   {
    "duration": 65,
    "start_time": "2022-04-09T09:58:36.225Z"
   },
   {
    "duration": 312,
    "start_time": "2022-04-09T09:58:36.292Z"
   },
   {
    "duration": 336,
    "start_time": "2022-04-09T09:58:36.607Z"
   },
   {
    "duration": 339,
    "start_time": "2022-04-09T09:58:36.946Z"
   },
   {
    "duration": 31,
    "start_time": "2022-04-09T09:58:37.287Z"
   },
   {
    "duration": 339,
    "start_time": "2022-04-09T09:58:37.320Z"
   },
   {
    "duration": 11,
    "start_time": "2022-04-09T09:58:37.661Z"
   },
   {
    "duration": 7,
    "start_time": "2022-04-09T09:58:37.675Z"
   },
   {
    "duration": 194,
    "start_time": "2022-04-09T09:58:37.684Z"
   },
   {
    "duration": 0,
    "start_time": "2022-04-09T09:58:37.880Z"
   },
   {
    "duration": 0,
    "start_time": "2022-04-09T09:58:37.882Z"
   },
   {
    "duration": 1794,
    "start_time": "2022-04-09T10:00:52.197Z"
   },
   {
    "duration": 15,
    "start_time": "2022-04-09T10:00:53.994Z"
   },
   {
    "duration": 776,
    "start_time": "2022-04-09T10:00:54.011Z"
   },
   {
    "duration": 77,
    "start_time": "2022-04-09T10:00:54.790Z"
   },
   {
    "duration": 51,
    "start_time": "2022-04-09T10:00:54.870Z"
   },
   {
    "duration": 12,
    "start_time": "2022-04-09T10:00:54.924Z"
   },
   {
    "duration": 31,
    "start_time": "2022-04-09T10:00:54.938Z"
   },
   {
    "duration": 18,
    "start_time": "2022-04-09T10:00:54.971Z"
   },
   {
    "duration": 17,
    "start_time": "2022-04-09T10:00:54.992Z"
   },
   {
    "duration": 13,
    "start_time": "2022-04-09T10:00:55.013Z"
   },
   {
    "duration": 21,
    "start_time": "2022-04-09T10:00:55.068Z"
   },
   {
    "duration": 24,
    "start_time": "2022-04-09T10:00:55.091Z"
   },
   {
    "duration": 336,
    "start_time": "2022-04-09T10:00:55.117Z"
   },
   {
    "duration": 341,
    "start_time": "2022-04-09T10:00:55.456Z"
   },
   {
    "duration": 322,
    "start_time": "2022-04-09T10:00:55.800Z"
   },
   {
    "duration": 347,
    "start_time": "2022-04-09T10:00:56.125Z"
   },
   {
    "duration": 276,
    "start_time": "2022-04-09T10:00:56.475Z"
   },
   {
    "duration": 396,
    "start_time": "2022-04-09T10:00:56.753Z"
   },
   {
    "duration": 318,
    "start_time": "2022-04-09T10:00:57.152Z"
   },
   {
    "duration": 329,
    "start_time": "2022-04-09T10:00:57.472Z"
   },
   {
    "duration": 334,
    "start_time": "2022-04-09T10:00:57.804Z"
   },
   {
    "duration": 295,
    "start_time": "2022-04-09T10:00:58.141Z"
   },
   {
    "duration": 316,
    "start_time": "2022-04-09T10:00:58.439Z"
   },
   {
    "duration": 297,
    "start_time": "2022-04-09T10:00:58.757Z"
   },
   {
    "duration": 337,
    "start_time": "2022-04-09T10:00:59.056Z"
   },
   {
    "duration": 314,
    "start_time": "2022-04-09T10:00:59.395Z"
   },
   {
    "duration": 284,
    "start_time": "2022-04-09T10:00:59.711Z"
   },
   {
    "duration": 821,
    "start_time": "2022-04-09T10:01:00.000Z"
   },
   {
    "duration": 66,
    "start_time": "2022-04-09T10:01:00.824Z"
   },
   {
    "duration": 49,
    "start_time": "2022-04-09T10:01:00.892Z"
   },
   {
    "duration": 326,
    "start_time": "2022-04-09T10:01:00.943Z"
   },
   {
    "duration": 343,
    "start_time": "2022-04-09T10:01:01.271Z"
   },
   {
    "duration": 333,
    "start_time": "2022-04-09T10:01:01.616Z"
   },
   {
    "duration": 45,
    "start_time": "2022-04-09T10:01:01.951Z"
   },
   {
    "duration": 328,
    "start_time": "2022-04-09T10:01:01.999Z"
   },
   {
    "duration": 5,
    "start_time": "2022-04-09T10:01:02.330Z"
   },
   {
    "duration": 12,
    "start_time": "2022-04-09T10:01:02.337Z"
   },
   {
    "duration": 192,
    "start_time": "2022-04-09T10:01:02.351Z"
   },
   {
    "duration": 0,
    "start_time": "2022-04-09T10:01:02.546Z"
   },
   {
    "duration": 0,
    "start_time": "2022-04-09T10:01:02.547Z"
   },
   {
    "duration": 30,
    "start_time": "2022-04-09T10:01:27.758Z"
   },
   {
    "duration": 23,
    "start_time": "2022-04-09T10:02:16.340Z"
   },
   {
    "duration": 33,
    "start_time": "2022-04-09T10:03:02.043Z"
   },
   {
    "duration": 1829,
    "start_time": "2022-04-09T10:03:12.755Z"
   },
   {
    "duration": 14,
    "start_time": "2022-04-09T10:03:14.587Z"
   },
   {
    "duration": 770,
    "start_time": "2022-04-09T10:03:14.604Z"
   },
   {
    "duration": 64,
    "start_time": "2022-04-09T10:03:15.377Z"
   },
   {
    "duration": 70,
    "start_time": "2022-04-09T10:03:15.443Z"
   },
   {
    "duration": 12,
    "start_time": "2022-04-09T10:03:15.515Z"
   },
   {
    "duration": 7,
    "start_time": "2022-04-09T10:03:15.528Z"
   },
   {
    "duration": 47,
    "start_time": "2022-04-09T10:03:15.536Z"
   },
   {
    "duration": 20,
    "start_time": "2022-04-09T10:03:15.585Z"
   },
   {
    "duration": 13,
    "start_time": "2022-04-09T10:03:15.609Z"
   },
   {
    "duration": 56,
    "start_time": "2022-04-09T10:03:15.624Z"
   },
   {
    "duration": 20,
    "start_time": "2022-04-09T10:03:15.682Z"
   },
   {
    "duration": 318,
    "start_time": "2022-04-09T10:03:15.704Z"
   },
   {
    "duration": 328,
    "start_time": "2022-04-09T10:03:16.024Z"
   },
   {
    "duration": 317,
    "start_time": "2022-04-09T10:03:16.354Z"
   },
   {
    "duration": 329,
    "start_time": "2022-04-09T10:03:16.673Z"
   },
   {
    "duration": 271,
    "start_time": "2022-04-09T10:03:17.004Z"
   },
   {
    "duration": 404,
    "start_time": "2022-04-09T10:03:17.277Z"
   },
   {
    "duration": 322,
    "start_time": "2022-04-09T10:03:17.684Z"
   },
   {
    "duration": 346,
    "start_time": "2022-04-09T10:03:18.008Z"
   },
   {
    "duration": 324,
    "start_time": "2022-04-09T10:03:18.368Z"
   },
   {
    "duration": 297,
    "start_time": "2022-04-09T10:03:18.694Z"
   },
   {
    "duration": 309,
    "start_time": "2022-04-09T10:03:18.994Z"
   },
   {
    "duration": 302,
    "start_time": "2022-04-09T10:03:19.305Z"
   },
   {
    "duration": 341,
    "start_time": "2022-04-09T10:03:19.609Z"
   },
   {
    "duration": 317,
    "start_time": "2022-04-09T10:03:19.952Z"
   },
   {
    "duration": 280,
    "start_time": "2022-04-09T10:03:20.271Z"
   },
   {
    "duration": 791,
    "start_time": "2022-04-09T10:03:20.569Z"
   },
   {
    "duration": 51,
    "start_time": "2022-04-09T10:03:21.363Z"
   },
   {
    "duration": 71,
    "start_time": "2022-04-09T10:03:21.417Z"
   },
   {
    "duration": 414,
    "start_time": "2022-04-09T10:03:21.490Z"
   },
   {
    "duration": 328,
    "start_time": "2022-04-09T10:03:21.906Z"
   },
   {
    "duration": 337,
    "start_time": "2022-04-09T10:03:22.237Z"
   },
   {
    "duration": 34,
    "start_time": "2022-04-09T10:03:22.576Z"
   },
   {
    "duration": 358,
    "start_time": "2022-04-09T10:03:22.612Z"
   },
   {
    "duration": 7,
    "start_time": "2022-04-09T10:03:22.973Z"
   },
   {
    "duration": 7,
    "start_time": "2022-04-09T10:03:22.982Z"
   },
   {
    "duration": 206,
    "start_time": "2022-04-09T10:03:22.991Z"
   },
   {
    "duration": 0,
    "start_time": "2022-04-09T10:03:23.200Z"
   },
   {
    "duration": 0,
    "start_time": "2022-04-09T10:03:23.202Z"
   },
   {
    "duration": 31,
    "start_time": "2022-04-09T10:05:51.040Z"
   },
   {
    "duration": 2668,
    "start_time": "2022-04-09T10:06:10.995Z"
   },
   {
    "duration": 24,
    "start_time": "2022-04-09T10:06:13.669Z"
   },
   {
    "duration": 820,
    "start_time": "2022-04-09T10:06:13.696Z"
   },
   {
    "duration": 79,
    "start_time": "2022-04-09T10:06:14.519Z"
   },
   {
    "duration": 75,
    "start_time": "2022-04-09T10:06:14.600Z"
   },
   {
    "duration": 14,
    "start_time": "2022-04-09T10:06:14.678Z"
   },
   {
    "duration": 6,
    "start_time": "2022-04-09T10:06:14.695Z"
   },
   {
    "duration": 24,
    "start_time": "2022-04-09T10:06:14.703Z"
   },
   {
    "duration": 53,
    "start_time": "2022-04-09T10:06:14.729Z"
   },
   {
    "duration": 14,
    "start_time": "2022-04-09T10:06:14.786Z"
   },
   {
    "duration": 67,
    "start_time": "2022-04-09T10:06:14.802Z"
   },
   {
    "duration": 25,
    "start_time": "2022-04-09T10:06:14.871Z"
   },
   {
    "duration": 353,
    "start_time": "2022-04-09T10:06:14.899Z"
   },
   {
    "duration": 447,
    "start_time": "2022-04-09T10:06:15.254Z"
   },
   {
    "duration": 344,
    "start_time": "2022-04-09T10:06:15.704Z"
   },
   {
    "duration": 353,
    "start_time": "2022-04-09T10:06:16.051Z"
   },
   {
    "duration": 291,
    "start_time": "2022-04-09T10:06:16.406Z"
   },
   {
    "duration": 411,
    "start_time": "2022-04-09T10:06:16.699Z"
   },
   {
    "duration": 401,
    "start_time": "2022-04-09T10:06:17.113Z"
   },
   {
    "duration": 363,
    "start_time": "2022-04-09T10:06:17.516Z"
   },
   {
    "duration": 398,
    "start_time": "2022-04-09T10:06:17.881Z"
   },
   {
    "duration": 535,
    "start_time": "2022-04-09T10:06:18.281Z"
   },
   {
    "duration": 437,
    "start_time": "2022-04-09T10:06:18.819Z"
   },
   {
    "duration": 302,
    "start_time": "2022-04-09T10:06:19.267Z"
   },
   {
    "duration": 347,
    "start_time": "2022-04-09T10:06:19.571Z"
   },
   {
    "duration": 324,
    "start_time": "2022-04-09T10:06:19.921Z"
   },
   {
    "duration": 302,
    "start_time": "2022-04-09T10:06:20.248Z"
   },
   {
    "duration": 811,
    "start_time": "2022-04-09T10:06:20.567Z"
   },
   {
    "duration": 51,
    "start_time": "2022-04-09T10:06:21.380Z"
   },
   {
    "duration": 72,
    "start_time": "2022-04-09T10:06:21.434Z"
   },
   {
    "duration": 345,
    "start_time": "2022-04-09T10:06:21.508Z"
   },
   {
    "duration": 351,
    "start_time": "2022-04-09T10:06:21.856Z"
   },
   {
    "duration": 340,
    "start_time": "2022-04-09T10:06:22.210Z"
   },
   {
    "duration": 194,
    "start_time": "2022-04-09T10:06:22.552Z"
   },
   {
    "duration": 0,
    "start_time": "2022-04-09T10:06:22.749Z"
   },
   {
    "duration": 0,
    "start_time": "2022-04-09T10:06:22.750Z"
   },
   {
    "duration": 0,
    "start_time": "2022-04-09T10:06:22.752Z"
   },
   {
    "duration": 0,
    "start_time": "2022-04-09T10:06:22.753Z"
   },
   {
    "duration": 0,
    "start_time": "2022-04-09T10:06:22.755Z"
   },
   {
    "duration": 0,
    "start_time": "2022-04-09T10:06:22.768Z"
   },
   {
    "duration": 2705,
    "start_time": "2022-04-09T10:06:42.848Z"
   },
   {
    "duration": 24,
    "start_time": "2022-04-09T10:06:45.557Z"
   },
   {
    "duration": 1033,
    "start_time": "2022-04-09T10:06:45.584Z"
   },
   {
    "duration": 81,
    "start_time": "2022-04-09T10:06:46.621Z"
   },
   {
    "duration": 65,
    "start_time": "2022-04-09T10:06:46.705Z"
   },
   {
    "duration": 12,
    "start_time": "2022-04-09T10:06:46.772Z"
   },
   {
    "duration": 8,
    "start_time": "2022-04-09T10:06:46.786Z"
   },
   {
    "duration": 21,
    "start_time": "2022-04-09T10:06:46.797Z"
   },
   {
    "duration": 62,
    "start_time": "2022-04-09T10:06:46.820Z"
   },
   {
    "duration": 13,
    "start_time": "2022-04-09T10:06:46.885Z"
   },
   {
    "duration": 19,
    "start_time": "2022-04-09T10:06:46.900Z"
   },
   {
    "duration": 59,
    "start_time": "2022-04-09T10:06:46.921Z"
   },
   {
    "duration": 333,
    "start_time": "2022-04-09T10:06:46.982Z"
   },
   {
    "duration": 355,
    "start_time": "2022-04-09T10:06:47.318Z"
   },
   {
    "duration": 335,
    "start_time": "2022-04-09T10:06:47.676Z"
   },
   {
    "duration": 357,
    "start_time": "2022-04-09T10:06:48.014Z"
   },
   {
    "duration": 325,
    "start_time": "2022-04-09T10:06:48.373Z"
   },
   {
    "duration": 520,
    "start_time": "2022-04-09T10:06:48.700Z"
   },
   {
    "duration": 337,
    "start_time": "2022-04-09T10:06:49.222Z"
   },
   {
    "duration": 354,
    "start_time": "2022-04-09T10:06:49.568Z"
   },
   {
    "duration": 499,
    "start_time": "2022-04-09T10:06:49.926Z"
   },
   {
    "duration": 434,
    "start_time": "2022-04-09T10:06:50.428Z"
   },
   {
    "duration": 479,
    "start_time": "2022-04-09T10:06:50.869Z"
   },
   {
    "duration": 459,
    "start_time": "2022-04-09T10:06:51.351Z"
   },
   {
    "duration": 510,
    "start_time": "2022-04-09T10:06:51.813Z"
   },
   {
    "duration": 468,
    "start_time": "2022-04-09T10:06:52.327Z"
   },
   {
    "duration": 394,
    "start_time": "2022-04-09T10:06:52.797Z"
   },
   {
    "duration": 838,
    "start_time": "2022-04-09T10:06:53.196Z"
   },
   {
    "duration": 67,
    "start_time": "2022-04-09T10:06:54.036Z"
   },
   {
    "duration": 45,
    "start_time": "2022-04-09T10:06:54.105Z"
   },
   {
    "duration": 476,
    "start_time": "2022-04-09T10:06:54.167Z"
   },
   {
    "duration": 496,
    "start_time": "2022-04-09T10:06:54.646Z"
   },
   {
    "duration": 588,
    "start_time": "2022-04-09T10:06:55.145Z"
   },
   {
    "duration": 57,
    "start_time": "2022-04-09T10:06:55.736Z"
   },
   {
    "duration": 479,
    "start_time": "2022-04-09T10:06:55.796Z"
   },
   {
    "duration": 5,
    "start_time": "2022-04-09T10:06:56.278Z"
   },
   {
    "duration": 7,
    "start_time": "2022-04-09T10:06:56.286Z"
   },
   {
    "duration": 354,
    "start_time": "2022-04-09T10:06:56.295Z"
   },
   {
    "duration": 0,
    "start_time": "2022-04-09T10:06:56.652Z"
   },
   {
    "duration": 0,
    "start_time": "2022-04-09T10:06:56.654Z"
   },
   {
    "duration": 19,
    "start_time": "2022-04-09T10:11:06.502Z"
   },
   {
    "duration": 7,
    "start_time": "2022-04-09T10:12:24.623Z"
   },
   {
    "duration": 9,
    "start_time": "2022-04-09T10:12:35.349Z"
   },
   {
    "duration": 17,
    "start_time": "2022-04-09T10:13:14.084Z"
   },
   {
    "duration": 8,
    "start_time": "2022-04-09T10:13:53.532Z"
   },
   {
    "duration": 9,
    "start_time": "2022-04-09T10:14:02.493Z"
   },
   {
    "duration": 19,
    "start_time": "2022-04-09T10:14:18.720Z"
   },
   {
    "duration": 7,
    "start_time": "2022-04-09T10:17:17.220Z"
   },
   {
    "duration": 15,
    "start_time": "2022-04-09T10:17:49.506Z"
   },
   {
    "duration": 5,
    "start_time": "2022-04-09T10:25:06.667Z"
   },
   {
    "duration": 7,
    "start_time": "2022-04-09T10:25:16.923Z"
   },
   {
    "duration": 18,
    "start_time": "2022-04-09T10:26:44.184Z"
   },
   {
    "duration": 1916,
    "start_time": "2022-04-09T10:26:51.729Z"
   },
   {
    "duration": 20,
    "start_time": "2022-04-09T10:26:53.648Z"
   },
   {
    "duration": 835,
    "start_time": "2022-04-09T10:26:53.673Z"
   },
   {
    "duration": 75,
    "start_time": "2022-04-09T10:26:54.511Z"
   },
   {
    "duration": 86,
    "start_time": "2022-04-09T10:26:54.588Z"
   },
   {
    "duration": 15,
    "start_time": "2022-04-09T10:26:54.678Z"
   },
   {
    "duration": 6,
    "start_time": "2022-04-09T10:26:54.695Z"
   },
   {
    "duration": 20,
    "start_time": "2022-04-09T10:26:54.703Z"
   },
   {
    "duration": 47,
    "start_time": "2022-04-09T10:26:54.725Z"
   },
   {
    "duration": 14,
    "start_time": "2022-04-09T10:26:54.776Z"
   },
   {
    "duration": 19,
    "start_time": "2022-04-09T10:26:54.792Z"
   },
   {
    "duration": 57,
    "start_time": "2022-04-09T10:26:54.813Z"
   },
   {
    "duration": 320,
    "start_time": "2022-04-09T10:26:54.873Z"
   },
   {
    "duration": 344,
    "start_time": "2022-04-09T10:26:55.196Z"
   },
   {
    "duration": 340,
    "start_time": "2022-04-09T10:26:55.543Z"
   },
   {
    "duration": 356,
    "start_time": "2022-04-09T10:26:55.885Z"
   },
   {
    "duration": 286,
    "start_time": "2022-04-09T10:26:56.243Z"
   },
   {
    "duration": 423,
    "start_time": "2022-04-09T10:26:56.531Z"
   },
   {
    "duration": 312,
    "start_time": "2022-04-09T10:26:56.956Z"
   },
   {
    "duration": 327,
    "start_time": "2022-04-09T10:26:57.271Z"
   },
   {
    "duration": 332,
    "start_time": "2022-04-09T10:26:57.601Z"
   },
   {
    "duration": 276,
    "start_time": "2022-04-09T10:26:57.936Z"
   },
   {
    "duration": 313,
    "start_time": "2022-04-09T10:26:58.215Z"
   },
   {
    "duration": 371,
    "start_time": "2022-04-09T10:26:58.531Z"
   },
   {
    "duration": 364,
    "start_time": "2022-04-09T10:26:58.905Z"
   },
   {
    "duration": 299,
    "start_time": "2022-04-09T10:26:59.271Z"
   },
   {
    "duration": 282,
    "start_time": "2022-04-09T10:26:59.573Z"
   },
   {
    "duration": 802,
    "start_time": "2022-04-09T10:26:59.868Z"
   },
   {
    "duration": 50,
    "start_time": "2022-04-09T10:27:00.673Z"
   },
   {
    "duration": 65,
    "start_time": "2022-04-09T10:27:00.725Z"
   },
   {
    "duration": 314,
    "start_time": "2022-04-09T10:27:00.792Z"
   },
   {
    "duration": 329,
    "start_time": "2022-04-09T10:27:01.108Z"
   },
   {
    "duration": 331,
    "start_time": "2022-04-09T10:27:01.440Z"
   },
   {
    "duration": 31,
    "start_time": "2022-04-09T10:27:01.774Z"
   },
   {
    "duration": 343,
    "start_time": "2022-04-09T10:27:01.808Z"
   },
   {
    "duration": 4,
    "start_time": "2022-04-09T10:27:02.154Z"
   },
   {
    "duration": 10,
    "start_time": "2022-04-09T10:27:02.167Z"
   },
   {
    "duration": 10,
    "start_time": "2022-04-09T10:27:02.179Z"
   },
   {
    "duration": 177,
    "start_time": "2022-04-09T10:27:02.192Z"
   },
   {
    "duration": 0,
    "start_time": "2022-04-09T10:27:02.372Z"
   },
   {
    "duration": 0,
    "start_time": "2022-04-09T10:27:02.375Z"
   },
   {
    "duration": 1967,
    "start_time": "2022-04-09T10:27:43.889Z"
   },
   {
    "duration": 21,
    "start_time": "2022-04-09T10:27:45.859Z"
   },
   {
    "duration": 816,
    "start_time": "2022-04-09T10:27:45.882Z"
   },
   {
    "duration": 78,
    "start_time": "2022-04-09T10:27:46.701Z"
   },
   {
    "duration": 56,
    "start_time": "2022-04-09T10:27:46.781Z"
   },
   {
    "duration": 36,
    "start_time": "2022-04-09T10:27:46.840Z"
   },
   {
    "duration": 6,
    "start_time": "2022-04-09T10:27:46.878Z"
   },
   {
    "duration": 21,
    "start_time": "2022-04-09T10:27:46.886Z"
   },
   {
    "duration": 19,
    "start_time": "2022-04-09T10:27:46.909Z"
   },
   {
    "duration": 48,
    "start_time": "2022-04-09T10:27:46.932Z"
   },
   {
    "duration": 20,
    "start_time": "2022-04-09T10:27:46.982Z"
   },
   {
    "duration": 21,
    "start_time": "2022-04-09T10:27:47.005Z"
   },
   {
    "duration": 320,
    "start_time": "2022-04-09T10:27:47.068Z"
   },
   {
    "duration": 340,
    "start_time": "2022-04-09T10:27:47.390Z"
   },
   {
    "duration": 345,
    "start_time": "2022-04-09T10:27:47.732Z"
   },
   {
    "duration": 369,
    "start_time": "2022-04-09T10:27:48.079Z"
   },
   {
    "duration": 294,
    "start_time": "2022-04-09T10:27:48.451Z"
   },
   {
    "duration": 405,
    "start_time": "2022-04-09T10:27:48.747Z"
   },
   {
    "duration": 327,
    "start_time": "2022-04-09T10:27:49.155Z"
   },
   {
    "duration": 353,
    "start_time": "2022-04-09T10:27:49.484Z"
   },
   {
    "duration": 352,
    "start_time": "2022-04-09T10:27:49.839Z"
   },
   {
    "duration": 294,
    "start_time": "2022-04-09T10:27:50.193Z"
   },
   {
    "duration": 321,
    "start_time": "2022-04-09T10:27:50.489Z"
   },
   {
    "duration": 312,
    "start_time": "2022-04-09T10:27:50.813Z"
   },
   {
    "duration": 362,
    "start_time": "2022-04-09T10:27:51.127Z"
   },
   {
    "duration": 340,
    "start_time": "2022-04-09T10:27:51.491Z"
   },
   {
    "duration": 314,
    "start_time": "2022-04-09T10:27:51.834Z"
   },
   {
    "duration": 886,
    "start_time": "2022-04-09T10:27:52.154Z"
   },
   {
    "duration": 66,
    "start_time": "2022-04-09T10:27:53.043Z"
   },
   {
    "duration": 62,
    "start_time": "2022-04-09T10:27:53.111Z"
   },
   {
    "duration": 352,
    "start_time": "2022-04-09T10:27:53.176Z"
   },
   {
    "duration": 347,
    "start_time": "2022-04-09T10:27:53.531Z"
   },
   {
    "duration": 347,
    "start_time": "2022-04-09T10:27:53.881Z"
   },
   {
    "duration": 48,
    "start_time": "2022-04-09T10:27:54.230Z"
   },
   {
    "duration": 338,
    "start_time": "2022-04-09T10:27:54.281Z"
   },
   {
    "duration": 4,
    "start_time": "2022-04-09T10:27:54.621Z"
   },
   {
    "duration": 7,
    "start_time": "2022-04-09T10:27:54.627Z"
   },
   {
    "duration": 204,
    "start_time": "2022-04-09T10:27:54.636Z"
   },
   {
    "duration": 0,
    "start_time": "2022-04-09T10:27:54.843Z"
   },
   {
    "duration": 0,
    "start_time": "2022-04-09T10:27:54.844Z"
   },
   {
    "duration": 3220,
    "start_time": "2022-04-09T12:10:31.415Z"
   },
   {
    "duration": 34,
    "start_time": "2022-04-09T12:10:34.639Z"
   },
   {
    "duration": 778,
    "start_time": "2022-04-09T12:10:34.676Z"
   },
   {
    "duration": 79,
    "start_time": "2022-04-09T12:10:35.457Z"
   },
   {
    "duration": 77,
    "start_time": "2022-04-09T12:10:35.539Z"
   },
   {
    "duration": 14,
    "start_time": "2022-04-09T12:10:35.619Z"
   },
   {
    "duration": 32,
    "start_time": "2022-04-09T12:10:35.636Z"
   },
   {
    "duration": 33,
    "start_time": "2022-04-09T12:10:35.671Z"
   },
   {
    "duration": 23,
    "start_time": "2022-04-09T12:10:35.707Z"
   },
   {
    "duration": 20,
    "start_time": "2022-04-09T12:10:35.768Z"
   },
   {
    "duration": 27,
    "start_time": "2022-04-09T12:10:35.792Z"
   },
   {
    "duration": 61,
    "start_time": "2022-04-09T12:10:35.822Z"
   },
   {
    "duration": 488,
    "start_time": "2022-04-09T12:10:35.885Z"
   },
   {
    "duration": 360,
    "start_time": "2022-04-09T12:10:36.376Z"
   },
   {
    "duration": 348,
    "start_time": "2022-04-09T12:10:36.738Z"
   },
   {
    "duration": 381,
    "start_time": "2022-04-09T12:10:37.089Z"
   },
   {
    "duration": 370,
    "start_time": "2022-04-09T12:10:37.473Z"
   },
   {
    "duration": 480,
    "start_time": "2022-04-09T12:10:37.846Z"
   },
   {
    "duration": 477,
    "start_time": "2022-04-09T12:10:38.329Z"
   },
   {
    "duration": 511,
    "start_time": "2022-04-09T12:10:38.809Z"
   },
   {
    "duration": 482,
    "start_time": "2022-04-09T12:10:39.323Z"
   },
   {
    "duration": 415,
    "start_time": "2022-04-09T12:10:39.808Z"
   },
   {
    "duration": 555,
    "start_time": "2022-04-09T12:10:40.226Z"
   },
   {
    "duration": 430,
    "start_time": "2022-04-09T12:10:40.784Z"
   },
   {
    "duration": 491,
    "start_time": "2022-04-09T12:10:41.216Z"
   },
   {
    "duration": 339,
    "start_time": "2022-04-09T12:10:41.710Z"
   },
   {
    "duration": 295,
    "start_time": "2022-04-09T12:10:42.052Z"
   },
   {
    "duration": 835,
    "start_time": "2022-04-09T12:10:42.352Z"
   },
   {
    "duration": 86,
    "start_time": "2022-04-09T12:10:43.190Z"
   },
   {
    "duration": 59,
    "start_time": "2022-04-09T12:10:43.279Z"
   },
   {
    "duration": 456,
    "start_time": "2022-04-09T12:10:43.341Z"
   },
   {
    "duration": 472,
    "start_time": "2022-04-09T12:10:43.800Z"
   },
   {
    "duration": 465,
    "start_time": "2022-04-09T12:10:44.276Z"
   },
   {
    "duration": 44,
    "start_time": "2022-04-09T12:10:44.744Z"
   },
   {
    "duration": 363,
    "start_time": "2022-04-09T12:10:44.790Z"
   },
   {
    "duration": 14,
    "start_time": "2022-04-09T12:10:45.156Z"
   },
   {
    "duration": 11,
    "start_time": "2022-04-09T12:10:45.173Z"
   },
   {
    "duration": 221,
    "start_time": "2022-04-09T12:10:45.187Z"
   },
   {
    "duration": 0,
    "start_time": "2022-04-09T12:10:45.411Z"
   },
   {
    "duration": 0,
    "start_time": "2022-04-09T12:10:45.413Z"
   },
   {
    "duration": 0,
    "start_time": "2022-04-09T12:10:45.416Z"
   },
   {
    "duration": 10,
    "start_time": "2022-04-09T12:12:19.922Z"
   },
   {
    "duration": 39,
    "start_time": "2022-04-09T12:12:27.707Z"
   },
   {
    "duration": 2073,
    "start_time": "2022-04-09T12:14:32.908Z"
   },
   {
    "duration": 17,
    "start_time": "2022-04-09T12:14:34.984Z"
   },
   {
    "duration": 796,
    "start_time": "2022-04-09T12:14:35.003Z"
   },
   {
    "duration": 81,
    "start_time": "2022-04-09T12:14:35.803Z"
   },
   {
    "duration": 56,
    "start_time": "2022-04-09T12:14:35.887Z"
   },
   {
    "duration": 34,
    "start_time": "2022-04-09T12:14:35.945Z"
   },
   {
    "duration": 7,
    "start_time": "2022-04-09T12:14:35.981Z"
   },
   {
    "duration": 34,
    "start_time": "2022-04-09T12:14:35.990Z"
   },
   {
    "duration": 54,
    "start_time": "2022-04-09T12:14:36.027Z"
   },
   {
    "duration": 14,
    "start_time": "2022-04-09T12:14:36.087Z"
   },
   {
    "duration": 21,
    "start_time": "2022-04-09T12:14:36.103Z"
   },
   {
    "duration": 62,
    "start_time": "2022-04-09T12:14:36.126Z"
   },
   {
    "duration": 334,
    "start_time": "2022-04-09T12:14:36.191Z"
   },
   {
    "duration": 365,
    "start_time": "2022-04-09T12:14:36.528Z"
   },
   {
    "duration": 342,
    "start_time": "2022-04-09T12:14:36.895Z"
   },
   {
    "duration": 357,
    "start_time": "2022-04-09T12:14:37.239Z"
   },
   {
    "duration": 298,
    "start_time": "2022-04-09T12:14:37.598Z"
   },
   {
    "duration": 423,
    "start_time": "2022-04-09T12:14:37.899Z"
   },
   {
    "duration": 344,
    "start_time": "2022-04-09T12:14:38.324Z"
   },
   {
    "duration": 351,
    "start_time": "2022-04-09T12:14:38.670Z"
   },
   {
    "duration": 494,
    "start_time": "2022-04-09T12:14:39.023Z"
   },
   {
    "duration": 305,
    "start_time": "2022-04-09T12:14:39.520Z"
   },
   {
    "duration": 328,
    "start_time": "2022-04-09T12:14:39.828Z"
   },
   {
    "duration": 319,
    "start_time": "2022-04-09T12:14:40.167Z"
   },
   {
    "duration": 378,
    "start_time": "2022-04-09T12:14:40.489Z"
   },
   {
    "duration": 459,
    "start_time": "2022-04-09T12:14:40.869Z"
   },
   {
    "duration": 427,
    "start_time": "2022-04-09T12:14:41.331Z"
   },
   {
    "duration": 859,
    "start_time": "2022-04-09T12:14:41.770Z"
   },
   {
    "duration": 70,
    "start_time": "2022-04-09T12:14:42.631Z"
   },
   {
    "duration": 47,
    "start_time": "2022-04-09T12:14:42.704Z"
   },
   {
    "duration": 326,
    "start_time": "2022-04-09T12:14:42.767Z"
   },
   {
    "duration": 348,
    "start_time": "2022-04-09T12:14:43.095Z"
   },
   {
    "duration": 363,
    "start_time": "2022-04-09T12:14:43.445Z"
   },
   {
    "duration": 35,
    "start_time": "2022-04-09T12:14:43.810Z"
   },
   {
    "duration": 379,
    "start_time": "2022-04-09T12:14:43.847Z"
   },
   {
    "duration": 5,
    "start_time": "2022-04-09T12:14:44.228Z"
   },
   {
    "duration": 7,
    "start_time": "2022-04-09T12:14:44.235Z"
   },
   {
    "duration": 208,
    "start_time": "2022-04-09T12:14:44.245Z"
   },
   {
    "duration": 0,
    "start_time": "2022-04-09T12:14:44.456Z"
   },
   {
    "duration": 0,
    "start_time": "2022-04-09T12:14:44.458Z"
   },
   {
    "duration": 3695,
    "start_time": "2022-04-09T12:16:12.711Z"
   },
   {
    "duration": 24,
    "start_time": "2022-04-09T12:16:16.410Z"
   },
   {
    "duration": 852,
    "start_time": "2022-04-09T12:16:16.440Z"
   },
   {
    "duration": 83,
    "start_time": "2022-04-09T12:16:17.295Z"
   },
   {
    "duration": 56,
    "start_time": "2022-04-09T12:16:17.380Z"
   },
   {
    "duration": 39,
    "start_time": "2022-04-09T12:16:17.438Z"
   },
   {
    "duration": 7,
    "start_time": "2022-04-09T12:16:17.479Z"
   },
   {
    "duration": 22,
    "start_time": "2022-04-09T12:16:17.489Z"
   },
   {
    "duration": 57,
    "start_time": "2022-04-09T12:16:17.513Z"
   },
   {
    "duration": 15,
    "start_time": "2022-04-09T12:16:17.574Z"
   },
   {
    "duration": 23,
    "start_time": "2022-04-09T12:16:17.591Z"
   },
   {
    "duration": 70,
    "start_time": "2022-04-09T12:16:17.616Z"
   },
   {
    "duration": 333,
    "start_time": "2022-04-09T12:16:17.689Z"
   },
   {
    "duration": 500,
    "start_time": "2022-04-09T12:16:18.025Z"
   },
   {
    "duration": 478,
    "start_time": "2022-04-09T12:16:18.528Z"
   },
   {
    "duration": 513,
    "start_time": "2022-04-09T12:16:19.009Z"
   },
   {
    "duration": 301,
    "start_time": "2022-04-09T12:16:19.524Z"
   },
   {
    "duration": 588,
    "start_time": "2022-04-09T12:16:19.828Z"
   },
   {
    "duration": 484,
    "start_time": "2022-04-09T12:16:20.418Z"
   },
   {
    "duration": 512,
    "start_time": "2022-04-09T12:16:20.905Z"
   },
   {
    "duration": 374,
    "start_time": "2022-04-09T12:16:21.420Z"
   },
   {
    "duration": 341,
    "start_time": "2022-04-09T12:16:21.796Z"
   },
   {
    "duration": 480,
    "start_time": "2022-04-09T12:16:22.142Z"
   },
   {
    "duration": 457,
    "start_time": "2022-04-09T12:16:22.625Z"
   },
   {
    "duration": 359,
    "start_time": "2022-04-09T12:16:23.085Z"
   },
   {
    "duration": 353,
    "start_time": "2022-04-09T12:16:23.446Z"
   },
   {
    "duration": 302,
    "start_time": "2022-04-09T12:16:23.801Z"
   },
   {
    "duration": 869,
    "start_time": "2022-04-09T12:16:24.109Z"
   },
   {
    "duration": 55,
    "start_time": "2022-04-09T12:16:24.981Z"
   },
   {
    "duration": 73,
    "start_time": "2022-04-09T12:16:25.039Z"
   },
   {
    "duration": 353,
    "start_time": "2022-04-09T12:16:25.114Z"
   },
   {
    "duration": 347,
    "start_time": "2022-04-09T12:16:25.470Z"
   },
   {
    "duration": 361,
    "start_time": "2022-04-09T12:16:25.819Z"
   },
   {
    "duration": 36,
    "start_time": "2022-04-09T12:16:26.182Z"
   },
   {
    "duration": 372,
    "start_time": "2022-04-09T12:16:26.220Z"
   },
   {
    "duration": 4,
    "start_time": "2022-04-09T12:16:26.595Z"
   },
   {
    "duration": 11,
    "start_time": "2022-04-09T12:16:26.601Z"
   },
   {
    "duration": 33,
    "start_time": "2022-04-09T12:16:26.614Z"
   },
   {
    "duration": 196,
    "start_time": "2022-04-09T12:16:26.649Z"
   },
   {
    "duration": 0,
    "start_time": "2022-04-09T12:16:26.848Z"
   },
   {
    "duration": 0,
    "start_time": "2022-04-09T12:16:26.849Z"
   },
   {
    "duration": 2343,
    "start_time": "2022-04-09T12:24:43.524Z"
   },
   {
    "duration": 19,
    "start_time": "2022-04-09T12:24:45.871Z"
   },
   {
    "duration": 1124,
    "start_time": "2022-04-09T12:24:45.895Z"
   },
   {
    "duration": 87,
    "start_time": "2022-04-09T12:24:47.022Z"
   },
   {
    "duration": 92,
    "start_time": "2022-04-09T12:24:47.111Z"
   },
   {
    "duration": 13,
    "start_time": "2022-04-09T12:24:47.205Z"
   },
   {
    "duration": 7,
    "start_time": "2022-04-09T12:24:47.220Z"
   },
   {
    "duration": 66,
    "start_time": "2022-04-09T12:24:47.229Z"
   },
   {
    "duration": 19,
    "start_time": "2022-04-09T12:24:47.298Z"
   },
   {
    "duration": 54,
    "start_time": "2022-04-09T12:24:47.321Z"
   },
   {
    "duration": 22,
    "start_time": "2022-04-09T12:24:47.377Z"
   },
   {
    "duration": 23,
    "start_time": "2022-04-09T12:24:47.402Z"
   },
   {
    "duration": 378,
    "start_time": "2022-04-09T12:24:47.428Z"
   },
   {
    "duration": 468,
    "start_time": "2022-04-09T12:24:47.809Z"
   },
   {
    "duration": 387,
    "start_time": "2022-04-09T12:24:48.280Z"
   },
   {
    "duration": 374,
    "start_time": "2022-04-09T12:24:48.669Z"
   },
   {
    "duration": 395,
    "start_time": "2022-04-09T12:24:49.046Z"
   },
   {
    "duration": 447,
    "start_time": "2022-04-09T12:24:49.443Z"
   },
   {
    "duration": 463,
    "start_time": "2022-04-09T12:24:49.892Z"
   },
   {
    "duration": 363,
    "start_time": "2022-04-09T12:24:50.358Z"
   },
   {
    "duration": 357,
    "start_time": "2022-04-09T12:24:50.723Z"
   },
   {
    "duration": 336,
    "start_time": "2022-04-09T12:24:51.082Z"
   },
   {
    "duration": 461,
    "start_time": "2022-04-09T12:24:51.421Z"
   },
   {
    "duration": 429,
    "start_time": "2022-04-09T12:24:51.884Z"
   },
   {
    "duration": 495,
    "start_time": "2022-04-09T12:24:52.316Z"
   },
   {
    "duration": 333,
    "start_time": "2022-04-09T12:24:52.814Z"
   },
   {
    "duration": 310,
    "start_time": "2022-04-09T12:24:53.149Z"
   },
   {
    "duration": 861,
    "start_time": "2022-04-09T12:24:53.468Z"
   },
   {
    "duration": 77,
    "start_time": "2022-04-09T12:24:54.332Z"
   },
   {
    "duration": 61,
    "start_time": "2022-04-09T12:24:54.411Z"
   },
   {
    "duration": 325,
    "start_time": "2022-04-09T12:24:54.474Z"
   },
   {
    "duration": 365,
    "start_time": "2022-04-09T12:24:54.802Z"
   },
   {
    "duration": 330,
    "start_time": "2022-04-09T12:24:55.170Z"
   },
   {
    "duration": 3,
    "start_time": "2022-04-09T12:24:55.503Z"
   },
   {
    "duration": 353,
    "start_time": "2022-04-09T12:24:55.508Z"
   },
   {
    "duration": 8,
    "start_time": "2022-04-09T12:24:55.863Z"
   },
   {
    "duration": 24,
    "start_time": "2022-04-09T12:24:55.873Z"
   },
   {
    "duration": 25,
    "start_time": "2022-04-09T12:24:55.899Z"
   },
   {
    "duration": 190,
    "start_time": "2022-04-09T12:24:55.926Z"
   },
   {
    "duration": 0,
    "start_time": "2022-04-09T12:24:56.118Z"
   },
   {
    "duration": 0,
    "start_time": "2022-04-09T12:24:56.120Z"
   },
   {
    "duration": 2445,
    "start_time": "2022-04-09T12:36:45.858Z"
   },
   {
    "duration": 15,
    "start_time": "2022-04-09T12:36:48.307Z"
   },
   {
    "duration": 882,
    "start_time": "2022-04-09T12:36:48.324Z"
   },
   {
    "duration": 95,
    "start_time": "2022-04-09T12:36:49.209Z"
   },
   {
    "duration": 82,
    "start_time": "2022-04-09T12:36:49.307Z"
   },
   {
    "duration": 62,
    "start_time": "2022-04-09T12:36:49.391Z"
   },
   {
    "duration": 7,
    "start_time": "2022-04-09T12:36:49.456Z"
   },
   {
    "duration": 53,
    "start_time": "2022-04-09T12:36:49.466Z"
   },
   {
    "duration": 22,
    "start_time": "2022-04-09T12:36:49.521Z"
   },
   {
    "duration": 14,
    "start_time": "2022-04-09T12:36:49.548Z"
   },
   {
    "duration": 26,
    "start_time": "2022-04-09T12:36:49.573Z"
   },
   {
    "duration": 25,
    "start_time": "2022-04-09T12:36:49.603Z"
   },
   {
    "duration": 380,
    "start_time": "2022-04-09T12:36:49.631Z"
   },
   {
    "duration": 386,
    "start_time": "2022-04-09T12:36:50.014Z"
   },
   {
    "duration": 372,
    "start_time": "2022-04-09T12:36:50.403Z"
   },
   {
    "duration": 391,
    "start_time": "2022-04-09T12:36:50.778Z"
   },
   {
    "duration": 326,
    "start_time": "2022-04-09T12:36:51.172Z"
   },
   {
    "duration": 448,
    "start_time": "2022-04-09T12:36:51.501Z"
   },
   {
    "duration": 383,
    "start_time": "2022-04-09T12:36:51.951Z"
   },
   {
    "duration": 433,
    "start_time": "2022-04-09T12:36:52.336Z"
   },
   {
    "duration": 400,
    "start_time": "2022-04-09T12:36:52.771Z"
   },
   {
    "duration": 322,
    "start_time": "2022-04-09T12:36:53.174Z"
   },
   {
    "duration": 374,
    "start_time": "2022-04-09T12:36:53.499Z"
   },
   {
    "duration": 353,
    "start_time": "2022-04-09T12:36:53.876Z"
   },
   {
    "duration": 390,
    "start_time": "2022-04-09T12:36:54.231Z"
   },
   {
    "duration": 349,
    "start_time": "2022-04-09T12:36:54.623Z"
   },
   {
    "duration": 323,
    "start_time": "2022-04-09T12:36:54.976Z"
   },
   {
    "duration": 919,
    "start_time": "2022-04-09T12:36:55.305Z"
   },
   {
    "duration": 75,
    "start_time": "2022-04-09T12:36:56.226Z"
   },
   {
    "duration": 46,
    "start_time": "2022-04-09T12:36:56.303Z"
   },
   {
    "duration": 370,
    "start_time": "2022-04-09T12:36:56.352Z"
   },
   {
    "duration": 365,
    "start_time": "2022-04-09T12:36:56.724Z"
   },
   {
    "duration": 349,
    "start_time": "2022-04-09T12:36:57.094Z"
   },
   {
    "duration": 52,
    "start_time": "2022-04-09T12:36:57.445Z"
   },
   {
    "duration": 344,
    "start_time": "2022-04-09T12:36:57.499Z"
   },
   {
    "duration": 4,
    "start_time": "2022-04-09T12:36:57.845Z"
   },
   {
    "duration": 20,
    "start_time": "2022-04-09T12:36:57.851Z"
   },
   {
    "duration": 28,
    "start_time": "2022-04-09T12:36:57.874Z"
   },
   {
    "duration": 183,
    "start_time": "2022-04-09T12:36:57.905Z"
   },
   {
    "duration": 0,
    "start_time": "2022-04-09T12:36:58.094Z"
   },
   {
    "duration": 0,
    "start_time": "2022-04-09T12:36:58.095Z"
   },
   {
    "duration": 1885,
    "start_time": "2022-04-09T13:51:53.220Z"
   },
   {
    "duration": 15,
    "start_time": "2022-04-09T13:51:55.108Z"
   },
   {
    "duration": 813,
    "start_time": "2022-04-09T13:51:55.126Z"
   },
   {
    "duration": 82,
    "start_time": "2022-04-09T13:51:55.942Z"
   },
   {
    "duration": 66,
    "start_time": "2022-04-09T13:51:56.026Z"
   },
   {
    "duration": 11,
    "start_time": "2022-04-09T13:51:56.094Z"
   },
   {
    "duration": 6,
    "start_time": "2022-04-09T13:51:56.107Z"
   },
   {
    "duration": 21,
    "start_time": "2022-04-09T13:51:56.115Z"
   },
   {
    "duration": 22,
    "start_time": "2022-04-09T13:51:56.167Z"
   },
   {
    "duration": 15,
    "start_time": "2022-04-09T13:51:56.193Z"
   },
   {
    "duration": 22,
    "start_time": "2022-04-09T13:51:56.210Z"
   },
   {
    "duration": 28,
    "start_time": "2022-04-09T13:51:56.272Z"
   },
   {
    "duration": 328,
    "start_time": "2022-04-09T13:51:56.302Z"
   },
   {
    "duration": 364,
    "start_time": "2022-04-09T13:51:56.632Z"
   },
   {
    "duration": 346,
    "start_time": "2022-04-09T13:51:56.998Z"
   },
   {
    "duration": 358,
    "start_time": "2022-04-09T13:51:57.346Z"
   },
   {
    "duration": 293,
    "start_time": "2022-04-09T13:51:57.707Z"
   },
   {
    "duration": 414,
    "start_time": "2022-04-09T13:51:58.002Z"
   },
   {
    "duration": 460,
    "start_time": "2022-04-09T13:51:58.419Z"
   },
   {
    "duration": 353,
    "start_time": "2022-04-09T13:51:58.881Z"
   },
   {
    "duration": 365,
    "start_time": "2022-04-09T13:51:59.237Z"
   },
   {
    "duration": 307,
    "start_time": "2022-04-09T13:51:59.604Z"
   },
   {
    "duration": 334,
    "start_time": "2022-04-09T13:51:59.913Z"
   },
   {
    "duration": 334,
    "start_time": "2022-04-09T13:52:00.249Z"
   },
   {
    "duration": 368,
    "start_time": "2022-04-09T13:52:00.587Z"
   },
   {
    "duration": 451,
    "start_time": "2022-04-09T13:52:00.969Z"
   },
   {
    "duration": 416,
    "start_time": "2022-04-09T13:52:01.424Z"
   },
   {
    "duration": 1179,
    "start_time": "2022-04-09T13:52:01.848Z"
   },
   {
    "duration": 94,
    "start_time": "2022-04-09T13:52:03.030Z"
   },
   {
    "duration": 68,
    "start_time": "2022-04-09T13:52:03.127Z"
   },
   {
    "duration": 456,
    "start_time": "2022-04-09T13:52:03.198Z"
   },
   {
    "duration": 362,
    "start_time": "2022-04-09T13:52:03.658Z"
   },
   {
    "duration": 365,
    "start_time": "2022-04-09T13:52:04.022Z"
   },
   {
    "duration": 32,
    "start_time": "2022-04-09T13:52:04.389Z"
   },
   {
    "duration": 363,
    "start_time": "2022-04-09T13:52:04.423Z"
   },
   {
    "duration": 5,
    "start_time": "2022-04-09T13:52:04.788Z"
   },
   {
    "duration": 8,
    "start_time": "2022-04-09T13:52:04.796Z"
   },
   {
    "duration": 14,
    "start_time": "2022-04-09T13:52:04.807Z"
   },
   {
    "duration": 205,
    "start_time": "2022-04-09T13:52:04.824Z"
   },
   {
    "duration": 0,
    "start_time": "2022-04-09T13:52:05.031Z"
   },
   {
    "duration": 0,
    "start_time": "2022-04-09T13:52:05.033Z"
   },
   {
    "duration": 26,
    "start_time": "2022-04-09T13:53:01.728Z"
   },
   {
    "duration": 4463,
    "start_time": "2022-04-09T13:53:04.145Z"
   },
   {
    "duration": 14,
    "start_time": "2022-04-09T13:53:58.894Z"
   },
   {
    "duration": 5240,
    "start_time": "2022-04-09T13:54:03.030Z"
   },
   {
    "duration": 1942,
    "start_time": "2022-04-09T13:55:37.114Z"
   },
   {
    "duration": 22,
    "start_time": "2022-04-09T13:55:39.059Z"
   },
   {
    "duration": 803,
    "start_time": "2022-04-09T13:55:39.084Z"
   },
   {
    "duration": 65,
    "start_time": "2022-04-09T13:55:39.890Z"
   },
   {
    "duration": 55,
    "start_time": "2022-04-09T13:55:39.969Z"
   },
   {
    "duration": 43,
    "start_time": "2022-04-09T13:55:40.026Z"
   },
   {
    "duration": 9,
    "start_time": "2022-04-09T13:55:40.075Z"
   },
   {
    "duration": 26,
    "start_time": "2022-04-09T13:55:40.087Z"
   },
   {
    "duration": 19,
    "start_time": "2022-04-09T13:55:40.116Z"
   },
   {
    "duration": 44,
    "start_time": "2022-04-09T13:55:40.138Z"
   },
   {
    "duration": 21,
    "start_time": "2022-04-09T13:55:40.185Z"
   },
   {
    "duration": 23,
    "start_time": "2022-04-09T13:55:40.209Z"
   },
   {
    "duration": 329,
    "start_time": "2022-04-09T13:55:40.269Z"
   },
   {
    "duration": 349,
    "start_time": "2022-04-09T13:55:40.600Z"
   },
   {
    "duration": 360,
    "start_time": "2022-04-09T13:55:40.951Z"
   },
   {
    "duration": 508,
    "start_time": "2022-04-09T13:55:41.314Z"
   },
   {
    "duration": 313,
    "start_time": "2022-04-09T13:55:41.825Z"
   },
   {
    "duration": 572,
    "start_time": "2022-04-09T13:55:42.141Z"
   },
   {
    "duration": 439,
    "start_time": "2022-04-09T13:55:42.716Z"
   },
   {
    "duration": 354,
    "start_time": "2022-04-09T13:55:43.157Z"
   },
   {
    "duration": 363,
    "start_time": "2022-04-09T13:55:43.513Z"
   },
   {
    "duration": 305,
    "start_time": "2022-04-09T13:55:43.881Z"
   },
   {
    "duration": 334,
    "start_time": "2022-04-09T13:55:44.189Z"
   },
   {
    "duration": 323,
    "start_time": "2022-04-09T13:55:44.525Z"
   },
   {
    "duration": 369,
    "start_time": "2022-04-09T13:55:44.851Z"
   },
   {
    "duration": 355,
    "start_time": "2022-04-09T13:55:45.223Z"
   },
   {
    "duration": 291,
    "start_time": "2022-04-09T13:55:45.581Z"
   },
   {
    "duration": 831,
    "start_time": "2022-04-09T13:55:45.879Z"
   },
   {
    "duration": 77,
    "start_time": "2022-04-09T13:55:46.712Z"
   },
   {
    "duration": 49,
    "start_time": "2022-04-09T13:55:46.791Z"
   },
   {
    "duration": 340,
    "start_time": "2022-04-09T13:55:46.843Z"
   },
   {
    "duration": 337,
    "start_time": "2022-04-09T13:55:47.185Z"
   },
   {
    "duration": 349,
    "start_time": "2022-04-09T13:55:47.524Z"
   },
   {
    "duration": 33,
    "start_time": "2022-04-09T13:55:47.876Z"
   },
   {
    "duration": 360,
    "start_time": "2022-04-09T13:55:47.911Z"
   },
   {
    "duration": 6,
    "start_time": "2022-04-09T13:55:48.274Z"
   },
   {
    "duration": 19,
    "start_time": "2022-04-09T13:55:48.282Z"
   },
   {
    "duration": 16,
    "start_time": "2022-04-09T13:55:48.303Z"
   },
   {
    "duration": 197,
    "start_time": "2022-04-09T13:55:48.322Z"
   },
   {
    "duration": 0,
    "start_time": "2022-04-09T13:55:48.522Z"
   },
   {
    "duration": 0,
    "start_time": "2022-04-09T13:55:48.525Z"
   },
   {
    "duration": 26,
    "start_time": "2022-04-09T13:55:52.914Z"
   },
   {
    "duration": 6371,
    "start_time": "2022-04-09T13:55:54.997Z"
   },
   {
    "duration": 1937,
    "start_time": "2022-04-09T13:57:36.620Z"
   },
   {
    "duration": 21,
    "start_time": "2022-04-09T13:57:38.560Z"
   },
   {
    "duration": 814,
    "start_time": "2022-04-09T13:57:38.588Z"
   },
   {
    "duration": 84,
    "start_time": "2022-04-09T13:57:39.405Z"
   },
   {
    "duration": 54,
    "start_time": "2022-04-09T13:57:39.492Z"
   },
   {
    "duration": 14,
    "start_time": "2022-04-09T13:57:39.571Z"
   },
   {
    "duration": 7,
    "start_time": "2022-04-09T13:57:39.588Z"
   },
   {
    "duration": 32,
    "start_time": "2022-04-09T13:57:39.598Z"
   },
   {
    "duration": 60,
    "start_time": "2022-04-09T13:57:39.633Z"
   },
   {
    "duration": 16,
    "start_time": "2022-04-09T13:57:39.697Z"
   },
   {
    "duration": 58,
    "start_time": "2022-04-09T13:57:39.716Z"
   },
   {
    "duration": 25,
    "start_time": "2022-04-09T13:57:39.777Z"
   },
   {
    "duration": 331,
    "start_time": "2022-04-09T13:57:39.804Z"
   },
   {
    "duration": 347,
    "start_time": "2022-04-09T13:57:40.137Z"
   },
   {
    "duration": 333,
    "start_time": "2022-04-09T13:57:40.486Z"
   },
   {
    "duration": 368,
    "start_time": "2022-04-09T13:57:40.821Z"
   },
   {
    "duration": 294,
    "start_time": "2022-04-09T13:57:41.191Z"
   },
   {
    "duration": 419,
    "start_time": "2022-04-09T13:57:41.489Z"
   },
   {
    "duration": 357,
    "start_time": "2022-04-09T13:57:41.911Z"
   },
   {
    "duration": 352,
    "start_time": "2022-04-09T13:57:42.271Z"
   },
   {
    "duration": 358,
    "start_time": "2022-04-09T13:57:42.625Z"
   },
   {
    "duration": 316,
    "start_time": "2022-04-09T13:57:42.985Z"
   },
   {
    "duration": 334,
    "start_time": "2022-04-09T13:57:43.303Z"
   },
   {
    "duration": 335,
    "start_time": "2022-04-09T13:57:43.640Z"
   },
   {
    "duration": 355,
    "start_time": "2022-04-09T13:57:43.978Z"
   },
   {
    "duration": 344,
    "start_time": "2022-04-09T13:57:44.335Z"
   },
   {
    "duration": 303,
    "start_time": "2022-04-09T13:57:44.682Z"
   },
   {
    "duration": 871,
    "start_time": "2022-04-09T13:57:44.990Z"
   },
   {
    "duration": 56,
    "start_time": "2022-04-09T13:57:45.866Z"
   },
   {
    "duration": 72,
    "start_time": "2022-04-09T13:57:45.925Z"
   },
   {
    "duration": 333,
    "start_time": "2022-04-09T13:57:46.000Z"
   },
   {
    "duration": 366,
    "start_time": "2022-04-09T13:57:46.335Z"
   },
   {
    "duration": 380,
    "start_time": "2022-04-09T13:57:46.704Z"
   },
   {
    "duration": 32,
    "start_time": "2022-04-09T13:57:47.087Z"
   },
   {
    "duration": 372,
    "start_time": "2022-04-09T13:57:47.121Z"
   },
   {
    "duration": 6,
    "start_time": "2022-04-09T13:57:47.496Z"
   },
   {
    "duration": 26,
    "start_time": "2022-04-09T13:57:47.505Z"
   },
   {
    "duration": 31,
    "start_time": "2022-04-09T13:57:47.533Z"
   },
   {
    "duration": 215,
    "start_time": "2022-04-09T13:57:47.566Z"
   },
   {
    "duration": 0,
    "start_time": "2022-04-09T13:57:47.784Z"
   },
   {
    "duration": 0,
    "start_time": "2022-04-09T13:57:47.787Z"
   },
   {
    "duration": 26,
    "start_time": "2022-04-09T13:57:54.494Z"
   },
   {
    "duration": 5776,
    "start_time": "2022-04-09T13:57:56.419Z"
   },
   {
    "duration": 30,
    "start_time": "2022-04-09T14:00:47.489Z"
   },
   {
    "duration": 42,
    "start_time": "2022-04-09T14:01:00.086Z"
   },
   {
    "duration": 1960,
    "start_time": "2022-04-09T14:01:13.172Z"
   },
   {
    "duration": 16,
    "start_time": "2022-04-09T14:01:15.134Z"
   },
   {
    "duration": 821,
    "start_time": "2022-04-09T14:01:15.153Z"
   },
   {
    "duration": 104,
    "start_time": "2022-04-09T14:01:15.980Z"
   },
   {
    "duration": 53,
    "start_time": "2022-04-09T14:01:16.086Z"
   },
   {
    "duration": 32,
    "start_time": "2022-04-09T14:01:16.141Z"
   },
   {
    "duration": 8,
    "start_time": "2022-04-09T14:01:16.180Z"
   },
   {
    "duration": 32,
    "start_time": "2022-04-09T14:01:16.190Z"
   },
   {
    "duration": 50,
    "start_time": "2022-04-09T14:01:16.224Z"
   },
   {
    "duration": 16,
    "start_time": "2022-04-09T14:01:16.280Z"
   },
   {
    "duration": 22,
    "start_time": "2022-04-09T14:01:16.299Z"
   },
   {
    "duration": 80,
    "start_time": "2022-04-09T14:01:16.323Z"
   },
   {
    "duration": 342,
    "start_time": "2022-04-09T14:01:16.406Z"
   },
   {
    "duration": 353,
    "start_time": "2022-04-09T14:01:16.750Z"
   },
   {
    "duration": 336,
    "start_time": "2022-04-09T14:01:17.105Z"
   },
   {
    "duration": 357,
    "start_time": "2022-04-09T14:01:17.443Z"
   },
   {
    "duration": 303,
    "start_time": "2022-04-09T14:01:17.802Z"
   },
   {
    "duration": 418,
    "start_time": "2022-04-09T14:01:18.107Z"
   },
   {
    "duration": 367,
    "start_time": "2022-04-09T14:01:18.527Z"
   },
   {
    "duration": 484,
    "start_time": "2022-04-09T14:01:18.896Z"
   },
   {
    "duration": 363,
    "start_time": "2022-04-09T14:01:19.382Z"
   },
   {
    "duration": 312,
    "start_time": "2022-04-09T14:01:19.748Z"
   },
   {
    "duration": 319,
    "start_time": "2022-04-09T14:01:20.069Z"
   },
   {
    "duration": 317,
    "start_time": "2022-04-09T14:01:20.390Z"
   },
   {
    "duration": 362,
    "start_time": "2022-04-09T14:01:20.709Z"
   },
   {
    "duration": 453,
    "start_time": "2022-04-09T14:01:21.074Z"
   },
   {
    "duration": 312,
    "start_time": "2022-04-09T14:01:21.531Z"
   },
   {
    "duration": 852,
    "start_time": "2022-04-09T14:01:21.849Z"
   },
   {
    "duration": 66,
    "start_time": "2022-04-09T14:01:22.703Z"
   },
   {
    "duration": 47,
    "start_time": "2022-04-09T14:01:22.772Z"
   },
   {
    "duration": 337,
    "start_time": "2022-04-09T14:01:22.821Z"
   },
   {
    "duration": 365,
    "start_time": "2022-04-09T14:01:23.160Z"
   },
   {
    "duration": 372,
    "start_time": "2022-04-09T14:01:23.527Z"
   },
   {
    "duration": 31,
    "start_time": "2022-04-09T14:01:23.902Z"
   },
   {
    "duration": 386,
    "start_time": "2022-04-09T14:01:23.936Z"
   },
   {
    "duration": 5,
    "start_time": "2022-04-09T14:01:24.324Z"
   },
   {
    "duration": 10,
    "start_time": "2022-04-09T14:01:24.331Z"
   },
   {
    "duration": 44,
    "start_time": "2022-04-09T14:01:24.343Z"
   },
   {
    "duration": 183,
    "start_time": "2022-04-09T14:01:24.390Z"
   },
   {
    "duration": 0,
    "start_time": "2022-04-09T14:01:24.576Z"
   },
   {
    "duration": 0,
    "start_time": "2022-04-09T14:01:24.579Z"
   },
   {
    "duration": 26,
    "start_time": "2022-04-09T14:01:34.117Z"
   },
   {
    "duration": 5477,
    "start_time": "2022-04-09T14:01:36.318Z"
   },
   {
    "duration": 661,
    "start_time": "2022-04-10T08:16:43.872Z"
   },
   {
    "duration": 1411,
    "start_time": "2022-04-10T08:16:50.899Z"
   },
   {
    "duration": 10,
    "start_time": "2022-04-10T08:16:52.312Z"
   },
   {
    "duration": 610,
    "start_time": "2022-04-10T08:16:52.324Z"
   },
   {
    "duration": 22,
    "start_time": "2022-04-10T08:16:52.936Z"
   },
   {
    "duration": 15,
    "start_time": "2022-04-10T08:16:52.960Z"
   },
   {
    "duration": 11,
    "start_time": "2022-04-10T08:16:52.977Z"
   },
   {
    "duration": 6,
    "start_time": "2022-04-10T08:16:52.989Z"
   },
   {
    "duration": 5,
    "start_time": "2022-04-10T08:16:52.997Z"
   },
   {
    "duration": 1900,
    "start_time": "2022-04-10T08:16:53.004Z"
   },
   {
    "duration": 0,
    "start_time": "2022-04-10T08:16:54.908Z"
   },
   {
    "duration": 0,
    "start_time": "2022-04-10T08:16:54.910Z"
   },
   {
    "duration": 0,
    "start_time": "2022-04-10T08:16:54.911Z"
   },
   {
    "duration": 0,
    "start_time": "2022-04-10T08:16:54.912Z"
   },
   {
    "duration": 0,
    "start_time": "2022-04-10T08:16:54.914Z"
   },
   {
    "duration": 0,
    "start_time": "2022-04-10T08:16:54.915Z"
   },
   {
    "duration": 0,
    "start_time": "2022-04-10T08:16:54.916Z"
   },
   {
    "duration": 0,
    "start_time": "2022-04-10T08:16:54.917Z"
   },
   {
    "duration": 0,
    "start_time": "2022-04-10T08:16:54.919Z"
   },
   {
    "duration": 0,
    "start_time": "2022-04-10T08:16:54.920Z"
   },
   {
    "duration": 0,
    "start_time": "2022-04-10T08:16:54.921Z"
   },
   {
    "duration": 0,
    "start_time": "2022-04-10T08:16:54.922Z"
   },
   {
    "duration": 0,
    "start_time": "2022-04-10T08:16:54.923Z"
   },
   {
    "duration": 0,
    "start_time": "2022-04-10T08:16:54.924Z"
   },
   {
    "duration": 0,
    "start_time": "2022-04-10T08:16:54.924Z"
   },
   {
    "duration": 0,
    "start_time": "2022-04-10T08:16:54.925Z"
   },
   {
    "duration": 0,
    "start_time": "2022-04-10T08:16:54.926Z"
   },
   {
    "duration": 0,
    "start_time": "2022-04-10T08:16:54.927Z"
   },
   {
    "duration": 0,
    "start_time": "2022-04-10T08:16:54.928Z"
   },
   {
    "duration": 0,
    "start_time": "2022-04-10T08:16:54.929Z"
   },
   {
    "duration": 0,
    "start_time": "2022-04-10T08:16:54.930Z"
   },
   {
    "duration": 0,
    "start_time": "2022-04-10T08:16:54.931Z"
   },
   {
    "duration": 0,
    "start_time": "2022-04-10T08:16:54.932Z"
   },
   {
    "duration": 0,
    "start_time": "2022-04-10T08:16:54.933Z"
   },
   {
    "duration": 0,
    "start_time": "2022-04-10T08:16:54.934Z"
   },
   {
    "duration": 0,
    "start_time": "2022-04-10T08:16:54.935Z"
   },
   {
    "duration": 0,
    "start_time": "2022-04-10T08:16:54.937Z"
   },
   {
    "duration": 0,
    "start_time": "2022-04-10T08:16:54.937Z"
   },
   {
    "duration": 0,
    "start_time": "2022-04-10T08:16:54.939Z"
   },
   {
    "duration": 0,
    "start_time": "2022-04-10T08:16:54.940Z"
   },
   {
    "duration": 0,
    "start_time": "2022-04-10T08:16:54.941Z"
   },
   {
    "duration": 0,
    "start_time": "2022-04-10T08:16:54.942Z"
   },
   {
    "duration": 0,
    "start_time": "2022-04-10T08:16:54.943Z"
   },
   {
    "duration": 1483,
    "start_time": "2022-04-10T08:17:16.739Z"
   },
   {
    "duration": 9,
    "start_time": "2022-04-10T08:17:18.223Z"
   },
   {
    "duration": 627,
    "start_time": "2022-04-10T08:17:18.234Z"
   },
   {
    "duration": 20,
    "start_time": "2022-04-10T08:17:18.864Z"
   },
   {
    "duration": 17,
    "start_time": "2022-04-10T08:17:18.886Z"
   },
   {
    "duration": 10,
    "start_time": "2022-04-10T08:17:18.905Z"
   },
   {
    "duration": 9,
    "start_time": "2022-04-10T08:17:18.916Z"
   },
   {
    "duration": 40,
    "start_time": "2022-04-10T08:17:18.926Z"
   },
   {
    "duration": 16,
    "start_time": "2022-04-10T08:17:18.968Z"
   },
   {
    "duration": 8,
    "start_time": "2022-04-10T08:17:18.987Z"
   },
   {
    "duration": 16,
    "start_time": "2022-04-10T08:17:18.996Z"
   },
   {
    "duration": 58,
    "start_time": "2022-04-10T08:17:19.014Z"
   },
   {
    "duration": 188,
    "start_time": "2022-04-10T08:17:19.074Z"
   },
   {
    "duration": 189,
    "start_time": "2022-04-10T08:17:19.264Z"
   },
   {
    "duration": 172,
    "start_time": "2022-04-10T08:17:19.462Z"
   },
   {
    "duration": 194,
    "start_time": "2022-04-10T08:17:19.635Z"
   },
   {
    "duration": 164,
    "start_time": "2022-04-10T08:17:19.830Z"
   },
   {
    "duration": 249,
    "start_time": "2022-04-10T08:17:19.995Z"
   },
   {
    "duration": 190,
    "start_time": "2022-04-10T08:17:20.246Z"
   },
   {
    "duration": 207,
    "start_time": "2022-04-10T08:17:20.438Z"
   },
   {
    "duration": 202,
    "start_time": "2022-04-10T08:17:20.647Z"
   },
   {
    "duration": 162,
    "start_time": "2022-04-10T08:17:20.851Z"
   },
   {
    "duration": 192,
    "start_time": "2022-04-10T08:17:21.015Z"
   },
   {
    "duration": 175,
    "start_time": "2022-04-10T08:17:21.208Z"
   },
   {
    "duration": 200,
    "start_time": "2022-04-10T08:17:21.384Z"
   },
   {
    "duration": 174,
    "start_time": "2022-04-10T08:17:21.586Z"
   },
   {
    "duration": 156,
    "start_time": "2022-04-10T08:17:21.763Z"
   },
   {
    "duration": 489,
    "start_time": "2022-04-10T08:17:21.922Z"
   },
   {
    "duration": 34,
    "start_time": "2022-04-10T08:17:22.413Z"
   },
   {
    "duration": 179,
    "start_time": "2022-04-10T08:17:22.449Z"
   },
   {
    "duration": 192,
    "start_time": "2022-04-10T08:17:22.630Z"
   },
   {
    "duration": 180,
    "start_time": "2022-04-10T08:17:22.824Z"
   },
   {
    "duration": 30,
    "start_time": "2022-04-10T08:17:23.006Z"
   },
   {
    "duration": 204,
    "start_time": "2022-04-10T08:17:23.038Z"
   },
   {
    "duration": 3,
    "start_time": "2022-04-10T08:17:23.243Z"
   },
   {
    "duration": 7,
    "start_time": "2022-04-10T08:17:23.248Z"
   },
   {
    "duration": 128,
    "start_time": "2022-04-10T08:17:23.257Z"
   },
   {
    "duration": 0,
    "start_time": "2022-04-10T08:17:23.387Z"
   },
   {
    "duration": 0,
    "start_time": "2022-04-10T08:17:23.388Z"
   },
   {
    "duration": 0,
    "start_time": "2022-04-10T08:17:23.388Z"
   },
   {
    "duration": 0,
    "start_time": "2022-04-10T08:17:23.389Z"
   },
   {
    "duration": 1424,
    "start_time": "2022-04-10T08:18:13.418Z"
   },
   {
    "duration": 11,
    "start_time": "2022-04-10T08:18:14.844Z"
   },
   {
    "duration": 655,
    "start_time": "2022-04-10T08:18:14.857Z"
   },
   {
    "duration": 18,
    "start_time": "2022-04-10T08:18:15.514Z"
   },
   {
    "duration": 28,
    "start_time": "2022-04-10T08:18:15.535Z"
   },
   {
    "duration": 17,
    "start_time": "2022-04-10T08:18:15.566Z"
   },
   {
    "duration": 9,
    "start_time": "2022-04-10T08:18:15.585Z"
   },
   {
    "duration": 5,
    "start_time": "2022-04-10T08:18:15.596Z"
   },
   {
    "duration": 19,
    "start_time": "2022-04-10T08:18:15.603Z"
   },
   {
    "duration": 38,
    "start_time": "2022-04-10T08:18:15.624Z"
   },
   {
    "duration": 15,
    "start_time": "2022-04-10T08:18:15.665Z"
   },
   {
    "duration": 32,
    "start_time": "2022-04-10T08:18:15.682Z"
   },
   {
    "duration": 210,
    "start_time": "2022-04-10T08:18:15.716Z"
   },
   {
    "duration": 196,
    "start_time": "2022-04-10T08:18:15.927Z"
   },
   {
    "duration": 178,
    "start_time": "2022-04-10T08:18:16.125Z"
   },
   {
    "duration": 209,
    "start_time": "2022-04-10T08:18:16.305Z"
   },
   {
    "duration": 160,
    "start_time": "2022-04-10T08:18:16.515Z"
   },
   {
    "duration": 265,
    "start_time": "2022-04-10T08:18:16.677Z"
   },
   {
    "duration": 196,
    "start_time": "2022-04-10T08:18:16.944Z"
   },
   {
    "duration": 203,
    "start_time": "2022-04-10T08:18:17.142Z"
   },
   {
    "duration": 194,
    "start_time": "2022-04-10T08:18:17.347Z"
   },
   {
    "duration": 171,
    "start_time": "2022-04-10T08:18:17.542Z"
   },
   {
    "duration": 193,
    "start_time": "2022-04-10T08:18:17.715Z"
   },
   {
    "duration": 184,
    "start_time": "2022-04-10T08:18:17.909Z"
   },
   {
    "duration": 216,
    "start_time": "2022-04-10T08:18:18.095Z"
   },
   {
    "duration": 193,
    "start_time": "2022-04-10T08:18:18.313Z"
   },
   {
    "duration": 174,
    "start_time": "2022-04-10T08:18:18.508Z"
   },
   {
    "duration": 558,
    "start_time": "2022-04-10T08:18:18.686Z"
   },
   {
    "duration": 44,
    "start_time": "2022-04-10T08:18:19.246Z"
   },
   {
    "duration": 178,
    "start_time": "2022-04-10T08:18:19.292Z"
   },
   {
    "duration": 203,
    "start_time": "2022-04-10T08:18:19.472Z"
   },
   {
    "duration": 173,
    "start_time": "2022-04-10T08:18:19.677Z"
   },
   {
    "duration": 35,
    "start_time": "2022-04-10T08:18:19.851Z"
   },
   {
    "duration": 305,
    "start_time": "2022-04-10T08:18:19.888Z"
   },
   {
    "duration": 3,
    "start_time": "2022-04-10T08:18:20.195Z"
   },
   {
    "duration": 8,
    "start_time": "2022-04-10T08:18:20.199Z"
   },
   {
    "duration": 9,
    "start_time": "2022-04-10T08:18:20.209Z"
   },
   {
    "duration": 164,
    "start_time": "2022-04-10T08:18:20.219Z"
   },
   {
    "duration": 0,
    "start_time": "2022-04-10T08:18:20.385Z"
   },
   {
    "duration": 0,
    "start_time": "2022-04-10T08:18:20.387Z"
   },
   {
    "duration": 0,
    "start_time": "2022-04-10T08:18:20.387Z"
   },
   {
    "duration": 1626,
    "start_time": "2022-04-10T08:23:29.604Z"
   },
   {
    "duration": 15,
    "start_time": "2022-04-10T08:23:31.232Z"
   },
   {
    "duration": 780,
    "start_time": "2022-04-10T08:23:31.248Z"
   },
   {
    "duration": 18,
    "start_time": "2022-04-10T08:23:32.030Z"
   },
   {
    "duration": 22,
    "start_time": "2022-04-10T08:23:32.058Z"
   },
   {
    "duration": 19,
    "start_time": "2022-04-10T08:23:32.081Z"
   },
   {
    "duration": 10,
    "start_time": "2022-04-10T08:23:32.102Z"
   },
   {
    "duration": 22,
    "start_time": "2022-04-10T08:23:32.114Z"
   },
   {
    "duration": 33,
    "start_time": "2022-04-10T08:23:32.138Z"
   },
   {
    "duration": 18,
    "start_time": "2022-04-10T08:23:32.174Z"
   },
   {
    "duration": 32,
    "start_time": "2022-04-10T08:23:32.194Z"
   },
   {
    "duration": 232,
    "start_time": "2022-04-10T08:23:32.227Z"
   },
   {
    "duration": 230,
    "start_time": "2022-04-10T08:23:32.460Z"
   },
   {
    "duration": 185,
    "start_time": "2022-04-10T08:23:32.692Z"
   },
   {
    "duration": 215,
    "start_time": "2022-04-10T08:23:32.879Z"
   },
   {
    "duration": 151,
    "start_time": "2022-04-10T08:23:33.095Z"
   },
   {
    "duration": 386,
    "start_time": "2022-04-10T08:23:33.247Z"
   },
   {
    "duration": 188,
    "start_time": "2022-04-10T08:23:33.635Z"
   },
   {
    "duration": 259,
    "start_time": "2022-04-10T08:23:33.824Z"
   },
   {
    "duration": 186,
    "start_time": "2022-04-10T08:23:34.085Z"
   },
   {
    "duration": 172,
    "start_time": "2022-04-10T08:23:34.273Z"
   },
   {
    "duration": 188,
    "start_time": "2022-04-10T08:23:34.447Z"
   },
   {
    "duration": 183,
    "start_time": "2022-04-10T08:23:34.636Z"
   },
   {
    "duration": 211,
    "start_time": "2022-04-10T08:23:34.821Z"
   },
   {
    "duration": 189,
    "start_time": "2022-04-10T08:23:35.034Z"
   },
   {
    "duration": 173,
    "start_time": "2022-04-10T08:23:35.225Z"
   },
   {
    "duration": 493,
    "start_time": "2022-04-10T08:23:35.400Z"
   },
   {
    "duration": 35,
    "start_time": "2022-04-10T08:23:35.896Z"
   },
   {
    "duration": 185,
    "start_time": "2022-04-10T08:23:35.932Z"
   },
   {
    "duration": 200,
    "start_time": "2022-04-10T08:23:36.118Z"
   },
   {
    "duration": 196,
    "start_time": "2022-04-10T08:23:36.320Z"
   },
   {
    "duration": 43,
    "start_time": "2022-04-10T08:23:36.517Z"
   },
   {
    "duration": 196,
    "start_time": "2022-04-10T08:23:36.563Z"
   },
   {
    "duration": 5,
    "start_time": "2022-04-10T08:23:36.761Z"
   },
   {
    "duration": 18,
    "start_time": "2022-04-10T08:23:36.768Z"
   },
   {
    "duration": 121,
    "start_time": "2022-04-10T08:23:36.788Z"
   },
   {
    "duration": 0,
    "start_time": "2022-04-10T08:23:36.911Z"
   },
   {
    "duration": 0,
    "start_time": "2022-04-10T08:23:36.913Z"
   },
   {
    "duration": 0,
    "start_time": "2022-04-10T08:23:36.914Z"
   },
   {
    "duration": 0,
    "start_time": "2022-04-10T08:23:36.916Z"
   },
   {
    "duration": 0,
    "start_time": "2022-04-10T08:23:36.917Z"
   },
   {
    "duration": 12,
    "start_time": "2022-04-10T08:23:52.527Z"
   },
   {
    "duration": 9,
    "start_time": "2022-04-10T08:23:53.880Z"
   },
   {
    "duration": 9,
    "start_time": "2022-04-10T08:23:54.671Z"
   },
   {
    "duration": 29,
    "start_time": "2022-04-10T08:23:55.205Z"
   },
   {
    "duration": 7,
    "start_time": "2022-04-10T08:24:05.891Z"
   },
   {
    "duration": 6,
    "start_time": "2022-04-10T08:24:14.800Z"
   },
   {
    "duration": 43,
    "start_time": "2022-04-10T08:24:16.250Z"
   },
   {
    "duration": 3,
    "start_time": "2022-04-10T08:25:02.207Z"
   },
   {
    "duration": 6,
    "start_time": "2022-04-10T08:25:23.220Z"
   },
   {
    "duration": 12,
    "start_time": "2022-04-10T08:25:24.644Z"
   },
   {
    "duration": 8,
    "start_time": "2022-04-10T08:25:25.176Z"
   },
   {
    "duration": 17,
    "start_time": "2022-04-10T08:25:25.589Z"
   },
   {
    "duration": 8,
    "start_time": "2022-04-10T08:28:51.127Z"
   },
   {
    "duration": 4,
    "start_time": "2022-04-10T08:28:55.924Z"
   },
   {
    "duration": 5,
    "start_time": "2022-04-10T08:29:04.354Z"
   },
   {
    "duration": 5,
    "start_time": "2022-04-10T08:30:16.632Z"
   },
   {
    "duration": 13,
    "start_time": "2022-04-10T08:30:17.028Z"
   },
   {
    "duration": 5,
    "start_time": "2022-04-10T08:30:17.987Z"
   },
   {
    "duration": 5,
    "start_time": "2022-04-10T08:30:18.193Z"
   },
   {
    "duration": 13,
    "start_time": "2022-04-10T08:30:18.651Z"
   },
   {
    "duration": 2,
    "start_time": "2022-04-10T08:33:06.751Z"
   },
   {
    "duration": 4,
    "start_time": "2022-04-10T08:33:26.825Z"
   },
   {
    "duration": 20,
    "start_time": "2022-04-10T08:33:27.430Z"
   },
   {
    "duration": 4,
    "start_time": "2022-04-10T08:33:28.232Z"
   },
   {
    "duration": 4,
    "start_time": "2022-04-10T08:33:29.936Z"
   },
   {
    "duration": 5,
    "start_time": "2022-04-10T08:33:49.449Z"
   },
   {
    "duration": 18,
    "start_time": "2022-04-10T08:33:49.456Z"
   },
   {
    "duration": 4,
    "start_time": "2022-04-10T08:33:50.486Z"
   },
   {
    "duration": 1423,
    "start_time": "2022-04-10T08:39:54.919Z"
   },
   {
    "duration": 15,
    "start_time": "2022-04-10T08:39:56.344Z"
   },
   {
    "duration": 671,
    "start_time": "2022-04-10T08:39:56.361Z"
   },
   {
    "duration": 16,
    "start_time": "2022-04-10T08:39:57.034Z"
   },
   {
    "duration": 21,
    "start_time": "2022-04-10T08:39:57.057Z"
   },
   {
    "duration": 16,
    "start_time": "2022-04-10T08:39:57.080Z"
   },
   {
    "duration": 12,
    "start_time": "2022-04-10T08:39:57.097Z"
   },
   {
    "duration": 17,
    "start_time": "2022-04-10T08:39:57.110Z"
   },
   {
    "duration": 41,
    "start_time": "2022-04-10T08:39:57.129Z"
   },
   {
    "duration": 25,
    "start_time": "2022-04-10T08:39:57.173Z"
   },
   {
    "duration": 33,
    "start_time": "2022-04-10T08:39:57.199Z"
   },
   {
    "duration": 196,
    "start_time": "2022-04-10T08:39:57.233Z"
   },
   {
    "duration": 193,
    "start_time": "2022-04-10T08:39:57.431Z"
   },
   {
    "duration": 186,
    "start_time": "2022-04-10T08:39:57.625Z"
   },
   {
    "duration": 196,
    "start_time": "2022-04-10T08:39:57.812Z"
   },
   {
    "duration": 167,
    "start_time": "2022-04-10T08:39:58.010Z"
   },
   {
    "duration": 252,
    "start_time": "2022-04-10T08:39:58.179Z"
   },
   {
    "duration": 192,
    "start_time": "2022-04-10T08:39:58.432Z"
   },
   {
    "duration": 190,
    "start_time": "2022-04-10T08:39:58.626Z"
   },
   {
    "duration": 188,
    "start_time": "2022-04-10T08:39:58.818Z"
   },
   {
    "duration": 167,
    "start_time": "2022-04-10T08:39:59.008Z"
   },
   {
    "duration": 165,
    "start_time": "2022-04-10T08:39:59.177Z"
   },
   {
    "duration": 175,
    "start_time": "2022-04-10T08:39:59.343Z"
   },
   {
    "duration": 193,
    "start_time": "2022-04-10T08:39:59.519Z"
   },
   {
    "duration": 182,
    "start_time": "2022-04-10T08:39:59.714Z"
   },
   {
    "duration": 164,
    "start_time": "2022-04-10T08:39:59.897Z"
   },
   {
    "duration": 491,
    "start_time": "2022-04-10T08:40:00.063Z"
   },
   {
    "duration": 41,
    "start_time": "2022-04-10T08:40:00.558Z"
   },
   {
    "duration": 196,
    "start_time": "2022-04-10T08:40:00.601Z"
   },
   {
    "duration": 196,
    "start_time": "2022-04-10T08:40:00.798Z"
   },
   {
    "duration": 197,
    "start_time": "2022-04-10T08:40:00.995Z"
   },
   {
    "duration": 30,
    "start_time": "2022-04-10T08:40:01.194Z"
   },
   {
    "duration": 200,
    "start_time": "2022-04-10T08:40:01.226Z"
   },
   {
    "duration": 3,
    "start_time": "2022-04-10T08:40:01.428Z"
   },
   {
    "duration": 10,
    "start_time": "2022-04-10T08:40:01.433Z"
   },
   {
    "duration": 27,
    "start_time": "2022-04-10T08:40:01.445Z"
   },
   {
    "duration": 6,
    "start_time": "2022-04-10T08:40:01.474Z"
   },
   {
    "duration": 17,
    "start_time": "2022-04-10T08:40:01.481Z"
   },
   {
    "duration": 29,
    "start_time": "2022-04-10T08:40:01.500Z"
   },
   {
    "duration": 17,
    "start_time": "2022-04-10T08:40:01.531Z"
   },
   {
    "duration": 13,
    "start_time": "2022-04-10T08:40:01.550Z"
   },
   {
    "duration": 21,
    "start_time": "2022-04-10T08:40:01.569Z"
   },
   {
    "duration": 13,
    "start_time": "2022-04-10T08:40:01.592Z"
   },
   {
    "duration": 41,
    "start_time": "2022-04-10T08:40:01.607Z"
   },
   {
    "duration": 3622,
    "start_time": "2022-04-10T08:40:01.650Z"
   },
   {
    "duration": 5863,
    "start_time": "2022-04-10T08:40:05.277Z"
   },
   {
    "duration": 8,
    "start_time": "2022-04-10T08:42:09.218Z"
   },
   {
    "duration": 12,
    "start_time": "2022-04-10T08:42:39.800Z"
   },
   {
    "duration": 3,
    "start_time": "2022-04-10T08:42:53.479Z"
   },
   {
    "duration": 18,
    "start_time": "2022-04-10T08:43:00.621Z"
   },
   {
    "duration": 12,
    "start_time": "2022-04-10T08:43:18.312Z"
   },
   {
    "duration": 1478,
    "start_time": "2022-04-10T08:43:30.472Z"
   },
   {
    "duration": 15,
    "start_time": "2022-04-10T08:43:31.952Z"
   },
   {
    "duration": 688,
    "start_time": "2022-04-10T08:43:31.969Z"
   },
   {
    "duration": 25,
    "start_time": "2022-04-10T08:43:32.662Z"
   },
   {
    "duration": 16,
    "start_time": "2022-04-10T08:43:32.689Z"
   },
   {
    "duration": 12,
    "start_time": "2022-04-10T08:43:32.707Z"
   },
   {
    "duration": 9,
    "start_time": "2022-04-10T08:43:32.721Z"
   },
   {
    "duration": 18,
    "start_time": "2022-04-10T08:43:32.760Z"
   },
   {
    "duration": 10,
    "start_time": "2022-04-10T08:43:32.780Z"
   },
   {
    "duration": 23,
    "start_time": "2022-04-10T08:43:32.793Z"
   },
   {
    "duration": 61,
    "start_time": "2022-04-10T08:43:32.818Z"
   },
   {
    "duration": 181,
    "start_time": "2022-04-10T08:43:32.881Z"
   },
   {
    "duration": 197,
    "start_time": "2022-04-10T08:43:33.064Z"
   },
   {
    "duration": 280,
    "start_time": "2022-04-10T08:43:33.263Z"
   },
   {
    "duration": 302,
    "start_time": "2022-04-10T08:43:33.545Z"
   },
   {
    "duration": 248,
    "start_time": "2022-04-10T08:43:33.849Z"
   },
   {
    "duration": 499,
    "start_time": "2022-04-10T08:43:34.099Z"
   },
   {
    "duration": 197,
    "start_time": "2022-04-10T08:43:34.600Z"
   },
   {
    "duration": 205,
    "start_time": "2022-04-10T08:43:34.799Z"
   },
   {
    "duration": 212,
    "start_time": "2022-04-10T08:43:35.006Z"
   },
   {
    "duration": 178,
    "start_time": "2022-04-10T08:43:35.220Z"
   },
   {
    "duration": 192,
    "start_time": "2022-04-10T08:43:35.400Z"
   },
   {
    "duration": 179,
    "start_time": "2022-04-10T08:43:35.594Z"
   },
   {
    "duration": 209,
    "start_time": "2022-04-10T08:43:35.775Z"
   },
   {
    "duration": 177,
    "start_time": "2022-04-10T08:43:35.985Z"
   },
   {
    "duration": 165,
    "start_time": "2022-04-10T08:43:36.164Z"
   },
   {
    "duration": 491,
    "start_time": "2022-04-10T08:43:36.331Z"
   },
   {
    "duration": 50,
    "start_time": "2022-04-10T08:43:36.826Z"
   },
   {
    "duration": 285,
    "start_time": "2022-04-10T08:43:36.879Z"
   },
   {
    "duration": 290,
    "start_time": "2022-04-10T08:43:37.167Z"
   },
   {
    "duration": 277,
    "start_time": "2022-04-10T08:43:37.462Z"
   },
   {
    "duration": 50,
    "start_time": "2022-04-10T08:43:37.741Z"
   },
   {
    "duration": 287,
    "start_time": "2022-04-10T08:43:37.793Z"
   },
   {
    "duration": 3,
    "start_time": "2022-04-10T08:43:38.083Z"
   },
   {
    "duration": 6,
    "start_time": "2022-04-10T08:43:38.088Z"
   },
   {
    "duration": 14,
    "start_time": "2022-04-10T08:43:38.095Z"
   },
   {
    "duration": 3,
    "start_time": "2022-04-10T08:43:38.110Z"
   },
   {
    "duration": 7,
    "start_time": "2022-04-10T08:43:38.115Z"
   },
   {
    "duration": 8,
    "start_time": "2022-04-10T08:43:38.123Z"
   },
   {
    "duration": 5,
    "start_time": "2022-04-10T08:43:38.157Z"
   },
   {
    "duration": 20,
    "start_time": "2022-04-10T08:43:38.164Z"
   },
   {
    "duration": 10,
    "start_time": "2022-04-10T08:43:38.186Z"
   },
   {
    "duration": 11,
    "start_time": "2022-04-10T08:43:38.198Z"
   },
   {
    "duration": 3,
    "start_time": "2022-04-10T08:43:38.210Z"
   },
   {
    "duration": 27,
    "start_time": "2022-04-10T08:43:38.214Z"
   },
   {
    "duration": 4737,
    "start_time": "2022-04-10T08:43:38.243Z"
   },
   {
    "duration": 5686,
    "start_time": "2022-04-10T08:43:43.064Z"
   },
   {
    "duration": 10,
    "start_time": "2022-04-10T08:46:52.254Z"
   },
   {
    "duration": 34,
    "start_time": "2022-04-10T08:48:12.650Z"
   },
   {
    "duration": 1497,
    "start_time": "2022-04-10T08:48:23.616Z"
   },
   {
    "duration": 10,
    "start_time": "2022-04-10T08:48:25.115Z"
   },
   {
    "duration": 690,
    "start_time": "2022-04-10T08:48:25.126Z"
   },
   {
    "duration": 16,
    "start_time": "2022-04-10T08:48:25.818Z"
   },
   {
    "duration": 37,
    "start_time": "2022-04-10T08:48:25.836Z"
   },
   {
    "duration": 11,
    "start_time": "2022-04-10T08:48:25.875Z"
   },
   {
    "duration": 9,
    "start_time": "2022-04-10T08:48:25.887Z"
   },
   {
    "duration": 13,
    "start_time": "2022-04-10T08:48:25.898Z"
   },
   {
    "duration": 8,
    "start_time": "2022-04-10T08:48:25.913Z"
   },
   {
    "duration": 19,
    "start_time": "2022-04-10T08:48:25.959Z"
   },
   {
    "duration": 20,
    "start_time": "2022-04-10T08:48:25.979Z"
   },
   {
    "duration": 293,
    "start_time": "2022-04-10T08:48:26.001Z"
   },
   {
    "duration": 207,
    "start_time": "2022-04-10T08:48:26.296Z"
   },
   {
    "duration": 188,
    "start_time": "2022-04-10T08:48:26.505Z"
   },
   {
    "duration": 211,
    "start_time": "2022-04-10T08:48:26.694Z"
   },
   {
    "duration": 162,
    "start_time": "2022-04-10T08:48:26.907Z"
   },
   {
    "duration": 271,
    "start_time": "2022-04-10T08:48:27.072Z"
   },
   {
    "duration": 190,
    "start_time": "2022-04-10T08:48:27.345Z"
   },
   {
    "duration": 197,
    "start_time": "2022-04-10T08:48:27.536Z"
   },
   {
    "duration": 207,
    "start_time": "2022-04-10T08:48:27.734Z"
   },
   {
    "duration": 178,
    "start_time": "2022-04-10T08:48:27.943Z"
   },
   {
    "duration": 193,
    "start_time": "2022-04-10T08:48:28.123Z"
   },
   {
    "duration": 179,
    "start_time": "2022-04-10T08:48:28.318Z"
   },
   {
    "duration": 213,
    "start_time": "2022-04-10T08:48:28.499Z"
   },
   {
    "duration": 184,
    "start_time": "2022-04-10T08:48:28.713Z"
   },
   {
    "duration": 175,
    "start_time": "2022-04-10T08:48:28.899Z"
   },
   {
    "duration": 497,
    "start_time": "2022-04-10T08:48:29.077Z"
   },
   {
    "duration": 39,
    "start_time": "2022-04-10T08:48:29.578Z"
   },
   {
    "duration": 256,
    "start_time": "2022-04-10T08:48:29.619Z"
   },
   {
    "duration": 206,
    "start_time": "2022-04-10T08:48:29.876Z"
   },
   {
    "duration": 204,
    "start_time": "2022-04-10T08:48:30.083Z"
   },
   {
    "duration": 31,
    "start_time": "2022-04-10T08:48:30.289Z"
   },
   {
    "duration": 206,
    "start_time": "2022-04-10T08:48:30.322Z"
   },
   {
    "duration": 3,
    "start_time": "2022-04-10T08:48:30.530Z"
   },
   {
    "duration": 12,
    "start_time": "2022-04-10T08:48:30.535Z"
   },
   {
    "duration": 23,
    "start_time": "2022-04-10T08:48:30.549Z"
   },
   {
    "duration": 6,
    "start_time": "2022-04-10T08:48:30.575Z"
   },
   {
    "duration": 15,
    "start_time": "2022-04-10T08:48:30.583Z"
   },
   {
    "duration": 10,
    "start_time": "2022-04-10T08:48:30.600Z"
   },
   {
    "duration": 6,
    "start_time": "2022-04-10T08:48:30.612Z"
   },
   {
    "duration": 17,
    "start_time": "2022-04-10T08:48:30.620Z"
   },
   {
    "duration": 28,
    "start_time": "2022-04-10T08:48:30.638Z"
   },
   {
    "duration": 10,
    "start_time": "2022-04-10T08:48:30.669Z"
   },
   {
    "duration": 5,
    "start_time": "2022-04-10T08:48:30.680Z"
   },
   {
    "duration": 32,
    "start_time": "2022-04-10T08:48:30.686Z"
   },
   {
    "duration": 5347,
    "start_time": "2022-04-10T08:48:30.720Z"
   },
   {
    "duration": 5859,
    "start_time": "2022-04-10T08:48:36.070Z"
   },
   {
    "duration": 4,
    "start_time": "2022-04-10T08:49:14.848Z"
   },
   {
    "duration": 7326,
    "start_time": "2022-04-10T08:49:21.498Z"
   },
   {
    "duration": 1537,
    "start_time": "2022-04-10T08:51:05.037Z"
   },
   {
    "duration": 12,
    "start_time": "2022-04-10T08:51:06.575Z"
   },
   {
    "duration": 711,
    "start_time": "2022-04-10T08:51:06.589Z"
   },
   {
    "duration": 16,
    "start_time": "2022-04-10T08:51:07.303Z"
   },
   {
    "duration": 13,
    "start_time": "2022-04-10T08:51:07.322Z"
   },
   {
    "duration": 35,
    "start_time": "2022-04-10T08:51:07.337Z"
   },
   {
    "duration": 10,
    "start_time": "2022-04-10T08:51:07.374Z"
   },
   {
    "duration": 13,
    "start_time": "2022-04-10T08:51:07.385Z"
   },
   {
    "duration": 8,
    "start_time": "2022-04-10T08:51:07.400Z"
   },
   {
    "duration": 13,
    "start_time": "2022-04-10T08:51:07.410Z"
   },
   {
    "duration": 60,
    "start_time": "2022-04-10T08:51:07.424Z"
   },
   {
    "duration": 192,
    "start_time": "2022-04-10T08:51:07.486Z"
   },
   {
    "duration": 194,
    "start_time": "2022-04-10T08:51:07.679Z"
   },
   {
    "duration": 184,
    "start_time": "2022-04-10T08:51:07.875Z"
   },
   {
    "duration": 213,
    "start_time": "2022-04-10T08:51:08.061Z"
   },
   {
    "duration": 155,
    "start_time": "2022-04-10T08:51:08.276Z"
   },
   {
    "duration": 277,
    "start_time": "2022-04-10T08:51:08.433Z"
   },
   {
    "duration": 181,
    "start_time": "2022-04-10T08:51:08.712Z"
   },
   {
    "duration": 199,
    "start_time": "2022-04-10T08:51:08.895Z"
   },
   {
    "duration": 213,
    "start_time": "2022-04-10T08:51:09.095Z"
   },
   {
    "duration": 176,
    "start_time": "2022-04-10T08:51:09.310Z"
   },
   {
    "duration": 180,
    "start_time": "2022-04-10T08:51:09.487Z"
   },
   {
    "duration": 181,
    "start_time": "2022-04-10T08:51:09.670Z"
   },
   {
    "duration": 207,
    "start_time": "2022-04-10T08:51:09.852Z"
   },
   {
    "duration": 202,
    "start_time": "2022-04-10T08:51:10.062Z"
   },
   {
    "duration": 161,
    "start_time": "2022-04-10T08:51:10.267Z"
   },
   {
    "duration": 493,
    "start_time": "2022-04-10T08:51:10.429Z"
   },
   {
    "duration": 51,
    "start_time": "2022-04-10T08:51:10.926Z"
   },
   {
    "duration": 188,
    "start_time": "2022-04-10T08:51:10.978Z"
   },
   {
    "duration": 195,
    "start_time": "2022-04-10T08:51:11.169Z"
   },
   {
    "duration": 185,
    "start_time": "2022-04-10T08:51:11.367Z"
   },
   {
    "duration": 35,
    "start_time": "2022-04-10T08:51:11.559Z"
   },
   {
    "duration": 199,
    "start_time": "2022-04-10T08:51:11.596Z"
   },
   {
    "duration": 4,
    "start_time": "2022-04-10T08:51:11.796Z"
   },
   {
    "duration": 8,
    "start_time": "2022-04-10T08:51:11.801Z"
   },
   {
    "duration": 15,
    "start_time": "2022-04-10T08:51:11.810Z"
   },
   {
    "duration": 4,
    "start_time": "2022-04-10T08:51:11.826Z"
   },
   {
    "duration": 10,
    "start_time": "2022-04-10T08:51:11.832Z"
   },
   {
    "duration": 19,
    "start_time": "2022-04-10T08:51:11.844Z"
   },
   {
    "duration": 9,
    "start_time": "2022-04-10T08:51:11.866Z"
   },
   {
    "duration": 7,
    "start_time": "2022-04-10T08:51:11.877Z"
   },
   {
    "duration": 10,
    "start_time": "2022-04-10T08:51:11.885Z"
   },
   {
    "duration": 9,
    "start_time": "2022-04-10T08:51:11.897Z"
   },
   {
    "duration": 22,
    "start_time": "2022-04-10T08:51:11.908Z"
   },
   {
    "duration": 4241,
    "start_time": "2022-04-10T08:51:11.932Z"
   },
   {
    "duration": 5743,
    "start_time": "2022-04-10T08:51:16.175Z"
   },
   {
    "duration": 1433,
    "start_time": "2022-04-10T08:53:30.110Z"
   },
   {
    "duration": 12,
    "start_time": "2022-04-10T08:53:31.546Z"
   },
   {
    "duration": 710,
    "start_time": "2022-04-10T08:53:31.560Z"
   },
   {
    "duration": 15,
    "start_time": "2022-04-10T08:53:32.273Z"
   },
   {
    "duration": 15,
    "start_time": "2022-04-10T08:53:32.290Z"
   },
   {
    "duration": 10,
    "start_time": "2022-04-10T08:53:32.306Z"
   },
   {
    "duration": 9,
    "start_time": "2022-04-10T08:53:32.318Z"
   },
   {
    "duration": 48,
    "start_time": "2022-04-10T08:53:32.328Z"
   },
   {
    "duration": 10,
    "start_time": "2022-04-10T08:53:32.378Z"
   },
   {
    "duration": 13,
    "start_time": "2022-04-10T08:53:32.391Z"
   },
   {
    "duration": 56,
    "start_time": "2022-04-10T08:53:32.406Z"
   },
   {
    "duration": 181,
    "start_time": "2022-04-10T08:53:32.464Z"
   },
   {
    "duration": 195,
    "start_time": "2022-04-10T08:53:32.646Z"
   },
   {
    "duration": 194,
    "start_time": "2022-04-10T08:53:32.843Z"
   },
   {
    "duration": 197,
    "start_time": "2022-04-10T08:53:33.039Z"
   },
   {
    "duration": 169,
    "start_time": "2022-04-10T08:53:33.237Z"
   },
   {
    "duration": 280,
    "start_time": "2022-04-10T08:53:33.408Z"
   },
   {
    "duration": 169,
    "start_time": "2022-04-10T08:53:33.690Z"
   },
   {
    "duration": 189,
    "start_time": "2022-04-10T08:53:33.862Z"
   },
   {
    "duration": 191,
    "start_time": "2022-04-10T08:53:34.059Z"
   },
   {
    "duration": 178,
    "start_time": "2022-04-10T08:53:34.251Z"
   },
   {
    "duration": 200,
    "start_time": "2022-04-10T08:53:34.431Z"
   },
   {
    "duration": 179,
    "start_time": "2022-04-10T08:53:34.633Z"
   },
   {
    "duration": 207,
    "start_time": "2022-04-10T08:53:34.814Z"
   },
   {
    "duration": 184,
    "start_time": "2022-04-10T08:53:35.023Z"
   },
   {
    "duration": 167,
    "start_time": "2022-04-10T08:53:35.209Z"
   },
   {
    "duration": 492,
    "start_time": "2022-04-10T08:53:35.379Z"
   },
   {
    "duration": 35,
    "start_time": "2022-04-10T08:53:35.876Z"
   },
   {
    "duration": 191,
    "start_time": "2022-04-10T08:53:35.912Z"
   },
   {
    "duration": 192,
    "start_time": "2022-04-10T08:53:36.105Z"
   },
   {
    "duration": 191,
    "start_time": "2022-04-10T08:53:36.298Z"
   },
   {
    "duration": 32,
    "start_time": "2022-04-10T08:53:36.490Z"
   },
   {
    "duration": 201,
    "start_time": "2022-04-10T08:53:36.524Z"
   },
   {
    "duration": 4,
    "start_time": "2022-04-10T08:53:36.726Z"
   },
   {
    "duration": 8,
    "start_time": "2022-04-10T08:53:36.731Z"
   },
   {
    "duration": 23,
    "start_time": "2022-04-10T08:53:36.740Z"
   },
   {
    "duration": 5,
    "start_time": "2022-04-10T08:53:36.766Z"
   },
   {
    "duration": 6,
    "start_time": "2022-04-10T08:53:36.773Z"
   },
   {
    "duration": 12,
    "start_time": "2022-04-10T08:53:36.780Z"
   },
   {
    "duration": 22,
    "start_time": "2022-04-10T08:53:36.793Z"
   },
   {
    "duration": 5,
    "start_time": "2022-04-10T08:53:36.817Z"
   },
   {
    "duration": 8,
    "start_time": "2022-04-10T08:53:36.823Z"
   },
   {
    "duration": 10,
    "start_time": "2022-04-10T08:53:36.833Z"
   },
   {
    "duration": 38,
    "start_time": "2022-04-10T08:53:36.844Z"
   },
   {
    "duration": 3477,
    "start_time": "2022-04-10T08:53:36.884Z"
   },
   {
    "duration": 6557,
    "start_time": "2022-04-10T08:53:40.363Z"
   },
   {
    "duration": 1559,
    "start_time": "2022-04-10T08:55:48.345Z"
   },
   {
    "duration": 11,
    "start_time": "2022-04-10T08:55:49.906Z"
   },
   {
    "duration": 707,
    "start_time": "2022-04-10T08:55:49.918Z"
   },
   {
    "duration": 16,
    "start_time": "2022-04-10T08:55:50.627Z"
   },
   {
    "duration": 34,
    "start_time": "2022-04-10T08:55:50.645Z"
   },
   {
    "duration": 12,
    "start_time": "2022-04-10T08:55:50.681Z"
   },
   {
    "duration": 8,
    "start_time": "2022-04-10T08:55:50.695Z"
   },
   {
    "duration": 17,
    "start_time": "2022-04-10T08:55:50.704Z"
   },
   {
    "duration": 8,
    "start_time": "2022-04-10T08:55:50.722Z"
   },
   {
    "duration": 18,
    "start_time": "2022-04-10T08:55:50.763Z"
   },
   {
    "duration": 20,
    "start_time": "2022-04-10T08:55:50.782Z"
   },
   {
    "duration": 204,
    "start_time": "2022-04-10T08:55:50.803Z"
   },
   {
    "duration": 211,
    "start_time": "2022-04-10T08:55:51.008Z"
   },
   {
    "duration": 184,
    "start_time": "2022-04-10T08:55:51.221Z"
   },
   {
    "duration": 198,
    "start_time": "2022-04-10T08:55:51.406Z"
   },
   {
    "duration": 162,
    "start_time": "2022-04-10T08:55:51.605Z"
   },
   {
    "duration": 264,
    "start_time": "2022-04-10T08:55:51.769Z"
   },
   {
    "duration": 184,
    "start_time": "2022-04-10T08:55:52.035Z"
   },
   {
    "duration": 197,
    "start_time": "2022-04-10T08:55:52.221Z"
   },
   {
    "duration": 198,
    "start_time": "2022-04-10T08:55:52.419Z"
   },
   {
    "duration": 174,
    "start_time": "2022-04-10T08:55:52.618Z"
   },
   {
    "duration": 183,
    "start_time": "2022-04-10T08:55:52.793Z"
   },
   {
    "duration": 172,
    "start_time": "2022-04-10T08:55:52.978Z"
   },
   {
    "duration": 189,
    "start_time": "2022-04-10T08:55:53.159Z"
   },
   {
    "duration": 178,
    "start_time": "2022-04-10T08:55:53.349Z"
   },
   {
    "duration": 167,
    "start_time": "2022-04-10T08:55:53.529Z"
   },
   {
    "duration": 481,
    "start_time": "2022-04-10T08:55:53.697Z"
   },
   {
    "duration": 35,
    "start_time": "2022-04-10T08:55:54.181Z"
   },
   {
    "duration": 187,
    "start_time": "2022-04-10T08:55:54.218Z"
   },
   {
    "duration": 192,
    "start_time": "2022-04-10T08:55:54.406Z"
   },
   {
    "duration": 188,
    "start_time": "2022-04-10T08:55:54.599Z"
   },
   {
    "duration": 32,
    "start_time": "2022-04-10T08:55:54.788Z"
   },
   {
    "duration": 212,
    "start_time": "2022-04-10T08:55:54.821Z"
   },
   {
    "duration": 3,
    "start_time": "2022-04-10T08:55:55.035Z"
   },
   {
    "duration": 8,
    "start_time": "2022-04-10T08:55:55.039Z"
   },
   {
    "duration": 21,
    "start_time": "2022-04-10T08:55:55.049Z"
   },
   {
    "duration": 7,
    "start_time": "2022-04-10T08:55:55.072Z"
   },
   {
    "duration": 10,
    "start_time": "2022-04-10T08:55:55.080Z"
   },
   {
    "duration": 10,
    "start_time": "2022-04-10T08:55:55.092Z"
   },
   {
    "duration": 20,
    "start_time": "2022-04-10T08:55:55.103Z"
   },
   {
    "duration": 3647,
    "start_time": "2022-04-10T08:55:55.125Z"
   },
   {
    "duration": 41834,
    "start_time": "2022-04-10T08:55:58.776Z"
   },
   {
    "duration": 6224,
    "start_time": "2022-04-10T08:56:40.612Z"
   },
   {
    "duration": 1405,
    "start_time": "2022-04-10T09:17:23.277Z"
   },
   {
    "duration": 9,
    "start_time": "2022-04-10T09:17:24.684Z"
   },
   {
    "duration": 683,
    "start_time": "2022-04-10T09:17:24.694Z"
   },
   {
    "duration": 41,
    "start_time": "2022-04-10T09:17:25.379Z"
   },
   {
    "duration": 51,
    "start_time": "2022-04-10T09:17:25.422Z"
   },
   {
    "duration": 30,
    "start_time": "2022-04-10T09:17:25.475Z"
   },
   {
    "duration": 9,
    "start_time": "2022-04-10T09:17:25.506Z"
   },
   {
    "duration": 11,
    "start_time": "2022-04-10T09:17:25.516Z"
   },
   {
    "duration": 33,
    "start_time": "2022-04-10T09:17:25.528Z"
   },
   {
    "duration": 13,
    "start_time": "2022-04-10T09:17:25.563Z"
   },
   {
    "duration": 18,
    "start_time": "2022-04-10T09:17:25.578Z"
   },
   {
    "duration": 10,
    "start_time": "2022-04-10T09:17:25.598Z"
   },
   {
    "duration": 7,
    "start_time": "2022-04-10T09:17:25.609Z"
   },
   {
    "duration": 7,
    "start_time": "2022-04-10T09:17:25.617Z"
   },
   {
    "duration": 198,
    "start_time": "2022-04-10T09:17:25.625Z"
   },
   {
    "duration": 179,
    "start_time": "2022-04-10T09:17:25.825Z"
   },
   {
    "duration": 183,
    "start_time": "2022-04-10T09:17:26.006Z"
   },
   {
    "duration": 184,
    "start_time": "2022-04-10T09:17:26.191Z"
   },
   {
    "duration": 159,
    "start_time": "2022-04-10T09:17:26.377Z"
   },
   {
    "duration": 255,
    "start_time": "2022-04-10T09:17:26.538Z"
   },
   {
    "duration": 173,
    "start_time": "2022-04-10T09:17:26.794Z"
   },
   {
    "duration": 182,
    "start_time": "2022-04-10T09:17:26.968Z"
   },
   {
    "duration": 175,
    "start_time": "2022-04-10T09:17:27.158Z"
   },
   {
    "duration": 162,
    "start_time": "2022-04-10T09:17:27.335Z"
   },
   {
    "duration": 174,
    "start_time": "2022-04-10T09:17:27.499Z"
   },
   {
    "duration": 160,
    "start_time": "2022-04-10T09:17:27.675Z"
   },
   {
    "duration": 188,
    "start_time": "2022-04-10T09:17:27.837Z"
   },
   {
    "duration": 172,
    "start_time": "2022-04-10T09:17:28.028Z"
   },
   {
    "duration": 153,
    "start_time": "2022-04-10T09:17:28.201Z"
   },
   {
    "duration": 477,
    "start_time": "2022-04-10T09:17:28.357Z"
   },
   {
    "duration": 43,
    "start_time": "2022-04-10T09:17:28.836Z"
   },
   {
    "duration": 179,
    "start_time": "2022-04-10T09:17:28.881Z"
   },
   {
    "duration": 170,
    "start_time": "2022-04-10T09:17:29.062Z"
   },
   {
    "duration": 181,
    "start_time": "2022-04-10T09:17:29.234Z"
   },
   {
    "duration": 42,
    "start_time": "2022-04-10T09:17:29.416Z"
   },
   {
    "duration": 174,
    "start_time": "2022-04-10T09:17:29.459Z"
   },
   {
    "duration": 4,
    "start_time": "2022-04-10T09:17:29.635Z"
   },
   {
    "duration": 17,
    "start_time": "2022-04-10T09:17:29.641Z"
   },
   {
    "duration": 12,
    "start_time": "2022-04-10T09:17:29.659Z"
   },
   {
    "duration": 7,
    "start_time": "2022-04-10T09:17:29.672Z"
   },
   {
    "duration": 126,
    "start_time": "2022-04-10T09:17:29.680Z"
   },
   {
    "duration": 1,
    "start_time": "2022-04-10T09:17:29.808Z"
   },
   {
    "duration": 0,
    "start_time": "2022-04-10T09:17:29.810Z"
   },
   {
    "duration": 0,
    "start_time": "2022-04-10T09:17:29.811Z"
   },
   {
    "duration": 0,
    "start_time": "2022-04-10T09:17:29.812Z"
   },
   {
    "duration": 0,
    "start_time": "2022-04-10T09:17:29.813Z"
   },
   {
    "duration": 4,
    "start_time": "2022-04-10T09:24:45.290Z"
   },
   {
    "duration": 6,
    "start_time": "2022-04-10T09:26:07.623Z"
   },
   {
    "duration": 1578,
    "start_time": "2022-04-10T09:27:07.116Z"
   },
   {
    "duration": 9,
    "start_time": "2022-04-10T09:27:08.697Z"
   },
   {
    "duration": 663,
    "start_time": "2022-04-10T09:27:08.708Z"
   },
   {
    "duration": 40,
    "start_time": "2022-04-10T09:27:09.374Z"
   },
   {
    "duration": 53,
    "start_time": "2022-04-10T09:27:09.415Z"
   },
   {
    "duration": 32,
    "start_time": "2022-04-10T09:27:09.469Z"
   },
   {
    "duration": 9,
    "start_time": "2022-04-10T09:27:09.502Z"
   },
   {
    "duration": 11,
    "start_time": "2022-04-10T09:27:09.512Z"
   },
   {
    "duration": 39,
    "start_time": "2022-04-10T09:27:09.524Z"
   },
   {
    "duration": 14,
    "start_time": "2022-04-10T09:27:09.567Z"
   },
   {
    "duration": 21,
    "start_time": "2022-04-10T09:27:09.583Z"
   },
   {
    "duration": 10,
    "start_time": "2022-04-10T09:27:09.606Z"
   },
   {
    "duration": 10,
    "start_time": "2022-04-10T09:27:09.618Z"
   },
   {
    "duration": 214,
    "start_time": "2022-04-10T09:27:09.630Z"
   },
   {
    "duration": 193,
    "start_time": "2022-04-10T09:27:09.845Z"
   },
   {
    "duration": 189,
    "start_time": "2022-04-10T09:27:10.040Z"
   },
   {
    "duration": 204,
    "start_time": "2022-04-10T09:27:10.231Z"
   },
   {
    "duration": 166,
    "start_time": "2022-04-10T09:27:10.437Z"
   },
   {
    "duration": 246,
    "start_time": "2022-04-10T09:27:10.604Z"
   },
   {
    "duration": 181,
    "start_time": "2022-04-10T09:27:10.859Z"
   },
   {
    "duration": 192,
    "start_time": "2022-04-10T09:27:11.042Z"
   },
   {
    "duration": 192,
    "start_time": "2022-04-10T09:27:11.236Z"
   },
   {
    "duration": 175,
    "start_time": "2022-04-10T09:27:11.430Z"
   },
   {
    "duration": 168,
    "start_time": "2022-04-10T09:27:11.607Z"
   },
   {
    "duration": 175,
    "start_time": "2022-04-10T09:27:11.777Z"
   },
   {
    "duration": 196,
    "start_time": "2022-04-10T09:27:11.953Z"
   },
   {
    "duration": 188,
    "start_time": "2022-04-10T09:27:12.150Z"
   },
   {
    "duration": 170,
    "start_time": "2022-04-10T09:27:12.342Z"
   },
   {
    "duration": 472,
    "start_time": "2022-04-10T09:27:12.514Z"
   },
   {
    "duration": 34,
    "start_time": "2022-04-10T09:27:12.988Z"
   },
   {
    "duration": 200,
    "start_time": "2022-04-10T09:27:13.024Z"
   },
   {
    "duration": 204,
    "start_time": "2022-04-10T09:27:13.226Z"
   },
   {
    "duration": 200,
    "start_time": "2022-04-10T09:27:13.432Z"
   },
   {
    "duration": 49,
    "start_time": "2022-04-10T09:27:13.634Z"
   },
   {
    "duration": 180,
    "start_time": "2022-04-10T09:27:13.685Z"
   },
   {
    "duration": 5,
    "start_time": "2022-04-10T09:27:13.868Z"
   },
   {
    "duration": 15,
    "start_time": "2022-04-10T09:27:13.876Z"
   },
   {
    "duration": 14,
    "start_time": "2022-04-10T09:27:13.893Z"
   },
   {
    "duration": 7,
    "start_time": "2022-04-10T09:27:13.908Z"
   },
   {
    "duration": 129,
    "start_time": "2022-04-10T09:27:13.916Z"
   },
   {
    "duration": 0,
    "start_time": "2022-04-10T09:27:14.047Z"
   },
   {
    "duration": 0,
    "start_time": "2022-04-10T09:27:14.047Z"
   },
   {
    "duration": 0,
    "start_time": "2022-04-10T09:27:14.048Z"
   },
   {
    "duration": 0,
    "start_time": "2022-04-10T09:27:14.049Z"
   },
   {
    "duration": 0,
    "start_time": "2022-04-10T09:27:14.062Z"
   },
   {
    "duration": 1485,
    "start_time": "2022-04-10T09:28:56.864Z"
   },
   {
    "duration": 20,
    "start_time": "2022-04-10T09:28:58.351Z"
   },
   {
    "duration": 651,
    "start_time": "2022-04-10T09:28:58.373Z"
   },
   {
    "duration": 48,
    "start_time": "2022-04-10T09:28:59.026Z"
   },
   {
    "duration": 34,
    "start_time": "2022-04-10T09:28:59.075Z"
   },
   {
    "duration": 57,
    "start_time": "2022-04-10T09:28:59.111Z"
   },
   {
    "duration": 10,
    "start_time": "2022-04-10T09:28:59.171Z"
   },
   {
    "duration": 14,
    "start_time": "2022-04-10T09:28:59.183Z"
   },
   {
    "duration": 9,
    "start_time": "2022-04-10T09:28:59.198Z"
   },
   {
    "duration": 15,
    "start_time": "2022-04-10T09:28:59.210Z"
   },
   {
    "duration": 52,
    "start_time": "2022-04-10T09:28:59.227Z"
   },
   {
    "duration": 10,
    "start_time": "2022-04-10T09:28:59.280Z"
   },
   {
    "duration": 8,
    "start_time": "2022-04-10T09:28:59.291Z"
   },
   {
    "duration": 213,
    "start_time": "2022-04-10T09:28:59.300Z"
   },
   {
    "duration": 223,
    "start_time": "2022-04-10T09:28:59.515Z"
   },
   {
    "duration": 183,
    "start_time": "2022-04-10T09:28:59.739Z"
   },
   {
    "duration": 221,
    "start_time": "2022-04-10T09:28:59.923Z"
   },
   {
    "duration": 174,
    "start_time": "2022-04-10T09:29:00.147Z"
   },
   {
    "duration": 286,
    "start_time": "2022-04-10T09:29:00.322Z"
   },
   {
    "duration": 213,
    "start_time": "2022-04-10T09:29:00.610Z"
   },
   {
    "duration": 214,
    "start_time": "2022-04-10T09:29:00.825Z"
   },
   {
    "duration": 192,
    "start_time": "2022-04-10T09:29:01.041Z"
   },
   {
    "duration": 172,
    "start_time": "2022-04-10T09:29:01.234Z"
   },
   {
    "duration": 183,
    "start_time": "2022-04-10T09:29:01.407Z"
   },
   {
    "duration": 186,
    "start_time": "2022-04-10T09:29:01.592Z"
   },
   {
    "duration": 301,
    "start_time": "2022-04-10T09:29:01.780Z"
   },
   {
    "duration": 196,
    "start_time": "2022-04-10T09:29:02.082Z"
   },
   {
    "duration": 168,
    "start_time": "2022-04-10T09:29:02.281Z"
   },
   {
    "duration": 496,
    "start_time": "2022-04-10T09:29:02.450Z"
   },
   {
    "duration": 45,
    "start_time": "2022-04-10T09:29:02.948Z"
   },
   {
    "duration": 199,
    "start_time": "2022-04-10T09:29:02.995Z"
   },
   {
    "duration": 262,
    "start_time": "2022-04-10T09:29:03.196Z"
   },
   {
    "duration": 186,
    "start_time": "2022-04-10T09:29:03.460Z"
   },
   {
    "duration": 42,
    "start_time": "2022-04-10T09:29:03.648Z"
   },
   {
    "duration": 206,
    "start_time": "2022-04-10T09:29:03.692Z"
   },
   {
    "duration": 3,
    "start_time": "2022-04-10T09:29:03.900Z"
   },
   {
    "duration": 5,
    "start_time": "2022-04-10T09:29:03.905Z"
   },
   {
    "duration": 10,
    "start_time": "2022-04-10T09:29:03.911Z"
   },
   {
    "duration": 9,
    "start_time": "2022-04-10T09:29:03.924Z"
   },
   {
    "duration": 49,
    "start_time": "2022-04-10T09:29:03.935Z"
   },
   {
    "duration": 4379,
    "start_time": "2022-04-10T09:29:03.986Z"
   },
   {
    "duration": 40130,
    "start_time": "2022-04-10T09:29:08.367Z"
   },
   {
    "duration": 6468,
    "start_time": "2022-04-10T09:29:48.499Z"
   },
   {
    "duration": 1429,
    "start_time": "2022-04-10T09:37:59.615Z"
   },
   {
    "duration": 16,
    "start_time": "2022-04-10T09:38:01.046Z"
   },
   {
    "duration": 723,
    "start_time": "2022-04-10T09:38:01.064Z"
   },
   {
    "duration": 43,
    "start_time": "2022-04-10T09:38:01.789Z"
   },
   {
    "duration": 56,
    "start_time": "2022-04-10T09:38:01.834Z"
   },
   {
    "duration": 34,
    "start_time": "2022-04-10T09:38:01.892Z"
   },
   {
    "duration": 35,
    "start_time": "2022-04-10T09:38:01.927Z"
   },
   {
    "duration": 17,
    "start_time": "2022-04-10T09:38:01.964Z"
   },
   {
    "duration": 9,
    "start_time": "2022-04-10T09:38:01.983Z"
   },
   {
    "duration": 15,
    "start_time": "2022-04-10T09:38:01.994Z"
   },
   {
    "duration": 56,
    "start_time": "2022-04-10T09:38:02.011Z"
   },
   {
    "duration": 12,
    "start_time": "2022-04-10T09:38:02.070Z"
   },
   {
    "duration": 8,
    "start_time": "2022-04-10T09:38:02.084Z"
   },
   {
    "duration": 199,
    "start_time": "2022-04-10T09:38:02.093Z"
   },
   {
    "duration": 200,
    "start_time": "2022-04-10T09:38:02.294Z"
   },
   {
    "duration": 183,
    "start_time": "2022-04-10T09:38:02.496Z"
   },
   {
    "duration": 194,
    "start_time": "2022-04-10T09:38:02.681Z"
   },
   {
    "duration": 156,
    "start_time": "2022-04-10T09:38:02.877Z"
   },
   {
    "duration": 268,
    "start_time": "2022-04-10T09:38:03.035Z"
   },
   {
    "duration": 176,
    "start_time": "2022-04-10T09:38:03.305Z"
   },
   {
    "duration": 194,
    "start_time": "2022-04-10T09:38:03.483Z"
   },
   {
    "duration": 207,
    "start_time": "2022-04-10T09:38:03.679Z"
   },
   {
    "duration": 153,
    "start_time": "2022-04-10T09:38:03.888Z"
   },
   {
    "duration": 184,
    "start_time": "2022-04-10T09:38:04.042Z"
   },
   {
    "duration": 173,
    "start_time": "2022-04-10T09:38:04.227Z"
   },
   {
    "duration": 202,
    "start_time": "2022-04-10T09:38:04.402Z"
   },
   {
    "duration": 180,
    "start_time": "2022-04-10T09:38:04.606Z"
   },
   {
    "duration": 158,
    "start_time": "2022-04-10T09:38:04.789Z"
   },
   {
    "duration": 482,
    "start_time": "2022-04-10T09:38:04.948Z"
   },
   {
    "duration": 48,
    "start_time": "2022-04-10T09:38:05.432Z"
   },
   {
    "duration": 184,
    "start_time": "2022-04-10T09:38:05.482Z"
   },
   {
    "duration": 190,
    "start_time": "2022-04-10T09:38:05.669Z"
   },
   {
    "duration": 189,
    "start_time": "2022-04-10T09:38:05.860Z"
   },
   {
    "duration": 40,
    "start_time": "2022-04-10T09:38:06.050Z"
   },
   {
    "duration": 193,
    "start_time": "2022-04-10T09:38:06.092Z"
   },
   {
    "duration": 3,
    "start_time": "2022-04-10T09:38:06.287Z"
   },
   {
    "duration": 6,
    "start_time": "2022-04-10T09:38:06.291Z"
   },
   {
    "duration": 7,
    "start_time": "2022-04-10T09:38:06.299Z"
   },
   {
    "duration": 8,
    "start_time": "2022-04-10T09:38:06.308Z"
   },
   {
    "duration": 19,
    "start_time": "2022-04-10T09:38:06.318Z"
   },
   {
    "duration": 4037,
    "start_time": "2022-04-10T09:38:06.339Z"
   },
   {
    "duration": 39667,
    "start_time": "2022-04-10T09:38:10.378Z"
   },
   {
    "duration": 6587,
    "start_time": "2022-04-10T09:38:50.047Z"
   },
   {
    "duration": 1540,
    "start_time": "2022-04-10T09:40:24.212Z"
   },
   {
    "duration": 13,
    "start_time": "2022-04-10T09:40:25.754Z"
   },
   {
    "duration": 661,
    "start_time": "2022-04-10T09:40:25.769Z"
   },
   {
    "duration": 52,
    "start_time": "2022-04-10T09:40:26.433Z"
   },
   {
    "duration": 33,
    "start_time": "2022-04-10T09:40:26.487Z"
   },
   {
    "duration": 53,
    "start_time": "2022-04-10T09:40:26.522Z"
   },
   {
    "duration": 9,
    "start_time": "2022-04-10T09:40:26.576Z"
   },
   {
    "duration": 16,
    "start_time": "2022-04-10T09:40:26.587Z"
   },
   {
    "duration": 10,
    "start_time": "2022-04-10T09:40:26.604Z"
   },
   {
    "duration": 47,
    "start_time": "2022-04-10T09:40:26.617Z"
   },
   {
    "duration": 22,
    "start_time": "2022-04-10T09:40:26.666Z"
   },
   {
    "duration": 10,
    "start_time": "2022-04-10T09:40:26.689Z"
   },
   {
    "duration": 9,
    "start_time": "2022-04-10T09:40:26.700Z"
   },
   {
    "duration": 214,
    "start_time": "2022-04-10T09:40:26.711Z"
   },
   {
    "duration": 194,
    "start_time": "2022-04-10T09:40:26.926Z"
   },
   {
    "duration": 185,
    "start_time": "2022-04-10T09:40:27.121Z"
   },
   {
    "duration": 207,
    "start_time": "2022-04-10T09:40:27.308Z"
   },
   {
    "duration": 163,
    "start_time": "2022-04-10T09:40:27.517Z"
   },
   {
    "duration": 262,
    "start_time": "2022-04-10T09:40:27.682Z"
   },
   {
    "duration": 192,
    "start_time": "2022-04-10T09:40:27.946Z"
   },
   {
    "duration": 202,
    "start_time": "2022-04-10T09:40:28.140Z"
   },
   {
    "duration": 214,
    "start_time": "2022-04-10T09:40:28.344Z"
   },
   {
    "duration": 165,
    "start_time": "2022-04-10T09:40:28.560Z"
   },
   {
    "duration": 190,
    "start_time": "2022-04-10T09:40:28.727Z"
   },
   {
    "duration": 180,
    "start_time": "2022-04-10T09:40:28.919Z"
   },
   {
    "duration": 205,
    "start_time": "2022-04-10T09:40:29.100Z"
   },
   {
    "duration": 190,
    "start_time": "2022-04-10T09:40:29.307Z"
   },
   {
    "duration": 158,
    "start_time": "2022-04-10T09:40:29.500Z"
   },
   {
    "duration": 513,
    "start_time": "2022-04-10T09:40:29.659Z"
   },
   {
    "duration": 35,
    "start_time": "2022-04-10T09:40:30.176Z"
   },
   {
    "duration": 198,
    "start_time": "2022-04-10T09:40:30.213Z"
   },
   {
    "duration": 197,
    "start_time": "2022-04-10T09:40:30.412Z"
   },
   {
    "duration": 197,
    "start_time": "2022-04-10T09:40:30.611Z"
   },
   {
    "duration": 29,
    "start_time": "2022-04-10T09:40:30.810Z"
   },
   {
    "duration": 184,
    "start_time": "2022-04-10T09:40:30.841Z"
   },
   {
    "duration": 3,
    "start_time": "2022-04-10T09:40:31.027Z"
   },
   {
    "duration": 8,
    "start_time": "2022-04-10T09:40:31.032Z"
   },
   {
    "duration": 27,
    "start_time": "2022-04-10T09:40:31.042Z"
   },
   {
    "duration": 34,
    "start_time": "2022-04-10T09:40:31.070Z"
   },
   {
    "duration": 31,
    "start_time": "2022-04-10T09:40:31.106Z"
   },
   {
    "duration": 4843,
    "start_time": "2022-04-10T09:40:31.139Z"
   },
   {
    "duration": 43835,
    "start_time": "2022-04-10T09:40:35.984Z"
   },
   {
    "duration": 6384,
    "start_time": "2022-04-10T09:41:19.821Z"
   },
   {
    "duration": 1499,
    "start_time": "2022-04-10T09:44:01.916Z"
   },
   {
    "duration": 9,
    "start_time": "2022-04-10T09:44:03.417Z"
   },
   {
    "duration": 694,
    "start_time": "2022-04-10T09:44:03.428Z"
   },
   {
    "duration": 55,
    "start_time": "2022-04-10T09:44:04.125Z"
   },
   {
    "duration": 38,
    "start_time": "2022-04-10T09:44:04.182Z"
   },
   {
    "duration": 63,
    "start_time": "2022-04-10T09:44:04.222Z"
   },
   {
    "duration": 9,
    "start_time": "2022-04-10T09:44:04.287Z"
   },
   {
    "duration": 33,
    "start_time": "2022-04-10T09:44:04.298Z"
   },
   {
    "duration": 24,
    "start_time": "2022-04-10T09:44:04.332Z"
   },
   {
    "duration": 31,
    "start_time": "2022-04-10T09:44:04.362Z"
   },
   {
    "duration": 22,
    "start_time": "2022-04-10T09:44:04.395Z"
   },
   {
    "duration": 10,
    "start_time": "2022-04-10T09:44:04.419Z"
   },
   {
    "duration": 31,
    "start_time": "2022-04-10T09:44:04.431Z"
   },
   {
    "duration": 199,
    "start_time": "2022-04-10T09:44:04.465Z"
   },
   {
    "duration": 194,
    "start_time": "2022-04-10T09:44:04.667Z"
   },
   {
    "duration": 189,
    "start_time": "2022-04-10T09:44:04.864Z"
   },
   {
    "duration": 205,
    "start_time": "2022-04-10T09:44:05.058Z"
   },
   {
    "duration": 160,
    "start_time": "2022-04-10T09:44:05.266Z"
   },
   {
    "duration": 282,
    "start_time": "2022-04-10T09:44:05.427Z"
   },
   {
    "duration": 200,
    "start_time": "2022-04-10T09:44:05.711Z"
   },
   {
    "duration": 196,
    "start_time": "2022-04-10T09:44:05.912Z"
   },
   {
    "duration": 192,
    "start_time": "2022-04-10T09:44:06.109Z"
   },
   {
    "duration": 168,
    "start_time": "2022-04-10T09:44:06.303Z"
   },
   {
    "duration": 181,
    "start_time": "2022-04-10T09:44:06.473Z"
   },
   {
    "duration": 177,
    "start_time": "2022-04-10T09:44:06.656Z"
   },
   {
    "duration": 194,
    "start_time": "2022-04-10T09:44:06.834Z"
   },
   {
    "duration": 179,
    "start_time": "2022-04-10T09:44:07.030Z"
   },
   {
    "duration": 175,
    "start_time": "2022-04-10T09:44:07.213Z"
   },
   {
    "duration": 480,
    "start_time": "2022-04-10T09:44:07.390Z"
   },
   {
    "duration": 35,
    "start_time": "2022-04-10T09:44:07.871Z"
   },
   {
    "duration": 199,
    "start_time": "2022-04-10T09:44:07.908Z"
   },
   {
    "duration": 189,
    "start_time": "2022-04-10T09:44:08.108Z"
   },
   {
    "duration": 198,
    "start_time": "2022-04-10T09:44:08.299Z"
   },
   {
    "duration": 29,
    "start_time": "2022-04-10T09:44:08.498Z"
   },
   {
    "duration": 205,
    "start_time": "2022-04-10T09:44:08.529Z"
   },
   {
    "duration": 3,
    "start_time": "2022-04-10T09:44:08.736Z"
   },
   {
    "duration": 5,
    "start_time": "2022-04-10T09:44:08.740Z"
   },
   {
    "duration": 16,
    "start_time": "2022-04-10T09:44:08.747Z"
   },
   {
    "duration": 14,
    "start_time": "2022-04-10T09:44:08.766Z"
   },
   {
    "duration": 20,
    "start_time": "2022-04-10T09:44:08.782Z"
   },
   {
    "duration": 4171,
    "start_time": "2022-04-10T09:44:08.804Z"
   },
   {
    "duration": 40116,
    "start_time": "2022-04-10T09:44:12.978Z"
   },
   {
    "duration": 6224,
    "start_time": "2022-04-10T09:44:53.096Z"
   },
   {
    "duration": 70,
    "start_time": "2022-04-11T10:02:01.124Z"
   },
   {
    "duration": 2081,
    "start_time": "2022-04-11T10:02:36.886Z"
   },
   {
    "duration": 15,
    "start_time": "2022-04-11T10:02:38.970Z"
   },
   {
    "duration": 800,
    "start_time": "2022-04-11T10:02:38.987Z"
   },
   {
    "duration": 77,
    "start_time": "2022-04-11T10:02:39.790Z"
   },
   {
    "duration": 58,
    "start_time": "2022-04-11T10:02:39.869Z"
   },
   {
    "duration": 50,
    "start_time": "2022-04-11T10:02:39.943Z"
   },
   {
    "duration": 13,
    "start_time": "2022-04-11T10:02:39.995Z"
   },
   {
    "duration": 44,
    "start_time": "2022-04-11T10:02:40.010Z"
   },
   {
    "duration": 13,
    "start_time": "2022-04-11T10:02:40.056Z"
   },
   {
    "duration": 29,
    "start_time": "2022-04-11T10:02:40.073Z"
   },
   {
    "duration": 57,
    "start_time": "2022-04-11T10:02:40.104Z"
   },
   {
    "duration": 16,
    "start_time": "2022-04-11T10:02:40.163Z"
   },
   {
    "duration": 11,
    "start_time": "2022-04-11T10:02:40.180Z"
   },
   {
    "duration": 373,
    "start_time": "2022-04-11T10:02:40.193Z"
   },
   {
    "duration": 296,
    "start_time": "2022-04-11T10:02:40.568Z"
   },
   {
    "duration": 325,
    "start_time": "2022-04-11T10:02:40.866Z"
   },
   {
    "duration": 323,
    "start_time": "2022-04-11T10:02:41.193Z"
   },
   {
    "duration": 412,
    "start_time": "2022-04-11T10:02:41.518Z"
   },
   {
    "duration": 279,
    "start_time": "2022-04-11T10:02:41.932Z"
   },
   {
    "duration": 321,
    "start_time": "2022-04-11T10:02:42.213Z"
   },
   {
    "duration": 318,
    "start_time": "2022-04-11T10:02:42.536Z"
   },
   {
    "duration": 334,
    "start_time": "2022-04-11T10:02:42.856Z"
   },
   {
    "duration": 342,
    "start_time": "2022-04-11T10:02:43.193Z"
   },
   {
    "duration": 286,
    "start_time": "2022-04-11T10:02:43.543Z"
   },
   {
    "duration": 316,
    "start_time": "2022-04-11T10:02:43.832Z"
   },
   {
    "duration": 314,
    "start_time": "2022-04-11T10:02:44.150Z"
   },
   {
    "duration": 352,
    "start_time": "2022-04-11T10:02:44.466Z"
   },
   {
    "duration": 325,
    "start_time": "2022-04-11T10:02:44.826Z"
   },
   {
    "duration": 410,
    "start_time": "2022-04-11T10:02:45.154Z"
   },
   {
    "duration": 723,
    "start_time": "2022-04-11T10:02:45.567Z"
   },
   {
    "duration": 65,
    "start_time": "2022-04-11T10:02:46.292Z"
   },
   {
    "duration": 310,
    "start_time": "2022-04-11T10:02:46.359Z"
   },
   {
    "duration": 323,
    "start_time": "2022-04-11T10:02:46.672Z"
   },
   {
    "duration": 320,
    "start_time": "2022-04-11T10:02:46.997Z"
   },
   {
    "duration": 54,
    "start_time": "2022-04-11T10:02:47.320Z"
   },
   {
    "duration": 335,
    "start_time": "2022-04-11T10:02:47.376Z"
   },
   {
    "duration": 5,
    "start_time": "2022-04-11T10:02:47.714Z"
   },
   {
    "duration": 9,
    "start_time": "2022-04-11T10:02:47.721Z"
   },
   {
    "duration": 10,
    "start_time": "2022-04-11T10:02:47.743Z"
   },
   {
    "duration": 12,
    "start_time": "2022-04-11T10:02:47.756Z"
   },
   {
    "duration": 26,
    "start_time": "2022-04-11T10:02:47.770Z"
   },
   {
    "duration": 6,
    "start_time": "2022-04-11T10:07:02.736Z"
   },
   {
    "duration": 156,
    "start_time": "2022-04-11T10:08:47.540Z"
   },
   {
    "duration": 1158,
    "start_time": "2022-04-11T10:08:59.750Z"
   },
   {
    "duration": 14,
    "start_time": "2022-04-11T10:16:04.705Z"
   },
   {
    "duration": 6,
    "start_time": "2022-04-11T10:16:20.403Z"
   },
   {
    "duration": 18,
    "start_time": "2022-04-11T10:16:35.976Z"
   },
   {
    "duration": 15,
    "start_time": "2022-04-11T10:17:33.519Z"
   },
   {
    "duration": 5,
    "start_time": "2022-04-11T10:17:42.010Z"
   },
   {
    "duration": 342,
    "start_time": "2022-04-11T10:17:43.654Z"
   },
   {
    "duration": 255,
    "start_time": "2022-04-11T10:18:06.758Z"
   },
   {
    "duration": 1264,
    "start_time": "2022-04-11T10:19:20.416Z"
   },
   {
    "duration": 413,
    "start_time": "2022-04-11T10:19:21.683Z"
   },
   {
    "duration": 1263,
    "start_time": "2022-04-11T10:20:39.109Z"
   },
   {
    "duration": 272,
    "start_time": "2022-04-11T10:20:42.689Z"
   },
   {
    "duration": 6,
    "start_time": "2022-04-11T10:22:58.061Z"
   },
   {
    "duration": 280,
    "start_time": "2022-04-11T10:23:01.211Z"
   },
   {
    "duration": 5,
    "start_time": "2022-04-11T10:23:15.903Z"
   },
   {
    "duration": 1123,
    "start_time": "2022-04-11T10:23:17.168Z"
   },
   {
    "duration": 294,
    "start_time": "2022-04-11T10:23:18.294Z"
   },
   {
    "duration": 1915,
    "start_time": "2022-04-11T10:23:36.305Z"
   },
   {
    "duration": 23,
    "start_time": "2022-04-11T10:23:38.222Z"
   },
   {
    "duration": 780,
    "start_time": "2022-04-11T10:23:38.247Z"
   },
   {
    "duration": 67,
    "start_time": "2022-04-11T10:23:39.029Z"
   },
   {
    "duration": 75,
    "start_time": "2022-04-11T10:23:39.098Z"
   },
   {
    "duration": 71,
    "start_time": "2022-04-11T10:23:39.175Z"
   },
   {
    "duration": 12,
    "start_time": "2022-04-11T10:23:39.248Z"
   },
   {
    "duration": 17,
    "start_time": "2022-04-11T10:23:39.262Z"
   },
   {
    "duration": 12,
    "start_time": "2022-04-11T10:23:39.281Z"
   },
   {
    "duration": 61,
    "start_time": "2022-04-11T10:23:39.297Z"
   },
   {
    "duration": 23,
    "start_time": "2022-04-11T10:23:39.360Z"
   },
   {
    "duration": 14,
    "start_time": "2022-04-11T10:23:39.385Z"
   },
   {
    "duration": 42,
    "start_time": "2022-04-11T10:23:39.401Z"
   },
   {
    "duration": 21,
    "start_time": "2022-04-11T10:23:39.445Z"
   },
   {
    "duration": 29,
    "start_time": "2022-04-11T10:23:39.468Z"
   },
   {
    "duration": 1192,
    "start_time": "2022-04-11T10:23:39.499Z"
   },
   {
    "duration": 372,
    "start_time": "2022-04-11T10:23:40.693Z"
   },
   {
    "duration": 1185,
    "start_time": "2022-04-11T10:23:41.067Z"
   },
   {
    "duration": 331,
    "start_time": "2022-04-11T10:23:42.255Z"
   },
   {
    "duration": 1456,
    "start_time": "2022-04-11T10:23:42.589Z"
   },
   {
    "duration": 315,
    "start_time": "2022-04-11T10:23:44.047Z"
   },
   {
    "duration": 722,
    "start_time": "2022-04-11T10:23:44.364Z"
   },
   {
    "duration": 70,
    "start_time": "2022-04-11T10:23:45.088Z"
   },
   {
    "duration": 313,
    "start_time": "2022-04-11T10:23:45.160Z"
   },
   {
    "duration": 333,
    "start_time": "2022-04-11T10:23:45.475Z"
   },
   {
    "duration": 319,
    "start_time": "2022-04-11T10:23:45.810Z"
   },
   {
    "duration": 53,
    "start_time": "2022-04-11T10:23:46.131Z"
   },
   {
    "duration": 337,
    "start_time": "2022-04-11T10:23:46.189Z"
   },
   {
    "duration": 5,
    "start_time": "2022-04-11T10:23:46.528Z"
   },
   {
    "duration": 4,
    "start_time": "2022-04-11T10:23:46.543Z"
   },
   {
    "duration": 13,
    "start_time": "2022-04-11T10:23:46.549Z"
   },
   {
    "duration": 24,
    "start_time": "2022-04-11T10:23:46.564Z"
   },
   {
    "duration": 38,
    "start_time": "2022-04-11T10:23:46.590Z"
   },
   {
    "duration": 5,
    "start_time": "2022-04-11T10:29:33.525Z"
   },
   {
    "duration": 1043,
    "start_time": "2022-04-11T10:30:02.557Z"
   },
   {
    "duration": 7,
    "start_time": "2022-04-11T10:30:36.156Z"
   },
   {
    "duration": 1230,
    "start_time": "2022-04-11T10:30:37.220Z"
   },
   {
    "duration": 7,
    "start_time": "2022-04-11T10:31:42.277Z"
   },
   {
    "duration": 1340,
    "start_time": "2022-04-11T10:31:43.317Z"
   },
   {
    "duration": 6,
    "start_time": "2022-04-11T10:32:03.456Z"
   },
   {
    "duration": 1163,
    "start_time": "2022-04-11T10:32:03.468Z"
   },
   {
    "duration": 6,
    "start_time": "2022-04-11T10:32:21.595Z"
   },
   {
    "duration": 1313,
    "start_time": "2022-04-11T10:32:21.614Z"
   },
   {
    "duration": 1895,
    "start_time": "2022-04-11T10:33:08.969Z"
   },
   {
    "duration": 16,
    "start_time": "2022-04-11T10:33:10.867Z"
   },
   {
    "duration": 808,
    "start_time": "2022-04-11T10:33:10.886Z"
   },
   {
    "duration": 67,
    "start_time": "2022-04-11T10:33:11.696Z"
   },
   {
    "duration": 95,
    "start_time": "2022-04-11T10:33:11.768Z"
   },
   {
    "duration": 91,
    "start_time": "2022-04-11T10:33:11.866Z"
   },
   {
    "duration": 15,
    "start_time": "2022-04-11T10:33:11.960Z"
   },
   {
    "duration": 18,
    "start_time": "2022-04-11T10:33:11.977Z"
   },
   {
    "duration": 49,
    "start_time": "2022-04-11T10:33:11.997Z"
   },
   {
    "duration": 20,
    "start_time": "2022-04-11T10:33:12.049Z"
   },
   {
    "duration": 24,
    "start_time": "2022-04-11T10:33:12.071Z"
   },
   {
    "duration": 47,
    "start_time": "2022-04-11T10:33:12.097Z"
   },
   {
    "duration": 11,
    "start_time": "2022-04-11T10:33:12.147Z"
   },
   {
    "duration": 7,
    "start_time": "2022-04-11T10:33:12.162Z"
   },
   {
    "duration": 8,
    "start_time": "2022-04-11T10:33:12.171Z"
   },
   {
    "duration": 1187,
    "start_time": "2022-04-11T10:33:12.181Z"
   },
   {
    "duration": 377,
    "start_time": "2022-04-11T10:33:13.370Z"
   },
   {
    "duration": 1168,
    "start_time": "2022-04-11T10:33:13.749Z"
   },
   {
    "duration": 407,
    "start_time": "2022-04-11T10:33:14.919Z"
   },
   {
    "duration": 1371,
    "start_time": "2022-04-11T10:33:15.328Z"
   },
   {
    "duration": 424,
    "start_time": "2022-04-11T10:33:16.701Z"
   },
   {
    "duration": 735,
    "start_time": "2022-04-11T10:33:17.128Z"
   },
   {
    "duration": 54,
    "start_time": "2022-04-11T10:33:17.865Z"
   },
   {
    "duration": 24,
    "start_time": "2022-04-11T10:33:17.921Z"
   },
   {
    "duration": 1041,
    "start_time": "2022-04-11T10:33:17.948Z"
   },
   {
    "duration": 67,
    "start_time": "2022-04-11T10:33:18.992Z"
   },
   {
    "duration": 344,
    "start_time": "2022-04-11T10:33:19.061Z"
   },
   {
    "duration": 6,
    "start_time": "2022-04-11T10:33:19.408Z"
   },
   {
    "duration": 26,
    "start_time": "2022-04-11T10:33:19.416Z"
   },
   {
    "duration": 10,
    "start_time": "2022-04-11T10:33:19.445Z"
   },
   {
    "duration": 12,
    "start_time": "2022-04-11T10:33:19.457Z"
   },
   {
    "duration": 27,
    "start_time": "2022-04-11T10:33:19.472Z"
   },
   {
    "duration": 179,
    "start_time": "2022-04-11T10:34:24.068Z"
   },
   {
    "duration": 2071,
    "start_time": "2022-04-11T10:37:03.595Z"
   },
   {
    "duration": 15,
    "start_time": "2022-04-11T10:37:05.668Z"
   },
   {
    "duration": 835,
    "start_time": "2022-04-11T10:37:05.685Z"
   },
   {
    "duration": 67,
    "start_time": "2022-04-11T10:37:06.523Z"
   },
   {
    "duration": 67,
    "start_time": "2022-04-11T10:37:06.592Z"
   },
   {
    "duration": 53,
    "start_time": "2022-04-11T10:37:06.661Z"
   },
   {
    "duration": 37,
    "start_time": "2022-04-11T10:37:06.716Z"
   },
   {
    "duration": 17,
    "start_time": "2022-04-11T10:37:06.756Z"
   },
   {
    "duration": 13,
    "start_time": "2022-04-11T10:37:06.775Z"
   },
   {
    "duration": 60,
    "start_time": "2022-04-11T10:37:06.791Z"
   },
   {
    "duration": 24,
    "start_time": "2022-04-11T10:37:06.853Z"
   },
   {
    "duration": 15,
    "start_time": "2022-04-11T10:37:06.879Z"
   },
   {
    "duration": 11,
    "start_time": "2022-04-11T10:37:06.896Z"
   },
   {
    "duration": 6,
    "start_time": "2022-04-11T10:37:06.943Z"
   },
   {
    "duration": 9,
    "start_time": "2022-04-11T10:37:06.951Z"
   },
   {
    "duration": 1189,
    "start_time": "2022-04-11T10:37:06.962Z"
   },
   {
    "duration": 377,
    "start_time": "2022-04-11T10:37:08.153Z"
   },
   {
    "duration": 1157,
    "start_time": "2022-04-11T10:37:08.532Z"
   },
   {
    "duration": 307,
    "start_time": "2022-04-11T10:37:09.691Z"
   },
   {
    "duration": 1251,
    "start_time": "2022-04-11T10:37:10.001Z"
   },
   {
    "duration": 302,
    "start_time": "2022-04-11T10:37:11.254Z"
   },
   {
    "duration": 827,
    "start_time": "2022-04-11T10:37:11.559Z"
   },
   {
    "duration": 64,
    "start_time": "2022-04-11T10:37:12.389Z"
   },
   {
    "duration": 6,
    "start_time": "2022-04-11T10:37:12.456Z"
   },
   {
    "duration": 1008,
    "start_time": "2022-04-11T10:37:12.464Z"
   },
   {
    "duration": 44,
    "start_time": "2022-04-11T10:37:13.474Z"
   },
   {
    "duration": 354,
    "start_time": "2022-04-11T10:37:13.520Z"
   },
   {
    "duration": 5,
    "start_time": "2022-04-11T10:37:13.878Z"
   },
   {
    "duration": 6,
    "start_time": "2022-04-11T10:37:13.885Z"
   },
   {
    "duration": 9,
    "start_time": "2022-04-11T10:37:13.894Z"
   },
   {
    "duration": 9,
    "start_time": "2022-04-11T10:37:13.905Z"
   },
   {
    "duration": 75,
    "start_time": "2022-04-11T10:37:13.944Z"
   },
   {
    "duration": 2673,
    "start_time": "2022-04-11T10:52:54.801Z"
   },
   {
    "duration": 15,
    "start_time": "2022-04-11T10:52:57.477Z"
   },
   {
    "duration": 1040,
    "start_time": "2022-04-11T10:52:57.493Z"
   },
   {
    "duration": 66,
    "start_time": "2022-04-11T10:52:58.537Z"
   },
   {
    "duration": 82,
    "start_time": "2022-04-11T10:52:58.606Z"
   },
   {
    "duration": 66,
    "start_time": "2022-04-11T10:52:58.690Z"
   },
   {
    "duration": 9,
    "start_time": "2022-04-11T10:52:58.759Z"
   },
   {
    "duration": 19,
    "start_time": "2022-04-11T10:52:58.771Z"
   },
   {
    "duration": 52,
    "start_time": "2022-04-11T10:52:58.792Z"
   },
   {
    "duration": 20,
    "start_time": "2022-04-11T10:52:58.850Z"
   },
   {
    "duration": 24,
    "start_time": "2022-04-11T10:52:58.872Z"
   },
   {
    "duration": 53,
    "start_time": "2022-04-11T10:52:58.898Z"
   },
   {
    "duration": 13,
    "start_time": "2022-04-11T10:52:58.953Z"
   },
   {
    "duration": 6,
    "start_time": "2022-04-11T10:52:58.968Z"
   },
   {
    "duration": 7,
    "start_time": "2022-04-11T10:52:58.976Z"
   },
   {
    "duration": 1346,
    "start_time": "2022-04-11T10:52:58.984Z"
   },
   {
    "duration": 481,
    "start_time": "2022-04-11T10:53:00.332Z"
   },
   {
    "duration": 1230,
    "start_time": "2022-04-11T10:53:00.815Z"
   },
   {
    "duration": 318,
    "start_time": "2022-04-11T10:53:02.047Z"
   },
   {
    "duration": 1299,
    "start_time": "2022-04-11T10:53:02.367Z"
   },
   {
    "duration": 308,
    "start_time": "2022-04-11T10:53:03.668Z"
   },
   {
    "duration": 737,
    "start_time": "2022-04-11T10:53:03.979Z"
   },
   {
    "duration": 70,
    "start_time": "2022-04-11T10:53:04.719Z"
   },
   {
    "duration": 7,
    "start_time": "2022-04-11T10:53:04.793Z"
   },
   {
    "duration": 1080,
    "start_time": "2022-04-11T10:53:04.804Z"
   },
   {
    "duration": 68,
    "start_time": "2022-04-11T10:53:05.886Z"
   },
   {
    "duration": 341,
    "start_time": "2022-04-11T10:53:05.956Z"
   },
   {
    "duration": 4,
    "start_time": "2022-04-11T10:53:06.302Z"
   },
   {
    "duration": 6,
    "start_time": "2022-04-11T10:53:06.308Z"
   },
   {
    "duration": 28,
    "start_time": "2022-04-11T10:53:06.317Z"
   },
   {
    "duration": 8,
    "start_time": "2022-04-11T10:53:06.348Z"
   },
   {
    "duration": 29,
    "start_time": "2022-04-11T10:53:06.358Z"
   },
   {
    "duration": 3058,
    "start_time": "2022-04-11T10:53:06.389Z"
   },
   {
    "duration": 7953,
    "start_time": "2022-04-11T10:53:09.450Z"
   }
  ],
  "kernelspec": {
   "display_name": "Python 3 (ipykernel)",
   "language": "python",
   "name": "python3"
  },
  "language_info": {
   "codemirror_mode": {
    "name": "ipython",
    "version": 3
   },
   "file_extension": ".py",
   "mimetype": "text/x-python",
   "name": "python",
   "nbconvert_exporter": "python",
   "pygments_lexer": "ipython3",
   "version": "3.9.12"
  },
  "toc": {
   "base_numbering": 1,
   "nav_menu": {},
   "number_sections": true,
   "sideBar": true,
   "skip_h1_title": true,
   "title_cell": "Содержание",
   "title_sidebar": "Contents",
   "toc_cell": true,
   "toc_position": {},
   "toc_section_display": true,
   "toc_window_display": false
  }
 },
 "nbformat": 4,
 "nbformat_minor": 2
}
