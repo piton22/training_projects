{
 "cells": [
  {
   "cell_type": "markdown",
   "metadata": {},
   "source": [
    "# Рекомендация тарифов"
   ]
  },
  {
   "cell_type": "markdown",
   "metadata": {},
   "source": [
    "Оператор сотовой связи предоставляет данные о поведении клиентов, которые используют новые тарифы smart и ultra. Однако часть клиентов компании до сих пор пользуется устаревшими тарифами. Наша задача - построить модель классификации, которая выберет подходящий тариф для пользователя. "
   ]
  },
  {
   "cell_type": "markdown",
   "metadata": {},
   "source": [
    "## Открываем и изучаем файл"
   ]
  },
  {
   "cell_type": "code",
   "execution_count": 1,
   "metadata": {
    "scrolled": false
   },
   "outputs": [],
   "source": [
    "import pandas as pd\n",
    "from sklearn.model_selection import train_test_split\n",
    "from sklearn.tree import DecisionTreeClassifier\n",
    "from sklearn.ensemble import RandomForestClassifier\n",
    "from sklearn.linear_model import LogisticRegression\n",
    "from sklearn.metrics import accuracy_score"
   ]
  },
  {
   "cell_type": "markdown",
   "metadata": {},
   "source": [
    "Читаем и изучаем файл"
   ]
  },
  {
   "cell_type": "code",
   "execution_count": 2,
   "metadata": {},
   "outputs": [],
   "source": [
    "try:\n",
    "    df = pd.read_csv('/datasets/users_behavior.csv')\n",
    "except:\n",
    "    df = pd.read_csv('C:\\\\Users\\\\Дмитрий\\\\Desktop\\\\Проекты Я.Практикум\\\\tariff_recommendation\\\\users_behavior.csv')"
   ]
  },
  {
   "cell_type": "code",
   "execution_count": 3,
   "metadata": {},
   "outputs": [
    {
     "data": {
      "text/html": [
       "<div>\n",
       "<style scoped>\n",
       "    .dataframe tbody tr th:only-of-type {\n",
       "        vertical-align: middle;\n",
       "    }\n",
       "\n",
       "    .dataframe tbody tr th {\n",
       "        vertical-align: top;\n",
       "    }\n",
       "\n",
       "    .dataframe thead th {\n",
       "        text-align: right;\n",
       "    }\n",
       "</style>\n",
       "<table border=\"1\" class=\"dataframe\">\n",
       "  <thead>\n",
       "    <tr style=\"text-align: right;\">\n",
       "      <th></th>\n",
       "      <th>calls</th>\n",
       "      <th>minutes</th>\n",
       "      <th>messages</th>\n",
       "      <th>mb_used</th>\n",
       "      <th>is_ultra</th>\n",
       "    </tr>\n",
       "  </thead>\n",
       "  <tbody>\n",
       "    <tr>\n",
       "      <th>0</th>\n",
       "      <td>40.0</td>\n",
       "      <td>311.90</td>\n",
       "      <td>83.0</td>\n",
       "      <td>19915.42</td>\n",
       "      <td>0</td>\n",
       "    </tr>\n",
       "    <tr>\n",
       "      <th>1</th>\n",
       "      <td>85.0</td>\n",
       "      <td>516.75</td>\n",
       "      <td>56.0</td>\n",
       "      <td>22696.96</td>\n",
       "      <td>0</td>\n",
       "    </tr>\n",
       "    <tr>\n",
       "      <th>2</th>\n",
       "      <td>77.0</td>\n",
       "      <td>467.66</td>\n",
       "      <td>86.0</td>\n",
       "      <td>21060.45</td>\n",
       "      <td>0</td>\n",
       "    </tr>\n",
       "    <tr>\n",
       "      <th>3</th>\n",
       "      <td>106.0</td>\n",
       "      <td>745.53</td>\n",
       "      <td>81.0</td>\n",
       "      <td>8437.39</td>\n",
       "      <td>1</td>\n",
       "    </tr>\n",
       "    <tr>\n",
       "      <th>4</th>\n",
       "      <td>66.0</td>\n",
       "      <td>418.74</td>\n",
       "      <td>1.0</td>\n",
       "      <td>14502.75</td>\n",
       "      <td>0</td>\n",
       "    </tr>\n",
       "    <tr>\n",
       "      <th>...</th>\n",
       "      <td>...</td>\n",
       "      <td>...</td>\n",
       "      <td>...</td>\n",
       "      <td>...</td>\n",
       "      <td>...</td>\n",
       "    </tr>\n",
       "    <tr>\n",
       "      <th>3209</th>\n",
       "      <td>122.0</td>\n",
       "      <td>910.98</td>\n",
       "      <td>20.0</td>\n",
       "      <td>35124.90</td>\n",
       "      <td>1</td>\n",
       "    </tr>\n",
       "    <tr>\n",
       "      <th>3210</th>\n",
       "      <td>25.0</td>\n",
       "      <td>190.36</td>\n",
       "      <td>0.0</td>\n",
       "      <td>3275.61</td>\n",
       "      <td>0</td>\n",
       "    </tr>\n",
       "    <tr>\n",
       "      <th>3211</th>\n",
       "      <td>97.0</td>\n",
       "      <td>634.44</td>\n",
       "      <td>70.0</td>\n",
       "      <td>13974.06</td>\n",
       "      <td>0</td>\n",
       "    </tr>\n",
       "    <tr>\n",
       "      <th>3212</th>\n",
       "      <td>64.0</td>\n",
       "      <td>462.32</td>\n",
       "      <td>90.0</td>\n",
       "      <td>31239.78</td>\n",
       "      <td>0</td>\n",
       "    </tr>\n",
       "    <tr>\n",
       "      <th>3213</th>\n",
       "      <td>80.0</td>\n",
       "      <td>566.09</td>\n",
       "      <td>6.0</td>\n",
       "      <td>29480.52</td>\n",
       "      <td>1</td>\n",
       "    </tr>\n",
       "  </tbody>\n",
       "</table>\n",
       "<p>3214 rows × 5 columns</p>\n",
       "</div>"
      ],
      "text/plain": [
       "      calls  minutes  messages   mb_used  is_ultra\n",
       "0      40.0   311.90      83.0  19915.42         0\n",
       "1      85.0   516.75      56.0  22696.96         0\n",
       "2      77.0   467.66      86.0  21060.45         0\n",
       "3     106.0   745.53      81.0   8437.39         1\n",
       "4      66.0   418.74       1.0  14502.75         0\n",
       "...     ...      ...       ...       ...       ...\n",
       "3209  122.0   910.98      20.0  35124.90         1\n",
       "3210   25.0   190.36       0.0   3275.61         0\n",
       "3211   97.0   634.44      70.0  13974.06         0\n",
       "3212   64.0   462.32      90.0  31239.78         0\n",
       "3213   80.0   566.09       6.0  29480.52         1\n",
       "\n",
       "[3214 rows x 5 columns]"
      ]
     },
     "metadata": {},
     "output_type": "display_data"
    },
    {
     "data": {
      "text/plain": [
       "calls       0.0\n",
       "minutes     0.0\n",
       "messages    0.0\n",
       "mb_used     0.0\n",
       "is_ultra    0.0\n",
       "dtype: float64"
      ]
     },
     "metadata": {},
     "output_type": "display_data"
    },
    {
     "name": "stdout",
     "output_type": "stream",
     "text": [
      "<class 'pandas.core.frame.DataFrame'>\n",
      "RangeIndex: 3214 entries, 0 to 3213\n",
      "Data columns (total 5 columns):\n",
      " #   Column    Non-Null Count  Dtype  \n",
      "---  ------    --------------  -----  \n",
      " 0   calls     3214 non-null   float64\n",
      " 1   minutes   3214 non-null   float64\n",
      " 2   messages  3214 non-null   float64\n",
      " 3   mb_used   3214 non-null   float64\n",
      " 4   is_ultra  3214 non-null   int64  \n",
      "dtypes: float64(4), int64(1)\n",
      "memory usage: 125.7 KB\n"
     ]
    }
   ],
   "source": [
    "display(df)\n",
    "display(df.isna().mean())\n",
    "df.info()"
   ]
  },
  {
   "cell_type": "markdown",
   "metadata": {},
   "source": [
    "\n",
    "Так как тествой выборки у нас нет, то разбиваем исходный датафрейм на тренировочную, валидационную и тестовую выборки в соотношении 3:1:1."
   ]
  },
  {
   "cell_type": "markdown",
   "metadata": {},
   "source": [
    "## Разбиваем данные на выборки"
   ]
  },
  {
   "cell_type": "markdown",
   "metadata": {},
   "source": [
    "Разбиваем данные на выборки"
   ]
  },
  {
   "cell_type": "code",
   "execution_count": 4,
   "metadata": {},
   "outputs": [
    {
     "name": "stdout",
     "output_type": "stream",
     "text": [
      "(1928, 5)\n",
      "(643, 5)\n",
      "(643, 5)\n"
     ]
    }
   ],
   "source": [
    "df_train, df_valid_test = train_test_split(df, test_size=0.4, random_state=12345)\n",
    "df_valid, df_test = train_test_split(df_valid_test, test_size=0.5, random_state=12345)\n",
    "print(df_train.shape)\n",
    "print(df_valid.shape)\n",
    "print(df_test.shape)"
   ]
  },
  {
   "cell_type": "markdown",
   "metadata": {},
   "source": [
    "## Исследуем модели"
   ]
  },
  {
   "cell_type": "markdown",
   "metadata": {},
   "source": [
    "Выделяем целевой признак и остальные"
   ]
  },
  {
   "cell_type": "code",
   "execution_count": 5,
   "metadata": {},
   "outputs": [],
   "source": [
    "feature_train = df_train.drop(['is_ultra'], axis=1)\n",
    "target_train = df_train['is_ultra']\n",
    "feature_valid = df_valid.drop(['is_ultra'], axis=1)\n",
    "target_valid = df_valid['is_ultra']\n",
    "feature_test = df_test.drop(['is_ultra'], axis=1)\n",
    "target_test = df_test['is_ultra']"
   ]
  },
  {
   "cell_type": "markdown",
   "metadata": {},
   "source": [
    "### Дерево решений"
   ]
  },
  {
   "cell_type": "code",
   "execution_count": 6,
   "metadata": {},
   "outputs": [
    {
     "name": "stdout",
     "output_type": "stream",
     "text": [
      "best_depth = 3 : 0.7853810264385692\n"
     ]
    }
   ],
   "source": [
    "best_model_1 = None\n",
    "best_result_1 = 0\n",
    "best_depth_1 = 0\n",
    "for depth in range(1,11):\n",
    "    model_1 = DecisionTreeClassifier(random_state=12345, max_depth=depth)\n",
    "    model_1.fit(feature_train, target_train)\n",
    "    predictions_valid_1 = model_1.predict(feature_valid)\n",
    "    result_1 = accuracy_score(target_valid, predictions_valid_1)\n",
    "    if result_1 > best_result_1:\n",
    "        best_model_1 = model_1\n",
    "        best_result_1 = result_1\n",
    "        best_depth_1 = depth  \n",
    "        \n",
    "print(\"best_depth =\", best_depth_1, \": \", end='')\n",
    "print(best_result_1) "
   ]
  },
  {
   "cell_type": "markdown",
   "metadata": {},
   "source": [
    "### Случайный лес"
   ]
  },
  {
   "cell_type": "code",
   "execution_count": 7,
   "metadata": {},
   "outputs": [
    {
     "name": "stdout",
     "output_type": "stream",
     "text": [
      "best_est = 40\n",
      "best_depth = 8\n",
      "0.8087091757387247\n"
     ]
    }
   ],
   "source": [
    "best_model_2 = None\n",
    "best_result_2 = 0\n",
    "best_depth_2 = 0\n",
    "for est in range(1, 51):\n",
    "    for depth in range(1,11):\n",
    "        model_2 = RandomForestClassifier(random_state=12345, \n",
    "                                         n_estimators=est, \n",
    "                                         max_depth=depth, \n",
    "                                         n_jobs=-1)  \n",
    "        model_2.fit(feature_train, target_train)  \n",
    "        predictions_valid_2 = model_2.predict(feature_valid)\n",
    "        result_2 = accuracy_score(target_valid, predictions_valid_2)  \n",
    "        if result_2 > best_result_2:\n",
    "            best_model_2 = model_2\n",
    "            best_result_2 = result_2\n",
    "            best_est_2 = est\n",
    "            best_depth_2 = depth\n",
    "\n",
    "print(\"best_est =\", best_est_2)\n",
    "print(\"best_depth =\", best_depth_2)\n",
    "print(best_result_2) "
   ]
  },
  {
   "cell_type": "markdown",
   "metadata": {},
   "source": [
    "### Логистическая регрессия"
   ]
  },
  {
   "cell_type": "code",
   "execution_count": 8,
   "metadata": {},
   "outputs": [
    {
     "name": "stdout",
     "output_type": "stream",
     "text": [
      "Accuracy: 0.7107309486780715\n"
     ]
    }
   ],
   "source": [
    "model_3 = LogisticRegression(random_state=12345)\n",
    "model_3.fit(feature_train, target_train) \n",
    "predictions_valid_3 = model_3.predict(feature_valid)\n",
    "result_3 = accuracy_score(target_valid, predictions_valid_3)  \n",
    "print('Accuracy:', result_3)"
   ]
  },
  {
   "cell_type": "markdown",
   "metadata": {},
   "source": [
    "### Выводы\n",
    "\n",
    "* Наибольшую точность из всех моделей показала модель случайного леса с 40 деревьями и глубиной 8: accuracy = 0.8087 (исследовались модели до 50 деревьев и глубины равной 10).\n",
    "\n",
    "* Модель \"решающее дерево\" показала свой лучший результат при глубине = 3: accuracy = 0.7854 (исследовались модели с глубиной до 10).\n",
    "\n",
    "* Модель логистической регрессии показала худший результат, равный 0.7589."
   ]
  },
  {
   "cell_type": "markdown",
   "metadata": {},
   "source": [
    "## Тестируем модель"
   ]
  },
  {
   "cell_type": "code",
   "execution_count": 9,
   "metadata": {},
   "outputs": [
    {
     "name": "stdout",
     "output_type": "stream",
     "text": [
      "0.7962674961119751\n"
     ]
    }
   ],
   "source": [
    "predictions_test_2 = best_model_2.predict(feature_test)\n",
    "result_test_2 = accuracy_score(target_test, predictions_test_2)  \n",
    "print(result_test_2)"
   ]
  },
  {
   "cell_type": "markdown",
   "metadata": {},
   "source": [
    "## Вывод\n",
    "\n",
    "* Полученные данные изучили и разбили на обучающую, валидационную и тестовую в соотношении 3:1:1.\n",
    "\n",
    "* Исследовали модели решающего дерева, случайного леса и логистической регрессии, меняя гиперпараметры в первых двух.\n",
    "Проверили модели на валидационной выборке.Лучшее значение accuracy показала модель случайного леса с 40 деревьями и глубиной 8 (0.8087). Далее следовали модели решающего дерева с глубиной 3 (0.7854) и логистической регрессии (0.7589). \n",
    "\n",
    "* Далее проверили лучшие модели на тестовой выборке. Значение accuracy незначительно упало и составило 0.7963. Модель не переобучилась и обладает достаточной для заказчика точностью."
   ]
  }
 ],
 "metadata": {
  "ExecuteTimeLog": [
   {
    "duration": 666,
    "start_time": "2022-02-26T11:23:24.270Z"
   },
   {
    "duration": 36,
    "start_time": "2022-02-26T11:23:35.126Z"
   },
   {
    "duration": 27,
    "start_time": "2022-02-26T11:24:02.024Z"
   },
   {
    "duration": 492,
    "start_time": "2022-02-26T11:29:31.424Z"
   },
   {
    "duration": 31,
    "start_time": "2022-02-26T11:29:34.069Z"
   },
   {
    "duration": 6,
    "start_time": "2022-02-26T11:30:35.118Z"
   },
   {
    "duration": 7,
    "start_time": "2022-02-26T11:31:26.754Z"
   },
   {
    "duration": 8,
    "start_time": "2022-02-26T11:32:10.321Z"
   },
   {
    "duration": 5,
    "start_time": "2022-02-26T11:40:04.711Z"
   },
   {
    "duration": 1112,
    "start_time": "2022-02-26T11:46:07.627Z"
   },
   {
    "duration": 36,
    "start_time": "2022-02-26T11:46:08.742Z"
   },
   {
    "duration": 6,
    "start_time": "2022-02-26T11:46:08.780Z"
   },
   {
    "duration": 4,
    "start_time": "2022-02-26T11:46:08.795Z"
   },
   {
    "duration": 340,
    "start_time": "2022-02-26T11:46:08.801Z"
   },
   {
    "duration": 63,
    "start_time": "2022-02-26T11:46:18.552Z"
   },
   {
    "duration": 104,
    "start_time": "2022-02-26T11:47:02.696Z"
   },
   {
    "duration": 237,
    "start_time": "2022-02-26T11:48:39.250Z"
   },
   {
    "duration": 65,
    "start_time": "2022-02-26T11:49:02.612Z"
   },
   {
    "duration": 55,
    "start_time": "2022-02-26T11:49:23.363Z"
   },
   {
    "duration": 48,
    "start_time": "2022-02-26T11:49:39.842Z"
   },
   {
    "duration": 57,
    "start_time": "2022-02-26T11:49:48.486Z"
   },
   {
    "duration": 58,
    "start_time": "2022-02-26T11:51:05.755Z"
   },
   {
    "duration": 68,
    "start_time": "2022-02-26T11:51:12.163Z"
   },
   {
    "duration": 59,
    "start_time": "2022-02-26T11:51:31.330Z"
   },
   {
    "duration": 59,
    "start_time": "2022-02-26T11:51:44.839Z"
   },
   {
    "duration": 57,
    "start_time": "2022-02-26T11:51:55.349Z"
   },
   {
    "duration": 132,
    "start_time": "2022-02-26T11:52:03.652Z"
   },
   {
    "duration": 183,
    "start_time": "2022-02-26T11:52:09.949Z"
   },
   {
    "duration": 56,
    "start_time": "2022-02-26T11:52:28.703Z"
   },
   {
    "duration": 191,
    "start_time": "2022-02-26T11:52:36.688Z"
   },
   {
    "duration": 57,
    "start_time": "2022-02-26T11:59:27.855Z"
   },
   {
    "duration": 58,
    "start_time": "2022-02-26T12:00:19.799Z"
   },
   {
    "duration": 4224,
    "start_time": "2022-02-26T12:06:17.164Z"
   },
   {
    "duration": 70,
    "start_time": "2022-02-26T12:06:21.390Z"
   },
   {
    "duration": 11,
    "start_time": "2022-02-26T12:06:21.462Z"
   },
   {
    "duration": 6,
    "start_time": "2022-02-26T12:06:21.475Z"
   },
   {
    "duration": 251,
    "start_time": "2022-02-26T12:06:21.483Z"
   },
   {
    "duration": 66,
    "start_time": "2022-02-26T12:06:32.739Z"
   },
   {
    "duration": 1113,
    "start_time": "2022-02-26T12:06:39.460Z"
   },
   {
    "duration": 39,
    "start_time": "2022-02-26T12:06:40.576Z"
   },
   {
    "duration": 6,
    "start_time": "2022-02-26T12:06:40.617Z"
   },
   {
    "duration": 9,
    "start_time": "2022-02-26T12:06:40.624Z"
   },
   {
    "duration": 75,
    "start_time": "2022-02-26T12:06:40.634Z"
   },
   {
    "duration": 57,
    "start_time": "2022-02-26T12:09:27.097Z"
   },
   {
    "duration": 234,
    "start_time": "2022-02-26T12:09:44.059Z"
   },
   {
    "duration": 362,
    "start_time": "2022-02-26T12:10:09.790Z"
   },
   {
    "duration": 217,
    "start_time": "2022-02-26T12:11:23.163Z"
   },
   {
    "duration": 310,
    "start_time": "2022-02-26T12:12:29.040Z"
   },
   {
    "duration": 280,
    "start_time": "2022-02-26T12:12:38.571Z"
   },
   {
    "duration": 324,
    "start_time": "2022-02-26T12:12:41.712Z"
   },
   {
    "duration": 265,
    "start_time": "2022-02-26T12:13:03.229Z"
   },
   {
    "duration": 330,
    "start_time": "2022-02-26T12:13:08.308Z"
   },
   {
    "duration": 53,
    "start_time": "2022-02-26T12:13:59.841Z"
   },
   {
    "duration": 227,
    "start_time": "2022-02-26T12:14:02.115Z"
   },
   {
    "duration": 236,
    "start_time": "2022-02-26T12:16:54.885Z"
   },
   {
    "duration": 762,
    "start_time": "2022-02-26T12:17:00.424Z"
   },
   {
    "duration": 4817,
    "start_time": "2022-02-26T12:17:12.015Z"
   },
   {
    "duration": 224,
    "start_time": "2022-02-26T12:20:25.793Z"
   },
   {
    "duration": 1128,
    "start_time": "2022-02-26T12:21:14.186Z"
   },
   {
    "duration": 36,
    "start_time": "2022-02-26T12:21:15.316Z"
   },
   {
    "duration": 10,
    "start_time": "2022-02-26T12:21:15.356Z"
   },
   {
    "duration": 16,
    "start_time": "2022-02-26T12:21:15.368Z"
   },
   {
    "duration": 323,
    "start_time": "2022-02-26T12:21:15.385Z"
   },
   {
    "duration": -867,
    "start_time": "2022-02-26T12:21:16.577Z"
   },
   {
    "duration": -869,
    "start_time": "2022-02-26T12:21:16.580Z"
   },
   {
    "duration": 1036,
    "start_time": "2022-02-26T12:21:31.090Z"
   },
   {
    "duration": 35,
    "start_time": "2022-02-26T12:21:32.128Z"
   },
   {
    "duration": 6,
    "start_time": "2022-02-26T12:21:32.165Z"
   },
   {
    "duration": 8,
    "start_time": "2022-02-26T12:21:32.173Z"
   },
   {
    "duration": 71,
    "start_time": "2022-02-26T12:21:32.183Z"
   },
   {
    "duration": 5164,
    "start_time": "2022-02-26T12:21:32.256Z"
   },
   {
    "duration": 238,
    "start_time": "2022-02-26T12:21:37.422Z"
   },
   {
    "duration": 278,
    "start_time": "2022-02-26T12:21:47.357Z"
   },
   {
    "duration": 14,
    "start_time": "2022-02-26T12:21:52.791Z"
   },
   {
    "duration": 13,
    "start_time": "2022-02-26T12:23:17.979Z"
   },
   {
    "duration": 14,
    "start_time": "2022-02-26T12:23:23.564Z"
   },
   {
    "duration": 13,
    "start_time": "2022-02-26T12:28:55.097Z"
   },
   {
    "duration": 4923,
    "start_time": "2022-02-26T12:28:58.724Z"
   },
   {
    "duration": 55,
    "start_time": "2022-02-26T12:29:07.811Z"
   },
   {
    "duration": 6,
    "start_time": "2022-02-26T12:30:54.486Z"
   },
   {
    "duration": 1085,
    "start_time": "2022-02-26T12:31:05.325Z"
   },
   {
    "duration": 36,
    "start_time": "2022-02-26T12:31:06.413Z"
   },
   {
    "duration": 9,
    "start_time": "2022-02-26T12:31:06.454Z"
   },
   {
    "duration": 19,
    "start_time": "2022-02-26T12:31:06.464Z"
   },
   {
    "duration": 68,
    "start_time": "2022-02-26T12:31:06.485Z"
   },
   {
    "duration": 5000,
    "start_time": "2022-02-26T12:31:06.554Z"
   },
   {
    "duration": 16,
    "start_time": "2022-02-26T12:31:11.564Z"
   },
   {
    "duration": 1096,
    "start_time": "2022-02-26T12:31:59.176Z"
   },
   {
    "duration": 36,
    "start_time": "2022-02-26T12:32:00.275Z"
   },
   {
    "duration": 7,
    "start_time": "2022-02-26T12:32:00.316Z"
   },
   {
    "duration": 10,
    "start_time": "2022-02-26T12:32:00.324Z"
   },
   {
    "duration": 69,
    "start_time": "2022-02-26T12:32:00.335Z"
   },
   {
    "duration": 4859,
    "start_time": "2022-02-26T12:32:00.405Z"
   },
   {
    "duration": 15,
    "start_time": "2022-02-26T12:32:05.267Z"
   },
   {
    "duration": 6,
    "start_time": "2022-02-26T12:34:11.048Z"
   },
   {
    "duration": 13,
    "start_time": "2022-02-26T12:35:23.338Z"
   },
   {
    "duration": 5,
    "start_time": "2022-02-26T12:36:55.200Z"
   },
   {
    "duration": 16,
    "start_time": "2022-02-26T12:39:55.109Z"
   },
   {
    "duration": 1018,
    "start_time": "2022-02-26T12:52:05.605Z"
   },
   {
    "duration": 32,
    "start_time": "2022-02-26T12:52:06.626Z"
   },
   {
    "duration": 6,
    "start_time": "2022-02-26T12:52:06.664Z"
   },
   {
    "duration": 8,
    "start_time": "2022-02-26T12:52:06.672Z"
   },
   {
    "duration": 58,
    "start_time": "2022-02-26T12:52:06.681Z"
   },
   {
    "duration": 4953,
    "start_time": "2022-02-26T12:52:06.741Z"
   },
   {
    "duration": 13,
    "start_time": "2022-02-26T12:52:11.696Z"
   },
   {
    "duration": 4,
    "start_time": "2022-02-26T12:52:11.712Z"
   },
   {
    "duration": 12,
    "start_time": "2022-02-26T12:52:11.718Z"
   },
   {
    "duration": 4,
    "start_time": "2022-02-26T12:52:11.732Z"
   },
   {
    "duration": 15,
    "start_time": "2022-02-26T13:04:16.872Z"
   },
   {
    "duration": 1090,
    "start_time": "2022-02-26T13:07:38.530Z"
   },
   {
    "duration": 36,
    "start_time": "2022-02-26T13:07:39.622Z"
   },
   {
    "duration": 8,
    "start_time": "2022-02-26T13:07:39.663Z"
   },
   {
    "duration": 8,
    "start_time": "2022-02-26T13:07:39.673Z"
   },
   {
    "duration": 61,
    "start_time": "2022-02-26T13:07:39.683Z"
   },
   {
    "duration": 4820,
    "start_time": "2022-02-26T13:07:39.746Z"
   },
   {
    "duration": 16,
    "start_time": "2022-02-26T13:07:44.567Z"
   },
   {
    "duration": 5,
    "start_time": "2022-02-26T13:07:44.585Z"
   },
   {
    "duration": 9,
    "start_time": "2022-02-26T13:07:44.593Z"
   },
   {
    "duration": 5,
    "start_time": "2022-02-26T13:07:44.603Z"
   },
   {
    "duration": 1073,
    "start_time": "2022-02-26T13:07:55.335Z"
   },
   {
    "duration": 31,
    "start_time": "2022-02-26T13:07:56.410Z"
   },
   {
    "duration": 17,
    "start_time": "2022-02-26T13:07:56.445Z"
   },
   {
    "duration": 6,
    "start_time": "2022-02-26T13:07:56.464Z"
   },
   {
    "duration": 63,
    "start_time": "2022-02-26T13:07:56.472Z"
   },
   {
    "duration": 4638,
    "start_time": "2022-02-26T13:07:56.536Z"
   },
   {
    "duration": 16,
    "start_time": "2022-02-26T13:08:01.176Z"
   },
   {
    "duration": 56,
    "start_time": "2022-02-26T13:08:01.195Z"
   },
   {
    "duration": 81,
    "start_time": "2022-02-26T13:08:01.254Z"
   },
   {
    "duration": 88,
    "start_time": "2022-02-26T13:08:01.337Z"
   },
   {
    "duration": 1058,
    "start_time": "2022-02-26T13:09:38.663Z"
   },
   {
    "duration": 39,
    "start_time": "2022-02-26T13:09:39.723Z"
   },
   {
    "duration": 7,
    "start_time": "2022-02-26T13:09:39.764Z"
   },
   {
    "duration": 8,
    "start_time": "2022-02-26T13:09:39.772Z"
   },
   {
    "duration": 59,
    "start_time": "2022-02-26T13:09:39.782Z"
   },
   {
    "duration": 5099,
    "start_time": "2022-02-26T13:09:39.843Z"
   },
   {
    "duration": 28,
    "start_time": "2022-02-26T13:09:44.944Z"
   },
   {
    "duration": 5,
    "start_time": "2022-02-26T13:09:44.974Z"
   },
   {
    "duration": 13,
    "start_time": "2022-02-26T13:09:44.980Z"
   },
   {
    "duration": 7,
    "start_time": "2022-02-26T13:09:44.995Z"
   },
   {
    "duration": 1054,
    "start_time": "2022-02-26T13:11:52.056Z"
   },
   {
    "duration": 29,
    "start_time": "2022-02-26T13:11:53.112Z"
   },
   {
    "duration": 29,
    "start_time": "2022-02-26T13:11:53.143Z"
   },
   {
    "duration": 42,
    "start_time": "2022-02-26T13:11:53.174Z"
   },
   {
    "duration": 58,
    "start_time": "2022-02-26T13:11:53.218Z"
   },
   {
    "duration": 4840,
    "start_time": "2022-02-26T13:11:53.278Z"
   },
   {
    "duration": 13,
    "start_time": "2022-02-26T13:11:58.120Z"
   },
   {
    "duration": 4,
    "start_time": "2022-02-26T13:11:58.135Z"
   },
   {
    "duration": 27,
    "start_time": "2022-02-26T13:11:58.141Z"
   },
   {
    "duration": 16,
    "start_time": "2022-02-26T13:11:58.170Z"
   },
   {
    "duration": 264,
    "start_time": "2022-02-26T16:55:57.276Z"
   },
   {
    "duration": 1113,
    "start_time": "2022-02-26T16:56:05.097Z"
   },
   {
    "duration": 33,
    "start_time": "2022-02-26T16:56:06.211Z"
   },
   {
    "duration": 8,
    "start_time": "2022-02-26T16:56:06.246Z"
   },
   {
    "duration": 4,
    "start_time": "2022-02-26T16:56:06.256Z"
   },
   {
    "duration": 78,
    "start_time": "2022-02-26T16:56:06.262Z"
   },
   {
    "duration": 4508,
    "start_time": "2022-02-26T16:56:06.342Z"
   },
   {
    "duration": 25,
    "start_time": "2022-02-26T16:56:10.852Z"
   },
   {
    "duration": 4,
    "start_time": "2022-02-26T16:56:10.879Z"
   },
   {
    "duration": 16,
    "start_time": "2022-02-26T16:56:10.885Z"
   },
   {
    "duration": 4,
    "start_time": "2022-02-26T16:56:10.902Z"
   },
   {
    "duration": 8,
    "start_time": "2022-02-26T16:56:29.467Z"
   },
   {
    "duration": 7,
    "start_time": "2022-02-26T16:57:02.422Z"
   },
   {
    "duration": 75,
    "start_time": "2022-02-26T16:57:50.212Z"
   },
   {
    "duration": 90,
    "start_time": "2022-02-26T16:57:52.380Z"
   },
   {
    "duration": 72,
    "start_time": "2022-02-26T16:58:01.880Z"
   },
   {
    "duration": 83,
    "start_time": "2022-02-26T16:58:05.445Z"
   },
   {
    "duration": 281,
    "start_time": "2022-02-27T09:36:37.222Z"
   },
   {
    "duration": 1100,
    "start_time": "2022-02-27T09:36:46.997Z"
   },
   {
    "duration": 77,
    "start_time": "2022-02-27T09:36:48.099Z"
   },
   {
    "duration": 6,
    "start_time": "2022-02-27T09:36:48.178Z"
   },
   {
    "duration": 5,
    "start_time": "2022-02-27T09:36:48.186Z"
   },
   {
    "duration": 68,
    "start_time": "2022-02-27T09:36:48.192Z"
   },
   {
    "duration": 11115,
    "start_time": "2022-02-27T09:36:48.262Z"
   },
   {
    "duration": 13,
    "start_time": "2022-02-27T09:36:59.378Z"
   },
   {
    "duration": 4,
    "start_time": "2022-02-27T09:36:59.393Z"
   },
   {
    "duration": 9,
    "start_time": "2022-02-27T09:36:59.399Z"
   },
   {
    "duration": 4,
    "start_time": "2022-02-27T09:36:59.409Z"
   },
   {
    "duration": 49016,
    "start_time": "2022-02-27T09:37:26.695Z"
   },
   {
    "duration": 1064,
    "start_time": "2022-02-27T09:44:03.541Z"
   },
   {
    "duration": 36,
    "start_time": "2022-02-27T09:44:04.607Z"
   },
   {
    "duration": 14,
    "start_time": "2022-02-27T09:44:04.645Z"
   },
   {
    "duration": 6,
    "start_time": "2022-02-27T09:44:04.661Z"
   },
   {
    "duration": 61,
    "start_time": "2022-02-27T09:44:04.668Z"
   },
   {
    "duration": 29160,
    "start_time": "2022-02-27T09:44:04.731Z"
   },
   {
    "duration": 14,
    "start_time": "2022-02-27T09:44:33.893Z"
   },
   {
    "duration": 5,
    "start_time": "2022-02-27T09:44:33.908Z"
   },
   {
    "duration": 10,
    "start_time": "2022-02-27T09:44:33.914Z"
   },
   {
    "duration": 4,
    "start_time": "2022-02-27T09:44:33.925Z"
   },
   {
    "duration": 1010,
    "start_time": "2022-02-27T09:52:30.091Z"
   },
   {
    "duration": 35,
    "start_time": "2022-02-27T09:52:31.103Z"
   },
   {
    "duration": 7,
    "start_time": "2022-02-27T09:52:31.139Z"
   },
   {
    "duration": 12,
    "start_time": "2022-02-27T09:52:31.147Z"
   },
   {
    "duration": 54,
    "start_time": "2022-02-27T09:52:31.160Z"
   },
   {
    "duration": 27781,
    "start_time": "2022-02-27T09:52:31.215Z"
   },
   {
    "duration": 15,
    "start_time": "2022-02-27T09:52:58.997Z"
   },
   {
    "duration": 5,
    "start_time": "2022-02-27T09:52:59.015Z"
   },
   {
    "duration": 11,
    "start_time": "2022-02-27T09:52:59.022Z"
   },
   {
    "duration": 26,
    "start_time": "2022-02-27T09:52:59.035Z"
   }
  ],
  "kernelspec": {
   "display_name": "Python 3 (ipykernel)",
   "language": "python",
   "name": "python3"
  },
  "language_info": {
   "codemirror_mode": {
    "name": "ipython",
    "version": 3
   },
   "file_extension": ".py",
   "mimetype": "text/x-python",
   "name": "python",
   "nbconvert_exporter": "python",
   "pygments_lexer": "ipython3",
   "version": "3.9.12"
  },
  "toc": {
   "base_numbering": 1,
   "nav_menu": {},
   "number_sections": true,
   "sideBar": true,
   "skip_h1_title": true,
   "title_cell": "Table of Contents",
   "title_sidebar": "Contents",
   "toc_cell": false,
   "toc_position": {},
   "toc_section_display": true,
   "toc_window_display": false
  }
 },
 "nbformat": 4,
 "nbformat_minor": 2
}
