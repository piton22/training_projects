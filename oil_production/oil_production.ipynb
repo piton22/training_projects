{
 "cells": [
  {
   "cell_type": "markdown",
   "metadata": {},
   "source": [
    "# Выбор локации для скважины"
   ]
  },
  {
   "cell_type": "markdown",
   "metadata": {},
   "source": [
    "Нефтяная компания предоставляет пробы нефти из трех регионов, в каждом из которых 10 000 месторождений. С помощью машинного обучения нужно определить, какой регион принесет наибольшую прибыль и проанализировать риски."
   ]
  },
  {
   "cell_type": "markdown",
   "metadata": {},
   "source": [
    "## Загрузка и подготовка данных"
   ]
  },
  {
   "cell_type": "code",
   "execution_count": 1,
   "metadata": {},
   "outputs": [],
   "source": [
    "#импортируем нужные библиотеки\n",
    "import pandas as pd\n",
    "from sklearn.model_selection import train_test_split\n",
    "from sklearn.preprocessing import StandardScaler\n",
    "from sklearn.linear_model import LinearRegression\n",
    "from sklearn.metrics import mean_squared_error\n",
    "import numpy as np"
   ]
  },
  {
   "cell_type": "code",
   "execution_count": 2,
   "metadata": {},
   "outputs": [],
   "source": [
    "#читаем и изучаем данные\n",
    "try: \n",
    "    r_1 = pd.read_csv('/datasets/geo_data_0.csv')\n",
    "    r_2 = pd.read_csv('/datasets/geo_data_1.csv')\n",
    "    r_3 = pd.read_csv('/datasets/geo_data_2.csv')\n",
    "except: \n",
    "    r_1 = pd.read_csv('C:\\\\Users\\\\Дмитрий\\\\Desktop\\\\Проекты Я.Практикум\\\\oil_production\\\\geo_data_0.csv')\n",
    "    r_2 = pd.read_csv('C:\\\\Users\\\\Дмитрий\\\\Desktop\\\\Проекты Я.Практикум\\\\oil_production\\\\geo_data_1.csv')\n",
    "    r_3 = pd.read_csv('C:\\\\Users\\\\Дмитрий\\\\Desktop\\\\Проекты Я.Практикум\\\\oil_production\\\\geo_data_2.csv')"
   ]
  },
  {
   "cell_type": "code",
   "execution_count": 3,
   "metadata": {},
   "outputs": [],
   "source": [
    "def info(data):\n",
    "    data.info()\n",
    "    display(data.isna().mean())\n",
    "    display(f'Число явных дубликатов: {data.duplicated().sum()}')\n",
    "    display(data)"
   ]
  },
  {
   "cell_type": "code",
   "execution_count": 4,
   "metadata": {
    "scrolled": true
   },
   "outputs": [
    {
     "name": "stdout",
     "output_type": "stream",
     "text": [
      "<class 'pandas.core.frame.DataFrame'>\n",
      "RangeIndex: 100000 entries, 0 to 99999\n",
      "Data columns (total 5 columns):\n",
      " #   Column   Non-Null Count   Dtype  \n",
      "---  ------   --------------   -----  \n",
      " 0   id       100000 non-null  object \n",
      " 1   f0       100000 non-null  float64\n",
      " 2   f1       100000 non-null  float64\n",
      " 3   f2       100000 non-null  float64\n",
      " 4   product  100000 non-null  float64\n",
      "dtypes: float64(4), object(1)\n",
      "memory usage: 3.8+ MB\n"
     ]
    },
    {
     "data": {
      "text/plain": [
       "id         0.0\n",
       "f0         0.0\n",
       "f1         0.0\n",
       "f2         0.0\n",
       "product    0.0\n",
       "dtype: float64"
      ]
     },
     "metadata": {},
     "output_type": "display_data"
    },
    {
     "data": {
      "text/plain": [
       "'Число явных дубликатов: 0'"
      ]
     },
     "metadata": {},
     "output_type": "display_data"
    },
    {
     "data": {
      "text/html": [
       "<div>\n",
       "<style scoped>\n",
       "    .dataframe tbody tr th:only-of-type {\n",
       "        vertical-align: middle;\n",
       "    }\n",
       "\n",
       "    .dataframe tbody tr th {\n",
       "        vertical-align: top;\n",
       "    }\n",
       "\n",
       "    .dataframe thead th {\n",
       "        text-align: right;\n",
       "    }\n",
       "</style>\n",
       "<table border=\"1\" class=\"dataframe\">\n",
       "  <thead>\n",
       "    <tr style=\"text-align: right;\">\n",
       "      <th></th>\n",
       "      <th>id</th>\n",
       "      <th>f0</th>\n",
       "      <th>f1</th>\n",
       "      <th>f2</th>\n",
       "      <th>product</th>\n",
       "    </tr>\n",
       "  </thead>\n",
       "  <tbody>\n",
       "    <tr>\n",
       "      <th>0</th>\n",
       "      <td>txEyH</td>\n",
       "      <td>0.705745</td>\n",
       "      <td>-0.497823</td>\n",
       "      <td>1.221170</td>\n",
       "      <td>105.280062</td>\n",
       "    </tr>\n",
       "    <tr>\n",
       "      <th>1</th>\n",
       "      <td>2acmU</td>\n",
       "      <td>1.334711</td>\n",
       "      <td>-0.340164</td>\n",
       "      <td>4.365080</td>\n",
       "      <td>73.037750</td>\n",
       "    </tr>\n",
       "    <tr>\n",
       "      <th>2</th>\n",
       "      <td>409Wp</td>\n",
       "      <td>1.022732</td>\n",
       "      <td>0.151990</td>\n",
       "      <td>1.419926</td>\n",
       "      <td>85.265647</td>\n",
       "    </tr>\n",
       "    <tr>\n",
       "      <th>3</th>\n",
       "      <td>iJLyR</td>\n",
       "      <td>-0.032172</td>\n",
       "      <td>0.139033</td>\n",
       "      <td>2.978566</td>\n",
       "      <td>168.620776</td>\n",
       "    </tr>\n",
       "    <tr>\n",
       "      <th>4</th>\n",
       "      <td>Xdl7t</td>\n",
       "      <td>1.988431</td>\n",
       "      <td>0.155413</td>\n",
       "      <td>4.751769</td>\n",
       "      <td>154.036647</td>\n",
       "    </tr>\n",
       "    <tr>\n",
       "      <th>...</th>\n",
       "      <td>...</td>\n",
       "      <td>...</td>\n",
       "      <td>...</td>\n",
       "      <td>...</td>\n",
       "      <td>...</td>\n",
       "    </tr>\n",
       "    <tr>\n",
       "      <th>99995</th>\n",
       "      <td>DLsed</td>\n",
       "      <td>0.971957</td>\n",
       "      <td>0.370953</td>\n",
       "      <td>6.075346</td>\n",
       "      <td>110.744026</td>\n",
       "    </tr>\n",
       "    <tr>\n",
       "      <th>99996</th>\n",
       "      <td>QKivN</td>\n",
       "      <td>1.392429</td>\n",
       "      <td>-0.382606</td>\n",
       "      <td>1.273912</td>\n",
       "      <td>122.346843</td>\n",
       "    </tr>\n",
       "    <tr>\n",
       "      <th>99997</th>\n",
       "      <td>3rnvd</td>\n",
       "      <td>1.029585</td>\n",
       "      <td>0.018787</td>\n",
       "      <td>-1.348308</td>\n",
       "      <td>64.375443</td>\n",
       "    </tr>\n",
       "    <tr>\n",
       "      <th>99998</th>\n",
       "      <td>7kl59</td>\n",
       "      <td>0.998163</td>\n",
       "      <td>-0.528582</td>\n",
       "      <td>1.583869</td>\n",
       "      <td>74.040764</td>\n",
       "    </tr>\n",
       "    <tr>\n",
       "      <th>99999</th>\n",
       "      <td>1CWhH</td>\n",
       "      <td>1.764754</td>\n",
       "      <td>-0.266417</td>\n",
       "      <td>5.722849</td>\n",
       "      <td>149.633246</td>\n",
       "    </tr>\n",
       "  </tbody>\n",
       "</table>\n",
       "<p>100000 rows × 5 columns</p>\n",
       "</div>"
      ],
      "text/plain": [
       "          id        f0        f1        f2     product\n",
       "0      txEyH  0.705745 -0.497823  1.221170  105.280062\n",
       "1      2acmU  1.334711 -0.340164  4.365080   73.037750\n",
       "2      409Wp  1.022732  0.151990  1.419926   85.265647\n",
       "3      iJLyR -0.032172  0.139033  2.978566  168.620776\n",
       "4      Xdl7t  1.988431  0.155413  4.751769  154.036647\n",
       "...      ...       ...       ...       ...         ...\n",
       "99995  DLsed  0.971957  0.370953  6.075346  110.744026\n",
       "99996  QKivN  1.392429 -0.382606  1.273912  122.346843\n",
       "99997  3rnvd  1.029585  0.018787 -1.348308   64.375443\n",
       "99998  7kl59  0.998163 -0.528582  1.583869   74.040764\n",
       "99999  1CWhH  1.764754 -0.266417  5.722849  149.633246\n",
       "\n",
       "[100000 rows x 5 columns]"
      ]
     },
     "metadata": {},
     "output_type": "display_data"
    }
   ],
   "source": [
    "info(r_1)"
   ]
  },
  {
   "cell_type": "code",
   "execution_count": 5,
   "metadata": {},
   "outputs": [
    {
     "name": "stdout",
     "output_type": "stream",
     "text": [
      "<class 'pandas.core.frame.DataFrame'>\n",
      "RangeIndex: 100000 entries, 0 to 99999\n",
      "Data columns (total 5 columns):\n",
      " #   Column   Non-Null Count   Dtype  \n",
      "---  ------   --------------   -----  \n",
      " 0   id       100000 non-null  object \n",
      " 1   f0       100000 non-null  float64\n",
      " 2   f1       100000 non-null  float64\n",
      " 3   f2       100000 non-null  float64\n",
      " 4   product  100000 non-null  float64\n",
      "dtypes: float64(4), object(1)\n",
      "memory usage: 3.8+ MB\n"
     ]
    },
    {
     "data": {
      "text/plain": [
       "id         0.0\n",
       "f0         0.0\n",
       "f1         0.0\n",
       "f2         0.0\n",
       "product    0.0\n",
       "dtype: float64"
      ]
     },
     "metadata": {},
     "output_type": "display_data"
    },
    {
     "data": {
      "text/plain": [
       "'Число явных дубликатов: 0'"
      ]
     },
     "metadata": {},
     "output_type": "display_data"
    },
    {
     "data": {
      "text/html": [
       "<div>\n",
       "<style scoped>\n",
       "    .dataframe tbody tr th:only-of-type {\n",
       "        vertical-align: middle;\n",
       "    }\n",
       "\n",
       "    .dataframe tbody tr th {\n",
       "        vertical-align: top;\n",
       "    }\n",
       "\n",
       "    .dataframe thead th {\n",
       "        text-align: right;\n",
       "    }\n",
       "</style>\n",
       "<table border=\"1\" class=\"dataframe\">\n",
       "  <thead>\n",
       "    <tr style=\"text-align: right;\">\n",
       "      <th></th>\n",
       "      <th>id</th>\n",
       "      <th>f0</th>\n",
       "      <th>f1</th>\n",
       "      <th>f2</th>\n",
       "      <th>product</th>\n",
       "    </tr>\n",
       "  </thead>\n",
       "  <tbody>\n",
       "    <tr>\n",
       "      <th>0</th>\n",
       "      <td>kBEdx</td>\n",
       "      <td>-15.001348</td>\n",
       "      <td>-8.276000</td>\n",
       "      <td>-0.005876</td>\n",
       "      <td>3.179103</td>\n",
       "    </tr>\n",
       "    <tr>\n",
       "      <th>1</th>\n",
       "      <td>62mP7</td>\n",
       "      <td>14.272088</td>\n",
       "      <td>-3.475083</td>\n",
       "      <td>0.999183</td>\n",
       "      <td>26.953261</td>\n",
       "    </tr>\n",
       "    <tr>\n",
       "      <th>2</th>\n",
       "      <td>vyE1P</td>\n",
       "      <td>6.263187</td>\n",
       "      <td>-5.948386</td>\n",
       "      <td>5.001160</td>\n",
       "      <td>134.766305</td>\n",
       "    </tr>\n",
       "    <tr>\n",
       "      <th>3</th>\n",
       "      <td>KcrkZ</td>\n",
       "      <td>-13.081196</td>\n",
       "      <td>-11.506057</td>\n",
       "      <td>4.999415</td>\n",
       "      <td>137.945408</td>\n",
       "    </tr>\n",
       "    <tr>\n",
       "      <th>4</th>\n",
       "      <td>AHL4O</td>\n",
       "      <td>12.702195</td>\n",
       "      <td>-8.147433</td>\n",
       "      <td>5.004363</td>\n",
       "      <td>134.766305</td>\n",
       "    </tr>\n",
       "    <tr>\n",
       "      <th>...</th>\n",
       "      <td>...</td>\n",
       "      <td>...</td>\n",
       "      <td>...</td>\n",
       "      <td>...</td>\n",
       "      <td>...</td>\n",
       "    </tr>\n",
       "    <tr>\n",
       "      <th>99995</th>\n",
       "      <td>QywKC</td>\n",
       "      <td>9.535637</td>\n",
       "      <td>-6.878139</td>\n",
       "      <td>1.998296</td>\n",
       "      <td>53.906522</td>\n",
       "    </tr>\n",
       "    <tr>\n",
       "      <th>99996</th>\n",
       "      <td>ptvty</td>\n",
       "      <td>-10.160631</td>\n",
       "      <td>-12.558096</td>\n",
       "      <td>5.005581</td>\n",
       "      <td>137.945408</td>\n",
       "    </tr>\n",
       "    <tr>\n",
       "      <th>99997</th>\n",
       "      <td>09gWa</td>\n",
       "      <td>-7.378891</td>\n",
       "      <td>-3.084104</td>\n",
       "      <td>4.998651</td>\n",
       "      <td>137.945408</td>\n",
       "    </tr>\n",
       "    <tr>\n",
       "      <th>99998</th>\n",
       "      <td>rqwUm</td>\n",
       "      <td>0.665714</td>\n",
       "      <td>-6.152593</td>\n",
       "      <td>1.000146</td>\n",
       "      <td>30.132364</td>\n",
       "    </tr>\n",
       "    <tr>\n",
       "      <th>99999</th>\n",
       "      <td>relB0</td>\n",
       "      <td>-3.426139</td>\n",
       "      <td>-7.794274</td>\n",
       "      <td>-0.003299</td>\n",
       "      <td>3.179103</td>\n",
       "    </tr>\n",
       "  </tbody>\n",
       "</table>\n",
       "<p>100000 rows × 5 columns</p>\n",
       "</div>"
      ],
      "text/plain": [
       "          id         f0         f1        f2     product\n",
       "0      kBEdx -15.001348  -8.276000 -0.005876    3.179103\n",
       "1      62mP7  14.272088  -3.475083  0.999183   26.953261\n",
       "2      vyE1P   6.263187  -5.948386  5.001160  134.766305\n",
       "3      KcrkZ -13.081196 -11.506057  4.999415  137.945408\n",
       "4      AHL4O  12.702195  -8.147433  5.004363  134.766305\n",
       "...      ...        ...        ...       ...         ...\n",
       "99995  QywKC   9.535637  -6.878139  1.998296   53.906522\n",
       "99996  ptvty -10.160631 -12.558096  5.005581  137.945408\n",
       "99997  09gWa  -7.378891  -3.084104  4.998651  137.945408\n",
       "99998  rqwUm   0.665714  -6.152593  1.000146   30.132364\n",
       "99999  relB0  -3.426139  -7.794274 -0.003299    3.179103\n",
       "\n",
       "[100000 rows x 5 columns]"
      ]
     },
     "metadata": {},
     "output_type": "display_data"
    }
   ],
   "source": [
    "info(r_2)"
   ]
  },
  {
   "cell_type": "code",
   "execution_count": 6,
   "metadata": {
    "scrolled": true
   },
   "outputs": [
    {
     "name": "stdout",
     "output_type": "stream",
     "text": [
      "<class 'pandas.core.frame.DataFrame'>\n",
      "RangeIndex: 100000 entries, 0 to 99999\n",
      "Data columns (total 5 columns):\n",
      " #   Column   Non-Null Count   Dtype  \n",
      "---  ------   --------------   -----  \n",
      " 0   id       100000 non-null  object \n",
      " 1   f0       100000 non-null  float64\n",
      " 2   f1       100000 non-null  float64\n",
      " 3   f2       100000 non-null  float64\n",
      " 4   product  100000 non-null  float64\n",
      "dtypes: float64(4), object(1)\n",
      "memory usage: 3.8+ MB\n"
     ]
    },
    {
     "data": {
      "text/plain": [
       "id         0.0\n",
       "f0         0.0\n",
       "f1         0.0\n",
       "f2         0.0\n",
       "product    0.0\n",
       "dtype: float64"
      ]
     },
     "metadata": {},
     "output_type": "display_data"
    },
    {
     "data": {
      "text/plain": [
       "'Число явных дубликатов: 0'"
      ]
     },
     "metadata": {},
     "output_type": "display_data"
    },
    {
     "data": {
      "text/html": [
       "<div>\n",
       "<style scoped>\n",
       "    .dataframe tbody tr th:only-of-type {\n",
       "        vertical-align: middle;\n",
       "    }\n",
       "\n",
       "    .dataframe tbody tr th {\n",
       "        vertical-align: top;\n",
       "    }\n",
       "\n",
       "    .dataframe thead th {\n",
       "        text-align: right;\n",
       "    }\n",
       "</style>\n",
       "<table border=\"1\" class=\"dataframe\">\n",
       "  <thead>\n",
       "    <tr style=\"text-align: right;\">\n",
       "      <th></th>\n",
       "      <th>id</th>\n",
       "      <th>f0</th>\n",
       "      <th>f1</th>\n",
       "      <th>f2</th>\n",
       "      <th>product</th>\n",
       "    </tr>\n",
       "  </thead>\n",
       "  <tbody>\n",
       "    <tr>\n",
       "      <th>0</th>\n",
       "      <td>fwXo0</td>\n",
       "      <td>-1.146987</td>\n",
       "      <td>0.963328</td>\n",
       "      <td>-0.828965</td>\n",
       "      <td>27.758673</td>\n",
       "    </tr>\n",
       "    <tr>\n",
       "      <th>1</th>\n",
       "      <td>WJtFt</td>\n",
       "      <td>0.262778</td>\n",
       "      <td>0.269839</td>\n",
       "      <td>-2.530187</td>\n",
       "      <td>56.069697</td>\n",
       "    </tr>\n",
       "    <tr>\n",
       "      <th>2</th>\n",
       "      <td>ovLUW</td>\n",
       "      <td>0.194587</td>\n",
       "      <td>0.289035</td>\n",
       "      <td>-5.586433</td>\n",
       "      <td>62.871910</td>\n",
       "    </tr>\n",
       "    <tr>\n",
       "      <th>3</th>\n",
       "      <td>q6cA6</td>\n",
       "      <td>2.236060</td>\n",
       "      <td>-0.553760</td>\n",
       "      <td>0.930038</td>\n",
       "      <td>114.572842</td>\n",
       "    </tr>\n",
       "    <tr>\n",
       "      <th>4</th>\n",
       "      <td>WPMUX</td>\n",
       "      <td>-0.515993</td>\n",
       "      <td>1.716266</td>\n",
       "      <td>5.899011</td>\n",
       "      <td>149.600746</td>\n",
       "    </tr>\n",
       "    <tr>\n",
       "      <th>...</th>\n",
       "      <td>...</td>\n",
       "      <td>...</td>\n",
       "      <td>...</td>\n",
       "      <td>...</td>\n",
       "      <td>...</td>\n",
       "    </tr>\n",
       "    <tr>\n",
       "      <th>99995</th>\n",
       "      <td>4GxBu</td>\n",
       "      <td>-1.777037</td>\n",
       "      <td>1.125220</td>\n",
       "      <td>6.263374</td>\n",
       "      <td>172.327046</td>\n",
       "    </tr>\n",
       "    <tr>\n",
       "      <th>99996</th>\n",
       "      <td>YKFjq</td>\n",
       "      <td>-1.261523</td>\n",
       "      <td>-0.894828</td>\n",
       "      <td>2.524545</td>\n",
       "      <td>138.748846</td>\n",
       "    </tr>\n",
       "    <tr>\n",
       "      <th>99997</th>\n",
       "      <td>tKPY3</td>\n",
       "      <td>-1.199934</td>\n",
       "      <td>-2.957637</td>\n",
       "      <td>5.219411</td>\n",
       "      <td>157.080080</td>\n",
       "    </tr>\n",
       "    <tr>\n",
       "      <th>99998</th>\n",
       "      <td>nmxp2</td>\n",
       "      <td>-2.419896</td>\n",
       "      <td>2.417221</td>\n",
       "      <td>-5.548444</td>\n",
       "      <td>51.795253</td>\n",
       "    </tr>\n",
       "    <tr>\n",
       "      <th>99999</th>\n",
       "      <td>V9kWn</td>\n",
       "      <td>-2.551421</td>\n",
       "      <td>-2.025625</td>\n",
       "      <td>6.090891</td>\n",
       "      <td>102.775767</td>\n",
       "    </tr>\n",
       "  </tbody>\n",
       "</table>\n",
       "<p>100000 rows × 5 columns</p>\n",
       "</div>"
      ],
      "text/plain": [
       "          id        f0        f1        f2     product\n",
       "0      fwXo0 -1.146987  0.963328 -0.828965   27.758673\n",
       "1      WJtFt  0.262778  0.269839 -2.530187   56.069697\n",
       "2      ovLUW  0.194587  0.289035 -5.586433   62.871910\n",
       "3      q6cA6  2.236060 -0.553760  0.930038  114.572842\n",
       "4      WPMUX -0.515993  1.716266  5.899011  149.600746\n",
       "...      ...       ...       ...       ...         ...\n",
       "99995  4GxBu -1.777037  1.125220  6.263374  172.327046\n",
       "99996  YKFjq -1.261523 -0.894828  2.524545  138.748846\n",
       "99997  tKPY3 -1.199934 -2.957637  5.219411  157.080080\n",
       "99998  nmxp2 -2.419896  2.417221 -5.548444   51.795253\n",
       "99999  V9kWn -2.551421 -2.025625  6.090891  102.775767\n",
       "\n",
       "[100000 rows x 5 columns]"
      ]
     },
     "metadata": {},
     "output_type": "display_data"
    }
   ],
   "source": [
    "info(r_3)"
   ]
  },
  {
   "cell_type": "markdown",
   "metadata": {},
   "source": [
    "В данных нет пропусков и дубликатов. Столбец `id` не несет информации для прогнозирования и может запутать модель, поэтому удаляем его."
   ]
  },
  {
   "cell_type": "markdown",
   "metadata": {},
   "source": [
    "## Подготовка признаков и обучение модели"
   ]
  },
  {
   "cell_type": "markdown",
   "metadata": {},
   "source": [
    "Создаем функцию для подготовки признаков и моделирования."
   ]
  },
  {
   "cell_type": "code",
   "execution_count": 7,
   "metadata": {},
   "outputs": [],
   "source": [
    "def modelling(data, region):\n",
    "    #удаляем столбец id\n",
    "    data = data.drop('id', axis=1)\n",
    "\n",
    "    #отделяем целевой признак и остальные\n",
    "    features = data.drop('product', axis=1)\n",
    "    target = data['product']\n",
    "\n",
    "    #разбиваем данные на обучающую и валидационную выборку\n",
    "    features_train, features_valid, target_train, target_valid = train_test_split(\n",
    "        features, target, test_size=0.25, random_state=12345)\n",
    "\n",
    "    print(features_train.shape)\n",
    "    print(features_valid.shape)\n",
    "    print(target_train.shape)\n",
    "    print(target_valid.shape)\n",
    "    \n",
    "    #обучаем модель линейной регрессии\n",
    "    model = LinearRegression()\n",
    "    model.fit(features_train, target_train)\n",
    "    predictions_valid = model.predict(features_valid)\n",
    "\n",
    "    #оцениваем модель \n",
    "    mean_stock = predictions_valid.mean()\n",
    "    mse = mean_squared_error(target_valid, predictions_valid)\n",
    "    rmse = mse**0.5\n",
    "    print(f'Средний запас в регионе {region}: {mean_stock}')\n",
    "    print(f'RMSE: {rmse}')\n",
    "    return features_train, features_valid, target_train, target_valid, predictions_valid"
   ]
  },
  {
   "cell_type": "code",
   "execution_count": 8,
   "metadata": {
    "scrolled": true
   },
   "outputs": [
    {
     "name": "stdout",
     "output_type": "stream",
     "text": [
      "(75000, 3)\n",
      "(25000, 3)\n",
      "(75000,)\n",
      "(25000,)\n",
      "Средний запас в регионе 1: 92.59256778438035\n",
      "RMSE: 37.5794217150813\n"
     ]
    }
   ],
   "source": [
    "features_train_1, features_valid_1, target_train_1, target_valid_1, predictions_valid_1 = modelling(r_1, 1)"
   ]
  },
  {
   "cell_type": "code",
   "execution_count": 9,
   "metadata": {},
   "outputs": [
    {
     "name": "stdout",
     "output_type": "stream",
     "text": [
      "(75000, 3)\n",
      "(25000, 3)\n",
      "(75000,)\n",
      "(25000,)\n",
      "Средний запас в регионе 2: 68.72854689544602\n",
      "RMSE: 0.8930992867756165\n"
     ]
    }
   ],
   "source": [
    "features_train_2, features_valid_2, target_train_2, target_valid_2, predictions_valid_2 = modelling(r_2, 2)"
   ]
  },
  {
   "cell_type": "code",
   "execution_count": 10,
   "metadata": {},
   "outputs": [
    {
     "name": "stdout",
     "output_type": "stream",
     "text": [
      "(75000, 3)\n",
      "(25000, 3)\n",
      "(75000,)\n",
      "(25000,)\n",
      "Средний запас в регионе 3: 94.96504596800489\n",
      "RMSE: 40.02970873393434\n"
     ]
    }
   ],
   "source": [
    "features_train_3, features_valid_3, target_train_3, target_valid_3, predictions_valid_3 = modelling(r_3, 3)"
   ]
  },
  {
   "cell_type": "markdown",
   "metadata": {},
   "source": [
    "**Выводы**\n",
    "* Наибольший средний запас скважин в регионе №3: 94.97 тыс.баррелей. Но и ошибка модели также самая высокая: 40.03.\n",
    "* Чуть ниже средний запас в регионе №1: 92.59 тыс.баррелей. Ошибка равна 37.58.\n",
    "* Наименьший средний запас в регионе №2: 68.73 тыс.баррелей. Однако модель очень точна, ошибка равна всего 0.89."
   ]
  },
  {
   "cell_type": "markdown",
   "metadata": {},
   "source": [
    "## Подготовка к расчёту прибыли"
   ]
  },
  {
   "cell_type": "code",
   "execution_count": 11,
   "metadata": {
    "scrolled": true
   },
   "outputs": [
    {
     "name": "stdout",
     "output_type": "stream",
     "text": [
      "Безубыточность скважины возможна при объеме не менее 111.11111111111111 тыс.баррелей\n"
     ]
    }
   ],
   "source": [
    "#рассчет точки безубыточности скважины\n",
    "N=200  #число скважин\n",
    "BUDGET = 10000000 #бюджет на разработку 200 скважин (тыс рублей)\n",
    "COST = 450 #цена тысячи баррелей (тыс рублей)\n",
    "PRODUCTION = BUDGET/(N*COST)\n",
    "print(f'Безубыточность скважины возможна при объеме не менее {PRODUCTION} тыс.баррелей')\n"
   ]
  },
  {
   "cell_type": "markdown",
   "metadata": {},
   "source": [
    "Исходя из среднего объема скважин, все регионы будут убыточными. Однако отбираться будут только 200 лучших скважин, и для нас важно среднее по ним, а не всему региону."
   ]
  },
  {
   "cell_type": "markdown",
   "metadata": {},
   "source": [
    "## Расчёт прибыли и рисков "
   ]
  },
  {
   "cell_type": "code",
   "execution_count": 12,
   "metadata": {},
   "outputs": [],
   "source": [
    "#создаем функцию для подсчета прибыли\n",
    "def profit(target, predictions, count):\n",
    "    pred_sorted = predictions.sort_values(ascending=False)\n",
    "    selected = target[pred_sorted.index][:count]\n",
    "    return (selected.sum()*COST - BUDGET)/1000"
   ]
  },
  {
   "cell_type": "code",
   "execution_count": 13,
   "metadata": {},
   "outputs": [],
   "source": [
    "#создаем функцию для бутстрепа\n",
    "state = np.random.RandomState(12345)\n",
    "    \n",
    "def result(target, predictions):\n",
    "    values=[] \n",
    "    for i in range(1000):\n",
    "        target_subsample = target.sample(n=500, replace=True, random_state=state)\n",
    "        probs_subsample = predictions[target_subsample.index]\n",
    "        result = profit(target_subsample, probs_subsample, 200)\n",
    "        values.append(result)\n",
    "    values = pd.Series(values)\n",
    "    percentage_of_negative = (values < 0).mean()*100\n",
    "    mean = values.mean()\n",
    "    lower = values.quantile(0.025)\n",
    "    upper = values.quantile(0.975)\n",
    "    print(f'Средняя прогнозная прибыль равняется {mean} млн рублей')\n",
    "    print(f'С вероятностью 95% прибыль составит от {lower} до {upper} млн рублей')\n",
    "    print(f'Риск убытков составляет {percentage_of_negative}%')"
   ]
  },
  {
   "cell_type": "code",
   "execution_count": 14,
   "metadata": {
    "scrolled": true
   },
   "outputs": [
    {
     "name": "stdout",
     "output_type": "stream",
     "text": [
      "Средняя прогнозная прибыль равняется 425.9385269105924 млн рублей\n",
      "С вероятностью 95% прибыль составит от -102.09009483793722 до 947.9763533583689 млн рублей\n",
      "Риск убытков составляет 6.0%\n"
     ]
    }
   ],
   "source": [
    "#применяем функции к данным\n",
    "target_valid_1 = target_valid_1.reset_index(drop=True)\n",
    "predictions_valid_1 = pd.Series(predictions_valid_1)\n",
    "result(target_valid_1, predictions_valid_1)"
   ]
  },
  {
   "cell_type": "code",
   "execution_count": 15,
   "metadata": {
    "scrolled": true
   },
   "outputs": [
    {
     "name": "stdout",
     "output_type": "stream",
     "text": [
      "Средняя прогнозная прибыль равняется 518.2594936973248 млн рублей\n",
      "С вероятностью 95% прибыль составит от 128.1232314330842 до 953.6129820669086 млн рублей\n",
      "Риск убытков составляет 0.3%\n"
     ]
    }
   ],
   "source": [
    "target_valid_2 = target_valid_2.reset_index(drop=True)\n",
    "predictions_valid_2 = pd.Series(predictions_valid_2)\n",
    "result(target_valid_2, predictions_valid_2)"
   ]
  },
  {
   "cell_type": "code",
   "execution_count": 16,
   "metadata": {
    "scrolled": true
   },
   "outputs": [
    {
     "name": "stdout",
     "output_type": "stream",
     "text": [
      "Средняя прогнозная прибыль равняется 420.1940053440501 млн рублей\n",
      "С вероятностью 95% прибыль составит от -115.85260916001162 до 989.629939844574 млн рублей\n",
      "Риск убытков составляет 6.2%\n"
     ]
    }
   ],
   "source": [
    "target_valid_3 = target_valid_3.reset_index(drop=True)\n",
    "predictions_valid_3 = pd.Series(predictions_valid_3)\n",
    "result(target_valid_3, predictions_valid_3)"
   ]
  },
  {
   "cell_type": "markdown",
   "metadata": {},
   "source": [
    "## Вывод"
   ]
  },
  {
   "cell_type": "markdown",
   "metadata": {},
   "source": [
    "Наиболее перспективный - регион №2, т.к. он имеет наибольшую среднюю прогнозную прибыль (518 млн рублей) и практически нулевой риск убытков (0.3%). В остальных регионах риск убытков превышает 2.5%. "
   ]
  }
 ],
 "metadata": {
  "ExecuteTimeLog": [
   {
    "duration": 362,
    "start_time": "2022-03-26T12:02:10.784Z"
   },
   {
    "duration": 116,
    "start_time": "2022-03-26T12:03:01.891Z"
   },
   {
    "duration": 329,
    "start_time": "2022-03-26T12:03:21.260Z"
   },
   {
    "duration": 29,
    "start_time": "2022-03-26T12:03:47.038Z"
   },
   {
    "duration": 447,
    "start_time": "2022-03-26T12:09:08.816Z"
   },
   {
    "duration": 361,
    "start_time": "2022-03-26T12:09:09.265Z"
   },
   {
    "duration": 39,
    "start_time": "2022-03-26T12:09:09.628Z"
   },
   {
    "duration": 79,
    "start_time": "2022-03-26T12:18:38.089Z"
   },
   {
    "duration": 6,
    "start_time": "2022-03-26T12:18:47.896Z"
   },
   {
    "duration": 12,
    "start_time": "2022-03-26T12:18:54.930Z"
   },
   {
    "duration": 11,
    "start_time": "2022-03-26T12:19:00.297Z"
   },
   {
    "duration": 17,
    "start_time": "2022-03-26T12:19:04.918Z"
   },
   {
    "duration": 9,
    "start_time": "2022-03-26T12:19:12.751Z"
   },
   {
    "duration": 1040,
    "start_time": "2022-03-26T12:21:59.101Z"
   },
   {
    "duration": 336,
    "start_time": "2022-03-26T12:22:00.143Z"
   },
   {
    "duration": 28,
    "start_time": "2022-03-26T12:22:00.481Z"
   },
   {
    "duration": 36,
    "start_time": "2022-03-26T12:22:00.511Z"
   },
   {
    "duration": 3,
    "start_time": "2022-03-26T12:27:07.074Z"
   },
   {
    "duration": 98,
    "start_time": "2022-03-26T12:28:49.845Z"
   },
   {
    "duration": 1121,
    "start_time": "2022-03-26T12:29:45.894Z"
   },
   {
    "duration": 333,
    "start_time": "2022-03-26T12:29:47.016Z"
   },
   {
    "duration": 29,
    "start_time": "2022-03-26T12:29:47.351Z"
   },
   {
    "duration": 19,
    "start_time": "2022-03-26T12:29:47.382Z"
   },
   {
    "duration": 11,
    "start_time": "2022-03-26T12:33:45.250Z"
   },
   {
    "duration": 21,
    "start_time": "2022-03-26T12:35:41.445Z"
   },
   {
    "duration": 101,
    "start_time": "2022-03-26T12:36:23.533Z"
   },
   {
    "duration": 2,
    "start_time": "2022-03-26T12:36:30.933Z"
   },
   {
    "duration": 15,
    "start_time": "2022-03-26T12:39:07.004Z"
   },
   {
    "duration": 3,
    "start_time": "2022-03-26T12:43:23.195Z"
   },
   {
    "duration": 10,
    "start_time": "2022-03-26T12:44:10.204Z"
   },
   {
    "duration": 44,
    "start_time": "2022-03-26T12:45:05.398Z"
   },
   {
    "duration": 10,
    "start_time": "2022-03-26T12:45:10.562Z"
   },
   {
    "duration": 11,
    "start_time": "2022-03-26T12:46:28.373Z"
   },
   {
    "duration": 1102,
    "start_time": "2022-03-26T13:09:35.735Z"
   },
   {
    "duration": 357,
    "start_time": "2022-03-26T13:09:36.839Z"
   },
   {
    "duration": 37,
    "start_time": "2022-03-26T13:09:37.198Z"
   },
   {
    "duration": 20,
    "start_time": "2022-03-26T13:09:37.237Z"
   },
   {
    "duration": 23,
    "start_time": "2022-03-26T13:09:37.258Z"
   },
   {
    "duration": 23,
    "start_time": "2022-03-26T13:09:37.283Z"
   },
   {
    "duration": 14,
    "start_time": "2022-03-26T13:09:37.333Z"
   },
   {
    "duration": 11,
    "start_time": "2022-03-26T13:09:37.348Z"
   },
   {
    "duration": 9,
    "start_time": "2022-03-26T13:09:37.361Z"
   },
   {
    "duration": 71,
    "start_time": "2022-03-26T13:09:37.372Z"
   },
   {
    "duration": 18,
    "start_time": "2022-03-26T13:11:31.790Z"
   },
   {
    "duration": 15,
    "start_time": "2022-03-26T13:12:09.890Z"
   },
   {
    "duration": 12,
    "start_time": "2022-03-26T13:13:20.601Z"
   },
   {
    "duration": 12,
    "start_time": "2022-03-26T13:13:39.737Z"
   },
   {
    "duration": 11,
    "start_time": "2022-03-26T13:13:49.655Z"
   },
   {
    "duration": 12,
    "start_time": "2022-03-26T13:13:52.655Z"
   },
   {
    "duration": 1081,
    "start_time": "2022-03-26T13:14:55.297Z"
   },
   {
    "duration": 508,
    "start_time": "2022-03-26T13:14:56.380Z"
   },
   {
    "duration": 53,
    "start_time": "2022-03-26T13:14:56.890Z"
   },
   {
    "duration": 21,
    "start_time": "2022-03-26T13:14:56.945Z"
   },
   {
    "duration": 24,
    "start_time": "2022-03-26T13:14:56.967Z"
   },
   {
    "duration": 48,
    "start_time": "2022-03-26T13:14:56.993Z"
   },
   {
    "duration": 13,
    "start_time": "2022-03-26T13:14:57.042Z"
   },
   {
    "duration": 13,
    "start_time": "2022-03-26T13:14:57.056Z"
   },
   {
    "duration": 15,
    "start_time": "2022-03-26T13:14:57.071Z"
   },
   {
    "duration": 54,
    "start_time": "2022-03-26T13:14:57.089Z"
   },
   {
    "duration": 101,
    "start_time": "2022-03-26T13:14:57.145Z"
   },
   {
    "duration": 187,
    "start_time": "2022-03-26T13:14:57.249Z"
   },
   {
    "duration": 92,
    "start_time": "2022-03-26T13:27:01.204Z"
   },
   {
    "duration": 576,
    "start_time": "2022-03-26T13:27:09.347Z"
   },
   {
    "duration": 130,
    "start_time": "2022-03-26T13:27:40.773Z"
   },
   {
    "duration": 127,
    "start_time": "2022-03-26T13:27:43.890Z"
   },
   {
    "duration": 140,
    "start_time": "2022-03-26T13:28:13.051Z"
   },
   {
    "duration": 81,
    "start_time": "2022-03-26T13:31:39.286Z"
   },
   {
    "duration": 77,
    "start_time": "2022-03-26T13:31:46.290Z"
   },
   {
    "duration": 1076,
    "start_time": "2022-03-26T13:32:09.772Z"
   },
   {
    "duration": 366,
    "start_time": "2022-03-26T13:32:10.850Z"
   },
   {
    "duration": 30,
    "start_time": "2022-03-26T13:32:11.218Z"
   },
   {
    "duration": 85,
    "start_time": "2022-03-26T13:32:11.249Z"
   },
   {
    "duration": 0,
    "start_time": "2022-03-26T13:32:11.336Z"
   },
   {
    "duration": 0,
    "start_time": "2022-03-26T13:32:11.338Z"
   },
   {
    "duration": 0,
    "start_time": "2022-03-26T13:32:11.338Z"
   },
   {
    "duration": 0,
    "start_time": "2022-03-26T13:32:11.340Z"
   },
   {
    "duration": 0,
    "start_time": "2022-03-26T13:32:11.341Z"
   },
   {
    "duration": 0,
    "start_time": "2022-03-26T13:32:11.343Z"
   },
   {
    "duration": 0,
    "start_time": "2022-03-26T13:32:11.344Z"
   },
   {
    "duration": 0,
    "start_time": "2022-03-26T13:32:11.344Z"
   },
   {
    "duration": 0,
    "start_time": "2022-03-26T13:32:11.345Z"
   },
   {
    "duration": 0,
    "start_time": "2022-03-26T13:32:11.346Z"
   },
   {
    "duration": 0,
    "start_time": "2022-03-26T13:32:11.347Z"
   },
   {
    "duration": 69,
    "start_time": "2022-03-26T13:32:28.554Z"
   },
   {
    "duration": 87,
    "start_time": "2022-03-26T13:32:32.010Z"
   },
   {
    "duration": 93,
    "start_time": "2022-03-26T13:32:34.127Z"
   },
   {
    "duration": 402,
    "start_time": "2022-03-26T13:32:34.740Z"
   },
   {
    "duration": 125,
    "start_time": "2022-03-26T13:32:35.160Z"
   },
   {
    "duration": 112,
    "start_time": "2022-03-26T13:32:41.434Z"
   },
   {
    "duration": 1113,
    "start_time": "2022-03-26T13:32:52.531Z"
   },
   {
    "duration": 343,
    "start_time": "2022-03-26T13:32:53.646Z"
   },
   {
    "duration": 30,
    "start_time": "2022-03-26T13:32:53.990Z"
   },
   {
    "duration": 76,
    "start_time": "2022-03-26T13:32:54.034Z"
   },
   {
    "duration": 0,
    "start_time": "2022-03-26T13:32:54.113Z"
   },
   {
    "duration": 0,
    "start_time": "2022-03-26T13:32:54.114Z"
   },
   {
    "duration": 0,
    "start_time": "2022-03-26T13:32:54.115Z"
   },
   {
    "duration": 0,
    "start_time": "2022-03-26T13:32:54.117Z"
   },
   {
    "duration": 0,
    "start_time": "2022-03-26T13:32:54.118Z"
   },
   {
    "duration": 0,
    "start_time": "2022-03-26T13:32:54.120Z"
   },
   {
    "duration": 0,
    "start_time": "2022-03-26T13:32:54.121Z"
   },
   {
    "duration": 0,
    "start_time": "2022-03-26T13:32:54.122Z"
   },
   {
    "duration": 0,
    "start_time": "2022-03-26T13:32:54.123Z"
   },
   {
    "duration": 0,
    "start_time": "2022-03-26T13:32:54.124Z"
   },
   {
    "duration": 0,
    "start_time": "2022-03-26T13:32:54.126Z"
   },
   {
    "duration": 1657,
    "start_time": "2022-03-27T15:51:28.958Z"
   },
   {
    "duration": 634,
    "start_time": "2022-03-27T15:51:30.619Z"
   },
   {
    "duration": 69,
    "start_time": "2022-03-27T15:51:31.256Z"
   },
   {
    "duration": 136,
    "start_time": "2022-03-27T15:51:31.330Z"
   },
   {
    "duration": 0,
    "start_time": "2022-03-27T15:51:31.469Z"
   },
   {
    "duration": 0,
    "start_time": "2022-03-27T15:51:31.470Z"
   },
   {
    "duration": 0,
    "start_time": "2022-03-27T15:51:31.473Z"
   },
   {
    "duration": 0,
    "start_time": "2022-03-27T15:51:31.475Z"
   },
   {
    "duration": 0,
    "start_time": "2022-03-27T15:51:31.477Z"
   },
   {
    "duration": 0,
    "start_time": "2022-03-27T15:51:31.479Z"
   },
   {
    "duration": 0,
    "start_time": "2022-03-27T15:51:31.482Z"
   },
   {
    "duration": 0,
    "start_time": "2022-03-27T15:51:31.484Z"
   },
   {
    "duration": 0,
    "start_time": "2022-03-27T15:51:31.487Z"
   },
   {
    "duration": 0,
    "start_time": "2022-03-27T15:51:31.489Z"
   },
   {
    "duration": 0,
    "start_time": "2022-03-27T15:51:31.491Z"
   },
   {
    "duration": 1782,
    "start_time": "2022-03-27T15:52:01.123Z"
   },
   {
    "duration": 534,
    "start_time": "2022-03-27T15:52:02.909Z"
   },
   {
    "duration": 57,
    "start_time": "2022-03-27T15:52:03.446Z"
   },
   {
    "duration": 28,
    "start_time": "2022-03-27T15:52:03.505Z"
   },
   {
    "duration": 51,
    "start_time": "2022-03-27T15:52:03.535Z"
   },
   {
    "duration": 32,
    "start_time": "2022-03-27T15:52:03.588Z"
   },
   {
    "duration": 18,
    "start_time": "2022-03-27T15:52:03.623Z"
   },
   {
    "duration": 53,
    "start_time": "2022-03-27T15:52:03.643Z"
   },
   {
    "duration": 17,
    "start_time": "2022-03-27T15:52:03.699Z"
   },
   {
    "duration": 65,
    "start_time": "2022-03-27T15:52:03.721Z"
   },
   {
    "duration": 197,
    "start_time": "2022-03-27T15:52:03.790Z"
   },
   {
    "duration": 184,
    "start_time": "2022-03-27T15:52:04.000Z"
   },
   {
    "duration": 1210,
    "start_time": "2022-03-27T16:14:40.050Z"
   },
   {
    "duration": 325,
    "start_time": "2022-03-27T16:14:41.262Z"
   },
   {
    "duration": 26,
    "start_time": "2022-03-27T16:14:41.588Z"
   },
   {
    "duration": 17,
    "start_time": "2022-03-27T16:14:41.616Z"
   },
   {
    "duration": 20,
    "start_time": "2022-03-27T16:14:41.634Z"
   },
   {
    "duration": 40,
    "start_time": "2022-03-27T16:14:41.655Z"
   },
   {
    "duration": 85,
    "start_time": "2022-03-27T16:14:41.697Z"
   },
   {
    "duration": 107,
    "start_time": "2022-03-27T16:14:41.785Z"
   },
   {
    "duration": 190,
    "start_time": "2022-03-27T16:14:41.895Z"
   },
   {
    "duration": 95,
    "start_time": "2022-03-27T16:14:42.088Z"
   },
   {
    "duration": 4,
    "start_time": "2022-03-27T16:17:30.716Z"
   },
   {
    "duration": 94,
    "start_time": "2022-03-27T16:26:10.345Z"
   },
   {
    "duration": 143,
    "start_time": "2022-03-27T16:27:27.315Z"
   },
   {
    "duration": 10,
    "start_time": "2022-03-27T16:27:38.105Z"
   },
   {
    "duration": 21,
    "start_time": "2022-03-27T16:28:09.020Z"
   },
   {
    "duration": 1246,
    "start_time": "2022-03-27T16:28:22.019Z"
   },
   {
    "duration": 332,
    "start_time": "2022-03-27T16:28:23.267Z"
   },
   {
    "duration": 30,
    "start_time": "2022-03-27T16:28:23.601Z"
   },
   {
    "duration": 18,
    "start_time": "2022-03-27T16:28:23.633Z"
   },
   {
    "duration": 39,
    "start_time": "2022-03-27T16:28:23.653Z"
   },
   {
    "duration": 21,
    "start_time": "2022-03-27T16:28:23.693Z"
   },
   {
    "duration": 71,
    "start_time": "2022-03-27T16:28:23.716Z"
   },
   {
    "duration": 192,
    "start_time": "2022-03-27T16:28:23.789Z"
   },
   {
    "duration": 117,
    "start_time": "2022-03-27T16:28:23.984Z"
   },
   {
    "duration": 182,
    "start_time": "2022-03-27T16:28:24.103Z"
   },
   {
    "duration": 122,
    "start_time": "2022-03-27T16:28:24.286Z"
   },
   {
    "duration": 30,
    "start_time": "2022-03-27T16:29:01.300Z"
   },
   {
    "duration": 8,
    "start_time": "2022-03-27T16:30:44.446Z"
   },
   {
    "duration": 11,
    "start_time": "2022-03-27T16:30:52.853Z"
   },
   {
    "duration": 10,
    "start_time": "2022-03-27T16:32:18.140Z"
   },
   {
    "duration": 9,
    "start_time": "2022-03-27T16:34:17.032Z"
   },
   {
    "duration": 8,
    "start_time": "2022-03-27T16:34:24.350Z"
   },
   {
    "duration": 3,
    "start_time": "2022-03-27T16:36:38.797Z"
   },
   {
    "duration": 3,
    "start_time": "2022-03-27T16:37:03.119Z"
   },
   {
    "duration": 9,
    "start_time": "2022-03-27T16:42:22.768Z"
   },
   {
    "duration": 1104,
    "start_time": "2022-03-28T07:53:53.505Z"
   },
   {
    "duration": 333,
    "start_time": "2022-03-28T07:53:54.611Z"
   },
   {
    "duration": 31,
    "start_time": "2022-03-28T07:53:54.945Z"
   },
   {
    "duration": 19,
    "start_time": "2022-03-28T07:53:54.978Z"
   },
   {
    "duration": 32,
    "start_time": "2022-03-28T07:53:54.999Z"
   },
   {
    "duration": 21,
    "start_time": "2022-03-28T07:53:55.033Z"
   },
   {
    "duration": 58,
    "start_time": "2022-03-28T07:53:55.056Z"
   },
   {
    "duration": 108,
    "start_time": "2022-03-28T07:53:55.115Z"
   },
   {
    "duration": 284,
    "start_time": "2022-03-28T07:53:55.226Z"
   },
   {
    "duration": 94,
    "start_time": "2022-03-28T07:53:55.516Z"
   },
   {
    "duration": 11,
    "start_time": "2022-03-28T07:53:55.612Z"
   },
   {
    "duration": 4,
    "start_time": "2022-03-28T07:53:55.625Z"
   },
   {
    "duration": 5,
    "start_time": "2022-03-28T08:00:01.930Z"
   },
   {
    "duration": 5,
    "start_time": "2022-03-28T08:05:40.322Z"
   },
   {
    "duration": 91,
    "start_time": "2022-03-28T08:07:21.078Z"
   },
   {
    "duration": 1088,
    "start_time": "2022-03-28T08:07:31.494Z"
   },
   {
    "duration": 335,
    "start_time": "2022-03-28T08:07:32.584Z"
   },
   {
    "duration": 29,
    "start_time": "2022-03-28T08:07:32.921Z"
   },
   {
    "duration": 19,
    "start_time": "2022-03-28T08:07:32.953Z"
   },
   {
    "duration": 40,
    "start_time": "2022-03-28T08:07:32.974Z"
   },
   {
    "duration": 21,
    "start_time": "2022-03-28T08:07:33.015Z"
   },
   {
    "duration": 74,
    "start_time": "2022-03-28T08:07:33.037Z"
   },
   {
    "duration": 106,
    "start_time": "2022-03-28T08:07:33.114Z"
   },
   {
    "duration": 186,
    "start_time": "2022-03-28T08:07:33.222Z"
   },
   {
    "duration": 95,
    "start_time": "2022-03-28T08:07:33.414Z"
   },
   {
    "duration": 4,
    "start_time": "2022-03-28T08:07:33.510Z"
   },
   {
    "duration": 7,
    "start_time": "2022-03-28T08:07:33.515Z"
   },
   {
    "duration": 116,
    "start_time": "2022-03-28T08:07:33.523Z"
   },
   {
    "duration": 1284,
    "start_time": "2022-03-28T08:09:32.667Z"
   },
   {
    "duration": 1159,
    "start_time": "2022-03-28T08:11:03.985Z"
   },
   {
    "duration": 355,
    "start_time": "2022-03-28T08:11:05.146Z"
   },
   {
    "duration": 30,
    "start_time": "2022-03-28T08:11:05.503Z"
   },
   {
    "duration": 20,
    "start_time": "2022-03-28T08:11:05.535Z"
   },
   {
    "duration": 21,
    "start_time": "2022-03-28T08:11:05.556Z"
   },
   {
    "duration": 46,
    "start_time": "2022-03-28T08:11:05.579Z"
   },
   {
    "duration": 86,
    "start_time": "2022-03-28T08:11:05.627Z"
   },
   {
    "duration": 105,
    "start_time": "2022-03-28T08:11:05.715Z"
   },
   {
    "duration": 95,
    "start_time": "2022-03-28T08:11:05.823Z"
   },
   {
    "duration": 5,
    "start_time": "2022-03-28T08:11:06.011Z"
   },
   {
    "duration": 95,
    "start_time": "2022-03-28T08:11:06.018Z"
   },
   {
    "duration": 8,
    "start_time": "2022-03-28T08:11:06.115Z"
   },
   {
    "duration": 1322,
    "start_time": "2022-03-28T08:11:06.125Z"
   },
   {
    "duration": 1304,
    "start_time": "2022-03-28T08:12:05.113Z"
   },
   {
    "duration": 1317,
    "start_time": "2022-03-28T08:13:01.248Z"
   },
   {
    "duration": 5,
    "start_time": "2022-03-28T08:19:49.732Z"
   },
   {
    "duration": 1428,
    "start_time": "2022-03-28T08:19:51.489Z"
   },
   {
    "duration": 5,
    "start_time": "2022-03-28T08:20:22.784Z"
   },
   {
    "duration": 1327,
    "start_time": "2022-03-28T08:20:25.784Z"
   },
   {
    "duration": 5,
    "start_time": "2022-03-28T08:20:36.048Z"
   },
   {
    "duration": 1318,
    "start_time": "2022-03-28T08:20:37.084Z"
   },
   {
    "duration": 1079,
    "start_time": "2022-03-28T08:20:47.970Z"
   },
   {
    "duration": 345,
    "start_time": "2022-03-28T08:20:49.051Z"
   },
   {
    "duration": 31,
    "start_time": "2022-03-28T08:20:49.397Z"
   },
   {
    "duration": 20,
    "start_time": "2022-03-28T08:20:49.430Z"
   },
   {
    "duration": 22,
    "start_time": "2022-03-28T08:20:49.452Z"
   },
   {
    "duration": 48,
    "start_time": "2022-03-28T08:20:49.476Z"
   },
   {
    "duration": 88,
    "start_time": "2022-03-28T08:20:49.525Z"
   },
   {
    "duration": 104,
    "start_time": "2022-03-28T08:20:49.616Z"
   },
   {
    "duration": 191,
    "start_time": "2022-03-28T08:20:49.722Z"
   },
   {
    "duration": 95,
    "start_time": "2022-03-28T08:20:49.915Z"
   },
   {
    "duration": 9,
    "start_time": "2022-03-28T08:20:50.012Z"
   },
   {
    "duration": 6,
    "start_time": "2022-03-28T08:20:50.022Z"
   },
   {
    "duration": 1344,
    "start_time": "2022-03-28T08:20:50.029Z"
   },
   {
    "duration": 1311,
    "start_time": "2022-03-28T08:20:51.376Z"
   },
   {
    "duration": 1305,
    "start_time": "2022-03-28T08:20:52.688Z"
   },
   {
    "duration": 92,
    "start_time": "2022-03-28T08:34:37.035Z"
   },
   {
    "duration": 93,
    "start_time": "2022-03-28T08:34:41.124Z"
   },
   {
    "duration": 86,
    "start_time": "2022-03-28T08:34:47.690Z"
   },
   {
    "duration": 3,
    "start_time": "2022-03-28T08:34:53.483Z"
   },
   {
    "duration": 1125,
    "start_time": "2022-03-28T08:34:59.702Z"
   },
   {
    "duration": 357,
    "start_time": "2022-03-28T08:35:00.829Z"
   },
   {
    "duration": 31,
    "start_time": "2022-03-28T08:35:01.188Z"
   },
   {
    "duration": 21,
    "start_time": "2022-03-28T08:35:01.221Z"
   },
   {
    "duration": 25,
    "start_time": "2022-03-28T08:35:01.244Z"
   },
   {
    "duration": 22,
    "start_time": "2022-03-28T08:35:01.271Z"
   },
   {
    "duration": 22,
    "start_time": "2022-03-28T08:35:01.309Z"
   },
   {
    "duration": 180,
    "start_time": "2022-03-28T08:35:01.333Z"
   },
   {
    "duration": 201,
    "start_time": "2022-03-28T08:35:01.516Z"
   },
   {
    "duration": 90,
    "start_time": "2022-03-28T08:35:01.721Z"
   },
   {
    "duration": 105,
    "start_time": "2022-03-28T08:35:01.813Z"
   },
   {
    "duration": 23,
    "start_time": "2022-03-28T08:35:01.920Z"
   },
   {
    "duration": 1341,
    "start_time": "2022-03-28T08:35:01.945Z"
   },
   {
    "duration": 1319,
    "start_time": "2022-03-28T08:35:03.288Z"
   },
   {
    "duration": 1344,
    "start_time": "2022-03-28T08:35:04.609Z"
   },
   {
    "duration": 8,
    "start_time": "2022-03-28T08:39:31.458Z"
   },
   {
    "duration": 1335,
    "start_time": "2022-03-28T08:39:32.799Z"
   },
   {
    "duration": 1117,
    "start_time": "2022-03-28T08:40:06.249Z"
   },
   {
    "duration": 365,
    "start_time": "2022-03-28T08:40:07.368Z"
   },
   {
    "duration": 31,
    "start_time": "2022-03-28T08:40:07.735Z"
   },
   {
    "duration": 21,
    "start_time": "2022-03-28T08:40:07.768Z"
   },
   {
    "duration": 41,
    "start_time": "2022-03-28T08:40:07.790Z"
   },
   {
    "duration": 22,
    "start_time": "2022-03-28T08:40:07.833Z"
   },
   {
    "duration": 54,
    "start_time": "2022-03-28T08:40:07.856Z"
   },
   {
    "duration": 103,
    "start_time": "2022-03-28T08:40:07.912Z"
   },
   {
    "duration": 198,
    "start_time": "2022-03-28T08:40:08.017Z"
   },
   {
    "duration": 92,
    "start_time": "2022-03-28T08:40:08.219Z"
   },
   {
    "duration": 95,
    "start_time": "2022-03-28T08:40:08.314Z"
   },
   {
    "duration": 9,
    "start_time": "2022-03-28T08:40:08.411Z"
   },
   {
    "duration": 1400,
    "start_time": "2022-03-28T08:40:08.422Z"
   },
   {
    "duration": 1347,
    "start_time": "2022-03-28T08:40:09.824Z"
   },
   {
    "duration": 1362,
    "start_time": "2022-03-28T08:40:11.172Z"
   },
   {
    "duration": 1236,
    "start_time": "2022-03-28T08:46:58.988Z"
   },
   {
    "duration": 349,
    "start_time": "2022-03-28T08:47:00.226Z"
   },
   {
    "duration": 32,
    "start_time": "2022-03-28T08:47:00.577Z"
   },
   {
    "duration": 21,
    "start_time": "2022-03-28T08:47:00.611Z"
   },
   {
    "duration": 21,
    "start_time": "2022-03-28T08:47:00.634Z"
   },
   {
    "duration": 22,
    "start_time": "2022-03-28T08:47:00.657Z"
   },
   {
    "duration": 48,
    "start_time": "2022-03-28T08:47:00.681Z"
   },
   {
    "duration": 107,
    "start_time": "2022-03-28T08:47:00.810Z"
   },
   {
    "duration": 99,
    "start_time": "2022-03-28T08:47:00.919Z"
   },
   {
    "duration": 94,
    "start_time": "2022-03-28T08:47:01.115Z"
   },
   {
    "duration": 3,
    "start_time": "2022-03-28T08:47:01.211Z"
   },
   {
    "duration": 21,
    "start_time": "2022-03-28T08:47:01.215Z"
   },
   {
    "duration": 1328,
    "start_time": "2022-03-28T08:47:01.237Z"
   },
   {
    "duration": 1304,
    "start_time": "2022-03-28T08:47:02.567Z"
   },
   {
    "duration": 1315,
    "start_time": "2022-03-28T08:47:03.873Z"
   },
   {
    "duration": 1112,
    "start_time": "2022-03-28T08:48:30.546Z"
   },
   {
    "duration": 338,
    "start_time": "2022-03-28T08:48:31.660Z"
   },
   {
    "duration": 32,
    "start_time": "2022-03-28T08:48:32.000Z"
   },
   {
    "duration": 20,
    "start_time": "2022-03-28T08:48:32.034Z"
   },
   {
    "duration": 30,
    "start_time": "2022-03-28T08:48:32.056Z"
   },
   {
    "duration": 39,
    "start_time": "2022-03-28T08:48:32.088Z"
   },
   {
    "duration": 82,
    "start_time": "2022-03-28T08:48:32.129Z"
   },
   {
    "duration": 107,
    "start_time": "2022-03-28T08:48:32.212Z"
   },
   {
    "duration": 188,
    "start_time": "2022-03-28T08:48:32.324Z"
   },
   {
    "duration": 94,
    "start_time": "2022-03-28T08:48:32.516Z"
   },
   {
    "duration": 5,
    "start_time": "2022-03-28T08:48:32.613Z"
   },
   {
    "duration": 91,
    "start_time": "2022-03-28T08:48:32.621Z"
   },
   {
    "duration": 1336,
    "start_time": "2022-03-28T08:48:32.714Z"
   },
   {
    "duration": 1334,
    "start_time": "2022-03-28T08:48:34.052Z"
   },
   {
    "duration": 1331,
    "start_time": "2022-03-28T08:48:35.388Z"
   },
   {
    "duration": 1270,
    "start_time": "2022-03-28T09:00:59.567Z"
   },
   {
    "duration": 413,
    "start_time": "2022-03-28T09:01:00.840Z"
   },
   {
    "duration": 48,
    "start_time": "2022-03-28T09:01:01.255Z"
   },
   {
    "duration": 26,
    "start_time": "2022-03-28T09:01:01.305Z"
   },
   {
    "duration": 27,
    "start_time": "2022-03-28T09:01:01.333Z"
   },
   {
    "duration": 53,
    "start_time": "2022-03-28T09:01:01.363Z"
   },
   {
    "duration": 182,
    "start_time": "2022-03-28T09:01:01.419Z"
   },
   {
    "duration": 97,
    "start_time": "2022-03-28T09:01:01.604Z"
   },
   {
    "duration": 103,
    "start_time": "2022-03-28T09:01:01.705Z"
   },
   {
    "duration": 93,
    "start_time": "2022-03-28T09:01:01.811Z"
   },
   {
    "duration": 96,
    "start_time": "2022-03-28T09:01:01.906Z"
   },
   {
    "duration": 18,
    "start_time": "2022-03-28T09:01:02.005Z"
   },
   {
    "duration": 1300,
    "start_time": "2022-03-28T09:01:02.025Z"
   },
   {
    "duration": 1261,
    "start_time": "2022-03-28T09:01:03.327Z"
   },
   {
    "duration": 1225,
    "start_time": "2022-03-28T09:01:04.590Z"
   },
   {
    "duration": 1332,
    "start_time": "2022-03-28T09:02:20.481Z"
   },
   {
    "duration": 416,
    "start_time": "2022-03-28T09:02:21.815Z"
   },
   {
    "duration": 36,
    "start_time": "2022-03-28T09:02:22.233Z"
   },
   {
    "duration": 49,
    "start_time": "2022-03-28T09:02:22.272Z"
   },
   {
    "duration": 28,
    "start_time": "2022-03-28T09:02:22.323Z"
   },
   {
    "duration": 48,
    "start_time": "2022-03-28T09:02:22.353Z"
   },
   {
    "duration": 99,
    "start_time": "2022-03-28T09:02:22.404Z"
   },
   {
    "duration": 108,
    "start_time": "2022-03-28T09:02:22.506Z"
   },
   {
    "duration": 205,
    "start_time": "2022-03-28T09:02:22.617Z"
   },
   {
    "duration": 175,
    "start_time": "2022-03-28T09:02:22.829Z"
   },
   {
    "duration": 33,
    "start_time": "2022-03-28T09:02:23.006Z"
   },
   {
    "duration": 19,
    "start_time": "2022-03-28T09:02:23.042Z"
   },
   {
    "duration": 1367,
    "start_time": "2022-03-28T09:02:23.063Z"
   },
   {
    "duration": 1286,
    "start_time": "2022-03-28T09:02:24.432Z"
   },
   {
    "duration": 1287,
    "start_time": "2022-03-28T09:02:25.720Z"
   },
   {
    "duration": 4,
    "start_time": "2022-03-28T09:10:10.712Z"
   },
   {
    "duration": 1251,
    "start_time": "2022-03-28T09:18:40.381Z"
   },
   {
    "duration": 395,
    "start_time": "2022-03-28T09:18:41.635Z"
   },
   {
    "duration": 34,
    "start_time": "2022-03-28T09:18:42.032Z"
   },
   {
    "duration": 44,
    "start_time": "2022-03-28T09:18:42.068Z"
   },
   {
    "duration": 24,
    "start_time": "2022-03-28T09:18:42.114Z"
   },
   {
    "duration": 24,
    "start_time": "2022-03-28T09:18:42.140Z"
   },
   {
    "duration": 55,
    "start_time": "2022-03-28T09:18:42.166Z"
   },
   {
    "duration": 26,
    "start_time": "2022-03-28T09:18:42.223Z"
   },
   {
    "duration": 46,
    "start_time": "2022-03-28T09:18:42.256Z"
   },
   {
    "duration": 102,
    "start_time": "2022-03-28T09:18:42.306Z"
   },
   {
    "duration": 196,
    "start_time": "2022-03-28T09:18:42.411Z"
   },
   {
    "duration": 92,
    "start_time": "2022-03-28T09:18:42.611Z"
   },
   {
    "duration": 11,
    "start_time": "2022-03-28T09:18:42.705Z"
   },
   {
    "duration": 6,
    "start_time": "2022-03-28T09:18:42.718Z"
   },
   {
    "duration": 1293,
    "start_time": "2022-03-28T09:18:42.726Z"
   },
   {
    "duration": 1260,
    "start_time": "2022-03-28T09:18:44.021Z"
   },
   {
    "duration": 1231,
    "start_time": "2022-03-28T09:18:45.283Z"
   },
   {
    "duration": 1285,
    "start_time": "2022-03-28T09:24:47.019Z"
   },
   {
    "duration": 410,
    "start_time": "2022-03-28T09:24:48.307Z"
   },
   {
    "duration": 33,
    "start_time": "2022-03-28T09:24:48.719Z"
   },
   {
    "duration": 26,
    "start_time": "2022-03-28T09:24:48.754Z"
   },
   {
    "duration": 29,
    "start_time": "2022-03-28T09:24:48.806Z"
   },
   {
    "duration": 24,
    "start_time": "2022-03-28T09:24:48.837Z"
   },
   {
    "duration": 54,
    "start_time": "2022-03-28T09:24:48.863Z"
   },
   {
    "duration": 26,
    "start_time": "2022-03-28T09:24:48.919Z"
   },
   {
    "duration": 64,
    "start_time": "2022-03-28T09:24:48.947Z"
   },
   {
    "duration": 101,
    "start_time": "2022-03-28T09:24:49.015Z"
   },
   {
    "duration": 102,
    "start_time": "2022-03-28T09:24:49.118Z"
   },
   {
    "duration": 105,
    "start_time": "2022-03-28T09:24:49.303Z"
   },
   {
    "duration": 8,
    "start_time": "2022-03-28T09:24:49.413Z"
   },
   {
    "duration": 8,
    "start_time": "2022-03-28T09:24:49.423Z"
   },
   {
    "duration": 1303,
    "start_time": "2022-03-28T09:24:49.433Z"
   },
   {
    "duration": 1318,
    "start_time": "2022-03-28T09:24:50.738Z"
   },
   {
    "duration": 1283,
    "start_time": "2022-03-28T09:24:52.058Z"
   },
   {
    "duration": 1520,
    "start_time": "2022-03-29T13:42:35.063Z"
   },
   {
    "duration": 414,
    "start_time": "2022-03-29T13:42:36.585Z"
   },
   {
    "duration": 56,
    "start_time": "2022-03-29T13:42:37.001Z"
   },
   {
    "duration": 32,
    "start_time": "2022-03-29T13:42:37.061Z"
   },
   {
    "duration": 61,
    "start_time": "2022-03-29T13:42:37.095Z"
   },
   {
    "duration": 24,
    "start_time": "2022-03-29T13:42:37.158Z"
   },
   {
    "duration": 26,
    "start_time": "2022-03-29T13:42:37.184Z"
   },
   {
    "duration": 50,
    "start_time": "2022-03-29T13:42:37.212Z"
   },
   {
    "duration": 82,
    "start_time": "2022-03-29T13:42:37.265Z"
   },
   {
    "duration": 191,
    "start_time": "2022-03-29T13:42:37.351Z"
   },
   {
    "duration": 109,
    "start_time": "2022-03-29T13:42:37.546Z"
   },
   {
    "duration": 88,
    "start_time": "2022-03-29T13:42:37.659Z"
   },
   {
    "duration": 100,
    "start_time": "2022-03-29T13:42:37.751Z"
   },
   {
    "duration": 8,
    "start_time": "2022-03-29T13:42:37.853Z"
   },
   {
    "duration": 1841,
    "start_time": "2022-03-29T13:42:37.863Z"
   },
   {
    "duration": 1783,
    "start_time": "2022-03-29T13:42:39.706Z"
   },
   {
    "duration": 1765,
    "start_time": "2022-03-29T13:42:41.491Z"
   },
   {
    "duration": 1552,
    "start_time": "2022-03-29T13:52:11.719Z"
   },
   {
    "duration": 416,
    "start_time": "2022-03-29T13:52:13.274Z"
   },
   {
    "duration": 56,
    "start_time": "2022-03-29T13:52:13.692Z"
   },
   {
    "duration": 31,
    "start_time": "2022-03-29T13:52:13.751Z"
   },
   {
    "duration": 30,
    "start_time": "2022-03-29T13:52:13.784Z"
   },
   {
    "duration": 25,
    "start_time": "2022-03-29T13:52:13.843Z"
   },
   {
    "duration": 27,
    "start_time": "2022-03-29T13:52:13.870Z"
   },
   {
    "duration": 58,
    "start_time": "2022-03-29T13:52:13.900Z"
   },
   {
    "duration": 86,
    "start_time": "2022-03-29T13:52:13.960Z"
   },
   {
    "duration": 18,
    "start_time": "2022-03-29T13:52:14.143Z"
   },
   {
    "duration": 188,
    "start_time": "2022-03-29T13:52:14.164Z"
   },
   {
    "duration": 95,
    "start_time": "2022-03-29T13:52:14.355Z"
   },
   {
    "duration": 6,
    "start_time": "2022-03-29T13:52:14.543Z"
   },
   {
    "duration": 8,
    "start_time": "2022-03-29T13:52:14.551Z"
   },
   {
    "duration": 1873,
    "start_time": "2022-03-29T13:52:14.561Z"
   },
   {
    "duration": 1868,
    "start_time": "2022-03-29T13:52:16.442Z"
   },
   {
    "duration": 1833,
    "start_time": "2022-03-29T13:52:18.312Z"
   },
   {
    "duration": 1660,
    "start_time": "2022-03-29T13:56:50.198Z"
   },
   {
    "duration": 452,
    "start_time": "2022-03-29T13:56:51.861Z"
   },
   {
    "duration": 52,
    "start_time": "2022-03-29T13:56:52.315Z"
   },
   {
    "duration": 32,
    "start_time": "2022-03-29T13:56:52.370Z"
   },
   {
    "duration": 61,
    "start_time": "2022-03-29T13:56:52.405Z"
   },
   {
    "duration": 29,
    "start_time": "2022-03-29T13:56:52.468Z"
   },
   {
    "duration": 53,
    "start_time": "2022-03-29T13:56:52.499Z"
   },
   {
    "duration": 29,
    "start_time": "2022-03-29T13:56:52.555Z"
   },
   {
    "duration": 155,
    "start_time": "2022-03-29T13:56:52.588Z"
   },
   {
    "duration": 195,
    "start_time": "2022-03-29T13:56:52.747Z"
   },
   {
    "duration": 323,
    "start_time": "2022-03-29T13:56:52.945Z"
   },
   {
    "duration": 75,
    "start_time": "2022-03-29T13:56:53.271Z"
   },
   {
    "duration": 101,
    "start_time": "2022-03-29T13:56:53.350Z"
   },
   {
    "duration": 8,
    "start_time": "2022-03-29T13:56:53.456Z"
   },
   {
    "duration": 1891,
    "start_time": "2022-03-29T13:56:53.467Z"
   },
   {
    "duration": 1778,
    "start_time": "2022-03-29T13:56:55.360Z"
   },
   {
    "duration": 1812,
    "start_time": "2022-03-29T13:56:57.143Z"
   }
  ],
  "kernelspec": {
   "display_name": "Python 3 (ipykernel)",
   "language": "python",
   "name": "python3"
  },
  "language_info": {
   "codemirror_mode": {
    "name": "ipython",
    "version": 3
   },
   "file_extension": ".py",
   "mimetype": "text/x-python",
   "name": "python",
   "nbconvert_exporter": "python",
   "pygments_lexer": "ipython3",
   "version": "3.9.12"
  },
  "toc": {
   "base_numbering": 1,
   "nav_menu": {},
   "number_sections": true,
   "sideBar": true,
   "skip_h1_title": true,
   "title_cell": "Table of Contents",
   "title_sidebar": "Contents",
   "toc_cell": false,
   "toc_position": {},
   "toc_section_display": true,
   "toc_window_display": false
  }
 },
 "nbformat": 4,
 "nbformat_minor": 2
}
