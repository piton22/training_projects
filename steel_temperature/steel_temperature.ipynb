{
 "cells": [
  {
   "cell_type": "markdown",
   "id": "cd3b54ab",
   "metadata": {},
   "source": [
    "# Прогнозирование температуры стали\n",
    "\n",
    "Чтобы оптимизировать производственные расходы, металлургический комбинат решил уменьшить потребление электроэнергии на этапе обработки стали. Необходимо построить модель, которая предскажет температуру стали.\n",
    "\n",
    "### Описание этапа обработки\n",
    "\n",
    "Сталь обрабатывают в металлическом ковше вместимостью около 100 тонн. Чтобы ковш выдерживал высокие температуры, изнутри его облицовывают огнеупорным кирпичом. Расплавленную сталь заливают в ковш и подогревают до нужной температуры графитовыми электродами. Они установлены в крышке ковша. \n",
    "\n",
    "Из сплава выводится сера (десульфурация), добавлением примесей корректируется химический состав и отбираются пробы. Сталь легируют — изменяют её состав — подавая куски сплава из бункера для сыпучих материалов или проволоку через специальный трайб-аппарат (англ. tribe, «масса»).\n",
    "\n",
    "Перед тем как первый раз ввести легирующие добавки, измеряют температуру стали и производят её химический анализ. Потом температуру на несколько минут повышают, добавляют легирующие материалы и продувают сплав инертным газом. Затем его перемешивают и снова проводят измерения. Такой цикл повторяется до достижения целевого химического состава и оптимальной температуры плавки.\n",
    "\n",
    "Тогда расплавленная сталь отправляется на доводку металла или поступает в машину непрерывной разливки. Оттуда готовый продукт выходит в виде заготовок-слябов (англ. *slab*, «плита»)."
   ]
  },
  {
   "cell_type": "markdown",
   "id": "42092725",
   "metadata": {},
   "source": [
    "## План работы"
   ]
  },
  {
   "cell_type": "markdown",
   "id": "3760a9d1",
   "metadata": {},
   "source": [
    "1) Загрузить данные, ознакомиться со структурой таблиц, оценить количество пропусков и дубликатов.\n",
    "\n",
    "2) Провести исследовательский анализ: изучить распределения признаков.\n",
    "\n",
    "3) Провести предобработку: очистить данные от аномалий, заполнить пропуски и объединить таблицы. Добиться структуры \"1 ключ - 1 строка\". \n",
    "\n",
    "4) Подготовить данные к машинному обучению: разбить на обучающую и тестовую выборки, отделить целевой признак от остальных, провести масштабирование признаков для линейных моделей. \n",
    "\n",
    "5) Обучить разные регрессионные модели, подобрать гиперпараметры на кросс-валидации. В качестве метрики будем использовать MAE.\n",
    "\n",
    "6) Протестировать наиболее успешную модель на тестовой выборке.\n",
    "\n",
    "7) Составить отчет о выполненной работе."
   ]
  },
  {
   "cell_type": "markdown",
   "id": "57bf78f6",
   "metadata": {},
   "source": [
    "## Загрузка и первичная оценка данных"
   ]
  },
  {
   "cell_type": "code",
   "execution_count": 1,
   "id": "6d29999b",
   "metadata": {},
   "outputs": [],
   "source": [
    "import pandas as pd\n",
    "import matplotlib.pyplot as plt\n",
    "import numpy as np\n",
    "import time \n",
    "from sklearn.model_selection import train_test_split\n",
    "from sklearn.preprocessing import StandardScaler\n",
    "from sklearn.linear_model import LinearRegression, Ridge, Lasso, ElasticNet\n",
    "from sklearn.tree import DecisionTreeRegressor\n",
    "from sklearn.ensemble import RandomForestRegressor\n",
    "from sklearn.neighbors import KNeighborsRegressor\n",
    "from lightgbm import LGBMRegressor \n",
    "from sklearn.model_selection import StratifiedKFold\n",
    "from sklearn.model_selection import cross_val_score\n",
    "from sklearn.model_selection import StratifiedKFold\n",
    "from sklearn.model_selection import GridSearchCV\n",
    "from sklearn.metrics import mean_absolute_error\n",
    "from sklearn.metrics import make_scorer\n",
    "from sklearn.svm import SVR\n",
    "\n",
    "\n",
    "#давим варнинги\n",
    "from warnings import simplefilter\n",
    "simplefilter(action='ignore', category=FutureWarning)\n",
    "\n",
    "random_state = 250722"
   ]
  },
  {
   "cell_type": "code",
   "execution_count": 2,
   "id": "1952613e",
   "metadata": {},
   "outputs": [],
   "source": [
    "try:\n",
    "    data_arc = pd.read_csv(\n",
    "        \"C:\\\\Users\\\\Дмитрий\\\\Desktop\\\\DS Final Project\\\\final_steel\\\\data_arc.csv\", \n",
    "        parse_dates=[1,2])\n",
    "    data_bulk = pd.read_csv(\n",
    "        \"C:\\\\Users\\\\Дмитрий\\\\Desktop\\\\DS Final Project\\\\final_steel\\\\data_bulk.csv\")\n",
    "    data_bulk_time = pd.read_csv(\n",
    "        \"C:\\\\Users\\\\Дмитрий\\\\Desktop\\\\DS Final Project\\\\final_steel\\\\data_bulk_time.csv\", \n",
    "        parse_dates = list(range(1,16,1)))\n",
    "    data_gas = pd.read_csv(\n",
    "        \"C:\\\\Users\\\\Дмитрий\\\\Desktop\\\\DS Final Project\\\\final_steel\\\\data_gas.csv\")\n",
    "    data_temp = pd.read_csv(\n",
    "        \"C:\\\\Users\\\\Дмитрий\\\\Desktop\\\\DS Final Project\\\\final_steel\\\\data_temp.csv\",\n",
    "        parse_dates=[1])\n",
    "    data_wire = pd.read_csv(\n",
    "        \"C:\\\\Users\\\\Дмитрий\\\\Desktop\\\\DS Final Project\\\\final_steel\\\\data_wire.csv\")\n",
    "    data_wire_time = pd.read_csv(\n",
    "        \"C:\\\\Users\\\\Дмитрий\\\\Desktop\\\\DS Final Project\\\\final_steel\\\\data_wire_time.csv\",\n",
    "        parse_dates = list(range(1,10,1)))\n",
    "\n",
    "except:\n",
    "    data_arc = pd.read_csv(\n",
    "        \"/datasets/final_steel/data_arc.csv\", \n",
    "        parse_dates=[1,2])\n",
    "    data_bulk = pd.read_csv(\n",
    "        \"/datasets/final_steel/data_bulk.csv\")\n",
    "    data_bulk_time = pd.read_csv(\n",
    "        \"/datasets/final_steel/data_bulk_time.csv\", \n",
    "        parse_dates = list(range(1,16,1)))\n",
    "    data_gas = pd.read_csv(\n",
    "        \"/datasets/final_steel/data_gas.csv\")\n",
    "    data_temp = pd.read_csv(\n",
    "        \"/datasets/final_steel/data_temp.csv\",\n",
    "        parse_dates=[1])\n",
    "    data_wire = pd.read_csv(\n",
    "        \"/datasets/final_steel/data_wire.csv\")\n",
    "    data_wire_time = pd.read_csv(\n",
    "        \"/datasets/final_steel/data_wire_time.csv\",\n",
    "        parse_dates = list(range(1,10,1)))"
   ]
  },
  {
   "cell_type": "code",
   "execution_count": 3,
   "id": "3482be5b",
   "metadata": {},
   "outputs": [],
   "source": [
    "def info(data):\n",
    "    display(data)\n",
    "    data.info()\n",
    "    print('')\n",
    "    print('Доля пропусков в колонках:')\n",
    "    display(data.isna().sum()/len(data))\n",
    "    print('Количество дубликатов:', data_bulk.duplicated().sum())"
   ]
  },
  {
   "cell_type": "code",
   "execution_count": 4,
   "id": "a7c6026d",
   "metadata": {
    "scrolled": true
   },
   "outputs": [
    {
     "data": {
      "text/html": [
       "<div>\n",
       "<style scoped>\n",
       "    .dataframe tbody tr th:only-of-type {\n",
       "        vertical-align: middle;\n",
       "    }\n",
       "\n",
       "    .dataframe tbody tr th {\n",
       "        vertical-align: top;\n",
       "    }\n",
       "\n",
       "    .dataframe thead th {\n",
       "        text-align: right;\n",
       "    }\n",
       "</style>\n",
       "<table border=\"1\" class=\"dataframe\">\n",
       "  <thead>\n",
       "    <tr style=\"text-align: right;\">\n",
       "      <th></th>\n",
       "      <th>key</th>\n",
       "      <th>Начало нагрева дугой</th>\n",
       "      <th>Конец нагрева дугой</th>\n",
       "      <th>Активная мощность</th>\n",
       "      <th>Реактивная мощность</th>\n",
       "    </tr>\n",
       "  </thead>\n",
       "  <tbody>\n",
       "    <tr>\n",
       "      <th>0</th>\n",
       "      <td>1</td>\n",
       "      <td>2019-05-03 11:02:14</td>\n",
       "      <td>2019-05-03 11:06:02</td>\n",
       "      <td>0.976059</td>\n",
       "      <td>0.687084</td>\n",
       "    </tr>\n",
       "    <tr>\n",
       "      <th>1</th>\n",
       "      <td>1</td>\n",
       "      <td>2019-05-03 11:07:28</td>\n",
       "      <td>2019-05-03 11:10:33</td>\n",
       "      <td>0.805607</td>\n",
       "      <td>0.520285</td>\n",
       "    </tr>\n",
       "    <tr>\n",
       "      <th>2</th>\n",
       "      <td>1</td>\n",
       "      <td>2019-05-03 11:11:44</td>\n",
       "      <td>2019-05-03 11:14:36</td>\n",
       "      <td>0.744363</td>\n",
       "      <td>0.498805</td>\n",
       "    </tr>\n",
       "    <tr>\n",
       "      <th>3</th>\n",
       "      <td>1</td>\n",
       "      <td>2019-05-03 11:18:14</td>\n",
       "      <td>2019-05-03 11:24:19</td>\n",
       "      <td>1.659363</td>\n",
       "      <td>1.062669</td>\n",
       "    </tr>\n",
       "    <tr>\n",
       "      <th>4</th>\n",
       "      <td>1</td>\n",
       "      <td>2019-05-03 11:26:09</td>\n",
       "      <td>2019-05-03 11:28:37</td>\n",
       "      <td>0.692755</td>\n",
       "      <td>0.414397</td>\n",
       "    </tr>\n",
       "    <tr>\n",
       "      <th>...</th>\n",
       "      <td>...</td>\n",
       "      <td>...</td>\n",
       "      <td>...</td>\n",
       "      <td>...</td>\n",
       "      <td>...</td>\n",
       "    </tr>\n",
       "    <tr>\n",
       "      <th>14871</th>\n",
       "      <td>3241</td>\n",
       "      <td>2019-09-01 03:58:58</td>\n",
       "      <td>2019-09-01 04:01:35</td>\n",
       "      <td>0.533670</td>\n",
       "      <td>0.354439</td>\n",
       "    </tr>\n",
       "    <tr>\n",
       "      <th>14872</th>\n",
       "      <td>3241</td>\n",
       "      <td>2019-09-01 04:05:04</td>\n",
       "      <td>2019-09-01 04:08:04</td>\n",
       "      <td>0.676604</td>\n",
       "      <td>0.523631</td>\n",
       "    </tr>\n",
       "    <tr>\n",
       "      <th>14873</th>\n",
       "      <td>3241</td>\n",
       "      <td>2019-09-01 04:16:41</td>\n",
       "      <td>2019-09-01 04:19:45</td>\n",
       "      <td>0.733899</td>\n",
       "      <td>0.475654</td>\n",
       "    </tr>\n",
       "    <tr>\n",
       "      <th>14874</th>\n",
       "      <td>3241</td>\n",
       "      <td>2019-09-01 04:31:51</td>\n",
       "      <td>2019-09-01 04:32:48</td>\n",
       "      <td>0.220694</td>\n",
       "      <td>0.145768</td>\n",
       "    </tr>\n",
       "    <tr>\n",
       "      <th>14875</th>\n",
       "      <td>3241</td>\n",
       "      <td>2019-09-01 04:34:47</td>\n",
       "      <td>2019-09-01 04:36:08</td>\n",
       "      <td>0.306580</td>\n",
       "      <td>0.196708</td>\n",
       "    </tr>\n",
       "  </tbody>\n",
       "</table>\n",
       "<p>14876 rows × 5 columns</p>\n",
       "</div>"
      ],
      "text/plain": [
       "        key Начало нагрева дугой Конец нагрева дугой  Активная мощность  \\\n",
       "0         1  2019-05-03 11:02:14 2019-05-03 11:06:02           0.976059   \n",
       "1         1  2019-05-03 11:07:28 2019-05-03 11:10:33           0.805607   \n",
       "2         1  2019-05-03 11:11:44 2019-05-03 11:14:36           0.744363   \n",
       "3         1  2019-05-03 11:18:14 2019-05-03 11:24:19           1.659363   \n",
       "4         1  2019-05-03 11:26:09 2019-05-03 11:28:37           0.692755   \n",
       "...     ...                  ...                 ...                ...   \n",
       "14871  3241  2019-09-01 03:58:58 2019-09-01 04:01:35           0.533670   \n",
       "14872  3241  2019-09-01 04:05:04 2019-09-01 04:08:04           0.676604   \n",
       "14873  3241  2019-09-01 04:16:41 2019-09-01 04:19:45           0.733899   \n",
       "14874  3241  2019-09-01 04:31:51 2019-09-01 04:32:48           0.220694   \n",
       "14875  3241  2019-09-01 04:34:47 2019-09-01 04:36:08           0.306580   \n",
       "\n",
       "       Реактивная мощность  \n",
       "0                 0.687084  \n",
       "1                 0.520285  \n",
       "2                 0.498805  \n",
       "3                 1.062669  \n",
       "4                 0.414397  \n",
       "...                    ...  \n",
       "14871             0.354439  \n",
       "14872             0.523631  \n",
       "14873             0.475654  \n",
       "14874             0.145768  \n",
       "14875             0.196708  \n",
       "\n",
       "[14876 rows x 5 columns]"
      ]
     },
     "metadata": {},
     "output_type": "display_data"
    },
    {
     "name": "stdout",
     "output_type": "stream",
     "text": [
      "<class 'pandas.core.frame.DataFrame'>\n",
      "RangeIndex: 14876 entries, 0 to 14875\n",
      "Data columns (total 5 columns):\n",
      " #   Column                Non-Null Count  Dtype         \n",
      "---  ------                --------------  -----         \n",
      " 0   key                   14876 non-null  int64         \n",
      " 1   Начало нагрева дугой  14876 non-null  datetime64[ns]\n",
      " 2   Конец нагрева дугой   14876 non-null  datetime64[ns]\n",
      " 3   Активная мощность     14876 non-null  float64       \n",
      " 4   Реактивная мощность   14876 non-null  float64       \n",
      "dtypes: datetime64[ns](2), float64(2), int64(1)\n",
      "memory usage: 581.2 KB\n",
      "\n",
      "Доля пропусков в колонках:\n"
     ]
    },
    {
     "data": {
      "text/plain": [
       "key                     0.0\n",
       "Начало нагрева дугой    0.0\n",
       "Конец нагрева дугой     0.0\n",
       "Активная мощность       0.0\n",
       "Реактивная мощность     0.0\n",
       "dtype: float64"
      ]
     },
     "metadata": {},
     "output_type": "display_data"
    },
    {
     "name": "stdout",
     "output_type": "stream",
     "text": [
      "Количество дубликатов: 0\n"
     ]
    }
   ],
   "source": [
    "info(data_arc)"
   ]
  },
  {
   "cell_type": "markdown",
   "id": "6be24cc4",
   "metadata": {},
   "source": [
    "В таблице `data_arc` представлены данные об этапах подогрева расплавленного металла с помощью электрода (начало и конец подогрева, активная и реактивная мощность электрода)."
   ]
  },
  {
   "cell_type": "code",
   "execution_count": 5,
   "id": "7e72f080",
   "metadata": {
    "scrolled": false
   },
   "outputs": [
    {
     "data": {
      "text/html": [
       "<div>\n",
       "<style scoped>\n",
       "    .dataframe tbody tr th:only-of-type {\n",
       "        vertical-align: middle;\n",
       "    }\n",
       "\n",
       "    .dataframe tbody tr th {\n",
       "        vertical-align: top;\n",
       "    }\n",
       "\n",
       "    .dataframe thead th {\n",
       "        text-align: right;\n",
       "    }\n",
       "</style>\n",
       "<table border=\"1\" class=\"dataframe\">\n",
       "  <thead>\n",
       "    <tr style=\"text-align: right;\">\n",
       "      <th></th>\n",
       "      <th>key</th>\n",
       "      <th>Bulk 1</th>\n",
       "      <th>Bulk 2</th>\n",
       "      <th>Bulk 3</th>\n",
       "      <th>Bulk 4</th>\n",
       "      <th>Bulk 5</th>\n",
       "      <th>Bulk 6</th>\n",
       "      <th>Bulk 7</th>\n",
       "      <th>Bulk 8</th>\n",
       "      <th>Bulk 9</th>\n",
       "      <th>Bulk 10</th>\n",
       "      <th>Bulk 11</th>\n",
       "      <th>Bulk 12</th>\n",
       "      <th>Bulk 13</th>\n",
       "      <th>Bulk 14</th>\n",
       "      <th>Bulk 15</th>\n",
       "    </tr>\n",
       "  </thead>\n",
       "  <tbody>\n",
       "    <tr>\n",
       "      <th>0</th>\n",
       "      <td>1</td>\n",
       "      <td>NaN</td>\n",
       "      <td>NaN</td>\n",
       "      <td>NaN</td>\n",
       "      <td>43.0</td>\n",
       "      <td>NaN</td>\n",
       "      <td>NaN</td>\n",
       "      <td>NaN</td>\n",
       "      <td>NaN</td>\n",
       "      <td>NaN</td>\n",
       "      <td>NaN</td>\n",
       "      <td>NaN</td>\n",
       "      <td>206.0</td>\n",
       "      <td>NaN</td>\n",
       "      <td>150.0</td>\n",
       "      <td>154.0</td>\n",
       "    </tr>\n",
       "    <tr>\n",
       "      <th>1</th>\n",
       "      <td>2</td>\n",
       "      <td>NaN</td>\n",
       "      <td>NaN</td>\n",
       "      <td>NaN</td>\n",
       "      <td>73.0</td>\n",
       "      <td>NaN</td>\n",
       "      <td>NaN</td>\n",
       "      <td>NaN</td>\n",
       "      <td>NaN</td>\n",
       "      <td>NaN</td>\n",
       "      <td>NaN</td>\n",
       "      <td>NaN</td>\n",
       "      <td>206.0</td>\n",
       "      <td>NaN</td>\n",
       "      <td>149.0</td>\n",
       "      <td>154.0</td>\n",
       "    </tr>\n",
       "    <tr>\n",
       "      <th>2</th>\n",
       "      <td>3</td>\n",
       "      <td>NaN</td>\n",
       "      <td>NaN</td>\n",
       "      <td>NaN</td>\n",
       "      <td>34.0</td>\n",
       "      <td>NaN</td>\n",
       "      <td>NaN</td>\n",
       "      <td>NaN</td>\n",
       "      <td>NaN</td>\n",
       "      <td>NaN</td>\n",
       "      <td>NaN</td>\n",
       "      <td>NaN</td>\n",
       "      <td>205.0</td>\n",
       "      <td>NaN</td>\n",
       "      <td>152.0</td>\n",
       "      <td>153.0</td>\n",
       "    </tr>\n",
       "    <tr>\n",
       "      <th>3</th>\n",
       "      <td>4</td>\n",
       "      <td>NaN</td>\n",
       "      <td>NaN</td>\n",
       "      <td>NaN</td>\n",
       "      <td>81.0</td>\n",
       "      <td>NaN</td>\n",
       "      <td>NaN</td>\n",
       "      <td>NaN</td>\n",
       "      <td>NaN</td>\n",
       "      <td>NaN</td>\n",
       "      <td>NaN</td>\n",
       "      <td>NaN</td>\n",
       "      <td>207.0</td>\n",
       "      <td>NaN</td>\n",
       "      <td>153.0</td>\n",
       "      <td>154.0</td>\n",
       "    </tr>\n",
       "    <tr>\n",
       "      <th>4</th>\n",
       "      <td>5</td>\n",
       "      <td>NaN</td>\n",
       "      <td>NaN</td>\n",
       "      <td>NaN</td>\n",
       "      <td>78.0</td>\n",
       "      <td>NaN</td>\n",
       "      <td>NaN</td>\n",
       "      <td>NaN</td>\n",
       "      <td>NaN</td>\n",
       "      <td>NaN</td>\n",
       "      <td>NaN</td>\n",
       "      <td>NaN</td>\n",
       "      <td>203.0</td>\n",
       "      <td>NaN</td>\n",
       "      <td>151.0</td>\n",
       "      <td>152.0</td>\n",
       "    </tr>\n",
       "    <tr>\n",
       "      <th>...</th>\n",
       "      <td>...</td>\n",
       "      <td>...</td>\n",
       "      <td>...</td>\n",
       "      <td>...</td>\n",
       "      <td>...</td>\n",
       "      <td>...</td>\n",
       "      <td>...</td>\n",
       "      <td>...</td>\n",
       "      <td>...</td>\n",
       "      <td>...</td>\n",
       "      <td>...</td>\n",
       "      <td>...</td>\n",
       "      <td>...</td>\n",
       "      <td>...</td>\n",
       "      <td>...</td>\n",
       "      <td>...</td>\n",
       "    </tr>\n",
       "    <tr>\n",
       "      <th>3124</th>\n",
       "      <td>3237</td>\n",
       "      <td>NaN</td>\n",
       "      <td>NaN</td>\n",
       "      <td>170.0</td>\n",
       "      <td>NaN</td>\n",
       "      <td>NaN</td>\n",
       "      <td>NaN</td>\n",
       "      <td>NaN</td>\n",
       "      <td>NaN</td>\n",
       "      <td>NaN</td>\n",
       "      <td>NaN</td>\n",
       "      <td>NaN</td>\n",
       "      <td>252.0</td>\n",
       "      <td>NaN</td>\n",
       "      <td>130.0</td>\n",
       "      <td>206.0</td>\n",
       "    </tr>\n",
       "    <tr>\n",
       "      <th>3125</th>\n",
       "      <td>3238</td>\n",
       "      <td>NaN</td>\n",
       "      <td>NaN</td>\n",
       "      <td>126.0</td>\n",
       "      <td>NaN</td>\n",
       "      <td>NaN</td>\n",
       "      <td>NaN</td>\n",
       "      <td>NaN</td>\n",
       "      <td>NaN</td>\n",
       "      <td>NaN</td>\n",
       "      <td>NaN</td>\n",
       "      <td>NaN</td>\n",
       "      <td>254.0</td>\n",
       "      <td>NaN</td>\n",
       "      <td>108.0</td>\n",
       "      <td>106.0</td>\n",
       "    </tr>\n",
       "    <tr>\n",
       "      <th>3126</th>\n",
       "      <td>3239</td>\n",
       "      <td>NaN</td>\n",
       "      <td>NaN</td>\n",
       "      <td>NaN</td>\n",
       "      <td>NaN</td>\n",
       "      <td>NaN</td>\n",
       "      <td>114.0</td>\n",
       "      <td>NaN</td>\n",
       "      <td>NaN</td>\n",
       "      <td>NaN</td>\n",
       "      <td>NaN</td>\n",
       "      <td>NaN</td>\n",
       "      <td>158.0</td>\n",
       "      <td>NaN</td>\n",
       "      <td>270.0</td>\n",
       "      <td>88.0</td>\n",
       "    </tr>\n",
       "    <tr>\n",
       "      <th>3127</th>\n",
       "      <td>3240</td>\n",
       "      <td>NaN</td>\n",
       "      <td>NaN</td>\n",
       "      <td>NaN</td>\n",
       "      <td>NaN</td>\n",
       "      <td>NaN</td>\n",
       "      <td>26.0</td>\n",
       "      <td>NaN</td>\n",
       "      <td>NaN</td>\n",
       "      <td>NaN</td>\n",
       "      <td>NaN</td>\n",
       "      <td>NaN</td>\n",
       "      <td>NaN</td>\n",
       "      <td>NaN</td>\n",
       "      <td>192.0</td>\n",
       "      <td>54.0</td>\n",
       "    </tr>\n",
       "    <tr>\n",
       "      <th>3128</th>\n",
       "      <td>3241</td>\n",
       "      <td>NaN</td>\n",
       "      <td>NaN</td>\n",
       "      <td>NaN</td>\n",
       "      <td>NaN</td>\n",
       "      <td>NaN</td>\n",
       "      <td>NaN</td>\n",
       "      <td>NaN</td>\n",
       "      <td>NaN</td>\n",
       "      <td>NaN</td>\n",
       "      <td>NaN</td>\n",
       "      <td>NaN</td>\n",
       "      <td>NaN</td>\n",
       "      <td>NaN</td>\n",
       "      <td>180.0</td>\n",
       "      <td>52.0</td>\n",
       "    </tr>\n",
       "  </tbody>\n",
       "</table>\n",
       "<p>3129 rows × 16 columns</p>\n",
       "</div>"
      ],
      "text/plain": [
       "       key  Bulk 1  Bulk 2  Bulk 3  Bulk 4  Bulk 5  Bulk 6  Bulk 7  Bulk 8  \\\n",
       "0        1     NaN     NaN     NaN    43.0     NaN     NaN     NaN     NaN   \n",
       "1        2     NaN     NaN     NaN    73.0     NaN     NaN     NaN     NaN   \n",
       "2        3     NaN     NaN     NaN    34.0     NaN     NaN     NaN     NaN   \n",
       "3        4     NaN     NaN     NaN    81.0     NaN     NaN     NaN     NaN   \n",
       "4        5     NaN     NaN     NaN    78.0     NaN     NaN     NaN     NaN   \n",
       "...    ...     ...     ...     ...     ...     ...     ...     ...     ...   \n",
       "3124  3237     NaN     NaN   170.0     NaN     NaN     NaN     NaN     NaN   \n",
       "3125  3238     NaN     NaN   126.0     NaN     NaN     NaN     NaN     NaN   \n",
       "3126  3239     NaN     NaN     NaN     NaN     NaN   114.0     NaN     NaN   \n",
       "3127  3240     NaN     NaN     NaN     NaN     NaN    26.0     NaN     NaN   \n",
       "3128  3241     NaN     NaN     NaN     NaN     NaN     NaN     NaN     NaN   \n",
       "\n",
       "      Bulk 9  Bulk 10  Bulk 11  Bulk 12  Bulk 13  Bulk 14  Bulk 15  \n",
       "0        NaN      NaN      NaN    206.0      NaN    150.0    154.0  \n",
       "1        NaN      NaN      NaN    206.0      NaN    149.0    154.0  \n",
       "2        NaN      NaN      NaN    205.0      NaN    152.0    153.0  \n",
       "3        NaN      NaN      NaN    207.0      NaN    153.0    154.0  \n",
       "4        NaN      NaN      NaN    203.0      NaN    151.0    152.0  \n",
       "...      ...      ...      ...      ...      ...      ...      ...  \n",
       "3124     NaN      NaN      NaN    252.0      NaN    130.0    206.0  \n",
       "3125     NaN      NaN      NaN    254.0      NaN    108.0    106.0  \n",
       "3126     NaN      NaN      NaN    158.0      NaN    270.0     88.0  \n",
       "3127     NaN      NaN      NaN      NaN      NaN    192.0     54.0  \n",
       "3128     NaN      NaN      NaN      NaN      NaN    180.0     52.0  \n",
       "\n",
       "[3129 rows x 16 columns]"
      ]
     },
     "metadata": {},
     "output_type": "display_data"
    },
    {
     "name": "stdout",
     "output_type": "stream",
     "text": [
      "<class 'pandas.core.frame.DataFrame'>\n",
      "RangeIndex: 3129 entries, 0 to 3128\n",
      "Data columns (total 16 columns):\n",
      " #   Column   Non-Null Count  Dtype  \n",
      "---  ------   --------------  -----  \n",
      " 0   key      3129 non-null   int64  \n",
      " 1   Bulk 1   252 non-null    float64\n",
      " 2   Bulk 2   22 non-null     float64\n",
      " 3   Bulk 3   1298 non-null   float64\n",
      " 4   Bulk 4   1014 non-null   float64\n",
      " 5   Bulk 5   77 non-null     float64\n",
      " 6   Bulk 6   576 non-null    float64\n",
      " 7   Bulk 7   25 non-null     float64\n",
      " 8   Bulk 8   1 non-null      float64\n",
      " 9   Bulk 9   19 non-null     float64\n",
      " 10  Bulk 10  176 non-null    float64\n",
      " 11  Bulk 11  177 non-null    float64\n",
      " 12  Bulk 12  2450 non-null   float64\n",
      " 13  Bulk 13  18 non-null     float64\n",
      " 14  Bulk 14  2806 non-null   float64\n",
      " 15  Bulk 15  2248 non-null   float64\n",
      "dtypes: float64(15), int64(1)\n",
      "memory usage: 391.2 KB\n",
      "\n",
      "Доля пропусков в колонках:\n"
     ]
    },
    {
     "data": {
      "text/plain": [
       "key        0.000000\n",
       "Bulk 1     0.919463\n",
       "Bulk 2     0.992969\n",
       "Bulk 3     0.585171\n",
       "Bulk 4     0.675935\n",
       "Bulk 5     0.975391\n",
       "Bulk 6     0.815916\n",
       "Bulk 7     0.992010\n",
       "Bulk 8     0.999680\n",
       "Bulk 9     0.993928\n",
       "Bulk 10    0.943752\n",
       "Bulk 11    0.943432\n",
       "Bulk 12    0.217002\n",
       "Bulk 13    0.994247\n",
       "Bulk 14    0.103228\n",
       "Bulk 15    0.281560\n",
       "dtype: float64"
      ]
     },
     "metadata": {},
     "output_type": "display_data"
    },
    {
     "name": "stdout",
     "output_type": "stream",
     "text": [
      "Количество дубликатов: 0\n"
     ]
    }
   ],
   "source": [
    "info(data_bulk)"
   ]
  },
  {
   "cell_type": "code",
   "execution_count": 6,
   "id": "c87b49cf",
   "metadata": {},
   "outputs": [
    {
     "data": {
      "text/plain": [
       "2049    1\n",
       "2612    1\n",
       "2588    1\n",
       "541     1\n",
       "2590    1\n",
       "       ..\n",
       "1090    1\n",
       "3139    1\n",
       "1092    1\n",
       "3141    1\n",
       "2047    1\n",
       "Name: key, Length: 3129, dtype: int64"
      ]
     },
     "execution_count": 6,
     "metadata": {},
     "output_type": "execute_result"
    }
   ],
   "source": [
    "data_bulk['key'].value_counts()"
   ]
  },
  {
   "cell_type": "markdown",
   "id": "dc229be2",
   "metadata": {},
   "source": [
    "Основная часть таблицы `data_bulk` состоит из пропусков. Вероятно, каждый столбец обозначает добавление определенного сыпучего материала. Если материал не добавляли, значит в ячейке стоит пропуск. В будущем пропуски можно заменить на 0. Ключи в таблице не повторяются, значит добавление сыпучих материалов осуществляли в 1 заход."
   ]
  },
  {
   "cell_type": "code",
   "execution_count": 7,
   "id": "9e1115c3",
   "metadata": {
    "scrolled": true
   },
   "outputs": [
    {
     "data": {
      "text/html": [
       "<div>\n",
       "<style scoped>\n",
       "    .dataframe tbody tr th:only-of-type {\n",
       "        vertical-align: middle;\n",
       "    }\n",
       "\n",
       "    .dataframe tbody tr th {\n",
       "        vertical-align: top;\n",
       "    }\n",
       "\n",
       "    .dataframe thead th {\n",
       "        text-align: right;\n",
       "    }\n",
       "</style>\n",
       "<table border=\"1\" class=\"dataframe\">\n",
       "  <thead>\n",
       "    <tr style=\"text-align: right;\">\n",
       "      <th></th>\n",
       "      <th>key</th>\n",
       "      <th>Bulk 1</th>\n",
       "      <th>Bulk 2</th>\n",
       "      <th>Bulk 3</th>\n",
       "      <th>Bulk 4</th>\n",
       "      <th>Bulk 5</th>\n",
       "      <th>Bulk 6</th>\n",
       "      <th>Bulk 7</th>\n",
       "      <th>Bulk 8</th>\n",
       "      <th>Bulk 9</th>\n",
       "      <th>Bulk 10</th>\n",
       "      <th>Bulk 11</th>\n",
       "      <th>Bulk 12</th>\n",
       "      <th>Bulk 13</th>\n",
       "      <th>Bulk 14</th>\n",
       "      <th>Bulk 15</th>\n",
       "    </tr>\n",
       "  </thead>\n",
       "  <tbody>\n",
       "    <tr>\n",
       "      <th>0</th>\n",
       "      <td>1</td>\n",
       "      <td>NaT</td>\n",
       "      <td>NaT</td>\n",
       "      <td>NaT</td>\n",
       "      <td>2019-05-03 11:21:30</td>\n",
       "      <td>NaT</td>\n",
       "      <td>NaT</td>\n",
       "      <td>NaT</td>\n",
       "      <td>NaT</td>\n",
       "      <td>NaT</td>\n",
       "      <td>NaT</td>\n",
       "      <td>NaT</td>\n",
       "      <td>2019-05-03 11:03:52</td>\n",
       "      <td>NaT</td>\n",
       "      <td>2019-05-03 11:03:52</td>\n",
       "      <td>2019-05-03 11:03:52</td>\n",
       "    </tr>\n",
       "    <tr>\n",
       "      <th>1</th>\n",
       "      <td>2</td>\n",
       "      <td>NaT</td>\n",
       "      <td>NaT</td>\n",
       "      <td>NaT</td>\n",
       "      <td>2019-05-03 11:46:38</td>\n",
       "      <td>NaT</td>\n",
       "      <td>NaT</td>\n",
       "      <td>NaT</td>\n",
       "      <td>NaT</td>\n",
       "      <td>NaT</td>\n",
       "      <td>NaT</td>\n",
       "      <td>NaT</td>\n",
       "      <td>2019-05-03 11:40:20</td>\n",
       "      <td>NaT</td>\n",
       "      <td>2019-05-03 11:40:20</td>\n",
       "      <td>2019-05-03 11:40:20</td>\n",
       "    </tr>\n",
       "    <tr>\n",
       "      <th>2</th>\n",
       "      <td>3</td>\n",
       "      <td>NaT</td>\n",
       "      <td>NaT</td>\n",
       "      <td>NaT</td>\n",
       "      <td>2019-05-03 12:31:06</td>\n",
       "      <td>NaT</td>\n",
       "      <td>NaT</td>\n",
       "      <td>NaT</td>\n",
       "      <td>NaT</td>\n",
       "      <td>NaT</td>\n",
       "      <td>NaT</td>\n",
       "      <td>NaT</td>\n",
       "      <td>2019-05-03 12:09:40</td>\n",
       "      <td>NaT</td>\n",
       "      <td>2019-05-03 12:09:40</td>\n",
       "      <td>2019-05-03 12:09:40</td>\n",
       "    </tr>\n",
       "    <tr>\n",
       "      <th>3</th>\n",
       "      <td>4</td>\n",
       "      <td>NaT</td>\n",
       "      <td>NaT</td>\n",
       "      <td>NaT</td>\n",
       "      <td>2019-05-03 12:48:43</td>\n",
       "      <td>NaT</td>\n",
       "      <td>NaT</td>\n",
       "      <td>NaT</td>\n",
       "      <td>NaT</td>\n",
       "      <td>NaT</td>\n",
       "      <td>NaT</td>\n",
       "      <td>NaT</td>\n",
       "      <td>2019-05-03 12:41:24</td>\n",
       "      <td>NaT</td>\n",
       "      <td>2019-05-03 12:41:24</td>\n",
       "      <td>2019-05-03 12:41:24</td>\n",
       "    </tr>\n",
       "    <tr>\n",
       "      <th>4</th>\n",
       "      <td>5</td>\n",
       "      <td>NaT</td>\n",
       "      <td>NaT</td>\n",
       "      <td>NaT</td>\n",
       "      <td>2019-05-03 13:18:50</td>\n",
       "      <td>NaT</td>\n",
       "      <td>NaT</td>\n",
       "      <td>NaT</td>\n",
       "      <td>NaT</td>\n",
       "      <td>NaT</td>\n",
       "      <td>NaT</td>\n",
       "      <td>NaT</td>\n",
       "      <td>2019-05-03 13:12:56</td>\n",
       "      <td>NaT</td>\n",
       "      <td>2019-05-03 13:12:56</td>\n",
       "      <td>2019-05-03 13:12:56</td>\n",
       "    </tr>\n",
       "    <tr>\n",
       "      <th>...</th>\n",
       "      <td>...</td>\n",
       "      <td>...</td>\n",
       "      <td>...</td>\n",
       "      <td>...</td>\n",
       "      <td>...</td>\n",
       "      <td>...</td>\n",
       "      <td>...</td>\n",
       "      <td>...</td>\n",
       "      <td>...</td>\n",
       "      <td>...</td>\n",
       "      <td>...</td>\n",
       "      <td>...</td>\n",
       "      <td>...</td>\n",
       "      <td>...</td>\n",
       "      <td>...</td>\n",
       "      <td>...</td>\n",
       "    </tr>\n",
       "    <tr>\n",
       "      <th>3124</th>\n",
       "      <td>3237</td>\n",
       "      <td>NaT</td>\n",
       "      <td>NaT</td>\n",
       "      <td>2019-08-31 22:51:28</td>\n",
       "      <td>NaT</td>\n",
       "      <td>NaT</td>\n",
       "      <td>NaT</td>\n",
       "      <td>NaT</td>\n",
       "      <td>NaT</td>\n",
       "      <td>NaT</td>\n",
       "      <td>NaT</td>\n",
       "      <td>NaT</td>\n",
       "      <td>2019-08-31 22:46:52</td>\n",
       "      <td>NaT</td>\n",
       "      <td>2019-08-31 22:46:52</td>\n",
       "      <td>2019-08-31 22:46:52</td>\n",
       "    </tr>\n",
       "    <tr>\n",
       "      <th>3125</th>\n",
       "      <td>3238</td>\n",
       "      <td>NaT</td>\n",
       "      <td>NaT</td>\n",
       "      <td>2019-08-31 23:39:11</td>\n",
       "      <td>NaT</td>\n",
       "      <td>NaT</td>\n",
       "      <td>NaT</td>\n",
       "      <td>NaT</td>\n",
       "      <td>NaT</td>\n",
       "      <td>NaT</td>\n",
       "      <td>NaT</td>\n",
       "      <td>NaT</td>\n",
       "      <td>2019-08-31 23:33:09</td>\n",
       "      <td>NaT</td>\n",
       "      <td>2019-08-31 23:33:09</td>\n",
       "      <td>2019-08-31 23:33:09</td>\n",
       "    </tr>\n",
       "    <tr>\n",
       "      <th>3126</th>\n",
       "      <td>3239</td>\n",
       "      <td>NaT</td>\n",
       "      <td>NaT</td>\n",
       "      <td>NaT</td>\n",
       "      <td>NaT</td>\n",
       "      <td>NaT</td>\n",
       "      <td>2019-09-01 01:51:58</td>\n",
       "      <td>NaT</td>\n",
       "      <td>NaT</td>\n",
       "      <td>NaT</td>\n",
       "      <td>NaT</td>\n",
       "      <td>NaT</td>\n",
       "      <td>2019-09-01 01:39:41</td>\n",
       "      <td>NaT</td>\n",
       "      <td>2019-09-01 01:33:25</td>\n",
       "      <td>2019-09-01 01:33:25</td>\n",
       "    </tr>\n",
       "    <tr>\n",
       "      <th>3127</th>\n",
       "      <td>3240</td>\n",
       "      <td>NaT</td>\n",
       "      <td>NaT</td>\n",
       "      <td>NaT</td>\n",
       "      <td>NaT</td>\n",
       "      <td>NaT</td>\n",
       "      <td>2019-09-01 03:12:40</td>\n",
       "      <td>NaT</td>\n",
       "      <td>NaT</td>\n",
       "      <td>NaT</td>\n",
       "      <td>NaT</td>\n",
       "      <td>NaT</td>\n",
       "      <td>NaT</td>\n",
       "      <td>NaT</td>\n",
       "      <td>2019-09-01 02:41:27</td>\n",
       "      <td>2019-09-01 02:41:27</td>\n",
       "    </tr>\n",
       "    <tr>\n",
       "      <th>3128</th>\n",
       "      <td>3241</td>\n",
       "      <td>NaT</td>\n",
       "      <td>NaT</td>\n",
       "      <td>NaT</td>\n",
       "      <td>NaT</td>\n",
       "      <td>NaT</td>\n",
       "      <td>NaT</td>\n",
       "      <td>NaT</td>\n",
       "      <td>NaT</td>\n",
       "      <td>NaT</td>\n",
       "      <td>NaT</td>\n",
       "      <td>NaT</td>\n",
       "      <td>NaT</td>\n",
       "      <td>NaT</td>\n",
       "      <td>2019-09-01 04:05:34</td>\n",
       "      <td>2019-09-01 04:05:34</td>\n",
       "    </tr>\n",
       "  </tbody>\n",
       "</table>\n",
       "<p>3129 rows × 16 columns</p>\n",
       "</div>"
      ],
      "text/plain": [
       "       key Bulk 1 Bulk 2              Bulk 3              Bulk 4 Bulk 5  \\\n",
       "0        1    NaT    NaT                 NaT 2019-05-03 11:21:30    NaT   \n",
       "1        2    NaT    NaT                 NaT 2019-05-03 11:46:38    NaT   \n",
       "2        3    NaT    NaT                 NaT 2019-05-03 12:31:06    NaT   \n",
       "3        4    NaT    NaT                 NaT 2019-05-03 12:48:43    NaT   \n",
       "4        5    NaT    NaT                 NaT 2019-05-03 13:18:50    NaT   \n",
       "...    ...    ...    ...                 ...                 ...    ...   \n",
       "3124  3237    NaT    NaT 2019-08-31 22:51:28                 NaT    NaT   \n",
       "3125  3238    NaT    NaT 2019-08-31 23:39:11                 NaT    NaT   \n",
       "3126  3239    NaT    NaT                 NaT                 NaT    NaT   \n",
       "3127  3240    NaT    NaT                 NaT                 NaT    NaT   \n",
       "3128  3241    NaT    NaT                 NaT                 NaT    NaT   \n",
       "\n",
       "                  Bulk 6 Bulk 7 Bulk 8 Bulk 9 Bulk 10 Bulk 11  \\\n",
       "0                    NaT    NaT    NaT    NaT     NaT     NaT   \n",
       "1                    NaT    NaT    NaT    NaT     NaT     NaT   \n",
       "2                    NaT    NaT    NaT    NaT     NaT     NaT   \n",
       "3                    NaT    NaT    NaT    NaT     NaT     NaT   \n",
       "4                    NaT    NaT    NaT    NaT     NaT     NaT   \n",
       "...                  ...    ...    ...    ...     ...     ...   \n",
       "3124                 NaT    NaT    NaT    NaT     NaT     NaT   \n",
       "3125                 NaT    NaT    NaT    NaT     NaT     NaT   \n",
       "3126 2019-09-01 01:51:58    NaT    NaT    NaT     NaT     NaT   \n",
       "3127 2019-09-01 03:12:40    NaT    NaT    NaT     NaT     NaT   \n",
       "3128                 NaT    NaT    NaT    NaT     NaT     NaT   \n",
       "\n",
       "                 Bulk 12 Bulk 13             Bulk 14             Bulk 15  \n",
       "0    2019-05-03 11:03:52     NaT 2019-05-03 11:03:52 2019-05-03 11:03:52  \n",
       "1    2019-05-03 11:40:20     NaT 2019-05-03 11:40:20 2019-05-03 11:40:20  \n",
       "2    2019-05-03 12:09:40     NaT 2019-05-03 12:09:40 2019-05-03 12:09:40  \n",
       "3    2019-05-03 12:41:24     NaT 2019-05-03 12:41:24 2019-05-03 12:41:24  \n",
       "4    2019-05-03 13:12:56     NaT 2019-05-03 13:12:56 2019-05-03 13:12:56  \n",
       "...                  ...     ...                 ...                 ...  \n",
       "3124 2019-08-31 22:46:52     NaT 2019-08-31 22:46:52 2019-08-31 22:46:52  \n",
       "3125 2019-08-31 23:33:09     NaT 2019-08-31 23:33:09 2019-08-31 23:33:09  \n",
       "3126 2019-09-01 01:39:41     NaT 2019-09-01 01:33:25 2019-09-01 01:33:25  \n",
       "3127                 NaT     NaT 2019-09-01 02:41:27 2019-09-01 02:41:27  \n",
       "3128                 NaT     NaT 2019-09-01 04:05:34 2019-09-01 04:05:34  \n",
       "\n",
       "[3129 rows x 16 columns]"
      ]
     },
     "metadata": {},
     "output_type": "display_data"
    },
    {
     "name": "stdout",
     "output_type": "stream",
     "text": [
      "<class 'pandas.core.frame.DataFrame'>\n",
      "RangeIndex: 3129 entries, 0 to 3128\n",
      "Data columns (total 16 columns):\n",
      " #   Column   Non-Null Count  Dtype         \n",
      "---  ------   --------------  -----         \n",
      " 0   key      3129 non-null   int64         \n",
      " 1   Bulk 1   252 non-null    datetime64[ns]\n",
      " 2   Bulk 2   22 non-null     datetime64[ns]\n",
      " 3   Bulk 3   1298 non-null   datetime64[ns]\n",
      " 4   Bulk 4   1014 non-null   datetime64[ns]\n",
      " 5   Bulk 5   77 non-null     datetime64[ns]\n",
      " 6   Bulk 6   576 non-null    datetime64[ns]\n",
      " 7   Bulk 7   25 non-null     datetime64[ns]\n",
      " 8   Bulk 8   1 non-null      datetime64[ns]\n",
      " 9   Bulk 9   19 non-null     datetime64[ns]\n",
      " 10  Bulk 10  176 non-null    datetime64[ns]\n",
      " 11  Bulk 11  177 non-null    datetime64[ns]\n",
      " 12  Bulk 12  2450 non-null   datetime64[ns]\n",
      " 13  Bulk 13  18 non-null     datetime64[ns]\n",
      " 14  Bulk 14  2806 non-null   datetime64[ns]\n",
      " 15  Bulk 15  2248 non-null   datetime64[ns]\n",
      "dtypes: datetime64[ns](15), int64(1)\n",
      "memory usage: 391.2 KB\n",
      "\n",
      "Доля пропусков в колонках:\n"
     ]
    },
    {
     "data": {
      "text/plain": [
       "key        0.000000\n",
       "Bulk 1     0.919463\n",
       "Bulk 2     0.992969\n",
       "Bulk 3     0.585171\n",
       "Bulk 4     0.675935\n",
       "Bulk 5     0.975391\n",
       "Bulk 6     0.815916\n",
       "Bulk 7     0.992010\n",
       "Bulk 8     0.999680\n",
       "Bulk 9     0.993928\n",
       "Bulk 10    0.943752\n",
       "Bulk 11    0.943432\n",
       "Bulk 12    0.217002\n",
       "Bulk 13    0.994247\n",
       "Bulk 14    0.103228\n",
       "Bulk 15    0.281560\n",
       "dtype: float64"
      ]
     },
     "metadata": {},
     "output_type": "display_data"
    },
    {
     "name": "stdout",
     "output_type": "stream",
     "text": [
      "Количество дубликатов: 0\n"
     ]
    }
   ],
   "source": [
    "info(data_bulk_time)"
   ]
  },
  {
   "cell_type": "markdown",
   "id": "d28609b9",
   "metadata": {},
   "source": [
    "В таблице `data_bulk_time` представлены значения времени, когда вносили реагент. Заполненные значения и пропуски совпадают с таблицей `data_bulk`. "
   ]
  },
  {
   "cell_type": "code",
   "execution_count": 8,
   "id": "a31220d1",
   "metadata": {
    "scrolled": true
   },
   "outputs": [
    {
     "data": {
      "text/html": [
       "<div>\n",
       "<style scoped>\n",
       "    .dataframe tbody tr th:only-of-type {\n",
       "        vertical-align: middle;\n",
       "    }\n",
       "\n",
       "    .dataframe tbody tr th {\n",
       "        vertical-align: top;\n",
       "    }\n",
       "\n",
       "    .dataframe thead th {\n",
       "        text-align: right;\n",
       "    }\n",
       "</style>\n",
       "<table border=\"1\" class=\"dataframe\">\n",
       "  <thead>\n",
       "    <tr style=\"text-align: right;\">\n",
       "      <th></th>\n",
       "      <th>key</th>\n",
       "      <th>Газ 1</th>\n",
       "    </tr>\n",
       "  </thead>\n",
       "  <tbody>\n",
       "    <tr>\n",
       "      <th>0</th>\n",
       "      <td>1</td>\n",
       "      <td>29.749986</td>\n",
       "    </tr>\n",
       "    <tr>\n",
       "      <th>1</th>\n",
       "      <td>2</td>\n",
       "      <td>12.555561</td>\n",
       "    </tr>\n",
       "    <tr>\n",
       "      <th>2</th>\n",
       "      <td>3</td>\n",
       "      <td>28.554793</td>\n",
       "    </tr>\n",
       "    <tr>\n",
       "      <th>3</th>\n",
       "      <td>4</td>\n",
       "      <td>18.841219</td>\n",
       "    </tr>\n",
       "    <tr>\n",
       "      <th>4</th>\n",
       "      <td>5</td>\n",
       "      <td>5.413692</td>\n",
       "    </tr>\n",
       "    <tr>\n",
       "      <th>...</th>\n",
       "      <td>...</td>\n",
       "      <td>...</td>\n",
       "    </tr>\n",
       "    <tr>\n",
       "      <th>3234</th>\n",
       "      <td>3237</td>\n",
       "      <td>5.543905</td>\n",
       "    </tr>\n",
       "    <tr>\n",
       "      <th>3235</th>\n",
       "      <td>3238</td>\n",
       "      <td>6.745669</td>\n",
       "    </tr>\n",
       "    <tr>\n",
       "      <th>3236</th>\n",
       "      <td>3239</td>\n",
       "      <td>16.023518</td>\n",
       "    </tr>\n",
       "    <tr>\n",
       "      <th>3237</th>\n",
       "      <td>3240</td>\n",
       "      <td>11.863103</td>\n",
       "    </tr>\n",
       "    <tr>\n",
       "      <th>3238</th>\n",
       "      <td>3241</td>\n",
       "      <td>12.680959</td>\n",
       "    </tr>\n",
       "  </tbody>\n",
       "</table>\n",
       "<p>3239 rows × 2 columns</p>\n",
       "</div>"
      ],
      "text/plain": [
       "       key      Газ 1\n",
       "0        1  29.749986\n",
       "1        2  12.555561\n",
       "2        3  28.554793\n",
       "3        4  18.841219\n",
       "4        5   5.413692\n",
       "...    ...        ...\n",
       "3234  3237   5.543905\n",
       "3235  3238   6.745669\n",
       "3236  3239  16.023518\n",
       "3237  3240  11.863103\n",
       "3238  3241  12.680959\n",
       "\n",
       "[3239 rows x 2 columns]"
      ]
     },
     "metadata": {},
     "output_type": "display_data"
    },
    {
     "name": "stdout",
     "output_type": "stream",
     "text": [
      "<class 'pandas.core.frame.DataFrame'>\n",
      "RangeIndex: 3239 entries, 0 to 3238\n",
      "Data columns (total 2 columns):\n",
      " #   Column  Non-Null Count  Dtype  \n",
      "---  ------  --------------  -----  \n",
      " 0   key     3239 non-null   int64  \n",
      " 1   Газ 1   3239 non-null   float64\n",
      "dtypes: float64(1), int64(1)\n",
      "memory usage: 50.7 KB\n",
      "\n",
      "Доля пропусков в колонках:\n"
     ]
    },
    {
     "data": {
      "text/plain": [
       "key      0.0\n",
       "Газ 1    0.0\n",
       "dtype: float64"
      ]
     },
     "metadata": {},
     "output_type": "display_data"
    },
    {
     "name": "stdout",
     "output_type": "stream",
     "text": [
      "Количество дубликатов: 0\n"
     ]
    }
   ],
   "source": [
    "info(data_gas)"
   ]
  },
  {
   "cell_type": "markdown",
   "id": "170faed8",
   "metadata": {},
   "source": [
    "В `data_gas` содержатся данные по количеству газа, которое использовали для каждой партии."
   ]
  },
  {
   "cell_type": "code",
   "execution_count": 9,
   "id": "f2a88713",
   "metadata": {},
   "outputs": [
    {
     "data": {
      "text/html": [
       "<div>\n",
       "<style scoped>\n",
       "    .dataframe tbody tr th:only-of-type {\n",
       "        vertical-align: middle;\n",
       "    }\n",
       "\n",
       "    .dataframe tbody tr th {\n",
       "        vertical-align: top;\n",
       "    }\n",
       "\n",
       "    .dataframe thead th {\n",
       "        text-align: right;\n",
       "    }\n",
       "</style>\n",
       "<table border=\"1\" class=\"dataframe\">\n",
       "  <thead>\n",
       "    <tr style=\"text-align: right;\">\n",
       "      <th></th>\n",
       "      <th>key</th>\n",
       "      <th>Время замера</th>\n",
       "      <th>Температура</th>\n",
       "    </tr>\n",
       "  </thead>\n",
       "  <tbody>\n",
       "    <tr>\n",
       "      <th>0</th>\n",
       "      <td>1</td>\n",
       "      <td>2019-05-03 11:16:18</td>\n",
       "      <td>1571.0</td>\n",
       "    </tr>\n",
       "    <tr>\n",
       "      <th>1</th>\n",
       "      <td>1</td>\n",
       "      <td>2019-05-03 11:25:53</td>\n",
       "      <td>1604.0</td>\n",
       "    </tr>\n",
       "    <tr>\n",
       "      <th>2</th>\n",
       "      <td>1</td>\n",
       "      <td>2019-05-03 11:29:11</td>\n",
       "      <td>1618.0</td>\n",
       "    </tr>\n",
       "    <tr>\n",
       "      <th>3</th>\n",
       "      <td>1</td>\n",
       "      <td>2019-05-03 11:30:01</td>\n",
       "      <td>1601.0</td>\n",
       "    </tr>\n",
       "    <tr>\n",
       "      <th>4</th>\n",
       "      <td>1</td>\n",
       "      <td>2019-05-03 11:30:39</td>\n",
       "      <td>1613.0</td>\n",
       "    </tr>\n",
       "    <tr>\n",
       "      <th>...</th>\n",
       "      <td>...</td>\n",
       "      <td>...</td>\n",
       "      <td>...</td>\n",
       "    </tr>\n",
       "    <tr>\n",
       "      <th>15902</th>\n",
       "      <td>3241</td>\n",
       "      <td>2019-09-01 04:03:30</td>\n",
       "      <td>1586.0</td>\n",
       "    </tr>\n",
       "    <tr>\n",
       "      <th>15903</th>\n",
       "      <td>3241</td>\n",
       "      <td>2019-09-01 04:16:12</td>\n",
       "      <td>NaN</td>\n",
       "    </tr>\n",
       "    <tr>\n",
       "      <th>15904</th>\n",
       "      <td>3241</td>\n",
       "      <td>2019-09-01 04:22:39</td>\n",
       "      <td>NaN</td>\n",
       "    </tr>\n",
       "    <tr>\n",
       "      <th>15905</th>\n",
       "      <td>3241</td>\n",
       "      <td>2019-09-01 04:33:42</td>\n",
       "      <td>NaN</td>\n",
       "    </tr>\n",
       "    <tr>\n",
       "      <th>15906</th>\n",
       "      <td>3241</td>\n",
       "      <td>2019-09-01 04:38:08</td>\n",
       "      <td>NaN</td>\n",
       "    </tr>\n",
       "  </tbody>\n",
       "</table>\n",
       "<p>15907 rows × 3 columns</p>\n",
       "</div>"
      ],
      "text/plain": [
       "        key        Время замера  Температура\n",
       "0         1 2019-05-03 11:16:18       1571.0\n",
       "1         1 2019-05-03 11:25:53       1604.0\n",
       "2         1 2019-05-03 11:29:11       1618.0\n",
       "3         1 2019-05-03 11:30:01       1601.0\n",
       "4         1 2019-05-03 11:30:39       1613.0\n",
       "...     ...                 ...          ...\n",
       "15902  3241 2019-09-01 04:03:30       1586.0\n",
       "15903  3241 2019-09-01 04:16:12          NaN\n",
       "15904  3241 2019-09-01 04:22:39          NaN\n",
       "15905  3241 2019-09-01 04:33:42          NaN\n",
       "15906  3241 2019-09-01 04:38:08          NaN\n",
       "\n",
       "[15907 rows x 3 columns]"
      ]
     },
     "metadata": {},
     "output_type": "display_data"
    },
    {
     "name": "stdout",
     "output_type": "stream",
     "text": [
      "<class 'pandas.core.frame.DataFrame'>\n",
      "RangeIndex: 15907 entries, 0 to 15906\n",
      "Data columns (total 3 columns):\n",
      " #   Column        Non-Null Count  Dtype         \n",
      "---  ------        --------------  -----         \n",
      " 0   key           15907 non-null  int64         \n",
      " 1   Время замера  15907 non-null  datetime64[ns]\n",
      " 2   Температура   13006 non-null  float64       \n",
      "dtypes: datetime64[ns](1), float64(1), int64(1)\n",
      "memory usage: 372.9 KB\n",
      "\n",
      "Доля пропусков в колонках:\n"
     ]
    },
    {
     "data": {
      "text/plain": [
       "key             0.000000\n",
       "Время замера    0.000000\n",
       "Температура     0.182373\n",
       "dtype: float64"
      ]
     },
     "metadata": {},
     "output_type": "display_data"
    },
    {
     "name": "stdout",
     "output_type": "stream",
     "text": [
      "Количество дубликатов: 0\n"
     ]
    }
   ],
   "source": [
    "info(data_temp)"
   ]
  },
  {
   "cell_type": "markdown",
   "id": "d6ea4159",
   "metadata": {},
   "source": [
    "Из `data_temp` видно, что температуру измеряли по нескольку раз для каждой партии. В значениях температуры присутствуют пропуски."
   ]
  },
  {
   "cell_type": "code",
   "execution_count": 10,
   "id": "46e5074f",
   "metadata": {},
   "outputs": [
    {
     "data": {
      "text/html": [
       "<div>\n",
       "<style scoped>\n",
       "    .dataframe tbody tr th:only-of-type {\n",
       "        vertical-align: middle;\n",
       "    }\n",
       "\n",
       "    .dataframe tbody tr th {\n",
       "        vertical-align: top;\n",
       "    }\n",
       "\n",
       "    .dataframe thead th {\n",
       "        text-align: right;\n",
       "    }\n",
       "</style>\n",
       "<table border=\"1\" class=\"dataframe\">\n",
       "  <thead>\n",
       "    <tr style=\"text-align: right;\">\n",
       "      <th></th>\n",
       "      <th>key</th>\n",
       "      <th>Wire 1</th>\n",
       "      <th>Wire 2</th>\n",
       "      <th>Wire 3</th>\n",
       "      <th>Wire 4</th>\n",
       "      <th>Wire 5</th>\n",
       "      <th>Wire 6</th>\n",
       "      <th>Wire 7</th>\n",
       "      <th>Wire 8</th>\n",
       "      <th>Wire 9</th>\n",
       "    </tr>\n",
       "  </thead>\n",
       "  <tbody>\n",
       "    <tr>\n",
       "      <th>0</th>\n",
       "      <td>1</td>\n",
       "      <td>60.059998</td>\n",
       "      <td>NaN</td>\n",
       "      <td>NaN</td>\n",
       "      <td>NaN</td>\n",
       "      <td>NaN</td>\n",
       "      <td>NaN</td>\n",
       "      <td>NaN</td>\n",
       "      <td>NaN</td>\n",
       "      <td>NaN</td>\n",
       "    </tr>\n",
       "    <tr>\n",
       "      <th>1</th>\n",
       "      <td>2</td>\n",
       "      <td>96.052315</td>\n",
       "      <td>NaN</td>\n",
       "      <td>NaN</td>\n",
       "      <td>NaN</td>\n",
       "      <td>NaN</td>\n",
       "      <td>NaN</td>\n",
       "      <td>NaN</td>\n",
       "      <td>NaN</td>\n",
       "      <td>NaN</td>\n",
       "    </tr>\n",
       "    <tr>\n",
       "      <th>2</th>\n",
       "      <td>3</td>\n",
       "      <td>91.160157</td>\n",
       "      <td>NaN</td>\n",
       "      <td>NaN</td>\n",
       "      <td>NaN</td>\n",
       "      <td>NaN</td>\n",
       "      <td>NaN</td>\n",
       "      <td>NaN</td>\n",
       "      <td>NaN</td>\n",
       "      <td>NaN</td>\n",
       "    </tr>\n",
       "    <tr>\n",
       "      <th>3</th>\n",
       "      <td>4</td>\n",
       "      <td>89.063515</td>\n",
       "      <td>NaN</td>\n",
       "      <td>NaN</td>\n",
       "      <td>NaN</td>\n",
       "      <td>NaN</td>\n",
       "      <td>NaN</td>\n",
       "      <td>NaN</td>\n",
       "      <td>NaN</td>\n",
       "      <td>NaN</td>\n",
       "    </tr>\n",
       "    <tr>\n",
       "      <th>4</th>\n",
       "      <td>5</td>\n",
       "      <td>89.238236</td>\n",
       "      <td>9.11456</td>\n",
       "      <td>NaN</td>\n",
       "      <td>NaN</td>\n",
       "      <td>NaN</td>\n",
       "      <td>NaN</td>\n",
       "      <td>NaN</td>\n",
       "      <td>NaN</td>\n",
       "      <td>NaN</td>\n",
       "    </tr>\n",
       "    <tr>\n",
       "      <th>...</th>\n",
       "      <td>...</td>\n",
       "      <td>...</td>\n",
       "      <td>...</td>\n",
       "      <td>...</td>\n",
       "      <td>...</td>\n",
       "      <td>...</td>\n",
       "      <td>...</td>\n",
       "      <td>...</td>\n",
       "      <td>...</td>\n",
       "      <td>...</td>\n",
       "    </tr>\n",
       "    <tr>\n",
       "      <th>3076</th>\n",
       "      <td>3237</td>\n",
       "      <td>38.088959</td>\n",
       "      <td>NaN</td>\n",
       "      <td>NaN</td>\n",
       "      <td>NaN</td>\n",
       "      <td>NaN</td>\n",
       "      <td>NaN</td>\n",
       "      <td>NaN</td>\n",
       "      <td>NaN</td>\n",
       "      <td>NaN</td>\n",
       "    </tr>\n",
       "    <tr>\n",
       "      <th>3077</th>\n",
       "      <td>3238</td>\n",
       "      <td>56.128799</td>\n",
       "      <td>NaN</td>\n",
       "      <td>NaN</td>\n",
       "      <td>NaN</td>\n",
       "      <td>NaN</td>\n",
       "      <td>NaN</td>\n",
       "      <td>NaN</td>\n",
       "      <td>NaN</td>\n",
       "      <td>NaN</td>\n",
       "    </tr>\n",
       "    <tr>\n",
       "      <th>3078</th>\n",
       "      <td>3239</td>\n",
       "      <td>143.357761</td>\n",
       "      <td>NaN</td>\n",
       "      <td>NaN</td>\n",
       "      <td>NaN</td>\n",
       "      <td>NaN</td>\n",
       "      <td>NaN</td>\n",
       "      <td>NaN</td>\n",
       "      <td>NaN</td>\n",
       "      <td>NaN</td>\n",
       "    </tr>\n",
       "    <tr>\n",
       "      <th>3079</th>\n",
       "      <td>3240</td>\n",
       "      <td>34.070400</td>\n",
       "      <td>NaN</td>\n",
       "      <td>NaN</td>\n",
       "      <td>NaN</td>\n",
       "      <td>NaN</td>\n",
       "      <td>NaN</td>\n",
       "      <td>NaN</td>\n",
       "      <td>NaN</td>\n",
       "      <td>NaN</td>\n",
       "    </tr>\n",
       "    <tr>\n",
       "      <th>3080</th>\n",
       "      <td>3241</td>\n",
       "      <td>63.117595</td>\n",
       "      <td>NaN</td>\n",
       "      <td>NaN</td>\n",
       "      <td>NaN</td>\n",
       "      <td>NaN</td>\n",
       "      <td>NaN</td>\n",
       "      <td>NaN</td>\n",
       "      <td>NaN</td>\n",
       "      <td>NaN</td>\n",
       "    </tr>\n",
       "  </tbody>\n",
       "</table>\n",
       "<p>3081 rows × 10 columns</p>\n",
       "</div>"
      ],
      "text/plain": [
       "       key      Wire 1   Wire 2  Wire 3  Wire 4  Wire 5  Wire 6  Wire 7  \\\n",
       "0        1   60.059998      NaN     NaN     NaN     NaN     NaN     NaN   \n",
       "1        2   96.052315      NaN     NaN     NaN     NaN     NaN     NaN   \n",
       "2        3   91.160157      NaN     NaN     NaN     NaN     NaN     NaN   \n",
       "3        4   89.063515      NaN     NaN     NaN     NaN     NaN     NaN   \n",
       "4        5   89.238236  9.11456     NaN     NaN     NaN     NaN     NaN   \n",
       "...    ...         ...      ...     ...     ...     ...     ...     ...   \n",
       "3076  3237   38.088959      NaN     NaN     NaN     NaN     NaN     NaN   \n",
       "3077  3238   56.128799      NaN     NaN     NaN     NaN     NaN     NaN   \n",
       "3078  3239  143.357761      NaN     NaN     NaN     NaN     NaN     NaN   \n",
       "3079  3240   34.070400      NaN     NaN     NaN     NaN     NaN     NaN   \n",
       "3080  3241   63.117595      NaN     NaN     NaN     NaN     NaN     NaN   \n",
       "\n",
       "      Wire 8  Wire 9  \n",
       "0        NaN     NaN  \n",
       "1        NaN     NaN  \n",
       "2        NaN     NaN  \n",
       "3        NaN     NaN  \n",
       "4        NaN     NaN  \n",
       "...      ...     ...  \n",
       "3076     NaN     NaN  \n",
       "3077     NaN     NaN  \n",
       "3078     NaN     NaN  \n",
       "3079     NaN     NaN  \n",
       "3080     NaN     NaN  \n",
       "\n",
       "[3081 rows x 10 columns]"
      ]
     },
     "metadata": {},
     "output_type": "display_data"
    },
    {
     "name": "stdout",
     "output_type": "stream",
     "text": [
      "<class 'pandas.core.frame.DataFrame'>\n",
      "RangeIndex: 3081 entries, 0 to 3080\n",
      "Data columns (total 10 columns):\n",
      " #   Column  Non-Null Count  Dtype  \n",
      "---  ------  --------------  -----  \n",
      " 0   key     3081 non-null   int64  \n",
      " 1   Wire 1  3055 non-null   float64\n",
      " 2   Wire 2  1079 non-null   float64\n",
      " 3   Wire 3  63 non-null     float64\n",
      " 4   Wire 4  14 non-null     float64\n",
      " 5   Wire 5  1 non-null      float64\n",
      " 6   Wire 6  73 non-null     float64\n",
      " 7   Wire 7  11 non-null     float64\n",
      " 8   Wire 8  19 non-null     float64\n",
      " 9   Wire 9  29 non-null     float64\n",
      "dtypes: float64(9), int64(1)\n",
      "memory usage: 240.8 KB\n",
      "\n",
      "Доля пропусков в колонках:\n"
     ]
    },
    {
     "data": {
      "text/plain": [
       "key       0.000000\n",
       "Wire 1    0.008439\n",
       "Wire 2    0.649789\n",
       "Wire 3    0.979552\n",
       "Wire 4    0.995456\n",
       "Wire 5    0.999675\n",
       "Wire 6    0.976306\n",
       "Wire 7    0.996430\n",
       "Wire 8    0.993833\n",
       "Wire 9    0.990587\n",
       "dtype: float64"
      ]
     },
     "metadata": {},
     "output_type": "display_data"
    },
    {
     "name": "stdout",
     "output_type": "stream",
     "text": [
      "Количество дубликатов: 0\n"
     ]
    }
   ],
   "source": [
    "info(data_wire)"
   ]
  },
  {
   "cell_type": "code",
   "execution_count": 11,
   "id": "fbf9fa96",
   "metadata": {},
   "outputs": [
    {
     "data": {
      "text/html": [
       "<div>\n",
       "<style scoped>\n",
       "    .dataframe tbody tr th:only-of-type {\n",
       "        vertical-align: middle;\n",
       "    }\n",
       "\n",
       "    .dataframe tbody tr th {\n",
       "        vertical-align: top;\n",
       "    }\n",
       "\n",
       "    .dataframe thead th {\n",
       "        text-align: right;\n",
       "    }\n",
       "</style>\n",
       "<table border=\"1\" class=\"dataframe\">\n",
       "  <thead>\n",
       "    <tr style=\"text-align: right;\">\n",
       "      <th></th>\n",
       "      <th>key</th>\n",
       "      <th>Wire 1</th>\n",
       "      <th>Wire 2</th>\n",
       "      <th>Wire 3</th>\n",
       "      <th>Wire 4</th>\n",
       "      <th>Wire 5</th>\n",
       "      <th>Wire 6</th>\n",
       "      <th>Wire 7</th>\n",
       "      <th>Wire 8</th>\n",
       "      <th>Wire 9</th>\n",
       "    </tr>\n",
       "  </thead>\n",
       "  <tbody>\n",
       "    <tr>\n",
       "      <th>0</th>\n",
       "      <td>1</td>\n",
       "      <td>2019-05-03 11:11:41</td>\n",
       "      <td>NaT</td>\n",
       "      <td>NaT</td>\n",
       "      <td>NaT</td>\n",
       "      <td>NaT</td>\n",
       "      <td>NaT</td>\n",
       "      <td>NaT</td>\n",
       "      <td>NaT</td>\n",
       "      <td>NaT</td>\n",
       "    </tr>\n",
       "    <tr>\n",
       "      <th>1</th>\n",
       "      <td>2</td>\n",
       "      <td>2019-05-03 11:46:10</td>\n",
       "      <td>NaT</td>\n",
       "      <td>NaT</td>\n",
       "      <td>NaT</td>\n",
       "      <td>NaT</td>\n",
       "      <td>NaT</td>\n",
       "      <td>NaT</td>\n",
       "      <td>NaT</td>\n",
       "      <td>NaT</td>\n",
       "    </tr>\n",
       "    <tr>\n",
       "      <th>2</th>\n",
       "      <td>3</td>\n",
       "      <td>2019-05-03 12:13:47</td>\n",
       "      <td>NaT</td>\n",
       "      <td>NaT</td>\n",
       "      <td>NaT</td>\n",
       "      <td>NaT</td>\n",
       "      <td>NaT</td>\n",
       "      <td>NaT</td>\n",
       "      <td>NaT</td>\n",
       "      <td>NaT</td>\n",
       "    </tr>\n",
       "    <tr>\n",
       "      <th>3</th>\n",
       "      <td>4</td>\n",
       "      <td>2019-05-03 12:48:05</td>\n",
       "      <td>NaT</td>\n",
       "      <td>NaT</td>\n",
       "      <td>NaT</td>\n",
       "      <td>NaT</td>\n",
       "      <td>NaT</td>\n",
       "      <td>NaT</td>\n",
       "      <td>NaT</td>\n",
       "      <td>NaT</td>\n",
       "    </tr>\n",
       "    <tr>\n",
       "      <th>4</th>\n",
       "      <td>5</td>\n",
       "      <td>2019-05-03 13:18:15</td>\n",
       "      <td>2019-05-03 13:32:06</td>\n",
       "      <td>NaT</td>\n",
       "      <td>NaT</td>\n",
       "      <td>NaT</td>\n",
       "      <td>NaT</td>\n",
       "      <td>NaT</td>\n",
       "      <td>NaT</td>\n",
       "      <td>NaT</td>\n",
       "    </tr>\n",
       "    <tr>\n",
       "      <th>...</th>\n",
       "      <td>...</td>\n",
       "      <td>...</td>\n",
       "      <td>...</td>\n",
       "      <td>...</td>\n",
       "      <td>...</td>\n",
       "      <td>...</td>\n",
       "      <td>...</td>\n",
       "      <td>...</td>\n",
       "      <td>...</td>\n",
       "      <td>...</td>\n",
       "    </tr>\n",
       "    <tr>\n",
       "      <th>3076</th>\n",
       "      <td>3237</td>\n",
       "      <td>2019-08-31 22:50:20</td>\n",
       "      <td>NaT</td>\n",
       "      <td>NaT</td>\n",
       "      <td>NaT</td>\n",
       "      <td>NaT</td>\n",
       "      <td>NaT</td>\n",
       "      <td>NaT</td>\n",
       "      <td>NaT</td>\n",
       "      <td>NaT</td>\n",
       "    </tr>\n",
       "    <tr>\n",
       "      <th>3077</th>\n",
       "      <td>3238</td>\n",
       "      <td>2019-08-31 23:38:24</td>\n",
       "      <td>NaT</td>\n",
       "      <td>NaT</td>\n",
       "      <td>NaT</td>\n",
       "      <td>NaT</td>\n",
       "      <td>NaT</td>\n",
       "      <td>NaT</td>\n",
       "      <td>NaT</td>\n",
       "      <td>NaT</td>\n",
       "    </tr>\n",
       "    <tr>\n",
       "      <th>3078</th>\n",
       "      <td>3239</td>\n",
       "      <td>2019-09-01 01:50:43</td>\n",
       "      <td>NaT</td>\n",
       "      <td>NaT</td>\n",
       "      <td>NaT</td>\n",
       "      <td>NaT</td>\n",
       "      <td>NaT</td>\n",
       "      <td>NaT</td>\n",
       "      <td>NaT</td>\n",
       "      <td>NaT</td>\n",
       "    </tr>\n",
       "    <tr>\n",
       "      <th>3079</th>\n",
       "      <td>3240</td>\n",
       "      <td>2019-09-01 03:12:02</td>\n",
       "      <td>NaT</td>\n",
       "      <td>NaT</td>\n",
       "      <td>NaT</td>\n",
       "      <td>NaT</td>\n",
       "      <td>NaT</td>\n",
       "      <td>NaT</td>\n",
       "      <td>NaT</td>\n",
       "      <td>NaT</td>\n",
       "    </tr>\n",
       "    <tr>\n",
       "      <th>3080</th>\n",
       "      <td>3241</td>\n",
       "      <td>2019-09-01 04:16:01</td>\n",
       "      <td>NaT</td>\n",
       "      <td>NaT</td>\n",
       "      <td>NaT</td>\n",
       "      <td>NaT</td>\n",
       "      <td>NaT</td>\n",
       "      <td>NaT</td>\n",
       "      <td>NaT</td>\n",
       "      <td>NaT</td>\n",
       "    </tr>\n",
       "  </tbody>\n",
       "</table>\n",
       "<p>3081 rows × 10 columns</p>\n",
       "</div>"
      ],
      "text/plain": [
       "       key              Wire 1              Wire 2 Wire 3 Wire 4 Wire 5  \\\n",
       "0        1 2019-05-03 11:11:41                 NaT    NaT    NaT    NaT   \n",
       "1        2 2019-05-03 11:46:10                 NaT    NaT    NaT    NaT   \n",
       "2        3 2019-05-03 12:13:47                 NaT    NaT    NaT    NaT   \n",
       "3        4 2019-05-03 12:48:05                 NaT    NaT    NaT    NaT   \n",
       "4        5 2019-05-03 13:18:15 2019-05-03 13:32:06    NaT    NaT    NaT   \n",
       "...    ...                 ...                 ...    ...    ...    ...   \n",
       "3076  3237 2019-08-31 22:50:20                 NaT    NaT    NaT    NaT   \n",
       "3077  3238 2019-08-31 23:38:24                 NaT    NaT    NaT    NaT   \n",
       "3078  3239 2019-09-01 01:50:43                 NaT    NaT    NaT    NaT   \n",
       "3079  3240 2019-09-01 03:12:02                 NaT    NaT    NaT    NaT   \n",
       "3080  3241 2019-09-01 04:16:01                 NaT    NaT    NaT    NaT   \n",
       "\n",
       "     Wire 6 Wire 7 Wire 8 Wire 9  \n",
       "0       NaT    NaT    NaT    NaT  \n",
       "1       NaT    NaT    NaT    NaT  \n",
       "2       NaT    NaT    NaT    NaT  \n",
       "3       NaT    NaT    NaT    NaT  \n",
       "4       NaT    NaT    NaT    NaT  \n",
       "...     ...    ...    ...    ...  \n",
       "3076    NaT    NaT    NaT    NaT  \n",
       "3077    NaT    NaT    NaT    NaT  \n",
       "3078    NaT    NaT    NaT    NaT  \n",
       "3079    NaT    NaT    NaT    NaT  \n",
       "3080    NaT    NaT    NaT    NaT  \n",
       "\n",
       "[3081 rows x 10 columns]"
      ]
     },
     "metadata": {},
     "output_type": "display_data"
    },
    {
     "name": "stdout",
     "output_type": "stream",
     "text": [
      "<class 'pandas.core.frame.DataFrame'>\n",
      "RangeIndex: 3081 entries, 0 to 3080\n",
      "Data columns (total 10 columns):\n",
      " #   Column  Non-Null Count  Dtype         \n",
      "---  ------  --------------  -----         \n",
      " 0   key     3081 non-null   int64         \n",
      " 1   Wire 1  3055 non-null   datetime64[ns]\n",
      " 2   Wire 2  1079 non-null   datetime64[ns]\n",
      " 3   Wire 3  63 non-null     datetime64[ns]\n",
      " 4   Wire 4  14 non-null     datetime64[ns]\n",
      " 5   Wire 5  1 non-null      datetime64[ns]\n",
      " 6   Wire 6  73 non-null     datetime64[ns]\n",
      " 7   Wire 7  11 non-null     datetime64[ns]\n",
      " 8   Wire 8  19 non-null     datetime64[ns]\n",
      " 9   Wire 9  29 non-null     datetime64[ns]\n",
      "dtypes: datetime64[ns](9), int64(1)\n",
      "memory usage: 240.8 KB\n",
      "\n",
      "Доля пропусков в колонках:\n"
     ]
    },
    {
     "data": {
      "text/plain": [
       "key       0.000000\n",
       "Wire 1    0.008439\n",
       "Wire 2    0.649789\n",
       "Wire 3    0.979552\n",
       "Wire 4    0.995456\n",
       "Wire 5    0.999675\n",
       "Wire 6    0.976306\n",
       "Wire 7    0.996430\n",
       "Wire 8    0.993833\n",
       "Wire 9    0.990587\n",
       "dtype: float64"
      ]
     },
     "metadata": {},
     "output_type": "display_data"
    },
    {
     "name": "stdout",
     "output_type": "stream",
     "text": [
      "Количество дубликатов: 0\n"
     ]
    }
   ],
   "source": [
    "info(data_wire_time)"
   ]
  },
  {
   "cell_type": "markdown",
   "id": "e406ab0f",
   "metadata": {},
   "source": [
    "Таблица `data_wire` и `data_wire_time` имеют структуру, схожую с `data_bulk` и `data_bulk_time` (большая часть значений - пропуски). Вероятно, в этих таблицах указано количество и время добавки проволочных материалов (каждый материал в своей колонке)."
   ]
  },
  {
   "cell_type": "markdown",
   "id": "bad5dc50",
   "metadata": {},
   "source": [
    "## Исследовательский анализ"
   ]
  },
  {
   "cell_type": "markdown",
   "id": "5a8372be",
   "metadata": {},
   "source": [
    "### data_arc"
   ]
  },
  {
   "cell_type": "code",
   "execution_count": 12,
   "id": "84d5d5f9",
   "metadata": {},
   "outputs": [
    {
     "data": {
      "text/plain": [
       "2108    16\n",
       "1689    15\n",
       "1513    15\n",
       "2567    14\n",
       "46      13\n",
       "        ..\n",
       "977      1\n",
       "247      1\n",
       "2582     1\n",
       "248      1\n",
       "530      1\n",
       "Name: key, Length: 3214, dtype: int64"
      ]
     },
     "execution_count": 12,
     "metadata": {},
     "output_type": "execute_result"
    }
   ],
   "source": [
    "data_arc['key'].value_counts()"
   ]
  },
  {
   "cell_type": "code",
   "execution_count": 13,
   "id": "381d59d8",
   "metadata": {
    "scrolled": true
   },
   "outputs": [
    {
     "name": "stdout",
     "output_type": "stream",
     "text": [
      "Начало нагрева дугой\n",
      "Первая запись: 2019-05-03 11:02:14\n",
      "Последняя запись: 2019-09-01 04:34:47\n",
      "\n",
      "Конец нагрева дугой\n",
      "Первая запись: 2019-05-03 11:06:02\n",
      "Последняя запись: 2019-09-01 04:36:08\n"
     ]
    }
   ],
   "source": [
    "print('Начало нагрева дугой')\n",
    "print('Первая запись:', data_arc['Начало нагрева дугой'].min())\n",
    "print('Последняя запись:', data_arc['Начало нагрева дугой'].max())\n",
    "print('')\n",
    "print('Конец нагрева дугой')\n",
    "print('Первая запись:', data_arc['Конец нагрева дугой'].min())\n",
    "print('Последняя запись:', data_arc['Конец нагрева дугой'].max())"
   ]
  },
  {
   "cell_type": "code",
   "execution_count": 14,
   "id": "b595c53e",
   "metadata": {},
   "outputs": [
    {
     "data": {
      "text/html": [
       "<div>\n",
       "<style scoped>\n",
       "    .dataframe tbody tr th:only-of-type {\n",
       "        vertical-align: middle;\n",
       "    }\n",
       "\n",
       "    .dataframe tbody tr th {\n",
       "        vertical-align: top;\n",
       "    }\n",
       "\n",
       "    .dataframe thead th {\n",
       "        text-align: right;\n",
       "    }\n",
       "</style>\n",
       "<table border=\"1\" class=\"dataframe\">\n",
       "  <thead>\n",
       "    <tr style=\"text-align: right;\">\n",
       "      <th></th>\n",
       "      <th>Активная мощность</th>\n",
       "      <th>Реактивная мощность</th>\n",
       "    </tr>\n",
       "  </thead>\n",
       "  <tbody>\n",
       "    <tr>\n",
       "      <th>count</th>\n",
       "      <td>14876.000000</td>\n",
       "      <td>14876.000000</td>\n",
       "    </tr>\n",
       "    <tr>\n",
       "      <th>mean</th>\n",
       "      <td>0.670441</td>\n",
       "      <td>0.452592</td>\n",
       "    </tr>\n",
       "    <tr>\n",
       "      <th>std</th>\n",
       "      <td>0.408159</td>\n",
       "      <td>5.878702</td>\n",
       "    </tr>\n",
       "    <tr>\n",
       "      <th>min</th>\n",
       "      <td>0.030002</td>\n",
       "      <td>-715.504924</td>\n",
       "    </tr>\n",
       "    <tr>\n",
       "      <th>25%</th>\n",
       "      <td>0.395297</td>\n",
       "      <td>0.290991</td>\n",
       "    </tr>\n",
       "    <tr>\n",
       "      <th>50%</th>\n",
       "      <td>0.555517</td>\n",
       "      <td>0.415962</td>\n",
       "    </tr>\n",
       "    <tr>\n",
       "      <th>75%</th>\n",
       "      <td>0.857034</td>\n",
       "      <td>0.637371</td>\n",
       "    </tr>\n",
       "    <tr>\n",
       "      <th>max</th>\n",
       "      <td>3.731596</td>\n",
       "      <td>2.676388</td>\n",
       "    </tr>\n",
       "  </tbody>\n",
       "</table>\n",
       "</div>"
      ],
      "text/plain": [
       "       Активная мощность  Реактивная мощность\n",
       "count       14876.000000         14876.000000\n",
       "mean            0.670441             0.452592\n",
       "std             0.408159             5.878702\n",
       "min             0.030002          -715.504924\n",
       "25%             0.395297             0.290991\n",
       "50%             0.555517             0.415962\n",
       "75%             0.857034             0.637371\n",
       "max             3.731596             2.676388"
      ]
     },
     "execution_count": 14,
     "metadata": {},
     "output_type": "execute_result"
    }
   ],
   "source": [
    "data_arc[['Активная мощность', 'Реактивная мощность']].describe()"
   ]
  },
  {
   "cell_type": "code",
   "execution_count": 15,
   "id": "957682c2",
   "metadata": {
    "scrolled": false
   },
   "outputs": [
    {
     "data": {
      "image/png": "[encoded data removed]",
      "text/plain": [
       "<Figure size 1152x360 with 2 Axes>"
      ]
     },
     "metadata": {
      "needs_background": "light"
     },
     "output_type": "display_data"
    }
   ],
   "source": [
    "plt.figure(figsize=(16,5))\n",
    "plt.subplot(121)\n",
    "plt.hist(data_arc['Активная мощность'], bins=20, range=(0, 3.3), alpha=0.8)\n",
    "plt.xlabel('Активная мощность')\n",
    "plt.ylabel('Частота')\n",
    "plt.grid(True)\n",
    "\n",
    "plt.subplot(122)\n",
    "plt.hist(data_arc['Реактивная мощность'],range=(-0.2, 2.3), bins=20, alpha=0.8)\n",
    "plt.xlabel('Реактивная мощность')\n",
    "plt.ylabel('Частота')\n",
    "plt.grid(True)\n",
    "plt.show()"
   ]
  },
  {
   "cell_type": "markdown",
   "id": "992402fd",
   "metadata": {},
   "source": [
    "* Большинство ключей встречаются больше 1 раза (партии нагревали по нескольку раз).\n",
    "\n",
    "* В `data_arc` записи датируются с 2019-05-03 по 2019-09-01.\n",
    "\n",
    "* Значения активной мощности варьируются от 0.03 до 3.73 со средним 0.67 и медианой 0.56. Распределение имеет длинный правый хвост. \n",
    "\n",
    "* Реактивная мощность варьируется от -715.50 до 2.68 со средним 0.45 и медианой 0.42. Форма распределения идентична активной мощности. Исходя из распределения, значения ниже 0 нереалистичны, поэтому отфильтруем данные."
   ]
  },
  {
   "cell_type": "markdown",
   "id": "fd2d60b5",
   "metadata": {},
   "source": [
    "### data_bulk и data_bulk_time"
   ]
  },
  {
   "cell_type": "code",
   "execution_count": 16,
   "id": "c595c3a4",
   "metadata": {},
   "outputs": [
    {
     "data": {
      "text/plain": [
       "2049    1\n",
       "2612    1\n",
       "2588    1\n",
       "541     1\n",
       "2590    1\n",
       "       ..\n",
       "1090    1\n",
       "3139    1\n",
       "1092    1\n",
       "3141    1\n",
       "2047    1\n",
       "Name: key, Length: 3129, dtype: int64"
      ]
     },
     "execution_count": 16,
     "metadata": {},
     "output_type": "execute_result"
    }
   ],
   "source": [
    "data_bulk['key'].value_counts()"
   ]
  },
  {
   "cell_type": "code",
   "execution_count": 17,
   "id": "a98e9035",
   "metadata": {
    "scrolled": true
   },
   "outputs": [
    {
     "data": {
      "text/html": [
       "<div>\n",
       "<style scoped>\n",
       "    .dataframe tbody tr th:only-of-type {\n",
       "        vertical-align: middle;\n",
       "    }\n",
       "\n",
       "    .dataframe tbody tr th {\n",
       "        vertical-align: top;\n",
       "    }\n",
       "\n",
       "    .dataframe thead th {\n",
       "        text-align: right;\n",
       "    }\n",
       "</style>\n",
       "<table border=\"1\" class=\"dataframe\">\n",
       "  <thead>\n",
       "    <tr style=\"text-align: right;\">\n",
       "      <th></th>\n",
       "      <th>Bulk 1</th>\n",
       "      <th>Bulk 2</th>\n",
       "      <th>Bulk 3</th>\n",
       "      <th>Bulk 4</th>\n",
       "      <th>Bulk 5</th>\n",
       "      <th>Bulk 6</th>\n",
       "      <th>Bulk 7</th>\n",
       "      <th>Bulk 8</th>\n",
       "      <th>Bulk 9</th>\n",
       "      <th>Bulk 10</th>\n",
       "      <th>Bulk 11</th>\n",
       "      <th>Bulk 12</th>\n",
       "      <th>Bulk 13</th>\n",
       "      <th>Bulk 14</th>\n",
       "      <th>Bulk 15</th>\n",
       "    </tr>\n",
       "  </thead>\n",
       "  <tbody>\n",
       "    <tr>\n",
       "      <th>count</th>\n",
       "      <td>252.000000</td>\n",
       "      <td>22.000000</td>\n",
       "      <td>1298.000000</td>\n",
       "      <td>1014.000000</td>\n",
       "      <td>77.000000</td>\n",
       "      <td>576.000000</td>\n",
       "      <td>25.000000</td>\n",
       "      <td>1.0</td>\n",
       "      <td>19.000000</td>\n",
       "      <td>176.000000</td>\n",
       "      <td>177.000000</td>\n",
       "      <td>2450.000000</td>\n",
       "      <td>18.000000</td>\n",
       "      <td>2806.000000</td>\n",
       "      <td>2248.000000</td>\n",
       "    </tr>\n",
       "    <tr>\n",
       "      <th>mean</th>\n",
       "      <td>39.242063</td>\n",
       "      <td>253.045455</td>\n",
       "      <td>113.879045</td>\n",
       "      <td>104.394477</td>\n",
       "      <td>107.025974</td>\n",
       "      <td>118.925347</td>\n",
       "      <td>305.600000</td>\n",
       "      <td>49.0</td>\n",
       "      <td>76.315789</td>\n",
       "      <td>83.284091</td>\n",
       "      <td>76.819209</td>\n",
       "      <td>260.471020</td>\n",
       "      <td>181.111111</td>\n",
       "      <td>170.284747</td>\n",
       "      <td>160.513345</td>\n",
       "    </tr>\n",
       "    <tr>\n",
       "      <th>std</th>\n",
       "      <td>18.277654</td>\n",
       "      <td>21.180578</td>\n",
       "      <td>75.483494</td>\n",
       "      <td>48.184126</td>\n",
       "      <td>81.790646</td>\n",
       "      <td>72.057776</td>\n",
       "      <td>191.022904</td>\n",
       "      <td>NaN</td>\n",
       "      <td>21.720581</td>\n",
       "      <td>26.060347</td>\n",
       "      <td>59.655365</td>\n",
       "      <td>120.649269</td>\n",
       "      <td>46.088009</td>\n",
       "      <td>65.868652</td>\n",
       "      <td>51.765319</td>\n",
       "    </tr>\n",
       "    <tr>\n",
       "      <th>min</th>\n",
       "      <td>10.000000</td>\n",
       "      <td>228.000000</td>\n",
       "      <td>6.000000</td>\n",
       "      <td>12.000000</td>\n",
       "      <td>11.000000</td>\n",
       "      <td>17.000000</td>\n",
       "      <td>47.000000</td>\n",
       "      <td>49.0</td>\n",
       "      <td>63.000000</td>\n",
       "      <td>24.000000</td>\n",
       "      <td>8.000000</td>\n",
       "      <td>53.000000</td>\n",
       "      <td>151.000000</td>\n",
       "      <td>16.000000</td>\n",
       "      <td>1.000000</td>\n",
       "    </tr>\n",
       "    <tr>\n",
       "      <th>25%</th>\n",
       "      <td>27.000000</td>\n",
       "      <td>242.000000</td>\n",
       "      <td>58.000000</td>\n",
       "      <td>72.000000</td>\n",
       "      <td>70.000000</td>\n",
       "      <td>69.750000</td>\n",
       "      <td>155.000000</td>\n",
       "      <td>49.0</td>\n",
       "      <td>66.000000</td>\n",
       "      <td>64.000000</td>\n",
       "      <td>25.000000</td>\n",
       "      <td>204.000000</td>\n",
       "      <td>153.250000</td>\n",
       "      <td>119.000000</td>\n",
       "      <td>105.000000</td>\n",
       "    </tr>\n",
       "    <tr>\n",
       "      <th>50%</th>\n",
       "      <td>31.000000</td>\n",
       "      <td>251.500000</td>\n",
       "      <td>97.500000</td>\n",
       "      <td>102.000000</td>\n",
       "      <td>86.000000</td>\n",
       "      <td>100.000000</td>\n",
       "      <td>298.000000</td>\n",
       "      <td>49.0</td>\n",
       "      <td>68.000000</td>\n",
       "      <td>86.500000</td>\n",
       "      <td>64.000000</td>\n",
       "      <td>208.000000</td>\n",
       "      <td>155.500000</td>\n",
       "      <td>151.000000</td>\n",
       "      <td>160.000000</td>\n",
       "    </tr>\n",
       "    <tr>\n",
       "      <th>75%</th>\n",
       "      <td>46.000000</td>\n",
       "      <td>257.750000</td>\n",
       "      <td>152.000000</td>\n",
       "      <td>133.000000</td>\n",
       "      <td>132.000000</td>\n",
       "      <td>157.000000</td>\n",
       "      <td>406.000000</td>\n",
       "      <td>49.0</td>\n",
       "      <td>70.500000</td>\n",
       "      <td>102.000000</td>\n",
       "      <td>106.000000</td>\n",
       "      <td>316.000000</td>\n",
       "      <td>203.500000</td>\n",
       "      <td>205.750000</td>\n",
       "      <td>205.000000</td>\n",
       "    </tr>\n",
       "    <tr>\n",
       "      <th>max</th>\n",
       "      <td>185.000000</td>\n",
       "      <td>325.000000</td>\n",
       "      <td>454.000000</td>\n",
       "      <td>281.000000</td>\n",
       "      <td>603.000000</td>\n",
       "      <td>503.000000</td>\n",
       "      <td>772.000000</td>\n",
       "      <td>49.0</td>\n",
       "      <td>147.000000</td>\n",
       "      <td>159.000000</td>\n",
       "      <td>313.000000</td>\n",
       "      <td>1849.000000</td>\n",
       "      <td>305.000000</td>\n",
       "      <td>636.000000</td>\n",
       "      <td>405.000000</td>\n",
       "    </tr>\n",
       "  </tbody>\n",
       "</table>\n",
       "</div>"
      ],
      "text/plain": [
       "           Bulk 1      Bulk 2       Bulk 3       Bulk 4      Bulk 5  \\\n",
       "count  252.000000   22.000000  1298.000000  1014.000000   77.000000   \n",
       "mean    39.242063  253.045455   113.879045   104.394477  107.025974   \n",
       "std     18.277654   21.180578    75.483494    48.184126   81.790646   \n",
       "min     10.000000  228.000000     6.000000    12.000000   11.000000   \n",
       "25%     27.000000  242.000000    58.000000    72.000000   70.000000   \n",
       "50%     31.000000  251.500000    97.500000   102.000000   86.000000   \n",
       "75%     46.000000  257.750000   152.000000   133.000000  132.000000   \n",
       "max    185.000000  325.000000   454.000000   281.000000  603.000000   \n",
       "\n",
       "           Bulk 6      Bulk 7  Bulk 8      Bulk 9     Bulk 10     Bulk 11  \\\n",
       "count  576.000000   25.000000     1.0   19.000000  176.000000  177.000000   \n",
       "mean   118.925347  305.600000    49.0   76.315789   83.284091   76.819209   \n",
       "std     72.057776  191.022904     NaN   21.720581   26.060347   59.655365   \n",
       "min     17.000000   47.000000    49.0   63.000000   24.000000    8.000000   \n",
       "25%     69.750000  155.000000    49.0   66.000000   64.000000   25.000000   \n",
       "50%    100.000000  298.000000    49.0   68.000000   86.500000   64.000000   \n",
       "75%    157.000000  406.000000    49.0   70.500000  102.000000  106.000000   \n",
       "max    503.000000  772.000000    49.0  147.000000  159.000000  313.000000   \n",
       "\n",
       "           Bulk 12     Bulk 13      Bulk 14      Bulk 15  \n",
       "count  2450.000000   18.000000  2806.000000  2248.000000  \n",
       "mean    260.471020  181.111111   170.284747   160.513345  \n",
       "std     120.649269   46.088009    65.868652    51.765319  \n",
       "min      53.000000  151.000000    16.000000     1.000000  \n",
       "25%     204.000000  153.250000   119.000000   105.000000  \n",
       "50%     208.000000  155.500000   151.000000   160.000000  \n",
       "75%     316.000000  203.500000   205.750000   205.000000  \n",
       "max    1849.000000  305.000000   636.000000   405.000000  "
      ]
     },
     "execution_count": 17,
     "metadata": {},
     "output_type": "execute_result"
    }
   ],
   "source": [
    "data_bulk.loc[:,'Bulk 1':].describe()"
   ]
  },
  {
   "cell_type": "code",
   "execution_count": 18,
   "id": "f5edb101",
   "metadata": {
    "scrolled": true
   },
   "outputs": [
    {
     "data": {
      "image/png": "[encoded data removed]",
      "text/plain": [
       "<Figure size 1440x1440 with 15 Axes>"
      ]
     },
     "metadata": {
      "needs_background": "light"
     },
     "output_type": "display_data"
    }
   ],
   "source": [
    "plt.figure(figsize=(20,20))\n",
    "for i in range(1,16):\n",
    "    column = f'Bulk {i}'\n",
    "    plt.subplot(5, 3, i)\n",
    "    plt.hist(data_bulk[column], alpha=0.8, bins=20)\n",
    "    plt.title(column)\n",
    "    plt.ylabel('Частота')\n",
    "    plt.grid(True)"
   ]
  },
  {
   "cell_type": "code",
   "execution_count": 19,
   "id": "d36cd338",
   "metadata": {},
   "outputs": [
    {
     "data": {
      "text/plain": [
       "key                          1\n",
       "Bulk 1     2019-05-03 17:50:19\n",
       "Bulk 2     2019-05-07 08:36:19\n",
       "Bulk 3     2019-05-03 20:13:36\n",
       "Bulk 4     2019-05-03 11:21:30\n",
       "Bulk 5     2019-05-07 08:36:19\n",
       "Bulk 6     2019-05-03 18:52:57\n",
       "Bulk 7     2019-05-07 11:37:42\n",
       "Bulk 8     2019-07-05 17:46:11\n",
       "Bulk 9     2019-05-14 00:04:56\n",
       "Bulk 10    2019-05-06 01:36:24\n",
       "Bulk 11    2019-05-05 16:45:05\n",
       "Bulk 12    2019-05-03 11:03:52\n",
       "Bulk 13    2019-05-05 00:39:35\n",
       "Bulk 14    2019-05-03 11:03:52\n",
       "Bulk 15    2019-05-03 11:03:52\n",
       "dtype: object"
      ]
     },
     "execution_count": 19,
     "metadata": {},
     "output_type": "execute_result"
    }
   ],
   "source": [
    "data_bulk_time.min()"
   ]
  },
  {
   "cell_type": "code",
   "execution_count": 20,
   "id": "b32b6ff7",
   "metadata": {
    "scrolled": true
   },
   "outputs": [
    {
     "data": {
      "text/plain": [
       "key                       3241\n",
       "Bulk 1     2019-08-30 23:01:32\n",
       "Bulk 2     2019-08-08 17:34:38\n",
       "Bulk 3     2019-08-31 23:39:11\n",
       "Bulk 4     2019-08-30 17:36:30\n",
       "Bulk 5     2019-08-28 09:01:08\n",
       "Bulk 6     2019-09-01 03:12:40\n",
       "Bulk 7     2019-08-31 07:22:25\n",
       "Bulk 8     2019-07-05 17:46:11\n",
       "Bulk 9     2019-08-11 15:09:33\n",
       "Bulk 10    2019-08-30 01:30:42\n",
       "Bulk 11    2019-08-31 16:00:49\n",
       "Bulk 12    2019-09-01 01:39:41\n",
       "Bulk 13    2019-08-26 20:31:16\n",
       "Bulk 14    2019-09-01 04:05:34\n",
       "Bulk 15    2019-09-01 04:05:34\n",
       "dtype: object"
      ]
     },
     "execution_count": 20,
     "metadata": {},
     "output_type": "execute_result"
    }
   ],
   "source": [
    "data_bulk_time.max()"
   ]
  },
  {
   "cell_type": "markdown",
   "id": "a656ea4a",
   "metadata": {},
   "source": [
    "* Ключи не повторяются, значит загрузку сыпучих материалов осуществляли однократно в каждой партии.\n",
    "* В таблице `data_bulk` колонки имеют распределения неправильной формы (скорее всего, из-за недостатка данных). Чаще всего встречается распределение с длинными правым хвостом и скошенное слева, но также есть вариант, близкий к плато (`'Bulk 7'`), с двумя пиками (`'Bulk 15'`), с длинным левым хвостом (`'Bulk 10'`). \n",
    "* В стобце `'Bulk 8'` присутствует только 1 значение. Он не даст модели ценной информации, поэтому его можно удалить на этапе предобработки.\n",
    "* Данные собраны за период с 03-05-2019 по 01-09-2019."
   ]
  },
  {
   "cell_type": "markdown",
   "id": "bbcc3382",
   "metadata": {},
   "source": [
    "### data_gas"
   ]
  },
  {
   "cell_type": "code",
   "execution_count": 21,
   "id": "45dca7be",
   "metadata": {},
   "outputs": [
    {
     "data": {
      "text/plain": [
       "2049    1\n",
       "3135    1\n",
       "3115    1\n",
       "1070    1\n",
       "3119    1\n",
       "       ..\n",
       "2596    1\n",
       "549     1\n",
       "2600    1\n",
       "553     1\n",
       "2047    1\n",
       "Name: key, Length: 3239, dtype: int64"
      ]
     },
     "execution_count": 21,
     "metadata": {},
     "output_type": "execute_result"
    }
   ],
   "source": [
    "data_gas['key'].value_counts()"
   ]
  },
  {
   "cell_type": "code",
   "execution_count": 22,
   "id": "f97c7a16",
   "metadata": {},
   "outputs": [
    {
     "data": {
      "text/plain": [
       "count    3239.000000\n",
       "mean       11.002062\n",
       "std         6.220327\n",
       "min         0.008399\n",
       "25%         7.043089\n",
       "50%         9.836267\n",
       "75%        13.769915\n",
       "max        77.995040\n",
       "Name: Газ 1, dtype: float64"
      ]
     },
     "execution_count": 22,
     "metadata": {},
     "output_type": "execute_result"
    }
   ],
   "source": [
    "data_gas['Газ 1'].describe()"
   ]
  },
  {
   "cell_type": "code",
   "execution_count": 23,
   "id": "995d55a8",
   "metadata": {
    "scrolled": true
   },
   "outputs": [
    {
     "data": {
      "image/png": "[encoded data removed]",
      "text/plain": [
       "<Figure size 864x360 with 1 Axes>"
      ]
     },
     "metadata": {
      "needs_background": "light"
     },
     "output_type": "display_data"
    }
   ],
   "source": [
    "plt.figure(figsize=(12,5))\n",
    "plt.hist(data_gas['Газ 1'], alpha=0.8, bins=20, range=(0,50))\n",
    "plt.xlabel('Объем')\n",
    "plt.ylabel('Частота')\n",
    "plt.grid(True)"
   ]
  },
  {
   "cell_type": "markdown",
   "id": "5b2c64cd",
   "metadata": {},
   "source": [
    "* В `data_gas` значения `'key'` не повторяются, значит продувку газом в каждой партии осуществляли однократно.\n",
    "* Значения в поле `'Газ 1'` варьируются от 0.01 до 78.00 со средним 11 и медианой 9.84. Значения выше 40 встречаются крайне редко. Но т.к. это рельные данные с производственного процесса, отфильтровывать от выбросов не будем."
   ]
  },
  {
   "cell_type": "markdown",
   "id": "0cba1c72",
   "metadata": {},
   "source": [
    "### data_temp"
   ]
  },
  {
   "cell_type": "code",
   "execution_count": 24,
   "id": "d862ffad",
   "metadata": {},
   "outputs": [
    {
     "data": {
      "text/plain": [
       "46      16\n",
       "1214    16\n",
       "1513    16\n",
       "44      16\n",
       "1689    15\n",
       "        ..\n",
       "1415     2\n",
       "1836     2\n",
       "2456     2\n",
       "195      1\n",
       "279      1\n",
       "Name: key, Length: 3216, dtype: int64"
      ]
     },
     "execution_count": 24,
     "metadata": {},
     "output_type": "execute_result"
    }
   ],
   "source": [
    "data_temp['key'].value_counts()"
   ]
  },
  {
   "cell_type": "code",
   "execution_count": 25,
   "id": "505d2cf5",
   "metadata": {
    "scrolled": true
   },
   "outputs": [
    {
     "name": "stdout",
     "output_type": "stream",
     "text": [
      "Первая запись: 2019-05-03 11:16:18\n",
      "Последняя запись: 2019-09-01 04:38:08\n"
     ]
    }
   ],
   "source": [
    "print('Первая запись:', data_temp['Время замера'].min())\n",
    "print('Последняя запись:', data_temp['Время замера'].max())"
   ]
  },
  {
   "cell_type": "code",
   "execution_count": 26,
   "id": "4fe82ec9",
   "metadata": {},
   "outputs": [
    {
     "data": {
      "text/plain": [
       "count    13006.000000\n",
       "mean      1591.840920\n",
       "std         21.375851\n",
       "min       1191.000000\n",
       "25%       1581.000000\n",
       "50%       1591.000000\n",
       "75%       1601.000000\n",
       "max       1705.000000\n",
       "Name: Температура, dtype: float64"
      ]
     },
     "execution_count": 26,
     "metadata": {},
     "output_type": "execute_result"
    }
   ],
   "source": [
    "data_temp['Температура'].describe()"
   ]
  },
  {
   "cell_type": "code",
   "execution_count": 27,
   "id": "5cb33266",
   "metadata": {
    "scrolled": true
   },
   "outputs": [
    {
     "data": {
      "image/png": "[encoded data removed]",
      "text/plain": [
       "<Figure size 864x360 with 1 Axes>"
      ]
     },
     "metadata": {
      "needs_background": "light"
     },
     "output_type": "display_data"
    }
   ],
   "source": [
    "plt.figure(figsize=(12,5))\n",
    "plt.hist(data_temp['Температура'], alpha=0.8, bins=20, range=(1520,1705))\n",
    "plt.xlabel('Температура')\n",
    "plt.ylabel('Частота')\n",
    "plt.grid(True)"
   ]
  },
  {
   "cell_type": "markdown",
   "id": "a7739e28",
   "metadata": {},
   "source": [
    "* Значения `'key'` встречаются по нескольку раз (за исключением партий 195 и 279), значит замеры температуры проводили несколько раз для каждой партии.\n",
    "* Данные представлены за тот же промежуток времени, что и в предыдущих таблицах.\n",
    "* Значения температуры варьируются от 1191 до 1705 со средним и медианой 1591. Значения ниже 1500 похожи на выбросы, возможно, стоит их удалить по согласованию с заказчиком."
   ]
  },
  {
   "cell_type": "markdown",
   "id": "3dc03733",
   "metadata": {},
   "source": [
    "### data_wire и data_wire_time"
   ]
  },
  {
   "cell_type": "code",
   "execution_count": 28,
   "id": "ecf76b84",
   "metadata": {},
   "outputs": [
    {
     "data": {
      "text/plain": [
       "2049    1\n",
       "2664    1\n",
       "2590    1\n",
       "543     1\n",
       "2592    1\n",
       "       ..\n",
       "1090    1\n",
       "3139    1\n",
       "1092    1\n",
       "3141    1\n",
       "2047    1\n",
       "Name: key, Length: 3081, dtype: int64"
      ]
     },
     "execution_count": 28,
     "metadata": {},
     "output_type": "execute_result"
    }
   ],
   "source": [
    "data_wire['key'].value_counts()"
   ]
  },
  {
   "cell_type": "code",
   "execution_count": 29,
   "id": "53e6eba4",
   "metadata": {
    "scrolled": false
   },
   "outputs": [
    {
     "data": {
      "text/html": [
       "<div>\n",
       "<style scoped>\n",
       "    .dataframe tbody tr th:only-of-type {\n",
       "        vertical-align: middle;\n",
       "    }\n",
       "\n",
       "    .dataframe tbody tr th {\n",
       "        vertical-align: top;\n",
       "    }\n",
       "\n",
       "    .dataframe thead th {\n",
       "        text-align: right;\n",
       "    }\n",
       "</style>\n",
       "<table border=\"1\" class=\"dataframe\">\n",
       "  <thead>\n",
       "    <tr style=\"text-align: right;\">\n",
       "      <th></th>\n",
       "      <th>Wire 1</th>\n",
       "      <th>Wire 2</th>\n",
       "      <th>Wire 3</th>\n",
       "      <th>Wire 4</th>\n",
       "      <th>Wire 5</th>\n",
       "      <th>Wire 6</th>\n",
       "      <th>Wire 7</th>\n",
       "      <th>Wire 8</th>\n",
       "      <th>Wire 9</th>\n",
       "    </tr>\n",
       "  </thead>\n",
       "  <tbody>\n",
       "    <tr>\n",
       "      <th>count</th>\n",
       "      <td>3055.000000</td>\n",
       "      <td>1079.000000</td>\n",
       "      <td>63.000000</td>\n",
       "      <td>14.000000</td>\n",
       "      <td>1.000</td>\n",
       "      <td>73.000000</td>\n",
       "      <td>11.000000</td>\n",
       "      <td>19.000000</td>\n",
       "      <td>29.000000</td>\n",
       "    </tr>\n",
       "    <tr>\n",
       "      <th>mean</th>\n",
       "      <td>100.895853</td>\n",
       "      <td>50.577323</td>\n",
       "      <td>189.482681</td>\n",
       "      <td>57.442841</td>\n",
       "      <td>15.132</td>\n",
       "      <td>48.016974</td>\n",
       "      <td>10.039007</td>\n",
       "      <td>53.625193</td>\n",
       "      <td>34.155752</td>\n",
       "    </tr>\n",
       "    <tr>\n",
       "      <th>std</th>\n",
       "      <td>42.012518</td>\n",
       "      <td>39.320216</td>\n",
       "      <td>99.513444</td>\n",
       "      <td>28.824667</td>\n",
       "      <td>NaN</td>\n",
       "      <td>33.919845</td>\n",
       "      <td>8.610584</td>\n",
       "      <td>16.881728</td>\n",
       "      <td>19.931616</td>\n",
       "    </tr>\n",
       "    <tr>\n",
       "      <th>min</th>\n",
       "      <td>1.918800</td>\n",
       "      <td>0.030160</td>\n",
       "      <td>0.144144</td>\n",
       "      <td>24.148801</td>\n",
       "      <td>15.132</td>\n",
       "      <td>0.034320</td>\n",
       "      <td>0.234208</td>\n",
       "      <td>45.076721</td>\n",
       "      <td>4.622800</td>\n",
       "    </tr>\n",
       "    <tr>\n",
       "      <th>25%</th>\n",
       "      <td>72.115684</td>\n",
       "      <td>20.193680</td>\n",
       "      <td>95.135044</td>\n",
       "      <td>40.807002</td>\n",
       "      <td>15.132</td>\n",
       "      <td>25.053600</td>\n",
       "      <td>6.762756</td>\n",
       "      <td>46.094879</td>\n",
       "      <td>22.058401</td>\n",
       "    </tr>\n",
       "    <tr>\n",
       "      <th>50%</th>\n",
       "      <td>100.158234</td>\n",
       "      <td>40.142956</td>\n",
       "      <td>235.194977</td>\n",
       "      <td>45.234282</td>\n",
       "      <td>15.132</td>\n",
       "      <td>42.076324</td>\n",
       "      <td>9.017009</td>\n",
       "      <td>46.279999</td>\n",
       "      <td>30.066399</td>\n",
       "    </tr>\n",
       "    <tr>\n",
       "      <th>75%</th>\n",
       "      <td>126.060483</td>\n",
       "      <td>70.227558</td>\n",
       "      <td>276.252014</td>\n",
       "      <td>76.124619</td>\n",
       "      <td>15.132</td>\n",
       "      <td>64.212723</td>\n",
       "      <td>11.886057</td>\n",
       "      <td>48.089603</td>\n",
       "      <td>43.862003</td>\n",
       "    </tr>\n",
       "    <tr>\n",
       "      <th>max</th>\n",
       "      <td>330.314424</td>\n",
       "      <td>282.780152</td>\n",
       "      <td>385.008668</td>\n",
       "      <td>113.231044</td>\n",
       "      <td>15.132</td>\n",
       "      <td>180.454575</td>\n",
       "      <td>32.847674</td>\n",
       "      <td>102.762401</td>\n",
       "      <td>90.053604</td>\n",
       "    </tr>\n",
       "  </tbody>\n",
       "</table>\n",
       "</div>"
      ],
      "text/plain": [
       "            Wire 1       Wire 2      Wire 3      Wire 4  Wire 5      Wire 6  \\\n",
       "count  3055.000000  1079.000000   63.000000   14.000000   1.000   73.000000   \n",
       "mean    100.895853    50.577323  189.482681   57.442841  15.132   48.016974   \n",
       "std      42.012518    39.320216   99.513444   28.824667     NaN   33.919845   \n",
       "min       1.918800     0.030160    0.144144   24.148801  15.132    0.034320   \n",
       "25%      72.115684    20.193680   95.135044   40.807002  15.132   25.053600   \n",
       "50%     100.158234    40.142956  235.194977   45.234282  15.132   42.076324   \n",
       "75%     126.060483    70.227558  276.252014   76.124619  15.132   64.212723   \n",
       "max     330.314424   282.780152  385.008668  113.231044  15.132  180.454575   \n",
       "\n",
       "          Wire 7      Wire 8     Wire 9  \n",
       "count  11.000000   19.000000  29.000000  \n",
       "mean   10.039007   53.625193  34.155752  \n",
       "std     8.610584   16.881728  19.931616  \n",
       "min     0.234208   45.076721   4.622800  \n",
       "25%     6.762756   46.094879  22.058401  \n",
       "50%     9.017009   46.279999  30.066399  \n",
       "75%    11.886057   48.089603  43.862003  \n",
       "max    32.847674  102.762401  90.053604  "
      ]
     },
     "execution_count": 29,
     "metadata": {},
     "output_type": "execute_result"
    }
   ],
   "source": [
    "data_wire.loc[:,'Wire 1':].describe()"
   ]
  },
  {
   "cell_type": "code",
   "execution_count": 30,
   "id": "5c592243",
   "metadata": {},
   "outputs": [
    {
     "data": {
      "image/png": "[encoded data removed]",
      "text/plain": [
       "<Figure size 1440x1296 with 9 Axes>"
      ]
     },
     "metadata": {
      "needs_background": "light"
     },
     "output_type": "display_data"
    }
   ],
   "source": [
    "plt.figure(figsize=(20,18))\n",
    "for i in range(1,10):\n",
    "    column = f'Wire {i}'\n",
    "    number = pd.to_numeric(f'33{i}').astype('int')\n",
    "    plt.subplot(number)\n",
    "    plt.hist(data_wire[column], alpha=0.8, bins=20)\n",
    "    plt.title(column)\n",
    "    plt.ylabel('Частота')\n",
    "    plt.xlabel('Объем')\n",
    "    plt.grid(True)    "
   ]
  },
  {
   "cell_type": "code",
   "execution_count": 31,
   "id": "446cac37",
   "metadata": {},
   "outputs": [
    {
     "data": {
      "text/plain": [
       "key                         1\n",
       "Wire 1    2019-05-03 11:11:41\n",
       "Wire 2    2019-05-03 13:32:06\n",
       "Wire 3    2019-05-04 04:47:53\n",
       "Wire 4    2019-05-07 08:48:23\n",
       "Wire 5    2019-08-08 16:01:07\n",
       "Wire 6    2019-05-07 08:37:20\n",
       "Wire 7    2019-07-23 12:08:44\n",
       "Wire 8    2019-05-14 00:03:32\n",
       "Wire 9    2019-05-04 16:09:11\n",
       "dtype: object"
      ]
     },
     "execution_count": 31,
     "metadata": {},
     "output_type": "execute_result"
    }
   ],
   "source": [
    "data_wire_time.min()"
   ]
  },
  {
   "cell_type": "code",
   "execution_count": 32,
   "id": "035d67d3",
   "metadata": {
    "scrolled": true
   },
   "outputs": [
    {
     "data": {
      "text/plain": [
       "key                      3241\n",
       "Wire 1    2019-09-01 04:16:01\n",
       "Wire 2    2019-08-31 18:50:15\n",
       "Wire 3    2019-08-28 02:11:18\n",
       "Wire 4    2019-08-08 12:03:12\n",
       "Wire 5    2019-08-08 16:01:07\n",
       "Wire 6    2019-08-14 00:59:11\n",
       "Wire 7    2019-08-08 18:27:34\n",
       "Wire 8    2019-08-11 15:09:29\n",
       "Wire 9    2019-08-29 03:51:31\n",
       "dtype: object"
      ]
     },
     "execution_count": 32,
     "metadata": {},
     "output_type": "execute_result"
    }
   ],
   "source": [
    "data_wire_time.max()"
   ]
  },
  {
   "cell_type": "markdown",
   "id": "ce16aaac",
   "metadata": {},
   "source": [
    "* Ключи не повторяются, значит загрузку проволочных материалов осуществляли однократно в каждой партии.\n",
    "* В таблице `data_wire` встречаются следующие виды распределений: близкое к нормальному (`'Wire 1'`), с длинным правым хвостом и скошенное слева (`'Wire 2'`), с несколькими пиками (`'Wire 3'`). Практически все распределения имеют изолированные участки, что говорит о небольшом количестве наблюдений.\n",
    "* В стобце `'Wire 5'` присутствует только 1 значение. Этот столбец будет неинформативен для модели, поэтому его можно удалить. \n",
    "* Данные представлены за тот же временной промежуток, что и в остальных таблицах."
   ]
  },
  {
   "cell_type": "markdown",
   "id": "864b9e1c",
   "metadata": {},
   "source": [
    "**Какая нужна предобработка:**\n",
    "1. Пропуски в таблицах `data_bulk` и `data_wire` заполнить 0 (пропуск означает, что реагент не добавляли).\n",
    "2. Удалить столбцы `'Wire 5'` в `data_wire` и `'Bulk 8'` в `data_bulk`.\n",
    "3. Таблицу `data_arc` сгруппировать по ключам, в качестве агрегирующей функции попробуем `sum`. Строки со отрицательным значением реактивной мощности удалим. \n",
    "4. Таблицу `data_temp` отсортируем по дате и времени, удалим ключи только с 1 измерением температуры, выделим первое и последнее измерения и вынесем в отдельный признак, все остальные измерения удалим. Оставим по одной строке на каждый ключ. \n",
    "5. Объединим подготовленные таблицы по `'key'` (`data_bulk_time` и `data_wire_time` в дальнейшей работе использовать не будем)."
   ]
  },
  {
   "cell_type": "markdown",
   "id": "5f8bd213",
   "metadata": {},
   "source": [
    "## Предобработка данных"
   ]
  },
  {
   "cell_type": "markdown",
   "id": "6f8f1c7d",
   "metadata": {},
   "source": [
    "Заполняем пропуски и удаляем неинформатиные столбцы в `data_bulk` и `data_wire`."
   ]
  },
  {
   "cell_type": "code",
   "execution_count": 33,
   "id": "4d114836",
   "metadata": {
    "scrolled": true
   },
   "outputs": [
    {
     "data": {
      "text/html": [
       "<div>\n",
       "<style scoped>\n",
       "    .dataframe tbody tr th:only-of-type {\n",
       "        vertical-align: middle;\n",
       "    }\n",
       "\n",
       "    .dataframe tbody tr th {\n",
       "        vertical-align: top;\n",
       "    }\n",
       "\n",
       "    .dataframe thead th {\n",
       "        text-align: right;\n",
       "    }\n",
       "</style>\n",
       "<table border=\"1\" class=\"dataframe\">\n",
       "  <thead>\n",
       "    <tr style=\"text-align: right;\">\n",
       "      <th></th>\n",
       "      <th>key</th>\n",
       "      <th>Bulk 1</th>\n",
       "      <th>Bulk 2</th>\n",
       "      <th>Bulk 3</th>\n",
       "      <th>Bulk 4</th>\n",
       "      <th>Bulk 5</th>\n",
       "      <th>Bulk 6</th>\n",
       "      <th>Bulk 7</th>\n",
       "      <th>Bulk 9</th>\n",
       "      <th>Bulk 10</th>\n",
       "      <th>Bulk 11</th>\n",
       "      <th>Bulk 12</th>\n",
       "      <th>Bulk 13</th>\n",
       "      <th>Bulk 14</th>\n",
       "      <th>Bulk 15</th>\n",
       "    </tr>\n",
       "  </thead>\n",
       "  <tbody>\n",
       "    <tr>\n",
       "      <th>0</th>\n",
       "      <td>1</td>\n",
       "      <td>0.0</td>\n",
       "      <td>0.0</td>\n",
       "      <td>0.0</td>\n",
       "      <td>43.0</td>\n",
       "      <td>0.0</td>\n",
       "      <td>0.0</td>\n",
       "      <td>0.0</td>\n",
       "      <td>0.0</td>\n",
       "      <td>0.0</td>\n",
       "      <td>0.0</td>\n",
       "      <td>206.0</td>\n",
       "      <td>0.0</td>\n",
       "      <td>150.0</td>\n",
       "      <td>154.0</td>\n",
       "    </tr>\n",
       "    <tr>\n",
       "      <th>1</th>\n",
       "      <td>2</td>\n",
       "      <td>0.0</td>\n",
       "      <td>0.0</td>\n",
       "      <td>0.0</td>\n",
       "      <td>73.0</td>\n",
       "      <td>0.0</td>\n",
       "      <td>0.0</td>\n",
       "      <td>0.0</td>\n",
       "      <td>0.0</td>\n",
       "      <td>0.0</td>\n",
       "      <td>0.0</td>\n",
       "      <td>206.0</td>\n",
       "      <td>0.0</td>\n",
       "      <td>149.0</td>\n",
       "      <td>154.0</td>\n",
       "    </tr>\n",
       "    <tr>\n",
       "      <th>2</th>\n",
       "      <td>3</td>\n",
       "      <td>0.0</td>\n",
       "      <td>0.0</td>\n",
       "      <td>0.0</td>\n",
       "      <td>34.0</td>\n",
       "      <td>0.0</td>\n",
       "      <td>0.0</td>\n",
       "      <td>0.0</td>\n",
       "      <td>0.0</td>\n",
       "      <td>0.0</td>\n",
       "      <td>0.0</td>\n",
       "      <td>205.0</td>\n",
       "      <td>0.0</td>\n",
       "      <td>152.0</td>\n",
       "      <td>153.0</td>\n",
       "    </tr>\n",
       "    <tr>\n",
       "      <th>3</th>\n",
       "      <td>4</td>\n",
       "      <td>0.0</td>\n",
       "      <td>0.0</td>\n",
       "      <td>0.0</td>\n",
       "      <td>81.0</td>\n",
       "      <td>0.0</td>\n",
       "      <td>0.0</td>\n",
       "      <td>0.0</td>\n",
       "      <td>0.0</td>\n",
       "      <td>0.0</td>\n",
       "      <td>0.0</td>\n",
       "      <td>207.0</td>\n",
       "      <td>0.0</td>\n",
       "      <td>153.0</td>\n",
       "      <td>154.0</td>\n",
       "    </tr>\n",
       "    <tr>\n",
       "      <th>4</th>\n",
       "      <td>5</td>\n",
       "      <td>0.0</td>\n",
       "      <td>0.0</td>\n",
       "      <td>0.0</td>\n",
       "      <td>78.0</td>\n",
       "      <td>0.0</td>\n",
       "      <td>0.0</td>\n",
       "      <td>0.0</td>\n",
       "      <td>0.0</td>\n",
       "      <td>0.0</td>\n",
       "      <td>0.0</td>\n",
       "      <td>203.0</td>\n",
       "      <td>0.0</td>\n",
       "      <td>151.0</td>\n",
       "      <td>152.0</td>\n",
       "    </tr>\n",
       "    <tr>\n",
       "      <th>...</th>\n",
       "      <td>...</td>\n",
       "      <td>...</td>\n",
       "      <td>...</td>\n",
       "      <td>...</td>\n",
       "      <td>...</td>\n",
       "      <td>...</td>\n",
       "      <td>...</td>\n",
       "      <td>...</td>\n",
       "      <td>...</td>\n",
       "      <td>...</td>\n",
       "      <td>...</td>\n",
       "      <td>...</td>\n",
       "      <td>...</td>\n",
       "      <td>...</td>\n",
       "      <td>...</td>\n",
       "    </tr>\n",
       "    <tr>\n",
       "      <th>3124</th>\n",
       "      <td>3237</td>\n",
       "      <td>0.0</td>\n",
       "      <td>0.0</td>\n",
       "      <td>170.0</td>\n",
       "      <td>0.0</td>\n",
       "      <td>0.0</td>\n",
       "      <td>0.0</td>\n",
       "      <td>0.0</td>\n",
       "      <td>0.0</td>\n",
       "      <td>0.0</td>\n",
       "      <td>0.0</td>\n",
       "      <td>252.0</td>\n",
       "      <td>0.0</td>\n",
       "      <td>130.0</td>\n",
       "      <td>206.0</td>\n",
       "    </tr>\n",
       "    <tr>\n",
       "      <th>3125</th>\n",
       "      <td>3238</td>\n",
       "      <td>0.0</td>\n",
       "      <td>0.0</td>\n",
       "      <td>126.0</td>\n",
       "      <td>0.0</td>\n",
       "      <td>0.0</td>\n",
       "      <td>0.0</td>\n",
       "      <td>0.0</td>\n",
       "      <td>0.0</td>\n",
       "      <td>0.0</td>\n",
       "      <td>0.0</td>\n",
       "      <td>254.0</td>\n",
       "      <td>0.0</td>\n",
       "      <td>108.0</td>\n",
       "      <td>106.0</td>\n",
       "    </tr>\n",
       "    <tr>\n",
       "      <th>3126</th>\n",
       "      <td>3239</td>\n",
       "      <td>0.0</td>\n",
       "      <td>0.0</td>\n",
       "      <td>0.0</td>\n",
       "      <td>0.0</td>\n",
       "      <td>0.0</td>\n",
       "      <td>114.0</td>\n",
       "      <td>0.0</td>\n",
       "      <td>0.0</td>\n",
       "      <td>0.0</td>\n",
       "      <td>0.0</td>\n",
       "      <td>158.0</td>\n",
       "      <td>0.0</td>\n",
       "      <td>270.0</td>\n",
       "      <td>88.0</td>\n",
       "    </tr>\n",
       "    <tr>\n",
       "      <th>3127</th>\n",
       "      <td>3240</td>\n",
       "      <td>0.0</td>\n",
       "      <td>0.0</td>\n",
       "      <td>0.0</td>\n",
       "      <td>0.0</td>\n",
       "      <td>0.0</td>\n",
       "      <td>26.0</td>\n",
       "      <td>0.0</td>\n",
       "      <td>0.0</td>\n",
       "      <td>0.0</td>\n",
       "      <td>0.0</td>\n",
       "      <td>0.0</td>\n",
       "      <td>0.0</td>\n",
       "      <td>192.0</td>\n",
       "      <td>54.0</td>\n",
       "    </tr>\n",
       "    <tr>\n",
       "      <th>3128</th>\n",
       "      <td>3241</td>\n",
       "      <td>0.0</td>\n",
       "      <td>0.0</td>\n",
       "      <td>0.0</td>\n",
       "      <td>0.0</td>\n",
       "      <td>0.0</td>\n",
       "      <td>0.0</td>\n",
       "      <td>0.0</td>\n",
       "      <td>0.0</td>\n",
       "      <td>0.0</td>\n",
       "      <td>0.0</td>\n",
       "      <td>0.0</td>\n",
       "      <td>0.0</td>\n",
       "      <td>180.0</td>\n",
       "      <td>52.0</td>\n",
       "    </tr>\n",
       "  </tbody>\n",
       "</table>\n",
       "<p>3129 rows × 15 columns</p>\n",
       "</div>"
      ],
      "text/plain": [
       "       key  Bulk 1  Bulk 2  Bulk 3  Bulk 4  Bulk 5  Bulk 6  Bulk 7  Bulk 9  \\\n",
       "0        1     0.0     0.0     0.0    43.0     0.0     0.0     0.0     0.0   \n",
       "1        2     0.0     0.0     0.0    73.0     0.0     0.0     0.0     0.0   \n",
       "2        3     0.0     0.0     0.0    34.0     0.0     0.0     0.0     0.0   \n",
       "3        4     0.0     0.0     0.0    81.0     0.0     0.0     0.0     0.0   \n",
       "4        5     0.0     0.0     0.0    78.0     0.0     0.0     0.0     0.0   \n",
       "...    ...     ...     ...     ...     ...     ...     ...     ...     ...   \n",
       "3124  3237     0.0     0.0   170.0     0.0     0.0     0.0     0.0     0.0   \n",
       "3125  3238     0.0     0.0   126.0     0.0     0.0     0.0     0.0     0.0   \n",
       "3126  3239     0.0     0.0     0.0     0.0     0.0   114.0     0.0     0.0   \n",
       "3127  3240     0.0     0.0     0.0     0.0     0.0    26.0     0.0     0.0   \n",
       "3128  3241     0.0     0.0     0.0     0.0     0.0     0.0     0.0     0.0   \n",
       "\n",
       "      Bulk 10  Bulk 11  Bulk 12  Bulk 13  Bulk 14  Bulk 15  \n",
       "0         0.0      0.0    206.0      0.0    150.0    154.0  \n",
       "1         0.0      0.0    206.0      0.0    149.0    154.0  \n",
       "2         0.0      0.0    205.0      0.0    152.0    153.0  \n",
       "3         0.0      0.0    207.0      0.0    153.0    154.0  \n",
       "4         0.0      0.0    203.0      0.0    151.0    152.0  \n",
       "...       ...      ...      ...      ...      ...      ...  \n",
       "3124      0.0      0.0    252.0      0.0    130.0    206.0  \n",
       "3125      0.0      0.0    254.0      0.0    108.0    106.0  \n",
       "3126      0.0      0.0    158.0      0.0    270.0     88.0  \n",
       "3127      0.0      0.0      0.0      0.0    192.0     54.0  \n",
       "3128      0.0      0.0      0.0      0.0    180.0     52.0  \n",
       "\n",
       "[3129 rows x 15 columns]"
      ]
     },
     "metadata": {},
     "output_type": "display_data"
    }
   ],
   "source": [
    "data_bulk = data_bulk.drop('Bulk 8', axis=1).fillna(0)\n",
    "display(data_bulk)"
   ]
  },
  {
   "cell_type": "code",
   "execution_count": 34,
   "id": "cbdf5b63",
   "metadata": {},
   "outputs": [
    {
     "data": {
      "text/html": [
       "<div>\n",
       "<style scoped>\n",
       "    .dataframe tbody tr th:only-of-type {\n",
       "        vertical-align: middle;\n",
       "    }\n",
       "\n",
       "    .dataframe tbody tr th {\n",
       "        vertical-align: top;\n",
       "    }\n",
       "\n",
       "    .dataframe thead th {\n",
       "        text-align: right;\n",
       "    }\n",
       "</style>\n",
       "<table border=\"1\" class=\"dataframe\">\n",
       "  <thead>\n",
       "    <tr style=\"text-align: right;\">\n",
       "      <th></th>\n",
       "      <th>key</th>\n",
       "      <th>Wire 1</th>\n",
       "      <th>Wire 2</th>\n",
       "      <th>Wire 3</th>\n",
       "      <th>Wire 4</th>\n",
       "      <th>Wire 6</th>\n",
       "      <th>Wire 7</th>\n",
       "      <th>Wire 8</th>\n",
       "      <th>Wire 9</th>\n",
       "    </tr>\n",
       "  </thead>\n",
       "  <tbody>\n",
       "    <tr>\n",
       "      <th>0</th>\n",
       "      <td>1</td>\n",
       "      <td>60.059998</td>\n",
       "      <td>0.00000</td>\n",
       "      <td>0.0</td>\n",
       "      <td>0.0</td>\n",
       "      <td>0.0</td>\n",
       "      <td>0.0</td>\n",
       "      <td>0.0</td>\n",
       "      <td>0.0</td>\n",
       "    </tr>\n",
       "    <tr>\n",
       "      <th>1</th>\n",
       "      <td>2</td>\n",
       "      <td>96.052315</td>\n",
       "      <td>0.00000</td>\n",
       "      <td>0.0</td>\n",
       "      <td>0.0</td>\n",
       "      <td>0.0</td>\n",
       "      <td>0.0</td>\n",
       "      <td>0.0</td>\n",
       "      <td>0.0</td>\n",
       "    </tr>\n",
       "    <tr>\n",
       "      <th>2</th>\n",
       "      <td>3</td>\n",
       "      <td>91.160157</td>\n",
       "      <td>0.00000</td>\n",
       "      <td>0.0</td>\n",
       "      <td>0.0</td>\n",
       "      <td>0.0</td>\n",
       "      <td>0.0</td>\n",
       "      <td>0.0</td>\n",
       "      <td>0.0</td>\n",
       "    </tr>\n",
       "    <tr>\n",
       "      <th>3</th>\n",
       "      <td>4</td>\n",
       "      <td>89.063515</td>\n",
       "      <td>0.00000</td>\n",
       "      <td>0.0</td>\n",
       "      <td>0.0</td>\n",
       "      <td>0.0</td>\n",
       "      <td>0.0</td>\n",
       "      <td>0.0</td>\n",
       "      <td>0.0</td>\n",
       "    </tr>\n",
       "    <tr>\n",
       "      <th>4</th>\n",
       "      <td>5</td>\n",
       "      <td>89.238236</td>\n",
       "      <td>9.11456</td>\n",
       "      <td>0.0</td>\n",
       "      <td>0.0</td>\n",
       "      <td>0.0</td>\n",
       "      <td>0.0</td>\n",
       "      <td>0.0</td>\n",
       "      <td>0.0</td>\n",
       "    </tr>\n",
       "    <tr>\n",
       "      <th>...</th>\n",
       "      <td>...</td>\n",
       "      <td>...</td>\n",
       "      <td>...</td>\n",
       "      <td>...</td>\n",
       "      <td>...</td>\n",
       "      <td>...</td>\n",
       "      <td>...</td>\n",
       "      <td>...</td>\n",
       "      <td>...</td>\n",
       "    </tr>\n",
       "    <tr>\n",
       "      <th>3076</th>\n",
       "      <td>3237</td>\n",
       "      <td>38.088959</td>\n",
       "      <td>0.00000</td>\n",
       "      <td>0.0</td>\n",
       "      <td>0.0</td>\n",
       "      <td>0.0</td>\n",
       "      <td>0.0</td>\n",
       "      <td>0.0</td>\n",
       "      <td>0.0</td>\n",
       "    </tr>\n",
       "    <tr>\n",
       "      <th>3077</th>\n",
       "      <td>3238</td>\n",
       "      <td>56.128799</td>\n",
       "      <td>0.00000</td>\n",
       "      <td>0.0</td>\n",
       "      <td>0.0</td>\n",
       "      <td>0.0</td>\n",
       "      <td>0.0</td>\n",
       "      <td>0.0</td>\n",
       "      <td>0.0</td>\n",
       "    </tr>\n",
       "    <tr>\n",
       "      <th>3078</th>\n",
       "      <td>3239</td>\n",
       "      <td>143.357761</td>\n",
       "      <td>0.00000</td>\n",
       "      <td>0.0</td>\n",
       "      <td>0.0</td>\n",
       "      <td>0.0</td>\n",
       "      <td>0.0</td>\n",
       "      <td>0.0</td>\n",
       "      <td>0.0</td>\n",
       "    </tr>\n",
       "    <tr>\n",
       "      <th>3079</th>\n",
       "      <td>3240</td>\n",
       "      <td>34.070400</td>\n",
       "      <td>0.00000</td>\n",
       "      <td>0.0</td>\n",
       "      <td>0.0</td>\n",
       "      <td>0.0</td>\n",
       "      <td>0.0</td>\n",
       "      <td>0.0</td>\n",
       "      <td>0.0</td>\n",
       "    </tr>\n",
       "    <tr>\n",
       "      <th>3080</th>\n",
       "      <td>3241</td>\n",
       "      <td>63.117595</td>\n",
       "      <td>0.00000</td>\n",
       "      <td>0.0</td>\n",
       "      <td>0.0</td>\n",
       "      <td>0.0</td>\n",
       "      <td>0.0</td>\n",
       "      <td>0.0</td>\n",
       "      <td>0.0</td>\n",
       "    </tr>\n",
       "  </tbody>\n",
       "</table>\n",
       "<p>3081 rows × 9 columns</p>\n",
       "</div>"
      ],
      "text/plain": [
       "       key      Wire 1   Wire 2  Wire 3  Wire 4  Wire 6  Wire 7  Wire 8  \\\n",
       "0        1   60.059998  0.00000     0.0     0.0     0.0     0.0     0.0   \n",
       "1        2   96.052315  0.00000     0.0     0.0     0.0     0.0     0.0   \n",
       "2        3   91.160157  0.00000     0.0     0.0     0.0     0.0     0.0   \n",
       "3        4   89.063515  0.00000     0.0     0.0     0.0     0.0     0.0   \n",
       "4        5   89.238236  9.11456     0.0     0.0     0.0     0.0     0.0   \n",
       "...    ...         ...      ...     ...     ...     ...     ...     ...   \n",
       "3076  3237   38.088959  0.00000     0.0     0.0     0.0     0.0     0.0   \n",
       "3077  3238   56.128799  0.00000     0.0     0.0     0.0     0.0     0.0   \n",
       "3078  3239  143.357761  0.00000     0.0     0.0     0.0     0.0     0.0   \n",
       "3079  3240   34.070400  0.00000     0.0     0.0     0.0     0.0     0.0   \n",
       "3080  3241   63.117595  0.00000     0.0     0.0     0.0     0.0     0.0   \n",
       "\n",
       "      Wire 9  \n",
       "0        0.0  \n",
       "1        0.0  \n",
       "2        0.0  \n",
       "3        0.0  \n",
       "4        0.0  \n",
       "...      ...  \n",
       "3076     0.0  \n",
       "3077     0.0  \n",
       "3078     0.0  \n",
       "3079     0.0  \n",
       "3080     0.0  \n",
       "\n",
       "[3081 rows x 9 columns]"
      ]
     },
     "metadata": {},
     "output_type": "display_data"
    }
   ],
   "source": [
    "data_wire = data_wire.drop('Wire 5', axis=1).fillna(0)\n",
    "display(data_wire)"
   ]
  },
  {
   "cell_type": "markdown",
   "id": "9dcebebc",
   "metadata": {},
   "source": [
    "Фильтруем таблицу `data_arc`"
   ]
  },
  {
   "cell_type": "code",
   "execution_count": 35,
   "id": "6a19f399",
   "metadata": {
    "scrolled": false
   },
   "outputs": [
    {
     "name": "stdout",
     "output_type": "stream",
     "text": [
      "Первоначальная форма: (14876, 5)\n",
      "Новая форма: (14875, 5)\n"
     ]
    }
   ],
   "source": [
    "print('Первоначальная форма:', data_arc.shape)\n",
    "data_arc = data_arc.loc[data_arc['Реактивная мощность'] >= 0]\n",
    "print('Новая форма:', data_arc.shape)"
   ]
  },
  {
   "cell_type": "markdown",
   "id": "67283555",
   "metadata": {},
   "source": [
    "Добавим дополнительный признак: полную мощность (корень из суммы квадратов активной и реактивной мощностей)."
   ]
  },
  {
   "cell_type": "code",
   "execution_count": 36,
   "id": "78fd4fa4",
   "metadata": {
    "scrolled": true
   },
   "outputs": [
    {
     "data": {
      "text/html": [
       "<div>\n",
       "<style scoped>\n",
       "    .dataframe tbody tr th:only-of-type {\n",
       "        vertical-align: middle;\n",
       "    }\n",
       "\n",
       "    .dataframe tbody tr th {\n",
       "        vertical-align: top;\n",
       "    }\n",
       "\n",
       "    .dataframe thead th {\n",
       "        text-align: right;\n",
       "    }\n",
       "</style>\n",
       "<table border=\"1\" class=\"dataframe\">\n",
       "  <thead>\n",
       "    <tr style=\"text-align: right;\">\n",
       "      <th></th>\n",
       "      <th>key</th>\n",
       "      <th>Начало нагрева дугой</th>\n",
       "      <th>Конец нагрева дугой</th>\n",
       "      <th>Активная мощность</th>\n",
       "      <th>Реактивная мощность</th>\n",
       "      <th>Полная мощность</th>\n",
       "    </tr>\n",
       "  </thead>\n",
       "  <tbody>\n",
       "    <tr>\n",
       "      <th>0</th>\n",
       "      <td>1</td>\n",
       "      <td>2019-05-03 11:02:14</td>\n",
       "      <td>2019-05-03 11:06:02</td>\n",
       "      <td>0.976059</td>\n",
       "      <td>0.687084</td>\n",
       "      <td>1.193639</td>\n",
       "    </tr>\n",
       "    <tr>\n",
       "      <th>1</th>\n",
       "      <td>1</td>\n",
       "      <td>2019-05-03 11:07:28</td>\n",
       "      <td>2019-05-03 11:10:33</td>\n",
       "      <td>0.805607</td>\n",
       "      <td>0.520285</td>\n",
       "      <td>0.959010</td>\n",
       "    </tr>\n",
       "    <tr>\n",
       "      <th>2</th>\n",
       "      <td>1</td>\n",
       "      <td>2019-05-03 11:11:44</td>\n",
       "      <td>2019-05-03 11:14:36</td>\n",
       "      <td>0.744363</td>\n",
       "      <td>0.498805</td>\n",
       "      <td>0.896038</td>\n",
       "    </tr>\n",
       "    <tr>\n",
       "      <th>3</th>\n",
       "      <td>1</td>\n",
       "      <td>2019-05-03 11:18:14</td>\n",
       "      <td>2019-05-03 11:24:19</td>\n",
       "      <td>1.659363</td>\n",
       "      <td>1.062669</td>\n",
       "      <td>1.970470</td>\n",
       "    </tr>\n",
       "    <tr>\n",
       "      <th>4</th>\n",
       "      <td>1</td>\n",
       "      <td>2019-05-03 11:26:09</td>\n",
       "      <td>2019-05-03 11:28:37</td>\n",
       "      <td>0.692755</td>\n",
       "      <td>0.414397</td>\n",
       "      <td>0.807239</td>\n",
       "    </tr>\n",
       "    <tr>\n",
       "      <th>...</th>\n",
       "      <td>...</td>\n",
       "      <td>...</td>\n",
       "      <td>...</td>\n",
       "      <td>...</td>\n",
       "      <td>...</td>\n",
       "      <td>...</td>\n",
       "    </tr>\n",
       "    <tr>\n",
       "      <th>14871</th>\n",
       "      <td>3241</td>\n",
       "      <td>2019-09-01 03:58:58</td>\n",
       "      <td>2019-09-01 04:01:35</td>\n",
       "      <td>0.533670</td>\n",
       "      <td>0.354439</td>\n",
       "      <td>0.640648</td>\n",
       "    </tr>\n",
       "    <tr>\n",
       "      <th>14872</th>\n",
       "      <td>3241</td>\n",
       "      <td>2019-09-01 04:05:04</td>\n",
       "      <td>2019-09-01 04:08:04</td>\n",
       "      <td>0.676604</td>\n",
       "      <td>0.523631</td>\n",
       "      <td>0.855559</td>\n",
       "    </tr>\n",
       "    <tr>\n",
       "      <th>14873</th>\n",
       "      <td>3241</td>\n",
       "      <td>2019-09-01 04:16:41</td>\n",
       "      <td>2019-09-01 04:19:45</td>\n",
       "      <td>0.733899</td>\n",
       "      <td>0.475654</td>\n",
       "      <td>0.874560</td>\n",
       "    </tr>\n",
       "    <tr>\n",
       "      <th>14874</th>\n",
       "      <td>3241</td>\n",
       "      <td>2019-09-01 04:31:51</td>\n",
       "      <td>2019-09-01 04:32:48</td>\n",
       "      <td>0.220694</td>\n",
       "      <td>0.145768</td>\n",
       "      <td>0.264489</td>\n",
       "    </tr>\n",
       "    <tr>\n",
       "      <th>14875</th>\n",
       "      <td>3241</td>\n",
       "      <td>2019-09-01 04:34:47</td>\n",
       "      <td>2019-09-01 04:36:08</td>\n",
       "      <td>0.306580</td>\n",
       "      <td>0.196708</td>\n",
       "      <td>0.364260</td>\n",
       "    </tr>\n",
       "  </tbody>\n",
       "</table>\n",
       "<p>14875 rows × 6 columns</p>\n",
       "</div>"
      ],
      "text/plain": [
       "        key Начало нагрева дугой Конец нагрева дугой  Активная мощность  \\\n",
       "0         1  2019-05-03 11:02:14 2019-05-03 11:06:02           0.976059   \n",
       "1         1  2019-05-03 11:07:28 2019-05-03 11:10:33           0.805607   \n",
       "2         1  2019-05-03 11:11:44 2019-05-03 11:14:36           0.744363   \n",
       "3         1  2019-05-03 11:18:14 2019-05-03 11:24:19           1.659363   \n",
       "4         1  2019-05-03 11:26:09 2019-05-03 11:28:37           0.692755   \n",
       "...     ...                  ...                 ...                ...   \n",
       "14871  3241  2019-09-01 03:58:58 2019-09-01 04:01:35           0.533670   \n",
       "14872  3241  2019-09-01 04:05:04 2019-09-01 04:08:04           0.676604   \n",
       "14873  3241  2019-09-01 04:16:41 2019-09-01 04:19:45           0.733899   \n",
       "14874  3241  2019-09-01 04:31:51 2019-09-01 04:32:48           0.220694   \n",
       "14875  3241  2019-09-01 04:34:47 2019-09-01 04:36:08           0.306580   \n",
       "\n",
       "       Реактивная мощность  Полная мощность  \n",
       "0                 0.687084         1.193639  \n",
       "1                 0.520285         0.959010  \n",
       "2                 0.498805         0.896038  \n",
       "3                 1.062669         1.970470  \n",
       "4                 0.414397         0.807239  \n",
       "...                    ...              ...  \n",
       "14871             0.354439         0.640648  \n",
       "14872             0.523631         0.855559  \n",
       "14873             0.475654         0.874560  \n",
       "14874             0.145768         0.264489  \n",
       "14875             0.196708         0.364260  \n",
       "\n",
       "[14875 rows x 6 columns]"
      ]
     },
     "metadata": {},
     "output_type": "display_data"
    }
   ],
   "source": [
    "data_arc['Полная мощность'] = ((data_arc['Активная мощность'])**2 + (data_arc['Реактивная мощность'])**2)**0.5\n",
    "display(data_arc)"
   ]
  },
  {
   "cell_type": "markdown",
   "id": "20c30f38",
   "metadata": {},
   "source": [
    "Группируем `data_arc` по ключам, значения мощностей суммируем. В качестве дополнительного признака считаем этапы нагрева в каждой партии. "
   ]
  },
  {
   "cell_type": "code",
   "execution_count": 37,
   "id": "62de2bc5",
   "metadata": {},
   "outputs": [
    {
     "data": {
      "text/html": [
       "<div>\n",
       "<style scoped>\n",
       "    .dataframe tbody tr th:only-of-type {\n",
       "        vertical-align: middle;\n",
       "    }\n",
       "\n",
       "    .dataframe tbody tr th {\n",
       "        vertical-align: top;\n",
       "    }\n",
       "\n",
       "    .dataframe thead th {\n",
       "        text-align: right;\n",
       "    }\n",
       "</style>\n",
       "<table border=\"1\" class=\"dataframe\">\n",
       "  <thead>\n",
       "    <tr style=\"text-align: right;\">\n",
       "      <th></th>\n",
       "      <th>Активная мощность</th>\n",
       "      <th>Полная мощность</th>\n",
       "      <th>Реактивная мощность</th>\n",
       "      <th>Стадии нагрева</th>\n",
       "    </tr>\n",
       "    <tr>\n",
       "      <th>key</th>\n",
       "      <th></th>\n",
       "      <th></th>\n",
       "      <th></th>\n",
       "      <th></th>\n",
       "    </tr>\n",
       "  </thead>\n",
       "  <tbody>\n",
       "    <tr>\n",
       "      <th>1</th>\n",
       "      <td>4.878147</td>\n",
       "      <td>5.826395</td>\n",
       "      <td>3.183241</td>\n",
       "      <td>5</td>\n",
       "    </tr>\n",
       "    <tr>\n",
       "      <th>2</th>\n",
       "      <td>3.052598</td>\n",
       "      <td>3.649216</td>\n",
       "      <td>1.998112</td>\n",
       "      <td>4</td>\n",
       "    </tr>\n",
       "    <tr>\n",
       "      <th>3</th>\n",
       "      <td>2.525882</td>\n",
       "      <td>2.989534</td>\n",
       "      <td>1.599076</td>\n",
       "      <td>5</td>\n",
       "    </tr>\n",
       "    <tr>\n",
       "      <th>4</th>\n",
       "      <td>3.209250</td>\n",
       "      <td>3.814962</td>\n",
       "      <td>2.060298</td>\n",
       "      <td>4</td>\n",
       "    </tr>\n",
       "    <tr>\n",
       "      <th>5</th>\n",
       "      <td>3.347173</td>\n",
       "      <td>4.035758</td>\n",
       "      <td>2.252643</td>\n",
       "      <td>4</td>\n",
       "    </tr>\n",
       "    <tr>\n",
       "      <th>...</th>\n",
       "      <td>...</td>\n",
       "      <td>...</td>\n",
       "      <td>...</td>\n",
       "      <td>...</td>\n",
       "    </tr>\n",
       "    <tr>\n",
       "      <th>3237</th>\n",
       "      <td>3.932467</td>\n",
       "      <td>4.844982</td>\n",
       "      <td>2.828459</td>\n",
       "      <td>5</td>\n",
       "    </tr>\n",
       "    <tr>\n",
       "      <th>3238</th>\n",
       "      <td>2.106529</td>\n",
       "      <td>2.696542</td>\n",
       "      <td>1.681182</td>\n",
       "      <td>3</td>\n",
       "    </tr>\n",
       "    <tr>\n",
       "      <th>3239</th>\n",
       "      <td>4.666754</td>\n",
       "      <td>5.611883</td>\n",
       "      <td>3.111617</td>\n",
       "      <td>8</td>\n",
       "    </tr>\n",
       "    <tr>\n",
       "      <th>3240</th>\n",
       "      <td>2.984083</td>\n",
       "      <td>3.891856</td>\n",
       "      <td>2.483267</td>\n",
       "      <td>5</td>\n",
       "    </tr>\n",
       "    <tr>\n",
       "      <th>3241</th>\n",
       "      <td>2.471447</td>\n",
       "      <td>2.999516</td>\n",
       "      <td>1.696199</td>\n",
       "      <td>5</td>\n",
       "    </tr>\n",
       "  </tbody>\n",
       "</table>\n",
       "<p>3214 rows × 4 columns</p>\n",
       "</div>"
      ],
      "text/plain": [
       "      Активная мощность  Полная мощность  Реактивная мощность  Стадии нагрева\n",
       "key                                                                          \n",
       "1              4.878147         5.826395             3.183241               5\n",
       "2              3.052598         3.649216             1.998112               4\n",
       "3              2.525882         2.989534             1.599076               5\n",
       "4              3.209250         3.814962             2.060298               4\n",
       "5              3.347173         4.035758             2.252643               4\n",
       "...                 ...              ...                  ...             ...\n",
       "3237           3.932467         4.844982             2.828459               5\n",
       "3238           2.106529         2.696542             1.681182               3\n",
       "3239           4.666754         5.611883             3.111617               8\n",
       "3240           2.984083         3.891856             2.483267               5\n",
       "3241           2.471447         2.999516             1.696199               5\n",
       "\n",
       "[3214 rows x 4 columns]"
      ]
     },
     "metadata": {},
     "output_type": "display_data"
    }
   ],
   "source": [
    "data_arc = pd.pivot_table(data_arc, \n",
    "                          index='key', \n",
    "                          values=['Активная мощность', \n",
    "                                  'Реактивная мощность', \n",
    "                                  'Полная мощность'], \n",
    "                          aggfunc= ['sum', 'count'])\n",
    "data_arc.columns = ['Активная мощность', \n",
    "                    'Полная мощность',\n",
    "                    'Реактивная мощность', \n",
    "                    'Стадии нагрева',\n",
    "                    'a', 'b' ]\n",
    "data_arc = data_arc.drop(['a', 'b'], axis=1)\n",
    "\n",
    "display(data_arc)"
   ]
  },
  {
   "cell_type": "code",
   "execution_count": 38,
   "id": "f1169984",
   "metadata": {},
   "outputs": [
    {
     "data": {
      "text/html": [
       "<div>\n",
       "<style scoped>\n",
       "    .dataframe tbody tr th:only-of-type {\n",
       "        vertical-align: middle;\n",
       "    }\n",
       "\n",
       "    .dataframe tbody tr th {\n",
       "        vertical-align: top;\n",
       "    }\n",
       "\n",
       "    .dataframe thead th {\n",
       "        text-align: right;\n",
       "    }\n",
       "</style>\n",
       "<table border=\"1\" class=\"dataframe\">\n",
       "  <thead>\n",
       "    <tr style=\"text-align: right;\">\n",
       "      <th></th>\n",
       "      <th>key</th>\n",
       "      <th>Время замера</th>\n",
       "      <th>Температура</th>\n",
       "    </tr>\n",
       "  </thead>\n",
       "  <tbody>\n",
       "    <tr>\n",
       "      <th>0</th>\n",
       "      <td>1</td>\n",
       "      <td>2019-05-03 11:16:18</td>\n",
       "      <td>1571.0</td>\n",
       "    </tr>\n",
       "    <tr>\n",
       "      <th>1</th>\n",
       "      <td>1</td>\n",
       "      <td>2019-05-03 11:25:53</td>\n",
       "      <td>1604.0</td>\n",
       "    </tr>\n",
       "    <tr>\n",
       "      <th>2</th>\n",
       "      <td>1</td>\n",
       "      <td>2019-05-03 11:29:11</td>\n",
       "      <td>1618.0</td>\n",
       "    </tr>\n",
       "    <tr>\n",
       "      <th>3</th>\n",
       "      <td>1</td>\n",
       "      <td>2019-05-03 11:30:01</td>\n",
       "      <td>1601.0</td>\n",
       "    </tr>\n",
       "    <tr>\n",
       "      <th>4</th>\n",
       "      <td>1</td>\n",
       "      <td>2019-05-03 11:30:39</td>\n",
       "      <td>1613.0</td>\n",
       "    </tr>\n",
       "    <tr>\n",
       "      <th>...</th>\n",
       "      <td>...</td>\n",
       "      <td>...</td>\n",
       "      <td>...</td>\n",
       "    </tr>\n",
       "    <tr>\n",
       "      <th>15902</th>\n",
       "      <td>3241</td>\n",
       "      <td>2019-09-01 04:03:30</td>\n",
       "      <td>1586.0</td>\n",
       "    </tr>\n",
       "    <tr>\n",
       "      <th>15903</th>\n",
       "      <td>3241</td>\n",
       "      <td>2019-09-01 04:16:12</td>\n",
       "      <td>NaN</td>\n",
       "    </tr>\n",
       "    <tr>\n",
       "      <th>15904</th>\n",
       "      <td>3241</td>\n",
       "      <td>2019-09-01 04:22:39</td>\n",
       "      <td>NaN</td>\n",
       "    </tr>\n",
       "    <tr>\n",
       "      <th>15905</th>\n",
       "      <td>3241</td>\n",
       "      <td>2019-09-01 04:33:42</td>\n",
       "      <td>NaN</td>\n",
       "    </tr>\n",
       "    <tr>\n",
       "      <th>15906</th>\n",
       "      <td>3241</td>\n",
       "      <td>2019-09-01 04:38:08</td>\n",
       "      <td>NaN</td>\n",
       "    </tr>\n",
       "  </tbody>\n",
       "</table>\n",
       "<p>15907 rows × 3 columns</p>\n",
       "</div>"
      ],
      "text/plain": [
       "        key        Время замера  Температура\n",
       "0         1 2019-05-03 11:16:18       1571.0\n",
       "1         1 2019-05-03 11:25:53       1604.0\n",
       "2         1 2019-05-03 11:29:11       1618.0\n",
       "3         1 2019-05-03 11:30:01       1601.0\n",
       "4         1 2019-05-03 11:30:39       1613.0\n",
       "...     ...                 ...          ...\n",
       "15902  3241 2019-09-01 04:03:30       1586.0\n",
       "15903  3241 2019-09-01 04:16:12          NaN\n",
       "15904  3241 2019-09-01 04:22:39          NaN\n",
       "15905  3241 2019-09-01 04:33:42          NaN\n",
       "15906  3241 2019-09-01 04:38:08          NaN\n",
       "\n",
       "[15907 rows x 3 columns]"
      ]
     },
     "metadata": {},
     "output_type": "display_data"
    }
   ],
   "source": [
    "display(data_temp)"
   ]
  },
  {
   "cell_type": "markdown",
   "id": "0f1f31e5",
   "metadata": {},
   "source": [
    "Сортируем строки в `data_temp` по времени замера на случай немонотонности данных."
   ]
  },
  {
   "cell_type": "code",
   "execution_count": 39,
   "id": "bcee79b6",
   "metadata": {
    "scrolled": true
   },
   "outputs": [
    {
     "data": {
      "text/html": [
       "<div>\n",
       "<style scoped>\n",
       "    .dataframe tbody tr th:only-of-type {\n",
       "        vertical-align: middle;\n",
       "    }\n",
       "\n",
       "    .dataframe tbody tr th {\n",
       "        vertical-align: top;\n",
       "    }\n",
       "\n",
       "    .dataframe thead th {\n",
       "        text-align: right;\n",
       "    }\n",
       "</style>\n",
       "<table border=\"1\" class=\"dataframe\">\n",
       "  <thead>\n",
       "    <tr style=\"text-align: right;\">\n",
       "      <th></th>\n",
       "      <th>key</th>\n",
       "      <th>Время замера</th>\n",
       "      <th>Температура</th>\n",
       "    </tr>\n",
       "  </thead>\n",
       "  <tbody>\n",
       "    <tr>\n",
       "      <th>0</th>\n",
       "      <td>1</td>\n",
       "      <td>2019-05-03 11:16:18</td>\n",
       "      <td>1571.0</td>\n",
       "    </tr>\n",
       "    <tr>\n",
       "      <th>1</th>\n",
       "      <td>1</td>\n",
       "      <td>2019-05-03 11:25:53</td>\n",
       "      <td>1604.0</td>\n",
       "    </tr>\n",
       "    <tr>\n",
       "      <th>2</th>\n",
       "      <td>1</td>\n",
       "      <td>2019-05-03 11:29:11</td>\n",
       "      <td>1618.0</td>\n",
       "    </tr>\n",
       "    <tr>\n",
       "      <th>3</th>\n",
       "      <td>1</td>\n",
       "      <td>2019-05-03 11:30:01</td>\n",
       "      <td>1601.0</td>\n",
       "    </tr>\n",
       "    <tr>\n",
       "      <th>4</th>\n",
       "      <td>1</td>\n",
       "      <td>2019-05-03 11:30:39</td>\n",
       "      <td>1613.0</td>\n",
       "    </tr>\n",
       "    <tr>\n",
       "      <th>5</th>\n",
       "      <td>2</td>\n",
       "      <td>2019-05-03 11:37:27</td>\n",
       "      <td>1581.0</td>\n",
       "    </tr>\n",
       "    <tr>\n",
       "      <th>6</th>\n",
       "      <td>2</td>\n",
       "      <td>2019-05-03 11:38:00</td>\n",
       "      <td>1577.0</td>\n",
       "    </tr>\n",
       "    <tr>\n",
       "      <th>7</th>\n",
       "      <td>2</td>\n",
       "      <td>2019-05-03 11:49:38</td>\n",
       "      <td>1589.0</td>\n",
       "    </tr>\n",
       "    <tr>\n",
       "      <th>8</th>\n",
       "      <td>2</td>\n",
       "      <td>2019-05-03 11:55:50</td>\n",
       "      <td>1604.0</td>\n",
       "    </tr>\n",
       "    <tr>\n",
       "      <th>9</th>\n",
       "      <td>2</td>\n",
       "      <td>2019-05-03 11:58:24</td>\n",
       "      <td>1608.0</td>\n",
       "    </tr>\n",
       "  </tbody>\n",
       "</table>\n",
       "</div>"
      ],
      "text/plain": [
       "   key        Время замера  Температура\n",
       "0    1 2019-05-03 11:16:18       1571.0\n",
       "1    1 2019-05-03 11:25:53       1604.0\n",
       "2    1 2019-05-03 11:29:11       1618.0\n",
       "3    1 2019-05-03 11:30:01       1601.0\n",
       "4    1 2019-05-03 11:30:39       1613.0\n",
       "5    2 2019-05-03 11:37:27       1581.0\n",
       "6    2 2019-05-03 11:38:00       1577.0\n",
       "7    2 2019-05-03 11:49:38       1589.0\n",
       "8    2 2019-05-03 11:55:50       1604.0\n",
       "9    2 2019-05-03 11:58:24       1608.0"
      ]
     },
     "metadata": {},
     "output_type": "display_data"
    }
   ],
   "source": [
    "data_temp = data_temp.sort_values(by='Время замера')\n",
    "display(data_temp.head(10))"
   ]
  },
  {
   "cell_type": "code",
   "execution_count": 40,
   "id": "df8d1c60",
   "metadata": {
    "scrolled": true
   },
   "outputs": [
    {
     "data": {
      "text/plain": [
       "key                0\n",
       "Время замера       0\n",
       "Температура     2901\n",
       "dtype: int64"
      ]
     },
     "execution_count": 40,
     "metadata": {},
     "output_type": "execute_result"
    }
   ],
   "source": [
    "data_temp.isna().sum()"
   ]
  },
  {
   "cell_type": "markdown",
   "id": "a53f2dc1",
   "metadata": {},
   "source": [
    "При группировке таблицы по ключам нам нужно вынести в отдельные столбцы первое и последнее измерение температуры. Но функции `first` и `last` не работают со значениями `NaN`, вместо пустого значения они будут выводить следующее(`first`) и предыдущее(`last`). Это исказит данные. Поэтому заполним пропуски нулем, сгруппируем таблицу `data_temp` по ключам, выведем в отдельные столбцы первое и последнее измерение, а также общее количество измерений. Если проводили всего 1 измерение, удалим соответствующий ключ. Также удалим ключи, где первое значение меньше 1500 (очищаем от выбросов по желанию заказчика), и последнее равно 0 (где раньше был пропуск)."
   ]
  },
  {
   "cell_type": "code",
   "execution_count": 41,
   "id": "04a379dc",
   "metadata": {},
   "outputs": [],
   "source": [
    "data_temp = data_temp.fillna(0)"
   ]
  },
  {
   "cell_type": "code",
   "execution_count": 42,
   "id": "5cbccb48",
   "metadata": {},
   "outputs": [
    {
     "data": {
      "text/plain": [
       "key             0\n",
       "Время замера    0\n",
       "Температура     0\n",
       "dtype: int64"
      ]
     },
     "execution_count": 42,
     "metadata": {},
     "output_type": "execute_result"
    }
   ],
   "source": [
    "data_temp.isna().sum()"
   ]
  },
  {
   "cell_type": "code",
   "execution_count": 43,
   "id": "28b17054",
   "metadata": {},
   "outputs": [
    {
     "data": {
      "text/html": [
       "<div>\n",
       "<style scoped>\n",
       "    .dataframe tbody tr th:only-of-type {\n",
       "        vertical-align: middle;\n",
       "    }\n",
       "\n",
       "    .dataframe tbody tr th {\n",
       "        vertical-align: top;\n",
       "    }\n",
       "\n",
       "    .dataframe thead th {\n",
       "        text-align: right;\n",
       "    }\n",
       "</style>\n",
       "<table border=\"1\" class=\"dataframe\">\n",
       "  <thead>\n",
       "    <tr style=\"text-align: right;\">\n",
       "      <th></th>\n",
       "      <th>Первое измерение</th>\n",
       "      <th>Последнее измерение</th>\n",
       "      <th>Количество измерений</th>\n",
       "    </tr>\n",
       "    <tr>\n",
       "      <th>key</th>\n",
       "      <th></th>\n",
       "      <th></th>\n",
       "      <th></th>\n",
       "    </tr>\n",
       "  </thead>\n",
       "  <tbody>\n",
       "    <tr>\n",
       "      <th>1</th>\n",
       "      <td>1571.0</td>\n",
       "      <td>1613.0</td>\n",
       "      <td>5</td>\n",
       "    </tr>\n",
       "    <tr>\n",
       "      <th>2</th>\n",
       "      <td>1581.0</td>\n",
       "      <td>1602.0</td>\n",
       "      <td>6</td>\n",
       "    </tr>\n",
       "    <tr>\n",
       "      <th>3</th>\n",
       "      <td>1596.0</td>\n",
       "      <td>1599.0</td>\n",
       "      <td>5</td>\n",
       "    </tr>\n",
       "    <tr>\n",
       "      <th>4</th>\n",
       "      <td>1601.0</td>\n",
       "      <td>1625.0</td>\n",
       "      <td>3</td>\n",
       "    </tr>\n",
       "    <tr>\n",
       "      <th>5</th>\n",
       "      <td>1576.0</td>\n",
       "      <td>1602.0</td>\n",
       "      <td>2</td>\n",
       "    </tr>\n",
       "    <tr>\n",
       "      <th>...</th>\n",
       "      <td>...</td>\n",
       "      <td>...</td>\n",
       "      <td>...</td>\n",
       "    </tr>\n",
       "    <tr>\n",
       "      <th>3237</th>\n",
       "      <td>1569.0</td>\n",
       "      <td>0.0</td>\n",
       "      <td>5</td>\n",
       "    </tr>\n",
       "    <tr>\n",
       "      <th>3238</th>\n",
       "      <td>1584.0</td>\n",
       "      <td>0.0</td>\n",
       "      <td>3</td>\n",
       "    </tr>\n",
       "    <tr>\n",
       "      <th>3239</th>\n",
       "      <td>1598.0</td>\n",
       "      <td>0.0</td>\n",
       "      <td>8</td>\n",
       "    </tr>\n",
       "    <tr>\n",
       "      <th>3240</th>\n",
       "      <td>1617.0</td>\n",
       "      <td>0.0</td>\n",
       "      <td>8</td>\n",
       "    </tr>\n",
       "    <tr>\n",
       "      <th>3241</th>\n",
       "      <td>1586.0</td>\n",
       "      <td>0.0</td>\n",
       "      <td>5</td>\n",
       "    </tr>\n",
       "  </tbody>\n",
       "</table>\n",
       "<p>3216 rows × 3 columns</p>\n",
       "</div>"
      ],
      "text/plain": [
       "      Первое измерение  Последнее измерение  Количество измерений\n",
       "key                                                              \n",
       "1               1571.0               1613.0                     5\n",
       "2               1581.0               1602.0                     6\n",
       "3               1596.0               1599.0                     5\n",
       "4               1601.0               1625.0                     3\n",
       "5               1576.0               1602.0                     2\n",
       "...                ...                  ...                   ...\n",
       "3237            1569.0                  0.0                     5\n",
       "3238            1584.0                  0.0                     3\n",
       "3239            1598.0                  0.0                     8\n",
       "3240            1617.0                  0.0                     8\n",
       "3241            1586.0                  0.0                     5\n",
       "\n",
       "[3216 rows x 3 columns]"
      ]
     },
     "metadata": {},
     "output_type": "display_data"
    }
   ],
   "source": [
    "data_temp_pivot = data_temp.pivot_table(index='key', values='Температура', aggfunc=['first', 'last', 'count'])\n",
    "data_temp_pivot.columns = ['Первое измерение', 'Последнее измерение', 'Количество измерений']\n",
    "display(data_temp_pivot)"
   ]
  },
  {
   "cell_type": "code",
   "execution_count": 44,
   "id": "7a72a642",
   "metadata": {},
   "outputs": [
    {
     "data": {
      "text/plain": [
       "(3216, 3)"
      ]
     },
     "execution_count": 44,
     "metadata": {},
     "output_type": "execute_result"
    }
   ],
   "source": [
    "data_temp_pivot.shape"
   ]
  },
  {
   "cell_type": "code",
   "execution_count": 45,
   "id": "98b4d8ba",
   "metadata": {},
   "outputs": [
    {
     "data": {
      "text/plain": [
       "(2471, 3)"
      ]
     },
     "execution_count": 45,
     "metadata": {},
     "output_type": "execute_result"
    }
   ],
   "source": [
    "data_temp_pivot = data_temp_pivot.loc[(data_temp_pivot['Первое измерение'] >= 1500) & \n",
    "                                      (data_temp_pivot['Последнее измерение'] > 0)&\n",
    "                                      (data_temp_pivot['Количество измерений'] > 1)]\n",
    "data_temp_pivot.shape"
   ]
  },
  {
   "cell_type": "markdown",
   "id": "ab2eda07",
   "metadata": {},
   "source": [
    "Столбец `'Количество измерений'` выполнил свою функцию и больше не нужен, удаляем его."
   ]
  },
  {
   "cell_type": "code",
   "execution_count": 46,
   "id": "956a370e",
   "metadata": {},
   "outputs": [],
   "source": [
    "data_temp_pivot = data_temp_pivot.drop('Количество измерений', axis=1)"
   ]
  },
  {
   "cell_type": "markdown",
   "id": "18aa81a8",
   "metadata": {},
   "source": [
    "Объединяем таблицы по ключу"
   ]
  },
  {
   "cell_type": "code",
   "execution_count": 47,
   "id": "b1285b3f",
   "metadata": {},
   "outputs": [],
   "source": [
    "data_bulk = data_bulk.set_index('key')\n",
    "data_wire = data_wire.set_index('key')\n",
    "data_gas = data_gas.set_index('key')"
   ]
  },
  {
   "cell_type": "code",
   "execution_count": 48,
   "id": "7ec206d2",
   "metadata": {},
   "outputs": [],
   "source": [
    "data = data_temp_pivot.join(data_arc, on='key', how='inner')\n",
    "data = data.join(data_bulk, on='key', how='inner')\n",
    "data = data.join(data_wire, on='key', how='inner')\n",
    "data = data.join(data_gas, on='key', how='inner')"
   ]
  },
  {
   "cell_type": "markdown",
   "id": "2674cdf5",
   "metadata": {},
   "source": [
    "Создаем дополнительные признаки: общий объем сыпучих материалов и общий объем проволочных материалов для каждой партии."
   ]
  },
  {
   "cell_type": "code",
   "execution_count": 49,
   "id": "ba3fb621",
   "metadata": {
    "scrolled": true
   },
   "outputs": [],
   "source": [
    "data['bulk_sum'] = data.loc[:, 'Bulk 1':'Bulk 15'].sum(axis=1)\n",
    "data['wire_sum'] = data.loc[:, 'Wire 1':'Wire 9'].sum(axis=1)"
   ]
  },
  {
   "cell_type": "code",
   "execution_count": 50,
   "id": "74efb360",
   "metadata": {
    "scrolled": true
   },
   "outputs": [
    {
     "data": {
      "text/html": [
       "<div>\n",
       "<style scoped>\n",
       "    .dataframe tbody tr th:only-of-type {\n",
       "        vertical-align: middle;\n",
       "    }\n",
       "\n",
       "    .dataframe tbody tr th {\n",
       "        vertical-align: top;\n",
       "    }\n",
       "\n",
       "    .dataframe thead th {\n",
       "        text-align: right;\n",
       "    }\n",
       "</style>\n",
       "<table border=\"1\" class=\"dataframe\">\n",
       "  <thead>\n",
       "    <tr style=\"text-align: right;\">\n",
       "      <th></th>\n",
       "      <th>Первое измерение</th>\n",
       "      <th>Последнее измерение</th>\n",
       "      <th>Активная мощность</th>\n",
       "      <th>Полная мощность</th>\n",
       "      <th>Реактивная мощность</th>\n",
       "      <th>Стадии нагрева</th>\n",
       "      <th>Bulk 1</th>\n",
       "      <th>Bulk 2</th>\n",
       "      <th>Bulk 3</th>\n",
       "      <th>Bulk 4</th>\n",
       "      <th>...</th>\n",
       "      <th>Wire 2</th>\n",
       "      <th>Wire 3</th>\n",
       "      <th>Wire 4</th>\n",
       "      <th>Wire 6</th>\n",
       "      <th>Wire 7</th>\n",
       "      <th>Wire 8</th>\n",
       "      <th>Wire 9</th>\n",
       "      <th>Газ 1</th>\n",
       "      <th>bulk_sum</th>\n",
       "      <th>wire_sum</th>\n",
       "    </tr>\n",
       "    <tr>\n",
       "      <th>key</th>\n",
       "      <th></th>\n",
       "      <th></th>\n",
       "      <th></th>\n",
       "      <th></th>\n",
       "      <th></th>\n",
       "      <th></th>\n",
       "      <th></th>\n",
       "      <th></th>\n",
       "      <th></th>\n",
       "      <th></th>\n",
       "      <th></th>\n",
       "      <th></th>\n",
       "      <th></th>\n",
       "      <th></th>\n",
       "      <th></th>\n",
       "      <th></th>\n",
       "      <th></th>\n",
       "      <th></th>\n",
       "      <th></th>\n",
       "      <th></th>\n",
       "      <th></th>\n",
       "    </tr>\n",
       "  </thead>\n",
       "  <tbody>\n",
       "    <tr>\n",
       "      <th>1</th>\n",
       "      <td>1571.0</td>\n",
       "      <td>1613.0</td>\n",
       "      <td>4.878147</td>\n",
       "      <td>5.826395</td>\n",
       "      <td>3.183241</td>\n",
       "      <td>5</td>\n",
       "      <td>0.0</td>\n",
       "      <td>0.0</td>\n",
       "      <td>0.0</td>\n",
       "      <td>43.0</td>\n",
       "      <td>...</td>\n",
       "      <td>0.00000</td>\n",
       "      <td>0.0</td>\n",
       "      <td>0.0</td>\n",
       "      <td>0.0</td>\n",
       "      <td>0.0</td>\n",
       "      <td>0.0</td>\n",
       "      <td>0.0</td>\n",
       "      <td>29.749986</td>\n",
       "      <td>553.0</td>\n",
       "      <td>60.059998</td>\n",
       "    </tr>\n",
       "    <tr>\n",
       "      <th>2</th>\n",
       "      <td>1581.0</td>\n",
       "      <td>1602.0</td>\n",
       "      <td>3.052598</td>\n",
       "      <td>3.649216</td>\n",
       "      <td>1.998112</td>\n",
       "      <td>4</td>\n",
       "      <td>0.0</td>\n",
       "      <td>0.0</td>\n",
       "      <td>0.0</td>\n",
       "      <td>73.0</td>\n",
       "      <td>...</td>\n",
       "      <td>0.00000</td>\n",
       "      <td>0.0</td>\n",
       "      <td>0.0</td>\n",
       "      <td>0.0</td>\n",
       "      <td>0.0</td>\n",
       "      <td>0.0</td>\n",
       "      <td>0.0</td>\n",
       "      <td>12.555561</td>\n",
       "      <td>582.0</td>\n",
       "      <td>96.052315</td>\n",
       "    </tr>\n",
       "    <tr>\n",
       "      <th>3</th>\n",
       "      <td>1596.0</td>\n",
       "      <td>1599.0</td>\n",
       "      <td>2.525882</td>\n",
       "      <td>2.989534</td>\n",
       "      <td>1.599076</td>\n",
       "      <td>5</td>\n",
       "      <td>0.0</td>\n",
       "      <td>0.0</td>\n",
       "      <td>0.0</td>\n",
       "      <td>34.0</td>\n",
       "      <td>...</td>\n",
       "      <td>0.00000</td>\n",
       "      <td>0.0</td>\n",
       "      <td>0.0</td>\n",
       "      <td>0.0</td>\n",
       "      <td>0.0</td>\n",
       "      <td>0.0</td>\n",
       "      <td>0.0</td>\n",
       "      <td>28.554793</td>\n",
       "      <td>544.0</td>\n",
       "      <td>91.160157</td>\n",
       "    </tr>\n",
       "    <tr>\n",
       "      <th>4</th>\n",
       "      <td>1601.0</td>\n",
       "      <td>1625.0</td>\n",
       "      <td>3.209250</td>\n",
       "      <td>3.814962</td>\n",
       "      <td>2.060298</td>\n",
       "      <td>4</td>\n",
       "      <td>0.0</td>\n",
       "      <td>0.0</td>\n",
       "      <td>0.0</td>\n",
       "      <td>81.0</td>\n",
       "      <td>...</td>\n",
       "      <td>0.00000</td>\n",
       "      <td>0.0</td>\n",
       "      <td>0.0</td>\n",
       "      <td>0.0</td>\n",
       "      <td>0.0</td>\n",
       "      <td>0.0</td>\n",
       "      <td>0.0</td>\n",
       "      <td>18.841219</td>\n",
       "      <td>595.0</td>\n",
       "      <td>89.063515</td>\n",
       "    </tr>\n",
       "    <tr>\n",
       "      <th>5</th>\n",
       "      <td>1576.0</td>\n",
       "      <td>1602.0</td>\n",
       "      <td>3.347173</td>\n",
       "      <td>4.035758</td>\n",
       "      <td>2.252643</td>\n",
       "      <td>4</td>\n",
       "      <td>0.0</td>\n",
       "      <td>0.0</td>\n",
       "      <td>0.0</td>\n",
       "      <td>78.0</td>\n",
       "      <td>...</td>\n",
       "      <td>9.11456</td>\n",
       "      <td>0.0</td>\n",
       "      <td>0.0</td>\n",
       "      <td>0.0</td>\n",
       "      <td>0.0</td>\n",
       "      <td>0.0</td>\n",
       "      <td>0.0</td>\n",
       "      <td>5.413692</td>\n",
       "      <td>584.0</td>\n",
       "      <td>98.352796</td>\n",
       "    </tr>\n",
       "    <tr>\n",
       "      <th>...</th>\n",
       "      <td>...</td>\n",
       "      <td>...</td>\n",
       "      <td>...</td>\n",
       "      <td>...</td>\n",
       "      <td>...</td>\n",
       "      <td>...</td>\n",
       "      <td>...</td>\n",
       "      <td>...</td>\n",
       "      <td>...</td>\n",
       "      <td>...</td>\n",
       "      <td>...</td>\n",
       "      <td>...</td>\n",
       "      <td>...</td>\n",
       "      <td>...</td>\n",
       "      <td>...</td>\n",
       "      <td>...</td>\n",
       "      <td>...</td>\n",
       "      <td>...</td>\n",
       "      <td>...</td>\n",
       "      <td>...</td>\n",
       "      <td>...</td>\n",
       "    </tr>\n",
       "    <tr>\n",
       "      <th>2495</th>\n",
       "      <td>1570.0</td>\n",
       "      <td>1591.0</td>\n",
       "      <td>3.210690</td>\n",
       "      <td>3.986869</td>\n",
       "      <td>2.360777</td>\n",
       "      <td>4</td>\n",
       "      <td>0.0</td>\n",
       "      <td>0.0</td>\n",
       "      <td>21.0</td>\n",
       "      <td>0.0</td>\n",
       "      <td>...</td>\n",
       "      <td>0.00000</td>\n",
       "      <td>0.0</td>\n",
       "      <td>0.0</td>\n",
       "      <td>0.0</td>\n",
       "      <td>0.0</td>\n",
       "      <td>0.0</td>\n",
       "      <td>0.0</td>\n",
       "      <td>7.125735</td>\n",
       "      <td>719.0</td>\n",
       "      <td>89.150879</td>\n",
       "    </tr>\n",
       "    <tr>\n",
       "      <th>2496</th>\n",
       "      <td>1554.0</td>\n",
       "      <td>1591.0</td>\n",
       "      <td>4.203064</td>\n",
       "      <td>5.057033</td>\n",
       "      <td>2.810185</td>\n",
       "      <td>6</td>\n",
       "      <td>0.0</td>\n",
       "      <td>0.0</td>\n",
       "      <td>0.0</td>\n",
       "      <td>63.0</td>\n",
       "      <td>...</td>\n",
       "      <td>0.00000</td>\n",
       "      <td>0.0</td>\n",
       "      <td>0.0</td>\n",
       "      <td>0.0</td>\n",
       "      <td>0.0</td>\n",
       "      <td>0.0</td>\n",
       "      <td>0.0</td>\n",
       "      <td>9.412616</td>\n",
       "      <td>796.0</td>\n",
       "      <td>114.179527</td>\n",
       "    </tr>\n",
       "    <tr>\n",
       "      <th>2497</th>\n",
       "      <td>1571.0</td>\n",
       "      <td>1589.0</td>\n",
       "      <td>2.212379</td>\n",
       "      <td>2.885017</td>\n",
       "      <td>1.851269</td>\n",
       "      <td>3</td>\n",
       "      <td>0.0</td>\n",
       "      <td>0.0</td>\n",
       "      <td>0.0</td>\n",
       "      <td>85.0</td>\n",
       "      <td>...</td>\n",
       "      <td>9.04800</td>\n",
       "      <td>0.0</td>\n",
       "      <td>0.0</td>\n",
       "      <td>0.0</td>\n",
       "      <td>0.0</td>\n",
       "      <td>0.0</td>\n",
       "      <td>0.0</td>\n",
       "      <td>6.271699</td>\n",
       "      <td>665.0</td>\n",
       "      <td>103.134723</td>\n",
       "    </tr>\n",
       "    <tr>\n",
       "      <th>2498</th>\n",
       "      <td>1591.0</td>\n",
       "      <td>1594.0</td>\n",
       "      <td>3.408725</td>\n",
       "      <td>4.143749</td>\n",
       "      <td>2.355428</td>\n",
       "      <td>5</td>\n",
       "      <td>0.0</td>\n",
       "      <td>0.0</td>\n",
       "      <td>90.0</td>\n",
       "      <td>0.0</td>\n",
       "      <td>...</td>\n",
       "      <td>0.00000</td>\n",
       "      <td>0.0</td>\n",
       "      <td>0.0</td>\n",
       "      <td>0.0</td>\n",
       "      <td>0.0</td>\n",
       "      <td>0.0</td>\n",
       "      <td>0.0</td>\n",
       "      <td>14.953657</td>\n",
       "      <td>733.0</td>\n",
       "      <td>118.110717</td>\n",
       "    </tr>\n",
       "    <tr>\n",
       "      <th>2499</th>\n",
       "      <td>1569.0</td>\n",
       "      <td>1603.0</td>\n",
       "      <td>4.098431</td>\n",
       "      <td>4.953010</td>\n",
       "      <td>2.777865</td>\n",
       "      <td>4</td>\n",
       "      <td>0.0</td>\n",
       "      <td>0.0</td>\n",
       "      <td>47.0</td>\n",
       "      <td>0.0</td>\n",
       "      <td>...</td>\n",
       "      <td>50.00528</td>\n",
       "      <td>0.0</td>\n",
       "      <td>0.0</td>\n",
       "      <td>0.0</td>\n",
       "      <td>0.0</td>\n",
       "      <td>0.0</td>\n",
       "      <td>0.0</td>\n",
       "      <td>11.336151</td>\n",
       "      <td>633.0</td>\n",
       "      <td>160.166238</td>\n",
       "    </tr>\n",
       "  </tbody>\n",
       "</table>\n",
       "<p>2325 rows × 31 columns</p>\n",
       "</div>"
      ],
      "text/plain": [
       "      Первое измерение  Последнее измерение  Активная мощность  \\\n",
       "key                                                              \n",
       "1               1571.0               1613.0           4.878147   \n",
       "2               1581.0               1602.0           3.052598   \n",
       "3               1596.0               1599.0           2.525882   \n",
       "4               1601.0               1625.0           3.209250   \n",
       "5               1576.0               1602.0           3.347173   \n",
       "...                ...                  ...                ...   \n",
       "2495            1570.0               1591.0           3.210690   \n",
       "2496            1554.0               1591.0           4.203064   \n",
       "2497            1571.0               1589.0           2.212379   \n",
       "2498            1591.0               1594.0           3.408725   \n",
       "2499            1569.0               1603.0           4.098431   \n",
       "\n",
       "      Полная мощность  Реактивная мощность  Стадии нагрева  Bulk 1  Bulk 2  \\\n",
       "key                                                                          \n",
       "1            5.826395             3.183241               5     0.0     0.0   \n",
       "2            3.649216             1.998112               4     0.0     0.0   \n",
       "3            2.989534             1.599076               5     0.0     0.0   \n",
       "4            3.814962             2.060298               4     0.0     0.0   \n",
       "5            4.035758             2.252643               4     0.0     0.0   \n",
       "...               ...                  ...             ...     ...     ...   \n",
       "2495         3.986869             2.360777               4     0.0     0.0   \n",
       "2496         5.057033             2.810185               6     0.0     0.0   \n",
       "2497         2.885017             1.851269               3     0.0     0.0   \n",
       "2498         4.143749             2.355428               5     0.0     0.0   \n",
       "2499         4.953010             2.777865               4     0.0     0.0   \n",
       "\n",
       "      Bulk 3  Bulk 4  ...    Wire 2  Wire 3  Wire 4  Wire 6  Wire 7  Wire 8  \\\n",
       "key                   ...                                                     \n",
       "1        0.0    43.0  ...   0.00000     0.0     0.0     0.0     0.0     0.0   \n",
       "2        0.0    73.0  ...   0.00000     0.0     0.0     0.0     0.0     0.0   \n",
       "3        0.0    34.0  ...   0.00000     0.0     0.0     0.0     0.0     0.0   \n",
       "4        0.0    81.0  ...   0.00000     0.0     0.0     0.0     0.0     0.0   \n",
       "5        0.0    78.0  ...   9.11456     0.0     0.0     0.0     0.0     0.0   \n",
       "...      ...     ...  ...       ...     ...     ...     ...     ...     ...   \n",
       "2495    21.0     0.0  ...   0.00000     0.0     0.0     0.0     0.0     0.0   \n",
       "2496     0.0    63.0  ...   0.00000     0.0     0.0     0.0     0.0     0.0   \n",
       "2497     0.0    85.0  ...   9.04800     0.0     0.0     0.0     0.0     0.0   \n",
       "2498    90.0     0.0  ...   0.00000     0.0     0.0     0.0     0.0     0.0   \n",
       "2499    47.0     0.0  ...  50.00528     0.0     0.0     0.0     0.0     0.0   \n",
       "\n",
       "      Wire 9      Газ 1  bulk_sum    wire_sum  \n",
       "key                                            \n",
       "1        0.0  29.749986     553.0   60.059998  \n",
       "2        0.0  12.555561     582.0   96.052315  \n",
       "3        0.0  28.554793     544.0   91.160157  \n",
       "4        0.0  18.841219     595.0   89.063515  \n",
       "5        0.0   5.413692     584.0   98.352796  \n",
       "...      ...        ...       ...         ...  \n",
       "2495     0.0   7.125735     719.0   89.150879  \n",
       "2496     0.0   9.412616     796.0  114.179527  \n",
       "2497     0.0   6.271699     665.0  103.134723  \n",
       "2498     0.0  14.953657     733.0  118.110717  \n",
       "2499     0.0  11.336151     633.0  160.166238  \n",
       "\n",
       "[2325 rows x 31 columns]"
      ]
     },
     "metadata": {},
     "output_type": "display_data"
    }
   ],
   "source": [
    "display(data)"
   ]
  },
  {
   "cell_type": "code",
   "execution_count": 51,
   "id": "33f7c5c5",
   "metadata": {},
   "outputs": [
    {
     "name": "stdout",
     "output_type": "stream",
     "text": [
      "<class 'pandas.core.frame.DataFrame'>\n",
      "Int64Index: 2325 entries, 1 to 2499\n",
      "Data columns (total 31 columns):\n",
      " #   Column               Non-Null Count  Dtype  \n",
      "---  ------               --------------  -----  \n",
      " 0   Первое измерение     2325 non-null   float64\n",
      " 1   Последнее измерение  2325 non-null   float64\n",
      " 2   Активная мощность    2325 non-null   float64\n",
      " 3   Полная мощность      2325 non-null   float64\n",
      " 4   Реактивная мощность  2325 non-null   float64\n",
      " 5   Стадии нагрева       2325 non-null   int64  \n",
      " 6   Bulk 1               2325 non-null   float64\n",
      " 7   Bulk 2               2325 non-null   float64\n",
      " 8   Bulk 3               2325 non-null   float64\n",
      " 9   Bulk 4               2325 non-null   float64\n",
      " 10  Bulk 5               2325 non-null   float64\n",
      " 11  Bulk 6               2325 non-null   float64\n",
      " 12  Bulk 7               2325 non-null   float64\n",
      " 13  Bulk 9               2325 non-null   float64\n",
      " 14  Bulk 10              2325 non-null   float64\n",
      " 15  Bulk 11              2325 non-null   float64\n",
      " 16  Bulk 12              2325 non-null   float64\n",
      " 17  Bulk 13              2325 non-null   float64\n",
      " 18  Bulk 14              2325 non-null   float64\n",
      " 19  Bulk 15              2325 non-null   float64\n",
      " 20  Wire 1               2325 non-null   float64\n",
      " 21  Wire 2               2325 non-null   float64\n",
      " 22  Wire 3               2325 non-null   float64\n",
      " 23  Wire 4               2325 non-null   float64\n",
      " 24  Wire 6               2325 non-null   float64\n",
      " 25  Wire 7               2325 non-null   float64\n",
      " 26  Wire 8               2325 non-null   float64\n",
      " 27  Wire 9               2325 non-null   float64\n",
      " 28  Газ 1                2325 non-null   float64\n",
      " 29  bulk_sum             2325 non-null   float64\n",
      " 30  wire_sum             2325 non-null   float64\n",
      "dtypes: float64(30), int64(1)\n",
      "memory usage: 581.2 KB\n"
     ]
    }
   ],
   "source": [
    "data.info()"
   ]
  },
  {
   "cell_type": "markdown",
   "id": "2136a127",
   "metadata": {},
   "source": [
    "## Подготовка к машинному обучению"
   ]
  },
  {
   "cell_type": "markdown",
   "id": "97a63c33",
   "metadata": {},
   "source": [
    "Выделяем целевой признак и остальные признаки"
   ]
  },
  {
   "cell_type": "code",
   "execution_count": 52,
   "id": "8fbcc7da",
   "metadata": {},
   "outputs": [
    {
     "data": {
      "text/html": [
       "<div>\n",
       "<style scoped>\n",
       "    .dataframe tbody tr th:only-of-type {\n",
       "        vertical-align: middle;\n",
       "    }\n",
       "\n",
       "    .dataframe tbody tr th {\n",
       "        vertical-align: top;\n",
       "    }\n",
       "\n",
       "    .dataframe thead th {\n",
       "        text-align: right;\n",
       "    }\n",
       "</style>\n",
       "<table border=\"1\" class=\"dataframe\">\n",
       "  <thead>\n",
       "    <tr style=\"text-align: right;\">\n",
       "      <th></th>\n",
       "      <th>Первое измерение</th>\n",
       "      <th>Активная мощность</th>\n",
       "      <th>Полная мощность</th>\n",
       "      <th>Реактивная мощность</th>\n",
       "      <th>Стадии нагрева</th>\n",
       "      <th>Bulk 1</th>\n",
       "      <th>Bulk 2</th>\n",
       "      <th>Bulk 3</th>\n",
       "      <th>Bulk 4</th>\n",
       "      <th>Bulk 5</th>\n",
       "      <th>...</th>\n",
       "      <th>Wire 2</th>\n",
       "      <th>Wire 3</th>\n",
       "      <th>Wire 4</th>\n",
       "      <th>Wire 6</th>\n",
       "      <th>Wire 7</th>\n",
       "      <th>Wire 8</th>\n",
       "      <th>Wire 9</th>\n",
       "      <th>Газ 1</th>\n",
       "      <th>bulk_sum</th>\n",
       "      <th>wire_sum</th>\n",
       "    </tr>\n",
       "    <tr>\n",
       "      <th>key</th>\n",
       "      <th></th>\n",
       "      <th></th>\n",
       "      <th></th>\n",
       "      <th></th>\n",
       "      <th></th>\n",
       "      <th></th>\n",
       "      <th></th>\n",
       "      <th></th>\n",
       "      <th></th>\n",
       "      <th></th>\n",
       "      <th></th>\n",
       "      <th></th>\n",
       "      <th></th>\n",
       "      <th></th>\n",
       "      <th></th>\n",
       "      <th></th>\n",
       "      <th></th>\n",
       "      <th></th>\n",
       "      <th></th>\n",
       "      <th></th>\n",
       "      <th></th>\n",
       "    </tr>\n",
       "  </thead>\n",
       "  <tbody>\n",
       "    <tr>\n",
       "      <th>1</th>\n",
       "      <td>1571.0</td>\n",
       "      <td>4.878147</td>\n",
       "      <td>5.826395</td>\n",
       "      <td>3.183241</td>\n",
       "      <td>5</td>\n",
       "      <td>0.0</td>\n",
       "      <td>0.0</td>\n",
       "      <td>0.0</td>\n",
       "      <td>43.0</td>\n",
       "      <td>0.0</td>\n",
       "      <td>...</td>\n",
       "      <td>0.00000</td>\n",
       "      <td>0.0</td>\n",
       "      <td>0.0</td>\n",
       "      <td>0.0</td>\n",
       "      <td>0.0</td>\n",
       "      <td>0.0</td>\n",
       "      <td>0.0</td>\n",
       "      <td>29.749986</td>\n",
       "      <td>553.0</td>\n",
       "      <td>60.059998</td>\n",
       "    </tr>\n",
       "    <tr>\n",
       "      <th>2</th>\n",
       "      <td>1581.0</td>\n",
       "      <td>3.052598</td>\n",
       "      <td>3.649216</td>\n",
       "      <td>1.998112</td>\n",
       "      <td>4</td>\n",
       "      <td>0.0</td>\n",
       "      <td>0.0</td>\n",
       "      <td>0.0</td>\n",
       "      <td>73.0</td>\n",
       "      <td>0.0</td>\n",
       "      <td>...</td>\n",
       "      <td>0.00000</td>\n",
       "      <td>0.0</td>\n",
       "      <td>0.0</td>\n",
       "      <td>0.0</td>\n",
       "      <td>0.0</td>\n",
       "      <td>0.0</td>\n",
       "      <td>0.0</td>\n",
       "      <td>12.555561</td>\n",
       "      <td>582.0</td>\n",
       "      <td>96.052315</td>\n",
       "    </tr>\n",
       "    <tr>\n",
       "      <th>3</th>\n",
       "      <td>1596.0</td>\n",
       "      <td>2.525882</td>\n",
       "      <td>2.989534</td>\n",
       "      <td>1.599076</td>\n",
       "      <td>5</td>\n",
       "      <td>0.0</td>\n",
       "      <td>0.0</td>\n",
       "      <td>0.0</td>\n",
       "      <td>34.0</td>\n",
       "      <td>0.0</td>\n",
       "      <td>...</td>\n",
       "      <td>0.00000</td>\n",
       "      <td>0.0</td>\n",
       "      <td>0.0</td>\n",
       "      <td>0.0</td>\n",
       "      <td>0.0</td>\n",
       "      <td>0.0</td>\n",
       "      <td>0.0</td>\n",
       "      <td>28.554793</td>\n",
       "      <td>544.0</td>\n",
       "      <td>91.160157</td>\n",
       "    </tr>\n",
       "    <tr>\n",
       "      <th>4</th>\n",
       "      <td>1601.0</td>\n",
       "      <td>3.209250</td>\n",
       "      <td>3.814962</td>\n",
       "      <td>2.060298</td>\n",
       "      <td>4</td>\n",
       "      <td>0.0</td>\n",
       "      <td>0.0</td>\n",
       "      <td>0.0</td>\n",
       "      <td>81.0</td>\n",
       "      <td>0.0</td>\n",
       "      <td>...</td>\n",
       "      <td>0.00000</td>\n",
       "      <td>0.0</td>\n",
       "      <td>0.0</td>\n",
       "      <td>0.0</td>\n",
       "      <td>0.0</td>\n",
       "      <td>0.0</td>\n",
       "      <td>0.0</td>\n",
       "      <td>18.841219</td>\n",
       "      <td>595.0</td>\n",
       "      <td>89.063515</td>\n",
       "    </tr>\n",
       "    <tr>\n",
       "      <th>5</th>\n",
       "      <td>1576.0</td>\n",
       "      <td>3.347173</td>\n",
       "      <td>4.035758</td>\n",
       "      <td>2.252643</td>\n",
       "      <td>4</td>\n",
       "      <td>0.0</td>\n",
       "      <td>0.0</td>\n",
       "      <td>0.0</td>\n",
       "      <td>78.0</td>\n",
       "      <td>0.0</td>\n",
       "      <td>...</td>\n",
       "      <td>9.11456</td>\n",
       "      <td>0.0</td>\n",
       "      <td>0.0</td>\n",
       "      <td>0.0</td>\n",
       "      <td>0.0</td>\n",
       "      <td>0.0</td>\n",
       "      <td>0.0</td>\n",
       "      <td>5.413692</td>\n",
       "      <td>584.0</td>\n",
       "      <td>98.352796</td>\n",
       "    </tr>\n",
       "  </tbody>\n",
       "</table>\n",
       "<p>5 rows × 30 columns</p>\n",
       "</div>"
      ],
      "text/plain": [
       "     Первое измерение  Активная мощность  Полная мощность  \\\n",
       "key                                                         \n",
       "1              1571.0           4.878147         5.826395   \n",
       "2              1581.0           3.052598         3.649216   \n",
       "3              1596.0           2.525882         2.989534   \n",
       "4              1601.0           3.209250         3.814962   \n",
       "5              1576.0           3.347173         4.035758   \n",
       "\n",
       "     Реактивная мощность  Стадии нагрева  Bulk 1  Bulk 2  Bulk 3  Bulk 4  \\\n",
       "key                                                                        \n",
       "1               3.183241               5     0.0     0.0     0.0    43.0   \n",
       "2               1.998112               4     0.0     0.0     0.0    73.0   \n",
       "3               1.599076               5     0.0     0.0     0.0    34.0   \n",
       "4               2.060298               4     0.0     0.0     0.0    81.0   \n",
       "5               2.252643               4     0.0     0.0     0.0    78.0   \n",
       "\n",
       "     Bulk 5  ...   Wire 2  Wire 3  Wire 4  Wire 6  Wire 7  Wire 8  Wire 9  \\\n",
       "key          ...                                                            \n",
       "1       0.0  ...  0.00000     0.0     0.0     0.0     0.0     0.0     0.0   \n",
       "2       0.0  ...  0.00000     0.0     0.0     0.0     0.0     0.0     0.0   \n",
       "3       0.0  ...  0.00000     0.0     0.0     0.0     0.0     0.0     0.0   \n",
       "4       0.0  ...  0.00000     0.0     0.0     0.0     0.0     0.0     0.0   \n",
       "5       0.0  ...  9.11456     0.0     0.0     0.0     0.0     0.0     0.0   \n",
       "\n",
       "         Газ 1  bulk_sum   wire_sum  \n",
       "key                                  \n",
       "1    29.749986     553.0  60.059998  \n",
       "2    12.555561     582.0  96.052315  \n",
       "3    28.554793     544.0  91.160157  \n",
       "4    18.841219     595.0  89.063515  \n",
       "5     5.413692     584.0  98.352796  \n",
       "\n",
       "[5 rows x 30 columns]"
      ]
     },
     "metadata": {},
     "output_type": "display_data"
    },
    {
     "data": {
      "text/plain": [
       "key\n",
       "1    1613.0\n",
       "2    1602.0\n",
       "3    1599.0\n",
       "4    1625.0\n",
       "5    1602.0\n",
       "Name: Последнее измерение, dtype: float64"
      ]
     },
     "metadata": {},
     "output_type": "display_data"
    }
   ],
   "source": [
    "features = data.drop('Последнее измерение', axis=1)\n",
    "target = data['Последнее измерение']\n",
    "display(features.head())\n",
    "display(target.head())"
   ]
  },
  {
   "cell_type": "markdown",
   "id": "5f07d256",
   "metadata": {},
   "source": [
    "Разделяем на обучающую и тестовую выборки"
   ]
  },
  {
   "cell_type": "code",
   "execution_count": 53,
   "id": "dedfe4e1",
   "metadata": {},
   "outputs": [
    {
     "name": "stdout",
     "output_type": "stream",
     "text": [
      "(1743, 30)\n",
      "(582, 30)\n",
      "(1743,)\n",
      "(582,)\n"
     ]
    }
   ],
   "source": [
    "features_train, features_test, target_train, target_test = train_test_split(features,\n",
    "                                                                            target,\n",
    "                                                                            test_size=0.25,\n",
    "                                                                            random_state=random_state)\n",
    "print(features_train.shape)\n",
    "print(features_test.shape)\n",
    "print(target_train.shape)\n",
    "print(target_test.shape)"
   ]
  },
  {
   "cell_type": "markdown",
   "id": "b3b2dd73",
   "metadata": {},
   "source": [
    "Создаем масштабированные выборки для линейных моделей."
   ]
  },
  {
   "cell_type": "code",
   "execution_count": 54,
   "id": "e94df6b8",
   "metadata": {},
   "outputs": [
    {
     "data": {
      "text/plain": [
       "array([[ 0.45487595, -0.9256297 , -0.79383477, ..., -0.36878414,\n",
       "        -0.47388689, -0.55828703],\n",
       "       [ 0.32776253, -1.08000482, -1.1400051 , ..., -0.7384085 ,\n",
       "        -1.48497751,  0.08288813],\n",
       "       [ 0.15827797, -0.02378815, -0.01227909, ..., -0.54582658,\n",
       "         1.1466282 , -0.50814797],\n",
       "       ...,\n",
       "       [ 0.79384507, -0.15070885, -0.15032551, ..., -0.53779954,\n",
       "        -0.71280899, -1.36580518],\n",
       "       [ 1.55652559, -0.48395769, -0.55572058, ..., -0.11563978,\n",
       "         0.06628481,  1.17266207],\n",
       "       [ 1.38704103, -1.63010451, -1.6464352 , ..., -1.40841138,\n",
       "        -2.0251492 , -0.95431459]])"
      ]
     },
     "metadata": {},
     "output_type": "display_data"
    },
    {
     "data": {
      "text/plain": [
       "array([[-0.434918  ,  1.1209351 ,  1.14490885, ..., -1.09855629,\n",
       "         1.51713058, -0.27234986],\n",
       "       [ 1.21755647, -0.72507189, -0.76367182, ..., -0.58181066,\n",
       "         0.07321008, -0.11438072],\n",
       "       [-0.39254686,  2.31716943,  2.56040118, ..., -0.45135629,\n",
       "        -0.29036702, -1.13221619],\n",
       "       ...,\n",
       "       [ 1.51415445,  2.16482142,  2.24065361, ...,  2.22774746,\n",
       "         2.07115284,  0.18306392],\n",
       "       [-0.434918  ,  0.252107  ,  0.19973072, ...,  1.26169837,\n",
       "        -0.62970565, -1.11921909],\n",
       "       [ 1.93786585, -1.55780726, -1.54430814, ..., -0.99046841,\n",
       "        -2.05977559, -0.64222899]])"
      ]
     },
     "metadata": {},
     "output_type": "display_data"
    }
   ],
   "source": [
    "scaler = StandardScaler()\n",
    "features_train_scaled = scaler.fit_transform(features_train)\n",
    "features_test_scaled = scaler.transform(features_test)\n",
    "display(features_train_scaled)\n",
    "display(features_test_scaled)"
   ]
  },
  {
   "cell_type": "markdown",
   "id": "e24f5e03",
   "metadata": {},
   "source": [
    "Настраиваем кросс-валидацию"
   ]
  },
  {
   "cell_type": "code",
   "execution_count": 55,
   "id": "90f6070c",
   "metadata": {},
   "outputs": [],
   "source": [
    "folds = StratifiedKFold(n_splits=5,  shuffle=True, random_state=random_state)   "
   ]
  },
  {
   "cell_type": "markdown",
   "id": "9c08945c",
   "metadata": {},
   "source": [
    "Создаем словарь для записи результатов моделирования"
   ]
  },
  {
   "cell_type": "code",
   "execution_count": 56,
   "id": "152f7073",
   "metadata": {},
   "outputs": [],
   "source": [
    "results = {'training_time': [],\n",
    "           'pred_time': [],\n",
    "           'cv_mae': []\n",
    "          }"
   ]
  },
  {
   "cell_type": "markdown",
   "id": "e3d3e7f0",
   "metadata": {},
   "source": [
    "Создаем функцию для автоматизации моделирования и записи результатов"
   ]
  },
  {
   "cell_type": "code",
   "execution_count": 57,
   "id": "a1da1096",
   "metadata": {},
   "outputs": [],
   "source": [
    "def modelling(model, features_train, target_train, cv_res):\n",
    "    start_train = time.time()\n",
    "    model.fit(features_train, target_train)\n",
    "    stop_train = time.time()\n",
    "    pred = model.predict(features_train)\n",
    "    stop_pred = time.time()\n",
    "    results.setdefault('training_time',[]).append('{0:.3f}'.format(stop_train-start_train))\n",
    "    results.setdefault('pred_time',[]).append('{0:.3f}'.format(stop_pred-stop_train))\n",
    "    results.setdefault('cv_mae',[]).append('{0:.6f}'.format(abs(cv_res.mean())))\n",
    "    display(results)"
   ]
  },
  {
   "cell_type": "markdown",
   "id": "17b23b95",
   "metadata": {},
   "source": [
    "## Машинное обучение"
   ]
  },
  {
   "cell_type": "markdown",
   "id": "44569fba",
   "metadata": {},
   "source": [
    "### Линейная регрессия"
   ]
  },
  {
   "cell_type": "code",
   "execution_count": 58,
   "id": "e8fe49ab",
   "metadata": {},
   "outputs": [
    {
     "name": "stderr",
     "output_type": "stream",
     "text": [
      "D:\\Programmes\\Anaconda\\envs\\ds_practicum_env\\lib\\site-packages\\sklearn\\model_selection\\_split.py:666: UserWarning: The least populated class in y has only 1 members, which is less than n_splits=5.\n",
      "  warnings.warn((\"The least populated class in y has only %d\"\n"
     ]
    }
   ],
   "source": [
    "model_lr = LinearRegression()\n",
    "cv_lr = cross_val_score(estimator=model_lr, \n",
    "                      X=features_train_scaled,\n",
    "                      y=target_train, \n",
    "                      scoring='neg_mean_absolute_error',\n",
    "                      cv=folds, \n",
    "                      n_jobs=-1)"
   ]
  },
  {
   "cell_type": "code",
   "execution_count": 59,
   "id": "94d7a773",
   "metadata": {
    "scrolled": true
   },
   "outputs": [
    {
     "data": {
      "text/plain": [
       "{'training_time': ['0.006'], 'pred_time': ['0.001'], 'cv_mae': ['6.144827']}"
      ]
     },
     "metadata": {},
     "output_type": "display_data"
    }
   ],
   "source": [
    "modelling(model_lr, features_train_scaled, target_train, cv_lr)"
   ]
  },
  {
   "cell_type": "markdown",
   "id": "ab298048",
   "metadata": {},
   "source": [
    "### Lasso"
   ]
  },
  {
   "cell_type": "code",
   "execution_count": 60,
   "id": "c31a50c6",
   "metadata": {},
   "outputs": [
    {
     "name": "stderr",
     "output_type": "stream",
     "text": [
      "D:\\Programmes\\Anaconda\\envs\\ds_practicum_env\\lib\\site-packages\\sklearn\\model_selection\\_split.py:666: UserWarning: The least populated class in y has only 1 members, which is less than n_splits=5.\n",
      "  warnings.warn((\"The least populated class in y has only %d\"\n"
     ]
    },
    {
     "name": "stdout",
     "output_type": "stream",
     "text": [
      "{'alpha': 0.1}\n"
     ]
    }
   ],
   "source": [
    "model_lasso = Lasso(random_state = random_state)\n",
    "parameters = {'alpha': [0.01, 0.05, 0.1, 0.5, 1, 1.5, 2]}\n",
    "grid_lasso = GridSearchCV(model_lasso, param_grid=parameters, scoring='neg_mean_absolute_error', n_jobs=-1, cv=folds)\n",
    "grid_lasso.fit(features_train_scaled, target_train)\n",
    "cv_lasso= grid_lasso.best_score_\n",
    "print(grid_lasso.best_params_)"
   ]
  },
  {
   "cell_type": "code",
   "execution_count": 61,
   "id": "f18c377b",
   "metadata": {
    "scrolled": true
   },
   "outputs": [
    {
     "data": {
      "text/plain": [
       "{'training_time': ['0.006', '0.000'],\n",
       " 'pred_time': ['0.001', '0.000'],\n",
       " 'cv_mae': ['6.144827', '6.062629']}"
      ]
     },
     "metadata": {},
     "output_type": "display_data"
    }
   ],
   "source": [
    "modelling(grid_lasso.best_estimator_, features_train_scaled, target_train, cv_lasso)"
   ]
  },
  {
   "cell_type": "markdown",
   "id": "426cd681",
   "metadata": {},
   "source": [
    "### Ridge"
   ]
  },
  {
   "cell_type": "code",
   "execution_count": 62,
   "id": "19b77b62",
   "metadata": {},
   "outputs": [
    {
     "name": "stdout",
     "output_type": "stream",
     "text": [
      "{'alpha': 2}\n"
     ]
    },
    {
     "name": "stderr",
     "output_type": "stream",
     "text": [
      "D:\\Programmes\\Anaconda\\envs\\ds_practicum_env\\lib\\site-packages\\sklearn\\model_selection\\_split.py:666: UserWarning: The least populated class in y has only 1 members, which is less than n_splits=5.\n",
      "  warnings.warn((\"The least populated class in y has only %d\"\n"
     ]
    }
   ],
   "source": [
    "model_ridge = Ridge(random_state = random_state)\n",
    "parameters = {'alpha': [0.01, 0.05, 0.1, 0.5, 1, 1.5, 2]}\n",
    "grid_ridge = GridSearchCV(model_ridge, param_grid=parameters, scoring='neg_mean_absolute_error', n_jobs=-1, cv=folds)\n",
    "grid_ridge.fit(features_train_scaled, target_train)\n",
    "cv_ridge= grid_ridge.best_score_\n",
    "print(grid_ridge.best_params_)"
   ]
  },
  {
   "cell_type": "code",
   "execution_count": 63,
   "id": "796e48aa",
   "metadata": {
    "scrolled": false
   },
   "outputs": [
    {
     "data": {
      "text/plain": [
       "{'training_time': ['0.006', '0.000', '0.002'],\n",
       " 'pred_time': ['0.001', '0.000', '0.000'],\n",
       " 'cv_mae': ['6.144827', '6.062629', '6.134607']}"
      ]
     },
     "metadata": {},
     "output_type": "display_data"
    }
   ],
   "source": [
    "modelling(grid_ridge.best_estimator_, features_train_scaled, target_train, cv_ridge)"
   ]
  },
  {
   "cell_type": "markdown",
   "id": "dab5dd8c",
   "metadata": {},
   "source": [
    "### ElasticNet"
   ]
  },
  {
   "cell_type": "code",
   "execution_count": 64,
   "id": "7f27eb31",
   "metadata": {},
   "outputs": [
    {
     "name": "stderr",
     "output_type": "stream",
     "text": [
      "D:\\Programmes\\Anaconda\\envs\\ds_practicum_env\\lib\\site-packages\\sklearn\\model_selection\\_split.py:666: UserWarning: The least populated class in y has only 1 members, which is less than n_splits=5.\n",
      "  warnings.warn((\"The least populated class in y has only %d\"\n"
     ]
    },
    {
     "name": "stdout",
     "output_type": "stream",
     "text": [
      "{'alpha': 0.05, 'l1_ratio': 0.9}\n"
     ]
    }
   ],
   "source": [
    "model_elastic = ElasticNet(random_state = random_state)\n",
    "parameters = {'alpha': [0.01, 0.05, 0.1, 0.5, 1, 1.5, 2],\n",
    "              'l1_ratio': np.arange(0.1, 1, 0.1)}\n",
    "grid_elastic = GridSearchCV(model_elastic, param_grid=parameters, scoring='neg_mean_absolute_error', n_jobs=-1, cv=folds)\n",
    "grid_elastic.fit(features_train_scaled, target_train)\n",
    "cv_elastic= grid_elastic.best_score_\n",
    "print(grid_elastic.best_params_)"
   ]
  },
  {
   "cell_type": "code",
   "execution_count": 65,
   "id": "39b52fa3",
   "metadata": {},
   "outputs": [
    {
     "data": {
      "text/plain": [
       "{'training_time': ['0.006', '0.000', '0.002', '0.005'],\n",
       " 'pred_time': ['0.001', '0.000', '0.000', '0.001'],\n",
       " 'cv_mae': ['6.144827', '6.062629', '6.134607', '6.079281']}"
      ]
     },
     "metadata": {},
     "output_type": "display_data"
    }
   ],
   "source": [
    "modelling(grid_elastic.best_estimator_, features_train_scaled, target_train, cv_elastic)"
   ]
  },
  {
   "cell_type": "markdown",
   "id": "56e8f921",
   "metadata": {},
   "source": [
    "### Метод опорных векторов"
   ]
  },
  {
   "cell_type": "code",
   "execution_count": 66,
   "id": "92925847",
   "metadata": {},
   "outputs": [
    {
     "name": "stderr",
     "output_type": "stream",
     "text": [
      "D:\\Programmes\\Anaconda\\envs\\ds_practicum_env\\lib\\site-packages\\sklearn\\model_selection\\_split.py:666: UserWarning: The least populated class in y has only 1 members, which is less than n_splits=5.\n",
      "  warnings.warn((\"The least populated class in y has only %d\"\n"
     ]
    },
    {
     "name": "stdout",
     "output_type": "stream",
     "text": [
      "{'C': 1, 'kernel': 'linear'}\n"
     ]
    }
   ],
   "source": [
    "model_svm = SVR()\n",
    "parameters = {'kernel': ['linear', 'poly', 'rbf', 'sigmoid'],\n",
    "              'C': [0.01, 0.05, 0.1, 0.5, 1, 1.5, 2]}\n",
    "grid_svm = GridSearchCV(model_svm, param_grid=parameters, scoring='neg_mean_absolute_error', n_jobs=-1, cv=folds)\n",
    "grid_svm.fit(features_train_scaled, target_train)\n",
    "cv_svm= grid_svm.best_score_\n",
    "print(grid_svm.best_params_)"
   ]
  },
  {
   "cell_type": "code",
   "execution_count": 67,
   "id": "e954df34",
   "metadata": {},
   "outputs": [
    {
     "data": {
      "text/plain": [
       "{'training_time': ['0.006', '0.000', '0.002', '0.005', '0.222'],\n",
       " 'pred_time': ['0.001', '0.000', '0.000', '0.001', '0.092'],\n",
       " 'cv_mae': ['6.144827', '6.062629', '6.134607', '6.079281', '6.097648']}"
      ]
     },
     "metadata": {},
     "output_type": "display_data"
    }
   ],
   "source": [
    "modelling(grid_svm.best_estimator_, features_train_scaled, target_train, cv_svm)"
   ]
  },
  {
   "cell_type": "markdown",
   "id": "b358c4e4",
   "metadata": {},
   "source": [
    "### Дерево решений"
   ]
  },
  {
   "cell_type": "code",
   "execution_count": 68,
   "id": "63052365",
   "metadata": {},
   "outputs": [
    {
     "name": "stderr",
     "output_type": "stream",
     "text": [
      "D:\\Programmes\\Anaconda\\envs\\ds_practicum_env\\lib\\site-packages\\sklearn\\model_selection\\_split.py:666: UserWarning: The least populated class in y has only 1 members, which is less than n_splits=5.\n",
      "  warnings.warn((\"The least populated class in y has only %d\"\n"
     ]
    },
    {
     "name": "stdout",
     "output_type": "stream",
     "text": [
      "{'max_depth': 5}\n"
     ]
    }
   ],
   "source": [
    "model_dt = DecisionTreeRegressor(random_state=random_state)\n",
    "parameters = {'max_depth': range(3,26,1)}\n",
    "grid_dt = GridSearchCV(model_dt, param_grid=parameters, scoring='neg_mean_absolute_error', n_jobs=-1, cv=folds)\n",
    "grid_dt.fit(features_train, target_train)\n",
    "cv_dt= grid_dt.best_score_\n",
    "print(grid_dt.best_params_)"
   ]
  },
  {
   "cell_type": "code",
   "execution_count": 69,
   "id": "1f037302",
   "metadata": {
    "scrolled": true
   },
   "outputs": [
    {
     "data": {
      "text/plain": [
       "{'training_time': ['0.006', '0.000', '0.002', '0.005', '0.222', '0.015'],\n",
       " 'pred_time': ['0.001', '0.000', '0.000', '0.001', '0.092', '0.003'],\n",
       " 'cv_mae': ['6.144827',\n",
       "  '6.062629',\n",
       "  '6.134607',\n",
       "  '6.079281',\n",
       "  '6.097648',\n",
       "  '6.939768']}"
      ]
     },
     "metadata": {},
     "output_type": "display_data"
    }
   ],
   "source": [
    "modelling(grid_dt.best_estimator_, features_train, target_train, cv_dt)"
   ]
  },
  {
   "cell_type": "markdown",
   "id": "573ddbe8",
   "metadata": {},
   "source": [
    "### Случайный лес"
   ]
  },
  {
   "cell_type": "code",
   "execution_count": 70,
   "id": "6d1e2112",
   "metadata": {},
   "outputs": [
    {
     "name": "stderr",
     "output_type": "stream",
     "text": [
      "D:\\Programmes\\Anaconda\\envs\\ds_practicum_env\\lib\\site-packages\\sklearn\\model_selection\\_split.py:666: UserWarning: The least populated class in y has only 1 members, which is less than n_splits=5.\n",
      "  warnings.warn((\"The least populated class in y has only %d\"\n"
     ]
    },
    {
     "name": "stdout",
     "output_type": "stream",
     "text": [
      "{'max_depth': 18, 'n_estimators': 1500}\n",
      "CPU times: total: 24.1 s\n",
      "Wall time: 20min 28s\n"
     ]
    }
   ],
   "source": [
    "%%time\n",
    "\n",
    "model_rf = RandomForestRegressor(random_state=random_state)\n",
    "parameters = {'max_depth': range(3,26,1), 'n_estimators' : [10, 20, 40, 60, 100, 200, 300, 500, 1000, 1500, 2000]}\n",
    "grid_rf = GridSearchCV(model_rf, param_grid=parameters, scoring='neg_mean_absolute_error', n_jobs=-1, cv=folds)\n",
    "grid_rf.fit(features_train, target_train)\n",
    "cv_rf= grid_rf.best_score_\n",
    "print(grid_rf.best_params_)"
   ]
  },
  {
   "cell_type": "code",
   "execution_count": 71,
   "id": "406544e3",
   "metadata": {},
   "outputs": [
    {
     "data": {
      "text/plain": [
       "{'training_time': ['0.006',\n",
       "  '0.000',\n",
       "  '0.002',\n",
       "  '0.005',\n",
       "  '0.222',\n",
       "  '0.015',\n",
       "  '18.918'],\n",
       " 'pred_time': ['0.001', '0.000', '0.000', '0.001', '0.092', '0.003', '0.471'],\n",
       " 'cv_mae': ['6.144827',\n",
       "  '6.062629',\n",
       "  '6.134607',\n",
       "  '6.079281',\n",
       "  '6.097648',\n",
       "  '6.939768',\n",
       "  '5.985414']}"
      ]
     },
     "metadata": {},
     "output_type": "display_data"
    }
   ],
   "source": [
    "modelling(grid_rf.best_estimator_, features_train, target_train, cv_rf)"
   ]
  },
  {
   "cell_type": "markdown",
   "id": "6d279c88",
   "metadata": {},
   "source": [
    "### KNeighbors"
   ]
  },
  {
   "cell_type": "code",
   "execution_count": 72,
   "id": "a4eb800b",
   "metadata": {},
   "outputs": [
    {
     "name": "stderr",
     "output_type": "stream",
     "text": [
      "D:\\Programmes\\Anaconda\\envs\\ds_practicum_env\\lib\\site-packages\\sklearn\\model_selection\\_split.py:666: UserWarning: The least populated class in y has only 1 members, which is less than n_splits=5.\n",
      "  warnings.warn((\"The least populated class in y has only %d\"\n"
     ]
    },
    {
     "name": "stdout",
     "output_type": "stream",
     "text": [
      "{'algorithm': 'auto', 'n_neighbors': 15, 'weights': 'uniform'}\n",
      "CPU times: total: 10.1 s\n",
      "Wall time: 6.98 s\n"
     ]
    }
   ],
   "source": [
    "%%time\n",
    "\n",
    "model_kn = KNeighborsRegressor(n_jobs=-1)\n",
    "parameters = {'n_neighbors': [1, 2, 3, 4, 5, 10, 15],\n",
    "              'weights': ['uniform', 'distance'],\n",
    "              'algorithm': ['auto', 'ball_tree', 'kd_tree', 'brute']\n",
    "             }\n",
    "grid_kn = GridSearchCV(model_kn, param_grid=parameters, cv=folds, scoring='neg_mean_absolute_error')\n",
    "\n",
    "grid_kn.fit(features_train, target_train)\n",
    "cv_kn = grid_kn.best_score_\n",
    "\n",
    "print(grid_kn.best_params_)"
   ]
  },
  {
   "cell_type": "code",
   "execution_count": 73,
   "id": "c79fa0aa",
   "metadata": {},
   "outputs": [
    {
     "data": {
      "text/plain": [
       "{'training_time': ['0.006',\n",
       "  '0.000',\n",
       "  '0.002',\n",
       "  '0.005',\n",
       "  '0.222',\n",
       "  '0.015',\n",
       "  '18.918',\n",
       "  '0.001'],\n",
       " 'pred_time': ['0.001',\n",
       "  '0.000',\n",
       "  '0.000',\n",
       "  '0.001',\n",
       "  '0.092',\n",
       "  '0.003',\n",
       "  '0.471',\n",
       "  '0.107'],\n",
       " 'cv_mae': ['6.144827',\n",
       "  '6.062629',\n",
       "  '6.134607',\n",
       "  '6.079281',\n",
       "  '6.097648',\n",
       "  '6.939768',\n",
       "  '5.985414',\n",
       "  '7.548692']}"
      ]
     },
     "metadata": {},
     "output_type": "display_data"
    }
   ],
   "source": [
    "modelling(grid_kn.best_estimator_, features_train, target_train, cv_kn)"
   ]
  },
  {
   "cell_type": "markdown",
   "id": "8a1f5efe",
   "metadata": {},
   "source": [
    "### Градиентный бустинг LGBM"
   ]
  },
  {
   "cell_type": "code",
   "execution_count": 74,
   "id": "1b4ac0af",
   "metadata": {},
   "outputs": [
    {
     "name": "stderr",
     "output_type": "stream",
     "text": [
      "D:\\Programmes\\Anaconda\\envs\\ds_practicum_env\\lib\\site-packages\\sklearn\\model_selection\\_split.py:666: UserWarning: The least populated class in y has only 1 members, which is less than n_splits=5.\n",
      "  warnings.warn((\"The least populated class in y has only %d\"\n"
     ]
    },
    {
     "name": "stdout",
     "output_type": "stream",
     "text": [
      "{'learning_rate': 0.005, 'max_depth': 9, 'n_estimators': 1000}\n",
      "CPU times: total: 4h 8min 25s\n",
      "Wall time: 31min 15s\n"
     ]
    }
   ],
   "source": [
    "%%time\n",
    "\n",
    "model_lgbm = LGBMRegressor(n_jobs=-1, random_state=random_state)\n",
    "parameters = {'learning_rate': [0.001, 0.005, 0.01, 0.05, 0.1],\n",
    "              'max_depth': range(3,26,1),\n",
    "              'n_estimators': [10, 20, 40, 60, 100, 200, 300, 500, 1000, 1500]\n",
    "             }\n",
    "grid_lgbm = GridSearchCV(model_lgbm, param_grid=parameters, cv=folds, scoring='neg_mean_absolute_error')\n",
    "\n",
    "grid_lgbm.fit(features_train, target_train)\n",
    "cv_lgbm = grid_lgbm.best_score_\n",
    "\n",
    "print(grid_lgbm.best_params_)"
   ]
  },
  {
   "cell_type": "code",
   "execution_count": 75,
   "id": "749422b0",
   "metadata": {
    "scrolled": false
   },
   "outputs": [
    {
     "data": {
      "text/plain": [
       "{'training_time': ['0.006',\n",
       "  '0.000',\n",
       "  '0.002',\n",
       "  '0.005',\n",
       "  '0.222',\n",
       "  '0.015',\n",
       "  '18.918',\n",
       "  '0.001',\n",
       "  '0.759'],\n",
       " 'pred_time': ['0.001',\n",
       "  '0.000',\n",
       "  '0.000',\n",
       "  '0.001',\n",
       "  '0.092',\n",
       "  '0.003',\n",
       "  '0.471',\n",
       "  '0.107',\n",
       "  '0.031'],\n",
       " 'cv_mae': ['6.144827',\n",
       "  '6.062629',\n",
       "  '6.134607',\n",
       "  '6.079281',\n",
       "  '6.097648',\n",
       "  '6.939768',\n",
       "  '5.985414',\n",
       "  '7.548692',\n",
       "  '5.827437']}"
      ]
     },
     "metadata": {},
     "output_type": "display_data"
    }
   ],
   "source": [
    "modelling(grid_lgbm.best_estimator_, features_train, target_train, cv_lgbm)"
   ]
  },
  {
   "cell_type": "markdown",
   "id": "3044d1f3",
   "metadata": {},
   "source": [
    "### Результаты моделей на кросс-валидации"
   ]
  },
  {
   "cell_type": "code",
   "execution_count": 76,
   "id": "7b0cbd13",
   "metadata": {},
   "outputs": [
    {
     "data": {
      "text/html": [
       "<div>\n",
       "<style scoped>\n",
       "    .dataframe tbody tr th:only-of-type {\n",
       "        vertical-align: middle;\n",
       "    }\n",
       "\n",
       "    .dataframe tbody tr th {\n",
       "        vertical-align: top;\n",
       "    }\n",
       "\n",
       "    .dataframe thead th {\n",
       "        text-align: right;\n",
       "    }\n",
       "</style>\n",
       "<table border=\"1\" class=\"dataframe\">\n",
       "  <thead>\n",
       "    <tr style=\"text-align: right;\">\n",
       "      <th></th>\n",
       "      <th>Linear_Regression</th>\n",
       "      <th>Lasso</th>\n",
       "      <th>Ridge</th>\n",
       "      <th>ElasticNet</th>\n",
       "      <th>SVM</th>\n",
       "      <th>Decision_Tree</th>\n",
       "      <th>Random_Forest</th>\n",
       "      <th>KNeighbors</th>\n",
       "      <th>LGBM_Regressor</th>\n",
       "    </tr>\n",
       "  </thead>\n",
       "  <tbody>\n",
       "    <tr>\n",
       "      <th>training_time</th>\n",
       "      <td>0.006</td>\n",
       "      <td>0.000</td>\n",
       "      <td>0.002</td>\n",
       "      <td>0.005</td>\n",
       "      <td>0.222</td>\n",
       "      <td>0.015</td>\n",
       "      <td>18.918</td>\n",
       "      <td>0.001</td>\n",
       "      <td>0.759</td>\n",
       "    </tr>\n",
       "    <tr>\n",
       "      <th>pred_time</th>\n",
       "      <td>0.001</td>\n",
       "      <td>0.000</td>\n",
       "      <td>0.000</td>\n",
       "      <td>0.001</td>\n",
       "      <td>0.092</td>\n",
       "      <td>0.003</td>\n",
       "      <td>0.471</td>\n",
       "      <td>0.107</td>\n",
       "      <td>0.031</td>\n",
       "    </tr>\n",
       "    <tr>\n",
       "      <th>cv_mae</th>\n",
       "      <td>6.144827</td>\n",
       "      <td>6.062629</td>\n",
       "      <td>6.134607</td>\n",
       "      <td>6.079281</td>\n",
       "      <td>6.097648</td>\n",
       "      <td>6.939768</td>\n",
       "      <td>5.985414</td>\n",
       "      <td>7.548692</td>\n",
       "      <td>5.827437</td>\n",
       "    </tr>\n",
       "  </tbody>\n",
       "</table>\n",
       "</div>"
      ],
      "text/plain": [
       "              Linear_Regression     Lasso     Ridge ElasticNet       SVM  \\\n",
       "training_time             0.006     0.000     0.002      0.005     0.222   \n",
       "pred_time                 0.001     0.000     0.000      0.001     0.092   \n",
       "cv_mae                 6.144827  6.062629  6.134607   6.079281  6.097648   \n",
       "\n",
       "              Decision_Tree Random_Forest KNeighbors LGBM_Regressor  \n",
       "training_time         0.015        18.918      0.001          0.759  \n",
       "pred_time             0.003         0.471      0.107          0.031  \n",
       "cv_mae             6.939768      5.985414   7.548692       5.827437  "
      ]
     },
     "metadata": {},
     "output_type": "display_data"
    }
   ],
   "source": [
    "#строим таблицу с результатами\n",
    "columns = pd.Series(['Linear_Regression',\n",
    "                     'Lasso', \n",
    "                     'Ridge',\n",
    "                     'ElasticNet',\n",
    "                     'SVM', \n",
    "                     'Decision_Tree', \n",
    "                     'Random_Forest', \n",
    "                     'KNeighbors', \n",
    "                     'LGBM_Regressor'])\n",
    "table = pd.DataFrame.from_dict(results, \n",
    "                               orient='index', \n",
    "                               columns=columns)\n",
    "display(table)"
   ]
  },
  {
   "cell_type": "markdown",
   "id": "a8931e6f",
   "metadata": {},
   "source": [
    "* Лучший результат MAE=5.83 показала модель градиентного бустинга LGBM (`'learning_rate': 0.05`, `'max_depth': 9`, `'n_estimators': 1000`). Также эта модель обладает достаточно высокой скоростью обучения и предсказания.\n",
    "\n",
    "* Модель случайного леса с 1500 деревьев и глубиной 18 также показала высокую точность (MAE = 5.98). Однако данная модель на несколько порядков дольше обучается и предсказывает, по сравнению с остальными моделями.\n",
    "\n",
    "* Модели линейной регрессии (в т.ч. Lasso, Ridge и Elastic) обладают самой высокой скоростью обучения и предсказания. Также они имеют относительно хорошую точность (MAE = 6.06 - 6.14).\n",
    "\n",
    "* Остальные модели (SVM, Decision tree, KNeighbors) уступают предыдущим в точности и/или времени обучения и предсказания."
   ]
  },
  {
   "cell_type": "markdown",
   "id": "19e6c795",
   "metadata": {},
   "source": [
    "Наиболее подходящая модель `LGBM_Regressor` со следующими параметрами: `'learning_rate': 0.05, 'max_depth': 9, 'n_estimators': 1000`. Она показала самую высокую точность и достаточную скорость обучения и предсказания. Проверим ее на тестовой выборке."
   ]
  },
  {
   "cell_type": "markdown",
   "id": "3f2039b2",
   "metadata": {},
   "source": [
    "### Тестирование модели"
   ]
  },
  {
   "cell_type": "code",
   "execution_count": 77,
   "id": "cee9572d",
   "metadata": {},
   "outputs": [
    {
     "data": {
      "text/plain": [
       "5.921567842319269"
      ]
     },
     "metadata": {},
     "output_type": "display_data"
    }
   ],
   "source": [
    "model = grid_lgbm.best_estimator_\n",
    "model.fit(features_train, target_train)\n",
    "predictions = model.predict(features_test)\n",
    "result = mean_absolute_error(target_test, predictions)\n",
    "display(result)"
   ]
  },
  {
   "cell_type": "markdown",
   "id": "4ef36b37",
   "metadata": {},
   "source": [
    "На тестовой выборке значение MAE составило 5.92. Модель показала высокую точность и не переобучилась."
   ]
  },
  {
   "cell_type": "markdown",
   "id": "16382397",
   "metadata": {},
   "source": [
    "## Отчет"
   ]
  },
  {
   "cell_type": "markdown",
   "id": "ea02c11e",
   "metadata": {},
   "source": [
    "Ключевыми стадиями проекта оказались исследовательский анализ, предобработка, подбор моделей и гиперпараметров. Без любого из этих этапов мы бы не достигли нужного значения метрики. При анализе данных выявили выбросы. На этапе предобработки очистили часть выбросов, создали новые признаки и преобразовали данные в подходящую для моделей форму. При моделировании только модель градиентного бустинга с подобранными гиперпараметрами достигла нужного качества предсказаний (MAE ≤ 6).\n",
    "\n",
    "Выполнили все пункты плана, за исключением полной очистки данных от выбросов. Очистку от выбросов в столбцах с температурой и реактивной мощностью согласовали с заказчиком. Однако очистку от выбросов столбца с объемом инертного газа не согласовали, - несмотря на аномалии с точки зрения статистики, в реальных процессах такие значения допустимы.\n",
    "\n",
    "В ходе исследования данных выяснили, что столбцы `'Wire 5'` и `'Bulk 8'` имеют по одному ненулевому значению и потому не подходят в качестве признаков, поэтому их удалили. \n",
    "\n",
    "Таблицы с временем добавления реагентов (`data_bulk_time` и `data_wire_time`) и другие столбцы с датами не использовали, т.к., по информации от заказчика, время записывалось неточно. Кроме того, в данном случае разумнее прогнозировать температуру исходя из физико-химических основ процесса: мощности нагрева, количества добавленных реагентов и начальной температуры сплава, а не на основе временного ряда.\n",
    "\n",
    "Для улучшения качества модели внепланово создали дополнительные признаки: полную мощность (рассчитали по формуле из физики), количество этапов нагрева, суммарные объемы сыпучих материалов и проволоки. \n",
    "\n",
    "Наиболее проблематичным этапом была предобработка данных. Нужно было правильно сгруппировать данные из всех таблиц по номерам партий, при этом удалить номера с одним измерением температуры или пропусками в измерениях. Проблему решили путем заполнения пропусков фиктивными значениями и созданием фиктивных столбцов.\n",
    "\n",
    "При обучении моделей использовали следующие признаки: первое измерение температуры, активную, реактивную и полную мощности, количество стадий нагрева, объемы добавленных сыпучих и проволочных материалов (за исключением `'Wire 5'` и `'Bulk 8'`), суммарные объемы сыпучих и проволочных материалов (`wire_sum`, `bulk_sum`).\n",
    "\n",
    "При моделировании исследовали 9 регрессионных моделей. В качестве метрики использовали `MAE` благодаря ее простой интерпретации. Данные разделили в соотношении 3:1 на обучающую и тестовую выборки. Чтобы не тратить данные на валидационную выборку, использовали кросс-валидацию с разбиением на 5 частей. Гиперпараметры подбирали поиском по сетке (`GridSearchCV`).\n",
    "\n",
    "Лучший результат на кросс-валидации (`MAE = 5.83`) получила модель градиентного бустинга `LGBM` со следующими гиперпараметрами: (`'learning_rate': 0.05, 'max_depth': 9, 'n_estimators': 1000`). При тестировании метрика незначительно выросла и составила MAE = 5.92. Модель соответствует максимальному требованию заказчика (MAE ≤ 6), при этом обладает достаточной скоростью обучения и предсказания."
   ]
  }
 ],
 "metadata": {
  "ExecuteTimeLog": [
   {
    "duration": 684,
    "start_time": "2022-07-27T11:23:59.097Z"
   },
   {
    "duration": 276,
    "start_time": "2022-07-27T11:23:59.783Z"
   },
   {
    "duration": 5,
    "start_time": "2022-07-27T11:24:00.061Z"
   },
   {
    "duration": 71,
    "start_time": "2022-07-27T11:24:00.068Z"
   },
   {
    "duration": 43,
    "start_time": "2022-07-27T11:24:00.141Z"
   },
   {
    "duration": 6,
    "start_time": "2022-07-27T11:24:00.186Z"
   },
   {
    "duration": 44,
    "start_time": "2022-07-27T11:24:00.193Z"
   },
   {
    "duration": 51,
    "start_time": "2022-07-27T11:24:00.238Z"
   },
   {
    "duration": 27,
    "start_time": "2022-07-27T11:24:00.290Z"
   },
   {
    "duration": 67,
    "start_time": "2022-07-27T11:24:00.320Z"
   },
   {
    "duration": 32,
    "start_time": "2022-07-27T11:24:00.388Z"
   },
   {
    "duration": 6,
    "start_time": "2022-07-27T11:24:00.421Z"
   },
   {
    "duration": 38,
    "start_time": "2022-07-27T11:24:00.429Z"
   },
   {
    "duration": 46,
    "start_time": "2022-07-27T11:24:00.469Z"
   },
   {
    "duration": 338,
    "start_time": "2022-07-27T11:24:00.518Z"
   },
   {
    "duration": 10,
    "start_time": "2022-07-27T11:24:00.857Z"
   },
   {
    "duration": 70,
    "start_time": "2022-07-27T11:24:00.869Z"
   },
   {
    "duration": 1041,
    "start_time": "2022-07-27T11:24:00.941Z"
   },
   {
    "duration": 1151,
    "start_time": "2022-07-27T11:24:01.983Z"
   },
   {
    "duration": 496,
    "start_time": "2022-07-27T11:24:03.136Z"
   },
   {
    "duration": 9,
    "start_time": "2022-07-27T11:24:03.634Z"
   },
   {
    "duration": 32,
    "start_time": "2022-07-27T11:24:03.645Z"
   },
   {
    "duration": 17,
    "start_time": "2022-07-27T11:24:03.680Z"
   },
   {
    "duration": 23,
    "start_time": "2022-07-27T11:24:03.699Z"
   },
   {
    "duration": 187,
    "start_time": "2022-07-27T11:24:03.724Z"
   },
   {
    "duration": 6,
    "start_time": "2022-07-27T11:24:03.913Z"
   },
   {
    "duration": 27,
    "start_time": "2022-07-27T11:24:03.921Z"
   },
   {
    "duration": 34,
    "start_time": "2022-07-27T11:24:03.952Z"
   },
   {
    "duration": 203,
    "start_time": "2022-07-27T11:24:03.987Z"
   },
   {
    "duration": 7,
    "start_time": "2022-07-27T11:24:04.191Z"
   },
   {
    "duration": 68,
    "start_time": "2022-07-27T11:24:04.199Z"
   },
   {
    "duration": 1679,
    "start_time": "2022-07-27T11:24:04.269Z"
   },
   {
    "duration": 15,
    "start_time": "2022-07-27T11:24:05.949Z"
   },
   {
    "duration": 21,
    "start_time": "2022-07-27T11:24:05.966Z"
   },
   {
    "duration": 1425,
    "start_time": "2022-07-27T11:29:30.682Z"
   },
   {
    "duration": 750,
    "start_time": "2022-07-27T11:29:42.502Z"
   },
   {
    "duration": 3023,
    "start_time": "2022-07-27T11:29:54.785Z"
   },
   {
    "duration": 418,
    "start_time": "2022-07-27T11:32:13.793Z"
   },
   {
    "duration": 3030,
    "start_time": "2022-07-27T11:32:54.602Z"
   },
   {
    "duration": 43,
    "start_time": "2022-07-27T12:38:42.701Z"
   },
   {
    "duration": 774,
    "start_time": "2022-07-27T12:38:49.902Z"
   },
   {
    "duration": 624,
    "start_time": "2022-07-27T12:38:50.678Z"
   },
   {
    "duration": 3,
    "start_time": "2022-07-27T12:38:51.304Z"
   },
   {
    "duration": 42,
    "start_time": "2022-07-27T12:38:51.308Z"
   },
   {
    "duration": 30,
    "start_time": "2022-07-27T12:38:51.352Z"
   },
   {
    "duration": 5,
    "start_time": "2022-07-27T12:38:51.383Z"
   },
   {
    "duration": 56,
    "start_time": "2022-07-27T12:38:51.390Z"
   },
   {
    "duration": 22,
    "start_time": "2022-07-27T12:38:51.448Z"
   },
   {
    "duration": 23,
    "start_time": "2022-07-27T12:38:51.472Z"
   },
   {
    "duration": 60,
    "start_time": "2022-07-27T12:38:51.496Z"
   },
   {
    "duration": 26,
    "start_time": "2022-07-27T12:38:51.558Z"
   },
   {
    "duration": 6,
    "start_time": "2022-07-27T12:38:51.586Z"
   },
   {
    "duration": 43,
    "start_time": "2022-07-27T12:38:51.594Z"
   },
   {
    "duration": 14,
    "start_time": "2022-07-27T12:38:51.640Z"
   },
   {
    "duration": 272,
    "start_time": "2022-07-27T12:38:51.655Z"
   },
   {
    "duration": 6,
    "start_time": "2022-07-27T12:38:51.930Z"
   },
   {
    "duration": 49,
    "start_time": "2022-07-27T12:38:51.937Z"
   },
   {
    "duration": 828,
    "start_time": "2022-07-27T12:38:51.988Z"
   },
   {
    "duration": 918,
    "start_time": "2022-07-27T12:38:52.818Z"
   },
   {
    "duration": 393,
    "start_time": "2022-07-27T12:38:53.738Z"
   },
   {
    "duration": 1849,
    "start_time": "2022-07-27T12:38:54.133Z"
   },
   {
    "duration": 6,
    "start_time": "2022-07-27T12:38:55.984Z"
   },
   {
    "duration": 6,
    "start_time": "2022-07-27T12:38:55.992Z"
   },
   {
    "duration": 7,
    "start_time": "2022-07-27T12:38:56.000Z"
   },
   {
    "duration": 29,
    "start_time": "2022-07-27T12:38:56.008Z"
   },
   {
    "duration": 144,
    "start_time": "2022-07-27T12:38:56.039Z"
   },
   {
    "duration": 5,
    "start_time": "2022-07-27T12:38:56.184Z"
   },
   {
    "duration": 4,
    "start_time": "2022-07-27T12:38:56.191Z"
   },
   {
    "duration": 7,
    "start_time": "2022-07-27T12:38:56.197Z"
   },
   {
    "duration": 164,
    "start_time": "2022-07-27T12:38:56.205Z"
   },
   {
    "duration": 6,
    "start_time": "2022-07-27T12:38:56.370Z"
   },
   {
    "duration": 31,
    "start_time": "2022-07-27T12:38:56.377Z"
   },
   {
    "duration": 1310,
    "start_time": "2022-07-27T12:38:56.409Z"
   },
   {
    "duration": 11,
    "start_time": "2022-07-27T12:38:57.721Z"
   },
   {
    "duration": 28,
    "start_time": "2022-07-27T12:38:57.734Z"
   },
   {
    "duration": 2077,
    "start_time": "2022-07-27T12:39:21.529Z"
   },
   {
    "duration": 2017,
    "start_time": "2022-07-27T12:39:33.466Z"
   },
   {
    "duration": 1490,
    "start_time": "2022-07-28T19:19:24.574Z"
   },
   {
    "duration": 490,
    "start_time": "2022-07-28T19:19:26.066Z"
   },
   {
    "duration": 4,
    "start_time": "2022-07-28T19:19:26.557Z"
   },
   {
    "duration": 36,
    "start_time": "2022-07-28T19:19:26.563Z"
   },
   {
    "duration": 43,
    "start_time": "2022-07-28T19:19:26.601Z"
   },
   {
    "duration": 6,
    "start_time": "2022-07-28T19:19:26.645Z"
   },
   {
    "duration": 34,
    "start_time": "2022-07-28T19:19:26.652Z"
   },
   {
    "duration": 21,
    "start_time": "2022-07-28T19:19:26.688Z"
   },
   {
    "duration": 49,
    "start_time": "2022-07-28T19:19:26.710Z"
   },
   {
    "duration": 30,
    "start_time": "2022-07-28T19:19:26.761Z"
   },
   {
    "duration": 62,
    "start_time": "2022-07-28T19:19:26.793Z"
   },
   {
    "duration": 6,
    "start_time": "2022-07-28T19:19:26.856Z"
   },
   {
    "duration": 8,
    "start_time": "2022-07-28T19:19:26.863Z"
   },
   {
    "duration": 18,
    "start_time": "2022-07-28T19:19:26.873Z"
   },
   {
    "duration": 320,
    "start_time": "2022-07-28T19:19:26.893Z"
   },
   {
    "duration": 6,
    "start_time": "2022-07-28T19:19:27.215Z"
   },
   {
    "duration": 65,
    "start_time": "2022-07-28T19:19:27.222Z"
   },
   {
    "duration": 2306,
    "start_time": "2022-07-28T19:19:27.289Z"
   },
   {
    "duration": 6,
    "start_time": "2022-07-28T19:19:29.597Z"
   },
   {
    "duration": 6,
    "start_time": "2022-07-28T19:19:29.605Z"
   },
   {
    "duration": 6,
    "start_time": "2022-07-28T19:19:29.612Z"
   },
   {
    "duration": 10,
    "start_time": "2022-07-28T19:19:29.619Z"
   },
   {
    "duration": 182,
    "start_time": "2022-07-28T19:19:29.630Z"
   },
   {
    "duration": 6,
    "start_time": "2022-07-28T19:19:29.813Z"
   },
   {
    "duration": 17,
    "start_time": "2022-07-28T19:19:29.821Z"
   },
   {
    "duration": 24,
    "start_time": "2022-07-28T19:19:29.839Z"
   },
   {
    "duration": 163,
    "start_time": "2022-07-28T19:19:29.865Z"
   },
   {
    "duration": 7,
    "start_time": "2022-07-28T19:19:30.032Z"
   },
   {
    "duration": 33,
    "start_time": "2022-07-28T19:19:30.041Z"
   },
   {
    "duration": 1465,
    "start_time": "2022-07-28T19:19:30.075Z"
   },
   {
    "duration": 8,
    "start_time": "2022-07-28T19:19:31.542Z"
   },
   {
    "duration": 15,
    "start_time": "2022-07-28T19:19:31.552Z"
   },
   {
    "duration": 49,
    "start_time": "2022-07-28T19:19:31.568Z"
   },
   {
    "duration": 18,
    "start_time": "2022-07-28T19:19:31.618Z"
   },
   {
    "duration": 11,
    "start_time": "2022-07-28T19:19:31.638Z"
   },
   {
    "duration": 15,
    "start_time": "2022-07-28T19:19:31.651Z"
   },
   {
    "duration": 15,
    "start_time": "2022-07-28T19:19:31.668Z"
   },
   {
    "duration": 10,
    "start_time": "2022-07-28T19:19:31.685Z"
   },
   {
    "duration": 11,
    "start_time": "2022-07-28T19:19:31.697Z"
   },
   {
    "duration": 30,
    "start_time": "2022-07-28T19:19:31.709Z"
   },
   {
    "duration": 2,
    "start_time": "2022-07-28T19:19:31.741Z"
   },
   {
    "duration": 7,
    "start_time": "2022-07-28T19:19:31.745Z"
   },
   {
    "duration": 333,
    "start_time": "2022-07-28T19:19:31.754Z"
   },
   {
    "duration": 0,
    "start_time": "2022-07-28T19:19:32.089Z"
   },
   {
    "duration": 0,
    "start_time": "2022-07-28T19:19:32.091Z"
   },
   {
    "duration": 0,
    "start_time": "2022-07-28T19:19:32.092Z"
   },
   {
    "duration": 0,
    "start_time": "2022-07-28T19:19:32.094Z"
   },
   {
    "duration": 0,
    "start_time": "2022-07-28T19:19:32.096Z"
   },
   {
    "duration": 0,
    "start_time": "2022-07-28T19:19:32.098Z"
   },
   {
    "duration": 0,
    "start_time": "2022-07-28T19:19:32.099Z"
   },
   {
    "duration": 0,
    "start_time": "2022-07-28T19:19:32.100Z"
   },
   {
    "duration": 0,
    "start_time": "2022-07-28T19:19:32.101Z"
   },
   {
    "duration": 0,
    "start_time": "2022-07-28T19:19:32.102Z"
   },
   {
    "duration": 0,
    "start_time": "2022-07-28T19:19:32.103Z"
   },
   {
    "duration": 0,
    "start_time": "2022-07-28T19:19:32.104Z"
   },
   {
    "duration": 0,
    "start_time": "2022-07-28T19:19:32.105Z"
   },
   {
    "duration": 0,
    "start_time": "2022-07-28T19:19:32.106Z"
   },
   {
    "duration": 0,
    "start_time": "2022-07-28T19:19:32.108Z"
   },
   {
    "duration": 0,
    "start_time": "2022-07-28T19:19:32.108Z"
   },
   {
    "duration": 0,
    "start_time": "2022-07-28T19:19:32.110Z"
   },
   {
    "duration": 0,
    "start_time": "2022-07-28T19:19:32.111Z"
   },
   {
    "duration": 0,
    "start_time": "2022-07-28T19:19:32.112Z"
   },
   {
    "duration": 0,
    "start_time": "2022-07-28T19:19:32.113Z"
   },
   {
    "duration": 0,
    "start_time": "2022-07-28T19:19:32.114Z"
   },
   {
    "duration": 0,
    "start_time": "2022-07-28T19:19:32.115Z"
   },
   {
    "duration": 0,
    "start_time": "2022-07-28T19:19:32.116Z"
   },
   {
    "duration": 0,
    "start_time": "2022-07-28T19:19:32.117Z"
   },
   {
    "duration": 0,
    "start_time": "2022-07-28T19:19:32.118Z"
   },
   {
    "duration": 0,
    "start_time": "2022-07-28T19:19:32.119Z"
   },
   {
    "duration": 0,
    "start_time": "2022-07-28T19:19:32.120Z"
   },
   {
    "duration": 0,
    "start_time": "2022-07-28T19:19:32.122Z"
   },
   {
    "duration": 0,
    "start_time": "2022-07-28T19:19:32.123Z"
   },
   {
    "duration": 0,
    "start_time": "2022-07-28T19:19:32.124Z"
   },
   {
    "duration": 25,
    "start_time": "2022-07-28T19:19:57.990Z"
   },
   {
    "duration": 10,
    "start_time": "2022-07-28T19:20:28.090Z"
   },
   {
    "duration": 251,
    "start_time": "2022-08-01T15:43:26.525Z"
   }
  ],
  "kernelspec": {
   "display_name": "Python 3 (ipykernel)",
   "language": "python",
   "name": "python3"
  },
  "language_info": {
   "codemirror_mode": {
    "name": "ipython",
    "version": 3
   },
   "file_extension": ".py",
   "mimetype": "text/x-python",
   "name": "python",
   "nbconvert_exporter": "python",
   "pygments_lexer": "ipython3",
   "version": "3.9.12"
  },
  "toc": {
   "base_numbering": 1,
   "nav_menu": {},
   "number_sections": true,
   "sideBar": true,
   "skip_h1_title": true,
   "title_cell": "Table of Contents",
   "title_sidebar": "Contents",
   "toc_cell": false,
   "toc_position": {},
   "toc_section_display": true,
   "toc_window_display": false
  }
 },
 "nbformat": 4,
 "nbformat_minor": 5
}
