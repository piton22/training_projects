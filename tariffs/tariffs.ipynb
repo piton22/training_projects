{
 "cells": [
  {
   "cell_type": "markdown",
   "metadata": {},
   "source": [
    "# Определение перспективного тарифа для телеком-компании"
   ]
  },
  {
   "cell_type": "markdown",
   "metadata": {},
   "source": [
    "**Описание проекта**\n",
    "\n",
    "В распоряжении данные о 500 пользователях компании-оператора сотовой связи. Компания предлагает клиентам два тарифных плана: «Смарт» и «Ультра». Чтобы скорректировать рекламный бюджет, коммерческий департамент хочет понять, какой тариф приносит больше денег.\n",
    "Проанализировав информацию о пользователях, нужно определить, какой тариф прибыльнее."
   ]
  },
  {
   "cell_type": "markdown",
   "metadata": {},
   "source": [
    "## Изучение данных"
   ]
  },
  {
   "cell_type": "markdown",
   "metadata": {},
   "source": [
    "Импортируем библиотеки и устанавливаем формат вещественных чисел"
   ]
  },
  {
   "cell_type": "code",
   "execution_count": 1,
   "metadata": {},
   "outputs": [],
   "source": [
    "import pandas as pd                                   \n",
    "import numpy as np\n",
    "import matplotlib.pyplot as plt\n",
    "from scipy import stats as st\n",
    "\n",
    "pd.set_option('display.float_format', '{:,.2f}'.format)"
   ]
  },
  {
   "cell_type": "code",
   "execution_count": 2,
   "metadata": {},
   "outputs": [],
   "source": [
    "try:\n",
    "    calls = pd.read_csv('C:\\\\Users\\\\Дмитрий\\\\Desktop\\\\Проекты Я.Практикум\\\\tariffs\\\\calls.csv')\n",
    "    internet = pd.read_csv('C:\\\\Users\\\\Дмитрий\\\\Desktop\\\\Проекты Я.Практикум\\\\tariffs\\\\internet.csv')\n",
    "    messages = pd.read_csv('C:\\\\Users\\\\Дмитрий\\\\Desktop\\\\Проекты Я.Практикум\\\\tariffs\\\\messages.csv')\n",
    "    tariffs = pd.read_csv('C:\\\\Users\\\\Дмитрий\\\\Desktop\\\\Проекты Я.Практикум\\\\tariffs\\\\tariffs.csv')\n",
    "    users = pd.read_csv('C:\\\\Users\\\\Дмитрий\\\\Desktop\\\\Проекты Я.Практикум\\\\tariffs\\\\users.csv')\n",
    "except:\n",
    "    calls = pd.read_csv('/datasets/calls.csv')\n",
    "    internet = pd.read_csv('/datasets/internet.csv')\n",
    "    messages = pd.read_csv('/datasets/messages.csv')\n",
    "    tariffs = pd.read_csv('/datasets/tariffs.csv')\n",
    "    users = pd.read_csv('/datasets/users.csv')"
   ]
  },
  {
   "cell_type": "markdown",
   "metadata": {},
   "source": [
    "Создаем функцию для получения общей информации о таблицах"
   ]
  },
  {
   "cell_type": "code",
   "execution_count": 3,
   "metadata": {},
   "outputs": [],
   "source": [
    "def info(data):\n",
    "    data.info()\n",
    "    display(data.isna().mean())\n",
    "    display(data)"
   ]
  },
  {
   "cell_type": "code",
   "execution_count": 4,
   "metadata": {
    "scrolled": true
   },
   "outputs": [
    {
     "name": "stdout",
     "output_type": "stream",
     "text": [
      "<class 'pandas.core.frame.DataFrame'>\n",
      "RangeIndex: 202607 entries, 0 to 202606\n",
      "Data columns (total 4 columns):\n",
      " #   Column     Non-Null Count   Dtype  \n",
      "---  ------     --------------   -----  \n",
      " 0   id         202607 non-null  object \n",
      " 1   call_date  202607 non-null  object \n",
      " 2   duration   202607 non-null  float64\n",
      " 3   user_id    202607 non-null  int64  \n",
      "dtypes: float64(1), int64(1), object(2)\n",
      "memory usage: 6.2+ MB\n"
     ]
    },
    {
     "data": {
      "text/plain": [
       "id          0.00\n",
       "call_date   0.00\n",
       "duration    0.00\n",
       "user_id     0.00\n",
       "dtype: float64"
      ]
     },
     "metadata": {},
     "output_type": "display_data"
    },
    {
     "data": {
      "text/html": [
       "<div>\n",
       "<style scoped>\n",
       "    .dataframe tbody tr th:only-of-type {\n",
       "        vertical-align: middle;\n",
       "    }\n",
       "\n",
       "    .dataframe tbody tr th {\n",
       "        vertical-align: top;\n",
       "    }\n",
       "\n",
       "    .dataframe thead th {\n",
       "        text-align: right;\n",
       "    }\n",
       "</style>\n",
       "<table border=\"1\" class=\"dataframe\">\n",
       "  <thead>\n",
       "    <tr style=\"text-align: right;\">\n",
       "      <th></th>\n",
       "      <th>id</th>\n",
       "      <th>call_date</th>\n",
       "      <th>duration</th>\n",
       "      <th>user_id</th>\n",
       "    </tr>\n",
       "  </thead>\n",
       "  <tbody>\n",
       "    <tr>\n",
       "      <th>0</th>\n",
       "      <td>1000_0</td>\n",
       "      <td>2018-07-25</td>\n",
       "      <td>0.00</td>\n",
       "      <td>1000</td>\n",
       "    </tr>\n",
       "    <tr>\n",
       "      <th>1</th>\n",
       "      <td>1000_1</td>\n",
       "      <td>2018-08-17</td>\n",
       "      <td>0.00</td>\n",
       "      <td>1000</td>\n",
       "    </tr>\n",
       "    <tr>\n",
       "      <th>2</th>\n",
       "      <td>1000_2</td>\n",
       "      <td>2018-06-11</td>\n",
       "      <td>2.85</td>\n",
       "      <td>1000</td>\n",
       "    </tr>\n",
       "    <tr>\n",
       "      <th>3</th>\n",
       "      <td>1000_3</td>\n",
       "      <td>2018-09-21</td>\n",
       "      <td>13.80</td>\n",
       "      <td>1000</td>\n",
       "    </tr>\n",
       "    <tr>\n",
       "      <th>4</th>\n",
       "      <td>1000_4</td>\n",
       "      <td>2018-12-15</td>\n",
       "      <td>5.18</td>\n",
       "      <td>1000</td>\n",
       "    </tr>\n",
       "    <tr>\n",
       "      <th>...</th>\n",
       "      <td>...</td>\n",
       "      <td>...</td>\n",
       "      <td>...</td>\n",
       "      <td>...</td>\n",
       "    </tr>\n",
       "    <tr>\n",
       "      <th>202602</th>\n",
       "      <td>1499_215</td>\n",
       "      <td>2018-12-26</td>\n",
       "      <td>0.76</td>\n",
       "      <td>1499</td>\n",
       "    </tr>\n",
       "    <tr>\n",
       "      <th>202603</th>\n",
       "      <td>1499_216</td>\n",
       "      <td>2018-10-18</td>\n",
       "      <td>18.83</td>\n",
       "      <td>1499</td>\n",
       "    </tr>\n",
       "    <tr>\n",
       "      <th>202604</th>\n",
       "      <td>1499_217</td>\n",
       "      <td>2018-11-10</td>\n",
       "      <td>10.81</td>\n",
       "      <td>1499</td>\n",
       "    </tr>\n",
       "    <tr>\n",
       "      <th>202605</th>\n",
       "      <td>1499_218</td>\n",
       "      <td>2018-10-06</td>\n",
       "      <td>4.27</td>\n",
       "      <td>1499</td>\n",
       "    </tr>\n",
       "    <tr>\n",
       "      <th>202606</th>\n",
       "      <td>1499_219</td>\n",
       "      <td>2018-12-14</td>\n",
       "      <td>19.62</td>\n",
       "      <td>1499</td>\n",
       "    </tr>\n",
       "  </tbody>\n",
       "</table>\n",
       "<p>202607 rows × 4 columns</p>\n",
       "</div>"
      ],
      "text/plain": [
       "              id   call_date  duration  user_id\n",
       "0         1000_0  2018-07-25      0.00     1000\n",
       "1         1000_1  2018-08-17      0.00     1000\n",
       "2         1000_2  2018-06-11      2.85     1000\n",
       "3         1000_3  2018-09-21     13.80     1000\n",
       "4         1000_4  2018-12-15      5.18     1000\n",
       "...          ...         ...       ...      ...\n",
       "202602  1499_215  2018-12-26      0.76     1499\n",
       "202603  1499_216  2018-10-18     18.83     1499\n",
       "202604  1499_217  2018-11-10     10.81     1499\n",
       "202605  1499_218  2018-10-06      4.27     1499\n",
       "202606  1499_219  2018-12-14     19.62     1499\n",
       "\n",
       "[202607 rows x 4 columns]"
      ]
     },
     "metadata": {},
     "output_type": "display_data"
    }
   ],
   "source": [
    "info(calls)"
   ]
  },
  {
   "cell_type": "code",
   "execution_count": 5,
   "metadata": {},
   "outputs": [
    {
     "name": "stdout",
     "output_type": "stream",
     "text": [
      "<class 'pandas.core.frame.DataFrame'>\n",
      "RangeIndex: 149396 entries, 0 to 149395\n",
      "Data columns (total 5 columns):\n",
      " #   Column        Non-Null Count   Dtype  \n",
      "---  ------        --------------   -----  \n",
      " 0   Unnamed: 0    149396 non-null  int64  \n",
      " 1   id            149396 non-null  object \n",
      " 2   mb_used       149396 non-null  float64\n",
      " 3   session_date  149396 non-null  object \n",
      " 4   user_id       149396 non-null  int64  \n",
      "dtypes: float64(1), int64(2), object(2)\n",
      "memory usage: 5.7+ MB\n"
     ]
    },
    {
     "data": {
      "text/plain": [
       "Unnamed: 0     0.00\n",
       "id             0.00\n",
       "mb_used        0.00\n",
       "session_date   0.00\n",
       "user_id        0.00\n",
       "dtype: float64"
      ]
     },
     "metadata": {},
     "output_type": "display_data"
    },
    {
     "data": {
      "text/html": [
       "<div>\n",
       "<style scoped>\n",
       "    .dataframe tbody tr th:only-of-type {\n",
       "        vertical-align: middle;\n",
       "    }\n",
       "\n",
       "    .dataframe tbody tr th {\n",
       "        vertical-align: top;\n",
       "    }\n",
       "\n",
       "    .dataframe thead th {\n",
       "        text-align: right;\n",
       "    }\n",
       "</style>\n",
       "<table border=\"1\" class=\"dataframe\">\n",
       "  <thead>\n",
       "    <tr style=\"text-align: right;\">\n",
       "      <th></th>\n",
       "      <th>Unnamed: 0</th>\n",
       "      <th>id</th>\n",
       "      <th>mb_used</th>\n",
       "      <th>session_date</th>\n",
       "      <th>user_id</th>\n",
       "    </tr>\n",
       "  </thead>\n",
       "  <tbody>\n",
       "    <tr>\n",
       "      <th>0</th>\n",
       "      <td>0</td>\n",
       "      <td>1000_0</td>\n",
       "      <td>112.95</td>\n",
       "      <td>2018-11-25</td>\n",
       "      <td>1000</td>\n",
       "    </tr>\n",
       "    <tr>\n",
       "      <th>1</th>\n",
       "      <td>1</td>\n",
       "      <td>1000_1</td>\n",
       "      <td>1,052.81</td>\n",
       "      <td>2018-09-07</td>\n",
       "      <td>1000</td>\n",
       "    </tr>\n",
       "    <tr>\n",
       "      <th>2</th>\n",
       "      <td>2</td>\n",
       "      <td>1000_2</td>\n",
       "      <td>1,197.26</td>\n",
       "      <td>2018-06-25</td>\n",
       "      <td>1000</td>\n",
       "    </tr>\n",
       "    <tr>\n",
       "      <th>3</th>\n",
       "      <td>3</td>\n",
       "      <td>1000_3</td>\n",
       "      <td>550.27</td>\n",
       "      <td>2018-08-22</td>\n",
       "      <td>1000</td>\n",
       "    </tr>\n",
       "    <tr>\n",
       "      <th>4</th>\n",
       "      <td>4</td>\n",
       "      <td>1000_4</td>\n",
       "      <td>302.56</td>\n",
       "      <td>2018-09-24</td>\n",
       "      <td>1000</td>\n",
       "    </tr>\n",
       "    <tr>\n",
       "      <th>...</th>\n",
       "      <td>...</td>\n",
       "      <td>...</td>\n",
       "      <td>...</td>\n",
       "      <td>...</td>\n",
       "      <td>...</td>\n",
       "    </tr>\n",
       "    <tr>\n",
       "      <th>149391</th>\n",
       "      <td>149391</td>\n",
       "      <td>1499_152</td>\n",
       "      <td>318.90</td>\n",
       "      <td>2018-10-03</td>\n",
       "      <td>1499</td>\n",
       "    </tr>\n",
       "    <tr>\n",
       "      <th>149392</th>\n",
       "      <td>149392</td>\n",
       "      <td>1499_153</td>\n",
       "      <td>490.13</td>\n",
       "      <td>2018-12-14</td>\n",
       "      <td>1499</td>\n",
       "    </tr>\n",
       "    <tr>\n",
       "      <th>149393</th>\n",
       "      <td>149393</td>\n",
       "      <td>1499_154</td>\n",
       "      <td>0.00</td>\n",
       "      <td>2018-10-27</td>\n",
       "      <td>1499</td>\n",
       "    </tr>\n",
       "    <tr>\n",
       "      <th>149394</th>\n",
       "      <td>149394</td>\n",
       "      <td>1499_155</td>\n",
       "      <td>1,246.32</td>\n",
       "      <td>2018-11-26</td>\n",
       "      <td>1499</td>\n",
       "    </tr>\n",
       "    <tr>\n",
       "      <th>149395</th>\n",
       "      <td>149395</td>\n",
       "      <td>1499_156</td>\n",
       "      <td>544.37</td>\n",
       "      <td>2018-10-26</td>\n",
       "      <td>1499</td>\n",
       "    </tr>\n",
       "  </tbody>\n",
       "</table>\n",
       "<p>149396 rows × 5 columns</p>\n",
       "</div>"
      ],
      "text/plain": [
       "        Unnamed: 0        id  mb_used session_date  user_id\n",
       "0                0    1000_0   112.95   2018-11-25     1000\n",
       "1                1    1000_1 1,052.81   2018-09-07     1000\n",
       "2                2    1000_2 1,197.26   2018-06-25     1000\n",
       "3                3    1000_3   550.27   2018-08-22     1000\n",
       "4                4    1000_4   302.56   2018-09-24     1000\n",
       "...            ...       ...      ...          ...      ...\n",
       "149391      149391  1499_152   318.90   2018-10-03     1499\n",
       "149392      149392  1499_153   490.13   2018-12-14     1499\n",
       "149393      149393  1499_154     0.00   2018-10-27     1499\n",
       "149394      149394  1499_155 1,246.32   2018-11-26     1499\n",
       "149395      149395  1499_156   544.37   2018-10-26     1499\n",
       "\n",
       "[149396 rows x 5 columns]"
      ]
     },
     "metadata": {},
     "output_type": "display_data"
    }
   ],
   "source": [
    "info(internet)"
   ]
  },
  {
   "cell_type": "code",
   "execution_count": 6,
   "metadata": {},
   "outputs": [
    {
     "name": "stdout",
     "output_type": "stream",
     "text": [
      "<class 'pandas.core.frame.DataFrame'>\n",
      "RangeIndex: 123036 entries, 0 to 123035\n",
      "Data columns (total 3 columns):\n",
      " #   Column        Non-Null Count   Dtype \n",
      "---  ------        --------------   ----- \n",
      " 0   id            123036 non-null  object\n",
      " 1   message_date  123036 non-null  object\n",
      " 2   user_id       123036 non-null  int64 \n",
      "dtypes: int64(1), object(2)\n",
      "memory usage: 2.8+ MB\n"
     ]
    },
    {
     "data": {
      "text/plain": [
       "id             0.00\n",
       "message_date   0.00\n",
       "user_id        0.00\n",
       "dtype: float64"
      ]
     },
     "metadata": {},
     "output_type": "display_data"
    },
    {
     "data": {
      "text/html": [
       "<div>\n",
       "<style scoped>\n",
       "    .dataframe tbody tr th:only-of-type {\n",
       "        vertical-align: middle;\n",
       "    }\n",
       "\n",
       "    .dataframe tbody tr th {\n",
       "        vertical-align: top;\n",
       "    }\n",
       "\n",
       "    .dataframe thead th {\n",
       "        text-align: right;\n",
       "    }\n",
       "</style>\n",
       "<table border=\"1\" class=\"dataframe\">\n",
       "  <thead>\n",
       "    <tr style=\"text-align: right;\">\n",
       "      <th></th>\n",
       "      <th>id</th>\n",
       "      <th>message_date</th>\n",
       "      <th>user_id</th>\n",
       "    </tr>\n",
       "  </thead>\n",
       "  <tbody>\n",
       "    <tr>\n",
       "      <th>0</th>\n",
       "      <td>1000_0</td>\n",
       "      <td>2018-06-27</td>\n",
       "      <td>1000</td>\n",
       "    </tr>\n",
       "    <tr>\n",
       "      <th>1</th>\n",
       "      <td>1000_1</td>\n",
       "      <td>2018-10-08</td>\n",
       "      <td>1000</td>\n",
       "    </tr>\n",
       "    <tr>\n",
       "      <th>2</th>\n",
       "      <td>1000_2</td>\n",
       "      <td>2018-08-04</td>\n",
       "      <td>1000</td>\n",
       "    </tr>\n",
       "    <tr>\n",
       "      <th>3</th>\n",
       "      <td>1000_3</td>\n",
       "      <td>2018-06-16</td>\n",
       "      <td>1000</td>\n",
       "    </tr>\n",
       "    <tr>\n",
       "      <th>4</th>\n",
       "      <td>1000_4</td>\n",
       "      <td>2018-12-05</td>\n",
       "      <td>1000</td>\n",
       "    </tr>\n",
       "    <tr>\n",
       "      <th>...</th>\n",
       "      <td>...</td>\n",
       "      <td>...</td>\n",
       "      <td>...</td>\n",
       "    </tr>\n",
       "    <tr>\n",
       "      <th>123031</th>\n",
       "      <td>1499_179</td>\n",
       "      <td>2018-12-12</td>\n",
       "      <td>1499</td>\n",
       "    </tr>\n",
       "    <tr>\n",
       "      <th>123032</th>\n",
       "      <td>1499_180</td>\n",
       "      <td>2018-09-28</td>\n",
       "      <td>1499</td>\n",
       "    </tr>\n",
       "    <tr>\n",
       "      <th>123033</th>\n",
       "      <td>1499_181</td>\n",
       "      <td>2018-09-27</td>\n",
       "      <td>1499</td>\n",
       "    </tr>\n",
       "    <tr>\n",
       "      <th>123034</th>\n",
       "      <td>1499_182</td>\n",
       "      <td>2018-11-15</td>\n",
       "      <td>1499</td>\n",
       "    </tr>\n",
       "    <tr>\n",
       "      <th>123035</th>\n",
       "      <td>1499_183</td>\n",
       "      <td>2018-11-16</td>\n",
       "      <td>1499</td>\n",
       "    </tr>\n",
       "  </tbody>\n",
       "</table>\n",
       "<p>123036 rows × 3 columns</p>\n",
       "</div>"
      ],
      "text/plain": [
       "              id message_date  user_id\n",
       "0         1000_0   2018-06-27     1000\n",
       "1         1000_1   2018-10-08     1000\n",
       "2         1000_2   2018-08-04     1000\n",
       "3         1000_3   2018-06-16     1000\n",
       "4         1000_4   2018-12-05     1000\n",
       "...          ...          ...      ...\n",
       "123031  1499_179   2018-12-12     1499\n",
       "123032  1499_180   2018-09-28     1499\n",
       "123033  1499_181   2018-09-27     1499\n",
       "123034  1499_182   2018-11-15     1499\n",
       "123035  1499_183   2018-11-16     1499\n",
       "\n",
       "[123036 rows x 3 columns]"
      ]
     },
     "metadata": {},
     "output_type": "display_data"
    }
   ],
   "source": [
    "info(messages)"
   ]
  },
  {
   "cell_type": "code",
   "execution_count": 7,
   "metadata": {
    "scrolled": true
   },
   "outputs": [
    {
     "name": "stdout",
     "output_type": "stream",
     "text": [
      "<class 'pandas.core.frame.DataFrame'>\n",
      "RangeIndex: 2 entries, 0 to 1\n",
      "Data columns (total 8 columns):\n",
      " #   Column                 Non-Null Count  Dtype \n",
      "---  ------                 --------------  ----- \n",
      " 0   messages_included      2 non-null      int64 \n",
      " 1   mb_per_month_included  2 non-null      int64 \n",
      " 2   minutes_included       2 non-null      int64 \n",
      " 3   rub_monthly_fee        2 non-null      int64 \n",
      " 4   rub_per_gb             2 non-null      int64 \n",
      " 5   rub_per_message        2 non-null      int64 \n",
      " 6   rub_per_minute         2 non-null      int64 \n",
      " 7   tariff_name            2 non-null      object\n",
      "dtypes: int64(7), object(1)\n",
      "memory usage: 256.0+ bytes\n"
     ]
    },
    {
     "data": {
      "text/plain": [
       "messages_included       0.00\n",
       "mb_per_month_included   0.00\n",
       "minutes_included        0.00\n",
       "rub_monthly_fee         0.00\n",
       "rub_per_gb              0.00\n",
       "rub_per_message         0.00\n",
       "rub_per_minute          0.00\n",
       "tariff_name             0.00\n",
       "dtype: float64"
      ]
     },
     "metadata": {},
     "output_type": "display_data"
    },
    {
     "data": {
      "text/html": [
       "<div>\n",
       "<style scoped>\n",
       "    .dataframe tbody tr th:only-of-type {\n",
       "        vertical-align: middle;\n",
       "    }\n",
       "\n",
       "    .dataframe tbody tr th {\n",
       "        vertical-align: top;\n",
       "    }\n",
       "\n",
       "    .dataframe thead th {\n",
       "        text-align: right;\n",
       "    }\n",
       "</style>\n",
       "<table border=\"1\" class=\"dataframe\">\n",
       "  <thead>\n",
       "    <tr style=\"text-align: right;\">\n",
       "      <th></th>\n",
       "      <th>messages_included</th>\n",
       "      <th>mb_per_month_included</th>\n",
       "      <th>minutes_included</th>\n",
       "      <th>rub_monthly_fee</th>\n",
       "      <th>rub_per_gb</th>\n",
       "      <th>rub_per_message</th>\n",
       "      <th>rub_per_minute</th>\n",
       "      <th>tariff_name</th>\n",
       "    </tr>\n",
       "  </thead>\n",
       "  <tbody>\n",
       "    <tr>\n",
       "      <th>0</th>\n",
       "      <td>50</td>\n",
       "      <td>15360</td>\n",
       "      <td>500</td>\n",
       "      <td>550</td>\n",
       "      <td>200</td>\n",
       "      <td>3</td>\n",
       "      <td>3</td>\n",
       "      <td>smart</td>\n",
       "    </tr>\n",
       "    <tr>\n",
       "      <th>1</th>\n",
       "      <td>1000</td>\n",
       "      <td>30720</td>\n",
       "      <td>3000</td>\n",
       "      <td>1950</td>\n",
       "      <td>150</td>\n",
       "      <td>1</td>\n",
       "      <td>1</td>\n",
       "      <td>ultra</td>\n",
       "    </tr>\n",
       "  </tbody>\n",
       "</table>\n",
       "</div>"
      ],
      "text/plain": [
       "   messages_included  mb_per_month_included  minutes_included  \\\n",
       "0                 50                  15360               500   \n",
       "1               1000                  30720              3000   \n",
       "\n",
       "   rub_monthly_fee  rub_per_gb  rub_per_message  rub_per_minute tariff_name  \n",
       "0              550         200                3               3       smart  \n",
       "1             1950         150                1               1       ultra  "
      ]
     },
     "metadata": {},
     "output_type": "display_data"
    }
   ],
   "source": [
    "info(tariffs)"
   ]
  },
  {
   "cell_type": "code",
   "execution_count": 8,
   "metadata": {
    "scrolled": false
   },
   "outputs": [
    {
     "name": "stdout",
     "output_type": "stream",
     "text": [
      "<class 'pandas.core.frame.DataFrame'>\n",
      "RangeIndex: 500 entries, 0 to 499\n",
      "Data columns (total 8 columns):\n",
      " #   Column      Non-Null Count  Dtype \n",
      "---  ------      --------------  ----- \n",
      " 0   user_id     500 non-null    int64 \n",
      " 1   age         500 non-null    int64 \n",
      " 2   churn_date  38 non-null     object\n",
      " 3   city        500 non-null    object\n",
      " 4   first_name  500 non-null    object\n",
      " 5   last_name   500 non-null    object\n",
      " 6   reg_date    500 non-null    object\n",
      " 7   tariff      500 non-null    object\n",
      "dtypes: int64(2), object(6)\n",
      "memory usage: 31.4+ KB\n"
     ]
    },
    {
     "data": {
      "text/plain": [
       "user_id      0.00\n",
       "age          0.00\n",
       "churn_date   0.92\n",
       "city         0.00\n",
       "first_name   0.00\n",
       "last_name    0.00\n",
       "reg_date     0.00\n",
       "tariff       0.00\n",
       "dtype: float64"
      ]
     },
     "metadata": {},
     "output_type": "display_data"
    },
    {
     "data": {
      "text/html": [
       "<div>\n",
       "<style scoped>\n",
       "    .dataframe tbody tr th:only-of-type {\n",
       "        vertical-align: middle;\n",
       "    }\n",
       "\n",
       "    .dataframe tbody tr th {\n",
       "        vertical-align: top;\n",
       "    }\n",
       "\n",
       "    .dataframe thead th {\n",
       "        text-align: right;\n",
       "    }\n",
       "</style>\n",
       "<table border=\"1\" class=\"dataframe\">\n",
       "  <thead>\n",
       "    <tr style=\"text-align: right;\">\n",
       "      <th></th>\n",
       "      <th>user_id</th>\n",
       "      <th>age</th>\n",
       "      <th>churn_date</th>\n",
       "      <th>city</th>\n",
       "      <th>first_name</th>\n",
       "      <th>last_name</th>\n",
       "      <th>reg_date</th>\n",
       "      <th>tariff</th>\n",
       "    </tr>\n",
       "  </thead>\n",
       "  <tbody>\n",
       "    <tr>\n",
       "      <th>0</th>\n",
       "      <td>1000</td>\n",
       "      <td>52</td>\n",
       "      <td>NaN</td>\n",
       "      <td>Краснодар</td>\n",
       "      <td>Рафаил</td>\n",
       "      <td>Верещагин</td>\n",
       "      <td>2018-05-25</td>\n",
       "      <td>ultra</td>\n",
       "    </tr>\n",
       "    <tr>\n",
       "      <th>1</th>\n",
       "      <td>1001</td>\n",
       "      <td>41</td>\n",
       "      <td>NaN</td>\n",
       "      <td>Москва</td>\n",
       "      <td>Иван</td>\n",
       "      <td>Ежов</td>\n",
       "      <td>2018-11-01</td>\n",
       "      <td>smart</td>\n",
       "    </tr>\n",
       "    <tr>\n",
       "      <th>2</th>\n",
       "      <td>1002</td>\n",
       "      <td>59</td>\n",
       "      <td>NaN</td>\n",
       "      <td>Стерлитамак</td>\n",
       "      <td>Евгений</td>\n",
       "      <td>Абрамович</td>\n",
       "      <td>2018-06-17</td>\n",
       "      <td>smart</td>\n",
       "    </tr>\n",
       "    <tr>\n",
       "      <th>3</th>\n",
       "      <td>1003</td>\n",
       "      <td>23</td>\n",
       "      <td>NaN</td>\n",
       "      <td>Москва</td>\n",
       "      <td>Белла</td>\n",
       "      <td>Белякова</td>\n",
       "      <td>2018-08-17</td>\n",
       "      <td>ultra</td>\n",
       "    </tr>\n",
       "    <tr>\n",
       "      <th>4</th>\n",
       "      <td>1004</td>\n",
       "      <td>68</td>\n",
       "      <td>NaN</td>\n",
       "      <td>Новокузнецк</td>\n",
       "      <td>Татьяна</td>\n",
       "      <td>Авдеенко</td>\n",
       "      <td>2018-05-14</td>\n",
       "      <td>ultra</td>\n",
       "    </tr>\n",
       "    <tr>\n",
       "      <th>...</th>\n",
       "      <td>...</td>\n",
       "      <td>...</td>\n",
       "      <td>...</td>\n",
       "      <td>...</td>\n",
       "      <td>...</td>\n",
       "      <td>...</td>\n",
       "      <td>...</td>\n",
       "      <td>...</td>\n",
       "    </tr>\n",
       "    <tr>\n",
       "      <th>495</th>\n",
       "      <td>1495</td>\n",
       "      <td>65</td>\n",
       "      <td>NaN</td>\n",
       "      <td>Иркутск</td>\n",
       "      <td>Авксентий</td>\n",
       "      <td>Фокин</td>\n",
       "      <td>2018-08-28</td>\n",
       "      <td>ultra</td>\n",
       "    </tr>\n",
       "    <tr>\n",
       "      <th>496</th>\n",
       "      <td>1496</td>\n",
       "      <td>36</td>\n",
       "      <td>NaN</td>\n",
       "      <td>Вологда</td>\n",
       "      <td>Трифон</td>\n",
       "      <td>Блохин</td>\n",
       "      <td>2018-01-27</td>\n",
       "      <td>smart</td>\n",
       "    </tr>\n",
       "    <tr>\n",
       "      <th>497</th>\n",
       "      <td>1497</td>\n",
       "      <td>32</td>\n",
       "      <td>NaN</td>\n",
       "      <td>Челябинск</td>\n",
       "      <td>Каролина</td>\n",
       "      <td>Агеева</td>\n",
       "      <td>2018-10-09</td>\n",
       "      <td>smart</td>\n",
       "    </tr>\n",
       "    <tr>\n",
       "      <th>498</th>\n",
       "      <td>1498</td>\n",
       "      <td>68</td>\n",
       "      <td>2018-10-25</td>\n",
       "      <td>Владикавказ</td>\n",
       "      <td>Всеволод</td>\n",
       "      <td>Акимчин</td>\n",
       "      <td>2018-07-19</td>\n",
       "      <td>smart</td>\n",
       "    </tr>\n",
       "    <tr>\n",
       "      <th>499</th>\n",
       "      <td>1499</td>\n",
       "      <td>35</td>\n",
       "      <td>NaN</td>\n",
       "      <td>Пермь</td>\n",
       "      <td>Гектор</td>\n",
       "      <td>Корнилов</td>\n",
       "      <td>2018-09-27</td>\n",
       "      <td>smart</td>\n",
       "    </tr>\n",
       "  </tbody>\n",
       "</table>\n",
       "<p>500 rows × 8 columns</p>\n",
       "</div>"
      ],
      "text/plain": [
       "     user_id  age  churn_date         city first_name  last_name    reg_date  \\\n",
       "0       1000   52         NaN    Краснодар     Рафаил  Верещагин  2018-05-25   \n",
       "1       1001   41         NaN       Москва       Иван       Ежов  2018-11-01   \n",
       "2       1002   59         NaN  Стерлитамак    Евгений  Абрамович  2018-06-17   \n",
       "3       1003   23         NaN       Москва      Белла   Белякова  2018-08-17   \n",
       "4       1004   68         NaN  Новокузнецк    Татьяна   Авдеенко  2018-05-14   \n",
       "..       ...  ...         ...          ...        ...        ...         ...   \n",
       "495     1495   65         NaN      Иркутск  Авксентий      Фокин  2018-08-28   \n",
       "496     1496   36         NaN      Вологда     Трифон     Блохин  2018-01-27   \n",
       "497     1497   32         NaN    Челябинск   Каролина     Агеева  2018-10-09   \n",
       "498     1498   68  2018-10-25  Владикавказ   Всеволод    Акимчин  2018-07-19   \n",
       "499     1499   35         NaN        Пермь     Гектор   Корнилов  2018-09-27   \n",
       "\n",
       "    tariff  \n",
       "0    ultra  \n",
       "1    smart  \n",
       "2    smart  \n",
       "3    ultra  \n",
       "4    ultra  \n",
       "..     ...  \n",
       "495  ultra  \n",
       "496  smart  \n",
       "497  smart  \n",
       "498  smart  \n",
       "499  smart  \n",
       "\n",
       "[500 rows x 8 columns]"
      ]
     },
     "metadata": {},
     "output_type": "display_data"
    }
   ],
   "source": [
    "info(users)"
   ]
  },
  {
   "cell_type": "markdown",
   "metadata": {},
   "source": [
    "**Вывод об исходных данных:**\n",
    "\n",
    "* Необходимые для работы данные содержатся в 5 таблицах, их нужно объединить.\n",
    "\n",
    "* В каждой таблице даты имеют строчный формат, нужно перевести в формат даты.\n",
    "\n",
    "* Пропуски есть только в столбце churn_date (дата прекращения пользования тарифом). Пропуски означают, что пользователь все еще использует услуги связи. Поэтому не заполняем и не удаляем пропуски.\n",
    "\n",
    "* Необходимо округлить каждое значение длительности разговора до минут и суммарный трафик за месяц до Гб, т.к. плата взимается за минуты и Гб.\n",
    "\n",
    "* Необходимо определить месяц использования каждой услуги и вынести в отдельный столбец.\n",
    "\n",
    "* Необходимо сгруппировать таблицы с услугами (минуты, Гб и сообщения) по пользователю и месяцу, чтобы упростить работу с таблицами и исследование.\n"
   ]
  },
  {
   "cell_type": "markdown",
   "metadata": {},
   "source": [
    "## Предобработка данных"
   ]
  },
  {
   "cell_type": "code",
   "execution_count": 9,
   "metadata": {
    "scrolled": true
   },
   "outputs": [
    {
     "data": {
      "text/html": [
       "<div>\n",
       "<style scoped>\n",
       "    .dataframe tbody tr th:only-of-type {\n",
       "        vertical-align: middle;\n",
       "    }\n",
       "\n",
       "    .dataframe tbody tr th {\n",
       "        vertical-align: top;\n",
       "    }\n",
       "\n",
       "    .dataframe thead th {\n",
       "        text-align: right;\n",
       "    }\n",
       "</style>\n",
       "<table border=\"1\" class=\"dataframe\">\n",
       "  <thead>\n",
       "    <tr style=\"text-align: right;\">\n",
       "      <th></th>\n",
       "      <th>user_id</th>\n",
       "      <th>month</th>\n",
       "      <th>calls</th>\n",
       "      <th>calls_duration</th>\n",
       "    </tr>\n",
       "  </thead>\n",
       "  <tbody>\n",
       "    <tr>\n",
       "      <th>0</th>\n",
       "      <td>1000</td>\n",
       "      <td>5</td>\n",
       "      <td>22</td>\n",
       "      <td>159</td>\n",
       "    </tr>\n",
       "    <tr>\n",
       "      <th>1</th>\n",
       "      <td>1000</td>\n",
       "      <td>6</td>\n",
       "      <td>43</td>\n",
       "      <td>172</td>\n",
       "    </tr>\n",
       "    <tr>\n",
       "      <th>2</th>\n",
       "      <td>1000</td>\n",
       "      <td>7</td>\n",
       "      <td>47</td>\n",
       "      <td>340</td>\n",
       "    </tr>\n",
       "    <tr>\n",
       "      <th>3</th>\n",
       "      <td>1000</td>\n",
       "      <td>8</td>\n",
       "      <td>52</td>\n",
       "      <td>408</td>\n",
       "    </tr>\n",
       "    <tr>\n",
       "      <th>4</th>\n",
       "      <td>1000</td>\n",
       "      <td>9</td>\n",
       "      <td>58</td>\n",
       "      <td>466</td>\n",
       "    </tr>\n",
       "    <tr>\n",
       "      <th>...</th>\n",
       "      <td>...</td>\n",
       "      <td>...</td>\n",
       "      <td>...</td>\n",
       "      <td>...</td>\n",
       "    </tr>\n",
       "    <tr>\n",
       "      <th>3169</th>\n",
       "      <td>1498</td>\n",
       "      <td>10</td>\n",
       "      <td>41</td>\n",
       "      <td>247</td>\n",
       "    </tr>\n",
       "    <tr>\n",
       "      <th>3170</th>\n",
       "      <td>1499</td>\n",
       "      <td>9</td>\n",
       "      <td>9</td>\n",
       "      <td>70</td>\n",
       "    </tr>\n",
       "    <tr>\n",
       "      <th>3171</th>\n",
       "      <td>1499</td>\n",
       "      <td>10</td>\n",
       "      <td>68</td>\n",
       "      <td>449</td>\n",
       "    </tr>\n",
       "    <tr>\n",
       "      <th>3172</th>\n",
       "      <td>1499</td>\n",
       "      <td>11</td>\n",
       "      <td>74</td>\n",
       "      <td>612</td>\n",
       "    </tr>\n",
       "    <tr>\n",
       "      <th>3173</th>\n",
       "      <td>1499</td>\n",
       "      <td>12</td>\n",
       "      <td>69</td>\n",
       "      <td>492</td>\n",
       "    </tr>\n",
       "  </tbody>\n",
       "</table>\n",
       "<p>3174 rows × 4 columns</p>\n",
       "</div>"
      ],
      "text/plain": [
       "      user_id  month  calls  calls_duration\n",
       "0        1000      5     22             159\n",
       "1        1000      6     43             172\n",
       "2        1000      7     47             340\n",
       "3        1000      8     52             408\n",
       "4        1000      9     58             466\n",
       "...       ...    ...    ...             ...\n",
       "3169     1498     10     41             247\n",
       "3170     1499      9      9              70\n",
       "3171     1499     10     68             449\n",
       "3172     1499     11     74             612\n",
       "3173     1499     12     69             492\n",
       "\n",
       "[3174 rows x 4 columns]"
      ]
     },
     "metadata": {},
     "output_type": "display_data"
    }
   ],
   "source": [
    "#переводим дату из строчного формата в формат даты\n",
    "calls['call_date'] = pd.to_datetime(calls['call_date'], format='%Y-%m-%d')\n",
    "#добавляем столбец с месяцем для последующей группировки\n",
    "calls['month'] = pd.DatetimeIndex(calls['call_date']).month\n",
    "#округляем длительность каждого звонка вверх до минуты\n",
    "calls['duration'] = np.ceil(calls['duration']).astype('int') \n",
    "#группируем таблицу по пользователю и месяцу\n",
    "calls_monthly = calls.pivot_table(index=['user_id', 'month'], \n",
    "                                  values = 'duration',\n",
    "                                  aggfunc=['count','sum']).reset_index()\n",
    "\n",
    "#заменяем двухуровневые названия столбцов на обычные\n",
    "calls_monthly.columns = ['user_id', 'month', 'calls', 'calls_duration']\n",
    "display(calls_monthly)\n"
   ]
  },
  {
   "cell_type": "code",
   "execution_count": 10,
   "metadata": {},
   "outputs": [
    {
     "data": {
      "text/html": [
       "<div>\n",
       "<style scoped>\n",
       "    .dataframe tbody tr th:only-of-type {\n",
       "        vertical-align: middle;\n",
       "    }\n",
       "\n",
       "    .dataframe tbody tr th {\n",
       "        vertical-align: top;\n",
       "    }\n",
       "\n",
       "    .dataframe thead th {\n",
       "        text-align: right;\n",
       "    }\n",
       "</style>\n",
       "<table border=\"1\" class=\"dataframe\">\n",
       "  <thead>\n",
       "    <tr style=\"text-align: right;\">\n",
       "      <th></th>\n",
       "      <th>Unnamed: 0</th>\n",
       "      <th>id</th>\n",
       "      <th>mb_used</th>\n",
       "      <th>session_date</th>\n",
       "      <th>user_id</th>\n",
       "      <th>month</th>\n",
       "      <th>gb_used</th>\n",
       "    </tr>\n",
       "  </thead>\n",
       "  <tbody>\n",
       "    <tr>\n",
       "      <th>0</th>\n",
       "      <td>0</td>\n",
       "      <td>1000_0</td>\n",
       "      <td>112.95</td>\n",
       "      <td>2018-11-25</td>\n",
       "      <td>1000</td>\n",
       "      <td>11</td>\n",
       "      <td>0.11</td>\n",
       "    </tr>\n",
       "    <tr>\n",
       "      <th>1</th>\n",
       "      <td>1</td>\n",
       "      <td>1000_1</td>\n",
       "      <td>1,052.81</td>\n",
       "      <td>2018-09-07</td>\n",
       "      <td>1000</td>\n",
       "      <td>9</td>\n",
       "      <td>1.03</td>\n",
       "    </tr>\n",
       "    <tr>\n",
       "      <th>2</th>\n",
       "      <td>2</td>\n",
       "      <td>1000_2</td>\n",
       "      <td>1,197.26</td>\n",
       "      <td>2018-06-25</td>\n",
       "      <td>1000</td>\n",
       "      <td>6</td>\n",
       "      <td>1.17</td>\n",
       "    </tr>\n",
       "    <tr>\n",
       "      <th>3</th>\n",
       "      <td>3</td>\n",
       "      <td>1000_3</td>\n",
       "      <td>550.27</td>\n",
       "      <td>2018-08-22</td>\n",
       "      <td>1000</td>\n",
       "      <td>8</td>\n",
       "      <td>0.54</td>\n",
       "    </tr>\n",
       "    <tr>\n",
       "      <th>4</th>\n",
       "      <td>4</td>\n",
       "      <td>1000_4</td>\n",
       "      <td>302.56</td>\n",
       "      <td>2018-09-24</td>\n",
       "      <td>1000</td>\n",
       "      <td>9</td>\n",
       "      <td>0.30</td>\n",
       "    </tr>\n",
       "    <tr>\n",
       "      <th>...</th>\n",
       "      <td>...</td>\n",
       "      <td>...</td>\n",
       "      <td>...</td>\n",
       "      <td>...</td>\n",
       "      <td>...</td>\n",
       "      <td>...</td>\n",
       "      <td>...</td>\n",
       "    </tr>\n",
       "    <tr>\n",
       "      <th>149391</th>\n",
       "      <td>149391</td>\n",
       "      <td>1499_152</td>\n",
       "      <td>318.90</td>\n",
       "      <td>2018-10-03</td>\n",
       "      <td>1499</td>\n",
       "      <td>10</td>\n",
       "      <td>0.31</td>\n",
       "    </tr>\n",
       "    <tr>\n",
       "      <th>149392</th>\n",
       "      <td>149392</td>\n",
       "      <td>1499_153</td>\n",
       "      <td>490.13</td>\n",
       "      <td>2018-12-14</td>\n",
       "      <td>1499</td>\n",
       "      <td>12</td>\n",
       "      <td>0.48</td>\n",
       "    </tr>\n",
       "    <tr>\n",
       "      <th>149393</th>\n",
       "      <td>149393</td>\n",
       "      <td>1499_154</td>\n",
       "      <td>0.00</td>\n",
       "      <td>2018-10-27</td>\n",
       "      <td>1499</td>\n",
       "      <td>10</td>\n",
       "      <td>0.00</td>\n",
       "    </tr>\n",
       "    <tr>\n",
       "      <th>149394</th>\n",
       "      <td>149394</td>\n",
       "      <td>1499_155</td>\n",
       "      <td>1,246.32</td>\n",
       "      <td>2018-11-26</td>\n",
       "      <td>1499</td>\n",
       "      <td>11</td>\n",
       "      <td>1.22</td>\n",
       "    </tr>\n",
       "    <tr>\n",
       "      <th>149395</th>\n",
       "      <td>149395</td>\n",
       "      <td>1499_156</td>\n",
       "      <td>544.37</td>\n",
       "      <td>2018-10-26</td>\n",
       "      <td>1499</td>\n",
       "      <td>10</td>\n",
       "      <td>0.53</td>\n",
       "    </tr>\n",
       "  </tbody>\n",
       "</table>\n",
       "<p>149396 rows × 7 columns</p>\n",
       "</div>"
      ],
      "text/plain": [
       "        Unnamed: 0        id  mb_used session_date  user_id  month  gb_used\n",
       "0                0    1000_0   112.95   2018-11-25     1000     11     0.11\n",
       "1                1    1000_1 1,052.81   2018-09-07     1000      9     1.03\n",
       "2                2    1000_2 1,197.26   2018-06-25     1000      6     1.17\n",
       "3                3    1000_3   550.27   2018-08-22     1000      8     0.54\n",
       "4                4    1000_4   302.56   2018-09-24     1000      9     0.30\n",
       "...            ...       ...      ...          ...      ...    ...      ...\n",
       "149391      149391  1499_152   318.90   2018-10-03     1499     10     0.31\n",
       "149392      149392  1499_153   490.13   2018-12-14     1499     12     0.48\n",
       "149393      149393  1499_154     0.00   2018-10-27     1499     10     0.00\n",
       "149394      149394  1499_155 1,246.32   2018-11-26     1499     11     1.22\n",
       "149395      149395  1499_156   544.37   2018-10-26     1499     10     0.53\n",
       "\n",
       "[149396 rows x 7 columns]"
      ]
     },
     "metadata": {},
     "output_type": "display_data"
    }
   ],
   "source": [
    "#переводим дату в правильный формат и добавляем столбец с месяцем\n",
    "internet['session_date'] = pd.to_datetime(internet['session_date'], format='%Y-%m-%d')\n",
    "internet['month'] = pd.DatetimeIndex(internet['session_date']).month\n",
    "#округляем мб до Гб\n",
    "internet['gb_used'] = internet['mb_used']/1024\n",
    "display(internet)"
   ]
  },
  {
   "cell_type": "code",
   "execution_count": 11,
   "metadata": {
    "scrolled": true
   },
   "outputs": [
    {
     "data": {
      "text/html": [
       "<div>\n",
       "<style scoped>\n",
       "    .dataframe tbody tr th:only-of-type {\n",
       "        vertical-align: middle;\n",
       "    }\n",
       "\n",
       "    .dataframe tbody tr th {\n",
       "        vertical-align: top;\n",
       "    }\n",
       "\n",
       "    .dataframe thead th {\n",
       "        text-align: right;\n",
       "    }\n",
       "</style>\n",
       "<table border=\"1\" class=\"dataframe\">\n",
       "  <thead>\n",
       "    <tr style=\"text-align: right;\">\n",
       "      <th></th>\n",
       "      <th>user_id</th>\n",
       "      <th>month</th>\n",
       "      <th>gb_used</th>\n",
       "    </tr>\n",
       "  </thead>\n",
       "  <tbody>\n",
       "    <tr>\n",
       "      <th>0</th>\n",
       "      <td>1000</td>\n",
       "      <td>5</td>\n",
       "      <td>3.00</td>\n",
       "    </tr>\n",
       "    <tr>\n",
       "      <th>1</th>\n",
       "      <td>1000</td>\n",
       "      <td>6</td>\n",
       "      <td>23.00</td>\n",
       "    </tr>\n",
       "    <tr>\n",
       "      <th>2</th>\n",
       "      <td>1000</td>\n",
       "      <td>7</td>\n",
       "      <td>14.00</td>\n",
       "    </tr>\n",
       "    <tr>\n",
       "      <th>3</th>\n",
       "      <td>1000</td>\n",
       "      <td>8</td>\n",
       "      <td>14.00</td>\n",
       "    </tr>\n",
       "    <tr>\n",
       "      <th>4</th>\n",
       "      <td>1000</td>\n",
       "      <td>9</td>\n",
       "      <td>15.00</td>\n",
       "    </tr>\n",
       "    <tr>\n",
       "      <th>...</th>\n",
       "      <td>...</td>\n",
       "      <td>...</td>\n",
       "      <td>...</td>\n",
       "    </tr>\n",
       "    <tr>\n",
       "      <th>3198</th>\n",
       "      <td>1498</td>\n",
       "      <td>10</td>\n",
       "      <td>21.00</td>\n",
       "    </tr>\n",
       "    <tr>\n",
       "      <th>3199</th>\n",
       "      <td>1499</td>\n",
       "      <td>9</td>\n",
       "      <td>2.00</td>\n",
       "    </tr>\n",
       "    <tr>\n",
       "      <th>3200</th>\n",
       "      <td>1499</td>\n",
       "      <td>10</td>\n",
       "      <td>18.00</td>\n",
       "    </tr>\n",
       "    <tr>\n",
       "      <th>3201</th>\n",
       "      <td>1499</td>\n",
       "      <td>11</td>\n",
       "      <td>18.00</td>\n",
       "    </tr>\n",
       "    <tr>\n",
       "      <th>3202</th>\n",
       "      <td>1499</td>\n",
       "      <td>12</td>\n",
       "      <td>13.00</td>\n",
       "    </tr>\n",
       "  </tbody>\n",
       "</table>\n",
       "<p>3203 rows × 3 columns</p>\n",
       "</div>"
      ],
      "text/plain": [
       "      user_id  month  gb_used\n",
       "0        1000      5     3.00\n",
       "1        1000      6    23.00\n",
       "2        1000      7    14.00\n",
       "3        1000      8    14.00\n",
       "4        1000      9    15.00\n",
       "...       ...    ...      ...\n",
       "3198     1498     10    21.00\n",
       "3199     1499      9     2.00\n",
       "3200     1499     10    18.00\n",
       "3201     1499     11    18.00\n",
       "3202     1499     12    13.00\n",
       "\n",
       "[3203 rows x 3 columns]"
      ]
     },
     "metadata": {},
     "output_type": "display_data"
    }
   ],
   "source": [
    "#группируем таблицу по пользователю и месяцу\n",
    "internet_monthly = internet.pivot_table(index=['user_id', 'month'],\n",
    "                                        values = 'gb_used',\n",
    "                                        aggfunc='sum').reset_index()\n",
    "\n",
    "#округляем потраченное за месяц количество Гб вверх до целого\n",
    "internet_monthly['gb_used'] = np.ceil(internet_monthly['gb_used'])\n",
    "display(internet_monthly)"
   ]
  },
  {
   "cell_type": "code",
   "execution_count": 12,
   "metadata": {},
   "outputs": [
    {
     "data": {
      "text/html": [
       "<div>\n",
       "<style scoped>\n",
       "    .dataframe tbody tr th:only-of-type {\n",
       "        vertical-align: middle;\n",
       "    }\n",
       "\n",
       "    .dataframe tbody tr th {\n",
       "        vertical-align: top;\n",
       "    }\n",
       "\n",
       "    .dataframe thead th {\n",
       "        text-align: right;\n",
       "    }\n",
       "</style>\n",
       "<table border=\"1\" class=\"dataframe\">\n",
       "  <thead>\n",
       "    <tr style=\"text-align: right;\">\n",
       "      <th></th>\n",
       "      <th>id</th>\n",
       "      <th>message_date</th>\n",
       "      <th>user_id</th>\n",
       "      <th>month</th>\n",
       "    </tr>\n",
       "  </thead>\n",
       "  <tbody>\n",
       "    <tr>\n",
       "      <th>0</th>\n",
       "      <td>1000_0</td>\n",
       "      <td>2018-06-27</td>\n",
       "      <td>1000</td>\n",
       "      <td>6</td>\n",
       "    </tr>\n",
       "    <tr>\n",
       "      <th>1</th>\n",
       "      <td>1000_1</td>\n",
       "      <td>2018-10-08</td>\n",
       "      <td>1000</td>\n",
       "      <td>10</td>\n",
       "    </tr>\n",
       "    <tr>\n",
       "      <th>2</th>\n",
       "      <td>1000_2</td>\n",
       "      <td>2018-08-04</td>\n",
       "      <td>1000</td>\n",
       "      <td>8</td>\n",
       "    </tr>\n",
       "    <tr>\n",
       "      <th>3</th>\n",
       "      <td>1000_3</td>\n",
       "      <td>2018-06-16</td>\n",
       "      <td>1000</td>\n",
       "      <td>6</td>\n",
       "    </tr>\n",
       "    <tr>\n",
       "      <th>4</th>\n",
       "      <td>1000_4</td>\n",
       "      <td>2018-12-05</td>\n",
       "      <td>1000</td>\n",
       "      <td>12</td>\n",
       "    </tr>\n",
       "    <tr>\n",
       "      <th>...</th>\n",
       "      <td>...</td>\n",
       "      <td>...</td>\n",
       "      <td>...</td>\n",
       "      <td>...</td>\n",
       "    </tr>\n",
       "    <tr>\n",
       "      <th>123031</th>\n",
       "      <td>1499_179</td>\n",
       "      <td>2018-12-12</td>\n",
       "      <td>1499</td>\n",
       "      <td>12</td>\n",
       "    </tr>\n",
       "    <tr>\n",
       "      <th>123032</th>\n",
       "      <td>1499_180</td>\n",
       "      <td>2018-09-28</td>\n",
       "      <td>1499</td>\n",
       "      <td>9</td>\n",
       "    </tr>\n",
       "    <tr>\n",
       "      <th>123033</th>\n",
       "      <td>1499_181</td>\n",
       "      <td>2018-09-27</td>\n",
       "      <td>1499</td>\n",
       "      <td>9</td>\n",
       "    </tr>\n",
       "    <tr>\n",
       "      <th>123034</th>\n",
       "      <td>1499_182</td>\n",
       "      <td>2018-11-15</td>\n",
       "      <td>1499</td>\n",
       "      <td>11</td>\n",
       "    </tr>\n",
       "    <tr>\n",
       "      <th>123035</th>\n",
       "      <td>1499_183</td>\n",
       "      <td>2018-11-16</td>\n",
       "      <td>1499</td>\n",
       "      <td>11</td>\n",
       "    </tr>\n",
       "  </tbody>\n",
       "</table>\n",
       "<p>123036 rows × 4 columns</p>\n",
       "</div>"
      ],
      "text/plain": [
       "              id message_date  user_id  month\n",
       "0         1000_0   2018-06-27     1000      6\n",
       "1         1000_1   2018-10-08     1000     10\n",
       "2         1000_2   2018-08-04     1000      8\n",
       "3         1000_3   2018-06-16     1000      6\n",
       "4         1000_4   2018-12-05     1000     12\n",
       "...          ...          ...      ...    ...\n",
       "123031  1499_179   2018-12-12     1499     12\n",
       "123032  1499_180   2018-09-28     1499      9\n",
       "123033  1499_181   2018-09-27     1499      9\n",
       "123034  1499_182   2018-11-15     1499     11\n",
       "123035  1499_183   2018-11-16     1499     11\n",
       "\n",
       "[123036 rows x 4 columns]"
      ]
     },
     "metadata": {},
     "output_type": "display_data"
    }
   ],
   "source": [
    "#переводим дату в правильный формат и добавляем столбец с месяцем\n",
    "messages['message_date'] = pd.to_datetime(messages['message_date'], format='%Y-%m-%d')\n",
    "messages['month'] = pd.DatetimeIndex(messages['message_date']).month\n",
    "display(messages)"
   ]
  },
  {
   "cell_type": "code",
   "execution_count": 13,
   "metadata": {},
   "outputs": [
    {
     "data": {
      "text/html": [
       "<div>\n",
       "<style scoped>\n",
       "    .dataframe tbody tr th:only-of-type {\n",
       "        vertical-align: middle;\n",
       "    }\n",
       "\n",
       "    .dataframe tbody tr th {\n",
       "        vertical-align: top;\n",
       "    }\n",
       "\n",
       "    .dataframe thead th {\n",
       "        text-align: right;\n",
       "    }\n",
       "</style>\n",
       "<table border=\"1\" class=\"dataframe\">\n",
       "  <thead>\n",
       "    <tr style=\"text-align: right;\">\n",
       "      <th></th>\n",
       "      <th>user_id</th>\n",
       "      <th>month</th>\n",
       "      <th>id</th>\n",
       "    </tr>\n",
       "  </thead>\n",
       "  <tbody>\n",
       "    <tr>\n",
       "      <th>0</th>\n",
       "      <td>1000</td>\n",
       "      <td>5</td>\n",
       "      <td>22</td>\n",
       "    </tr>\n",
       "    <tr>\n",
       "      <th>1</th>\n",
       "      <td>1000</td>\n",
       "      <td>6</td>\n",
       "      <td>60</td>\n",
       "    </tr>\n",
       "    <tr>\n",
       "      <th>2</th>\n",
       "      <td>1000</td>\n",
       "      <td>7</td>\n",
       "      <td>75</td>\n",
       "    </tr>\n",
       "    <tr>\n",
       "      <th>3</th>\n",
       "      <td>1000</td>\n",
       "      <td>8</td>\n",
       "      <td>81</td>\n",
       "    </tr>\n",
       "    <tr>\n",
       "      <th>4</th>\n",
       "      <td>1000</td>\n",
       "      <td>9</td>\n",
       "      <td>57</td>\n",
       "    </tr>\n",
       "    <tr>\n",
       "      <th>...</th>\n",
       "      <td>...</td>\n",
       "      <td>...</td>\n",
       "      <td>...</td>\n",
       "    </tr>\n",
       "    <tr>\n",
       "      <th>2712</th>\n",
       "      <td>1498</td>\n",
       "      <td>10</td>\n",
       "      <td>42</td>\n",
       "    </tr>\n",
       "    <tr>\n",
       "      <th>2713</th>\n",
       "      <td>1499</td>\n",
       "      <td>9</td>\n",
       "      <td>11</td>\n",
       "    </tr>\n",
       "    <tr>\n",
       "      <th>2714</th>\n",
       "      <td>1499</td>\n",
       "      <td>10</td>\n",
       "      <td>48</td>\n",
       "    </tr>\n",
       "    <tr>\n",
       "      <th>2715</th>\n",
       "      <td>1499</td>\n",
       "      <td>11</td>\n",
       "      <td>59</td>\n",
       "    </tr>\n",
       "    <tr>\n",
       "      <th>2716</th>\n",
       "      <td>1499</td>\n",
       "      <td>12</td>\n",
       "      <td>66</td>\n",
       "    </tr>\n",
       "  </tbody>\n",
       "</table>\n",
       "<p>2717 rows × 3 columns</p>\n",
       "</div>"
      ],
      "text/plain": [
       "      user_id  month  id\n",
       "0        1000      5  22\n",
       "1        1000      6  60\n",
       "2        1000      7  75\n",
       "3        1000      8  81\n",
       "4        1000      9  57\n",
       "...       ...    ...  ..\n",
       "2712     1498     10  42\n",
       "2713     1499      9  11\n",
       "2714     1499     10  48\n",
       "2715     1499     11  59\n",
       "2716     1499     12  66\n",
       "\n",
       "[2717 rows x 3 columns]"
      ]
     },
     "metadata": {},
     "output_type": "display_data"
    }
   ],
   "source": [
    "#группируем таблицу по пользователю и месяцу\n",
    "messages_monthly = messages.pivot_table(index=['user_id', 'month'], values='id', aggfunc='count').reset_index()\n",
    "display(messages_monthly)"
   ]
  },
  {
   "cell_type": "code",
   "execution_count": 14,
   "metadata": {
    "scrolled": true
   },
   "outputs": [
    {
     "data": {
      "text/html": [
       "<div>\n",
       "<style scoped>\n",
       "    .dataframe tbody tr th:only-of-type {\n",
       "        vertical-align: middle;\n",
       "    }\n",
       "\n",
       "    .dataframe tbody tr th {\n",
       "        vertical-align: top;\n",
       "    }\n",
       "\n",
       "    .dataframe thead th {\n",
       "        text-align: right;\n",
       "    }\n",
       "</style>\n",
       "<table border=\"1\" class=\"dataframe\">\n",
       "  <thead>\n",
       "    <tr style=\"text-align: right;\">\n",
       "      <th></th>\n",
       "      <th>user_id</th>\n",
       "      <th>month</th>\n",
       "      <th>messages</th>\n",
       "    </tr>\n",
       "  </thead>\n",
       "  <tbody>\n",
       "    <tr>\n",
       "      <th>0</th>\n",
       "      <td>1000</td>\n",
       "      <td>5</td>\n",
       "      <td>22</td>\n",
       "    </tr>\n",
       "    <tr>\n",
       "      <th>1</th>\n",
       "      <td>1000</td>\n",
       "      <td>6</td>\n",
       "      <td>60</td>\n",
       "    </tr>\n",
       "    <tr>\n",
       "      <th>2</th>\n",
       "      <td>1000</td>\n",
       "      <td>7</td>\n",
       "      <td>75</td>\n",
       "    </tr>\n",
       "    <tr>\n",
       "      <th>3</th>\n",
       "      <td>1000</td>\n",
       "      <td>8</td>\n",
       "      <td>81</td>\n",
       "    </tr>\n",
       "    <tr>\n",
       "      <th>4</th>\n",
       "      <td>1000</td>\n",
       "      <td>9</td>\n",
       "      <td>57</td>\n",
       "    </tr>\n",
       "    <tr>\n",
       "      <th>...</th>\n",
       "      <td>...</td>\n",
       "      <td>...</td>\n",
       "      <td>...</td>\n",
       "    </tr>\n",
       "    <tr>\n",
       "      <th>2712</th>\n",
       "      <td>1498</td>\n",
       "      <td>10</td>\n",
       "      <td>42</td>\n",
       "    </tr>\n",
       "    <tr>\n",
       "      <th>2713</th>\n",
       "      <td>1499</td>\n",
       "      <td>9</td>\n",
       "      <td>11</td>\n",
       "    </tr>\n",
       "    <tr>\n",
       "      <th>2714</th>\n",
       "      <td>1499</td>\n",
       "      <td>10</td>\n",
       "      <td>48</td>\n",
       "    </tr>\n",
       "    <tr>\n",
       "      <th>2715</th>\n",
       "      <td>1499</td>\n",
       "      <td>11</td>\n",
       "      <td>59</td>\n",
       "    </tr>\n",
       "    <tr>\n",
       "      <th>2716</th>\n",
       "      <td>1499</td>\n",
       "      <td>12</td>\n",
       "      <td>66</td>\n",
       "    </tr>\n",
       "  </tbody>\n",
       "</table>\n",
       "<p>2717 rows × 3 columns</p>\n",
       "</div>"
      ],
      "text/plain": [
       "      user_id  month  messages\n",
       "0        1000      5        22\n",
       "1        1000      6        60\n",
       "2        1000      7        75\n",
       "3        1000      8        81\n",
       "4        1000      9        57\n",
       "...       ...    ...       ...\n",
       "2712     1498     10        42\n",
       "2713     1499      9        11\n",
       "2714     1499     10        48\n",
       "2715     1499     11        59\n",
       "2716     1499     12        66\n",
       "\n",
       "[2717 rows x 3 columns]"
      ]
     },
     "metadata": {},
     "output_type": "display_data"
    }
   ],
   "source": [
    "#заменяем столбец id на messages (количество сообщений за месяц)\n",
    "messages_monthly.columns = ['user_id', 'month', 'messages']\n",
    "display(messages_monthly)"
   ]
  },
  {
   "cell_type": "markdown",
   "metadata": {},
   "source": [
    "Объединяем таблицы способом `outer`, чтобы не потерять пользователей, которые использовали не все услуги."
   ]
  },
  {
   "cell_type": "code",
   "execution_count": 15,
   "metadata": {
    "scrolled": true
   },
   "outputs": [
    {
     "data": {
      "text/html": [
       "<div>\n",
       "<style scoped>\n",
       "    .dataframe tbody tr th:only-of-type {\n",
       "        vertical-align: middle;\n",
       "    }\n",
       "\n",
       "    .dataframe tbody tr th {\n",
       "        vertical-align: top;\n",
       "    }\n",
       "\n",
       "    .dataframe thead th {\n",
       "        text-align: right;\n",
       "    }\n",
       "</style>\n",
       "<table border=\"1\" class=\"dataframe\">\n",
       "  <thead>\n",
       "    <tr style=\"text-align: right;\">\n",
       "      <th></th>\n",
       "      <th>user_id</th>\n",
       "      <th>month</th>\n",
       "      <th>calls</th>\n",
       "      <th>calls_duration</th>\n",
       "      <th>gb_used</th>\n",
       "      <th>messages</th>\n",
       "      <th>age</th>\n",
       "      <th>churn_date</th>\n",
       "      <th>city</th>\n",
       "      <th>first_name</th>\n",
       "      <th>last_name</th>\n",
       "      <th>reg_date</th>\n",
       "      <th>tariff</th>\n",
       "    </tr>\n",
       "  </thead>\n",
       "  <tbody>\n",
       "    <tr>\n",
       "      <th>0</th>\n",
       "      <td>1000</td>\n",
       "      <td>5.00</td>\n",
       "      <td>22.00</td>\n",
       "      <td>159.00</td>\n",
       "      <td>3.00</td>\n",
       "      <td>22.00</td>\n",
       "      <td>52</td>\n",
       "      <td>NaN</td>\n",
       "      <td>Краснодар</td>\n",
       "      <td>Рафаил</td>\n",
       "      <td>Верещагин</td>\n",
       "      <td>2018-05-25</td>\n",
       "      <td>ultra</td>\n",
       "    </tr>\n",
       "    <tr>\n",
       "      <th>1</th>\n",
       "      <td>1000</td>\n",
       "      <td>6.00</td>\n",
       "      <td>43.00</td>\n",
       "      <td>172.00</td>\n",
       "      <td>23.00</td>\n",
       "      <td>60.00</td>\n",
       "      <td>52</td>\n",
       "      <td>NaN</td>\n",
       "      <td>Краснодар</td>\n",
       "      <td>Рафаил</td>\n",
       "      <td>Верещагин</td>\n",
       "      <td>2018-05-25</td>\n",
       "      <td>ultra</td>\n",
       "    </tr>\n",
       "    <tr>\n",
       "      <th>2</th>\n",
       "      <td>1000</td>\n",
       "      <td>7.00</td>\n",
       "      <td>47.00</td>\n",
       "      <td>340.00</td>\n",
       "      <td>14.00</td>\n",
       "      <td>75.00</td>\n",
       "      <td>52</td>\n",
       "      <td>NaN</td>\n",
       "      <td>Краснодар</td>\n",
       "      <td>Рафаил</td>\n",
       "      <td>Верещагин</td>\n",
       "      <td>2018-05-25</td>\n",
       "      <td>ultra</td>\n",
       "    </tr>\n",
       "    <tr>\n",
       "      <th>3</th>\n",
       "      <td>1000</td>\n",
       "      <td>8.00</td>\n",
       "      <td>52.00</td>\n",
       "      <td>408.00</td>\n",
       "      <td>14.00</td>\n",
       "      <td>81.00</td>\n",
       "      <td>52</td>\n",
       "      <td>NaN</td>\n",
       "      <td>Краснодар</td>\n",
       "      <td>Рафаил</td>\n",
       "      <td>Верещагин</td>\n",
       "      <td>2018-05-25</td>\n",
       "      <td>ultra</td>\n",
       "    </tr>\n",
       "    <tr>\n",
       "      <th>4</th>\n",
       "      <td>1000</td>\n",
       "      <td>9.00</td>\n",
       "      <td>58.00</td>\n",
       "      <td>466.00</td>\n",
       "      <td>15.00</td>\n",
       "      <td>57.00</td>\n",
       "      <td>52</td>\n",
       "      <td>NaN</td>\n",
       "      <td>Краснодар</td>\n",
       "      <td>Рафаил</td>\n",
       "      <td>Верещагин</td>\n",
       "      <td>2018-05-25</td>\n",
       "      <td>ultra</td>\n",
       "    </tr>\n",
       "    <tr>\n",
       "      <th>...</th>\n",
       "      <td>...</td>\n",
       "      <td>...</td>\n",
       "      <td>...</td>\n",
       "      <td>...</td>\n",
       "      <td>...</td>\n",
       "      <td>...</td>\n",
       "      <td>...</td>\n",
       "      <td>...</td>\n",
       "      <td>...</td>\n",
       "      <td>...</td>\n",
       "      <td>...</td>\n",
       "      <td>...</td>\n",
       "      <td>...</td>\n",
       "    </tr>\n",
       "    <tr>\n",
       "      <th>3211</th>\n",
       "      <td>1489</td>\n",
       "      <td>10.00</td>\n",
       "      <td>NaN</td>\n",
       "      <td>NaN</td>\n",
       "      <td>20.00</td>\n",
       "      <td>21.00</td>\n",
       "      <td>35</td>\n",
       "      <td>NaN</td>\n",
       "      <td>Санкт-Петербург</td>\n",
       "      <td>Павел</td>\n",
       "      <td>Гончаров</td>\n",
       "      <td>2018-08-15</td>\n",
       "      <td>smart</td>\n",
       "    </tr>\n",
       "    <tr>\n",
       "      <th>3212</th>\n",
       "      <td>1489</td>\n",
       "      <td>11.00</td>\n",
       "      <td>NaN</td>\n",
       "      <td>NaN</td>\n",
       "      <td>18.00</td>\n",
       "      <td>20.00</td>\n",
       "      <td>35</td>\n",
       "      <td>NaN</td>\n",
       "      <td>Санкт-Петербург</td>\n",
       "      <td>Павел</td>\n",
       "      <td>Гончаров</td>\n",
       "      <td>2018-08-15</td>\n",
       "      <td>smart</td>\n",
       "    </tr>\n",
       "    <tr>\n",
       "      <th>3213</th>\n",
       "      <td>1489</td>\n",
       "      <td>12.00</td>\n",
       "      <td>NaN</td>\n",
       "      <td>NaN</td>\n",
       "      <td>17.00</td>\n",
       "      <td>35.00</td>\n",
       "      <td>35</td>\n",
       "      <td>NaN</td>\n",
       "      <td>Санкт-Петербург</td>\n",
       "      <td>Павел</td>\n",
       "      <td>Гончаров</td>\n",
       "      <td>2018-08-15</td>\n",
       "      <td>smart</td>\n",
       "    </tr>\n",
       "    <tr>\n",
       "      <th>3214</th>\n",
       "      <td>1128</td>\n",
       "      <td>NaN</td>\n",
       "      <td>NaN</td>\n",
       "      <td>NaN</td>\n",
       "      <td>NaN</td>\n",
       "      <td>NaN</td>\n",
       "      <td>51</td>\n",
       "      <td>2018-12-23</td>\n",
       "      <td>Волжский</td>\n",
       "      <td>Ксения</td>\n",
       "      <td>Агаева</td>\n",
       "      <td>2018-12-15</td>\n",
       "      <td>ultra</td>\n",
       "    </tr>\n",
       "    <tr>\n",
       "      <th>3215</th>\n",
       "      <td>1371</td>\n",
       "      <td>NaN</td>\n",
       "      <td>NaN</td>\n",
       "      <td>NaN</td>\n",
       "      <td>NaN</td>\n",
       "      <td>NaN</td>\n",
       "      <td>50</td>\n",
       "      <td>2018-12-30</td>\n",
       "      <td>Омск</td>\n",
       "      <td>Ириней</td>\n",
       "      <td>Трофимов</td>\n",
       "      <td>2018-12-25</td>\n",
       "      <td>smart</td>\n",
       "    </tr>\n",
       "  </tbody>\n",
       "</table>\n",
       "<p>3216 rows × 13 columns</p>\n",
       "</div>"
      ],
      "text/plain": [
       "      user_id  month  calls  calls_duration  gb_used  messages  age  \\\n",
       "0        1000   5.00  22.00          159.00     3.00     22.00   52   \n",
       "1        1000   6.00  43.00          172.00    23.00     60.00   52   \n",
       "2        1000   7.00  47.00          340.00    14.00     75.00   52   \n",
       "3        1000   8.00  52.00          408.00    14.00     81.00   52   \n",
       "4        1000   9.00  58.00          466.00    15.00     57.00   52   \n",
       "...       ...    ...    ...             ...      ...       ...  ...   \n",
       "3211     1489  10.00    NaN             NaN    20.00     21.00   35   \n",
       "3212     1489  11.00    NaN             NaN    18.00     20.00   35   \n",
       "3213     1489  12.00    NaN             NaN    17.00     35.00   35   \n",
       "3214     1128    NaN    NaN             NaN      NaN       NaN   51   \n",
       "3215     1371    NaN    NaN             NaN      NaN       NaN   50   \n",
       "\n",
       "      churn_date             city first_name  last_name    reg_date tariff  \n",
       "0            NaN        Краснодар     Рафаил  Верещагин  2018-05-25  ultra  \n",
       "1            NaN        Краснодар     Рафаил  Верещагин  2018-05-25  ultra  \n",
       "2            NaN        Краснодар     Рафаил  Верещагин  2018-05-25  ultra  \n",
       "3            NaN        Краснодар     Рафаил  Верещагин  2018-05-25  ultra  \n",
       "4            NaN        Краснодар     Рафаил  Верещагин  2018-05-25  ultra  \n",
       "...          ...              ...        ...        ...         ...    ...  \n",
       "3211         NaN  Санкт-Петербург      Павел   Гончаров  2018-08-15  smart  \n",
       "3212         NaN  Санкт-Петербург      Павел   Гончаров  2018-08-15  smart  \n",
       "3213         NaN  Санкт-Петербург      Павел   Гончаров  2018-08-15  smart  \n",
       "3214  2018-12-23         Волжский     Ксения     Агаева  2018-12-15  ultra  \n",
       "3215  2018-12-30             Омск     Ириней   Трофимов  2018-12-25  smart  \n",
       "\n",
       "[3216 rows x 13 columns]"
      ]
     },
     "metadata": {},
     "output_type": "display_data"
    }
   ],
   "source": [
    "data = calls_monthly.merge(internet_monthly, on=['user_id', 'month'], how='outer')\n",
    "data = data.merge(messages_monthly,  on=['user_id', 'month'], how='outer')\n",
    "data = data.merge(users, on='user_id', how='outer')\n",
    "display(data)"
   ]
  },
  {
   "cell_type": "code",
   "execution_count": 16,
   "metadata": {},
   "outputs": [],
   "source": [
    "#переводим дату в правильный формат\n",
    "data['reg_date'] = pd.to_datetime(data['reg_date'], format='%Y-%m-%d')"
   ]
  },
  {
   "cell_type": "code",
   "execution_count": 17,
   "metadata": {
    "scrolled": true
   },
   "outputs": [
    {
     "data": {
      "text/html": [
       "<div>\n",
       "<style scoped>\n",
       "    .dataframe tbody tr th:only-of-type {\n",
       "        vertical-align: middle;\n",
       "    }\n",
       "\n",
       "    .dataframe tbody tr th {\n",
       "        vertical-align: top;\n",
       "    }\n",
       "\n",
       "    .dataframe thead th {\n",
       "        text-align: right;\n",
       "    }\n",
       "</style>\n",
       "<table border=\"1\" class=\"dataframe\">\n",
       "  <thead>\n",
       "    <tr style=\"text-align: right;\">\n",
       "      <th></th>\n",
       "      <th>user_id</th>\n",
       "      <th>month</th>\n",
       "      <th>calls</th>\n",
       "      <th>calls_duration</th>\n",
       "      <th>gb_used</th>\n",
       "      <th>messages</th>\n",
       "      <th>age</th>\n",
       "      <th>churn_date</th>\n",
       "      <th>city</th>\n",
       "      <th>first_name</th>\n",
       "      <th>last_name</th>\n",
       "      <th>reg_date</th>\n",
       "      <th>tariff</th>\n",
       "    </tr>\n",
       "  </thead>\n",
       "  <tbody>\n",
       "    <tr>\n",
       "      <th>0</th>\n",
       "      <td>1000</td>\n",
       "      <td>5.00</td>\n",
       "      <td>22.00</td>\n",
       "      <td>159.00</td>\n",
       "      <td>3.00</td>\n",
       "      <td>22.00</td>\n",
       "      <td>52</td>\n",
       "      <td>NaN</td>\n",
       "      <td>Краснодар</td>\n",
       "      <td>Рафаил</td>\n",
       "      <td>Верещагин</td>\n",
       "      <td>2018-05-25</td>\n",
       "      <td>ultra</td>\n",
       "    </tr>\n",
       "    <tr>\n",
       "      <th>1</th>\n",
       "      <td>1000</td>\n",
       "      <td>6.00</td>\n",
       "      <td>43.00</td>\n",
       "      <td>172.00</td>\n",
       "      <td>23.00</td>\n",
       "      <td>60.00</td>\n",
       "      <td>52</td>\n",
       "      <td>NaN</td>\n",
       "      <td>Краснодар</td>\n",
       "      <td>Рафаил</td>\n",
       "      <td>Верещагин</td>\n",
       "      <td>2018-05-25</td>\n",
       "      <td>ultra</td>\n",
       "    </tr>\n",
       "    <tr>\n",
       "      <th>2</th>\n",
       "      <td>1000</td>\n",
       "      <td>7.00</td>\n",
       "      <td>47.00</td>\n",
       "      <td>340.00</td>\n",
       "      <td>14.00</td>\n",
       "      <td>75.00</td>\n",
       "      <td>52</td>\n",
       "      <td>NaN</td>\n",
       "      <td>Краснодар</td>\n",
       "      <td>Рафаил</td>\n",
       "      <td>Верещагин</td>\n",
       "      <td>2018-05-25</td>\n",
       "      <td>ultra</td>\n",
       "    </tr>\n",
       "    <tr>\n",
       "      <th>3</th>\n",
       "      <td>1000</td>\n",
       "      <td>8.00</td>\n",
       "      <td>52.00</td>\n",
       "      <td>408.00</td>\n",
       "      <td>14.00</td>\n",
       "      <td>81.00</td>\n",
       "      <td>52</td>\n",
       "      <td>NaN</td>\n",
       "      <td>Краснодар</td>\n",
       "      <td>Рафаил</td>\n",
       "      <td>Верещагин</td>\n",
       "      <td>2018-05-25</td>\n",
       "      <td>ultra</td>\n",
       "    </tr>\n",
       "    <tr>\n",
       "      <th>4</th>\n",
       "      <td>1000</td>\n",
       "      <td>9.00</td>\n",
       "      <td>58.00</td>\n",
       "      <td>466.00</td>\n",
       "      <td>15.00</td>\n",
       "      <td>57.00</td>\n",
       "      <td>52</td>\n",
       "      <td>NaN</td>\n",
       "      <td>Краснодар</td>\n",
       "      <td>Рафаил</td>\n",
       "      <td>Верещагин</td>\n",
       "      <td>2018-05-25</td>\n",
       "      <td>ultra</td>\n",
       "    </tr>\n",
       "    <tr>\n",
       "      <th>...</th>\n",
       "      <td>...</td>\n",
       "      <td>...</td>\n",
       "      <td>...</td>\n",
       "      <td>...</td>\n",
       "      <td>...</td>\n",
       "      <td>...</td>\n",
       "      <td>...</td>\n",
       "      <td>...</td>\n",
       "      <td>...</td>\n",
       "      <td>...</td>\n",
       "      <td>...</td>\n",
       "      <td>...</td>\n",
       "      <td>...</td>\n",
       "    </tr>\n",
       "    <tr>\n",
       "      <th>3211</th>\n",
       "      <td>1489</td>\n",
       "      <td>10.00</td>\n",
       "      <td>NaN</td>\n",
       "      <td>NaN</td>\n",
       "      <td>20.00</td>\n",
       "      <td>21.00</td>\n",
       "      <td>35</td>\n",
       "      <td>NaN</td>\n",
       "      <td>Санкт-Петербург</td>\n",
       "      <td>Павел</td>\n",
       "      <td>Гончаров</td>\n",
       "      <td>2018-08-15</td>\n",
       "      <td>smart</td>\n",
       "    </tr>\n",
       "    <tr>\n",
       "      <th>3212</th>\n",
       "      <td>1489</td>\n",
       "      <td>11.00</td>\n",
       "      <td>NaN</td>\n",
       "      <td>NaN</td>\n",
       "      <td>18.00</td>\n",
       "      <td>20.00</td>\n",
       "      <td>35</td>\n",
       "      <td>NaN</td>\n",
       "      <td>Санкт-Петербург</td>\n",
       "      <td>Павел</td>\n",
       "      <td>Гончаров</td>\n",
       "      <td>2018-08-15</td>\n",
       "      <td>smart</td>\n",
       "    </tr>\n",
       "    <tr>\n",
       "      <th>3213</th>\n",
       "      <td>1489</td>\n",
       "      <td>12.00</td>\n",
       "      <td>NaN</td>\n",
       "      <td>NaN</td>\n",
       "      <td>17.00</td>\n",
       "      <td>35.00</td>\n",
       "      <td>35</td>\n",
       "      <td>NaN</td>\n",
       "      <td>Санкт-Петербург</td>\n",
       "      <td>Павел</td>\n",
       "      <td>Гончаров</td>\n",
       "      <td>2018-08-15</td>\n",
       "      <td>smart</td>\n",
       "    </tr>\n",
       "    <tr>\n",
       "      <th>3214</th>\n",
       "      <td>1128</td>\n",
       "      <td>NaN</td>\n",
       "      <td>NaN</td>\n",
       "      <td>NaN</td>\n",
       "      <td>NaN</td>\n",
       "      <td>NaN</td>\n",
       "      <td>51</td>\n",
       "      <td>2018-12-23</td>\n",
       "      <td>Волжский</td>\n",
       "      <td>Ксения</td>\n",
       "      <td>Агаева</td>\n",
       "      <td>2018-12-15</td>\n",
       "      <td>ultra</td>\n",
       "    </tr>\n",
       "    <tr>\n",
       "      <th>3215</th>\n",
       "      <td>1371</td>\n",
       "      <td>NaN</td>\n",
       "      <td>NaN</td>\n",
       "      <td>NaN</td>\n",
       "      <td>NaN</td>\n",
       "      <td>NaN</td>\n",
       "      <td>50</td>\n",
       "      <td>2018-12-30</td>\n",
       "      <td>Омск</td>\n",
       "      <td>Ириней</td>\n",
       "      <td>Трофимов</td>\n",
       "      <td>2018-12-25</td>\n",
       "      <td>smart</td>\n",
       "    </tr>\n",
       "  </tbody>\n",
       "</table>\n",
       "<p>3216 rows × 13 columns</p>\n",
       "</div>"
      ],
      "text/plain": [
       "      user_id  month  calls  calls_duration  gb_used  messages  age  \\\n",
       "0        1000   5.00  22.00          159.00     3.00     22.00   52   \n",
       "1        1000   6.00  43.00          172.00    23.00     60.00   52   \n",
       "2        1000   7.00  47.00          340.00    14.00     75.00   52   \n",
       "3        1000   8.00  52.00          408.00    14.00     81.00   52   \n",
       "4        1000   9.00  58.00          466.00    15.00     57.00   52   \n",
       "...       ...    ...    ...             ...      ...       ...  ...   \n",
       "3211     1489  10.00    NaN             NaN    20.00     21.00   35   \n",
       "3212     1489  11.00    NaN             NaN    18.00     20.00   35   \n",
       "3213     1489  12.00    NaN             NaN    17.00     35.00   35   \n",
       "3214     1128    NaN    NaN             NaN      NaN       NaN   51   \n",
       "3215     1371    NaN    NaN             NaN      NaN       NaN   50   \n",
       "\n",
       "      churn_date             city first_name  last_name   reg_date tariff  \n",
       "0            NaN        Краснодар     Рафаил  Верещагин 2018-05-25  ultra  \n",
       "1            NaN        Краснодар     Рафаил  Верещагин 2018-05-25  ultra  \n",
       "2            NaN        Краснодар     Рафаил  Верещагин 2018-05-25  ultra  \n",
       "3            NaN        Краснодар     Рафаил  Верещагин 2018-05-25  ultra  \n",
       "4            NaN        Краснодар     Рафаил  Верещагин 2018-05-25  ultra  \n",
       "...          ...              ...        ...        ...        ...    ...  \n",
       "3211         NaN  Санкт-Петербург      Павел   Гончаров 2018-08-15  smart  \n",
       "3212         NaN  Санкт-Петербург      Павел   Гончаров 2018-08-15  smart  \n",
       "3213         NaN  Санкт-Петербург      Павел   Гончаров 2018-08-15  smart  \n",
       "3214  2018-12-23         Волжский     Ксения     Агаева 2018-12-15  ultra  \n",
       "3215  2018-12-30             Омск     Ириней   Трофимов 2018-12-25  smart  \n",
       "\n",
       "[3216 rows x 13 columns]"
      ]
     },
     "metadata": {},
     "output_type": "display_data"
    },
    {
     "name": "stdout",
     "output_type": "stream",
     "text": [
      "<class 'pandas.core.frame.DataFrame'>\n",
      "Int64Index: 3216 entries, 0 to 3215\n",
      "Data columns (total 13 columns):\n",
      " #   Column          Non-Null Count  Dtype         \n",
      "---  ------          --------------  -----         \n",
      " 0   user_id         3216 non-null   int64         \n",
      " 1   month           3214 non-null   float64       \n",
      " 2   calls           3174 non-null   float64       \n",
      " 3   calls_duration  3174 non-null   float64       \n",
      " 4   gb_used         3203 non-null   float64       \n",
      " 5   messages        2717 non-null   float64       \n",
      " 6   age             3216 non-null   int64         \n",
      " 7   churn_date      189 non-null    object        \n",
      " 8   city            3216 non-null   object        \n",
      " 9   first_name      3216 non-null   object        \n",
      " 10  last_name       3216 non-null   object        \n",
      " 11  reg_date        3216 non-null   datetime64[ns]\n",
      " 12  tariff          3216 non-null   object        \n",
      "dtypes: datetime64[ns](1), float64(5), int64(2), object(5)\n",
      "memory usage: 351.8+ KB\n"
     ]
    }
   ],
   "source": [
    "display(data)\n",
    "data.info()"
   ]
  },
  {
   "cell_type": "code",
   "execution_count": 18,
   "metadata": {
    "scrolled": true
   },
   "outputs": [
    {
     "data": {
      "text/html": [
       "<div>\n",
       "<style scoped>\n",
       "    .dataframe tbody tr th:only-of-type {\n",
       "        vertical-align: middle;\n",
       "    }\n",
       "\n",
       "    .dataframe tbody tr th {\n",
       "        vertical-align: top;\n",
       "    }\n",
       "\n",
       "    .dataframe thead th {\n",
       "        text-align: right;\n",
       "    }\n",
       "</style>\n",
       "<table border=\"1\" class=\"dataframe\">\n",
       "  <thead>\n",
       "    <tr style=\"text-align: right;\">\n",
       "      <th></th>\n",
       "      <th>user_id</th>\n",
       "      <th>month</th>\n",
       "      <th>calls</th>\n",
       "      <th>calls_duration</th>\n",
       "      <th>gb_used</th>\n",
       "      <th>messages</th>\n",
       "      <th>age</th>\n",
       "      <th>churn_date</th>\n",
       "      <th>city</th>\n",
       "      <th>first_name</th>\n",
       "      <th>last_name</th>\n",
       "      <th>reg_date</th>\n",
       "      <th>tariff</th>\n",
       "      <th>messages_included</th>\n",
       "      <th>mb_per_month_included</th>\n",
       "      <th>minutes_included</th>\n",
       "      <th>rub_monthly_fee</th>\n",
       "      <th>rub_per_gb</th>\n",
       "      <th>rub_per_message</th>\n",
       "      <th>rub_per_minute</th>\n",
       "    </tr>\n",
       "  </thead>\n",
       "  <tbody>\n",
       "    <tr>\n",
       "      <th>0</th>\n",
       "      <td>1000</td>\n",
       "      <td>5.00</td>\n",
       "      <td>22.00</td>\n",
       "      <td>159.00</td>\n",
       "      <td>3</td>\n",
       "      <td>22</td>\n",
       "      <td>52</td>\n",
       "      <td>NaN</td>\n",
       "      <td>Краснодар</td>\n",
       "      <td>Рафаил</td>\n",
       "      <td>Верещагин</td>\n",
       "      <td>2018-05-25</td>\n",
       "      <td>ultra</td>\n",
       "      <td>1000</td>\n",
       "      <td>30720</td>\n",
       "      <td>3000</td>\n",
       "      <td>1950</td>\n",
       "      <td>150</td>\n",
       "      <td>1</td>\n",
       "      <td>1</td>\n",
       "    </tr>\n",
       "    <tr>\n",
       "      <th>1</th>\n",
       "      <td>1000</td>\n",
       "      <td>6.00</td>\n",
       "      <td>43.00</td>\n",
       "      <td>172.00</td>\n",
       "      <td>23</td>\n",
       "      <td>60</td>\n",
       "      <td>52</td>\n",
       "      <td>NaN</td>\n",
       "      <td>Краснодар</td>\n",
       "      <td>Рафаил</td>\n",
       "      <td>Верещагин</td>\n",
       "      <td>2018-05-25</td>\n",
       "      <td>ultra</td>\n",
       "      <td>1000</td>\n",
       "      <td>30720</td>\n",
       "      <td>3000</td>\n",
       "      <td>1950</td>\n",
       "      <td>150</td>\n",
       "      <td>1</td>\n",
       "      <td>1</td>\n",
       "    </tr>\n",
       "    <tr>\n",
       "      <th>2</th>\n",
       "      <td>1000</td>\n",
       "      <td>7.00</td>\n",
       "      <td>47.00</td>\n",
       "      <td>340.00</td>\n",
       "      <td>14</td>\n",
       "      <td>75</td>\n",
       "      <td>52</td>\n",
       "      <td>NaN</td>\n",
       "      <td>Краснодар</td>\n",
       "      <td>Рафаил</td>\n",
       "      <td>Верещагин</td>\n",
       "      <td>2018-05-25</td>\n",
       "      <td>ultra</td>\n",
       "      <td>1000</td>\n",
       "      <td>30720</td>\n",
       "      <td>3000</td>\n",
       "      <td>1950</td>\n",
       "      <td>150</td>\n",
       "      <td>1</td>\n",
       "      <td>1</td>\n",
       "    </tr>\n",
       "    <tr>\n",
       "      <th>3</th>\n",
       "      <td>1000</td>\n",
       "      <td>8.00</td>\n",
       "      <td>52.00</td>\n",
       "      <td>408.00</td>\n",
       "      <td>14</td>\n",
       "      <td>81</td>\n",
       "      <td>52</td>\n",
       "      <td>NaN</td>\n",
       "      <td>Краснодар</td>\n",
       "      <td>Рафаил</td>\n",
       "      <td>Верещагин</td>\n",
       "      <td>2018-05-25</td>\n",
       "      <td>ultra</td>\n",
       "      <td>1000</td>\n",
       "      <td>30720</td>\n",
       "      <td>3000</td>\n",
       "      <td>1950</td>\n",
       "      <td>150</td>\n",
       "      <td>1</td>\n",
       "      <td>1</td>\n",
       "    </tr>\n",
       "    <tr>\n",
       "      <th>4</th>\n",
       "      <td>1000</td>\n",
       "      <td>9.00</td>\n",
       "      <td>58.00</td>\n",
       "      <td>466.00</td>\n",
       "      <td>15</td>\n",
       "      <td>57</td>\n",
       "      <td>52</td>\n",
       "      <td>NaN</td>\n",
       "      <td>Краснодар</td>\n",
       "      <td>Рафаил</td>\n",
       "      <td>Верещагин</td>\n",
       "      <td>2018-05-25</td>\n",
       "      <td>ultra</td>\n",
       "      <td>1000</td>\n",
       "      <td>30720</td>\n",
       "      <td>3000</td>\n",
       "      <td>1950</td>\n",
       "      <td>150</td>\n",
       "      <td>1</td>\n",
       "      <td>1</td>\n",
       "    </tr>\n",
       "    <tr>\n",
       "      <th>...</th>\n",
       "      <td>...</td>\n",
       "      <td>...</td>\n",
       "      <td>...</td>\n",
       "      <td>...</td>\n",
       "      <td>...</td>\n",
       "      <td>...</td>\n",
       "      <td>...</td>\n",
       "      <td>...</td>\n",
       "      <td>...</td>\n",
       "      <td>...</td>\n",
       "      <td>...</td>\n",
       "      <td>...</td>\n",
       "      <td>...</td>\n",
       "      <td>...</td>\n",
       "      <td>...</td>\n",
       "      <td>...</td>\n",
       "      <td>...</td>\n",
       "      <td>...</td>\n",
       "      <td>...</td>\n",
       "      <td>...</td>\n",
       "    </tr>\n",
       "    <tr>\n",
       "      <th>3211</th>\n",
       "      <td>1489</td>\n",
       "      <td>10.00</td>\n",
       "      <td>NaN</td>\n",
       "      <td>NaN</td>\n",
       "      <td>20</td>\n",
       "      <td>21</td>\n",
       "      <td>35</td>\n",
       "      <td>NaN</td>\n",
       "      <td>Санкт-Петербург</td>\n",
       "      <td>Павел</td>\n",
       "      <td>Гончаров</td>\n",
       "      <td>2018-08-15</td>\n",
       "      <td>smart</td>\n",
       "      <td>50</td>\n",
       "      <td>15360</td>\n",
       "      <td>500</td>\n",
       "      <td>550</td>\n",
       "      <td>200</td>\n",
       "      <td>3</td>\n",
       "      <td>3</td>\n",
       "    </tr>\n",
       "    <tr>\n",
       "      <th>3212</th>\n",
       "      <td>1489</td>\n",
       "      <td>11.00</td>\n",
       "      <td>NaN</td>\n",
       "      <td>NaN</td>\n",
       "      <td>18</td>\n",
       "      <td>20</td>\n",
       "      <td>35</td>\n",
       "      <td>NaN</td>\n",
       "      <td>Санкт-Петербург</td>\n",
       "      <td>Павел</td>\n",
       "      <td>Гончаров</td>\n",
       "      <td>2018-08-15</td>\n",
       "      <td>smart</td>\n",
       "      <td>50</td>\n",
       "      <td>15360</td>\n",
       "      <td>500</td>\n",
       "      <td>550</td>\n",
       "      <td>200</td>\n",
       "      <td>3</td>\n",
       "      <td>3</td>\n",
       "    </tr>\n",
       "    <tr>\n",
       "      <th>3213</th>\n",
       "      <td>1489</td>\n",
       "      <td>12.00</td>\n",
       "      <td>NaN</td>\n",
       "      <td>NaN</td>\n",
       "      <td>17</td>\n",
       "      <td>35</td>\n",
       "      <td>35</td>\n",
       "      <td>NaN</td>\n",
       "      <td>Санкт-Петербург</td>\n",
       "      <td>Павел</td>\n",
       "      <td>Гончаров</td>\n",
       "      <td>2018-08-15</td>\n",
       "      <td>smart</td>\n",
       "      <td>50</td>\n",
       "      <td>15360</td>\n",
       "      <td>500</td>\n",
       "      <td>550</td>\n",
       "      <td>200</td>\n",
       "      <td>3</td>\n",
       "      <td>3</td>\n",
       "    </tr>\n",
       "    <tr>\n",
       "      <th>3214</th>\n",
       "      <td>1128</td>\n",
       "      <td>NaN</td>\n",
       "      <td>NaN</td>\n",
       "      <td>NaN</td>\n",
       "      <td>&lt;NA&gt;</td>\n",
       "      <td>&lt;NA&gt;</td>\n",
       "      <td>51</td>\n",
       "      <td>2018-12-23</td>\n",
       "      <td>Волжский</td>\n",
       "      <td>Ксения</td>\n",
       "      <td>Агаева</td>\n",
       "      <td>2018-12-15</td>\n",
       "      <td>ultra</td>\n",
       "      <td>1000</td>\n",
       "      <td>30720</td>\n",
       "      <td>3000</td>\n",
       "      <td>1950</td>\n",
       "      <td>150</td>\n",
       "      <td>1</td>\n",
       "      <td>1</td>\n",
       "    </tr>\n",
       "    <tr>\n",
       "      <th>3215</th>\n",
       "      <td>1371</td>\n",
       "      <td>NaN</td>\n",
       "      <td>NaN</td>\n",
       "      <td>NaN</td>\n",
       "      <td>&lt;NA&gt;</td>\n",
       "      <td>&lt;NA&gt;</td>\n",
       "      <td>50</td>\n",
       "      <td>2018-12-30</td>\n",
       "      <td>Омск</td>\n",
       "      <td>Ириней</td>\n",
       "      <td>Трофимов</td>\n",
       "      <td>2018-12-25</td>\n",
       "      <td>smart</td>\n",
       "      <td>50</td>\n",
       "      <td>15360</td>\n",
       "      <td>500</td>\n",
       "      <td>550</td>\n",
       "      <td>200</td>\n",
       "      <td>3</td>\n",
       "      <td>3</td>\n",
       "    </tr>\n",
       "  </tbody>\n",
       "</table>\n",
       "<p>3216 rows × 20 columns</p>\n",
       "</div>"
      ],
      "text/plain": [
       "      user_id  month  calls  calls_duration  gb_used  messages  age  \\\n",
       "0        1000   5.00  22.00          159.00        3        22   52   \n",
       "1        1000   6.00  43.00          172.00       23        60   52   \n",
       "2        1000   7.00  47.00          340.00       14        75   52   \n",
       "3        1000   8.00  52.00          408.00       14        81   52   \n",
       "4        1000   9.00  58.00          466.00       15        57   52   \n",
       "...       ...    ...    ...             ...      ...       ...  ...   \n",
       "3211     1489  10.00    NaN             NaN       20        21   35   \n",
       "3212     1489  11.00    NaN             NaN       18        20   35   \n",
       "3213     1489  12.00    NaN             NaN       17        35   35   \n",
       "3214     1128    NaN    NaN             NaN     <NA>      <NA>   51   \n",
       "3215     1371    NaN    NaN             NaN     <NA>      <NA>   50   \n",
       "\n",
       "      churn_date             city first_name  last_name   reg_date tariff  \\\n",
       "0            NaN        Краснодар     Рафаил  Верещагин 2018-05-25  ultra   \n",
       "1            NaN        Краснодар     Рафаил  Верещагин 2018-05-25  ultra   \n",
       "2            NaN        Краснодар     Рафаил  Верещагин 2018-05-25  ultra   \n",
       "3            NaN        Краснодар     Рафаил  Верещагин 2018-05-25  ultra   \n",
       "4            NaN        Краснодар     Рафаил  Верещагин 2018-05-25  ultra   \n",
       "...          ...              ...        ...        ...        ...    ...   \n",
       "3211         NaN  Санкт-Петербург      Павел   Гончаров 2018-08-15  smart   \n",
       "3212         NaN  Санкт-Петербург      Павел   Гончаров 2018-08-15  smart   \n",
       "3213         NaN  Санкт-Петербург      Павел   Гончаров 2018-08-15  smart   \n",
       "3214  2018-12-23         Волжский     Ксения     Агаева 2018-12-15  ultra   \n",
       "3215  2018-12-30             Омск     Ириней   Трофимов 2018-12-25  smart   \n",
       "\n",
       "      messages_included  mb_per_month_included  minutes_included  \\\n",
       "0                  1000                  30720              3000   \n",
       "1                  1000                  30720              3000   \n",
       "2                  1000                  30720              3000   \n",
       "3                  1000                  30720              3000   \n",
       "4                  1000                  30720              3000   \n",
       "...                 ...                    ...               ...   \n",
       "3211                 50                  15360               500   \n",
       "3212                 50                  15360               500   \n",
       "3213                 50                  15360               500   \n",
       "3214               1000                  30720              3000   \n",
       "3215                 50                  15360               500   \n",
       "\n",
       "      rub_monthly_fee  rub_per_gb  rub_per_message  rub_per_minute  \n",
       "0                1950         150                1               1  \n",
       "1                1950         150                1               1  \n",
       "2                1950         150                1               1  \n",
       "3                1950         150                1               1  \n",
       "4                1950         150                1               1  \n",
       "...               ...         ...              ...             ...  \n",
       "3211              550         200                3               3  \n",
       "3212              550         200                3               3  \n",
       "3213              550         200                3               3  \n",
       "3214             1950         150                1               1  \n",
       "3215              550         200                3               3  \n",
       "\n",
       "[3216 rows x 20 columns]"
      ]
     },
     "metadata": {},
     "output_type": "display_data"
    }
   ],
   "source": [
    "#переименовываем столбец tariff_name в tariff, чтобы по нему объединить таблицы\n",
    "tariffs = tariffs.rename(columns={'tariff_name': 'tariff'})\n",
    "data = data.merge(tariffs, on='tariff', how='left')\n",
    "\n",
    "#переводим количество Гб и сообщений в целые значения\n",
    "data['gb_used'] = data['gb_used'].astype('Int64')\n",
    "data['messages'] = data['messages'].astype('Int64')\n",
    "display(data)"
   ]
  },
  {
   "cell_type": "code",
   "execution_count": 19,
   "metadata": {
    "scrolled": true
   },
   "outputs": [
    {
     "data": {
      "text/plain": [
       "user_id                     0\n",
       "month                       2\n",
       "calls                      42\n",
       "calls_duration             42\n",
       "gb_used                    13\n",
       "messages                  499\n",
       "age                         0\n",
       "churn_date               3027\n",
       "city                        0\n",
       "first_name                  0\n",
       "last_name                   0\n",
       "reg_date                    0\n",
       "tariff                      0\n",
       "messages_included           0\n",
       "mb_per_month_included       0\n",
       "minutes_included            0\n",
       "rub_monthly_fee             0\n",
       "rub_per_gb                  0\n",
       "rub_per_message             0\n",
       "rub_per_minute              0\n",
       "dtype: int64"
      ]
     },
     "execution_count": 19,
     "metadata": {},
     "output_type": "execute_result"
    }
   ],
   "source": [
    "data.isna().sum()"
   ]
  },
  {
   "cell_type": "markdown",
   "metadata": {},
   "source": [
    "Вероятно, пропуски в столбцах `calls`, `calls_duration`, `messages`, `gb_used` означают отсутствие сообщений/звонков. Поэтому заполним пропуски нулем."
   ]
  },
  {
   "cell_type": "code",
   "execution_count": 20,
   "metadata": {},
   "outputs": [],
   "source": [
    "data[['calls', 'calls_duration', 'messages', 'gb_used']] = data[['calls', \n",
    "                                                                 'calls_duration', \n",
    "                                                                 'messages', \n",
    "                                                                 'gb_used']].fillna(0)"
   ]
  },
  {
   "cell_type": "markdown",
   "metadata": {},
   "source": [
    "## Расчёты и исследование данных"
   ]
  },
  {
   "cell_type": "markdown",
   "metadata": {},
   "source": [
    "Рассчитываем выручку с каждого пользователя в месяц"
   ]
  },
  {
   "cell_type": "code",
   "execution_count": 21,
   "metadata": {},
   "outputs": [
    {
     "data": {
      "text/html": [
       "<div>\n",
       "<style scoped>\n",
       "    .dataframe tbody tr th:only-of-type {\n",
       "        vertical-align: middle;\n",
       "    }\n",
       "\n",
       "    .dataframe tbody tr th {\n",
       "        vertical-align: top;\n",
       "    }\n",
       "\n",
       "    .dataframe thead th {\n",
       "        text-align: right;\n",
       "    }\n",
       "</style>\n",
       "<table border=\"1\" class=\"dataframe\">\n",
       "  <thead>\n",
       "    <tr style=\"text-align: right;\">\n",
       "      <th></th>\n",
       "      <th>user_id</th>\n",
       "      <th>month</th>\n",
       "      <th>calls</th>\n",
       "      <th>calls_duration</th>\n",
       "      <th>gb_used</th>\n",
       "      <th>messages</th>\n",
       "      <th>age</th>\n",
       "      <th>churn_date</th>\n",
       "      <th>city</th>\n",
       "      <th>first_name</th>\n",
       "      <th>...</th>\n",
       "      <th>reg_date</th>\n",
       "      <th>tariff</th>\n",
       "      <th>messages_included</th>\n",
       "      <th>mb_per_month_included</th>\n",
       "      <th>minutes_included</th>\n",
       "      <th>rub_monthly_fee</th>\n",
       "      <th>rub_per_gb</th>\n",
       "      <th>rub_per_message</th>\n",
       "      <th>rub_per_minute</th>\n",
       "      <th>income</th>\n",
       "    </tr>\n",
       "  </thead>\n",
       "  <tbody>\n",
       "    <tr>\n",
       "      <th>0</th>\n",
       "      <td>1000</td>\n",
       "      <td>5.00</td>\n",
       "      <td>22.00</td>\n",
       "      <td>159.00</td>\n",
       "      <td>3</td>\n",
       "      <td>22</td>\n",
       "      <td>52</td>\n",
       "      <td>NaN</td>\n",
       "      <td>Краснодар</td>\n",
       "      <td>Рафаил</td>\n",
       "      <td>...</td>\n",
       "      <td>2018-05-25</td>\n",
       "      <td>ultra</td>\n",
       "      <td>1000</td>\n",
       "      <td>30720</td>\n",
       "      <td>3000</td>\n",
       "      <td>1950</td>\n",
       "      <td>150</td>\n",
       "      <td>1</td>\n",
       "      <td>1</td>\n",
       "      <td>1950</td>\n",
       "    </tr>\n",
       "    <tr>\n",
       "      <th>1</th>\n",
       "      <td>1000</td>\n",
       "      <td>6.00</td>\n",
       "      <td>43.00</td>\n",
       "      <td>172.00</td>\n",
       "      <td>23</td>\n",
       "      <td>60</td>\n",
       "      <td>52</td>\n",
       "      <td>NaN</td>\n",
       "      <td>Краснодар</td>\n",
       "      <td>Рафаил</td>\n",
       "      <td>...</td>\n",
       "      <td>2018-05-25</td>\n",
       "      <td>ultra</td>\n",
       "      <td>1000</td>\n",
       "      <td>30720</td>\n",
       "      <td>3000</td>\n",
       "      <td>1950</td>\n",
       "      <td>150</td>\n",
       "      <td>1</td>\n",
       "      <td>1</td>\n",
       "      <td>1950</td>\n",
       "    </tr>\n",
       "    <tr>\n",
       "      <th>2</th>\n",
       "      <td>1000</td>\n",
       "      <td>7.00</td>\n",
       "      <td>47.00</td>\n",
       "      <td>340.00</td>\n",
       "      <td>14</td>\n",
       "      <td>75</td>\n",
       "      <td>52</td>\n",
       "      <td>NaN</td>\n",
       "      <td>Краснодар</td>\n",
       "      <td>Рафаил</td>\n",
       "      <td>...</td>\n",
       "      <td>2018-05-25</td>\n",
       "      <td>ultra</td>\n",
       "      <td>1000</td>\n",
       "      <td>30720</td>\n",
       "      <td>3000</td>\n",
       "      <td>1950</td>\n",
       "      <td>150</td>\n",
       "      <td>1</td>\n",
       "      <td>1</td>\n",
       "      <td>1950</td>\n",
       "    </tr>\n",
       "    <tr>\n",
       "      <th>3</th>\n",
       "      <td>1000</td>\n",
       "      <td>8.00</td>\n",
       "      <td>52.00</td>\n",
       "      <td>408.00</td>\n",
       "      <td>14</td>\n",
       "      <td>81</td>\n",
       "      <td>52</td>\n",
       "      <td>NaN</td>\n",
       "      <td>Краснодар</td>\n",
       "      <td>Рафаил</td>\n",
       "      <td>...</td>\n",
       "      <td>2018-05-25</td>\n",
       "      <td>ultra</td>\n",
       "      <td>1000</td>\n",
       "      <td>30720</td>\n",
       "      <td>3000</td>\n",
       "      <td>1950</td>\n",
       "      <td>150</td>\n",
       "      <td>1</td>\n",
       "      <td>1</td>\n",
       "      <td>1950</td>\n",
       "    </tr>\n",
       "    <tr>\n",
       "      <th>4</th>\n",
       "      <td>1000</td>\n",
       "      <td>9.00</td>\n",
       "      <td>58.00</td>\n",
       "      <td>466.00</td>\n",
       "      <td>15</td>\n",
       "      <td>57</td>\n",
       "      <td>52</td>\n",
       "      <td>NaN</td>\n",
       "      <td>Краснодар</td>\n",
       "      <td>Рафаил</td>\n",
       "      <td>...</td>\n",
       "      <td>2018-05-25</td>\n",
       "      <td>ultra</td>\n",
       "      <td>1000</td>\n",
       "      <td>30720</td>\n",
       "      <td>3000</td>\n",
       "      <td>1950</td>\n",
       "      <td>150</td>\n",
       "      <td>1</td>\n",
       "      <td>1</td>\n",
       "      <td>1950</td>\n",
       "    </tr>\n",
       "    <tr>\n",
       "      <th>...</th>\n",
       "      <td>...</td>\n",
       "      <td>...</td>\n",
       "      <td>...</td>\n",
       "      <td>...</td>\n",
       "      <td>...</td>\n",
       "      <td>...</td>\n",
       "      <td>...</td>\n",
       "      <td>...</td>\n",
       "      <td>...</td>\n",
       "      <td>...</td>\n",
       "      <td>...</td>\n",
       "      <td>...</td>\n",
       "      <td>...</td>\n",
       "      <td>...</td>\n",
       "      <td>...</td>\n",
       "      <td>...</td>\n",
       "      <td>...</td>\n",
       "      <td>...</td>\n",
       "      <td>...</td>\n",
       "      <td>...</td>\n",
       "      <td>...</td>\n",
       "    </tr>\n",
       "    <tr>\n",
       "      <th>3211</th>\n",
       "      <td>1489</td>\n",
       "      <td>10.00</td>\n",
       "      <td>0.00</td>\n",
       "      <td>0.00</td>\n",
       "      <td>20</td>\n",
       "      <td>21</td>\n",
       "      <td>35</td>\n",
       "      <td>NaN</td>\n",
       "      <td>Санкт-Петербург</td>\n",
       "      <td>Павел</td>\n",
       "      <td>...</td>\n",
       "      <td>2018-08-15</td>\n",
       "      <td>smart</td>\n",
       "      <td>50</td>\n",
       "      <td>15360</td>\n",
       "      <td>500</td>\n",
       "      <td>550</td>\n",
       "      <td>200</td>\n",
       "      <td>3</td>\n",
       "      <td>3</td>\n",
       "      <td>1550</td>\n",
       "    </tr>\n",
       "    <tr>\n",
       "      <th>3212</th>\n",
       "      <td>1489</td>\n",
       "      <td>11.00</td>\n",
       "      <td>0.00</td>\n",
       "      <td>0.00</td>\n",
       "      <td>18</td>\n",
       "      <td>20</td>\n",
       "      <td>35</td>\n",
       "      <td>NaN</td>\n",
       "      <td>Санкт-Петербург</td>\n",
       "      <td>Павел</td>\n",
       "      <td>...</td>\n",
       "      <td>2018-08-15</td>\n",
       "      <td>smart</td>\n",
       "      <td>50</td>\n",
       "      <td>15360</td>\n",
       "      <td>500</td>\n",
       "      <td>550</td>\n",
       "      <td>200</td>\n",
       "      <td>3</td>\n",
       "      <td>3</td>\n",
       "      <td>1150</td>\n",
       "    </tr>\n",
       "    <tr>\n",
       "      <th>3213</th>\n",
       "      <td>1489</td>\n",
       "      <td>12.00</td>\n",
       "      <td>0.00</td>\n",
       "      <td>0.00</td>\n",
       "      <td>17</td>\n",
       "      <td>35</td>\n",
       "      <td>35</td>\n",
       "      <td>NaN</td>\n",
       "      <td>Санкт-Петербург</td>\n",
       "      <td>Павел</td>\n",
       "      <td>...</td>\n",
       "      <td>2018-08-15</td>\n",
       "      <td>smart</td>\n",
       "      <td>50</td>\n",
       "      <td>15360</td>\n",
       "      <td>500</td>\n",
       "      <td>550</td>\n",
       "      <td>200</td>\n",
       "      <td>3</td>\n",
       "      <td>3</td>\n",
       "      <td>950</td>\n",
       "    </tr>\n",
       "    <tr>\n",
       "      <th>3214</th>\n",
       "      <td>1128</td>\n",
       "      <td>NaN</td>\n",
       "      <td>0.00</td>\n",
       "      <td>0.00</td>\n",
       "      <td>0</td>\n",
       "      <td>0</td>\n",
       "      <td>51</td>\n",
       "      <td>2018-12-23</td>\n",
       "      <td>Волжский</td>\n",
       "      <td>Ксения</td>\n",
       "      <td>...</td>\n",
       "      <td>2018-12-15</td>\n",
       "      <td>ultra</td>\n",
       "      <td>1000</td>\n",
       "      <td>30720</td>\n",
       "      <td>3000</td>\n",
       "      <td>1950</td>\n",
       "      <td>150</td>\n",
       "      <td>1</td>\n",
       "      <td>1</td>\n",
       "      <td>1950</td>\n",
       "    </tr>\n",
       "    <tr>\n",
       "      <th>3215</th>\n",
       "      <td>1371</td>\n",
       "      <td>NaN</td>\n",
       "      <td>0.00</td>\n",
       "      <td>0.00</td>\n",
       "      <td>0</td>\n",
       "      <td>0</td>\n",
       "      <td>50</td>\n",
       "      <td>2018-12-30</td>\n",
       "      <td>Омск</td>\n",
       "      <td>Ириней</td>\n",
       "      <td>...</td>\n",
       "      <td>2018-12-25</td>\n",
       "      <td>smart</td>\n",
       "      <td>50</td>\n",
       "      <td>15360</td>\n",
       "      <td>500</td>\n",
       "      <td>550</td>\n",
       "      <td>200</td>\n",
       "      <td>3</td>\n",
       "      <td>3</td>\n",
       "      <td>550</td>\n",
       "    </tr>\n",
       "  </tbody>\n",
       "</table>\n",
       "<p>3216 rows × 21 columns</p>\n",
       "</div>"
      ],
      "text/plain": [
       "      user_id  month  calls  calls_duration  gb_used  messages  age  \\\n",
       "0        1000   5.00  22.00          159.00        3        22   52   \n",
       "1        1000   6.00  43.00          172.00       23        60   52   \n",
       "2        1000   7.00  47.00          340.00       14        75   52   \n",
       "3        1000   8.00  52.00          408.00       14        81   52   \n",
       "4        1000   9.00  58.00          466.00       15        57   52   \n",
       "...       ...    ...    ...             ...      ...       ...  ...   \n",
       "3211     1489  10.00   0.00            0.00       20        21   35   \n",
       "3212     1489  11.00   0.00            0.00       18        20   35   \n",
       "3213     1489  12.00   0.00            0.00       17        35   35   \n",
       "3214     1128    NaN   0.00            0.00        0         0   51   \n",
       "3215     1371    NaN   0.00            0.00        0         0   50   \n",
       "\n",
       "      churn_date             city first_name  ...   reg_date tariff  \\\n",
       "0            NaN        Краснодар     Рафаил  ... 2018-05-25  ultra   \n",
       "1            NaN        Краснодар     Рафаил  ... 2018-05-25  ultra   \n",
       "2            NaN        Краснодар     Рафаил  ... 2018-05-25  ultra   \n",
       "3            NaN        Краснодар     Рафаил  ... 2018-05-25  ultra   \n",
       "4            NaN        Краснодар     Рафаил  ... 2018-05-25  ultra   \n",
       "...          ...              ...        ...  ...        ...    ...   \n",
       "3211         NaN  Санкт-Петербург      Павел  ... 2018-08-15  smart   \n",
       "3212         NaN  Санкт-Петербург      Павел  ... 2018-08-15  smart   \n",
       "3213         NaN  Санкт-Петербург      Павел  ... 2018-08-15  smart   \n",
       "3214  2018-12-23         Волжский     Ксения  ... 2018-12-15  ultra   \n",
       "3215  2018-12-30             Омск     Ириней  ... 2018-12-25  smart   \n",
       "\n",
       "     messages_included  mb_per_month_included  minutes_included  \\\n",
       "0                 1000                  30720              3000   \n",
       "1                 1000                  30720              3000   \n",
       "2                 1000                  30720              3000   \n",
       "3                 1000                  30720              3000   \n",
       "4                 1000                  30720              3000   \n",
       "...                ...                    ...               ...   \n",
       "3211                50                  15360               500   \n",
       "3212                50                  15360               500   \n",
       "3213                50                  15360               500   \n",
       "3214              1000                  30720              3000   \n",
       "3215                50                  15360               500   \n",
       "\n",
       "      rub_monthly_fee  rub_per_gb  rub_per_message  rub_per_minute  income  \n",
       "0                1950         150                1               1    1950  \n",
       "1                1950         150                1               1    1950  \n",
       "2                1950         150                1               1    1950  \n",
       "3                1950         150                1               1    1950  \n",
       "4                1950         150                1               1    1950  \n",
       "...               ...         ...              ...             ...     ...  \n",
       "3211              550         200                3               3    1550  \n",
       "3212              550         200                3               3    1150  \n",
       "3213              550         200                3               3     950  \n",
       "3214             1950         150                1               1    1950  \n",
       "3215              550         200                3               3     550  \n",
       "\n",
       "[3216 rows x 21 columns]"
      ]
     },
     "metadata": {},
     "output_type": "display_data"
    }
   ],
   "source": [
    "#создаем и применяем функцию для подсчета выручки с каждого пользователя в месяц\n",
    "def income(data):\n",
    "    income = data['rub_monthly_fee']\n",
    "    if data['calls_duration'] > data['minutes_included']:\n",
    "        income += (data['calls_duration'] - data['minutes_included'])*data['rub_per_minute']\n",
    "    if data['gb_used'] > (data['mb_per_month_included']/1024):\n",
    "        income += (data['gb_used']-(data['mb_per_month_included']/1024))*data['rub_per_gb']\n",
    "    if data['messages'] > data['messages_included']:\n",
    "        income += (data['messages']-data['messages_included'])*data['rub_per_message']\n",
    "    return income\n",
    "data['income'] = data.apply(income, axis=1)\n",
    "data['income'] = data['income'].astype('int')\n",
    "display(data)"
   ]
  },
  {
   "cell_type": "markdown",
   "metadata": {},
   "source": [
    "**Изучаем поведение пользователей с разными тарифами**"
   ]
  },
  {
   "cell_type": "code",
   "execution_count": 22,
   "metadata": {},
   "outputs": [],
   "source": [
    "data_smart = data.query('tariff == \"smart\"')"
   ]
  },
  {
   "cell_type": "code",
   "execution_count": 23,
   "metadata": {},
   "outputs": [
    {
     "data": {
      "image/png": "[encoded data removed]",
      "text/plain": [
       "<Figure size 1296x432 with 3 Axes>"
      ]
     },
     "metadata": {
      "needs_background": "light"
     },
     "output_type": "display_data"
    }
   ],
   "source": [
    "plt.figure(figsize=(18,6))\n",
    "plt.subplot(1,3,1)\n",
    "plt.hist(data_smart['calls_duration'], bins=50, range=(0,1200))\n",
    "plt.xlabel('Длительность звонка')\n",
    "plt.ylabel('Частота')\n",
    "plt.grid(True)\n",
    "\n",
    "plt.subplot(1,3,2)\n",
    "plt.hist(data_smart['gb_used'], bins=38)\n",
    "plt.xlabel('Использованные Гб')\n",
    "plt.ylabel('Частота')\n",
    "plt.grid(True)\n",
    "\n",
    "plt.subplot(1,3,3)\n",
    "plt.hist(data_smart['messages'], bins=30,range=(0,143))\n",
    "plt.xlabel('Отправленные сообщения')\n",
    "plt.ylabel('Частота')\n",
    "plt.grid(True)\n",
    "plt.show()"
   ]
  },
  {
   "cell_type": "code",
   "execution_count": 24,
   "metadata": {
    "scrolled": true
   },
   "outputs": [
    {
     "name": "stdout",
     "output_type": "stream",
     "text": [
      "variance 36281.39383644458\n",
      "count   2,230.00\n",
      "mean      417.75\n",
      "std       190.48\n",
      "min         0.00\n",
      "25%       282.00\n",
      "50%       421.50\n",
      "75%       545.00\n",
      "max     1,435.00\n",
      "Name: calls_duration, dtype: float64\n"
     ]
    }
   ],
   "source": [
    "print('variance', np.var(data_smart['calls_duration'], ddof=1))\n",
    "print(data_smart['calls_duration'].describe())"
   ]
  },
  {
   "cell_type": "code",
   "execution_count": 25,
   "metadata": {
    "scrolled": true
   },
   "outputs": [
    {
     "name": "stdout",
     "output_type": "stream",
     "text": [
      "variance 33.133453035506285\n",
      "count   2,230.00\n",
      "mean       16.32\n",
      "std         5.76\n",
      "min         0.00\n",
      "25%        13.00\n",
      "50%        17.00\n",
      "75%        20.00\n",
      "max        38.00\n",
      "Name: gb_used, dtype: float64\n"
     ]
    }
   ],
   "source": [
    "print('variance', np.var(data_smart['gb_used'], ddof=1))\n",
    "print(data_smart['gb_used'].describe())"
   ]
  },
  {
   "cell_type": "code",
   "execution_count": 26,
   "metadata": {},
   "outputs": [
    {
     "name": "stdout",
     "output_type": "stream",
     "text": [
      "variance 796.9552557301129\n",
      "count   2,230.00\n",
      "mean       33.37\n",
      "std        28.23\n",
      "min         0.00\n",
      "25%        10.00\n",
      "50%        28.00\n",
      "75%        51.00\n",
      "max       143.00\n",
      "Name: messages, dtype: float64\n"
     ]
    }
   ],
   "source": [
    "print('variance', np.var(data_smart['messages'], ddof=1))\n",
    "print(data_smart['messages'].describe())"
   ]
  },
  {
   "cell_type": "markdown",
   "metadata": {},
   "source": [
    "**Выводы по тарифу \"smart\"**:\n",
    "\n",
    "* Количество потраченных минут варьируется от 0 до 1435. Среднее и медиана равны 419 и 423 минуты, соответственно. Стандартное отклонение и дисперсия равны 189 и 35844. Распределение близко к нормальному, но имеет небольшую скошенность в левую сторону.\n",
    "\n",
    "* Количество использованных Гб варьируется от 0 до 38. Среднее и медиана равны 16.34 и 17 Гб. Стандартное отклонение и дисперсия равны 5.74 и 32.99, соответственно. Распределение также имеет небольшую скошенность влево.\n",
    "\n",
    "* Количество сообщений варьируется от 1 до 143. Среднее и медиана равны 39 и 34, соответственно. Стандартное отклонение и дисперсия равны 26.8 и 719.2. Распределение сильно скошено влево."
   ]
  },
  {
   "cell_type": "code",
   "execution_count": 27,
   "metadata": {},
   "outputs": [],
   "source": [
    "data_ultra = data.query('tariff == \"ultra\"')"
   ]
  },
  {
   "cell_type": "code",
   "execution_count": 28,
   "metadata": {},
   "outputs": [
    {
     "data": {
      "image/png": "[encoded data removed]",
      "text/plain": [
       "<Figure size 1296x432 with 3 Axes>"
      ]
     },
     "metadata": {
      "needs_background": "light"
     },
     "output_type": "display_data"
    }
   ],
   "source": [
    "plt.figure(figsize=(18,6))\n",
    "plt.subplot(1,3,1)\n",
    "plt.hist(data_ultra['calls_duration'], bins=50, range=(0,1673))\n",
    "plt.xlabel('Длительность звонка')\n",
    "plt.ylabel('Частота')\n",
    "plt.grid(True)\n",
    "\n",
    "plt.subplot(1,3,2)\n",
    "plt.hist(data_ultra['gb_used'], bins=49)\n",
    "plt.xlabel('Использованные Гб')\n",
    "plt.ylabel('Частота')\n",
    "plt.grid(True)\n",
    "\n",
    "plt.subplot(1,3,3)\n",
    "plt.hist(data_ultra['messages'], bins=50,range=(1,224))\n",
    "plt.xlabel('Отправленные сообщения')\n",
    "plt.ylabel('Частота')\n",
    "plt.grid(True)\n",
    "plt.show()"
   ]
  },
  {
   "cell_type": "code",
   "execution_count": 29,
   "metadata": {
    "scrolled": true
   },
   "outputs": [
    {
     "name": "stdout",
     "output_type": "stream",
     "text": [
      "variance 101052.49354928387\n",
      "count     986.00\n",
      "mean      526.09\n",
      "std       317.89\n",
      "min         0.00\n",
      "25%       282.50\n",
      "50%       518.00\n",
      "75%       751.75\n",
      "max     1,673.00\n",
      "Name: calls_duration, dtype: float64\n"
     ]
    }
   ],
   "source": [
    "print('variance', np.var(data_ultra['calls_duration'], ddof=1))\n",
    "print(data_ultra['calls_duration'].describe())"
   ]
  },
  {
   "cell_type": "code",
   "execution_count": 30,
   "metadata": {
    "scrolled": true
   },
   "outputs": [
    {
     "name": "stdout",
     "output_type": "stream",
     "text": [
      "variance 97.37854429011234\n",
      "count   986.00\n",
      "mean     19.47\n",
      "std       9.87\n",
      "min       0.00\n",
      "25%      12.00\n",
      "50%      19.00\n",
      "75%      27.00\n",
      "max      49.00\n",
      "Name: gb_used, dtype: float64\n"
     ]
    }
   ],
   "source": [
    "print('variance', np.var(data_ultra['gb_used'], ddof=1))\n",
    "print(data_ultra['gb_used'].describe())"
   ]
  },
  {
   "cell_type": "code",
   "execution_count": 31,
   "metadata": {},
   "outputs": [
    {
     "name": "stdout",
     "output_type": "stream",
     "text": [
      "variance 2285.4174246558414\n",
      "count   986.00\n",
      "mean     49.31\n",
      "std      47.81\n",
      "min       0.00\n",
      "25%       6.00\n",
      "50%      38.00\n",
      "75%      78.75\n",
      "max     224.00\n",
      "Name: messages, dtype: float64\n"
     ]
    }
   ],
   "source": [
    "print('variance', np.var(data_ultra['messages'], ddof=1))\n",
    "print(data_ultra['messages'].describe())"
   ]
  },
  {
   "cell_type": "markdown",
   "metadata": {},
   "source": [
    "**Выводы по тарифу \"ultra\"**:\n",
    "\n",
    "* Количество минут, потраченных в месяц варьируется от 0 до 1673. Среднее и медиана равны 545 и 528, соответственно. Стандартное отклонение и дисперсия равны 307 и 94203. Распределение скошено влево сильнее, чем в тарифе smart.\n",
    "\n",
    "* Количество использованных Гб варьируется от 0 до 49. Среднее и медиана равны 19.7 и 19 Гб, соответственно. Стандартное отклонение и дисперсия равны 9.7 и 94.8. Распределение имеет небольшую скошенность вправо.\n",
    "\n",
    "* Количество отправленных сообщений варьируется от 1 до 224. Среднее и медиана равны 61 и 52, соответственно. Стандартное отклонение и дисперсия равны 44.7 и 2000. Распределение сильно скошено вправо."
   ]
  },
  {
   "cell_type": "markdown",
   "metadata": {},
   "source": [
    "## Проверка гипотез"
   ]
  },
  {
   "cell_type": "markdown",
   "metadata": {},
   "source": [
    "### Гипотеза №1. Средняя выручка от пользователей тарифов \"смарт\" и \"ультра\" различается."
   ]
  },
  {
   "cell_type": "code",
   "execution_count": 32,
   "metadata": {},
   "outputs": [
    {
     "data": {
      "image/png": "[encoded data removed]",
      "text/plain": [
       "<Figure size 576x432 with 1 Axes>"
      ]
     },
     "metadata": {
      "needs_background": "light"
     },
     "output_type": "display_data"
    }
   ],
   "source": [
    "plt.figure(figsize=(8,6))\n",
    "plt.hist(data_smart['income'], bins=20,range=(550,4000))\n",
    "plt.xlabel('Выручка от пользователя')\n",
    "plt.ylabel('Частота')\n",
    "plt.title('Тариф smart')\n",
    "plt.grid(True)\n",
    "plt.show()"
   ]
  },
  {
   "cell_type": "code",
   "execution_count": 33,
   "metadata": {},
   "outputs": [
    {
     "name": "stdout",
     "output_type": "stream",
     "text": [
      "variance 669730.763894807\n",
      "count   2,230.00\n",
      "mean    1,289.64\n",
      "std       818.37\n",
      "min       550.00\n",
      "25%       550.00\n",
      "50%     1,021.00\n",
      "75%     1,750.00\n",
      "max     6,770.00\n",
      "Name: income, dtype: float64\n"
     ]
    }
   ],
   "source": [
    "print('variance', np.var(data_smart['income'], ddof=1))\n",
    "print(data_smart['income'].describe())"
   ]
  },
  {
   "cell_type": "code",
   "execution_count": 40,
   "metadata": {},
   "outputs": [
    {
     "data": {
      "image/png": "[encoded data removed]",
      "text/plain": [
       "<Figure size 576x432 with 1 Axes>"
      ]
     },
     "metadata": {
      "needs_background": "light"
     },
     "output_type": "display_data"
    }
   ],
   "source": [
    "plt.figure(figsize=(8,6))\n",
    "plt.hist(data_ultra['income'], bins=20,range=(1950,4000))\n",
    "plt.xlabel('Выручка от пользователя')\n",
    "plt.ylabel('Частота')\n",
    "plt.title('Тариф ultra')\n",
    "plt.grid(True)\n",
    "plt.show()"
   ]
  },
  {
   "cell_type": "code",
   "execution_count": 35,
   "metadata": {
    "scrolled": true
   },
   "outputs": [
    {
     "name": "stdout",
     "output_type": "stream",
     "text": [
      "variance 141387.7148093615\n",
      "count     986.00\n",
      "mean    2,070.03\n",
      "std       376.02\n",
      "min     1,950.00\n",
      "25%     1,950.00\n",
      "50%     1,950.00\n",
      "75%     1,950.00\n",
      "max     4,800.00\n",
      "Name: income, dtype: float64\n"
     ]
    }
   ],
   "source": [
    "print('variance', np.var(data_ultra['income'], ddof=1))\n",
    "print(data_ultra['income'].describe())"
   ]
  },
  {
   "cell_type": "markdown",
   "metadata": {},
   "source": [
    "**H0: средние выручки по разным тарифам равны.**\n",
    "\n",
    "**H1: средние выручки по разным тарифам различаются.**\n",
    "\n",
    "Если p-value меньше, чем уровень значимости, то H0 отвергаем и принимаем H1."
   ]
  },
  {
   "cell_type": "code",
   "execution_count": 36,
   "metadata": {},
   "outputs": [
    {
     "name": "stdout",
     "output_type": "stream",
     "text": [
      "p-значение:  1.927011394420941e-250\n",
      "Средние выручки различаются\n"
     ]
    }
   ],
   "source": [
    "#alpha = 0.05\n",
    "#alpha = 0.01\n",
    "alpha = 0.001\n",
    "results = st.ttest_ind(data_smart['income'], data_ultra['income'], equal_var = False)\n",
    "print('p-значение: ', results.pvalue)\n",
    "if results.pvalue < alpha:\n",
    "    print('Средние выручки различаются')\n",
    "else:\n",
    "    print('Статистически значимых различий между средними выручками не обнаружено')\n"
   ]
  },
  {
   "cell_type": "markdown",
   "metadata": {},
   "source": [
    "**Вывод:**\n",
    "\n",
    "Средние выручки от пользователей с разными тарифами различаются, исходя из результатов t-теста с уровнями значимости 5, 1 и 0.1%. Т.к. размеры выборок и их дисперсии отличались, в параметре equal_var указали значение False.\n",
    "\n",
    "**Тариф ultra приносит компании больше выручки, чем smart**"
   ]
  },
  {
   "cell_type": "markdown",
   "metadata": {},
   "source": [
    "### Гипотеза №2. Средняя выручка от пользователей из Москвы отличается от средней выручки от пользователей из других регионов."
   ]
  },
  {
   "cell_type": "markdown",
   "metadata": {},
   "source": [
    "**H0: средние выручки в Москве и других городах равны.**\n",
    "\n",
    "**H1: средние выручки в Москве и других городах различаются.**\n",
    "\n",
    "Если p-value меньше, чем уровень значимости, то H0 отвергаем и принимаем H1."
   ]
  },
  {
   "cell_type": "code",
   "execution_count": 37,
   "metadata": {
    "scrolled": true
   },
   "outputs": [],
   "source": [
    "data_moscow = data.query('city == \"Москва\"')\n",
    "data_others = data.query('city != \"Москва\"')"
   ]
  },
  {
   "cell_type": "code",
   "execution_count": 38,
   "metadata": {},
   "outputs": [
    {
     "name": "stdout",
     "output_type": "stream",
     "text": [
      "p-значение:  0.5216952110000279\n",
      "Статистически значимых различий между средними выручками не обнаружено\n"
     ]
    }
   ],
   "source": [
    "alpha = 0.05\n",
    "#alpha = 0.01\n",
    "#alpha = 0.001\n",
    "results = st.ttest_ind(data_moscow['income'], data_others['income'], equal_var = False)\n",
    "print('p-значение: ', results.pvalue)\n",
    "if results.pvalue < alpha:\n",
    "    print('Средние выручки различаются')\n",
    "else:\n",
    "    print('Статистически значимых различий между средними выручками не обнаружено')"
   ]
  },
  {
   "cell_type": "markdown",
   "metadata": {},
   "source": [
    "**Вывод:**\n",
    "\n",
    "P-value выше уровня значимости, поэтому принимаем, что средняя выручка от пользователей из Москвы и других городов не отличаются."
   ]
  },
  {
   "cell_type": "markdown",
   "metadata": {},
   "source": [
    "## Общий вывод"
   ]
  },
  {
   "cell_type": "markdown",
   "metadata": {},
   "source": [
    "**Предобработку данных провели следующими способами:**\n",
    "\n",
    "* Перевели даты из строчного формата в формат дат.\n",
    "\n",
    "* Округлили в большую сторону продолжительность каждого звонка.\n",
    "\n",
    "* Вынесли в отдельный столбец месяц, в который осуществлялась услуга.\n",
    "\n",
    "* Перевели мб в Гб и округлили суммарный трафик за месяц в большую сторону.\n",
    "\n",
    "* Перевели вещественные значения в целые, где это уместно.\n",
    "\n",
    "* Сгруппировали таблицы с услугами (минуты, Гб, сообщения) по пользователю и месяцу.\n",
    "\n",
    "* Объединили все таблицы.\n",
    "\n",
    "**Провели следующие расчеты и анализ данных:**\n",
    "\n",
    "* С помощью функции посчитали выручку от каждого пользователя и вынесли в отдельный столбец.\n",
    "\n",
    "* Исследовали активность пользователей каждого из тарифов.\n",
    "\n",
    "**Проверили следующие гипотезы:**\n",
    "\n",
    "* Гипотеза №1: \"Средняя выручка от пользователей тарифов \"смарт\" и \"ультра\" различается\". Гипотеза оказалась верна.\n",
    "\n",
    "* Гипотеза №2: \"Средняя выручка от пользователей из Москвы отличается от средней выручки от пользователей из других регионов\". Гипотеза оказалась неверной, статистически значимых отличий Москвы от других городов не выявили.\n",
    "\n",
    "Тариф ultra приносит компании больше выручки, поэтому рекламную компанию целесообразно сфокусировать на нем.\n"
   ]
  },
  {
   "cell_type": "code",
   "execution_count": null,
   "metadata": {},
   "outputs": [],
   "source": []
  }
 ],
 "metadata": {
  "ExecuteTimeLog": [
   {
    "duration": 718,
    "start_time": "2022-02-04T13:25:22.610Z"
   },
   {
    "duration": 283,
    "start_time": "2022-02-04T13:26:14.515Z"
   },
   {
    "duration": 212,
    "start_time": "2022-02-04T13:28:14.886Z"
   },
   {
    "duration": 145,
    "start_time": "2022-02-04T13:29:31.368Z"
   },
   {
    "duration": 31,
    "start_time": "2022-02-04T13:32:50.139Z"
   },
   {
    "duration": 47,
    "start_time": "2022-02-04T13:34:04.506Z"
   },
   {
    "duration": 353,
    "start_time": "2022-02-04T13:43:33.339Z"
   },
   {
    "duration": 797,
    "start_time": "2022-02-04T13:43:42.350Z"
   },
   {
    "duration": 267,
    "start_time": "2022-02-04T13:43:43.149Z"
   },
   {
    "duration": 212,
    "start_time": "2022-02-04T13:43:43.420Z"
   },
   {
    "duration": 141,
    "start_time": "2022-02-04T13:43:43.635Z"
   },
   {
    "duration": 30,
    "start_time": "2022-02-04T13:43:43.778Z"
   },
   {
    "duration": 50,
    "start_time": "2022-02-04T13:43:43.811Z"
   },
   {
    "duration": 389,
    "start_time": "2022-02-04T13:47:50.243Z"
   },
   {
    "duration": 814,
    "start_time": "2022-02-04T13:47:58.638Z"
   },
   {
    "duration": 259,
    "start_time": "2022-02-04T13:47:59.455Z"
   },
   {
    "duration": 212,
    "start_time": "2022-02-04T13:47:59.717Z"
   },
   {
    "duration": 143,
    "start_time": "2022-02-04T13:47:59.932Z"
   },
   {
    "duration": 32,
    "start_time": "2022-02-04T13:48:00.077Z"
   },
   {
    "duration": 69,
    "start_time": "2022-02-04T13:48:00.113Z"
   },
   {
    "duration": 440,
    "start_time": "2022-02-04T13:48:00.185Z"
   },
   {
    "duration": 256,
    "start_time": "2022-02-05T12:53:27.209Z"
   },
   {
    "duration": 639,
    "start_time": "2022-02-05T12:53:35.079Z"
   },
   {
    "duration": 202,
    "start_time": "2022-02-05T12:53:35.720Z"
   },
   {
    "duration": 163,
    "start_time": "2022-02-05T12:53:35.924Z"
   },
   {
    "duration": 111,
    "start_time": "2022-02-05T12:53:36.089Z"
   },
   {
    "duration": 28,
    "start_time": "2022-02-05T12:53:36.202Z"
   },
   {
    "duration": 82,
    "start_time": "2022-02-05T12:53:36.232Z"
   },
   {
    "duration": 32,
    "start_time": "2022-02-05T12:53:36.316Z"
   },
   {
    "duration": 53,
    "start_time": "2022-02-05T12:53:52.769Z"
   },
   {
    "duration": 46,
    "start_time": "2022-02-05T12:54:24.434Z"
   },
   {
    "duration": 29,
    "start_time": "2022-02-05T12:56:09.958Z"
   },
   {
    "duration": 39,
    "start_time": "2022-02-05T12:56:19.299Z"
   },
   {
    "duration": 335,
    "start_time": "2022-02-05T12:57:02.527Z"
   },
   {
    "duration": 35,
    "start_time": "2022-02-05T12:58:59.024Z"
   },
   {
    "duration": 673,
    "start_time": "2022-02-05T12:59:06.500Z"
   },
   {
    "duration": 225,
    "start_time": "2022-02-05T12:59:18.422Z"
   },
   {
    "duration": 255,
    "start_time": "2022-02-05T12:59:39.470Z"
   },
   {
    "duration": 248,
    "start_time": "2022-02-05T13:00:37.067Z"
   },
   {
    "duration": 314,
    "start_time": "2022-02-05T13:00:55.562Z"
   },
   {
    "duration": 96,
    "start_time": "2022-02-05T13:05:39.325Z"
   },
   {
    "duration": 246,
    "start_time": "2022-02-05T13:05:45.658Z"
   },
   {
    "duration": 219,
    "start_time": "2022-02-05T13:05:54.116Z"
   },
   {
    "duration": 236,
    "start_time": "2022-02-05T13:10:17.126Z"
   },
   {
    "duration": 227,
    "start_time": "2022-02-05T13:10:49.804Z"
   },
   {
    "duration": 603,
    "start_time": "2022-02-05T13:11:36.619Z"
   },
   {
    "duration": 200,
    "start_time": "2022-02-05T13:11:37.224Z"
   },
   {
    "duration": 165,
    "start_time": "2022-02-05T13:11:37.427Z"
   },
   {
    "duration": 109,
    "start_time": "2022-02-05T13:11:37.593Z"
   },
   {
    "duration": 26,
    "start_time": "2022-02-05T13:11:37.704Z"
   },
   {
    "duration": 64,
    "start_time": "2022-02-05T13:11:37.732Z"
   },
   {
    "duration": 87,
    "start_time": "2022-02-05T13:11:37.798Z"
   },
   {
    "duration": 63,
    "start_time": "2022-02-05T13:11:57.791Z"
   },
   {
    "duration": 57,
    "start_time": "2022-02-05T13:12:49.063Z"
   },
   {
    "duration": 3,
    "start_time": "2022-02-05T13:13:35.410Z"
   },
   {
    "duration": 7,
    "start_time": "2022-02-05T13:13:47.315Z"
   },
   {
    "duration": 65,
    "start_time": "2022-02-05T13:18:19.471Z"
   },
   {
    "duration": 312,
    "start_time": "2022-02-05T13:43:30.641Z"
   },
   {
    "duration": 597,
    "start_time": "2022-02-05T13:43:43.622Z"
   },
   {
    "duration": 203,
    "start_time": "2022-02-05T13:43:44.221Z"
   },
   {
    "duration": 171,
    "start_time": "2022-02-05T13:43:44.428Z"
   },
   {
    "duration": 113,
    "start_time": "2022-02-05T13:43:44.601Z"
   },
   {
    "duration": 25,
    "start_time": "2022-02-05T13:43:44.716Z"
   },
   {
    "duration": 81,
    "start_time": "2022-02-05T13:43:44.742Z"
   },
   {
    "duration": 100,
    "start_time": "2022-02-05T13:43:44.825Z"
   },
   {
    "duration": 25,
    "start_time": "2022-02-05T13:46:41.253Z"
   },
   {
    "duration": 24,
    "start_time": "2022-02-05T13:47:17.371Z"
   },
   {
    "duration": 50,
    "start_time": "2022-02-05T13:48:28.983Z"
   },
   {
    "duration": 52,
    "start_time": "2022-02-05T13:48:44.836Z"
   },
   {
    "duration": 70,
    "start_time": "2022-02-05T13:51:07.581Z"
   },
   {
    "duration": 65,
    "start_time": "2022-02-05T13:51:30.751Z"
   },
   {
    "duration": 69,
    "start_time": "2022-02-05T13:52:26.562Z"
   },
   {
    "duration": 36,
    "start_time": "2022-02-05T13:53:06.242Z"
   },
   {
    "duration": 587,
    "start_time": "2022-02-05T13:53:27.433Z"
   },
   {
    "duration": 204,
    "start_time": "2022-02-05T13:53:28.022Z"
   },
   {
    "duration": 170,
    "start_time": "2022-02-05T13:53:28.231Z"
   },
   {
    "duration": 115,
    "start_time": "2022-02-05T13:53:28.403Z"
   },
   {
    "duration": 26,
    "start_time": "2022-02-05T13:53:28.519Z"
   },
   {
    "duration": 60,
    "start_time": "2022-02-05T13:53:28.546Z"
   },
   {
    "duration": 110,
    "start_time": "2022-02-05T13:53:28.608Z"
   },
   {
    "duration": 58,
    "start_time": "2022-02-05T13:53:28.720Z"
   },
   {
    "duration": 55,
    "start_time": "2022-02-05T13:53:28.780Z"
   },
   {
    "duration": 20,
    "start_time": "2022-02-05T13:58:10.138Z"
   },
   {
    "duration": 20,
    "start_time": "2022-02-05T13:58:44.457Z"
   },
   {
    "duration": 28,
    "start_time": "2022-02-05T13:59:07.540Z"
   },
   {
    "duration": 7,
    "start_time": "2022-02-05T14:01:38.086Z"
   },
   {
    "duration": 293,
    "start_time": "2022-02-05T14:03:37.818Z"
   },
   {
    "duration": 29,
    "start_time": "2022-02-05T14:03:51.107Z"
   },
   {
    "duration": 23,
    "start_time": "2022-02-05T14:03:54.028Z"
   },
   {
    "duration": 32,
    "start_time": "2022-02-05T14:04:04.813Z"
   },
   {
    "duration": 651,
    "start_time": "2022-02-05T14:04:40.875Z"
   },
   {
    "duration": 206,
    "start_time": "2022-02-05T14:04:41.529Z"
   },
   {
    "duration": 169,
    "start_time": "2022-02-05T14:04:41.740Z"
   },
   {
    "duration": 115,
    "start_time": "2022-02-05T14:04:41.911Z"
   },
   {
    "duration": 26,
    "start_time": "2022-02-05T14:04:42.028Z"
   },
   {
    "duration": 72,
    "start_time": "2022-02-05T14:04:42.056Z"
   },
   {
    "duration": 109,
    "start_time": "2022-02-05T14:04:42.130Z"
   },
   {
    "duration": 73,
    "start_time": "2022-02-05T14:04:42.242Z"
   },
   {
    "duration": 43,
    "start_time": "2022-02-05T14:04:42.317Z"
   },
   {
    "duration": 61,
    "start_time": "2022-02-05T14:04:42.361Z"
   },
   {
    "duration": 37,
    "start_time": "2022-02-05T14:04:42.424Z"
   },
   {
    "duration": 31,
    "start_time": "2022-02-05T14:06:24.547Z"
   },
   {
    "duration": 2368,
    "start_time": "2022-02-05T14:06:41.774Z"
   },
   {
    "duration": 216,
    "start_time": "2022-02-05T14:06:44.143Z"
   },
   {
    "duration": 175,
    "start_time": "2022-02-05T14:06:44.361Z"
   },
   {
    "duration": 120,
    "start_time": "2022-02-05T14:06:44.538Z"
   },
   {
    "duration": 26,
    "start_time": "2022-02-05T14:06:44.659Z"
   },
   {
    "duration": 71,
    "start_time": "2022-02-05T14:06:44.687Z"
   },
   {
    "duration": 109,
    "start_time": "2022-02-05T14:06:44.760Z"
   },
   {
    "duration": 71,
    "start_time": "2022-02-05T14:06:44.871Z"
   },
   {
    "duration": 42,
    "start_time": "2022-02-05T14:06:44.944Z"
   },
   {
    "duration": 45,
    "start_time": "2022-02-05T14:06:45.000Z"
   },
   {
    "duration": 57,
    "start_time": "2022-02-05T14:06:45.047Z"
   },
   {
    "duration": 292,
    "start_time": "2022-02-05T14:10:19.957Z"
   },
   {
    "duration": 40,
    "start_time": "2022-02-05T14:10:38.228Z"
   },
   {
    "duration": 34,
    "start_time": "2022-02-05T14:11:33.672Z"
   },
   {
    "duration": 35,
    "start_time": "2022-02-05T14:12:19.012Z"
   },
   {
    "duration": 41,
    "start_time": "2022-02-05T14:13:37.997Z"
   },
   {
    "duration": 599,
    "start_time": "2022-02-05T14:13:57.608Z"
   },
   {
    "duration": 203,
    "start_time": "2022-02-05T14:13:58.209Z"
   },
   {
    "duration": 166,
    "start_time": "2022-02-05T14:13:58.414Z"
   },
   {
    "duration": 113,
    "start_time": "2022-02-05T14:13:58.582Z"
   },
   {
    "duration": 25,
    "start_time": "2022-02-05T14:13:58.698Z"
   },
   {
    "duration": 62,
    "start_time": "2022-02-05T14:13:58.725Z"
   },
   {
    "duration": 102,
    "start_time": "2022-02-05T14:13:58.788Z"
   },
   {
    "duration": 55,
    "start_time": "2022-02-05T14:13:58.898Z"
   },
   {
    "duration": 52,
    "start_time": "2022-02-05T14:13:58.955Z"
   },
   {
    "duration": 40,
    "start_time": "2022-02-05T14:13:59.009Z"
   },
   {
    "duration": 47,
    "start_time": "2022-02-05T14:13:59.051Z"
   },
   {
    "duration": 10,
    "start_time": "2022-02-05T14:13:59.100Z"
   },
   {
    "duration": 97,
    "start_time": "2022-02-05T14:17:38.466Z"
   },
   {
    "duration": 13,
    "start_time": "2022-02-05T14:19:04.865Z"
   },
   {
    "duration": 10,
    "start_time": "2022-02-05T14:23:52.184Z"
   },
   {
    "duration": 22,
    "start_time": "2022-02-05T14:23:58.186Z"
   },
   {
    "duration": 19,
    "start_time": "2022-02-05T14:25:18.090Z"
   },
   {
    "duration": 281,
    "start_time": "2022-02-05T14:27:49.171Z"
   },
   {
    "duration": 8,
    "start_time": "2022-02-05T14:28:06.750Z"
   },
   {
    "duration": 22,
    "start_time": "2022-02-05T14:28:12.822Z"
   },
   {
    "duration": 267,
    "start_time": "2022-02-06T12:02:17.755Z"
   },
   {
    "duration": 821,
    "start_time": "2022-02-06T12:02:29.608Z"
   },
   {
    "duration": 207,
    "start_time": "2022-02-06T12:02:30.432Z"
   },
   {
    "duration": 168,
    "start_time": "2022-02-06T12:02:30.641Z"
   },
   {
    "duration": 120,
    "start_time": "2022-02-06T12:02:30.811Z"
   },
   {
    "duration": 36,
    "start_time": "2022-02-06T12:02:30.933Z"
   },
   {
    "duration": 47,
    "start_time": "2022-02-06T12:02:30.971Z"
   },
   {
    "duration": 188,
    "start_time": "2022-02-06T12:02:31.020Z"
   },
   {
    "duration": 16,
    "start_time": "2022-02-06T12:02:31.212Z"
   },
   {
    "duration": 103,
    "start_time": "2022-02-06T12:02:31.231Z"
   },
   {
    "duration": 42,
    "start_time": "2022-02-06T12:02:31.336Z"
   },
   {
    "duration": 77,
    "start_time": "2022-02-06T12:02:31.381Z"
   },
   {
    "duration": 48,
    "start_time": "2022-02-06T12:02:31.461Z"
   },
   {
    "duration": 15,
    "start_time": "2022-02-06T12:02:31.511Z"
   },
   {
    "duration": 17,
    "start_time": "2022-02-06T12:02:31.528Z"
   },
   {
    "duration": 114,
    "start_time": "2022-02-06T12:02:31.547Z"
   },
   {
    "duration": 10,
    "start_time": "2022-02-06T12:02:31.663Z"
   },
   {
    "duration": 50,
    "start_time": "2022-02-06T12:02:31.675Z"
   },
   {
    "duration": 797,
    "start_time": "2022-02-06T12:03:03.207Z"
   },
   {
    "duration": 211,
    "start_time": "2022-02-06T12:03:04.008Z"
   },
   {
    "duration": 165,
    "start_time": "2022-02-06T12:03:04.222Z"
   },
   {
    "duration": 119,
    "start_time": "2022-02-06T12:03:04.390Z"
   },
   {
    "duration": 29,
    "start_time": "2022-02-06T12:03:04.511Z"
   },
   {
    "duration": 25,
    "start_time": "2022-02-06T12:03:04.542Z"
   },
   {
    "duration": 48,
    "start_time": "2022-02-06T12:03:04.569Z"
   },
   {
    "duration": 137,
    "start_time": "2022-02-06T12:03:04.620Z"
   },
   {
    "duration": 13,
    "start_time": "2022-02-06T12:03:04.759Z"
   },
   {
    "duration": 81,
    "start_time": "2022-02-06T12:03:04.774Z"
   },
   {
    "duration": 56,
    "start_time": "2022-02-06T12:03:04.857Z"
   },
   {
    "duration": 43,
    "start_time": "2022-02-06T12:03:04.915Z"
   },
   {
    "duration": 58,
    "start_time": "2022-02-06T12:03:04.959Z"
   },
   {
    "duration": 12,
    "start_time": "2022-02-06T12:03:05.018Z"
   },
   {
    "duration": 55,
    "start_time": "2022-02-06T12:03:05.032Z"
   },
   {
    "duration": 36,
    "start_time": "2022-02-06T12:03:05.088Z"
   },
   {
    "duration": 13,
    "start_time": "2022-02-06T12:03:05.126Z"
   },
   {
    "duration": 30,
    "start_time": "2022-02-06T12:03:05.142Z"
   },
   {
    "duration": 9,
    "start_time": "2022-02-06T12:03:54.588Z"
   },
   {
    "duration": 25,
    "start_time": "2022-02-06T12:03:59.064Z"
   },
   {
    "duration": 5,
    "start_time": "2022-02-06T12:13:51.801Z"
   },
   {
    "duration": 128,
    "start_time": "2022-02-06T12:15:35.039Z"
   },
   {
    "duration": 27,
    "start_time": "2022-02-06T12:15:47.623Z"
   },
   {
    "duration": 792,
    "start_time": "2022-02-06T12:17:49.473Z"
   },
   {
    "duration": 225,
    "start_time": "2022-02-06T12:17:50.268Z"
   },
   {
    "duration": 167,
    "start_time": "2022-02-06T12:17:50.499Z"
   },
   {
    "duration": 113,
    "start_time": "2022-02-06T12:17:50.668Z"
   },
   {
    "duration": 30,
    "start_time": "2022-02-06T12:17:50.784Z"
   },
   {
    "duration": 10,
    "start_time": "2022-02-06T12:17:50.816Z"
   },
   {
    "duration": 49,
    "start_time": "2022-02-06T12:17:50.829Z"
   },
   {
    "duration": 128,
    "start_time": "2022-02-06T12:17:50.880Z"
   },
   {
    "duration": 15,
    "start_time": "2022-02-06T12:17:51.011Z"
   },
   {
    "duration": 92,
    "start_time": "2022-02-06T12:17:51.029Z"
   },
   {
    "duration": 41,
    "start_time": "2022-02-06T12:17:51.123Z"
   },
   {
    "duration": 64,
    "start_time": "2022-02-06T12:17:51.167Z"
   },
   {
    "duration": 38,
    "start_time": "2022-02-06T12:17:51.234Z"
   },
   {
    "duration": 9,
    "start_time": "2022-02-06T12:17:51.274Z"
   },
   {
    "duration": 30,
    "start_time": "2022-02-06T12:17:51.285Z"
   },
   {
    "duration": 18,
    "start_time": "2022-02-06T12:17:51.317Z"
   },
   {
    "duration": 7,
    "start_time": "2022-02-06T12:17:51.337Z"
   },
   {
    "duration": 27,
    "start_time": "2022-02-06T12:17:51.346Z"
   },
   {
    "duration": 39,
    "start_time": "2022-02-06T12:17:51.374Z"
   },
   {
    "duration": 31,
    "start_time": "2022-02-06T12:17:51.415Z"
   },
   {
    "duration": 238,
    "start_time": "2022-02-06T12:17:51.447Z"
   },
   {
    "duration": 39,
    "start_time": "2022-02-06T12:17:51.689Z"
   },
   {
    "duration": 14,
    "start_time": "2022-02-06T12:21:55.341Z"
   },
   {
    "duration": 30,
    "start_time": "2022-02-06T12:22:41.985Z"
   },
   {
    "duration": 33,
    "start_time": "2022-02-06T12:22:48.491Z"
   },
   {
    "duration": 33,
    "start_time": "2022-02-06T12:22:52.786Z"
   },
   {
    "duration": 92,
    "start_time": "2022-02-06T12:23:13.066Z"
   },
   {
    "duration": 631,
    "start_time": "2022-02-06T12:24:06.040Z"
   },
   {
    "duration": 202,
    "start_time": "2022-02-06T12:24:06.673Z"
   },
   {
    "duration": 176,
    "start_time": "2022-02-06T12:24:06.878Z"
   },
   {
    "duration": 116,
    "start_time": "2022-02-06T12:24:07.056Z"
   },
   {
    "duration": 27,
    "start_time": "2022-02-06T12:24:07.174Z"
   },
   {
    "duration": 12,
    "start_time": "2022-02-06T12:24:07.203Z"
   },
   {
    "duration": 48,
    "start_time": "2022-02-06T12:24:07.217Z"
   },
   {
    "duration": 123,
    "start_time": "2022-02-06T12:24:07.268Z"
   },
   {
    "duration": 18,
    "start_time": "2022-02-06T12:24:07.394Z"
   },
   {
    "duration": 74,
    "start_time": "2022-02-06T12:24:07.414Z"
   },
   {
    "duration": 51,
    "start_time": "2022-02-06T12:24:07.490Z"
   },
   {
    "duration": 40,
    "start_time": "2022-02-06T12:24:07.543Z"
   },
   {
    "duration": 45,
    "start_time": "2022-02-06T12:24:07.585Z"
   },
   {
    "duration": 10,
    "start_time": "2022-02-06T12:24:07.631Z"
   },
   {
    "duration": 13,
    "start_time": "2022-02-06T12:24:07.643Z"
   },
   {
    "duration": 32,
    "start_time": "2022-02-06T12:24:07.658Z"
   },
   {
    "duration": 21,
    "start_time": "2022-02-06T12:24:07.692Z"
   },
   {
    "duration": 19,
    "start_time": "2022-02-06T12:24:07.715Z"
   },
   {
    "duration": 7,
    "start_time": "2022-02-06T12:24:07.736Z"
   },
   {
    "duration": 22,
    "start_time": "2022-02-06T12:24:07.745Z"
   },
   {
    "duration": 238,
    "start_time": "2022-02-06T12:24:07.769Z"
   },
   {
    "duration": 28,
    "start_time": "2022-02-06T12:24:08.009Z"
   },
   {
    "duration": 675,
    "start_time": "2022-02-06T12:25:41.177Z"
   },
   {
    "duration": 213,
    "start_time": "2022-02-06T12:25:41.854Z"
   },
   {
    "duration": 176,
    "start_time": "2022-02-06T12:25:42.070Z"
   },
   {
    "duration": 119,
    "start_time": "2022-02-06T12:25:42.249Z"
   },
   {
    "duration": 29,
    "start_time": "2022-02-06T12:25:42.370Z"
   },
   {
    "duration": 10,
    "start_time": "2022-02-06T12:25:42.407Z"
   },
   {
    "duration": 50,
    "start_time": "2022-02-06T12:25:42.419Z"
   },
   {
    "duration": 134,
    "start_time": "2022-02-06T12:25:42.472Z"
   },
   {
    "duration": 11,
    "start_time": "2022-02-06T12:25:42.609Z"
   },
   {
    "duration": 65,
    "start_time": "2022-02-06T12:25:42.622Z"
   },
   {
    "duration": 55,
    "start_time": "2022-02-06T12:25:42.690Z"
   },
   {
    "duration": 60,
    "start_time": "2022-02-06T12:25:42.747Z"
   },
   {
    "duration": 34,
    "start_time": "2022-02-06T12:25:42.809Z"
   },
   {
    "duration": 11,
    "start_time": "2022-02-06T12:25:42.845Z"
   },
   {
    "duration": 10,
    "start_time": "2022-02-06T12:25:42.857Z"
   },
   {
    "duration": 48,
    "start_time": "2022-02-06T12:25:42.869Z"
   },
   {
    "duration": 8,
    "start_time": "2022-02-06T12:25:42.919Z"
   },
   {
    "duration": 20,
    "start_time": "2022-02-06T12:25:42.929Z"
   },
   {
    "duration": 9,
    "start_time": "2022-02-06T12:25:42.951Z"
   },
   {
    "duration": 60,
    "start_time": "2022-02-06T12:25:42.962Z"
   },
   {
    "duration": 324,
    "start_time": "2022-02-06T12:25:43.024Z"
   },
   {
    "duration": -1221,
    "start_time": "2022-02-06T12:25:44.572Z"
   },
   {
    "duration": -1224,
    "start_time": "2022-02-06T12:25:44.575Z"
   },
   {
    "duration": 296,
    "start_time": "2022-02-06T12:25:59.804Z"
   },
   {
    "duration": 969,
    "start_time": "2022-02-06T12:26:06.423Z"
   },
   {
    "duration": 747,
    "start_time": "2022-02-06T12:26:53.212Z"
   },
   {
    "duration": 215,
    "start_time": "2022-02-06T12:26:53.962Z"
   },
   {
    "duration": 183,
    "start_time": "2022-02-06T12:26:54.180Z"
   },
   {
    "duration": 123,
    "start_time": "2022-02-06T12:26:54.366Z"
   },
   {
    "duration": 29,
    "start_time": "2022-02-06T12:26:54.491Z"
   },
   {
    "duration": 14,
    "start_time": "2022-02-06T12:26:54.522Z"
   },
   {
    "duration": 49,
    "start_time": "2022-02-06T12:26:54.538Z"
   },
   {
    "duration": 142,
    "start_time": "2022-02-06T12:26:54.591Z"
   },
   {
    "duration": 12,
    "start_time": "2022-02-06T12:26:54.735Z"
   },
   {
    "duration": 82,
    "start_time": "2022-02-06T12:26:54.749Z"
   },
   {
    "duration": 43,
    "start_time": "2022-02-06T12:26:54.833Z"
   },
   {
    "duration": 70,
    "start_time": "2022-02-06T12:26:54.878Z"
   },
   {
    "duration": 44,
    "start_time": "2022-02-06T12:26:54.950Z"
   },
   {
    "duration": 13,
    "start_time": "2022-02-06T12:26:55.009Z"
   },
   {
    "duration": 15,
    "start_time": "2022-02-06T12:26:55.024Z"
   },
   {
    "duration": 21,
    "start_time": "2022-02-06T12:26:55.041Z"
   },
   {
    "duration": 9,
    "start_time": "2022-02-06T12:26:55.065Z"
   },
   {
    "duration": 48,
    "start_time": "2022-02-06T12:26:55.076Z"
   },
   {
    "duration": 8,
    "start_time": "2022-02-06T12:26:55.126Z"
   },
   {
    "duration": 30,
    "start_time": "2022-02-06T12:26:55.136Z"
   },
   {
    "duration": 6,
    "start_time": "2022-02-06T12:26:55.168Z"
   },
   {
    "duration": 264,
    "start_time": "2022-02-06T12:26:55.176Z"
   },
   {
    "duration": 32,
    "start_time": "2022-02-06T12:26:55.443Z"
   },
   {
    "duration": 34,
    "start_time": "2022-02-06T12:27:32.097Z"
   },
   {
    "duration": 33,
    "start_time": "2022-02-06T12:27:38.188Z"
   },
   {
    "duration": 4,
    "start_time": "2022-02-06T12:27:50.355Z"
   },
   {
    "duration": 408,
    "start_time": "2022-02-06T12:31:59.320Z"
   },
   {
    "duration": 605,
    "start_time": "2022-02-06T12:32:26.114Z"
   },
   {
    "duration": 199,
    "start_time": "2022-02-06T12:32:26.721Z"
   },
   {
    "duration": 163,
    "start_time": "2022-02-06T12:32:26.922Z"
   },
   {
    "duration": 116,
    "start_time": "2022-02-06T12:32:27.087Z"
   },
   {
    "duration": 26,
    "start_time": "2022-02-06T12:32:27.208Z"
   },
   {
    "duration": 21,
    "start_time": "2022-02-06T12:32:27.236Z"
   },
   {
    "duration": 57,
    "start_time": "2022-02-06T12:32:27.259Z"
   },
   {
    "duration": 140,
    "start_time": "2022-02-06T12:32:27.319Z"
   },
   {
    "duration": 11,
    "start_time": "2022-02-06T12:32:27.462Z"
   },
   {
    "duration": 81,
    "start_time": "2022-02-06T12:32:27.476Z"
   },
   {
    "duration": 48,
    "start_time": "2022-02-06T12:32:27.559Z"
   },
   {
    "duration": 44,
    "start_time": "2022-02-06T12:32:27.610Z"
   },
   {
    "duration": 56,
    "start_time": "2022-02-06T12:32:27.656Z"
   },
   {
    "duration": 12,
    "start_time": "2022-02-06T12:32:27.715Z"
   },
   {
    "duration": 22,
    "start_time": "2022-02-06T12:32:27.729Z"
   },
   {
    "duration": 26,
    "start_time": "2022-02-06T12:32:27.753Z"
   },
   {
    "duration": 11,
    "start_time": "2022-02-06T12:32:27.781Z"
   },
   {
    "duration": 27,
    "start_time": "2022-02-06T12:32:27.794Z"
   },
   {
    "duration": 9,
    "start_time": "2022-02-06T12:32:27.823Z"
   },
   {
    "duration": 40,
    "start_time": "2022-02-06T12:32:27.833Z"
   },
   {
    "duration": 9,
    "start_time": "2022-02-06T12:32:27.875Z"
   },
   {
    "duration": 208,
    "start_time": "2022-02-06T12:32:27.886Z"
   },
   {
    "duration": 9,
    "start_time": "2022-02-06T12:32:28.098Z"
   },
   {
    "duration": 26,
    "start_time": "2022-02-06T12:32:28.109Z"
   },
   {
    "duration": 290,
    "start_time": "2022-02-06T12:32:28.136Z"
   },
   {
    "duration": 249,
    "start_time": "2022-02-06T12:33:08.864Z"
   },
   {
    "duration": 9,
    "start_time": "2022-02-06T12:33:34.287Z"
   },
   {
    "duration": 336,
    "start_time": "2022-02-06T12:34:11.556Z"
   },
   {
    "duration": 649,
    "start_time": "2022-02-06T12:34:20.565Z"
   },
   {
    "duration": 678,
    "start_time": "2022-02-06T12:35:22.434Z"
   },
   {
    "duration": 205,
    "start_time": "2022-02-06T12:35:23.114Z"
   },
   {
    "duration": 175,
    "start_time": "2022-02-06T12:35:23.324Z"
   },
   {
    "duration": 118,
    "start_time": "2022-02-06T12:35:23.508Z"
   },
   {
    "duration": 29,
    "start_time": "2022-02-06T12:35:23.628Z"
   },
   {
    "duration": 16,
    "start_time": "2022-02-06T12:35:23.659Z"
   },
   {
    "duration": 55,
    "start_time": "2022-02-06T12:35:23.678Z"
   },
   {
    "duration": 132,
    "start_time": "2022-02-06T12:35:23.735Z"
   },
   {
    "duration": 11,
    "start_time": "2022-02-06T12:35:23.869Z"
   },
   {
    "duration": 89,
    "start_time": "2022-02-06T12:35:23.882Z"
   },
   {
    "duration": 42,
    "start_time": "2022-02-06T12:35:23.973Z"
   },
   {
    "duration": 45,
    "start_time": "2022-02-06T12:35:24.017Z"
   },
   {
    "duration": 56,
    "start_time": "2022-02-06T12:35:24.064Z"
   },
   {
    "duration": 11,
    "start_time": "2022-02-06T12:35:24.122Z"
   },
   {
    "duration": 9,
    "start_time": "2022-02-06T12:35:24.135Z"
   },
   {
    "duration": 35,
    "start_time": "2022-02-06T12:35:24.146Z"
   },
   {
    "duration": 8,
    "start_time": "2022-02-06T12:35:24.182Z"
   },
   {
    "duration": 33,
    "start_time": "2022-02-06T12:35:24.192Z"
   },
   {
    "duration": 10,
    "start_time": "2022-02-06T12:35:24.227Z"
   },
   {
    "duration": 37,
    "start_time": "2022-02-06T12:35:24.239Z"
   },
   {
    "duration": 7,
    "start_time": "2022-02-06T12:35:24.278Z"
   },
   {
    "duration": 283,
    "start_time": "2022-02-06T12:35:24.289Z"
   },
   {
    "duration": 4,
    "start_time": "2022-02-06T12:35:24.574Z"
   },
   {
    "duration": 63,
    "start_time": "2022-02-06T12:35:24.580Z"
   },
   {
    "duration": 243,
    "start_time": "2022-02-06T12:35:24.645Z"
   },
   {
    "duration": 270,
    "start_time": "2022-02-06T12:36:25.555Z"
   },
   {
    "duration": 280,
    "start_time": "2022-02-06T12:36:50.010Z"
   },
   {
    "duration": 409,
    "start_time": "2022-02-06T12:40:01.773Z"
   },
   {
    "duration": 275,
    "start_time": "2022-02-06T12:40:21.305Z"
   },
   {
    "duration": 275,
    "start_time": "2022-02-06T12:48:21.304Z"
   },
   {
    "duration": 231,
    "start_time": "2022-02-06T12:50:03.424Z"
   },
   {
    "duration": 401,
    "start_time": "2022-02-06T12:50:09.750Z"
   },
   {
    "duration": 306,
    "start_time": "2022-02-06T12:50:44.072Z"
   },
   {
    "duration": 291,
    "start_time": "2022-02-06T12:51:02.087Z"
   },
   {
    "duration": 262,
    "start_time": "2022-02-06T12:53:11.992Z"
   },
   {
    "duration": 266,
    "start_time": "2022-02-06T12:53:22.292Z"
   },
   {
    "duration": 380,
    "start_time": "2022-02-06T12:53:53.601Z"
   },
   {
    "duration": 301,
    "start_time": "2022-02-06T12:55:11.455Z"
   },
   {
    "duration": 345,
    "start_time": "2022-02-06T12:57:16.607Z"
   },
   {
    "duration": 260,
    "start_time": "2022-02-06T12:58:43.274Z"
   },
   {
    "duration": 255,
    "start_time": "2022-02-06T12:58:54.558Z"
   },
   {
    "duration": 261,
    "start_time": "2022-02-06T12:59:50.469Z"
   },
   {
    "duration": 218,
    "start_time": "2022-02-06T13:00:26.207Z"
   },
   {
    "duration": 227,
    "start_time": "2022-02-06T13:00:39.516Z"
   },
   {
    "duration": 294,
    "start_time": "2022-02-06T13:00:58.597Z"
   },
   {
    "duration": 292,
    "start_time": "2022-02-06T13:01:20.571Z"
   },
   {
    "duration": 281,
    "start_time": "2022-02-06T13:02:38.451Z"
   },
   {
    "duration": 322,
    "start_time": "2022-02-06T13:03:06.685Z"
   },
   {
    "duration": 185,
    "start_time": "2022-02-06T13:03:32.771Z"
   },
   {
    "duration": 695,
    "start_time": "2022-02-06T13:03:46.361Z"
   },
   {
    "duration": 236,
    "start_time": "2022-02-06T13:03:47.059Z"
   },
   {
    "duration": 255,
    "start_time": "2022-02-06T13:03:47.298Z"
   },
   {
    "duration": 121,
    "start_time": "2022-02-06T13:03:47.555Z"
   },
   {
    "duration": 26,
    "start_time": "2022-02-06T13:03:47.679Z"
   },
   {
    "duration": 40,
    "start_time": "2022-02-06T13:03:47.707Z"
   },
   {
    "duration": 49,
    "start_time": "2022-02-06T13:03:47.749Z"
   },
   {
    "duration": 126,
    "start_time": "2022-02-06T13:03:47.801Z"
   },
   {
    "duration": 11,
    "start_time": "2022-02-06T13:03:47.930Z"
   },
   {
    "duration": 74,
    "start_time": "2022-02-06T13:03:47.943Z"
   },
   {
    "duration": 39,
    "start_time": "2022-02-06T13:03:48.019Z"
   },
   {
    "duration": 58,
    "start_time": "2022-02-06T13:03:48.060Z"
   },
   {
    "duration": 32,
    "start_time": "2022-02-06T13:03:48.120Z"
   },
   {
    "duration": 11,
    "start_time": "2022-02-06T13:03:48.154Z"
   },
   {
    "duration": 9,
    "start_time": "2022-02-06T13:03:48.167Z"
   },
   {
    "duration": 44,
    "start_time": "2022-02-06T13:03:48.178Z"
   },
   {
    "duration": 8,
    "start_time": "2022-02-06T13:03:48.225Z"
   },
   {
    "duration": 21,
    "start_time": "2022-02-06T13:03:48.235Z"
   },
   {
    "duration": 8,
    "start_time": "2022-02-06T13:03:48.258Z"
   },
   {
    "duration": 53,
    "start_time": "2022-02-06T13:03:48.268Z"
   },
   {
    "duration": 6,
    "start_time": "2022-02-06T13:03:48.323Z"
   },
   {
    "duration": 223,
    "start_time": "2022-02-06T13:03:48.331Z"
   },
   {
    "duration": 4,
    "start_time": "2022-02-06T13:03:48.557Z"
   },
   {
    "duration": 43,
    "start_time": "2022-02-06T13:03:48.564Z"
   },
   {
    "duration": 309,
    "start_time": "2022-02-06T13:03:48.610Z"
   },
   {
    "duration": 295,
    "start_time": "2022-02-06T13:03:48.921Z"
   },
   {
    "duration": 313,
    "start_time": "2022-02-06T13:03:49.218Z"
   },
   {
    "duration": 339,
    "start_time": "2022-02-06T13:08:01.531Z"
   },
   {
    "duration": 317,
    "start_time": "2022-02-06T13:10:45.794Z"
   },
   {
    "duration": 314,
    "start_time": "2022-02-06T13:11:25.071Z"
   },
   {
    "duration": 317,
    "start_time": "2022-02-06T13:11:36.595Z"
   },
   {
    "duration": 313,
    "start_time": "2022-02-06T13:16:25.365Z"
   },
   {
    "duration": 310,
    "start_time": "2022-02-06T13:16:55.718Z"
   },
   {
    "duration": 296,
    "start_time": "2022-02-06T13:17:41.770Z"
   },
   {
    "duration": 285,
    "start_time": "2022-02-06T13:17:48.207Z"
   },
   {
    "duration": 407,
    "start_time": "2022-02-06T13:18:09.603Z"
   },
   {
    "duration": 279,
    "start_time": "2022-02-06T13:21:53.609Z"
   },
   {
    "duration": 408,
    "start_time": "2022-02-06T13:22:11.137Z"
   },
   {
    "duration": 274,
    "start_time": "2022-02-06T13:40:34.233Z"
   },
   {
    "duration": 70,
    "start_time": "2022-02-06T13:41:05.902Z"
   },
   {
    "duration": 291,
    "start_time": "2022-02-06T13:41:11.844Z"
   },
   {
    "duration": 288,
    "start_time": "2022-02-06T13:41:53.661Z"
   },
   {
    "duration": 264,
    "start_time": "2022-02-06T13:42:06.450Z"
   },
   {
    "duration": 358,
    "start_time": "2022-02-06T13:42:14.658Z"
   },
   {
    "duration": 243,
    "start_time": "2022-02-06T13:42:20.569Z"
   },
   {
    "duration": 243,
    "start_time": "2022-02-06T13:42:30.865Z"
   },
   {
    "duration": 1198,
    "start_time": "2022-02-06T13:44:50.168Z"
   },
   {
    "duration": 317,
    "start_time": "2022-02-06T13:44:51.369Z"
   },
   {
    "duration": 269,
    "start_time": "2022-02-06T13:44:51.689Z"
   },
   {
    "duration": 180,
    "start_time": "2022-02-06T13:44:51.961Z"
   },
   {
    "duration": 29,
    "start_time": "2022-02-06T13:44:52.143Z"
   },
   {
    "duration": 18,
    "start_time": "2022-02-06T13:44:52.174Z"
   },
   {
    "duration": 58,
    "start_time": "2022-02-06T13:44:52.194Z"
   },
   {
    "duration": 192,
    "start_time": "2022-02-06T13:44:52.256Z"
   },
   {
    "duration": 17,
    "start_time": "2022-02-06T13:44:52.451Z"
   },
   {
    "duration": 106,
    "start_time": "2022-02-06T13:44:52.471Z"
   },
   {
    "duration": 60,
    "start_time": "2022-02-06T13:44:52.579Z"
   },
   {
    "duration": 75,
    "start_time": "2022-02-06T13:44:52.642Z"
   },
   {
    "duration": 52,
    "start_time": "2022-02-06T13:44:52.719Z"
   },
   {
    "duration": 12,
    "start_time": "2022-02-06T13:44:52.772Z"
   },
   {
    "duration": 29,
    "start_time": "2022-02-06T13:44:52.785Z"
   },
   {
    "duration": 21,
    "start_time": "2022-02-06T13:44:52.816Z"
   },
   {
    "duration": 7,
    "start_time": "2022-02-06T13:44:52.839Z"
   },
   {
    "duration": 23,
    "start_time": "2022-02-06T13:44:52.848Z"
   },
   {
    "duration": 35,
    "start_time": "2022-02-06T13:44:52.873Z"
   },
   {
    "duration": 25,
    "start_time": "2022-02-06T13:44:52.910Z"
   },
   {
    "duration": 6,
    "start_time": "2022-02-06T13:44:52.937Z"
   },
   {
    "duration": 242,
    "start_time": "2022-02-06T13:44:52.945Z"
   },
   {
    "duration": 5,
    "start_time": "2022-02-06T13:44:53.191Z"
   },
   {
    "duration": 37,
    "start_time": "2022-02-06T13:44:53.198Z"
   },
   {
    "duration": 380,
    "start_time": "2022-02-06T13:44:53.237Z"
   },
   {
    "duration": 498,
    "start_time": "2022-02-06T13:44:53.620Z"
   },
   {
    "duration": 296,
    "start_time": "2022-02-06T13:44:54.121Z"
   },
   {
    "duration": 324,
    "start_time": "2022-02-06T13:44:54.419Z"
   },
   {
    "duration": 331,
    "start_time": "2022-02-06T13:44:54.745Z"
   },
   {
    "duration": 437,
    "start_time": "2022-02-06T13:44:55.078Z"
   },
   {
    "duration": 347,
    "start_time": "2022-02-06T13:44:55.517Z"
   },
   {
    "duration": 268,
    "start_time": "2022-02-06T13:44:55.866Z"
   },
   {
    "duration": 1088,
    "start_time": "2022-02-06T13:57:49.237Z"
   },
   {
    "duration": 209,
    "start_time": "2022-02-06T13:57:50.327Z"
   },
   {
    "duration": 167,
    "start_time": "2022-02-06T13:57:50.538Z"
   },
   {
    "duration": 126,
    "start_time": "2022-02-06T13:57:50.707Z"
   },
   {
    "duration": 27,
    "start_time": "2022-02-06T13:57:50.835Z"
   },
   {
    "duration": 23,
    "start_time": "2022-02-06T13:57:50.863Z"
   },
   {
    "duration": 58,
    "start_time": "2022-02-06T13:57:50.888Z"
   },
   {
    "duration": 136,
    "start_time": "2022-02-06T13:57:50.950Z"
   },
   {
    "duration": 20,
    "start_time": "2022-02-06T13:57:51.089Z"
   },
   {
    "duration": 57,
    "start_time": "2022-02-06T13:57:51.111Z"
   },
   {
    "duration": 54,
    "start_time": "2022-02-06T13:57:51.170Z"
   },
   {
    "duration": 50,
    "start_time": "2022-02-06T13:57:51.226Z"
   },
   {
    "duration": 49,
    "start_time": "2022-02-06T13:57:51.277Z"
   },
   {
    "duration": 10,
    "start_time": "2022-02-06T13:57:51.328Z"
   },
   {
    "duration": 22,
    "start_time": "2022-02-06T13:57:51.339Z"
   },
   {
    "duration": 37,
    "start_time": "2022-02-06T13:57:51.363Z"
   },
   {
    "duration": 12,
    "start_time": "2022-02-06T13:57:51.402Z"
   },
   {
    "duration": 28,
    "start_time": "2022-02-06T13:57:51.415Z"
   },
   {
    "duration": 25,
    "start_time": "2022-02-06T13:57:51.444Z"
   },
   {
    "duration": 38,
    "start_time": "2022-02-06T13:57:51.471Z"
   },
   {
    "duration": 21,
    "start_time": "2022-02-06T13:57:51.511Z"
   },
   {
    "duration": 239,
    "start_time": "2022-02-06T13:57:51.534Z"
   },
   {
    "duration": 4,
    "start_time": "2022-02-06T13:57:51.776Z"
   },
   {
    "duration": 50,
    "start_time": "2022-02-06T13:57:51.782Z"
   },
   {
    "duration": 308,
    "start_time": "2022-02-06T13:57:51.834Z"
   },
   {
    "duration": 297,
    "start_time": "2022-02-06T13:57:52.144Z"
   },
   {
    "duration": 282,
    "start_time": "2022-02-06T13:57:52.443Z"
   },
   {
    "duration": 327,
    "start_time": "2022-02-06T13:57:52.726Z"
   },
   {
    "duration": 306,
    "start_time": "2022-02-06T13:57:53.055Z"
   },
   {
    "duration": 309,
    "start_time": "2022-02-06T13:57:53.363Z"
   },
   {
    "duration": 343,
    "start_time": "2022-02-06T13:57:53.673Z"
   },
   {
    "duration": 259,
    "start_time": "2022-02-06T13:57:54.017Z"
   },
   {
    "duration": 6,
    "start_time": "2022-02-06T13:57:54.278Z"
   },
   {
    "duration": 7,
    "start_time": "2022-02-06T13:58:19.967Z"
   },
   {
    "duration": 1179,
    "start_time": "2022-02-06T13:58:31.626Z"
   },
   {
    "duration": 199,
    "start_time": "2022-02-06T13:58:32.807Z"
   },
   {
    "duration": 170,
    "start_time": "2022-02-06T13:58:33.010Z"
   },
   {
    "duration": 118,
    "start_time": "2022-02-06T13:58:33.182Z"
   },
   {
    "duration": 28,
    "start_time": "2022-02-06T13:58:33.306Z"
   },
   {
    "duration": 14,
    "start_time": "2022-02-06T13:58:33.336Z"
   },
   {
    "duration": 48,
    "start_time": "2022-02-06T13:58:33.353Z"
   },
   {
    "duration": 131,
    "start_time": "2022-02-06T13:58:33.403Z"
   },
   {
    "duration": 10,
    "start_time": "2022-02-06T13:58:33.536Z"
   },
   {
    "duration": 75,
    "start_time": "2022-02-06T13:58:33.548Z"
   },
   {
    "duration": 38,
    "start_time": "2022-02-06T13:58:33.625Z"
   },
   {
    "duration": 59,
    "start_time": "2022-02-06T13:58:33.665Z"
   },
   {
    "duration": 32,
    "start_time": "2022-02-06T13:58:33.726Z"
   },
   {
    "duration": 12,
    "start_time": "2022-02-06T13:58:33.759Z"
   },
   {
    "duration": 38,
    "start_time": "2022-02-06T13:58:33.772Z"
   },
   {
    "duration": 17,
    "start_time": "2022-02-06T13:58:33.812Z"
   },
   {
    "duration": 9,
    "start_time": "2022-02-06T13:58:33.832Z"
   },
   {
    "duration": 21,
    "start_time": "2022-02-06T13:58:33.843Z"
   },
   {
    "duration": 42,
    "start_time": "2022-02-06T13:58:33.867Z"
   },
   {
    "duration": 28,
    "start_time": "2022-02-06T13:58:33.911Z"
   },
   {
    "duration": 5,
    "start_time": "2022-02-06T13:58:33.941Z"
   },
   {
    "duration": 237,
    "start_time": "2022-02-06T13:58:33.950Z"
   },
   {
    "duration": 4,
    "start_time": "2022-02-06T13:58:34.189Z"
   },
   {
    "duration": 45,
    "start_time": "2022-02-06T13:58:34.195Z"
   },
   {
    "duration": 308,
    "start_time": "2022-02-06T13:58:34.242Z"
   },
   {
    "duration": 290,
    "start_time": "2022-02-06T13:58:34.552Z"
   },
   {
    "duration": 295,
    "start_time": "2022-02-06T13:58:34.843Z"
   },
   {
    "duration": 318,
    "start_time": "2022-02-06T13:58:35.141Z"
   },
   {
    "duration": 321,
    "start_time": "2022-02-06T13:58:35.461Z"
   },
   {
    "duration": 316,
    "start_time": "2022-02-06T13:58:35.783Z"
   },
   {
    "duration": 339,
    "start_time": "2022-02-06T13:58:36.107Z"
   },
   {
    "duration": 262,
    "start_time": "2022-02-06T13:58:36.448Z"
   },
   {
    "duration": 5,
    "start_time": "2022-02-06T13:58:36.712Z"
   },
   {
    "duration": 6,
    "start_time": "2022-02-06T13:58:43.856Z"
   },
   {
    "duration": 5,
    "start_time": "2022-02-06T14:01:59.521Z"
   },
   {
    "duration": 7,
    "start_time": "2022-02-06T14:02:13.578Z"
   },
   {
    "duration": 6,
    "start_time": "2022-02-06T14:13:29.693Z"
   },
   {
    "duration": 31,
    "start_time": "2022-02-06T14:17:29.136Z"
   },
   {
    "duration": 28,
    "start_time": "2022-02-06T14:17:48.168Z"
   },
   {
    "duration": 10,
    "start_time": "2022-02-06T14:19:02.821Z"
   },
   {
    "duration": 38,
    "start_time": "2022-02-06T14:19:13.890Z"
   },
   {
    "duration": 14,
    "start_time": "2022-02-06T14:21:07.566Z"
   },
   {
    "duration": 1215,
    "start_time": "2022-02-06T14:22:01.151Z"
   },
   {
    "duration": 254,
    "start_time": "2022-02-06T14:22:02.368Z"
   },
   {
    "duration": 224,
    "start_time": "2022-02-06T14:22:02.624Z"
   },
   {
    "duration": 122,
    "start_time": "2022-02-06T14:22:02.850Z"
   },
   {
    "duration": 26,
    "start_time": "2022-02-06T14:22:02.974Z"
   },
   {
    "duration": 34,
    "start_time": "2022-02-06T14:22:03.002Z"
   },
   {
    "duration": 50,
    "start_time": "2022-02-06T14:22:03.037Z"
   },
   {
    "duration": 135,
    "start_time": "2022-02-06T14:22:03.090Z"
   },
   {
    "duration": 10,
    "start_time": "2022-02-06T14:22:03.228Z"
   },
   {
    "duration": 74,
    "start_time": "2022-02-06T14:22:03.240Z"
   },
   {
    "duration": 39,
    "start_time": "2022-02-06T14:22:03.316Z"
   },
   {
    "duration": 53,
    "start_time": "2022-02-06T14:22:03.357Z"
   },
   {
    "duration": 40,
    "start_time": "2022-02-06T14:22:03.412Z"
   },
   {
    "duration": 11,
    "start_time": "2022-02-06T14:22:03.454Z"
   },
   {
    "duration": 12,
    "start_time": "2022-02-06T14:22:03.467Z"
   },
   {
    "duration": 54,
    "start_time": "2022-02-06T14:22:03.481Z"
   },
   {
    "duration": 8,
    "start_time": "2022-02-06T14:22:03.537Z"
   },
   {
    "duration": 21,
    "start_time": "2022-02-06T14:22:03.547Z"
   },
   {
    "duration": 14,
    "start_time": "2022-02-06T14:22:03.570Z"
   },
   {
    "duration": 44,
    "start_time": "2022-02-06T14:22:03.587Z"
   },
   {
    "duration": 5,
    "start_time": "2022-02-06T14:22:03.633Z"
   },
   {
    "duration": 243,
    "start_time": "2022-02-06T14:22:03.640Z"
   },
   {
    "duration": 4,
    "start_time": "2022-02-06T14:22:03.886Z"
   },
   {
    "duration": 41,
    "start_time": "2022-02-06T14:22:03.892Z"
   },
   {
    "duration": 330,
    "start_time": "2022-02-06T14:22:03.935Z"
   },
   {
    "duration": 310,
    "start_time": "2022-02-06T14:22:04.267Z"
   },
   {
    "duration": 308,
    "start_time": "2022-02-06T14:22:04.579Z"
   },
   {
    "duration": 335,
    "start_time": "2022-02-06T14:22:04.889Z"
   },
   {
    "duration": 316,
    "start_time": "2022-02-06T14:22:05.225Z"
   },
   {
    "duration": 442,
    "start_time": "2022-02-06T14:22:05.543Z"
   },
   {
    "duration": 362,
    "start_time": "2022-02-06T14:22:05.987Z"
   },
   {
    "duration": 281,
    "start_time": "2022-02-06T14:22:06.351Z"
   },
   {
    "duration": 7,
    "start_time": "2022-02-06T14:22:06.634Z"
   },
   {
    "duration": 11,
    "start_time": "2022-02-06T14:22:06.643Z"
   },
   {
    "duration": 7,
    "start_time": "2022-02-06T14:22:06.656Z"
   },
   {
    "duration": 6,
    "start_time": "2022-02-06T14:22:19.385Z"
   },
   {
    "duration": 6,
    "start_time": "2022-02-06T14:22:30.846Z"
   },
   {
    "duration": 7,
    "start_time": "2022-02-06T14:25:37.565Z"
   },
   {
    "duration": 1121,
    "start_time": "2022-02-06T15:04:55.267Z"
   },
   {
    "duration": 227,
    "start_time": "2022-02-06T15:04:56.390Z"
   },
   {
    "duration": 176,
    "start_time": "2022-02-06T15:04:56.620Z"
   },
   {
    "duration": 121,
    "start_time": "2022-02-06T15:04:56.799Z"
   },
   {
    "duration": 29,
    "start_time": "2022-02-06T15:04:56.923Z"
   },
   {
    "duration": 25,
    "start_time": "2022-02-06T15:04:56.953Z"
   },
   {
    "duration": 60,
    "start_time": "2022-02-06T15:04:56.979Z"
   },
   {
    "duration": 126,
    "start_time": "2022-02-06T15:04:57.042Z"
   },
   {
    "duration": 12,
    "start_time": "2022-02-06T15:04:57.172Z"
   },
   {
    "duration": 83,
    "start_time": "2022-02-06T15:04:57.186Z"
   },
   {
    "duration": 38,
    "start_time": "2022-02-06T15:04:57.271Z"
   },
   {
    "duration": 47,
    "start_time": "2022-02-06T15:04:57.312Z"
   },
   {
    "duration": 53,
    "start_time": "2022-02-06T15:04:57.362Z"
   },
   {
    "duration": 12,
    "start_time": "2022-02-06T15:04:57.417Z"
   },
   {
    "duration": 9,
    "start_time": "2022-02-06T15:04:57.430Z"
   },
   {
    "duration": 23,
    "start_time": "2022-02-06T15:04:57.441Z"
   },
   {
    "duration": 12,
    "start_time": "2022-02-06T15:04:57.466Z"
   },
   {
    "duration": 46,
    "start_time": "2022-02-06T15:04:57.481Z"
   },
   {
    "duration": 8,
    "start_time": "2022-02-06T15:04:57.528Z"
   },
   {
    "duration": 24,
    "start_time": "2022-02-06T15:04:57.538Z"
   },
   {
    "duration": 6,
    "start_time": "2022-02-06T15:04:57.564Z"
   },
   {
    "duration": 45,
    "start_time": "2022-02-06T15:04:57.572Z"
   },
   {
    "duration": 224,
    "start_time": "2022-02-06T15:04:57.621Z"
   },
   {
    "duration": 5,
    "start_time": "2022-02-06T15:04:57.847Z"
   },
   {
    "duration": 28,
    "start_time": "2022-02-06T15:04:57.854Z"
   },
   {
    "duration": 324,
    "start_time": "2022-02-06T15:04:57.884Z"
   },
   {
    "duration": 305,
    "start_time": "2022-02-06T15:04:58.210Z"
   },
   {
    "duration": 277,
    "start_time": "2022-02-06T15:04:58.518Z"
   },
   {
    "duration": 328,
    "start_time": "2022-02-06T15:04:58.798Z"
   },
   {
    "duration": 330,
    "start_time": "2022-02-06T15:04:59.128Z"
   },
   {
    "duration": 315,
    "start_time": "2022-02-06T15:04:59.460Z"
   },
   {
    "duration": 359,
    "start_time": "2022-02-06T15:04:59.778Z"
   },
   {
    "duration": 263,
    "start_time": "2022-02-06T15:05:00.139Z"
   },
   {
    "duration": 6,
    "start_time": "2022-02-06T15:05:00.404Z"
   },
   {
    "duration": 52,
    "start_time": "2022-02-06T15:05:00.412Z"
   },
   {
    "duration": 20,
    "start_time": "2022-02-06T15:05:00.466Z"
   },
   {
    "duration": 9,
    "start_time": "2022-02-06T15:05:41.521Z"
   },
   {
    "duration": 1138,
    "start_time": "2022-02-06T15:07:45.936Z"
   },
   {
    "duration": 210,
    "start_time": "2022-02-06T15:07:47.080Z"
   },
   {
    "duration": 169,
    "start_time": "2022-02-06T15:07:47.292Z"
   },
   {
    "duration": 116,
    "start_time": "2022-02-06T15:07:47.463Z"
   },
   {
    "duration": 28,
    "start_time": "2022-02-06T15:07:47.581Z"
   },
   {
    "duration": 11,
    "start_time": "2022-02-06T15:07:47.611Z"
   },
   {
    "duration": 50,
    "start_time": "2022-02-06T15:07:47.624Z"
   },
   {
    "duration": 121,
    "start_time": "2022-02-06T15:07:47.678Z"
   },
   {
    "duration": 16,
    "start_time": "2022-02-06T15:07:47.802Z"
   },
   {
    "duration": 61,
    "start_time": "2022-02-06T15:07:47.820Z"
   },
   {
    "duration": 54,
    "start_time": "2022-02-06T15:07:47.883Z"
   },
   {
    "duration": 42,
    "start_time": "2022-02-06T15:07:47.939Z"
   },
   {
    "duration": 50,
    "start_time": "2022-02-06T15:07:47.983Z"
   },
   {
    "duration": 10,
    "start_time": "2022-02-06T15:07:48.035Z"
   },
   {
    "duration": 7,
    "start_time": "2022-02-06T15:07:48.047Z"
   },
   {
    "duration": 24,
    "start_time": "2022-02-06T15:07:48.056Z"
   },
   {
    "duration": 32,
    "start_time": "2022-02-06T15:07:48.081Z"
   },
   {
    "duration": 28,
    "start_time": "2022-02-06T15:07:48.115Z"
   },
   {
    "duration": 8,
    "start_time": "2022-02-06T15:07:48.145Z"
   },
   {
    "duration": 54,
    "start_time": "2022-02-06T15:07:48.155Z"
   },
   {
    "duration": 6,
    "start_time": "2022-02-06T15:07:48.211Z"
   },
   {
    "duration": 14,
    "start_time": "2022-02-06T15:07:48.218Z"
   },
   {
    "duration": 230,
    "start_time": "2022-02-06T15:07:48.234Z"
   },
   {
    "duration": 4,
    "start_time": "2022-02-06T15:07:48.466Z"
   },
   {
    "duration": 42,
    "start_time": "2022-02-06T15:07:48.472Z"
   },
   {
    "duration": 319,
    "start_time": "2022-02-06T15:07:48.517Z"
   },
   {
    "duration": 293,
    "start_time": "2022-02-06T15:07:48.838Z"
   },
   {
    "duration": 286,
    "start_time": "2022-02-06T15:07:49.133Z"
   },
   {
    "duration": 319,
    "start_time": "2022-02-06T15:07:49.422Z"
   },
   {
    "duration": 317,
    "start_time": "2022-02-06T15:07:49.743Z"
   },
   {
    "duration": 311,
    "start_time": "2022-02-06T15:07:50.062Z"
   },
   {
    "duration": 333,
    "start_time": "2022-02-06T15:07:50.375Z"
   },
   {
    "duration": 242,
    "start_time": "2022-02-06T15:07:50.710Z"
   },
   {
    "duration": 5,
    "start_time": "2022-02-06T15:07:50.954Z"
   },
   {
    "duration": 17,
    "start_time": "2022-02-06T15:07:50.961Z"
   },
   {
    "duration": 28,
    "start_time": "2022-02-06T15:07:50.980Z"
   },
   {
    "duration": 12,
    "start_time": "2022-02-06T15:09:13.165Z"
   },
   {
    "duration": 1085,
    "start_time": "2022-02-06T15:09:43.423Z"
   },
   {
    "duration": 195,
    "start_time": "2022-02-06T15:09:44.510Z"
   },
   {
    "duration": 158,
    "start_time": "2022-02-06T15:09:44.708Z"
   },
   {
    "duration": 113,
    "start_time": "2022-02-06T15:09:44.868Z"
   },
   {
    "duration": 28,
    "start_time": "2022-02-06T15:09:44.982Z"
   },
   {
    "duration": 37,
    "start_time": "2022-02-06T15:09:45.012Z"
   },
   {
    "duration": 49,
    "start_time": "2022-02-06T15:09:45.051Z"
   },
   {
    "duration": 121,
    "start_time": "2022-02-06T15:09:45.105Z"
   },
   {
    "duration": 14,
    "start_time": "2022-02-06T15:09:45.229Z"
   },
   {
    "duration": 77,
    "start_time": "2022-02-06T15:09:45.245Z"
   },
   {
    "duration": 38,
    "start_time": "2022-02-06T15:09:45.325Z"
   },
   {
    "duration": 64,
    "start_time": "2022-02-06T15:09:45.365Z"
   },
   {
    "duration": 36,
    "start_time": "2022-02-06T15:09:45.431Z"
   },
   {
    "duration": 12,
    "start_time": "2022-02-06T15:09:45.468Z"
   },
   {
    "duration": 10,
    "start_time": "2022-02-06T15:09:45.506Z"
   },
   {
    "duration": 20,
    "start_time": "2022-02-06T15:09:45.518Z"
   },
   {
    "duration": 12,
    "start_time": "2022-02-06T15:09:45.540Z"
   },
   {
    "duration": 62,
    "start_time": "2022-02-06T15:09:45.554Z"
   },
   {
    "duration": 8,
    "start_time": "2022-02-06T15:09:45.618Z"
   },
   {
    "duration": 26,
    "start_time": "2022-02-06T15:09:45.628Z"
   },
   {
    "duration": 6,
    "start_time": "2022-02-06T15:09:45.656Z"
   },
   {
    "duration": 260,
    "start_time": "2022-02-06T15:09:45.664Z"
   },
   {
    "duration": 4,
    "start_time": "2022-02-06T15:09:45.927Z"
   },
   {
    "duration": 32,
    "start_time": "2022-02-06T15:09:45.932Z"
   },
   {
    "duration": 328,
    "start_time": "2022-02-06T15:09:45.966Z"
   },
   {
    "duration": 293,
    "start_time": "2022-02-06T15:09:46.296Z"
   },
   {
    "duration": 294,
    "start_time": "2022-02-06T15:09:46.591Z"
   },
   {
    "duration": 325,
    "start_time": "2022-02-06T15:09:46.887Z"
   },
   {
    "duration": 318,
    "start_time": "2022-02-06T15:09:47.214Z"
   },
   {
    "duration": 306,
    "start_time": "2022-02-06T15:09:47.534Z"
   },
   {
    "duration": 321,
    "start_time": "2022-02-06T15:09:47.842Z"
   },
   {
    "duration": 250,
    "start_time": "2022-02-06T15:09:48.165Z"
   },
   {
    "duration": 6,
    "start_time": "2022-02-06T15:09:48.417Z"
   },
   {
    "duration": 11,
    "start_time": "2022-02-06T15:09:48.425Z"
   },
   {
    "duration": 5,
    "start_time": "2022-02-06T15:09:48.439Z"
   },
   {
    "duration": 1431,
    "start_time": "2022-02-06T18:30:55.913Z"
   },
   {
    "duration": 264,
    "start_time": "2022-02-06T18:30:57.347Z"
   },
   {
    "duration": 223,
    "start_time": "2022-02-06T18:30:57.616Z"
   },
   {
    "duration": 150,
    "start_time": "2022-02-06T18:30:57.841Z"
   },
   {
    "duration": 30,
    "start_time": "2022-02-06T18:30:57.993Z"
   },
   {
    "duration": 51,
    "start_time": "2022-02-06T18:30:58.025Z"
   },
   {
    "duration": 175,
    "start_time": "2022-02-06T18:30:58.079Z"
   },
   {
    "duration": 23,
    "start_time": "2022-02-06T18:30:58.258Z"
   },
   {
    "duration": 90,
    "start_time": "2022-02-06T18:30:58.284Z"
   },
   {
    "duration": 49,
    "start_time": "2022-02-06T18:30:58.377Z"
   },
   {
    "duration": 89,
    "start_time": "2022-02-06T18:30:58.428Z"
   },
   {
    "duration": 52,
    "start_time": "2022-02-06T18:30:58.520Z"
   },
   {
    "duration": 21,
    "start_time": "2022-02-06T18:30:58.574Z"
   },
   {
    "duration": 15,
    "start_time": "2022-02-06T18:30:58.598Z"
   },
   {
    "duration": 63,
    "start_time": "2022-02-06T18:30:58.616Z"
   },
   {
    "duration": 13,
    "start_time": "2022-02-06T18:30:58.683Z"
   },
   {
    "duration": 38,
    "start_time": "2022-02-06T18:30:58.699Z"
   },
   {
    "duration": 34,
    "start_time": "2022-02-06T18:30:58.739Z"
   },
   {
    "duration": 13,
    "start_time": "2022-02-06T18:30:58.775Z"
   },
   {
    "duration": 39,
    "start_time": "2022-02-06T18:30:58.791Z"
   },
   {
    "duration": 40,
    "start_time": "2022-02-06T18:30:58.833Z"
   },
   {
    "duration": 369,
    "start_time": "2022-02-06T18:30:58.875Z"
   },
   {
    "duration": 5,
    "start_time": "2022-02-06T18:30:59.249Z"
   },
   {
    "duration": 43,
    "start_time": "2022-02-06T18:30:59.269Z"
   },
   {
    "duration": 508,
    "start_time": "2022-02-06T18:30:59.315Z"
   },
   {
    "duration": 461,
    "start_time": "2022-02-06T18:30:59.826Z"
   },
   {
    "duration": 431,
    "start_time": "2022-02-06T18:31:00.289Z"
   },
   {
    "duration": 550,
    "start_time": "2022-02-06T18:31:00.723Z"
   },
   {
    "duration": 484,
    "start_time": "2022-02-06T18:31:01.275Z"
   },
   {
    "duration": 467,
    "start_time": "2022-02-06T18:31:01.761Z"
   },
   {
    "duration": 491,
    "start_time": "2022-02-06T18:31:02.230Z"
   },
   {
    "duration": 385,
    "start_time": "2022-02-06T18:31:02.724Z"
   },
   {
    "duration": 9,
    "start_time": "2022-02-06T18:31:03.111Z"
   },
   {
    "duration": 31,
    "start_time": "2022-02-06T18:31:03.123Z"
   },
   {
    "duration": 17,
    "start_time": "2022-02-06T18:31:03.157Z"
   },
   {
    "duration": 1477,
    "start_time": "2022-02-06T18:47:29.578Z"
   },
   {
    "duration": 282,
    "start_time": "2022-02-06T18:47:31.059Z"
   },
   {
    "duration": 216,
    "start_time": "2022-02-06T18:47:31.344Z"
   },
   {
    "duration": 139,
    "start_time": "2022-02-06T18:47:31.569Z"
   },
   {
    "duration": 30,
    "start_time": "2022-02-06T18:47:31.710Z"
   },
   {
    "duration": 48,
    "start_time": "2022-02-06T18:47:31.743Z"
   },
   {
    "duration": 179,
    "start_time": "2022-02-06T18:47:31.794Z"
   },
   {
    "duration": 15,
    "start_time": "2022-02-06T18:47:31.977Z"
   },
   {
    "duration": 104,
    "start_time": "2022-02-06T18:47:31.995Z"
   },
   {
    "duration": 50,
    "start_time": "2022-02-06T18:47:32.101Z"
   },
   {
    "duration": 64,
    "start_time": "2022-02-06T18:47:32.154Z"
   },
   {
    "duration": 65,
    "start_time": "2022-02-06T18:47:32.220Z"
   },
   {
    "duration": 14,
    "start_time": "2022-02-06T18:47:32.287Z"
   },
   {
    "duration": 11,
    "start_time": "2022-02-06T18:47:32.304Z"
   },
   {
    "duration": 62,
    "start_time": "2022-02-06T18:47:32.318Z"
   },
   {
    "duration": 13,
    "start_time": "2022-02-06T18:47:32.383Z"
   },
   {
    "duration": 70,
    "start_time": "2022-02-06T18:47:32.399Z"
   },
   {
    "duration": 5,
    "start_time": "2022-02-06T18:47:32.472Z"
   },
   {
    "duration": 14,
    "start_time": "2022-02-06T18:47:32.480Z"
   },
   {
    "duration": 39,
    "start_time": "2022-02-06T18:47:32.497Z"
   },
   {
    "duration": 36,
    "start_time": "2022-02-06T18:47:32.538Z"
   },
   {
    "duration": 368,
    "start_time": "2022-02-06T18:47:32.576Z"
   },
   {
    "duration": 5,
    "start_time": "2022-02-06T18:47:32.948Z"
   },
   {
    "duration": 46,
    "start_time": "2022-02-06T18:47:32.956Z"
   },
   {
    "duration": 500,
    "start_time": "2022-02-06T18:47:33.005Z"
   },
   {
    "duration": 446,
    "start_time": "2022-02-06T18:47:33.507Z"
   },
   {
    "duration": 440,
    "start_time": "2022-02-06T18:47:33.955Z"
   },
   {
    "duration": 491,
    "start_time": "2022-02-06T18:47:34.397Z"
   },
   {
    "duration": 479,
    "start_time": "2022-02-06T18:47:34.890Z"
   },
   {
    "duration": 460,
    "start_time": "2022-02-06T18:47:35.372Z"
   },
   {
    "duration": 468,
    "start_time": "2022-02-06T18:47:35.834Z"
   },
   {
    "duration": 386,
    "start_time": "2022-02-06T18:47:36.304Z"
   },
   {
    "duration": 7,
    "start_time": "2022-02-06T18:47:36.692Z"
   },
   {
    "duration": 12,
    "start_time": "2022-02-06T18:47:36.701Z"
   },
   {
    "duration": 7,
    "start_time": "2022-02-06T18:47:36.715Z"
   },
   {
    "duration": 1073,
    "start_time": "2022-02-13T06:06:30.834Z"
   },
   {
    "duration": 219,
    "start_time": "2022-02-13T06:06:31.910Z"
   },
   {
    "duration": 193,
    "start_time": "2022-02-13T06:06:32.132Z"
   },
   {
    "duration": 111,
    "start_time": "2022-02-13T06:06:32.327Z"
   },
   {
    "duration": 22,
    "start_time": "2022-02-13T06:06:32.440Z"
   },
   {
    "duration": 84,
    "start_time": "2022-02-13T06:06:32.464Z"
   },
   {
    "duration": 147,
    "start_time": "2022-02-13T06:06:32.550Z"
   },
   {
    "duration": 10,
    "start_time": "2022-02-13T06:06:32.700Z"
   },
   {
    "duration": 110,
    "start_time": "2022-02-13T06:06:32.713Z"
   },
   {
    "duration": 38,
    "start_time": "2022-02-13T06:06:32.824Z"
   },
   {
    "duration": 72,
    "start_time": "2022-02-13T06:06:32.863Z"
   },
   {
    "duration": 88,
    "start_time": "2022-02-13T06:06:32.937Z"
   },
   {
    "duration": 29,
    "start_time": "2022-02-13T06:06:33.027Z"
   },
   {
    "duration": 28,
    "start_time": "2022-02-13T06:06:33.058Z"
   },
   {
    "duration": 68,
    "start_time": "2022-02-13T06:06:33.087Z"
   },
   {
    "duration": 24,
    "start_time": "2022-02-13T06:06:33.157Z"
   },
   {
    "duration": 64,
    "start_time": "2022-02-13T06:06:33.183Z"
   },
   {
    "duration": 16,
    "start_time": "2022-02-13T06:06:33.249Z"
   },
   {
    "duration": 26,
    "start_time": "2022-02-13T06:06:33.267Z"
   },
   {
    "duration": 52,
    "start_time": "2022-02-13T06:06:33.295Z"
   },
   {
    "duration": 6,
    "start_time": "2022-02-13T06:06:33.349Z"
   },
   {
    "duration": 244,
    "start_time": "2022-02-13T06:06:33.357Z"
   },
   {
    "duration": 6,
    "start_time": "2022-02-13T06:06:33.604Z"
   },
   {
    "duration": 85,
    "start_time": "2022-02-13T06:06:33.612Z"
   },
   {
    "duration": 316,
    "start_time": "2022-02-13T06:06:33.698Z"
   },
   {
    "duration": 294,
    "start_time": "2022-02-13T06:06:34.017Z"
   },
   {
    "duration": 277,
    "start_time": "2022-02-13T06:06:34.313Z"
   },
   {
    "duration": 310,
    "start_time": "2022-02-13T06:06:34.592Z"
   },
   {
    "duration": 313,
    "start_time": "2022-02-13T06:06:34.908Z"
   },
   {
    "duration": 297,
    "start_time": "2022-02-13T06:06:35.223Z"
   },
   {
    "duration": 332,
    "start_time": "2022-02-13T06:06:35.522Z"
   },
   {
    "duration": 299,
    "start_time": "2022-02-13T06:06:35.856Z"
   },
   {
    "duration": 5,
    "start_time": "2022-02-13T06:06:36.157Z"
   },
   {
    "duration": 16,
    "start_time": "2022-02-13T06:06:36.164Z"
   },
   {
    "duration": 12,
    "start_time": "2022-02-13T06:06:36.182Z"
   },
   {
    "duration": 328,
    "start_time": "2022-02-13T06:08:08.800Z"
   },
   {
    "duration": 5,
    "start_time": "2022-02-13T06:08:15.086Z"
   },
   {
    "duration": 1050,
    "start_time": "2022-02-13T13:31:05.854Z"
   },
   {
    "duration": 175,
    "start_time": "2022-02-13T13:31:06.906Z"
   },
   {
    "duration": 148,
    "start_time": "2022-02-13T13:31:07.083Z"
   },
   {
    "duration": 114,
    "start_time": "2022-02-13T13:31:07.233Z"
   },
   {
    "duration": 18,
    "start_time": "2022-02-13T13:31:07.349Z"
   },
   {
    "duration": 33,
    "start_time": "2022-02-13T13:31:07.369Z"
   },
   {
    "duration": 130,
    "start_time": "2022-02-13T13:31:07.403Z"
   },
   {
    "duration": 10,
    "start_time": "2022-02-13T13:31:07.536Z"
   },
   {
    "duration": 58,
    "start_time": "2022-02-13T13:31:07.548Z"
   },
   {
    "duration": 41,
    "start_time": "2022-02-13T13:31:07.608Z"
   },
   {
    "duration": 37,
    "start_time": "2022-02-13T13:31:07.651Z"
   },
   {
    "duration": 50,
    "start_time": "2022-02-13T13:31:07.690Z"
   },
   {
    "duration": 8,
    "start_time": "2022-02-13T13:31:07.742Z"
   },
   {
    "duration": 12,
    "start_time": "2022-02-13T13:31:07.752Z"
   },
   {
    "duration": 17,
    "start_time": "2022-02-13T13:31:07.765Z"
   },
   {
    "duration": 35,
    "start_time": "2022-02-13T13:31:07.783Z"
   },
   {
    "duration": 30,
    "start_time": "2022-02-13T13:31:07.820Z"
   },
   {
    "duration": 4,
    "start_time": "2022-02-13T13:31:07.852Z"
   },
   {
    "duration": 18,
    "start_time": "2022-02-13T13:31:07.857Z"
   },
   {
    "duration": 23,
    "start_time": "2022-02-13T13:31:07.876Z"
   },
   {
    "duration": 22,
    "start_time": "2022-02-13T13:31:07.900Z"
   },
   {
    "duration": 219,
    "start_time": "2022-02-13T13:31:07.924Z"
   },
   {
    "duration": 4,
    "start_time": "2022-02-13T13:31:08.146Z"
   },
   {
    "duration": 31,
    "start_time": "2022-02-13T13:31:08.152Z"
   },
   {
    "duration": 293,
    "start_time": "2022-02-13T13:31:08.185Z"
   },
   {
    "duration": 261,
    "start_time": "2022-02-13T13:31:08.480Z"
   },
   {
    "duration": 260,
    "start_time": "2022-02-13T13:31:08.743Z"
   },
   {
    "duration": 293,
    "start_time": "2022-02-13T13:31:09.005Z"
   },
   {
    "duration": 289,
    "start_time": "2022-02-13T13:31:09.300Z"
   },
   {
    "duration": 282,
    "start_time": "2022-02-13T13:31:09.591Z"
   },
   {
    "duration": 234,
    "start_time": "2022-02-13T13:31:09.875Z"
   },
   {
    "duration": 303,
    "start_time": "2022-02-13T13:31:10.118Z"
   },
   {
    "duration": 6,
    "start_time": "2022-02-13T13:31:10.422Z"
   },
   {
    "duration": 14,
    "start_time": "2022-02-13T13:31:10.429Z"
   },
   {
    "duration": 9,
    "start_time": "2022-02-13T13:31:10.445Z"
   },
   {
    "duration": 1043,
    "start_time": "2022-02-13T13:36:01.364Z"
   },
   {
    "duration": 184,
    "start_time": "2022-02-13T13:36:02.409Z"
   },
   {
    "duration": 153,
    "start_time": "2022-02-13T13:36:02.596Z"
   },
   {
    "duration": 101,
    "start_time": "2022-02-13T13:36:02.752Z"
   },
   {
    "duration": 20,
    "start_time": "2022-02-13T13:36:02.855Z"
   },
   {
    "duration": 33,
    "start_time": "2022-02-13T13:36:02.877Z"
   },
   {
    "duration": 122,
    "start_time": "2022-02-13T13:36:02.912Z"
   },
   {
    "duration": 9,
    "start_time": "2022-02-13T13:36:03.036Z"
   },
   {
    "duration": 54,
    "start_time": "2022-02-13T13:36:03.047Z"
   },
   {
    "duration": 35,
    "start_time": "2022-02-13T13:36:03.119Z"
   },
   {
    "duration": 37,
    "start_time": "2022-02-13T13:36:03.156Z"
   },
   {
    "duration": 47,
    "start_time": "2022-02-13T13:36:03.194Z"
   },
   {
    "duration": 10,
    "start_time": "2022-02-13T13:36:03.243Z"
   },
   {
    "duration": 19,
    "start_time": "2022-02-13T13:36:03.254Z"
   },
   {
    "duration": 15,
    "start_time": "2022-02-13T13:36:03.274Z"
   },
   {
    "duration": 34,
    "start_time": "2022-02-13T13:36:03.291Z"
   },
   {
    "duration": 23,
    "start_time": "2022-02-13T13:36:03.327Z"
   },
   {
    "duration": 3,
    "start_time": "2022-02-13T13:36:03.352Z"
   },
   {
    "duration": 13,
    "start_time": "2022-02-13T13:36:03.356Z"
   },
   {
    "duration": 23,
    "start_time": "2022-02-13T13:36:03.371Z"
   },
   {
    "duration": 26,
    "start_time": "2022-02-13T13:36:03.396Z"
   },
   {
    "duration": 216,
    "start_time": "2022-02-13T13:36:03.423Z"
   },
   {
    "duration": 4,
    "start_time": "2022-02-13T13:36:03.642Z"
   },
   {
    "duration": 31,
    "start_time": "2022-02-13T13:36:03.648Z"
   },
   {
    "duration": 291,
    "start_time": "2022-02-13T13:36:03.680Z"
   },
   {
    "duration": 268,
    "start_time": "2022-02-13T13:36:03.972Z"
   },
   {
    "duration": 287,
    "start_time": "2022-02-13T13:36:04.242Z"
   },
   {
    "duration": 297,
    "start_time": "2022-02-13T13:36:04.531Z"
   },
   {
    "duration": 289,
    "start_time": "2022-02-13T13:36:04.830Z"
   },
   {
    "duration": 390,
    "start_time": "2022-02-13T13:36:05.121Z"
   },
   {
    "duration": 231,
    "start_time": "2022-02-13T13:36:05.518Z"
   },
   {
    "duration": 339,
    "start_time": "2022-02-13T13:36:05.750Z"
   },
   {
    "duration": 5,
    "start_time": "2022-02-13T13:36:06.091Z"
   },
   {
    "duration": 21,
    "start_time": "2022-02-13T13:36:06.098Z"
   },
   {
    "duration": 11,
    "start_time": "2022-02-13T13:36:06.121Z"
   },
   {
    "duration": 17,
    "start_time": "2022-02-13T13:38:05.424Z"
   },
   {
    "duration": 18,
    "start_time": "2022-02-13T13:38:15.242Z"
   },
   {
    "duration": 18,
    "start_time": "2022-02-13T13:38:24.020Z"
   },
   {
    "duration": 19,
    "start_time": "2022-02-13T13:38:28.202Z"
   },
   {
    "duration": 17,
    "start_time": "2022-02-13T13:39:11.630Z"
   },
   {
    "duration": 19,
    "start_time": "2022-02-13T13:40:53.883Z"
   },
   {
    "duration": 20,
    "start_time": "2022-02-13T13:41:35.012Z"
   },
   {
    "duration": 18,
    "start_time": "2022-02-13T13:41:51.543Z"
   },
   {
    "duration": 16,
    "start_time": "2022-02-13T13:42:01.828Z"
   },
   {
    "duration": 296,
    "start_time": "2022-02-13T13:42:31.289Z"
   },
   {
    "duration": 1171,
    "start_time": "2022-02-13T13:43:10.115Z"
   },
   {
    "duration": 181,
    "start_time": "2022-02-13T13:43:11.289Z"
   },
   {
    "duration": 150,
    "start_time": "2022-02-13T13:43:11.472Z"
   },
   {
    "duration": 101,
    "start_time": "2022-02-13T13:43:11.624Z"
   },
   {
    "duration": 17,
    "start_time": "2022-02-13T13:43:11.727Z"
   },
   {
    "duration": 45,
    "start_time": "2022-02-13T13:43:11.745Z"
   },
   {
    "duration": 112,
    "start_time": "2022-02-13T13:43:11.792Z"
   },
   {
    "duration": 15,
    "start_time": "2022-02-13T13:43:11.907Z"
   },
   {
    "duration": 55,
    "start_time": "2022-02-13T13:43:11.924Z"
   },
   {
    "duration": 47,
    "start_time": "2022-02-13T13:43:11.981Z"
   },
   {
    "duration": 38,
    "start_time": "2022-02-13T13:43:12.029Z"
   },
   {
    "duration": 30,
    "start_time": "2022-02-13T13:43:12.069Z"
   },
   {
    "duration": 9,
    "start_time": "2022-02-13T13:43:12.119Z"
   },
   {
    "duration": 25,
    "start_time": "2022-02-13T13:43:12.130Z"
   },
   {
    "duration": 16,
    "start_time": "2022-02-13T13:43:12.157Z"
   },
   {
    "duration": 10,
    "start_time": "2022-02-13T13:43:12.175Z"
   },
   {
    "duration": 575,
    "start_time": "2022-02-13T13:43:12.187Z"
   },
   {
    "duration": -2095,
    "start_time": "2022-02-13T13:43:14.860Z"
   },
   {
    "duration": -2099,
    "start_time": "2022-02-13T13:43:14.865Z"
   },
   {
    "duration": -2102,
    "start_time": "2022-02-13T13:43:14.869Z"
   },
   {
    "duration": -2105,
    "start_time": "2022-02-13T13:43:14.873Z"
   },
   {
    "duration": -2108,
    "start_time": "2022-02-13T13:43:14.877Z"
   },
   {
    "duration": -2112,
    "start_time": "2022-02-13T13:43:14.882Z"
   },
   {
    "duration": -2123,
    "start_time": "2022-02-13T13:43:14.894Z"
   },
   {
    "duration": -2126,
    "start_time": "2022-02-13T13:43:14.898Z"
   },
   {
    "duration": -2128,
    "start_time": "2022-02-13T13:43:14.901Z"
   },
   {
    "duration": -2130,
    "start_time": "2022-02-13T13:43:14.904Z"
   },
   {
    "duration": -2131,
    "start_time": "2022-02-13T13:43:14.906Z"
   },
   {
    "duration": -2133,
    "start_time": "2022-02-13T13:43:14.909Z"
   },
   {
    "duration": -2134,
    "start_time": "2022-02-13T13:43:14.912Z"
   },
   {
    "duration": -2136,
    "start_time": "2022-02-13T13:43:14.915Z"
   },
   {
    "duration": -2138,
    "start_time": "2022-02-13T13:43:14.918Z"
   },
   {
    "duration": -2139,
    "start_time": "2022-02-13T13:43:14.920Z"
   },
   {
    "duration": -2141,
    "start_time": "2022-02-13T13:43:14.923Z"
   },
   {
    "duration": -2145,
    "start_time": "2022-02-13T13:43:14.928Z"
   },
   {
    "duration": 25,
    "start_time": "2022-02-13T13:44:42.677Z"
   },
   {
    "duration": 1070,
    "start_time": "2022-02-13T13:45:31.283Z"
   },
   {
    "duration": 184,
    "start_time": "2022-02-13T13:45:32.355Z"
   },
   {
    "duration": 151,
    "start_time": "2022-02-13T13:45:32.542Z"
   },
   {
    "duration": 110,
    "start_time": "2022-02-13T13:45:32.695Z"
   },
   {
    "duration": 23,
    "start_time": "2022-02-13T13:45:32.808Z"
   },
   {
    "duration": 30,
    "start_time": "2022-02-13T13:45:32.833Z"
   },
   {
    "duration": 126,
    "start_time": "2022-02-13T13:45:32.866Z"
   },
   {
    "duration": 10,
    "start_time": "2022-02-13T13:45:32.994Z"
   },
   {
    "duration": 68,
    "start_time": "2022-02-13T13:45:33.005Z"
   },
   {
    "duration": 44,
    "start_time": "2022-02-13T13:45:33.075Z"
   },
   {
    "duration": 40,
    "start_time": "2022-02-13T13:45:33.121Z"
   },
   {
    "duration": 34,
    "start_time": "2022-02-13T13:45:33.163Z"
   },
   {
    "duration": 27,
    "start_time": "2022-02-13T13:45:33.199Z"
   },
   {
    "duration": 16,
    "start_time": "2022-02-13T13:45:33.228Z"
   },
   {
    "duration": 16,
    "start_time": "2022-02-13T13:45:33.246Z"
   },
   {
    "duration": 11,
    "start_time": "2022-02-13T13:45:33.263Z"
   },
   {
    "duration": 58,
    "start_time": "2022-02-13T13:45:33.276Z"
   },
   {
    "duration": 3,
    "start_time": "2022-02-13T13:45:33.336Z"
   },
   {
    "duration": 15,
    "start_time": "2022-02-13T13:45:33.341Z"
   },
   {
    "duration": 23,
    "start_time": "2022-02-13T13:45:33.358Z"
   },
   {
    "duration": 5,
    "start_time": "2022-02-13T13:45:33.383Z"
   },
   {
    "duration": 217,
    "start_time": "2022-02-13T13:45:33.417Z"
   },
   {
    "duration": 3,
    "start_time": "2022-02-13T13:45:33.637Z"
   },
   {
    "duration": 30,
    "start_time": "2022-02-13T13:45:33.642Z"
   },
   {
    "duration": 304,
    "start_time": "2022-02-13T13:45:33.674Z"
   },
   {
    "duration": 274,
    "start_time": "2022-02-13T13:45:33.980Z"
   },
   {
    "duration": 273,
    "start_time": "2022-02-13T13:45:34.256Z"
   },
   {
    "duration": 291,
    "start_time": "2022-02-13T13:45:34.531Z"
   },
   {
    "duration": 332,
    "start_time": "2022-02-13T13:45:34.825Z"
   },
   {
    "duration": 286,
    "start_time": "2022-02-13T13:45:35.159Z"
   },
   {
    "duration": 311,
    "start_time": "2022-02-13T13:45:35.447Z"
   },
   {
    "duration": 231,
    "start_time": "2022-02-13T13:45:35.760Z"
   },
   {
    "duration": 5,
    "start_time": "2022-02-13T13:45:35.992Z"
   },
   {
    "duration": 33,
    "start_time": "2022-02-13T13:45:35.998Z"
   },
   {
    "duration": 10,
    "start_time": "2022-02-13T13:45:36.033Z"
   },
   {
    "duration": 139,
    "start_time": "2022-02-13T14:08:38.575Z"
   },
   {
    "duration": 13,
    "start_time": "2022-02-13T14:09:25.658Z"
   },
   {
    "duration": 5243,
    "start_time": "2022-02-13T14:12:37.113Z"
   },
   {
    "duration": 27,
    "start_time": "2022-02-13T14:13:19.701Z"
   },
   {
    "duration": 88,
    "start_time": "2022-02-13T14:13:40.467Z"
   },
   {
    "duration": 13,
    "start_time": "2022-02-13T14:13:49.885Z"
   },
   {
    "duration": 1196,
    "start_time": "2022-02-13T14:14:17.703Z"
   },
   {
    "duration": 199,
    "start_time": "2022-02-13T14:14:18.901Z"
   },
   {
    "duration": 160,
    "start_time": "2022-02-13T14:14:19.103Z"
   },
   {
    "duration": 110,
    "start_time": "2022-02-13T14:14:19.265Z"
   },
   {
    "duration": 19,
    "start_time": "2022-02-13T14:14:19.377Z"
   },
   {
    "duration": 77,
    "start_time": "2022-02-13T14:14:19.398Z"
   },
   {
    "duration": 228,
    "start_time": "2022-02-13T14:14:19.477Z"
   },
   {
    "duration": 15,
    "start_time": "2022-02-13T14:14:19.708Z"
   },
   {
    "duration": 89,
    "start_time": "2022-02-13T14:14:19.725Z"
   },
   {
    "duration": 36,
    "start_time": "2022-02-13T14:14:19.816Z"
   },
   {
    "duration": 39,
    "start_time": "2022-02-13T14:14:19.853Z"
   },
   {
    "duration": 54,
    "start_time": "2022-02-13T14:14:19.894Z"
   },
   {
    "duration": 11,
    "start_time": "2022-02-13T14:14:19.950Z"
   },
   {
    "duration": 31,
    "start_time": "2022-02-13T14:14:19.962Z"
   },
   {
    "duration": 36,
    "start_time": "2022-02-13T14:14:19.994Z"
   },
   {
    "duration": 12,
    "start_time": "2022-02-13T14:14:20.032Z"
   },
   {
    "duration": 41,
    "start_time": "2022-02-13T14:14:20.047Z"
   },
   {
    "duration": 26,
    "start_time": "2022-02-13T14:14:20.093Z"
   },
   {
    "duration": 11,
    "start_time": "2022-02-13T14:14:20.121Z"
   },
   {
    "duration": 29,
    "start_time": "2022-02-13T14:14:20.134Z"
   },
   {
    "duration": 13,
    "start_time": "2022-02-13T14:14:20.165Z"
   },
   {
    "duration": 231,
    "start_time": "2022-02-13T14:14:20.180Z"
   },
   {
    "duration": 4,
    "start_time": "2022-02-13T14:14:20.415Z"
   },
   {
    "duration": 36,
    "start_time": "2022-02-13T14:14:20.421Z"
   },
   {
    "duration": 313,
    "start_time": "2022-02-13T14:14:20.459Z"
   },
   {
    "duration": 444,
    "start_time": "2022-02-13T14:14:20.774Z"
   },
   {
    "duration": 403,
    "start_time": "2022-02-13T14:14:21.221Z"
   },
   {
    "duration": 445,
    "start_time": "2022-02-13T14:14:21.626Z"
   },
   {
    "duration": 430,
    "start_time": "2022-02-13T14:14:22.073Z"
   },
   {
    "duration": 431,
    "start_time": "2022-02-13T14:14:22.506Z"
   },
   {
    "duration": 245,
    "start_time": "2022-02-13T14:14:22.939Z"
   },
   {
    "duration": 461,
    "start_time": "2022-02-13T14:14:23.186Z"
   },
   {
    "duration": 6,
    "start_time": "2022-02-13T14:14:23.650Z"
   },
   {
    "duration": 16,
    "start_time": "2022-02-13T14:14:23.658Z"
   },
   {
    "duration": 6,
    "start_time": "2022-02-13T14:14:23.677Z"
   }
  ],
  "kernelspec": {
   "display_name": "Python 3 (ipykernel)",
   "language": "python",
   "name": "python3"
  },
  "language_info": {
   "codemirror_mode": {
    "name": "ipython",
    "version": 3
   },
   "file_extension": ".py",
   "mimetype": "text/x-python",
   "name": "python",
   "nbconvert_exporter": "python",
   "pygments_lexer": "ipython3",
   "version": "3.9.12"
  },
  "toc": {
   "base_numbering": 1,
   "nav_menu": {},
   "number_sections": true,
   "sideBar": true,
   "skip_h1_title": true,
   "title_cell": "Table of Contents",
   "title_sidebar": "Contents",
   "toc_cell": false,
   "toc_position": {},
   "toc_section_display": true,
   "toc_window_display": false
  }
 },
 "nbformat": 4,
 "nbformat_minor": 2
}
